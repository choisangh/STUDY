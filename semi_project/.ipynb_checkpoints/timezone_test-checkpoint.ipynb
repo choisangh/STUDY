{
 "cells": [
  {
   "cell_type": "code",
   "execution_count": 102,
   "id": "beccad9a-6836-46e6-80c4-c874bc10a9ff",
   "metadata": {},
   "outputs": [],
   "source": [
    "from datetime import datetime, timedelta\n",
    "from pytz import timezone\n",
    "import yfinance as yf"
   ]
  },
  {
   "cell_type": "raw",
   "id": "2a3987fb-bdc1-4200-abb9-bfb6e963d12b",
   "metadata": {},
   "source": [
    "미국 증시\n",
    "09:30 ~ 16:00\n",
    "한국 증시\n",
    "09:00 ~15:30"
   ]
  },
  {
   "cell_type": "code",
   "execution_count": 79,
   "id": "c2f80da0-fb54-43aa-b1f7-d335bde622de",
   "metadata": {},
   "outputs": [],
   "source": [
    "kst = datetime.now()\n",
    "us = datetime.now(timezone(\"US/Eastern\"))\n",
    "\n",
    "kst_time = datetime.strptime(str(kst.hour) +\":\"+str(kst.minute),\"%H:%M\")\n",
    "us_time = datetime.strptime(str(us.hour) +\":\"+str(us.minute),\"%H:%M\")\n",
    "\n",
    "kst_s_time = datetime.strptime(\"09:30\",'%H:%M')\n",
    "us_s_time = datetime.strptime(\"09:00\",'%H:%M')"
   ]
  },
  {
   "cell_type": "code",
   "execution_count": 94,
   "id": "a81a4b2c-8422-4fc9-9afe-32fe25c933f3",
   "metadata": {},
   "outputs": [
    {
     "name": "stdout",
     "output_type": "stream",
     "text": [
      "4\n"
     ]
    }
   ],
   "source": [
    "print(kst.weekday())"
   ]
  },
  {
   "cell_type": "code",
   "execution_count": 90,
   "id": "723fada4-b791-4d29-ba0e-ccf6bd7d81c9",
   "metadata": {},
   "outputs": [
    {
     "name": "stdout",
     "output_type": "stream",
     "text": [
      "2022-02-17 15:58:27.176889\n"
     ]
    }
   ],
   "source": [
    "print(kst-timedelta(days=1))"
   ]
  },
  {
   "cell_type": "code",
   "execution_count": 64,
   "id": "2fe06dab-62f0-4ad0-94aa-5539dd0cdf71",
   "metadata": {},
   "outputs": [
    {
     "data": {
      "text/plain": [
       "False"
      ]
     },
     "execution_count": 64,
     "metadata": {},
     "output_type": "execute_result"
    }
   ],
   "source": [
    "kst_time > us_s_time"
   ]
  },
  {
   "cell_type": "code",
   "execution_count": null,
   "id": "265e3da1-928c-4ba8-8596-dad11538f2f3",
   "metadata": {},
   "outputs": [],
   "source": [
    "미국/한국  요일 토/일 : 금요일\n",
    "미국/한국  증시시작전 : 전날"
   ]
  },
  {
   "cell_type": "code",
   "execution_count": 98,
   "id": "93fdc621-feb3-48e1-9248-b49657255d85",
   "metadata": {},
   "outputs": [],
   "source": [
    "us_now_date = us\n",
    "us_ev_date = us - timedelta(days=1)\n",
    "kr_now_date = kst\n",
    "kr_ev_date = kst - timedelta(days=1)"
   ]
  },
  {
   "cell_type": "code",
   "execution_count": 24,
   "id": "8d6fd38b-d62f-426c-ac92-ba0fa1ae583b",
   "metadata": {},
   "outputs": [],
   "source": [
    "if (us.weekday() == 5):\n",
    "    us_now_date = us_search_date - timedelta(days=1)\n",
    "    us_ev_date = us_ev_date - timedelta(days=2)\n",
    "elif (us.weekday() == 6):\n",
    "    us_search_date = us_search_date - timedelta(days=2)\n",
    "    us_ev_date = us_ev_date - timedelta(days=2)\n",
    "elif (us.weekday() == 0):\n",
    "    us_ev_date = us_ev_date - timedelta(days=3)"
   ]
  },
  {
   "cell_type": "code",
   "execution_count": null,
   "id": "7d3c59bc-fc8b-4500-a3b4-ed20b1615c3f",
   "metadata": {},
   "outputs": [],
   "source": []
  },
  {
   "cell_type": "code",
   "execution_count": null,
   "id": "4850aa27-03a7-4692-bd4f-6bb7bd64674a",
   "metadata": {},
   "outputs": [],
   "source": []
  },
  {
   "cell_type": "code",
   "execution_count": null,
   "id": "54a9d442-7346-4896-9f1e-cb78dfc41762",
   "metadata": {},
   "outputs": [],
   "source": []
  },
  {
   "cell_type": "code",
   "execution_count": null,
   "id": "a953bea8-3dc1-4022-b5d0-1a68053eb8ce",
   "metadata": {},
   "outputs": [],
   "source": []
  },
  {
   "cell_type": "raw",
   "id": "6539d61a-0641-4631-b646-af65184ed696",
   "metadata": {},
   "source": [
    "코스피 : ^KS11\n",
    "코스닥 : ^KQ11\n",
    "\n",
    "\n",
    "\n",
    "다우 : ^DJI\n",
    "나스닥 :  ^IXIC\n",
    "S&P : ^GSPC"
   ]
  },
  {
   "cell_type": "raw",
   "id": "b091319c-6050-4164-b294-cb34bf7d64c8",
   "metadata": {},
   "source": [
    "----------us-----------------"
   ]
  },
  {
   "cell_type": "code",
   "execution_count": 115,
   "id": "39d4d034-864e-4ddf-9f10-83248fbfa565",
   "metadata": {},
   "outputs": [
    {
     "name": "stdout",
     "output_type": "stream",
     "text": [
      "[*********************100%***********************]  3 of 3 completed\n"
     ]
    }
   ],
   "source": [
    "us_list = ['^IXIC', '^GSPC', '^DJI']\n",
    "kr_list = ['^KS11','^KQ11]\n",
    "us_df = yf.download(us_list, start=\"2022-02-12\", end=\"2022-02-12\")"
   ]
  },
  {
   "cell_type": "code",
   "execution_count": 117,
   "id": "be06b0db-96b6-4884-a680-4db42329f9fa",
   "metadata": {},
   "outputs": [
    {
     "ename": "ValueError",
     "evalue": "The truth value of a DataFrame is ambiguous. Use a.empty, a.bool(), a.item(), a.any() or a.all().",
     "output_type": "error",
     "traceback": [
      "\u001b[1;31m---------------------------------------------------------------------------\u001b[0m",
      "\u001b[1;31mValueError\u001b[0m                                Traceback (most recent call last)",
      "\u001b[1;32m~\\AppData\\Local\\Temp/ipykernel_12740/2317531942.py\u001b[0m in \u001b[0;36m<module>\u001b[1;34m\u001b[0m\n\u001b[1;32m----> 1\u001b[1;33m \u001b[1;32mif\u001b[0m\u001b[1;33m(\u001b[0m\u001b[0mus_df\u001b[0m\u001b[1;33m.\u001b[0m\u001b[0misna\u001b[0m\u001b[1;33m(\u001b[0m\u001b[1;33m)\u001b[0m \u001b[1;33m==\u001b[0m \u001b[1;32mTrue\u001b[0m\u001b[1;33m)\u001b[0m\u001b[1;33m:\u001b[0m\u001b[1;33m\u001b[0m\u001b[1;33m\u001b[0m\u001b[0m\n\u001b[0m\u001b[0;32m      2\u001b[0m     \u001b[0mprint\u001b[0m\u001b[1;33m(\u001b[0m\u001b[1;34m'a'\u001b[0m\u001b[1;33m)\u001b[0m\u001b[1;33m\u001b[0m\u001b[1;33m\u001b[0m\u001b[0m\n",
      "\u001b[1;32mc:\\ai\\pythonproject\\venv\\lib\\site-packages\\pandas\\core\\generic.py\u001b[0m in \u001b[0;36m__nonzero__\u001b[1;34m(self)\u001b[0m\n\u001b[0;32m   1535\u001b[0m     \u001b[1;33m@\u001b[0m\u001b[0mfinal\u001b[0m\u001b[1;33m\u001b[0m\u001b[1;33m\u001b[0m\u001b[0m\n\u001b[0;32m   1536\u001b[0m     \u001b[1;32mdef\u001b[0m \u001b[0m__nonzero__\u001b[0m\u001b[1;33m(\u001b[0m\u001b[0mself\u001b[0m\u001b[1;33m)\u001b[0m\u001b[1;33m:\u001b[0m\u001b[1;33m\u001b[0m\u001b[1;33m\u001b[0m\u001b[0m\n\u001b[1;32m-> 1537\u001b[1;33m         raise ValueError(\n\u001b[0m\u001b[0;32m   1538\u001b[0m             \u001b[1;34mf\"The truth value of a {type(self).__name__} is ambiguous. \"\u001b[0m\u001b[1;33m\u001b[0m\u001b[1;33m\u001b[0m\u001b[0m\n\u001b[0;32m   1539\u001b[0m             \u001b[1;34m\"Use a.empty, a.bool(), a.item(), a.any() or a.all().\"\u001b[0m\u001b[1;33m\u001b[0m\u001b[1;33m\u001b[0m\u001b[0m\n",
      "\u001b[1;31mValueError\u001b[0m: The truth value of a DataFrame is ambiguous. Use a.empty, a.bool(), a.item(), a.any() or a.all()."
     ]
    }
   ],
   "source": []
  }
 ],
 "metadata": {
  "kernelspec": {
   "display_name": "Python 3 (ipykernel)",
   "language": "python",
   "name": "python3"
  },
  "language_info": {
   "codemirror_mode": {
    "name": "ipython",
    "version": 3
   },
   "file_extension": ".py",
   "mimetype": "text/x-python",
   "name": "python",
   "nbconvert_exporter": "python",
   "pygments_lexer": "ipython3",
   "version": "3.8.8"
  },
  "widgets": {
   "application/vnd.jupyter.widget-state+json": {
    "state": {},
    "version_major": 2,
    "version_minor": 0
   }
  }
 },
 "nbformat": 4,
 "nbformat_minor": 5
}
