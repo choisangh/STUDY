{
 "cells": [
  {
   "cell_type": "markdown",
   "id": "2d37d91a",
   "metadata": {},
   "source": [
    "https://www.acmicpc.net/problem/25501"
   ]
  },
  {
   "cell_type": "code",
   "execution_count": 7,
   "id": "8fa1a8d6",
   "metadata": {},
   "outputs": [
    {
     "name": "stdout",
     "output_type": "stream",
     "text": [
      "5\n",
      "aaa\n",
      "abba\n",
      "ababa\n",
      "abca\n",
      "palindrome\n",
      "1 2\n",
      "1 3\n",
      "1 3\n",
      "0 2\n",
      "0 1\n"
     ]
    }
   ],
   "source": [
    "def recursion(s,l,r):\n",
    "    if l>=r:\n",
    "        return 1\n",
    "    elif s[l]!=s[r]:\n",
    "        return 0\n",
    "    else:\n",
    "        global recursion_n\n",
    "        recursion_n+=1\n",
    "        return recursion(s, l+1, r-1)\n",
    "\n",
    "def isPalindrome(s):\n",
    "    global recursion_n\n",
    "    recursion_n+=1\n",
    "    return recursion(s, 0, len(s)-1)\n",
    "\n",
    "\n",
    "T=int(input())\n",
    "str_list=[]\n",
    "ans_list=[]\n",
    "recursion_n=0\n",
    "for i in range(T):\n",
    "    str_list.append(input())\n",
    "for s in str_list:\n",
    "    return_value=isPalindrome(s)\n",
    "    ans_list.append([return_value,recursion_n])\n",
    "    recursion_n=0\n",
    "for l in ans_list:\n",
    "    print(l[0],l[1])"
   ]
  }
 ],
 "metadata": {
  "kernelspec": {
   "display_name": "Python 3 (ipykernel)",
   "language": "python",
   "name": "python3"
  },
  "language_info": {
   "codemirror_mode": {
    "name": "ipython",
    "version": 3
   },
   "file_extension": ".py",
   "mimetype": "text/x-python",
   "name": "python",
   "nbconvert_exporter": "python",
   "pygments_lexer": "ipython3",
   "version": "3.8.5"
  }
 },
 "nbformat": 4,
 "nbformat_minor": 5
}
