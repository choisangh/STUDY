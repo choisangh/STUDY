{
 "cells": [
  {
   "cell_type": "markdown",
   "id": "f0e42ccc",
   "metadata": {},
   "source": [
    "https://www.acmicpc.net/problem/2447"
   ]
  },
  {
   "cell_type": "code",
   "execution_count": 167,
   "id": "bc98ea6c",
   "metadata": {},
   "outputs": [
    {
     "name": "stdout",
     "output_type": "stream",
     "text": [
      "27\n",
      "***************************\n",
      "* ** ** ** ** ** ** ** ** *\n",
      "***************************\n",
      "***   ******   ******   ***\n",
      "* *   * ** *   * ** *   * *\n",
      "***   ******   ******   ***\n",
      "***************************\n",
      "* ** ** ** ** ** ** ** ** *\n",
      "***************************\n",
      "*********         *********\n",
      "* ** ** *         * ** ** *\n",
      "*********         *********\n",
      "***   ***         ***   ***\n",
      "* *   * *         * *   * *\n",
      "***   ***         ***   ***\n",
      "*********         *********\n",
      "* ** ** *         * ** ** *\n",
      "*********         *********\n",
      "***************************\n",
      "* ** ** ** ** ** ** ** ** *\n",
      "***************************\n",
      "***   ******   ******   ***\n",
      "* *   * ** *   * ** *   * *\n",
      "***   ******   ******   ***\n",
      "***************************\n",
      "* ** ** ** ** ** ** ** ** *\n",
      "***************************\n"
     ]
    }
   ],
   "source": [
    "n=int(input())\n",
    "def star(n):\n",
    "    star_map=[['*','*','*'],\n",
    "    ['*',' ','*'],\n",
    "    ['*','*','*']]\n",
    "    if n==3:\n",
    "        return star_map    \n",
    "\n",
    "    else:\n",
    "        map=[[[]]*n][0]\n",
    "        re=star(n//3)\n",
    "        for j,i in enumerate(range(n//3)):\n",
    "            map[i]=map[i]+(re[j]*3)\n",
    "        for j,i in enumerate(range(n//3,n//3*2)):\n",
    "            map[i]=map[i]+re[j]+([\" \"]*(n//3))+re[j]\n",
    "        for j,i in enumerate(range(n//3*2,n//3*3)):\n",
    "            map[i]=map[i]+(re[j]*3)\n",
    "        return map\n",
    "for sen in star(n):\n",
    "    str=\"\"\n",
    "    for i in sen:\n",
    "        str+=i\n",
    "    print(str)"
   ]
  }
 ],
 "metadata": {
  "kernelspec": {
   "display_name": "Python 3 (ipykernel)",
   "language": "python",
   "name": "python3"
  },
  "language_info": {
   "codemirror_mode": {
    "name": "ipython",
    "version": 3
   },
   "file_extension": ".py",
   "mimetype": "text/x-python",
   "name": "python",
   "nbconvert_exporter": "python",
   "pygments_lexer": "ipython3",
   "version": "3.8.5"
  }
 },
 "nbformat": 4,
 "nbformat_minor": 5
}
