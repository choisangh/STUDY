{
 "cells": [
  {
   "cell_type": "markdown",
   "id": "ce80107b",
   "metadata": {},
   "source": [
    "https://www.acmicpc.net/problem/14425"
   ]
  },
  {
   "cell_type": "code",
   "execution_count": 21,
   "id": "5384d0a9",
   "metadata": {},
   "outputs": [
    {
     "name": "stdout",
     "output_type": "stream",
     "text": [
      "3 3\n",
      "ads\n",
      "csc\n",
      "asd\n",
      "asd\n",
      "asd\n",
      "asd\n",
      "['asd', 'asd', 'asd']\n",
      "{'asd'} 와 {'ads', 'csc', 'asd'} 는 겹침\n",
      "{'asd'} 와 {'ads', 'csc', 'asd'} 는 겹침\n",
      "{'asd'} 와 {'ads', 'csc', 'asd'} 는 겹침\n",
      "3\n"
     ]
    }
   ],
   "source": [
    "N,M=map(int,input().split())\n",
    "\n",
    "s=set()\n",
    "for _ in range(N):\n",
    "    s.add(input().strip())\n",
    "m=list()\n",
    "for _ in range(M):\n",
    "    m.append(input().strip())\n",
    "\n",
    "def check(x):\n",
    "    global s\n",
    "    nn=set([x])\n",
    "    if len(s.intersection(nn))==1:\n",
    "        return 1\n",
    "    else:\n",
    "        return 0\n",
    "ans_list=list(map(check,m))    \n",
    "print(sum(ans_list))"
   ]
  }
 ],
 "metadata": {
  "kernelspec": {
   "display_name": "Python 3 (ipykernel)",
   "language": "python",
   "name": "python3"
  },
  "language_info": {
   "codemirror_mode": {
    "name": "ipython",
    "version": 3
   },
   "file_extension": ".py",
   "mimetype": "text/x-python",
   "name": "python",
   "nbconvert_exporter": "python",
   "pygments_lexer": "ipython3",
   "version": "3.8.5"
  }
 },
 "nbformat": 4,
 "nbformat_minor": 5
}
