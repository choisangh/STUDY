{
 "cells": [
  {
   "cell_type": "markdown",
   "id": "a454c1f4",
   "metadata": {},
   "source": [
    "https://www.acmicpc.net/problem/25305"
   ]
  },
  {
   "cell_type": "code",
   "execution_count": 6,
   "id": "75ca019a",
   "metadata": {
    "scrolled": true
   },
   "outputs": [
    {
     "name": "stdout",
     "output_type": "stream",
     "text": [
      "5 2\n",
      "100 76 85 93 98\n"
     ]
    },
    {
     "data": {
      "text/plain": [
       "93"
      ]
     },
     "execution_count": 6,
     "metadata": {},
     "output_type": "execute_result"
    }
   ],
   "source": [
    "N,k = map(int,input().split())\n",
    "score_list=list(map(int,input().split()))\n",
    "score_list.sort(reverse=True)\n",
    "print(score_list[k-1])"
   ]
  }
 ],
 "metadata": {
  "kernelspec": {
   "display_name": "Python 3 (ipykernel)",
   "language": "python",
   "name": "python3"
  },
  "language_info": {
   "codemirror_mode": {
    "name": "ipython",
    "version": 3
   },
   "file_extension": ".py",
   "mimetype": "text/x-python",
   "name": "python",
   "nbconvert_exporter": "python",
   "pygments_lexer": "ipython3",
   "version": "3.8.5"
  }
 },
 "nbformat": 4,
 "nbformat_minor": 5
}
