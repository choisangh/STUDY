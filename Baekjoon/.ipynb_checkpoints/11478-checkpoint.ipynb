{
 "cells": [
  {
   "cell_type": "markdown",
   "id": "ac9d86de",
   "metadata": {},
   "source": [
    "https://www.acmicpc.net/problem/11478"
   ]
  },
  {
   "cell_type": "code",
   "execution_count": 9,
   "id": "7f999b7e",
   "metadata": {},
   "outputs": [
    {
     "name": "stdout",
     "output_type": "stream",
     "text": [
      "ababc\n",
      "{'ababc', 'bc', 'abc', 'c', 'b', 'bab', 'ab', 'ba', 'a', 'aba', 'abab', 'babc'}\n",
      "12\n"
     ]
    }
   ],
   "source": [
    "S=input()\n",
    "def check_str(x,n,len):\n",
    "    global ans_set\n",
    "    for i in range(len):\n",
    "        ans_set.add(x[i:i+n])\n",
    "len_s=len(S)\n",
    "ans_set=set()\n",
    "for i in range(1,len_s+1):\n",
    "    check_n=(len_s+1-i)\n",
    "    check_str(S,i,check_n)\n",
    "\n",
    "print(len(ans_set))"
   ]
  }
 ],
 "metadata": {
  "kernelspec": {
   "display_name": "Python 3 (ipykernel)",
   "language": "python",
   "name": "python3"
  },
  "language_info": {
   "codemirror_mode": {
    "name": "ipython",
    "version": 3
   },
   "file_extension": ".py",
   "mimetype": "text/x-python",
   "name": "python",
   "nbconvert_exporter": "python",
   "pygments_lexer": "ipython3",
   "version": "3.8.5"
  }
 },
 "nbformat": 4,
 "nbformat_minor": 5
}
