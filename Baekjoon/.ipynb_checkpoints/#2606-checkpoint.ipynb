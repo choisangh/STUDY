{
 "cells": [
  {
   "cell_type": "markdown",
   "id": "7e493f0d",
   "metadata": {},
   "source": [
    "https://www.acmicpc.net/problem/2606"
   ]
  },
  {
   "cell_type": "markdown",
   "id": "36e6b4cd",
   "metadata": {},
   "source": [
    "<img src=\"https://www.acmicpc.net/upload/images/zmMEZZ8ioN6rhCdHmcIT4a7.png\">"
   ]
  },
  {
   "cell_type": "code",
   "execution_count": 57,
   "id": "163e1d25",
   "metadata": {},
   "outputs": [
    {
     "name": "stdout",
     "output_type": "stream",
     "text": [
      "7\n",
      "6\n",
      "1 2\n",
      "2 3\n",
      "1 5\n",
      "5 2\n",
      "5 6\n",
      "4 7\n",
      "4\n"
     ]
    }
   ],
   "source": [
    "complete=set()\n",
    "anw_list=[]\n",
    "def search_node(node_n):\n",
    "    global complete\n",
    "    global anw_list\n",
    "    complete.add(node_n)\n",
    "    for n in node[node_n]:\n",
    "        if n in complete:\n",
    "            pass\n",
    "        else:\n",
    "            complete.add(n)\n",
    "            anw_list.append(n)\n",
    "            search_node(n)\n",
    "            \n",
    "            \n",
    "node_count=int(input())\n",
    "route_n=int(input())\n",
    "node={}\n",
    "for i in range(1,node_count+1):\n",
    "    node[i]=[]\n",
    "for r in range(route_n):\n",
    "    l,r = map(int,input().split())\n",
    "    if r in node[l]:\n",
    "        pass\n",
    "    else:\n",
    "        node[l].append(r)\n",
    "    \n",
    "    if l in node[r]:\n",
    "        pass\n",
    "    else:\n",
    "        node[r].append(l)\n",
    "search_node(1)\n",
    "print(len(anw_list))"
   ]
  }
 ],
 "metadata": {
  "kernelspec": {
   "display_name": "Python 3 (ipykernel)",
   "language": "python",
   "name": "python3"
  },
  "language_info": {
   "codemirror_mode": {
    "name": "ipython",
    "version": 3
   },
   "file_extension": ".py",
   "mimetype": "text/x-python",
   "name": "python",
   "nbconvert_exporter": "python",
   "pygments_lexer": "ipython3",
   "version": "3.8.5"
  }
 },
 "nbformat": 4,
 "nbformat_minor": 5
}
