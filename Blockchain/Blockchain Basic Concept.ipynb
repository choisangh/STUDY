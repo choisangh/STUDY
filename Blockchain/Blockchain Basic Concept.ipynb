{
 "cells": [
  {
   "cell_type": "code",
   "execution_count": 7,
   "id": "bdabd83f",
   "metadata": {},
   "outputs": [],
   "source": [
    "import hashlib\n",
    "import json\n",
    "from time import time\n",
    "from urllib import parse \n",
    "import requests"
   ]
  },
  {
   "cell_type": "code",
   "execution_count": 35,
   "id": "370fcbd2",
   "metadata": {},
   "outputs": [],
   "source": [
    "block=Blockchain()"
   ]
  },
  {
   "cell_type": "code",
   "execution_count": 42,
   "id": "9b6ff130",
   "metadata": {},
   "outputs": [
    {
     "data": {
      "text/plain": [
       "2"
      ]
     },
     "execution_count": 42,
     "metadata": {},
     "output_type": "execute_result"
    }
   ],
   "source": [
    "block.new_transaction('보내는이','받는이','양')"
   ]
  },
  {
   "cell_type": "code",
   "execution_count": 44,
   "id": "67634b16",
   "metadata": {},
   "outputs": [
    {
     "data": {
      "text/plain": [
       "[{'sender': '보내는이', 'recipient': '받는이', 'amount': '양'},\n",
       " {'sender': '보내는이', 'recipient': '받는이', 'amount': '양'},\n",
       " {'sender': '보내는이', 'recipient': '받는이', 'amount': '양'}]"
      ]
     },
     "execution_count": 44,
     "metadata": {},
     "output_type": "execute_result"
    }
   ],
   "source": [
    "block.current_transaction"
   ]
  },
  {
   "cell_type": "code",
   "execution_count": 40,
   "id": "45ff8667",
   "metadata": {},
   "outputs": [
    {
     "data": {
      "text/plain": [
       "[{'index': 1,\n",
       "  'timestamp': 1665327878.871901,\n",
       "  'transactions': [],\n",
       "  'proof': 100,\n",
       "  'previous_hash': 1}]"
      ]
     },
     "execution_count": 40,
     "metadata": {},
     "output_type": "execute_result"
    }
   ],
   "source": [
    "block.chain"
   ]
  },
  {
   "cell_type": "code",
   "execution_count": 45,
   "id": "a9351ef9",
   "metadata": {},
   "outputs": [
    {
     "data": {
      "text/plain": [
       "{'index': 1,\n",
       " 'timestamp': 1665327878.871901,\n",
       " 'transactions': [],\n",
       " 'proof': 100,\n",
       " 'previous_hash': 1}"
      ]
     },
     "execution_count": 45,
     "metadata": {},
     "output_type": "execute_result"
    }
   ],
   "source": [
    "block.last_block"
   ]
  },
  {
   "cell_type": "code",
   "execution_count": 47,
   "id": "ad18cc6b",
   "metadata": {},
   "outputs": [
    {
     "data": {
      "text/plain": [
       "{'index': 3,\n",
       " 'timestamp': 1665328071.2102442,\n",
       " 'transactions': [],\n",
       " 'proof': 300,\n",
       " 'previous_hash': 'fda46111171beb5f5f53659cd6a7180422f722ffb4175add1a5ffd9d004cea96'}"
      ]
     },
     "execution_count": 47,
     "metadata": {},
     "output_type": "execute_result"
    }
   ],
   "source": [
    "block.new_block(300)"
   ]
  },
  {
   "cell_type": "code",
   "execution_count": 49,
   "id": "b6a0db62",
   "metadata": {},
   "outputs": [
    {
     "data": {
      "text/plain": [
       "[{'index': 1,\n",
       "  'timestamp': 1665327878.871901,\n",
       "  'transactions': [],\n",
       "  'proof': 100,\n",
       "  'previous_hash': 1},\n",
       " {'index': 2,\n",
       "  'timestamp': 1665328062.64037,\n",
       "  'transactions': [{'sender': '보내는이', 'recipient': '받는이', 'amount': '양'},\n",
       "   {'sender': '보내는이', 'recipient': '받는이', 'amount': '양'},\n",
       "   {'sender': '보내는이', 'recipient': '받는이', 'amount': '양'}],\n",
       "  'proof': 200,\n",
       "  'previous_hash': '378b1b2eaa5625c1063765b1f0abd3dfb7d58bb1386fa36000f21281404bd863'},\n",
       " {'index': 3,\n",
       "  'timestamp': 1665328071.2102442,\n",
       "  'transactions': [],\n",
       "  'proof': 300,\n",
       "  'previous_hash': 'fda46111171beb5f5f53659cd6a7180422f722ffb4175add1a5ffd9d004cea96'}]"
      ]
     },
     "execution_count": 49,
     "metadata": {},
     "output_type": "execute_result"
    }
   ],
   "source": [
    "block.chain"
   ]
  },
  {
   "cell_type": "code",
   "execution_count": 34,
   "id": "403137e1",
   "metadata": {},
   "outputs": [],
   "source": [
    "class Blockchain(object):\n",
    "    # initialize the blockchain info\n",
    "    def __init__(self): #생성자\n",
    "        self.chain = []\n",
    "        self.current_transaction = []\n",
    "        self.nodes = set()\n",
    "        # genesis block\n",
    "        self.new_block(previous_hash=1, proof=100)\n",
    "        \n",
    "    def new_block(self,proof,previous_hash=None):\n",
    "        block = {\n",
    "            'index': len(self.chain)+1,\n",
    "            'timestamp': time(), # timestamp from 1970\n",
    "            'transactions': self.current_transaction,\n",
    "            'proof': proof,\n",
    "            'previous_hash': previous_hash or self.hash(self.chain[-1])\n",
    "        }\n",
    "        self.current_transaction = []\n",
    "        self.chain.append(block)\n",
    "        return block\n",
    "    \n",
    "    def new_transaction(self,sender,recipient,amount):\n",
    "        self.current_transaction.append(\n",
    "            {\n",
    "                'sender' : sender,\n",
    "                'recipient' : recipient,\n",
    "                'amount' : amount\n",
    "                \n",
    "            }\n",
    "        )\n",
    "        return self.last_block['index'] + 1\n",
    "    \n",
    "    def register_node(self, address):\n",
    "        parsed_url = urlparse(address)\n",
    "        self.nodes.add(parsed_url.netloc) # netloc attribute! network lockation\n",
    "\n",
    "    def valid_chain(self,chain):\n",
    "        last_block = chain[0]\n",
    "        current_index = 1\n",
    "        \n",
    "        while current_index < len(chain):\n",
    "            block = chain[current_index]\n",
    "            print('%s' % last_block)\n",
    "            print('%s' % block)\n",
    "            print(\"\\n---------\\n\")\n",
    "            # check that the hash of the block is correct\n",
    "            if block['previous_hash'] != self.hash(last_block):\n",
    "                return False\n",
    "            last_block = block\n",
    "            current_index += 1\n",
    "        return True\n",
    "\n",
    "    def resolve_conflicts(self):\n",
    "        neighbours = self.nodes\n",
    "        new_chain = None\n",
    "\n",
    "        max_length = len(self.chain) # Our chain length\n",
    "        for node in neighbours:\n",
    "            tmp_url = 'http://' + str(node) + '/chain'\n",
    "            response = requests.get(tmp_url)\n",
    "            if response.status_code == 200:\n",
    "                length = response.json()['length']\n",
    "                chain = response.json()['chain']\n",
    "\n",
    "                if length > max_length and self.valid_chain(chain):\n",
    "                    max_length = length\n",
    "\n",
    "            if new_chain:\n",
    "                self.chain = new_chain\n",
    "                return True\n",
    "\n",
    "            return False\n",
    "    \n",
    "    @staticmethod\n",
    "    def hash(block):\n",
    "        block_string = json.dumps(block, sort_keys=True).encode()\n",
    "    \n",
    "        return hashlib.sha256(block_string).hexdigest()\n",
    "    \n",
    "    @property\n",
    "    def last_block(self):\n",
    "        return self.chain[-1]\n",
    "    \n",
    "    \n",
    "    def pow(self, last_proof):\n",
    "        proof = 0\n",
    "        while self.valid_proof(last_proof, proof) is False:\n",
    "            proof += 1\n",
    "\n",
    "        return proof\n",
    "    \n",
    "    @staticmethod\n",
    "    def valid_proof(last_proof, proof):\n",
    "        guess = str(last_proof + proof).encode()\n",
    "        guess_hash = hashlib.sha256(guess).hexdigest()\n",
    "        return guess_hash[:4] == \"0000\" # nonce\n",
    "\n",
    "    "
   ]
  }
 ],
 "metadata": {
  "kernelspec": {
   "display_name": "Python 3 (ipykernel)",
   "language": "python",
   "name": "python3"
  },
  "language_info": {
   "codemirror_mode": {
    "name": "ipython",
    "version": 3
   },
   "file_extension": ".py",
   "mimetype": "text/x-python",
   "name": "python",
   "nbconvert_exporter": "python",
   "pygments_lexer": "ipython3",
   "version": "3.8.5"
  }
 },
 "nbformat": 4,
 "nbformat_minor": 5
}
