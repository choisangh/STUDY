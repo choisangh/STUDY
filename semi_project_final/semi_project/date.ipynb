{
 "cells": [
  {
   "cell_type": "code",
   "execution_count": 1,
   "id": "67c8e406-881c-4522-b616-2737901c8637",
   "metadata": {},
   "outputs": [],
   "source": [
    "import yfinance as yf\n",
    "import numpy as np\n",
    "import pandas as pd\n",
    "from datetime import datetime, timedelta\n",
    "from pytz import timezone\n",
    "\n",
    "import FinanceDataReader as fdr"
   ]
  },
  {
   "cell_type": "raw",
   "id": "eb88c82a-96ff-4acf-a80a-fac3a0c705b8",
   "metadata": {},
   "source": [
    "us_df = yf.download(us, start=us_ev_date, end=us_now_date)"
   ]
  },
  {
   "cell_type": "code",
   "execution_count": 9,
   "id": "c5f56925-4735-4bf7-bb4e-e5bcecfd4ac3",
   "metadata": {},
   "outputs": [],
   "source": [
    "def finance_data():\n",
    "    stock_list = [ '^KS11','^KQ11', '^IXIC', '^GSPC', '^DJI']\n",
    "    res_list = {}\n",
    "    for stock in stock_list:\n",
    "        yf_df = yf.download(stock)\n",
    "        se_list = yf_df.tail(2).reset_index()[['Date','Close']]\n",
    "        print(se_list)\n",
    "        res_list[stock] = se_list\n",
    "    print(res_list['^KS11'])\n",
    "    return res_list"
   ]
  },
  {
   "cell_type": "code",
   "execution_count": 10,
   "id": "2738dacf-2e84-45c4-a922-a5c229c13f9c",
   "metadata": {},
   "outputs": [
    {
     "name": "stdout",
     "output_type": "stream",
     "text": [
      "[*********************100%***********************]  1 of 1 completed\n",
      "        Date        Close\n",
      "0 2022-02-17  2744.090088\n",
      "1 2022-02-18  2744.520020\n",
      "[*********************100%***********************]  1 of 1 completed\n",
      "        Date       Close\n",
      "0 2022-02-17  874.219971\n",
      "1 2022-02-18  881.710022\n",
      "[*********************100%***********************]  1 of 1 completed\n",
      "        Date         Close\n",
      "0 2022-02-17  13716.719727\n",
      "1 2022-02-18  13548.070312\n",
      "[*********************100%***********************]  1 of 1 completed\n",
      "        Date        Close\n",
      "0 2022-02-17  4380.259766\n",
      "1 2022-02-18  4348.870117\n",
      "[*********************100%***********************]  1 of 1 completed\n",
      "        Date         Close\n",
      "0 2022-02-17  34312.031250\n",
      "1 2022-02-18  34079.179688\n",
      "        Date        Close\n",
      "0 2022-02-17  2744.090088\n",
      "1 2022-02-18  2744.520020\n"
     ]
    },
    {
     "data": {
      "text/plain": [
       "{'^KS11':         Date        Close\n",
       " 0 2022-02-17  2744.090088\n",
       " 1 2022-02-18  2744.520020,\n",
       " '^KQ11':         Date       Close\n",
       " 0 2022-02-17  874.219971\n",
       " 1 2022-02-18  881.710022,\n",
       " '^IXIC':         Date         Close\n",
       " 0 2022-02-17  13716.719727\n",
       " 1 2022-02-18  13548.070312,\n",
       " '^GSPC':         Date        Close\n",
       " 0 2022-02-17  4380.259766\n",
       " 1 2022-02-18  4348.870117,\n",
       " '^DJI':         Date         Close\n",
       " 0 2022-02-17  34312.031250\n",
       " 1 2022-02-18  34079.179688}"
      ]
     },
     "execution_count": 10,
     "metadata": {},
     "output_type": "execute_result"
    }
   ],
   "source": [
    "finance_data()\n"
   ]
  },
  {
   "cell_type": "code",
   "execution_count": null,
   "id": "2217d711-b84a-415b-814d-3550c038d6c9",
   "metadata": {},
   "outputs": [],
   "source": [
    "def date_check(my_date):\n",
    "    res_date = str(my_date)[0:10]\n",
    "    while(True):\n",
    "        print(res_date)\n",
    "        yf_df = yf.download('^KS11', start=res_date, end=res_date)\n",
    "        \n",
    "        if(yf_df.empty== True):\n",
    "            res_date = str(datetime.strptime(my_date,'%Y-%m-%d')- timedelta(days=1))[0:10]\n",
    "            continue\n",
    "        else:\n",
    "            yf_df = yf_df.reset_index()\n",
    "            return res_date"
   ]
  }
 ],
 "metadata": {
  "kernelspec": {
   "display_name": "Python 3 (ipykernel)",
   "language": "python",
   "name": "python3"
  },
  "language_info": {
   "codemirror_mode": {
    "name": "ipython",
    "version": 3
   },
   "file_extension": ".py",
   "mimetype": "text/x-python",
   "name": "python",
   "nbconvert_exporter": "python",
   "pygments_lexer": "ipython3",
   "version": "3.8.8"
  }
 },
 "nbformat": 4,
 "nbformat_minor": 5
}
