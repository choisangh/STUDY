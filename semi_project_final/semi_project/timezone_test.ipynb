{
 "cells": [
  {
   "cell_type": "code",
   "execution_count": 102,
   "id": "beccad9a-6836-46e6-80c4-c874bc10a9ff",
   "metadata": {},
   "outputs": [],
   "source": [
    "from datetime import datetime, timedelta\n",
    "from pytz import timezone\n",
    "import yfinance as yf"
   ]
  },
  {
   "cell_type": "raw",
   "id": "2a3987fb-bdc1-4200-abb9-bfb6e963d12b",
   "metadata": {},
   "source": [
    "미국 증시\n",
    "09:30 ~ 16:00\n",
    "한국 증시\n",
    "09:00 ~15:30"
   ]
  },
  {
   "cell_type": "code",
   "execution_count": 79,
   "id": "c2f80da0-fb54-43aa-b1f7-d335bde622de",
   "metadata": {},
   "outputs": [],
   "source": [
    "kst = datetime.now()\n",
    "us = datetime.now(timezone(\"US/Eastern\"))\n",
    "\n",
    "kst_time = datetime.strptime(str(kst.hour) +\":\"+str(kst.minute),\"%H:%M\")\n",
    "us_time = datetime.strptime(str(us.hour) +\":\"+str(us.minute),\"%H:%M\")\n",
    "\n",
    "kst_s_time = datetime.strptime(\"09:30\",'%H:%M')\n",
    "us_s_time = datetime.strptime(\"09:00\",'%H:%M')"
   ]
  },
  {
   "cell_type": "code",
   "execution_count": 94,
   "id": "a81a4b2c-8422-4fc9-9afe-32fe25c933f3",
   "metadata": {},
   "outputs": [
    {
     "name": "stdout",
     "output_type": "stream",
     "text": [
      "4\n"
     ]
    }
   ],
   "source": [
    "print(kst.weekday())"
   ]
  },
  {
   "cell_type": "code",
   "execution_count": 90,
   "id": "723fada4-b791-4d29-ba0e-ccf6bd7d81c9",
   "metadata": {},
   "outputs": [
    {
     "name": "stdout",
     "output_type": "stream",
     "text": [
      "2022-02-17 15:58:27.176889\n"
     ]
    }
   ],
   "source": [
    "print(kst-timedelta(days=1))"
   ]
  },
  {
   "cell_type": "code",
   "execution_count": 64,
   "id": "2fe06dab-62f0-4ad0-94aa-5539dd0cdf71",
   "metadata": {},
   "outputs": [
    {
     "data": {
      "text/plain": [
       "False"
      ]
     },
     "execution_count": 64,
     "metadata": {},
     "output_type": "execute_result"
    }
   ],
   "source": [
    "kst_time > us_s_time"
   ]
  },
  {
   "cell_type": "code",
   "execution_count": null,
   "id": "265e3da1-928c-4ba8-8596-dad11538f2f3",
   "metadata": {},
   "outputs": [],
   "source": [
    "미국/한국  요일 토/일 : 금요일\n",
    "미국/한국  증시시작전 : 전날"
   ]
  },
  {
   "cell_type": "code",
   "execution_count": 98,
   "id": "93fdc621-feb3-48e1-9248-b49657255d85",
   "metadata": {},
   "outputs": [],
   "source": [
    "us_now_date = us\n",
    "us_ev_date = us - timedelta(days=1)\n",
    "kr_now_date = kst\n",
    "kr_ev_date = kst - timedelta(days=1)"
   ]
  },
  {
   "cell_type": "code",
   "execution_count": 24,
   "id": "8d6fd38b-d62f-426c-ac92-ba0fa1ae583b",
   "metadata": {},
   "outputs": [],
   "source": [
    "if (us.weekday() == 5):\n",
    "    us_now_date = us_search_date - timedelta(days=1)\n",
    "    us_ev_date = us_ev_date - timedelta(days=2)\n",
    "elif (us.weekday() == 6):\n",
    "    us_search_date = us_search_date - timedelta(days=2)\n",
    "    us_ev_date = us_ev_date - timedelta(days=2)\n",
    "elif (us.weekday() == 0):\n",
    "    us_ev_date = us_ev_date - timedelta(days=3)"
   ]
  },
  {
   "cell_type": "code",
   "execution_count": null,
   "id": "7d3c59bc-fc8b-4500-a3b4-ed20b1615c3f",
   "metadata": {},
   "outputs": [],
   "source": []
  },
  {
   "cell_type": "code",
   "execution_count": null,
   "id": "4850aa27-03a7-4692-bd4f-6bb7bd64674a",
   "metadata": {},
   "outputs": [],
   "source": []
  },
  {
   "cell_type": "code",
   "execution_count": null,
   "id": "54a9d442-7346-4896-9f1e-cb78dfc41762",
   "metadata": {},
   "outputs": [],
   "source": []
  },
  {
   "cell_type": "code",
   "execution_count": null,
   "id": "a953bea8-3dc1-4022-b5d0-1a68053eb8ce",
   "metadata": {},
   "outputs": [],
   "source": []
  },
  {
   "cell_type": "raw",
   "id": "6539d61a-0641-4631-b646-af65184ed696",
   "metadata": {},
   "source": [
    "코스피 : ^KS11\n",
    "코스닥 : ^KQ11\n",
    "\n",
    "\n",
    "\n",
    "다우 : ^DJI\n",
    "나스닥 :  ^IXIC\n",
    "S&P : ^GSPC"
   ]
  },
  {
   "cell_type": "raw",
   "id": "b091319c-6050-4164-b294-cb34bf7d64c8",
   "metadata": {},
   "source": [
    "----------us-----------------"
   ]
  },
  {
   "cell_type": "code",
   "execution_count": 124,
   "id": "39d4d034-864e-4ddf-9f10-83248fbfa565",
   "metadata": {},
   "outputs": [
    {
     "name": "stdout",
     "output_type": "stream",
     "text": [
      "[*********************100%***********************]  3 of 3 completed\n"
     ]
    }
   ],
   "source": [
    "us_list = ['^IXIC', '^GSPC', '^DJI']\n",
    "kr_list = ['^KS11','^KQ11']\n",
    "# us_df = yf.download(us_list, start=us_ev_date, end=us_now_date)"
   ]
  },
  {
   "cell_type": "code",
   "execution_count": 132,
   "id": "be06b0db-96b6-4884-a680-4db42329f9fa",
   "metadata": {},
   "outputs": [
    {
     "name": "stdout",
     "output_type": "stream",
     "text": [
      "[*********************100%***********************]  1 of 1 completed\n",
      "                    Open          High           Low         Close  \\\n",
      "Date                                                                 \n",
      "2022-02-16  14038.919922  14163.730469  13931.990234  14124.089844   \n",
      "2022-02-17  14004.190430  14020.820312  13704.700195  13716.719727   \n",
      "\n",
      "               Adj Close      Volume  \n",
      "Date                                  \n",
      "2022-02-16  14124.089844  4224060000  \n",
      "2022-02-17  13716.719727  4259890000  \n",
      "[*********************100%***********************]  1 of 1 completed\n",
      "                   Open         High          Low        Close    Adj Close  \\\n",
      "Date                                                                          \n",
      "2022-02-16  4455.750000  4489.549805  4429.680176  4475.009766  4475.009766   \n",
      "2022-02-17  4456.060059  4456.060059  4373.810059  4380.259766  4380.259766   \n",
      "\n",
      "                Volume  \n",
      "Date                    \n",
      "2022-02-16  3478750000  \n",
      "2022-02-17  3596510000  \n",
      "[*********************100%***********************]  1 of 1 completed\n",
      "                    Open          High           Low         Close  \\\n",
      "Date                                                                 \n",
      "2022-02-16  34951.828125  35042.089844  34642.640625  34934.269531   \n",
      "2022-02-17  34858.468750  34858.468750  34246.230469  34312.031250   \n",
      "\n",
      "               Adj Close     Volume  \n",
      "Date                                 \n",
      "2022-02-16  34934.269531  294410000  \n",
      "2022-02-17  34312.031250  348720000  \n"
     ]
    }
   ],
   "source": [
    "for us in us_list:\n",
    "    us_df = yf.download(us, start=us_ev_date, end=us_now_date)\n",
    "    print(us_df.head())"
   ]
  },
  {
   "cell_type": "code",
   "execution_count": 144,
   "id": "14cb435c-ad91-43b2-8030-8f024cf62de2",
   "metadata": {},
   "outputs": [
    {
     "name": "stdout",
     "output_type": "stream",
     "text": [
      "[*********************100%***********************]  2 of 2 completed\n"
     ]
    }
   ],
   "source": [
    "us_df = yf.download(kr_list, start=\"2022-02-10\", end=\"2022-02-11\")"
   ]
  },
  {
   "cell_type": "code",
   "execution_count": 145,
   "id": "4613fc69-eb85-451c-b6c9-d0141851b276",
   "metadata": {},
   "outputs": [
    {
     "data": {
      "text/html": [
       "<div>\n",
       "<style scoped>\n",
       "    .dataframe tbody tr th:only-of-type {\n",
       "        vertical-align: middle;\n",
       "    }\n",
       "\n",
       "    .dataframe tbody tr th {\n",
       "        vertical-align: top;\n",
       "    }\n",
       "\n",
       "    .dataframe thead tr th {\n",
       "        text-align: left;\n",
       "    }\n",
       "\n",
       "    .dataframe thead tr:last-of-type th {\n",
       "        text-align: right;\n",
       "    }\n",
       "</style>\n",
       "<table border=\"1\" class=\"dataframe\">\n",
       "  <thead>\n",
       "    <tr>\n",
       "      <th></th>\n",
       "      <th colspan=\"2\" halign=\"left\">Adj Close</th>\n",
       "      <th colspan=\"2\" halign=\"left\">Close</th>\n",
       "      <th colspan=\"2\" halign=\"left\">High</th>\n",
       "      <th colspan=\"2\" halign=\"left\">Low</th>\n",
       "      <th colspan=\"2\" halign=\"left\">Open</th>\n",
       "      <th colspan=\"2\" halign=\"left\">Volume</th>\n",
       "    </tr>\n",
       "    <tr>\n",
       "      <th></th>\n",
       "      <th>^KQ11</th>\n",
       "      <th>^KS11</th>\n",
       "      <th>^KQ11</th>\n",
       "      <th>^KS11</th>\n",
       "      <th>^KQ11</th>\n",
       "      <th>^KS11</th>\n",
       "      <th>^KQ11</th>\n",
       "      <th>^KS11</th>\n",
       "      <th>^KQ11</th>\n",
       "      <th>^KS11</th>\n",
       "      <th>^KQ11</th>\n",
       "      <th>^KS11</th>\n",
       "    </tr>\n",
       "    <tr>\n",
       "      <th>Date</th>\n",
       "      <th></th>\n",
       "      <th></th>\n",
       "      <th></th>\n",
       "      <th></th>\n",
       "      <th></th>\n",
       "      <th></th>\n",
       "      <th></th>\n",
       "      <th></th>\n",
       "      <th></th>\n",
       "      <th></th>\n",
       "      <th></th>\n",
       "      <th></th>\n",
       "    </tr>\n",
       "  </thead>\n",
       "  <tbody>\n",
       "    <tr>\n",
       "      <th>2022-02-10</th>\n",
       "      <td>895.679993</td>\n",
       "      <td>2771.929932</td>\n",
       "      <td>895.679993</td>\n",
       "      <td>2771.929932</td>\n",
       "      <td>914.919983</td>\n",
       "      <td>2788.27002</td>\n",
       "      <td>893.210022</td>\n",
       "      <td>2761.76001</td>\n",
       "      <td>914.650024</td>\n",
       "      <td>2787.439941</td>\n",
       "      <td>900</td>\n",
       "      <td>509300</td>\n",
       "    </tr>\n",
       "  </tbody>\n",
       "</table>\n",
       "</div>"
      ],
      "text/plain": [
       "             Adj Close                    Close                     High  \\\n",
       "                 ^KQ11        ^KS11       ^KQ11        ^KS11       ^KQ11   \n",
       "Date                                                                       \n",
       "2022-02-10  895.679993  2771.929932  895.679993  2771.929932  914.919983   \n",
       "\n",
       "                               Low                    Open               \\\n",
       "                 ^KS11       ^KQ11       ^KS11       ^KQ11        ^KS11   \n",
       "Date                                                                      \n",
       "2022-02-10  2788.27002  893.210022  2761.76001  914.650024  2787.439941   \n",
       "\n",
       "           Volume          \n",
       "            ^KQ11   ^KS11  \n",
       "Date                       \n",
       "2022-02-10    900  509300  "
      ]
     },
     "execution_count": 145,
     "metadata": {},
     "output_type": "execute_result"
    }
   ],
   "source": [
    "us_df"
   ]
  }
 ],
 "metadata": {
  "kernelspec": {
   "display_name": "Python 3 (ipykernel)",
   "language": "python",
   "name": "python3"
  },
  "language_info": {
   "codemirror_mode": {
    "name": "ipython",
    "version": 3
   },
   "file_extension": ".py",
   "mimetype": "text/x-python",
   "name": "python",
   "nbconvert_exporter": "python",
   "pygments_lexer": "ipython3",
   "version": "3.8.8"
  },
  "widgets": {
   "application/vnd.jupyter.widget-state+json": {
    "state": {},
    "version_major": 2,
    "version_minor": 0
   }
  }
 },
 "nbformat": 4,
 "nbformat_minor": 5
}
