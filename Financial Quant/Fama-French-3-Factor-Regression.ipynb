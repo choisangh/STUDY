{
 "cells": [
  {
   "cell_type": "code",
   "execution_count": 2,
   "id": "bbc33dbf",
   "metadata": {},
   "outputs": [
    {
     "name": "stdout",
     "output_type": "stream",
     "text": [
      "Note: you may need to restart the kernel to use updated packages.\n"
     ]
    }
   ],
   "source": [
    "pip install getFamaFrenchFactors --quiet"
   ]
  },
  {
   "cell_type": "code",
   "execution_count": 4,
   "id": "0c325cba",
   "metadata": {},
   "outputs": [],
   "source": [
    "import pandas as pd\n",
    "import yfinance as yf\n",
    "import statsmodels.api as sm\n",
    "import getFamaFrenchFactors as gff"
   ]
  },
  {
   "cell_type": "markdown",
   "id": "1e4e15ff",
   "metadata": {},
   "source": [
    "# 애플 과거 주가 데이터 다운로드"
   ]
  },
  {
   "cell_type": "code",
   "execution_count": 7,
   "id": "05009c37",
   "metadata": {},
   "outputs": [
    {
     "name": "stdout",
     "output_type": "stream",
     "text": [
      "[*********************100%***********************]  1 of 1 completed\n"
     ]
    }
   ],
   "source": [
    "ticker = 'AAPL'\n",
    "\n",
    "start = '2000-01-01'\n",
    "end = '2022-12-28'\n",
    "\n",
    "stock_data = yf.download(ticker, start, end)\n",
    "\n",
    "#주가 수익률\n",
    "stock_returns = stock_data['Adj Close'].resample('M').last().pct_change().dropna()\n",
    "stock_returns.name = 'Month_Rtn'\n",
    "stock_returns.index = pd.to_datetime(stock_returns.index).date"
   ]
  },
  {
   "cell_type": "code",
   "execution_count": 8,
   "id": "1ea9cd00",
   "metadata": {},
   "outputs": [
    {
     "data": {
      "text/plain": [
       "2000-02-29    0.104820\n",
       "2000-03-31    0.184842\n",
       "2000-04-30   -0.086517\n",
       "2000-05-31   -0.322922\n",
       "2000-06-30    0.247024\n",
       "                ...   \n",
       "2022-08-31   -0.031208\n",
       "2022-09-30   -0.120977\n",
       "2022-10-31    0.109551\n",
       "2022-11-30   -0.033027\n",
       "2022-12-31   -0.121597\n",
       "Name: Month_Rtn, Length: 275, dtype: float64"
      ]
     },
     "execution_count": 8,
     "metadata": {},
     "output_type": "execute_result"
    }
   ],
   "source": [
    "stock_returns"
   ]
  },
  {
   "cell_type": "markdown",
   "id": "e25e35e5",
   "metadata": {},
   "source": [
    "# 파마-프렌치 3 팩터 데이터 다운로드"
   ]
  },
  {
   "cell_type": "code",
   "execution_count": 12,
   "id": "f7d1d1a5",
   "metadata": {},
   "outputs": [],
   "source": [
    "# 파마-프렌치 3 팩터 데이터 다운로드\n",
    "ff3_monthly = gff.famaFrench3Factor(frequency='m')\n",
    "ff3_monthly = ff3_monthly.rename(columns={'date_ff_factors':'Date'})\n",
    "ff3_monthly = ff3_monthly.set_index('Date')\n",
    "ff3_monthly.index = pd.to_datetime(ff3_monthly.index).date"
   ]
  },
  {
   "cell_type": "code",
   "execution_count": 13,
   "id": "6b77f9ec",
   "metadata": {},
   "outputs": [
    {
     "data": {
      "text/html": [
       "<div>\n",
       "<style scoped>\n",
       "    .dataframe tbody tr th:only-of-type {\n",
       "        vertical-align: middle;\n",
       "    }\n",
       "\n",
       "    .dataframe tbody tr th {\n",
       "        vertical-align: top;\n",
       "    }\n",
       "\n",
       "    .dataframe thead th {\n",
       "        text-align: right;\n",
       "    }\n",
       "</style>\n",
       "<table border=\"1\" class=\"dataframe\">\n",
       "  <thead>\n",
       "    <tr style=\"text-align: right;\">\n",
       "      <th></th>\n",
       "      <th>Mkt-RF</th>\n",
       "      <th>SMB</th>\n",
       "      <th>HML</th>\n",
       "      <th>RF</th>\n",
       "    </tr>\n",
       "  </thead>\n",
       "  <tbody>\n",
       "    <tr>\n",
       "      <th>1926-07-31</th>\n",
       "      <td>0.0296</td>\n",
       "      <td>-0.0256</td>\n",
       "      <td>-0.0243</td>\n",
       "      <td>0.0022</td>\n",
       "    </tr>\n",
       "    <tr>\n",
       "      <th>1926-08-31</th>\n",
       "      <td>0.0264</td>\n",
       "      <td>-0.0117</td>\n",
       "      <td>0.0382</td>\n",
       "      <td>0.0025</td>\n",
       "    </tr>\n",
       "    <tr>\n",
       "      <th>1926-09-30</th>\n",
       "      <td>0.0036</td>\n",
       "      <td>-0.0140</td>\n",
       "      <td>0.0013</td>\n",
       "      <td>0.0023</td>\n",
       "    </tr>\n",
       "    <tr>\n",
       "      <th>1926-10-31</th>\n",
       "      <td>-0.0324</td>\n",
       "      <td>-0.0009</td>\n",
       "      <td>0.0070</td>\n",
       "      <td>0.0032</td>\n",
       "    </tr>\n",
       "    <tr>\n",
       "      <th>1926-11-30</th>\n",
       "      <td>0.0253</td>\n",
       "      <td>-0.0010</td>\n",
       "      <td>-0.0051</td>\n",
       "      <td>0.0031</td>\n",
       "    </tr>\n",
       "    <tr>\n",
       "      <th>...</th>\n",
       "      <td>...</td>\n",
       "      <td>...</td>\n",
       "      <td>...</td>\n",
       "      <td>...</td>\n",
       "    </tr>\n",
       "    <tr>\n",
       "      <th>2022-06-30</th>\n",
       "      <td>-0.0843</td>\n",
       "      <td>0.0209</td>\n",
       "      <td>-0.0597</td>\n",
       "      <td>0.0006</td>\n",
       "    </tr>\n",
       "    <tr>\n",
       "      <th>2022-07-31</th>\n",
       "      <td>0.0957</td>\n",
       "      <td>0.0281</td>\n",
       "      <td>-0.0410</td>\n",
       "      <td>0.0008</td>\n",
       "    </tr>\n",
       "    <tr>\n",
       "      <th>2022-08-31</th>\n",
       "      <td>-0.0377</td>\n",
       "      <td>0.0139</td>\n",
       "      <td>0.0031</td>\n",
       "      <td>0.0019</td>\n",
       "    </tr>\n",
       "    <tr>\n",
       "      <th>2022-09-30</th>\n",
       "      <td>-0.0935</td>\n",
       "      <td>-0.0082</td>\n",
       "      <td>0.0003</td>\n",
       "      <td>0.0019</td>\n",
       "    </tr>\n",
       "    <tr>\n",
       "      <th>2022-10-31</th>\n",
       "      <td>0.0783</td>\n",
       "      <td>0.0010</td>\n",
       "      <td>0.0806</td>\n",
       "      <td>0.0023</td>\n",
       "    </tr>\n",
       "  </tbody>\n",
       "</table>\n",
       "<p>1156 rows × 4 columns</p>\n",
       "</div>"
      ],
      "text/plain": [
       "            Mkt-RF     SMB     HML      RF\n",
       "1926-07-31  0.0296 -0.0256 -0.0243  0.0022\n",
       "1926-08-31  0.0264 -0.0117  0.0382  0.0025\n",
       "1926-09-30  0.0036 -0.0140  0.0013  0.0023\n",
       "1926-10-31 -0.0324 -0.0009  0.0070  0.0032\n",
       "1926-11-30  0.0253 -0.0010 -0.0051  0.0031\n",
       "...            ...     ...     ...     ...\n",
       "2022-06-30 -0.0843  0.0209 -0.0597  0.0006\n",
       "2022-07-31  0.0957  0.0281 -0.0410  0.0008\n",
       "2022-08-31 -0.0377  0.0139  0.0031  0.0019\n",
       "2022-09-30 -0.0935 -0.0082  0.0003  0.0019\n",
       "2022-10-31  0.0783  0.0010  0.0806  0.0023\n",
       "\n",
       "[1156 rows x 4 columns]"
      ]
     },
     "execution_count": 13,
     "metadata": {},
     "output_type": "execute_result"
    }
   ],
   "source": [
    "ff3_monthly"
   ]
  },
  {
   "cell_type": "code",
   "execution_count": 14,
   "id": "c6d155dd",
   "metadata": {},
   "outputs": [],
   "source": [
    "# 팩터 데이터와 주가 데이터 병합\n",
    "ff_data = pd.concat([ff3_monthly,stock_returns],axis=1,join='inner')"
   ]
  },
  {
   "cell_type": "code",
   "execution_count": 15,
   "id": "e71cc54a",
   "metadata": {},
   "outputs": [
    {
     "data": {
      "text/html": [
       "<div>\n",
       "<style scoped>\n",
       "    .dataframe tbody tr th:only-of-type {\n",
       "        vertical-align: middle;\n",
       "    }\n",
       "\n",
       "    .dataframe tbody tr th {\n",
       "        vertical-align: top;\n",
       "    }\n",
       "\n",
       "    .dataframe thead th {\n",
       "        text-align: right;\n",
       "    }\n",
       "</style>\n",
       "<table border=\"1\" class=\"dataframe\">\n",
       "  <thead>\n",
       "    <tr style=\"text-align: right;\">\n",
       "      <th></th>\n",
       "      <th>Mkt-RF</th>\n",
       "      <th>SMB</th>\n",
       "      <th>HML</th>\n",
       "      <th>RF</th>\n",
       "      <th>Month_Rtn</th>\n",
       "    </tr>\n",
       "  </thead>\n",
       "  <tbody>\n",
       "    <tr>\n",
       "      <th>2000-02-29</th>\n",
       "      <td>0.0245</td>\n",
       "      <td>0.2142</td>\n",
       "      <td>-0.0970</td>\n",
       "      <td>0.0043</td>\n",
       "      <td>0.104820</td>\n",
       "    </tr>\n",
       "    <tr>\n",
       "      <th>2000-03-31</th>\n",
       "      <td>0.0520</td>\n",
       "      <td>-0.1723</td>\n",
       "      <td>0.0817</td>\n",
       "      <td>0.0047</td>\n",
       "      <td>0.184842</td>\n",
       "    </tr>\n",
       "    <tr>\n",
       "      <th>2000-04-30</th>\n",
       "      <td>-0.0640</td>\n",
       "      <td>-0.0668</td>\n",
       "      <td>0.0726</td>\n",
       "      <td>0.0046</td>\n",
       "      <td>-0.086517</td>\n",
       "    </tr>\n",
       "    <tr>\n",
       "      <th>2000-05-31</th>\n",
       "      <td>-0.0442</td>\n",
       "      <td>-0.0609</td>\n",
       "      <td>0.0481</td>\n",
       "      <td>0.0050</td>\n",
       "      <td>-0.322922</td>\n",
       "    </tr>\n",
       "    <tr>\n",
       "      <th>2000-06-30</th>\n",
       "      <td>0.0464</td>\n",
       "      <td>0.1285</td>\n",
       "      <td>-0.0843</td>\n",
       "      <td>0.0040</td>\n",
       "      <td>0.247024</td>\n",
       "    </tr>\n",
       "    <tr>\n",
       "      <th>...</th>\n",
       "      <td>...</td>\n",
       "      <td>...</td>\n",
       "      <td>...</td>\n",
       "      <td>...</td>\n",
       "      <td>...</td>\n",
       "    </tr>\n",
       "    <tr>\n",
       "      <th>2022-06-30</th>\n",
       "      <td>-0.0843</td>\n",
       "      <td>0.0209</td>\n",
       "      <td>-0.0597</td>\n",
       "      <td>0.0006</td>\n",
       "      <td>-0.081430</td>\n",
       "    </tr>\n",
       "    <tr>\n",
       "      <th>2022-07-31</th>\n",
       "      <td>0.0957</td>\n",
       "      <td>0.0281</td>\n",
       "      <td>-0.0410</td>\n",
       "      <td>0.0008</td>\n",
       "      <td>0.188634</td>\n",
       "    </tr>\n",
       "    <tr>\n",
       "      <th>2022-08-31</th>\n",
       "      <td>-0.0377</td>\n",
       "      <td>0.0139</td>\n",
       "      <td>0.0031</td>\n",
       "      <td>0.0019</td>\n",
       "      <td>-0.031208</td>\n",
       "    </tr>\n",
       "    <tr>\n",
       "      <th>2022-09-30</th>\n",
       "      <td>-0.0935</td>\n",
       "      <td>-0.0082</td>\n",
       "      <td>0.0003</td>\n",
       "      <td>0.0019</td>\n",
       "      <td>-0.120977</td>\n",
       "    </tr>\n",
       "    <tr>\n",
       "      <th>2022-10-31</th>\n",
       "      <td>0.0783</td>\n",
       "      <td>0.0010</td>\n",
       "      <td>0.0806</td>\n",
       "      <td>0.0023</td>\n",
       "      <td>0.109551</td>\n",
       "    </tr>\n",
       "  </tbody>\n",
       "</table>\n",
       "<p>273 rows × 5 columns</p>\n",
       "</div>"
      ],
      "text/plain": [
       "            Mkt-RF     SMB     HML      RF  Month_Rtn\n",
       "2000-02-29  0.0245  0.2142 -0.0970  0.0043   0.104820\n",
       "2000-03-31  0.0520 -0.1723  0.0817  0.0047   0.184842\n",
       "2000-04-30 -0.0640 -0.0668  0.0726  0.0046  -0.086517\n",
       "2000-05-31 -0.0442 -0.0609  0.0481  0.0050  -0.322922\n",
       "2000-06-30  0.0464  0.1285 -0.0843  0.0040   0.247024\n",
       "...            ...     ...     ...     ...        ...\n",
       "2022-06-30 -0.0843  0.0209 -0.0597  0.0006  -0.081430\n",
       "2022-07-31  0.0957  0.0281 -0.0410  0.0008   0.188634\n",
       "2022-08-31 -0.0377  0.0139  0.0031  0.0019  -0.031208\n",
       "2022-09-30 -0.0935 -0.0082  0.0003  0.0019  -0.120977\n",
       "2022-10-31  0.0783  0.0010  0.0806  0.0023   0.109551\n",
       "\n",
       "[273 rows x 5 columns]"
      ]
     },
     "execution_count": 15,
     "metadata": {},
     "output_type": "execute_result"
    }
   ],
   "source": [
    "ff_data"
   ]
  },
  {
   "cell_type": "code",
   "execution_count": 16,
   "id": "36724d88",
   "metadata": {},
   "outputs": [
    {
     "data": {
      "text/html": [
       "<div>\n",
       "<style scoped>\n",
       "    .dataframe tbody tr th:only-of-type {\n",
       "        vertical-align: middle;\n",
       "    }\n",
       "\n",
       "    .dataframe tbody tr th {\n",
       "        vertical-align: top;\n",
       "    }\n",
       "\n",
       "    .dataframe thead th {\n",
       "        text-align: right;\n",
       "    }\n",
       "</style>\n",
       "<table border=\"1\" class=\"dataframe\">\n",
       "  <thead>\n",
       "    <tr style=\"text-align: right;\">\n",
       "      <th></th>\n",
       "      <th>beta</th>\n",
       "      <th>size</th>\n",
       "      <th>value</th>\n",
       "      <th>rf</th>\n",
       "      <th>ret</th>\n",
       "    </tr>\n",
       "  </thead>\n",
       "  <tbody>\n",
       "    <tr>\n",
       "      <th>2000-02-29</th>\n",
       "      <td>0.0245</td>\n",
       "      <td>0.2142</td>\n",
       "      <td>-0.0970</td>\n",
       "      <td>0.0043</td>\n",
       "      <td>0.104820</td>\n",
       "    </tr>\n",
       "    <tr>\n",
       "      <th>2000-03-31</th>\n",
       "      <td>0.0520</td>\n",
       "      <td>-0.1723</td>\n",
       "      <td>0.0817</td>\n",
       "      <td>0.0047</td>\n",
       "      <td>0.184842</td>\n",
       "    </tr>\n",
       "    <tr>\n",
       "      <th>2000-04-30</th>\n",
       "      <td>-0.0640</td>\n",
       "      <td>-0.0668</td>\n",
       "      <td>0.0726</td>\n",
       "      <td>0.0046</td>\n",
       "      <td>-0.086517</td>\n",
       "    </tr>\n",
       "    <tr>\n",
       "      <th>2000-05-31</th>\n",
       "      <td>-0.0442</td>\n",
       "      <td>-0.0609</td>\n",
       "      <td>0.0481</td>\n",
       "      <td>0.0050</td>\n",
       "      <td>-0.322922</td>\n",
       "    </tr>\n",
       "    <tr>\n",
       "      <th>2000-06-30</th>\n",
       "      <td>0.0464</td>\n",
       "      <td>0.1285</td>\n",
       "      <td>-0.0843</td>\n",
       "      <td>0.0040</td>\n",
       "      <td>0.247024</td>\n",
       "    </tr>\n",
       "    <tr>\n",
       "      <th>...</th>\n",
       "      <td>...</td>\n",
       "      <td>...</td>\n",
       "      <td>...</td>\n",
       "      <td>...</td>\n",
       "      <td>...</td>\n",
       "    </tr>\n",
       "    <tr>\n",
       "      <th>2022-06-30</th>\n",
       "      <td>-0.0843</td>\n",
       "      <td>0.0209</td>\n",
       "      <td>-0.0597</td>\n",
       "      <td>0.0006</td>\n",
       "      <td>-0.081430</td>\n",
       "    </tr>\n",
       "    <tr>\n",
       "      <th>2022-07-31</th>\n",
       "      <td>0.0957</td>\n",
       "      <td>0.0281</td>\n",
       "      <td>-0.0410</td>\n",
       "      <td>0.0008</td>\n",
       "      <td>0.188634</td>\n",
       "    </tr>\n",
       "    <tr>\n",
       "      <th>2022-08-31</th>\n",
       "      <td>-0.0377</td>\n",
       "      <td>0.0139</td>\n",
       "      <td>0.0031</td>\n",
       "      <td>0.0019</td>\n",
       "      <td>-0.031208</td>\n",
       "    </tr>\n",
       "    <tr>\n",
       "      <th>2022-09-30</th>\n",
       "      <td>-0.0935</td>\n",
       "      <td>-0.0082</td>\n",
       "      <td>0.0003</td>\n",
       "      <td>0.0019</td>\n",
       "      <td>-0.120977</td>\n",
       "    </tr>\n",
       "    <tr>\n",
       "      <th>2022-10-31</th>\n",
       "      <td>0.0783</td>\n",
       "      <td>0.0010</td>\n",
       "      <td>0.0806</td>\n",
       "      <td>0.0023</td>\n",
       "      <td>0.109551</td>\n",
       "    </tr>\n",
       "  </tbody>\n",
       "</table>\n",
       "<p>273 rows × 5 columns</p>\n",
       "</div>"
      ],
      "text/plain": [
       "              beta    size   value      rf       ret\n",
       "2000-02-29  0.0245  0.2142 -0.0970  0.0043  0.104820\n",
       "2000-03-31  0.0520 -0.1723  0.0817  0.0047  0.184842\n",
       "2000-04-30 -0.0640 -0.0668  0.0726  0.0046 -0.086517\n",
       "2000-05-31 -0.0442 -0.0609  0.0481  0.0050 -0.322922\n",
       "2000-06-30  0.0464  0.1285 -0.0843  0.0040  0.247024\n",
       "...            ...     ...     ...     ...       ...\n",
       "2022-06-30 -0.0843  0.0209 -0.0597  0.0006 -0.081430\n",
       "2022-07-31  0.0957  0.0281 -0.0410  0.0008  0.188634\n",
       "2022-08-31 -0.0377  0.0139  0.0031  0.0019 -0.031208\n",
       "2022-09-30 -0.0935 -0.0082  0.0003  0.0019 -0.120977\n",
       "2022-10-31  0.0783  0.0010  0.0806  0.0023  0.109551\n",
       "\n",
       "[273 rows x 5 columns]"
      ]
     },
     "execution_count": 16,
     "metadata": {},
     "output_type": "execute_result"
    }
   ],
   "source": [
    "# ff_data 데이터프레임 칼럼 이름 변경\n",
    "ff_data.columns = ['beta','size','value','rf','ret']\n",
    "ff_data"
   ]
  },
  {
   "cell_type": "markdown",
   "id": "04850857",
   "metadata": {},
   "source": [
    "# 파마-프렌치 3팩터 모델로 주가 선형 회귀 분석"
   ]
  },
  {
   "cell_type": "code",
   "execution_count": 18,
   "id": "10a21b50",
   "metadata": {},
   "outputs": [
    {
     "name": "stdout",
     "output_type": "stream",
     "text": [
      "                                 OLS Regression Results                                \n",
      "=======================================================================================\n",
      "Dep. Variable:                      y   R-squared (uncentered):                   0.370\n",
      "Model:                            OLS   Adj. R-squared (uncentered):              0.363\n",
      "Method:                 Least Squares   F-statistic:                              52.89\n",
      "Date:                Wed, 28 Dec 2022   Prob (F-statistic):                    6.34e-27\n",
      "Time:                        12:06:11   Log-Likelihood:                          262.27\n",
      "No. Observations:                 273   AIC:                                     -518.5\n",
      "Df Residuals:                     270   BIC:                                     -507.7\n",
      "Df Model:                           3                                                  \n",
      "Covariance Type:            nonrobust                                                  \n",
      "==============================================================================\n",
      "                 coef    std err          t      P>|t|      [0.025      0.975]\n",
      "------------------------------------------------------------------------------\n",
      "beta           1.3852      0.126     10.956      0.000       1.136       1.634\n",
      "size           0.1052      0.187      0.563      0.574      -0.263       0.473\n",
      "value         -0.7462      0.164     -4.544      0.000      -1.069      -0.423\n",
      "==============================================================================\n",
      "Omnibus:                       29.998   Durbin-Watson:                   1.893\n",
      "Prob(Omnibus):                  0.000   Jarque-Bera (JB):              153.541\n",
      "Skew:                          -0.124   Prob(JB):                     4.56e-34\n",
      "Kurtosis:                       6.666   Cond. No.                         1.70\n",
      "==============================================================================\n",
      "\n",
      "Notes:\n",
      "[1] R² is computed without centering (uncentered) since the model does not contain a constant.\n",
      "[2] Standard Errors assume that the covariance matrix of the errors is correctly specified.\n"
     ]
    }
   ],
   "source": [
    "# 회귀 분석 설명 변수 : 3팩터\n",
    "x = ff_data[['beta','size','value']]\n",
    "\n",
    "# 회귀 분석 종속 변수 : 애플의 무위험 초과 수익률\n",
    "y = ff_data['ret'] - ff_data['rf']\n",
    "\n",
    "ff_model = sm.OLS(y,x).fit()\n",
    "\n",
    "print(ff_model.summary())\n",
    "\n",
    "# 베타 계수 할당\n",
    "b1, b2, b3 = ff_model.params"
   ]
  },
  {
   "cell_type": "code",
   "execution_count": 19,
   "id": "bd32892b",
   "metadata": {},
   "outputs": [
    {
     "data": {
      "text/plain": [
       "(1.3851921290264524, 0.10524492829174113, -0.7461997607614556)"
      ]
     },
     "execution_count": 19,
     "metadata": {},
     "output_type": "execute_result"
    }
   ],
   "source": [
    "b1, b2, b3"
   ]
  },
  {
   "cell_type": "code",
   "execution_count": 20,
   "id": "ac93a46c",
   "metadata": {},
   "outputs": [],
   "source": [
    "# 무위험 수익률\n",
    "rf = ff_data['rf'].mean()\n",
    "\n",
    "# 시장 위험 프리미엄\n",
    "market_premium = ff_data['beta'].mean()\n",
    "\n",
    "# 사이즈 프리미엄\n",
    "size_premium = ff_data['size'].mean()\n",
    "\n",
    "# 밸류 프리미엄\n",
    "value_premium = ff_data['value'].mean()"
   ]
  },
  {
   "cell_type": "code",
   "execution_count": 21,
   "id": "ed51688d",
   "metadata": {},
   "outputs": [
    {
     "name": "stdout",
     "output_type": "stream",
     "text": [
      "Expected Yearly Return: 0.08268219665285301\n"
     ]
    }
   ],
   "source": [
    "# 팩터를 활용한 기대수익률 계산\n",
    "\n",
    "# 월간 기대수익률\n",
    "expected_monthly_return = rf + (b1 * market_premium) + (b2 * size_premium) + (b3 * value_premium)\n",
    "\n",
    "# 연간 기대수익률\n",
    "expected_yearly_return = expected_monthly_return * 12\n",
    "\n",
    "# 기대수익률 출력\n",
    "print('Expected Yearly Return: ' + str(expected_yearly_return))"
   ]
  },
  {
   "cell_type": "markdown",
   "id": "e9efcc59",
   "metadata": {},
   "source": [
    "# 시간 가변적 베타 (Time-Varying Beta)"
   ]
  },
  {
   "cell_type": "code",
   "execution_count": 22,
   "id": "fd135370",
   "metadata": {},
   "outputs": [],
   "source": [
    "# RollingOLS 임포트\n",
    "from statsmodels.regression.rolling import RollingOLS"
   ]
  },
  {
   "cell_type": "code",
   "execution_count": 25,
   "id": "efa8cf87",
   "metadata": {},
   "outputs": [],
   "source": [
    "# 3-팩터 롤링 베타 추출\n",
    "betas = RollingOLS.from_formula('ret ~ beta + size + value',data=ff_data, window=36).fit().params"
   ]
  },
  {
   "cell_type": "code",
   "execution_count": 26,
   "id": "89c29c87",
   "metadata": {},
   "outputs": [
    {
     "data": {
      "text/html": [
       "<div>\n",
       "<style scoped>\n",
       "    .dataframe tbody tr th:only-of-type {\n",
       "        vertical-align: middle;\n",
       "    }\n",
       "\n",
       "    .dataframe tbody tr th {\n",
       "        vertical-align: top;\n",
       "    }\n",
       "\n",
       "    .dataframe thead th {\n",
       "        text-align: right;\n",
       "    }\n",
       "</style>\n",
       "<table border=\"1\" class=\"dataframe\">\n",
       "  <thead>\n",
       "    <tr style=\"text-align: right;\">\n",
       "      <th></th>\n",
       "      <th>Intercept</th>\n",
       "      <th>beta</th>\n",
       "      <th>size</th>\n",
       "      <th>value</th>\n",
       "    </tr>\n",
       "  </thead>\n",
       "  <tbody>\n",
       "    <tr>\n",
       "      <th>2000-02-29</th>\n",
       "      <td>NaN</td>\n",
       "      <td>NaN</td>\n",
       "      <td>NaN</td>\n",
       "      <td>NaN</td>\n",
       "    </tr>\n",
       "    <tr>\n",
       "      <th>2000-03-31</th>\n",
       "      <td>NaN</td>\n",
       "      <td>NaN</td>\n",
       "      <td>NaN</td>\n",
       "      <td>NaN</td>\n",
       "    </tr>\n",
       "    <tr>\n",
       "      <th>2000-04-30</th>\n",
       "      <td>NaN</td>\n",
       "      <td>NaN</td>\n",
       "      <td>NaN</td>\n",
       "      <td>NaN</td>\n",
       "    </tr>\n",
       "    <tr>\n",
       "      <th>2000-05-31</th>\n",
       "      <td>NaN</td>\n",
       "      <td>NaN</td>\n",
       "      <td>NaN</td>\n",
       "      <td>NaN</td>\n",
       "    </tr>\n",
       "    <tr>\n",
       "      <th>2000-06-30</th>\n",
       "      <td>NaN</td>\n",
       "      <td>NaN</td>\n",
       "      <td>NaN</td>\n",
       "      <td>NaN</td>\n",
       "    </tr>\n",
       "    <tr>\n",
       "      <th>...</th>\n",
       "      <td>...</td>\n",
       "      <td>...</td>\n",
       "      <td>...</td>\n",
       "      <td>...</td>\n",
       "    </tr>\n",
       "    <tr>\n",
       "      <th>2022-06-30</th>\n",
       "      <td>0.022748</td>\n",
       "      <td>1.292452</td>\n",
       "      <td>-0.598420</td>\n",
       "      <td>-0.453837</td>\n",
       "    </tr>\n",
       "    <tr>\n",
       "      <th>2022-07-31</th>\n",
       "      <td>0.022798</td>\n",
       "      <td>1.314894</td>\n",
       "      <td>-0.558703</td>\n",
       "      <td>-0.472186</td>\n",
       "    </tr>\n",
       "    <tr>\n",
       "      <th>2022-08-31</th>\n",
       "      <td>0.024304</td>\n",
       "      <td>1.304920</td>\n",
       "      <td>-0.587338</td>\n",
       "      <td>-0.493836</td>\n",
       "    </tr>\n",
       "    <tr>\n",
       "      <th>2022-09-30</th>\n",
       "      <td>0.021797</td>\n",
       "      <td>1.320926</td>\n",
       "      <td>-0.566632</td>\n",
       "      <td>-0.534356</td>\n",
       "    </tr>\n",
       "    <tr>\n",
       "      <th>2022-10-31</th>\n",
       "      <td>0.020902</td>\n",
       "      <td>1.330181</td>\n",
       "      <td>-0.573377</td>\n",
       "      <td>-0.501086</td>\n",
       "    </tr>\n",
       "  </tbody>\n",
       "</table>\n",
       "<p>273 rows × 4 columns</p>\n",
       "</div>"
      ],
      "text/plain": [
       "            Intercept      beta      size     value\n",
       "2000-02-29        NaN       NaN       NaN       NaN\n",
       "2000-03-31        NaN       NaN       NaN       NaN\n",
       "2000-04-30        NaN       NaN       NaN       NaN\n",
       "2000-05-31        NaN       NaN       NaN       NaN\n",
       "2000-06-30        NaN       NaN       NaN       NaN\n",
       "...               ...       ...       ...       ...\n",
       "2022-06-30   0.022748  1.292452 -0.598420 -0.453837\n",
       "2022-07-31   0.022798  1.314894 -0.558703 -0.472186\n",
       "2022-08-31   0.024304  1.304920 -0.587338 -0.493836\n",
       "2022-09-30   0.021797  1.320926 -0.566632 -0.534356\n",
       "2022-10-31   0.020902  1.330181 -0.573377 -0.501086\n",
       "\n",
       "[273 rows x 4 columns]"
      ]
     },
     "execution_count": 26,
     "metadata": {},
     "output_type": "execute_result"
    }
   ],
   "source": [
    "betas"
   ]
  },
  {
   "cell_type": "code",
   "execution_count": 27,
   "id": "4126562a",
   "metadata": {},
   "outputs": [
    {
     "data": {
      "text/plain": [
       "<AxesSubplot: >"
      ]
     },
     "execution_count": 27,
     "metadata": {},
     "output_type": "execute_result"
    },
    {
     "data": {
      "image/png": "[encoded data removed]",
      "text/plain": [
       "<Figure size 1000x600 with 1 Axes>"
      ]
     },
     "metadata": {},
     "output_type": "display_data"
    }
   ],
   "source": [
    "# 팩터 계수 그래프\n",
    "betas.dropna().plot(figsize=(10,6))"
   ]
  }
 ],
 "metadata": {
  "kernelspec": {
   "display_name": "Python 3 (ipykernel)",
   "language": "python",
   "name": "python3"
  },
  "language_info": {
   "codemirror_mode": {
    "name": "ipython",
    "version": 3
   },
   "file_extension": ".py",
   "mimetype": "text/x-python",
   "name": "python",
   "nbconvert_exporter": "python",
   "pygments_lexer": "ipython3",
   "version": "3.10.6"
  }
 },
 "nbformat": 4,
 "nbformat_minor": 5
}
