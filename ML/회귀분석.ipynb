{
  "cells": [
    {
      "cell_type": "markdown",
      "metadata": {
        "id": "view-in-github",
        "colab_type": "text"
      },
      "source": [
        "<a href=\"https://colab.research.google.com/github/choisangh/STUDY/blob/main/ML/%ED%9A%8C%EA%B7%80%EB%B6%84%EC%84%9D.ipynb\" target=\"_parent\"><img src=\"https://colab.research.google.com/assets/colab-badge.svg\" alt=\"Open In Colab\"/></a>"
      ]
    },
    {
      "cell_type": "markdown",
      "id": "58381f8d-6b55-40eb-98c2-53834023a382",
      "metadata": {
        "id": "58381f8d-6b55-40eb-98c2-53834023a382"
      },
      "source": [
        "# 1. 회귀분석 개념\n",
        "ref : https://movefast.tistory.com/302\n",
        "* 예제 코드 사용 데이터셋: 보스턴 주택 가격  "
      ]
    },
    {
      "cell_type": "code",
      "source": [
        "import numpy as np\n",
        "import matplotlib.pyplot as plt\n",
        "import pandas as pd\n",
        "import seaborn as sns\n",
        "from scipy import stats\n",
        "from sklearn.datasets import load_boston\n",
        "import warnings\n",
        "warnings.filterwarnings(action='ignore')"
      ],
      "metadata": {
        "id": "oVlFkdLS31gw"
      },
      "id": "oVlFkdLS31gw",
      "execution_count": null,
      "outputs": []
    },
    {
      "cell_type": "code",
      "source": [
        "# boston 데이터 세트 로드\n",
        "boston = load_boston()\n",
        "bostonDF = pd.DataFrame(boston.data,columns=boston.feature_names)\n",
        "bostonDF['PRICE'] = boston.target\n",
        "bostonDF.head()"
      ],
      "metadata": {
        "colab": {
          "base_uri": "https://localhost:8080/",
          "height": 206
        },
        "id": "vge_2XXU4EmL",
        "outputId": "11868de1-0501-45eb-99cf-68e2b28fb00f"
      },
      "id": "vge_2XXU4EmL",
      "execution_count": null,
      "outputs": [
        {
          "output_type": "execute_result",
          "data": {
            "text/plain": [
              "      CRIM    ZN  INDUS  CHAS    NOX     RM   AGE     DIS  RAD    TAX  \\\n",
              "0  0.00632  18.0   2.31   0.0  0.538  6.575  65.2  4.0900  1.0  296.0   \n",
              "1  0.02731   0.0   7.07   0.0  0.469  6.421  78.9  4.9671  2.0  242.0   \n",
              "2  0.02729   0.0   7.07   0.0  0.469  7.185  61.1  4.9671  2.0  242.0   \n",
              "3  0.03237   0.0   2.18   0.0  0.458  6.998  45.8  6.0622  3.0  222.0   \n",
              "4  0.06905   0.0   2.18   0.0  0.458  7.147  54.2  6.0622  3.0  222.0   \n",
              "\n",
              "   PTRATIO       B  LSTAT  PRICE  \n",
              "0     15.3  396.90   4.98   24.0  \n",
              "1     17.8  396.90   9.14   21.6  \n",
              "2     17.8  392.83   4.03   34.7  \n",
              "3     18.7  394.63   2.94   33.4  \n",
              "4     18.7  396.90   5.33   36.2  "
            ],
            "text/html": [
              "\n",
              "  <div id=\"df-5d1b4c76-3349-4f66-a333-6a5865c7f882\">\n",
              "    <div class=\"colab-df-container\">\n",
              "      <div>\n",
              "<style scoped>\n",
              "    .dataframe tbody tr th:only-of-type {\n",
              "        vertical-align: middle;\n",
              "    }\n",
              "\n",
              "    .dataframe tbody tr th {\n",
              "        vertical-align: top;\n",
              "    }\n",
              "\n",
              "    .dataframe thead th {\n",
              "        text-align: right;\n",
              "    }\n",
              "</style>\n",
              "<table border=\"1\" class=\"dataframe\">\n",
              "  <thead>\n",
              "    <tr style=\"text-align: right;\">\n",
              "      <th></th>\n",
              "      <th>CRIM</th>\n",
              "      <th>ZN</th>\n",
              "      <th>INDUS</th>\n",
              "      <th>CHAS</th>\n",
              "      <th>NOX</th>\n",
              "      <th>RM</th>\n",
              "      <th>AGE</th>\n",
              "      <th>DIS</th>\n",
              "      <th>RAD</th>\n",
              "      <th>TAX</th>\n",
              "      <th>PTRATIO</th>\n",
              "      <th>B</th>\n",
              "      <th>LSTAT</th>\n",
              "      <th>PRICE</th>\n",
              "    </tr>\n",
              "  </thead>\n",
              "  <tbody>\n",
              "    <tr>\n",
              "      <th>0</th>\n",
              "      <td>0.00632</td>\n",
              "      <td>18.0</td>\n",
              "      <td>2.31</td>\n",
              "      <td>0.0</td>\n",
              "      <td>0.538</td>\n",
              "      <td>6.575</td>\n",
              "      <td>65.2</td>\n",
              "      <td>4.0900</td>\n",
              "      <td>1.0</td>\n",
              "      <td>296.0</td>\n",
              "      <td>15.3</td>\n",
              "      <td>396.90</td>\n",
              "      <td>4.98</td>\n",
              "      <td>24.0</td>\n",
              "    </tr>\n",
              "    <tr>\n",
              "      <th>1</th>\n",
              "      <td>0.02731</td>\n",
              "      <td>0.0</td>\n",
              "      <td>7.07</td>\n",
              "      <td>0.0</td>\n",
              "      <td>0.469</td>\n",
              "      <td>6.421</td>\n",
              "      <td>78.9</td>\n",
              "      <td>4.9671</td>\n",
              "      <td>2.0</td>\n",
              "      <td>242.0</td>\n",
              "      <td>17.8</td>\n",
              "      <td>396.90</td>\n",
              "      <td>9.14</td>\n",
              "      <td>21.6</td>\n",
              "    </tr>\n",
              "    <tr>\n",
              "      <th>2</th>\n",
              "      <td>0.02729</td>\n",
              "      <td>0.0</td>\n",
              "      <td>7.07</td>\n",
              "      <td>0.0</td>\n",
              "      <td>0.469</td>\n",
              "      <td>7.185</td>\n",
              "      <td>61.1</td>\n",
              "      <td>4.9671</td>\n",
              "      <td>2.0</td>\n",
              "      <td>242.0</td>\n",
              "      <td>17.8</td>\n",
              "      <td>392.83</td>\n",
              "      <td>4.03</td>\n",
              "      <td>34.7</td>\n",
              "    </tr>\n",
              "    <tr>\n",
              "      <th>3</th>\n",
              "      <td>0.03237</td>\n",
              "      <td>0.0</td>\n",
              "      <td>2.18</td>\n",
              "      <td>0.0</td>\n",
              "      <td>0.458</td>\n",
              "      <td>6.998</td>\n",
              "      <td>45.8</td>\n",
              "      <td>6.0622</td>\n",
              "      <td>3.0</td>\n",
              "      <td>222.0</td>\n",
              "      <td>18.7</td>\n",
              "      <td>394.63</td>\n",
              "      <td>2.94</td>\n",
              "      <td>33.4</td>\n",
              "    </tr>\n",
              "    <tr>\n",
              "      <th>4</th>\n",
              "      <td>0.06905</td>\n",
              "      <td>0.0</td>\n",
              "      <td>2.18</td>\n",
              "      <td>0.0</td>\n",
              "      <td>0.458</td>\n",
              "      <td>7.147</td>\n",
              "      <td>54.2</td>\n",
              "      <td>6.0622</td>\n",
              "      <td>3.0</td>\n",
              "      <td>222.0</td>\n",
              "      <td>18.7</td>\n",
              "      <td>396.90</td>\n",
              "      <td>5.33</td>\n",
              "      <td>36.2</td>\n",
              "    </tr>\n",
              "  </tbody>\n",
              "</table>\n",
              "</div>\n",
              "      <button class=\"colab-df-convert\" onclick=\"convertToInteractive('df-5d1b4c76-3349-4f66-a333-6a5865c7f882')\"\n",
              "              title=\"Convert this dataframe to an interactive table.\"\n",
              "              style=\"display:none;\">\n",
              "        \n",
              "  <svg xmlns=\"http://www.w3.org/2000/svg\" height=\"24px\"viewBox=\"0 0 24 24\"\n",
              "       width=\"24px\">\n",
              "    <path d=\"M0 0h24v24H0V0z\" fill=\"none\"/>\n",
              "    <path d=\"M18.56 5.44l.94 2.06.94-2.06 2.06-.94-2.06-.94-.94-2.06-.94 2.06-2.06.94zm-11 1L8.5 8.5l.94-2.06 2.06-.94-2.06-.94L8.5 2.5l-.94 2.06-2.06.94zm10 10l.94 2.06.94-2.06 2.06-.94-2.06-.94-.94-2.06-.94 2.06-2.06.94z\"/><path d=\"M17.41 7.96l-1.37-1.37c-.4-.4-.92-.59-1.43-.59-.52 0-1.04.2-1.43.59L10.3 9.45l-7.72 7.72c-.78.78-.78 2.05 0 2.83L4 21.41c.39.39.9.59 1.41.59.51 0 1.02-.2 1.41-.59l7.78-7.78 2.81-2.81c.8-.78.8-2.07 0-2.86zM5.41 20L4 18.59l7.72-7.72 1.47 1.35L5.41 20z\"/>\n",
              "  </svg>\n",
              "      </button>\n",
              "      \n",
              "  <style>\n",
              "    .colab-df-container {\n",
              "      display:flex;\n",
              "      flex-wrap:wrap;\n",
              "      gap: 12px;\n",
              "    }\n",
              "\n",
              "    .colab-df-convert {\n",
              "      background-color: #E8F0FE;\n",
              "      border: none;\n",
              "      border-radius: 50%;\n",
              "      cursor: pointer;\n",
              "      display: none;\n",
              "      fill: #1967D2;\n",
              "      height: 32px;\n",
              "      padding: 0 0 0 0;\n",
              "      width: 32px;\n",
              "    }\n",
              "\n",
              "    .colab-df-convert:hover {\n",
              "      background-color: #E2EBFA;\n",
              "      box-shadow: 0px 1px 2px rgba(60, 64, 67, 0.3), 0px 1px 3px 1px rgba(60, 64, 67, 0.15);\n",
              "      fill: #174EA6;\n",
              "    }\n",
              "\n",
              "    [theme=dark] .colab-df-convert {\n",
              "      background-color: #3B4455;\n",
              "      fill: #D2E3FC;\n",
              "    }\n",
              "\n",
              "    [theme=dark] .colab-df-convert:hover {\n",
              "      background-color: #434B5C;\n",
              "      box-shadow: 0px 1px 3px 1px rgba(0, 0, 0, 0.15);\n",
              "      filter: drop-shadow(0px 1px 2px rgba(0, 0, 0, 0.3));\n",
              "      fill: #FFFFFF;\n",
              "    }\n",
              "  </style>\n",
              "\n",
              "      <script>\n",
              "        const buttonEl =\n",
              "          document.querySelector('#df-5d1b4c76-3349-4f66-a333-6a5865c7f882 button.colab-df-convert');\n",
              "        buttonEl.style.display =\n",
              "          google.colab.kernel.accessAllowed ? 'block' : 'none';\n",
              "\n",
              "        async function convertToInteractive(key) {\n",
              "          const element = document.querySelector('#df-5d1b4c76-3349-4f66-a333-6a5865c7f882');\n",
              "          const dataTable =\n",
              "            await google.colab.kernel.invokeFunction('convertToInteractive',\n",
              "                                                     [key], {});\n",
              "          if (!dataTable) return;\n",
              "\n",
              "          const docLinkHtml = 'Like what you see? Visit the ' +\n",
              "            '<a target=\"_blank\" href=https://colab.research.google.com/notebooks/data_table.ipynb>data table notebook</a>'\n",
              "            + ' to learn more about interactive tables.';\n",
              "          element.innerHTML = '';\n",
              "          dataTable['output_type'] = 'display_data';\n",
              "          await google.colab.output.renderOutput(dataTable, element);\n",
              "          const docLink = document.createElement('div');\n",
              "          docLink.innerHTML = docLinkHtml;\n",
              "          element.appendChild(docLink);\n",
              "        }\n",
              "      </script>\n",
              "    </div>\n",
              "  </div>\n",
              "  "
            ]
          },
          "metadata": {},
          "execution_count": 57
        }
      ]
    },
    {
      "cell_type": "markdown",
      "id": "c40032df-1f30-480c-9390-559486c966dd",
      "metadata": {
        "id": "c40032df-1f30-480c-9390-559486c966dd"
      },
      "source": [
        "## 1-1. 선형 회귀"
      ]
    },
    {
      "cell_type": "markdown",
      "id": "d0ead318-5642-4459-93b9-087846440976",
      "metadata": {
        "id": "d0ead318-5642-4459-93b9-087846440976"
      },
      "source": [
        "## 1-2. 다항 회귀"
      ]
    },
    {
      "cell_type": "markdown",
      "source": [
        "* 항이 여러 개인 가설 함수로 결과를 예측하는 회귀 분석 방법이다.\n",
        "\n",
        "* 항은 제곱근이나 2차항, 3차항 등 다양하게 있으며 함수의 형태가 비선형이라는 특징이 있다.\n",
        "\n",
        "* 다항 회귀를 활용하는 한 가지 방법은 서로 다른 두 Feature 를 하나의 feature로 만들어서 해당 feature를 입력으로 2차 이상의 함수를 예측하는 것이다.\n",
        "\n",
        "    - 예를 들어, 부동산에서 집값 예측 시 땅의 가로/세로 길이가 주어졌을 때 면적(=가로*세로)으로 만들어서 면적에 따른 결과를 예측하기\n",
        "\n",
        "    - 새 feature 에 대해 그래프를 그렸을 때 데이터를 잘 표현하는 비선형 함수를 찾아야 한다.\n",
        "\n",
        "    - 새 feature 에 대해서도 feature scaling 을 적절히 해주어야 한다. 특히, 실수의 곱이나 범위가 큰 두 feature의 곱은 너무 0에 가깝거나 너무 큰 수가 되버릴 수 있다.\n",
        "\n",
        "* 보통 2차함수는 중간에 하강하므로 3차(cubic) 함수부터 아니면 단조증가하는 제곱근이나 로그 함수를 많이 쓴다."
      ],
      "metadata": {
        "id": "JJB6Z0F0Trmm"
      },
      "id": "JJB6Z0F0Trmm"
    },
    {
      "cell_type": "markdown",
      "source": [
        "<img width=\"500\" src=\"https://img1.daumcdn.net/thumb/R1280x0/?scode=mtistory2&fname=https%3A%2F%2Fblog.kakaocdn.net%2Fdn%2FI5kYW%2FbtqWjq4CRxM%2FNnMnMm35qhqESp6HGQ7Of0%2Fimg.png\"></img>"
      ],
      "metadata": {
        "id": "CADyViXKUKHw"
      },
      "id": "CADyViXKUKHw"
    },
    {
      "cell_type": "code",
      "source": [
        "from sklearn.preprocessing import PolynomialFeatures\n",
        "from sklearn.linear_model import LinearRegression\n",
        "from sklearn.pipeline import make_pipeline   \n",
        "import numpy as np\n",
        "import matplotlib.pyplot as plt\n",
        "%matplotlib inline"
      ],
      "metadata": {
        "id": "X0bwKSOoU4LI"
      },
      "id": "X0bwKSOoU4LI",
      "execution_count": 100,
      "outputs": []
    },
    {
      "cell_type": "code",
      "source": [
        "n = 100\n",
        "\n",
        "x = 6 * np.random.rand(n, 1) - 3\n",
        "y = 0.5 * x**2 + x + 2 + np.random.rand(n, 1)\n",
        "\n",
        "plt.scatter(x, y, s=5)"
      ],
      "metadata": {
        "colab": {
          "base_uri": "https://localhost:8080/",
          "height": 283
        },
        "id": "i9dN51WwQ_qG",
        "outputId": "d4402ad9-5f36-4edf-ff60-2c306d1c98e4"
      },
      "id": "i9dN51WwQ_qG",
      "execution_count": 101,
      "outputs": [
        {
          "output_type": "execute_result",
          "data": {
            "text/plain": [
              "<matplotlib.collections.PathCollection at 0x7efdf1d1ca90>"
            ]
          },
          "metadata": {},
          "execution_count": 101
        },
        {
          "output_type": "display_data",
          "data": {
            "text/plain": [
              "<Figure size 432x288 with 1 Axes>"
            ],
            "image/png": "[encoded data removed]"
          },
          "metadata": {
            "needs_background": "light"
          }
        }
      ]
    },
    {
      "cell_type": "code",
      "source": [
        "#선형회귀 그래프\n",
        "lr=LinearRegression()\n",
        "lr.fit(x, y)\n",
        "y_preds=lr.predict(x)\n",
        "plt.plot(x, y_preds)\n",
        "plt.scatter(x, y, s=5)"
      ],
      "metadata": {
        "colab": {
          "base_uri": "https://localhost:8080/",
          "height": 283
        },
        "id": "4zfHcUSQU1Dx",
        "outputId": "fc6ee2fe-fc8e-47cb-85d9-632b5a9984bc"
      },
      "id": "4zfHcUSQU1Dx",
      "execution_count": 102,
      "outputs": [
        {
          "output_type": "execute_result",
          "data": {
            "text/plain": [
              "<matplotlib.collections.PathCollection at 0x7efdf1d0f1d0>"
            ]
          },
          "metadata": {},
          "execution_count": 102
        },
        {
          "output_type": "display_data",
          "data": {
            "text/plain": [
              "<Figure size 432x288 with 1 Axes>"
            ],
            "image/png": "[encoded data removed]"
          },
          "metadata": {
            "needs_background": "light"
          }
        }
      ]
    },
    {
      "cell_type": "code",
      "source": [
        "# 데이터 변환 과정과 머신러닝을 연결해주는 파이프라인\n",
        "model_lr = make_pipeline(PolynomialFeatures(degree=2, include_bias=False),\n",
        "                         LinearRegression())\n",
        "model_lr.fit(x, y)\n",
        "print(model_lr.steps[1][1].coef_)"
      ],
      "metadata": {
        "colab": {
          "base_uri": "https://localhost:8080/"
        },
        "id": "q-5dgNVERBAr",
        "outputId": "e90e8c03-d20b-4d2e-da0b-34ebcc7d00dc"
      },
      "id": "q-5dgNVERBAr",
      "execution_count": 103,
      "outputs": [
        {
          "output_type": "stream",
          "name": "stdout",
          "text": [
            "[[0.98667603 0.5044756 ]]\n"
          ]
        }
      ]
    },
    {
      "cell_type": "code",
      "source": [
        "# 다항회귀 그래프\n",
        "xx = np.linspace(-3, 3, 100)\n",
        "y_pred = model_lr.predict(xx[:, np.newaxis])\n",
        "plt.plot(xx, y_pred)\n",
        "plt.scatter(x, y, s=5)"
      ],
      "metadata": {
        "colab": {
          "base_uri": "https://localhost:8080/",
          "height": 283
        },
        "id": "FZdjVhEhUxX8",
        "outputId": "4de1bdf4-76bf-4af7-b2b7-413bbad27d26"
      },
      "id": "FZdjVhEhUxX8",
      "execution_count": 104,
      "outputs": [
        {
          "output_type": "execute_result",
          "data": {
            "text/plain": [
              "<matplotlib.collections.PathCollection at 0x7efdf1c76910>"
            ]
          },
          "metadata": {},
          "execution_count": 104
        },
        {
          "output_type": "display_data",
          "data": {
            "text/plain": [
              "<Figure size 432x288 with 1 Axes>"
            ],
            "image/png": "[encoded data removed]"
          },
          "metadata": {
            "needs_background": "light"
          }
        }
      ]
    },
    {
      "cell_type": "markdown",
      "source": [
        "## 1-3. 규제 선형 모델"
      ],
      "metadata": {
        "id": "ARxE65C-BFWa"
      },
      "id": "ARxE65C-BFWa"
    },
    {
      "cell_type": "markdown",
      "source": [
        "## 1-4. 회귀트리"
      ],
      "metadata": {
        "id": "XrxiiUa4Bcmx"
      },
      "id": "XrxiiUa4Bcmx"
    },
    {
      "cell_type": "markdown",
      "source": [
        "## 1-5. 다중공선성"
      ],
      "metadata": {
        "id": "gSithECIDVWQ"
      },
      "id": "gSithECIDVWQ"
    },
    {
      "cell_type": "markdown",
      "source": [
        "## 1-6. 회귀 평가 지표"
      ],
      "metadata": {
        "id": "uDet9dQHDX5o"
      },
      "id": "uDet9dQHDX5o"
    },
    {
      "cell_type": "markdown",
      "id": "599bf1c8-39c1-483d-84ab-d0d662334b1f",
      "metadata": {
        "id": "599bf1c8-39c1-483d-84ab-d0d662334b1f"
      },
      "source": [
        "# 2. 회귀분석 모델 설명 및 코드"
      ]
    },
    {
      "cell_type": "markdown",
      "id": "059c11e2-9b04-419e-b6af-3375cc30e160",
      "metadata": {
        "id": "059c11e2-9b04-419e-b6af-3375cc30e160"
      },
      "source": [
        "## 2-1. Linear Regression <선형회귀>\n",
        "ref : https://scikit-learn.org/stable/modules/generated/sklearn.linear_model.LinearRegression.html?highlight=linear#sklearn.linear_model.LinearRegression"
      ]
    },
    {
      "cell_type": "markdown",
      "id": "e6926527-d5a3-4693-b2b4-0a126f11e1d8",
      "metadata": {
        "id": "e6926527-d5a3-4693-b2b4-0a126f11e1d8"
      },
      "source": [
        "### API\n",
        "<img src=\"https://blog.kakaocdn.net/dn/Ee7JG/btrwkvJNF80/JEkRlREuwVuSbRmwCwpc40/img.png\"></img>"
      ]
    },
    {
      "cell_type": "markdown",
      "id": "934ccfb6-b828-4328-a534-abc9a0ac685f",
      "metadata": {
        "id": "934ccfb6-b828-4328-a534-abc9a0ac685f"
      },
      "source": [
        "### 파라미터 설명\n",
        "* fit_intercept : bool, default=True\n",
        "* - Whether to calculate the intercept for this model. If set to False, no intercept will be used in calculations (i.e. data is expected to be centered).\n",
        "\n",
        "* normalize : bool, default=False\n",
        "* - This parameter is ignored when fit_intercept is set to False. If True, the regressors X will be normalized before regression by subtracting the mean and dividing by the l2-norm. If you wish to standardize, please use StandardScaler before calling fit on an estimator with normalize=False.\n",
        "\n",
        "* copy_X : bool, default=True\n",
        "* - If True, X will be copied; else, it may be overwritten.\n",
        "\n",
        "* n_jobs : int, default=None\n",
        "* - The number of jobs to use for the computation. This will only provide speedup in case of sufficiently large problems, that is if firstly n_targets > 1 and secondly X is sparse or if positive is set to True. None means 1 unless in a joblib.parallel_backend context. -1 means using all processors. See Glossary for more details.\n",
        "\n",
        "* positive : bool, default=False\n",
        "* - When set to True, forces the coefficients to be positive. This option is only supported for dense arrays.\n"
      ]
    },
    {
      "cell_type": "markdown",
      "id": "9c45ef1d-170d-4b7f-a156-4a6d77b771c4",
      "metadata": {
        "id": "9c45ef1d-170d-4b7f-a156-4a6d77b771c4"
      },
      "source": [
        "### 예시코드(활용 예시)"
      ]
    },
    {
      "cell_type": "code",
      "source": [
        "from sklearn.linear_model import LinearRegression\n",
        "from sklearn.model_selection import train_test_split\n",
        "from sklearn.metrics import mean_squared_error, r2_score"
      ],
      "metadata": {
        "id": "vLgRUSrEHadP"
      },
      "id": "vLgRUSrEHadP",
      "execution_count": null,
      "outputs": []
    },
    {
      "cell_type": "code",
      "source": [
        "y_target = bostonDF['PRICE']\n",
        "X_data = bostonDF.drop('PRICE',axis=1)\n",
        "X_train,X_test,y_train,y_test = train_test_split(X_data, y_target, test_size=0.3, random_state=123)\n",
        "\n",
        "lr = LinearRegression()\n",
        "lr.fit(X_train,y_train)\n",
        "y_preds = lr.predict(X_test)"
      ],
      "metadata": {
        "id": "k1NVMgctHsqM"
      },
      "id": "k1NVMgctHsqM",
      "execution_count": null,
      "outputs": []
    },
    {
      "cell_type": "code",
      "source": [
        "mse= mean_squared_error(y_test, y_preds)\n",
        "rmse = np.sqrt(mse)\n",
        "\n",
        "print('MSE : {0:.3f}, RMSE : {1:.3f}'.format(mse,rmse))\n",
        "print('Variance Score : {0:.3f}'.format(r2_score(y_test,y_preds)))"
      ],
      "metadata": {
        "colab": {
          "base_uri": "https://localhost:8080/"
        },
        "id": "g0CRvS_MIIxQ",
        "outputId": "50befa70-fe12-49bd-ae1c-d5642c15054c"
      },
      "id": "g0CRvS_MIIxQ",
      "execution_count": null,
      "outputs": [
        {
          "output_type": "stream",
          "name": "stdout",
          "text": [
            "MSE : 28.406, RMSE : 5.330\n",
            "Variance Score : 0.649\n"
          ]
        }
      ]
    },
    {
      "cell_type": "code",
      "source": [
        "print('절편 값:',lr.intercept_)\n",
        "#회귀계수값 (lr.ceof_)\n",
        "coeff=pd.Series(data=np.round(lr.coef_,1),index=X_data.columns)\n",
        "coeff"
      ],
      "metadata": {
        "colab": {
          "base_uri": "https://localhost:8080/"
        },
        "id": "sVCX-5NbKBy_",
        "outputId": "721695a3-9a15-4f23-a9b3-b7cfec28d784"
      },
      "id": "sVCX-5NbKBy_",
      "execution_count": null,
      "outputs": [
        {
          "output_type": "stream",
          "name": "stdout",
          "text": [
            "절편 값: 28.981270388095602\n"
          ]
        },
        {
          "output_type": "execute_result",
          "data": {
            "text/plain": [
              "CRIM       -0.1\n",
              "ZN          0.0\n",
              "INDUS       0.1\n",
              "CHAS        0.3\n",
              "NOX       -14.3\n",
              "RM          4.8\n",
              "AGE        -0.0\n",
              "DIS        -1.3\n",
              "RAD         0.3\n",
              "TAX        -0.0\n",
              "PTRATIO    -1.0\n",
              "B           0.0\n",
              "LSTAT      -0.5\n",
              "dtype: float64"
            ]
          },
          "metadata": {},
          "execution_count": 22
        }
      ]
    },
    {
      "cell_type": "markdown",
      "id": "cb6965aa-67b1-4043-8603-43b3793478d1",
      "metadata": {
        "id": "cb6965aa-67b1-4043-8603-43b3793478d1"
      },
      "source": [
        "## 2-2. PolynomialFeatures <다항회귀>\n",
        "* ref : https://scikit-learn.org/stable/modules/generated/sklearn.preprocessing.PolynomialFeatures.html?highlight=polynomialfeatures#sklearn.preprocessing.PolynomialFeatures, https://inuplace.tistory.com/515"
      ]
    },
    {
      "cell_type": "markdown",
      "id": "2324e369-32a4-4f48-b6a0-734e16d1cf64",
      "metadata": {
        "id": "2324e369-32a4-4f48-b6a0-734e16d1cf64"
      },
      "source": [
        "### API\n",
        "<img src=\"https://blog.kakaocdn.net/dn/brRspG/btrwnqVs3cY/jT1wNLT1rVkiYUpGEwn590/img.png\"></img>"
      ]
    },
    {
      "cell_type": "markdown",
      "id": "1e75e8cc-377a-4811-bf89-d00819ff6fda",
      "metadata": {
        "id": "1e75e8cc-377a-4811-bf89-d00819ff6fda"
      },
      "source": [
        "### 파라미터 설명\n",
        "####degree : int or tuple (min_degree, max_degree), default=2\n",
        "* If a single int is given, it specifies the maximal degree of the polynomial features. If a tuple (min_degree, max_degree) is passed, then min_degree is the minimum and max_degree is the maximum polynomial degree of the generated features. Note that min_degree=0 and min_degree=1 are equivalent as outputting the degree zero term is determined by include_bias.\n",
        "\n",
        "####interaction_only : bool, default=False\n",
        "* If True, only interaction features are produced: features that are products of at most degree distinct input features, i.e. terms with power of 2 or higher of the same input feature are excluded:\n",
        "\n",
        "included: x[0], x[1], x[0] * x[1], etc.<br>\n",
        "excluded: x[0] ** 2, x[0] ** 2 * x[1], etc.\n",
        "\n",
        "####include_bias : bool, default=True\n",
        "* If True (default), then include a bias column, the feature in which all polynomial powers are zero (i.e. a column of ones - acts as an intercept term in a linear model).\n",
        "\n",
        "####order : {‘C’, ‘F’}, default=’C’\n",
        "* Order of output array in the dense case. 'F' order is faster to compute, but may slow down subsequent estimators."
      ]
    },
    {
      "cell_type": "markdown",
      "id": "fa60ccdc-8cf9-4de2-b648-b9214aa6e989",
      "metadata": {
        "id": "fa60ccdc-8cf9-4de2-b648-b9214aa6e989"
      },
      "source": [
        "### 예시코드(활용 예시)"
      ]
    },
    {
      "cell_type": "code",
      "source": [
        "from sklearn.preprocessing import PolynomialFeatures"
      ],
      "metadata": {
        "id": "2owEKrspKxdK"
      },
      "id": "2owEKrspKxdK",
      "execution_count": null,
      "outputs": []
    },
    {
      "cell_type": "code",
      "source": [
        "poly_features = PolynomialFeatures(degree=2, include_bias=False) # 기본 다항식형태를 만들고\n",
        "X_train_poly = poly_features.fit_transform(X_train)\n",
        "X_test_poly = poly_features.fit_transform(X_test)\n",
        "X_train_poly\n",
        "# 새롭게 정의된 numpy 배열은 행별로 각 데이터를 다항 형태로 변형해준다."
      ],
      "metadata": {
        "colab": {
          "base_uri": "https://localhost:8080/"
        },
        "id": "0XtMEcucK3CP",
        "outputId": "1e8394b5-84e1-4d63-ad78-0287fe50ba4c"
      },
      "id": "0XtMEcucK3CP",
      "execution_count": null,
      "outputs": [
        {
          "output_type": "execute_result",
          "data": {
            "text/plain": [
              "array([[2.21880000e-01, 2.00000000e+01, 6.96000000e+00, ...,\n",
              "        1.52701193e+05, 2.57126660e+03, 4.32964000e+01],\n",
              "       [5.36000000e-02, 2.10000000e+01, 5.64000000e+00, ...,\n",
              "        1.57529610e+05, 2.09563200e+03, 2.78784000e+01],\n",
              "       [6.88800000e-02, 0.00000000e+00, 2.46000000e+00, ...,\n",
              "        1.57529610e+05, 3.75070500e+03, 8.93025000e+01],\n",
              "       ...,\n",
              "       [3.51140000e-01, 0.00000000e+00, 7.38000000e+00, ...,\n",
              "        1.57529610e+05, 3.05613000e+03, 5.92900000e+01],\n",
              "       [9.18702000e+00, 0.00000000e+00, 1.81000000e+01, ...,\n",
              "        1.57529610e+05, 9.36684000e+03, 5.56960000e+02],\n",
              "       [4.55587000e+00, 0.00000000e+00, 1.81000000e+01, ...,\n",
              "        1.25812090e+05, 2.52546400e+03, 5.06944000e+01]])"
            ]
          },
          "metadata": {},
          "execution_count": 49
        }
      ]
    },
    {
      "cell_type": "markdown",
      "source": [
        "* PolynomialFeatures함수를 통해 현재 데이터를 다항식 형태로 변경한다. (각 특성의 제곱 혹은 그 이상을 추가)\n",
        "* degree 옵션으로 차수를 조절한다.\n",
        "* include_bias 옵션은 True로 할 경우 0차항(1)도 함께 만든다.\n",
        "* 이렇게 만들어진 다항식 모델에 x를 fit transform하여 새로운 데이터를 생성한다."
      ],
      "metadata": {
        "id": "sTn753L5OCXY"
      },
      "id": "sTn753L5OCXY"
    },
    {
      "cell_type": "code",
      "source": [
        "np.array(X_train.iloc[0,:]), X_train_poly[0]"
      ],
      "metadata": {
        "colab": {
          "base_uri": "https://localhost:8080/"
        },
        "id": "m_UtTJLKLfNs",
        "outputId": "95578969-c730-4ce3-c661-01895becef9b"
      },
      "id": "m_UtTJLKLfNs",
      "execution_count": null,
      "outputs": [
        {
          "output_type": "execute_result",
          "data": {
            "text/plain": [
              "(array([2.2188e-01, 2.0000e+01, 6.9600e+00, 1.0000e+00, 4.6400e-01,\n",
              "        7.6910e+00, 5.1800e+01, 4.3665e+00, 3.0000e+00, 2.2300e+02,\n",
              "        1.8600e+01, 3.9077e+02, 6.5800e+00]),\n",
              " array([2.21880000e-01, 2.00000000e+01, 6.96000000e+00, 1.00000000e+00,\n",
              "        4.64000000e-01, 7.69100000e+00, 5.18000000e+01, 4.36650000e+00,\n",
              "        3.00000000e+00, 2.23000000e+02, 1.86000000e+01, 3.90770000e+02,\n",
              "        6.58000000e+00, 4.92307344e-02, 4.43760000e+00, 1.54428480e+00,\n",
              "        2.21880000e-01, 1.02952320e-01, 1.70647908e+00, 1.14933840e+01,\n",
              "        9.68839020e-01, 6.65640000e-01, 4.94792400e+01, 4.12696800e+00,\n",
              "        8.67040476e+01, 1.45997040e+00, 4.00000000e+02, 1.39200000e+02,\n",
              "        2.00000000e+01, 9.28000000e+00, 1.53820000e+02, 1.03600000e+03,\n",
              "        8.73300000e+01, 6.00000000e+01, 4.46000000e+03, 3.72000000e+02,\n",
              "        7.81540000e+03, 1.31600000e+02, 4.84416000e+01, 6.96000000e+00,\n",
              "        3.22944000e+00, 5.35293600e+01, 3.60528000e+02, 3.03908400e+01,\n",
              "        2.08800000e+01, 1.55208000e+03, 1.29456000e+02, 2.71975920e+03,\n",
              "        4.57968000e+01, 1.00000000e+00, 4.64000000e-01, 7.69100000e+00,\n",
              "        5.18000000e+01, 4.36650000e+00, 3.00000000e+00, 2.23000000e+02,\n",
              "        1.86000000e+01, 3.90770000e+02, 6.58000000e+00, 2.15296000e-01,\n",
              "        3.56862400e+00, 2.40352000e+01, 2.02605600e+00, 1.39200000e+00,\n",
              "        1.03472000e+02, 8.63040000e+00, 1.81317280e+02, 3.05312000e+00,\n",
              "        5.91514810e+01, 3.98393800e+02, 3.35827515e+01, 2.30730000e+01,\n",
              "        1.71509300e+03, 1.43052600e+02, 3.00541207e+03, 5.06067800e+01,\n",
              "        2.68324000e+03, 2.26184700e+02, 1.55400000e+02, 1.15514000e+04,\n",
              "        9.63480000e+02, 2.02418860e+04, 3.40844000e+02, 1.90663223e+01,\n",
              "        1.30995000e+01, 9.73729500e+02, 8.12169000e+01, 1.70629721e+03,\n",
              "        2.87315700e+01, 9.00000000e+00, 6.69000000e+02, 5.58000000e+01,\n",
              "        1.17231000e+03, 1.97400000e+01, 4.97290000e+04, 4.14780000e+03,\n",
              "        8.71417100e+04, 1.46734000e+03, 3.45960000e+02, 7.26832200e+03,\n",
              "        1.22388000e+02, 1.52701193e+05, 2.57126660e+03, 4.32964000e+01]))"
            ]
          },
          "metadata": {},
          "execution_count": 55
        }
      ]
    },
    {
      "cell_type": "markdown",
      "source": [
        "* fit_transform을 통해 위와 같이 각 피쳐를 곱한 항을 추가하여 반환한다. (a²,ab,ac,ac ..., b²,bc,bd, ...)"
      ],
      "metadata": {
        "id": "N1pL5SiDOGrG"
      },
      "id": "N1pL5SiDOGrG"
    },
    {
      "cell_type": "code",
      "source": [
        "from sklearn.linear_model import LinearRegression\n",
        "# model.coef_, model.intercept_\n",
        "lr = LinearRegression()\n",
        "lr.fit(X_train_poly, y_train) # 다항회귀 모델에 그렇게 변형한 데이터와 기존 y값을 넣고 학습시킨다.\n",
        "y_preds = lr.predict(X_test_poly)\n"
      ],
      "metadata": {
        "id": "9h0U4ssOMHxh"
      },
      "id": "9h0U4ssOMHxh",
      "execution_count": null,
      "outputs": []
    },
    {
      "cell_type": "code",
      "source": [
        "mse= mean_squared_error(y_test, y_preds)\n",
        "rmse = np.sqrt(mse)\n",
        "\n",
        "print('MSE : {0:.3f}, RMSE : {1:.3f}'.format(mse,rmse))\n",
        "print('Variance Score : {0:.3f}'.format(r2_score(y_test,y_preds)))"
      ],
      "metadata": {
        "colab": {
          "base_uri": "https://localhost:8080/"
        },
        "id": "86az_yHaNdEW",
        "outputId": "1a2ba392-406d-4f30-ce7f-20d8ba6f03f4"
      },
      "id": "86az_yHaNdEW",
      "execution_count": null,
      "outputs": [
        {
          "output_type": "stream",
          "name": "stdout",
          "text": [
            "MSE : 18.871, RMSE : 4.344\n",
            "Variance Score : 0.767\n"
          ]
        }
      ]
    },
    {
      "cell_type": "markdown",
      "source": [
        "\n",
        "* 선형회귀 모델을 만들고, 다항화한 x의 데이터와 기존의 y값을 모델에 fit시켜준다.\n",
        "* 이를 통해 모델이 완성되었고 이를 활용할 수도 있다."
      ],
      "metadata": {
        "id": "uEn4_pAtLRSs"
      },
      "id": "uEn4_pAtLRSs"
    },
    {
      "cell_type": "markdown",
      "metadata": {
        "id": "2L5uZ8CdCPik"
      },
      "source": [
        "## 2-3. Ridge regression <릿지회귀 - 규제>\n",
        "ref : https://scikit-learn.org/stable/modules/generated/sklearn.linear_model.Ridge.html?highlight=ridge#sklearn.linear_model.Ridge"
      ],
      "id": "2L5uZ8CdCPik"
    },
    {
      "cell_type": "markdown",
      "metadata": {
        "id": "5lZkazxqCPil"
      },
      "source": [
        "### API 스샷 -> 예시 코드\n",
        "<img src=\"https://blog.kakaocdn.net/dn/dhrxxJ/btrwrImPw5i/Ftb6hEgSxS0Na9pLizWfaK/img.png\"></img>"
      ],
      "id": "5lZkazxqCPil"
    },
    {
      "cell_type": "markdown",
      "metadata": {
        "id": "zvCpDphiCPim"
      },
      "source": [
        "### 파라미터 설명\n",
        "####alpha : {float, ndarray of shape (n_targets,)}, default=1.0\n",
        "* Regularization strength; must be a positive float. Regularization improves the conditioning of the problem and reduces the variance of the estimates. Larger values specify stronger regularization. Alpha corresponds to 1 / (2C) in other linear models such as LogisticRegression or LinearSVC. If an array is passed, penalties are assumed to be specific to the targets. Hence they must correspond in number.\n",
        "\n",
        "####fit_intercept : bool, default=True\n",
        "* Whether to fit the intercept for this model. If set to false, no intercept will be used in calculations (i.e. X and y are expected to be centered).\n",
        "\n",
        "####normalize : bool, default=False\n",
        "* This parameter is ignored when fit_intercept is set to False. If True, the regressors X will be normalized before regression by subtracting the mean and dividing by the l2-norm. If you wish to standardize, please use StandardScaler before calling fit on an estimator with normalize=False.\n",
        "\n",
        "####copy_X : bool, default=True\n",
        "* If True, X will be copied; else, it may be overwritten.\n",
        "\n",
        "####max_iter : int, default=None\n",
        "* Maximum number of iterations for conjugate gradient solver. For ‘sparse_cg’ and ‘lsqr’ solvers, the default value is determined by scipy.sparse.linalg. For ‘sag’ solver, the default value is 1000. For ‘lbfgs’ solver, the default value is 15000.\n",
        "\n",
        "####tol : float, default=1e-3\n",
        "* Precision of the solution.\n",
        "\n",
        "#### solver : {‘auto’, ‘svd’, ‘cholesky’, ‘lsqr’, ‘sparse_cg’, ‘sag’, ‘saga’, ‘lbfgs’}, default=’auto’\n",
        "* Solver to use in the computational routines:\n",
        "\n",
        "* ‘auto’ chooses the solver automatically based on the type of data.\n",
        "\n",
        "* ‘svd’ uses a Singular Value Decomposition of X to compute the Ridge coefficients. More stable for singular matrices than ‘cholesky’.\n",
        "\n",
        "* ‘cholesky’ uses the standard scipy.linalg.solve function to obtain a closed-form solution.\n",
        "\n",
        "* ‘sparse_cg’ uses the conjugate gradient solver as found in scipy.sparse.linalg.cg. As an iterative algorithm, this solver is more appropriate than ‘cholesky’ for large-scale data (possibility to set tol and max_iter).\n",
        "\n",
        "* ‘lsqr’ uses the dedicated regularized least-squares routine scipy.sparse.linalg.lsqr. It is the fastest and uses an iterative procedure.\n",
        "\n",
        "* ‘sag’ uses a Stochastic Average Gradient descent, and ‘saga’ uses its improved, unbiased version named SAGA. Both methods also use an iterative procedure, and are often faster than other solvers when both n_samples and n_features are large. Note that ‘sag’ and ‘saga’ fast convergence is only guaranteed on features with approximately the same scale. You can preprocess the data with a scaler from sklearn.preprocessing.\n",
        "\n",
        "* ‘lbfgs’ uses L-BFGS-B algorithm implemented in scipy.optimize.minimize. It can be used only when positive is True.\n",
        "\n",
        "* All last six solvers support both dense and sparse data. However, only ‘sag’, ‘sparse_cg’, and ‘lbfgs’ support sparse input when fit_intercept is True.\n",
        "\n",
        "####positive : bool, default=False\n",
        "* When set to True, forces the coefficients to be positive. Only ‘lbfgs’ solver is supported in this case.\n",
        "\n",
        "####random_state : int, RandomState instance, default=None\n",
        "* Used when solver == ‘sag’ or ‘saga’ to shuffle the data. See Glossary for details.\n"
      ],
      "id": "zvCpDphiCPim"
    },
    {
      "cell_type": "markdown",
      "metadata": {
        "id": "2LL4B7zVCPim"
      },
      "source": [
        "### 예시코드(활용 예시)"
      ],
      "id": "2LL4B7zVCPim"
    },
    {
      "cell_type": "markdown",
      "metadata": {
        "id": "3I6uS8hRCwIC"
      },
      "source": [
        "## 2-4. Lasso regression <라쏘회귀 - 규제>\n",
        "ref : https://scikit-learn.org/stable/modules/generated/sklearn.linear_model.Lasso.html?highlight=lasso#sklearn.linear_model.Lasso"
      ],
      "id": "3I6uS8hRCwIC"
    },
    {
      "cell_type": "markdown",
      "metadata": {
        "id": "FiI2VdOmCwIC"
      },
      "source": [
        "### API 스샷 -> 예시 코드\n",
        "<img src=\"https://blog.kakaocdn.net/dn/bTRYDW/btrwonqpM2O/8DJlYEpwe1jEcfRNkOc2c1/img.png\"></img>\n"
      ],
      "id": "FiI2VdOmCwIC"
    },
    {
      "cell_type": "markdown",
      "metadata": {
        "id": "i6Nka7OqCwID"
      },
      "source": [
        "### 파라미터 설명\n",
        "#### alpha : float, default=1.0\n",
        "* Constant that multiplies the L1 term. Defaults to 1.0. alpha = 0 is equivalent to an ordinary least square, solved by the LinearRegression object. For numerical reasons, using alpha = 0 with the Lasso object is not advised. Given this, you should use the LinearRegression object.\n",
        "\n",
        "#### fit_intercept : bool, default=True\n",
        "* Whether to calculate the intercept for this model. If set to False, no intercept will be used in calculations (i.e. data is expected to be centered).\n",
        "\n",
        "####normalize : bool, default=False\n",
        "* This parameter is ignored when fit_intercept is set to False. If True, the regressors X will be normalized before regression by subtracting the mean and dividing by the l2-norm. If you wish to standardize, please use StandardScaler before calling fit on an estimator with normalize=False.\n",
        "\n",
        "* precomputebool or array-like of shape (n_features, n_features), default=False\n",
        "Whether to use a precomputed Gram matrix to speed up calculations. The Gram matrix can also be passed as argument. For sparse input this option is always False to preserve sparsity.\n",
        "\n",
        "####copy_X : bool, default=True\n",
        "* If True, X will be copied; else, it may be overwritten.\n",
        "\n",
        "####max_iter : int, default=1000\n",
        "* The maximum number of iterations.\n",
        "\n",
        "####tol : float, default=1e-4\n",
        "* The tolerance for the optimization: if the updates are smaller than tol, the optimization code checks the dual gap for optimality and continues until it is smaller than tol.\n",
        "\n",
        "####warm_start : bool, default=False\n",
        "* When set to True, reuse the solution of the previous call to fit as initialization, otherwise, just erase the previous solution. See the Glossary.\n",
        "\n",
        "####positive : bool, default=False\n",
        "* When set to True, forces the coefficients to be positive.\n",
        "\n",
        "####random_state : int, RandomState instance, default=None\n",
        "* The seed of the pseudo random number generator that selects a random feature to update. Used when selection == ‘random’. Pass an int for reproducible output across multiple function calls. See Glossary.\n",
        "\n",
        "####selection : {‘cyclic’, ‘random’}, default=’cyclic’\n",
        "* If set to ‘random’, a random coefficient is updated every iteration rather than looping over features sequentially by default. This (setting to ‘random’) often leads to significantly faster convergence especially when tol is higher than 1e-4."
      ],
      "id": "i6Nka7OqCwID"
    },
    {
      "cell_type": "markdown",
      "metadata": {
        "id": "AKy3CZ6HCwIE"
      },
      "source": [
        "### 예시코드(활용 예시)"
      ],
      "id": "AKy3CZ6HCwIE"
    },
    {
      "cell_type": "markdown",
      "metadata": {
        "id": "BreussLOC8rb"
      },
      "source": [
        "## 2-5. Elastic-net <엘라스틱 넷 - 규제>\n",
        "ref : https://scikit-learn.org/stable/modules/generated/sklearn.ensemble.RandomForestRegressor.html?highlight=random%20forest#sklearn.ensemble.RandomForestRegressor"
      ],
      "id": "BreussLOC8rb"
    },
    {
      "cell_type": "markdown",
      "metadata": {
        "id": "OOJGKPNMC8rc"
      },
      "source": [
        "### API 스샷 -> 예시 코드\n",
        "<img src=\"https://blog.kakaocdn.net/dn/cGSxOt/btrwmqOqsEP/l5uuo8qCJ5mpARl24KOpx0/img.png\"></img>"
      ],
      "id": "OOJGKPNMC8rc"
    },
    {
      "cell_type": "markdown",
      "metadata": {
        "id": "iwS42O8UC8rd"
      },
      "source": [
        "### 파라미터 설명\n",
        "####alpha : float, default=1.0\n",
        "* Constant that multiplies the penalty terms. Defaults to 1.0. See the notes for the exact mathematical meaning of this parameter. alpha = 0 is equivalent to an ordinary least square, solved by the LinearRegression object. For numerical reasons, using alpha = 0 with the Lasso object is not advised. Given this, you should use the LinearRegression object.\n",
        "\n",
        "####l1_ratio : float, default=0.5\n",
        "* The ElasticNet mixing parameter, with 0 <= l1_ratio <= 1. For l1_ratio = 0 the penalty is an L2 penalty. For l1_ratio = 1 it is an L1 penalty. For 0 < l1_ratio < 1, the penalty is a combination of L1 and L2.\n",
        "\n",
        "####fit_intercept : bool, default=True\n",
        "* Whether the intercept should be estimated or not. If False, the data is assumed to be already centered.\n",
        "\n",
        "####normalize : bool, default=False\n",
        "* This parameter is ignored when fit_intercept is set to False. If True, the regressors X will be normalized before regression by subtracting the mean and dividing by the l2-norm. If you wish to standardize, please use StandardScaler before calling fit on an estimator with normalize=False.\n",
        "\n",
        "####precompute : bool or array-like of shape (n_features, n_features), default=False\n",
        "* Whether to use a precomputed Gram matrix to speed up calculations. The Gram matrix can also be passed as argument. For sparse input this option is always False to preserve sparsity.\n",
        "\n",
        "####max_iter : int, default=1000\n",
        "* The maximum number of iterations.\n",
        "\n",
        "####copy_X : bool, default=True\n",
        "* If True, X will be copied; else, it may be overwritten.\n",
        "\n",
        "####tol : float, default=1e-4\n",
        "* The tolerance for the optimization: if the updates are smaller than tol, the optimization code checks the dual gap for optimality and continues until it is smaller than tol.\n",
        "\n",
        "####warm_start : bool, default=False\n",
        "* When set to True, reuse the solution of the previous call to fit as initialization, otherwise, just erase the previous solution. See the Glossary.\n",
        "\n",
        "####positive : bool, default=False\n",
        "* When set to True, forces the coefficients to be positive.\n",
        "\n",
        "####random_state : int, RandomState instance, default=None\n",
        "* The seed of the pseudo random number generator that selects a random feature to update. Used when selection == ‘random’. Pass an int for reproducible output across multiple function calls. See Glossary.\n",
        "\n",
        "####selection : {‘cyclic’, ‘random’}, default=’cyclic’\n",
        "* f set to ‘random’, a random coefficient is updated every iteration rather than looping over features sequentially by default. This (setting to ‘random’) often leads to significantly faster convergence especially when tol is higher than 1e-4."
      ],
      "id": "iwS42O8UC8rd"
    },
    {
      "cell_type": "markdown",
      "metadata": {
        "id": "0BgJOmy7C8re"
      },
      "source": [
        "### 예시코드(활용 예시)"
      ],
      "id": "0BgJOmy7C8re"
    },
    {
      "cell_type": "markdown",
      "metadata": {
        "id": "0P91hROuDHBE"
      },
      "source": [
        "## 2-6. Random Forest regression <랜덤포레스트 회귀 - 회귀트리>\n",
        "ref : https://scikit-learn.org/stable/modules/generated/sklearn.ensemble.RandomForestRegressor.html?highlight=random%20forest#sklearn.ensemble.RandomForestRegressor"
      ],
      "id": "0P91hROuDHBE"
    },
    {
      "cell_type": "markdown",
      "metadata": {
        "id": "Da4PbYbfDHBF"
      },
      "source": [
        "### API 스샷 -> 예시 코드\n",
        "<img src=\"https://blog.kakaocdn.net/dn/VXFl7/btrwptKJXN7/qL2xJqZRlyLuIXEQlKIMK0/img.png\"></img>"
      ],
      "id": "Da4PbYbfDHBF"
    },
    {
      "cell_type": "markdown",
      "metadata": {
        "id": "pyc9SQZ4DHBG"
      },
      "source": [
        "### 파라미터 설명"
      ],
      "id": "pyc9SQZ4DHBG"
    },
    {
      "cell_type": "markdown",
      "metadata": {
        "id": "fQhcFEHMDHBG"
      },
      "source": [
        "### 예시코드(활용 예시)"
      ],
      "id": "fQhcFEHMDHBG"
    },
    {
      "cell_type": "markdown",
      "metadata": {
        "id": "JaKdE5F2DHTy"
      },
      "source": [
        "## 2-7. Extreme Gradient Boosting regression <XGB - 회귀트리>\n",
        "ref: https://xgboost.readthedocs.io/en/stable/python/python_api.html#module-xgboost.sklearn"
      ],
      "id": "JaKdE5F2DHTy"
    },
    {
      "cell_type": "markdown",
      "metadata": {
        "id": "qqGHfN4kDHTy"
      },
      "source": [
        "### API 스샷 -> 예시 코드"
      ],
      "id": "qqGHfN4kDHTy"
    },
    {
      "cell_type": "markdown",
      "metadata": {
        "id": "llQSTstzDHTy"
      },
      "source": [
        "### 파라미터 설명"
      ],
      "id": "llQSTstzDHTy"
    },
    {
      "cell_type": "markdown",
      "metadata": {
        "id": "kdMiDuzjDHTz"
      },
      "source": [
        "### 예시코드(활용 예시)"
      ],
      "id": "kdMiDuzjDHTz"
    },
    {
      "cell_type": "markdown",
      "metadata": {
        "id": "z-fuv5sODHhQ"
      },
      "source": [
        "## 2-8. Light Gradient Boosting regression <LGBM - 회귀트리>"
      ],
      "id": "z-fuv5sODHhQ"
    },
    {
      "cell_type": "markdown",
      "metadata": {
        "id": "g2HjN23NDHhR"
      },
      "source": [
        "### API 스샷 -> 예시 코드"
      ],
      "id": "g2HjN23NDHhR"
    },
    {
      "cell_type": "markdown",
      "metadata": {
        "id": "JGdeajvNDHhR"
      },
      "source": [
        "### 파라미터 설명"
      ],
      "id": "JGdeajvNDHhR"
    },
    {
      "cell_type": "markdown",
      "metadata": {
        "id": "txWtoAd6DHhS"
      },
      "source": [
        "### 예시코드(활용 예시)"
      ],
      "id": "txWtoAd6DHhS"
    },
    {
      "cell_type": "markdown",
      "metadata": {
        "id": "YLIvqu85GY1w"
      },
      "source": [
        "## 2-9. Catboost regression <Catboost - 회귀트리>"
      ],
      "id": "YLIvqu85GY1w"
    },
    {
      "cell_type": "markdown",
      "metadata": {
        "id": "1ErBNw45GY1x"
      },
      "source": [
        "### API 스샷 -> 예시 코드"
      ],
      "id": "1ErBNw45GY1x"
    },
    {
      "cell_type": "markdown",
      "metadata": {
        "id": "UFwW602xGY1y"
      },
      "source": [
        "### 파라미터 설명"
      ],
      "id": "UFwW602xGY1y"
    },
    {
      "cell_type": "markdown",
      "metadata": {
        "id": "QkelXp1RGY1y"
      },
      "source": [
        "### 예시코드(활용 예시)"
      ],
      "id": "QkelXp1RGY1y"
    },
    {
      "cell_type": "markdown",
      "source": [
        "# 3. pycaret을 통한 모델 성능비교\n",
        "* 데이터의 유형 혹은 파생변수에 따라서 모델의 성능이 다르다.\n",
        "* pycaret의 AUTO ML을 통해 빠르게 여러 모델의 성능을 확인할 수 있다.\n",
        "* pycaret을 통해 모델을 선정하고, 파라미터 튜닝 혹은 앙상블하여 유의미하게 활용할 수 있다.\n",
        "* pycaret은 모델 성능 참고용으로 활용하고 튜닝, 앙상블은 사람이 직접하는 것이 좋다 (튜닝의 경우 pycaret보다 optuna 성능이 뛰어남) "
      ],
      "metadata": {
        "id": "uSD7BkOpFIrB"
      },
      "id": "uSD7BkOpFIrB"
    },
    {
      "cell_type": "markdown",
      "id": "4454f0a0-6a60-457d-945d-e94f11b341f1",
      "metadata": {
        "id": "4454f0a0-6a60-457d-945d-e94f11b341f1"
      },
      "source": [
        "# 4. 회귀모델 `import` 모음\n"
      ]
    }
  ],
  "metadata": {
    "kernelspec": {
      "display_name": "Python 3 (ipykernel)",
      "language": "python",
      "name": "python3"
    },
    "language_info": {
      "codemirror_mode": {
        "name": "ipython",
        "version": 3
      },
      "file_extension": ".py",
      "mimetype": "text/x-python",
      "name": "python",
      "nbconvert_exporter": "python",
      "pygments_lexer": "ipython3",
      "version": "3.8.8"
    },
    "colab": {
      "name": "회귀분석_최상현.ipynb",
      "provenance": [],
      "collapsed_sections": [],
      "toc_visible": true,
      "include_colab_link": true
    }
  },
  "nbformat": 4,
  "nbformat_minor": 5
}