{
  "cells": [
    {
      "cell_type": "markdown",
      "metadata": {
        "id": "view-in-github",
        "colab_type": "text"
      },
      "source": [
        "<a href=\"https://colab.research.google.com/github/choisangh/STUDY/blob/main/ML/%ED%9A%8C%EA%B7%80%EB%B6%84%EC%84%9D.ipynb\" target=\"_parent\"><img src=\"https://colab.research.google.com/assets/colab-badge.svg\" alt=\"Open In Colab\"/></a>"
      ]
    },
    {
      "cell_type": "markdown",
      "id": "58381f8d-6b55-40eb-98c2-53834023a382",
      "metadata": {
        "id": "58381f8d-6b55-40eb-98c2-53834023a382"
      },
      "source": [
        "# 1. 회귀분석 개념\n",
        "ref : https://movefast.tistory.com/302\n",
        "* 예제 코드 사용 데이터셋: 보스턴 주택 가격  "
      ]
    },
    {
      "cell_type": "code",
      "source": [
        "import numpy as np\n",
        "import matplotlib.pyplot as plt\n",
        "import pandas as pd\n",
        "import seaborn as sns\n",
        "from scipy import stats\n",
        "from sklearn.datasets import load_boston\n",
        "import warnings\n",
        "warnings.filterwarnings(action='ignore')"
      ],
      "metadata": {
        "id": "oVlFkdLS31gw"
      },
      "id": "oVlFkdLS31gw",
      "execution_count": null,
      "outputs": []
    },
    {
      "cell_type": "code",
      "source": [
        "# boston 데이터 세트 로드\n",
        "boston = load_boston()\n",
        "bostonDF = pd.DataFrame(boston.data,columns=boston.feature_names)\n",
        "bostonDF['PRICE'] = boston.target\n",
        "bostonDF.head()"
      ],
      "metadata": {
        "colab": {
          "base_uri": "https://localhost:8080/",
          "height": 270
        },
        "id": "vge_2XXU4EmL",
        "outputId": "36801242-3d12-47ae-856a-4bdb511dc165"
      },
      "id": "vge_2XXU4EmL",
      "execution_count": null,
      "outputs": [
        {
          "output_type": "execute_result",
          "data": {
            "text/plain": [
              "      CRIM    ZN  INDUS  CHAS    NOX     RM   AGE     DIS  RAD    TAX  \\\n",
              "0  0.00632  18.0   2.31   0.0  0.538  6.575  65.2  4.0900  1.0  296.0   \n",
              "1  0.02731   0.0   7.07   0.0  0.469  6.421  78.9  4.9671  2.0  242.0   \n",
              "2  0.02729   0.0   7.07   0.0  0.469  7.185  61.1  4.9671  2.0  242.0   \n",
              "3  0.03237   0.0   2.18   0.0  0.458  6.998  45.8  6.0622  3.0  222.0   \n",
              "4  0.06905   0.0   2.18   0.0  0.458  7.147  54.2  6.0622  3.0  222.0   \n",
              "\n",
              "   PTRATIO       B  LSTAT  PRICE  \n",
              "0     15.3  396.90   4.98   24.0  \n",
              "1     17.8  396.90   9.14   21.6  \n",
              "2     17.8  392.83   4.03   34.7  \n",
              "3     18.7  394.63   2.94   33.4  \n",
              "4     18.7  396.90   5.33   36.2  "
            ],
            "text/html": [
              "\n",
              "  <div id=\"df-b2a5997c-fa3e-435d-ad16-ea5cdd8b682b\">\n",
              "    <div class=\"colab-df-container\">\n",
              "      <div>\n",
              "<style scoped>\n",
              "    .dataframe tbody tr th:only-of-type {\n",
              "        vertical-align: middle;\n",
              "    }\n",
              "\n",
              "    .dataframe tbody tr th {\n",
              "        vertical-align: top;\n",
              "    }\n",
              "\n",
              "    .dataframe thead th {\n",
              "        text-align: right;\n",
              "    }\n",
              "</style>\n",
              "<table border=\"1\" class=\"dataframe\">\n",
              "  <thead>\n",
              "    <tr style=\"text-align: right;\">\n",
              "      <th></th>\n",
              "      <th>CRIM</th>\n",
              "      <th>ZN</th>\n",
              "      <th>INDUS</th>\n",
              "      <th>CHAS</th>\n",
              "      <th>NOX</th>\n",
              "      <th>RM</th>\n",
              "      <th>AGE</th>\n",
              "      <th>DIS</th>\n",
              "      <th>RAD</th>\n",
              "      <th>TAX</th>\n",
              "      <th>PTRATIO</th>\n",
              "      <th>B</th>\n",
              "      <th>LSTAT</th>\n",
              "      <th>PRICE</th>\n",
              "    </tr>\n",
              "  </thead>\n",
              "  <tbody>\n",
              "    <tr>\n",
              "      <th>0</th>\n",
              "      <td>0.00632</td>\n",
              "      <td>18.0</td>\n",
              "      <td>2.31</td>\n",
              "      <td>0.0</td>\n",
              "      <td>0.538</td>\n",
              "      <td>6.575</td>\n",
              "      <td>65.2</td>\n",
              "      <td>4.0900</td>\n",
              "      <td>1.0</td>\n",
              "      <td>296.0</td>\n",
              "      <td>15.3</td>\n",
              "      <td>396.90</td>\n",
              "      <td>4.98</td>\n",
              "      <td>24.0</td>\n",
              "    </tr>\n",
              "    <tr>\n",
              "      <th>1</th>\n",
              "      <td>0.02731</td>\n",
              "      <td>0.0</td>\n",
              "      <td>7.07</td>\n",
              "      <td>0.0</td>\n",
              "      <td>0.469</td>\n",
              "      <td>6.421</td>\n",
              "      <td>78.9</td>\n",
              "      <td>4.9671</td>\n",
              "      <td>2.0</td>\n",
              "      <td>242.0</td>\n",
              "      <td>17.8</td>\n",
              "      <td>396.90</td>\n",
              "      <td>9.14</td>\n",
              "      <td>21.6</td>\n",
              "    </tr>\n",
              "    <tr>\n",
              "      <th>2</th>\n",
              "      <td>0.02729</td>\n",
              "      <td>0.0</td>\n",
              "      <td>7.07</td>\n",
              "      <td>0.0</td>\n",
              "      <td>0.469</td>\n",
              "      <td>7.185</td>\n",
              "      <td>61.1</td>\n",
              "      <td>4.9671</td>\n",
              "      <td>2.0</td>\n",
              "      <td>242.0</td>\n",
              "      <td>17.8</td>\n",
              "      <td>392.83</td>\n",
              "      <td>4.03</td>\n",
              "      <td>34.7</td>\n",
              "    </tr>\n",
              "    <tr>\n",
              "      <th>3</th>\n",
              "      <td>0.03237</td>\n",
              "      <td>0.0</td>\n",
              "      <td>2.18</td>\n",
              "      <td>0.0</td>\n",
              "      <td>0.458</td>\n",
              "      <td>6.998</td>\n",
              "      <td>45.8</td>\n",
              "      <td>6.0622</td>\n",
              "      <td>3.0</td>\n",
              "      <td>222.0</td>\n",
              "      <td>18.7</td>\n",
              "      <td>394.63</td>\n",
              "      <td>2.94</td>\n",
              "      <td>33.4</td>\n",
              "    </tr>\n",
              "    <tr>\n",
              "      <th>4</th>\n",
              "      <td>0.06905</td>\n",
              "      <td>0.0</td>\n",
              "      <td>2.18</td>\n",
              "      <td>0.0</td>\n",
              "      <td>0.458</td>\n",
              "      <td>7.147</td>\n",
              "      <td>54.2</td>\n",
              "      <td>6.0622</td>\n",
              "      <td>3.0</td>\n",
              "      <td>222.0</td>\n",
              "      <td>18.7</td>\n",
              "      <td>396.90</td>\n",
              "      <td>5.33</td>\n",
              "      <td>36.2</td>\n",
              "    </tr>\n",
              "  </tbody>\n",
              "</table>\n",
              "</div>\n",
              "      <button class=\"colab-df-convert\" onclick=\"convertToInteractive('df-b2a5997c-fa3e-435d-ad16-ea5cdd8b682b')\"\n",
              "              title=\"Convert this dataframe to an interactive table.\"\n",
              "              style=\"display:none;\">\n",
              "        \n",
              "  <svg xmlns=\"http://www.w3.org/2000/svg\" height=\"24px\"viewBox=\"0 0 24 24\"\n",
              "       width=\"24px\">\n",
              "    <path d=\"M0 0h24v24H0V0z\" fill=\"none\"/>\n",
              "    <path d=\"M18.56 5.44l.94 2.06.94-2.06 2.06-.94-2.06-.94-.94-2.06-.94 2.06-2.06.94zm-11 1L8.5 8.5l.94-2.06 2.06-.94-2.06-.94L8.5 2.5l-.94 2.06-2.06.94zm10 10l.94 2.06.94-2.06 2.06-.94-2.06-.94-.94-2.06-.94 2.06-2.06.94z\"/><path d=\"M17.41 7.96l-1.37-1.37c-.4-.4-.92-.59-1.43-.59-.52 0-1.04.2-1.43.59L10.3 9.45l-7.72 7.72c-.78.78-.78 2.05 0 2.83L4 21.41c.39.39.9.59 1.41.59.51 0 1.02-.2 1.41-.59l7.78-7.78 2.81-2.81c.8-.78.8-2.07 0-2.86zM5.41 20L4 18.59l7.72-7.72 1.47 1.35L5.41 20z\"/>\n",
              "  </svg>\n",
              "      </button>\n",
              "      \n",
              "  <style>\n",
              "    .colab-df-container {\n",
              "      display:flex;\n",
              "      flex-wrap:wrap;\n",
              "      gap: 12px;\n",
              "    }\n",
              "\n",
              "    .colab-df-convert {\n",
              "      background-color: #E8F0FE;\n",
              "      border: none;\n",
              "      border-radius: 50%;\n",
              "      cursor: pointer;\n",
              "      display: none;\n",
              "      fill: #1967D2;\n",
              "      height: 32px;\n",
              "      padding: 0 0 0 0;\n",
              "      width: 32px;\n",
              "    }\n",
              "\n",
              "    .colab-df-convert:hover {\n",
              "      background-color: #E2EBFA;\n",
              "      box-shadow: 0px 1px 2px rgba(60, 64, 67, 0.3), 0px 1px 3px 1px rgba(60, 64, 67, 0.15);\n",
              "      fill: #174EA6;\n",
              "    }\n",
              "\n",
              "    [theme=dark] .colab-df-convert {\n",
              "      background-color: #3B4455;\n",
              "      fill: #D2E3FC;\n",
              "    }\n",
              "\n",
              "    [theme=dark] .colab-df-convert:hover {\n",
              "      background-color: #434B5C;\n",
              "      box-shadow: 0px 1px 3px 1px rgba(0, 0, 0, 0.15);\n",
              "      filter: drop-shadow(0px 1px 2px rgba(0, 0, 0, 0.3));\n",
              "      fill: #FFFFFF;\n",
              "    }\n",
              "  </style>\n",
              "\n",
              "      <script>\n",
              "        const buttonEl =\n",
              "          document.querySelector('#df-b2a5997c-fa3e-435d-ad16-ea5cdd8b682b button.colab-df-convert');\n",
              "        buttonEl.style.display =\n",
              "          google.colab.kernel.accessAllowed ? 'block' : 'none';\n",
              "\n",
              "        async function convertToInteractive(key) {\n",
              "          const element = document.querySelector('#df-b2a5997c-fa3e-435d-ad16-ea5cdd8b682b');\n",
              "          const dataTable =\n",
              "            await google.colab.kernel.invokeFunction('convertToInteractive',\n",
              "                                                     [key], {});\n",
              "          if (!dataTable) return;\n",
              "\n",
              "          const docLinkHtml = 'Like what you see? Visit the ' +\n",
              "            '<a target=\"_blank\" href=https://colab.research.google.com/notebooks/data_table.ipynb>data table notebook</a>'\n",
              "            + ' to learn more about interactive tables.';\n",
              "          element.innerHTML = '';\n",
              "          dataTable['output_type'] = 'display_data';\n",
              "          await google.colab.output.renderOutput(dataTable, element);\n",
              "          const docLink = document.createElement('div');\n",
              "          docLink.innerHTML = docLinkHtml;\n",
              "          element.appendChild(docLink);\n",
              "        }\n",
              "      </script>\n",
              "    </div>\n",
              "  </div>\n",
              "  "
            ]
          },
          "metadata": {},
          "execution_count": 45
        }
      ]
    },
    {
      "cell_type": "markdown",
      "id": "c40032df-1f30-480c-9390-559486c966dd",
      "metadata": {
        "id": "c40032df-1f30-480c-9390-559486c966dd"
      },
      "source": [
        "## 1-1. 선형 회귀\n",
        "ref : https://steadiness-193.tistory.com/270?category=964168"
      ]
    },
    {
      "cell_type": "markdown",
      "source": [
        "### 개념\n",
        "* 데이터를 가장 잘 설명해내는 직선을 찾아내는 것.\n",
        "\n",
        "* 데이터가 분포되어 있는 공간에서 데이터를 가장 잘 표현하는 선을 긋는 것.\n",
        "\n",
        "* 가장 적합간 기울기(가중치, 계수)와 y절편(편향)을 찾아내는 것."
      ],
      "metadata": {
        "id": "eje1ZGI0km0b"
      },
      "id": "eje1ZGI0km0b"
    },
    {
      "cell_type": "markdown",
      "source": [
        "<img src=\"https://blog.kakaocdn.net/dn/bzUpsr/btrwsImIFBK/MMed37olMaXCd3Kq44R790/img.png\">"
      ],
      "metadata": {
        "id": "f7bKazCSll35"
      },
      "id": "f7bKazCSll35"
    },
    {
      "cell_type": "markdown",
      "source": [
        "### 다중 선형 회귀\n",
        "보통 데이터셋은 2개 이상의 feature를 갖고 있기 때문에 단순 선형회귀에 대한 개념은 생략한다.\n",
        "* <img src=\"https://img1.daumcdn.net/thumb/R1280x0/?scode=mtistory2&fname=https%3A%2F%2Fblog.kakaocdn.net%2Fdn%2FbJ2rte%2FbtqIH5K33oO%2FwWhfciZDSQJPSYVSoth0O1%2Fimg.png\"></img>\n",
        "* ŷ : 예측값\n",
        "* x : 독립변수, 특성으로 부르지만 여기선 특성(feature)으로 통일한다.\n",
        "* w : 기울기 또는 회귀계수(coefficient) 또는 가중치. \n",
        "* b : y절편 또는 편향.\n",
        "\n",
        "위 식에서 특성은 총 n+1개이므로 가중치도 n+1개가 필요하다.\n",
        "주어진 여러 개의 샘플들의 n+1개의 특성들과 라벨값(y) 사이의 관계를 잘 설명해내는 적합한 가중치들 (w0, w1, ..., wn)과 편향(b)를 찾아내야 한다.\n",
        "\n",
        "회귀모델은 실제 라벨 값 y와 예측 값 ŷ의 차이인 잔차를 제곱한 평균인 MSE를 통해 가중치와 편향을 찾는다."
      ],
      "metadata": {
        "id": "CyC5m14tly7n"
      },
      "id": "CyC5m14tly7n"
    },
    {
      "cell_type": "code",
      "source": [
        "#선형 회귀 그래프\n",
        "from sklearn.linear_model import LinearRegression\n",
        "n = 100\n",
        "x = 6 * np.random.rand(n, 1) - 3\n",
        "y = 0.5 * x**2 + x + 2 + np.random.rand(n, 1)\n",
        "lr=LinearRegression()\n",
        "lr.fit(x, y)\n",
        "y_preds=lr.predict(x)\n",
        "plt.plot(x, y_preds)\n",
        "plt.scatter(x, y, s=5)"
      ],
      "metadata": {
        "colab": {
          "base_uri": "https://localhost:8080/",
          "height": 283
        },
        "id": "du_0KFFaenBf",
        "outputId": "bdec2c8c-b58b-42bc-d2f7-c8b54ebcbfda"
      },
      "id": "du_0KFFaenBf",
      "execution_count": null,
      "outputs": [
        {
          "output_type": "execute_result",
          "data": {
            "text/plain": [
              "<matplotlib.collections.PathCollection at 0x7ffa3a62ad10>"
            ]
          },
          "metadata": {},
          "execution_count": 77
        },
        {
          "output_type": "display_data",
          "data": {
            "text/plain": [
              "<Figure size 432x288 with 1 Axes>"
            ],
            "image/png": "[encoded data removed]"
          },
          "metadata": {}
        }
      ]
    },
    {
      "cell_type": "markdown",
      "source": [
        "* 최적화된 선형 회귀 모델은 위와 같은 데이터 분포에서 Target의 예측값과 실제값 잔차가 가장 적은 직선을 그린 것이다."
      ],
      "metadata": {
        "id": "rXqFu2Due2lU"
      },
      "id": "rXqFu2Due2lU"
    },
    {
      "cell_type": "markdown",
      "source": [
        "<img src=\"https://img1.daumcdn.net/thumb/R1280x0/?scode=mtistory2&fname=https%3A%2F%2Fblog.kakaocdn.net%2Fdn%2FwCvOz%2FbtqIwEn8dmC%2FUUIjZBCxnRY2y2O8qeWGNK%2Fimg.png\"></img><br>\n",
        "잔차의 이해를 돕기 위해 단순선형회귀그래프를 이용함\n",
        "<br>\n",
        "<img src=\"https://img1.daumcdn.net/thumb/R1280x0/?scode=mtistory2&fname=https%3A%2F%2Fblog.kakaocdn.net%2Fdn%2FbmrTSs%2FbtqIwYG336g%2FMEbqLRKXv20sciZglC4KU0%2Fimg.png\"></img><br>\n",
        "위 상황에서 MSE의 값은 0.4"
      ],
      "metadata": {
        "id": "4bQf8-6omapf"
      },
      "id": "4bQf8-6omapf"
    },
    {
      "cell_type": "markdown",
      "id": "d0ead318-5642-4459-93b9-087846440976",
      "metadata": {
        "id": "d0ead318-5642-4459-93b9-087846440976"
      },
      "source": [
        "## 1-2. 다항 회귀\n",
        "ref : https://inuplace.tistory.com/515"
      ]
    },
    {
      "cell_type": "markdown",
      "source": [
        "### 개념"
      ],
      "metadata": {
        "id": "owvuIsWSd4-W"
      },
      "id": "owvuIsWSd4-W"
    },
    {
      "cell_type": "markdown",
      "source": [
        "* 항이 여러 개인 가설 함수(ex. y=w1*x²+b)로 결과를 예측하는 회귀 분석 방법이다.\n",
        "\n",
        "* 항은 제곱근이나 2차항, 3차항 등 다양하게 있으며 함수의 형태가 비선형이라는 특징이 있다.\n",
        "\n",
        "* 다항 회귀를 활용하는 한 가지 방법은 서로 다른 두 Feature 를 하나의 feature로 만들어서 해당 feature를 입력으로 2차 이상의 함수를 예측하는 것이다.\n",
        "\n",
        "    - 예를 들어, 부동산에서 집값 예측 시 땅의 가로/세로 길이가 주어졌을 때 면적(=가로*세로)으로 만들어서 면적에 따른 결과를 예측하기\n",
        "\n",
        "    - 새 feature 에 대해 그래프를 그렸을 때 데이터를 잘 표현하는 비선형 함수를 찾아야 한다.\n",
        "\n",
        "    - 새 feature 에 대해서도 feature scaling 을 적절히 해주어야 한다. 특히, 실수의 곱이나 범위가 큰 두 feature의 곱은 너무 0에 가깝거나 너무 큰 수가 되버릴 수 있다.\n",
        "\n",
        "* 보통 2차함수는 중간에 하강하므로 3차(cubic) 함수부터 아니면 단조증가하는 제곱근이나 로그 함수를 많이 쓴다."
      ],
      "metadata": {
        "id": "JJB6Z0F0Trmm"
      },
      "id": "JJB6Z0F0Trmm"
    },
    {
      "cell_type": "markdown",
      "source": [
        "<img width=\"500\" src=\"https://img1.daumcdn.net/thumb/R1280x0/?scode=mtistory2&fname=https%3A%2F%2Fblog.kakaocdn.net%2Fdn%2FI5kYW%2FbtqWjq4CRxM%2FNnMnMm35qhqESp6HGQ7Of0%2Fimg.png\"></img>"
      ],
      "metadata": {
        "id": "CADyViXKUKHw"
      },
      "id": "CADyViXKUKHw"
    },
    {
      "cell_type": "code",
      "source": [
        "from sklearn.preprocessing import PolynomialFeatures\n",
        "from sklearn.linear_model import LinearRegression\n",
        "from sklearn.pipeline import make_pipeline   \n",
        "import numpy as np\n",
        "import matplotlib.pyplot as plt\n",
        "%matplotlib inline"
      ],
      "metadata": {
        "id": "X0bwKSOoU4LI"
      },
      "id": "X0bwKSOoU4LI",
      "execution_count": null,
      "outputs": []
    },
    {
      "cell_type": "code",
      "source": [
        "n = 100\n",
        "\n",
        "x = 6 * np.random.rand(n, 1) - 3\n",
        "y = 0.5 * x**2 + x + 2 + np.random.rand(n, 1)\n",
        "\n",
        "plt.scatter(x, y, s=5)"
      ],
      "metadata": {
        "colab": {
          "base_uri": "https://localhost:8080/",
          "height": 283
        },
        "id": "i9dN51WwQ_qG",
        "outputId": "81739ad3-0a22-4d81-cdfc-aca66de6b933"
      },
      "id": "i9dN51WwQ_qG",
      "execution_count": null,
      "outputs": [
        {
          "output_type": "execute_result",
          "data": {
            "text/plain": [
              "<matplotlib.collections.PathCollection at 0x7ffa346e03d0>"
            ]
          },
          "metadata": {},
          "execution_count": 47
        },
        {
          "output_type": "display_data",
          "data": {
            "text/plain": [
              "<Figure size 432x288 with 1 Axes>"
            ],
            "image/png": "[encoded data removed]"
          },
          "metadata": {
            "needs_background": "light"
          }
        }
      ]
    },
    {
      "cell_type": "code",
      "source": [
        "#선형 회귀 그래프\n",
        "lr=LinearRegression()\n",
        "lr.fit(x, y)\n",
        "y_preds=lr.predict(x)\n",
        "plt.plot(x, y_preds)\n",
        "plt.scatter(x, y, s=5)"
      ],
      "metadata": {
        "colab": {
          "base_uri": "https://localhost:8080/",
          "height": 287
        },
        "id": "4zfHcUSQU1Dx",
        "outputId": "c3cc9eaf-fdeb-4767-c9a1-30b4f3a94b2a"
      },
      "id": "4zfHcUSQU1Dx",
      "execution_count": null,
      "outputs": [
        {
          "output_type": "execute_result",
          "data": {
            "text/plain": [
              "<matplotlib.collections.PathCollection at 0x7ffa346e01d0>"
            ]
          },
          "metadata": {},
          "execution_count": 48
        },
        {
          "output_type": "display_data",
          "data": {
            "text/plain": [
              "<Figure size 432x288 with 1 Axes>"
            ],
            "image/png": "[encoded data removed]"
          },
          "metadata": {
            "needs_background": "light"
          }
        }
      ]
    },
    {
      "cell_type": "markdown",
      "source": [
        "* 선형회귀는 데이터 분포에 target값의 실제값과 예측값을 비교해 가장 잔차가 적은 직선 하나를 그린다. "
      ],
      "metadata": {
        "id": "VhOhbPPjRHct"
      },
      "id": "VhOhbPPjRHct"
    },
    {
      "cell_type": "code",
      "source": [
        "# 데이터 변환 과정과 머신러닝을 연결해주는 파이프라인\n",
        "model_lr = make_pipeline(PolynomialFeatures(degree=2, include_bias=False),\n",
        "                         LinearRegression())\n",
        "model_lr.fit(x, y)\n",
        "print(model_lr.steps[1][1].coef_)"
      ],
      "metadata": {
        "colab": {
          "base_uri": "https://localhost:8080/"
        },
        "id": "q-5dgNVERBAr",
        "outputId": "278ad8a4-cd86-4950-903d-d1fd56bdac4f"
      },
      "id": "q-5dgNVERBAr",
      "execution_count": null,
      "outputs": [
        {
          "output_type": "stream",
          "name": "stdout",
          "text": [
            "[[0.98979594 0.49076561]]\n"
          ]
        }
      ]
    },
    {
      "cell_type": "code",
      "source": [
        "# 다항회귀 그래프\n",
        "xx = np.linspace(-3, 3, 100) #X값(-3~3 까지)\n",
        "y_pred = model_lr.predict(xx[:, np.newaxis])\n",
        "plt.plot(xx, y_pred)\n",
        "plt.scatter(x, y, s=5)"
      ],
      "metadata": {
        "colab": {
          "base_uri": "https://localhost:8080/",
          "height": 283
        },
        "id": "FZdjVhEhUxX8",
        "outputId": "72470563-a9c7-43d1-dd83-af12ac74fc70"
      },
      "id": "FZdjVhEhUxX8",
      "execution_count": null,
      "outputs": [
        {
          "output_type": "execute_result",
          "data": {
            "text/plain": [
              "<matplotlib.collections.PathCollection at 0x7ffa34633950>"
            ]
          },
          "metadata": {},
          "execution_count": 50
        },
        {
          "output_type": "display_data",
          "data": {
            "text/plain": [
              "<Figure size 432x288 with 1 Axes>"
            ],
            "image/png": "[encoded data removed]"
          },
          "metadata": {
            "needs_background": "light"
          }
        }
      ]
    },
    {
      "cell_type": "markdown",
      "source": [
        "* 다항회귀는 다수의 항을 이용하여 데이터 분포와 유사한 비선형곡선을 그릴 수 있다."
      ],
      "metadata": {
        "id": "6N5tRkumRdFY"
      },
      "id": "6N5tRkumRdFY"
    },
    {
      "cell_type": "markdown",
      "source": [
        "## 1-3. 규제 선형 모델\n",
        "ref : https://steadiness-193.tistory.com/262"
      ],
      "metadata": {
        "id": "ARxE65C-BFWa"
      },
      "id": "ARxE65C-BFWa"
    },
    {
      "cell_type": "code",
      "source": [
        "from sklearn.linear_model import Lasso, LassoCV\n",
        "from sklearn.linear_model import ElasticNet, ElasticNetCV\n",
        "from sklearn.linear_model import Ridge, RidgeCV"
      ],
      "metadata": {
        "id": "2f90ha24fwGO"
      },
      "id": "2f90ha24fwGO",
      "execution_count": null,
      "outputs": []
    },
    {
      "cell_type": "markdown",
      "source": [
        "좋은 회귀 모델을 만들기 위해선 선형 모델의 비용함수(RSS)를 최소화 하면서도 회귀 계수 값이 커지지 않는 균형점을 찾아야한다.\n",
        "\n",
        " \n",
        "그 균형점을 찾기 위한 방법으로 회귀 계수의 크기를 제어하면서 과적합을 개선하기 위해 비용(Cost)함수 목표를 다음과 같이 변경할 수 있다."
      ],
      "metadata": {
        "id": "OdV5FVbNcQRE"
      },
      "id": "OdV5FVbNcQRE"
    },
    {
      "cell_type": "markdown",
      "source": [
        "<img src=\"data:image/png;base64,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\">"
      ],
      "metadata": {
        "id": "mFbM9gj-cRBU"
      },
      "id": "mFbM9gj-cRBU"
    },
    {
      "cell_type": "markdown",
      "source": [
        "위 수식에서 alpha는 학습 데이터 적합 정도와 회귀 계수의 크기를 제어하는 튜닝 파라미터입니다.\n",
        "\n",
        " \n",
        "위 수식의 최소값을 만족하는 W 벡터를 찾기 위해 alpha 값이 어떤 역할을 하는지 알아보겠습니다.\n",
        "\n",
        " \n",
        "먼저 alpha 값이 0 또는 0에 수렴하는 매우 작은 값이라면 위 수식은 다음과 같이 변합니다."
      ],
      "metadata": {
        "id": "PVtEwOC2cXXm"
      },
      "id": "PVtEwOC2cXXm"
    },
    {
      "cell_type": "markdown",
      "source": [
        "<img src=\"data:image/png;base64,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\">"
      ],
      "metadata": {
        "id": "ExRSAgExcYBg"
      },
      "id": "ExRSAgExcYBg"
    },
    {
      "cell_type": "markdown",
      "source": [
        "반면 alpha 값이 무한대에 가까운 매우 큰 값이라면 RSS(W)에 비해 아래의 값이 비정상적으로 커지게 됩니다."
      ],
      "metadata": {
        "id": "mRV2iBb2cekm"
      },
      "id": "mRV2iBb2cekm"
    },
    {
      "cell_type": "markdown",
      "source": [
        "<img src=\"data:image/png;base64,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\">"
      ],
      "metadata": {
        "id": "jMTs4s96cfIv"
      },
      "id": "jMTs4s96cfIv"
    },
    {
      "cell_type": "markdown",
      "source": [
        "따라서 alpha 값을 크게 가져간다면 회귀 계수 W를 작게 가져가는 것으로 과적합을 개선할 수 있으며 alpha 값을 작게 가져가는 경우 회귀 계수 W의 값이 커져도 어느 정도 상쇄가 가능하여 데이터 적합을 개선할 수 있게 됩니다.\n",
        "\n",
        " \n",
        " \n",
        " \n",
        "이처럼 alhpa 값을 0에서부터 지속적으로 증가시켜 회귀 계수 값의 크기를 감소시키는 것이 가능하며 비용 함수에 alhpa 값으로 패널티를 부여해 회귀 계수 값의 크기를 감소시켜 과적합을 개선하는 방법을 규제(Regularization) 이라고 합니다.\n",
        "\n",
        " \n"
      ],
      "metadata": {
        "id": "oRRLAibucCEJ"
      },
      "id": "oRRLAibucCEJ"
    },
    {
      "cell_type": "markdown",
      "source": [
        "### L1 규제 (Lasso)"
      ],
      "metadata": {
        "id": "Ax1xxAlPdO_L"
      },
      "id": "Ax1xxAlPdO_L"
    },
    {
      "cell_type": "markdown",
      "source": [
        "<img src=\"data:image/png;base64,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\">"
      ],
      "metadata": {
        "id": "l67vgiNHcmnP"
      },
      "id": "l67vgiNHcmnP"
    },
    {
      "cell_type": "markdown",
      "source": [
        "L1 규제는 아래의 식과 같이 W의 절댓값에 대해 패널티를 부여하는 규제 방법으로 <font color='red'><b>영향력이 크지 않은 회귀 계수 값을 0으로 변환</b></font>하며 L1 규제를 적용한 회귀를 <b>라쏘(Lasso) 회귀</b>라 부릅니다."
      ],
      "metadata": {
        "id": "36wR7YzIdJbH"
      },
      "id": "36wR7YzIdJbH"
    },
    {
      "cell_type": "markdown",
      "source": [
        "<img src=\"https://blog.kakaocdn.net/dn/cWBQwc/btrwnr1fzgg/cV2OdV1f3Z2KLVIiaLKRMk/img.png\">"
      ],
      "metadata": {
        "id": "qjs9vLlRhQR6"
      },
      "id": "qjs9vLlRhQR6"
    },
    {
      "cell_type": "code",
      "source": [
        "#규제 정도(alpha값)에 따른 피쳐 중요도 시각화 \n",
        "from sklearn.model_selection import train_test_split\n",
        "p, axes = plt.subplots(1,6, figsize=(24,3))\n",
        "alpha_list=[0.4,0.6,0.8,1.0,1.5,2.0]\n",
        "y = bostonDF[\"PRICE\"]\n",
        "X = bostonDF.drop([\"PRICE\"], axis=1)\n",
        "X_train, X_test, y_train, y_test = train_test_split(X,y, test_size=0.2, shuffle=True, random_state=1234)\n",
        "\n",
        "for i,a in enumerate(alpha_list):\n",
        "    model=Lasso(alpha=a)\n",
        "    model.fit(X_train,y_train)\n",
        "    axes[i].set_title(model.__class__.__name__+ ' alpha='+str(a))\n",
        "    sns.set_style(\"white\")\n",
        "    sns.despine(left=True, bottom=True)\n",
        "    sns.barplot(y=X.columns, x=model.coef_, ax=axes[i])"
      ],
      "metadata": {
        "colab": {
          "base_uri": "https://localhost:8080/",
          "height": 123
        },
        "id": "bZzyEO9AgG5Z",
        "outputId": "7fc08b1d-aef6-48d8-bd57-f123ca658c26"
      },
      "id": "bZzyEO9AgG5Z",
      "execution_count": null,
      "outputs": [
        {
          "output_type": "display_data",
          "data": {
            "text/plain": [
              "<Figure size 1728x216 with 6 Axes>"
            ],
            "image/png": "[encoded data removed]"
          },
          "metadata": {
            "needs_background": "light"
          }
        }
      ]
    },
    {
      "cell_type": "markdown",
      "source": [
        "* L1 규제 정도(alpha값)에 따른 피쳐 중요도(회귀계수) 변화"
      ],
      "metadata": {
        "id": "2ll25RfDQj4J"
      },
      "id": "2ll25RfDQj4J"
    },
    {
      "cell_type": "markdown",
      "source": [
        "### L2 규제 (Ridge)"
      ],
      "metadata": {
        "id": "RRIHt9ygdS9D"
      },
      "id": "RRIHt9ygdS9D"
    },
    {
      "cell_type": "markdown",
      "source": [
        "<img src=\"data:image/png;base64,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\">"
      ],
      "metadata": {
        "id": "GPcK4QnvcqZR"
      },
      "id": "GPcK4QnvcqZR"
    },
    {
      "cell_type": "markdown",
      "source": [
        "이어서 L2 규제는 아래의 식과 같이 <font color='red'><b>W의 제곱에 대해 패널티를 부여하는 방법</b></font>을 사용하며 L2 규제를 적용한 회귀를 <b>릿지(RIdge) 회귀</b>라 부릅니다.\n"
      ],
      "metadata": {
        "id": "etbAAv_Wclng"
      },
      "id": "etbAAv_Wclng"
    },
    {
      "cell_type": "markdown",
      "source": [
        "<img src=\"https://blog.kakaocdn.net/dn/4jZBq/btrwnquBx1C/vHv81lF4ufP6x2w63fdOJ1/img.png\">"
      ],
      "metadata": {
        "id": "k4zsXCBnhvzP"
      },
      "id": "k4zsXCBnhvzP"
    },
    {
      "cell_type": "code",
      "source": [
        "#규제 정도(alpha값)에 따른 피쳐 중요도 시각화 \n",
        "p, axes = plt.subplots(1,6, figsize=(24,3))\n",
        "alpha_list=[0.4,0.6,0.8,1.0,1.5,2.0]\n",
        "y = bostonDF[\"PRICE\"]\n",
        "X = bostonDF.drop([\"PRICE\"], axis=1)\n",
        "X_train, X_test, y_train, y_test = train_test_split(X,y, test_size=0.2, shuffle=True, random_state=1234)\n",
        "\n",
        "for i,a in enumerate(alpha_list):\n",
        "    model=Ridge(alpha=a)\n",
        "    model.fit(X_train,y_train)\n",
        "    axes[i].set_title(model.__class__.__name__+ ' alpha='+str(a))\n",
        "    sns.set_style(\"white\")\n",
        "    sns.despine(left=True, bottom=True)\n",
        "    sns.barplot(y=X.columns, x=model.coef_, ax=axes[i])"
      ],
      "metadata": {
        "colab": {
          "base_uri": "https://localhost:8080/",
          "height": 123
        },
        "id": "d_kRdPiBgT_a",
        "outputId": "549cdcc4-0ef0-4d67-af47-dbabe7befd78"
      },
      "id": "d_kRdPiBgT_a",
      "execution_count": null,
      "outputs": [
        {
          "output_type": "display_data",
          "data": {
            "text/plain": [
              "<Figure size 1728x216 with 6 Axes>"
            ],
            "image/png": "[encoded data removed]"
          },
          "metadata": {}
        }
      ]
    },
    {
      "cell_type": "markdown",
      "source": [
        "* L2 규제 정도(alpha값)에 따른 피쳐 중요도(회귀계수) 변화"
      ],
      "metadata": {
        "id": "SfFji8-gQrel"
      },
      "id": "SfFji8-gQrel"
    },
    {
      "cell_type": "markdown",
      "source": [
        "<img src=\"https://blog.kakaocdn.net/dn/6ISEU/btrwnPgxr0g/kRWBKCbUVaQZcBdrNtkxHK/img.png\">"
      ],
      "metadata": {
        "id": "HYHNmdAfh9lW"
      },
      "id": "HYHNmdAfh9lW"
    },
    {
      "cell_type": "markdown",
      "source": [
        "## 1-4. 회귀트리\n",
        "ref : https://velog.io/@sset2323/05-08.-%ED%9A%8C%EA%B7%80-%ED%8A%B8%EB%A6%AC"
      ],
      "metadata": {
        "id": "XrxiiUa4Bcmx"
      },
      "id": "XrxiiUa4Bcmx"
    },
    {
      "cell_type": "markdown",
      "source": [
        "\n",
        "* 회귀 트리는 회귀 함수(선형회귀의 경우)를 기반으로 하지 않고, 결정 트리와 같이 트리기반으로 한다. \n",
        "* 회귀를 위한 트리를 생성하고 이를 기반으로 회귀 예측을 하는 것이다. 회귀 트리의 경우 분류 트리와 크게 다르지 않다. \n",
        "* 다만 리프 노드에서 예측 결정값을 만드는 과정에 차이가 있다. \n",
        "* 분류 트리가 특정 클래스 레이블을 결정하는 것과는 달리 회귀 트리는 리프 노드에 속한 데이터 값의 <b>평균값</b>을 구해 회귀 예측값을 계산한다.\n",
        "\n",
        " "
      ],
      "metadata": {
        "id": "8tpiPumYJNXR"
      },
      "id": "8tpiPumYJNXR"
    },
    {
      "cell_type": "markdown",
      "source": [
        "### 원리"
      ],
      "metadata": {
        "id": "natHg8t9PFLl"
      },
      "id": "natHg8t9PFLl"
    },
    {
      "cell_type": "markdown",
      "source": [
        "<img width=\"500\" src=\"https://blog.kakaocdn.net/dn/no6Ol/btrwqMD1Iqj/7Mqcv7r5kDpWuQhSxkrZK0/img.jpg\"></img>"
      ],
      "metadata": {
        "id": "2M5HqZuhO4D5"
      },
      "id": "2M5HqZuhO4D5"
    },
    {
      "cell_type": "markdown",
      "source": [
        "* 편의상 Feature가 하나인 데이터 세트를 2차원(Feature, Target) 그래프로 시각화한다고 가정한다."
      ],
      "metadata": {
        "id": "JlzREvxsPHfB"
      },
      "id": "JlzREvxsPHfB"
    },
    {
      "cell_type": "markdown",
      "source": [
        "<img src=\"https://blog.kakaocdn.net/dn/27sed/btrwp0vPKYZ/YO5L2ktaTyIxtu3MqzlQtk/img.jpg\"></img>"
      ],
      "metadata": {
        "id": "5zqFciVJONLk"
      },
      "id": "5zqFciVJONLk"
    },
    {
      "cell_type": "markdown",
      "source": [
        "* 이 데이터 세트의 Feature를 결정 트리 기반으로 분할하면, X값의 균일도를 반영한 지니 계수에 따라 그림의 왼쪽과 같이 분할할 수 있다.\n",
        "* 오른쪽 그림과 같이 루트 노드를 Split 0 기준으로 분할하고 분할된 규칙 노드를 다시 Split 1,2로 분할할 수 있다. 그리고 Split 2는 3로 분할할 수 있다."
      ],
      "metadata": {
        "id": "NZ54fmB_OmRo"
      },
      "id": "NZ54fmB_OmRo"
    },
    {
      "cell_type": "markdown",
      "source": [
        "<img src=\"https://blog.kakaocdn.net/dn/xZdD3/btrwwryR437/RYT4E11TAa5wrkCtgZh62K/img.jpg\"></img>"
      ],
      "metadata": {
        "id": "KO_gaNuiOYSD"
      },
      "id": "KO_gaNuiOYSD"
    },
    {
      "cell_type": "markdown",
      "source": [
        "* 트리 분할이 완료됐다면 리프 노드에 소속된 데이터 값의 편균값을 구해서 최종적으로 리프 노드에 결정값으로 할당한다."
      ],
      "metadata": {
        "id": "V1kWt28fPxBK"
      },
      "id": "V1kWt28fPxBK"
    },
    {
      "cell_type": "markdown",
      "source": [
        "<img width=\"400\" src=https://blog.kakaocdn.net/dn/cbazlU/btrwsI2bJJJ/SW1NrLzucvqbdQ13W4O240/img.png></img>"
      ],
      "metadata": {
        "id": "n2bujC_wKiy7"
      },
      "id": "n2bujC_wKiy7"
    },
    {
      "cell_type": "markdown",
      "source": [
        "* RandomForest, XGB, LGBM 과 같은 모델들이 회귀트리 기반의 모델들이다."
      ],
      "metadata": {
        "id": "IWpr3WO1P6XT"
      },
      "id": "IWpr3WO1P6XT"
    },
    {
      "cell_type": "code",
      "source": [
        "from sklearn.ensemble import RandomForestRegressor\n",
        "rf_reg = RandomForestRegressor(n_estimators=100)\n",
        "\n",
        "# 앞 예제에서 만들어진 X_data, y_target 데이터 셋을 적용하여 학습합니다.   \n",
        "rf_reg.fit(bostonDF.drop('PRICE',axis=1), bostonDF['PRICE'])\n",
        "\n",
        "feature_series = pd.Series(data=rf_reg.feature_importances_, index=bostonDF.drop('PRICE',axis=1).columns )\n",
        "feature_series = feature_series.sort_values(ascending=False)\n",
        "sns.barplot(x= feature_series, y=feature_series.index)"
      ],
      "metadata": {
        "colab": {
          "base_uri": "https://localhost:8080/",
          "height": 283
        },
        "id": "_xXtPcOLK-R4",
        "outputId": "c9d0400f-4817-478f-9621-d65ea413e457"
      },
      "id": "_xXtPcOLK-R4",
      "execution_count": null,
      "outputs": [
        {
          "output_type": "execute_result",
          "data": {
            "text/plain": [
              "<matplotlib.axes._subplots.AxesSubplot at 0x7ffa3a92c4d0>"
            ]
          },
          "metadata": {},
          "execution_count": 54
        },
        {
          "output_type": "display_data",
          "data": {
            "text/plain": [
              "<Figure size 432x288 with 1 Axes>"
            ],
            "image/png": "[encoded data removed]"
          },
          "metadata": {}
        }
      ]
    },
    {
      "cell_type": "markdown",
      "source": [
        "* 회귀 트리 Regressor 클래스는 회귀계수와 편향(절편)을 활용하는 함수를 기반으로 하지 않기 때문에 coef_(회귀계수)는 알 수 없지만, classifier와 동일하게 featureimfortances를 이용해 feature 별 중요도를 알 수 있다."
      ],
      "metadata": {
        "id": "lK_W6yhdKzAA"
      },
      "id": "lK_W6yhdKzAA"
    },
    {
      "cell_type": "markdown",
      "source": [
        "## 1-5. 다중공선성"
      ],
      "metadata": {
        "id": "gSithECIDVWQ"
      },
      "id": "gSithECIDVWQ"
    },
    {
      "cell_type": "markdown",
      "source": [
        "* 다중공선성(多重共線性)문제(Multicollinearity)는 통계학의 회귀분석에서 독립변수(Feature)들 간에 강한 상관관계가 나타나는 문제이다.\n",
        "* 서로 상관성이 높은 Feature들은 회귀 모델 학습에 안 좋은 영향을 미친다.\n",
        "* 독립변수(Feature) 간 상관관계는 heatmap을 통해 확인 할 수 있다."
      ],
      "metadata": {
        "id": "KpKJ-Ts9MY3g"
      },
      "id": "KpKJ-Ts9MY3g"
    },
    {
      "cell_type": "markdown",
      "source": [
        "### 상관관계 분석"
      ],
      "metadata": {
        "id": "7w97mjxCRB_s"
      },
      "id": "7w97mjxCRB_s"
    },
    {
      "cell_type": "code",
      "source": [
        "plt.figure(figsize=(16,10))\n",
        "sns.heatmap(bostonDF.corr(), annot=True, fmt='.2f', cmap='Blues')\n",
        "plt.show()"
      ],
      "metadata": {
        "colab": {
          "base_uri": "https://localhost:8080/",
          "height": 503
        },
        "id": "NHTvcp_kMNGU",
        "outputId": "f9a77bb7-a560-4b9f-bc76-3ec1b202bb3e"
      },
      "id": "NHTvcp_kMNGU",
      "execution_count": null,
      "outputs": [
        {
          "output_type": "display_data",
          "data": {
            "text/plain": [
              "<Figure size 1152x720 with 2 Axes>"
            ],
            "image/png": "[encoded data removed]"
          },
          "metadata": {}
        }
      ]
    },
    {
      "cell_type": "markdown",
      "source": [
        "* 보통 설명변수들간의 상관계수가 0.9 이상이면 다중공선성을 띄고있다고 판단한다."
      ],
      "metadata": {
        "id": "35wJS5FrNCmU"
      },
      "id": "35wJS5FrNCmU"
    },
    {
      "cell_type": "markdown",
      "source": [
        "## 1-6. 회귀 평가 지표\n",
        "ref : https://bkshin.tistory.com/entry/%EB%A8%B8%EC%8B%A0%EB%9F%AC%EB%8B%9D-17-%ED%9A%8C%EA%B7%80-%ED%8F%89%EA%B0%80-%EC%A7%80%ED%91%9C"
      ],
      "metadata": {
        "id": "uDet9dQHDX5o"
      },
      "id": "uDet9dQHDX5o"
    },
    {
      "cell_type": "markdown",
      "source": [
        "* 회귀의 평가를 위한 지표는 실제 값과 회귀 예측값의 차이를 기반으로 한다.\n",
        "* 회귀 평가지표 MAE, MSE, RMSE, MSLE, RMSLE는 값이 작을수록 회귀 성능이 좋음\n",
        "* 값이 작을수록 예측값과 실제값의 차이가 없다는 뜻\n",
        "* R² 는 값이 클수록 성능이 좋습니다. <회귀모델의 설명력>"
      ],
      "metadata": {
        "id": "yGZFl3E9iRt9"
      },
      "id": "yGZFl3E9iRt9"
    },
    {
      "cell_type": "markdown",
      "source": [
        "###MAE (Mean Absolue Error)\n",
        "\n",
        "*실제 값과 예측 값의 차이를 절댓값으로 변환해 평균한 것"
      ],
      "metadata": {
        "id": "j1a5ulXRidtL"
      },
      "id": "j1a5ulXRidtL"
    },
    {
      "cell_type": "markdown",
      "source": [
        "<img src=\"https://img1.daumcdn.net/thumb/R1280x0/?scode=mtistory2&fname=https%3A%2F%2Fblog.kakaocdn.net%2Fdn%2FMycEv%2Fbtqz6WWhHet%2FyljD5EmxjqE7S9Pdx57yVK%2Fimg.png\">"
      ],
      "metadata": {
        "id": "UFTxIhd8igJ4"
      },
      "id": "UFTxIhd8igJ4"
    },
    {
      "cell_type": "markdown",
      "source": [
        "###MSE (Mean Squared Error)\n",
        "\n",
        "* 실제 값과 예측 값의 차이를 제곱해 평균한 것"
      ],
      "metadata": {
        "id": "YiMk6_8Rijg_"
      },
      "id": "YiMk6_8Rijg_"
    },
    {
      "cell_type": "markdown",
      "source": [
        "<img src=\"https://img1.daumcdn.net/thumb/R1280x0/?scode=mtistory2&fname=https%3A%2F%2Fblog.kakaocdn.net%2Fdn%2Foithd%2Fbtqz5yoyNoL%2FIuFkyjAuwPY935b4KmYjy0%2Fimg.png\">"
      ],
      "metadata": {
        "id": "g2fsFwidimSw"
      },
      "id": "g2fsFwidimSw"
    },
    {
      "cell_type": "markdown",
      "source": [
        "###RMSE (Root Mean Squared Error)\n",
        "\n",
        "* MSE 값은 오류의 제곱을 구하므로 실제 오류 평균보다 더 커지는 특성이 있어 MSE에 루트를 씌운 RMSE 값을 쓰는 것입니다."
      ],
      "metadata": {
        "id": "LYepuKt0io8R"
      },
      "id": "LYepuKt0io8R"
    },
    {
      "cell_type": "markdown",
      "source": [
        "<img src=\"https://img1.daumcdn.net/thumb/R1280x0/?scode=mtistory2&fname=https%3A%2F%2Fblog.kakaocdn.net%2Fdn%2FbawPPb%2Fbtqz6IcS3PV%2FFh7BJdhJHecO4YRtweLOj1%2Fimg.png\">"
      ],
      "metadata": {
        "id": "bf1hWhPpi7Iy"
      },
      "id": "bf1hWhPpi7Iy"
    },
    {
      "cell_type": "markdown",
      "source": [
        "###MSLE (Mean Squared Log Error)\n",
        "\n",
        "* MSE에 로그를 적용해준 지표입니다. log(y)가 아니라 log(y+1)입니다. y=0일 때, log(y)는 마이너스 무한대이므로 이를 보정해주기 위해 +1을 한 것입니다. "
      ],
      "metadata": {
        "id": "QoBNHEu2ir9L"
      },
      "id": "QoBNHEu2ir9L"
    },
    {
      "cell_type": "markdown",
      "source": [
        "<img src=\"https://img1.daumcdn.net/thumb/R1280x0/?scode=mtistory2&fname=https%3A%2F%2Fblog.kakaocdn.net%2Fdn%2FbndFxw%2Fbtqz5yWqJhg%2Fbwbeu20KrRAYbBdw2xBfVK%2Fimg.png\">"
      ],
      "metadata": {
        "id": "Lg-6lSiIi7v0"
      },
      "id": "Lg-6lSiIi7v0"
    },
    {
      "cell_type": "markdown",
      "source": [
        "###RMSLE (Root Mean Squared Log Error)\n",
        "\n",
        "* RMSE에 로그를 적용해준 지표입니다."
      ],
      "metadata": {
        "id": "HCXUqDT9isGz"
      },
      "id": "HCXUqDT9isGz"
    },
    {
      "cell_type": "markdown",
      "source": [
        "<img width=\"400\" src=\"https://img1.daumcdn.net/thumb/R1280x0/?scode=mtistory2&fname=https%3A%2F%2Fblog.kakaocdn.net%2Fdn%2Fez03Z9%2Fbtqz6g8ZKVe%2FfbRBuBOIcxoUr7KOGnHl81%2Fimg.jpg\">"
      ],
      "metadata": {
        "id": "ALQX5Kn5i8U0"
      },
      "id": "ALQX5Kn5i8U0"
    },
    {
      "cell_type": "markdown",
      "source": [
        "###R² (R Sqaure)\n",
        "\n",
        "* R² 는 분산 기반으로 예측 성능을 평가합니다. 1에 가까울수록 예측 정확도가 높습니다.\n",
        "\n",
        "* R² = 예측값 Variance / 실제값 Variance"
      ],
      "metadata": {
        "id": "gXNR69_fisQ8"
      },
      "id": "gXNR69_fisQ8"
    },
    {
      "cell_type": "markdown",
      "source": [
        "### 예시코드"
      ],
      "metadata": {
        "id": "TTkiS40ljfCD"
      },
      "id": "TTkiS40ljfCD"
    },
    {
      "cell_type": "code",
      "source": [
        "from sklearn.metrics import mean_squared_error, r2_score, mean_absolute_error, mean_squared_log_error\n",
        "\n",
        "origin = np.array([1, 2, 3, 2, 3, 5, 4, 6, 5, 6, 7])\n",
        "pred = np.array([1, 1, 2, 2, 3, 4, 4, 5, 5, 7, 7])\n",
        "\n",
        "MAE =  mean_absolute_error(origin, pred)\n",
        "print(\"MAE : \",MAE)\n",
        "MSE = mean_squared_error(origin, pred)\n",
        "print(\"MSE : \",MSE)\n",
        "RMSE = np.sqrt(MSE)\n",
        "print(\"RMSE : \",RMSE)\n",
        "MSLE = mean_squared_log_error(origin, pred)\n",
        "print(\"MSLE : \",MSLE)\n",
        "RMSLE = np.sqrt(mean_squared_log_error(origin, pred))\n",
        "print(\"RMSLE : \",RMSLE)\n",
        "R2 = r2_score(origin, pred)\n",
        "print(\"R2 : \",R2)"
      ],
      "metadata": {
        "colab": {
          "base_uri": "https://localhost:8080/"
        },
        "id": "lwnhPb3bjNDJ",
        "outputId": "3e0c4780-a7ba-4147-acdd-58aa014abe07"
      },
      "id": "lwnhPb3bjNDJ",
      "execution_count": null,
      "outputs": [
        {
          "output_type": "stream",
          "name": "stdout",
          "text": [
            "MAE :  0.45454545454545453\n",
            "MSE :  0.45454545454545453\n",
            "RMSE :  0.674199862463242\n",
            "MSLE :  0.029272467607503513\n",
            "RMSLE :  0.1710919858073531\n",
            "R2 :  0.868421052631579\n"
          ]
        }
      ]
    },
    {
      "cell_type": "markdown",
      "id": "599bf1c8-39c1-483d-84ab-d0d662334b1f",
      "metadata": {
        "id": "599bf1c8-39c1-483d-84ab-d0d662334b1f"
      },
      "source": [
        "# 2. 회귀분석 모델 설명 및 코드"
      ]
    },
    {
      "cell_type": "markdown",
      "id": "059c11e2-9b04-419e-b6af-3375cc30e160",
      "metadata": {
        "id": "059c11e2-9b04-419e-b6af-3375cc30e160"
      },
      "source": [
        "## 2-1. Linear Regression <선형회귀>\n",
        "ref : https://scikit-learn.org/stable/modules/generated/sklearn.linear_model.LinearRegression.html?highlight=linear#sklearn.linear_model.LinearRegression"
      ]
    },
    {
      "cell_type": "markdown",
      "id": "e6926527-d5a3-4693-b2b4-0a126f11e1d8",
      "metadata": {
        "id": "e6926527-d5a3-4693-b2b4-0a126f11e1d8"
      },
      "source": [
        "### API\n",
        "<img src=\"https://blog.kakaocdn.net/dn/Ee7JG/btrwkvJNF80/JEkRlREuwVuSbRmwCwpc40/img.png\"></img>"
      ]
    },
    {
      "cell_type": "markdown",
      "id": "934ccfb6-b828-4328-a534-abc9a0ac685f",
      "metadata": {
        "id": "934ccfb6-b828-4328-a534-abc9a0ac685f"
      },
      "source": [
        "### 파라미터 설명\n",
        "* fit_intercept : bool, default=True\n",
        "    - 회귀 모델의 절편(상수값)을 계산할지 여부. False로 설정하면 계산에 절편이 사용되지 않음(즉, 데이터가 중앙에 위치할 것으로 예상됨).\n",
        "\n",
        "* normalize : bool, default=False\n",
        "    - 정규화 여부, 1.2 버전부터 삭제\n",
        "\n",
        "* copy_X : bool, default=True\n",
        "    - 입력 데이터의 복사 여부. False 시, 데이터의 평균을 원점(0)에 맞춤\n",
        "\n",
        "* n_jobs : int, default=None\n",
        "    - 데이터 분석에 사용될 코어의 개수 (-1 입력 시 사용 가능한 모든 코어 사용)\n",
        "\n",
        "* positive : bool, default=False\n",
        "    - True 입력 시 회귀계수가 양수(+)가 됨"
      ]
    },
    {
      "cell_type": "markdown",
      "id": "9c45ef1d-170d-4b7f-a156-4a6d77b771c4",
      "metadata": {
        "id": "9c45ef1d-170d-4b7f-a156-4a6d77b771c4"
      },
      "source": [
        "### 예시코드(활용 예시)"
      ]
    },
    {
      "cell_type": "code",
      "source": [
        "from sklearn.linear_model import LinearRegression\n",
        "from sklearn.model_selection import train_test_split\n",
        "from sklearn.metrics import mean_squared_error, r2_score"
      ],
      "metadata": {
        "id": "vLgRUSrEHadP"
      },
      "id": "vLgRUSrEHadP",
      "execution_count": null,
      "outputs": []
    },
    {
      "cell_type": "code",
      "source": [
        "y_target = bostonDF['PRICE']\n",
        "X_data = bostonDF.drop('PRICE',axis=1)\n",
        "#데이터셋 나누기(train, test)\n",
        "X_train,X_test,y_train,y_test = train_test_split(X_data, y_target, test_size=0.3, random_state=123)\n",
        "#모델 사용\n",
        "lr = LinearRegression()\n",
        "lr.fit(X_train,y_train)\n",
        "y_preds = lr.predict(X_test)"
      ],
      "metadata": {
        "id": "k1NVMgctHsqM"
      },
      "id": "k1NVMgctHsqM",
      "execution_count": null,
      "outputs": []
    },
    {
      "cell_type": "code",
      "source": [
        "# 평가 지표 확인\n",
        "mse= mean_squared_error(y_test, y_preds)\n",
        "rmse = np.sqrt(mse)\n",
        "\n",
        "print('MSE : {0:.3f}, RMSE : {1:.3f}'.format(mse,rmse))\n",
        "print('R2 Score : {0:.3f}'.format(r2_score(y_test,y_preds)))"
      ],
      "metadata": {
        "colab": {
          "base_uri": "https://localhost:8080/"
        },
        "id": "g0CRvS_MIIxQ",
        "outputId": "093ec9bb-8daf-4303-a26f-488184acba2e"
      },
      "id": "g0CRvS_MIIxQ",
      "execution_count": null,
      "outputs": [
        {
          "output_type": "stream",
          "name": "stdout",
          "text": [
            "MSE : 28.406, RMSE : 5.330\n",
            "R2 Score : 0.649\n"
          ]
        }
      ]
    },
    {
      "cell_type": "code",
      "source": [
        "#절편값 구하기 (lr.intercept_)\n",
        "print('절편 값:',lr.intercept_)\n",
        "#회귀계수값 구하기 (lr.ceof_)\n",
        "coeff=pd.Series(data=np.round(lr.coef_,1),index=X_data.columns)\n",
        "coeff"
      ],
      "metadata": {
        "colab": {
          "base_uri": "https://localhost:8080/"
        },
        "id": "sVCX-5NbKBy_",
        "outputId": "0c4367a4-300f-4d3b-b1ae-6bfcc778bfdf"
      },
      "id": "sVCX-5NbKBy_",
      "execution_count": null,
      "outputs": [
        {
          "output_type": "stream",
          "name": "stdout",
          "text": [
            "절편 값: 28.981270388095602\n"
          ]
        },
        {
          "output_type": "execute_result",
          "data": {
            "text/plain": [
              "CRIM       -0.1\n",
              "ZN          0.0\n",
              "INDUS       0.1\n",
              "CHAS        0.3\n",
              "NOX       -14.3\n",
              "RM          4.8\n",
              "AGE        -0.0\n",
              "DIS        -1.3\n",
              "RAD         0.3\n",
              "TAX        -0.0\n",
              "PTRATIO    -1.0\n",
              "B           0.0\n",
              "LSTAT      -0.5\n",
              "dtype: float64"
            ]
          },
          "metadata": {},
          "execution_count": 60
        }
      ]
    },
    {
      "cell_type": "markdown",
      "id": "cb6965aa-67b1-4043-8603-43b3793478d1",
      "metadata": {
        "id": "cb6965aa-67b1-4043-8603-43b3793478d1"
      },
      "source": [
        "## 2-2. PolynomialFeatures <다항회귀>\n",
        "* ref : https://scikit-learn.org/stable/modules/generated/sklearn.preprocessing.PolynomialFeatures.html?highlight=polynomialfeatures#sklearn.preprocessing.PolynomialFeatures"
      ]
    },
    {
      "cell_type": "markdown",
      "id": "2324e369-32a4-4f48-b6a0-734e16d1cf64",
      "metadata": {
        "id": "2324e369-32a4-4f48-b6a0-734e16d1cf64"
      },
      "source": [
        "### API\n",
        "<img src=\"https://blog.kakaocdn.net/dn/brRspG/btrwnqVs3cY/jT1wNLT1rVkiYUpGEwn590/img.png\"></img>"
      ]
    },
    {
      "cell_type": "markdown",
      "id": "1e75e8cc-377a-4811-bf89-d00819ff6fda",
      "metadata": {
        "id": "1e75e8cc-377a-4811-bf89-d00819ff6fda"
      },
      "source": [
        "### 파라미터 설명\n",
        "* degree : int or tuple (min_degree, max_degree), default=2\n",
        "    - 다항식 차수 결정\n",
        "\n",
        "* interaction_only : bool, default=False\n",
        "    - True 시, 다른 Feature와 상호작용하는 Feature만 생성, 즉 제곱 혹은 세제곱 등 같은 제곱항 제외\n",
        "포함: x[0], x[1], x[0] * x[1], etc.<br>\n",
        "제외: x[0] ** 2, x[0] ** 2 * x[1], etc.\n",
        "\n",
        "* include_bias : bool, default=True\n",
        "    - 절편 포함여부\n",
        "* order : {‘C’, ‘F’}, default=’C’\n",
        "    - 출력 배열 순서 (그냥 default 씁시다)"
      ]
    },
    {
      "cell_type": "markdown",
      "id": "fa60ccdc-8cf9-4de2-b648-b9214aa6e989",
      "metadata": {
        "id": "fa60ccdc-8cf9-4de2-b648-b9214aa6e989"
      },
      "source": [
        "### 예시코드(활용 예시)"
      ]
    },
    {
      "cell_type": "code",
      "source": [
        "from sklearn.preprocessing import PolynomialFeatures"
      ],
      "metadata": {
        "id": "2owEKrspKxdK"
      },
      "id": "2owEKrspKxdK",
      "execution_count": null,
      "outputs": []
    },
    {
      "cell_type": "code",
      "source": [
        "poly_features = PolynomialFeatures(degree=2, include_bias=False) # 기본 다항식형태를 만들고\n",
        "X_train_poly = poly_features.fit_transform(X_train)\n",
        "X_test_poly = poly_features.fit_transform(X_test)\n",
        "X_train_poly\n",
        "# 새롭게 정의된 numpy 배열은 행별로 각 데이터를 다항 형태로 변형해준다."
      ],
      "metadata": {
        "colab": {
          "base_uri": "https://localhost:8080/"
        },
        "id": "0XtMEcucK3CP",
        "outputId": "4888f3fd-0855-4abe-ec63-467940d9415f"
      },
      "id": "0XtMEcucK3CP",
      "execution_count": null,
      "outputs": [
        {
          "output_type": "execute_result",
          "data": {
            "text/plain": [
              "array([[2.21880000e-01, 2.00000000e+01, 6.96000000e+00, ...,\n",
              "        1.52701193e+05, 2.57126660e+03, 4.32964000e+01],\n",
              "       [5.36000000e-02, 2.10000000e+01, 5.64000000e+00, ...,\n",
              "        1.57529610e+05, 2.09563200e+03, 2.78784000e+01],\n",
              "       [6.88800000e-02, 0.00000000e+00, 2.46000000e+00, ...,\n",
              "        1.57529610e+05, 3.75070500e+03, 8.93025000e+01],\n",
              "       ...,\n",
              "       [3.51140000e-01, 0.00000000e+00, 7.38000000e+00, ...,\n",
              "        1.57529610e+05, 3.05613000e+03, 5.92900000e+01],\n",
              "       [9.18702000e+00, 0.00000000e+00, 1.81000000e+01, ...,\n",
              "        1.57529610e+05, 9.36684000e+03, 5.56960000e+02],\n",
              "       [4.55587000e+00, 0.00000000e+00, 1.81000000e+01, ...,\n",
              "        1.25812090e+05, 2.52546400e+03, 5.06944000e+01]])"
            ]
          },
          "metadata": {},
          "execution_count": 62
        }
      ]
    },
    {
      "cell_type": "markdown",
      "source": [
        "* PolynomialFeatures함수를 통해 현재 데이터를 다항식 형태로 변경한다. (각 특성의 제곱 혹은 그 이상을 추가)\n",
        "* degree 옵션으로 차수를 조절한다.\n",
        "* include_bias 옵션은 True로 할 경우 0차항(1)도 함께 만든다.\n",
        "* 이렇게 만들어진 다항식 모델에 x를 fit transform하여 새로운 데이터를 생성한다."
      ],
      "metadata": {
        "id": "sTn753L5OCXY"
      },
      "id": "sTn753L5OCXY"
    },
    {
      "cell_type": "code",
      "source": [
        "np.array(X_train.iloc[0,:]), X_train_poly[0]"
      ],
      "metadata": {
        "colab": {
          "base_uri": "https://localhost:8080/"
        },
        "id": "m_UtTJLKLfNs",
        "outputId": "469ac87f-467d-4395-db25-d0a415993c96"
      },
      "id": "m_UtTJLKLfNs",
      "execution_count": null,
      "outputs": [
        {
          "output_type": "execute_result",
          "data": {
            "text/plain": [
              "(array([2.2188e-01, 2.0000e+01, 6.9600e+00, 1.0000e+00, 4.6400e-01,\n",
              "        7.6910e+00, 5.1800e+01, 4.3665e+00, 3.0000e+00, 2.2300e+02,\n",
              "        1.8600e+01, 3.9077e+02, 6.5800e+00]),\n",
              " array([2.21880000e-01, 2.00000000e+01, 6.96000000e+00, 1.00000000e+00,\n",
              "        4.64000000e-01, 7.69100000e+00, 5.18000000e+01, 4.36650000e+00,\n",
              "        3.00000000e+00, 2.23000000e+02, 1.86000000e+01, 3.90770000e+02,\n",
              "        6.58000000e+00, 4.92307344e-02, 4.43760000e+00, 1.54428480e+00,\n",
              "        2.21880000e-01, 1.02952320e-01, 1.70647908e+00, 1.14933840e+01,\n",
              "        9.68839020e-01, 6.65640000e-01, 4.94792400e+01, 4.12696800e+00,\n",
              "        8.67040476e+01, 1.45997040e+00, 4.00000000e+02, 1.39200000e+02,\n",
              "        2.00000000e+01, 9.28000000e+00, 1.53820000e+02, 1.03600000e+03,\n",
              "        8.73300000e+01, 6.00000000e+01, 4.46000000e+03, 3.72000000e+02,\n",
              "        7.81540000e+03, 1.31600000e+02, 4.84416000e+01, 6.96000000e+00,\n",
              "        3.22944000e+00, 5.35293600e+01, 3.60528000e+02, 3.03908400e+01,\n",
              "        2.08800000e+01, 1.55208000e+03, 1.29456000e+02, 2.71975920e+03,\n",
              "        4.57968000e+01, 1.00000000e+00, 4.64000000e-01, 7.69100000e+00,\n",
              "        5.18000000e+01, 4.36650000e+00, 3.00000000e+00, 2.23000000e+02,\n",
              "        1.86000000e+01, 3.90770000e+02, 6.58000000e+00, 2.15296000e-01,\n",
              "        3.56862400e+00, 2.40352000e+01, 2.02605600e+00, 1.39200000e+00,\n",
              "        1.03472000e+02, 8.63040000e+00, 1.81317280e+02, 3.05312000e+00,\n",
              "        5.91514810e+01, 3.98393800e+02, 3.35827515e+01, 2.30730000e+01,\n",
              "        1.71509300e+03, 1.43052600e+02, 3.00541207e+03, 5.06067800e+01,\n",
              "        2.68324000e+03, 2.26184700e+02, 1.55400000e+02, 1.15514000e+04,\n",
              "        9.63480000e+02, 2.02418860e+04, 3.40844000e+02, 1.90663223e+01,\n",
              "        1.30995000e+01, 9.73729500e+02, 8.12169000e+01, 1.70629721e+03,\n",
              "        2.87315700e+01, 9.00000000e+00, 6.69000000e+02, 5.58000000e+01,\n",
              "        1.17231000e+03, 1.97400000e+01, 4.97290000e+04, 4.14780000e+03,\n",
              "        8.71417100e+04, 1.46734000e+03, 3.45960000e+02, 7.26832200e+03,\n",
              "        1.22388000e+02, 1.52701193e+05, 2.57126660e+03, 4.32964000e+01]))"
            ]
          },
          "metadata": {},
          "execution_count": 63
        }
      ]
    },
    {
      "cell_type": "markdown",
      "source": [
        "* fit_transform을 통해 위와 같이 각 피쳐를 곱한 항을 추가하여 반환한다. (a²,ab,ac,ac ..., b²,bc,bd, ...)"
      ],
      "metadata": {
        "id": "N1pL5SiDOGrG"
      },
      "id": "N1pL5SiDOGrG"
    },
    {
      "cell_type": "code",
      "source": [
        "from sklearn.linear_model import LinearRegression\n",
        "# model.coef_, model.intercept_\n",
        "lr = LinearRegression()\n",
        "lr.fit(X_train_poly, y_train) # 다항회귀 모델에 그렇게 변형한 데이터와 기존 y값을 넣고 학습시킨다.\n",
        "y_preds = lr.predict(X_test_poly)\n"
      ],
      "metadata": {
        "id": "9h0U4ssOMHxh"
      },
      "id": "9h0U4ssOMHxh",
      "execution_count": null,
      "outputs": []
    },
    {
      "cell_type": "code",
      "source": [
        "mse= mean_squared_error(y_test, y_preds)\n",
        "rmse = np.sqrt(mse)\n",
        "\n",
        "print('MSE : {0:.3f}, RMSE : {1:.3f}'.format(mse,rmse))\n",
        "print('R스퀘어 (결정계수) : {0:.3f}'.format(r2_score(y_test,y_preds)))"
      ],
      "metadata": {
        "colab": {
          "base_uri": "https://localhost:8080/"
        },
        "id": "86az_yHaNdEW",
        "outputId": "1cb3f1e8-6356-4206-87d5-b61d8de1eba7"
      },
      "id": "86az_yHaNdEW",
      "execution_count": null,
      "outputs": [
        {
          "output_type": "stream",
          "name": "stdout",
          "text": [
            "MSE : 18.871, RMSE : 4.344\n",
            "R스퀘어 (결정계수) : 0.767\n"
          ]
        }
      ]
    },
    {
      "cell_type": "markdown",
      "source": [
        "\n",
        "* 선형회귀 모델을 만들고, 다항화한 x의 데이터와 기존의 y값을 모델에 fit시켜준다.\n",
        "* 이를 통해 모델이 완성되었고 이를 활용할 수도 있다."
      ],
      "metadata": {
        "id": "uEn4_pAtLRSs"
      },
      "id": "uEn4_pAtLRSs"
    },
    {
      "cell_type": "markdown",
      "metadata": {
        "id": "2L5uZ8CdCPik"
      },
      "source": [
        "## 2-3. Ridge regression <릿지회귀 - 규제>\n",
        "ref : https://scikit-learn.org/stable/modules/generated/sklearn.linear_model.Ridge.html?highlight=ridge#sklearn.linear_model.Ridge"
      ],
      "id": "2L5uZ8CdCPik"
    },
    {
      "cell_type": "markdown",
      "metadata": {
        "id": "5lZkazxqCPil"
      },
      "source": [
        "### API\n",
        "<img src=\"https://blog.kakaocdn.net/dn/dhrxxJ/btrwrImPw5i/Ftb6hEgSxS0Na9pLizWfaK/img.png\"></img>"
      ],
      "id": "5lZkazxqCPil"
    },
    {
      "cell_type": "markdown",
      "metadata": {
        "id": "zvCpDphiCPim"
      },
      "source": [
        "### 파라미터 설명\n",
        "* alpha : {float, ndarray of shape (n_targets,)}, default=1.0\n",
        "    -  하이퍼파라미터인 α는 모델을 얼마나 많이 규제할지 조절한다.\n",
        "α=0이면 선형회귀와 같아지고, α가 커질수록 모든 가중치가 0에 가까워져 결국 데이터의 평균을 지나는 수평선이 된다.\n"
      ],
      "id": "zvCpDphiCPim"
    },
    {
      "cell_type": "markdown",
      "metadata": {
        "id": "2LL4B7zVCPim"
      },
      "source": [
        "### 예시코드(활용 예시)"
      ],
      "id": "2LL4B7zVCPim"
    },
    {
      "cell_type": "code",
      "source": [
        "from sklearn.linear_model import Ridge, RidgeCV\n",
        "y_target = bostonDF['PRICE']\n",
        "X_data = bostonDF.drop('PRICE',axis=1)\n",
        "#데이터셋 나누기(train, test)\n",
        "X_train,X_test,y_train,y_test = train_test_split(X_data, y_target, test_size=0.3, random_state=123)\n",
        "#모델 사용\n",
        "model = Ridge(alpha=1.0, random_state = 1234)\n",
        "model.fit(X_train,y_train)\n",
        "y_preds = model.predict(X_test)"
      ],
      "metadata": {
        "id": "jcry1OoWWhWY"
      },
      "id": "jcry1OoWWhWY",
      "execution_count": null,
      "outputs": []
    },
    {
      "cell_type": "code",
      "source": [
        "mse= mean_squared_error(y_test, y_preds)\n",
        "rmse = np.sqrt(mse)\n",
        "\n",
        "print('MSE : {0:.3f}, RMSE : {1:.3f}'.format(mse,rmse))\n",
        "print('R스퀘어 (결정계수) : {0:.3f}'.format(r2_score(y_test,y_preds)))"
      ],
      "metadata": {
        "colab": {
          "base_uri": "https://localhost:8080/"
        },
        "id": "TPAmfH5gW9ZV",
        "outputId": "dd29079f-ab64-4577-97d4-036ccf804b05"
      },
      "id": "TPAmfH5gW9ZV",
      "execution_count": null,
      "outputs": [
        {
          "output_type": "stream",
          "name": "stdout",
          "text": [
            "MSE : 29.158, RMSE : 5.400\n",
            "R스퀘어 (결정계수) : 0.639\n"
          ]
        }
      ]
    },
    {
      "cell_type": "markdown",
      "metadata": {
        "id": "3I6uS8hRCwIC"
      },
      "source": [
        "## 2-4. Lasso regression <라쏘회귀 - 규제>\n",
        "ref : https://scikit-learn.org/stable/modules/generated/sklearn.linear_model.Lasso.html?highlight=lasso#sklearn.linear_model.Lasso"
      ],
      "id": "3I6uS8hRCwIC"
    },
    {
      "cell_type": "markdown",
      "metadata": {
        "id": "FiI2VdOmCwIC"
      },
      "source": [
        "### API\n",
        "<img src=\"https://blog.kakaocdn.net/dn/bTRYDW/btrwonqpM2O/8DJlYEpwe1jEcfRNkOc2c1/img.png\"></img>\n"
      ],
      "id": "FiI2VdOmCwIC"
    },
    {
      "cell_type": "markdown",
      "metadata": {
        "id": "i6Nka7OqCwID"
      },
      "source": [
        "### 파라미터 설명\n",
        "* alpha : float, default=1.0\n",
        "    - 하이퍼파라미터인 α는 모델을 얼마나 많이 규제할지 조절한다.\n",
        "α=0이면 선형회귀와 같아지고, α가 커질수록 모든 가중치가 0에 가까워져 결국 데이터의 평균을 지나는 수평선이 된다."
      ],
      "id": "i6Nka7OqCwID"
    },
    {
      "cell_type": "markdown",
      "metadata": {
        "id": "AKy3CZ6HCwIE"
      },
      "source": [
        "### 예시코드(활용 예시)"
      ],
      "id": "AKy3CZ6HCwIE"
    },
    {
      "cell_type": "code",
      "source": [
        "from sklearn.linear_model import Lasso, LassoCV\n",
        "y_target = bostonDF['PRICE']\n",
        "X_data = bostonDF.drop('PRICE',axis=1)\n",
        "#데이터셋 나누기(train, test)\n",
        "X_train,X_test,y_train,y_test = train_test_split(X_data, y_target, test_size=0.3, random_state=123)\n",
        "#모델 사용\n",
        "model = Lasso(alpha=1.0, random_state = 1234)\n",
        "model.fit(X_train,y_train)\n",
        "y_preds = model.predict(X_test)"
      ],
      "metadata": {
        "id": "2d4pYfs3WkZH"
      },
      "id": "2d4pYfs3WkZH",
      "execution_count": null,
      "outputs": []
    },
    {
      "cell_type": "code",
      "source": [
        "mse= mean_squared_error(y_test, y_preds)\n",
        "rmse = np.sqrt(mse)\n",
        "\n",
        "print('MSE : {0:.3f}, RMSE : {1:.3f}'.format(mse,rmse))\n",
        "print('R스퀘어 (결정계수) : {0:.3f}'.format(r2_score(y_test,y_preds)))"
      ],
      "metadata": {
        "colab": {
          "base_uri": "https://localhost:8080/"
        },
        "id": "y1F5xKXPXdyP",
        "outputId": "d7c0bca4-ef8a-4816-ccde-9c8090a0d998"
      },
      "id": "y1F5xKXPXdyP",
      "execution_count": null,
      "outputs": [
        {
          "output_type": "stream",
          "name": "stdout",
          "text": [
            "MSE : 29.122, RMSE : 5.397\n",
            "R스퀘어 (결정계수) : 0.640\n"
          ]
        }
      ]
    },
    {
      "cell_type": "markdown",
      "metadata": {
        "id": "BreussLOC8rb"
      },
      "source": [
        "## 2-5. Elastic-net <엘라스틱 넷 - 규제>\n",
        "ref : https://scikit-learn.org/stable/modules/generated/sklearn.linear_model.ElasticNet.html?highlight=elastic#sklearn.linear_model.ElasticNet\n",
        "* 엘라스틱 넷(Elastic Net)은 릿지회귀와 라쏘회귀를 절충한 모델이다.\n",
        "* 규제항은 릿지와 회귀의 규제항을 단순히 더해서 사용하며, 두 규제항의 혼합정도를 혼합비율 r을 사용해 조절한다."
      ],
      "id": "BreussLOC8rb"
    },
    {
      "cell_type": "markdown",
      "metadata": {
        "id": "OOJGKPNMC8rc"
      },
      "source": [
        "### API\n",
        "<img src=\"https://blog.kakaocdn.net/dn/cGSxOt/btrwmqOqsEP/l5uuo8qCJ5mpARl24KOpx0/img.png\"></img>"
      ],
      "id": "OOJGKPNMC8rc"
    },
    {
      "cell_type": "markdown",
      "metadata": {
        "id": "iwS42O8UC8rd"
      },
      "source": [
        "### 파라미터 설명\n",
        "* alpha : float, default=1.0\n",
        "    - 하이퍼파라미터인 α는 모델을 얼마나 많이 규제할지 조절한다.\n",
        "α=0이면 선형회귀와 같아지고, α가 커질수록 모든 가중치가 0에 가까워져 결국 데이터의 평균을 지나는 수평선이 된다.\n",
        "\n",
        "* l1_ratio : float, default=0.5\n",
        "    - Lasso, Ridge의 비율로, l1_ratio가 0이면 Ridge(L2 규제)와 동일하고, l1_ratio가 1이면 Lasso(L1 규제)와 동일하다.\n"
      ],
      "id": "iwS42O8UC8rd"
    },
    {
      "cell_type": "markdown",
      "metadata": {
        "id": "0BgJOmy7C8re"
      },
      "source": [
        "### 예시코드(활용 예시)"
      ],
      "id": "0BgJOmy7C8re"
    },
    {
      "cell_type": "code",
      "source": [
        "from sklearn.linear_model import ElasticNet, ElasticNetCV\n",
        "y_target = bostonDF['PRICE']\n",
        "X_data = bostonDF.drop('PRICE',axis=1)\n",
        "#데이터셋 나누기(train, test)\n",
        "X_train,X_test,y_train,y_test = train_test_split(X_data, y_target, test_size=0.3, random_state=123)\n",
        "#모델 사용\n",
        "model = ElasticNet(alpha=1.0, l1_ratio=0.5, random_state = 1234)\n",
        "model.fit(X_train,y_train)\n",
        "y_preds = model.predict(X_test)"
      ],
      "metadata": {
        "id": "PpyRp0TeWp7N"
      },
      "id": "PpyRp0TeWp7N",
      "execution_count": null,
      "outputs": []
    },
    {
      "cell_type": "code",
      "source": [
        "mse= mean_squared_error(y_test, y_preds)\n",
        "rmse = np.sqrt(mse)\n",
        "\n",
        "print('MSE : {0:.3f}, RMSE : {1:.3f}'.format(mse,rmse))\n",
        "print('R스퀘어 (결정계수) : {0:.3f}'.format(r2_score(y_test,y_preds)))"
      ],
      "metadata": {
        "colab": {
          "base_uri": "https://localhost:8080/"
        },
        "id": "hMW_zK8tXnqY",
        "outputId": "fc51bd75-1b10-4580-8d63-a1e621cd182a"
      },
      "id": "hMW_zK8tXnqY",
      "execution_count": null,
      "outputs": [
        {
          "output_type": "stream",
          "name": "stdout",
          "text": [
            "MSE : 28.840, RMSE : 5.370\n",
            "R스퀘어 (결정계수) : 0.643\n"
          ]
        }
      ]
    },
    {
      "cell_type": "markdown",
      "metadata": {
        "id": "0P91hROuDHBE"
      },
      "source": [
        "## 2-6. Random Forest regression <랜덤포레스트 회귀 - 회귀트리>\n",
        "ref : https://scikit-learn.org/stable/modules/generated/sklearn.ensemble.RandomForestRegressor.html?highlight=random%20forest#sklearn.ensemble.RandomForestRegressor"
      ],
      "id": "0P91hROuDHBE"
    },
    {
      "cell_type": "markdown",
      "metadata": {
        "id": "Da4PbYbfDHBF"
      },
      "source": [
        "### API\n",
        "<img src=\"https://blog.kakaocdn.net/dn/VXFl7/btrwptKJXN7/qL2xJqZRlyLuIXEQlKIMK0/img.png\"></img>"
      ],
      "id": "Da4PbYbfDHBF"
    },
    {
      "cell_type": "markdown",
      "metadata": {
        "id": "pyc9SQZ4DHBG"
      },
      "source": [
        "### 파라미터 설명\n",
        "* n_estimators : int, default=100\n",
        "    - 랜덤 포레스트 안의 결정 트리 갯수\n",
        "    - n_estimators는 클수록 좋음\n",
        "    - 결정 트리가 많을수록 더 깔끔한 Decision Boundary가 나오지만 그만큼 메모리와 훈련 시간이 증가\n",
        "* max_depth : int, default=None\n",
        "    - max_depth 는 루트 노드와 리프 노드 사이의 최대 거리\n",
        "* min_samples_split : int or float, default=2\n",
        "    - 트리에 주어진 노드를 분할하기 위해 필요한 최소 관찰 수\n",
        "* min_samples_leaf : int or float, default=1\n",
        "    - 노드 를 분할 한 후 리프 노드에 있어야하는 최소 샘플 수\n",
        "* max_features : {“auto”, “sqrt”, “log2”}, int or float, default=”auto”\n",
        "    - 무작위로 선택할 Feature의 개수\n",
        "    - max_features=n_features이면 모든 feature로 결정 트리를 만든다.\n",
        "단\n",
        "    - bootstrap=True이면 복원 추출로 feature를 뽑는다.\n",
        "    - max_features 값이 크다면 랜덤 포레스트의 트리들이 매우 비슷해지고, 가장 두드러진 특성에 맞게 예측을 할 것임\n",
        "    - max_features 값이 작다면 랜덤 포레스트의 트리들이 서로 매우 달라져서 오버피팅이 줄어듬\n",
        "    - max_features는 일반적으로 Defalut 값 사용\n",
        "* max_leaf_nodes : int, default=None\n",
        "    - 리프노드의 최대 개수"
      ],
      "id": "pyc9SQZ4DHBG"
    },
    {
      "cell_type": "markdown",
      "metadata": {
        "id": "fQhcFEHMDHBG"
      },
      "source": [
        "### 예시코드(활용 예시)"
      ],
      "id": "fQhcFEHMDHBG"
    },
    {
      "cell_type": "code",
      "source": [
        "from sklearn.ensemble import RandomForestRegressor\n",
        "y_target = bostonDF['PRICE']\n",
        "X_data = bostonDF.drop('PRICE',axis=1)\n",
        "#데이터셋 나누기(train, test)\n",
        "X_train,X_test,y_train,y_test = train_test_split(X_data, y_target, test_size=0.3, random_state=123)\n",
        "#모델 사용\n",
        "model = RandomForestRegressor(n_estimators=100,\n",
        "                              max_depth=None, min_samples_split=2, min_samples_leaf=1,\n",
        "                              max_features='auto', max_leaf_nodes=None, bootstrap=True,\n",
        "                              random_state = 1234)\n",
        "model.fit(X_train,y_train)\n",
        "y_preds = model.predict(X_test)"
      ],
      "metadata": {
        "id": "Vx42MOdVX-Ld"
      },
      "id": "Vx42MOdVX-Ld",
      "execution_count": null,
      "outputs": []
    },
    {
      "cell_type": "code",
      "source": [
        "mse= mean_squared_error(y_test, y_preds)\n",
        "rmse = np.sqrt(mse)\n",
        "\n",
        "print('MSE : {0:.3f}, RMSE : {1:.3f}'.format(mse,rmse))\n",
        "print('R스퀘어 (결정계수) : {0:.3f}'.format(r2_score(y_test,y_preds)))"
      ],
      "metadata": {
        "colab": {
          "base_uri": "https://localhost:8080/"
        },
        "id": "D0qDVlMLYRCu",
        "outputId": "b7ec7287-1180-4e75-f436-33cc3848f4ba"
      },
      "id": "D0qDVlMLYRCu",
      "execution_count": null,
      "outputs": [
        {
          "output_type": "stream",
          "name": "stdout",
          "text": [
            "MSE : 14.450, RMSE : 3.801\n",
            "R스퀘어 (결정계수) : 0.821\n"
          ]
        }
      ]
    },
    {
      "cell_type": "markdown",
      "metadata": {
        "id": "JaKdE5F2DHTy"
      },
      "source": [
        "## 2-7. Extreme Gradient Boosting regression <XGB - 회귀트리>\n",
        "* ref: https://xgboost.readthedocs.io/en/stable/python/python_api.html#module-xgboost.sklearn\n",
        "* 파라미터 ref: https://dining-developer.tistory.com/4"
      ],
      "id": "JaKdE5F2DHTy"
    },
    {
      "cell_type": "markdown",
      "metadata": {
        "id": "qqGHfN4kDHTy"
      },
      "source": [
        "### API"
      ],
      "id": "qqGHfN4kDHTy"
    },
    {
      "cell_type": "markdown",
      "metadata": {
        "id": "llQSTstzDHTy"
      },
      "source": [
        "### 파라미터 설명\n",
        "* booster,  기본값 : gbtree\n",
        "    - 어떤 부스터를 쓸지 고른다. [gbtree, gblinear, dart] 중 하나\n",
        "* learning_rate, 기본값 : 0.3 / 범위 : [0,1] \n",
        "    - 학습률. 낮은 값일수록 모델이 견고해지고 오버 피팅 방지에 좋다.\n",
        "    - 일반적으로 0.01 ~ 0.3 정도로 설정하는데, 제한된 리소스를 가진 기계에 모델을 올려야 할 경우 Step 수를 줄이기 위해 0.9까지 올려 모델 크기를 최소화한 적도 있다. 일반적인 상황이라면 권장하지 않는다.\n",
        "* gamma [alias: min_split_loss], 기본값 : 0 / 범위 : [0,∞]\n",
        "    - 이전 글에서 언급한 gain 값이 gamma 이상일 경우 자식 노드를 생성하도록 한다.\n",
        "    - Overfitting 방지에 좋으나 너무 높으면 underfitting 이 생길 수가 있음.\n",
        "    - lambda, alpha 값에도 영향을 받기 때문에, 파라미터 튜닝 시 세 가지를 동시에 바꿔가며 grid search를 하는 편\n",
        "* max_depth, 기본값 : 6 / 범위 : [0,∞]\n",
        "    - 최대 트리의 깊이. N이라고 가정하면 2^N개의 리프 노드가 생긴다. 10일 때 최대 1024개의 리프 노트가 생긴다.\n",
        "    - 일반적으로 Feature 수에 따라 3~6으로 세팅한 후 성능이 증가하고, 오버 피팅이 나지 않을 때까지 늘려간다.\n",
        "    - 제한된 리소스에 모델을 올려야 할 경우 울며 겨자 먹기로 약간의 성능을 포기하고 depth를 줄이기도 한다.\n",
        "* subsample, 기본값 : 1 범위: [0,1]\n",
        "    - 각각의 스탭마다 사용할 샘플의 비율. 1 이하의 값을 사용하면 오버 피팅을 방지할 수 있다.\n",
        "    - 개인적으로 cross validation을 주로 쓴다면 크게 중요한 파라미터가 아닌 것 같다.\n",
        "* colsample_bytree, 기본값 : 1 / 범위 : [0,1]\n",
        "    - 각각의 트리(스탭)마다 사용할 칼럼(Feature)의 비율\n",
        "    - 개인적으로 colsample_* 파라미터 둘 중에 가장 효과가 좋은 것 같음.\n",
        "* colsample_bylevel, 기본값 : 1 / 범위 : [0,1]\n",
        "    - 각각의 트리 depth 마다 사용할 칼럼(Feature)의 비율\n",
        "* colsample_bynode, 기본값 : 1 / 범위 : [0,1]\n",
        "    - 각각의 노드 depth 마다 사용할 칼럼(Feature)의 비율\n",
        "    - colsample_bylevel와 비슷해 보이지만 이 경우 좌, 우 리프 노드가 서로 다른 feature를 사용하게 된다.\n",
        "* reg_lambda, 기본값 : 1 / 범위 : [0,∞]\n",
        "    - L2 정규화(규제) 파라미터이다.\n",
        "    - 커질수록 보수적인 모델을 생성하고 오버 피팅을 방지해준다. 지나치게 클 경우 언더 피팅이 난다. \n",
        "    - 너무 큰 가중치를 그 크기에 비례하여 줄여준다.\n",
        "    - noise나 outlier 같은 애들이나 너무 크게 튀는 데이터들을 어느 정도 잡아준다고 보면 된다. \n",
        "    - gamma, alpha와 함께 튜닝함.\n",
        "* reg_alpha, 기본값 : 0 / 범위: [0,∞]\n",
        "    - L1 정규화(규제) 파라미터이다.\n",
        "    - 커질수록 보수적인 모델을 생성하고 오버 피팅을 방지해준다.\n",
        "    - 불필요한 가중치를 0으로 만들어서 무시하도록 한다. \n",
        "    - sparse feature 가 있거나 feature수가 지나치게 많을 때 효과적이다.\n",
        "    - gamma, lambda와 함께 튜닝함.\n",
        "* scale_pos_weight, [default=1]\n",
        "    - 데이터 클래스(레이블) 불균형이 있을 때 레이블 가중치를 조절해주는 파라미터\n",
        "    - 권장 값 : sum(negative instances) / sum(positive instances)\n",
        "    - 굉장히 중요한 파라미터. 데이터 불균형이 심한 경우 꼭 설정해주는 게 좋다.\n",
        "\n",
        "\n"
      ],
      "id": "llQSTstzDHTy"
    },
    {
      "cell_type": "markdown",
      "source": [
        "### 예시코드(활용 예시)\n"
      ],
      "metadata": {
        "id": "n7uO_ZkxpF8V"
      },
      "id": "n7uO_ZkxpF8V"
    },
    {
      "cell_type": "code",
      "source": [
        "from xgboost import XGBRegressor\n",
        "y_target = bostonDF['PRICE']\n",
        "X_data = bostonDF.drop('PRICE',axis=1)\n",
        "#데이터셋 나누기(train, test)\n",
        "X_train,X_test,y_train,y_test = train_test_split(X_data, y_target, test_size=0.3, random_state=123)\n",
        "#모델 사용\n",
        "model = XGBRegressor(booster='gbtree',learning_rate=0.3, gamma=0,\n",
        "                     max_depth=6, subsample=1, colsample_bytree=1,\n",
        "                     colsample_bylevel=1, colsample_bynode=1,\n",
        "                     reg_lambda=1, reg_alpha=1, scale_pos_weight=1)\n",
        "model.fit(X_train,y_train)\n",
        "y_preds = model.predict(X_test)"
      ],
      "metadata": {
        "colab": {
          "base_uri": "https://localhost:8080/"
        },
        "id": "8IrXRANRpReN",
        "outputId": "aafbec5d-f985-4181-aa9a-042df16198e9"
      },
      "id": "8IrXRANRpReN",
      "execution_count": null,
      "outputs": [
        {
          "output_type": "stream",
          "name": "stdout",
          "text": [
            "[14:11:33] WARNING: /workspace/src/objective/regression_obj.cu:152: reg:linear is now deprecated in favor of reg:squarederror.\n"
          ]
        }
      ]
    },
    {
      "cell_type": "code",
      "source": [
        "mse= mean_squared_error(y_test, y_preds)\n",
        "rmse = np.sqrt(mse)\n",
        "\n",
        "print('MSE : {0:.3f}, RMSE : {1:.3f}'.format(mse,rmse))\n",
        "print('R스퀘어 (결정계수) : {0:.3f}'.format(r2_score(y_test,y_preds)))"
      ],
      "metadata": {
        "colab": {
          "base_uri": "https://localhost:8080/"
        },
        "id": "Het999Cgq6BC",
        "outputId": "dd8bf03c-e490-4caf-a9b8-61f3f1f32ff8"
      },
      "id": "Het999Cgq6BC",
      "execution_count": null,
      "outputs": [
        {
          "output_type": "stream",
          "name": "stdout",
          "text": [
            "MSE : 13.176, RMSE : 3.630\n",
            "R스퀘어 (결정계수) : 0.837\n"
          ]
        }
      ]
    },
    {
      "cell_type": "markdown",
      "metadata": {
        "id": "z-fuv5sODHhQ"
      },
      "source": [
        "## 2-8. Light Gradient Boosting regression <LGBM - 회귀트리>\n",
        "ref: https://lightgbm.readthedocs.io/en/latest/pythonapi/lightgbm.LGBMRegressor.html"
      ],
      "id": "z-fuv5sODHhQ"
    },
    {
      "cell_type": "markdown",
      "metadata": {
        "id": "g2HjN23NDHhR"
      },
      "source": [
        "### API"
      ],
      "id": "g2HjN23NDHhR"
    },
    {
      "cell_type": "markdown",
      "source": [
        "<img src=\"https://blog.kakaocdn.net/dn/cu1uhp/btrwsIBaDcb/vVIlKvtoA9skj5Qs1eK3Hk/img.png\"></img>"
      ],
      "metadata": {
        "id": "DhPFVonKaxTf"
      },
      "id": "DhPFVonKaxTf"
    },
    {
      "cell_type": "markdown",
      "metadata": {
        "id": "JGdeajvNDHhR"
      },
      "source": [
        "### 파라미터 설명\n",
        "\n",
        "\n",
        "\n",
        "* boosting_type (str, optional (default='gbdt'))\n",
        "    - 실행하고자 하는 알고리즘 타입을 정의합니다. 디폴트값은 gdbt 입니다.\n",
        "    - gdbt : Traditional Gradient Boosting Decision Tree\n",
        "    - rf : Random Forest\n",
        "    - dart : Dropouts meet Multiple Additive Regression Trees\n",
        "    - goss : Gradient-based One-Side Sampling\n",
        "\n",
        "* learning_rate (float, optional (default=0.1))\n",
        "    - 최종 결과에 대한 각각의 Tree에 영향을 미치는 변수입니다. \n",
        "    - GBM은 초기의 추정값에서 시작하여 각각의Tree 결과를 사용하여 추정값을 업데이트 합니다. \n",
        "    - 학습 파라미터는 이러한 추정에서 발생하는 변화의 크기를 컨트롤합니다. 일반적인 값은 0.1, 0.001, 0.003 등등이 있습니다.\n",
        "\n",
        "* num_leaves (int, optional (default=31)) \n",
        "    - 전체 Tree의 leave 수 이고, 디폴트값은 31입니다.\n",
        "\n",
        "* max_depth (int, optional (default=-1))\n",
        "    - Tree의 최대 깊이를 말합니다. 이 파라미터는 모델 과적합을 다룰 때 사용됩니다. \n",
        "    - 만약 여러분의 모델이 과적합된 것 같다고 느끼신다면 제 조언은 max_depth 값을 줄이라는 것입니다.\n",
        "\n",
        "* n_estimators (int, optional (default=100)) \n",
        "    - 부스팅 모델 안의 결정 트리 갯수\n",
        "* subsample (float, optional (default=1.))\n",
        "    - 각각의 스탭마다 사용할 샘플의 비율. 1 이하의 값을 사용하면 오버 피팅을 방지할 수 있다.\n",
        "\n",
        "* colsample_bytree (float, optional (default=1.))\n",
        "    - 각각의 트리(스탭)마다 사용할 칼럼(Feature)의 비율\n",
        "\n",
        "* reg_lambda (float, optional (default=0.))\n",
        "    - L2 정규화(규제) 파라미터이다.\n",
        "    - 커질수록 보수적인 모델을 생성하고 오버 피팅을 방지해준다. 지나치게 클 경우 언더 피팅이 난다.\n",
        "    - 너무 큰 가중치를 그 크기에 비례하여 줄여준다.\n",
        "    - noise나 outlier 같은 애들이나 너무 크게 튀는 데이터들을 어느 정도 잡아준다고 보면 된다.\n",
        "* reg_alpha (float, optional (default=0.))\n",
        "    - L1 정규화(규제) 파라미터이다.\n",
        "    - 커질수록 보수적인 모델을 생성하고 오버 피팅을 방지해준다.\n",
        "    - 불필요한 가중치를 0으로 만들어서 무시하도록 한다.\n",
        "    - sparse feature 가 있거나 feature수가 지나치게 많을 때 효과적이다.\n"
      ],
      "id": "JGdeajvNDHhR"
    },
    {
      "cell_type": "markdown",
      "metadata": {
        "id": "txWtoAd6DHhS"
      },
      "source": [
        "### 예시코드(활용 예시)"
      ],
      "id": "txWtoAd6DHhS"
    },
    {
      "cell_type": "code",
      "source": [
        "from lightgbm import LGBMRegressor\n",
        "y_target = bostonDF['PRICE']\n",
        "X_data = bostonDF.drop('PRICE',axis=1)\n",
        "#데이터셋 나누기(train, test)\n",
        "X_train,X_test,y_train,y_test = train_test_split(X_data, y_target, test_size=0.3, random_state=123)\n",
        "#모델 사용\n",
        "model = LGBMRegressor(boosting_type='gbdt', num_leaves=31, max_depth=- 1, learning_rate=0.1,\n",
        "                      n_estimators=100, subsample=1.0, subsample_freq=0, colsample_bytree=1.0,\n",
        "                      reg_alpha=0.0, reg_lambda=0.0, random_state=1234)\n",
        "model.fit(X_train,y_train)\n",
        "y_preds = model.predict(X_test)"
      ],
      "metadata": {
        "id": "tiV0OcEiug6w"
      },
      "id": "tiV0OcEiug6w",
      "execution_count": null,
      "outputs": []
    },
    {
      "cell_type": "code",
      "source": [
        "mse= mean_squared_error(y_test, y_preds)\n",
        "rmse = np.sqrt(mse)\n",
        "\n",
        "print('MSE : {0:.3f}, RMSE : {1:.3f}'.format(mse,rmse))\n",
        "print('R스퀘어 (결정계수) : {0:.3f}'.format(r2_score(y_test,y_preds)))"
      ],
      "metadata": {
        "colab": {
          "base_uri": "https://localhost:8080/"
        },
        "id": "yFTYWKVgu21X",
        "outputId": "970f9814-adef-42bc-edac-cba611ef99ee"
      },
      "id": "yFTYWKVgu21X",
      "execution_count": null,
      "outputs": [
        {
          "output_type": "stream",
          "name": "stdout",
          "text": [
            "MSE : 17.113, RMSE : 4.137\n",
            "R스퀘어 (결정계수) : 0.788\n"
          ]
        }
      ]
    },
    {
      "cell_type": "markdown",
      "metadata": {
        "id": "YLIvqu85GY1w"
      },
      "source": [
        "## 2-9. Catboost regression <Catboost - 회귀트리>\n",
        "ref : https://catboost.ai/en/docs/concepts/python-reference_catboostregressor\n",
        "* api 사이트만으로는 default값 확인불가로 파이참으로 api확인 후 작성 예정 "
      ],
      "id": "YLIvqu85GY1w"
    },
    {
      "cell_type": "markdown",
      "metadata": {
        "id": "1ErBNw45GY1x"
      },
      "source": [
        "### API"
      ],
      "id": "1ErBNw45GY1x"
    },
    {
      "cell_type": "markdown",
      "metadata": {
        "id": "UFwW602xGY1y"
      },
      "source": [
        "### 파라미터 설명"
      ],
      "id": "UFwW602xGY1y"
    },
    {
      "cell_type": "markdown",
      "metadata": {
        "id": "QkelXp1RGY1y"
      },
      "source": [
        "### 예시코드(활용 예시)"
      ],
      "id": "QkelXp1RGY1y"
    },
    {
      "cell_type": "markdown",
      "source": [
        "# 3. pycaret을 통한 모델 성능비교\n",
        "* 데이터의 유형 혹은 파생변수에 따라서 모델의 성능이 다르다.\n",
        "* pycaret의 AUTO ML을 통해 빠르게 여러 모델의 성능을 확인할 수 있다.\n",
        "* pycaret을 통해 모델을 선정하고, 파라미터 튜닝 혹은 앙상블하여 유의미하게 활용할 수 있다.\n",
        "* pycaret은 모델 성능 참고용으로 활용하고 튜닝, 앙상블은 사람이 직접하는 것이 좋다 (튜닝의 경우 pycaret보다 optuna 성능이 뛰어남) "
      ],
      "metadata": {
        "id": "uSD7BkOpFIrB"
      },
      "id": "uSD7BkOpFIrB"
    },
    {
      "cell_type": "markdown",
      "id": "4454f0a0-6a60-457d-945d-e94f11b341f1",
      "metadata": {
        "id": "4454f0a0-6a60-457d-945d-e94f11b341f1"
      },
      "source": [
        "# 4. 회귀모델 `import` 모음\n"
      ]
    },
    {
      "cell_type": "code",
      "source": [
        "from sklearn.linear_model import LinearRegression\n",
        "from sklearn.model_selection import train_test_split\n",
        "from sklearn.metrics import mean_squared_error, r2_score, mean_absolute_error, mean_squared_log_error\n",
        "from sklearn.preprocessing import PolynomialFeatures\n",
        "from sklearn.linear_model import Lasso, LassoCV\n",
        "from sklearn.linear_model import ElasticNet, ElasticNetCV\n",
        "from sklearn.linear_model import Ridge, RidgeCV\n",
        "from sklearn.ensemble import RandomForestRegressor\n",
        "from xgboost import XGBRegressor\n",
        "from lightgbm import LGBMRegressor\n"
      ],
      "metadata": {
        "id": "ikeIM-ffwCrO"
      },
      "id": "ikeIM-ffwCrO",
      "execution_count": null,
      "outputs": []
    }
  ],
  "metadata": {
    "kernelspec": {
      "display_name": "Python 3 (ipykernel)",
      "language": "python",
      "name": "python3"
    },
    "language_info": {
      "codemirror_mode": {
        "name": "ipython",
        "version": 3
      },
      "file_extension": ".py",
      "mimetype": "text/x-python",
      "name": "python",
      "nbconvert_exporter": "python",
      "pygments_lexer": "ipython3",
      "version": "3.8.8"
    },
    "colab": {
      "name": "회귀분석_최상현.ipynb",
      "provenance": [],
      "collapsed_sections": [],
      "toc_visible": true,
      "include_colab_link": true
    }
  },
  "nbformat": 4,
  "nbformat_minor": 5
}