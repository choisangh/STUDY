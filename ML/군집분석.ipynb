{
  "cells": [
    {
      "cell_type": "markdown",
      "metadata": {
        "id": "view-in-github",
        "colab_type": "text"
      },
      "source": [
        "<a href=\"https://colab.research.google.com/github/choisangh/STUDY/blob/main/ML/%EA%B5%B0%EC%A7%91%EB%B6%84%EC%84%9D.ipynb\" target=\"_parent\"><img src=\"https://colab.research.google.com/assets/colab-badge.svg\" alt=\"Open In Colab\"/></a>"
      ]
    },
    {
      "cell_type": "markdown",
      "id": "58381f8d-6b55-40eb-98c2-53834023a382",
      "metadata": {
        "id": "58381f8d-6b55-40eb-98c2-53834023a382"
      },
      "source": [
        "# 군집(Clustering)\n",
        "<hr><hr>"
      ]
    },
    {
      "cell_type": "markdown",
      "id": "7fb8a95f-5421-4100-b2eb-cdf9820ae485",
      "metadata": {
        "id": "7fb8a95f-5421-4100-b2eb-cdf9820ae485"
      },
      "source": [
        "* ref of algorithms : https://developers.google.com/machine-learning/clustering\n",
        "\n",
        "* 예제 코드 데이터셋 : iris"
      ]
    },
    {
      "cell_type": "markdown",
      "id": "d0ead318-5642-4459-93b9-087846440976",
      "metadata": {
        "id": "d0ead318-5642-4459-93b9-087846440976"
      },
      "source": [
        "## 개념\n",
        "<hr>"
      ]
    },
    {
      "cell_type": "markdown",
      "id": "b4243bf2-bdfb-477b-a087-eb1f2a3a85d4",
      "metadata": {
        "id": "b4243bf2-bdfb-477b-a087-eb1f2a3a85d4"
      },
      "source": [
        "<img src = 'https://developers.google.com/machine-learning/clustering/images/ClusterUnlabeled.png' width=400>"
      ]
    },
    {
      "cell_type": "markdown",
      "id": "5bfbde2a-7078-4d92-81b6-a68f04f78cd2",
      "metadata": {
        "id": "5bfbde2a-7078-4d92-81b6-a68f04f78cd2"
      },
      "source": [
        "<font size=3>\n",
        "<font color = red><b>군집</b></font>은 비지도학습의 한 종류로 데이터셋을 유사한 특징을 갖는 클러스터(Cluster) 그룹으로 나눈 것을 의미한다.\n",
        "</font>\n",
        "<br><br>\n",
        "* 종속변수(y변수)가 없는 비지도학습이다.\n",
        "* 사전에 라벨이 알려져 있다면 군집이 아닌 분류가 된다.\n",
        "<br>\n",
        "* 하지만 현업에서는 학습 성능을 파악하기 위해 일부 데이터에 라벨을 단 후 군집 성능을 파악하기도 한다.\n",
        "<br><br>"
      ]
    },
    {
      "cell_type": "markdown",
      "id": "ec7c4aa5-cea2-419c-bec2-f08f901237e1",
      "metadata": {
        "id": "ec7c4aa5-cea2-419c-bec2-f08f901237e1"
      },
      "source": [
        "## 군집 알고리즘의 유형\n",
        "<hr>"
      ]
    },
    {
      "cell_type": "markdown",
      "id": "f1b27c8c-c8e0-41ab-8b04-9a7f835ce230",
      "metadata": {
        "id": "f1b27c8c-c8e0-41ab-8b04-9a7f835ce230"
      },
      "source": [
        "* <b>군집</b> 알고리즘의 대표적인 유형은 다음 네 가지가 있다.<br>\n",
        "    - Centroid-based Clustering(중심기반 군집)<br>\n",
        "    - Density-based Clustering(밀집도기반 군집)<br>\n",
        "    - Distribution-based Clustering(분포기반 군집)<br>\n",
        "    - Hierarchical Clustering(계층적 군집)<br>"
      ]
    },
    {
      "cell_type": "markdown",
      "id": "0e0606f5-7966-4903-a9ff-f5310858511f",
      "metadata": {
        "id": "0e0606f5-7966-4903-a9ff-f5310858511f"
      },
      "source": [
        "* Exhuastive list : https://link.springer.com/content/pdf/10.1007/s40745-015-0040-1.pdf"
      ]
    },
    {
      "cell_type": "markdown",
      "id": "a6345eb8-afab-4aca-b956-c1850d9e39a3",
      "metadata": {
        "id": "a6345eb8-afab-4aca-b956-c1850d9e39a3"
      },
      "source": [
        "### Centroid-based Clustering(중심 기반 군집)"
      ]
    },
    {
      "cell_type": "markdown",
      "id": "3e9bbf31-920e-48ac-b547-ce3eb2825189",
      "metadata": {
        "id": "3e9bbf31-920e-48ac-b547-ce3eb2825189"
      },
      "source": [
        "<img src = 'https://developers.google.com/machine-learning/clustering/images/CentroidBasedClustering.svg' style=\"background-color:white;\" width=400>"
      ]
    },
    {
      "cell_type": "markdown",
      "id": "4fc7bb4e-9b76-4282-8fab-4b402a71a7d0",
      "metadata": {
        "id": "4fc7bb4e-9b76-4282-8fab-4b402a71a7d0"
      },
      "source": [
        "<font size=3>Centroid-based Clustering : 랜덤으로 중심점을 선택한 후 각 데이터들이 얼마나 떨어져 있느냐에 따라 군집화 함.</font>\n",
        "* 예시 : K-Means\n",
        "* 특징 : 널리 쓰이는 알고리즘으로 상대적으로 심플하여 데이터가 많아도 속도가 빠르고 효율적이다.\n",
        "* 단점 : 초기 조건이나 아웃라이어에 민감하다."
      ]
    },
    {
      "cell_type": "markdown",
      "id": "18e0e78e-d479-4d15-9e5a-9d096f152afb",
      "metadata": {
        "id": "18e0e78e-d479-4d15-9e5a-9d096f152afb"
      },
      "source": [
        "### Density-based Clustering(밀도 기반 군집)"
      ]
    },
    {
      "cell_type": "markdown",
      "id": "d96fa7c6-ab39-4974-98a6-b421feed2a9f",
      "metadata": {
        "id": "d96fa7c6-ab39-4974-98a6-b421feed2a9f"
      },
      "source": [
        "<img src = 'https://developers.google.com/machine-learning/clustering/images/DensityClustering.svg' style=\"background-color:white;\" width=400>"
      ]
    },
    {
      "cell_type": "markdown",
      "id": "0fba5646-883d-44dd-b244-11ebe14f63e9",
      "metadata": {
        "id": "0fba5646-883d-44dd-b244-11ebe14f63e9"
      },
      "source": [
        "<font size=3>Density-based Clustering : 밀도에 기반하여 군집 연결. epsilone 반경 이내에 일정 수 이상의 데이터가 모여있으면 한 군집으로 간주.</font>\n",
        "* 예시 : DBSCAN\n",
        "* 특징 : 데이터의 일정한 분포를 가정하지는 않음(밀도를 기반으로 군집으로 엮을 수만 있으면 ok)\n",
        "*          아웃라이어는 고려하지 않음\n",
        "* 장점 : 미리 군집 수를 지정하지 않아도 됨.\n",
        "* 단점 : 밀도가 변하는 데이터나 고차원 데이터에 적합하지 않음."
      ]
    },
    {
      "cell_type": "markdown",
      "id": "66549f66-cc17-47ae-92f7-e9e2fbf352ba",
      "metadata": {
        "id": "66549f66-cc17-47ae-92f7-e9e2fbf352ba"
      },
      "source": [
        "### Hierachical Clustering(계층적 군집)"
      ]
    },
    {
      "cell_type": "markdown",
      "id": "ff80762e-849a-4bf9-aab3-8179dee0dd4e",
      "metadata": {
        "id": "ff80762e-849a-4bf9-aab3-8179dee0dd4e"
      },
      "source": [
        "<img src = 'https://developers.google.com/machine-learning/clustering/images/HierarchicalClustering.svg' style=\"background-color:white;\" width=400>"
      ]
    },
    {
      "cell_type": "markdown",
      "id": "cea4e795-8bae-4441-998c-30d88148d192",
      "metadata": {
        "id": "cea4e795-8bae-4441-998c-30d88148d192"
      },
      "source": [
        "<font size=3>Hierachical Clustering : 트리 구조를 가진 군집</font>\n",
        "* 예시 : AgglomerativeClustering, Dendrogram(트리구조를 나타낸 도표)\n",
        "* 특징 : 계층적 구조를 가진 데이터에 적합함(ex. Taxonomy)\n",
        "* 장점 : 군집의 개수를 미리 정의하지 않고도 사용 가능하다. 알고리즘을 진행한 후 원하는 가지에 따라 군집 개수 선택 가능"
      ]
    },
    {
      "cell_type": "markdown",
      "id": "5811371f-5e5e-43bf-a9a8-a83b4a685cde",
      "metadata": {
        "id": "5811371f-5e5e-43bf-a9a8-a83b4a685cde"
      },
      "source": [
        "단일기준결합방식, 완전기준결합방식, 평균기준결합방식"
      ]
    },
    {
      "cell_type": "markdown",
      "id": "3e25ab90-f848-4146-80a2-faaf252921cc",
      "metadata": {
        "id": "3e25ab90-f848-4146-80a2-faaf252921cc"
      },
      "source": [
        "### ( + ) Distribution-based Clustering"
      ]
    },
    {
      "cell_type": "markdown",
      "id": "0826f08e-f72d-47e9-9bde-f4c1f983aebf",
      "metadata": {
        "id": "0826f08e-f72d-47e9-9bde-f4c1f983aebf"
      },
      "source": [
        "<img src = 'https://developers.google.com/machine-learning/clustering/images/DistributionClustering.svg' style=\"background-color:white;\" width=400>"
      ]
    },
    {
      "cell_type": "markdown",
      "id": "dcb916cc-ef9c-4c3e-b9f1-e07c91ff720a",
      "metadata": {
        "id": "dcb916cc-ef9c-4c3e-b9f1-e07c91ff720a"
      },
      "source": [
        "<font size=3>Distribution-based Clustering : 데이터의 분포에 기반한 군집.</font>\n",
        "* 예시 : Gaussian mixture model\n",
        "* 특징 : 데이터가 일정한 분포를 따른다고 가정함.(ex. 정규분포(Gaussian distribution))\n",
        "*          군집의 중점으로부터 멀어질수록 해당 군집에 속할 확률은 감소하게 됨.\n",
        "* 주의 : 데이터의 분포를 모를 경우 사용 X\n",
        "<br><br>"
      ]
    },
    {
      "cell_type": "markdown",
      "id": "0ddda50f-52bf-4851-8098-9600b8e3dc85",
      "metadata": {
        "id": "0ddda50f-52bf-4851-8098-9600b8e3dc85"
      },
      "source": [
        "## 군집화 학습 절차"
      ]
    },
    {
      "cell_type": "markdown",
      "id": "45a6e39a-ce53-4aa9-a962-c22b4e240dc9",
      "metadata": {
        "id": "45a6e39a-ce53-4aa9-a962-c22b4e240dc9"
      },
      "source": [
        "<hr>"
      ]
    },
    {
      "cell_type": "markdown",
      "id": "a28ee2cf-8c12-4fcc-b315-e046170bcf9b",
      "metadata": {
        "id": "a28ee2cf-8c12-4fcc-b315-e046170bcf9b"
      },
      "source": [
        "<img src = 'https://drive.google.com/uc?export=download&id=18aV1DmrjoY8wFnnk57qwfz-zZew6NJw8' width=700>"
      ]
    },
    {
      "cell_type": "markdown",
      "id": "19d385bb-465c-4e5a-8556-855acc7422a5",
      "metadata": {
        "id": "19d385bb-465c-4e5a-8556-855acc7422a5"
      },
      "source": [
        "### 데이터 준비"
      ]
    },
    {
      "cell_type": "markdown",
      "id": "4c547b34-3dad-4fb7-aba1-c070850945ad",
      "metadata": {
        "id": "4c547b34-3dad-4fb7-aba1-c070850945ad"
      },
      "source": [
        "### 전처리"
      ]
    },
    {
      "cell_type": "markdown",
      "id": "3e9c026e-eafe-4afb-b443-f01577a70e43",
      "metadata": {
        "tags": [],
        "id": "3e9c026e-eafe-4afb-b443-f01577a70e43"
      },
      "source": [
        "<font size=4 color=green><b>스케일링</b></font>"
      ]
    },
    {
      "cell_type": "markdown",
      "id": "0da502dd-1c0c-443c-ad6f-c2cec7ae871f",
      "metadata": {
        "id": "0da502dd-1c0c-443c-ad6f-c2cec7ae871f"
      },
      "source": [
        "* 본인의 데이터셋 형태에 따라 필요 시 스케일링을 진행한다.<br>\n",
        "\n",
        "    - 어느 한 피쳐를 대상으로 유사성을 확인하고자 할 때 분포가 극단적 형태를 띄고 있다면 스케일링을 하는 것이 유용하다.(분위수 변환 예시 참고)<br>\n",
        "\n",
        "    - 두 개 이상의 피쳐가 있을 때 두 피쳐의 스케일이 크게 차이 난다면 스케일링을 하는 것이 유용하다.<br>\n",
        "\n",
        "        ex1. 사람을 분석할 때 mm 단위로 측정된 키와 톤 단위로 측정된 몸무게의 경우 mm로 측정된 키의 스케일이 절대적으로 크기 때문에 학습에서 키를 중요한 feature로 인식할 수 있다. 이 때 스케일링을 통해 두 변수의 크기 범위를 맞춰줄 수 있다.<br>\n",
        "        \n",
        "    - 두 피쳐의 크기가 차이나더라도 그 차이를 살려두는 것이 유의미하다면 스케일링을 하지 않아도 된다.<br>\n",
        "    \n",
        "        ex2. 거리를 기반으로 도시 분석 시 동/서 거리와 남/북 거리를 피쳐로 삼는다고 하자. 한국의 경우 남/북 거리가 동/서 거리보다 클 것이다.(세로로 기니까) 하지만 그렇다고 해서 두 변수를 스케일링 하여 규모를 비슷하게 맞출 필요는 없을 것이다.\n",
        "\n",
        "        ref: https://stats.stackexchange.com/questions/89809/is-it-important-to-scale-data-before-clustering\n",
        "        <br><br>"
      ]
    },
    {
      "cell_type": "markdown",
      "id": "8eedd5b2-8944-45ea-8976-e4100d375b6f",
      "metadata": {
        "id": "8eedd5b2-8944-45ea-8976-e4100d375b6f"
      },
      "source": [
        "<font size=3 color=yellowgreen><b>정규화(normalizing)</b></font>\n",
        "\n",
        "(구글에서는 normalizing이라는 용어 사용. 하지만 수식은 정규화(standardization)이라 혼선에 유의)"
      ]
    },
    {
      "cell_type": "markdown",
      "id": "49236bce-9ec0-487f-9272-b2bbb5720200",
      "metadata": {
        "id": "49236bce-9ec0-487f-9272-b2bbb5720200"
      },
      "source": [
        "<img src = 'https://drive.google.com/uc?export=download&id=1WHbClw7u7GxJZVPpYAzQh5_g5rTSBhQv' width=400>"
      ]
    },
    {
      "cell_type": "markdown",
      "id": "6592c460-8cf8-4625-83a9-56ee761bc40c",
      "metadata": {
        "id": "6592c460-8cf8-4625-83a9-56ee761bc40c"
      },
      "source": [
        "* z-score를 이용해 다수의 피쳐를 비슷한 scale로 맞추어줌.\n",
        "* 데이터가 <b> 정규분포(Gaussian distribution)</b>형태일 때 특히 유용\n",
        "* 아래서 설명할 분위수 변환에 비해 적은 데이터 수로도 스케일링 가능하다는 장점\n",
        "* 관련 API: <b>sklearn.preprocessing.StandardScaler</b>"
      ]
    },
    {
      "cell_type": "markdown",
      "id": "b9f8a296-5197-4e22-bb7d-0364b1277532",
      "metadata": {
        "id": "b9f8a296-5197-4e22-bb7d-0364b1277532"
      },
      "source": [
        "<img src = 'https://developers.google.com/machine-learning/clustering/images/NormalizeData.png' style=\"background-color:white;\" width=700>"
      ]
    },
    {
      "cell_type": "markdown",
      "id": "223ee29e-4786-49cc-8b70-459b14e09956",
      "metadata": {
        "id": "223ee29e-4786-49cc-8b70-459b14e09956"
      },
      "source": [
        "* 왼쪽은 정규화 하기 전, 오른쪽은 정규화 후\n",
        "* 왼쪽의 그래프에서 빨간색 점은 노란색 점보다는 파란색 점과 더 가까워보임.\n",
        "* 정규화를 한 오른쪽 그래프에서 빨간색 점은 파란색 점보다는 노란색 점과 더 유사함을 확인 가능\n",
        "<br><br>"
      ]
    },
    {
      "cell_type": "markdown",
      "id": "b2967d65-c95a-44ed-a7d7-669ec27673d0",
      "metadata": {
        "id": "b2967d65-c95a-44ed-a7d7-669ec27673d0"
      },
      "source": [
        "<font size=3 color=yellowgreen><b>로그 변환</b></font>"
      ]
    },
    {
      "cell_type": "markdown",
      "id": "34c569ba-b92e-4ea5-841c-2839fd6cb0a7",
      "metadata": {
        "id": "34c569ba-b92e-4ea5-841c-2839fd6cb0a7"
      },
      "source": [
        "<img src = 'https://www.gstatic.com/education/formulas2/397133473/en/logarithm.svg' style=\"background-color:white;\" width=200>\n",
        "\n",
        "b\t=\tlogarithmic base\n",
        "\n"
      ]
    },
    {
      "cell_type": "markdown",
      "id": "c87af20e-73ff-400a-b16b-baf345c7204e",
      "metadata": {
        "id": "c87af20e-73ff-400a-b16b-baf345c7204e"
      },
      "source": [
        "* 데이터에 log를 씌워 scaling 해줌.\n",
        "* 데이터가 <b>power-law(멱법칙)</b> 꼴일 경우 유용함.\n",
        "\n",
        "    멱법칙:  한 수(數)가 다른 수의 거듭제곱으로 표현되는 두 수의 함수적 관계를 의미한다. 예를 들어, 특정 인구수를 가지는 도시들의 숫자는 인구수의 거듭제곱에 반비례하여 나타난다. 경험적인 멱법칙 분포는 근사적으로만, 또는 제한된 범위에서만 적용된다.\n",
        "    \n",
        "* 관련 함수: log1p(1p는 값에 1을 더한 후 log를 취해 underflow되는 것을 막아줌.) expm1(log1p로 로그 변환 후 원상복구 시 expm1로 지수변환)"
      ]
    },
    {
      "cell_type": "markdown",
      "id": "d1d6042e-e366-40d6-9493-778dd70ed456",
      "metadata": {
        "id": "d1d6042e-e366-40d6-9493-778dd70ed456"
      },
      "source": [
        "<img src = 'https://developers.google.com/machine-learning/clustering/images/LeftSkew.png' style=\"background-color:white;\" width=700>\n"
      ]
    },
    {
      "cell_type": "markdown",
      "id": "642cbba6-d84b-43be-a704-07c1e975638d",
      "metadata": {
        "id": "642cbba6-d84b-43be-a704-07c1e975638d"
      },
      "source": [
        "(멱법칙 꼴 함수)"
      ]
    },
    {
      "cell_type": "markdown",
      "id": "74e666f2-f475-4b47-a83b-70f4dd024037",
      "metadata": {
        "id": "74e666f2-f475-4b47-a83b-70f4dd024037"
      },
      "source": [
        "<img src = 'https://developers.google.com/machine-learning/clustering/images/NormalDistribution.png' style=\"background-color:white;\" width=700>"
      ]
    },
    {
      "cell_type": "markdown",
      "id": "235d373b-cde8-4ca5-bfff-33966ce7b79f",
      "metadata": {
        "id": "235d373b-cde8-4ca5-bfff-33966ce7b79f"
      },
      "source": [
        "* 위쪽은 로그변환 하기 전, 아래쪽은 로그변환 후\n",
        "* 위쪽의 그래프에서 빨간색 점은 파란색 점보다는 노란색 점과 더 가까워보임.\n",
        "* 로그변환을 한 아래쪽 그래프에서 빨간색 점은 노란색 점보다는 파란색 점과 더 유사함을 확인 가능\n",
        "<br><br>"
      ]
    },
    {
      "cell_type": "markdown",
      "id": "698e2118-0f85-47cd-8b8a-70eda91190fa",
      "metadata": {
        "id": "698e2118-0f85-47cd-8b8a-70eda91190fa"
      },
      "source": [
        "<font size=3 color=yellowgreen><b>분위수 변환</b></font>"
      ]
    },
    {
      "cell_type": "markdown",
      "id": "db53854a-5369-451f-a0f4-fa1220034c35",
      "metadata": {
        "id": "db53854a-5369-451f-a0f4-fa1220034c35"
      },
      "source": [
        "<img src = 'https://drive.google.com/uc?export=download&id=1iStiN1YfmnbGNZalDhNEPizPjjdPEF6d' width=500>"
      ]
    },
    {
      "cell_type": "markdown",
      "id": "a3dbe34b-5f38-4079-8c63-0aecc5b3fb47",
      "metadata": {
        "id": "a3dbe34b-5f38-4079-8c63-0aecc5b3fb47"
      },
      "source": [
        "* 분위수에 기반해 scaling을 해줌.\n",
        "* 데이터가 정규분포나 멱법칙꼴이 아닌 어떤 다른 분포를 가진 경우에도 사용할 수 있음.\n",
        "* 단, 다른 스케일링 방법과 달리 충분한 수의 데이터가 필요함.(경험법칙에 따라 적어도 나누고자 하는 분위 개수 n의 10배에 달하는 데이터가 필요)\n",
        "* 관련 API : sklearn.preprocessing.QuantileTransformer\n",
        "* ref: https://machinelearningmastery.com/quantile-transforms-for-machine-learning/"
      ]
    },
    {
      "cell_type": "markdown",
      "id": "00e3202e-ba0b-4d45-b7b7-0b3876f7b5c8",
      "metadata": {
        "id": "00e3202e-ba0b-4d45-b7b7-0b3876f7b5c8"
      },
      "source": [
        "<font size=3><b>  - 부가 설명</b></font>"
      ]
    },
    {
      "cell_type": "markdown",
      "id": "04f5acba-8efa-42f1-bba8-2a8f96c68b28",
      "metadata": {
        "id": "04f5acba-8efa-42f1-bba8-2a8f96c68b28"
      },
      "source": [
        "<img src = 'https://developers.google.com/machine-learning/clustering/images/Preprocess.png' style=\"background-color:white;\" width=700>"
      ]
    },
    {
      "cell_type": "markdown",
      "id": "9f8c94f0-eddf-4de5-ba6f-ea3624454e39",
      "metadata": {
        "id": "9f8c94f0-eddf-4de5-ba6f-ea3624454e39"
      },
      "source": [
        "위와 같은 데이터가 있다고 하자. 분포 형태상 빨간점과 다른 점들간의 유사성을 비교하기 어렵다."
      ]
    },
    {
      "cell_type": "markdown",
      "id": "4e872c42-2f2c-457b-9cf8-3e8baf858238",
      "metadata": {
        "id": "4e872c42-2f2c-457b-9cf8-3e8baf858238"
      },
      "source": [
        "<img src = 'https://developers.google.com/machine-learning/clustering/images/LogTransform.png' style=\"background-color:white;\" width=700>"
      ]
    },
    {
      "cell_type": "markdown",
      "id": "b6fcb0d4-8258-401e-8c11-c8380e563c92",
      "metadata": {
        "id": "b6fcb0d4-8258-401e-8c11-c8380e563c92"
      },
      "source": [
        "* log변환 후.\n",
        "\n",
        "log변환을 한 경우에도 여전히 빨간 점과 다른 점들간의 유사성을 비교하기 어렵다."
      ]
    },
    {
      "cell_type": "markdown",
      "id": "87ee37fc-e0df-45b5-a8a8-6a64a3d65ced",
      "metadata": {
        "id": "87ee37fc-e0df-45b5-a8a8-6a64a3d65ced"
      },
      "source": [
        "<img src = 'https://developers.google.com/machine-learning/clustering/images/Quantize.png' style=\"background-color:white;\" width=700>"
      ]
    },
    {
      "cell_type": "markdown",
      "id": "004fc4da-7f8a-4fd9-a8f0-d868974048ab",
      "metadata": {
        "id": "004fc4da-7f8a-4fd9-a8f0-d868974048ab"
      },
      "source": [
        "* 분위수 변환\n",
        "1. 구간 수를 결정.\n",
        "2. 각 구간이 동일한 수의 예제를 가지도록 구간을 정의.\n",
        "3. 각 예제를 해당 간격의 인덱스로 대체.\n",
        "4. 인덱스 값을 [0,1]로 조정하여 인덱스를 다른 피쳐 데이터와 동일한 범위로 가져옴."
      ]
    },
    {
      "cell_type": "markdown",
      "id": "733e20aa-2472-491d-b669-34eec32f7307",
      "metadata": {
        "id": "733e20aa-2472-491d-b669-34eec32f7307"
      },
      "source": [
        "<img src = 'https://drive.google.com/uc?export=download&id=1iStiN1YfmnbGNZalDhNEPizPjjdPEF6d' width=500><br>\n",
        "* 분위수 변환 후 두 점의 유사도는 두 점 사이에 있는 다른 점들의 수에 반비례함. 두 점 사이에 많은 점들이 위치해 있다면 두 점의 유사도는 낮고 두 점 사이에 다른 점이 거의 없다면 두 점은 유사하다고 볼 수 있음."
      ]
    },
    {
      "cell_type": "markdown",
      "id": "eaa8753f-5651-4159-b42a-0839fba8d080",
      "metadata": {
        "id": "eaa8753f-5651-4159-b42a-0839fba8d080"
      },
      "source": [
        "* cf. QuantileTransformer : 분위수 변환 후 데이터의 분포는 사용자가 어떻게 설정하느냐에 따라 달라짐."
      ]
    },
    {
      "cell_type": "markdown",
      "id": "70e3afd9-7250-4294-b78c-d0c31acc2a2d",
      "metadata": {
        "id": "70e3afd9-7250-4294-b78c-d0c31acc2a2d"
      },
      "source": [
        "    * 원 데이터\n",
        "<img src = 'https://machinelearningmastery.com/wp-content/uploads/2020/05/Histogram-Plots-of-Input-Variables-for-the-Sonar-Binary-Classification-Dataset-1024x768.png' style=\"background-color:white;\" width=700>\n"
      ]
    },
    {
      "cell_type": "markdown",
      "id": "6e6d5082-1f13-43a6-a095-27ef3ad65d72",
      "metadata": {
        "id": "6e6d5082-1f13-43a6-a095-27ef3ad65d72"
      },
      "source": [
        "    * output_distribution을 'normal'로 설정한 경우\n",
        "<img src = 'https://machinelearningmastery.com/wp-content/uploads/2020/05/Histogram-Plots-of-Normal-Quantile-Transformed-Input-Variables-for-the-Sonar-Dataset-1024x768.png' style=\"background-color:white;\" width=700>"
      ]
    },
    {
      "cell_type": "markdown",
      "id": "709444c6-58d2-4075-8ba4-9c0bebbf137e",
      "metadata": {
        "id": "709444c6-58d2-4075-8ba4-9c0bebbf137e"
      },
      "source": [
        "    * output_distribution을 'uniform'으로 설정한 경우\n",
        "<img src = 'https://machinelearningmastery.com/wp-content/uploads/2020/05/Histogram-Plots-of-Uniform-Quantile-Transformed-Input-Variables-for-the-Sonar-Dataset-1024x768.png' style=\"background-color:white;\" width=700>"
      ]
    },
    {
      "cell_type": "markdown",
      "id": "ec98ce98-4716-4fe6-a89a-e46761c7a364",
      "metadata": {
        "id": "ec98ce98-4716-4fe6-a89a-e46761c7a364"
      },
      "source": [
        "<br><br>"
      ]
    },
    {
      "cell_type": "markdown",
      "id": "821e1c14-c1ee-4c31-9d92-a90317199821",
      "metadata": {
        "id": "821e1c14-c1ee-4c31-9d92-a90317199821"
      },
      "source": [
        "<font size=4 color=green><b>차원축소</b></font>"
      ]
    },
    {
      "cell_type": "markdown",
      "id": "083405a4-1957-4ada-8610-13c1d993b1ad",
      "metadata": {
        "id": "083405a4-1957-4ada-8610-13c1d993b1ad"
      },
      "source": [
        " * PCA, projection(투영), 매니폴드 학습(manifold learning), 비음수 행렬 분해(non-negative matrix factorization), t-SNE 등\n",
        " \n",
        " → 차원축소 파트 참고\n",
        " <br><br>"
      ]
    },
    {
      "cell_type": "markdown",
      "id": "b9891b1c-82cc-40e5-8e49-837191311ffe",
      "metadata": {
        "id": "b9891b1c-82cc-40e5-8e49-837191311ffe"
      },
      "source": [
        "### 적정 군집 수 확인"
      ]
    },
    {
      "cell_type": "markdown",
      "id": "8ec88da8-1ae3-43b5-9372-9752d1cbcda6",
      "metadata": {
        "id": "8ec88da8-1ae3-43b5-9372-9752d1cbcda6"
      },
      "source": [
        "<font size=4 color=green><b>inertia</b></font><br>\n",
        "<font size=3>**Inertia value**는 군집화가된 후에, 각 중심점에서 군집의 데이타간의 거리를 합산한것이으로 군집의 응집도를 나타내는 값이다.  \n",
        "      이 값이 작을 수록 응집도가 높게 군집화가 잘되었다고 평가할 수 있다.</font>\n",
        "\n",
        "* K-means 등과 같은 군집 알고리즘을 사용하기 위해서는 군집 개수를 명시적으로 지정해줘야 한다.\n",
        "* 적정 군집 수를 사전에 정의하기 어렵다면, for문을 이용해 확인하고 싶은 군집 수의 범위를 잡은 후 inertia value를 확인하여 적절한 군집 수를 선택할 수 있다.\n",
        "\n",
        "ref: https://bcho.tistory.com/1203?category=555440"
      ]
    },
    {
      "cell_type": "markdown",
      "id": "adbece6f-ccf4-4cb3-aa74-64998f9f41e1",
      "metadata": {
        "id": "adbece6f-ccf4-4cb3-aa74-64998f9f41e1"
      },
      "source": [
        "<font size=3 color=yellowgreen><b>elbow_chart 적정 K값 구하기</b></font>"
      ]
    },
    {
      "cell_type": "markdown",
      "id": "c3af430b-f8af-405b-a6ef-99727be7a6a6",
      "metadata": {
        "id": "c3af430b-f8af-405b-a6ef-99727be7a6a6"
      },
      "source": [
        "<font size=3>**elbow chart**는 각 군집 개수별 inertia의 값을 그래프로 나타낸 것이다.</font>\n",
        "* 해당 그래프가 급격히 꺾인 지점 부근에서 군집 개수를 선택할 수 있다."
      ]
    },
    {
      "cell_type": "markdown",
      "id": "b158025c-dba0-4248-891c-40745caaffa6",
      "metadata": {
        "id": "b158025c-dba0-4248-891c-40745caaffa6"
      },
      "source": [
        "<img src = 'https://t1.daumcdn.net/cfile/tistory/99D4B93359DB7BBE1B' style=\"background-color:white;\" width=400>\n"
      ]
    },
    {
      "cell_type": "markdown",
      "id": "faf4ec97-ab27-434e-8ad9-10f00dc4ad77",
      "metadata": {
        "id": "faf4ec97-ab27-434e-8ad9-10f00dc4ad77"
      },
      "source": [
        "* 예시: iris 데이터로 1 ~ 6개의 군집으로 군집화 했을 때의 elbow chart이다.  \n",
        "Inertia 값이 급격하게 하강해서 3 ~ 5사이에서는 변화의 폭이 크지 않은 것을 볼 수 있다.  \n",
        "이를 보면 iris 데이터는 3~5개의 군집으로 분류하는 것이 적절하다고 판단할 수 있다.  \n",
        "<br><br>"
      ]
    },
    {
      "cell_type": "markdown",
      "id": "2c93e852-4d91-4682-830f-033190f26745",
      "metadata": {
        "id": "2c93e852-4d91-4682-830f-033190f26745"
      },
      "source": [
        "<font size=4 color=green><b>silhouette_plot</b></font><br>\n",
        "→ 아래서 설명할 실루엣 스코어 그래프로도 적정 클러스터 개수를 찾을 수 있다.\n",
        "<br><br>"
      ]
    },
    {
      "cell_type": "markdown",
      "id": "fbf384f6-125e-4a51-b84d-5b30181b5114",
      "metadata": {
        "id": "fbf384f6-125e-4a51-b84d-5b30181b5114"
      },
      "source": [
        "## 평가 지표"
      ]
    },
    {
      "cell_type": "markdown",
      "id": "6a81b9a2-29b8-408e-8949-3efd0a279165",
      "metadata": {
        "id": "6a81b9a2-29b8-408e-8949-3efd0a279165"
      },
      "source": [
        "<hr>"
      ]
    },
    {
      "cell_type": "markdown",
      "id": "1e4ea09c-6dbd-4c22-aeab-8331569c2b25",
      "metadata": {
        "id": "1e4ea09c-6dbd-4c22-aeab-8331569c2b25"
      },
      "source": [
        "* 군집은 비지도학습이기 때문에 일반적으로 라벨링에 대한 점수를 표현하기 어렵다. 대신 밀집도 개념을 사용해 군집화 정도를 평가할 수 있다.<br>\n",
        "* 평가를 위해 train 데이터에 라벨을 부여해둔 경우 분류와 같이 평가 가능히다."
      ]
    },
    {
      "cell_type": "markdown",
      "id": "e274a65b-9bd8-4199-adde-9295a2367634",
      "metadata": {
        "id": "e274a65b-9bd8-4199-adde-9295a2367634"
      },
      "source": [
        "### silhouette_score(라벨 정보 없는 경우)\n",
        "ref: https://ariz1623.tistory.com/224"
      ]
    },
    {
      "cell_type": "markdown",
      "id": "9505f3dc-3269-4ccd-8d59-6fff817bce89",
      "metadata": {
        "id": "9505f3dc-3269-4ccd-8d59-6fff817bce89"
      },
      "source": [
        "<font size=4 color=green><b>silhouette score</b></font>"
      ]
    },
    {
      "cell_type": "markdown",
      "id": "fe807aaf-a8a8-4bca-ba2f-89f1ffe26919",
      "metadata": {
        "id": "fe807aaf-a8a8-4bca-ba2f-89f1ffe26919"
      },
      "source": [
        "<img src = 'https://t1.daumcdn.net/cfile/tistory/995D6D455F4346C315' style=\"background-color:white;\" width=400>"
      ]
    },
    {
      "cell_type": "markdown",
      "id": "d7a9e0dd-8011-48cf-b138-51bd23f6d2d8",
      "metadata": {
        "id": "d7a9e0dd-8011-48cf-b138-51bd23f6d2d8"
      },
      "source": [
        "<font size=3>\n",
        "<font color = red><b>silhouette score</b></font>는 silhouette coefficient(실루엣 계수)를 평균한 것으로 각 군집 간의 거리가 얼마나 효율적으로 분리되어 있는지를 나타낸다.<br>개별 데이터가 가지는 실루엣 계수는 해당 데이터가 같은 군집 내의 데이터와 얼마나 가깝게 군집화 되어 있고, 다른 군집에 있는 데이터와는 얼마나 멀리 분리돼 있는지를 나타내는 지표이다.\n",
        "</font>"
      ]
    },
    {
      "cell_type": "markdown",
      "id": "e1dd5acb-404a-4884-b534-a42c484b91c1",
      "metadata": {
        "id": "e1dd5acb-404a-4884-b534-a42c484b91c1"
      },
      "source": [
        "<img src = 'https://t1.daumcdn.net/cfile/tistory/99BC644B5F4346CA10' style=\"background-color:white;\" width=300>"
      ]
    },
    {
      "cell_type": "markdown",
      "id": "e467b9b1-3e1c-4386-9f02-223fd32721c0",
      "metadata": {
        "id": "e467b9b1-3e1c-4386-9f02-223fd32721c0"
      },
      "source": [
        "* 특정 데이터 포인트의 실루엣 계수 값:  \n",
        "a(i): 해당 데이터 포인트와 같은 군집 내에 있는 다른 데이터 포인트와의 거리를 평균한 값  \n",
        "b(i): 해당 데이터 포인트가 속하지 않은 군집 중 가장 가까운 군집과의 평균 거리  \n",
        "b(i) - a(i) : 두 군집 간의 거리 값  \n",
        "Max(a(i),b(i)) : 두 군집 간의 거리 값을 정규화 하기 위해 max로 나누어줌.  \n",
        "\n",
        "* 실루엣 계수는 -1 에서 1사이의 값을 가진다.\n",
        "    * 1로 가까워 질수록 근처의 군집과 더 멀리 떨어져 있음.\n",
        "    * 0에 가까울 수록 근처의 군집과 가까워짐.\n",
        "    * (-) 값은 아예 다른 군집에 데이터 포인트가 할당 됐음을 의미\n",
        "    \n",
        "\n",
        "* 좋은 군집화 조건\n",
        "\n",
        "    * 전체 실루엣 계수의 평균값, 즉 사이킷런의 silhouette_score() 값은 0~1 사이의 값을 가지며, 1에 가까울 수록 좋다.\n",
        "    * 전체 실루엣 계수의 평균값과 더불어 개별 군집의 평균값의 편차가 작아야한다.\n",
        "      즉 개별 군집의 실루엣 계수 평균값이 전체 실루엣 계수의 평균값에서 크게 벗어나지 않는 것이 중요하다.\n",
        "    * 만약 전체 실루엣 계수의 평균값은 높지만, 특정 군집의 실루엣 계수 평균값만 유난히 높고 다른 군집들의 실루엣 계수 평균값은 낮으면 좋은 군집화가 아니다."
      ]
    },
    {
      "cell_type": "markdown",
      "id": "60bc2b7d-6115-46f7-934d-13ad987e0cbd",
      "metadata": {
        "id": "60bc2b7d-6115-46f7-934d-13ad987e0cbd"
      },
      "source": [
        "<font size=4 color=green><b>silhouette_plot</b></font> -> 적정 군집 수 확인"
      ]
    },
    {
      "cell_type": "markdown",
      "id": "5fe5b14d-204f-4f75-8383-6e077d468c31",
      "metadata": {
        "id": "5fe5b14d-204f-4f75-8383-6e077d468c31"
      },
      "source": [
        "<img src = 'https://t1.daumcdn.net/cfile/tistory/9947F1475F43472C16' style=\"background-color:white;\" width=500>\n",
        "<img src = 'https://t1.daumcdn.net/cfile/tistory/9932E4345F43473A0D' style=\"background-color:white;\" width=500>\n",
        "<img src = 'https://scikit-learn.org/stable/_images/sphx_glr_plot_kmeans_silhouette_analysis_003.png' style=\"background-color:white;\" width=500>"
      ]
    },
    {
      "cell_type": "markdown",
      "id": "0102c441-8b8d-4107-8fbd-fcfa77e88279",
      "metadata": {
        "id": "0102c441-8b8d-4107-8fbd-fcfa77e88279"
      },
      "source": [
        "* 빨간 점선 : 모든 데이터들의 평균 실루엣 계수(= 실루엣 스코어)\n",
        "* 첫번째부터 세번째까지 각 그래프는 군집이 2개일 때, 3개일 때, 4개일 때를 의미\n",
        "<br><br>\n",
        "* 해석\n",
        "    * 왼쪽 그래프(색 그래프):\n",
        "    <br>\n",
        "        * y축은 각 값들을 의미하며 x축은 해당 y축 값에 상응하는 실루엣 계수를 의미함.\n",
        "    <br>\n",
        "        * 각 군집이 서로 다른 색으로 나타나 있음.\n",
        "    <br>\n",
        "        * 군집 3개일 때의 그래프의 경우 한 군집의 어느 점도 평균 실루엣 계수에 미치지 못하므로 좋은 군집이라 볼 수 없음.\n",
        "    <br>\n",
        "        * 군집 2개일 때의 그래프의 경우 두 군집 모두 평균 실루엣 계수를 넘는 점 보유함.\n",
        "    <br><br>\n",
        "    → 군집 2개가 적정\n",
        "    <br>\n",
        "    <br>\n",
        "    * 오른쪽 그래프(산점도):\n",
        "    <br>\n",
        "        각 점이 어느 군집에 속해있는지를 나타냄.\n",
        "    \n",
        "    "
      ]
    },
    {
      "cell_type": "markdown",
      "id": "40ed6949-ff17-40f9-803d-61c548fcae19",
      "metadata": {
        "id": "40ed6949-ff17-40f9-803d-61c548fcae19"
      },
      "source": [
        "* silhouette_score를 이용해 적정 군집 수를 확인할 수도 있다.\n"
      ]
    },
    {
      "cell_type": "markdown",
      "id": "3ffb41b6-0d7c-4d3e-a7ea-2eefdb54ea3d",
      "metadata": {
        "id": "3ffb41b6-0d7c-4d3e-a7ea-2eefdb54ea3d"
      },
      "source": [
        "### 라벨 정보 있는 경우"
      ]
    },
    {
      "cell_type": "markdown",
      "id": "123bc82d-b48b-47b0-aa57-a00b3183b04d",
      "metadata": {
        "id": "123bc82d-b48b-47b0-aa57-a00b3183b04d"
      },
      "source": [
        "* crosstab\n",
        "* accuracy 등 일반 분류에서 사용하는 metrics 사용 가능"
      ]
    },
    {
      "cell_type": "markdown",
      "id": "599bf1c8-39c1-483d-84ab-d0d662334b1f",
      "metadata": {
        "id": "599bf1c8-39c1-483d-84ab-d0d662334b1f"
      },
      "source": [
        "# 군집 모델 설명 및 코드"
      ]
    },
    {
      "cell_type": "markdown",
      "id": "58df0626-6341-4a6a-93be-e9420e909e5e",
      "metadata": {
        "id": "58df0626-6341-4a6a-93be-e9420e909e5e"
      },
      "source": [
        "<hr><hr>"
      ]
    },
    {
      "cell_type": "code",
      "execution_count": null,
      "id": "4407469e-3bee-433c-be82-529d250bf521",
      "metadata": {
        "tags": [],
        "id": "4407469e-3bee-433c-be82-529d250bf521",
        "outputId": "07782692-3ec6-428e-80f7-68496e5b3ed5"
      },
      "outputs": [
        {
          "data": {
            "text/html": [
              "<style>.container{width:100% !important;}</style>"
            ],
            "text/plain": [
              "<IPython.core.display.HTML object>"
            ]
          },
          "metadata": {},
          "output_type": "display_data"
        }
      ],
      "source": [
        "import pandas as pd\n",
        "import numpy as np\n",
        "\n",
        "import datetime as dt\n",
        "\n",
        "import warnings\n",
        "warnings.filterwarnings(action='ignore')\n",
        "\n",
        "import os\n",
        "import shutil # shutil.rmtree\n",
        "\n",
        "# -----------Clustering\n",
        "# from sklearn.datasets import make_blobs # 임의의 점\n",
        "from sklearn.cluster import KMeans, DBSCAN\n",
        "from sklearn.metrics import silhouette_samples, silhouette_score # silhouette_samples는 차트 그리는 용\n",
        "\n",
        "# -----------preprocessing\n",
        "from sklearn.preprocessing import StandardScaler\n",
        "from sklearn.preprocessing import LabelEncoder, OneHotEncoder\n",
        "\n",
        "# ----------PCA\n",
        "from sklearn.decomposition import PCA\n",
        "\n",
        "\n",
        "#-------------------- visualization (edcoding, grid) -----------\n",
        "\n",
        "import matplotlib.pyplot as plt\n",
        "import seaborn as sns\n",
        "\n",
        "#plt.rc('font', family='NanumGothicOTF') # For MacOS\n",
        "plt.rcParams['font.family']= 'Malgun Gothic'\n",
        "plt.rcParams['axes.unicode_minus'] = False\n",
        "# sns.set()\n",
        "\n",
        "#-------------------- jupyter ---------------\n",
        "from IPython.core.display import display, HTML\n",
        "display(HTML(\"<style>.container{width:100% !important;}</style>\"))\n",
        "pd.set_option('display.max_rows', 100)\n",
        "pd.set_option('display.max_columns', 100)\n",
        "pd.set_option('max_colwidth', None)"
      ]
    },
    {
      "cell_type": "markdown",
      "id": "309a4d72-6fa1-475a-b37e-7f156d335327",
      "metadata": {
        "id": "309a4d72-6fa1-475a-b37e-7f156d335327"
      },
      "source": [
        "예제 데이터셋"
      ]
    },
    {
      "cell_type": "code",
      "execution_count": null,
      "id": "25e050d6-7a30-4867-8f97-e3989b7f48a6",
      "metadata": {
        "id": "25e050d6-7a30-4867-8f97-e3989b7f48a6"
      },
      "outputs": [],
      "source": [
        "from sklearn.datasets import load_iris"
      ]
    },
    {
      "cell_type": "code",
      "execution_count": null,
      "id": "8823317e-2a8f-400d-8541-484971492374",
      "metadata": {
        "id": "8823317e-2a8f-400d-8541-484971492374",
        "outputId": "b974395e-6a81-49a7-d7de-94b441aa3718"
      },
      "outputs": [
        {
          "data": {
            "text/plain": [
              "dict_keys(['data', 'target', 'frame', 'target_names', 'DESCR', 'feature_names', 'filename'])"
            ]
          },
          "execution_count": 3,
          "metadata": {},
          "output_type": "execute_result"
        }
      ],
      "source": [
        "load_iris().keys() # 'data', 'target', 'feature_names', 'target_names'"
      ]
    },
    {
      "cell_type": "code",
      "execution_count": null,
      "id": "8ac6fe3a-6366-4dab-b549-aa2d1fc659fb",
      "metadata": {
        "id": "8ac6fe3a-6366-4dab-b549-aa2d1fc659fb",
        "outputId": "f6de0ba5-be97-4af8-d3db-961e59d551fb"
      },
      "outputs": [
        {
          "data": {
            "text/plain": [
              "array(['setosa', 'versicolor', 'virginica'], dtype='<U10')"
            ]
          },
          "execution_count": 4,
          "metadata": {},
          "output_type": "execute_result"
        }
      ],
      "source": [
        "dataset_dict = load_iris()\n",
        "dataset_dict[\"target_names\"]"
      ]
    },
    {
      "cell_type": "code",
      "execution_count": null,
      "id": "51b10a05-b0b2-41cb-852e-676bbfc09c18",
      "metadata": {
        "id": "51b10a05-b0b2-41cb-852e-676bbfc09c18",
        "outputId": "fad6cedb-e6c4-4ce4-f291-51eed048b0bb"
      },
      "outputs": [
        {
          "name": "stdout",
          "output_type": "stream",
          "text": [
            "(150, 5)\n",
            "<class 'pandas.core.frame.DataFrame'>\n",
            "RangeIndex: 150 entries, 0 to 149\n",
            "Data columns (total 5 columns):\n",
            " #   Column  Non-Null Count  Dtype  \n",
            "---  ------  --------------  -----  \n",
            " 0   sl      150 non-null    float64\n",
            " 1   sw      150 non-null    float64\n",
            " 2   pl      150 non-null    float64\n",
            " 3   pw      150 non-null    float64\n",
            " 4   target  150 non-null    int32  \n",
            "dtypes: float64(4), int32(1)\n",
            "memory usage: 5.4 KB\n",
            "None\n"
          ]
        },
        {
          "data": {
            "text/html": [
              "<div>\n",
              "<style scoped>\n",
              "    .dataframe tbody tr th:only-of-type {\n",
              "        vertical-align: middle;\n",
              "    }\n",
              "\n",
              "    .dataframe tbody tr th {\n",
              "        vertical-align: top;\n",
              "    }\n",
              "\n",
              "    .dataframe thead th {\n",
              "        text-align: right;\n",
              "    }\n",
              "</style>\n",
              "<table border=\"1\" class=\"dataframe\">\n",
              "  <thead>\n",
              "    <tr style=\"text-align: right;\">\n",
              "      <th></th>\n",
              "      <th>sl</th>\n",
              "      <th>sw</th>\n",
              "      <th>pl</th>\n",
              "      <th>pw</th>\n",
              "      <th>target</th>\n",
              "    </tr>\n",
              "  </thead>\n",
              "  <tbody>\n",
              "    <tr>\n",
              "      <th>0</th>\n",
              "      <td>5.1</td>\n",
              "      <td>3.5</td>\n",
              "      <td>1.4</td>\n",
              "      <td>0.2</td>\n",
              "      <td>0</td>\n",
              "    </tr>\n",
              "    <tr>\n",
              "      <th>1</th>\n",
              "      <td>4.9</td>\n",
              "      <td>3.0</td>\n",
              "      <td>1.4</td>\n",
              "      <td>0.2</td>\n",
              "      <td>0</td>\n",
              "    </tr>\n",
              "    <tr>\n",
              "      <th>2</th>\n",
              "      <td>4.7</td>\n",
              "      <td>3.2</td>\n",
              "      <td>1.3</td>\n",
              "      <td>0.2</td>\n",
              "      <td>0</td>\n",
              "    </tr>\n",
              "    <tr>\n",
              "      <th>3</th>\n",
              "      <td>4.6</td>\n",
              "      <td>3.1</td>\n",
              "      <td>1.5</td>\n",
              "      <td>0.2</td>\n",
              "      <td>0</td>\n",
              "    </tr>\n",
              "    <tr>\n",
              "      <th>4</th>\n",
              "      <td>5.0</td>\n",
              "      <td>3.6</td>\n",
              "      <td>1.4</td>\n",
              "      <td>0.2</td>\n",
              "      <td>0</td>\n",
              "    </tr>\n",
              "  </tbody>\n",
              "</table>\n",
              "</div>"
            ],
            "text/plain": [
              "    sl   sw   pl   pw  target\n",
              "0  5.1  3.5  1.4  0.2       0\n",
              "1  4.9  3.0  1.4  0.2       0\n",
              "2  4.7  3.2  1.3  0.2       0\n",
              "3  4.6  3.1  1.5  0.2       0\n",
              "4  5.0  3.6  1.4  0.2       0"
            ]
          },
          "execution_count": 5,
          "metadata": {},
          "output_type": "execute_result"
        }
      ],
      "source": [
        "df = pd.DataFrame(data=dataset_dict[\"data\"], columns=dataset_dict[\"feature_names\"])\n",
        "df['target'] = dataset_dict[\"target\"]\n",
        "df.columns = ['sl', 'sw', 'pl', 'pw','target']\n",
        "print(df.shape)\n",
        "print(df.info())\n",
        "df.head()"
      ]
    },
    {
      "cell_type": "markdown",
      "id": "73e077c3-455b-44e8-a133-022db95c4e9d",
      "metadata": {
        "id": "73e077c3-455b-44e8-a133-022db95c4e9d"
      },
      "source": [
        "## 군집 알고리즘"
      ]
    },
    {
      "cell_type": "markdown",
      "id": "c77aefec-7df6-44ec-b134-0ec8672f1b9c",
      "metadata": {
        "id": "c77aefec-7df6-44ec-b134-0ec8672f1b9c"
      },
      "source": [
        "<hr>"
      ]
    },
    {
      "cell_type": "markdown",
      "id": "d8024c0b-c0db-4407-9223-a7fcee8f6ef2",
      "metadata": {
        "id": "d8024c0b-c0db-4407-9223-a7fcee8f6ef2"
      },
      "source": [
        "<img src = 'https://scikit-learn.org/stable/_images/sphx_glr_plot_cluster_comparison_001.png' style=\"background-color:white;\" width=700>"
      ]
    },
    {
      "cell_type": "markdown",
      "id": "059c11e2-9b04-419e-b6af-3375cc30e160",
      "metadata": {
        "id": "059c11e2-9b04-419e-b6af-3375cc30e160"
      },
      "source": [
        "## K-Means : 중심 기반 군집"
      ]
    },
    {
      "cell_type": "markdown",
      "id": "e6926527-d5a3-4693-b2b4-0a126f11e1d8",
      "metadata": {
        "id": "e6926527-d5a3-4693-b2b4-0a126f11e1d8"
      },
      "source": [
        "### API"
      ]
    },
    {
      "cell_type": "markdown",
      "id": "82314f3d-81d9-46d7-8b5a-5fc0792c2c45",
      "metadata": {
        "id": "82314f3d-81d9-46d7-8b5a-5fc0792c2c45"
      },
      "source": [
        "<img src = 'https://drive.google.com/uc?export=download&id=1Ko7rCobfisANNv3I7OjVtozIEORp1fDl' width=700>"
      ]
    },
    {
      "cell_type": "markdown",
      "id": "934ccfb6-b828-4328-a534-abc9a0ac685f",
      "metadata": {
        "id": "934ccfb6-b828-4328-a534-abc9a0ac685f"
      },
      "source": [
        "### 파라미터 설명"
      ]
    },
    {
      "cell_type": "markdown",
      "id": "edf5d85e-1a1e-43dc-aa98-69da67fda31c",
      "metadata": {
        "id": "edf5d85e-1a1e-43dc-aa98-69da67fda31c"
      },
      "source": [
        "<img src=\"https://miro.medium.com/max/875/0*8ERlq_ZmWnZzDO83.gif\" style=\"background-color:white;\" width=700>"
      ]
    },
    {
      "cell_type": "markdown",
      "id": "87d43e6a-86eb-49d8-bd9f-dfef77b2d101",
      "metadata": {
        "id": "87d43e6a-86eb-49d8-bd9f-dfef77b2d101"
      },
      "source": [
        "<img src = 'https://drive.google.com/uc?export=download&id=19XaQBQGtnWd9S9PeLhtqh6kNKJPTYfmg'  width=700>"
      ]
    },
    {
      "cell_type": "markdown",
      "id": "37073506-159c-4466-8952-ef5c6d34b1a7",
      "metadata": {
        "id": "37073506-159c-4466-8952-ef5c6d34b1a7"
      },
      "source": [
        "<font size=3>* 군집과 군집 중심과 관련된 파라미터  \n",
        "`n_clusters`: 몇 개의 군집을 만들 것인지 지정.(default=8)  \n",
        "`init`: 초기 중심점을 어떻게 설정할 것인지 지정('k-means++', 'random'. 전자의 경우 api가 알아서 지정.)\n",
        "</font>\n",
        "\n",
        "<font size=3>* 성능개선과 관련된 파라미터  \n",
        "`max_iter` : 적절한 중심을 찾기까지 알고리즘이 반복 수행될 최대값 (default=300)  \n",
        "`tol` : 반복 수행하면서 'tol'값 이상 만큼 성능 개선 안 되면 반복수행 멈춤.(default=1e-4)\n",
        "</font>\n",
        "<br><br>"
      ]
    },
    {
      "cell_type": "markdown",
      "id": "9c45ef1d-170d-4b7f-a156-4a6d77b771c4",
      "metadata": {
        "id": "9c45ef1d-170d-4b7f-a156-4a6d77b771c4"
      },
      "source": [
        "### 활용 예시 : 'sl', 'sw' 피쳐를 이용해 KMeans로 군집화"
      ]
    },
    {
      "cell_type": "code",
      "execution_count": null,
      "id": "4ff82f84-42f9-44d6-8b82-75d4330e4d2f",
      "metadata": {
        "id": "4ff82f84-42f9-44d6-8b82-75d4330e4d2f",
        "outputId": "44af563c-cc19-4132-ce72-ecd02be1243d"
      },
      "outputs": [
        {
          "name": "stdout",
          "output_type": "stream",
          "text": [
            "[[5.006      3.428     ]\n",
            " [6.81276596 3.07446809]\n",
            " [5.77358491 2.69245283]] (3, 2)\n"
          ]
        },
        {
          "data": {
            "text/html": [
              "<div>\n",
              "<style scoped>\n",
              "    .dataframe tbody tr th:only-of-type {\n",
              "        vertical-align: middle;\n",
              "    }\n",
              "\n",
              "    .dataframe tbody tr th {\n",
              "        vertical-align: top;\n",
              "    }\n",
              "\n",
              "    .dataframe thead th {\n",
              "        text-align: right;\n",
              "    }\n",
              "</style>\n",
              "<table border=\"1\" class=\"dataframe\">\n",
              "  <thead>\n",
              "    <tr style=\"text-align: right;\">\n",
              "      <th></th>\n",
              "      <th>x</th>\n",
              "      <th>y</th>\n",
              "    </tr>\n",
              "  </thead>\n",
              "  <tbody>\n",
              "    <tr>\n",
              "      <th>0</th>\n",
              "      <td>5.006000</td>\n",
              "      <td>3.428000</td>\n",
              "    </tr>\n",
              "    <tr>\n",
              "      <th>1</th>\n",
              "      <td>6.812766</td>\n",
              "      <td>3.074468</td>\n",
              "    </tr>\n",
              "    <tr>\n",
              "      <th>2</th>\n",
              "      <td>5.773585</td>\n",
              "      <td>2.692453</td>\n",
              "    </tr>\n",
              "  </tbody>\n",
              "</table>\n",
              "</div>"
            ],
            "text/plain": [
              "          x         y\n",
              "0  5.006000  3.428000\n",
              "1  6.812766  3.074468\n",
              "2  5.773585  2.692453"
            ]
          },
          "execution_count": 6,
          "metadata": {},
          "output_type": "execute_result"
        }
      ],
      "source": [
        "# model\n",
        "model = KMeans(n_clusters=3, random_state=1234)\n",
        "\n",
        "# fit\n",
        "model.fit(df[['sl', 'sw']])\n",
        "\n",
        "# predict\n",
        "pred_label = model.predict(df[['sl', 'sw']]) # pred_label = [0 0 0 0 0 ...... ]\n",
        "\n",
        "df['label'] = pred_label.reshape(-1,1)\n",
        "\n",
        "# cluster_centers_\n",
        "cheader = model.cluster_centers_\n",
        "print(cheader, cheader.shape)  #(n_clusters, n_features)\n",
        "\n",
        "# 각 클러스터에서 중심점의 좌표\n",
        "cheader_df = pd.DataFrame(data=cheader, columns=['x','y'])\n",
        "cheader_df.head()\n"
      ]
    },
    {
      "cell_type": "code",
      "execution_count": null,
      "id": "7a086eda-8c6a-46cb-8b85-fd348449b881",
      "metadata": {
        "id": "7a086eda-8c6a-46cb-8b85-fd348449b881",
        "outputId": "f69950d6-7410-4087-e74c-f0d257111788"
      },
      "outputs": [
        {
          "data": {
            "image/png": "[encoded data removed]",
            "text/plain": [
              "<Figure size 720x216 with 2 Axes>"
            ]
          },
          "metadata": {
            "needs_background": "light"
          },
          "output_type": "display_data"
        }
      ],
      "source": [
        "p, axes = plt.subplots(1,2, figsize=(10,3))\n",
        "sns.scatterplot(df['sl'], df['sw'], hue=df['target'], ax=axes[0]) # label 있을 경우 실제 분류\n",
        "sns.scatterplot(df['sl'], df['sw'], hue=df['label'], ax=axes[1])  # label에 따라 다른 색으로 표시\n",
        "sns.scatterplot(cheader_df['x'], cheader_df['y'], ax=axes[1])     # 중심점 표시\n",
        "axes[0].grid(False)\n",
        "axes[1].grid(False)\n",
        "plt.show()"
      ]
    },
    {
      "cell_type": "markdown",
      "id": "cb6965aa-67b1-4043-8603-43b3793478d1",
      "metadata": {
        "id": "cb6965aa-67b1-4043-8603-43b3793478d1"
      },
      "source": [
        "## DBSCAN : 밀도 기반 군집"
      ]
    },
    {
      "cell_type": "markdown",
      "id": "2324e369-32a4-4f48-b6a0-734e16d1cf64",
      "metadata": {
        "id": "2324e369-32a4-4f48-b6a0-734e16d1cf64"
      },
      "source": [
        "### API"
      ]
    },
    {
      "cell_type": "markdown",
      "id": "09066a9a-dd53-4e1d-8823-651a676dc502",
      "metadata": {
        "id": "09066a9a-dd53-4e1d-8823-651a676dc502"
      },
      "source": [
        "<img src = 'https://drive.google.com/uc?export=download&id=1zvZJYWB7K0F9CzpLnYUbIVPPFIVr7hkW'  width=700>"
      ]
    },
    {
      "cell_type": "markdown",
      "id": "ff176873-1b7d-46ed-85a3-49d70e2b3914",
      "metadata": {
        "id": "ff176873-1b7d-46ed-85a3-49d70e2b3914"
      },
      "source": [
        "** 주의: DBSCAN은 predict 따로 없음"
      ]
    },
    {
      "cell_type": "markdown",
      "id": "1e75e8cc-377a-4811-bf89-d00819ff6fda",
      "metadata": {
        "id": "1e75e8cc-377a-4811-bf89-d00819ff6fda"
      },
      "source": [
        "### 파라미터 설명"
      ]
    },
    {
      "cell_type": "markdown",
      "id": "adc8601a-318e-4c70-9c8e-f35a22b8d2eb",
      "metadata": {
        "id": "adc8601a-318e-4c70-9c8e-f35a22b8d2eb"
      },
      "source": [
        "<img src = 'https://t1.daumcdn.net/cfile/tistory/9930A63359E057BA1A' style=\"background-color:white;\" width=700>\n"
      ]
    },
    {
      "cell_type": "markdown",
      "id": "7ac09c78-f56c-4e04-84d9-128f27f9b18d",
      "metadata": {
        "id": "7ac09c78-f56c-4e04-84d9-128f27f9b18d"
      },
      "source": [
        "<img src = 'https://t1.daumcdn.net/cfile/tistory/99CC563359E057BA25' style=\"background-color:white;\" width=700>\n"
      ]
    },
    {
      "cell_type": "markdown",
      "id": "63ca57b6-9636-4dbe-8157-046f0609f2b1",
      "metadata": {
        "id": "63ca57b6-9636-4dbe-8157-046f0609f2b1"
      },
      "source": [
        "<img src = 'https://drive.google.com/uc?export=download&id=1Xv4yQqJ97MmGZXv-Ac7RjtVZ_lcUqjfP'  width=700>"
      ]
    },
    {
      "cell_type": "markdown",
      "id": "cbfa5c5f-7f54-4455-badd-56635bc5dba1",
      "metadata": {
        "id": "cbfa5c5f-7f54-4455-badd-56635bc5dba1"
      },
      "source": [
        "<font size=3>* `메인 아이디어`: 중점으로부터 eps 반경 이내에 min_samples 이상의 점이 있으면 이를 한 군집으로 간주.</font>\n",
        "\n",
        "<font size=3>* 군집과 군집 중심과 관련된 파라미터  \n",
        "`eps` : 군집을 형성할 때 기준이 되는 반경(거리) (default=0.5)  \n",
        "`min_samples`: 하나의 군집이 되기 위한 최소한의 데이터 수(default=5)\n",
        "</font>\n",
        "\n",
        "<font size=3>* 거리와 관련된 파라미터  \n",
        "`metric` : epsilone 계산 시 기준이 되는 거리.(default=’euclidean’)\n",
        "\n",
        "</font>\n",
        "<br><br>"
      ]
    },
    {
      "cell_type": "markdown",
      "id": "2dd5cc25-d5be-4e3f-9969-f828040191f4",
      "metadata": {
        "id": "2dd5cc25-d5be-4e3f-9969-f828040191f4"
      },
      "source": [
        "### 활용 예시 : 'sl', 'sw' 피쳐를 이용해 DBSCAN으로 군집화"
      ]
    },
    {
      "cell_type": "code",
      "execution_count": null,
      "id": "276c4e96-0e4e-4e07-a967-0fe03dab7e61",
      "metadata": {
        "id": "276c4e96-0e4e-4e07-a967-0fe03dab7e61",
        "outputId": "f07be878-7d1d-45e4-bd7a-2215a8d88bf5"
      },
      "outputs": [
        {
          "name": "stdout",
          "output_type": "stream",
          "text": [
            "[0 0 0 0 0] [0 0 0 0 0]\n"
          ]
        }
      ],
      "source": [
        "# model\n",
        "model = DBSCAN(eps=0.3, min_samples=5, metric='euclidean')\n",
        "\n",
        "# fit_predict\n",
        "pred =  model.fit_predict(df[['sl', 'sw']])  #predict() 없다\n",
        "print( pred[:5], model.labels_[:5])\n",
        "\n",
        "# 예측한 라벨값\n",
        "df['dbscan_pred']  = pred.reshape(-1,1)           # Cluster label : 둘다 같은 결과 리턴\n",
        "df['dbscan_label'] = model.labels_.reshape(-1,1)  # Cluster label : 둘다 같은 결과 리턴"
      ]
    },
    {
      "cell_type": "code",
      "execution_count": null,
      "id": "3a9b26c2-de82-48ea-a19f-4e7c4a9ff6a8",
      "metadata": {
        "id": "3a9b26c2-de82-48ea-a19f-4e7c4a9ff6a8",
        "outputId": "138b4310-925e-49f1-a63a-b0ea2103d04d"
      },
      "outputs": [
        {
          "data": {
            "image/png": "[encoded data removed]",
            "text/plain": [
              "<Figure size 720x216 with 2 Axes>"
            ]
          },
          "metadata": {
            "needs_background": "light"
          },
          "output_type": "display_data"
        }
      ],
      "source": [
        "p, axes=plt.subplots(1,2,figsize=(10,3))\n",
        "sns.scatterplot(x=df['sl'], y=df['sw'], hue=df['target'], ax=axes[0])\n",
        "sns.scatterplot(x=df['sl'], y=df['sw'], hue=df['dbscan_label'], ax=axes[1])\n",
        "plt.show()"
      ]
    },
    {
      "cell_type": "markdown",
      "id": "34c2ba39-a510-41da-b07a-8e8db340c01c",
      "metadata": {
        "id": "34c2ba39-a510-41da-b07a-8e8db340c01c"
      },
      "source": [
        "## AgglomerativeClustering(병합군집) : 계층적 군집"
      ]
    },
    {
      "cell_type": "markdown",
      "id": "7bd87cb9-8196-447d-81bf-9fd21c822210",
      "metadata": {
        "id": "7bd87cb9-8196-447d-81bf-9fd21c822210"
      },
      "source": [
        "### API"
      ]
    },
    {
      "cell_type": "markdown",
      "id": "6349696a-1fbd-4d5d-a623-fd1336c151b6",
      "metadata": {
        "id": "6349696a-1fbd-4d5d-a623-fd1336c151b6"
      },
      "source": [
        "<img src = 'https://drive.google.com/uc?export=download&id=1tAzQMhTdAyiGfVHK70qOmImR7qZzhkPS'  width=700>"
      ]
    },
    {
      "cell_type": "markdown",
      "id": "62530f83-21a6-466b-9ba1-7d1ed9ab3926",
      "metadata": {
        "id": "62530f83-21a6-466b-9ba1-7d1ed9ab3926"
      },
      "source": [
        "### 파라미터 설명"
      ]
    },
    {
      "cell_type": "markdown",
      "id": "5fa351f8-5980-4562-8d30-1187b4a392a0",
      "metadata": {
        "id": "5fa351f8-5980-4562-8d30-1187b4a392a0"
      },
      "source": [
        "<img src = 'https://drive.google.com/uc?export=download&id=1Qfgg1ES8lmI42tRC15Asn6AQXU2C_Z7A'  width=700>"
      ]
    },
    {
      "cell_type": "markdown",
      "id": "c5be9962-40d5-42d0-943b-20774ef668ef",
      "metadata": {
        "id": "c5be9962-40d5-42d0-943b-20774ef668ef"
      },
      "source": [
        "<img src = 'https://drive.google.com/uc?export=download&id=15I5p3BShdPXs0oZJDTk-jBcqliyibEnH'  width=700>"
      ]
    },
    {
      "cell_type": "markdown",
      "id": "35f27831-d4f1-40d5-b6b5-6ff23636c499",
      "metadata": {
        "id": "35f27831-d4f1-40d5-b6b5-6ff23636c499"
      },
      "source": [
        "<font size=3>* `메인 아이디어`:  \n",
        "시작할 때 각 포인트를 하나의 클러스터로 지정하고, 그다음 종료 조건을 만족할 때까지 가장 비슷한 두 클러스터를 합침.  \n",
        "종료조건 : 클러스터 갯수, 지정된 갯수의 클러스터가 남을 때까지 비슷한 클러스터를 합침</font>  \n",
        "<br>\n",
        "<font size=3>* 군집과 관련된 파라미터  \n",
        "`n_clusters` : 최종적으로 남길 클러스터 개수 (default=2)  \n",
        "</font>\n",
        "\n",
        "<font size=3>* 거리와 관련된 파라미터  \n",
        "`affinity`: 결합(linkage) 시 거리 계산 방법 (default='euclidean')  \n",
        "`linkage` : 비슷한 군집끼리 묶을 때 결합 방식(default='ward')\n",
        "      ward 방식: 클러스터 병합 시 분산을 가장 작게 증가시키는 클러스터를 합침.\n",
        "</font>\n",
        "<br><br>"
      ]
    },
    {
      "cell_type": "markdown",
      "id": "8dbd021f-39db-4cb6-acf6-618e08d7b9f5",
      "metadata": {
        "id": "8dbd021f-39db-4cb6-acf6-618e08d7b9f5"
      },
      "source": [
        "### 활용 예시 : 'sl', 'sw', 'pl', 'pw' 피쳐를 이용해 AgglomerativeClustering으로 군집화"
      ]
    },
    {
      "cell_type": "code",
      "execution_count": null,
      "id": "df3897f5-e97e-42b9-b447-f4f705897f50",
      "metadata": {
        "id": "df3897f5-e97e-42b9-b447-f4f705897f50",
        "outputId": "30a2db06-b31e-4669-8d4f-0bef761bc48a"
      },
      "outputs": [
        {
          "data": {
            "image/png": "[encoded data removed]",
            "text/plain": [
              "<Figure size 432x288 with 1 Axes>"
            ]
          },
          "metadata": {
            "needs_background": "light"
          },
          "output_type": "display_data"
        }
      ],
      "source": [
        "from scipy.cluster.hierarchy import dendrogram\n",
        "from sklearn.cluster import AgglomerativeClustering\n",
        "\n",
        "# 함수화 하여 사용\n",
        "def my_dendrogram(model, **kwargs):\n",
        "    counts = np.zeros(model.children_.shape[0])\n",
        "    n_samples = len(model.labels_)\n",
        "    for i, merge in enumerate(model.children_):\n",
        "        current_count = 0\n",
        "        for child_idx in merge:\n",
        "            if child_idx < n_samples:\n",
        "                current_count += 1  # leaf node\n",
        "            else:\n",
        "                current_count += counts[child_idx - n_samples]\n",
        "        counts[i] = current_count\n",
        "\n",
        "    linkage_matrix = np.column_stack(\n",
        "        [model.children_, model.distances_, counts]\n",
        "    ).astype(float)\n",
        "\n",
        "    dendrogram(linkage_matrix, **kwargs)\n",
        "\n",
        "model = AgglomerativeClustering(distance_threshold=0, n_clusters=None)\n",
        "model = model.fit(df[['pl','pw','sl','sw']])\n",
        "\n",
        "plt.title(\"Hierarchical Clustering Dendrogram\")\n",
        "my_dendrogram(model, truncate_mode=\"level\", p=3)\n",
        "plt.show()"
      ]
    },
    {
      "cell_type": "markdown",
      "id": "32204802-64b2-4eac-8ae5-caa7e8a295b4",
      "metadata": {
        "id": "32204802-64b2-4eac-8ae5-caa7e8a295b4"
      },
      "source": [
        "# 군집 수 결정 코드"
      ]
    },
    {
      "cell_type": "markdown",
      "id": "038a8ff9-af64-4209-a452-d621d0300719",
      "metadata": {
        "id": "038a8ff9-af64-4209-a452-d621d0300719"
      },
      "source": [
        "<hr><hr>"
      ]
    },
    {
      "cell_type": "markdown",
      "id": "e49e5792-c410-4262-b6e1-68b783b9219a",
      "metadata": {
        "id": "e49e5792-c410-4262-b6e1-68b783b9219a"
      },
      "source": [
        "## elbow chart"
      ]
    },
    {
      "cell_type": "markdown",
      "id": "47528138-b4ab-4b00-97c7-846943c6d1f0",
      "metadata": {
        "id": "47528138-b4ab-4b00-97c7-846943c6d1f0"
      },
      "source": [
        "### 활용 예시 : KMeans로 군집화 할 경우 elbow chart"
      ]
    },
    {
      "cell_type": "code",
      "execution_count": null,
      "id": "9c1340bf-f19c-4f5e-93cc-1886e8a83d5b",
      "metadata": {
        "id": "9c1340bf-f19c-4f5e-93cc-1886e8a83d5b",
        "outputId": "8951b96b-2d13-496d-d1ad-595c20e7d8f9"
      },
      "outputs": [
        {
          "name": "stdout",
          "output_type": "stream",
          "text": [
            "[86.39021984551391, 31.371358974358966, 19.48300089968511, 13.91690875790876, 11.051428739411813]\n"
          ]
        },
        {
          "data": {
            "text/plain": [
              "Text(0, 0.5, 'Sum of squared distances')"
            ]
          },
          "execution_count": 11,
          "metadata": {},
          "output_type": "execute_result"
        },
        {
          "data": {
            "image/png": "[encoded data removed]",
            "text/plain": [
              "<Figure size 432x288 with 1 Axes>"
            ]
          },
          "metadata": {
            "needs_background": "light"
          },
          "output_type": "display_data"
        }
      ],
      "source": [
        "n_clusters_list = [2,3,4,5,6]\n",
        "inertia_list = []\n",
        "for k in n_clusters_list:\n",
        "    model = KMeans(n_clusters=k, random_state=1234)\n",
        "    model.fit(df[['pl', 'pw']])\n",
        "    inertia_list.append(model.inertia_)\n",
        "print(inertia_list)    \n",
        "plt.plot( [2,3,4,5,6], inertia_list)\n",
        "plt.xlabel(\"K cluster count\")\n",
        "plt.ylabel(\"Sum of squared distances\")"
      ]
    },
    {
      "cell_type": "markdown",
      "id": "08945037-458b-4ea1-bb23-0b3e97d22357",
      "metadata": {
        "id": "08945037-458b-4ea1-bb23-0b3e97d22357"
      },
      "source": [
        "## silhouette_plot"
      ]
    },
    {
      "cell_type": "markdown",
      "id": "140382dd-a640-4e8b-a4f8-7a49a25e1a20",
      "metadata": {
        "id": "140382dd-a640-4e8b-a4f8-7a49a25e1a20"
      },
      "source": [
        "### 활용 예시 : KMeans로 군집화 할 경우 함수 설정"
      ]
    },
    {
      "cell_type": "markdown",
      "id": "683e4cdc-3d99-49db-9477-08d0451bce66",
      "metadata": {
        "id": "683e4cdc-3d99-49db-9477-08d0451bce66"
      },
      "source": [
        "<font size=3>\n",
        "X : 군집화에 이용할 피쳐들<br>  \n",
        "range_n_clusters : 테스트 해볼 군집 개수\n",
        "</font>"
      ]
    },
    {
      "cell_type": "code",
      "execution_count": null,
      "id": "192b90d4-e557-4edf-a386-d64ecf50a472",
      "metadata": {
        "tags": [],
        "id": "192b90d4-e557-4edf-a386-d64ecf50a472"
      },
      "outputs": [],
      "source": [
        "from sklearn.metrics import silhouette_samples, silhouette_score\n",
        "import matplotlib.cm as cm # silhouette_plot에 사용\n",
        "\n",
        "def view_chart(X, range_n_clusters=[2, 3, 4, 5, 6]):\n",
        "    for n_clusters in range_n_clusters:\n",
        "        \n",
        "        fig, (ax1, ax2) = plt.subplots(1, 2)\n",
        "        fig.set_size_inches(18, 7)\n",
        "\n",
        "        clusterer = KMeans(n_clusters=n_clusters, random_state=10) # 모델은 KMeans로 설정됨.\n",
        "        cluster_labels = clusterer.fit_predict(X)\n",
        "\n",
        "        silhouette_avg = silhouette_score(X, cluster_labels)\n",
        "        print(\n",
        "            \"For n_clusters =\", n_clusters,\n",
        "            \"The average silhouette_score is :\", silhouette_avg,\n",
        "        )\n",
        "\n",
        "        # -------------------chart--------------------------------\n",
        "        sample_silhouette_values = silhouette_samples(X, cluster_labels) # 차트 그릴 때 쓰이는 value\n",
        "\n",
        "        y_lower = 10\n",
        "        for i in range(n_clusters):\n",
        "            \n",
        "            ith_cluster_silhouette_values = sample_silhouette_values[cluster_labels == i]\n",
        "\n",
        "            ith_cluster_silhouette_values.sort()\n",
        "\n",
        "            size_cluster_i = ith_cluster_silhouette_values.shape[0]\n",
        "            y_upper = y_lower + size_cluster_i\n",
        "\n",
        "            color = cm.nipy_spectral(float(i) / n_clusters)\n",
        "            ax1.fill_betweenx(\n",
        "                np.arange(y_lower, y_upper),\n",
        "                0,\n",
        "                ith_cluster_silhouette_values,\n",
        "                facecolor=color,\n",
        "                edgecolor=color,\n",
        "                alpha=0.7,\n",
        "            )\n",
        "\n",
        "            # Label the silhouette plots with their cluster numbers at the middle\n",
        "            ax1.text(-0.05, y_lower + 0.5 * size_cluster_i, str(i))\n",
        "\n",
        "            # Compute the new y_lower for next plot\n",
        "            y_lower = y_upper + 10  # 10 for the 0 samples\n",
        "\n",
        "        ax1.set_title(\"The silhouette plot for the various clusters.\")\n",
        "        ax1.set_xlabel(\"The silhouette coefficient values\")\n",
        "        ax1.set_ylabel(\"Cluster label\")\n",
        "\n",
        "        # The vertical line for average silhouette score of all the values\n",
        "        ax1.axvline(x=silhouette_avg, color=\"red\", linestyle=\"--\")\n",
        "\n",
        "        ax1.set_yticks([])  # Clear the yaxis labels / ticks\n",
        "        ax1.set_xticks([-0.1, 0, 0.2, 0.4, 0.6, 0.8, 1])\n",
        "\n",
        "        # 2nd Plot showing the actual clusters formed\n",
        "        colors = cm.nipy_spectral(cluster_labels.astype(float) / n_clusters)\n",
        "        ax2.scatter(\n",
        "            X.iloc[:, 0], X.iloc[:, 1], marker=\".\", s=30, lw=0, alpha=0.7, c=colors, edgecolor=\"k\"\n",
        "        )\n",
        "\n",
        "        # Labeling the clusters\n",
        "        centers = clusterer.cluster_centers_\n",
        "        # Draw white circles at cluster centers\n",
        "        ax2.scatter(\n",
        "            centers[:, 0],\n",
        "            centers[:, 1],\n",
        "            marker=\"o\",\n",
        "            c=\"white\",\n",
        "            alpha=1,\n",
        "            s=200,\n",
        "            edgecolor=\"k\",\n",
        "        )\n",
        "\n",
        "        for i, c in enumerate(centers):\n",
        "            ax2.scatter(c[0], c[1], marker=\"$%d$\" % i, alpha=1, s=50, edgecolor=\"k\")\n",
        "\n",
        "        ax2.set_title(\"The visualization of the clustered data.\")\n",
        "        ax2.set_xlabel(\"Feature space for the 1st feature\")\n",
        "        ax2.set_ylabel(\"Feature space for the 2nd feature\")\n",
        "\n",
        "        plt.suptitle(\n",
        "            \"Silhouette analysis for KMeans clustering on sample data with n_clusters = %d\"\n",
        "            % n_clusters,\n",
        "            fontsize=14,\n",
        "            fontweight=\"bold\",\n",
        "        )\n",
        "\n",
        "    plt.show()"
      ]
    },
    {
      "cell_type": "code",
      "execution_count": null,
      "id": "044fcd10-2658-480b-8f32-ae3a25c503d7",
      "metadata": {
        "id": "044fcd10-2658-480b-8f32-ae3a25c503d7",
        "outputId": "a76e97fa-c11b-465e-c0d6-62af1b318bf2"
      },
      "outputs": [
        {
          "name": "stdout",
          "output_type": "stream",
          "text": [
            "For n_clusters = 2 The average silhouette_score is : 0.7653904101258123\n",
            "For n_clusters = 3 The average silhouette_score is : 0.6604800083974887\n",
            "For n_clusters = 4 The average silhouette_score is : 0.6127580794464402\n",
            "For n_clusters = 5 The average silhouette_score is : 0.5883732712110276\n",
            "For n_clusters = 6 The average silhouette_score is : 0.5753448148375986\n"
          ]
        },
        {
          "data": {
            "image/png": "[encoded data removed]",
            "text/plain": [
              "<Figure size 1296x504 with 2 Axes>"
            ]
          },
          "metadata": {
            "needs_background": "light"
          },
          "output_type": "display_data"
        },
        {
          "data": {
            "image/png": "[encoded data removed]",
            "text/plain": [
              "<Figure size 1296x504 with 2 Axes>"
            ]
          },
          "metadata": {
            "needs_background": "light"
          },
          "output_type": "display_data"
        },
        {
          "data": {
            "image/png": "[encoded data removed]",
            "text/plain": [
              "<Figure size 1296x504 with 2 Axes>"
            ]
          },
          "metadata": {
            "needs_background": "light"
          },
          "output_type": "display_data"
        },
        {
          "data": {
            "image/png": "[encoded data removed]",
            "text/plain": [
              "<Figure size 1296x504 with 2 Axes>"
            ]
          },
          "metadata": {
            "needs_background": "light"
          },
          "output_type": "display_data"
        },
        {
          "data": {
            "image/png": "[encoded data removed]",
            "text/plain": [
              "<Figure size 1296x504 with 2 Axes>"
            ]
          },
          "metadata": {
            "needs_background": "light"
          },
          "output_type": "display_data"
        }
      ],
      "source": [
        "view_chart(df[['pl', 'pw']])"
      ]
    },
    {
      "cell_type": "code",
      "execution_count": null,
      "id": "26bf1984-ae3b-4d0a-8c4e-25c15348cf7b",
      "metadata": {
        "id": "26bf1984-ae3b-4d0a-8c4e-25c15348cf7b"
      },
      "outputs": [],
      "source": [
        "# ---------------------------------------------------------"
      ]
    },
    {
      "cell_type": "markdown",
      "id": "4454f0a0-6a60-457d-945d-e94f11b341f1",
      "metadata": {
        "id": "4454f0a0-6a60-457d-945d-e94f11b341f1"
      },
      "source": [
        "# 군집 import 모음"
      ]
    },
    {
      "cell_type": "code",
      "execution_count": null,
      "id": "b722e0ef-eaff-4434-b7cd-26497e466beb",
      "metadata": {
        "id": "b722e0ef-eaff-4434-b7cd-26497e466beb"
      },
      "outputs": [],
      "source": [
        "# -----------Clustering\n",
        "# from sklearn.datasets import make_blobs # 임의의 점\n",
        "from sklearn.cluster import KMeans, DBSCAN\n",
        "\n",
        "from scipy.cluster.hierarchy import dendrogram\n",
        "from sklearn.cluster import AgglomerativeClustering\n",
        "\n",
        "from sklearn.metrics import silhouette_samples, silhouette_score # silhouette_samples는 차트 그리는 용\n",
        "import matplotlib.cm as cm # silhouette_plot에 사용\n",
        "\n",
        "\n",
        "# -----------scaler\n",
        "from sklearn.preprocessing import StandardScaler"
      ]
    }
  ],
  "metadata": {
    "kernelspec": {
      "display_name": "Python 3 (ipykernel)",
      "language": "python",
      "name": "python3"
    },
    "language_info": {
      "codemirror_mode": {
        "name": "ipython",
        "version": 3
      },
      "file_extension": ".py",
      "mimetype": "text/x-python",
      "name": "python",
      "nbconvert_exporter": "python",
      "pygments_lexer": "ipython3",
      "version": "3.8.8"
    },
    "toc-autonumbering": true,
    "colab": {
      "name": "clustering.ipynb",
      "provenance": [],
      "collapsed_sections": [
        "19d385bb-465c-4e5a-8556-855acc7422a5"
      ],
      "include_colab_link": true
    }
  },
  "nbformat": 4,
  "nbformat_minor": 5
}
