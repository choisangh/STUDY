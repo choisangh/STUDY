{
  "nbformat": 4,
  "nbformat_minor": 0,
  "metadata": {
    "colab": {
      "name": "튜닝.ipynb",
      "provenance": [],
      "collapsed_sections": [],
      "include_colab_link": true
    },
    "kernelspec": {
      "name": "python3",
      "display_name": "Python 3"
    },
    "language_info": {
      "name": "python"
    }
  },
  "cells": [
    {
      "cell_type": "markdown",
      "metadata": {
        "id": "view-in-github",
        "colab_type": "text"
      },
      "source": [
        "<a href=\"https://colab.research.google.com/github/choisangh/STUDY/blob/main/ML/%ED%8A%9C%EB%8B%9D.ipynb\" target=\"_parent\"><img src=\"https://colab.research.google.com/assets/colab-badge.svg\" alt=\"Open In Colab\"/></a>"
      ]
    },
    {
      "cell_type": "markdown",
      "source": [
        "# 튜닝(Tuinng)"
      ],
      "metadata": {
        "id": "695QtQR3ZfQA"
      }
    },
    {
      "cell_type": "markdown",
      "source": [
        "## 개념\n"
      ],
      "metadata": {
        "id": "QYJhkmd9ZB1p"
      }
    },
    {
      "cell_type": "markdown",
      "source": [
        "* 모델 학습 과정에서 최적의 하이퍼파라미터 집합을 찾는 것"
      ],
      "metadata": {
        "id": "6Hl0KSEIaA_u"
      }
    },
    {
      "cell_type": "markdown",
      "source": [
        "## 종류\n",
        "1. GridSearchCV\n",
        "2. Optuna"
      ],
      "metadata": {
        "id": "u0VQ8vFhaO35"
      }
    },
    {
      "cell_type": "markdown",
      "source": [
        "### GridSearchCV<br>\n",
        "ref: https://velog.io/@dlskawns/Machine-Learning-RandomizedSearchCV-GridSearchCV-%EC%A0%95%EB%A6%AC-%EC%8B%A4%EC%8A%B5<br>\n",
        "ref: https://teddylee777.github.io/scikit-learn/grid-search-%EB%A1%9C-hyperparameter%EC%B5%9C%EC%A0%81%ED%99%94<br>\n",
        "* 모델에서 사용할 hyperparmeter 값 리스트를 딕셔너리 형태로 각 변수에 입력한 후, 모든 hyperparameter 조합에 대한 학습을 진행한다.\n",
        "* 사용자가 수동으로 하이퍼파라미터 조합을 찾는 시간을 줄여준다는 장점이 있다.\n",
        "* 그러나 지정해준 hyperparameter 후보군 개수에 비례해 시간이 늘어나 조합을 찾을 때까지 시간이 매우 오래걸린다는 단점이 있다."
      ],
      "metadata": {
        "id": "_IWOeGt8n54o"
      }
    },
    {
      "cell_type": "markdown",
      "source": [
        "<font size=5> 사용 방법</font>\n",
        "1. dictionary 변수에 사용할 hyperparmeter 값들을 저장한다.\n",
        "2. GridSearchCV함수에 사용할 모델과, hyperparameter값들을 저장한 dictionary 변수를 전달한다."
      ],
      "metadata": {
        "id": "thk2JcI-OBFO"
      }
    },
    {
      "cell_type": "markdown",
      "source": [
        "<font size=5 >예시 데이터</font><br>\n",
        "scikit-learn 패키지의 피마 당뇨병 데이터를 사용하였다."
      ],
      "metadata": {
        "id": "X2m5V11rTczx"
      }
    },
    {
      "cell_type": "markdown",
      "source": [
        "<font size=5 ><b>Import Packages</b></font>"
      ],
      "metadata": {
        "id": "hdzDF94jTi9j"
      }
    },
    {
      "cell_type": "code",
      "source": [
        "from sklearn.model_selection import GridSearchCV"
      ],
      "metadata": {
        "id": "OVmaLGtKTf40"
      },
      "execution_count": null,
      "outputs": []
    },
    {
      "cell_type": "markdown",
      "source": [
        "<font size=5 ><b> API: sklearn.model_selection.GridSearchCV</b></font><br>\n",
        "* ref: https://scikit-learn.org/stable/modules/generated/sklearn.model_selection.GridSearchCV.html#sklearn-model-selection-gridsearchcv\n",
        "<img src='https://drive.google.com/uc?export=download&id=11AyWLEi-ray3EYsL3u1QhwBXUe-kVtdr' width=800  height=100>"
      ],
      "metadata": {
        "id": "9q0mxxaq1n0d"
      }
    },
    {
      "cell_type": "markdown",
      "source": [
        "<font size=5 >parameter</font>\n",
        "* <b>estimator</b>: 적용할 모델\n",
        "* <b>param_grid</b>: gridsearch가 찾을 parameter 집합 정의\n",
        "* <b>scoring</b>: 평가 기준\n",
        "* <b>n_jobs</b>: 사용할 컴퓨터 코어의 개수. -1로 설정하면 모든 코어를 사용한다.\n",
        "* <b>refit</b>: 최적의 파라미터로 재학습할지를 결정하는 것이다.(default=True)\n",
        "* <b>cv</b>: 평가지표인 cross validation을 의미하며, 정수값을 넘겨줄수도 있고 사용자가 정의한 Fold를 넘겨줄 수도 있다.\n",
        "* <b>verbose</b>: log 출력의 level을 조정한다. 숫자가 클수록 많은 log를 출력한다."
      ],
      "metadata": {
        "id": "GQd-hm_Po9q9"
      }
    },
    {
      "cell_type": "code",
      "source": [
        "from sklearn import datasets\n",
        "import pandas as pd\n",
        "import numpy as np\n",
        "from sklearn.model_selection import train_test_split\n",
        "from sklearn.metrics import accuracy_score\n",
        "from sklearn.metrics import mean_squared_error\n",
        "from xgboost import XGBRegressor\n",
        "\n",
        "# load data\n",
        "dataset = datasets.load_diabetes()\n",
        "df=pd.DataFrame(data=dataset.data,columns=dataset.feature_names)\n",
        "df['target'] = dataset.target\n",
        "X=df.drop('target',axis=1)\n",
        "y=df['target']\n",
        "X_train, X_test, y_train, y_test = train_test_split(X, y, test_size = 0.2, random_state = 1234)\n",
        "\n",
        "params = {\n",
        "    'n_estimators': [100,200],\n",
        "    'mean_child_weight':[50,100],\n",
        "    'learning_rate':[0.005,0.01,0.05],\n",
        "    'colsample_bytree':[0.7,0.9],\n",
        "    'nthread':[-1],\n",
        "    'lambda':[0.1,1],\n",
        "    'subsample': [0.6,0.8],\n",
        "    'random_state' : [42]\n",
        "}\n",
        "\n",
        "\n",
        "model = XGBRegressor()\n",
        "\n",
        "# 총 256가지 조합에 대해 5번의 cross validation을 수행했으므로 1280번의 fit을 수행한다.\n",
        "clf = GridSearchCV(estimator=model,param_grid=params,scoring='neg_mean_absolute_error',n_jobs=-1,refit=True, cv=5,verbose=2)\n",
        "\n",
        "clf.fit(X_train, y_train)\n",
        "#최적의 hyperparameter\n",
        "print(f\"best parameters:{clf.best_params_} \\nbest score:{clf.best_score_}\")"
      ],
      "metadata": {
        "colab": {
          "base_uri": "https://localhost:8080/"
        },
        "id": "3lK-5jVZo91w",
        "outputId": "10fb1c75-3692-423d-d8f2-f5aa15e74c4e"
      },
      "execution_count": null,
      "outputs": [
        {
          "output_type": "stream",
          "name": "stdout",
          "text": [
            "Fitting 5 folds for each of 96 candidates, totalling 480 fits\n",
            "[16:36:16] WARNING: /workspace/src/objective/regression_obj.cu:152: reg:linear is now deprecated in favor of reg:squarederror.\n",
            "best parameters:{'colsample_bytree': 0.7, 'lambda': 0.1, 'learning_rate': 0.05, 'mean_child_weight': 50, 'n_estimators': 100, 'nthread': -1, 'random_state': 42, 'subsample': 0.8} \n",
            "best score:-46.18804808127328\n"
          ]
        }
      ]
    },
    {
      "cell_type": "markdown",
      "source": [
        "## Optuna\n",
        "ref: https://optuna.readthedocs.io/en/stable/index.html</br>\n",
        "ref: https://ssoonidev.tistory.com/107<br>\n",
        "ref: https://hojjimin-statistic.tistory.com/27<br>\n",
        "ref: https://neptune.ai/blog/best-tools-for-model-tuning-and-hyperparameter-optimization"
      ],
      "metadata": {
        "id": "AxMrdGl2aTUT"
      }
    },
    {
      "cell_type": "markdown",
      "source": [
        "* 머신러닝에서 자동으로 파라미터를 최적화하기 위한 프레임워크이다.\n",
        "* 파라미터의 범위를 지정해주거나, 파라미터가 될 수 있는 목록을 objective 함수에 지정하면 매 Trial마다 파라미터를 임의로 변경하면서 최적의 파라미터를 찾는다.\n",
        "* define-by-run 방식의 api로 유연함을 자랑한다. define-by-run이란 연산 정의와 값 초기화가 동시에 되는 것으로,\n",
        "연산그래프가 정의되는 동시에 연산이 이루어지는 것이다."
      ],
      "metadata": {
        "id": "DY1OJ9_fabuO"
      }
    },
    {
      "cell_type": "markdown",
      "source": [
        "<font size=5> 사용 방법</font>\n",
        "\n",
        "1. 매 시도(trial)마다 사용할 objective 함수 선언\n",
        "* 1-(1) 사용할 파라미터들의 값 범위 지정\n",
        "* 1-(2) 학습 모델 지정\n",
        "* 1-(3) score 설정(mae, mse, accuracy등): 이 값이 함수의 return값이 된다.\n",
        "\n",
        "2. create_study 함수로 새로운 study객체 생성.\n",
        "* 2-(1) study 객체의 학습 방향 지정\n",
        "* 2-(2) study 객체의 trial(시도) 횟수 지정\n",
        "\n",
        "3. optimize 함수로 최적 파라미터 탐색 실행"
      ],
      "metadata": {
        "id": "r38VP5esyGqb"
      }
    },
    {
      "cell_type": "markdown",
      "source": [
        "<font size=5 >예시 데이터</font><br>\n",
        "scikit-learn 패키지의 california 주택가격 데이터를 사용하였다."
      ],
      "metadata": {
        "id": "0FB4RH9oDwoB"
      }
    },
    {
      "cell_type": "markdown",
      "source": [
        "<font size=5 ><b>Import Packages</b></font>"
      ],
      "metadata": {
        "id": "oFbWKZmgwpc6"
      }
    },
    {
      "cell_type": "code",
      "source": [
        "!pip install optuna\n",
        "!pip install xgboost\n",
        "\n",
        "import optuna\n",
        "from optuna import Trial, visualization\n",
        "from optuna.samplers import TPESampler"
      ],
      "metadata": {
        "id": "wfMrBj18wvo-"
      },
      "execution_count": null,
      "outputs": []
    },
    {
      "cell_type": "markdown",
      "source": [
        "<font size=5 ><b> API: optuna.trial.Trial</b></font><br>\n",
        "* ref: https://optuna.readthedocs.io/en/stable/reference/generated/optuna.trial.Trial.html#optuna.trial.Trial\n",
        "<img src=\"https://drive.google.com/uc?export=download&id=1a5Jjnh2VboDrDpeSZHkOWaaKNPVWXUpx\" width=700>"
      ],
      "metadata": {
        "id": "LGKx5ZtC1MV4"
      }
    },
    {
      "cell_type": "markdown",
      "source": [
        "<font size=5 >methods</font><br>\n",
        "\n",
        "* <b>optuna.trial.Trial.suggest_categorical(name, choices)</b> : 리스트 범위 내에서 값을 선택한다.\n",
        "* <b>optuna.trial.Trial.suggest_int(name, low, high[, step, log])</b> : 범위 내에서 정수형 값을 선택한다.\n",
        "* <b>optuna.trial.Trial.suggest_float(name, low, high, *[, step, log])</b> : 범위 내에서 소수형 값을 선택한다.\n",
        "* <b>optuna.trial.Trial.suggest_uniform(name, low, high)</b> : 범위 내에서 균일분포 값을 선택한다.\n",
        "* <b>optuna.trial.Trial.suggest_discrete_uniform(name, low, high, q)</b> : 범위 내에서 이산 균일분포 값을 선택한다.\n",
        "*<b>optuna.trial.Trial.suggest_loguniform(name, low, high)</b> : 범위 내에서 로그 함수 값을 선택한다.<br>"
      ],
      "metadata": {
        "id": "PI_IiftF7OhS"
      }
    },
    {
      "cell_type": "code",
      "source": [
        "import numpy as np\n",
        "import pandas as pd\n",
        "from sklearn import datasets\n",
        "from sklearn.model_selection import train_test_split\n",
        "from sklearn.metrics import accuracy_score\n",
        "from sklearn.metrics import mean_squared_error\n",
        "from xgboost import XGBRegressor\n",
        "import warnings\n",
        "warnings.filterwarnings(action='ignore')\n",
        "\n",
        "# Data Load \n",
        "dataset = datasets.fetch_california_housing()\n",
        "df=pd.DataFrame(data=dataset.data,columns=dataset.feature_names)\n",
        "df['target'] = dataset.target\n",
        "\n",
        "#학습 데이터 셋과 훈련 데이터 셋 생성\n",
        "X=df.drop('target',axis=1)\n",
        "y=df['target']\n",
        "X_train, X_test, y_train, y_test = train_test_split(X, y, test_size = 0.2, random_state = 1234)\n",
        "\n",
        "# 각 trial마다 사용할 objective 함수 설정\n",
        "def objective(trial: Trial, X, y, test):\n",
        "    param = {\n",
        "        'n_estimators' : trial.suggest_int('n_estimators', 100, 2000),\n",
        "        'max_depth' : trial.suggest_int('max_depth', 8, 16),\n",
        "        'min_child_weight' : trial.suggest_int('min_child_weight', 1, 300),\n",
        "        'gamma' : trial.suggest_int('gamma', 1, 3),\n",
        "        'learning_rate' :trial.suggest_float('learning_rate', 1e-3,5e-2),\n",
        "        'colsample_bytree' : trial.suggest_discrete_uniform('colsample_bytree', 0.5, 1, 0.1),\n",
        "        'nthread' : -1,\n",
        "        'lambda' : trial.suggest_loguniform('lambda', 1e-3, 10.0),\n",
        "        'alpha' : trial.suggest_loguniform('alpha', 1e-3, 10.0),\n",
        "        'subsample' : trial.suggest_categorical('subsample', [0.6,0.7,0.8,1.0]),\n",
        "        'random_state' : [1127]\n",
        "    }\n",
        "    \n",
        "    # 학습 모델 생성\n",
        "    model = XGBRegressor(**param)\n",
        "    xgb_model = model.fit(X, y, verbose=True) # 학습 진행\n",
        "    \n",
        "    # 모델 성능 확인\n",
        "    score = mean_squared_error(xgb_model.predict(X), y)\n",
        "    \n",
        "    return score\n",
        "\n"
      ],
      "metadata": {
        "id": "T-jkeOs5DwEh"
      },
      "execution_count": null,
      "outputs": []
    },
    {
      "cell_type": "markdown",
      "source": [
        "<font size=5 > <b>API: optuna.create_study </b></font><br>\n",
        "* ref: https://optuna.readthedocs.io/en/stable/reference/generated/optuna.study.create_study.html#optuna.study.create_study\n",
        "<img src=\"https://drive.google.com/uc?export=download&id=1I1K0_30zmFapexR-HYTm9AAIW_xtK0vz\" height=60>"
      ],
      "metadata": {
        "id": "2JuefLsriJ07"
      }
    },
    {
      "cell_type": "markdown",
      "source": [
        "<font size=5 >parameter</font>\n",
        "* <b>directions</b>: score값을 최대(maximize) 또는 최소(minimize)로 하는 방향 지정\n",
        "* <b>sampler</b>: 샘플링 방식 지정. (default=TPESampler) \n",
        "* <b>pruner</b>: 성능이 좋지 않은 trial들의 조기 종료를 결정하는 pruner 객체이다. (default=Medianpruner)"
      ],
      "metadata": {
        "id": "bosk6FGcnzTq"
      }
    },
    {
      "cell_type": "code",
      "source": [
        "# objective함수에서 평가 기준을 mse로 설정했으므로, mse를 최소화시키는 방향으로 학습을 진행한다.\n",
        "study = optuna.create_study(direction='minimize', sampler=TPESampler())\n",
        "\n",
        "# n_trials 지정해주지 않으면 무한 반복\n",
        "# optuna 안에 내장된 optimize 메서드를 이용해 최적 파라미터 탐색을 실행한다.\n",
        "study.optimize(lambda trial : objective(trial, X, y, X_test), n_trials = 50)\n",
        "\n",
        "print('Best trial : score {}, \\nparams {} \\nbesttrial {}'.format(study.best_trial.value, study.best_trial.params,study.best_trial))"
      ],
      "metadata": {
        "colab": {
          "base_uri": "https://localhost:8080/"
        },
        "id": "RlCJUbK1w6Es",
        "outputId": "dc79b468-07f3-4d90-c21b-27aab7cc0f30"
      },
      "execution_count": null,
      "outputs": [
        {
          "output_type": "stream",
          "name": "stderr",
          "text": [
            "\u001b[32m[I 2022-03-19 10:17:00,082]\u001b[0m A new study created in memory with name: no-name-3dff695a-8172-4b30-ad2e-50b74427152c\u001b[0m\n"
          ]
        },
        {
          "output_type": "stream",
          "name": "stdout",
          "text": [
            "[10:17:00] WARNING: /workspace/src/objective/regression_obj.cu:152: reg:linear is now deprecated in favor of reg:squarederror.\n"
          ]
        },
        {
          "output_type": "stream",
          "name": "stderr",
          "text": [
            "\u001b[32m[I 2022-03-19 10:17:08,063]\u001b[0m Trial 0 finished with value: 0.12019461981113214 and parameters: {'n_estimators': 340, 'max_depth': 9, 'min_child_weight': 9, 'gamma': 2, 'learning_rate': 0.04519678131771279, 'colsample_bytree': 0.5, 'lambda': 0.015344978829737158, 'alpha': 0.0011847483058759843, 'subsample': 0.8}. Best is trial 0 with value: 0.12019461981113214.\u001b[0m\n"
          ]
        },
        {
          "output_type": "stream",
          "name": "stdout",
          "text": [
            "[10:17:08] WARNING: /workspace/src/objective/regression_obj.cu:152: reg:linear is now deprecated in favor of reg:squarederror.\n"
          ]
        },
        {
          "output_type": "stream",
          "name": "stderr",
          "text": [
            "\u001b[32m[I 2022-03-19 10:17:54,017]\u001b[0m Trial 1 finished with value: 0.15727143991999712 and parameters: {'n_estimators': 1070, 'max_depth': 11, 'min_child_weight': 75, 'gamma': 2, 'learning_rate': 0.0066934611131868275, 'colsample_bytree': 1.0, 'lambda': 0.0011315192768346115, 'alpha': 1.7414614254977205, 'subsample': 1.0}. Best is trial 0 with value: 0.12019461981113214.\u001b[0m\n"
          ]
        },
        {
          "output_type": "stream",
          "name": "stdout",
          "text": [
            "[10:17:54] WARNING: /workspace/src/objective/regression_obj.cu:152: reg:linear is now deprecated in favor of reg:squarederror.\n"
          ]
        },
        {
          "output_type": "stream",
          "name": "stderr",
          "text": [
            "\u001b[32m[I 2022-03-19 10:18:18,237]\u001b[0m Trial 2 finished with value: 0.20558639669481588 and parameters: {'n_estimators': 981, 'max_depth': 14, 'min_child_weight': 257, 'gamma': 2, 'learning_rate': 0.00870567315724749, 'colsample_bytree': 0.5, 'lambda': 0.1682721944308373, 'alpha': 0.032357803341064584, 'subsample': 0.8}. Best is trial 0 with value: 0.12019461981113214.\u001b[0m\n"
          ]
        },
        {
          "output_type": "stream",
          "name": "stdout",
          "text": [
            "[10:18:18] WARNING: /workspace/src/objective/regression_obj.cu:152: reg:linear is now deprecated in favor of reg:squarederror.\n"
          ]
        },
        {
          "output_type": "stream",
          "name": "stderr",
          "text": [
            "\u001b[32m[I 2022-03-19 10:19:03,435]\u001b[0m Trial 3 finished with value: 0.1351866532784833 and parameters: {'n_estimators': 1587, 'max_depth': 12, 'min_child_weight': 120, 'gamma': 1, 'learning_rate': 0.010954511959579409, 'colsample_bytree': 0.5, 'lambda': 0.02338924767988174, 'alpha': 0.38915784144329435, 'subsample': 1.0}. Best is trial 0 with value: 0.12019461981113214.\u001b[0m\n"
          ]
        },
        {
          "output_type": "stream",
          "name": "stdout",
          "text": [
            "[10:19:03] WARNING: /workspace/src/objective/regression_obj.cu:152: reg:linear is now deprecated in favor of reg:squarederror.\n"
          ]
        },
        {
          "output_type": "stream",
          "name": "stderr",
          "text": [
            "\u001b[32m[I 2022-03-19 10:19:38,590]\u001b[0m Trial 4 finished with value: 0.158357343259333 and parameters: {'n_estimators': 1409, 'max_depth': 9, 'min_child_weight': 153, 'gamma': 2, 'learning_rate': 0.027011472203433293, 'colsample_bytree': 0.8, 'lambda': 0.5038731394370558, 'alpha': 3.494646116822779, 'subsample': 0.8}. Best is trial 0 with value: 0.12019461981113214.\u001b[0m\n"
          ]
        },
        {
          "output_type": "stream",
          "name": "stdout",
          "text": [
            "[10:19:38] WARNING: /workspace/src/objective/regression_obj.cu:152: reg:linear is now deprecated in favor of reg:squarederror.\n"
          ]
        },
        {
          "output_type": "stream",
          "name": "stderr",
          "text": [
            "\u001b[32m[I 2022-03-19 10:19:58,534]\u001b[0m Trial 5 finished with value: 0.14472020236875857 and parameters: {'n_estimators': 743, 'max_depth': 12, 'min_child_weight': 134, 'gamma': 1, 'learning_rate': 0.044718527939431554, 'colsample_bytree': 0.6, 'lambda': 0.018533592630064644, 'alpha': 0.0029722885336167784, 'subsample': 0.6}. Best is trial 0 with value: 0.12019461981113214.\u001b[0m\n"
          ]
        },
        {
          "output_type": "stream",
          "name": "stdout",
          "text": [
            "[10:19:58] WARNING: /workspace/src/objective/regression_obj.cu:152: reg:linear is now deprecated in favor of reg:squarederror.\n"
          ]
        },
        {
          "output_type": "stream",
          "name": "stderr",
          "text": [
            "\u001b[32m[I 2022-03-19 10:20:07,005]\u001b[0m Trial 6 finished with value: 0.1592140449694529 and parameters: {'n_estimators': 371, 'max_depth': 8, 'min_child_weight': 58, 'gamma': 2, 'learning_rate': 0.022444631678145217, 'colsample_bytree': 0.7, 'lambda': 0.012720679598002424, 'alpha': 0.0013545387406415246, 'subsample': 1.0}. Best is trial 0 with value: 0.12019461981113214.\u001b[0m\n"
          ]
        },
        {
          "output_type": "stream",
          "name": "stdout",
          "text": [
            "[10:20:07] WARNING: /workspace/src/objective/regression_obj.cu:152: reg:linear is now deprecated in favor of reg:squarederror.\n"
          ]
        },
        {
          "output_type": "stream",
          "name": "stderr",
          "text": [
            "\u001b[32m[I 2022-03-19 10:21:15,768]\u001b[0m Trial 7 finished with value: 0.16933947231733243 and parameters: {'n_estimators': 1757, 'max_depth': 15, 'min_child_weight': 196, 'gamma': 3, 'learning_rate': 0.030650828368631373, 'colsample_bytree': 0.9, 'lambda': 2.019877961848263, 'alpha': 0.37083113058574574, 'subsample': 0.8}. Best is trial 0 with value: 0.12019461981113214.\u001b[0m\n"
          ]
        },
        {
          "output_type": "stream",
          "name": "stdout",
          "text": [
            "[10:21:15] WARNING: /workspace/src/objective/regression_obj.cu:152: reg:linear is now deprecated in favor of reg:squarederror.\n"
          ]
        },
        {
          "output_type": "stream",
          "name": "stderr",
          "text": [
            "\u001b[32m[I 2022-03-19 10:21:54,518]\u001b[0m Trial 8 finished with value: 0.12081184235824231 and parameters: {'n_estimators': 1450, 'max_depth': 8, 'min_child_weight': 8, 'gamma': 3, 'learning_rate': 0.0499168460288186, 'colsample_bytree': 0.9, 'lambda': 0.2640471260688568, 'alpha': 2.9721105788976634, 'subsample': 0.8}. Best is trial 0 with value: 0.12019461981113214.\u001b[0m\n"
          ]
        },
        {
          "output_type": "stream",
          "name": "stdout",
          "text": [
            "[10:21:54] WARNING: /workspace/src/objective/regression_obj.cu:152: reg:linear is now deprecated in favor of reg:squarederror.\n"
          ]
        },
        {
          "output_type": "stream",
          "name": "stderr",
          "text": [
            "\u001b[32m[I 2022-03-19 10:22:48,311]\u001b[0m Trial 9 finished with value: 0.06294119127374082 and parameters: {'n_estimators': 1913, 'max_depth': 10, 'min_child_weight': 6, 'gamma': 1, 'learning_rate': 0.030079033060321385, 'colsample_bytree': 0.7, 'lambda': 0.005710484520499974, 'alpha': 0.602109178869672, 'subsample': 0.8}. Best is trial 9 with value: 0.06294119127374082.\u001b[0m\n"
          ]
        },
        {
          "output_type": "stream",
          "name": "stdout",
          "text": [
            "[10:22:48] WARNING: /workspace/src/objective/regression_obj.cu:152: reg:linear is now deprecated in favor of reg:squarederror.\n"
          ]
        },
        {
          "output_type": "stream",
          "name": "stderr",
          "text": [
            "\u001b[32m[I 2022-03-19 10:23:33,971]\u001b[0m Trial 10 finished with value: 0.15065811971043114 and parameters: {'n_estimators': 1992, 'max_depth': 10, 'min_child_weight': 292, 'gamma': 1, 'learning_rate': 0.03672522469986702, 'colsample_bytree': 0.7, 'lambda': 0.0015654217993903397, 'alpha': 0.02324294612856203, 'subsample': 0.7}. Best is trial 9 with value: 0.06294119127374082.\u001b[0m\n"
          ]
        },
        {
          "output_type": "stream",
          "name": "stdout",
          "text": [
            "[10:23:34] WARNING: /workspace/src/objective/regression_obj.cu:152: reg:linear is now deprecated in favor of reg:squarederror.\n"
          ]
        },
        {
          "output_type": "stream",
          "name": "stderr",
          "text": [
            "\u001b[32m[I 2022-03-19 10:23:37,196]\u001b[0m Trial 11 finished with value: 0.11124497393738188 and parameters: {'n_estimators': 115, 'max_depth': 10, 'min_child_weight': 1, 'gamma': 1, 'learning_rate': 0.039349814202227995, 'colsample_bytree': 0.6, 'lambda': 0.006064576190542336, 'alpha': 0.0072641034454825025, 'subsample': 0.8}. Best is trial 9 with value: 0.06294119127374082.\u001b[0m\n"
          ]
        },
        {
          "output_type": "stream",
          "name": "stdout",
          "text": [
            "[10:23:37] WARNING: /workspace/src/objective/regression_obj.cu:152: reg:linear is now deprecated in favor of reg:squarederror.\n"
          ]
        },
        {
          "output_type": "stream",
          "name": "stderr",
          "text": [
            "\u001b[32m[I 2022-03-19 10:23:40,966]\u001b[0m Trial 12 finished with value: 0.17980734737884513 and parameters: {'n_estimators': 145, 'max_depth': 10, 'min_child_weight': 67, 'gamma': 1, 'learning_rate': 0.0360133388226718, 'colsample_bytree': 0.6, 'lambda': 0.003974531468387929, 'alpha': 0.018453028338568572, 'subsample': 0.7}. Best is trial 9 with value: 0.06294119127374082.\u001b[0m\n"
          ]
        },
        {
          "output_type": "stream",
          "name": "stdout",
          "text": [
            "[10:23:40] WARNING: /workspace/src/objective/regression_obj.cu:152: reg:linear is now deprecated in favor of reg:squarederror.\n"
          ]
        },
        {
          "output_type": "stream",
          "name": "stderr",
          "text": [
            "\u001b[32m[I 2022-03-19 10:24:02,089]\u001b[0m Trial 13 finished with value: 0.11520137463610644 and parameters: {'n_estimators': 668, 'max_depth': 13, 'min_child_weight': 32, 'gamma': 1, 'learning_rate': 0.019549438889887007, 'colsample_bytree': 0.6, 'lambda': 0.06779985106134678, 'alpha': 0.16802897896342825, 'subsample': 0.6}. Best is trial 9 with value: 0.06294119127374082.\u001b[0m\n"
          ]
        },
        {
          "output_type": "stream",
          "name": "stdout",
          "text": [
            "[10:24:02] WARNING: /workspace/src/objective/regression_obj.cu:152: reg:linear is now deprecated in favor of reg:squarederror.\n"
          ]
        },
        {
          "output_type": "stream",
          "name": "stderr",
          "text": [
            "\u001b[32m[I 2022-03-19 10:24:36,151]\u001b[0m Trial 14 finished with value: 0.11599850786818242 and parameters: {'n_estimators': 1116, 'max_depth': 11, 'min_child_weight': 96, 'gamma': 1, 'learning_rate': 0.03542314311361444, 'colsample_bytree': 0.8, 'lambda': 0.004758441374427145, 'alpha': 0.009190590294393161, 'subsample': 0.8}. Best is trial 9 with value: 0.06294119127374082.\u001b[0m\n"
          ]
        },
        {
          "output_type": "stream",
          "name": "stdout",
          "text": [
            "[10:24:36] WARNING: /workspace/src/objective/regression_obj.cu:152: reg:linear is now deprecated in favor of reg:squarederror.\n"
          ]
        },
        {
          "output_type": "stream",
          "name": "stderr",
          "text": [
            "\u001b[32m[I 2022-03-19 10:25:22,873]\u001b[0m Trial 15 finished with value: 0.13220724407567647 and parameters: {'n_estimators': 1978, 'max_depth': 10, 'min_child_weight': 195, 'gamma': 1, 'learning_rate': 0.04100060065511765, 'colsample_bytree': 0.7, 'lambda': 0.064282719814954, 'alpha': 9.522377676567608, 'subsample': 0.8}. Best is trial 9 with value: 0.06294119127374082.\u001b[0m\n"
          ]
        },
        {
          "output_type": "stream",
          "name": "stdout",
          "text": [
            "[10:25:22] WARNING: /workspace/src/objective/regression_obj.cu:152: reg:linear is now deprecated in favor of reg:squarederror.\n"
          ]
        },
        {
          "output_type": "stream",
          "name": "stderr",
          "text": [
            "\u001b[32m[I 2022-03-19 10:25:51,330]\u001b[0m Trial 16 finished with value: 0.09675267874972776 and parameters: {'n_estimators': 724, 'max_depth': 16, 'min_child_weight': 29, 'gamma': 1, 'learning_rate': 0.01620167138702087, 'colsample_bytree': 0.6, 'lambda': 9.982910382743636, 'alpha': 0.07742189371914453, 'subsample': 0.8}. Best is trial 9 with value: 0.06294119127374082.\u001b[0m\n"
          ]
        },
        {
          "output_type": "stream",
          "name": "stdout",
          "text": [
            "[10:25:51] WARNING: /workspace/src/objective/regression_obj.cu:152: reg:linear is now deprecated in favor of reg:squarederror.\n"
          ]
        },
        {
          "output_type": "stream",
          "name": "stderr",
          "text": [
            "\u001b[32m[I 2022-03-19 10:26:24,356]\u001b[0m Trial 17 finished with value: 0.15273135483807024 and parameters: {'n_estimators': 698, 'max_depth': 16, 'min_child_weight': 46, 'gamma': 3, 'learning_rate': 0.015027179439146445, 'colsample_bytree': 0.8, 'lambda': 8.25033671933337, 'alpha': 0.08300325177726414, 'subsample': 0.7}. Best is trial 9 with value: 0.06294119127374082.\u001b[0m\n"
          ]
        },
        {
          "output_type": "stream",
          "name": "stdout",
          "text": [
            "[10:26:24] WARNING: /workspace/src/objective/regression_obj.cu:152: reg:linear is now deprecated in favor of reg:squarederror.\n"
          ]
        },
        {
          "output_type": "stream",
          "name": "stderr",
          "text": [
            "\u001b[32m[I 2022-03-19 10:26:53,172]\u001b[0m Trial 18 finished with value: 0.3869155303642341 and parameters: {'n_estimators': 880, 'max_depth': 16, 'min_child_weight': 89, 'gamma': 2, 'learning_rate': 0.0020059479564056, 'colsample_bytree': 0.7, 'lambda': 1.2468711741488183, 'alpha': 0.7263216518654068, 'subsample': 0.6}. Best is trial 9 with value: 0.06294119127374082.\u001b[0m\n"
          ]
        },
        {
          "output_type": "stream",
          "name": "stdout",
          "text": [
            "[10:26:53] WARNING: /workspace/src/objective/regression_obj.cu:152: reg:linear is now deprecated in favor of reg:squarederror.\n"
          ]
        },
        {
          "output_type": "stream",
          "name": "stderr",
          "text": [
            "\u001b[32m[I 2022-03-19 10:27:29,236]\u001b[0m Trial 19 finished with value: 0.1537220912345093 and parameters: {'n_estimators': 1200, 'max_depth': 14, 'min_child_weight': 176, 'gamma': 1, 'learning_rate': 0.01598978280463105, 'colsample_bytree': 0.6, 'lambda': 7.983559288894625, 'alpha': 0.09522851335324396, 'subsample': 0.8}. Best is trial 9 with value: 0.06294119127374082.\u001b[0m\n"
          ]
        },
        {
          "output_type": "stream",
          "name": "stdout",
          "text": [
            "[10:27:29] WARNING: /workspace/src/objective/regression_obj.cu:152: reg:linear is now deprecated in favor of reg:squarederror.\n"
          ]
        },
        {
          "output_type": "stream",
          "name": "stderr",
          "text": [
            "\u001b[32m[I 2022-03-19 10:27:50,022]\u001b[0m Trial 20 finished with value: 0.09798771276813217 and parameters: {'n_estimators': 468, 'max_depth': 13, 'min_child_weight': 32, 'gamma': 1, 'learning_rate': 0.028834701961783633, 'colsample_bytree': 0.9, 'lambda': 2.8010433675821793, 'alpha': 1.090974030978488, 'subsample': 0.8}. Best is trial 9 with value: 0.06294119127374082.\u001b[0m\n"
          ]
        },
        {
          "output_type": "stream",
          "name": "stdout",
          "text": [
            "[10:27:50] WARNING: /workspace/src/objective/regression_obj.cu:152: reg:linear is now deprecated in favor of reg:squarederror.\n"
          ]
        },
        {
          "output_type": "stream",
          "name": "stderr",
          "text": [
            "\u001b[32m[I 2022-03-19 10:28:14,826]\u001b[0m Trial 21 finished with value: 0.0969896286369261 and parameters: {'n_estimators': 521, 'max_depth': 13, 'min_child_weight': 34, 'gamma': 1, 'learning_rate': 0.028691614190654087, 'colsample_bytree': 1.0, 'lambda': 3.1889819744207832, 'alpha': 0.9848366183467107, 'subsample': 0.8}. Best is trial 9 with value: 0.06294119127374082.\u001b[0m\n"
          ]
        },
        {
          "output_type": "stream",
          "name": "stdout",
          "text": [
            "[10:28:14] WARNING: /workspace/src/objective/regression_obj.cu:152: reg:linear is now deprecated in favor of reg:squarederror.\n"
          ]
        },
        {
          "output_type": "stream",
          "name": "stderr",
          "text": [
            "\u001b[32m[I 2022-03-19 10:28:46,100]\u001b[0m Trial 22 finished with value: 0.0951835389519101 and parameters: {'n_estimators': 568, 'max_depth': 15, 'min_child_weight': 32, 'gamma': 1, 'learning_rate': 0.02247123212467074, 'colsample_bytree': 1.0, 'lambda': 0.8219576656422892, 'alpha': 0.26106446030103325, 'subsample': 0.8}. Best is trial 9 with value: 0.06294119127374082.\u001b[0m\n"
          ]
        },
        {
          "output_type": "stream",
          "name": "stdout",
          "text": [
            "[10:28:46] WARNING: /workspace/src/objective/regression_obj.cu:152: reg:linear is now deprecated in favor of reg:squarederror.\n"
          ]
        },
        {
          "output_type": "stream",
          "name": "stderr",
          "text": [
            "\u001b[32m[I 2022-03-19 10:29:24,103]\u001b[0m Trial 23 finished with value: 0.08364922482758085 and parameters: {'n_estimators': 837, 'max_depth': 15, 'min_child_weight': 29, 'gamma': 1, 'learning_rate': 0.023441447187848644, 'colsample_bytree': 0.8, 'lambda': 0.7557174853617417, 'alpha': 0.22071964125935922, 'subsample': 0.8}. Best is trial 9 with value: 0.06294119127374082.\u001b[0m\n"
          ]
        },
        {
          "output_type": "stream",
          "name": "stdout",
          "text": [
            "[10:29:24] WARNING: /workspace/src/objective/regression_obj.cu:152: reg:linear is now deprecated in favor of reg:squarederror.\n"
          ]
        },
        {
          "output_type": "stream",
          "name": "stderr",
          "text": [
            "\u001b[32m[I 2022-03-19 10:30:26,111]\u001b[0m Trial 24 finished with value: 0.11306906740169347 and parameters: {'n_estimators': 1304, 'max_depth': 15, 'min_child_weight': 96, 'gamma': 1, 'learning_rate': 0.022718886364843795, 'colsample_bytree': 1.0, 'lambda': 0.5811984222671096, 'alpha': 0.2396180751061939, 'subsample': 0.8}. Best is trial 9 with value: 0.06294119127374082.\u001b[0m\n"
          ]
        },
        {
          "output_type": "stream",
          "name": "stdout",
          "text": [
            "[10:30:26] WARNING: /workspace/src/objective/regression_obj.cu:152: reg:linear is now deprecated in favor of reg:squarederror.\n"
          ]
        },
        {
          "output_type": "stream",
          "name": "stderr",
          "text": [
            "\u001b[32m[I 2022-03-19 10:31:09,685]\u001b[0m Trial 25 finished with value: 0.12392523459560571 and parameters: {'n_estimators': 890, 'max_depth': 15, 'min_child_weight': 51, 'gamma': 2, 'learning_rate': 0.022912930299020074, 'colsample_bytree': 0.9, 'lambda': 0.7515879537432766, 'alpha': 0.48138226563795294, 'subsample': 0.8}. Best is trial 9 with value: 0.06294119127374082.\u001b[0m\n"
          ]
        },
        {
          "output_type": "stream",
          "name": "stdout",
          "text": [
            "[10:31:09] WARNING: /workspace/src/objective/regression_obj.cu:152: reg:linear is now deprecated in favor of reg:squarederror.\n"
          ]
        },
        {
          "output_type": "stream",
          "name": "stderr",
          "text": [
            "\u001b[32m[I 2022-03-19 10:31:29,823]\u001b[0m Trial 26 finished with value: 0.14475493536935535 and parameters: {'n_estimators': 558, 'max_depth': 14, 'min_child_weight': 111, 'gamma': 1, 'learning_rate': 0.03109237529177365, 'colsample_bytree': 0.8, 'lambda': 0.20873675733912372, 'alpha': 0.21906154511336534, 'subsample': 0.6}. Best is trial 9 with value: 0.06294119127374082.\u001b[0m\n"
          ]
        },
        {
          "output_type": "stream",
          "name": "stdout",
          "text": [
            "[10:31:29] WARNING: /workspace/src/objective/regression_obj.cu:152: reg:linear is now deprecated in favor of reg:squarederror.\n"
          ]
        },
        {
          "output_type": "stream",
          "name": "stderr",
          "text": [
            "\u001b[32m[I 2022-03-19 10:32:19,106]\u001b[0m Trial 27 finished with value: 0.08533341838060188 and parameters: {'n_estimators': 1722, 'max_depth': 11, 'min_child_weight': 18, 'gamma': 1, 'learning_rate': 0.03316200754427454, 'colsample_bytree': 0.9, 'lambda': 0.10007272653910272, 'alpha': 0.15084660142742093, 'subsample': 1.0}. Best is trial 9 with value: 0.06294119127374082.\u001b[0m\n"
          ]
        },
        {
          "output_type": "stream",
          "name": "stdout",
          "text": [
            "[10:32:19] WARNING: /workspace/src/objective/regression_obj.cu:152: reg:linear is now deprecated in favor of reg:squarederror.\n"
          ]
        },
        {
          "output_type": "stream",
          "name": "stderr",
          "text": [
            "\u001b[32m[I 2022-03-19 10:33:13,622]\u001b[0m Trial 28 finished with value: 0.10315534032552343 and parameters: {'n_estimators': 1827, 'max_depth': 11, 'min_child_weight': 13, 'gamma': 2, 'learning_rate': 0.03133855898736436, 'colsample_bytree': 0.8, 'lambda': 0.04232869841336648, 'alpha': 0.06707766045014688, 'subsample': 1.0}. Best is trial 9 with value: 0.06294119127374082.\u001b[0m\n"
          ]
        },
        {
          "output_type": "stream",
          "name": "stdout",
          "text": [
            "[10:33:13] WARNING: /workspace/src/objective/regression_obj.cu:152: reg:linear is now deprecated in favor of reg:squarederror.\n"
          ]
        },
        {
          "output_type": "stream",
          "name": "stderr",
          "text": [
            "\u001b[32m[I 2022-03-19 10:34:04,106]\u001b[0m Trial 29 finished with value: 0.1083936237291295 and parameters: {'n_estimators': 1653, 'max_depth': 9, 'min_child_weight': 1, 'gamma': 2, 'learning_rate': 0.03353288083317138, 'colsample_bytree': 0.9, 'lambda': 0.10791286907406439, 'alpha': 2.5553340970409826, 'subsample': 1.0}. Best is trial 9 with value: 0.06294119127374082.\u001b[0m\n"
          ]
        },
        {
          "output_type": "stream",
          "name": "stdout",
          "text": [
            "[10:34:04] WARNING: /workspace/src/objective/regression_obj.cu:152: reg:linear is now deprecated in favor of reg:squarederror.\n"
          ]
        },
        {
          "output_type": "stream",
          "name": "stderr",
          "text": [
            "\u001b[32m[I 2022-03-19 10:34:58,658]\u001b[0m Trial 30 finished with value: 0.10105764336241095 and parameters: {'n_estimators': 1877, 'max_depth': 12, 'min_child_weight': 71, 'gamma': 1, 'learning_rate': 0.02584358618322231, 'colsample_bytree': 0.7, 'lambda': 0.3288129349673827, 'alpha': 0.03463369052027481, 'subsample': 1.0}. Best is trial 9 with value: 0.06294119127374082.\u001b[0m\n"
          ]
        },
        {
          "output_type": "stream",
          "name": "stdout",
          "text": [
            "[10:34:58] WARNING: /workspace/src/objective/regression_obj.cu:152: reg:linear is now deprecated in favor of reg:squarederror.\n"
          ]
        },
        {
          "output_type": "stream",
          "name": "stderr",
          "text": [
            "\u001b[32m[I 2022-03-19 10:36:15,213]\u001b[0m Trial 31 finished with value: 0.08246402337344853 and parameters: {'n_estimators': 1587, 'max_depth': 15, 'min_child_weight': 17, 'gamma': 1, 'learning_rate': 0.020178066428241055, 'colsample_bytree': 1.0, 'lambda': 1.0346327475438666, 'alpha': 0.15123290317343663, 'subsample': 1.0}. Best is trial 9 with value: 0.06294119127374082.\u001b[0m\n"
          ]
        },
        {
          "output_type": "stream",
          "name": "stdout",
          "text": [
            "[10:36:15] WARNING: /workspace/src/objective/regression_obj.cu:152: reg:linear is now deprecated in favor of reg:squarederror.\n"
          ]
        },
        {
          "output_type": "stream",
          "name": "stderr",
          "text": [
            "\u001b[32m[I 2022-03-19 10:37:06,600]\u001b[0m Trial 32 finished with value: 0.09881559124994149 and parameters: {'n_estimators': 1620, 'max_depth': 11, 'min_child_weight': 19, 'gamma': 1, 'learning_rate': 0.01934544343628103, 'colsample_bytree': 1.0, 'lambda': 1.2136332327187287, 'alpha': 0.15465623677230678, 'subsample': 1.0}. Best is trial 9 with value: 0.06294119127374082.\u001b[0m\n"
          ]
        },
        {
          "output_type": "stream",
          "name": "stdout",
          "text": [
            "[10:37:06] WARNING: /workspace/src/objective/regression_obj.cu:152: reg:linear is now deprecated in favor of reg:squarederror.\n"
          ]
        },
        {
          "output_type": "stream",
          "name": "stderr",
          "text": [
            "\u001b[32m[I 2022-03-19 10:38:04,845]\u001b[0m Trial 33 finished with value: 0.1045377672720243 and parameters: {'n_estimators': 1749, 'max_depth': 12, 'min_child_weight': 50, 'gamma': 1, 'learning_rate': 0.025073870391191508, 'colsample_bytree': 0.9, 'lambda': 0.11495826084235716, 'alpha': 0.6541169777705659, 'subsample': 1.0}. Best is trial 9 with value: 0.06294119127374082.\u001b[0m\n"
          ]
        },
        {
          "output_type": "stream",
          "name": "stdout",
          "text": [
            "[10:38:04] WARNING: /workspace/src/objective/regression_obj.cu:152: reg:linear is now deprecated in favor of reg:squarederror.\n"
          ]
        },
        {
          "output_type": "stream",
          "name": "stderr",
          "text": [
            "\u001b[32m[I 2022-03-19 10:39:10,964]\u001b[0m Trial 34 finished with value: 0.13758560342783827 and parameters: {'n_estimators': 1512, 'max_depth': 14, 'min_child_weight': 81, 'gamma': 1, 'learning_rate': 0.012564355478362634, 'colsample_bytree': 1.0, 'lambda': 4.390319363771219, 'alpha': 0.05293879342713678, 'subsample': 1.0}. Best is trial 9 with value: 0.06294119127374082.\u001b[0m\n"
          ]
        },
        {
          "output_type": "stream",
          "name": "stdout",
          "text": [
            "[10:39:10] WARNING: /workspace/src/objective/regression_obj.cu:152: reg:linear is now deprecated in favor of reg:squarederror.\n"
          ]
        },
        {
          "output_type": "stream",
          "name": "stderr",
          "text": [
            "\u001b[32m[I 2022-03-19 10:39:55,739]\u001b[0m Trial 35 finished with value: 0.12070941147254621 and parameters: {'n_estimators': 1896, 'max_depth': 9, 'min_child_weight': 18, 'gamma': 2, 'learning_rate': 0.019633735541250273, 'colsample_bytree': 0.8, 'lambda': 0.03385978522384715, 'alpha': 0.13542969597462973, 'subsample': 1.0}. Best is trial 9 with value: 0.06294119127374082.\u001b[0m\n"
          ]
        },
        {
          "output_type": "stream",
          "name": "stdout",
          "text": [
            "[10:39:55] WARNING: /workspace/src/objective/regression_obj.cu:152: reg:linear is now deprecated in favor of reg:squarederror.\n"
          ]
        },
        {
          "output_type": "stream",
          "name": "stderr",
          "text": [
            "\u001b[32m[I 2022-03-19 10:40:36,088]\u001b[0m Trial 36 finished with value: 0.09907142023546334 and parameters: {'n_estimators': 1321, 'max_depth': 11, 'min_child_weight': 47, 'gamma': 1, 'learning_rate': 0.039646719569129116, 'colsample_bytree': 0.9, 'lambda': 0.010338585638646825, 'alpha': 1.3468060728900082, 'subsample': 1.0}. Best is trial 9 with value: 0.06294119127374082.\u001b[0m\n"
          ]
        },
        {
          "output_type": "stream",
          "name": "stdout",
          "text": [
            "[10:40:36] WARNING: /workspace/src/objective/regression_obj.cu:152: reg:linear is now deprecated in favor of reg:squarederror.\n"
          ]
        },
        {
          "output_type": "stream",
          "name": "stderr",
          "text": [
            "\u001b[32m[I 2022-03-19 10:41:58,222]\u001b[0m Trial 37 finished with value: 0.14830608250080513 and parameters: {'n_estimators': 1715, 'max_depth': 13, 'min_child_weight': 65, 'gamma': 2, 'learning_rate': 0.007225521350020612, 'colsample_bytree': 1.0, 'lambda': 0.35660470854733334, 'alpha': 0.3988297174256766, 'subsample': 1.0}. Best is trial 9 with value: 0.06294119127374082.\u001b[0m\n"
          ]
        },
        {
          "output_type": "stream",
          "name": "stdout",
          "text": [
            "[10:41:58] WARNING: /workspace/src/objective/regression_obj.cu:152: reg:linear is now deprecated in favor of reg:squarederror.\n"
          ]
        },
        {
          "output_type": "stream",
          "name": "stderr",
          "text": [
            "\u001b[32m[I 2022-03-19 10:42:35,866]\u001b[0m Trial 38 finished with value: 0.1545902010781849 and parameters: {'n_estimators': 1544, 'max_depth': 9, 'min_child_weight': 232, 'gamma': 1, 'learning_rate': 0.027353378626699367, 'colsample_bytree': 0.8, 'lambda': 0.0017805376717971511, 'alpha': 0.038590621520090164, 'subsample': 0.7}. Best is trial 9 with value: 0.06294119127374082.\u001b[0m\n"
          ]
        },
        {
          "output_type": "stream",
          "name": "stdout",
          "text": [
            "[10:42:35] WARNING: /workspace/src/objective/regression_obj.cu:152: reg:linear is now deprecated in favor of reg:squarederror.\n"
          ]
        },
        {
          "output_type": "stream",
          "name": "stderr",
          "text": [
            "\u001b[32m[I 2022-03-19 10:43:07,377]\u001b[0m Trial 39 finished with value: 0.12764522361497843 and parameters: {'n_estimators': 880, 'max_depth': 12, 'min_child_weight': 135, 'gamma': 1, 'learning_rate': 0.03312510552087793, 'colsample_bytree': 0.9, 'lambda': 0.15899946817095673, 'alpha': 0.3063514985354277, 'subsample': 1.0}. Best is trial 9 with value: 0.06294119127374082.\u001b[0m\n"
          ]
        },
        {
          "output_type": "stream",
          "name": "stdout",
          "text": [
            "[10:43:07] WARNING: /workspace/src/objective/regression_obj.cu:152: reg:linear is now deprecated in favor of reg:squarederror.\n"
          ]
        },
        {
          "output_type": "stream",
          "name": "stderr",
          "text": [
            "\u001b[32m[I 2022-03-19 10:43:47,593]\u001b[0m Trial 40 finished with value: 0.1023791601984921 and parameters: {'n_estimators': 1015, 'max_depth': 15, 'min_child_weight': 19, 'gamma': 2, 'learning_rate': 0.04554306357560008, 'colsample_bytree': 0.7, 'lambda': 1.1645377403388077, 'alpha': 6.298323839727978, 'subsample': 0.6}. Best is trial 9 with value: 0.06294119127374082.\u001b[0m\n"
          ]
        },
        {
          "output_type": "stream",
          "name": "stdout",
          "text": [
            "[10:43:47] WARNING: /workspace/src/objective/regression_obj.cu:152: reg:linear is now deprecated in favor of reg:squarederror.\n"
          ]
        },
        {
          "output_type": "stream",
          "name": "stderr",
          "text": [
            "\u001b[32m[I 2022-03-19 10:44:04,524]\u001b[0m Trial 41 finished with value: 0.10792043753276132 and parameters: {'n_estimators': 294, 'max_depth': 15, 'min_child_weight': 30, 'gamma': 1, 'learning_rate': 0.02499088312876807, 'colsample_bytree': 1.0, 'lambda': 0.7965428310133683, 'alpha': 0.5542669108632787, 'subsample': 0.8}. Best is trial 9 with value: 0.06294119127374082.\u001b[0m\n"
          ]
        },
        {
          "output_type": "stream",
          "name": "stdout",
          "text": [
            "[10:44:04] WARNING: /workspace/src/objective/regression_obj.cu:152: reg:linear is now deprecated in favor of reg:squarederror.\n"
          ]
        },
        {
          "output_type": "stream",
          "name": "stderr",
          "text": [
            "\u001b[32m[I 2022-03-19 10:45:31,102]\u001b[0m Trial 42 finished with value: 0.08173953885781698 and parameters: {'n_estimators': 1826, 'max_depth': 14, 'min_child_weight': 41, 'gamma': 1, 'learning_rate': 0.021462911154715734, 'colsample_bytree': 1.0, 'lambda': 0.4528873391411024, 'alpha': 0.12471157068206841, 'subsample': 0.8}. Best is trial 9 with value: 0.06294119127374082.\u001b[0m\n"
          ]
        },
        {
          "output_type": "stream",
          "name": "stdout",
          "text": [
            "[10:45:31] WARNING: /workspace/src/objective/regression_obj.cu:152: reg:linear is now deprecated in favor of reg:squarederror.\n"
          ]
        },
        {
          "output_type": "stream",
          "name": "stderr",
          "text": [
            "\u001b[32m[I 2022-03-19 10:47:19,205]\u001b[0m Trial 43 finished with value: 0.05180336445930823 and parameters: {'n_estimators': 1808, 'max_depth': 14, 'min_child_weight': 1, 'gamma': 1, 'learning_rate': 0.018135469230736986, 'colsample_bytree': 1.0, 'lambda': 0.3993999415576441, 'alpha': 0.1206300703706598, 'subsample': 0.8}. Best is trial 43 with value: 0.05180336445930823.\u001b[0m\n"
          ]
        },
        {
          "output_type": "stream",
          "name": "stdout",
          "text": [
            "[10:47:19] WARNING: /workspace/src/objective/regression_obj.cu:152: reg:linear is now deprecated in favor of reg:squarederror.\n"
          ]
        },
        {
          "output_type": "stream",
          "name": "stderr",
          "text": [
            "\u001b[32m[I 2022-03-19 10:48:26,136]\u001b[0m Trial 44 finished with value: 0.054943023134966996 and parameters: {'n_estimators': 1862, 'max_depth': 14, 'min_child_weight': 3, 'gamma': 1, 'learning_rate': 0.017640852790940735, 'colsample_bytree': 0.5, 'lambda': 0.4341545676967934, 'alpha': 0.1231741423347089, 'subsample': 0.8}. Best is trial 43 with value: 0.05180336445930823.\u001b[0m\n"
          ]
        },
        {
          "output_type": "stream",
          "name": "stdout",
          "text": [
            "[10:48:26] WARNING: /workspace/src/objective/regression_obj.cu:152: reg:linear is now deprecated in favor of reg:squarederror.\n"
          ]
        },
        {
          "output_type": "stream",
          "name": "stderr",
          "text": [
            "\u001b[32m[I 2022-03-19 10:49:34,607]\u001b[0m Trial 45 finished with value: 0.056891630322242974 and parameters: {'n_estimators': 1816, 'max_depth': 14, 'min_child_weight': 1, 'gamma': 1, 'learning_rate': 0.011438539706738795, 'colsample_bytree': 0.5, 'lambda': 0.4570481169400033, 'alpha': 0.022894353786062804, 'subsample': 0.8}. Best is trial 43 with value: 0.05180336445930823.\u001b[0m\n"
          ]
        },
        {
          "output_type": "stream",
          "name": "stdout",
          "text": [
            "[10:49:34] WARNING: /workspace/src/objective/regression_obj.cu:152: reg:linear is now deprecated in favor of reg:squarederror.\n"
          ]
        },
        {
          "output_type": "stream",
          "name": "stderr",
          "text": [
            "\u001b[32m[I 2022-03-19 10:50:40,578]\u001b[0m Trial 46 finished with value: 0.06578645998467406 and parameters: {'n_estimators': 1816, 'max_depth': 14, 'min_child_weight': 10, 'gamma': 1, 'learning_rate': 0.01099535233340367, 'colsample_bytree': 0.5, 'lambda': 0.4673340890474414, 'alpha': 0.015687924343966007, 'subsample': 0.8}. Best is trial 43 with value: 0.05180336445930823.\u001b[0m\n"
          ]
        },
        {
          "output_type": "stream",
          "name": "stdout",
          "text": [
            "[10:50:40] WARNING: /workspace/src/objective/regression_obj.cu:152: reg:linear is now deprecated in favor of reg:squarederror.\n"
          ]
        },
        {
          "output_type": "stream",
          "name": "stderr",
          "text": [
            "\u001b[32m[I 2022-03-19 10:51:53,523]\u001b[0m Trial 47 finished with value: 0.11163455603044178 and parameters: {'n_estimators': 1995, 'max_depth': 14, 'min_child_weight': 1, 'gamma': 3, 'learning_rate': 0.010114827167191035, 'colsample_bytree': 0.5, 'lambda': 0.18219457990848298, 'alpha': 0.013721647759807285, 'subsample': 0.8}. Best is trial 43 with value: 0.05180336445930823.\u001b[0m\n"
          ]
        },
        {
          "output_type": "stream",
          "name": "stdout",
          "text": [
            "[10:51:53] WARNING: /workspace/src/objective/regression_obj.cu:152: reg:linear is now deprecated in favor of reg:squarederror.\n"
          ]
        },
        {
          "output_type": "stream",
          "name": "stderr",
          "text": [
            "\u001b[32m[I 2022-03-19 10:53:00,895]\u001b[0m Trial 48 finished with value: 0.07949326156037696 and parameters: {'n_estimators': 1852, 'max_depth': 13, 'min_child_weight': 7, 'gamma': 1, 'learning_rate': 0.003985773039666195, 'colsample_bytree': 0.5, 'lambda': 0.2557078974805324, 'alpha': 0.0022089459669698045, 'subsample': 0.8}. Best is trial 43 with value: 0.05180336445930823.\u001b[0m\n"
          ]
        },
        {
          "output_type": "stream",
          "name": "stdout",
          "text": [
            "[10:53:00] WARNING: /workspace/src/objective/regression_obj.cu:152: reg:linear is now deprecated in favor of reg:squarederror.\n"
          ]
        },
        {
          "output_type": "stream",
          "name": "stderr",
          "text": [
            "\u001b[32m[I 2022-03-19 10:53:43,897]\u001b[0m Trial 49 finished with value: 0.16977369480176216 and parameters: {'n_estimators': 1679, 'max_depth': 14, 'min_child_weight': 282, 'gamma': 1, 'learning_rate': 0.013119257404382419, 'colsample_bytree': 0.5, 'lambda': 1.721612573331085, 'alpha': 0.005227660852236055, 'subsample': 0.8}. Best is trial 43 with value: 0.05180336445930823.\u001b[0m\n"
          ]
        },
        {
          "output_type": "stream",
          "name": "stdout",
          "text": [
            "Best trial : score 0.05180336445930823, \n",
            "params {'n_estimators': 1808, 'max_depth': 14, 'min_child_weight': 1, 'gamma': 1, 'learning_rate': 0.018135469230736986, 'colsample_bytree': 1.0, 'lambda': 0.3993999415576441, 'alpha': 0.1206300703706598, 'subsample': 0.8} \n",
            "besttrial FrozenTrial(number=43, values=[0.05180336445930823], datetime_start=datetime.datetime(2022, 3, 19, 10, 45, 31, 105126), datetime_complete=datetime.datetime(2022, 3, 19, 10, 47, 19, 204945), params={'n_estimators': 1808, 'max_depth': 14, 'min_child_weight': 1, 'gamma': 1, 'learning_rate': 0.018135469230736986, 'colsample_bytree': 1.0, 'lambda': 0.3993999415576441, 'alpha': 0.1206300703706598, 'subsample': 0.8}, distributions={'n_estimators': IntUniformDistribution(high=2000, low=100, step=1), 'max_depth': IntUniformDistribution(high=16, low=8, step=1), 'min_child_weight': IntUniformDistribution(high=300, low=1, step=1), 'gamma': IntUniformDistribution(high=3, low=1, step=1), 'learning_rate': UniformDistribution(high=0.05, low=0.001), 'colsample_bytree': DiscreteUniformDistribution(high=1.0, low=0.5, q=0.1), 'lambda': LogUniformDistribution(high=10.0, low=0.001), 'alpha': LogUniformDistribution(high=10.0, low=0.001), 'subsample': CategoricalDistribution(choices=(0.6, 0.7, 0.8, 1.0))}, user_attrs={}, system_attrs={}, intermediate_values={}, trial_id=43, state=TrialState.COMPLETE, value=None)\n"
          ]
        }
      ]
    },
    {
      "cell_type": "markdown",
      "source": [
        "<font size=5 > <b>API: optuna.visualization.plot_param_importances </b></font><br>\n",
        "* ref: https://optuna.readthedocs.io/en/stable/reference/visualization/generated/optuna.visualization.plot_param_importances.html\n",
        "<img src=\"https://drive.google.com/uc?export=download&id=1yXXXbtfVsFZ5UyvkGWyrPH7qp3XII-JX\" height=60>"
      ],
      "metadata": {
        "id": "_qwfnvmau7NC"
      }
    },
    {
      "cell_type": "markdown",
      "source": [
        "<font size=5 >parameter</font>\n",
        "* <b>study</b>: 최적화가 이루어진 study객체\n",
        "* <b>params</b>: 차트에 나타낼 parameter list"
      ],
      "metadata": {
        "id": "Llju-2h5sIIh"
      }
    },
    {
      "cell_type": "code",
      "source": [
        "optuna.visualization.plot_param_importances(study,params=['min_child_weight','max_depth','n_estimators','learning_rate','subsample','colsample_bytree']) # 파라미터 중요도 확인 그래프"
      ],
      "metadata": {
        "colab": {
          "base_uri": "https://localhost:8080/",
          "height": 542
        },
        "id": "aqOd7TUax18-",
        "outputId": "1c7b7975-c724-4991-8cc8-4c52d70e918b"
      },
      "execution_count": null,
      "outputs": [
        {
          "output_type": "display_data",
          "data": {
            "text/html": [
              "<html>\n",
              "<head><meta charset=\"utf-8\" /></head>\n",
              "<body>\n",
              "    <div>            <script src=\"https://cdnjs.cloudflare.com/ajax/libs/mathjax/2.7.5/MathJax.js?config=TeX-AMS-MML_SVG\"></script><script type=\"text/javascript\">if (window.MathJax) {MathJax.Hub.Config({SVG: {font: \"STIX-Web\"}});}</script>                <script type=\"text/javascript\">window.PlotlyConfig = {MathJaxConfig: 'local'};</script>\n",
              "        <script src=\"https://cdn.plot.ly/plotly-2.8.3.min.js\"></script>                <div id=\"dfdb7c72-09f6-4933-9900-19a081b61811\" class=\"plotly-graph-div\" style=\"height:525px; width:100%;\"></div>            <script type=\"text/javascript\">                                    window.PLOTLYENV=window.PLOTLYENV || {};                                    if (document.getElementById(\"dfdb7c72-09f6-4933-9900-19a081b61811\")) {                    Plotly.newPlot(                        \"dfdb7c72-09f6-4933-9900-19a081b61811\",                        [{\"cliponaxis\":false,\"hovertemplate\":[\"subsample (CategoricalDistribution): 0.01070873224038425<extra></extra>\",\"colsample_bytree (DiscreteUniformDistribution): 0.0263709004947404<extra></extra>\",\"n_estimators (IntUniformDistribution): 0.037287427373898875<extra></extra>\",\"max_depth (IntUniformDistribution): 0.07892901562027316<extra></extra>\",\"min_child_weight (IntUniformDistribution): 0.3275722959454839<extra></extra>\",\"learning_rate (UniformDistribution): 0.5191316283252193<extra></extra>\"],\"marker\":{\"color\":\"rgb(66,146,198)\"},\"orientation\":\"h\",\"text\":[\"0.01070873224038425\",\"0.0263709004947404\",\"0.037287427373898875\",\"0.07892901562027316\",\"0.3275722959454839\",\"0.5191316283252193\"],\"textposition\":\"outside\",\"texttemplate\":\"%{text:.2f}\",\"x\":[0.01070873224038425,0.0263709004947404,0.037287427373898875,0.07892901562027316,0.3275722959454839,0.5191316283252193],\"y\":[\"subsample\",\"colsample_bytree\",\"n_estimators\",\"max_depth\",\"min_child_weight\",\"learning_rate\"],\"type\":\"bar\"}],                        {\"showlegend\":false,\"title\":{\"text\":\"Hyperparameter Importances\"},\"xaxis\":{\"title\":{\"text\":\"Importance for Objective Value\"}},\"yaxis\":{\"title\":{\"text\":\"Hyperparameter\"}},\"template\":{\"data\":{\"bar\":[{\"error_x\":{\"color\":\"#2a3f5f\"},\"error_y\":{\"color\":\"#2a3f5f\"},\"marker\":{\"line\":{\"color\":\"#E5ECF6\",\"width\":0.5},\"pattern\":{\"fillmode\":\"overlay\",\"size\":10,\"solidity\":0.2}},\"type\":\"bar\"}],\"barpolar\":[{\"marker\":{\"line\":{\"color\":\"#E5ECF6\",\"width\":0.5},\"pattern\":{\"fillmode\":\"overlay\",\"size\":10,\"solidity\":0.2}},\"type\":\"barpolar\"}],\"carpet\":[{\"aaxis\":{\"endlinecolor\":\"#2a3f5f\",\"gridcolor\":\"white\",\"linecolor\":\"white\",\"minorgridcolor\":\"white\",\"startlinecolor\":\"#2a3f5f\"},\"baxis\":{\"endlinecolor\":\"#2a3f5f\",\"gridcolor\":\"white\",\"linecolor\":\"white\",\"minorgridcolor\":\"white\",\"startlinecolor\":\"#2a3f5f\"},\"type\":\"carpet\"}],\"choropleth\":[{\"colorbar\":{\"outlinewidth\":0,\"ticks\":\"\"},\"type\":\"choropleth\"}],\"contour\":[{\"colorbar\":{\"outlinewidth\":0,\"ticks\":\"\"},\"colorscale\":[[0.0,\"#0d0887\"],[0.1111111111111111,\"#46039f\"],[0.2222222222222222,\"#7201a8\"],[0.3333333333333333,\"#9c179e\"],[0.4444444444444444,\"#bd3786\"],[0.5555555555555556,\"#d8576b\"],[0.6666666666666666,\"#ed7953\"],[0.7777777777777778,\"#fb9f3a\"],[0.8888888888888888,\"#fdca26\"],[1.0,\"#f0f921\"]],\"type\":\"contour\"}],\"contourcarpet\":[{\"colorbar\":{\"outlinewidth\":0,\"ticks\":\"\"},\"type\":\"contourcarpet\"}],\"heatmap\":[{\"colorbar\":{\"outlinewidth\":0,\"ticks\":\"\"},\"colorscale\":[[0.0,\"#0d0887\"],[0.1111111111111111,\"#46039f\"],[0.2222222222222222,\"#7201a8\"],[0.3333333333333333,\"#9c179e\"],[0.4444444444444444,\"#bd3786\"],[0.5555555555555556,\"#d8576b\"],[0.6666666666666666,\"#ed7953\"],[0.7777777777777778,\"#fb9f3a\"],[0.8888888888888888,\"#fdca26\"],[1.0,\"#f0f921\"]],\"type\":\"heatmap\"}],\"heatmapgl\":[{\"colorbar\":{\"outlinewidth\":0,\"ticks\":\"\"},\"colorscale\":[[0.0,\"#0d0887\"],[0.1111111111111111,\"#46039f\"],[0.2222222222222222,\"#7201a8\"],[0.3333333333333333,\"#9c179e\"],[0.4444444444444444,\"#bd3786\"],[0.5555555555555556,\"#d8576b\"],[0.6666666666666666,\"#ed7953\"],[0.7777777777777778,\"#fb9f3a\"],[0.8888888888888888,\"#fdca26\"],[1.0,\"#f0f921\"]],\"type\":\"heatmapgl\"}],\"histogram\":[{\"marker\":{\"pattern\":{\"fillmode\":\"overlay\",\"size\":10,\"solidity\":0.2}},\"type\":\"histogram\"}],\"histogram2d\":[{\"colorbar\":{\"outlinewidth\":0,\"ticks\":\"\"},\"colorscale\":[[0.0,\"#0d0887\"],[0.1111111111111111,\"#46039f\"],[0.2222222222222222,\"#7201a8\"],[0.3333333333333333,\"#9c179e\"],[0.4444444444444444,\"#bd3786\"],[0.5555555555555556,\"#d8576b\"],[0.6666666666666666,\"#ed7953\"],[0.7777777777777778,\"#fb9f3a\"],[0.8888888888888888,\"#fdca26\"],[1.0,\"#f0f921\"]],\"type\":\"histogram2d\"}],\"histogram2dcontour\":[{\"colorbar\":{\"outlinewidth\":0,\"ticks\":\"\"},\"colorscale\":[[0.0,\"#0d0887\"],[0.1111111111111111,\"#46039f\"],[0.2222222222222222,\"#7201a8\"],[0.3333333333333333,\"#9c179e\"],[0.4444444444444444,\"#bd3786\"],[0.5555555555555556,\"#d8576b\"],[0.6666666666666666,\"#ed7953\"],[0.7777777777777778,\"#fb9f3a\"],[0.8888888888888888,\"#fdca26\"],[1.0,\"#f0f921\"]],\"type\":\"histogram2dcontour\"}],\"mesh3d\":[{\"colorbar\":{\"outlinewidth\":0,\"ticks\":\"\"},\"type\":\"mesh3d\"}],\"parcoords\":[{\"line\":{\"colorbar\":{\"outlinewidth\":0,\"ticks\":\"\"}},\"type\":\"parcoords\"}],\"pie\":[{\"automargin\":true,\"type\":\"pie\"}],\"scatter\":[{\"marker\":{\"colorbar\":{\"outlinewidth\":0,\"ticks\":\"\"}},\"type\":\"scatter\"}],\"scatter3d\":[{\"line\":{\"colorbar\":{\"outlinewidth\":0,\"ticks\":\"\"}},\"marker\":{\"colorbar\":{\"outlinewidth\":0,\"ticks\":\"\"}},\"type\":\"scatter3d\"}],\"scattercarpet\":[{\"marker\":{\"colorbar\":{\"outlinewidth\":0,\"ticks\":\"\"}},\"type\":\"scattercarpet\"}],\"scattergeo\":[{\"marker\":{\"colorbar\":{\"outlinewidth\":0,\"ticks\":\"\"}},\"type\":\"scattergeo\"}],\"scattergl\":[{\"marker\":{\"colorbar\":{\"outlinewidth\":0,\"ticks\":\"\"}},\"type\":\"scattergl\"}],\"scattermapbox\":[{\"marker\":{\"colorbar\":{\"outlinewidth\":0,\"ticks\":\"\"}},\"type\":\"scattermapbox\"}],\"scatterpolar\":[{\"marker\":{\"colorbar\":{\"outlinewidth\":0,\"ticks\":\"\"}},\"type\":\"scatterpolar\"}],\"scatterpolargl\":[{\"marker\":{\"colorbar\":{\"outlinewidth\":0,\"ticks\":\"\"}},\"type\":\"scatterpolargl\"}],\"scatterternary\":[{\"marker\":{\"colorbar\":{\"outlinewidth\":0,\"ticks\":\"\"}},\"type\":\"scatterternary\"}],\"surface\":[{\"colorbar\":{\"outlinewidth\":0,\"ticks\":\"\"},\"colorscale\":[[0.0,\"#0d0887\"],[0.1111111111111111,\"#46039f\"],[0.2222222222222222,\"#7201a8\"],[0.3333333333333333,\"#9c179e\"],[0.4444444444444444,\"#bd3786\"],[0.5555555555555556,\"#d8576b\"],[0.6666666666666666,\"#ed7953\"],[0.7777777777777778,\"#fb9f3a\"],[0.8888888888888888,\"#fdca26\"],[1.0,\"#f0f921\"]],\"type\":\"surface\"}],\"table\":[{\"cells\":{\"fill\":{\"color\":\"#EBF0F8\"},\"line\":{\"color\":\"white\"}},\"header\":{\"fill\":{\"color\":\"#C8D4E3\"},\"line\":{\"color\":\"white\"}},\"type\":\"table\"}]},\"layout\":{\"annotationdefaults\":{\"arrowcolor\":\"#2a3f5f\",\"arrowhead\":0,\"arrowwidth\":1},\"autotypenumbers\":\"strict\",\"coloraxis\":{\"colorbar\":{\"outlinewidth\":0,\"ticks\":\"\"}},\"colorscale\":{\"diverging\":[[0,\"#8e0152\"],[0.1,\"#c51b7d\"],[0.2,\"#de77ae\"],[0.3,\"#f1b6da\"],[0.4,\"#fde0ef\"],[0.5,\"#f7f7f7\"],[0.6,\"#e6f5d0\"],[0.7,\"#b8e186\"],[0.8,\"#7fbc41\"],[0.9,\"#4d9221\"],[1,\"#276419\"]],\"sequential\":[[0.0,\"#0d0887\"],[0.1111111111111111,\"#46039f\"],[0.2222222222222222,\"#7201a8\"],[0.3333333333333333,\"#9c179e\"],[0.4444444444444444,\"#bd3786\"],[0.5555555555555556,\"#d8576b\"],[0.6666666666666666,\"#ed7953\"],[0.7777777777777778,\"#fb9f3a\"],[0.8888888888888888,\"#fdca26\"],[1.0,\"#f0f921\"]],\"sequentialminus\":[[0.0,\"#0d0887\"],[0.1111111111111111,\"#46039f\"],[0.2222222222222222,\"#7201a8\"],[0.3333333333333333,\"#9c179e\"],[0.4444444444444444,\"#bd3786\"],[0.5555555555555556,\"#d8576b\"],[0.6666666666666666,\"#ed7953\"],[0.7777777777777778,\"#fb9f3a\"],[0.8888888888888888,\"#fdca26\"],[1.0,\"#f0f921\"]]},\"colorway\":[\"#636efa\",\"#EF553B\",\"#00cc96\",\"#ab63fa\",\"#FFA15A\",\"#19d3f3\",\"#FF6692\",\"#B6E880\",\"#FF97FF\",\"#FECB52\"],\"font\":{\"color\":\"#2a3f5f\"},\"geo\":{\"bgcolor\":\"white\",\"lakecolor\":\"white\",\"landcolor\":\"#E5ECF6\",\"showlakes\":true,\"showland\":true,\"subunitcolor\":\"white\"},\"hoverlabel\":{\"align\":\"left\"},\"hovermode\":\"closest\",\"mapbox\":{\"style\":\"light\"},\"paper_bgcolor\":\"white\",\"plot_bgcolor\":\"#E5ECF6\",\"polar\":{\"angularaxis\":{\"gridcolor\":\"white\",\"linecolor\":\"white\",\"ticks\":\"\"},\"bgcolor\":\"#E5ECF6\",\"radialaxis\":{\"gridcolor\":\"white\",\"linecolor\":\"white\",\"ticks\":\"\"}},\"scene\":{\"xaxis\":{\"backgroundcolor\":\"#E5ECF6\",\"gridcolor\":\"white\",\"gridwidth\":2,\"linecolor\":\"white\",\"showbackground\":true,\"ticks\":\"\",\"zerolinecolor\":\"white\"},\"yaxis\":{\"backgroundcolor\":\"#E5ECF6\",\"gridcolor\":\"white\",\"gridwidth\":2,\"linecolor\":\"white\",\"showbackground\":true,\"ticks\":\"\",\"zerolinecolor\":\"white\"},\"zaxis\":{\"backgroundcolor\":\"#E5ECF6\",\"gridcolor\":\"white\",\"gridwidth\":2,\"linecolor\":\"white\",\"showbackground\":true,\"ticks\":\"\",\"zerolinecolor\":\"white\"}},\"shapedefaults\":{\"line\":{\"color\":\"#2a3f5f\"}},\"ternary\":{\"aaxis\":{\"gridcolor\":\"white\",\"linecolor\":\"white\",\"ticks\":\"\"},\"baxis\":{\"gridcolor\":\"white\",\"linecolor\":\"white\",\"ticks\":\"\"},\"bgcolor\":\"#E5ECF6\",\"caxis\":{\"gridcolor\":\"white\",\"linecolor\":\"white\",\"ticks\":\"\"}},\"title\":{\"x\":0.05},\"xaxis\":{\"automargin\":true,\"gridcolor\":\"white\",\"linecolor\":\"white\",\"ticks\":\"\",\"title\":{\"standoff\":15},\"zerolinecolor\":\"white\",\"zerolinewidth\":2},\"yaxis\":{\"automargin\":true,\"gridcolor\":\"white\",\"linecolor\":\"white\",\"ticks\":\"\",\"title\":{\"standoff\":15},\"zerolinecolor\":\"white\",\"zerolinewidth\":2}}}},                        {\"responsive\": true}                    ).then(function(){\n",
              "                            \n",
              "var gd = document.getElementById('dfdb7c72-09f6-4933-9900-19a081b61811');\n",
              "var x = new MutationObserver(function (mutations, observer) {{\n",
              "        var display = window.getComputedStyle(gd).display;\n",
              "        if (!display || display === 'none') {{\n",
              "            console.log([gd, 'removed!']);\n",
              "            Plotly.purge(gd);\n",
              "            observer.disconnect();\n",
              "        }}\n",
              "}});\n",
              "\n",
              "// Listen for the removal of the full notebook cells\n",
              "var notebookContainer = gd.closest('#notebook-container');\n",
              "if (notebookContainer) {{\n",
              "    x.observe(notebookContainer, {childList: true});\n",
              "}}\n",
              "\n",
              "// Listen for the clearing of the current output cell\n",
              "var outputEl = gd.closest('.output');\n",
              "if (outputEl) {{\n",
              "    x.observe(outputEl, {childList: true});\n",
              "}}\n",
              "\n",
              "                        })                };                            </script>        </div>\n",
              "</body>\n",
              "</html>"
            ]
          },
          "metadata": {}
        }
      ]
    },
    {
      "cell_type": "markdown",
      "source": [
        "<font size=5 > <b>API: optuna.visualization.plot_optimization_history </b></font><br>\n",
        "* ref:https://optuna.readthedocs.io/en/stable/reference/visualization/generated/optuna.visualization.plot_optimization_history.html#optuna.visualization.plot_optimization_history\n",
        "<img src=\"https://drive.google.com/uc?export=download&id=1dxvFoI2qTg65MXe1BMssS8tLwgLWWcQW\" height=60>"
      ],
      "metadata": {
        "id": "_UKF-IRuXI11"
      }
    },
    {
      "cell_type": "markdown",
      "source": [
        "<font size=5 >parameter</font>\n",
        "* <b>study</b>: study 객체(최적화된 sutdy 객체를 입력하면 된다.)\n",
        "* <b>params</b>: 차트에 나타낼 parameter list"
      ],
      "metadata": {
        "id": "ts629MtYbMor"
      }
    },
    {
      "cell_type": "code",
      "source": [
        "optuna.visualization.plot_optimization_history(study) # 최적화 과정 시각화"
      ],
      "metadata": {
        "colab": {
          "base_uri": "https://localhost:8080/",
          "height": 542
        },
        "id": "r5c_E4DMpNmD",
        "outputId": "bd9b2d4b-104d-4115-cfb7-18191d73fd05"
      },
      "execution_count": null,
      "outputs": [
        {
          "output_type": "display_data",
          "data": {
            "text/html": [
              "<html>\n",
              "<head><meta charset=\"utf-8\" /></head>\n",
              "<body>\n",
              "    <div>            <script src=\"https://cdnjs.cloudflare.com/ajax/libs/mathjax/2.7.5/MathJax.js?config=TeX-AMS-MML_SVG\"></script><script type=\"text/javascript\">if (window.MathJax) {MathJax.Hub.Config({SVG: {font: \"STIX-Web\"}});}</script>                <script type=\"text/javascript\">window.PlotlyConfig = {MathJaxConfig: 'local'};</script>\n",
              "        <script src=\"https://cdn.plot.ly/plotly-2.8.3.min.js\"></script>                <div id=\"01c9048a-41d9-4725-9b0b-2c4ae04ebb72\" class=\"plotly-graph-div\" style=\"height:525px; width:100%;\"></div>            <script type=\"text/javascript\">                                    window.PLOTLYENV=window.PLOTLYENV || {};                                    if (document.getElementById(\"01c9048a-41d9-4725-9b0b-2c4ae04ebb72\")) {                    Plotly.newPlot(                        \"01c9048a-41d9-4725-9b0b-2c4ae04ebb72\",                        [{\"mode\":\"markers\",\"name\":\"Objective Value\",\"x\":[0,1,2,3,4,5,6,7,8,9,10,11,12,13,14,15,16,17,18,19,20,21,22,23,24,25,26,27,28,29,30,31,32,33,34,35,36,37,38,39,40,41,42,43,44,45,46,47,48,49],\"y\":[0.12019461981113214,0.15727143991999712,0.20558639669481588,0.1351866532784833,0.158357343259333,0.14472020236875857,0.1592140449694529,0.16933947231733243,0.12081184235824231,0.06294119127374082,0.15065811971043114,0.11124497393738188,0.17980734737884513,0.11520137463610644,0.11599850786818242,0.13220724407567647,0.09675267874972776,0.15273135483807024,0.3869155303642341,0.1537220912345093,0.09798771276813217,0.0969896286369261,0.0951835389519101,0.08364922482758085,0.11306906740169347,0.12392523459560571,0.14475493536935535,0.08533341838060188,0.10315534032552343,0.1083936237291295,0.10105764336241095,0.08246402337344853,0.09881559124994149,0.1045377672720243,0.13758560342783827,0.12070941147254621,0.09907142023546334,0.14830608250080513,0.1545902010781849,0.12764522361497843,0.1023791601984921,0.10792043753276132,0.08173953885781698,0.05180336445930823,0.054943023134966996,0.056891630322242974,0.06578645998467406,0.11163455603044178,0.07949326156037696,0.16977369480176216],\"type\":\"scatter\"},{\"name\":\"Best Value\",\"x\":[0,1,2,3,4,5,6,7,8,9,10,11,12,13,14,15,16,17,18,19,20,21,22,23,24,25,26,27,28,29,30,31,32,33,34,35,36,37,38,39,40,41,42,43,44,45,46,47,48,49],\"y\":[0.12019461981113214,0.12019461981113214,0.12019461981113214,0.12019461981113214,0.12019461981113214,0.12019461981113214,0.12019461981113214,0.12019461981113214,0.12019461981113214,0.06294119127374082,0.06294119127374082,0.06294119127374082,0.06294119127374082,0.06294119127374082,0.06294119127374082,0.06294119127374082,0.06294119127374082,0.06294119127374082,0.06294119127374082,0.06294119127374082,0.06294119127374082,0.06294119127374082,0.06294119127374082,0.06294119127374082,0.06294119127374082,0.06294119127374082,0.06294119127374082,0.06294119127374082,0.06294119127374082,0.06294119127374082,0.06294119127374082,0.06294119127374082,0.06294119127374082,0.06294119127374082,0.06294119127374082,0.06294119127374082,0.06294119127374082,0.06294119127374082,0.06294119127374082,0.06294119127374082,0.06294119127374082,0.06294119127374082,0.06294119127374082,0.05180336445930823,0.05180336445930823,0.05180336445930823,0.05180336445930823,0.05180336445930823,0.05180336445930823,0.05180336445930823],\"type\":\"scatter\"}],                        {\"title\":{\"text\":\"Optimization History Plot\"},\"xaxis\":{\"title\":{\"text\":\"#Trials\"}},\"yaxis\":{\"title\":{\"text\":\"Objective Value\"}},\"template\":{\"data\":{\"bar\":[{\"error_x\":{\"color\":\"#2a3f5f\"},\"error_y\":{\"color\":\"#2a3f5f\"},\"marker\":{\"line\":{\"color\":\"#E5ECF6\",\"width\":0.5},\"pattern\":{\"fillmode\":\"overlay\",\"size\":10,\"solidity\":0.2}},\"type\":\"bar\"}],\"barpolar\":[{\"marker\":{\"line\":{\"color\":\"#E5ECF6\",\"width\":0.5},\"pattern\":{\"fillmode\":\"overlay\",\"size\":10,\"solidity\":0.2}},\"type\":\"barpolar\"}],\"carpet\":[{\"aaxis\":{\"endlinecolor\":\"#2a3f5f\",\"gridcolor\":\"white\",\"linecolor\":\"white\",\"minorgridcolor\":\"white\",\"startlinecolor\":\"#2a3f5f\"},\"baxis\":{\"endlinecolor\":\"#2a3f5f\",\"gridcolor\":\"white\",\"linecolor\":\"white\",\"minorgridcolor\":\"white\",\"startlinecolor\":\"#2a3f5f\"},\"type\":\"carpet\"}],\"choropleth\":[{\"colorbar\":{\"outlinewidth\":0,\"ticks\":\"\"},\"type\":\"choropleth\"}],\"contour\":[{\"colorbar\":{\"outlinewidth\":0,\"ticks\":\"\"},\"colorscale\":[[0.0,\"#0d0887\"],[0.1111111111111111,\"#46039f\"],[0.2222222222222222,\"#7201a8\"],[0.3333333333333333,\"#9c179e\"],[0.4444444444444444,\"#bd3786\"],[0.5555555555555556,\"#d8576b\"],[0.6666666666666666,\"#ed7953\"],[0.7777777777777778,\"#fb9f3a\"],[0.8888888888888888,\"#fdca26\"],[1.0,\"#f0f921\"]],\"type\":\"contour\"}],\"contourcarpet\":[{\"colorbar\":{\"outlinewidth\":0,\"ticks\":\"\"},\"type\":\"contourcarpet\"}],\"heatmap\":[{\"colorbar\":{\"outlinewidth\":0,\"ticks\":\"\"},\"colorscale\":[[0.0,\"#0d0887\"],[0.1111111111111111,\"#46039f\"],[0.2222222222222222,\"#7201a8\"],[0.3333333333333333,\"#9c179e\"],[0.4444444444444444,\"#bd3786\"],[0.5555555555555556,\"#d8576b\"],[0.6666666666666666,\"#ed7953\"],[0.7777777777777778,\"#fb9f3a\"],[0.8888888888888888,\"#fdca26\"],[1.0,\"#f0f921\"]],\"type\":\"heatmap\"}],\"heatmapgl\":[{\"colorbar\":{\"outlinewidth\":0,\"ticks\":\"\"},\"colorscale\":[[0.0,\"#0d0887\"],[0.1111111111111111,\"#46039f\"],[0.2222222222222222,\"#7201a8\"],[0.3333333333333333,\"#9c179e\"],[0.4444444444444444,\"#bd3786\"],[0.5555555555555556,\"#d8576b\"],[0.6666666666666666,\"#ed7953\"],[0.7777777777777778,\"#fb9f3a\"],[0.8888888888888888,\"#fdca26\"],[1.0,\"#f0f921\"]],\"type\":\"heatmapgl\"}],\"histogram\":[{\"marker\":{\"pattern\":{\"fillmode\":\"overlay\",\"size\":10,\"solidity\":0.2}},\"type\":\"histogram\"}],\"histogram2d\":[{\"colorbar\":{\"outlinewidth\":0,\"ticks\":\"\"},\"colorscale\":[[0.0,\"#0d0887\"],[0.1111111111111111,\"#46039f\"],[0.2222222222222222,\"#7201a8\"],[0.3333333333333333,\"#9c179e\"],[0.4444444444444444,\"#bd3786\"],[0.5555555555555556,\"#d8576b\"],[0.6666666666666666,\"#ed7953\"],[0.7777777777777778,\"#fb9f3a\"],[0.8888888888888888,\"#fdca26\"],[1.0,\"#f0f921\"]],\"type\":\"histogram2d\"}],\"histogram2dcontour\":[{\"colorbar\":{\"outlinewidth\":0,\"ticks\":\"\"},\"colorscale\":[[0.0,\"#0d0887\"],[0.1111111111111111,\"#46039f\"],[0.2222222222222222,\"#7201a8\"],[0.3333333333333333,\"#9c179e\"],[0.4444444444444444,\"#bd3786\"],[0.5555555555555556,\"#d8576b\"],[0.6666666666666666,\"#ed7953\"],[0.7777777777777778,\"#fb9f3a\"],[0.8888888888888888,\"#fdca26\"],[1.0,\"#f0f921\"]],\"type\":\"histogram2dcontour\"}],\"mesh3d\":[{\"colorbar\":{\"outlinewidth\":0,\"ticks\":\"\"},\"type\":\"mesh3d\"}],\"parcoords\":[{\"line\":{\"colorbar\":{\"outlinewidth\":0,\"ticks\":\"\"}},\"type\":\"parcoords\"}],\"pie\":[{\"automargin\":true,\"type\":\"pie\"}],\"scatter\":[{\"marker\":{\"colorbar\":{\"outlinewidth\":0,\"ticks\":\"\"}},\"type\":\"scatter\"}],\"scatter3d\":[{\"line\":{\"colorbar\":{\"outlinewidth\":0,\"ticks\":\"\"}},\"marker\":{\"colorbar\":{\"outlinewidth\":0,\"ticks\":\"\"}},\"type\":\"scatter3d\"}],\"scattercarpet\":[{\"marker\":{\"colorbar\":{\"outlinewidth\":0,\"ticks\":\"\"}},\"type\":\"scattercarpet\"}],\"scattergeo\":[{\"marker\":{\"colorbar\":{\"outlinewidth\":0,\"ticks\":\"\"}},\"type\":\"scattergeo\"}],\"scattergl\":[{\"marker\":{\"colorbar\":{\"outlinewidth\":0,\"ticks\":\"\"}},\"type\":\"scattergl\"}],\"scattermapbox\":[{\"marker\":{\"colorbar\":{\"outlinewidth\":0,\"ticks\":\"\"}},\"type\":\"scattermapbox\"}],\"scatterpolar\":[{\"marker\":{\"colorbar\":{\"outlinewidth\":0,\"ticks\":\"\"}},\"type\":\"scatterpolar\"}],\"scatterpolargl\":[{\"marker\":{\"colorbar\":{\"outlinewidth\":0,\"ticks\":\"\"}},\"type\":\"scatterpolargl\"}],\"scatterternary\":[{\"marker\":{\"colorbar\":{\"outlinewidth\":0,\"ticks\":\"\"}},\"type\":\"scatterternary\"}],\"surface\":[{\"colorbar\":{\"outlinewidth\":0,\"ticks\":\"\"},\"colorscale\":[[0.0,\"#0d0887\"],[0.1111111111111111,\"#46039f\"],[0.2222222222222222,\"#7201a8\"],[0.3333333333333333,\"#9c179e\"],[0.4444444444444444,\"#bd3786\"],[0.5555555555555556,\"#d8576b\"],[0.6666666666666666,\"#ed7953\"],[0.7777777777777778,\"#fb9f3a\"],[0.8888888888888888,\"#fdca26\"],[1.0,\"#f0f921\"]],\"type\":\"surface\"}],\"table\":[{\"cells\":{\"fill\":{\"color\":\"#EBF0F8\"},\"line\":{\"color\":\"white\"}},\"header\":{\"fill\":{\"color\":\"#C8D4E3\"},\"line\":{\"color\":\"white\"}},\"type\":\"table\"}]},\"layout\":{\"annotationdefaults\":{\"arrowcolor\":\"#2a3f5f\",\"arrowhead\":0,\"arrowwidth\":1},\"autotypenumbers\":\"strict\",\"coloraxis\":{\"colorbar\":{\"outlinewidth\":0,\"ticks\":\"\"}},\"colorscale\":{\"diverging\":[[0,\"#8e0152\"],[0.1,\"#c51b7d\"],[0.2,\"#de77ae\"],[0.3,\"#f1b6da\"],[0.4,\"#fde0ef\"],[0.5,\"#f7f7f7\"],[0.6,\"#e6f5d0\"],[0.7,\"#b8e186\"],[0.8,\"#7fbc41\"],[0.9,\"#4d9221\"],[1,\"#276419\"]],\"sequential\":[[0.0,\"#0d0887\"],[0.1111111111111111,\"#46039f\"],[0.2222222222222222,\"#7201a8\"],[0.3333333333333333,\"#9c179e\"],[0.4444444444444444,\"#bd3786\"],[0.5555555555555556,\"#d8576b\"],[0.6666666666666666,\"#ed7953\"],[0.7777777777777778,\"#fb9f3a\"],[0.8888888888888888,\"#fdca26\"],[1.0,\"#f0f921\"]],\"sequentialminus\":[[0.0,\"#0d0887\"],[0.1111111111111111,\"#46039f\"],[0.2222222222222222,\"#7201a8\"],[0.3333333333333333,\"#9c179e\"],[0.4444444444444444,\"#bd3786\"],[0.5555555555555556,\"#d8576b\"],[0.6666666666666666,\"#ed7953\"],[0.7777777777777778,\"#fb9f3a\"],[0.8888888888888888,\"#fdca26\"],[1.0,\"#f0f921\"]]},\"colorway\":[\"#636efa\",\"#EF553B\",\"#00cc96\",\"#ab63fa\",\"#FFA15A\",\"#19d3f3\",\"#FF6692\",\"#B6E880\",\"#FF97FF\",\"#FECB52\"],\"font\":{\"color\":\"#2a3f5f\"},\"geo\":{\"bgcolor\":\"white\",\"lakecolor\":\"white\",\"landcolor\":\"#E5ECF6\",\"showlakes\":true,\"showland\":true,\"subunitcolor\":\"white\"},\"hoverlabel\":{\"align\":\"left\"},\"hovermode\":\"closest\",\"mapbox\":{\"style\":\"light\"},\"paper_bgcolor\":\"white\",\"plot_bgcolor\":\"#E5ECF6\",\"polar\":{\"angularaxis\":{\"gridcolor\":\"white\",\"linecolor\":\"white\",\"ticks\":\"\"},\"bgcolor\":\"#E5ECF6\",\"radialaxis\":{\"gridcolor\":\"white\",\"linecolor\":\"white\",\"ticks\":\"\"}},\"scene\":{\"xaxis\":{\"backgroundcolor\":\"#E5ECF6\",\"gridcolor\":\"white\",\"gridwidth\":2,\"linecolor\":\"white\",\"showbackground\":true,\"ticks\":\"\",\"zerolinecolor\":\"white\"},\"yaxis\":{\"backgroundcolor\":\"#E5ECF6\",\"gridcolor\":\"white\",\"gridwidth\":2,\"linecolor\":\"white\",\"showbackground\":true,\"ticks\":\"\",\"zerolinecolor\":\"white\"},\"zaxis\":{\"backgroundcolor\":\"#E5ECF6\",\"gridcolor\":\"white\",\"gridwidth\":2,\"linecolor\":\"white\",\"showbackground\":true,\"ticks\":\"\",\"zerolinecolor\":\"white\"}},\"shapedefaults\":{\"line\":{\"color\":\"#2a3f5f\"}},\"ternary\":{\"aaxis\":{\"gridcolor\":\"white\",\"linecolor\":\"white\",\"ticks\":\"\"},\"baxis\":{\"gridcolor\":\"white\",\"linecolor\":\"white\",\"ticks\":\"\"},\"bgcolor\":\"#E5ECF6\",\"caxis\":{\"gridcolor\":\"white\",\"linecolor\":\"white\",\"ticks\":\"\"}},\"title\":{\"x\":0.05},\"xaxis\":{\"automargin\":true,\"gridcolor\":\"white\",\"linecolor\":\"white\",\"ticks\":\"\",\"title\":{\"standoff\":15},\"zerolinecolor\":\"white\",\"zerolinewidth\":2},\"yaxis\":{\"automargin\":true,\"gridcolor\":\"white\",\"linecolor\":\"white\",\"ticks\":\"\",\"title\":{\"standoff\":15},\"zerolinecolor\":\"white\",\"zerolinewidth\":2}}}},                        {\"responsive\": true}                    ).then(function(){\n",
              "                            \n",
              "var gd = document.getElementById('01c9048a-41d9-4725-9b0b-2c4ae04ebb72');\n",
              "var x = new MutationObserver(function (mutations, observer) {{\n",
              "        var display = window.getComputedStyle(gd).display;\n",
              "        if (!display || display === 'none') {{\n",
              "            console.log([gd, 'removed!']);\n",
              "            Plotly.purge(gd);\n",
              "            observer.disconnect();\n",
              "        }}\n",
              "}});\n",
              "\n",
              "// Listen for the removal of the full notebook cells\n",
              "var notebookContainer = gd.closest('#notebook-container');\n",
              "if (notebookContainer) {{\n",
              "    x.observe(notebookContainer, {childList: true});\n",
              "}}\n",
              "\n",
              "// Listen for the clearing of the current output cell\n",
              "var outputEl = gd.closest('.output');\n",
              "if (outputEl) {{\n",
              "    x.observe(outputEl, {childList: true});\n",
              "}}\n",
              "\n",
              "                        })                };                            </script>        </div>\n",
              "</body>\n",
              "</html>"
            ]
          },
          "metadata": {}
        }
      ]
    }
  ]
}