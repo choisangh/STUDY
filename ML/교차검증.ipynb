{
  "cells": [
    {
      "cell_type": "markdown",
      "metadata": {
        "id": "view-in-github",
        "colab_type": "text"
      },
      "source": [
        "<a href=\"https://colab.research.google.com/github/choisangh/STUDY/blob/main/ML/%EA%B5%90%EC%B0%A8%EA%B2%80%EC%A6%9D.ipynb\" target=\"_parent\"><img src=\"https://colab.research.google.com/assets/colab-badge.svg\" alt=\"Open In Colab\"/></a>"
      ]
    },
    {
      "cell_type": "markdown",
      "id": "03349323-fdbe-4a33-8677-c3f1611d9da4",
      "metadata": {
        "id": "03349323-fdbe-4a33-8677-c3f1611d9da4"
      },
      "source": [
        "# 교차검증 (Cross-Validation)"
      ]
    },
    {
      "cell_type": "markdown",
      "id": "9f6434fb-c26b-40d7-ac99-57421fbc9300",
      "metadata": {
        "id": "9f6434fb-c26b-40d7-ac99-57421fbc9300"
      },
      "source": [
        "## 개념\n",
        "ref) https://scikit-learn.org/stable/modules/cross_validation.html#cross-validation"
      ]
    },
    {
      "cell_type": "markdown",
      "id": "ff272184-a675-4c18-ab5d-7140bed2442c",
      "metadata": {
        "id": "ff272184-a675-4c18-ab5d-7140bed2442c"
      },
      "source": [
        "<font size=3><ul>\n",
        "    <li>기존 검증 방식의 문제: <br>\n",
        "        고정된 테스트 데이터로 평가를 하면 해당 데이터에만 과적합되는 모델이 만들어지게 된다.</li>\n",
        "    <li>이러한 과적합 문제를 해결하기 위해 <font color=blue><b>train data를 train set, validation set으로 여러 번 분할하여 학습과 평가를 수행</b></font>하는 것을 의미</li>\n",
        "    </ul></font>\n",
        "    \n",
        "|장점|단점|\n",
        "|----|----|\n",
        "|특정 데이터셋에 대한 과적합 방지=>더욱 일반화된 모델 생성 가능|모델 훈련 및 평가 소요시간 증가|\n",
        "|데이터셋 규모가 적을 시 과소적합 방지||"
      ]
    },
    {
      "cell_type": "markdown",
      "id": "74ef6078-99dd-4d6a-a039-682b51c2d425",
      "metadata": {
        "id": "74ef6078-99dd-4d6a-a039-682b51c2d425"
      },
      "source": [
        "## 종류"
      ]
    },
    {
      "cell_type": "markdown",
      "id": "c9c2b22c-ccc0-4a4c-8206-1d305cafd584",
      "metadata": {
        "id": "c9c2b22c-ccc0-4a4c-8206-1d305cafd584"
      },
      "source": [
        "### K-Fold\n",
        "ref) https://scikit-learn.org/stable/modules/generated/sklearn.model_selection.KFold <br>\n",
        "ref) https://jonsyou.tistory.com/23"
      ]
    },
    {
      "cell_type": "markdown",
      "id": "307a2df0-e618-4f00-a0b3-8518406c0ad1",
      "metadata": {
        "id": "307a2df0-e618-4f00-a0b3-8518406c0ad1"
      },
      "source": [
        "* K개의 데이터 폴드 세트를 만들어서 K번만큼 각 폴드 세트에 학습과 검증을 반복적으로 수행\n",
        "* 문제점: 원본 데이터의 레이블 분포를 학습 및 테스트 세트에 제대로 반영해 분배하지 못하는 경우 발생 -> Stratified K-Fold"
      ]
    },
    {
      "cell_type": "markdown",
      "id": "38c8c0aa-1617-40ff-a0f8-a36e3b0f0ee5",
      "metadata": {
        "id": "38c8c0aa-1617-40ff-a0f8-a36e3b0f0ee5"
      },
      "source": [
        "<img src='https://blog.kakaocdn.net/dn/spjcn/btrwJVGmAhq/DNLiG5wUQ7DMqSAPFzjc61/img.png' width=600>"
      ]
    },
    {
      "cell_type": "markdown",
      "id": "36d6f8c5-46ec-438a-a6b7-24c917208652",
      "metadata": {
        "id": "36d6f8c5-46ec-438a-a6b7-24c917208652"
      },
      "source": [
        "<font size=4 color=green><b>절차</b></font><hr>\n",
        "\n",
        "<br>1. 데이터를 K개의 Group으로 나눔</br>\n",
        "<br>2. K-1개 그룹의 데이터를 train 데이터로 사용하여 모델을 훈련</br>\n",
        "<br>3. 데이터의 나머지 부분에 대해 검증 --validation</br>\n",
        "<br>4. 검증 데이터 그룹을 달리하여 2,3 과정을 반복 (즉, 총 K번의 검증이 이루어짐)</br>"
      ]
    },
    {
      "cell_type": "markdown",
      "id": "67834078-54bc-414b-a64e-d9fe83b4f81a",
      "metadata": {
        "id": "67834078-54bc-414b-a64e-d9fe83b4f81a"
      },
      "source": [
        "<font size=4 color=green><b>API</b></font><hr>\n",
        "<img src='https://blog.kakaocdn.net/dn/bRZvc4/btrwIiB28nt/xK1PzROrXlxfk1Fkkw5XB0/img.png' width=800> "
      ]
    },
    {
      "cell_type": "markdown",
      "id": "92010bb7-bf8f-48c1-ac78-f064f01c86b4",
      "metadata": {
        "id": "92010bb7-bf8f-48c1-ac78-f064f01c86b4"
      },
      "source": [
        "<font size=4 color=green><b>파라미터</b></font><hr>\n",
        "<ul>\n",
        "    <li><font size=3><b>n_splits : int, default=5</b></font>\n",
        "    <br>폴드 수를 지정하는 것으로 최소 2이며, 주로 5, 10을 많이 사용 (데이터의 특성에 따라 다름)</li>\n",
        "    <li><font size=3><b>shuffle : bool, default=False</b></font>\n",
        "    <br>폴드를 나누기 전에 데이터를 무작위로 섞을 것인지 여부</li>\n",
        "    <li><font size=3><b>random_state : int, RandomState instance or None, default=None</b></font>\n",
        "    <br>shuffle=True일 때, random_state로 폴드의 랜덤한 상태를 제어할 수 있다. 특정 수로 지정하여 재현가능</li></ul>"
      ]
    },
    {
      "cell_type": "markdown",
      "id": "51df38e0-aa8f-4c28-a07f-42941f059c9d",
      "metadata": {
        "id": "51df38e0-aa8f-4c28-a07f-42941f059c9d"
      },
      "source": [
        "<font size=4 color=green><b>예시</b></font><hr>"
      ]
    },
    {
      "cell_type": "code",
      "execution_count": null,
      "id": "86aa8be7-63a0-4216-84f4-0c3c37282d2d",
      "metadata": {
        "id": "86aa8be7-63a0-4216-84f4-0c3c37282d2d",
        "outputId": "2e88e8b1-7790-459d-8bff-c5a237968ca4"
      },
      "outputs": [
        {
          "name": "stdout",
          "output_type": "stream",
          "text": [
            "train_idx : [2 3] test_idx : [0 1]\n",
            "train_idx : [0 1] test_idx : [2 3]\n"
          ]
        }
      ],
      "source": [
        "import numpy as np\n",
        "from sklearn.model_selection import KFold\n",
        "\n",
        "X = [\"a\", \"b\", \"c\", \"d\"]\n",
        "kf = KFold(n_splits=2)\n",
        "for train_idx, test_idx in kf.split(X):   #split()으로 반환되는 인덱스 확인 가능\n",
        "    print(\"train_idx :\",train_idx, \"test_idx :\",test_idx)"
      ]
    },
    {
      "cell_type": "code",
      "execution_count": null,
      "id": "3db69ec2-567a-4a7f-9bc1-51405b147bc9",
      "metadata": {
        "id": "3db69ec2-567a-4a7f-9bc1-51405b147bc9",
        "outputId": "b787b91e-e247-434d-9a0a-1c28b0a827d9"
      },
      "outputs": [
        {
          "name": "stdout",
          "output_type": "stream",
          "text": [
            "0    6\n",
            "1    3\n",
            "2    3\n",
            "Name: y, dtype: int64\n",
            "TRAIN: [1 0 0 0 0 1 2 2] TEST: [0 0 1 2]\n",
            "TRAIN: [0 0 1 2 0 1 2 2] TEST: [1 0 0 0]\n",
            "TRAIN: [0 0 1 2 1 0 0 0] TEST: [0 1 2 2]\n"
          ]
        }
      ],
      "source": [
        "import numpy as np\n",
        "import pandas as pd\n",
        "from sklearn.model_selection import KFold\n",
        "\n",
        "X = np.arange(12*2).reshape(12,-1) \n",
        "y = np.array([0,0,1,2,1,0,0,0,0,1,2,2])\n",
        "\n",
        "df=pd.DataFrame(X,columns=['X1','X2'])\n",
        "y=pd.Series(y,name='y')\n",
        "df=pd.concat([df,y],axis=1)\n",
        "\n",
        "kf = KFold(n_splits=3) \n",
        "print(df['y'].value_counts())\n",
        "\n",
        "for train_index, test_index in kf.split(df[['X1','X2']], df['y']):\n",
        "    print(\"TRAIN:\", df['y'][train_index].values, \"TEST:\", df['y'][test_index].values)"
      ]
    },
    {
      "cell_type": "markdown",
      "id": "da87ef2d-71a8-4ebb-b1c9-f57d25ef7b20",
      "metadata": {
        "id": "da87ef2d-71a8-4ebb-b1c9-f57d25ef7b20"
      },
      "source": [
        "### Stratified K-Fold\n",
        "ref) https://scikit-learn.org/stable/modules/generated/sklearn.model_selection.StratifiedKFold"
      ]
    },
    {
      "cell_type": "markdown",
      "id": "f6342011-17b6-449f-b325-90a17ca6789b",
      "metadata": {
        "id": "f6342011-17b6-449f-b325-90a17ca6789b"
      },
      "source": [
        "* 불균형한 클래스 분포를 가진 데이터를 위한 K-Fold 방식\n",
        "* 원본 데이터의 레이블 분포를 고려한 뒤, 이 비율과 동일하게 폴드에 분배\n",
        "* 회귀에선 지원X -> 회귀의 레이블은 연속된 숫자값이기에 결정값별로 분포를 정하는 의미가 없기 때문"
      ]
    },
    {
      "cell_type": "markdown",
      "id": "1bedca04-6ec7-47ce-960d-9cbfbbae58d5",
      "metadata": {
        "id": "1bedca04-6ec7-47ce-960d-9cbfbbae58d5"
      },
      "source": [
        "<img src='https://blog.kakaocdn.net/dn/kYoPe/btrwIhXr0Ec/6tuVdcY6mkd5MK7N3TItaK/img.webp' width=700>"
      ]
    },
    {
      "cell_type": "markdown",
      "id": "252c2325-0565-4939-a671-6f07441fd68e",
      "metadata": {
        "id": "252c2325-0565-4939-a671-6f07441fd68e"
      },
      "source": [
        "<font size=4 color=green><b>API</b></font><hr>\n",
        "<img src='https://blog.kakaocdn.net/dn/cjDhPx/btrwA6WKbar/gdVpMCjvHIltkj7sDSaL50/img.png' width=800> "
      ]
    },
    {
      "cell_type": "markdown",
      "id": "edd71dc1-e7ca-40a2-9963-9e6a64d44b65",
      "metadata": {
        "id": "edd71dc1-e7ca-40a2-9963-9e6a64d44b65"
      },
      "source": [
        "<font size=4 color=green><b>예시</b></font><hr>"
      ]
    },
    {
      "cell_type": "code",
      "execution_count": null,
      "id": "5014870e-2d03-4c07-a58e-6c5474ff48a8",
      "metadata": {
        "id": "5014870e-2d03-4c07-a58e-6c5474ff48a8",
        "outputId": "06179654-4bf8-40c0-fbd5-c72a8c863dfe"
      },
      "outputs": [
        {
          "name": "stdout",
          "output_type": "stream",
          "text": [
            "0    6\n",
            "1    3\n",
            "2    3\n",
            "Name: y, dtype: int64\n",
            "TRAIN: [1 0 0 0 0 1 2 2] TEST: [0 0 1 2]\n",
            "TRAIN: [0 0 1 2 0 0 1 2] TEST: [1 0 0 2]\n",
            "TRAIN: [0 0 1 2 1 0 0 2] TEST: [0 0 1 2]\n"
          ]
        }
      ],
      "source": [
        "import numpy as np\n",
        "import pandas as pd\n",
        "from sklearn.model_selection import StratifiedKFold\n",
        "\n",
        "X = np.arange(12*2).reshape(12,-1) \n",
        "y = np.array([0,0,1,2,1,0,0,0,0,1,2,2])\n",
        "\n",
        "df=pd.DataFrame(X,columns=['X1','X2'])\n",
        "y=pd.Series(y,name='y')\n",
        "df=pd.concat([df,y],axis=1)\n",
        "\n",
        "skf = StratifiedKFold(n_splits=3) \n",
        "print(df['y'].value_counts())\n",
        "\n",
        "# 레이블 데이터 분포도에 따라 train,val을 나누기에 split() 인자로 레이블 데이터도 필요\n",
        "for train_index, test_index in skf.split(df[['X1','X2']], df['y']): \n",
        "    print(\"TRAIN:\", df['y'][train_index].values, \"TEST:\", df['y'][test_index].values)\n"
      ]
    },
    {
      "cell_type": "markdown",
      "id": "60ed2e49-d2ab-4287-be76-3b3c8dd41c0d",
      "metadata": {
        "id": "60ed2e49-d2ab-4287-be76-3b3c8dd41c0d"
      },
      "source": [
        "### cross_val_score"
      ]
    },
    {
      "cell_type": "markdown",
      "id": "943672c5-c1ab-41c0-b7b9-581f1306c586",
      "metadata": {
        "id": "943672c5-c1ab-41c0-b7b9-581f1306c586"
      },
      "source": [
        "* <font size=3>교차검증절차 과정을 편리하게 수행</font> <br>\n",
        "<font size=2> 절차: \" 1) 폴드세트 설정, 2) for 반복문으로 training, validation 세트의 인덱스 추출, 3) 학습 및 검증 수행 후 예측 성능 반환 \"</font> "
      ]
    },
    {
      "cell_type": "markdown",
      "id": "949539d3-06c9-470b-8c23-545047f57cb4",
      "metadata": {
        "id": "949539d3-06c9-470b-8c23-545047f57cb4"
      },
      "source": [
        "<font size=4 color=green><b>API</b></font><hr>\n",
        "<img src='https://blog.kakaocdn.net/dn/p9rhH/btrwwsTAbRC/FpQ2JkcNvdmblQ7mkqnGuk/img.png' width=700> "
      ]
    },
    {
      "cell_type": "markdown",
      "id": "858eff4e-7b01-470d-b417-cec39a9428ad",
      "metadata": {
        "id": "858eff4e-7b01-470d-b417-cec39a9428ad"
      },
      "source": [
        "<font size=4 color=green><b>파라미터</b></font><hr>\n",
        "<ul>\n",
        "    <li><font size=3><b>estimator : estimator object implementing ‘fit’</b></font>\n",
        "    <br>학습 할 모델 ex) DecisionTreeClassifier</li>\n",
        "    <li><font size=3><b>X : array-like of shape (n_samples, n_features)</b></font>\n",
        "    <br>피쳐 데이터 세트</li>\n",
        "    <li><font size=3><b>y : array-like of shape (n_samples,) or (n_samples, n_outputs), default=None</b></font>\n",
        "    <br>레이블 데이터 세트</li>\n",
        "    <li><font size=3><b>scoring : str or callable, default=None</b></font>\n",
        "    <br>예측 성능 평가 지표, none일 경우 기본 scorer 사용</li>\n",
        "    <li><font size=3><b>cv : int, cross-validation generator or an iterable, default=None</b></font>\n",
        "    <br>교차 검증 폴더 수 / 교차 검증 반복자, input으로 int/none일 경우에 모델이 분류기이고 y가 이진 또는 다중 클래스일 때 StratifiedKFold이 사용, 나머지 경우엔 KFold </li>\n",
        "    <li><font size=3><b>return) scores: ndarray of float of shape=(len(list(cv)),)</b></font>\n",
        "    <br>교차 검증 점수를 array로 형태로 반환</li>\n",
        "\n",
        "</ul>"
      ]
    },
    {
      "cell_type": "code",
      "execution_count": null,
      "id": "f0fb2006-af95-47a7-b151-37fcb312c393",
      "metadata": {
        "id": "f0fb2006-af95-47a7-b151-37fcb312c393",
        "outputId": "4344ecb4-eda3-4ad3-dedb-b1d252f768f0"
      },
      "outputs": [
        {
          "name": "stdout",
          "output_type": "stream",
          "text": [
            "[0.98 0.94 0.98]\n"
          ]
        }
      ],
      "source": [
        "from sklearn.tree import DecisionTreeClassifier\n",
        "from sklearn.model_selection import cross_val_score\n",
        "from sklearn.model_selection import StratifiedKFold\n",
        "from sklearn.datasets import load_iris\n",
        "\n",
        "data=load_iris().data\n",
        "label=load_iris().target\n",
        "classifier=DecisionTreeClassifier(random_state=111)\n",
        "skf = StratifiedKFold(n_splits=3)\n",
        "\n",
        "print(cross_val_score(classifier, data, label, cv=skf))"
      ]
    },
    {
      "cell_type": "markdown",
      "id": "fb29fd65-4351-4299-8680-e473cbbd92f1",
      "metadata": {
        "id": "fb29fd65-4351-4299-8680-e473cbbd92f1"
      },
      "source": [
        "## import"
      ]
    },
    {
      "cell_type": "code",
      "execution_count": null,
      "id": "e3718bcd-558d-4c3f-bb4f-92a6f18f2b22",
      "metadata": {
        "id": "e3718bcd-558d-4c3f-bb4f-92a6f18f2b22"
      },
      "outputs": [],
      "source": [
        "from sklearn.model_selection import KFold\n",
        "from sklearn.model_selection import StratifiedKFold\n",
        "from sklearn.model_selection import cross_val_score"
      ]
    }
  ],
  "metadata": {
    "kernelspec": {
      "display_name": "Python 3 (ipykernel)",
      "language": "python",
      "name": "python3"
    },
    "language_info": {
      "codemirror_mode": {
        "name": "ipython",
        "version": 3
      },
      "file_extension": ".py",
      "mimetype": "text/x-python",
      "name": "python",
      "nbconvert_exporter": "python",
      "pygments_lexer": "ipython3",
      "version": "3.8.8"
    },
    "colab": {
      "name": "교차검증.ipynb",
      "provenance": [],
      "collapsed_sections": [],
      "include_colab_link": true
    }
  },
  "nbformat": 4,
  "nbformat_minor": 5
}