{
 "cells": [
  {
   "cell_type": "markdown",
   "id": "21080a16-534b-4f64-8529-9d99e01eede8",
   "metadata": {},
   "source": [
    "<img src='./img/logo.png'>\n",
    "* ref : https://wikidocs.net/31698,  WikiDoc "
   ]
  },
  {
   "cell_type": "markdown",
   "id": "c650af3b-5a88-4b6b-93f9-c1b805b30f3b",
   "metadata": {},
   "source": [
    "* <font color=red><b>자연어 처리(Natural Language Processing:NLP) <br>자연어의 의미를 분석하여 컴퓨터가 처리할 수 있도록 하는 일\n",
    "-----------------------------------------------    "
   ]
  },
  {
   "cell_type": "markdown",
   "id": "7a192113-2310-4674-8e61-d3447d4541e7",
   "metadata": {},
   "source": [
    "* ref : https://www.lfd.uci.edu/~gohlke/pythonlibs/#jpype"
   ]
  },
  {
   "cell_type": "markdown",
   "id": "0996d796-9ffd-4d7a-9bab-3004f98b7bb1",
   "metadata": {
    "tags": []
   },
   "source": [
    "# KoNLPy 패키지 테스트\n",
    "* 한나눔(Hannanum), 꼬꼬마(Kkma), 코모란(Komoran),Okt(Open Korea Text)<br>\n",
    "<font color=red>\n",
    "    1) morphs() : 형태소 추출<br>\n",
    "    2) pos() : 품사 태깅(Part-of-speech tagging)<br>\n",
    "    3) nouns() : 명사 추출<br>\n",
    "    4) sentens() : 문장단위 출력"
   ]
  },
  {
   "cell_type": "markdown",
   "id": "e02d4db7-8b93-4d50-8aba-b7e9b6701821",
   "metadata": {},
   "source": [
    "## Komoran"
   ]
  },
  {
   "cell_type": "code",
   "execution_count": 1,
   "id": "a9bad338-91b6-4ad9-8f9a-6d120bddf655",
   "metadata": {},
   "outputs": [
    {
     "name": "stdout",
     "output_type": "stream",
     "text": [
      "['게시', '글', '공감']\n",
      "[]\n",
      "['아버지', '가', '방', '에', '들어가', '시', 'ㄴ다']\n",
      "[('아버지', 'NNG'), ('가', 'JKS'), ('방', 'NNG'), ('에', 'JKB'), ('들어가', 'VV'), ('시', 'EP'), ('ㄴ다', 'EC')]\n",
      "[('아버지', 'NNG'), ('가방', 'NNP'), ('에', 'JKB'), ('들어가', 'VV'), ('시', 'EP'), ('ㄴ다', 'EC')]\n"
     ]
    }
   ],
   "source": [
    "from konlpy.tag import Komoran\n",
    "komoran = Komoran()\n",
    "print(komoran.nouns(\"게시글이 apple 좋았다면 Dr Hong 쿄쿄쿄 공감을 눌러주세요!!\"))\n",
    "\n",
    "print(komoran.nouns(\"This article needs additional citations for verification. Please help improve this article by adding citations to reliable sources. Unsourced material may be challenged and removed.\"))\n",
    "\n",
    "print(komoran.morphs(\"아버지가 방에 들어가신다\"))\n",
    "print(komoran.pos('아버지가 방에 들어가신다'))\n",
    "\n",
    "print(komoran.pos('아버지가방에들어가신다'))"
   ]
  },
  {
   "cell_type": "markdown",
   "id": "15b992ff-52bd-4cc8-bcd8-8cc11225714f",
   "metadata": {},
   "source": [
    "## Okt"
   ]
  },
  {
   "cell_type": "code",
   "execution_count": 2,
   "id": "40984970-5b30-4633-aac7-69ed130f4ef6",
   "metadata": {},
   "outputs": [
    {
     "name": "stdout",
     "output_type": "stream",
     "text": [
      "['게시', '글', '공감']\n",
      "[('아버지', 'Noun'), ('가', 'Josa'), ('방', 'Noun'), ('에', 'Josa'), ('들어가신다', 'Verb')]\n",
      "[('아버지', 'Noun'), ('가방', 'Noun'), ('에', 'Josa'), ('들어가신다', 'Verb')]\n"
     ]
    }
   ],
   "source": [
    "from konlpy.tag import Okt\n",
    "okt = Okt()\n",
    "print(okt.nouns(\"게시글이 좋았다면 공감을 눌러주세요!!\"))\n",
    "\n",
    "print(okt.pos('아버지가 방에 들어가신다'))\n",
    "print(okt.pos('아버지가방에들어가신다'))"
   ]
  },
  {
   "cell_type": "markdown",
   "id": "8c510b58-4ac7-4a7b-927b-b3ccee389ecc",
   "metadata": {},
   "source": [
    "## Kkoma"
   ]
  },
  {
   "cell_type": "code",
   "execution_count": 3,
   "id": "5558e913-a285-466d-b6f4-2aa2b6d3d718",
   "metadata": {},
   "outputs": [
    {
     "name": "stdout",
     "output_type": "stream",
     "text": [
      "['게시', '게시글', '글', '공감', '주세']\n",
      "[('아버지', 'NNG'), ('가', 'JKS'), ('방', 'NNG'), ('에', 'JKM'), ('들어가', 'VV'), ('시', 'EPH'), ('ㄴ다', 'EFN')]\n",
      "[('아버지', 'NNG'), ('가방', 'NNG'), ('에', 'JKM'), ('들어가', 'VV'), ('시', 'EPH'), ('ㄴ다', 'EFN')]\n"
     ]
    }
   ],
   "source": [
    "from konlpy.tag import Kkma\n",
    "kkma = Kkma()\n",
    "print(kkma.nouns(\"게시글이 좋았다면 공감을 눌러주세요!!\"))\n",
    "\n",
    "print(kkma.pos('아버지가 방에 들어가신다'))\n",
    "print(kkma.pos('아버지가방에들어가신다'))"
   ]
  },
  {
   "cell_type": "markdown",
   "id": "5abbdc6c-1bea-4148-9279-10d812238548",
   "metadata": {},
   "source": [
    "# nltk 패키지 테스트"
   ]
  },
  {
   "cell_type": "markdown",
   "id": "d6f6053c-eb58-4bf6-b462-dcd7aee98f14",
   "metadata": {},
   "source": [
    "<pre>\n",
    "<font color=red><b>정제(cleaning) & 정규화(normalization)</b></font>\n",
    "1) 규칙에 기반한 표기가 다른 단어들의 통합 :  Stemming, Lemmatization \n",
    "2) 대소문자 통합\n",
    "3) 불필요한 단어(노이즈) 제거 : Regular Expression , Stopword"
   ]
  },
  {
   "cell_type": "markdown",
   "id": "d16da7dc-47b9-4785-bcfa-9fc6dec04867",
   "metadata": {
    "tags": []
   },
   "source": [
    "## 단어 토큰화(tokenization)\n",
    "* re[a-zA-Z].split(' ')"
   ]
  },
  {
   "cell_type": "code",
   "execution_count": 4,
   "id": "f6f5c505-8246-4645-a9ab-4c56fb35cf7d",
   "metadata": {},
   "outputs": [],
   "source": [
    "from nltk.tokenize import word_tokenize\n",
    "from nltk.tokenize import WordPunctTokenizer\n",
    "from keras.preprocessing.text import text_to_word_sequence"
   ]
  },
  {
   "cell_type": "code",
   "execution_count": 5,
   "id": "924e4791-be17-4f8e-82c0-e6bae6307b1a",
   "metadata": {},
   "outputs": [
    {
     "name": "stdout",
     "output_type": "stream",
     "text": [
      "nltk : ['Do', \"n't\", 'be', 'fooled', 'by', 'the', 'dark', 'sounding', 'name', ',', 'Mr.', 'Jone', \"'s\", 'Orphanage', 'is', 'as', 'cheery', 'as', 'cheery', 'goes', 'for', 'a', 'pastry', 'shop', '.']\n"
     ]
    }
   ],
   "source": [
    "print('nltk :', word_tokenize(\"Don't be fooled by the dark sounding name, Mr. Jone's Orphanage is as cheery as cheery goes for a pastry shop.\"))"
   ]
  },
  {
   "cell_type": "code",
   "execution_count": 6,
   "id": "5f859750-1cdb-4caf-829d-2be64c2154f1",
   "metadata": {},
   "outputs": [
    {
     "name": "stdout",
     "output_type": "stream",
     "text": [
      " keras : [\"don't\", 'be', 'fooled', 'by', 'the', 'dark', 'sounding', 'name', 'mr', \"jone's\", 'orphanage', 'is', 'as', 'cheery', 'as', 'cheery', 'goes', 'for', 'a', 'pastry', 'shop']\n",
      " keras : ['나는', '밥을', '먹는다']\n"
     ]
    }
   ],
   "source": [
    "print(' keras :',text_to_word_sequence(\"Don't be fooled by the dark sounding name, Mr. Jone's Orphanage is as cheery as cheery goes for a pastry shop.\"))\n",
    "print(' keras :',text_to_word_sequence(\"나는 밥을 먹는다.\"))"
   ]
  },
  {
   "cell_type": "markdown",
   "id": "5b46f447-f702-4151-a8cf-aa0a82d54a6f",
   "metadata": {},
   "source": [
    "## 문장 토큰화(Sentence Tokenization)\n",
    "* 구두점(.)으로 자른다"
   ]
  },
  {
   "cell_type": "code",
   "execution_count": 7,
   "id": "2200829b-a60e-4ae5-9bab-94656381a57b",
   "metadata": {},
   "outputs": [
    {
     "name": "stdout",
     "output_type": "stream",
     "text": [
      " nltk : [\"Since I'm actively looking.\", 'for Ph.D. Mr. students.', 'I get the same question a dozen times every year.']\n"
     ]
    }
   ],
   "source": [
    "from nltk.tokenize import sent_tokenize\n",
    "\n",
    "text = \"Since I'm actively looking. for Ph.D. Mr. students. I get the same question a dozen times every year.\"\n",
    "print(' nltk :',sent_tokenize(text))"
   ]
  },
  {
   "cell_type": "code",
   "execution_count": 8,
   "id": "5006aef6-3ad1-454c-885b-4be755016bd4",
   "metadata": {},
   "outputs": [
    {
     "name": "stdout",
     "output_type": "stream",
     "text": [
      " nltk : ['IP 192.168.56.31 서버에 들어가서 로그 파일 저장해서 aaa@gmail.com로 결과 좀.', '보내줘.', '그 후 점심 먹으러 가자.']\n"
     ]
    }
   ],
   "source": [
    "text = \"IP 192.168.56.31 서버에 들어가서 로그 파일 저장해서 aaa@gmail.com로 결과 좀. 보내줘. 그 후 점심 먹으러 가자.\"\n",
    "print(' nltk :',sent_tokenize(text))"
   ]
  },
  {
   "cell_type": "code",
   "execution_count": 9,
   "id": "c4fe14d4-c6dc-4687-bbd4-6af10d8ad99c",
   "metadata": {},
   "outputs": [
    {
     "name": "stdout",
     "output_type": "stream",
     "text": [
      " keras :\n",
      "단어 카운트 :  OrderedDict([('먼저', 1), ('텍스트의', 2), ('각', 1), ('단어를', 1), ('나누어', 1), ('토큰화', 3), ('합니다', 1), ('단어로', 1), ('해야', 1), ('딥러닝에서', 2), ('인식됩니다', 1), ('한', 1), ('결과는', 1), ('사용할', 1), ('수', 1), ('있습니다', 1)])\n",
      "문장 카운트 :  3\n",
      "각 단어가 몇 개의 문장에 포함되어 있는가 :  defaultdict(<class 'int'>, {'합니다': 1, '먼저': 1, '텍스트의': 2, '나누어': 1, '각': 1, '토큰화': 3, '단어를': 1, '딥러닝에서': 2, '단어로': 1, '인식됩니다': 1, '해야': 1, '결과는': 1, '사용할': 1, '한': 1, '있습니다': 1, '수': 1})\n",
      "각 단어에 매겨진 인덱스 값 :  {'토큰화': 1, '텍스트의': 2, '딥러닝에서': 3, '먼저': 4, '각': 5, '단어를': 6, '나누어': 7, '합니다': 8, '단어로': 9, '해야': 10, '인식됩니다': 11, '한': 12, '결과는': 13, '사용할': 14, '수': 15, '있습니다': 16}\n"
     ]
    }
   ],
   "source": [
    "from keras.preprocessing.text import Tokenizer\n",
    "text = ['먼저 텍스트의 각 단어를 나누어 토큰화 합니다.',\n",
    "        '텍스트의 단어로 토큰화 해야 딥러닝에서 인식됩니다', \n",
    "        '토큰화 한 결과는 딥러닝에서 사용할 수 있습니다.']\n",
    "\n",
    "token = Tokenizer()\n",
    "token.fit_on_texts(text)\n",
    "print(' keras :')\n",
    "print('단어 카운트 : ',token.word_counts) \n",
    "print('문장 카운트 : ',token.document_count) \n",
    "print('각 단어가 몇 개의 문장에 포함되어 있는가 : ',token.word_docs) \n",
    "print('각 단어에 매겨진 인덱스 값 : ',token.word_index)"
   ]
  },
  {
   "cell_type": "markdown",
   "id": "9b712245-2c6a-44ce-9e60-24c95ce92e28",
   "metadata": {},
   "source": [
    "## 한국어 전용 띄어쓰기 "
   ]
  },
  {
   "cell_type": "code",
   "execution_count": 10,
   "id": "67d2d4fc-dda9-4068-8018-a2c2e19b8dd8",
   "metadata": {},
   "outputs": [],
   "source": [
    "# # ! pip install kss XXXXXXXXXXXXXXXXX\n",
    "# # import kss    kss.split_sentences(text)"
   ]
  },
  {
   "cell_type": "code",
   "execution_count": 11,
   "id": "135c8adf-5012-48a5-a44e-aac84ee40b8d",
   "metadata": {},
   "outputs": [
    {
     "name": "stdout",
     "output_type": "stream",
     "text": [
      "딥러닝 자연어처리가재미있기는합니다.아마도이제 해보면 알걸요?\n",
      "pykospacing 띄어쓰기 \n",
      ": 딥러닝 자연어 처리가 재미있기는 합니다. 아마도 이제 해보면 알 걸요?\n"
     ]
    }
   ],
   "source": [
    "from pykospacing import spacing\n",
    "text = '딥러닝 자연어처리가재미있기는합니다.아마도이제 해보면 알걸요?'\n",
    "print(text)\n",
    "\n",
    "res = spacing(text) \n",
    "print(f'pykospacing 띄어쓰기 \\n: {res}')"
   ]
  },
  {
   "cell_type": "markdown",
   "id": "14f7a0e8-f273-4e36-8d7e-675b56365d03",
   "metadata": {
    "tags": []
   },
   "source": [
    "## 어간 추출(Stemming) , 표제어 추출(Lemmatization)\n",
    "* Lemmatization : 품사 태깅과 같이 써야 정확하다<br>\n",
    "\n",
    "<pre>\n",
    "* Stemming\n",
    "    am → am\n",
    "    the going → the go\n",
    "    having → hav\n",
    "* Lemmatization\n",
    "    am → be\n",
    "    the going → the going\n",
    "    having → have\n",
    "\n",
    "* 어간(stem) \n",
    "    용언(동사, 형용사)을 활용할 때, 원칙적으로 모양이 변하지 않는 부분. 활용에서 어미에 선행하는 부분. \n",
    "    때론 어간의 모양도 바뀔 수 있음(예: 긋다, 긋고, 그어서, 그어라).\n",
    "\n",
    "* 어미(ending)\n",
    "    용언의 어간 뒤에 붙어서 활용하면서 변하는 부분이며, 여러 문법적 기능을 수행"
   ]
  },
  {
   "cell_type": "code",
   "execution_count": 12,
   "id": "92ecb31e-da4c-4472-8eb8-c8039f9ce257",
   "metadata": {},
   "outputs": [
    {
     "name": "stdout",
     "output_type": "stream",
     "text": [
      "['policy', 'doing', 'am', 'done', 'having', 'going']\n",
      "['policy', 'do', 'be', 'do', 'have', 'go']\n"
     ]
    }
   ],
   "source": [
    "from nltk.stem import WordNetLemmatizer\n",
    "lemmatizer = WordNetLemmatizer()\n",
    "words = ['policy', 'doing', 'am', 'done', 'having', 'going']\n",
    "print(words)\n",
    "print([lemmatizer.lemmatize(w, 'v') for w in words])"
   ]
  },
  {
   "cell_type": "markdown",
   "id": "9972a711-0522-4b50-b03d-ddab112e26a1",
   "metadata": {
    "tags": []
   },
   "source": [
    "## 불용어(Stopword)\n",
    "* 자주 등장하지만 분석을 하는 것에 있어서는 큰 도움이 되지 않는 단어들\n",
    "* ref : https://github.com/stopwords-iso/stopwords-ko\n",
    "* ./dataset/ko_stopword_dict.txt"
   ]
  },
  {
   "cell_type": "code",
   "execution_count": 13,
   "id": "a42accbd-188c-4bd7-808e-183e882915a6",
   "metadata": {},
   "outputs": [
    {
     "name": "stdout",
     "output_type": "stream",
     "text": [
      "불용어 개수 : 179\n",
      "불용어 10개 출력 : ['i', 'me', 'my', 'myself', 'we', 'our', 'ours', 'ourselves', 'you', \"you're\"]\n"
     ]
    }
   ],
   "source": [
    "from nltk.tokenize import word_tokenize \n",
    "from nltk.corpus import stopwords\n",
    "stop_words_list = stopwords.words('english')  #--------nltk\n",
    "print('불용어 개수 :', len(stop_words_list))\n",
    "print('불용어 10개 출력 :',stop_words_list[:10])"
   ]
  },
  {
   "cell_type": "code",
   "execution_count": 14,
   "id": "b6475d30-84d3-4166-ad19-1c04024d1683",
   "metadata": {},
   "outputs": [
    {
     "data": {
      "text/plain": [
       "array(['아', '휴', '아이구', '아이쿠', '아이고'], dtype=object)"
      ]
     },
     "execution_count": 14,
     "metadata": {},
     "output_type": "execute_result"
    }
   ],
   "source": [
    "import pandas as pd\n",
    "import numpy as np\n",
    "df = pd.read_csv(\"./dataset/ko_stopword_dict.txt\")\n",
    "df['stop'].values[:5]"
   ]
  },
  {
   "cell_type": "markdown",
   "id": "c30f31ff-4c4a-4361-a063-3bb7e2a33cd6",
   "metadata": {},
   "source": [
    "# mecab(은전한닢) 패키지 테스트"
   ]
  },
  {
   "cell_type": "code",
   "execution_count": 15,
   "id": "b581860d-53b1-458f-862a-b778be2b8975",
   "metadata": {},
   "outputs": [
    {
     "name": "stdout",
     "output_type": "stream",
     "text": [
      "[('아버지', 'NNG'), ('가', 'JKS'), ('방', 'NNG'), ('에', 'JKB'), ('들어가', 'VV'), ('신다', 'EP+EC')]\n"
     ]
    }
   ],
   "source": [
    "from konlpy.tag import Mecab\n",
    "mecab = Mecab(r\"C:\\\\mecab\\\\mecab-ko-dic\")\n",
    "res = mecab.pos('아버지가방에들어가신다')\n",
    "print(res)"
   ]
  },
  {
   "cell_type": "markdown",
   "id": "c3f3b835-e013-41b9-9a95-aea8aad9e352",
   "metadata": {},
   "source": [
    "## 문장 토큰화\n",
    "* 단어토큰화, 띄어쓰기, 불용어처리"
   ]
  },
  {
   "cell_type": "code",
   "execution_count": 16,
   "id": "730c58a4-713c-4a49-b0bf-93225f705f43",
   "metadata": {},
   "outputs": [
    {
     "name": "stdout",
     "output_type": "stream",
     "text": [
      "3\n",
      "이번에 새롭게 개봉한 영화의 배우들은 모두 훌륭한 연기력과 아름다운 목소리를 갖고 있어!! \n",
      " 이번에 새롭게 개봉한 영화의 배우들은 모두 훌륭한 연기력과 아름다운 목소리를 갖고 있어!\n",
      "품사 태깅: ['새롭', '개봉', '영화', '배우', '훌륭', '연기력', '아름다운', '목소리']\n",
      "단어토근화: ['이번', '개봉', '영화', '배우', '연기력', '목소리']\n",
      "이번에 새롭게 개봉한 영화의 배우들은 모두 훌륭한 연기력과 아름다운 목소리를 갖고 있어!! \n",
      " !\n",
      "품사 태깅: []\n",
      "단어토근화: []\n",
      "--------------------------------------------------------------------------------\n",
      "나는 그 전처리를 아주 많이 베우고 있다. 그래서 나는 기분이 좋다 \n",
      " 나는 그 전처리를 아주 많이 베우고 있다.\n",
      "품사 태깅: ['는', '전처리', '아주', '많이', '베', '우', '다']\n",
      "단어토근화: ['나', '전처리']\n",
      "나는 그 전처리를 아주 많이 베우고 있다. 그래서 나는 기분이 좋다 \n",
      " 그래서 나는 기분이 좋다\n",
      "품사 태깅: ['는', '기분', '좋', '다']\n",
      "단어토근화: ['나', '기분']\n",
      "--------------------------------------------------------------------------------\n",
      "어제의 최상현은 정말 잘생겼다고 생각하지 않는다. \n",
      " 어제의 최상현은 정말 잘생겼다고 생각하지 않는다.\n",
      "품사 태깅: ['어제', '최상현', '정말', '잘', '생겼', '다고', '생각', '지', '않', '는다']\n",
      "단어토근화: ['어제', '최상현', '생각']\n",
      "--------------------------------------------------------------------------------\n"
     ]
    }
   ],
   "source": [
    "import re\n",
    "# from konlpy.tag import Okt\n",
    "from konlpy.tag import Mecab\n",
    "import pandas as pd\n",
    "import numpy as np\n",
    "from nltk.tokenize import sent_tokenize\n",
    "\n",
    "def my_stopword(text,tokenizer):    \n",
    "    #stopwords = ['이번','에','을', '를', '이', '가', '은', '는']\n",
    "    df = pd.read_csv(\"./dataset/ko_stopword_dict.txt\") #------ 기본 header=None\n",
    "    list1 = df['stop'].values.tolist()\n",
    "    \n",
    "    list2 = ['게','한','은', '갖', '고', '있']                           #------ 추가본\n",
    "    stopwords = list1 + list2\n",
    "    \n",
    "    txt = re.sub('[^가-힣a-z]', ' ', text)\n",
    "    # nltk_morphs = tokenizer.morphs(txt)\n",
    "    mecab_morphs  = tokenizer.morphs(txt)\n",
    "    token = [t for t in mecab_morphs if t not in stopwords]\n",
    "    return token\n",
    "\n",
    "# tokenizer = Okt()\n",
    "mecab = Mecab(r\"C:\\\\mecab\\\\mecab-ko-dic\")\n",
    "\n",
    "text_list = [\"이번에 새롭게 개봉한 영화의 배우들은 모두 훌륭한 연기력과 아름다운 목소리를 갖고 있어!!\",\n",
    "             \"나는 그 전처리를 아주 많이 베우고 있다. 그래서 나는 기분이 좋다\",\n",
    "             \"어제의 최상현은 정말 잘생겼다고 생각하지 않는다.\"]\n",
    "print( len(text_list))\n",
    "\n",
    "for text in text_list:\n",
    "    for sent in sent_tokenize(text):\n",
    "        res= my_stopword(sent,mecab)\n",
    "        print(text, '\\n', sent)\n",
    "        print(\"품사 태깅:\", res)\n",
    "        print(\"단어토근화:\",mecab.nouns(sent))\n",
    "    print(\"----\"*20)"
   ]
  },
  {
   "cell_type": "markdown",
   "id": "d31934b9-7831-4aec-9eac-daaa8c8a6812",
   "metadata": {},
   "source": [
    "# 단어 카운트"
   ]
  },
  {
   "cell_type": "code",
   "execution_count": null,
   "id": "ddda0992-8efc-4c47-801f-12f8e6680f0a",
   "metadata": {},
   "outputs": [],
   "source": []
  },
  {
   "cell_type": "markdown",
   "id": "07a70f34-83a6-49db-b758-2dfefc8d353d",
   "metadata": {
    "tags": []
   },
   "source": [
    "## [실습] 식수예측(중식메뉴) \n",
    "* 중식메뉴 + (워드클라우드)"
   ]
  },
  {
   "cell_type": "code",
   "execution_count": 23,
   "id": "df85ed1c-01b4-480a-9c3b-9eba1d90b012",
   "metadata": {},
   "outputs": [],
   "source": [
    "import pandas as pd\n",
    "import numpy as np\n",
    "import re\n",
    "from wordcloud import WordCloud\n",
    "import matplotlib.pyplot as plt\n",
    "\n",
    "from konlpy.tag import Mecab\n",
    "mecab = Mecab(r\"C:\\\\mecab\\\\mecab-ko-dic\")\n",
    "\n",
    "from keras.preprocessing.text import text_to_word_sequence\n",
    "\n",
    "from nltk.tokenize import word_tokenize"
   ]
  },
  {
   "cell_type": "code",
   "execution_count": 24,
   "id": "7beba68f-b35d-4bbc-8ac8-ba02a8f1ce05",
   "metadata": {},
   "outputs": [
    {
     "data": {
      "text/html": [
       "<div>\n",
       "<style scoped>\n",
       "    .dataframe tbody tr th:only-of-type {\n",
       "        vertical-align: middle;\n",
       "    }\n",
       "\n",
       "    .dataframe tbody tr th {\n",
       "        vertical-align: top;\n",
       "    }\n",
       "\n",
       "    .dataframe thead th {\n",
       "        text-align: right;\n",
       "    }\n",
       "</style>\n",
       "<table border=\"1\" class=\"dataframe\">\n",
       "  <thead>\n",
       "    <tr style=\"text-align: right;\">\n",
       "      <th></th>\n",
       "      <th>중식메뉴</th>\n",
       "    </tr>\n",
       "  </thead>\n",
       "  <tbody>\n",
       "    <tr>\n",
       "      <th>0</th>\n",
       "      <td>쌀밥/잡곡밥 (쌀,현미흑미:국내산) 오징어찌개  쇠불고기 (쇠고기:호주산) 계란찜 ...</td>\n",
       "    </tr>\n",
       "  </tbody>\n",
       "</table>\n",
       "</div>"
      ],
      "text/plain": [
       "                                                중식메뉴\n",
       "0  쌀밥/잡곡밥 (쌀,현미흑미:국내산) 오징어찌개  쇠불고기 (쇠고기:호주산) 계란찜 ..."
      ]
     },
     "execution_count": 24,
     "metadata": {},
     "output_type": "execute_result"
    }
   ],
   "source": [
    "df = pd.read_csv(\"../comp/sicksu_d/dataset/train.csv\")\n",
    "df[['중식메뉴']].head(1)"
   ]
  },
  {
   "cell_type": "code",
   "execution_count": 25,
   "id": "0df5f93a-046b-4b4d-bcf3-2ce3d677d23e",
   "metadata": {},
   "outputs": [],
   "source": [
    "dfcp = df['중식메뉴'][:3].copy()"
   ]
  },
  {
   "cell_type": "code",
   "execution_count": 26,
   "id": "e7b9f46b-0154-4a37-8ab3-87cc3888b06b",
   "metadata": {},
   "outputs": [
    {
     "data": {
      "text/plain": [
       "0    쌀밥/잡곡밥 (쌀,현미흑미:국내산) 오징어찌개  쇠불고기 (쇠고기:호주산) 계란찜 ...\n",
       "1    쌀밥/잡곡밥 (쌀,현미흑미:국내산) 김치찌개  가자미튀김  모둠소세지구이  마늘쫑무...\n",
       "2    카레덮밥 (쌀,현미흑미:국내산) 팽이장국  치킨핑거 (닭고기:국내산) 쫄면야채무침 ...\n",
       "Name: 중식메뉴, dtype: object"
      ]
     },
     "execution_count": 26,
     "metadata": {},
     "output_type": "execute_result"
    }
   ],
   "source": [
    "dfcp.head()"
   ]
  },
  {
   "cell_type": "code",
   "execution_count": 27,
   "id": "4e0c3cc9-cd10-4321-ae75-066953eb8dda",
   "metadata": {},
   "outputs": [
    {
     "name": "stdout",
     "output_type": "stream",
     "text": [
      "쌀밥/잡곡밥 (쌀,현미흑미:국내산) 오징어찌개  쇠불고기 (쇠고기:호주산) 계란찜  청포묵무침  요구르트  포기김치 (배추,고추가루:국내산) \n",
      "['쌀밥', '오징어찌개', '쇠불고기', '계란찜', '청포묵무침', '요구르트', '포기김치']\n",
      "\n",
      "쌀밥/잡곡밥 (쌀,현미흑미:국내산) 김치찌개  가자미튀김  모둠소세지구이  마늘쫑무침  요구르트  배추겉절이 (배추,고추가루:국내산) \n",
      "['쌀밥', '김치찌개', '가자미튀김', '모둠소세지구이', '마늘쫑무침', '요구르트', '배추겉절이']\n",
      "\n",
      "카레덮밥 (쌀,현미흑미:국내산) 팽이장국  치킨핑거 (닭고기:국내산) 쫄면야채무침  견과류조림  요구르트  포기김치 (배추,고추가루:국내산) \n",
      "['카레덮밥', '팽이장국', '치킨핑거', '쫄면야채무침', '견과류조림', '요구르트', '포기김치']\n",
      "\n",
      "['쌀밥', '오징어찌개', '쇠불고기', '계란찜', '청포묵무침', '요구르트', '포기김치', '쌀밥', '김치찌개', '가자미튀김', '모둠소세지구이', '마늘쫑무침', '요구르트', '배추겉절이', '카레덮밥', '팽이장국', '치킨핑거', '쫄면야채무침', '견과류조림', '요구르트', '포기김치']\n"
     ]
    }
   ],
   "source": [
    "tot_list = []\n",
    "for text in dfcp:      #item: 카레덮밥 (쌀,현미흑미:국내산) 팽이장국  치킨핑거 (닭고기:국내산) 쫄면야채무침\n",
    "    print(text)\n",
    "    \n",
    "    text = re.sub(r'/^\\s+|\\s+$/g', '', text.strip())#앞뒤 공백 제거\n",
    "    text = text.replace(r' /','/')  #앞뒤 공백 제거\n",
    "    text = text.replace(r'/ ','/')  #앞뒤 공백 제거\n",
    "    text = re.sub(r'\\([^)]*\\)', '', text.strip())              #(s) 제거\n",
    "    text = re.sub(r'[^)]*\\)', '', text.strip())                #s) 제거\n",
    "    text = re.sub(r'\\([^)]*', '', text.strip())                #(s 제거\n",
    "    text = re.sub(r'\\*[^)]*', '', text.strip())                #*s 제거\n",
    "    text = re.sub(r'\\&[^)]*', '', text.strip())                #&s 제거\n",
    "    text = re.sub(' +', ' ', text.strip())                     #공백,탭 제거\n",
    "    text = re.sub(r'쌀밥/잡곡밥', '쌀밥', text.strip())         # /s 제거        \n",
    "    \n",
    "    # nouns = mecab.nouns(item)            #['카레', '덮밥', '팽이', '장국', ..]\n",
    "    # nouns = text_to_word_sequence(text)  #['쌀밥', '오징어찌개', '쇠불고기', '계란찜', '청포묵무침', '요구르트', '포기김치']\n",
    "    nouns = word_tokenize(text)            #['쌀밥', '오징어찌개', '쇠불고기', '계란찜', '청포묵무침', '요구르트', '포기김치']\n",
    "    print(nouns)                  \n",
    "    print()\n",
    "    tot_list.extend(nouns)    \n",
    "\n",
    "print(tot_list)    "
   ]
  },
  {
   "cell_type": "code",
   "execution_count": 28,
   "id": "95f05236-15b6-4e2e-a8cc-71598eae8372",
   "metadata": {},
   "outputs": [
    {
     "data": {
      "image/png": "[encoded data removed]",
      "text/plain": [
       "<Figure size 432x288 with 1 Axes>"
      ]
     },
     "metadata": {
      "needs_background": "light"
     },
     "output_type": "display_data"
    }
   ],
   "source": [
    "text = \" \".join(tot_list)\n",
    "wordcloud = WordCloud(max_font_size=100, font_path='C:\\\\Windows\\\\Fonts\\\\\\x7f\\x7f\\x7f\\x7fBOLD.TTF').generate(text)\n",
    "plt.imshow(wordcloud, interpolation='bilinear')\n",
    "plt.axis('off')\n",
    "plt.show()"
   ]
  },
  {
   "cell_type": "markdown",
   "id": "eb659af3-22bb-416a-a688-5154eeddeabf",
   "metadata": {},
   "source": [
    "## sklearn..CountVectorizer()"
   ]
  },
  {
   "cell_type": "code",
   "execution_count": 20,
   "id": "af2433c7-2c86-4925-bb5f-f1fc7cf1eebd",
   "metadata": {},
   "outputs": [],
   "source": [
    "from sklearn.feature_extraction.text import CountVectorizer\n",
    "from keras.preprocessing.text import text_to_word_sequence\n",
    "from nltk.corpus import stopwords "
   ]
  },
  {
   "cell_type": "code",
   "execution_count": 21,
   "id": "7eb0cf5c-974f-4b33-a8e9-15b75198fa02",
   "metadata": {},
   "outputs": [
    {
     "name": "stdout",
     "output_type": "stream",
     "text": [
      "['내가 좋아하는 사과는 빨간 사과이다. 사과라서 좋다.', '바나나는 노랗다.']\n",
      "  (0, 0)\t1\n",
      "  (0, 8)\t1\n",
      "  (0, 4)\t1\n",
      "  (0, 3)\t1\n",
      "  (0, 6)\t1\n",
      "  (0, 5)\t1\n",
      "  (0, 7)\t1\n",
      "  (1, 2)\t1\n",
      "  (1, 1)\t1\n",
      "[[1 0 0 1 1 1 1 1 1]\n",
      " [0 1 1 0 0 0 0 0 0]]\n",
      "{'내가': 0, '좋아하는': 8, '사과는': 4, '빨간': 3, '사과이다': 6, '사과라서': 5, '좋다': 7, '바나나는': 2, '노랗다': 1}\n",
      "[('좋아하는', 8), ('좋다', 7), ('사과이다', 6), ('사과라서', 5), ('사과는', 4), ('빨간', 3), ('바나나는', 2), ('노랗다', 1), ('내가', 0)]\n"
     ]
    }
   ],
   "source": [
    "df = pd.read_csv(\"./dataset/ko_stopword_dict.txt\") #------ 기본 header=None\n",
    "list1 = df['stop'].values.tolist()\n",
    "cnt_vt = CountVectorizer(stop_words=list1)    \n",
    "    \n",
    "text_list = [\"내가 좋아하는 사과는 빨간 사과이다. 사과라서 좋다.\",\n",
    "             \"바나나는 노랗다.\"]\n",
    "print(text_list)\n",
    "\n",
    "res = cnt_vt.fit_transform(text_list)  #Iterable\n",
    "print(res)  # COO vs. CSR\n",
    "print(res.toarray())\n",
    "\n",
    "print(cnt_vt.vocabulary_)    \n",
    "vocab_sorted = sorted(cnt_vt.vocabulary_.items(), key = lambda x:x[1], reverse = True)\n",
    "print(vocab_sorted)"
   ]
  },
  {
   "cell_type": "code",
   "execution_count": null,
   "id": "3b7e4d82-c385-45cd-a2b1-0bcb99ae0c21",
   "metadata": {},
   "outputs": [],
   "source": []
  },
  {
   "cell_type": "markdown",
   "id": "27b30b88-8e37-4973-abbf-444377092fa7",
   "metadata": {
    "tags": []
   },
   "source": [
    "# Vectorize"
   ]
  },
  {
   "cell_type": "markdown",
   "id": "ecaf6eb0-d681-489d-96e3-8f4030cd0cb3",
   "metadata": {
    "tags": []
   },
   "source": [
    "## BoW(Bag Of Word)\n",
    "* 문서를 벡터로 변환하는 가장 기본적인 방법으로, 문서 내의 모든 단어를 모아 가방(Bag of words)를 만들고, <br>\n",
    "  특정 문서에 어떤 단어가 들어있는지를 리스트 형태의 숫자로 나타내는 것\n",
    "---------------------------------------\n",
    "<pre>\n",
    "sentence1 = 'This is a black cat'\n",
    "sentence2 = 'This is a white dog'\n",
    "\n",
    "BoW = ['this', 'is', 'a', 'black', 'cat', 'white', 'dog']\n",
    "dictionary = {'a': 2, 'black': 3, 'cat': 4, 'dog': 6, 'is': 1, 'this': 0, 'white': 5}\n",
    "\n",
    "<font color=red size=3><b>Tokenize vs. Vectorize</b></font>\n",
    "# Tokenize : 자르기\n",
    "sentence1 = ['This', 'is', 'a', 'black', 'cat']\n",
    "sentence2 = ['This', 'is', 'a', 'white', 'dog']\n",
    "\n",
    "# vectorize : 사전존재시 1\n",
    "# dictionary: ['this', 'is', 'a', 'black', 'cat', 'white', 'dog']\n",
    "sentence1 = [1, 1, 1, 1, 1, 0, 0]\n",
    "sentence2 = [1, 1, 1, 0, 0, 1, 1]\n",
    "</pre>\n",
    "\n",
    "-----"
   ]
  },
  {
   "cell_type": "markdown",
   "id": "3f0355f6-3968-4bdf-8854-6daff2a144fc",
   "metadata": {
    "tags": []
   },
   "source": [
    "## sklearn..CountVectorizer()\n",
    "* ref : https://scikit-learn.org/stable/modules/generated/sklearn.feature_extraction.text.CountVectorizer.html\n",
    "*  문서 집합(문서 리스트)에서 단어 토큰을 생성하고 각 단어를 세어 BOW 기반으로 벡터 생성\n",
    "<pre>\n",
    "CountVectorizer(analyzer='word', binary=False, decode_error='strict',\n",
    "        dtype=<class 'numpy.int64'>, encoding='utf-8', input='content',\n",
    "        lowercase=True, max_df=1.0, max_features=None, min_df=1,\n",
    "        ngram_range=(1, 1), preprocessor=None, stop_words=None,\n",
    "        strip_accents=None, token_pattern='(?u)\\\\b\\\\w\\\\w+\\\\b',\n",
    "        tokenizer=None, vocabulary=None)"
   ]
  },
  {
   "cell_type": "code",
   "execution_count": 58,
   "id": "6d848cb7-fb30-40af-9543-705a3e80f7fc",
   "metadata": {},
   "outputs": [
    {
     "data": {
      "text/plain": [
       "{'this': 7,\n",
       " 'is': 4,\n",
       " 'black': 0,\n",
       " 'cat': 2,\n",
       " 'this is': 8,\n",
       " 'is black': 5,\n",
       " 'black cat': 1,\n",
       " 'white': 9,\n",
       " 'dog': 3,\n",
       " 'is white': 6,\n",
       " 'white dog': 10}"
      ]
     },
     "execution_count": 58,
     "metadata": {},
     "output_type": "execute_result"
    }
   ],
   "source": [
    "from sklearn.feature_extraction.text import CountVectorizer\n",
    "cv = CountVectorizer(#ngram_range=(1, 1), \n",
    "                     ngram_range=(1, 2), \n",
    "                     #stop_words=[],\n",
    "                     token_pattern='(?u)\\\\b\\\\w\\\\w+\\\\b'  #단어2글자이상만\n",
    "                    )\n",
    "corpus = [ 'This is a black cat',\n",
    "           'This is a white dog']\n",
    "cv.fit(corpus)\n",
    "cv.vocabulary_"
   ]
  },
  {
   "cell_type": "markdown",
   "id": "f99358db-a261-4bd6-8b07-1043416c2113",
   "metadata": {
    "tags": []
   },
   "source": [
    "## sklearn..TfidfVectorizer()\n",
    "* (TF-IDF, Term Frequency-Inverse Document Frequency) : 우선 DTM을 만든 후, TF-IDF 가중치를 부여한 BOW 벡터 생성\n",
    "* 많은 문서에 등장하는 단어는 비중이 작아지고, 특정 문서군에서만 등장하는 단어는 비중이 높아진다.\n",
    "* ref [수식]: https://tlab.it/en/allegati/help_en_online/gtfidf.htm<br><br>\n",
    "<pre>\n",
    "class sklearn.feature_extraction.text.TfidfVectorizer(*, input='content', encoding='utf-8', decode_error='strict', strip_accents=None, lowercase=True, preprocessor=None, tokenizer=None, analyzer='word', stop_words=None, token_pattern='(?u)\\b\\w\\w+\\b', ngram_range=(1, 1), max_df=1.0, min_df=1, max_features=None, vocabulary=None, binary=False, dtype=<class 'numpy.float64'>, norm='l2', use_idf=True, smooth_idf=True, sublinear_tf=False)[source]"
   ]
  },
  {
   "cell_type": "code",
   "execution_count": 66,
   "id": "4bda5ff9-1b7d-414c-b349-a71230b98f85",
   "metadata": {},
   "outputs": [
    {
     "name": "stdout",
     "output_type": "stream",
     "text": [
      "[[0.57615236 0.57615236 0.         0.40993715 0.40993715 0.        ]\n",
      " [0.         0.         0.57615236 0.40993715 0.40993715 0.57615236]]\n",
      "{'this': 4, 'is': 3, 'black': 0, 'cat': 1, 'white': 5, 'dog': 2}\n"
     ]
    }
   ],
   "source": [
    "from sklearn.feature_extraction.text import TfidfVectorizer\n",
    "tfidf = TfidfVectorizer()\n",
    "corpus = [ 'This is a black cat',\n",
    "           'This is a white dog']\n",
    "\n",
    "\n",
    "print(tfidf.fit_transform(corpus).toarray())\n",
    "print(tfidf.vocabulary_)\n",
    "\n"
   ]
  },
  {
   "cell_type": "code",
   "execution_count": null,
   "id": "2338bd83-7197-4acc-95bf-887e06cccd01",
   "metadata": {},
   "outputs": [],
   "source": []
  },
  {
   "cell_type": "markdown",
   "id": "85ddf594-23e3-4d12-b0a2-f5478ceca6ee",
   "metadata": {},
   "source": [
    "* TF-IDF = TF * IDF\n",
    "\n",
    "* 문서(d), 단어(t), 문서총개수(n)\n",
    "* <font color='red'> $ tf(d,t) $ : 특정 문서 d에서의 특정 단어 t의 등장 횟수</font>\n",
    "* <font color='red'>  $df(t)$ : 특정 단어 t가 등장한 문서의 수 </font>\n",
    "* <font color='red'>  $idf(d, t) = log (\\frac{n}{1+df(t)})$ : df(t) 역수</font><br>\n",
    "<img src='http://www.kwangsiklee.com/wp-content/uploads/2017/11/searchengine3_1600.png' width=700>"
   ]
  },
  {
   "cell_type": "code",
   "execution_count": null,
   "id": "a2a49297-da24-4439-8fce-24883e577af1",
   "metadata": {},
   "outputs": [],
   "source": []
  },
  {
   "cell_type": "code",
   "execution_count": null,
   "id": "866e2a38-ca7d-4bc3-8b4a-b8a729a2f5e2",
   "metadata": {},
   "outputs": [],
   "source": []
  },
  {
   "cell_type": "markdown",
   "id": "04e2c525-4426-4195-9dac-272368aeefc3",
   "metadata": {
    "tags": []
   },
   "source": [
    "## Keras..Tokenizer()\n",
    "* 입력된 코퍼스의 빈도수를 기준으로 단어 집합 생성"
   ]
  },
  {
   "cell_type": "code",
   "execution_count": 68,
   "id": "f8dd969c-193e-4fc3-821d-26496bb13e1b",
   "metadata": {},
   "outputs": [
    {
     "name": "stdout",
     "output_type": "stream",
     "text": [
      " keras :\n",
      "단어 카운트 :  OrderedDict([('this', 2), ('is', 2), ('a', 2), ('black', 1), ('cat', 1), ('white', 1), ('dog', 1)])\n",
      "문장 카운트 :  2\n",
      "각 단어가 몇 개의 문장에 포함되어 있는가 :  defaultdict(<class 'int'>, {'cat': 1, 'this': 2, 'is': 2, 'a': 2, 'black': 1, 'white': 1, 'dog': 1})\n",
      "각 단어에 매겨진 인덱스 값 :  {'this': 1, 'is': 2, 'a': 3, 'black': 4, 'cat': 5, 'white': 6, 'dog': 7}\n"
     ]
    }
   ],
   "source": [
    "from keras.preprocessing.text import Tokenizer\n",
    "corpus = [ 'This is a black cat',\n",
    "           'This is a white dog']\n",
    "\n",
    "token = Tokenizer()\n",
    "token.fit_on_texts(corpus)\n",
    "print(' keras :')\n",
    "print('단어 카운트 : ',token.word_counts) \n",
    "print('문장 카운트 : ',token.document_count) \n",
    "print('각 단어가 몇 개의 문장에 포함되어 있는가 : ',token.word_docs) \n",
    "print('각 단어에 매겨진 인덱스 값 : ',token.word_index)"
   ]
  },
  {
   "cell_type": "code",
   "execution_count": null,
   "id": "eba6300b-bd98-4b99-8c40-3b154eb21022",
   "metadata": {},
   "outputs": [],
   "source": []
  },
  {
   "cell_type": "markdown",
   "id": "4aaa8c2b-055c-417f-89af-9ae5aa385372",
   "metadata": {},
   "source": [
    "# 패딩(padding)\n",
    "* 병렬 연산을 위해서 여러 문장의 길이를 임의로 동일하게 맞춰주는 작업"
   ]
  },
  {
   "cell_type": "markdown",
   "id": "42c33e9d-fcfe-4d11-90b9-b1faef2f9b5f",
   "metadata": {
    "tags": []
   },
   "source": [
    "## keras..pad_sequences()\n",
    "* tokenizer.fit_on_texts(L) \n",
    "* enc=tokenizer.texts_to_sequences(L) \n",
    "* pad_sequences(enc)<br><br>\n",
    "<pre>\n",
    "tf.keras.preprocessing.sequence.pad_sequences(\n",
    "    sequences, maxlen=None, dtype=\"int32\", padding=\"pre\", truncating=\"pre\", value=0.0\n",
    ")"
   ]
  },
  {
   "cell_type": "code",
   "execution_count": 78,
   "id": "94460f47-5914-42f8-9ff1-3dfa4c725423",
   "metadata": {},
   "outputs": [
    {
     "name": "stdout",
     "output_type": "stream",
     "text": [
      "(2, 1)\n",
      "(2,)\n",
      "단어 카운트 :  OrderedDict([('this', 2), ('is', 2), ('a', 2), ('black', 1), ('cat', 1), ('white', 1), ('dog', 1), ('at', 1), ('home', 1)])\n",
      "[[0 0 0 1 2 3 4 5]\n",
      " [0 1 2 3 6 7 8 9]]\n"
     ]
    }
   ],
   "source": [
    "from keras.preprocessing.text import Tokenizer\n",
    "corpus = [['This is a black cat'],\n",
    "          [ 'This is a white dog at home'] ]  #병렬 문장\n",
    "\n",
    "# (2,1)[[],[]]   (2,) ['...' ,'...']\n",
    "print(np.array(corpus).shape)\n",
    "corpus = np.array(corpus).reshape(-1)\n",
    "print(corpus.shape)\n",
    "\n",
    "\n",
    "tokenizer = Tokenizer()\n",
    "tokenizer.fit_on_texts(corpus)\n",
    "print('단어 카운트 : ',tokenizer.word_counts) \n",
    "\n",
    "#encoding = ----- 글자-> 숫자\n",
    "encoding = tokenizer.texts_to_sequences(corpus)   #[[ 1, 2, ..] , ['1, 2, ..]]\n",
    "#------------------------------------keras가 하는 동작을 연습해본것\n",
    "# def texts_to_sequnces(self, corpus):\n",
    "#     tot_list = []\n",
    "#     for c in corpus:\n",
    "#         token = Tokenizer()\n",
    "#         token.fit_on_texts(c)\n",
    "#         tot_list.append(token.word_index)   # {'this': 1, 'is': 2, 'a': 3, 'black': 4,...}  \n",
    "#     #tot_list [{'this': 1, 'is': 2, ..} , {'this': 1, 'is': 2, ..} ]\n",
    "#     #tot_list [[ 1, 2, ..] , ['1, 2, ..]]\n",
    "#     return tot_list\n",
    "\n",
    "\n",
    "from keras.preprocessing.sequence import pad_sequences\n",
    "padding_res = pad_sequences(sequences=encoding, \n",
    "                   maxlen=8,     #-----문장들이 가지고 있는 단어갯수 중 최대 단어수 == voca_size\n",
    "                   padding=\"pre\"  #앞에서부터 0을 채워서 제일 긴 길이에 맞추기 pre/post\n",
    "                  )\n",
    "print(padding_res)"
   ]
  },
  {
   "cell_type": "code",
   "execution_count": null,
   "id": "3253fba9-4c69-4087-8de6-1e0d2e20d161",
   "metadata": {},
   "outputs": [],
   "source": []
  },
  {
   "cell_type": "markdown",
   "id": "8ab0fc1f-a5ca-47bc-b346-6d49acfa75e3",
   "metadata": {},
   "source": [
    "## keras..to_categorical() \n",
    "* 원핫인코딩"
   ]
  },
  {
   "cell_type": "code",
   "execution_count": null,
   "id": "1109d969-465a-4183-bfbf-0b4152a39310",
   "metadata": {},
   "outputs": [],
   "source": []
  },
  {
   "cell_type": "markdown",
   "id": "656f5c85-49ba-4349-b034-bba137300a2a",
   "metadata": {
    "tags": []
   },
   "source": [
    "## [실습] 식수예측(중식메뉴) \n",
    "* 중식메뉴 + (워드클라우드)"
   ]
  },
  {
   "cell_type": "code",
   "execution_count": 35,
   "id": "410eeb7a-8b60-4671-a6eb-7293ae1b6c06",
   "metadata": {},
   "outputs": [],
   "source": [
    "import pandas as pd\n",
    "import numpy as np\n",
    "import re\n",
    "from wordcloud import WordCloud\n",
    "import matplotlib.pyplot as plt\n",
    "from keras.preprocessing.text import Tokenizer"
   ]
  },
  {
   "cell_type": "code",
   "execution_count": 36,
   "id": "4cd4c8d9-d780-4861-803a-79cacea424d9",
   "metadata": {},
   "outputs": [
    {
     "data": {
      "text/html": [
       "<div>\n",
       "<style scoped>\n",
       "    .dataframe tbody tr th:only-of-type {\n",
       "        vertical-align: middle;\n",
       "    }\n",
       "\n",
       "    .dataframe tbody tr th {\n",
       "        vertical-align: top;\n",
       "    }\n",
       "\n",
       "    .dataframe thead th {\n",
       "        text-align: right;\n",
       "    }\n",
       "</style>\n",
       "<table border=\"1\" class=\"dataframe\">\n",
       "  <thead>\n",
       "    <tr style=\"text-align: right;\">\n",
       "      <th></th>\n",
       "      <th>중식메뉴</th>\n",
       "    </tr>\n",
       "  </thead>\n",
       "  <tbody>\n",
       "    <tr>\n",
       "      <th>0</th>\n",
       "      <td>쌀밥/잡곡밥 (쌀,현미흑미:국내산) 오징어찌개  쇠불고기 (쇠고기:호주산) 계란찜 ...</td>\n",
       "    </tr>\n",
       "  </tbody>\n",
       "</table>\n",
       "</div>"
      ],
      "text/plain": [
       "                                                중식메뉴\n",
       "0  쌀밥/잡곡밥 (쌀,현미흑미:국내산) 오징어찌개  쇠불고기 (쇠고기:호주산) 계란찜 ..."
      ]
     },
     "execution_count": 36,
     "metadata": {},
     "output_type": "execute_result"
    }
   ],
   "source": [
    "df = pd.read_csv(\"../comp/sicksu_d/dataset/train.csv\")\n",
    "df[['중식메뉴']].head(1)"
   ]
  },
  {
   "cell_type": "code",
   "execution_count": 37,
   "id": "8ce20f14-b30f-4bc6-af9b-5a9868cabf86",
   "metadata": {},
   "outputs": [],
   "source": [
    "dfcp = df['중식메뉴'][:3].copy()"
   ]
  },
  {
   "cell_type": "code",
   "execution_count": 38,
   "id": "e1477e7a-0bdd-4520-bc3f-6e1e3e43f293",
   "metadata": {},
   "outputs": [
    {
     "data": {
      "text/plain": [
       "0    쌀밥/잡곡밥 (쌀,현미흑미:국내산) 오징어찌개  쇠불고기 (쇠고기:호주산) 계란찜 ...\n",
       "1    쌀밥/잡곡밥 (쌀,현미흑미:국내산) 김치찌개  가자미튀김  모둠소세지구이  마늘쫑무...\n",
       "2    카레덮밥 (쌀,현미흑미:국내산) 팽이장국  치킨핑거 (닭고기:국내산) 쫄면야채무침 ...\n",
       "Name: 중식메뉴, dtype: object"
      ]
     },
     "execution_count": 38,
     "metadata": {},
     "output_type": "execute_result"
    }
   ],
   "source": [
    "dfcp.head()"
   ]
  },
  {
   "cell_type": "code",
   "execution_count": 40,
   "id": "4943d909-26f1-48fa-a110-87b25a8d0f49",
   "metadata": {},
   "outputs": [
    {
     "name": "stdout",
     "output_type": "stream",
     "text": [
      "['쌀밥 오징어찌개 쇠불고기 계란찜 청포묵무침 요구르트 포기김치', '쌀밥 김치찌개 가자미튀김 모둠소세지구이 마늘쫑무침 요구르트 배추겉절이', '카레덮밥 팽이장국 치킨핑거 쫄면야채무침 견과류조림 요구르트 포기김치']\n"
     ]
    }
   ],
   "source": [
    "tot_list = []\n",
    "for text in dfcp:      #item: 카레덮밥 (쌀,현미흑미:국내산) 팽이장국  치킨핑거 (닭고기:국내산) 쫄면야채무침\n",
    "    text = re.sub(r'/^\\s+|\\s+$/g', '', text.strip())#앞뒤 공백 제거\n",
    "    text = text.replace(r' /','/')  #앞뒤 공백 제거\n",
    "    text = text.replace(r'/ ','/')  #앞뒤 공백 제거\n",
    "    text = re.sub(r'\\([^)]*\\)', '', text.strip())              #(s) 제거\n",
    "    text = re.sub(r'[^)]*\\)', '', text.strip())                #s) 제거\n",
    "    text = re.sub(r'\\([^)]*', '', text.strip())                #(s 제거\n",
    "    text = re.sub(r'\\*[^)]*', '', text.strip())                #*s 제거\n",
    "    text = re.sub(r'\\&[^)]*', '', text.strip())                #&s 제거\n",
    "    text = re.sub(' +', ' ', text.strip())                     #공백,탭 제거\n",
    "    text = re.sub(r'쌀밥/잡곡밥', '쌀밥', text.strip())         # /s 제거        \n",
    "    tot_list.append(text)\n",
    "print(tot_list)    "
   ]
  },
  {
   "cell_type": "code",
   "execution_count": null,
   "id": "76c60547-840f-4ccb-becb-c1d257d027ce",
   "metadata": {},
   "outputs": [],
   "source": []
  }
 ],
 "metadata": {
  "kernelspec": {
   "display_name": "Python 3 (ipykernel)",
   "language": "python",
   "name": "python3"
  },
  "language_info": {
   "codemirror_mode": {
    "name": "ipython",
    "version": 3
   },
   "file_extension": ".py",
   "mimetype": "text/x-python",
   "name": "python",
   "nbconvert_exporter": "python",
   "pygments_lexer": "ipython3",
   "version": "3.8.8"
  },
  "toc-autonumbering": true
 },
 "nbformat": 4,
 "nbformat_minor": 5
}
