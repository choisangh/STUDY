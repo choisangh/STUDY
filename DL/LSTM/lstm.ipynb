{
 "cells": [
  {
   "cell_type": "markdown",
   "id": "a7056016-6aba-4ce7-bb70-d44432e40982",
   "metadata": {},
   "source": [
    "<font size=6><b>Lec06.LSTM을 활용한 주가 예측"
   ]
  },
  {
   "cell_type": "markdown",
   "id": "5fa3e64a-217a-40e4-bb87-4c04fe720166",
   "metadata": {
    "tags": []
   },
   "source": [
    "# 주가 데이터 가져오기"
   ]
  },
  {
   "cell_type": "markdown",
   "id": "ee724a01-64c4-4d4a-91f0-4bbe7a1bf626",
   "metadata": {},
   "source": [
    "## 야후 파이넨셜(Yahoo! Finance's API)\n",
    "* ref : https://pypi.org/project/yfinance/"
   ]
  },
  {
   "cell_type": "code",
   "execution_count": 1,
   "id": "4658bced-2c57-4f6d-a6fe-8d1461989692",
   "metadata": {},
   "outputs": [],
   "source": [
    "# ! pip install yfinance "
   ]
  },
  {
   "cell_type": "code",
   "execution_count": 2,
   "id": "d9a59432-78b4-46ed-9602-b1199aacd9d0",
   "metadata": {},
   "outputs": [
    {
     "name": "stdout",
     "output_type": "stream",
     "text": [
      "[*********************100%***********************]  2 of 2 completed\n"
     ]
    },
    {
     "data": {
      "text/html": [
       "<div>\n",
       "<style scoped>\n",
       "    .dataframe tbody tr th:only-of-type {\n",
       "        vertical-align: middle;\n",
       "    }\n",
       "\n",
       "    .dataframe tbody tr th {\n",
       "        vertical-align: top;\n",
       "    }\n",
       "\n",
       "    .dataframe thead tr th {\n",
       "        text-align: left;\n",
       "    }\n",
       "\n",
       "    .dataframe thead tr:last-of-type th {\n",
       "        text-align: right;\n",
       "    }\n",
       "</style>\n",
       "<table border=\"1\" class=\"dataframe\">\n",
       "  <thead>\n",
       "    <tr>\n",
       "      <th></th>\n",
       "      <th colspan=\"2\" halign=\"left\">Adj Close</th>\n",
       "      <th colspan=\"2\" halign=\"left\">Close</th>\n",
       "      <th colspan=\"2\" halign=\"left\">High</th>\n",
       "      <th colspan=\"2\" halign=\"left\">Low</th>\n",
       "      <th colspan=\"2\" halign=\"left\">Open</th>\n",
       "      <th colspan=\"2\" halign=\"left\">Volume</th>\n",
       "    </tr>\n",
       "    <tr>\n",
       "      <th></th>\n",
       "      <th>AAPL</th>\n",
       "      <th>SPY</th>\n",
       "      <th>AAPL</th>\n",
       "      <th>SPY</th>\n",
       "      <th>AAPL</th>\n",
       "      <th>SPY</th>\n",
       "      <th>AAPL</th>\n",
       "      <th>SPY</th>\n",
       "      <th>AAPL</th>\n",
       "      <th>SPY</th>\n",
       "      <th>AAPL</th>\n",
       "      <th>SPY</th>\n",
       "    </tr>\n",
       "    <tr>\n",
       "      <th>Date</th>\n",
       "      <th></th>\n",
       "      <th></th>\n",
       "      <th></th>\n",
       "      <th></th>\n",
       "      <th></th>\n",
       "      <th></th>\n",
       "      <th></th>\n",
       "      <th></th>\n",
       "      <th></th>\n",
       "      <th></th>\n",
       "      <th></th>\n",
       "      <th></th>\n",
       "    </tr>\n",
       "  </thead>\n",
       "  <tbody>\n",
       "    <tr>\n",
       "      <th>2017-01-03</th>\n",
       "      <td>27.297695</td>\n",
       "      <td>206.147537</td>\n",
       "      <td>29.037500</td>\n",
       "      <td>225.240005</td>\n",
       "      <td>29.082500</td>\n",
       "      <td>225.830002</td>\n",
       "      <td>28.690001</td>\n",
       "      <td>223.880005</td>\n",
       "      <td>28.950001</td>\n",
       "      <td>225.039993</td>\n",
       "      <td>115127600</td>\n",
       "      <td>91366500</td>\n",
       "    </tr>\n",
       "    <tr>\n",
       "      <th>2017-01-04</th>\n",
       "      <td>27.267138</td>\n",
       "      <td>207.373962</td>\n",
       "      <td>29.004999</td>\n",
       "      <td>226.580002</td>\n",
       "      <td>29.127501</td>\n",
       "      <td>226.750000</td>\n",
       "      <td>28.937500</td>\n",
       "      <td>225.610001</td>\n",
       "      <td>28.962500</td>\n",
       "      <td>225.619995</td>\n",
       "      <td>84472400</td>\n",
       "      <td>78744400</td>\n",
       "    </tr>\n",
       "    <tr>\n",
       "      <th>2017-01-05</th>\n",
       "      <td>27.405804</td>\n",
       "      <td>207.209229</td>\n",
       "      <td>29.152500</td>\n",
       "      <td>226.399994</td>\n",
       "      <td>29.215000</td>\n",
       "      <td>226.580002</td>\n",
       "      <td>28.952499</td>\n",
       "      <td>225.479996</td>\n",
       "      <td>28.980000</td>\n",
       "      <td>226.270004</td>\n",
       "      <td>88774400</td>\n",
       "      <td>78379000</td>\n",
       "    </tr>\n",
       "    <tr>\n",
       "      <th>2017-01-06</th>\n",
       "      <td>27.711330</td>\n",
       "      <td>207.950562</td>\n",
       "      <td>29.477501</td>\n",
       "      <td>227.210007</td>\n",
       "      <td>29.540001</td>\n",
       "      <td>227.750000</td>\n",
       "      <td>29.117500</td>\n",
       "      <td>225.899994</td>\n",
       "      <td>29.195000</td>\n",
       "      <td>226.529999</td>\n",
       "      <td>127007600</td>\n",
       "      <td>71559900</td>\n",
       "    </tr>\n",
       "    <tr>\n",
       "      <th>2017-01-09</th>\n",
       "      <td>27.965149</td>\n",
       "      <td>207.264145</td>\n",
       "      <td>29.747499</td>\n",
       "      <td>226.460007</td>\n",
       "      <td>29.857500</td>\n",
       "      <td>227.070007</td>\n",
       "      <td>29.485001</td>\n",
       "      <td>226.419998</td>\n",
       "      <td>29.487499</td>\n",
       "      <td>226.910004</td>\n",
       "      <td>134247600</td>\n",
       "      <td>46939700</td>\n",
       "    </tr>\n",
       "  </tbody>\n",
       "</table>\n",
       "</div>"
      ],
      "text/plain": [
       "            Adj Close                  Close                   High  \\\n",
       "                 AAPL         SPY       AAPL         SPY       AAPL   \n",
       "Date                                                                  \n",
       "2017-01-03  27.297695  206.147537  29.037500  225.240005  29.082500   \n",
       "2017-01-04  27.267138  207.373962  29.004999  226.580002  29.127501   \n",
       "2017-01-05  27.405804  207.209229  29.152500  226.399994  29.215000   \n",
       "2017-01-06  27.711330  207.950562  29.477501  227.210007  29.540001   \n",
       "2017-01-09  27.965149  207.264145  29.747499  226.460007  29.857500   \n",
       "\n",
       "                              Low                   Open              \\\n",
       "                   SPY       AAPL         SPY       AAPL         SPY   \n",
       "Date                                                                   \n",
       "2017-01-03  225.830002  28.690001  223.880005  28.950001  225.039993   \n",
       "2017-01-04  226.750000  28.937500  225.610001  28.962500  225.619995   \n",
       "2017-01-05  226.580002  28.952499  225.479996  28.980000  226.270004   \n",
       "2017-01-06  227.750000  29.117500  225.899994  29.195000  226.529999   \n",
       "2017-01-09  227.070007  29.485001  226.419998  29.487499  226.910004   \n",
       "\n",
       "               Volume            \n",
       "                 AAPL       SPY  \n",
       "Date                             \n",
       "2017-01-03  115127600  91366500  \n",
       "2017-01-04   84472400  78744400  \n",
       "2017-01-05   88774400  78379000  \n",
       "2017-01-06  127007600  71559900  \n",
       "2017-01-09  134247600  46939700  "
      ]
     },
     "execution_count": 2,
     "metadata": {},
     "output_type": "execute_result"
    }
   ],
   "source": [
    "from pandas_datareader import data as pdr\n",
    "\n",
    "import yfinance as yf\n",
    "yf.pdr_override() # <== that's all it takes :-)\n",
    "\n",
    "data = yf.download(\"SPY AAPL\", start=\"2017-01-01\", end=\"2017-04-30\")\n",
    "data.head()"
   ]
  },
  {
   "cell_type": "markdown",
   "id": "dd24f5fe-da71-4f24-915a-8c7a7b3dd055",
   "metadata": {},
   "source": [
    "## pandas-datareader\n",
    "* ref : https://pandas-datareader.readthedocs.io/en/latest/"
   ]
  },
  {
   "cell_type": "code",
   "execution_count": 3,
   "id": "ad9a839e-3566-41e8-92b8-f543ddab3fd9",
   "metadata": {},
   "outputs": [],
   "source": [
    "# ! pip install pandas-datareader"
   ]
  },
  {
   "cell_type": "code",
   "execution_count": 4,
   "id": "79ba089a-79e8-4068-9460-1e666f45ca20",
   "metadata": {},
   "outputs": [
    {
     "name": "stdout",
     "output_type": "stream",
     "text": [
      "[*********************100%***********************]  1 of 1 completed\n"
     ]
    },
    {
     "data": {
      "text/html": [
       "<div>\n",
       "<style scoped>\n",
       "    .dataframe tbody tr th:only-of-type {\n",
       "        vertical-align: middle;\n",
       "    }\n",
       "\n",
       "    .dataframe tbody tr th {\n",
       "        vertical-align: top;\n",
       "    }\n",
       "\n",
       "    .dataframe thead th {\n",
       "        text-align: right;\n",
       "    }\n",
       "</style>\n",
       "<table border=\"1\" class=\"dataframe\">\n",
       "  <thead>\n",
       "    <tr style=\"text-align: right;\">\n",
       "      <th></th>\n",
       "      <th>Open</th>\n",
       "      <th>High</th>\n",
       "      <th>Low</th>\n",
       "      <th>Close</th>\n",
       "      <th>Adj Close</th>\n",
       "      <th>Volume</th>\n",
       "    </tr>\n",
       "    <tr>\n",
       "      <th>Date</th>\n",
       "      <th></th>\n",
       "      <th></th>\n",
       "      <th></th>\n",
       "      <th></th>\n",
       "      <th></th>\n",
       "      <th></th>\n",
       "    </tr>\n",
       "  </thead>\n",
       "  <tbody>\n",
       "    <tr>\n",
       "      <th>2017-01-03</th>\n",
       "      <td>225.039993</td>\n",
       "      <td>225.830002</td>\n",
       "      <td>223.880005</td>\n",
       "      <td>225.240005</td>\n",
       "      <td>206.147552</td>\n",
       "      <td>91366500</td>\n",
       "    </tr>\n",
       "    <tr>\n",
       "      <th>2017-01-04</th>\n",
       "      <td>225.619995</td>\n",
       "      <td>226.750000</td>\n",
       "      <td>225.610001</td>\n",
       "      <td>226.580002</td>\n",
       "      <td>207.373947</td>\n",
       "      <td>78744400</td>\n",
       "    </tr>\n",
       "    <tr>\n",
       "      <th>2017-01-05</th>\n",
       "      <td>226.270004</td>\n",
       "      <td>226.580002</td>\n",
       "      <td>225.479996</td>\n",
       "      <td>226.399994</td>\n",
       "      <td>207.209213</td>\n",
       "      <td>78379000</td>\n",
       "    </tr>\n",
       "    <tr>\n",
       "      <th>2017-01-06</th>\n",
       "      <td>226.529999</td>\n",
       "      <td>227.750000</td>\n",
       "      <td>225.899994</td>\n",
       "      <td>227.210007</td>\n",
       "      <td>207.950546</td>\n",
       "      <td>71559900</td>\n",
       "    </tr>\n",
       "    <tr>\n",
       "      <th>2017-01-09</th>\n",
       "      <td>226.910004</td>\n",
       "      <td>227.070007</td>\n",
       "      <td>226.419998</td>\n",
       "      <td>226.460007</td>\n",
       "      <td>207.264145</td>\n",
       "      <td>46939700</td>\n",
       "    </tr>\n",
       "  </tbody>\n",
       "</table>\n",
       "</div>"
      ],
      "text/plain": [
       "                  Open        High         Low       Close   Adj Close  \\\n",
       "Date                                                                     \n",
       "2017-01-03  225.039993  225.830002  223.880005  225.240005  206.147552   \n",
       "2017-01-04  225.619995  226.750000  225.610001  226.580002  207.373947   \n",
       "2017-01-05  226.270004  226.580002  225.479996  226.399994  207.209213   \n",
       "2017-01-06  226.529999  227.750000  225.899994  227.210007  207.950546   \n",
       "2017-01-09  226.910004  227.070007  226.419998  226.460007  207.264145   \n",
       "\n",
       "              Volume  \n",
       "Date                  \n",
       "2017-01-03  91366500  \n",
       "2017-01-04  78744400  \n",
       "2017-01-05  78379000  \n",
       "2017-01-06  71559900  \n",
       "2017-01-09  46939700  "
      ]
     },
     "execution_count": 4,
     "metadata": {},
     "output_type": "execute_result"
    }
   ],
   "source": [
    "# download dataframe\n",
    "data = pdr.get_data_yahoo(\"SPY\", start=\"2017-01-01\", end=\"2017-04-30\")\n",
    "data.head()"
   ]
  },
  {
   "cell_type": "markdown",
   "id": "903c0176-5eee-4352-a4c5-3bfc4ad6165a",
   "metadata": {},
   "source": [
    "## FinanceDatareader\n",
    "* ref : https://github.com/FinanceData/FinanceDataReader"
   ]
  },
  {
   "cell_type": "code",
   "execution_count": 5,
   "id": "14a25a52-e141-433a-8548-6afc9e867acf",
   "metadata": {},
   "outputs": [],
   "source": [
    "# ! pip install finance-datareader"
   ]
  },
  {
   "cell_type": "code",
   "execution_count": 6,
   "id": "a28f3d94-b728-41dd-80bd-2be64762642d",
   "metadata": {},
   "outputs": [
    {
     "name": "stdout",
     "output_type": "stream",
     "text": [
      "(6000, 6)\n"
     ]
    },
    {
     "data": {
      "text/html": [
       "<div>\n",
       "<style scoped>\n",
       "    .dataframe tbody tr th:only-of-type {\n",
       "        vertical-align: middle;\n",
       "    }\n",
       "\n",
       "    .dataframe tbody tr th {\n",
       "        vertical-align: top;\n",
       "    }\n",
       "\n",
       "    .dataframe thead th {\n",
       "        text-align: right;\n",
       "    }\n",
       "</style>\n",
       "<table border=\"1\" class=\"dataframe\">\n",
       "  <thead>\n",
       "    <tr style=\"text-align: right;\">\n",
       "      <th></th>\n",
       "      <th>Open</th>\n",
       "      <th>High</th>\n",
       "      <th>Low</th>\n",
       "      <th>Close</th>\n",
       "      <th>Volume</th>\n",
       "      <th>Change</th>\n",
       "    </tr>\n",
       "    <tr>\n",
       "      <th>Date</th>\n",
       "      <th></th>\n",
       "      <th></th>\n",
       "      <th></th>\n",
       "      <th></th>\n",
       "      <th></th>\n",
       "      <th></th>\n",
       "    </tr>\n",
       "  </thead>\n",
       "  <tbody>\n",
       "    <tr>\n",
       "      <th>1998-01-21</th>\n",
       "      <td>1388</td>\n",
       "      <td>1388</td>\n",
       "      <td>1283</td>\n",
       "      <td>1320</td>\n",
       "      <td>1163080</td>\n",
       "      <td>NaN</td>\n",
       "    </tr>\n",
       "    <tr>\n",
       "      <th>1998-01-22</th>\n",
       "      <td>1307</td>\n",
       "      <td>1325</td>\n",
       "      <td>1214</td>\n",
       "      <td>1215</td>\n",
       "      <td>905730</td>\n",
       "      <td>-0.079545</td>\n",
       "    </tr>\n",
       "    <tr>\n",
       "      <th>1998-01-23</th>\n",
       "      <td>1234</td>\n",
       "      <td>1263</td>\n",
       "      <td>1200</td>\n",
       "      <td>1262</td>\n",
       "      <td>616720</td>\n",
       "      <td>0.038683</td>\n",
       "    </tr>\n",
       "    <tr>\n",
       "      <th>1998-01-24</th>\n",
       "      <td>1288</td>\n",
       "      <td>1361</td>\n",
       "      <td>1270</td>\n",
       "      <td>1362</td>\n",
       "      <td>467950</td>\n",
       "      <td>0.079239</td>\n",
       "    </tr>\n",
       "    <tr>\n",
       "      <th>1998-01-26</th>\n",
       "      <td>1377</td>\n",
       "      <td>1468</td>\n",
       "      <td>1377</td>\n",
       "      <td>1461</td>\n",
       "      <td>1244670</td>\n",
       "      <td>0.072687</td>\n",
       "    </tr>\n",
       "  </tbody>\n",
       "</table>\n",
       "</div>"
      ],
      "text/plain": [
       "            Open  High   Low  Close   Volume    Change\n",
       "Date                                                  \n",
       "1998-01-21  1388  1388  1283   1320  1163080       NaN\n",
       "1998-01-22  1307  1325  1214   1215   905730 -0.079545\n",
       "1998-01-23  1234  1263  1200   1262   616720  0.038683\n",
       "1998-01-24  1288  1361  1270   1362   467950  0.079239\n",
       "1998-01-26  1377  1468  1377   1461  1244670  0.072687"
      ]
     },
     "execution_count": 6,
     "metadata": {},
     "output_type": "execute_result"
    }
   ],
   "source": [
    "import FinanceDataReader as fdr\n",
    "\n",
    "# 삼성전자(005930) 전체 (1996-11-05 ~ 현재)\n",
    "dfss = fdr.DataReader('005930') #,'1980-01-01', '2019-12-30'\n",
    "print(dfss.shape)\n",
    "dfss.head()"
   ]
  },
  {
   "cell_type": "code",
   "execution_count": 7,
   "id": "f23cde29-ecaf-464f-b4af-583756e9508e",
   "metadata": {},
   "outputs": [
    {
     "data": {
      "text/html": [
       "<div>\n",
       "<style scoped>\n",
       "    .dataframe tbody tr th:only-of-type {\n",
       "        vertical-align: middle;\n",
       "    }\n",
       "\n",
       "    .dataframe tbody tr th {\n",
       "        vertical-align: top;\n",
       "    }\n",
       "\n",
       "    .dataframe thead th {\n",
       "        text-align: right;\n",
       "    }\n",
       "</style>\n",
       "<table border=\"1\" class=\"dataframe\">\n",
       "  <thead>\n",
       "    <tr style=\"text-align: right;\">\n",
       "      <th></th>\n",
       "      <th>Symbol</th>\n",
       "      <th>Market</th>\n",
       "      <th>Name</th>\n",
       "      <th>Sector</th>\n",
       "      <th>Industry</th>\n",
       "      <th>ListingDate</th>\n",
       "      <th>SettleMonth</th>\n",
       "      <th>Representative</th>\n",
       "      <th>HomePage</th>\n",
       "      <th>Region</th>\n",
       "    </tr>\n",
       "  </thead>\n",
       "  <tbody>\n",
       "    <tr>\n",
       "      <th>0</th>\n",
       "      <td>060310</td>\n",
       "      <td>KOSDAQ</td>\n",
       "      <td>3S</td>\n",
       "      <td>전자부품 제조업</td>\n",
       "      <td>반도체 웨이퍼 캐리어</td>\n",
       "      <td>2002-04-23</td>\n",
       "      <td>03월</td>\n",
       "      <td>김세완</td>\n",
       "      <td>http://www.3sref.com</td>\n",
       "      <td>서울특별시</td>\n",
       "    </tr>\n",
       "    <tr>\n",
       "      <th>3</th>\n",
       "      <td>054620</td>\n",
       "      <td>KOSDAQ</td>\n",
       "      <td>APS홀딩스</td>\n",
       "      <td>기타 금융업</td>\n",
       "      <td>인터넷 트래픽 솔루션</td>\n",
       "      <td>2001-12-04</td>\n",
       "      <td>12월</td>\n",
       "      <td>정기로</td>\n",
       "      <td>http://www.apsholdings.co.kr</td>\n",
       "      <td>경기도</td>\n",
       "    </tr>\n",
       "  </tbody>\n",
       "</table>\n",
       "</div>"
      ],
      "text/plain": [
       "   Symbol  Market    Name    Sector     Industry ListingDate SettleMonth  \\\n",
       "0  060310  KOSDAQ      3S  전자부품 제조업  반도체 웨이퍼 캐리어  2002-04-23         03월   \n",
       "3  054620  KOSDAQ  APS홀딩스    기타 금융업  인터넷 트래픽 솔루션  2001-12-04         12월   \n",
       "\n",
       "  Representative                      HomePage Region  \n",
       "0            김세완          http://www.3sref.com  서울특별시  \n",
       "3            정기로  http://www.apsholdings.co.kr    경기도  "
      ]
     },
     "execution_count": 7,
     "metadata": {},
     "output_type": "execute_result"
    }
   ],
   "source": [
    "stocks = fdr.StockListing('KOSDAQ') \n",
    "stocks.head(2)"
   ]
  },
  {
   "cell_type": "code",
   "execution_count": 8,
   "id": "5f0d36dd-b6fe-4ddc-99d2-a31b63fdf760",
   "metadata": {},
   "outputs": [
    {
     "data": {
      "text/html": [
       "\n",
       "    <div class=\"bk-root\">\n",
       "        <a href=\"https://bokeh.org\" target=\"_blank\" class=\"bk-logo bk-logo-small bk-logo-notebook\"></a>\n",
       "        <span id=\"1002\">Loading BokehJS ...</span>\n",
       "    </div>"
      ]
     },
     "metadata": {},
     "output_type": "display_data"
    },
    {
     "data": {
      "application/javascript": [
       "\n",
       "(function(root) {\n",
       "  function now() {\n",
       "    return new Date();\n",
       "  }\n",
       "\n",
       "  const force = true;\n",
       "\n",
       "  if (typeof root._bokeh_onload_callbacks === \"undefined\" || force === true) {\n",
       "    root._bokeh_onload_callbacks = [];\n",
       "    root._bokeh_is_loading = undefined;\n",
       "  }\n",
       "\n",
       "  const JS_MIME_TYPE = 'application/javascript';\n",
       "  const HTML_MIME_TYPE = 'text/html';\n",
       "  const EXEC_MIME_TYPE = 'application/vnd.bokehjs_exec.v0+json';\n",
       "  const CLASS_NAME = 'output_bokeh rendered_html';\n",
       "\n",
       "  /**\n",
       "   * Render data to the DOM node\n",
       "   */\n",
       "  function render(props, node) {\n",
       "    const script = document.createElement(\"script\");\n",
       "    node.appendChild(script);\n",
       "  }\n",
       "\n",
       "  /**\n",
       "   * Handle when an output is cleared or removed\n",
       "   */\n",
       "  function handleClearOutput(event, handle) {\n",
       "    const cell = handle.cell;\n",
       "\n",
       "    const id = cell.output_area._bokeh_element_id;\n",
       "    const server_id = cell.output_area._bokeh_server_id;\n",
       "    // Clean up Bokeh references\n",
       "    if (id != null && id in Bokeh.index) {\n",
       "      Bokeh.index[id].model.document.clear();\n",
       "      delete Bokeh.index[id];\n",
       "    }\n",
       "\n",
       "    if (server_id !== undefined) {\n",
       "      // Clean up Bokeh references\n",
       "      const cmd_clean = \"from bokeh.io.state import curstate; print(curstate().uuid_to_server['\" + server_id + \"'].get_sessions()[0].document.roots[0]._id)\";\n",
       "      cell.notebook.kernel.execute(cmd_clean, {\n",
       "        iopub: {\n",
       "          output: function(msg) {\n",
       "            const id = msg.content.text.trim();\n",
       "            if (id in Bokeh.index) {\n",
       "              Bokeh.index[id].model.document.clear();\n",
       "              delete Bokeh.index[id];\n",
       "            }\n",
       "          }\n",
       "        }\n",
       "      });\n",
       "      // Destroy server and session\n",
       "      const cmd_destroy = \"import bokeh.io.notebook as ion; ion.destroy_server('\" + server_id + \"')\";\n",
       "      cell.notebook.kernel.execute(cmd_destroy);\n",
       "    }\n",
       "  }\n",
       "\n",
       "  /**\n",
       "   * Handle when a new output is added\n",
       "   */\n",
       "  function handleAddOutput(event, handle) {\n",
       "    const output_area = handle.output_area;\n",
       "    const output = handle.output;\n",
       "\n",
       "    // limit handleAddOutput to display_data with EXEC_MIME_TYPE content only\n",
       "    if ((output.output_type != \"display_data\") || (!Object.prototype.hasOwnProperty.call(output.data, EXEC_MIME_TYPE))) {\n",
       "      return\n",
       "    }\n",
       "\n",
       "    const toinsert = output_area.element.find(\".\" + CLASS_NAME.split(' ')[0]);\n",
       "\n",
       "    if (output.metadata[EXEC_MIME_TYPE][\"id\"] !== undefined) {\n",
       "      toinsert[toinsert.length - 1].firstChild.textContent = output.data[JS_MIME_TYPE];\n",
       "      // store reference to embed id on output_area\n",
       "      output_area._bokeh_element_id = output.metadata[EXEC_MIME_TYPE][\"id\"];\n",
       "    }\n",
       "    if (output.metadata[EXEC_MIME_TYPE][\"server_id\"] !== undefined) {\n",
       "      const bk_div = document.createElement(\"div\");\n",
       "      bk_div.innerHTML = output.data[HTML_MIME_TYPE];\n",
       "      const script_attrs = bk_div.children[0].attributes;\n",
       "      for (let i = 0; i < script_attrs.length; i++) {\n",
       "        toinsert[toinsert.length - 1].firstChild.setAttribute(script_attrs[i].name, script_attrs[i].value);\n",
       "        toinsert[toinsert.length - 1].firstChild.textContent = bk_div.children[0].textContent\n",
       "      }\n",
       "      // store reference to server id on output_area\n",
       "      output_area._bokeh_server_id = output.metadata[EXEC_MIME_TYPE][\"server_id\"];\n",
       "    }\n",
       "  }\n",
       "\n",
       "  function register_renderer(events, OutputArea) {\n",
       "\n",
       "    function append_mime(data, metadata, element) {\n",
       "      // create a DOM node to render to\n",
       "      const toinsert = this.create_output_subarea(\n",
       "        metadata,\n",
       "        CLASS_NAME,\n",
       "        EXEC_MIME_TYPE\n",
       "      );\n",
       "      this.keyboard_manager.register_events(toinsert);\n",
       "      // Render to node\n",
       "      const props = {data: data, metadata: metadata[EXEC_MIME_TYPE]};\n",
       "      render(props, toinsert[toinsert.length - 1]);\n",
       "      element.append(toinsert);\n",
       "      return toinsert\n",
       "    }\n",
       "\n",
       "    /* Handle when an output is cleared or removed */\n",
       "    events.on('clear_output.CodeCell', handleClearOutput);\n",
       "    events.on('delete.Cell', handleClearOutput);\n",
       "\n",
       "    /* Handle when a new output is added */\n",
       "    events.on('output_added.OutputArea', handleAddOutput);\n",
       "\n",
       "    /**\n",
       "     * Register the mime type and append_mime function with output_area\n",
       "     */\n",
       "    OutputArea.prototype.register_mime_type(EXEC_MIME_TYPE, append_mime, {\n",
       "      /* Is output safe? */\n",
       "      safe: true,\n",
       "      /* Index of renderer in `output_area.display_order` */\n",
       "      index: 0\n",
       "    });\n",
       "  }\n",
       "\n",
       "  // register the mime type if in Jupyter Notebook environment and previously unregistered\n",
       "  if (root.Jupyter !== undefined) {\n",
       "    const events = require('base/js/events');\n",
       "    const OutputArea = require('notebook/js/outputarea').OutputArea;\n",
       "\n",
       "    if (OutputArea.prototype.mime_types().indexOf(EXEC_MIME_TYPE) == -1) {\n",
       "      register_renderer(events, OutputArea);\n",
       "    }\n",
       "  }\n",
       "\n",
       "  \n",
       "  if (typeof (root._bokeh_timeout) === \"undefined\" || force === true) {\n",
       "    root._bokeh_timeout = Date.now() + 5000;\n",
       "    root._bokeh_failed_load = false;\n",
       "  }\n",
       "\n",
       "  const NB_LOAD_WARNING = {'data': {'text/html':\n",
       "     \"<div style='background-color: #fdd'>\\n\"+\n",
       "     \"<p>\\n\"+\n",
       "     \"BokehJS does not appear to have successfully loaded. If loading BokehJS from CDN, this \\n\"+\n",
       "     \"may be due to a slow or bad network connection. Possible fixes:\\n\"+\n",
       "     \"</p>\\n\"+\n",
       "     \"<ul>\\n\"+\n",
       "     \"<li>re-rerun `output_notebook()` to attempt to load from CDN again, or</li>\\n\"+\n",
       "     \"<li>use INLINE resources instead, as so:</li>\\n\"+\n",
       "     \"</ul>\\n\"+\n",
       "     \"<code>\\n\"+\n",
       "     \"from bokeh.resources import INLINE\\n\"+\n",
       "     \"output_notebook(resources=INLINE)\\n\"+\n",
       "     \"</code>\\n\"+\n",
       "     \"</div>\"}};\n",
       "\n",
       "  function display_loaded() {\n",
       "    const el = document.getElementById(\"1002\");\n",
       "    if (el != null) {\n",
       "      el.textContent = \"BokehJS is loading...\";\n",
       "    }\n",
       "    if (root.Bokeh !== undefined) {\n",
       "      if (el != null) {\n",
       "        el.textContent = \"BokehJS \" + root.Bokeh.version + \" successfully loaded.\";\n",
       "      }\n",
       "    } else if (Date.now() < root._bokeh_timeout) {\n",
       "      setTimeout(display_loaded, 100)\n",
       "    }\n",
       "  }\n",
       "\n",
       "\n",
       "  function run_callbacks() {\n",
       "    try {\n",
       "      root._bokeh_onload_callbacks.forEach(function(callback) {\n",
       "        if (callback != null)\n",
       "          callback();\n",
       "      });\n",
       "    } finally {\n",
       "      delete root._bokeh_onload_callbacks\n",
       "    }\n",
       "    console.debug(\"Bokeh: all callbacks have finished\");\n",
       "  }\n",
       "\n",
       "  function load_libs(css_urls, js_urls, callback) {\n",
       "    if (css_urls == null) css_urls = [];\n",
       "    if (js_urls == null) js_urls = [];\n",
       "\n",
       "    root._bokeh_onload_callbacks.push(callback);\n",
       "    if (root._bokeh_is_loading > 0) {\n",
       "      console.debug(\"Bokeh: BokehJS is being loaded, scheduling callback at\", now());\n",
       "      return null;\n",
       "    }\n",
       "    if (js_urls == null || js_urls.length === 0) {\n",
       "      run_callbacks();\n",
       "      return null;\n",
       "    }\n",
       "    console.debug(\"Bokeh: BokehJS not loaded, scheduling load and callback at\", now());\n",
       "    root._bokeh_is_loading = css_urls.length + js_urls.length;\n",
       "\n",
       "    function on_load() {\n",
       "      root._bokeh_is_loading--;\n",
       "      if (root._bokeh_is_loading === 0) {\n",
       "        console.debug(\"Bokeh: all BokehJS libraries/stylesheets loaded\");\n",
       "        run_callbacks()\n",
       "      }\n",
       "    }\n",
       "\n",
       "    function on_error(url) {\n",
       "      console.error(\"failed to load \" + url);\n",
       "    }\n",
       "\n",
       "    for (let i = 0; i < css_urls.length; i++) {\n",
       "      const url = css_urls[i];\n",
       "      const element = document.createElement(\"link\");\n",
       "      element.onload = on_load;\n",
       "      element.onerror = on_error.bind(null, url);\n",
       "      element.rel = \"stylesheet\";\n",
       "      element.type = \"text/css\";\n",
       "      element.href = url;\n",
       "      console.debug(\"Bokeh: injecting link tag for BokehJS stylesheet: \", url);\n",
       "      document.body.appendChild(element);\n",
       "    }\n",
       "\n",
       "    for (let i = 0; i < js_urls.length; i++) {\n",
       "      const url = js_urls[i];\n",
       "      const element = document.createElement('script');\n",
       "      element.onload = on_load;\n",
       "      element.onerror = on_error.bind(null, url);\n",
       "      element.async = false;\n",
       "      element.src = url;\n",
       "      console.debug(\"Bokeh: injecting script tag for BokehJS library: \", url);\n",
       "      document.head.appendChild(element);\n",
       "    }\n",
       "  };\n",
       "\n",
       "  function inject_raw_css(css) {\n",
       "    const element = document.createElement(\"style\");\n",
       "    element.appendChild(document.createTextNode(css));\n",
       "    document.body.appendChild(element);\n",
       "  }\n",
       "\n",
       "  \n",
       "  const js_urls = [\"https://cdn.bokeh.org/bokeh/release/bokeh-2.4.2.min.js\", \"https://cdn.bokeh.org/bokeh/release/bokeh-gl-2.4.2.min.js\", \"https://cdn.bokeh.org/bokeh/release/bokeh-widgets-2.4.2.min.js\", \"https://cdn.bokeh.org/bokeh/release/bokeh-tables-2.4.2.min.js\", \"https://cdn.bokeh.org/bokeh/release/bokeh-mathjax-2.4.2.min.js\"];\n",
       "  const css_urls = [];\n",
       "  \n",
       "\n",
       "  const inline_js = [\n",
       "    function(Bokeh) {\n",
       "      Bokeh.set_log_level(\"info\");\n",
       "    },\n",
       "    function(Bokeh) {\n",
       "    \n",
       "    \n",
       "    }\n",
       "  ];\n",
       "\n",
       "  function run_inline_js() {\n",
       "    \n",
       "    if (root.Bokeh !== undefined || force === true) {\n",
       "      \n",
       "    for (let i = 0; i < inline_js.length; i++) {\n",
       "      inline_js[i].call(root, root.Bokeh);\n",
       "    }\n",
       "    if (force === true) {\n",
       "        display_loaded();\n",
       "      }} else if (Date.now() < root._bokeh_timeout) {\n",
       "      setTimeout(run_inline_js, 100);\n",
       "    } else if (!root._bokeh_failed_load) {\n",
       "      console.log(\"Bokeh: BokehJS failed to load within specified timeout.\");\n",
       "      root._bokeh_failed_load = true;\n",
       "    } else if (force !== true) {\n",
       "      const cell = $(document.getElementById(\"1002\")).parents('.cell').data().cell;\n",
       "      cell.output_area.append_execute_result(NB_LOAD_WARNING)\n",
       "    }\n",
       "\n",
       "  }\n",
       "\n",
       "  if (root._bokeh_is_loading === 0) {\n",
       "    console.debug(\"Bokeh: BokehJS loaded, going straight to plotting\");\n",
       "    run_inline_js();\n",
       "  } else {\n",
       "    load_libs(css_urls, js_urls, function() {\n",
       "      console.debug(\"Bokeh: BokehJS plotting callback run at\", now());\n",
       "      run_inline_js();\n",
       "    });\n",
       "  }\n",
       "}(window));"
      ],
      "application/vnd.bokehjs_load.v0+json": "\n(function(root) {\n  function now() {\n    return new Date();\n  }\n\n  const force = true;\n\n  if (typeof root._bokeh_onload_callbacks === \"undefined\" || force === true) {\n    root._bokeh_onload_callbacks = [];\n    root._bokeh_is_loading = undefined;\n  }\n\n  \n\n  \n  if (typeof (root._bokeh_timeout) === \"undefined\" || force === true) {\n    root._bokeh_timeout = Date.now() + 5000;\n    root._bokeh_failed_load = false;\n  }\n\n  const NB_LOAD_WARNING = {'data': {'text/html':\n     \"<div style='background-color: #fdd'>\\n\"+\n     \"<p>\\n\"+\n     \"BokehJS does not appear to have successfully loaded. If loading BokehJS from CDN, this \\n\"+\n     \"may be due to a slow or bad network connection. Possible fixes:\\n\"+\n     \"</p>\\n\"+\n     \"<ul>\\n\"+\n     \"<li>re-rerun `output_notebook()` to attempt to load from CDN again, or</li>\\n\"+\n     \"<li>use INLINE resources instead, as so:</li>\\n\"+\n     \"</ul>\\n\"+\n     \"<code>\\n\"+\n     \"from bokeh.resources import INLINE\\n\"+\n     \"output_notebook(resources=INLINE)\\n\"+\n     \"</code>\\n\"+\n     \"</div>\"}};\n\n  function display_loaded() {\n    const el = document.getElementById(\"1002\");\n    if (el != null) {\n      el.textContent = \"BokehJS is loading...\";\n    }\n    if (root.Bokeh !== undefined) {\n      if (el != null) {\n        el.textContent = \"BokehJS \" + root.Bokeh.version + \" successfully loaded.\";\n      }\n    } else if (Date.now() < root._bokeh_timeout) {\n      setTimeout(display_loaded, 100)\n    }\n  }\n\n\n  function run_callbacks() {\n    try {\n      root._bokeh_onload_callbacks.forEach(function(callback) {\n        if (callback != null)\n          callback();\n      });\n    } finally {\n      delete root._bokeh_onload_callbacks\n    }\n    console.debug(\"Bokeh: all callbacks have finished\");\n  }\n\n  function load_libs(css_urls, js_urls, callback) {\n    if (css_urls == null) css_urls = [];\n    if (js_urls == null) js_urls = [];\n\n    root._bokeh_onload_callbacks.push(callback);\n    if (root._bokeh_is_loading > 0) {\n      console.debug(\"Bokeh: BokehJS is being loaded, scheduling callback at\", now());\n      return null;\n    }\n    if (js_urls == null || js_urls.length === 0) {\n      run_callbacks();\n      return null;\n    }\n    console.debug(\"Bokeh: BokehJS not loaded, scheduling load and callback at\", now());\n    root._bokeh_is_loading = css_urls.length + js_urls.length;\n\n    function on_load() {\n      root._bokeh_is_loading--;\n      if (root._bokeh_is_loading === 0) {\n        console.debug(\"Bokeh: all BokehJS libraries/stylesheets loaded\");\n        run_callbacks()\n      }\n    }\n\n    function on_error(url) {\n      console.error(\"failed to load \" + url);\n    }\n\n    for (let i = 0; i < css_urls.length; i++) {\n      const url = css_urls[i];\n      const element = document.createElement(\"link\");\n      element.onload = on_load;\n      element.onerror = on_error.bind(null, url);\n      element.rel = \"stylesheet\";\n      element.type = \"text/css\";\n      element.href = url;\n      console.debug(\"Bokeh: injecting link tag for BokehJS stylesheet: \", url);\n      document.body.appendChild(element);\n    }\n\n    for (let i = 0; i < js_urls.length; i++) {\n      const url = js_urls[i];\n      const element = document.createElement('script');\n      element.onload = on_load;\n      element.onerror = on_error.bind(null, url);\n      element.async = false;\n      element.src = url;\n      console.debug(\"Bokeh: injecting script tag for BokehJS library: \", url);\n      document.head.appendChild(element);\n    }\n  };\n\n  function inject_raw_css(css) {\n    const element = document.createElement(\"style\");\n    element.appendChild(document.createTextNode(css));\n    document.body.appendChild(element);\n  }\n\n  \n  const js_urls = [\"https://cdn.bokeh.org/bokeh/release/bokeh-2.4.2.min.js\", \"https://cdn.bokeh.org/bokeh/release/bokeh-gl-2.4.2.min.js\", \"https://cdn.bokeh.org/bokeh/release/bokeh-widgets-2.4.2.min.js\", \"https://cdn.bokeh.org/bokeh/release/bokeh-tables-2.4.2.min.js\", \"https://cdn.bokeh.org/bokeh/release/bokeh-mathjax-2.4.2.min.js\"];\n  const css_urls = [];\n  \n\n  const inline_js = [\n    function(Bokeh) {\n      Bokeh.set_log_level(\"info\");\n    },\n    function(Bokeh) {\n    \n    \n    }\n  ];\n\n  function run_inline_js() {\n    \n    if (root.Bokeh !== undefined || force === true) {\n      \n    for (let i = 0; i < inline_js.length; i++) {\n      inline_js[i].call(root, root.Bokeh);\n    }\n    if (force === true) {\n        display_loaded();\n      }} else if (Date.now() < root._bokeh_timeout) {\n      setTimeout(run_inline_js, 100);\n    } else if (!root._bokeh_failed_load) {\n      console.log(\"Bokeh: BokehJS failed to load within specified timeout.\");\n      root._bokeh_failed_load = true;\n    } else if (force !== true) {\n      const cell = $(document.getElementById(\"1002\")).parents('.cell').data().cell;\n      cell.output_area.append_execute_result(NB_LOAD_WARNING)\n    }\n\n  }\n\n  if (root._bokeh_is_loading === 0) {\n    console.debug(\"Bokeh: BokehJS loaded, going straight to plotting\");\n    run_inline_js();\n  } else {\n    load_libs(css_urls, js_urls, function() {\n      console.debug(\"Bokeh: BokehJS plotting callback run at\", now());\n      run_inline_js();\n    });\n  }\n}(window));"
     },
     "metadata": {},
     "output_type": "display_data"
    },
    {
     "data": {
      "text/html": [
       "\n",
       "\n",
       "\n",
       "\n",
       "\n",
       "\n",
       "  <div class=\"bk-root\" id=\"b061390a-503c-4bea-9a32-fdab31bd4e23\" data-root-id=\"1163\"></div>\n"
      ]
     },
     "metadata": {},
     "output_type": "display_data"
    },
    {
     "data": {
      "application/javascript": [
       "(function(root) {\n",
       "  function embed_document(root) {\n",
       "    \n",
       "  const docs_json = {\"e45e819b-af5a-4a47-8f34-156d6ebd0635\":{\"defs\":[],\"roots\":{\"references\":[{\"attributes\":{\"children\":[{\"id\":\"1162\"},{\"id\":\"1160\"}]},\"id\":\"1163\",\"type\":\"Column\"},{\"attributes\":{\"data\":{\"bottom\":[82200,89700,88000,85000,87200,86800,86700,85600,82000,84600,82500,83000,82700,81600],\"top\":[83300,89800,89800,86600,89000,89000,88800,86600,84500,84800,83500,83800,84000,82600],\"x\":{\"__ndarray__\":\"AgAAAAcAAAAJAAAACgAAAAwAAAAOAAAAEAAAABEAAAATAAAAFgAAABcAAAAZAAAAGgAAABsAAAA=\",\"dtype\":\"int32\",\"order\":\"little\",\"shape\":[14]}},\"selected\":{\"id\":\"1139\"},\"selection_policy\":{\"id\":\"1138\"}},\"id\":\"1054\",\"type\":\"ColumnDataSource\"},{\"attributes\":{\"bottom\":{\"field\":\"bottom\"},\"fill_alpha\":{\"value\":0.1},\"fill_color\":{\"value\":\"blue\"},\"hatch_alpha\":{\"value\":0.1},\"line_alpha\":{\"value\":0.1},\"line_color\":{\"value\":\"blue\"},\"top\":{\"field\":\"top\"},\"width\":{\"value\":0.8},\"x\":{\"field\":\"x\"}},\"id\":\"1056\",\"type\":\"VBar\"},{\"attributes\":{\"bottom\":{\"field\":\"bottom\"},\"fill_alpha\":{\"value\":0.2},\"fill_color\":{\"value\":\"blue\"},\"hatch_alpha\":{\"value\":0.2},\"line_alpha\":{\"value\":0.2},\"line_color\":{\"value\":\"blue\"},\"top\":{\"field\":\"top\"},\"width\":{\"value\":0.8},\"x\":{\"field\":\"x\"}},\"id\":\"1057\",\"type\":\"VBar\"},{\"attributes\":{},\"id\":\"1060\",\"type\":\"NumeralTickFormatter\"},{\"attributes\":{\"coordinates\":null,\"data_source\":{\"id\":\"1054\"},\"glyph\":{\"id\":\"1055\"},\"group\":null,\"hover_glyph\":null,\"muted_glyph\":{\"id\":\"1057\"},\"nonselection_glyph\":{\"id\":\"1056\"},\"view\":{\"id\":\"1059\"}},\"id\":\"1058\",\"type\":\"GlyphRenderer\"},{\"attributes\":{\"coordinates\":null,\"data_source\":{\"id\":\"1068\"},\"glyph\":{\"id\":\"1069\"},\"group\":null,\"hover_glyph\":null,\"muted_glyph\":{\"id\":\"1071\"},\"nonselection_glyph\":{\"id\":\"1070\"},\"view\":{\"id\":\"1073\"}},\"id\":\"1072\",\"type\":\"GlyphRenderer\"},{\"attributes\":{\"source\":{\"id\":\"1054\"}},\"id\":\"1059\",\"type\":\"CDSView\"},{\"attributes\":{\"line_color\":{\"value\":\"red\"},\"x0\":{\"field\":\"x0\"},\"x1\":{\"field\":\"x1\"},\"y0\":{\"field\":\"y0\"},\"y1\":{\"field\":\"y1\"}},\"id\":\"1037\",\"type\":\"Segment\"},{\"attributes\":{\"data\":{\"x0\":{\"__ndarray__\":\"AAAAAAEAAAADAAAABAAAAAUAAAAGAAAACAAAAAsAAAANAAAADwAAABIAAAAUAAAAFQAAABgAAAAcAAAA\",\"dtype\":\"int32\",\"order\":\"little\",\"shape\":[15]},\"x1\":{\"__ndarray__\":\"AAAAAAEAAAADAAAABAAAAAUAAAAGAAAACAAAAAsAAAANAAAADwAAABIAAAAUAAAAFQAAABgAAAAcAAAA\",\"dtype\":\"int32\",\"order\":\"little\",\"shape\":[15]},\"y0\":[84400,83900,84200,90000,96800,91400,90000,88000,88600,89900,85600,83400,86400,84000,84500],\"y1\":[80200,81600,82700,83000,89500,87800,88700,83600,86500,86300,83200,81000,83700,82500,83300]},\"selected\":{\"id\":\"1133\"},\"selection_policy\":{\"id\":\"1132\"}},\"id\":\"1036\",\"type\":\"ColumnDataSource\"},{\"attributes\":{\"line_alpha\":{\"value\":0.1},\"line_color\":{\"value\":\"red\"},\"x0\":{\"field\":\"x0\"},\"x1\":{\"field\":\"x1\"},\"y0\":{\"field\":\"y0\"},\"y1\":{\"field\":\"y1\"}},\"id\":\"1038\",\"type\":\"Segment\"},{\"attributes\":{\"coordinates\":null,\"data_source\":{\"id\":\"1036\"},\"glyph\":{\"id\":\"1037\"},\"group\":null,\"hover_glyph\":null,\"muted_glyph\":{\"id\":\"1039\"},\"nonselection_glyph\":{\"id\":\"1038\"},\"view\":{\"id\":\"1041\"}},\"id\":\"1040\",\"type\":\"GlyphRenderer\"},{\"attributes\":{\"coordinates\":null,\"data_source\":{\"id\":\"1062\"},\"glyph\":{\"id\":\"1063\"},\"group\":null,\"hover_glyph\":null,\"muted_glyph\":{\"id\":\"1065\"},\"nonselection_glyph\":{\"id\":\"1064\"},\"view\":{\"id\":\"1067\"}},\"id\":\"1066\",\"type\":\"GlyphRenderer\"},{\"attributes\":{\"source\":{\"id\":\"1036\"}},\"id\":\"1041\",\"type\":\"CDSView\"},{\"attributes\":{\"data\":{\"x\":{\"__ndarray__\":\"AAAAAAEAAAACAAAAAwAAAAQAAAAFAAAABgAAAAcAAAAIAAAACQAAAAoAAAALAAAADAAAAA0AAAAOAAAADwAAABAAAAARAAAAEgAAABMAAAAUAAAAFQAAABYAAAAXAAAAGAAAABkAAAAaAAAAGwAAABwAAAA=\",\"dtype\":\"int32\",\"order\":\"little\",\"shape\":[29]},\"y\":{\"__ndarray__\":\"AAAAAAAA+H8AAAAAAAD4fwAAAAAAAPh/AAAAAAAA+H8AAAAAAIz0QAAAAAAA8PRAAAAAAMBD9UAAAAAAgKH1QAAAAACA9vVAAAAAAIDs9UAAAAAAgKH1QAAAAACAdPVAAAAAAEBV9UAAAAAAQEH1QAAAAABAMvVAAAAAAEBp9UAAAAAAgGX1QAAAAACAUfVAAAAAAIAa9UAAAAAAgN70QAAAAACAjvRAAAAAAMBx9EAAAAAAQGX0QAAAAABAVvRAAAAAAABp9EAAAAAAAGn0QAAAAADAU/RAAAAAAEAu9EAAAAAAgEP0QA==\",\"dtype\":\"float64\",\"order\":\"little\",\"shape\":[29]}},\"selected\":{\"id\":\"1141\"},\"selection_policy\":{\"id\":\"1140\"}},\"id\":\"1062\",\"type\":\"ColumnDataSource\"},{\"attributes\":{\"line_color\":\"#1f77b4\",\"x\":{\"field\":\"x\"},\"y\":{\"field\":\"y\"}},\"id\":\"1063\",\"type\":\"Line\"},{\"attributes\":{\"line_alpha\":{\"value\":0.2},\"line_color\":{\"value\":\"red\"},\"x0\":{\"field\":\"x0\"},\"x1\":{\"field\":\"x1\"},\"y0\":{\"field\":\"y0\"},\"y1\":{\"field\":\"y1\"}},\"id\":\"1039\",\"type\":\"Segment\"},{\"attributes\":{\"source\":{\"id\":\"1062\"}},\"id\":\"1067\",\"type\":\"CDSView\"},{\"attributes\":{\"line_alpha\":0.2,\"line_color\":\"#1f77b4\",\"x\":{\"field\":\"x\"},\"y\":{\"field\":\"y\"}},\"id\":\"1065\",\"type\":\"Line\"},{\"attributes\":{\"below\":[{\"id\":\"1014\"}],\"center\":[{\"id\":\"1017\"},{\"id\":\"1021\"}],\"height\":210,\"left\":[{\"id\":\"1018\"}],\"renderers\":[{\"id\":\"1040\"},{\"id\":\"1046\"},{\"id\":\"1052\"},{\"id\":\"1058\"},{\"id\":\"1066\"},{\"id\":\"1072\"},{\"id\":\"1078\"}],\"title\":{\"id\":\"1004\"},\"toolbar\":{\"id\":\"1029\"},\"toolbar_location\":null,\"x_range\":{\"id\":\"1006\"},\"x_scale\":{\"id\":\"1010\"},\"y_range\":{\"id\":\"1008\"},\"y_scale\":{\"id\":\"1012\"}},\"id\":\"1003\",\"subtype\":\"Figure\",\"type\":\"Plot\"},{\"attributes\":{\"below\":[{\"id\":\"1088\"}],\"center\":[{\"id\":\"1091\"},{\"id\":\"1095\"}],\"height\":90,\"left\":[{\"id\":\"1092\"}],\"renderers\":[{\"id\":\"1114\"},{\"id\":\"1120\"}],\"title\":{\"id\":\"1148\"},\"toolbar\":{\"id\":\"1103\"},\"toolbar_location\":null,\"x_range\":{\"id\":\"1006\"},\"x_scale\":{\"id\":\"1084\"},\"y_range\":{\"id\":\"1082\"},\"y_scale\":{\"id\":\"1086\"}},\"id\":\"1080\",\"subtype\":\"Figure\",\"type\":\"Plot\"},{\"attributes\":{\"line_alpha\":0.1,\"line_color\":\"#1f77b4\",\"x\":{\"field\":\"x\"},\"y\":{\"field\":\"y\"}},\"id\":\"1064\",\"type\":\"Line\"},{\"attributes\":{\"fill_color\":{\"value\":\"red\"},\"top\":{\"field\":\"top\"},\"width\":{\"value\":0.8},\"x\":{\"field\":\"x\"}},\"id\":\"1111\",\"type\":\"VBar\"},{\"attributes\":{\"data\":{\"top\":[42089013,59013307,90306177,33431809,43227951,25318011,30861661,33178936,31859808,39615978,24171688,20898332,23025766,23529706],\"x\":{\"__ndarray__\":\"AgAAAAQAAAAFAAAACQAAAAoAAAANAAAADgAAABAAAAASAAAAEwAAABcAAAAaAAAAGwAAABwAAAA=\",\"dtype\":\"int32\",\"order\":\"little\",\"shape\":[14]}},\"selected\":{\"id\":\"1155\"},\"selection_policy\":{\"id\":\"1154\"}},\"id\":\"1110\",\"type\":\"ColumnDataSource\"},{\"attributes\":{\"fill_alpha\":{\"value\":0.1},\"fill_color\":{\"value\":\"red\"},\"hatch_alpha\":{\"value\":0.1},\"line_alpha\":{\"value\":0.1},\"top\":{\"field\":\"top\"},\"width\":{\"value\":0.8},\"x\":{\"field\":\"x\"}},\"id\":\"1112\",\"type\":\"VBar\"},{\"attributes\":{\"line_color\":\"#ff7f0e\",\"x\":{\"field\":\"x\"},\"y\":{\"field\":\"y\"}},\"id\":\"1069\",\"type\":\"Line\"},{\"attributes\":{\"data\":{\"x\":{\"__ndarray__\":\"AAAAAAEAAAACAAAAAwAAAAQAAAAFAAAABgAAAAcAAAAIAAAACQAAAAoAAAALAAAADAAAAA0AAAAOAAAADwAAABAAAAARAAAAEgAAABMAAAAUAAAAFQAAABYAAAAXAAAAGAAAABkAAAAaAAAAGwAAABwAAAA=\",\"dtype\":\"int32\",\"order\":\"little\",\"shape\":[29]},\"y\":{\"__ndarray__\":\"AAAAAAAA+H8AAAAAAAD4fwAAAAAAAPh/AAAAAAAA+H8AAAAAAAD4fwAAAAAAAPh/AAAAAAAA+H8AAAAAAAD4fwAAAAAAAPh/AAAAAAAA+H8AAAAAAAD4fwAAAAAAAPh/AAAAAAAA+H8AAAAAAAD4fwAAAAAAAPh/AAAAAAAA+H8AAAAAAAD4fwAAAAAAAPh/AAAAAAAA+H8AAAAAUCL1QAAAAABQIvVAAAAAAOAj9UAAAAAAYCv1QAAAAAAgKvVAAAAAAJAZ9UAAAAAAkAD1QAAAAADg5/RAAAAAAJDO9EAAAAAAYL30QA==\",\"dtype\":\"float64\",\"order\":\"little\",\"shape\":[29]}},\"selected\":{\"id\":\"1143\"},\"selection_policy\":{\"id\":\"1142\"}},\"id\":\"1068\",\"type\":\"ColumnDataSource\"},{\"attributes\":{\"line_alpha\":0.2,\"line_color\":\"#ff7f0e\",\"x\":{\"field\":\"x\"},\"y\":{\"field\":\"y\"}},\"id\":\"1071\",\"type\":\"Line\"},{\"attributes\":{\"line_alpha\":0.1,\"line_color\":\"#ff7f0e\",\"x\":{\"field\":\"x\"},\"y\":{\"field\":\"y\"}},\"id\":\"1070\",\"type\":\"Line\"},{\"attributes\":{\"source\":{\"id\":\"1068\"}},\"id\":\"1073\",\"type\":\"CDSView\"},{\"attributes\":{\"end\":96800,\"start\":80200},\"id\":\"1008\",\"type\":\"Range1d\"},{\"attributes\":{\"fill_alpha\":{\"value\":0.2},\"fill_color\":{\"value\":\"red\"},\"hatch_alpha\":{\"value\":0.2},\"line_alpha\":{\"value\":0.2},\"top\":{\"field\":\"top\"},\"width\":{\"value\":0.8},\"x\":{\"field\":\"x\"}},\"id\":\"1113\",\"type\":\"VBar\"},{\"attributes\":{\"end\":29,\"start\":-1},\"id\":\"1006\",\"type\":\"Range1d\"},{\"attributes\":{\"coordinates\":null,\"data_source\":{\"id\":\"1110\"},\"glyph\":{\"id\":\"1111\"},\"group\":null,\"hover_glyph\":null,\"muted_glyph\":{\"id\":\"1113\"},\"nonselection_glyph\":{\"id\":\"1112\"},\"view\":{\"id\":\"1115\"}},\"id\":\"1114\",\"type\":\"GlyphRenderer\"},{\"attributes\":{},\"id\":\"1128\",\"type\":\"AllLabels\"},{\"attributes\":{\"source\":{\"id\":\"1110\"}},\"id\":\"1115\",\"type\":\"CDSView\"},{\"attributes\":{},\"id\":\"1015\",\"type\":\"BasicTicker\"},{\"attributes\":{},\"id\":\"1130\",\"type\":\"BasicTickFormatter\"},{\"attributes\":{\"coordinates\":null,\"data_source\":{\"id\":\"1074\"},\"glyph\":{\"id\":\"1075\"},\"group\":null,\"hover_glyph\":null,\"muted_glyph\":{\"id\":\"1077\"},\"nonselection_glyph\":{\"id\":\"1076\"},\"view\":{\"id\":\"1079\"}},\"id\":\"1078\",\"type\":\"GlyphRenderer\"},{\"attributes\":{\"axis\":{\"id\":\"1014\"},\"coordinates\":null,\"group\":null,\"ticker\":null},\"id\":\"1017\",\"type\":\"Grid\"},{\"attributes\":{},\"id\":\"1010\",\"type\":\"LinearScale\"},{\"attributes\":{\"line_color\":{\"value\":\"blue\"},\"x0\":{\"field\":\"x0\"},\"x1\":{\"field\":\"x1\"},\"y0\":{\"field\":\"y0\"},\"y1\":{\"field\":\"y1\"}},\"id\":\"1043\",\"type\":\"Segment\"},{\"attributes\":{\"data\":{\"x\":{\"__ndarray__\":\"AAAAAAEAAAACAAAAAwAAAAQAAAAFAAAABgAAAAcAAAAIAAAACQAAAAoAAAALAAAADAAAAA0AAAAOAAAADwAAABAAAAARAAAAEgAAABMAAAAUAAAAFQAAABYAAAAXAAAAGAAAABkAAAAaAAAAGwAAABwAAAA=\",\"dtype\":\"int32\",\"order\":\"little\",\"shape\":[29]},\"y\":{\"__ndarray__\":\"AAAAAAAA+H8AAAAAAAD4fwAAAAAAAPh/AAAAAAAA+H8AAAAAAAD4fwAAAAAAAPh/AAAAAAAA+H8AAAAAAAD4fwAAAAAAAPh/AAAAAAAA+H8AAAAAAAD4fwAAAAAAAPh/AAAAAAAA+H8AAAAAAAD4fwAAAAAAAPh/AAAAAAAA+H8AAAAAAAD4fwAAAAAAAPh/AAAAAAAA+H8AAAAAAAD4fwAAAAAAAPh/AAAAAAAA+H8AAAAAAAD4fwAAAAAAAPh/AAAAAAAA+H8AAAAAAAD4fwAAAAAAAPh/AAAAAAAA+H8AAAAAAAD4fw==\",\"dtype\":\"float64\",\"order\":\"little\",\"shape\":[29]}},\"selected\":{\"id\":\"1145\"},\"selection_policy\":{\"id\":\"1144\"}},\"id\":\"1074\",\"type\":\"ColumnDataSource\"},{\"attributes\":{\"data\":{\"x0\":{\"__ndarray__\":\"AgAAAAcAAAAJAAAACgAAAAwAAAAOAAAAEAAAABEAAAATAAAAFgAAABcAAAAZAAAAGgAAABsAAAA=\",\"dtype\":\"int32\",\"order\":\"little\",\"shape\":[14]},\"x1\":{\"__ndarray__\":\"AgAAAAcAAAAJAAAACgAAAAwAAAAOAAAAEAAAABEAAAATAAAAFgAAABcAAAAZAAAAGgAAABsAAAA=\",\"dtype\":\"int32\",\"order\":\"little\",\"shape\":[14]},\"y0\":[84500,91200,91800,87300,89000,89700,89200,87700,85000,85400,83800,84200,84800,82600],\"y1\":[82100,89100,88000,84100,86500,86800,86500,85600,82000,83400,82100,83000,82700,81600]},\"selected\":{\"id\":\"1135\"},\"selection_policy\":{\"id\":\"1134\"}},\"id\":\"1042\",\"type\":\"ColumnDataSource\"},{\"attributes\":{},\"id\":\"1027\",\"type\":\"HelpTool\"},{\"attributes\":{\"line_color\":\"#2ca02c\",\"x\":{\"field\":\"x\"},\"y\":{\"field\":\"y\"}},\"id\":\"1075\",\"type\":\"Line\"},{\"attributes\":{\"line_alpha\":{\"value\":0.1},\"line_color\":{\"value\":\"blue\"},\"x0\":{\"field\":\"x0\"},\"x1\":{\"field\":\"x1\"},\"y0\":{\"field\":\"y0\"},\"y1\":{\"field\":\"y1\"}},\"id\":\"1044\",\"type\":\"Segment\"},{\"attributes\":{\"coordinates\":null,\"group\":null,\"text\":\"\\uc0bc\\uc131\"},\"id\":\"1004\",\"type\":\"Title\"},{\"attributes\":{},\"id\":\"1131\",\"type\":\"AllLabels\"},{\"attributes\":{\"coordinates\":null,\"formatter\":{\"id\":\"1060\"},\"group\":null,\"major_label_policy\":{\"id\":\"1128\"},\"ticker\":{\"id\":\"1019\"}},\"id\":\"1018\",\"type\":\"LinearAxis\"},{\"attributes\":{\"source\":{\"id\":\"1074\"}},\"id\":\"1079\",\"type\":\"CDSView\"},{\"attributes\":{},\"id\":\"1012\",\"type\":\"LinearScale\"},{\"attributes\":{\"coordinates\":null,\"data_source\":{\"id\":\"1042\"},\"glyph\":{\"id\":\"1043\"},\"group\":null,\"hover_glyph\":null,\"muted_glyph\":{\"id\":\"1045\"},\"nonselection_glyph\":{\"id\":\"1044\"},\"view\":{\"id\":\"1047\"}},\"id\":\"1046\",\"type\":\"GlyphRenderer\"},{\"attributes\":{\"line_alpha\":0.2,\"line_color\":\"#2ca02c\",\"x\":{\"field\":\"x\"},\"y\":{\"field\":\"y\"}},\"id\":\"1077\",\"type\":\"Line\"},{\"attributes\":{\"coordinates\":null,\"formatter\":{\"id\":\"1130\"},\"group\":null,\"major_label_policy\":{\"id\":\"1131\"},\"ticker\":{\"id\":\"1015\"},\"visible\":false},\"id\":\"1014\",\"type\":\"LinearAxis\"},{\"attributes\":{\"line_alpha\":{\"value\":0.2},\"line_color\":{\"value\":\"blue\"},\"x0\":{\"field\":\"x0\"},\"x1\":{\"field\":\"x1\"},\"y0\":{\"field\":\"y0\"},\"y1\":{\"field\":\"y1\"}},\"id\":\"1045\",\"type\":\"Segment\"},{\"attributes\":{\"fill_color\":{\"value\":\"blue\"},\"top\":{\"field\":\"top\"},\"width\":{\"value\":0.8},\"x\":{\"field\":\"x\"}},\"id\":\"1117\",\"type\":\"VBar\"},{\"attributes\":{\"data\":{\"top\":[35335669,32644642,48682416,36068848,26393970,39895044,25211127,27258534,26423070,28046832,26302077,22112205,18036835,15338765],\"x\":{\"__ndarray__\":\"AQAAAAMAAAAGAAAABwAAAAgAAAALAAAADAAAAA8AAAARAAAAFAAAABUAAAAWAAAAGAAAABkAAAA=\",\"dtype\":\"int32\",\"order\":\"little\",\"shape\":[14]}},\"selected\":{\"id\":\"1157\"},\"selection_policy\":{\"id\":\"1156\"}},\"id\":\"1116\",\"type\":\"ColumnDataSource\"},{\"attributes\":{\"source\":{\"id\":\"1042\"}},\"id\":\"1047\",\"type\":\"CDSView\"},{\"attributes\":{\"line_alpha\":0.1,\"line_color\":\"#2ca02c\",\"x\":{\"field\":\"x\"},\"y\":{\"field\":\"y\"}},\"id\":\"1076\",\"type\":\"Line\"},{\"attributes\":{\"fill_alpha\":{\"value\":0.1},\"fill_color\":{\"value\":\"blue\"},\"hatch_alpha\":{\"value\":0.1},\"line_alpha\":{\"value\":0.1},\"top\":{\"field\":\"top\"},\"width\":{\"value\":0.8},\"x\":{\"field\":\"x\"}},\"id\":\"1118\",\"type\":\"VBar\"},{\"attributes\":{},\"id\":\"1101\",\"type\":\"HelpTool\"},{\"attributes\":{\"axis\":{\"id\":\"1018\"},\"coordinates\":null,\"dimension\":1,\"group\":null,\"ticker\":null},\"id\":\"1021\",\"type\":\"Grid\"},{\"attributes\":{},\"id\":\"1019\",\"type\":\"BasicTicker\"},{\"attributes\":{},\"id\":\"1122\",\"type\":\"NumeralTickFormatter\"},{\"attributes\":{\"toolbar\":{\"id\":\"1161\"},\"toolbar_location\":\"above\"},\"id\":\"1162\",\"type\":\"ToolbarBox\"},{\"attributes\":{},\"id\":\"1023\",\"type\":\"WheelZoomTool\"},{\"attributes\":{\"fill_alpha\":{\"value\":0.2},\"fill_color\":{\"value\":\"blue\"},\"hatch_alpha\":{\"value\":0.2},\"line_alpha\":{\"value\":0.2},\"top\":{\"field\":\"top\"},\"width\":{\"value\":0.8},\"x\":{\"field\":\"x\"}},\"id\":\"1119\",\"type\":\"VBar\"},{\"attributes\":{},\"id\":\"1132\",\"type\":\"UnionRenderers\"},{\"attributes\":{},\"id\":\"1022\",\"type\":\"PanTool\"},{\"attributes\":{\"coordinates\":null,\"data_source\":{\"id\":\"1116\"},\"glyph\":{\"id\":\"1117\"},\"group\":null,\"hover_glyph\":null,\"muted_glyph\":{\"id\":\"1119\"},\"nonselection_glyph\":{\"id\":\"1118\"},\"view\":{\"id\":\"1121\"}},\"id\":\"1120\",\"type\":\"GlyphRenderer\"},{\"attributes\":{\"overlay\":{\"id\":\"1028\"}},\"id\":\"1024\",\"type\":\"BoxZoomTool\"},{\"attributes\":{\"source\":{\"id\":\"1116\"}},\"id\":\"1121\",\"type\":\"CDSView\"},{\"attributes\":{},\"id\":\"1025\",\"type\":\"SaveTool\"},{\"attributes\":{\"days\":[\"%Y-%m-%d\"],\"hours\":[\"%H:%M\"]},\"id\":\"1124\",\"type\":\"DatetimeTickFormatter\"},{\"attributes\":{},\"id\":\"1133\",\"type\":\"Selection\"},{\"attributes\":{},\"id\":\"1026\",\"type\":\"ResetTool\"},{\"attributes\":{\"children\":[[{\"id\":\"1003\"},0,0],[{\"id\":\"1080\"},1,0]]},\"id\":\"1160\",\"type\":\"GridBox\"},{\"attributes\":{\"bottom_units\":\"screen\",\"coordinates\":null,\"fill_alpha\":0.5,\"fill_color\":\"lightgrey\",\"group\":null,\"left_units\":\"screen\",\"level\":\"overlay\",\"line_alpha\":1.0,\"line_color\":\"black\",\"line_dash\":[4,4],\"line_width\":2,\"right_units\":\"screen\",\"syncable\":false,\"top_units\":\"screen\"},\"id\":\"1028\",\"type\":\"BoxAnnotation\"},{\"attributes\":{\"axis\":{\"id\":\"1092\"},\"coordinates\":null,\"dimension\":1,\"group\":null,\"ticker\":null},\"id\":\"1095\",\"type\":\"Grid\"},{\"attributes\":{\"bottom\":{\"field\":\"bottom\"},\"fill_color\":{\"value\":\"red\"},\"line_color\":{\"value\":\"red\"},\"top\":{\"field\":\"top\"},\"width\":{\"value\":0.8},\"x\":{\"field\":\"x\"}},\"id\":\"1049\",\"type\":\"VBar\"},{\"attributes\":{\"coordinates\":null,\"formatter\":{\"id\":\"1122\"},\"group\":null,\"major_label_policy\":{\"id\":\"1151\"},\"ticker\":{\"id\":\"1093\"}},\"id\":\"1092\",\"type\":\"LinearAxis\"},{\"attributes\":{\"data\":{\"bottom\":[83000,83900,82900,88800,91000,90600,89700,87000,88100,89400,83700,83000,84400,83500,84200],\"top\":[81000,81600,82800,83300,90000,90300,88700,84500,87500,87000,83200,81700,84100,83100,83800],\"x\":{\"__ndarray__\":\"AAAAAAEAAAADAAAABAAAAAUAAAAGAAAACAAAAAsAAAANAAAADwAAABIAAAAUAAAAFQAAABgAAAAcAAAA\",\"dtype\":\"int32\",\"order\":\"little\",\"shape\":[15]}},\"selected\":{\"id\":\"1137\"},\"selection_policy\":{\"id\":\"1136\"}},\"id\":\"1048\",\"type\":\"ColumnDataSource\"},{\"attributes\":{\"bottom\":{\"field\":\"bottom\"},\"fill_alpha\":{\"value\":0.1},\"fill_color\":{\"value\":\"red\"},\"hatch_alpha\":{\"value\":0.1},\"line_alpha\":{\"value\":0.1},\"line_color\":{\"value\":\"red\"},\"top\":{\"field\":\"top\"},\"width\":{\"value\":0.8},\"x\":{\"field\":\"x\"}},\"id\":\"1050\",\"type\":\"VBar\"},{\"attributes\":{},\"id\":\"1093\",\"type\":\"BasicTicker\"},{\"attributes\":{\"toolbars\":[{\"id\":\"1029\"},{\"id\":\"1103\"}],\"tools\":[{\"id\":\"1022\"},{\"id\":\"1023\"},{\"id\":\"1024\"},{\"id\":\"1025\"},{\"id\":\"1026\"},{\"id\":\"1027\"},{\"id\":\"1096\"},{\"id\":\"1097\"},{\"id\":\"1098\"},{\"id\":\"1099\"},{\"id\":\"1100\"},{\"id\":\"1101\"}]},\"id\":\"1161\",\"type\":\"ProxyToolbar\"},{\"attributes\":{\"bottom\":{\"field\":\"bottom\"},\"fill_alpha\":{\"value\":0.2},\"fill_color\":{\"value\":\"red\"},\"hatch_alpha\":{\"value\":0.2},\"line_alpha\":{\"value\":0.2},\"line_color\":{\"value\":\"red\"},\"top\":{\"field\":\"top\"},\"width\":{\"value\":0.8},\"x\":{\"field\":\"x\"}},\"id\":\"1051\",\"type\":\"VBar\"},{\"attributes\":{},\"id\":\"1097\",\"type\":\"WheelZoomTool\"},{\"attributes\":{},\"id\":\"1096\",\"type\":\"PanTool\"},{\"attributes\":{\"overlay\":{\"id\":\"1102\"}},\"id\":\"1098\",\"type\":\"BoxZoomTool\"},{\"attributes\":{},\"id\":\"1099\",\"type\":\"SaveTool\"},{\"attributes\":{\"coordinates\":null,\"data_source\":{\"id\":\"1048\"},\"glyph\":{\"id\":\"1049\"},\"group\":null,\"hover_glyph\":null,\"muted_glyph\":{\"id\":\"1051\"},\"nonselection_glyph\":{\"id\":\"1050\"},\"view\":{\"id\":\"1053\"}},\"id\":\"1052\",\"type\":\"GlyphRenderer\"},{\"attributes\":{},\"id\":\"1100\",\"type\":\"ResetTool\"},{\"attributes\":{\"source\":{\"id\":\"1048\"}},\"id\":\"1053\",\"type\":\"CDSView\"},{\"attributes\":{\"bottom_units\":\"screen\",\"coordinates\":null,\"fill_alpha\":0.5,\"fill_color\":\"lightgrey\",\"group\":null,\"left_units\":\"screen\",\"level\":\"overlay\",\"line_alpha\":1.0,\"line_color\":\"black\",\"line_dash\":[4,4],\"line_width\":2,\"right_units\":\"screen\",\"syncable\":false,\"top_units\":\"screen\"},\"id\":\"1102\",\"type\":\"BoxAnnotation\"},{\"attributes\":{},\"id\":\"1134\",\"type\":\"UnionRenderers\"},{\"attributes\":{\"tools\":[{\"id\":\"1096\"},{\"id\":\"1097\"},{\"id\":\"1098\"},{\"id\":\"1099\"},{\"id\":\"1100\"},{\"id\":\"1101\"}]},\"id\":\"1103\",\"type\":\"Toolbar\"},{\"attributes\":{},\"id\":\"1135\",\"type\":\"Selection\"},{\"attributes\":{\"tools\":[{\"id\":\"1022\"},{\"id\":\"1023\"},{\"id\":\"1024\"},{\"id\":\"1025\"},{\"id\":\"1026\"},{\"id\":\"1027\"}]},\"id\":\"1029\",\"type\":\"Toolbar\"},{\"attributes\":{\"bottom\":{\"field\":\"bottom\"},\"fill_color\":{\"value\":\"blue\"},\"line_color\":{\"value\":\"blue\"},\"top\":{\"field\":\"top\"},\"width\":{\"value\":0.8},\"x\":{\"field\":\"x\"}},\"id\":\"1055\",\"type\":\"VBar\"},{\"attributes\":{\"range_padding\":0},\"id\":\"1082\",\"type\":\"DataRange1d\"},{\"attributes\":{\"axis\":{\"id\":\"1088\"},\"coordinates\":null,\"group\":null,\"ticker\":null},\"id\":\"1091\",\"type\":\"Grid\"},{\"attributes\":{},\"id\":\"1136\",\"type\":\"UnionRenderers\"},{\"attributes\":{\"coordinates\":null,\"formatter\":{\"id\":\"1124\"},\"group\":null,\"major_label_orientation\":0.6283185307179586,\"major_label_overrides\":{\"0\":\"2021-01-04\",\"1\":\"2021-01-05\",\"10\":\"2021-01-18\",\"11\":\"2021-01-19\",\"12\":\"2021-01-20\",\"13\":\"2021-01-21\",\"14\":\"2021-01-22\",\"15\":\"2021-01-25\",\"16\":\"2021-01-26\",\"17\":\"2021-01-27\",\"18\":\"2021-01-28\",\"19\":\"2021-01-29\",\"2\":\"2021-01-06\",\"20\":\"2021-02-01\",\"21\":\"2021-02-02\",\"22\":\"2021-02-03\",\"23\":\"2021-02-04\",\"24\":\"2021-02-05\",\"25\":\"2021-02-08\",\"26\":\"2021-02-09\",\"27\":\"2021-02-10\",\"28\":\"2021-02-15\",\"29\":\"\",\"3\":\"2021-01-07\",\"4\":\"2021-01-08\",\"5\":\"2021-01-11\",\"6\":\"2021-01-12\",\"7\":\"2021-01-13\",\"8\":\"2021-01-14\",\"9\":\"2021-01-15\"},\"major_label_policy\":{\"id\":\"1153\"},\"ticker\":{\"id\":\"1089\"}},\"id\":\"1088\",\"type\":\"LinearAxis\"},{\"attributes\":{},\"id\":\"1137\",\"type\":\"Selection\"},{\"attributes\":{\"coordinates\":null,\"group\":null},\"id\":\"1148\",\"type\":\"Title\"},{\"attributes\":{},\"id\":\"1086\",\"type\":\"LinearScale\"},{\"attributes\":{},\"id\":\"1089\",\"type\":\"BasicTicker\"},{\"attributes\":{},\"id\":\"1138\",\"type\":\"UnionRenderers\"},{\"attributes\":{},\"id\":\"1084\",\"type\":\"LinearScale\"},{\"attributes\":{},\"id\":\"1139\",\"type\":\"Selection\"},{\"attributes\":{},\"id\":\"1151\",\"type\":\"AllLabels\"},{\"attributes\":{},\"id\":\"1153\",\"type\":\"AllLabels\"},{\"attributes\":{},\"id\":\"1140\",\"type\":\"UnionRenderers\"},{\"attributes\":{},\"id\":\"1141\",\"type\":\"Selection\"},{\"attributes\":{},\"id\":\"1154\",\"type\":\"UnionRenderers\"},{\"attributes\":{},\"id\":\"1155\",\"type\":\"Selection\"},{\"attributes\":{},\"id\":\"1142\",\"type\":\"UnionRenderers\"},{\"attributes\":{},\"id\":\"1143\",\"type\":\"Selection\"},{\"attributes\":{},\"id\":\"1156\",\"type\":\"UnionRenderers\"},{\"attributes\":{},\"id\":\"1157\",\"type\":\"Selection\"},{\"attributes\":{},\"id\":\"1144\",\"type\":\"UnionRenderers\"},{\"attributes\":{},\"id\":\"1145\",\"type\":\"Selection\"}],\"root_ids\":[\"1163\"]},\"title\":\"Bokeh Application\",\"version\":\"2.4.2\"}};\n",
       "  const render_items = [{\"docid\":\"e45e819b-af5a-4a47-8f34-156d6ebd0635\",\"root_ids\":[\"1163\"],\"roots\":{\"1163\":\"b061390a-503c-4bea-9a32-fdab31bd4e23\"}}];\n",
       "  root.Bokeh.embed.embed_items_notebook(docs_json, render_items);\n",
       "\n",
       "  }\n",
       "  if (root.Bokeh !== undefined) {\n",
       "    embed_document(root);\n",
       "  } else {\n",
       "    let attempts = 0;\n",
       "    const timer = setInterval(function(root) {\n",
       "      if (root.Bokeh !== undefined) {\n",
       "        clearInterval(timer);\n",
       "        embed_document(root);\n",
       "      } else {\n",
       "        attempts++;\n",
       "        if (attempts > 100) {\n",
       "          clearInterval(timer);\n",
       "          console.log(\"Bokeh: ERROR: Unable to run BokehJS code because BokehJS library is missing\");\n",
       "        }\n",
       "      }\n",
       "    }, 10, root)\n",
       "  }\n",
       "})(window);"
      ],
      "application/vnd.bokehjs_exec.v0+json": ""
     },
     "metadata": {
      "application/vnd.bokehjs_exec.v0+json": {
       "id": "1163"
      }
     },
     "output_type": "display_data"
    }
   ],
   "source": [
    "# 캔들차트 그리기\n",
    "df = fdr.DataReader('005930', '2021-01-01', '2021-02-15')\n",
    "\n",
    "# 차트 설정\n",
    "config = {'title':'삼성', \n",
    "          'width': 600, \n",
    "          'height': 300,\n",
    "          'volume': True,\n",
    "}\n",
    "fdr.chart.config(config=config)\n",
    "fdr.chart.plot(df)"
   ]
  },
  {
   "cell_type": "markdown",
   "id": "3d77523f-7967-45a3-b91d-af1d530fb4e1",
   "metadata": {},
   "source": [
    "## PyKRX\n",
    "* ref : https://github.com/sharebook-kr/pykrx"
   ]
  },
  {
   "cell_type": "code",
   "execution_count": 9,
   "id": "8a664911-4bb9-4a49-bc85-5a2ff7420466",
   "metadata": {},
   "outputs": [],
   "source": [
    "# ! pip install pykrx"
   ]
  },
  {
   "cell_type": "code",
   "execution_count": 10,
   "id": "b7ae72cf-2afb-4fc0-8810-786f30352ce6",
   "metadata": {},
   "outputs": [
    {
     "data": {
      "text/html": [
       "<div>\n",
       "<style scoped>\n",
       "    .dataframe tbody tr th:only-of-type {\n",
       "        vertical-align: middle;\n",
       "    }\n",
       "\n",
       "    .dataframe tbody tr th {\n",
       "        vertical-align: top;\n",
       "    }\n",
       "\n",
       "    .dataframe thead th {\n",
       "        text-align: right;\n",
       "    }\n",
       "</style>\n",
       "<table border=\"1\" class=\"dataframe\">\n",
       "  <thead>\n",
       "    <tr style=\"text-align: right;\">\n",
       "      <th></th>\n",
       "      <th>시가</th>\n",
       "      <th>고가</th>\n",
       "      <th>저가</th>\n",
       "      <th>종가</th>\n",
       "      <th>거래량</th>\n",
       "    </tr>\n",
       "    <tr>\n",
       "      <th>날짜</th>\n",
       "      <th></th>\n",
       "      <th></th>\n",
       "      <th></th>\n",
       "      <th></th>\n",
       "      <th></th>\n",
       "    </tr>\n",
       "  </thead>\n",
       "  <tbody>\n",
       "    <tr>\n",
       "      <th>2015-07-20</th>\n",
       "      <td>25820</td>\n",
       "      <td>26080</td>\n",
       "      <td>25460</td>\n",
       "      <td>25500</td>\n",
       "      <td>128928</td>\n",
       "    </tr>\n",
       "    <tr>\n",
       "      <th>2015-07-21</th>\n",
       "      <td>25500</td>\n",
       "      <td>25540</td>\n",
       "      <td>24940</td>\n",
       "      <td>25260</td>\n",
       "      <td>194055</td>\n",
       "    </tr>\n",
       "    <tr>\n",
       "      <th>2015-07-22</th>\n",
       "      <td>24880</td>\n",
       "      <td>25200</td>\n",
       "      <td>24700</td>\n",
       "      <td>25060</td>\n",
       "      <td>268323</td>\n",
       "    </tr>\n",
       "  </tbody>\n",
       "</table>\n",
       "</div>"
      ],
      "text/plain": [
       "               시가     고가     저가     종가     거래량\n",
       "날짜                                            \n",
       "2015-07-20  25820  26080  25460  25500  128928\n",
       "2015-07-21  25500  25540  24940  25260  194055\n",
       "2015-07-22  24880  25200  24700  25060  268323"
      ]
     },
     "execution_count": 10,
     "metadata": {},
     "output_type": "execute_result"
    }
   ],
   "source": [
    "from pykrx import stock\n",
    "from pykrx import bond\n",
    "\n",
    "df = stock.get_market_ohlcv(\"20150720\", \"20150810\", \"005930\")\n",
    "df.head(3)"
   ]
  },
  {
   "cell_type": "code",
   "execution_count": 11,
   "id": "35688f49-e70d-4e59-a28e-b5ad9690c142",
   "metadata": {},
   "outputs": [
    {
     "data": {
      "text/plain": [
       "['095570', '006840', '027410', '282330', '138930']"
      ]
     },
     "execution_count": 11,
     "metadata": {},
     "output_type": "execute_result"
    }
   ],
   "source": [
    "tickers = stock.get_market_ticker_list()\n",
    "tickers[:5]"
   ]
  },
  {
   "cell_type": "code",
   "execution_count": null,
   "id": "a49c6bff-ce92-4e92-b1f0-e7a8e36ae1f3",
   "metadata": {},
   "outputs": [],
   "source": []
  },
  {
   "cell_type": "markdown",
   "id": "d7dcb851-3eec-45b8-b8c7-fd4b26fd3e0e",
   "metadata": {
    "tags": []
   },
   "source": [
    "# 삼성 약 28년 주가 정보 가져오기 "
   ]
  },
  {
   "cell_type": "code",
   "execution_count": 12,
   "id": "4a58e621-370f-4afd-a482-08ce581b077e",
   "metadata": {},
   "outputs": [
    {
     "data": {
      "text/html": [
       "<style>.container{width:100% !important;}</style>"
      ],
      "text/plain": [
       "<IPython.core.display.HTML object>"
      ]
     },
     "metadata": {},
     "output_type": "display_data"
    }
   ],
   "source": [
    "import pandas as pd\n",
    "import numpy as np\n",
    "import matplotlib.pyplot as plt\n",
    "import seaborn as sns\n",
    "import datetime as dt\n",
    "\n",
    "import FinanceDataReader as fdr\n",
    "from sklearn.preprocessing import MinMaxScaler\n",
    "\n",
    "import warnings\n",
    "warnings.filterwarnings(action='ignore')\n",
    "\n",
    "\n",
    "#-------------------- 차트 관련 속성 (한글처리, 그리드) -----------\n",
    "#plt.rc('font', family='NanumGothicOTF') # For MacOS\n",
    "plt.rcParams['font.family']= 'Malgun Gothic'\n",
    "plt.rcParams['axes.unicode_minus'] = False\n",
    "sns.set()\n",
    "\n",
    "#-------------------- 주피터 , 출력결과 넓이 늘리기 ---------------\n",
    "from IPython.core.display import display, HTML\n",
    "display(HTML(\"<style>.container{width:100% !important;}</style>\"))\n",
    "pd.set_option('display.max_rows', 100)\n",
    "pd.set_option('display.max_columns', 100)\n",
    "pd.set_option('max_colwidth', None)\n",
    "\n",
    "#-------------------- 차트 관련 속성 (한글처리, 그리드) -----------\n",
    "plt.rcParams['font.family']= 'Malgun Gothic'\n",
    "plt.rcParams['axes.unicode_minus'] = False\n",
    "sns.set()"
   ]
  },
  {
   "cell_type": "code",
   "execution_count": 13,
   "id": "1cc33cf3-db11-4086-b682-3efd7035b999",
   "metadata": {},
   "outputs": [
    {
     "name": "stdout",
     "output_type": "stream",
     "text": [
      "(6000, 6)\n"
     ]
    },
    {
     "data": {
      "text/html": [
       "<div>\n",
       "<style scoped>\n",
       "    .dataframe tbody tr th:only-of-type {\n",
       "        vertical-align: middle;\n",
       "    }\n",
       "\n",
       "    .dataframe tbody tr th {\n",
       "        vertical-align: top;\n",
       "    }\n",
       "\n",
       "    .dataframe thead th {\n",
       "        text-align: right;\n",
       "    }\n",
       "</style>\n",
       "<table border=\"1\" class=\"dataframe\">\n",
       "  <thead>\n",
       "    <tr style=\"text-align: right;\">\n",
       "      <th></th>\n",
       "      <th>Open</th>\n",
       "      <th>High</th>\n",
       "      <th>Low</th>\n",
       "      <th>Close</th>\n",
       "      <th>Volume</th>\n",
       "      <th>Change</th>\n",
       "    </tr>\n",
       "    <tr>\n",
       "      <th>Date</th>\n",
       "      <th></th>\n",
       "      <th></th>\n",
       "      <th></th>\n",
       "      <th></th>\n",
       "      <th></th>\n",
       "      <th></th>\n",
       "    </tr>\n",
       "  </thead>\n",
       "  <tbody>\n",
       "    <tr>\n",
       "      <th>1998-01-21</th>\n",
       "      <td>1388</td>\n",
       "      <td>1388</td>\n",
       "      <td>1283</td>\n",
       "      <td>1320</td>\n",
       "      <td>1163080</td>\n",
       "      <td>NaN</td>\n",
       "    </tr>\n",
       "    <tr>\n",
       "      <th>1998-01-22</th>\n",
       "      <td>1307</td>\n",
       "      <td>1325</td>\n",
       "      <td>1214</td>\n",
       "      <td>1215</td>\n",
       "      <td>905730</td>\n",
       "      <td>-0.079545</td>\n",
       "    </tr>\n",
       "    <tr>\n",
       "      <th>1998-01-23</th>\n",
       "      <td>1234</td>\n",
       "      <td>1263</td>\n",
       "      <td>1200</td>\n",
       "      <td>1262</td>\n",
       "      <td>616720</td>\n",
       "      <td>0.038683</td>\n",
       "    </tr>\n",
       "    <tr>\n",
       "      <th>1998-01-24</th>\n",
       "      <td>1288</td>\n",
       "      <td>1361</td>\n",
       "      <td>1270</td>\n",
       "      <td>1362</td>\n",
       "      <td>467950</td>\n",
       "      <td>0.079239</td>\n",
       "    </tr>\n",
       "    <tr>\n",
       "      <th>1998-01-26</th>\n",
       "      <td>1377</td>\n",
       "      <td>1468</td>\n",
       "      <td>1377</td>\n",
       "      <td>1461</td>\n",
       "      <td>1244670</td>\n",
       "      <td>0.072687</td>\n",
       "    </tr>\n",
       "  </tbody>\n",
       "</table>\n",
       "</div>"
      ],
      "text/plain": [
       "            Open  High   Low  Close   Volume    Change\n",
       "Date                                                  \n",
       "1998-01-21  1388  1388  1283   1320  1163080       NaN\n",
       "1998-01-22  1307  1325  1214   1215   905730 -0.079545\n",
       "1998-01-23  1234  1263  1200   1262   616720  0.038683\n",
       "1998-01-24  1288  1361  1270   1362   467950  0.079239\n",
       "1998-01-26  1377  1468  1377   1461  1244670  0.072687"
      ]
     },
     "execution_count": 13,
     "metadata": {},
     "output_type": "execute_result"
    }
   ],
   "source": [
    "# import FinanceDataReader as fdr\n",
    "\n",
    "# 삼성전자(005930) 전체 (1996-11-05 ~ 현재)\n",
    "dfss = fdr.DataReader('005930') #,'1980-01-01', '2019-12-30'\n",
    "print(dfss.shape)\n",
    "dfss.head()"
   ]
  },
  {
   "cell_type": "code",
   "execution_count": 1,
   "id": "185b1260-16cc-42ee-b088-80c36b9a2769",
   "metadata": {},
   "outputs": [
    {
     "ename": "NameError",
     "evalue": "name 'dfss' is not defined",
     "output_type": "error",
     "traceback": [
      "\u001b[1;31m---------------------------------------------------------------------------\u001b[0m",
      "\u001b[1;31mNameError\u001b[0m                                 Traceback (most recent call last)",
      "Input \u001b[1;32mIn [1]\u001b[0m, in \u001b[0;36m<module>\u001b[1;34m\u001b[0m\n\u001b[1;32m----> 1\u001b[0m dfss \u001b[38;5;241m=\u001b[39m \u001b[43mdfss\u001b[49m\u001b[38;5;241m.\u001b[39mloc[\u001b[38;5;124m'\u001b[39m\u001b[38;5;124m2013-01-01\u001b[39m\u001b[38;5;124m'\u001b[39m:\u001b[38;5;124m'\u001b[39m\u001b[38;5;124m2022-03-01\u001b[39m\u001b[38;5;124m'\u001b[39m]\u001b[38;5;241m.\u001b[39mcopy()\n",
      "\u001b[1;31mNameError\u001b[0m: name 'dfss' is not defined"
     ]
    }
   ],
   "source": [
    "dfss = dfss.loc['2013-01-01':'2022-03-01'].copy()  #2015년도 데이터는 ma60을 위한 패딩 데이터"
   ]
  },
  {
   "cell_type": "code",
   "execution_count": 15,
   "id": "dc41d400-c48e-4332-a2e7-a60d15a945c6",
   "metadata": {},
   "outputs": [
    {
     "data": {
      "text/plain": [
       "(986, 6)"
      ]
     },
     "execution_count": 15,
     "metadata": {},
     "output_type": "execute_result"
    }
   ],
   "source": [
    "dfss.shape"
   ]
  },
  {
   "cell_type": "code",
   "execution_count": 16,
   "id": "d15b6797-5d5a-41e5-9bad-c5fad26fc93d",
   "metadata": {},
   "outputs": [
    {
     "data": {
      "text/plain": [
       "<AxesSubplot:xlabel='Date'>"
      ]
     },
     "execution_count": 16,
     "metadata": {},
     "output_type": "execute_result"
    },
    {
     "data": {
      "image/png": "[encoded data removed]",
      "text/plain": [
       "<Figure size 432x288 with 1 Axes>"
      ]
     },
     "metadata": {},
     "output_type": "display_data"
    }
   ],
   "source": [
    "dfss['Close'].plot()"
   ]
  },
  {
   "cell_type": "markdown",
   "id": "f7f4de7d-35ec-4640-bb50-324181f29a9e",
   "metadata": {
    "tags": []
   },
   "source": [
    "# 전처리  & 가공"
   ]
  },
  {
   "cell_type": "markdown",
   "id": "e2fc0413-d624-4e6b-8ad5-39d6cdefb87a",
   "metadata": {
    "tags": []
   },
   "source": [
    "## MinMaxScaler()"
   ]
  },
  {
   "cell_type": "code",
   "execution_count": 17,
   "id": "708eac7a-b56e-4516-aa7b-e5d6951b85c6",
   "metadata": {},
   "outputs": [],
   "source": [
    "# from sklearn.preprocessing import MinMaxScaler"
   ]
  },
  {
   "cell_type": "code",
   "execution_count": 18,
   "id": "abcdb25f-c55a-4e8f-919d-2a31b4d204c5",
   "metadata": {},
   "outputs": [
    {
     "data": {
      "text/plain": [
       "array([31520, 30860, 30500, 30400, 30000], dtype=int64)"
      ]
     },
     "execution_count": 18,
     "metadata": {},
     "output_type": "execute_result"
    }
   ],
   "source": [
    "dfss['Close'].values[:5]"
   ]
  },
  {
   "cell_type": "markdown",
   "id": "131304a3-5b38-4e1e-9db6-91555c5297d8",
   "metadata": {},
   "source": [
    "* 연습"
   ]
  },
  {
   "cell_type": "code",
   "execution_count": 19,
   "id": "61d370cd-9d67-48cc-83e4-a10a241d72d4",
   "metadata": {},
   "outputs": [
    {
     "name": "stdout",
     "output_type": "stream",
     "text": [
      "[[0.68322148]\n",
      " [0.63892617]\n",
      " [0.6147651 ]\n",
      " [0.60805369]\n",
      " [0.58120805]]\n"
     ]
    }
   ],
   "source": [
    "scaler1 = MinMaxScaler()\n",
    "y_scaler = scaler1.fit_transform(dfss['Close'].values.reshape(-1,1))  # 세로줄 array\n",
    "print(y_scaler[:5])"
   ]
  },
  {
   "cell_type": "code",
   "execution_count": 20,
   "id": "06b9c608-5f3f-4918-8be4-a8157e044b01",
   "metadata": {},
   "outputs": [
    {
     "name": "stdout",
     "output_type": "stream",
     "text": [
      "[[0.62       0.66395503 0.64322917 0.13784676 0.69264578]\n",
      " [0.68533333 0.67460317 0.6640625  0.18482841 0.35529016]\n",
      " [0.62933333 0.61904762 0.62102865 0.16388661 0.41074103]\n",
      " [0.596      0.6005291  0.60800781 0.15739986 0.46089047]\n",
      " [0.59333333 0.58597884 0.60546875 0.17793138 0.40181778]]\n"
     ]
    },
    {
     "data": {
      "text/html": [
       "<div>\n",
       "<style scoped>\n",
       "    .dataframe tbody tr th:only-of-type {\n",
       "        vertical-align: middle;\n",
       "    }\n",
       "\n",
       "    .dataframe tbody tr th {\n",
       "        vertical-align: top;\n",
       "    }\n",
       "\n",
       "    .dataframe thead th {\n",
       "        text-align: right;\n",
       "    }\n",
       "</style>\n",
       "<table border=\"1\" class=\"dataframe\">\n",
       "  <thead>\n",
       "    <tr style=\"text-align: right;\">\n",
       "      <th></th>\n",
       "      <th>Open</th>\n",
       "      <th>High</th>\n",
       "      <th>Low</th>\n",
       "      <th>Volume</th>\n",
       "      <th>Change</th>\n",
       "      <th>Close</th>\n",
       "    </tr>\n",
       "    <tr>\n",
       "      <th>Date</th>\n",
       "      <th></th>\n",
       "      <th></th>\n",
       "      <th></th>\n",
       "      <th></th>\n",
       "      <th></th>\n",
       "      <th></th>\n",
       "    </tr>\n",
       "  </thead>\n",
       "  <tbody>\n",
       "    <tr>\n",
       "      <th>2013-01-02</th>\n",
       "      <td>0.620000</td>\n",
       "      <td>0.663955</td>\n",
       "      <td>0.643229</td>\n",
       "      <td>0.137847</td>\n",
       "      <td>0.692646</td>\n",
       "      <td>0.683221</td>\n",
       "    </tr>\n",
       "    <tr>\n",
       "      <th>2013-01-03</th>\n",
       "      <td>0.685333</td>\n",
       "      <td>0.674603</td>\n",
       "      <td>0.664063</td>\n",
       "      <td>0.184828</td>\n",
       "      <td>0.355290</td>\n",
       "      <td>0.638926</td>\n",
       "    </tr>\n",
       "    <tr>\n",
       "      <th>2013-01-04</th>\n",
       "      <td>0.629333</td>\n",
       "      <td>0.619048</td>\n",
       "      <td>0.621029</td>\n",
       "      <td>0.163887</td>\n",
       "      <td>0.410741</td>\n",
       "      <td>0.614765</td>\n",
       "    </tr>\n",
       "    <tr>\n",
       "      <th>2013-01-07</th>\n",
       "      <td>0.596000</td>\n",
       "      <td>0.600529</td>\n",
       "      <td>0.608008</td>\n",
       "      <td>0.157400</td>\n",
       "      <td>0.460890</td>\n",
       "      <td>0.608054</td>\n",
       "    </tr>\n",
       "    <tr>\n",
       "      <th>2013-01-08</th>\n",
       "      <td>0.593333</td>\n",
       "      <td>0.585979</td>\n",
       "      <td>0.605469</td>\n",
       "      <td>0.177931</td>\n",
       "      <td>0.401818</td>\n",
       "      <td>0.581208</td>\n",
       "    </tr>\n",
       "  </tbody>\n",
       "</table>\n",
       "</div>"
      ],
      "text/plain": [
       "                Open      High       Low    Volume    Change     Close\n",
       "Date                                                                  \n",
       "2013-01-02  0.620000  0.663955  0.643229  0.137847  0.692646  0.683221\n",
       "2013-01-03  0.685333  0.674603  0.664063  0.184828  0.355290  0.638926\n",
       "2013-01-04  0.629333  0.619048  0.621029  0.163887  0.410741  0.614765\n",
       "2013-01-07  0.596000  0.600529  0.608008  0.157400  0.460890  0.608054\n",
       "2013-01-08  0.593333  0.585979  0.605469  0.177931  0.401818  0.581208"
      ]
     },
     "execution_count": 20,
     "metadata": {},
     "output_type": "execute_result"
    }
   ],
   "source": [
    "scaler2 = MinMaxScaler()\n",
    "col_list = ['Open', 'High', 'Low',  'Volume', 'Change']\n",
    "\n",
    "X_scaler = scaler2.fit_transform(dfss[col_list])  # 세로줄 array\n",
    "print(X_scaler[:5])  #array 2D\n",
    "\n",
    "dfss = pd.DataFrame(data=X_scaler, columns=col_list, index=dfss.index)\n",
    "dfss['Close'] = y_scaler.reshape(-1,1)\n",
    "dfss.head()"
   ]
  },
  {
   "cell_type": "markdown",
   "id": "b9baafda-4125-4300-9aeb-b4a0da2a08fd",
   "metadata": {},
   "source": [
    "## 이평 파생변수"
   ]
  },
  {
   "cell_type": "code",
   "execution_count": 21,
   "id": "5d08f594-3e06-4e45-b151-216c39e40caa",
   "metadata": {},
   "outputs": [
    {
     "data": {
      "text/html": [
       "<div>\n",
       "<style scoped>\n",
       "    .dataframe tbody tr th:only-of-type {\n",
       "        vertical-align: middle;\n",
       "    }\n",
       "\n",
       "    .dataframe tbody tr th {\n",
       "        vertical-align: top;\n",
       "    }\n",
       "\n",
       "    .dataframe thead th {\n",
       "        text-align: right;\n",
       "    }\n",
       "</style>\n",
       "<table border=\"1\" class=\"dataframe\">\n",
       "  <thead>\n",
       "    <tr style=\"text-align: right;\">\n",
       "      <th></th>\n",
       "      <th>Open</th>\n",
       "      <th>High</th>\n",
       "      <th>Low</th>\n",
       "      <th>Volume</th>\n",
       "      <th>Change</th>\n",
       "      <th>Close</th>\n",
       "      <th>ma5</th>\n",
       "      <th>ma20</th>\n",
       "      <th>ma60</th>\n",
       "    </tr>\n",
       "    <tr>\n",
       "      <th>Date</th>\n",
       "      <th></th>\n",
       "      <th></th>\n",
       "      <th></th>\n",
       "      <th></th>\n",
       "      <th></th>\n",
       "      <th></th>\n",
       "      <th></th>\n",
       "      <th></th>\n",
       "      <th></th>\n",
       "    </tr>\n",
       "  </thead>\n",
       "  <tbody>\n",
       "    <tr>\n",
       "      <th>2013-01-02</th>\n",
       "      <td>0.620000</td>\n",
       "      <td>0.663955</td>\n",
       "      <td>0.643229</td>\n",
       "      <td>0.137847</td>\n",
       "      <td>0.692646</td>\n",
       "      <td>0.683221</td>\n",
       "      <td>NaN</td>\n",
       "      <td>NaN</td>\n",
       "      <td>NaN</td>\n",
       "    </tr>\n",
       "    <tr>\n",
       "      <th>2013-01-03</th>\n",
       "      <td>0.685333</td>\n",
       "      <td>0.674603</td>\n",
       "      <td>0.664063</td>\n",
       "      <td>0.184828</td>\n",
       "      <td>0.355290</td>\n",
       "      <td>0.638926</td>\n",
       "      <td>NaN</td>\n",
       "      <td>NaN</td>\n",
       "      <td>NaN</td>\n",
       "    </tr>\n",
       "    <tr>\n",
       "      <th>2013-01-04</th>\n",
       "      <td>0.629333</td>\n",
       "      <td>0.619048</td>\n",
       "      <td>0.621029</td>\n",
       "      <td>0.163887</td>\n",
       "      <td>0.410741</td>\n",
       "      <td>0.614765</td>\n",
       "      <td>NaN</td>\n",
       "      <td>NaN</td>\n",
       "      <td>NaN</td>\n",
       "    </tr>\n",
       "    <tr>\n",
       "      <th>2013-01-07</th>\n",
       "      <td>0.596000</td>\n",
       "      <td>0.600529</td>\n",
       "      <td>0.608008</td>\n",
       "      <td>0.157400</td>\n",
       "      <td>0.460890</td>\n",
       "      <td>0.608054</td>\n",
       "      <td>NaN</td>\n",
       "      <td>NaN</td>\n",
       "      <td>NaN</td>\n",
       "    </tr>\n",
       "    <tr>\n",
       "      <th>2013-01-08</th>\n",
       "      <td>0.593333</td>\n",
       "      <td>0.585979</td>\n",
       "      <td>0.605469</td>\n",
       "      <td>0.177931</td>\n",
       "      <td>0.401818</td>\n",
       "      <td>0.581208</td>\n",
       "      <td>0.625235</td>\n",
       "      <td>NaN</td>\n",
       "      <td>NaN</td>\n",
       "    </tr>\n",
       "  </tbody>\n",
       "</table>\n",
       "</div>"
      ],
      "text/plain": [
       "                Open      High       Low    Volume    Change     Close  \\\n",
       "Date                                                                     \n",
       "2013-01-02  0.620000  0.663955  0.643229  0.137847  0.692646  0.683221   \n",
       "2013-01-03  0.685333  0.674603  0.664063  0.184828  0.355290  0.638926   \n",
       "2013-01-04  0.629333  0.619048  0.621029  0.163887  0.410741  0.614765   \n",
       "2013-01-07  0.596000  0.600529  0.608008  0.157400  0.460890  0.608054   \n",
       "2013-01-08  0.593333  0.585979  0.605469  0.177931  0.401818  0.581208   \n",
       "\n",
       "                 ma5  ma20  ma60  \n",
       "Date                              \n",
       "2013-01-02       NaN   NaN   NaN  \n",
       "2013-01-03       NaN   NaN   NaN  \n",
       "2013-01-04       NaN   NaN   NaN  \n",
       "2013-01-07       NaN   NaN   NaN  \n",
       "2013-01-08  0.625235   NaN   NaN  "
      ]
     },
     "execution_count": 21,
     "metadata": {},
     "output_type": "execute_result"
    }
   ],
   "source": [
    "dfss['ma5'] = dfss['Close'].rolling(5).mean()\n",
    "dfss['ma20'] = dfss['Close'].rolling(20).mean()\n",
    "dfss['ma60'] = dfss['Close'].rolling(60).mean()\n",
    "dfss.head()    \n",
    "    "
   ]
  },
  {
   "cell_type": "code",
   "execution_count": 22,
   "id": "1de3b844-b3aa-41ae-a396-f3cb7f85a882",
   "metadata": {},
   "outputs": [],
   "source": [
    "dfss = dfss.dropna(axis=0)"
   ]
  },
  {
   "cell_type": "code",
   "execution_count": 23,
   "id": "572ef5f8-41d6-410a-acac-083a37b275fc",
   "metadata": {},
   "outputs": [
    {
     "data": {
      "text/plain": [
       "Open      0\n",
       "High      0\n",
       "Low       0\n",
       "Volume    0\n",
       "Change    0\n",
       "Close     0\n",
       "ma5       0\n",
       "ma20      0\n",
       "ma60      0\n",
       "dtype: int64"
      ]
     },
     "execution_count": 23,
     "metadata": {},
     "output_type": "execute_result"
    }
   ],
   "source": [
    "dfss.isna().sum()"
   ]
  },
  {
   "cell_type": "code",
   "execution_count": 24,
   "id": "09b089ea-ae79-479b-98fa-b349e4a98bcd",
   "metadata": {},
   "outputs": [
    {
     "data": {
      "text/html": [
       "<div>\n",
       "<style scoped>\n",
       "    .dataframe tbody tr th:only-of-type {\n",
       "        vertical-align: middle;\n",
       "    }\n",
       "\n",
       "    .dataframe tbody tr th {\n",
       "        vertical-align: top;\n",
       "    }\n",
       "\n",
       "    .dataframe thead th {\n",
       "        text-align: right;\n",
       "    }\n",
       "</style>\n",
       "<table border=\"1\" class=\"dataframe\">\n",
       "  <thead>\n",
       "    <tr style=\"text-align: right;\">\n",
       "      <th></th>\n",
       "      <th>Open</th>\n",
       "      <th>High</th>\n",
       "      <th>Low</th>\n",
       "      <th>Volume</th>\n",
       "      <th>Change</th>\n",
       "      <th>Close</th>\n",
       "      <th>ma5</th>\n",
       "      <th>ma20</th>\n",
       "      <th>ma60</th>\n",
       "    </tr>\n",
       "    <tr>\n",
       "      <th>Date</th>\n",
       "      <th></th>\n",
       "      <th></th>\n",
       "      <th></th>\n",
       "      <th></th>\n",
       "      <th></th>\n",
       "      <th></th>\n",
       "      <th></th>\n",
       "      <th></th>\n",
       "      <th></th>\n",
       "    </tr>\n",
       "  </thead>\n",
       "  <tbody>\n",
       "    <tr>\n",
       "      <th>2013-03-28</th>\n",
       "      <td>0.579933</td>\n",
       "      <td>0.576720</td>\n",
       "      <td>0.604167</td>\n",
       "      <td>0.079191</td>\n",
       "      <td>0.504350</td>\n",
       "      <td>0.594631</td>\n",
       "      <td>0.573960</td>\n",
       "      <td>0.584631</td>\n",
       "      <td>0.569687</td>\n",
       "    </tr>\n",
       "    <tr>\n",
       "      <th>2013-03-29</th>\n",
       "      <td>0.608000</td>\n",
       "      <td>0.605820</td>\n",
       "      <td>0.630208</td>\n",
       "      <td>0.105261</td>\n",
       "      <td>0.547814</td>\n",
       "      <td>0.617450</td>\n",
       "      <td>0.593289</td>\n",
       "      <td>0.583490</td>\n",
       "      <td>0.568591</td>\n",
       "    </tr>\n",
       "    <tr>\n",
       "      <th>2013-04-01</th>\n",
       "      <td>0.622667</td>\n",
       "      <td>0.609788</td>\n",
       "      <td>0.623633</td>\n",
       "      <td>0.033704</td>\n",
       "      <td>0.421758</td>\n",
       "      <td>0.597315</td>\n",
       "      <td>0.597852</td>\n",
       "      <td>0.581678</td>\n",
       "      <td>0.567897</td>\n",
       "    </tr>\n",
       "    <tr>\n",
       "      <th>2013-04-02</th>\n",
       "      <td>0.589267</td>\n",
       "      <td>0.605820</td>\n",
       "      <td>0.621029</td>\n",
       "      <td>0.089072</td>\n",
       "      <td>0.531906</td>\n",
       "      <td>0.614765</td>\n",
       "      <td>0.602148</td>\n",
       "      <td>0.580000</td>\n",
       "      <td>0.567897</td>\n",
       "    </tr>\n",
       "    <tr>\n",
       "      <th>2013-04-03</th>\n",
       "      <td>0.610600</td>\n",
       "      <td>0.600529</td>\n",
       "      <td>0.619792</td>\n",
       "      <td>0.128037</td>\n",
       "      <td>0.464811</td>\n",
       "      <td>0.609396</td>\n",
       "      <td>0.606711</td>\n",
       "      <td>0.577383</td>\n",
       "      <td>0.567919</td>\n",
       "    </tr>\n",
       "  </tbody>\n",
       "</table>\n",
       "</div>"
      ],
      "text/plain": [
       "                Open      High       Low    Volume    Change     Close  \\\n",
       "Date                                                                     \n",
       "2013-03-28  0.579933  0.576720  0.604167  0.079191  0.504350  0.594631   \n",
       "2013-03-29  0.608000  0.605820  0.630208  0.105261  0.547814  0.617450   \n",
       "2013-04-01  0.622667  0.609788  0.623633  0.033704  0.421758  0.597315   \n",
       "2013-04-02  0.589267  0.605820  0.621029  0.089072  0.531906  0.614765   \n",
       "2013-04-03  0.610600  0.600529  0.619792  0.128037  0.464811  0.609396   \n",
       "\n",
       "                 ma5      ma20      ma60  \n",
       "Date                                      \n",
       "2013-03-28  0.573960  0.584631  0.569687  \n",
       "2013-03-29  0.593289  0.583490  0.568591  \n",
       "2013-04-01  0.597852  0.581678  0.567897  \n",
       "2013-04-02  0.602148  0.580000  0.567897  \n",
       "2013-04-03  0.606711  0.577383  0.567919  "
      ]
     },
     "execution_count": 24,
     "metadata": {},
     "output_type": "execute_result"
    }
   ],
   "source": [
    "dfss.head()"
   ]
  },
  {
   "cell_type": "markdown",
   "id": "973258f3-0678-4efe-bb50-55f53805f065",
   "metadata": {},
   "source": [
    "## 슬라이딩 데이터 생성(window_size )"
   ]
  },
  {
   "cell_type": "code",
   "execution_count": 25,
   "id": "745ab6b0-3e90-4089-af77-4d686fe0482f",
   "metadata": {},
   "outputs": [
    {
     "data": {
      "text/plain": [
       "(927, 9)"
      ]
     },
     "execution_count": 25,
     "metadata": {},
     "output_type": "execute_result"
    }
   ],
   "source": [
    "dfss.shape"
   ]
  },
  {
   "cell_type": "code",
   "execution_count": 26,
   "id": "765df6e2-4329-4698-811b-b83b2b05d582",
   "metadata": {},
   "outputs": [
    {
     "data": {
      "text/plain": [
       "Open      0\n",
       "High      0\n",
       "Low       0\n",
       "Volume    0\n",
       "Change    0\n",
       "Close     0\n",
       "ma5       0\n",
       "ma20      0\n",
       "ma60      0\n",
       "dtype: int64"
      ]
     },
     "execution_count": 26,
     "metadata": {},
     "output_type": "execute_result"
    }
   ],
   "source": [
    "dfss.isna().sum()"
   ]
  },
  {
   "cell_type": "code",
   "execution_count": 27,
   "id": "cc022701-d96a-4135-9e48-b4ddbad8ffe7",
   "metadata": {},
   "outputs": [
    {
     "data": {
      "text/html": [
       "<div>\n",
       "<style scoped>\n",
       "    .dataframe tbody tr th:only-of-type {\n",
       "        vertical-align: middle;\n",
       "    }\n",
       "\n",
       "    .dataframe tbody tr th {\n",
       "        vertical-align: top;\n",
       "    }\n",
       "\n",
       "    .dataframe thead th {\n",
       "        text-align: right;\n",
       "    }\n",
       "</style>\n",
       "<table border=\"1\" class=\"dataframe\">\n",
       "  <thead>\n",
       "    <tr style=\"text-align: right;\">\n",
       "      <th></th>\n",
       "      <th>Open</th>\n",
       "      <th>High</th>\n",
       "      <th>Low</th>\n",
       "      <th>Volume</th>\n",
       "      <th>Change</th>\n",
       "      <th>Close</th>\n",
       "      <th>ma5</th>\n",
       "      <th>ma20</th>\n",
       "      <th>ma60</th>\n",
       "    </tr>\n",
       "    <tr>\n",
       "      <th>Date</th>\n",
       "      <th></th>\n",
       "      <th></th>\n",
       "      <th></th>\n",
       "      <th></th>\n",
       "      <th></th>\n",
       "      <th></th>\n",
       "      <th></th>\n",
       "      <th></th>\n",
       "      <th></th>\n",
       "    </tr>\n",
       "  </thead>\n",
       "  <tbody>\n",
       "  </tbody>\n",
       "</table>\n",
       "</div>"
      ],
      "text/plain": [
       "Empty DataFrame\n",
       "Columns: [Open, High, Low, Volume, Change, Close, ma5, ma20, ma60]\n",
       "Index: []"
      ]
     },
     "execution_count": 27,
     "metadata": {},
     "output_type": "execute_result"
    }
   ],
   "source": [
    "dfss[dfss['Change'].isna()]"
   ]
  },
  {
   "cell_type": "code",
   "execution_count": 28,
   "id": "5f868a17-690c-4f24-8c8d-50df3db2178a",
   "metadata": {},
   "outputs": [],
   "source": [
    "dfss = dfss.fillna(method='bfill') #---------- 이전레코드값을 채워라\n",
    "dfss = dfss.fillna(method='ffill') #---------- 다음레코드값을 채워라"
   ]
  },
  {
   "cell_type": "code",
   "execution_count": 29,
   "id": "c0214d73-2a16-42b1-9309-609bfd4f2863",
   "metadata": {},
   "outputs": [
    {
     "data": {
      "text/html": [
       "<div>\n",
       "<style scoped>\n",
       "    .dataframe tbody tr th:only-of-type {\n",
       "        vertical-align: middle;\n",
       "    }\n",
       "\n",
       "    .dataframe tbody tr th {\n",
       "        vertical-align: top;\n",
       "    }\n",
       "\n",
       "    .dataframe thead th {\n",
       "        text-align: right;\n",
       "    }\n",
       "</style>\n",
       "<table border=\"1\" class=\"dataframe\">\n",
       "  <thead>\n",
       "    <tr style=\"text-align: right;\">\n",
       "      <th></th>\n",
       "      <th>Open</th>\n",
       "      <th>High</th>\n",
       "      <th>Low</th>\n",
       "      <th>Volume</th>\n",
       "      <th>Change</th>\n",
       "      <th>Close</th>\n",
       "      <th>ma5</th>\n",
       "      <th>ma20</th>\n",
       "      <th>ma60</th>\n",
       "    </tr>\n",
       "    <tr>\n",
       "      <th>Date</th>\n",
       "      <th></th>\n",
       "      <th></th>\n",
       "      <th></th>\n",
       "      <th></th>\n",
       "      <th></th>\n",
       "      <th></th>\n",
       "      <th></th>\n",
       "      <th></th>\n",
       "      <th></th>\n",
       "    </tr>\n",
       "  </thead>\n",
       "  <tbody>\n",
       "    <tr>\n",
       "      <th>2013-03-28</th>\n",
       "      <td>0.579933</td>\n",
       "      <td>0.576720</td>\n",
       "      <td>0.604167</td>\n",
       "      <td>0.079191</td>\n",
       "      <td>0.504350</td>\n",
       "      <td>0.594631</td>\n",
       "      <td>0.573960</td>\n",
       "      <td>0.584631</td>\n",
       "      <td>0.569687</td>\n",
       "    </tr>\n",
       "    <tr>\n",
       "      <th>2013-03-29</th>\n",
       "      <td>0.608000</td>\n",
       "      <td>0.605820</td>\n",
       "      <td>0.630208</td>\n",
       "      <td>0.105261</td>\n",
       "      <td>0.547814</td>\n",
       "      <td>0.617450</td>\n",
       "      <td>0.593289</td>\n",
       "      <td>0.583490</td>\n",
       "      <td>0.568591</td>\n",
       "    </tr>\n",
       "    <tr>\n",
       "      <th>2013-04-01</th>\n",
       "      <td>0.622667</td>\n",
       "      <td>0.609788</td>\n",
       "      <td>0.623633</td>\n",
       "      <td>0.033704</td>\n",
       "      <td>0.421758</td>\n",
       "      <td>0.597315</td>\n",
       "      <td>0.597852</td>\n",
       "      <td>0.581678</td>\n",
       "      <td>0.567897</td>\n",
       "    </tr>\n",
       "  </tbody>\n",
       "</table>\n",
       "</div>"
      ],
      "text/plain": [
       "                Open      High       Low    Volume    Change     Close  \\\n",
       "Date                                                                     \n",
       "2013-03-28  0.579933  0.576720  0.604167  0.079191  0.504350  0.594631   \n",
       "2013-03-29  0.608000  0.605820  0.630208  0.105261  0.547814  0.617450   \n",
       "2013-04-01  0.622667  0.609788  0.623633  0.033704  0.421758  0.597315   \n",
       "\n",
       "                 ma5      ma20      ma60  \n",
       "Date                                      \n",
       "2013-03-28  0.573960  0.584631  0.569687  \n",
       "2013-03-29  0.593289  0.583490  0.568591  \n",
       "2013-04-01  0.597852  0.581678  0.567897  "
      ]
     },
     "execution_count": 29,
     "metadata": {},
     "output_type": "execute_result"
    }
   ],
   "source": [
    "dfss.head(3)"
   ]
  },
  {
   "cell_type": "markdown",
   "id": "fd876af4-a67b-4cd8-91dd-2a6af27e83ed",
   "metadata": {},
   "source": [
    "## 테스트 데이터 셋 분리"
   ]
  },
  {
   "cell_type": "code",
   "execution_count": null,
   "id": "c03bd73d-6a63-4051-b48a-f6baa68f1523",
   "metadata": {},
   "outputs": [],
   "source": [
    "window_size = 20\n",
    "test_size = 100"
   ]
  },
  {
   "cell_type": "code",
   "execution_count": null,
   "id": "80e26831-412f-4569-90dc-860f1d779ce2",
   "metadata": {},
   "outputs": [
    {
     "ename": "NameError",
     "evalue": "name 'dfss' is not defined",
     "output_type": "error",
     "traceback": [
      "\u001b[1;31m---------------------------------------------------------------------------\u001b[0m",
      "\u001b[1;31mNameError\u001b[0m                                 Traceback (most recent call last)",
      "Input \u001b[1;32mIn [3]\u001b[0m, in \u001b[0;36m<module>\u001b[1;34m\u001b[0m\n\u001b[1;32m----> 1\u001b[0m train \u001b[38;5;241m=\u001b[39m \u001b[43mdfss\u001b[49m\u001b[38;5;241m.\u001b[39miloc[:\u001b[38;5;241m-\u001b[39mtest_size ,  : ]\n\u001b[0;32m      2\u001b[0m test  \u001b[38;5;241m=\u001b[39m dfss\u001b[38;5;241m.\u001b[39miloc[\u001b[38;5;241m-\u001b[39mtest_size: ,  : ]\n\u001b[0;32m      3\u001b[0m train\u001b[38;5;241m.\u001b[39mshape, test\u001b[38;5;241m.\u001b[39mshape\n",
      "\u001b[1;31mNameError\u001b[0m: name 'dfss' is not defined"
     ]
    }
   ],
   "source": [
    "train = dfss.iloc[:-test_size ,  : ]\n",
    "test  = dfss.iloc[-test_size: ,  : ]\n",
    "train.shape, test.shape"
   ]
  },
  {
   "cell_type": "markdown",
   "id": "5a7c6dca-0e30-4a12-af20-ba7f4b9c2c58",
   "metadata": {},
   "source": [
    "* 연습용"
   ]
  },
  {
   "cell_type": "code",
   "execution_count": 32,
   "id": "eadbe1ed-7e8c-4d4e-b730-0313c029eb4f",
   "metadata": {},
   "outputs": [],
   "source": [
    "# traincp = train.iloc[:30, :].copy()\n",
    "# X_list = []\n",
    "# y_list = []\n",
    "# for i in range(len(traincp) - window_size):\n",
    "#     X_train = traincp.iloc[i: window_size+i , :]\n",
    "#     y_train = traincp.iloc[window_size+i , :]\n",
    "#     X_list.append(np.array(X_train))      #[[] ,[] ,[] ,[]]\n",
    "#     y_list.append(np.array(y_train))\n",
    "#     X_arr = np.array(X_list)\n",
    "#     y_arr = np.array(y_list)\n",
    "#     #print(X_train.shape, y_train.shape)\n",
    "# print(X_arr.shape, y_arr.shape)    \n",
    "    "
   ]
  },
  {
   "cell_type": "code",
   "execution_count": 33,
   "id": "ed86ce31-e2cd-47e8-9aa4-0860b270f0be",
   "metadata": {},
   "outputs": [
    {
     "data": {
      "text/plain": [
       "Index(['Open', 'High', 'Low', 'Volume', 'Change', 'Close', 'ma5', 'ma20',\n",
       "       'ma60'],\n",
       "      dtype='object')"
      ]
     },
     "execution_count": 33,
     "metadata": {},
     "output_type": "execute_result"
    }
   ],
   "source": [
    "dfss.columns"
   ]
  },
  {
   "cell_type": "code",
   "execution_count": 34,
   "id": "a7e0fea8-198d-4c3a-94ad-2fe4afd1b8c4",
   "metadata": {},
   "outputs": [],
   "source": [
    "def my_window_data(df_X, df_y,  window_size=20):\n",
    "    X_list = []\n",
    "    y_list = []\n",
    "    for i in range(len(df_X) - window_size):\n",
    "        X_list.append(df_X.iloc[i: window_size+i , :])      #[[] ,[] ,[] ,[]]\n",
    "        y_list.append(df_y.iloc[window_size+i , :])\n",
    "    return np.array(X_list), np.array(y_list)\n"
   ]
  },
  {
   "cell_type": "code",
   "execution_count": 35,
   "id": "505c4bea-20cc-403f-a658-a0b23b17dd9d",
   "metadata": {},
   "outputs": [
    {
     "name": "stdout",
     "output_type": "stream",
     "text": [
      "(807, 20, 5) (807, 1)\n",
      "(80, 20, 5) (80, 1)\n"
     ]
    }
   ],
   "source": [
    "X_col = ['Open', 'High', 'Low', 'Volume', 'Change'] #....mon rsi news\n",
    "y_col = ['Close']\n",
    "X_train, y_train = my_window_data(train[X_col], train[y_col], 20)\n",
    "print(X_train.shape, y_train.shape)\n",
    "\n",
    "X_test, y_test = my_window_data(test[X_col], test[y_col], 20)\n",
    "print(X_test.shape, y_test.shape)"
   ]
  },
  {
   "cell_type": "markdown",
   "id": "219003ed-8bfd-40b8-9e9a-cbd36c8c8864",
   "metadata": {},
   "source": [
    "# LSTM 모델 "
   ]
  },
  {
   "cell_type": "code",
   "execution_count": 36,
   "id": "a85d7123-ca65-44e1-9810-4c5955c22b69",
   "metadata": {},
   "outputs": [],
   "source": [
    "from keras.models import Sequential\n",
    "from keras.layers import Dense, LSTM                 #RNN\n",
    "# from keras.layers import Dense, Conv2D, MaxPool2D  #CNN\n",
    "from keras.callbacks import EarlyStopping, ModelCheckpoint\n"
   ]
  },
  {
   "cell_type": "code",
   "execution_count": 37,
   "id": "ce3c8273-5b9e-4305-bc2c-2cf1190b2a60",
   "metadata": {},
   "outputs": [],
   "source": [
    "lstm = LSTM( units = 16,\n",
    "             input_shape=(X_train.shape[1], X_train.shape[2]),  #(4980, 20, 5)  --> (20,5),    \n",
    "             activation='tanh',\n",
    "             recurrent_activation='sigmoid',\n",
    "             dropout=0.0,\n",
    "             recurrent_dropout=0.0,\n",
    "             return_sequences=True\n",
    "      )\n",
    "model = Sequential()\n",
    "model.add( lstm )                #256개 내보내기\n",
    "model.add( LSTM( units = 10, return_sequences=True ) ) #128개 내보내기\n",
    "model.add( LSTM( units = 8) )   #128개 내보내기\n",
    "model.add( Dense(1) )"
   ]
  },
  {
   "cell_type": "code",
   "execution_count": 38,
   "id": "2922d252-ceec-4fc1-8a97-d1136e89b0e9",
   "metadata": {},
   "outputs": [
    {
     "name": "stdout",
     "output_type": "stream",
     "text": [
      "Model: \"sequential\"\n",
      "_________________________________________________________________\n",
      " Layer (type)                Output Shape              Param #   \n",
      "=================================================================\n",
      " lstm (LSTM)                 (None, 20, 16)            1408      \n",
      "                                                                 \n",
      " lstm_1 (LSTM)               (None, 20, 10)            1080      \n",
      "                                                                 \n",
      " lstm_2 (LSTM)               (None, 8)                 608       \n",
      "                                                                 \n",
      " dense (Dense)               (None, 1)                 9         \n",
      "                                                                 \n",
      "=================================================================\n",
      "Total params: 3,105\n",
      "Trainable params: 3,105\n",
      "Non-trainable params: 0\n",
      "_________________________________________________________________\n"
     ]
    }
   ],
   "source": [
    "model.summary()"
   ]
  },
  {
   "cell_type": "code",
   "execution_count": 39,
   "id": "cf70a08c-6907-4110-81ed-f15fc15d463d",
   "metadata": {},
   "outputs": [],
   "source": [
    "import os\n",
    "import shutil\n",
    "\n",
    "if os.path.exists(\"./models\"):\n",
    "    shutil.rmtree(\"./models\") \n",
    "\n",
    "if not os.path.exists(\"./models\"):\n",
    "    os.mkdir('./models')  \n",
    "# if not os.direxists('models') :\n",
    "#     os.mkdir(\"models\")    "
   ]
  },
  {
   "cell_type": "code",
   "execution_count": 40,
   "id": "5b9b5e3a-d104-4447-bc56-856cf3c57859",
   "metadata": {},
   "outputs": [
    {
     "name": "stdout",
     "output_type": "stream",
     "text": [
      "Epoch 1/100\n",
      "21/21 [==============================] - 6s 71ms/step - loss: 0.0754 - val_loss: 0.0244\n",
      "Epoch 2/100\n",
      "21/21 [==============================] - 0s 17ms/step - loss: 0.0177 - val_loss: 0.0213\n",
      "Epoch 3/100\n",
      "21/21 [==============================] - 0s 17ms/step - loss: 0.0135 - val_loss: 0.0152\n",
      "Epoch 4/100\n",
      "21/21 [==============================] - 0s 17ms/step - loss: 0.0101 - val_loss: 0.0109\n",
      "Epoch 5/100\n",
      "21/21 [==============================] - 0s 17ms/step - loss: 0.0069 - val_loss: 0.0076\n",
      "Epoch 6/100\n",
      "21/21 [==============================] - 0s 17ms/step - loss: 0.0059 - val_loss: 0.0070\n",
      "Epoch 7/100\n",
      "21/21 [==============================] - 0s 16ms/step - loss: 0.0056 - val_loss: 0.0086\n",
      "Epoch 8/100\n",
      "21/21 [==============================] - 0s 17ms/step - loss: 0.0055 - val_loss: 0.0061\n",
      "Epoch 9/100\n",
      "21/21 [==============================] - 0s 17ms/step - loss: 0.0050 - val_loss: 0.0052\n",
      "Epoch 10/100\n",
      "21/21 [==============================] - 0s 16ms/step - loss: 0.0047 - val_loss: 0.0053\n",
      "Epoch 11/100\n",
      "21/21 [==============================] - 0s 18ms/step - loss: 0.0045 - val_loss: 0.0050\n",
      "Epoch 12/100\n",
      "21/21 [==============================] - 0s 18ms/step - loss: 0.0042 - val_loss: 0.0043\n",
      "Epoch 13/100\n",
      "21/21 [==============================] - 0s 16ms/step - loss: 0.0041 - val_loss: 0.0053\n",
      "Epoch 14/100\n",
      "21/21 [==============================] - 0s 16ms/step - loss: 0.0042 - val_loss: 0.0044\n",
      "Epoch 15/100\n",
      "21/21 [==============================] - 0s 16ms/step - loss: 0.0040 - val_loss: 0.0049\n",
      "Epoch 16/100\n",
      "21/21 [==============================] - 0s 17ms/step - loss: 0.0039 - val_loss: 0.0041\n",
      "Epoch 17/100\n",
      "21/21 [==============================] - 0s 17ms/step - loss: 0.0038 - val_loss: 0.0040\n",
      "Epoch 18/100\n",
      "21/21 [==============================] - 0s 16ms/step - loss: 0.0038 - val_loss: 0.0042\n",
      "Epoch 19/100\n",
      "21/21 [==============================] - 0s 17ms/step - loss: 0.0035 - val_loss: 0.0037\n",
      "Epoch 20/100\n",
      "21/21 [==============================] - 0s 16ms/step - loss: 0.0035 - val_loss: 0.0045\n",
      "Epoch 21/100\n",
      "21/21 [==============================] - 0s 17ms/step - loss: 0.0033 - val_loss: 0.0034\n",
      "Epoch 22/100\n",
      "21/21 [==============================] - 0s 17ms/step - loss: 0.0032 - val_loss: 0.0033\n",
      "Epoch 23/100\n",
      "21/21 [==============================] - 0s 16ms/step - loss: 0.0034 - val_loss: 0.0039\n",
      "Epoch 24/100\n",
      "21/21 [==============================] - 0s 17ms/step - loss: 0.0031 - val_loss: 0.0031\n",
      "Epoch 25/100\n",
      "21/21 [==============================] - 0s 17ms/step - loss: 0.0030 - val_loss: 0.0030\n",
      "Epoch 26/100\n",
      "21/21 [==============================] - 0s 16ms/step - loss: 0.0030 - val_loss: 0.0041\n",
      "Epoch 27/100\n",
      "21/21 [==============================] - 0s 16ms/step - loss: 0.0030 - val_loss: 0.0030\n",
      "Epoch 28/100\n",
      "21/21 [==============================] - 0s 18ms/step - loss: 0.0029 - val_loss: 0.0029\n",
      "Epoch 29/100\n",
      "21/21 [==============================] - 0s 17ms/step - loss: 0.0028 - val_loss: 0.0027\n",
      "Epoch 30/100\n",
      "21/21 [==============================] - 0s 15ms/step - loss: 0.0028 - val_loss: 0.0030\n",
      "Epoch 31/100\n",
      "21/21 [==============================] - 0s 16ms/step - loss: 0.0028 - val_loss: 0.0028\n",
      "Epoch 32/100\n",
      "21/21 [==============================] - 0s 18ms/step - loss: 0.0026 - val_loss: 0.0025\n",
      "Epoch 33/100\n",
      "21/21 [==============================] - 0s 16ms/step - loss: 0.0026 - val_loss: 0.0028\n",
      "Epoch 34/100\n",
      "21/21 [==============================] - 0s 16ms/step - loss: 0.0026 - val_loss: 0.0026\n",
      "Epoch 35/100\n",
      "21/21 [==============================] - 0s 17ms/step - loss: 0.0026 - val_loss: 0.0022\n",
      "Epoch 36/100\n",
      "21/21 [==============================] - 0s 16ms/step - loss: 0.0025 - val_loss: 0.0025\n",
      "Epoch 37/100\n",
      "21/21 [==============================] - 0s 18ms/step - loss: 0.0024 - val_loss: 0.0022\n",
      "Epoch 38/100\n",
      "21/21 [==============================] - 0s 17ms/step - loss: 0.0023 - val_loss: 0.0021\n",
      "Epoch 39/100\n",
      "21/21 [==============================] - 0s 17ms/step - loss: 0.0024 - val_loss: 0.0021\n",
      "Epoch 40/100\n",
      "21/21 [==============================] - 0s 16ms/step - loss: 0.0023 - val_loss: 0.0023\n",
      "Epoch 41/100\n",
      "21/21 [==============================] - 0s 18ms/step - loss: 0.0022 - val_loss: 0.0019\n",
      "Epoch 42/100\n",
      "21/21 [==============================] - 0s 16ms/step - loss: 0.0022 - val_loss: 0.0022\n",
      "Epoch 43/100\n",
      "21/21 [==============================] - 0s 16ms/step - loss: 0.0022 - val_loss: 0.0022\n",
      "Epoch 44/100\n",
      "21/21 [==============================] - 0s 16ms/step - loss: 0.0022 - val_loss: 0.0023\n",
      "Epoch 45/100\n",
      "21/21 [==============================] - 0s 16ms/step - loss: 0.0021 - val_loss: 0.0020\n",
      "Epoch 46/100\n",
      "21/21 [==============================] - 0s 17ms/step - loss: 0.0021 - val_loss: 0.0017\n",
      "Epoch 47/100\n",
      "21/21 [==============================] - 0s 16ms/step - loss: 0.0024 - val_loss: 0.0022\n",
      "Epoch 48/100\n",
      "21/21 [==============================] - 0s 16ms/step - loss: 0.0020 - val_loss: 0.0019\n",
      "Epoch 49/100\n",
      "21/21 [==============================] - 0s 18ms/step - loss: 0.0019 - val_loss: 0.0017\n",
      "Epoch 50/100\n",
      "21/21 [==============================] - 0s 15ms/step - loss: 0.0019 - val_loss: 0.0018\n",
      "Epoch 51/100\n",
      "21/21 [==============================] - 0s 17ms/step - loss: 0.0019 - val_loss: 0.0016\n",
      "Epoch 52/100\n",
      "21/21 [==============================] - 0s 16ms/step - loss: 0.0019 - val_loss: 0.0017\n",
      "Epoch 53/100\n",
      "21/21 [==============================] - 0s 16ms/step - loss: 0.0018 - val_loss: 0.0019\n",
      "Epoch 54/100\n",
      "21/21 [==============================] - 0s 16ms/step - loss: 0.0018 - val_loss: 0.0016\n",
      "Epoch 55/100\n",
      "21/21 [==============================] - 0s 18ms/step - loss: 0.0018 - val_loss: 0.0015\n",
      "Epoch 56/100\n",
      "21/21 [==============================] - 0s 16ms/step - loss: 0.0017 - val_loss: 0.0015\n",
      "Epoch 57/100\n",
      "21/21 [==============================] - 0s 17ms/step - loss: 0.0017 - val_loss: 0.0014\n",
      "Epoch 58/100\n",
      "21/21 [==============================] - 0s 16ms/step - loss: 0.0018 - val_loss: 0.0015\n",
      "Epoch 59/100\n",
      "21/21 [==============================] - 0s 16ms/step - loss: 0.0016 - val_loss: 0.0015\n",
      "Epoch 60/100\n",
      "21/21 [==============================] - 0s 15ms/step - loss: 0.0016 - val_loss: 0.0016\n",
      "Epoch 61/100\n",
      "21/21 [==============================] - 0s 16ms/step - loss: 0.0016 - val_loss: 0.0018\n",
      "Epoch 62/100\n",
      "21/21 [==============================] - 0s 17ms/step - loss: 0.0016 - val_loss: 0.0013\n",
      "Epoch 63/100\n",
      "21/21 [==============================] - 0s 16ms/step - loss: 0.0016 - val_loss: 0.0014\n",
      "Epoch 64/100\n",
      "21/21 [==============================] - 0s 16ms/step - loss: 0.0015 - val_loss: 0.0018\n",
      "Epoch 65/100\n",
      "21/21 [==============================] - 0s 16ms/step - loss: 0.0016 - val_loss: 0.0014\n",
      "Epoch 66/100\n",
      "21/21 [==============================] - 0s 17ms/step - loss: 0.0016 - val_loss: 0.0013\n",
      "Epoch 67/100\n",
      "21/21 [==============================] - 0s 16ms/step - loss: 0.0018 - val_loss: 0.0014\n",
      "Epoch 68/100\n",
      "21/21 [==============================] - 0s 16ms/step - loss: 0.0017 - val_loss: 0.0013\n",
      "Epoch 69/100\n",
      "21/21 [==============================] - 0s 17ms/step - loss: 0.0014 - val_loss: 0.0012\n",
      "Epoch 70/100\n",
      "21/21 [==============================] - 0s 17ms/step - loss: 0.0015 - val_loss: 0.0012\n",
      "Epoch 71/100\n",
      "21/21 [==============================] - 0s 16ms/step - loss: 0.0013 - val_loss: 0.0014\n",
      "Epoch 72/100\n",
      "21/21 [==============================] - 0s 17ms/step - loss: 0.0015 - val_loss: 0.0011\n",
      "Epoch 73/100\n",
      "21/21 [==============================] - 0s 17ms/step - loss: 0.0014 - val_loss: 0.0011\n",
      "Epoch 74/100\n",
      "21/21 [==============================] - 0s 17ms/step - loss: 0.0013 - val_loss: 0.0010\n",
      "Epoch 75/100\n",
      "21/21 [==============================] - 0s 16ms/step - loss: 0.0012 - val_loss: 0.0013\n",
      "Epoch 76/100\n",
      "21/21 [==============================] - 0s 17ms/step - loss: 0.0013 - val_loss: 0.0010\n",
      "Epoch 77/100\n",
      "21/21 [==============================] - 0s 16ms/step - loss: 0.0012 - val_loss: 0.0010\n",
      "Epoch 78/100\n",
      "21/21 [==============================] - 0s 17ms/step - loss: 0.0013 - val_loss: 9.8190e-04\n",
      "Epoch 79/100\n",
      "21/21 [==============================] - 0s 16ms/step - loss: 0.0012 - val_loss: 0.0013\n",
      "Epoch 80/100\n",
      "21/21 [==============================] - 0s 16ms/step - loss: 0.0012 - val_loss: 0.0013\n",
      "Epoch 81/100\n",
      "21/21 [==============================] - 0s 16ms/step - loss: 0.0013 - val_loss: 0.0011\n",
      "Epoch 82/100\n",
      "21/21 [==============================] - 0s 15ms/step - loss: 0.0012 - val_loss: 0.0011\n",
      "Epoch 83/100\n",
      "21/21 [==============================] - 0s 17ms/step - loss: 0.0011 - val_loss: 9.2569e-04\n",
      "Epoch 84/100\n",
      "21/21 [==============================] - 0s 16ms/step - loss: 0.0012 - val_loss: 0.0010\n",
      "Epoch 85/100\n",
      "21/21 [==============================] - 0s 18ms/step - loss: 0.0013 - val_loss: 9.1243e-04\n",
      "Epoch 86/100\n",
      "21/21 [==============================] - 0s 17ms/step - loss: 0.0011 - val_loss: 8.5258e-04\n",
      "Epoch 87/100\n",
      "21/21 [==============================] - 0s 16ms/step - loss: 0.0010 - val_loss: 0.0011\n",
      "Epoch 88/100\n",
      "21/21 [==============================] - 0s 16ms/step - loss: 0.0010 - val_loss: 9.2533e-04\n",
      "Epoch 89/100\n",
      "21/21 [==============================] - 0s 16ms/step - loss: 0.0010 - val_loss: 8.8532e-04\n",
      "Epoch 90/100\n",
      "21/21 [==============================] - 0s 16ms/step - loss: 0.0010 - val_loss: 9.5305e-04\n",
      "Epoch 91/100\n",
      "21/21 [==============================] - 0s 16ms/step - loss: 0.0011 - val_loss: 8.9531e-04\n",
      "Epoch 92/100\n",
      "21/21 [==============================] - 0s 17ms/step - loss: 9.9010e-04 - val_loss: 8.4848e-04\n",
      "Epoch 93/100\n",
      "21/21 [==============================] - 0s 15ms/step - loss: 9.9871e-04 - val_loss: 9.4068e-04\n",
      "Epoch 94/100\n",
      "21/21 [==============================] - 0s 16ms/step - loss: 9.4997e-04 - val_loss: 0.0010\n",
      "Epoch 95/100\n",
      "21/21 [==============================] - 0s 16ms/step - loss: 0.0010 - val_loss: 0.0011\n",
      "Epoch 96/100\n",
      "21/21 [==============================] - 0s 16ms/step - loss: 0.0010 - val_loss: 8.8297e-04\n",
      "Epoch 97/100\n",
      "21/21 [==============================] - 0s 23ms/step - loss: 9.7630e-04 - val_loss: 8.1017e-04\n",
      "Epoch 98/100\n",
      "21/21 [==============================] - 0s 21ms/step - loss: 9.6250e-04 - val_loss: 7.5416e-04\n",
      "Epoch 99/100\n",
      "21/21 [==============================] - 0s 16ms/step - loss: 0.0010 - val_loss: 7.8768e-04\n",
      "Epoch 100/100\n",
      "21/21 [==============================] - 0s 16ms/step - loss: 9.1317e-04 - val_loss: 7.7882e-04\n"
     ]
    }
   ],
   "source": [
    "model.compile(loss=\"mse\", optimizer='adam')  #, metrics=\"mse\")\n",
    "\n",
    "stop = EarlyStopping(patience=10, monitor='val_loss')\n",
    "\n",
    "check_point = ModelCheckpoint(filepath='./models/mymodel_{epoch:02d}_{val_loss:.4f}.h5',\n",
    "                    monitor='val_loss',          #------------어떤 점수를 기준으로 모니터링할까\n",
    "                    save_best_only=True,         #------------이전보다 좋아질때만 저장\n",
    "                    save_weights_only=False      #------------모델+가중치 같이 저장\n",
    "                   ) \n",
    "res = model.fit(X_train, y_train, \n",
    "          callbacks=[stop, check_point],\n",
    "          epochs = 100,\n",
    "          batch_size = 32,\n",
    "          validation_split=0.2\n",
    "         )"
   ]
  },
  {
   "cell_type": "markdown",
   "id": "dc9cf002-737b-4f18-9cf7-4ff8007ba030",
   "metadata": {},
   "source": [
    "# 학습 평가 시각화"
   ]
  },
  {
   "cell_type": "code",
   "execution_count": 41,
   "id": "f3701dd8-e326-4f1f-8053-e007d4bc7c97",
   "metadata": {},
   "outputs": [
    {
     "data": {
      "image/png": "[encoded data removed]",
      "text/plain": [
       "<Figure size 432x288 with 1 Axes>"
      ]
     },
     "metadata": {},
     "output_type": "display_data"
    }
   ],
   "source": [
    "plt.plot(np.arange(len(res.history['val_loss'])), res.history['loss'], c='red', label='train_loss_9')\n",
    "plt.plot(np.arange(len(res.history['val_loss'])), res.history['val_loss'], c='blue', label='val_loss_1')\n",
    "plt.legend()\n",
    "plt.show()\n"
   ]
  },
  {
   "cell_type": "markdown",
   "id": "6d7fc421-cfa6-453f-a18c-3d62b0bdac64",
   "metadata": {},
   "source": [
    "# 예측 "
   ]
  },
  {
   "cell_type": "code",
   "execution_count": 42,
   "id": "ffdb3c13-c626-4685-a846-76889dec10ca",
   "metadata": {},
   "outputs": [
    {
     "name": "stdout",
     "output_type": "stream",
     "text": [
      "(80, 1) (80, 1)\n"
     ]
    }
   ],
   "source": [
    "pred = model.predict(X_test)\n",
    "print(pred.shape, y_test.shape)"
   ]
  },
  {
   "cell_type": "code",
   "execution_count": 43,
   "id": "a547211d-02f7-4859-b61f-b7cd8b3f45aa",
   "metadata": {},
   "outputs": [
    {
     "data": {
      "text/plain": [
       "(array([[0.67474157],\n",
       "        [0.6849286 ],\n",
       "        [0.70396435]], dtype=float32),\n",
       " array([[0.72348993],\n",
       "        [0.77315436],\n",
       "        [0.74362416]]))"
      ]
     },
     "execution_count": 43,
     "metadata": {},
     "output_type": "execute_result"
    }
   ],
   "source": [
    "pred[:3], y_test[:3]"
   ]
  },
  {
   "cell_type": "code",
   "execution_count": 44,
   "id": "aaafd407-a084-44fb-b05b-1206b6ee98b4",
   "metadata": {},
   "outputs": [
    {
     "data": {
      "image/png": "[encoded data removed]",
      "text/plain": [
       "<Figure size 432x288 with 1 Axes>"
      ]
     },
     "metadata": {},
     "output_type": "display_data"
    }
   ],
   "source": [
    "plt.plot(np.arange(pred.shape[0]), pred, c='red', label='pred')\n",
    "plt.plot(np.arange(pred.shape[0]), y_test, c='blue', label='ytest')\n",
    "plt.legend()\n",
    "plt.show()\n"
   ]
  },
  {
   "cell_type": "code",
   "execution_count": 45,
   "id": "c5dc7ea1-bf3d-4030-b8c4-49715c3ea1c5",
   "metadata": {},
   "outputs": [
    {
     "name": "stdout",
     "output_type": "stream",
     "text": [
      "[[31393.648]\n",
      " [31545.438]\n",
      " [31829.07 ]\n",
      " [31760.174]\n",
      " [31773.088]]\n"
     ]
    }
   ],
   "source": [
    "pred_orig   = scaler1.inverse_transform(pred)\n",
    "y_test_orig   = scaler1.inverse_transform(y_test)\n",
    "print(pred_orig[:5])"
   ]
  },
  {
   "cell_type": "code",
   "execution_count": 46,
   "id": "be8193b3-3736-4c09-a543-6c35a52ba275",
   "metadata": {},
   "outputs": [
    {
     "data": {
      "image/png": "[encoded data removed]",
      "text/plain": [
       "<Figure size 432x288 with 1 Axes>"
      ]
     },
     "metadata": {},
     "output_type": "display_data"
    }
   ],
   "source": [
    "plt.plot(np.arange(pred_orig.shape[0]), pred_orig, c='red', label='pred')\n",
    "plt.plot(np.arange(pred_orig.shape[0]), y_test_orig, c='blue', label='ytest')\n",
    "plt.legend()\n",
    "plt.show()\n"
   ]
  },
  {
   "cell_type": "code",
   "execution_count": 47,
   "id": "d06ede46-db81-4c38-bfdb-ee04927f744a",
   "metadata": {},
   "outputs": [],
   "source": [
    "## 최종 답안지 ---- pred_orig"
   ]
  }
 ],
 "metadata": {
  "kernelspec": {
   "display_name": "Python 3 (ipykernel)",
   "language": "python",
   "name": "python3"
  },
  "language_info": {
   "codemirror_mode": {
    "name": "ipython",
    "version": 3
   },
   "file_extension": ".py",
   "mimetype": "text/x-python",
   "name": "python",
   "nbconvert_exporter": "python",
   "pygments_lexer": "ipython3",
   "version": "3.8.8"
  },
  "toc-autonumbering": true
 },
 "nbformat": 4,
 "nbformat_minor": 5
}
