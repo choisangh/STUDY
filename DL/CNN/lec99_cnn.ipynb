{
  "cells": [
    {
      "cell_type": "markdown",
      "metadata": {
        "id": "view-in-github",
        "colab_type": "text"
      },
      "source": [
        "<a href=\"https://colab.research.google.com/github/choisangh/STUDY/blob/main/DL/CNN/lec99_cnn.ipynb\" target=\"_parent\"><img src=\"https://colab.research.google.com/assets/colab-badge.svg\" alt=\"Open In Colab\"/></a>"
      ]
    },
    {
      "cell_type": "markdown",
      "id": "313717cc-87fb-4ee1-80df-16ede4857da5",
      "metadata": {
        "id": "313717cc-87fb-4ee1-80df-16ede4857da5"
      },
      "source": [
        "# lec05. 합성곱 신경망 (Convolutional neural network, CNN)\n",
        "* 이미지 분석 및 분류에 가장 일반적으로 사용되는 인공신경망"
      ]
    },
    {
      "cell_type": "code",
      "execution_count": null,
      "id": "6092189a-c7a6-4735-a837-6ea177edac25",
      "metadata": {
        "id": "6092189a-c7a6-4735-a837-6ea177edac25",
        "outputId": "845a6f34-4aa5-42b3-e032-2d13a4ad1848"
      },
      "outputs": [
        {
          "data": {
            "text/html": [
              "<style>.container{width:100% !important;}</style>"
            ],
            "text/plain": [
              "<IPython.core.display.HTML object>"
            ]
          },
          "metadata": {},
          "output_type": "display_data"
        }
      ],
      "source": [
        "import pandas as pd\n",
        "import numpy as np\n",
        "import matplotlib.pyplot as plt\n",
        "import seaborn as sns\n",
        "\n",
        "from keras.models import Sequential, Model\n",
        "from keras.layers import Dense, Activation, Conv2D, MaxPooling2D, InputLayer,Flatten\n",
        "import tensorflow as tf\n",
        "\n",
        "\n",
        "import warnings\n",
        "warnings.filterwarnings(action='ignore')\n",
        "\n",
        "#-------------------- 차트 관련 속성 (한글처리, 그리드) -----------\n",
        "#plt.rc('font', family='NanumGothicOTF') # For MacOS\n",
        "plt.rcParams['font.family']= 'Malgun Gothic'\n",
        "plt.rcParams['axes.unicode_minus'] = False\n",
        "sns.set()\n",
        "\n",
        "#-------------------- 주피터 , 출력결과 넓이 늘리기 ---------------\n",
        "from IPython.core.display import display, HTML\n",
        "display(HTML(\"<style>.container{width:100% !important;}</style>\"))\n",
        "pd.set_option('display.max_rows', 100)\n",
        "pd.set_option('display.max_columns', 100)\n",
        "pd.set_option('max_colwidth', None)\n",
        "\n",
        "# from sklearn.datasets import load_boston\n",
        "from keras.datasets     import mnist\n",
        "\n"
      ]
    },
    {
      "cell_type": "markdown",
      "id": "2a655b2d-07f5-4d79-a95f-290940efc2eb",
      "metadata": {
        "id": "2a655b2d-07f5-4d79-a95f-290940efc2eb"
      },
      "source": [
        "# Data Load "
      ]
    },
    {
      "cell_type": "code",
      "execution_count": null,
      "id": "a49a9a21-876c-4ff5-a969-35f99394c2c7",
      "metadata": {
        "id": "a49a9a21-876c-4ff5-a969-35f99394c2c7"
      },
      "outputs": [],
      "source": [
        "(X_train, y_train), (X_test, y_test) = mnist.load_data() "
      ]
    },
    {
      "cell_type": "markdown",
      "id": "f82c8cae-ea82-47a8-9967-91c00200bd6a",
      "metadata": {
        "id": "f82c8cae-ea82-47a8-9967-91c00200bd6a"
      },
      "source": [
        "# 전처리 & 가공"
      ]
    },
    {
      "cell_type": "code",
      "execution_count": null,
      "id": "89c506bc-da86-4b32-9002-bbbffe294667",
      "metadata": {
        "id": "89c506bc-da86-4b32-9002-bbbffe294667"
      },
      "outputs": [],
      "source": [
        "X_train = X_train.reshape((60000, 28, 28, 1))\n",
        "X_test  = X_test.reshape((10000, 28, 28, 1))\n",
        "X_train, X_test = X_train / 255.0,   X_test / 255.0"
      ]
    },
    {
      "cell_type": "markdown",
      "id": "286854fd-2c97-432d-88f2-5d0c637c76cd",
      "metadata": {
        "tags": [],
        "id": "286854fd-2c97-432d-88f2-5d0c637c76cd"
      },
      "source": [
        "# CNN 합성곱 신경망 \n",
        "* Conv2D(32, (3, 3) ... )\n",
        "<pre>\n",
        "  - 32    : 필터 (filter)         : 이미지에서 특징 (feature)을 분리,  출력 공간의 차원 (깊이) 결정\n",
        "  - (3:3) : 커널크기(kernel_size) : 합성곱에 사용되는 필터(=커널)  크기\n",
        "</pre>\n",
        "  \n",
        "* 맥스풀링 (Max-pooling) : 특정 영역에서 가장 큰 값을 샘플링하는 풀링 방식  \n",
        "\n",
        "* strides : 풀링 필터를 이동시키는 간격"
      ]
    },
    {
      "cell_type": "markdown",
      "id": "26e20c4b-ed3c-4728-a0cb-e2484a0ecb81",
      "metadata": {
        "id": "26e20c4b-ed3c-4728-a0cb-e2484a0ecb81"
      },
      "source": [
        "<img src=\"https://codetorial.net/tensorflow/_images/convolutional_neural_network_04.png\" width=700>"
      ]
    },
    {
      "cell_type": "code",
      "execution_count": null,
      "id": "aed13f72-fccd-428f-a25d-8a4f16244013",
      "metadata": {
        "id": "aed13f72-fccd-428f-a25d-8a4f16244013",
        "outputId": "ccf2c3e2-87cb-4f5f-e919-9a563d7c53dd"
      },
      "outputs": [
        {
          "name": "stdout",
          "output_type": "stream",
          "text": [
            "Model: \"sequential\"\n",
            "_________________________________________________________________\n",
            " Layer (type)                Output Shape              Param #   \n",
            "=================================================================\n",
            " conv2d (Conv2D)             (None, 26, 26, 32)        320       \n",
            "                                                                 \n",
            " max_pooling2d (MaxPooling2D  (None, 13, 13, 32)       0         \n",
            " )                                                               \n",
            "                                                                 \n",
            " conv2d_1 (Conv2D)           (None, 11, 11, 64)        18496     \n",
            "                                                                 \n",
            " max_pooling2d_1 (MaxPooling  (None, 5, 5, 64)         0         \n",
            " 2D)                                                             \n",
            "                                                                 \n",
            " conv2d_2 (Conv2D)           (None, 3, 3, 64)          36928     \n",
            "                                                                 \n",
            " max_pooling2d_2 (MaxPooling  (None, 1, 1, 64)         0         \n",
            " 2D)                                                             \n",
            "                                                                 \n",
            "=================================================================\n",
            "Total params: 55,744\n",
            "Trainable params: 55,744\n",
            "Non-trainable params: 0\n",
            "_________________________________________________________________\n"
          ]
        }
      ],
      "source": [
        "model = Sequential() \n",
        "model.add(Conv2D(32, (3, 3), activation='relu', input_shape=(28, 28, 1)))  #  filters \n",
        "model.add(MaxPooling2D((2, 2)))\n",
        "model.add(Conv2D(64, (3, 3), activation='relu'))\n",
        "model.add(MaxPooling2D((2, 2)))\n",
        "model.add(Conv2D(64, (3, 3), activation='relu'))\n",
        "model.add(MaxPooling2D((2, 2)))\n",
        "model.summary()"
      ]
    },
    {
      "cell_type": "markdown",
      "id": "63fb3a31-61b7-48a6-ac15-e341f986d33a",
      "metadata": {
        "id": "63fb3a31-61b7-48a6-ac15-e341f986d33a"
      },
      "source": [
        "# FC 추가"
      ]
    },
    {
      "cell_type": "markdown",
      "id": "7b564030-9b8d-4ad8-a019-3f408b6e9738",
      "metadata": {
        "id": "7b564030-9b8d-4ad8-a019-3f408b6e9738"
      },
      "source": [
        "<img src=\"https://codetorial.net/tensorflow/_images/convolutional_neural_network_05.png\" width=700>"
      ]
    },
    {
      "cell_type": "code",
      "execution_count": null,
      "id": "34b777f3-be61-422e-8363-c0f79262d21d",
      "metadata": {
        "id": "34b777f3-be61-422e-8363-c0f79262d21d",
        "outputId": "a4fd1943-8836-4303-a8b3-dc250911091c"
      },
      "outputs": [
        {
          "name": "stdout",
          "output_type": "stream",
          "text": [
            "Model: \"sequential\"\n",
            "_________________________________________________________________\n",
            " Layer (type)                Output Shape              Param #   \n",
            "=================================================================\n",
            " conv2d (Conv2D)             (None, 26, 26, 32)        320       \n",
            "                                                                 \n",
            " max_pooling2d (MaxPooling2D  (None, 13, 13, 32)       0         \n",
            " )                                                               \n",
            "                                                                 \n",
            " conv2d_1 (Conv2D)           (None, 11, 11, 64)        18496     \n",
            "                                                                 \n",
            " max_pooling2d_1 (MaxPooling  (None, 5, 5, 64)         0         \n",
            " 2D)                                                             \n",
            "                                                                 \n",
            " conv2d_2 (Conv2D)           (None, 3, 3, 64)          36928     \n",
            "                                                                 \n",
            " max_pooling2d_2 (MaxPooling  (None, 1, 1, 64)         0         \n",
            " 2D)                                                             \n",
            "                                                                 \n",
            " flatten (Flatten)           (None, 64)                0         \n",
            "                                                                 \n",
            " dense (Dense)               (None, 64)                4160      \n",
            "                                                                 \n",
            " dense_1 (Dense)             (None, 10)                650       \n",
            "                                                                 \n",
            "=================================================================\n",
            "Total params: 60,554\n",
            "Trainable params: 60,554\n",
            "Non-trainable params: 0\n",
            "_________________________________________________________________\n"
          ]
        }
      ],
      "source": [
        "model.add(Flatten())\n",
        "model.add(Dense(64, activation='relu'))\n",
        "model.add(Dense(10, activation='softmax'))\n",
        "model.summary()"
      ]
    },
    {
      "cell_type": "markdown",
      "id": "7e04b57b-cfcb-4b6f-aa67-0eee16dee5ba",
      "metadata": {
        "id": "7e04b57b-cfcb-4b6f-aa67-0eee16dee5ba"
      },
      "source": [
        "* 모델 구성 : Sequential([]) 사용 예"
      ]
    },
    {
      "cell_type": "code",
      "execution_count": null,
      "id": "25c0885c-b35a-429e-9a3a-3585c5856327",
      "metadata": {
        "id": "25c0885c-b35a-429e-9a3a-3585c5856327",
        "outputId": "2e3c167a-9fdd-4065-d7e7-3b28f93300b2"
      },
      "outputs": [
        {
          "name": "stdout",
          "output_type": "stream",
          "text": [
            "Model: \"sequential_1\"\n",
            "_________________________________________________________________\n",
            " Layer (type)                Output Shape              Param #   \n",
            "=================================================================\n",
            " conv2d_3 (Conv2D)           (None, 26, 26, 32)        320       \n",
            "                                                                 \n",
            " max_pooling2d_3 (MaxPooling  (None, 13, 13, 32)       0         \n",
            " 2D)                                                             \n",
            "                                                                 \n",
            " conv2d_4 (Conv2D)           (None, 11, 11, 64)        18496     \n",
            "                                                                 \n",
            " max_pooling2d_4 (MaxPooling  (None, 5, 5, 64)         0         \n",
            " 2D)                                                             \n",
            "                                                                 \n",
            " conv2d_5 (Conv2D)           (None, 3, 3, 64)          36928     \n",
            "                                                                 \n",
            " max_pooling2d_5 (MaxPooling  (None, 1, 1, 64)         0         \n",
            " 2D)                                                             \n",
            "                                                                 \n",
            " flatten_1 (Flatten)         (None, 64)                0         \n",
            "                                                                 \n",
            " dense_2 (Dense)             (None, 64)                4160      \n",
            "                                                                 \n",
            " dense_3 (Dense)             (None, 10)                650       \n",
            "                                                                 \n",
            "=================================================================\n",
            "Total params: 60,554\n",
            "Trainable params: 60,554\n",
            "Non-trainable params: 0\n",
            "_________________________________________________________________\n"
          ]
        }
      ],
      "source": [
        "model = Sequential([\n",
        "  Conv2D(32, (3, 3), activation='relu', input_shape=(28, 28, 1)),\n",
        "  MaxPooling2D(2, 2),\n",
        "  Conv2D(64, (3, 3), activation='relu'),\n",
        "  MaxPooling2D(2, 2),\n",
        "  Conv2D(64, (3, 3), activation='relu'),\n",
        "  MaxPooling2D(2, 2),\n",
        "  Flatten(),\n",
        "  Dense(64, activation='relu'),\n",
        "  Dense(10, activation='softmax')\n",
        "])\n",
        "\n",
        "model.summary()"
      ]
    },
    {
      "cell_type": "code",
      "execution_count": null,
      "id": "2e26ffac-3814-4938-8218-a1846d5520d5",
      "metadata": {
        "id": "2e26ffac-3814-4938-8218-a1846d5520d5"
      },
      "outputs": [],
      "source": [
        "# 모델 컴파일"
      ]
    },
    {
      "cell_type": "code",
      "execution_count": null,
      "id": "6e01fc9a-c6dc-4d21-bafe-d927007d93fb",
      "metadata": {
        "id": "6e01fc9a-c6dc-4d21-bafe-d927007d93fb"
      },
      "outputs": [],
      "source": [
        "model.compile(optimizer='adam',\n",
        "              loss='sparse_categorical_crossentropy',\n",
        "              metrics=['accuracy'])"
      ]
    },
    {
      "cell_type": "code",
      "execution_count": null,
      "id": "a95b98e2-cbd6-41eb-8495-b4104ba9b675",
      "metadata": {
        "id": "a95b98e2-cbd6-41eb-8495-b4104ba9b675"
      },
      "outputs": [],
      "source": [
        "# 학습 & 평가"
      ]
    },
    {
      "cell_type": "code",
      "execution_count": null,
      "id": "7346d40a-e09b-4ec6-85fb-0f614cbf3ce7",
      "metadata": {
        "id": "7346d40a-e09b-4ec6-85fb-0f614cbf3ce7",
        "outputId": "2aeb7f76-e4fe-4e49-e39b-c3262f650e49"
      },
      "outputs": [
        {
          "name": "stdout",
          "output_type": "stream",
          "text": [
            "Epoch 1/5\n",
            "1688/1688 [==============================] - 20s 12ms/step - loss: 0.0136 - accuracy: 0.9955 - val_loss: 0.0153 - val_accuracy: 0.9955\n",
            "Epoch 2/5\n",
            "1688/1688 [==============================] - 22s 13ms/step - loss: 0.0110 - accuracy: 0.9963 - val_loss: 0.0203 - val_accuracy: 0.9935\n",
            "Epoch 3/5\n",
            "1688/1688 [==============================] - 21s 13ms/step - loss: 0.0091 - accuracy: 0.9969 - val_loss: 0.0114 - val_accuracy: 0.9968\n",
            "Epoch 4/5\n",
            "1688/1688 [==============================] - 20s 12ms/step - loss: 0.0090 - accuracy: 0.9968 - val_loss: 0.0151 - val_accuracy: 0.9960\n",
            "Epoch 5/5\n",
            "1688/1688 [==============================] - 20s 12ms/step - loss: 0.0083 - accuracy: 0.9970 - val_loss: 0.0164 - val_accuracy: 0.9953\n"
          ]
        }
      ],
      "source": [
        "res = model.fit(X_train, y_train, epochs=5, validation_split=0.1)"
      ]
    },
    {
      "cell_type": "code",
      "execution_count": null,
      "id": "d30889d3-ccd3-4e2e-be41-6c4f4efdf85c",
      "metadata": {
        "id": "d30889d3-ccd3-4e2e-be41-6c4f4efdf85c",
        "outputId": "8154b7d4-a960-450c-bac0-40dca540af65"
      },
      "outputs": [
        {
          "name": "stdout",
          "output_type": "stream",
          "text": [
            "313/313 - 2s - loss: 0.0481 - accuracy: 0.9857 - 2s/epoch - 5ms/step\n"
          ]
        }
      ],
      "source": [
        "loss, acc = model.evaluate(X_test, y_test, verbose=2)\n",
        "print(loss, acc)"
      ]
    },
    {
      "cell_type": "markdown",
      "id": "52169e16-cfbe-47d0-a5f2-810c189e5e86",
      "metadata": {
        "id": "52169e16-cfbe-47d0-a5f2-810c189e5e86"
      },
      "source": [
        "# 훈련 시각화"
      ]
    },
    {
      "cell_type": "code",
      "execution_count": null,
      "id": "84957868-71be-487a-a719-933375cefaeb",
      "metadata": {
        "id": "84957868-71be-487a-a719-933375cefaeb",
        "outputId": "21e60f50-9fa8-42bc-a749-3e677132fd42"
      },
      "outputs": [
        {
          "data": {
            "image/png": "[encoded data removed]",
            "text/plain": [
              "<Figure size 432x288 with 1 Axes>"
            ]
          },
          "metadata": {},
          "output_type": "display_data"
        },
        {
          "data": {
            "image/png": "[encoded data removed]",
            "text/plain": [
              "<Figure size 432x288 with 1 Axes>"
            ]
          },
          "metadata": {},
          "output_type": "display_data"
        }
      ],
      "source": [
        "import matplotlib.pyplot as plt\n",
        "\n",
        "acc = res.history['accuracy']\n",
        "val_acc = res.history['val_accuracy']\n",
        "loss = res.history['loss']\n",
        "val_loss = res.history['val_loss']\n",
        "\n",
        "epochs = range(len(acc))\n",
        "\n",
        "plt.plot(epochs, acc, 'bo', label='Training accuracy')\n",
        "plt.plot(epochs, val_acc, 'b', label='Validation accuracy')\n",
        "plt.title('Training and validation accuracy')\n",
        "plt.legend()\n",
        "\n",
        "plt.figure()\n",
        "\n",
        "plt.plot(epochs, loss, 'go', label='Training Loss')\n",
        "plt.plot(epochs, val_loss, 'g', label='Validation Loss')\n",
        "plt.title('Training and validation loss')\n",
        "plt.legend()\n",
        "\n",
        "plt.show()"
      ]
    }
  ],
  "metadata": {
    "kernelspec": {
      "display_name": "Python 3 (ipykernel)",
      "language": "python",
      "name": "python3"
    },
    "language_info": {
      "codemirror_mode": {
        "name": "ipython",
        "version": 3
      },
      "file_extension": ".py",
      "mimetype": "text/x-python",
      "name": "python",
      "nbconvert_exporter": "python",
      "pygments_lexer": "ipython3",
      "version": "3.8.8"
    },
    "colab": {
      "name": "lec99_cnn.ipynb",
      "provenance": [],
      "toc_visible": true,
      "include_colab_link": true
    }
  },
  "nbformat": 4,
  "nbformat_minor": 5
}