{
  "cells": [
    {
      "cell_type": "markdown",
      "metadata": {
        "id": "view-in-github",
        "colab_type": "text"
      },
      "source": [
        "<a href=\"https://colab.research.google.com/github/choisangh/STUDY/blob/main/DL/CNN/model02_InceptionV3.ipynb\" target=\"_parent\"><img src=\"https://colab.research.google.com/assets/colab-badge.svg\" alt=\"Open In Colab\"/></a>"
      ]
    },
    {
      "cell_type": "markdown",
      "id": "e1413fae-2359-4a2f-9628-2258d36d5f6b",
      "metadata": {
        "id": "e1413fae-2359-4a2f-9628-2258d36d5f6b"
      },
      "source": [
        "<img src=\"logo.png\"><br>\n",
        "ref : https://www.kaggle.com/search?q=cat+dog+in%3Acompetitions <br>\n",
        "ref : https://www.kaggle.com/c/dog-vs-cat-classification"
      ]
    },
    {
      "cell_type": "markdown",
      "id": "f532b4ef-41dd-452f-a6e1-1fe94c6b422c",
      "metadata": {
        "id": "f532b4ef-41dd-452f-a6e1-1fe94c6b422c"
      },
      "source": [
        "# InceptionV3"
      ]
    },
    {
      "cell_type": "markdown",
      "id": "a5dc55e1-8b26-49ae-8aeb-510c7bdc6712",
      "metadata": {
        "id": "a5dc55e1-8b26-49ae-8aeb-510c7bdc6712"
      },
      "source": [
        "<img src=\"https://cloud.google.com/tpu/docs/images/inceptionv3onc--oview.png?hl=ko\">"
      ]
    },
    {
      "cell_type": "markdown",
      "id": "b6624509-08ac-4d92-a38b-40f7a50d242f",
      "metadata": {
        "id": "b6624509-08ac-4d92-a38b-40f7a50d242f"
      },
      "source": [
        "# weight.h5 파일 받아오기"
      ]
    },
    {
      "cell_type": "code",
      "execution_count": null,
      "id": "86455c7a-493a-4737-8044-113dde783be0",
      "metadata": {
        "id": "86455c7a-493a-4737-8044-113dde783be0"
      },
      "outputs": [],
      "source": [
        "# import urllib.request\n",
        "# url = 'https://address'\n",
        "# filename = 'myfile.txt'\n",
        "# urllib.request.urlretrieve(url, filename)"
      ]
    },
    {
      "cell_type": "code",
      "execution_count": null,
      "id": "ddb27e28-872d-4d36-b193-7f83f780993e",
      "metadata": {
        "id": "ddb27e28-872d-4d36-b193-7f83f780993e"
      },
      "outputs": [],
      "source": [
        "# ! pip install wget"
      ]
    },
    {
      "cell_type": "code",
      "execution_count": null,
      "id": "f445add5-fa19-4586-95d7-d581a202aaeb",
      "metadata": {
        "id": "f445add5-fa19-4586-95d7-d581a202aaeb",
        "outputId": "00bae0b9-66fd-46bb-e69a-80961061b86d"
      },
      "outputs": [
        {
          "name": "stdout",
          "output_type": "stream",
          "text": [
            "100% [........................................................................] 87910968 / 87910968"
          ]
        },
        {
          "data": {
            "text/plain": [
              "'./dataset/inception_v3_weights.h5'"
            ]
          },
          "execution_count": 4,
          "metadata": {},
          "output_type": "execute_result"
        }
      ],
      "source": [
        "import wget \n",
        "url = \"https://storage.googleapis.com/mledu-datasets/inception_v3_weights_tf_dim_ordering_tf_kernels_notop.h5\" \n",
        "save_name= './dataset/inception_v3_weights.h5'\n",
        "wget.download(url, out=save_name)\n"
      ]
    },
    {
      "cell_type": "code",
      "execution_count": null,
      "id": "75741be8-ec06-4093-8765-229b8f27ce45",
      "metadata": {
        "id": "75741be8-ec06-4093-8765-229b8f27ce45"
      },
      "outputs": [],
      "source": [
        "# !wget --no-check-certificate \\\n",
        "#   https://storage.googleapis.com/mledu-datasets/inception_v3_weights_tf_dim_ordering_tf_kernels_notop.h5 \\\n",
        "#   -O ./dataset/inception_v3_weights_tf_dim_ordering_tf_kernels_notop.h5"
      ]
    },
    {
      "cell_type": "markdown",
      "id": "9d45d92e-46cc-401c-a13b-63d70a858a7d",
      "metadata": {
        "id": "9d45d92e-46cc-401c-a13b-63d70a858a7d"
      },
      "source": [
        "# Weights File Load"
      ]
    },
    {
      "cell_type": "code",
      "execution_count": null,
      "id": "29859530-c6eb-4f0c-8503-b0ba51247d9d",
      "metadata": {
        "id": "29859530-c6eb-4f0c-8503-b0ba51247d9d",
        "outputId": "ec5089ef-1585-43a8-f2b9-9064a0f3d9aa"
      },
      "outputs": [
        {
          "ename": "ImportError",
          "evalue": "Could not find the DLL(s) 'msvcp140_1.dll'. TensorFlow requires that these DLLs be installed in a directory that is named in your %PATH% environment variable. You may install these DLLs by downloading \"Microsoft C++ Redistributable for Visual Studio 2015, 2017 and 2019\" for your platform from this URL: https://support.microsoft.com/help/2977003/the-latest-supported-visual-c-downloads",
          "output_type": "error",
          "traceback": [
            "\u001b[1;31m---------------------------------------------------------------------------\u001b[0m",
            "\u001b[1;31mImportError\u001b[0m                               Traceback (most recent call last)",
            "Input \u001b[1;32mIn [2]\u001b[0m, in \u001b[0;36m<module>\u001b[1;34m\u001b[0m\n\u001b[0;32m      1\u001b[0m \u001b[38;5;28;01mimport\u001b[39;00m \u001b[38;5;21;01mos\u001b[39;00m\n\u001b[1;32m----> 2\u001b[0m \u001b[38;5;28;01mfrom\u001b[39;00m \u001b[38;5;21;01mkeras\u001b[39;00m \u001b[38;5;28;01mimport\u001b[39;00m layers\n\u001b[0;32m      3\u001b[0m \u001b[38;5;28;01mfrom\u001b[39;00m \u001b[38;5;21;01mkeras\u001b[39;00m \u001b[38;5;28;01mimport\u001b[39;00m Model\n\u001b[0;32m      4\u001b[0m \u001b[38;5;28;01mfrom\u001b[39;00m \u001b[38;5;21;01mkeras\u001b[39;00m\u001b[38;5;21;01m.\u001b[39;00m\u001b[38;5;21;01mapplications\u001b[39;00m\u001b[38;5;21;01m.\u001b[39;00m\u001b[38;5;21;01minception_v3\u001b[39;00m \u001b[38;5;28;01mimport\u001b[39;00m InceptionV3\n",
            "File \u001b[1;32mC:\\AI\\venv\\lib\\site-packages\\keras\\__init__.py:21\u001b[0m, in \u001b[0;36m<module>\u001b[1;34m\u001b[0m\n\u001b[0;32m     15\u001b[0m \u001b[38;5;124;03m\"\"\"Implementation of the Keras API, the high-level API of TensorFlow.\u001b[39;00m\n\u001b[0;32m     16\u001b[0m \n\u001b[0;32m     17\u001b[0m \u001b[38;5;124;03mDetailed documentation and user guides are available at\u001b[39;00m\n\u001b[0;32m     18\u001b[0m \u001b[38;5;124;03m[keras.io](https://keras.io).\u001b[39;00m\n\u001b[0;32m     19\u001b[0m \u001b[38;5;124;03m\"\"\"\u001b[39;00m\n\u001b[0;32m     20\u001b[0m \u001b[38;5;66;03m# pylint: disable=unused-import\u001b[39;00m\n\u001b[1;32m---> 21\u001b[0m \u001b[38;5;28;01mfrom\u001b[39;00m \u001b[38;5;21;01mtensorflow\u001b[39;00m\u001b[38;5;21;01m.\u001b[39;00m\u001b[38;5;21;01mpython\u001b[39;00m \u001b[38;5;28;01mimport\u001b[39;00m tf2\n\u001b[0;32m     22\u001b[0m \u001b[38;5;28;01mfrom\u001b[39;00m \u001b[38;5;21;01mkeras\u001b[39;00m \u001b[38;5;28;01mimport\u001b[39;00m distribute\n\u001b[0;32m     24\u001b[0m \u001b[38;5;66;03m# See b/110718070#comment18 for more details about this import.\u001b[39;00m\n",
            "File \u001b[1;32mC:\\AI\\venv\\lib\\site-packages\\tensorflow\\__init__.py:37\u001b[0m, in \u001b[0;36m<module>\u001b[1;34m\u001b[0m\n\u001b[0;32m     34\u001b[0m \u001b[38;5;28;01mimport\u001b[39;00m \u001b[38;5;21;01msys\u001b[39;00m \u001b[38;5;28;01mas\u001b[39;00m \u001b[38;5;21;01m_sys\u001b[39;00m\n\u001b[0;32m     35\u001b[0m \u001b[38;5;28;01mimport\u001b[39;00m \u001b[38;5;21;01mtyping\u001b[39;00m \u001b[38;5;28;01mas\u001b[39;00m \u001b[38;5;21;01m_typing\u001b[39;00m\n\u001b[1;32m---> 37\u001b[0m \u001b[38;5;28;01mfrom\u001b[39;00m \u001b[38;5;21;01mtensorflow\u001b[39;00m\u001b[38;5;21;01m.\u001b[39;00m\u001b[38;5;21;01mpython\u001b[39;00m\u001b[38;5;21;01m.\u001b[39;00m\u001b[38;5;21;01mtools\u001b[39;00m \u001b[38;5;28;01mimport\u001b[39;00m module_util \u001b[38;5;28;01mas\u001b[39;00m _module_util\n\u001b[0;32m     38\u001b[0m \u001b[38;5;28;01mfrom\u001b[39;00m \u001b[38;5;21;01mtensorflow\u001b[39;00m\u001b[38;5;21;01m.\u001b[39;00m\u001b[38;5;21;01mpython\u001b[39;00m\u001b[38;5;21;01m.\u001b[39;00m\u001b[38;5;21;01mutil\u001b[39;00m\u001b[38;5;21;01m.\u001b[39;00m\u001b[38;5;21;01mlazy_loader\u001b[39;00m \u001b[38;5;28;01mimport\u001b[39;00m LazyLoader \u001b[38;5;28;01mas\u001b[39;00m _LazyLoader\n\u001b[0;32m     40\u001b[0m \u001b[38;5;66;03m# Make sure code inside the TensorFlow codebase can use tf2.enabled() at import.\u001b[39;00m\n",
            "File \u001b[1;32mC:\\AI\\venv\\lib\\site-packages\\tensorflow\\python\\__init__.py:36\u001b[0m, in \u001b[0;36m<module>\u001b[1;34m\u001b[0m\n\u001b[0;32m     27\u001b[0m \u001b[38;5;28;01mimport\u001b[39;00m \u001b[38;5;21;01mtraceback\u001b[39;00m\n\u001b[0;32m     29\u001b[0m \u001b[38;5;66;03m# We aim to keep this file minimal and ideally remove completely.\u001b[39;00m\n\u001b[0;32m     30\u001b[0m \u001b[38;5;66;03m# If you are adding a new file with @tf_export decorators,\u001b[39;00m\n\u001b[0;32m     31\u001b[0m \u001b[38;5;66;03m# import it in modules_with_exports.py instead.\u001b[39;00m\n\u001b[0;32m     32\u001b[0m \n\u001b[0;32m     33\u001b[0m \u001b[38;5;66;03m# go/tf-wildcard-import\u001b[39;00m\n\u001b[0;32m     34\u001b[0m \u001b[38;5;66;03m# pylint: disable=wildcard-import,g-bad-import-order,g-import-not-at-top\u001b[39;00m\n\u001b[1;32m---> 36\u001b[0m \u001b[38;5;28;01mfrom\u001b[39;00m \u001b[38;5;21;01mtensorflow\u001b[39;00m\u001b[38;5;21;01m.\u001b[39;00m\u001b[38;5;21;01mpython\u001b[39;00m \u001b[38;5;28;01mimport\u001b[39;00m pywrap_tensorflow \u001b[38;5;28;01mas\u001b[39;00m _pywrap_tensorflow\n\u001b[0;32m     37\u001b[0m \u001b[38;5;28;01mfrom\u001b[39;00m \u001b[38;5;21;01mtensorflow\u001b[39;00m\u001b[38;5;21;01m.\u001b[39;00m\u001b[38;5;21;01mpython\u001b[39;00m\u001b[38;5;21;01m.\u001b[39;00m\u001b[38;5;21;01meager\u001b[39;00m \u001b[38;5;28;01mimport\u001b[39;00m context\n\u001b[0;32m     39\u001b[0m \u001b[38;5;66;03m# pylint: enable=wildcard-import\u001b[39;00m\n\u001b[0;32m     40\u001b[0m \n\u001b[0;32m     41\u001b[0m \u001b[38;5;66;03m# Bring in subpackages.\u001b[39;00m\n",
            "File \u001b[1;32mC:\\AI\\venv\\lib\\site-packages\\tensorflow\\python\\pywrap_tensorflow.py:24\u001b[0m, in \u001b[0;36m<module>\u001b[1;34m\u001b[0m\n\u001b[0;32m     21\u001b[0m \u001b[38;5;28;01mfrom\u001b[39;00m \u001b[38;5;21;01mtensorflow\u001b[39;00m\u001b[38;5;21;01m.\u001b[39;00m\u001b[38;5;21;01mpython\u001b[39;00m\u001b[38;5;21;01m.\u001b[39;00m\u001b[38;5;21;01mplatform\u001b[39;00m \u001b[38;5;28;01mimport\u001b[39;00m self_check\n\u001b[0;32m     23\u001b[0m \u001b[38;5;66;03m# Perform pre-load sanity checks in order to produce a more actionable error.\u001b[39;00m\n\u001b[1;32m---> 24\u001b[0m \u001b[43mself_check\u001b[49m\u001b[38;5;241;43m.\u001b[39;49m\u001b[43mpreload_check\u001b[49m\u001b[43m(\u001b[49m\u001b[43m)\u001b[49m\n\u001b[0;32m     26\u001b[0m \u001b[38;5;66;03m# pylint: disable=wildcard-import,g-import-not-at-top,unused-import,line-too-long\u001b[39;00m\n\u001b[0;32m     28\u001b[0m \u001b[38;5;28;01mtry\u001b[39;00m:\n\u001b[0;32m     29\u001b[0m   \u001b[38;5;66;03m# This import is expected to fail if there is an explicit shared object\u001b[39;00m\n\u001b[0;32m     30\u001b[0m   \u001b[38;5;66;03m# dependency (with_framework_lib=true), since we do not need RTLD_GLOBAL.\u001b[39;00m\n",
            "File \u001b[1;32mC:\\AI\\venv\\lib\\site-packages\\tensorflow\\python\\platform\\self_check.py:50\u001b[0m, in \u001b[0;36mpreload_check\u001b[1;34m()\u001b[0m\n\u001b[0;32m     48\u001b[0m         missing\u001b[38;5;241m.\u001b[39mappend(dll_name)\n\u001b[0;32m     49\u001b[0m     \u001b[38;5;28;01mif\u001b[39;00m missing:\n\u001b[1;32m---> 50\u001b[0m       \u001b[38;5;28;01mraise\u001b[39;00m \u001b[38;5;167;01mImportError\u001b[39;00m(\n\u001b[0;32m     51\u001b[0m           \u001b[38;5;124m\"\u001b[39m\u001b[38;5;124mCould not find the DLL(s) \u001b[39m\u001b[38;5;132;01m%r\u001b[39;00m\u001b[38;5;124m. TensorFlow requires that these DLLs \u001b[39m\u001b[38;5;124m\"\u001b[39m\n\u001b[0;32m     52\u001b[0m           \u001b[38;5;124m\"\u001b[39m\u001b[38;5;124mbe installed in a directory that is named in your \u001b[39m\u001b[38;5;132;01m%%\u001b[39;00m\u001b[38;5;124mPATH\u001b[39m\u001b[38;5;132;01m%%\u001b[39;00m\u001b[38;5;124m \u001b[39m\u001b[38;5;124m\"\u001b[39m\n\u001b[0;32m     53\u001b[0m           \u001b[38;5;124m\"\u001b[39m\u001b[38;5;124menvironment variable. You may install these DLLs by downloading \u001b[39m\u001b[38;5;124m\"\u001b[39m\n\u001b[0;32m     54\u001b[0m           \u001b[38;5;124m'\u001b[39m\u001b[38;5;124m\"\u001b[39m\u001b[38;5;124mMicrosoft C++ Redistributable for Visual Studio 2015, 2017 and \u001b[39m\u001b[38;5;124m'\u001b[39m\n\u001b[0;32m     55\u001b[0m           \u001b[38;5;124m'\u001b[39m\u001b[38;5;124m2019\u001b[39m\u001b[38;5;124m\"\u001b[39m\u001b[38;5;124m for your platform from this URL: \u001b[39m\u001b[38;5;124m'\u001b[39m\n\u001b[0;32m     56\u001b[0m           \u001b[38;5;124m\"\u001b[39m\u001b[38;5;124mhttps://support.microsoft.com/help/2977003/the-latest-supported-visual-c-downloads\u001b[39m\u001b[38;5;124m\"\u001b[39m\n\u001b[0;32m     57\u001b[0m           \u001b[38;5;241m%\u001b[39m \u001b[38;5;124m\"\u001b[39m\u001b[38;5;124m or \u001b[39m\u001b[38;5;124m\"\u001b[39m\u001b[38;5;241m.\u001b[39mjoin(missing))\n\u001b[0;32m     58\u001b[0m \u001b[38;5;28;01melse\u001b[39;00m:\n\u001b[0;32m     59\u001b[0m   \u001b[38;5;66;03m# Load a library that performs CPU feature guard checking as a part of its\u001b[39;00m\n\u001b[0;32m     60\u001b[0m   \u001b[38;5;66;03m# static initialization. Doing this here as a preload check makes it more\u001b[39;00m\n\u001b[0;32m     61\u001b[0m   \u001b[38;5;66;03m# likely that we detect any CPU feature incompatibilities before we trigger\u001b[39;00m\n\u001b[0;32m     62\u001b[0m   \u001b[38;5;66;03m# them (which would typically result in SIGILL).\u001b[39;00m\n\u001b[0;32m     63\u001b[0m   cpu_feature_guard_library \u001b[38;5;241m=\u001b[39m os\u001b[38;5;241m.\u001b[39mpath\u001b[38;5;241m.\u001b[39mjoin(\n\u001b[0;32m     64\u001b[0m       os\u001b[38;5;241m.\u001b[39mpath\u001b[38;5;241m.\u001b[39mdirname(\u001b[38;5;18m__file__\u001b[39m), \u001b[38;5;124m\"\u001b[39m\u001b[38;5;124m../../core/platform/_cpu_feature_guard.so\u001b[39m\u001b[38;5;124m\"\u001b[39m)\n",
            "\u001b[1;31mImportError\u001b[0m: Could not find the DLL(s) 'msvcp140_1.dll'. TensorFlow requires that these DLLs be installed in a directory that is named in your %PATH% environment variable. You may install these DLLs by downloading \"Microsoft C++ Redistributable for Visual Studio 2015, 2017 and 2019\" for your platform from this URL: https://support.microsoft.com/help/2977003/the-latest-supported-visual-c-downloads"
          ]
        }
      ],
      "source": [
        "import os\n",
        "from keras import layers\n",
        "from keras import Model\n",
        "from keras.applications.inception_v3 import InceptionV3\n",
        "\n",
        "pre_trained_model = InceptionV3(input_shape=(150, 150, 3),\n",
        "                                include_top=False,    #-----상단 FC 포함여부\n",
        "                                weights=None)         #----- None(랜덤) or imagenet\n",
        "\n",
        "#----------------- 가중치 파일 로드 -----------------------\n",
        "pre_trained_model.load_weights(save_name)\n",
        "\n",
        "for layer in pre_trained_model.layers:\n",
        "    layer.trainable = False\n",
        "\n",
        "pre_trained_model.summary()"
      ]
    },
    {
      "cell_type": "markdown",
      "id": "79dd1117-e315-4c2d-b3ac-c1c5d0eda55f",
      "metadata": {
        "id": "79dd1117-e315-4c2d-b3ac-c1c5d0eda55f"
      },
      "source": [
        "## 사전 훈련된 신경망 모델의 마지막 층 임의 지정"
      ]
    },
    {
      "cell_type": "code",
      "execution_count": null,
      "id": "8fce912c-4e72-4598-b72c-968a4d59d436",
      "metadata": {
        "id": "8fce912c-4e72-4598-b72c-968a4d59d436",
        "outputId": "84a6510f-47ca-454b-fb9c-9fddc67322e2"
      },
      "outputs": [
        {
          "name": "stdout",
          "output_type": "stream",
          "text": [
            "last layer output shape:  (None, 7, 7, 768)\n"
          ]
        }
      ],
      "source": [
        "last_layer = pre_trained_model.get_layer('mixed7')\n",
        "print('last layer output shape: ', last_layer.output.shape)\n",
        "last_output = last_layer.output"
      ]
    },
    {
      "cell_type": "markdown",
      "id": "25915bc6-5500-416d-bd33-eb8531e1c45b",
      "metadata": {
        "tags": [],
        "id": "25915bc6-5500-416d-bd33-eb8531e1c45b"
      },
      "source": [
        "## 모델 컴파일"
      ]
    },
    {
      "cell_type": "code",
      "execution_count": null,
      "id": "d5bd0002-4d67-42f7-b4f8-9d77629658c7",
      "metadata": {
        "id": "d5bd0002-4d67-42f7-b4f8-9d77629658c7"
      },
      "outputs": [],
      "source": [
        "from tensorflow.keras.optimizers import RMSprop\n",
        "\n",
        "FC = layers.Flatten()(last_output)\n",
        "FC  = layers.Dense(1024, activation='relu')(FC)\n",
        "FC  = layers.Dense(1, activation='sigmoid')(FC)\n",
        "\n",
        "model = Model(pre_trained_model.input, FC)\n",
        "model.compile(loss='binary_crossentropy',\n",
        "            optimizer=RMSprop(lr=0.0001),\n",
        "            metrics=['accuracy'])"
      ]
    },
    {
      "cell_type": "markdown",
      "id": "aece7f42-42f8-4c3b-8803-5ad394fa15c4",
      "metadata": {
        "id": "aece7f42-42f8-4c3b-8803-5ad394fa15c4"
      },
      "source": [
        "# Data Load"
      ]
    },
    {
      "cell_type": "code",
      "execution_count": null,
      "id": "b5f0c23c-cee3-4799-a900-b842347d4b24",
      "metadata": {
        "id": "b5f0c23c-cee3-4799-a900-b842347d4b24"
      },
      "outputs": [],
      "source": [
        "# !wget --no-check-certificate https://storage.googleapis.com/mledu-datasets/cats_and_dogs_filtered.zip -O ./dataset/cats_and_dogs_filtered.zip"
      ]
    },
    {
      "cell_type": "code",
      "execution_count": null,
      "id": "fc795fae-2eed-4d4c-ad48-a34cf89e2082",
      "metadata": {
        "id": "fc795fae-2eed-4d4c-ad48-a34cf89e2082",
        "outputId": "fc4e2783-f1eb-45dd-b3f9-0291df8fed56"
      },
      "outputs": [
        {
          "name": "stdout",
          "output_type": "stream",
          "text": [
            "100% [........................................................................] 68606236 / 68606236"
          ]
        },
        {
          "data": {
            "text/plain": [
              "'./dataset/cats_and_dogs_filtered.zip'"
            ]
          },
          "execution_count": 18,
          "metadata": {},
          "output_type": "execute_result"
        }
      ],
      "source": [
        "import wget \n",
        "url = \"https://storage.googleapis.com/mledu-datasets/cats_and_dogs_filtered.zip\" \n",
        "save_name= './dataset/cats_and_dogs_filtered.zip'\n",
        "wget.download(url, out=save_name)"
      ]
    },
    {
      "cell_type": "code",
      "execution_count": null,
      "id": "77a18383-bc09-45d8-ad79-08fef8afbf81",
      "metadata": {
        "id": "77a18383-bc09-45d8-ad79-08fef8afbf81"
      },
      "outputs": [],
      "source": [
        "import os\n",
        "import zipfile\n",
        "\n",
        "zip_ref = zipfile.ZipFile(save_name, 'r')\n",
        "zip_ref.extractall('./dataset')   #압축해제\n",
        "zip_ref.close()"
      ]
    },
    {
      "cell_type": "markdown",
      "id": "988402dd-b36a-4c7c-9d19-5b093a778643",
      "metadata": {
        "tags": [],
        "id": "988402dd-b36a-4c7c-9d19-5b093a778643"
      },
      "source": [
        "## view dataframe\n",
        "* train 폴더안에 cat.jpg, dog.jpg 같이 있을 경우"
      ]
    },
    {
      "cell_type": "code",
      "execution_count": null,
      "id": "44310765-8dc9-4bf3-b797-fc65380fc0c3",
      "metadata": {
        "id": "44310765-8dc9-4bf3-b797-fc65380fc0c3",
        "outputId": "55292a80-19d9-4842-8f53-dad46ab83dcd"
      },
      "outputs": [
        {
          "data": {
            "text/html": [
              "<div>\n",
              "<style scoped>\n",
              "    .dataframe tbody tr th:only-of-type {\n",
              "        vertical-align: middle;\n",
              "    }\n",
              "\n",
              "    .dataframe tbody tr th {\n",
              "        vertical-align: top;\n",
              "    }\n",
              "\n",
              "    .dataframe thead th {\n",
              "        text-align: right;\n",
              "    }\n",
              "</style>\n",
              "<table border=\"1\" class=\"dataframe\">\n",
              "  <thead>\n",
              "    <tr style=\"text-align: right;\">\n",
              "      <th></th>\n",
              "      <th>filename</th>\n",
              "      <th>category</th>\n",
              "    </tr>\n",
              "  </thead>\n",
              "  <tbody>\n",
              "    <tr>\n",
              "      <th>0</th>\n",
              "      <td>cat.0.jpg</td>\n",
              "      <td>0</td>\n",
              "    </tr>\n",
              "    <tr>\n",
              "      <th>1</th>\n",
              "      <td>cat.1.jpg</td>\n",
              "      <td>0</td>\n",
              "    </tr>\n",
              "    <tr>\n",
              "      <th>2</th>\n",
              "      <td>cat.10.jpg</td>\n",
              "      <td>0</td>\n",
              "    </tr>\n",
              "    <tr>\n",
              "      <th>3</th>\n",
              "      <td>cat.100.jpg</td>\n",
              "      <td>0</td>\n",
              "    </tr>\n",
              "    <tr>\n",
              "      <th>4</th>\n",
              "      <td>cat.101.jpg</td>\n",
              "      <td>0</td>\n",
              "    </tr>\n",
              "  </tbody>\n",
              "</table>\n",
              "</div>"
            ],
            "text/plain": [
              "      filename category\n",
              "0    cat.0.jpg        0\n",
              "1    cat.1.jpg        0\n",
              "2   cat.10.jpg        0\n",
              "3  cat.100.jpg        0\n",
              "4  cat.101.jpg        0"
            ]
          },
          "execution_count": 41,
          "metadata": {},
          "output_type": "execute_result"
        }
      ],
      "source": [
        "import pandas as pd\n",
        "# filenames = os.listdir('./dataset/cats_and_dogs_filtered/train/')\n",
        "# categories = []\n",
        "# for filename in filenames:\n",
        "#     category = filename.split('.')[0]\n",
        "#     if category == 'dog':\n",
        "#         categories.append(str(1))\n",
        "#     else:\n",
        "#         categories.append(str(0))\n",
        "\n",
        "# df = pd.DataFrame({\n",
        "#     'filename': filenames,\n",
        "#     'category': categories\n",
        "# })\n",
        "\n",
        "# df.head()"
      ]
    },
    {
      "cell_type": "markdown",
      "id": "ef424534-b845-4e4d-896f-db6dfc705966",
      "metadata": {
        "id": "ef424534-b845-4e4d-896f-db6dfc705966"
      },
      "source": [
        "* 파일을 디렉토리별로 분리"
      ]
    },
    {
      "cell_type": "code",
      "execution_count": null,
      "id": "81243590-0342-480f-8939-5e24707a21a4",
      "metadata": {
        "id": "81243590-0342-480f-8939-5e24707a21a4"
      },
      "outputs": [],
      "source": [
        "root_dir = './dataset2/cats-v-dogs'\n",
        "if os.path.exists(root_dir):\n",
        "    shutil.rmtree(root_dir)\n",
        "os.makedirs(root_dir + '/training')\n",
        "os.makedirs(root_dir + '/testing')\n",
        "os.makedirs(root_dir + '/training/cats')\n",
        "os.makedirs(root_dir + '/training/dogs')\n",
        "os.makedirs(root_dir + '/testing/cats')\n",
        "os.makedirs(root_dir + '/testing/dogs')"
      ]
    },
    {
      "cell_type": "code",
      "execution_count": null,
      "id": "4ba94174-cd93-4c05-acea-e0c62570a0d6",
      "metadata": {
        "id": "4ba94174-cd93-4c05-acea-e0c62570a0d6",
        "outputId": "9e48880e-7f07-4c05-fda2-090f46fb0097"
      },
      "outputs": [
        {
          "name": "stdout",
          "output_type": "stream",
          "text": [
            "./dataset2/cats-v-dogs\\testing\n",
            "./dataset2/cats-v-dogs\\training\n",
            "./dataset2/cats-v-dogs\\testing\\cats\n",
            "./dataset2/cats-v-dogs\\testing\\dogs\n",
            "./dataset2/cats-v-dogs\\training\\cats\n",
            "./dataset2/cats-v-dogs\\training\\dogs\n"
          ]
        }
      ],
      "source": [
        "for rootdir, dirs, files in os.walk(root_dir):\n",
        "    for subdir in dirs:\n",
        "        print(os.path.join(rootdir, subdir))"
      ]
    },
    {
      "cell_type": "markdown",
      "id": "568f88a1-203b-4bcd-b008-91e12199037c",
      "metadata": {
        "id": "568f88a1-203b-4bcd-b008-91e12199037c"
      },
      "source": [
        "* train 폴더안에 cat, dog 하위폴더  >  cat.jpg 있을 경우"
      ]
    },
    {
      "cell_type": "code",
      "execution_count": null,
      "id": "962dcac6-e086-4ce7-ab02-a9c86e011ee6",
      "metadata": {
        "id": "962dcac6-e086-4ce7-ab02-a9c86e011ee6",
        "outputId": "6cbae860-c8e0-44c8-c681-b50b4c79ae1a"
      },
      "outputs": [
        {
          "data": {
            "text/plain": [
              "0    1000\n",
              "1    1000\n",
              "Name: category, dtype: int64"
            ]
          },
          "execution_count": 49,
          "metadata": {},
          "output_type": "execute_result"
        }
      ],
      "source": [
        "import pandas as pd\n",
        "\n",
        "dir_list = [os.listdir('./dataset/cats_and_dogs_filtered/train/cats'), os.listdir('./dataset/cats_and_dogs_filtered/train/dogs')]\n",
        "\n",
        "cate_list = []\n",
        "file_list = []\n",
        "for filenames in dir_list:      \n",
        "    for filename in filenames:\n",
        "        file_list.append(filename)\n",
        "        category = filename.split('.')[0]\n",
        "        if category == 'dog':\n",
        "            cate_list.append(str(1))\n",
        "        else:\n",
        "            cate_list.append(str(0))\n",
        "df = pd.DataFrame({\n",
        "    'filename': file_list,\n",
        "    'category': cate_list\n",
        "})\n",
        "df.category.value_counts()\n"
      ]
    },
    {
      "cell_type": "markdown",
      "id": "0b938a09-6e10-4078-a2a3-5a42ba73705c",
      "metadata": {
        "id": "0b938a09-6e10-4078-a2a3-5a42ba73705c"
      },
      "source": [
        "# 데이터 폴더별로 일부 샘플링"
      ]
    },
    {
      "cell_type": "code",
      "execution_count": null,
      "id": "1ba343cc-6be4-4eb4-b6e0-6e1cb09e2987",
      "metadata": {
        "id": "1ba343cc-6be4-4eb4-b6e0-6e1cb09e2987"
      },
      "outputs": [],
      "source": [
        "# # Define paths\n",
        "# TRAINING_SOURCE_DIR = \"./dataset/cats_and_dogs_filtered/train/\"\n",
        "# TRAINING_CATS_DIR   = \"./dataset2/cats-v-dogs/training/cats/\"\n",
        "# TESTING_CATS_DIR    = \"./dataset2/cats-v-dogs/testing/cats/\"\n",
        "\n",
        "# TEST_SOURCE_DIR     = \"./dataset/cats_and_dogs_filtered/test/\"\n",
        "# TRAINING_DOGS_DIR   = \"./dataset2/cats-v-dogs/training/dogs/\"\n",
        "# TESTING_DOGS_DIR    = \"./dataset2/cats-v-dogs/testing/dogs/\"\n",
        "\n",
        "# TRAINING_DIR = \"./dataset2/cats-v-dogs/training/\"\n",
        "# TESTING_DIR  = \"./dataset2/cats-v-dogs/testing/\"\n",
        "\n",
        "# # split_data\n",
        "# def split_data(SOURCE, TRAINING, TESTING, SPLIT_SIZE):\n",
        "#     files = []\n",
        "#     for filename in os.listdir(SOURCE):\n",
        "#         file = SOURCE + filename\n",
        "#         if os.path.getsize(file) > 0:\n",
        "#             files.append(filename)\n",
        "#         else:\n",
        "#             print(filename + \" is zero length, so ignoring.\")\n",
        "\n",
        "#     training_length = int(len(files) * SPLIT_SIZE)\n",
        "#     testing_length = int(len(files) - training_length)\n",
        "#     shuffled_set = random.sample(files, len(files))\n",
        "#     training_set = shuffled_set[0:training_length]\n",
        "#     testing_set = shuffled_set[-testing_length:]\n",
        "\n",
        "#     for filename in training_set:\n",
        "#         this_file = SOURCE + filename\n",
        "#         destination = TRAINING + filename\n",
        "#         copyfile(this_file, destination)\n",
        "\n",
        "#     for filename in testing_set:\n",
        "#         this_file = SOURCE + filename\n",
        "#         destination = TESTING + filename\n",
        "#         copyfile(this_file, destination)\n",
        "#     pass\n",
        "\n",
        "\n",
        "# # Empty directories in case you run this cell multiple times\n",
        "# if len(os.listdir(TRAINING_CATS_DIR)) > 0:\n",
        "#     for file in os.scandir(TRAINING_CATS_DIR):\n",
        "#         os.remove(file.path)\n",
        "# if len(os.listdir(TRAINING_DOGS_DIR)) > 0:\n",
        "#     for file in os.scandir(TRAINING_DOGS_DIR):\n",
        "#         os.remove(file.path)\n",
        "# if len(os.listdir(TESTING_CATS_DIR)) > 0:\n",
        "#     for file in os.scandir(TESTING_CATS_DIR):\n",
        "#         os.remove(file.path)\n",
        "# if len(os.listdir(TESTING_DOGS_DIR)) > 0:\n",
        "#     for file in os.scandir(TESTING_DOGS_DIR):\n",
        "#         os.remove(file.path)\n",
        "\n",
        "# # Define proportion of images for cats/dogs AS SHOWN BEFORE\n",
        "# split_size = .5\n",
        "\n",
        "# # Run the function\n",
        "# # NOTE: Messages about zero length images should be printed out\n",
        "# split_data(TRAINING_SOURCE_DIR, TRAINING_CATS_DIR, TRAINING_DOGS_DIR, split_size)\n",
        "# split_data(TEST_SOURCE_DIR, TESTING_CATS_DIR, TESTING_DOGS_DIR, split_size)\n",
        "\n",
        "# # Check that the number of images matches the expected output\n",
        "# print(f\"\\n\\nThere are {len(os.listdir(TRAINING_CATS_DIR))} images of cats for training\")\n",
        "# print(f\"There are {len(os.listdir(TRAINING_DOGS_DIR))} images of dogs for training\")\n",
        "# print(f\"There are {len(os.listdir(TESTING_CATS_DIR))} images of cats for testing\")\n",
        "# print(f\"There are {len(os.listdir(TESTING_DOGS_DIR))} images of dogs for testing\")"
      ]
    },
    {
      "cell_type": "markdown",
      "id": "0182634c-ec90-4f0e-9964-c10c0a32158f",
      "metadata": {
        "id": "0182634c-ec90-4f0e-9964-c10c0a32158f"
      },
      "source": [
        "# Data Argumentation\n",
        "* 압축푼 폴더 내부 폴더명 변경\n",
        "<pre>\n",
        "   validaion --> val* 압축푼 폴더 내부 폴더명 변경\n",
        "   validaion --> val"
      ]
    },
    {
      "cell_type": "code",
      "execution_count": null,
      "id": "945a9946-ceba-4cfd-b6c6-bedbe1d8e787",
      "metadata": {
        "id": "945a9946-ceba-4cfd-b6c6-bedbe1d8e787"
      },
      "outputs": [],
      "source": [
        "from keras.preprocessing.image import ImageDataGenerator"
      ]
    },
    {
      "cell_type": "code",
      "execution_count": null,
      "id": "f140d368-73ba-4d9f-a074-9228271880a9",
      "metadata": {
        "id": "f140d368-73ba-4d9f-a074-9228271880a9",
        "outputId": "3083460e-79a9-44e1-8236-fa06cea4e82b"
      },
      "outputs": [
        {
          "name": "stdout",
          "output_type": "stream",
          "text": [
            "Found 2000 images belonging to 2 classes.\n",
            "Found 1000 images belonging to 2 classes.\n"
          ]
        }
      ],
      "source": [
        "base_dir = './dataset/cats_and_dogs_filtered'\n",
        "\n",
        "train_dir  = os.path.join(base_dir, 'train')\n",
        "train_cats_dir = os.path.join(train_dir, 'cats')\n",
        "train_dogs_dir = os.path.join(train_dir, 'dogs')\n",
        "\n",
        "val_dir    = os.path.join(base_dir, 'val')\n",
        "val_cats_dir   = os.path.join(val_dir, 'cats')\n",
        "val_dogs_dir   = os.path.join(val_dir, 'dogs')\n",
        "\n",
        "train_cat_fnames = os.listdir(train_cats_dir)\n",
        "train_dog_fnames = os.listdir(train_dogs_dir)\n",
        "\n",
        "\n",
        "# --------- train 데이터 증강  --------------------\n",
        "train_generator = ImageDataGenerator(rescale=1./255.,\n",
        "                                 rotation_range=40,\n",
        "                                 width_shift_range=0.2,\n",
        "                                 height_shift_range=0.2,\n",
        "                                 shear_range=0.2,\n",
        "                                 zoom_range=0.2,\n",
        "                                 horizontal_flip=True)\n",
        "\n",
        "# --------- 주의 ::: test 데이터 증강 금지 --------------------\n",
        "test_datagen = ImageDataGenerator(rescale=1./255.)\n",
        "\n",
        "\n",
        "\n",
        "# Flow training images in batches of 20 using train_generator generator\n",
        "train_generator = train_generator.flow_from_directory(train_dir,\n",
        "                                                      batch_size=20,\n",
        "                                                      class_mode='binary',\n",
        "                                                      target_size=(150, 150))\n",
        "\n",
        "# Flow validation images in batches of 20 using test_datagen generator\n",
        "val_generator = test_datagen.flow_from_directory(val_dir,\n",
        "                                                      batch_size=20,\n",
        "                                                      class_mode='binary',\n",
        "                                                      target_size=(150, 150))"
      ]
    },
    {
      "cell_type": "markdown",
      "id": "92469b01-1506-4c4a-82be-6ae93d2a836c",
      "metadata": {
        "id": "92469b01-1506-4c4a-82be-6ae93d2a836c"
      },
      "source": [
        "# 학습\n",
        "* ref : https://keras.io/api/models/model_training_apis/"
      ]
    },
    {
      "cell_type": "code",
      "execution_count": null,
      "id": "43922b3f-3315-4c49-bb39-a304a228a429",
      "metadata": {
        "id": "43922b3f-3315-4c49-bb39-a304a228a429",
        "outputId": "f1923949-3e22-4d5f-a087-b910425fddfd"
      },
      "outputs": [
        {
          "name": "stdout",
          "output_type": "stream",
          "text": [
            "Epoch 1/20\n",
            "100/100 - 73s - loss: 0.3328 - accuracy: 0.8660 - val_loss: 0.1626 - val_accuracy: 0.9430 - 73s/epoch - 727ms/step\n",
            "Epoch 2/20\n",
            "100/100 - 49s - loss: 0.2172 - accuracy: 0.9125 - val_loss: 0.1260 - val_accuracy: 0.9510 - 49s/epoch - 489ms/step\n",
            "Epoch 3/20\n",
            "100/100 - 50s - loss: 0.1994 - accuracy: 0.9240 - val_loss: 0.1044 - val_accuracy: 0.9610 - 50s/epoch - 500ms/step\n",
            "Epoch 4/20\n",
            "100/100 - 51s - loss: 0.1632 - accuracy: 0.9395 - val_loss: 0.1498 - val_accuracy: 0.9570 - 51s/epoch - 512ms/step\n",
            "Epoch 5/20\n",
            "100/100 - 52s - loss: 0.1515 - accuracy: 0.9410 - val_loss: 0.1361 - val_accuracy: 0.9590 - 52s/epoch - 521ms/step\n",
            "Epoch 6/20\n",
            "100/100 - 54s - loss: 0.1711 - accuracy: 0.9435 - val_loss: 0.1073 - val_accuracy: 0.9650 - 54s/epoch - 540ms/step\n",
            "Epoch 7/20\n",
            "100/100 - 54s - loss: 0.1708 - accuracy: 0.9455 - val_loss: 0.1322 - val_accuracy: 0.9580 - 54s/epoch - 542ms/step\n",
            "Epoch 8/20\n",
            "100/100 - 53s - loss: 0.1597 - accuracy: 0.9365 - val_loss: 0.1012 - val_accuracy: 0.9700 - 53s/epoch - 528ms/step\n",
            "Epoch 9/20\n",
            "100/100 - 51s - loss: 0.1378 - accuracy: 0.9470 - val_loss: 0.1079 - val_accuracy: 0.9610 - 51s/epoch - 510ms/step\n",
            "Epoch 10/20\n",
            "100/100 - 54s - loss: 0.1296 - accuracy: 0.9505 - val_loss: 0.1064 - val_accuracy: 0.9700 - 54s/epoch - 536ms/step\n",
            "Epoch 11/20\n",
            "100/100 - 59s - loss: 0.1326 - accuracy: 0.9515 - val_loss: 0.1174 - val_accuracy: 0.9620 - 59s/epoch - 591ms/step\n",
            "Epoch 12/20\n",
            "100/100 - 56s - loss: 0.1225 - accuracy: 0.9595 - val_loss: 0.1855 - val_accuracy: 0.9510 - 56s/epoch - 556ms/step\n",
            "Epoch 13/20\n",
            "100/100 - 51s - loss: 0.1240 - accuracy: 0.9570 - val_loss: 0.1248 - val_accuracy: 0.9710 - 51s/epoch - 513ms/step\n",
            "Epoch 14/20\n",
            "100/100 - 51s - loss: 0.1387 - accuracy: 0.9520 - val_loss: 0.1404 - val_accuracy: 0.9610 - 51s/epoch - 507ms/step\n",
            "Epoch 15/20\n",
            "100/100 - 50s - loss: 0.1236 - accuracy: 0.9555 - val_loss: 0.1243 - val_accuracy: 0.9700 - 50s/epoch - 504ms/step\n",
            "Epoch 16/20\n",
            "100/100 - 51s - loss: 0.1094 - accuracy: 0.9605 - val_loss: 0.1364 - val_accuracy: 0.9740 - 51s/epoch - 506ms/step\n",
            "Epoch 17/20\n",
            "100/100 - 52s - loss: 0.1105 - accuracy: 0.9615 - val_loss: 0.1354 - val_accuracy: 0.9610 - 52s/epoch - 517ms/step\n",
            "Epoch 18/20\n",
            "100/100 - 51s - loss: 0.1127 - accuracy: 0.9640 - val_loss: 0.1344 - val_accuracy: 0.9740 - 51s/epoch - 513ms/step\n",
            "Epoch 19/20\n",
            "100/100 - 51s - loss: 0.1271 - accuracy: 0.9560 - val_loss: 0.1045 - val_accuracy: 0.9730 - 51s/epoch - 511ms/step\n",
            "Epoch 20/20\n",
            "100/100 - 51s - loss: 0.1201 - accuracy: 0.9640 - val_loss: 0.1362 - val_accuracy: 0.9680 - 51s/epoch - 511ms/step\n"
          ]
        }
      ],
      "source": [
        "res = model.fit(\n",
        "    x=train_generator,\n",
        "    #y=y_train,\n",
        "    #---------------------------------------------------------------  \n",
        "    epochs=20,\n",
        "    #---------------------------------------------------------------  \n",
        "    # batch_size=20,  \n",
        "    steps_per_epoch = 100,   # ==== train(2000) / batch_size(20)\n",
        "    #===============================================================\n",
        "    #validation_split=0.2,\n",
        "    validation_data=val_generator,\n",
        "    #---------------------------------------------------------------  \n",
        "    # validation_batch_size=20,\n",
        "    validation_steps=50,     # ==== val(1000 ) / batch_size(20)\n",
        "    #---------------------------------------------------------------  \n",
        "    verbose=2\n",
        ")"
      ]
    },
    {
      "cell_type": "markdown",
      "id": "387951e3-0e35-483e-a223-e72782dc82f2",
      "metadata": {
        "id": "387951e3-0e35-483e-a223-e72782dc82f2"
      },
      "source": [
        "# 훈련 시각화"
      ]
    },
    {
      "cell_type": "code",
      "execution_count": null,
      "id": "20bab816-7ff9-4f9b-9801-af40b8241f16",
      "metadata": {
        "id": "20bab816-7ff9-4f9b-9801-af40b8241f16",
        "outputId": "2fb4aeaf-7d5f-47ad-a4c2-25b1e42f10bf"
      },
      "outputs": [
        {
          "data": {
            "image/png": "[encoded data removed]",
            "text/plain": [
              "<Figure size 1440x288 with 2 Axes>"
            ]
          },
          "metadata": {
            "needs_background": "light"
          },
          "output_type": "display_data"
        }
      ],
      "source": [
        "import matplotlib.pyplot as plt\n",
        "\n",
        "epochs = range(len(res.history['accuracy']))\n",
        "\n",
        "p, axes = plt.subplots(1,2, figsize=(20,4))\n",
        "axes[0].plot(epochs, res.history['accuracy'],     'r', label='acc')\n",
        "axes[0].plot(epochs, res.history['val_accuracy'], 'b', label='val_acc')\n",
        "axes[0].legend()\n",
        "axes[0].grid()\n",
        "\n",
        "axes[1].plot(epochs, res.history['loss'],         'r', label='acc')\n",
        "axes[1].plot(epochs, res.history['val_loss'],     'b', label='val_acc')\n",
        "axes[1].grid()\n",
        "\n",
        "plt.show()"
      ]
    },
    {
      "cell_type": "markdown",
      "id": "f005a5f4-226f-45bf-8764-ff2b67d933f5",
      "metadata": {
        "id": "f005a5f4-226f-45bf-8764-ff2b67d933f5"
      },
      "source": [
        "# 모델 저장"
      ]
    },
    {
      "cell_type": "code",
      "execution_count": null,
      "id": "1c55ba27-0a33-45bc-b2c4-bed07bc3f15b",
      "metadata": {
        "id": "1c55ba27-0a33-45bc-b2c4-bed07bc3f15b"
      },
      "outputs": [],
      "source": [
        "model.save('my_inceptionv3.h5')"
      ]
    },
    {
      "cell_type": "code",
      "execution_count": null,
      "id": "c69d483c-3b2a-4bba-82b0-f5b3806bbf54",
      "metadata": {
        "id": "c69d483c-3b2a-4bba-82b0-f5b3806bbf54"
      },
      "outputs": [],
      "source": [
        "model.save_weights('my_inceptionv3_wieght.h5')"
      ]
    },
    {
      "cell_type": "markdown",
      "id": "0b3a912a-337b-4876-9176-cbb63983061f",
      "metadata": {
        "id": "0b3a912a-337b-4876-9176-cbb63983061f"
      },
      "source": [
        "# 모델 불러오기"
      ]
    },
    {
      "cell_type": "code",
      "execution_count": null,
      "id": "c60543fd-d803-4e79-812e-399822790302",
      "metadata": {
        "id": "c60543fd-d803-4e79-812e-399822790302",
        "outputId": "8d40640c-8978-405b-d2dc-50345ce0ab67"
      },
      "outputs": [
        {
          "name": "stdout",
          "output_type": "stream",
          "text": [
            "Model: \"model_1\"\n",
            "__________________________________________________________________________________________________\n",
            " Layer (type)                   Output Shape         Param #     Connected to                     \n",
            "==================================================================================================\n",
            " input_3 (InputLayer)           [(None, 150, 150, 3  0           []                               \n",
            "                                )]                                                                \n",
            "                                                                                                  \n",
            " conv2d_188 (Conv2D)            (None, 74, 74, 32)   864         ['input_3[0][0]']                \n",
            "                                                                                                  \n",
            " batch_normalization_188 (Batch  (None, 74, 74, 32)  96          ['conv2d_188[0][0]']             \n",
            " Normalization)                                                                                   \n",
            "                                                                                                  \n",
            " activation_188 (Activation)    (None, 74, 74, 32)   0           ['batch_normalization_188[0][0]']\n",
            "                                                                                                  \n",
            " conv2d_189 (Conv2D)            (None, 72, 72, 32)   9216        ['activation_188[0][0]']         \n",
            "                                                                                                  \n",
            " batch_normalization_189 (Batch  (None, 72, 72, 32)  96          ['conv2d_189[0][0]']             \n",
            " Normalization)                                                                                   \n",
            "                                                                                                  \n",
            " activation_189 (Activation)    (None, 72, 72, 32)   0           ['batch_normalization_189[0][0]']\n",
            "                                                                                                  \n",
            " conv2d_190 (Conv2D)            (None, 72, 72, 64)   18432       ['activation_189[0][0]']         \n",
            "                                                                                                  \n",
            " batch_normalization_190 (Batch  (None, 72, 72, 64)  192         ['conv2d_190[0][0]']             \n",
            " Normalization)                                                                                   \n",
            "                                                                                                  \n",
            " activation_190 (Activation)    (None, 72, 72, 64)   0           ['batch_normalization_190[0][0]']\n",
            "                                                                                                  \n",
            " max_pooling2d_8 (MaxPooling2D)  (None, 35, 35, 64)  0           ['activation_190[0][0]']         \n",
            "                                                                                                  \n",
            " conv2d_191 (Conv2D)            (None, 35, 35, 80)   5120        ['max_pooling2d_8[0][0]']        \n",
            "                                                                                                  \n",
            " batch_normalization_191 (Batch  (None, 35, 35, 80)  240         ['conv2d_191[0][0]']             \n",
            " Normalization)                                                                                   \n",
            "                                                                                                  \n",
            " activation_191 (Activation)    (None, 35, 35, 80)   0           ['batch_normalization_191[0][0]']\n",
            "                                                                                                  \n",
            " conv2d_192 (Conv2D)            (None, 33, 33, 192)  138240      ['activation_191[0][0]']         \n",
            "                                                                                                  \n",
            " batch_normalization_192 (Batch  (None, 33, 33, 192)  576        ['conv2d_192[0][0]']             \n",
            " Normalization)                                                                                   \n",
            "                                                                                                  \n",
            " activation_192 (Activation)    (None, 33, 33, 192)  0           ['batch_normalization_192[0][0]']\n",
            "                                                                                                  \n",
            " max_pooling2d_9 (MaxPooling2D)  (None, 16, 16, 192)  0          ['activation_192[0][0]']         \n",
            "                                                                                                  \n",
            " conv2d_196 (Conv2D)            (None, 16, 16, 64)   12288       ['max_pooling2d_9[0][0]']        \n",
            "                                                                                                  \n",
            " batch_normalization_196 (Batch  (None, 16, 16, 64)  192         ['conv2d_196[0][0]']             \n",
            " Normalization)                                                                                   \n",
            "                                                                                                  \n",
            " activation_196 (Activation)    (None, 16, 16, 64)   0           ['batch_normalization_196[0][0]']\n",
            "                                                                                                  \n",
            " conv2d_194 (Conv2D)            (None, 16, 16, 48)   9216        ['max_pooling2d_9[0][0]']        \n",
            "                                                                                                  \n",
            " conv2d_197 (Conv2D)            (None, 16, 16, 96)   55296       ['activation_196[0][0]']         \n",
            "                                                                                                  \n",
            " batch_normalization_194 (Batch  (None, 16, 16, 48)  144         ['conv2d_194[0][0]']             \n",
            " Normalization)                                                                                   \n",
            "                                                                                                  \n",
            " batch_normalization_197 (Batch  (None, 16, 16, 96)  288         ['conv2d_197[0][0]']             \n",
            " Normalization)                                                                                   \n",
            "                                                                                                  \n",
            " activation_194 (Activation)    (None, 16, 16, 48)   0           ['batch_normalization_194[0][0]']\n",
            "                                                                                                  \n",
            " activation_197 (Activation)    (None, 16, 16, 96)   0           ['batch_normalization_197[0][0]']\n",
            "                                                                                                  \n",
            " average_pooling2d_18 (AverageP  (None, 16, 16, 192)  0          ['max_pooling2d_9[0][0]']        \n",
            " ooling2D)                                                                                        \n",
            "                                                                                                  \n",
            " conv2d_193 (Conv2D)            (None, 16, 16, 64)   12288       ['max_pooling2d_9[0][0]']        \n",
            "                                                                                                  \n",
            " conv2d_195 (Conv2D)            (None, 16, 16, 64)   76800       ['activation_194[0][0]']         \n",
            "                                                                                                  \n",
            " conv2d_198 (Conv2D)            (None, 16, 16, 96)   82944       ['activation_197[0][0]']         \n",
            "                                                                                                  \n",
            " conv2d_199 (Conv2D)            (None, 16, 16, 32)   6144        ['average_pooling2d_18[0][0]']   \n",
            "                                                                                                  \n",
            " batch_normalization_193 (Batch  (None, 16, 16, 64)  192         ['conv2d_193[0][0]']             \n",
            " Normalization)                                                                                   \n",
            "                                                                                                  \n",
            " batch_normalization_195 (Batch  (None, 16, 16, 64)  192         ['conv2d_195[0][0]']             \n",
            " Normalization)                                                                                   \n",
            "                                                                                                  \n",
            " batch_normalization_198 (Batch  (None, 16, 16, 96)  288         ['conv2d_198[0][0]']             \n",
            " Normalization)                                                                                   \n",
            "                                                                                                  \n",
            " batch_normalization_199 (Batch  (None, 16, 16, 32)  96          ['conv2d_199[0][0]']             \n",
            " Normalization)                                                                                   \n",
            "                                                                                                  \n",
            " activation_193 (Activation)    (None, 16, 16, 64)   0           ['batch_normalization_193[0][0]']\n",
            "                                                                                                  \n",
            " activation_195 (Activation)    (None, 16, 16, 64)   0           ['batch_normalization_195[0][0]']\n",
            "                                                                                                  \n",
            " activation_198 (Activation)    (None, 16, 16, 96)   0           ['batch_normalization_198[0][0]']\n",
            "                                                                                                  \n",
            " activation_199 (Activation)    (None, 16, 16, 32)   0           ['batch_normalization_199[0][0]']\n",
            "                                                                                                  \n",
            " mixed0 (Concatenate)           (None, 16, 16, 256)  0           ['activation_193[0][0]',         \n",
            "                                                                  'activation_195[0][0]',         \n",
            "                                                                  'activation_198[0][0]',         \n",
            "                                                                  'activation_199[0][0]']         \n",
            "                                                                                                  \n",
            " conv2d_203 (Conv2D)            (None, 16, 16, 64)   16384       ['mixed0[0][0]']                 \n",
            "                                                                                                  \n",
            " batch_normalization_203 (Batch  (None, 16, 16, 64)  192         ['conv2d_203[0][0]']             \n",
            " Normalization)                                                                                   \n",
            "                                                                                                  \n",
            " activation_203 (Activation)    (None, 16, 16, 64)   0           ['batch_normalization_203[0][0]']\n",
            "                                                                                                  \n",
            " conv2d_201 (Conv2D)            (None, 16, 16, 48)   12288       ['mixed0[0][0]']                 \n",
            "                                                                                                  \n",
            " conv2d_204 (Conv2D)            (None, 16, 16, 96)   55296       ['activation_203[0][0]']         \n",
            "                                                                                                  \n",
            " batch_normalization_201 (Batch  (None, 16, 16, 48)  144         ['conv2d_201[0][0]']             \n",
            " Normalization)                                                                                   \n",
            "                                                                                                  \n",
            " batch_normalization_204 (Batch  (None, 16, 16, 96)  288         ['conv2d_204[0][0]']             \n",
            " Normalization)                                                                                   \n",
            "                                                                                                  \n",
            " activation_201 (Activation)    (None, 16, 16, 48)   0           ['batch_normalization_201[0][0]']\n",
            "                                                                                                  \n",
            " activation_204 (Activation)    (None, 16, 16, 96)   0           ['batch_normalization_204[0][0]']\n",
            "                                                                                                  \n",
            " average_pooling2d_19 (AverageP  (None, 16, 16, 256)  0          ['mixed0[0][0]']                 \n",
            " ooling2D)                                                                                        \n",
            "                                                                                                  \n",
            " conv2d_200 (Conv2D)            (None, 16, 16, 64)   16384       ['mixed0[0][0]']                 \n",
            "                                                                                                  \n",
            " conv2d_202 (Conv2D)            (None, 16, 16, 64)   76800       ['activation_201[0][0]']         \n",
            "                                                                                                  \n",
            " conv2d_205 (Conv2D)            (None, 16, 16, 96)   82944       ['activation_204[0][0]']         \n",
            "                                                                                                  \n",
            " conv2d_206 (Conv2D)            (None, 16, 16, 64)   16384       ['average_pooling2d_19[0][0]']   \n",
            "                                                                                                  \n",
            " batch_normalization_200 (Batch  (None, 16, 16, 64)  192         ['conv2d_200[0][0]']             \n",
            " Normalization)                                                                                   \n",
            "                                                                                                  \n",
            " batch_normalization_202 (Batch  (None, 16, 16, 64)  192         ['conv2d_202[0][0]']             \n",
            " Normalization)                                                                                   \n",
            "                                                                                                  \n",
            " batch_normalization_205 (Batch  (None, 16, 16, 96)  288         ['conv2d_205[0][0]']             \n",
            " Normalization)                                                                                   \n",
            "                                                                                                  \n",
            " batch_normalization_206 (Batch  (None, 16, 16, 64)  192         ['conv2d_206[0][0]']             \n",
            " Normalization)                                                                                   \n",
            "                                                                                                  \n",
            " activation_200 (Activation)    (None, 16, 16, 64)   0           ['batch_normalization_200[0][0]']\n",
            "                                                                                                  \n",
            " activation_202 (Activation)    (None, 16, 16, 64)   0           ['batch_normalization_202[0][0]']\n",
            "                                                                                                  \n",
            " activation_205 (Activation)    (None, 16, 16, 96)   0           ['batch_normalization_205[0][0]']\n",
            "                                                                                                  \n",
            " activation_206 (Activation)    (None, 16, 16, 64)   0           ['batch_normalization_206[0][0]']\n",
            "                                                                                                  \n",
            " mixed1 (Concatenate)           (None, 16, 16, 288)  0           ['activation_200[0][0]',         \n",
            "                                                                  'activation_202[0][0]',         \n",
            "                                                                  'activation_205[0][0]',         \n",
            "                                                                  'activation_206[0][0]']         \n",
            "                                                                                                  \n",
            " conv2d_210 (Conv2D)            (None, 16, 16, 64)   18432       ['mixed1[0][0]']                 \n",
            "                                                                                                  \n",
            " batch_normalization_210 (Batch  (None, 16, 16, 64)  192         ['conv2d_210[0][0]']             \n",
            " Normalization)                                                                                   \n",
            "                                                                                                  \n",
            " activation_210 (Activation)    (None, 16, 16, 64)   0           ['batch_normalization_210[0][0]']\n",
            "                                                                                                  \n",
            " conv2d_208 (Conv2D)            (None, 16, 16, 48)   13824       ['mixed1[0][0]']                 \n",
            "                                                                                                  \n",
            " conv2d_211 (Conv2D)            (None, 16, 16, 96)   55296       ['activation_210[0][0]']         \n",
            "                                                                                                  \n",
            " batch_normalization_208 (Batch  (None, 16, 16, 48)  144         ['conv2d_208[0][0]']             \n",
            " Normalization)                                                                                   \n",
            "                                                                                                  \n",
            " batch_normalization_211 (Batch  (None, 16, 16, 96)  288         ['conv2d_211[0][0]']             \n",
            " Normalization)                                                                                   \n",
            "                                                                                                  \n",
            " activation_208 (Activation)    (None, 16, 16, 48)   0           ['batch_normalization_208[0][0]']\n",
            "                                                                                                  \n",
            " activation_211 (Activation)    (None, 16, 16, 96)   0           ['batch_normalization_211[0][0]']\n",
            "                                                                                                  \n",
            " average_pooling2d_20 (AverageP  (None, 16, 16, 288)  0          ['mixed1[0][0]']                 \n",
            " ooling2D)                                                                                        \n",
            "                                                                                                  \n",
            " conv2d_207 (Conv2D)            (None, 16, 16, 64)   18432       ['mixed1[0][0]']                 \n",
            "                                                                                                  \n",
            " conv2d_209 (Conv2D)            (None, 16, 16, 64)   76800       ['activation_208[0][0]']         \n",
            "                                                                                                  \n",
            " conv2d_212 (Conv2D)            (None, 16, 16, 96)   82944       ['activation_211[0][0]']         \n",
            "                                                                                                  \n",
            " conv2d_213 (Conv2D)            (None, 16, 16, 64)   18432       ['average_pooling2d_20[0][0]']   \n",
            "                                                                                                  \n",
            " batch_normalization_207 (Batch  (None, 16, 16, 64)  192         ['conv2d_207[0][0]']             \n",
            " Normalization)                                                                                   \n",
            "                                                                                                  \n",
            " batch_normalization_209 (Batch  (None, 16, 16, 64)  192         ['conv2d_209[0][0]']             \n",
            " Normalization)                                                                                   \n",
            "                                                                                                  \n",
            " batch_normalization_212 (Batch  (None, 16, 16, 96)  288         ['conv2d_212[0][0]']             \n",
            " Normalization)                                                                                   \n",
            "                                                                                                  \n",
            " batch_normalization_213 (Batch  (None, 16, 16, 64)  192         ['conv2d_213[0][0]']             \n",
            " Normalization)                                                                                   \n",
            "                                                                                                  \n",
            " activation_207 (Activation)    (None, 16, 16, 64)   0           ['batch_normalization_207[0][0]']\n",
            "                                                                                                  \n",
            " activation_209 (Activation)    (None, 16, 16, 64)   0           ['batch_normalization_209[0][0]']\n",
            "                                                                                                  \n",
            " activation_212 (Activation)    (None, 16, 16, 96)   0           ['batch_normalization_212[0][0]']\n",
            "                                                                                                  \n",
            " activation_213 (Activation)    (None, 16, 16, 64)   0           ['batch_normalization_213[0][0]']\n",
            "                                                                                                  \n",
            " mixed2 (Concatenate)           (None, 16, 16, 288)  0           ['activation_207[0][0]',         \n",
            "                                                                  'activation_209[0][0]',         \n",
            "                                                                  'activation_212[0][0]',         \n",
            "                                                                  'activation_213[0][0]']         \n",
            "                                                                                                  \n",
            " conv2d_215 (Conv2D)            (None, 16, 16, 64)   18432       ['mixed2[0][0]']                 \n",
            "                                                                                                  \n",
            " batch_normalization_215 (Batch  (None, 16, 16, 64)  192         ['conv2d_215[0][0]']             \n",
            " Normalization)                                                                                   \n",
            "                                                                                                  \n",
            " activation_215 (Activation)    (None, 16, 16, 64)   0           ['batch_normalization_215[0][0]']\n",
            "                                                                                                  \n",
            " conv2d_216 (Conv2D)            (None, 16, 16, 96)   55296       ['activation_215[0][0]']         \n",
            "                                                                                                  \n",
            " batch_normalization_216 (Batch  (None, 16, 16, 96)  288         ['conv2d_216[0][0]']             \n",
            " Normalization)                                                                                   \n",
            "                                                                                                  \n",
            " activation_216 (Activation)    (None, 16, 16, 96)   0           ['batch_normalization_216[0][0]']\n",
            "                                                                                                  \n",
            " conv2d_214 (Conv2D)            (None, 7, 7, 384)    995328      ['mixed2[0][0]']                 \n",
            "                                                                                                  \n",
            " conv2d_217 (Conv2D)            (None, 7, 7, 96)     82944       ['activation_216[0][0]']         \n",
            "                                                                                                  \n",
            " batch_normalization_214 (Batch  (None, 7, 7, 384)   1152        ['conv2d_214[0][0]']             \n",
            " Normalization)                                                                                   \n",
            "                                                                                                  \n",
            " batch_normalization_217 (Batch  (None, 7, 7, 96)    288         ['conv2d_217[0][0]']             \n",
            " Normalization)                                                                                   \n",
            "                                                                                                  \n",
            " activation_214 (Activation)    (None, 7, 7, 384)    0           ['batch_normalization_214[0][0]']\n",
            "                                                                                                  \n",
            " activation_217 (Activation)    (None, 7, 7, 96)     0           ['batch_normalization_217[0][0]']\n",
            "                                                                                                  \n",
            " max_pooling2d_10 (MaxPooling2D  (None, 7, 7, 288)   0           ['mixed2[0][0]']                 \n",
            " )                                                                                                \n",
            "                                                                                                  \n",
            " mixed3 (Concatenate)           (None, 7, 7, 768)    0           ['activation_214[0][0]',         \n",
            "                                                                  'activation_217[0][0]',         \n",
            "                                                                  'max_pooling2d_10[0][0]']       \n",
            "                                                                                                  \n",
            " conv2d_222 (Conv2D)            (None, 7, 7, 128)    98304       ['mixed3[0][0]']                 \n",
            "                                                                                                  \n",
            " batch_normalization_222 (Batch  (None, 7, 7, 128)   384         ['conv2d_222[0][0]']             \n",
            " Normalization)                                                                                   \n",
            "                                                                                                  \n",
            " activation_222 (Activation)    (None, 7, 7, 128)    0           ['batch_normalization_222[0][0]']\n",
            "                                                                                                  \n",
            " conv2d_223 (Conv2D)            (None, 7, 7, 128)    114688      ['activation_222[0][0]']         \n",
            "                                                                                                  \n",
            " batch_normalization_223 (Batch  (None, 7, 7, 128)   384         ['conv2d_223[0][0]']             \n",
            " Normalization)                                                                                   \n",
            "                                                                                                  \n",
            " activation_223 (Activation)    (None, 7, 7, 128)    0           ['batch_normalization_223[0][0]']\n",
            "                                                                                                  \n",
            " conv2d_219 (Conv2D)            (None, 7, 7, 128)    98304       ['mixed3[0][0]']                 \n",
            "                                                                                                  \n",
            " conv2d_224 (Conv2D)            (None, 7, 7, 128)    114688      ['activation_223[0][0]']         \n",
            "                                                                                                  \n",
            " batch_normalization_219 (Batch  (None, 7, 7, 128)   384         ['conv2d_219[0][0]']             \n",
            " Normalization)                                                                                   \n",
            "                                                                                                  \n",
            " batch_normalization_224 (Batch  (None, 7, 7, 128)   384         ['conv2d_224[0][0]']             \n",
            " Normalization)                                                                                   \n",
            "                                                                                                  \n",
            " activation_219 (Activation)    (None, 7, 7, 128)    0           ['batch_normalization_219[0][0]']\n",
            "                                                                                                  \n",
            " activation_224 (Activation)    (None, 7, 7, 128)    0           ['batch_normalization_224[0][0]']\n",
            "                                                                                                  \n",
            " conv2d_220 (Conv2D)            (None, 7, 7, 128)    114688      ['activation_219[0][0]']         \n",
            "                                                                                                  \n",
            " conv2d_225 (Conv2D)            (None, 7, 7, 128)    114688      ['activation_224[0][0]']         \n",
            "                                                                                                  \n",
            " batch_normalization_220 (Batch  (None, 7, 7, 128)   384         ['conv2d_220[0][0]']             \n",
            " Normalization)                                                                                   \n",
            "                                                                                                  \n",
            " batch_normalization_225 (Batch  (None, 7, 7, 128)   384         ['conv2d_225[0][0]']             \n",
            " Normalization)                                                                                   \n",
            "                                                                                                  \n",
            " activation_220 (Activation)    (None, 7, 7, 128)    0           ['batch_normalization_220[0][0]']\n",
            "                                                                                                  \n",
            " activation_225 (Activation)    (None, 7, 7, 128)    0           ['batch_normalization_225[0][0]']\n",
            "                                                                                                  \n",
            " average_pooling2d_21 (AverageP  (None, 7, 7, 768)   0           ['mixed3[0][0]']                 \n",
            " ooling2D)                                                                                        \n",
            "                                                                                                  \n",
            " conv2d_218 (Conv2D)            (None, 7, 7, 192)    147456      ['mixed3[0][0]']                 \n",
            "                                                                                                  \n",
            " conv2d_221 (Conv2D)            (None, 7, 7, 192)    172032      ['activation_220[0][0]']         \n",
            "                                                                                                  \n",
            " conv2d_226 (Conv2D)            (None, 7, 7, 192)    172032      ['activation_225[0][0]']         \n",
            "                                                                                                  \n",
            " conv2d_227 (Conv2D)            (None, 7, 7, 192)    147456      ['average_pooling2d_21[0][0]']   \n",
            "                                                                                                  \n",
            " batch_normalization_218 (Batch  (None, 7, 7, 192)   576         ['conv2d_218[0][0]']             \n",
            " Normalization)                                                                                   \n",
            "                                                                                                  \n",
            " batch_normalization_221 (Batch  (None, 7, 7, 192)   576         ['conv2d_221[0][0]']             \n",
            " Normalization)                                                                                   \n",
            "                                                                                                  \n",
            " batch_normalization_226 (Batch  (None, 7, 7, 192)   576         ['conv2d_226[0][0]']             \n",
            " Normalization)                                                                                   \n",
            "                                                                                                  \n",
            " batch_normalization_227 (Batch  (None, 7, 7, 192)   576         ['conv2d_227[0][0]']             \n",
            " Normalization)                                                                                   \n",
            "                                                                                                  \n",
            " activation_218 (Activation)    (None, 7, 7, 192)    0           ['batch_normalization_218[0][0]']\n",
            "                                                                                                  \n",
            " activation_221 (Activation)    (None, 7, 7, 192)    0           ['batch_normalization_221[0][0]']\n",
            "                                                                                                  \n",
            " activation_226 (Activation)    (None, 7, 7, 192)    0           ['batch_normalization_226[0][0]']\n",
            "                                                                                                  \n",
            " activation_227 (Activation)    (None, 7, 7, 192)    0           ['batch_normalization_227[0][0]']\n",
            "                                                                                                  \n",
            " mixed4 (Concatenate)           (None, 7, 7, 768)    0           ['activation_218[0][0]',         \n",
            "                                                                  'activation_221[0][0]',         \n",
            "                                                                  'activation_226[0][0]',         \n",
            "                                                                  'activation_227[0][0]']         \n",
            "                                                                                                  \n",
            " conv2d_232 (Conv2D)            (None, 7, 7, 160)    122880      ['mixed4[0][0]']                 \n",
            "                                                                                                  \n",
            " batch_normalization_232 (Batch  (None, 7, 7, 160)   480         ['conv2d_232[0][0]']             \n",
            " Normalization)                                                                                   \n",
            "                                                                                                  \n",
            " activation_232 (Activation)    (None, 7, 7, 160)    0           ['batch_normalization_232[0][0]']\n",
            "                                                                                                  \n",
            " conv2d_233 (Conv2D)            (None, 7, 7, 160)    179200      ['activation_232[0][0]']         \n",
            "                                                                                                  \n",
            " batch_normalization_233 (Batch  (None, 7, 7, 160)   480         ['conv2d_233[0][0]']             \n",
            " Normalization)                                                                                   \n",
            "                                                                                                  \n",
            " activation_233 (Activation)    (None, 7, 7, 160)    0           ['batch_normalization_233[0][0]']\n",
            "                                                                                                  \n",
            " conv2d_229 (Conv2D)            (None, 7, 7, 160)    122880      ['mixed4[0][0]']                 \n",
            "                                                                                                  \n",
            " conv2d_234 (Conv2D)            (None, 7, 7, 160)    179200      ['activation_233[0][0]']         \n",
            "                                                                                                  \n",
            " batch_normalization_229 (Batch  (None, 7, 7, 160)   480         ['conv2d_229[0][0]']             \n",
            " Normalization)                                                                                   \n",
            "                                                                                                  \n",
            " batch_normalization_234 (Batch  (None, 7, 7, 160)   480         ['conv2d_234[0][0]']             \n",
            " Normalization)                                                                                   \n",
            "                                                                                                  \n",
            " activation_229 (Activation)    (None, 7, 7, 160)    0           ['batch_normalization_229[0][0]']\n",
            "                                                                                                  \n",
            " activation_234 (Activation)    (None, 7, 7, 160)    0           ['batch_normalization_234[0][0]']\n",
            "                                                                                                  \n",
            " conv2d_230 (Conv2D)            (None, 7, 7, 160)    179200      ['activation_229[0][0]']         \n",
            "                                                                                                  \n",
            " conv2d_235 (Conv2D)            (None, 7, 7, 160)    179200      ['activation_234[0][0]']         \n",
            "                                                                                                  \n",
            " batch_normalization_230 (Batch  (None, 7, 7, 160)   480         ['conv2d_230[0][0]']             \n",
            " Normalization)                                                                                   \n",
            "                                                                                                  \n",
            " batch_normalization_235 (Batch  (None, 7, 7, 160)   480         ['conv2d_235[0][0]']             \n",
            " Normalization)                                                                                   \n",
            "                                                                                                  \n",
            " activation_230 (Activation)    (None, 7, 7, 160)    0           ['batch_normalization_230[0][0]']\n",
            "                                                                                                  \n",
            " activation_235 (Activation)    (None, 7, 7, 160)    0           ['batch_normalization_235[0][0]']\n",
            "                                                                                                  \n",
            " average_pooling2d_22 (AverageP  (None, 7, 7, 768)   0           ['mixed4[0][0]']                 \n",
            " ooling2D)                                                                                        \n",
            "                                                                                                  \n",
            " conv2d_228 (Conv2D)            (None, 7, 7, 192)    147456      ['mixed4[0][0]']                 \n",
            "                                                                                                  \n",
            " conv2d_231 (Conv2D)            (None, 7, 7, 192)    215040      ['activation_230[0][0]']         \n",
            "                                                                                                  \n",
            " conv2d_236 (Conv2D)            (None, 7, 7, 192)    215040      ['activation_235[0][0]']         \n",
            "                                                                                                  \n",
            " conv2d_237 (Conv2D)            (None, 7, 7, 192)    147456      ['average_pooling2d_22[0][0]']   \n",
            "                                                                                                  \n",
            " batch_normalization_228 (Batch  (None, 7, 7, 192)   576         ['conv2d_228[0][0]']             \n",
            " Normalization)                                                                                   \n",
            "                                                                                                  \n",
            " batch_normalization_231 (Batch  (None, 7, 7, 192)   576         ['conv2d_231[0][0]']             \n",
            " Normalization)                                                                                   \n",
            "                                                                                                  \n",
            " batch_normalization_236 (Batch  (None, 7, 7, 192)   576         ['conv2d_236[0][0]']             \n",
            " Normalization)                                                                                   \n",
            "                                                                                                  \n",
            " batch_normalization_237 (Batch  (None, 7, 7, 192)   576         ['conv2d_237[0][0]']             \n",
            " Normalization)                                                                                   \n",
            "                                                                                                  \n",
            " activation_228 (Activation)    (None, 7, 7, 192)    0           ['batch_normalization_228[0][0]']\n",
            "                                                                                                  \n",
            " activation_231 (Activation)    (None, 7, 7, 192)    0           ['batch_normalization_231[0][0]']\n",
            "                                                                                                  \n",
            " activation_236 (Activation)    (None, 7, 7, 192)    0           ['batch_normalization_236[0][0]']\n",
            "                                                                                                  \n",
            " activation_237 (Activation)    (None, 7, 7, 192)    0           ['batch_normalization_237[0][0]']\n",
            "                                                                                                  \n",
            " mixed5 (Concatenate)           (None, 7, 7, 768)    0           ['activation_228[0][0]',         \n",
            "                                                                  'activation_231[0][0]',         \n",
            "                                                                  'activation_236[0][0]',         \n",
            "                                                                  'activation_237[0][0]']         \n",
            "                                                                                                  \n",
            " conv2d_242 (Conv2D)            (None, 7, 7, 160)    122880      ['mixed5[0][0]']                 \n",
            "                                                                                                  \n",
            " batch_normalization_242 (Batch  (None, 7, 7, 160)   480         ['conv2d_242[0][0]']             \n",
            " Normalization)                                                                                   \n",
            "                                                                                                  \n",
            " activation_242 (Activation)    (None, 7, 7, 160)    0           ['batch_normalization_242[0][0]']\n",
            "                                                                                                  \n",
            " conv2d_243 (Conv2D)            (None, 7, 7, 160)    179200      ['activation_242[0][0]']         \n",
            "                                                                                                  \n",
            " batch_normalization_243 (Batch  (None, 7, 7, 160)   480         ['conv2d_243[0][0]']             \n",
            " Normalization)                                                                                   \n",
            "                                                                                                  \n",
            " activation_243 (Activation)    (None, 7, 7, 160)    0           ['batch_normalization_243[0][0]']\n",
            "                                                                                                  \n",
            " conv2d_239 (Conv2D)            (None, 7, 7, 160)    122880      ['mixed5[0][0]']                 \n",
            "                                                                                                  \n",
            " conv2d_244 (Conv2D)            (None, 7, 7, 160)    179200      ['activation_243[0][0]']         \n",
            "                                                                                                  \n",
            " batch_normalization_239 (Batch  (None, 7, 7, 160)   480         ['conv2d_239[0][0]']             \n",
            " Normalization)                                                                                   \n",
            "                                                                                                  \n",
            " batch_normalization_244 (Batch  (None, 7, 7, 160)   480         ['conv2d_244[0][0]']             \n",
            " Normalization)                                                                                   \n",
            "                                                                                                  \n",
            " activation_239 (Activation)    (None, 7, 7, 160)    0           ['batch_normalization_239[0][0]']\n",
            "                                                                                                  \n",
            " activation_244 (Activation)    (None, 7, 7, 160)    0           ['batch_normalization_244[0][0]']\n",
            "                                                                                                  \n",
            " conv2d_240 (Conv2D)            (None, 7, 7, 160)    179200      ['activation_239[0][0]']         \n",
            "                                                                                                  \n",
            " conv2d_245 (Conv2D)            (None, 7, 7, 160)    179200      ['activation_244[0][0]']         \n",
            "                                                                                                  \n",
            " batch_normalization_240 (Batch  (None, 7, 7, 160)   480         ['conv2d_240[0][0]']             \n",
            " Normalization)                                                                                   \n",
            "                                                                                                  \n",
            " batch_normalization_245 (Batch  (None, 7, 7, 160)   480         ['conv2d_245[0][0]']             \n",
            " Normalization)                                                                                   \n",
            "                                                                                                  \n",
            " activation_240 (Activation)    (None, 7, 7, 160)    0           ['batch_normalization_240[0][0]']\n",
            "                                                                                                  \n",
            " activation_245 (Activation)    (None, 7, 7, 160)    0           ['batch_normalization_245[0][0]']\n",
            "                                                                                                  \n",
            " average_pooling2d_23 (AverageP  (None, 7, 7, 768)   0           ['mixed5[0][0]']                 \n",
            " ooling2D)                                                                                        \n",
            "                                                                                                  \n",
            " conv2d_238 (Conv2D)            (None, 7, 7, 192)    147456      ['mixed5[0][0]']                 \n",
            "                                                                                                  \n",
            " conv2d_241 (Conv2D)            (None, 7, 7, 192)    215040      ['activation_240[0][0]']         \n",
            "                                                                                                  \n",
            " conv2d_246 (Conv2D)            (None, 7, 7, 192)    215040      ['activation_245[0][0]']         \n",
            "                                                                                                  \n",
            " conv2d_247 (Conv2D)            (None, 7, 7, 192)    147456      ['average_pooling2d_23[0][0]']   \n",
            "                                                                                                  \n",
            " batch_normalization_238 (Batch  (None, 7, 7, 192)   576         ['conv2d_238[0][0]']             \n",
            " Normalization)                                                                                   \n",
            "                                                                                                  \n",
            " batch_normalization_241 (Batch  (None, 7, 7, 192)   576         ['conv2d_241[0][0]']             \n",
            " Normalization)                                                                                   \n",
            "                                                                                                  \n",
            " batch_normalization_246 (Batch  (None, 7, 7, 192)   576         ['conv2d_246[0][0]']             \n",
            " Normalization)                                                                                   \n",
            "                                                                                                  \n",
            " batch_normalization_247 (Batch  (None, 7, 7, 192)   576         ['conv2d_247[0][0]']             \n",
            " Normalization)                                                                                   \n",
            "                                                                                                  \n",
            " activation_238 (Activation)    (None, 7, 7, 192)    0           ['batch_normalization_238[0][0]']\n",
            "                                                                                                  \n",
            " activation_241 (Activation)    (None, 7, 7, 192)    0           ['batch_normalization_241[0][0]']\n",
            "                                                                                                  \n",
            " activation_246 (Activation)    (None, 7, 7, 192)    0           ['batch_normalization_246[0][0]']\n",
            "                                                                                                  \n",
            " activation_247 (Activation)    (None, 7, 7, 192)    0           ['batch_normalization_247[0][0]']\n",
            "                                                                                                  \n",
            " mixed6 (Concatenate)           (None, 7, 7, 768)    0           ['activation_238[0][0]',         \n",
            "                                                                  'activation_241[0][0]',         \n",
            "                                                                  'activation_246[0][0]',         \n",
            "                                                                  'activation_247[0][0]']         \n",
            "                                                                                                  \n",
            " conv2d_252 (Conv2D)            (None, 7, 7, 192)    147456      ['mixed6[0][0]']                 \n",
            "                                                                                                  \n",
            " batch_normalization_252 (Batch  (None, 7, 7, 192)   576         ['conv2d_252[0][0]']             \n",
            " Normalization)                                                                                   \n",
            "                                                                                                  \n",
            " activation_252 (Activation)    (None, 7, 7, 192)    0           ['batch_normalization_252[0][0]']\n",
            "                                                                                                  \n",
            " conv2d_253 (Conv2D)            (None, 7, 7, 192)    258048      ['activation_252[0][0]']         \n",
            "                                                                                                  \n",
            " batch_normalization_253 (Batch  (None, 7, 7, 192)   576         ['conv2d_253[0][0]']             \n",
            " Normalization)                                                                                   \n",
            "                                                                                                  \n",
            " activation_253 (Activation)    (None, 7, 7, 192)    0           ['batch_normalization_253[0][0]']\n",
            "                                                                                                  \n",
            " conv2d_249 (Conv2D)            (None, 7, 7, 192)    147456      ['mixed6[0][0]']                 \n",
            "                                                                                                  \n",
            " conv2d_254 (Conv2D)            (None, 7, 7, 192)    258048      ['activation_253[0][0]']         \n",
            "                                                                                                  \n",
            " batch_normalization_249 (Batch  (None, 7, 7, 192)   576         ['conv2d_249[0][0]']             \n",
            " Normalization)                                                                                   \n",
            "                                                                                                  \n",
            " batch_normalization_254 (Batch  (None, 7, 7, 192)   576         ['conv2d_254[0][0]']             \n",
            " Normalization)                                                                                   \n",
            "                                                                                                  \n",
            " activation_249 (Activation)    (None, 7, 7, 192)    0           ['batch_normalization_249[0][0]']\n",
            "                                                                                                  \n",
            " activation_254 (Activation)    (None, 7, 7, 192)    0           ['batch_normalization_254[0][0]']\n",
            "                                                                                                  \n",
            " conv2d_250 (Conv2D)            (None, 7, 7, 192)    258048      ['activation_249[0][0]']         \n",
            "                                                                                                  \n",
            " conv2d_255 (Conv2D)            (None, 7, 7, 192)    258048      ['activation_254[0][0]']         \n",
            "                                                                                                  \n",
            " batch_normalization_250 (Batch  (None, 7, 7, 192)   576         ['conv2d_250[0][0]']             \n",
            " Normalization)                                                                                   \n",
            "                                                                                                  \n",
            " batch_normalization_255 (Batch  (None, 7, 7, 192)   576         ['conv2d_255[0][0]']             \n",
            " Normalization)                                                                                   \n",
            "                                                                                                  \n",
            " activation_250 (Activation)    (None, 7, 7, 192)    0           ['batch_normalization_250[0][0]']\n",
            "                                                                                                  \n",
            " activation_255 (Activation)    (None, 7, 7, 192)    0           ['batch_normalization_255[0][0]']\n",
            "                                                                                                  \n",
            " average_pooling2d_24 (AverageP  (None, 7, 7, 768)   0           ['mixed6[0][0]']                 \n",
            " ooling2D)                                                                                        \n",
            "                                                                                                  \n",
            " conv2d_248 (Conv2D)            (None, 7, 7, 192)    147456      ['mixed6[0][0]']                 \n",
            "                                                                                                  \n",
            " conv2d_251 (Conv2D)            (None, 7, 7, 192)    258048      ['activation_250[0][0]']         \n",
            "                                                                                                  \n",
            " conv2d_256 (Conv2D)            (None, 7, 7, 192)    258048      ['activation_255[0][0]']         \n",
            "                                                                                                  \n",
            " conv2d_257 (Conv2D)            (None, 7, 7, 192)    147456      ['average_pooling2d_24[0][0]']   \n",
            "                                                                                                  \n",
            " batch_normalization_248 (Batch  (None, 7, 7, 192)   576         ['conv2d_248[0][0]']             \n",
            " Normalization)                                                                                   \n",
            "                                                                                                  \n",
            " batch_normalization_251 (Batch  (None, 7, 7, 192)   576         ['conv2d_251[0][0]']             \n",
            " Normalization)                                                                                   \n",
            "                                                                                                  \n",
            " batch_normalization_256 (Batch  (None, 7, 7, 192)   576         ['conv2d_256[0][0]']             \n",
            " Normalization)                                                                                   \n",
            "                                                                                                  \n",
            " batch_normalization_257 (Batch  (None, 7, 7, 192)   576         ['conv2d_257[0][0]']             \n",
            " Normalization)                                                                                   \n",
            "                                                                                                  \n",
            " activation_248 (Activation)    (None, 7, 7, 192)    0           ['batch_normalization_248[0][0]']\n",
            "                                                                                                  \n",
            " activation_251 (Activation)    (None, 7, 7, 192)    0           ['batch_normalization_251[0][0]']\n",
            "                                                                                                  \n",
            " activation_256 (Activation)    (None, 7, 7, 192)    0           ['batch_normalization_256[0][0]']\n",
            "                                                                                                  \n",
            " activation_257 (Activation)    (None, 7, 7, 192)    0           ['batch_normalization_257[0][0]']\n",
            "                                                                                                  \n",
            " mixed7 (Concatenate)           (None, 7, 7, 768)    0           ['activation_248[0][0]',         \n",
            "                                                                  'activation_251[0][0]',         \n",
            "                                                                  'activation_256[0][0]',         \n",
            "                                                                  'activation_257[0][0]']         \n",
            "                                                                                                  \n",
            " flatten_2 (Flatten)            (None, 37632)        0           ['mixed7[0][0]']                 \n",
            "                                                                                                  \n",
            " dense_3 (Dense)                (None, 1024)         38536192    ['flatten_2[0][0]']              \n",
            "                                                                                                  \n",
            " dense_4 (Dense)                (None, 1)            1025        ['dense_3[0][0]']                \n",
            "                                                                                                  \n",
            "==================================================================================================\n",
            "Total params: 47,512,481\n",
            "Trainable params: 38,537,217\n",
            "Non-trainable params: 8,975,264\n",
            "__________________________________________________________________________________________________\n"
          ]
        }
      ],
      "source": [
        "from keras.models import load_model\n",
        "\n",
        "loaded_model = load_model('my_inceptionv3.h5')\n",
        "loaded_model.summary()"
      ]
    },
    {
      "cell_type": "code",
      "execution_count": null,
      "id": "2ba980d3-186a-4ae4-b09a-ce6441812911",
      "metadata": {
        "id": "2ba980d3-186a-4ae4-b09a-ce6441812911"
      },
      "outputs": [],
      "source": [
        ""
      ]
    },
    {
      "cell_type": "markdown",
      "id": "a2ab8b99-2ed0-4d25-b6c8-d02e581f1905",
      "metadata": {
        "id": "a2ab8b99-2ed0-4d25-b6c8-d02e581f1905"
      },
      "source": [
        "# predict"
      ]
    },
    {
      "cell_type": "code",
      "execution_count": null,
      "id": "78cc7584-0a8b-4307-8f76-4144645f3b1f",
      "metadata": {
        "id": "78cc7584-0a8b-4307-8f76-4144645f3b1f",
        "outputId": "1d16a013-eff2-47d9-ad64-1f9379db3af5"
      },
      "outputs": [
        {
          "name": "stderr",
          "output_type": "stream",
          "text": [
            "C:\\Users\\pc\\AppData\\Local\\Temp/ipykernel_10824/301741874.py:7: UserWarning: `Model.predict_generator` is deprecated and will be removed in a future version. Please use `Model.predict`, which supports generators.\n",
            "  pred= model.predict_generator(val_generator, verbose=1)\n"
          ]
        },
        {
          "name": "stdout",
          "output_type": "stream",
          "text": [
            "50/50 [==============================] - 9s 174ms/step\n",
            "[[1.0000000e+00]\n",
            " [1.0000000e+00]\n",
            " [1.0000000e+00]\n",
            " [8.9307911e-18]\n",
            " [4.7384443e-13]]\n",
            "{0: 'cats', 1: 'dogs'}\n",
            "['dogs', 'dogs', 'dogs', 'cats', 'cats']\n"
          ]
        }
      ],
      "source": [
        "# val_generator = test_datagen.flow_from_directory(val_dir,\n",
        "#                                                       batch_size=20,\n",
        "#                                                       class_mode='binary',\n",
        "#                                                       \n",
        "\n",
        "val_generator.reset()\n",
        "pred= model.predict_generator(val_generator, verbose=1)\n",
        "print(pred[:5])\n",
        "pred=[1 if x >= 0.5 else 0 for x in pred]\n",
        "\n",
        "class_dict = (val_generator.class_indices)          #{'cats': 0, 'dogs': 1}\n",
        "\n",
        "labels = dict((v,k) for k,v in class_dict.items())  # {0: 'cats', 1: 'dogs'}\n",
        "print(labels)\n",
        "\n",
        "pred_label=[labels[k] for k in pred]\n",
        "print(pred_label[:5])"
      ]
    }
  ],
  "metadata": {
    "kernelspec": {
      "display_name": "Python 3 (ipykernel)",
      "language": "python",
      "name": "python3"
    },
    "language_info": {
      "codemirror_mode": {
        "name": "ipython",
        "version": 3
      },
      "file_extension": ".py",
      "mimetype": "text/x-python",
      "name": "python",
      "nbconvert_exporter": "python",
      "pygments_lexer": "ipython3",
      "version": "3.8.8"
    },
    "toc-autonumbering": true,
    "colab": {
      "name": "model02_InceptionV3.ipynb",
      "provenance": [],
      "include_colab_link": true
    }
  },
  "nbformat": 4,
  "nbformat_minor": 5
}