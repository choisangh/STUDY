{
  "nbformat": 4,
  "nbformat_minor": 0,
  "metadata": {
    "colab": {
      "name": "금융 공학 11일차.ipynb",
      "provenance": [],
      "collapsed_sections": [],
      "toc_visible": true,
      "authorship_tag": "ABX9TyOhS5FaRFStxR5cUFEn1nBR",
      "include_colab_link": true
    },
    "kernelspec": {
      "name": "python3",
      "display_name": "Python 3"
    },
    "language_info": {
      "name": "python"
    }
  },
  "cells": [
    {
      "cell_type": "markdown",
      "metadata": {
        "id": "view-in-github",
        "colab_type": "text"
      },
      "source": [
        "<a href=\"https://colab.research.google.com/github/choisangh/STUDY/blob/main/finance/%EA%B8%88%EC%9C%B5_%EA%B3%B5%ED%95%99_11%EC%9D%BC%EC%B0%A8.ipynb\" target=\"_parent\"><img src=\"https://colab.research.google.com/assets/colab-badge.svg\" alt=\"Open In Colab\"/></a>"
      ]
    },
    {
      "cell_type": "markdown",
      "source": [
        "# 주식(Stock/Share)"
      ],
      "metadata": {
        "id": "niUEoMiFBLgP"
      }
    },
    {
      "cell_type": "markdown",
      "source": [
        "## 주식 시장"
      ],
      "metadata": {
        "id": "tzWaQNmwuBcF"
      }
    },
    {
      "cell_type": "markdown",
      "source": [
        "<img  width=\"700\" height=\"\" src=\"https://blog.kakaocdn.net/dn/lvEw3/btryn9pEDOC/1T3i5XqfGSwxba7Ek5ZTAk/img.png\">"
      ],
      "metadata": {
        "id": "pTTwy0yxBJ-n"
      }
    },
    {
      "cell_type": "markdown",
      "source": [
        "* share: 주주가 소유하는 비 유동주식 (발행되긴 했지만 유통X)\n",
        "* stock: 유동주식 (시장에서 거래)"
      ],
      "metadata": {
        "id": "-oBtonodBt1A"
      }
    },
    {
      "cell_type": "markdown",
      "source": [
        "<img  width=\"700\" height=\"\" src=\"https://blog.kakaocdn.net/dn/cToB17/btrynhO2arZ/nf5e6f8O99pmuF5dAptwZk/img.png\">"
      ],
      "metadata": {
        "id": "BnIeMQmbCF5_"
      }
    },
    {
      "cell_type": "markdown",
      "source": [
        "<img  width=\"700\" height=\"\" src=\"https://blog.kakaocdn.net/dn/bG9ynj/btryowEI0T5/srBgXks69YgSNdwTgDrqyK/img.png\">"
      ],
      "metadata": {
        "id": "m7HJYjm9CMDS"
      }
    },
    {
      "cell_type": "markdown",
      "source": [
        "* 장외시장: 예금자 보호 불가 - 비상장거래"
      ],
      "metadata": {
        "id": "PFgHIW9-C9ei"
      }
    },
    {
      "cell_type": "markdown",
      "source": [
        "## 주식 분석 기법 개념"
      ],
      "metadata": {
        "id": "LwDRQ5d5uDxs"
      }
    },
    {
      "cell_type": "markdown",
      "source": [
        "<img  width=\"700\" height=\"\" src=\"https://blog.kakaocdn.net/dn/pZYBA/btryhOU06BF/pOhuiFkfTkTcKKFYeKsovk/img.png\">"
      ],
      "metadata": {
        "id": "UTzgYvHFDmMC"
      }
    },
    {
      "cell_type": "markdown",
      "source": [
        "* 모멘텀 : 방향성 (오르면 계속 오르고, 내리면 계속 내리는..)\n"
      ],
      "metadata": {
        "id": "jvaWDiYkDmgp"
      }
    },
    {
      "cell_type": "markdown",
      "source": [
        "## 재무제표 분석"
      ],
      "metadata": {
        "id": "fIL6zwzHuHpu"
      }
    },
    {
      "cell_type": "markdown",
      "source": [
        "<img  width=\"700\" height=\"\" src=\"https://blog.kakaocdn.net/dn/myneL/btryhM31tSL/UIbbmVxoBwPiBNHPvFft51/img.png\">"
      ],
      "metadata": {
        "id": "wsIsqLr6Efzn"
      }
    },
    {
      "cell_type": "markdown",
      "source": [
        "<네이버 금융 기업개요 창>\n",
        "* fundamental : 기업의 경제적 가치를 나타내는 지표 (EPS, BPS, PER, PBR ...)\n",
        "* 연결재무재표 : 관계사(종속기업, 지배기업) 재무상태까지 확인 가능"
      ],
      "metadata": {
        "id": "A6UhrlX9E7dS"
      }
    },
    {
      "cell_type": "markdown",
      "source": [
        "<img  width=\"700\" height=\"\" src=\"https://blog.kakaocdn.net/dn/cK3Yac/btrydzpYmAA/DltpHxXFwNeVPp0RzqmNOK/img.png\">"
      ],
      "metadata": {
        "id": "M1icYL4jFrtJ"
      }
    },
    {
      "cell_type": "markdown",
      "source": [
        "* 재무제표 : 기업의 투자가치를 판별하는 결정적 장부\n",
        "* 포괄 손익 계산서, 재무상태표, 현금흐름표"
      ],
      "metadata": {
        "id": "cX_7cPDbFcjg"
      }
    },
    {
      "cell_type": "markdown",
      "source": [
        "## 손익계산서"
      ],
      "metadata": {
        "id": "3XaySo3nuL_l"
      }
    },
    {
      "cell_type": "markdown",
      "source": [
        "<img  width=\"700\" height=\"\" src=\"https://blog.kakaocdn.net/dn/5Wp8t/btrykgh7sfj/1dUjjboEmnGX9TM7HwycfK/img.png\">"
      ],
      "metadata": {
        "id": "2vdngUxPF6jr"
      }
    },
    {
      "cell_type": "markdown",
      "source": [
        "<img  width=\"700\" height=\"\" src=\"https://blog.kakaocdn.net/dn/d4oEdZ/btryfjNtUg6/44aUPvuWBAVOn2JcwdDNP0/img.png\">"
      ],
      "metadata": {
        "id": "qgV8oFHHI8VJ"
      }
    },
    {
      "cell_type": "markdown",
      "source": [
        "<img  width=\"700\" height=\"\" src=\"https://blog.kakaocdn.net/dn/c3SkPb/btryjE5z3vW/e1vkKSz7e0bqObtBGTWhWK/img.png\">"
      ],
      "metadata": {
        "id": "wBwmu3EKO1gc"
      }
    },
    {
      "cell_type": "markdown",
      "source": [
        "<img  width=\"700\" height=\"\" src=\"https://blog.kakaocdn.net/dn/bRCCMk/btrymjGn3Bi/25ipHaOi94CyvAqvON4q50/img.png\">"
      ],
      "metadata": {
        "id": "KUnQDuyrO7xm"
      }
    },
    {
      "cell_type": "markdown",
      "source": [
        "<img  width=\"700\" height=\"\" src=\"https://blog.kakaocdn.net/dn/csrrNE/btrykhuAqMu/ouwgi4kCr3SzAwRYTMZHHk/img.png\">"
      ],
      "metadata": {
        "id": "_S6DWh_MPPVz"
      }
    },
    {
      "cell_type": "markdown",
      "source": [
        "## 재무상태표"
      ],
      "metadata": {
        "id": "aH3X1DrQuOpm"
      }
    },
    {
      "cell_type": "markdown",
      "source": [
        "<img  width=\"700\" height=\"\" src=\"https://blog.kakaocdn.net/dn/bbBsxc/btrypiNgsPq/MTcJNGO7woliKH4IDgb1x1/img.png\">"
      ],
      "metadata": {
        "id": "Vwze5DsGP6Cb"
      }
    },
    {
      "cell_type": "markdown",
      "source": [
        "<img  width=\"700\" height=\"\" src=\"https://blog.kakaocdn.net/dn/I6S2h/btryhOOldpO/lme0I99muJxkk7QsdS8rkK/img.png\">"
      ],
      "metadata": {
        "id": "aiWN44iAP_dW"
      }
    },
    {
      "cell_type": "markdown",
      "source": [
        "* 차변은 자금 운용(자산), 대변은 자금 조달(부채, 자본)에 대한 내역을 기입\n",
        "* 차변과 대변의 총계는 항상 같아야함\n",
        "* 기업의 재무제표 확인 시 유동비율과 자본잠식 상태 확인!"
      ],
      "metadata": {
        "id": "ME1x2kc8QJD2"
      }
    },
    {
      "cell_type": "markdown",
      "source": [
        "<img  width=\"700\" height=\"\" src=\"https://blog.kakaocdn.net/dn/dhpY7S/btryigpav92/5hKHmkCKw9vTDDdF2ssl50/img.png\">"
      ],
      "metadata": {
        "id": "Xri4eBDEQlBb"
      }
    },
    {
      "cell_type": "markdown",
      "source": [
        "* 손익계산서는 일정 <b>기간</b>동안의 경영성과 확인 가능\n",
        "* 재무상태표를 통해 일정 <b>시점</b>의 재정상태 확인 가능"
      ],
      "metadata": {
        "id": "v-jB48XpQlyI"
      }
    },
    {
      "cell_type": "markdown",
      "source": [
        "### 자본잠식"
      ],
      "metadata": {
        "id": "9ySDHgzjuTZu"
      }
    },
    {
      "cell_type": "markdown",
      "source": [
        "<img  width=\"700\" height=\"\" src=\"https://blog.kakaocdn.net/dn/bciciw/btrynhVQWes/UCfHCTEXewjB1ynNEGEke0/img.png\">"
      ],
      "metadata": {
        "id": "XRxXGKe-Rytc"
      }
    },
    {
      "cell_type": "markdown",
      "source": [
        "* 자본잠식 : 기업의 적자 누적으로 인해 잉여금이 마이너스가 되면서 자본 총계가 납입자본금보다 적은 상태\n",
        "* 2019년까지는 흑자로 잉여금이 200 누적되었지만, 2020년부터 큰 적자로 잉여금이 (-)형태로 자본총계(150)가 자본금(200)보다 적어짐\n",
        "* 자본잠식률 : (자본금 - 자본총계)/자본금\n",
        "* 부분잠식 : 자본잠식률이 50% 미만인 경우 -> 계도기간 이후 상장폐지<투자주의>\n",
        "* 완전잠식 : 자본총계가 (-)가 돼버린 경우 -> 즉각 상장폐지\n",
        "* 2020년은 부분잠식(25%), 2021년은 완전잠식(-)"
      ],
      "metadata": {
        "id": "e3Y3x_6_RzXn"
      }
    },
    {
      "cell_type": "markdown",
      "source": [
        "<img  width=\"700\" height=\"\" src=\"https://blog.kakaocdn.net/dn/b3BKzu/btrydzQ47kA/Ga5qbvckHIbqRVlQxTNN9K/img.png\">"
      ],
      "metadata": {
        "id": "Tf2XWs01UR8Q"
      }
    },
    {
      "cell_type": "markdown",
      "source": [
        "* 자본잠식 해결방법\n",
        "* 자본을 늘린다. ex)자본(5->11)\n",
        "<br>유상증자 : 주식발행을 통해 자본↑  \n",
        "* 자본금을 줄인다. ex)자본금(10->4)\n",
        "<br>유상감자/무상감자 : 주식 소각 -> 주주 보상 유/무의 차이\n"
      ],
      "metadata": {
        "id": "kZpWNH7WVjbe"
      }
    },
    {
      "cell_type": "markdown",
      "source": [
        "<img  width=\"700\" height=\"\" src=\"https://blog.kakaocdn.net/dn/c97lUO/btrykzCWLMG/CotGiTu6frNeYKbVr9ey71/img.png\">"
      ],
      "metadata": {
        "id": "CeduTc27US6l"
      }
    },
    {
      "cell_type": "markdown",
      "source": [
        "<img  width=\"700\" height=\"\" src=\"https://blog.kakaocdn.net/dn/ZqA2Z/btrymkrM0Hk/LTXOtdzi3Oq7v9RxO6VZM0/img.png\">"
      ],
      "metadata": {
        "id": "4B6vIeXMdLKY"
      }
    },
    {
      "cell_type": "markdown",
      "source": [
        "* 유상증자시 자본금과 자본총계가 같이 늘게됨\n",
        "* 액면가보다 비싸게 발행하여 자본금보다 자본총계가 더 늘어나게 할 수 있음\n",
        "<br>-> 액면금액을 초과한 가격으로 증자하면 초과분만큼은 자본잉여금으로 가니까 자본잠식 해결\n",
        "* 보통 자본잠식을 해결하기위해 무상감자 + 유상증자의 방법을 사용"
      ],
      "metadata": {
        "id": "k1w_mAGehHZJ"
      }
    },
    {
      "cell_type": "markdown",
      "source": [
        "<img  width=\"700\" height=\"\" src=\"https://blog.kakaocdn.net/dn/b9C6ik/btryeu2PVtu/tGUZkoQkBviovmPhogb33K/img.png\"><br>\n",
        "* 무상증자 - 자본잠식의 경우 무상증자는 X"
      ],
      "metadata": {
        "id": "uua8gFEPdNfi"
      }
    },
    {
      "cell_type": "markdown",
      "source": [
        "## 현금흐름표"
      ],
      "metadata": {
        "id": "pZszDg_ruXJe"
      }
    },
    {
      "cell_type": "markdown",
      "source": [
        "<img  width=\"700\" height=\"\" src=\"https://blog.kakaocdn.net/dn/KQ7WH/btryphVgjFl/B3adFjE45TLhqmoxs1JfQ1/img.png\">"
      ],
      "metadata": {
        "id": "PUYLUJb1qhit"
      }
    },
    {
      "cell_type": "markdown",
      "source": [
        "<img  width=\"700\" height=\"\" src=\"https://blog.kakaocdn.net/dn/bvRFnY/btrypjS3Kwg/ZNfplUEemlPcXMkhnjkICk/img.png\">"
      ],
      "metadata": {
        "id": "9xPnPiMkqbJ9"
      }
    },
    {
      "cell_type": "markdown",
      "source": [
        "* 거래일 기준 - 손익계산서\n",
        "* 돈이 들어오고 나가는 흐름 기준 - 현금흐름표"
      ],
      "metadata": {
        "id": "mzlphjTjqiYM"
      }
    },
    {
      "cell_type": "markdown",
      "source": [
        "## Fundamental "
      ],
      "metadata": {
        "id": "77ZMusubuZSV"
      }
    },
    {
      "cell_type": "markdown",
      "source": [
        "<img  width=\"700\" height=\"\" src=\"https://blog.kakaocdn.net/dn/LHxcZ/btryn8q3nTP/UO6mG847dDsA0nuyPBNUYK/img.png\"><br>\n",
        "　　　　　　　　　　　　　　　<네이버 금융 펀더멘탈 창>"
      ],
      "metadata": {
        "id": "Imct99wKxtpm"
      }
    },
    {
      "cell_type": "markdown",
      "source": [
        "* 펀더멘탈 : 기업의 성장 가능성, 영업이익, 매출, 재무상태 등을 분석하여 판단할 수 있는 가치를 의미\n"
      ],
      "metadata": {
        "id": "LSyR10Omxux2"
      }
    },
    {
      "cell_type": "markdown",
      "source": [
        "<img  width=\"700\" height=\"\" src=\"https://blog.kakaocdn.net/dn/PGJJO/btryk2kKfNv/j6u6qR01MKzxUIkDqC06Ak/img.png\">"
      ],
      "metadata": {
        "id": "KIAQORsnukb6"
      }
    },
    {
      "cell_type": "markdown",
      "source": [
        "* 투자는 High Risk, High Return\n",
        "<br>==> 수익성 지표와 안정성 지표 존재\n",
        "* 끝이 S로 끝나면 주가 관련, 끝이 R로 끝나면 비율 관련\n",
        "* 끝 글자에 따라 앞 두 글자가 바뀐다. (ex. EPS - PER)"
      ],
      "metadata": {
        "id": "wRTYK4MTulJ_"
      }
    },
    {
      "cell_type": "markdown",
      "source": [
        "<img  width=\"700\" height=\"\" src=\"https://blog.kakaocdn.net/dn/bOaVnF/btryfjzTHrr/b9GN47Sj8g1GAsoDn2duCk/img.png\">"
      ],
      "metadata": {
        "id": "2rahSgBSEfjA"
      }
    },
    {
      "cell_type": "markdown",
      "source": [
        "<img  width=\"700\" height=\"\" src=\"https://blog.kakaocdn.net/dn/LcHxj/btryk2eozcu/lTdDLpxYtxyRlaSIezZqTK/img.png\">"
      ],
      "metadata": {
        "id": "r922Y8ArE59d"
      }
    },
    {
      "cell_type": "markdown",
      "source": [
        "* 수익성 지표\n",
        "* EPS : 한 주 당 순이익 (높을 수록 좋음)\n",
        "* PER : 주가가 주당순이익 대비 몇 배인가 - 투자판단지표(저평가/고평가)\n"
      ],
      "metadata": {
        "id": "9jXxJ4kutfgl"
      }
    },
    {
      "cell_type": "markdown",
      "source": [
        "* PER은 1주당 순이익(EPS) 대비 주가가 어느정도인지를 나타내는 지표\n",
        "* PER이 낮다면 주가가 낮은데 순이익이 높다는 뜻 -> 저평가 기업\n",
        "* PER이 높다면 주가가 높은데에 비해 순이익이 낮다는 뜻 -> 고평가 기업 (투자가치 상대적으로 X) \n",
        "* 하지만 PER이 높다고 나쁜 주식, PER이 낮으면 좋은 주식이라는 획일적인 판단은 할 수 없음 -> 기업 상태를 나타내는 지표일 뿐 종합적인 분석을 해야함\n",
        "* 보통 동종업계 대비 PER로 투자가치 판단\n"
      ],
      "metadata": {
        "id": "-D8syboowBp9"
      }
    },
    {
      "cell_type": "markdown",
      "source": [
        "<img  width=\"700\" height=\"\" src=\"https://blog.kakaocdn.net/dn/AGvju/btryqizEmrl/9O0pwNRuUj23P1BAbe0R70/img.png\">"
      ],
      "metadata": {
        "id": "qoVgvIQHyQRt"
      }
    },
    {
      "cell_type": "markdown",
      "source": [
        "* 안정성 지표\n",
        "* BPS : 한 주당 장부가치(기업의 순자산)\n",
        "* PBR : 주가에 자산이 얼마나 반영되었는가 "
      ],
      "metadata": {
        "id": "slz6VUoByR4f"
      }
    },
    {
      "cell_type": "markdown",
      "source": [
        "* PBR은 1주당 장부가치(BPS) 대비 주가가 어느정도인지를 나타내는 지표\n",
        "* PBR이 낮다면 주가가 낮은데 비해 기업의 자산이 높다는 뜻 -> 저평가 기업(투자가치 O)\n",
        "* PBR이 높다면 주가는 높은데 비해 기업의 자산이 낮다는 뜻 -> 고평가 기업(투자가치 상대적으로 X)"
      ],
      "metadata": {
        "id": "yncIwR4_y_x2"
      }
    },
    {
      "cell_type": "markdown",
      "source": [
        "<img  width=\"700\" height=\"\" src=\"https://blog.kakaocdn.net/dn/bNs1x7/btrymiuCIHl/nglRPVDdFQnRm5pUY7CEj0/img.png\">"
      ],
      "metadata": {
        "id": "kN0BZ9DJH2ZZ"
      }
    },
    {
      "cell_type": "markdown",
      "source": [
        "<div><img  width=\"300\" height=\"\" src=\"https://blog.kakaocdn.net/dn/bciYYI/btryrqRZLiE/dq0XKtN4bZSgWQ2d0BmieK/img.png\"></div>"
      ],
      "metadata": {
        "id": "FzzEWuVdI6U2"
      }
    },
    {
      "cell_type": "markdown",
      "source": [
        "* ROE는 자본과 이익의 비율\n",
        "* ROE가 높으면 배당금이 높음 ( 자본대비 얼마나 수익을 얻었는지에 따라 배당금이 결정됨 )"
      ],
      "metadata": {
        "id": "2yN3q9dmJjjo"
      }
    },
    {
      "cell_type": "markdown",
      "source": [
        "<img  width=\"700\" height=\"\" src=\"https://blog.kakaocdn.net/dn/cF5dS0/btryn7TIIEm/P7N94bUQmpoi2Its6sK7Q0/img.png\">"
      ],
      "metadata": {
        "id": "viypVw3uK-98"
      }
    },
    {
      "cell_type": "markdown",
      "source": [
        "<img  width=\"700\" height=\"\" src=\"https://blog.kakaocdn.net/dn/L1sdb/btryrqEtO1n/AGzqaUKDG1HJLZ6rk3nKBk/img.png\">"
      ],
      "metadata": {
        "id": "oebP5tFgLQ38"
      }
    },
    {
      "cell_type": "markdown",
      "source": [
        "<img  width=\"700\" height=\"\" src=\"https://blog.kakaocdn.net/dn/bFY7bV/btryoYWxBX9/c2GzXrJ23NLE0oVmtHlIqK/img.png\">"
      ],
      "metadata": {
        "id": "qEos6Kw4Nart"
      }
    },
    {
      "cell_type": "markdown",
      "source": [
        "<img  width=\"700\" height=\"\" src=\"https://blog.kakaocdn.net/dn/73mID/btryrpewuzR/pkasK0EOjkE1UZKaEKcnk0/img.png\">"
      ],
      "metadata": {
        "id": "6ADUWk-QN_84"
      }
    },
    {
      "cell_type": "markdown",
      "source": [
        "* 어닝 서프라이즈 : 기업의 영업 실적이 시장이 예상했던 것보다 높아 주가 상승에 긍정적 신호를 주는 것을 일컫는 경제용어.\n",
        "* 컨센서스 : 어떤 집단을 구성하는 사람들 간의 일치된 의견을 뜻한다. --> 전문가 의견\n",
        "* 잠정치 : 경영진의 경영목표 또는 애널리스트 등이 예측한 수치로 시장의 기대치\n",
        "* 서프라이즈 : 실제치와 잠정치의 차이 <br>\n",
        "(+)값 = 어닝 서프라이즈(호재)<br>\n",
        "(-)값 = 어닝 쇼크(악재)"
      ],
      "metadata": {
        "id": "kjWSvUbuOK0f"
      }
    },
    {
      "cell_type": "markdown",
      "source": [
        "<img  width=\"700\" height=\"\" src=\"https://blog.kakaocdn.net/dn/bekuXq/btryp3XrS0M/eu0km4mB6XTyaVzWMEncwK/img.png\">"
      ],
      "metadata": {
        "id": "dUTXGhrvV7KD"
      }
    },
    {
      "cell_type": "markdown",
      "source": [
        "<img  width=\"700\" height=\"\" src=\"https://blog.kakaocdn.net/dn/JgeXF/btryni2ktHT/dIlEpFk1N5AAMsHVgwmFKk/img.png\">"
      ],
      "metadata": {
        "id": "RQcXpwSqWIxk"
      }
    },
    {
      "cell_type": "markdown",
      "source": [
        "* 금융 관련 논문 사이트 (파이널 참고)\n",
        "* Link : https://www.kcmi.re.kr/"
      ],
      "metadata": {
        "id": "J94_QMyYa_lm"
      }
    },
    {
      "cell_type": "markdown",
      "source": [
        "# Next Mission. 재무제표를 이용한 군집 분석.."
      ],
      "metadata": {
        "id": "3xDVWhDueKGF"
      }
    }
  ]
}