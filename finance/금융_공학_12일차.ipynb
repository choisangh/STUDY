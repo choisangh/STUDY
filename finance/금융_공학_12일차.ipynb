{
  "cells": [
    {
      "cell_type": "markdown",
      "metadata": {
        "id": "view-in-github",
        "colab_type": "text"
      },
      "source": [
        "<a href=\"https://colab.research.google.com/github/choisangh/STUDY/blob/main/finance/%EA%B8%88%EC%9C%B5_%EA%B3%B5%ED%95%99_12%EC%9D%BC%EC%B0%A8.ipynb\" target=\"_parent\"><img src=\"https://colab.research.google.com/assets/colab-badge.svg\" alt=\"Open In Colab\"/></a>"
      ]
    },
    {
      "cell_type": "markdown",
      "source": [
        "# 기술적 분석 투자"
      ],
      "metadata": {
        "id": "UMLFJBh8YIKc"
      },
      "id": "UMLFJBh8YIKc"
    },
    {
      "cell_type": "markdown",
      "source": [
        "<img  width=\"700\" height=\"\" src=\"https://blog.kakaocdn.net/dn/bwb387/btryti76kE0/VHLCxKBekxM70KseNpVoY0/img.png\">"
      ],
      "metadata": {
        "id": "2LKlHjHLLlGZ"
      },
      "id": "2LKlHjHLLlGZ"
    },
    {
      "cell_type": "markdown",
      "source": [
        "* 스캘핑 : 초단타\n",
        "* 데이트레이딩 : 하루 주기\n",
        "* 스윙트레이딩 : 2~3일 주기\n",
        "* 중장기투자 : 3달 이상"
      ],
      "metadata": {
        "id": "GTdmF2H5LocB"
      },
      "id": "GTdmF2H5LocB"
    },
    {
      "cell_type": "markdown",
      "source": [
        "<img  width=\"700\" height=\"\" src=\"https://blog.kakaocdn.net/dn/cV8yp9/btryrWEu6gq/OGCpykSBbTwIbrPvKRDkR0/img.png\">"
      ],
      "metadata": {
        "id": "tPAniXkpNDBa"
      },
      "id": "tPAniXkpNDBa"
    },
    {
      "cell_type": "markdown",
      "source": [
        "* 추세추종(모멘텀) : 추세를 따라감 (어제 올랐으면 오늘도 오름)\n",
        "* 역추세추종(컨트래리안) : 평균을 유지함 (어제 내리면 오늘 오름, 어제 오르면 오늘 내림)"
      ],
      "metadata": {
        "id": "vIyrwuJNNNBn"
      },
      "id": "vIyrwuJNNNBn"
    },
    {
      "cell_type": "markdown",
      "source": [
        "<img  width=\"700\" height=\"\" src=\"https://blog.kakaocdn.net/dn/weTNj/btryt5tUBsr/pjdKwEfDhulrqpmSP4p1ck/img.png\">"
      ],
      "metadata": {
        "id": "pSS95UZdORd4"
      },
      "id": "pSS95UZdORd4"
    },
    {
      "cell_type": "markdown",
      "source": [
        "<img  width=\"700\" height=\"\" src=\"https://blog.kakaocdn.net/dn/bW64pz/btryrWj9h5s/jKyxkxqlBioeGbQAAkFO5K/img.png\">"
      ],
      "metadata": {
        "id": "NkRSbzVqOSzf"
      },
      "id": "NkRSbzVqOSzf"
    },
    {
      "cell_type": "markdown",
      "source": [
        "<img  width=\"700\" height=\"\" src=\"https://blog.kakaocdn.net/dn/bpOUMB/btryro2j6aV/LaepUNl8xxpKL8KHCXnOO0/img.png\">"
      ],
      "metadata": {
        "id": "W0kf8E_CTUzW"
      },
      "id": "W0kf8E_CTUzW"
    },
    {
      "cell_type": "markdown",
      "source": [
        "* 골드크로스/데드크로스"
      ],
      "metadata": {
        "id": "nrEBi2jZcJit"
      },
      "id": "nrEBi2jZcJit"
    },
    {
      "cell_type": "markdown",
      "source": [
        "<img  width=\"700\" height=\"\" src=\"https://blog.kakaocdn.net/dn/bc6mYJ/btryoxrr1Vj/x3n3AXPCk3xkACH6ayTqsk/img.png\">"
      ],
      "metadata": {
        "id": "rM5EWr6iRxrq"
      },
      "id": "rM5EWr6iRxrq"
    },
    {
      "cell_type": "markdown",
      "source": [
        "# Backtesting Library\n",
        "* ref : https://github.com/kernc/backtesting.py"
      ],
      "metadata": {
        "id": "r7eiYd84YQUh"
      },
      "id": "r7eiYd84YQUh"
    },
    {
      "cell_type": "code",
      "source": [
        "#pip install backtesting"
      ],
      "metadata": {
        "id": "OucqbAJFYcEK"
      },
      "execution_count": null,
      "outputs": [],
      "id": "OucqbAJFYcEK"
    },
    {
      "cell_type": "code",
      "source": [
        "from backtesting import Backtest, Strategy\n",
        "from backtesting.lib import crossover\n",
        "\n",
        "from backtesting.test import SMA, GOOG\n",
        "\n",
        "\n",
        "class SmaCross(Strategy):\n",
        "    def init(self):\n",
        "        price = self.data.Close\n",
        "        self.ma1 = self.I(SMA, price, 10) #df.rolling(10).mean()\n",
        "        self.ma2 = self.I(SMA, price, 20) #df.rolling(20).mean()\n",
        "\n",
        "    def next(self):\n",
        "        if crossover(self.ma1, self.ma2): #골드크로스\n",
        "            self.buy() #매수\n",
        "        elif crossover(self.ma2, self.ma1): #데드크로스\n",
        "            self.sell() #매도\n",
        "\n",
        "\n",
        "bt = Backtest(GOOG, SmaCross, commission=.002,\n",
        "              exclusive_orders=True)\n",
        "stats = bt.run()\n",
        "bt.plot()"
      ],
      "metadata": {
        "colab": {
          "base_uri": "https://localhost:8080/",
          "height": 90
        },
        "id": "rA_TLi42YjXN",
        "outputId": "f910deee-9391-47bd-c4aa-04ba3bbc8989"
      },
      "execution_count": null,
      "outputs": [
        {
          "output_type": "stream",
          "name": "stderr",
          "text": [
            "/usr/local/lib/python3.7/dist-packages/backtesting/_plotting.py:50: UserWarning: Jupyter Notebook detected. Setting Bokeh output to notebook. This may not work in Jupyter clients without JavaScript support (e.g. PyCharm, Spyder IDE). Reset with `backtesting.set_bokeh_output(notebook=False)`.\n",
            "  warnings.warn('Jupyter Notebook detected. '\n"
          ]
        },
        {
          "output_type": "display_data",
          "data": {
            "application/javascript": [
              "\n",
              "(function(root) {\n",
              "  function now() {\n",
              "    return new Date();\n",
              "  }\n",
              "\n",
              "  var force = true;\n",
              "\n",
              "  if (typeof root._bokeh_onload_callbacks === \"undefined\" || force === true) {\n",
              "    root._bokeh_onload_callbacks = [];\n",
              "    root._bokeh_is_loading = undefined;\n",
              "  }\n",
              "\n",
              "  var JS_MIME_TYPE = 'application/javascript';\n",
              "  var HTML_MIME_TYPE = 'text/html';\n",
              "  var EXEC_MIME_TYPE = 'application/vnd.bokehjs_exec.v0+json';\n",
              "  var CLASS_NAME = 'output_bokeh rendered_html';\n",
              "\n",
              "  /**\n",
              "   * Render data to the DOM node\n",
              "   */\n",
              "  function render(props, node) {\n",
              "    var script = document.createElement(\"script\");\n",
              "    node.appendChild(script);\n",
              "  }\n",
              "\n",
              "  /**\n",
              "   * Handle when an output is cleared or removed\n",
              "   */\n",
              "  function handleClearOutput(event, handle) {\n",
              "    var cell = handle.cell;\n",
              "\n",
              "    var id = cell.output_area._bokeh_element_id;\n",
              "    var server_id = cell.output_area._bokeh_server_id;\n",
              "    // Clean up Bokeh references\n",
              "    if (id != null && id in Bokeh.index) {\n",
              "      Bokeh.index[id].model.document.clear();\n",
              "      delete Bokeh.index[id];\n",
              "    }\n",
              "\n",
              "    if (server_id !== undefined) {\n",
              "      // Clean up Bokeh references\n",
              "      var cmd = \"from bokeh.io.state import curstate; print(curstate().uuid_to_server['\" + server_id + \"'].get_sessions()[0].document.roots[0]._id)\";\n",
              "      cell.notebook.kernel.execute(cmd, {\n",
              "        iopub: {\n",
              "          output: function(msg) {\n",
              "            var id = msg.content.text.trim();\n",
              "            if (id in Bokeh.index) {\n",
              "              Bokeh.index[id].model.document.clear();\n",
              "              delete Bokeh.index[id];\n",
              "            }\n",
              "          }\n",
              "        }\n",
              "      });\n",
              "      // Destroy server and session\n",
              "      var cmd = \"import bokeh.io.notebook as ion; ion.destroy_server('\" + server_id + \"')\";\n",
              "      cell.notebook.kernel.execute(cmd);\n",
              "    }\n",
              "  }\n",
              "\n",
              "  /**\n",
              "   * Handle when a new output is added\n",
              "   */\n",
              "  function handleAddOutput(event, handle) {\n",
              "    var output_area = handle.output_area;\n",
              "    var output = handle.output;\n",
              "\n",
              "    // limit handleAddOutput to display_data with EXEC_MIME_TYPE content only\n",
              "    if ((output.output_type != \"display_data\") || (!Object.prototype.hasOwnProperty.call(output.data, EXEC_MIME_TYPE))) {\n",
              "      return\n",
              "    }\n",
              "\n",
              "    var toinsert = output_area.element.find(\".\" + CLASS_NAME.split(' ')[0]);\n",
              "\n",
              "    if (output.metadata[EXEC_MIME_TYPE][\"id\"] !== undefined) {\n",
              "      toinsert[toinsert.length - 1].firstChild.textContent = output.data[JS_MIME_TYPE];\n",
              "      // store reference to embed id on output_area\n",
              "      output_area._bokeh_element_id = output.metadata[EXEC_MIME_TYPE][\"id\"];\n",
              "    }\n",
              "    if (output.metadata[EXEC_MIME_TYPE][\"server_id\"] !== undefined) {\n",
              "      var bk_div = document.createElement(\"div\");\n",
              "      bk_div.innerHTML = output.data[HTML_MIME_TYPE];\n",
              "      var script_attrs = bk_div.children[0].attributes;\n",
              "      for (var i = 0; i < script_attrs.length; i++) {\n",
              "        toinsert[toinsert.length - 1].firstChild.setAttribute(script_attrs[i].name, script_attrs[i].value);\n",
              "        toinsert[toinsert.length - 1].firstChild.textContent = bk_div.children[0].textContent\n",
              "      }\n",
              "      // store reference to server id on output_area\n",
              "      output_area._bokeh_server_id = output.metadata[EXEC_MIME_TYPE][\"server_id\"];\n",
              "    }\n",
              "  }\n",
              "\n",
              "  function register_renderer(events, OutputArea) {\n",
              "\n",
              "    function append_mime(data, metadata, element) {\n",
              "      // create a DOM node to render to\n",
              "      var toinsert = this.create_output_subarea(\n",
              "        metadata,\n",
              "        CLASS_NAME,\n",
              "        EXEC_MIME_TYPE\n",
              "      );\n",
              "      this.keyboard_manager.register_events(toinsert);\n",
              "      // Render to node\n",
              "      var props = {data: data, metadata: metadata[EXEC_MIME_TYPE]};\n",
              "      render(props, toinsert[toinsert.length - 1]);\n",
              "      element.append(toinsert);\n",
              "      return toinsert\n",
              "    }\n",
              "\n",
              "    /* Handle when an output is cleared or removed */\n",
              "    events.on('clear_output.CodeCell', handleClearOutput);\n",
              "    events.on('delete.Cell', handleClearOutput);\n",
              "\n",
              "    /* Handle when a new output is added */\n",
              "    events.on('output_added.OutputArea', handleAddOutput);\n",
              "\n",
              "    /**\n",
              "     * Register the mime type and append_mime function with output_area\n",
              "     */\n",
              "    OutputArea.prototype.register_mime_type(EXEC_MIME_TYPE, append_mime, {\n",
              "      /* Is output safe? */\n",
              "      safe: true,\n",
              "      /* Index of renderer in `output_area.display_order` */\n",
              "      index: 0\n",
              "    });\n",
              "  }\n",
              "\n",
              "  // register the mime type if in Jupyter Notebook environment and previously unregistered\n",
              "  if (root.Jupyter !== undefined) {\n",
              "    var events = require('base/js/events');\n",
              "    var OutputArea = require('notebook/js/outputarea').OutputArea;\n",
              "\n",
              "    if (OutputArea.prototype.mime_types().indexOf(EXEC_MIME_TYPE) == -1) {\n",
              "      register_renderer(events, OutputArea);\n",
              "    }\n",
              "  }\n",
              "\n",
              "  \n",
              "  if (typeof (root._bokeh_timeout) === \"undefined\" || force === true) {\n",
              "    root._bokeh_timeout = Date.now() + 5000;\n",
              "    root._bokeh_failed_load = false;\n",
              "  }\n",
              "\n",
              "  var NB_LOAD_WARNING = {'data': {'text/html':\n",
              "     \"<div style='background-color: #fdd'>\\n\"+\n",
              "     \"<p>\\n\"+\n",
              "     \"BokehJS does not appear to have successfully loaded. If loading BokehJS from CDN, this \\n\"+\n",
              "     \"may be due to a slow or bad network connection. Possible fixes:\\n\"+\n",
              "     \"</p>\\n\"+\n",
              "     \"<ul>\\n\"+\n",
              "     \"<li>re-rerun `output_notebook()` to attempt to load from CDN again, or</li>\\n\"+\n",
              "     \"<li>use INLINE resources instead, as so:</li>\\n\"+\n",
              "     \"</ul>\\n\"+\n",
              "     \"<code>\\n\"+\n",
              "     \"from bokeh.resources import INLINE\\n\"+\n",
              "     \"output_notebook(resources=INLINE)\\n\"+\n",
              "     \"</code>\\n\"+\n",
              "     \"</div>\"}};\n",
              "\n",
              "  function display_loaded() {\n",
              "    var el = document.getElementById(null);\n",
              "    if (el != null) {\n",
              "      el.textContent = \"BokehJS is loading...\";\n",
              "    }\n",
              "    if (root.Bokeh !== undefined) {\n",
              "      if (el != null) {\n",
              "        el.textContent = \"BokehJS \" + root.Bokeh.version + \" successfully loaded.\";\n",
              "      }\n",
              "    } else if (Date.now() < root._bokeh_timeout) {\n",
              "      setTimeout(display_loaded, 100)\n",
              "    }\n",
              "  }\n",
              "\n",
              "\n",
              "  function run_callbacks() {\n",
              "    try {\n",
              "      root._bokeh_onload_callbacks.forEach(function(callback) {\n",
              "        if (callback != null)\n",
              "          callback();\n",
              "      });\n",
              "    } finally {\n",
              "      delete root._bokeh_onload_callbacks\n",
              "    }\n",
              "    console.debug(\"Bokeh: all callbacks have finished\");\n",
              "  }\n",
              "\n",
              "  function load_libs(css_urls, js_urls, callback) {\n",
              "    if (css_urls == null) css_urls = [];\n",
              "    if (js_urls == null) js_urls = [];\n",
              "\n",
              "    root._bokeh_onload_callbacks.push(callback);\n",
              "    if (root._bokeh_is_loading > 0) {\n",
              "      console.debug(\"Bokeh: BokehJS is being loaded, scheduling callback at\", now());\n",
              "      return null;\n",
              "    }\n",
              "    if (js_urls == null || js_urls.length === 0) {\n",
              "      run_callbacks();\n",
              "      return null;\n",
              "    }\n",
              "    console.debug(\"Bokeh: BokehJS not loaded, scheduling load and callback at\", now());\n",
              "    root._bokeh_is_loading = css_urls.length + js_urls.length;\n",
              "\n",
              "    function on_load() {\n",
              "      root._bokeh_is_loading--;\n",
              "      if (root._bokeh_is_loading === 0) {\n",
              "        console.debug(\"Bokeh: all BokehJS libraries/stylesheets loaded\");\n",
              "        run_callbacks()\n",
              "      }\n",
              "    }\n",
              "\n",
              "    function on_error(url) {\n",
              "      console.error(\"failed to load \" + url);\n",
              "    }\n",
              "\n",
              "    for (let i = 0; i < css_urls.length; i++) {\n",
              "      const url = css_urls[i];\n",
              "      const element = document.createElement(\"link\");\n",
              "      element.onload = on_load;\n",
              "      element.onerror = on_error.bind(null, url);\n",
              "      element.rel = \"stylesheet\";\n",
              "      element.type = \"text/css\";\n",
              "      element.href = url;\n",
              "      console.debug(\"Bokeh: injecting link tag for BokehJS stylesheet: \", url);\n",
              "      document.body.appendChild(element);\n",
              "    }\n",
              "\n",
              "    const hashes = {\"https://cdn.bokeh.org/bokeh/release/bokeh-2.3.3.min.js\": \"dM3QQsP+wXdHg42wTqW85BjZQdLNNIXqlPw/BgKoExPmTG7ZLML4EGqLMfqHT6ON\", \"https://cdn.bokeh.org/bokeh/release/bokeh-tables-2.3.3.min.js\": \"8x57I4YuIfu8XyZfFo0XVr2WAT8EK4rh/uDe3wF7YuW2FNUSNEpJbsPaB1nJ2fz2\", \"https://cdn.bokeh.org/bokeh/release/bokeh-widgets-2.3.3.min.js\": \"3QTqdz9LyAm2i0sG5XTePsHec3UHWwVsrOL68SYRoAXsafvfAyqtQ+h440+qIBhS\"};\n",
              "\n",
              "    for (let i = 0; i < js_urls.length; i++) {\n",
              "      const url = js_urls[i];\n",
              "      const element = document.createElement('script');\n",
              "      element.onload = on_load;\n",
              "      element.onerror = on_error.bind(null, url);\n",
              "      element.async = false;\n",
              "      element.src = url;\n",
              "      if (url in hashes) {\n",
              "        element.crossOrigin = \"anonymous\";\n",
              "        element.integrity = \"sha384-\" + hashes[url];\n",
              "      }\n",
              "      console.debug(\"Bokeh: injecting script tag for BokehJS library: \", url);\n",
              "      document.head.appendChild(element);\n",
              "    }\n",
              "  };\n",
              "\n",
              "  function inject_raw_css(css) {\n",
              "    const element = document.createElement(\"style\");\n",
              "    element.appendChild(document.createTextNode(css));\n",
              "    document.body.appendChild(element);\n",
              "  }\n",
              "\n",
              "  \n",
              "  var js_urls = [\"https://cdn.bokeh.org/bokeh/release/bokeh-2.3.3.min.js\", \"https://cdn.bokeh.org/bokeh/release/bokeh-widgets-2.3.3.min.js\", \"https://cdn.bokeh.org/bokeh/release/bokeh-tables-2.3.3.min.js\"];\n",
              "  var css_urls = [];\n",
              "  \n",
              "\n",
              "  var inline_js = [\n",
              "    function(Bokeh) {\n",
              "      Bokeh.set_log_level(\"info\");\n",
              "    },\n",
              "    function(Bokeh) {\n",
              "    \n",
              "    \n",
              "    }\n",
              "  ];\n",
              "\n",
              "  function run_inline_js() {\n",
              "    \n",
              "    if (root.Bokeh !== undefined || force === true) {\n",
              "      \n",
              "    for (var i = 0; i < inline_js.length; i++) {\n",
              "      inline_js[i].call(root, root.Bokeh);\n",
              "    }\n",
              "    } else if (Date.now() < root._bokeh_timeout) {\n",
              "      setTimeout(run_inline_js, 100);\n",
              "    } else if (!root._bokeh_failed_load) {\n",
              "      console.log(\"Bokeh: BokehJS failed to load within specified timeout.\");\n",
              "      root._bokeh_failed_load = true;\n",
              "    } else if (force !== true) {\n",
              "      var cell = $(document.getElementById(null)).parents('.cell').data().cell;\n",
              "      cell.output_area.append_execute_result(NB_LOAD_WARNING)\n",
              "    }\n",
              "\n",
              "  }\n",
              "\n",
              "  if (root._bokeh_is_loading === 0) {\n",
              "    console.debug(\"Bokeh: BokehJS loaded, going straight to plotting\");\n",
              "    run_inline_js();\n",
              "  } else {\n",
              "    load_libs(css_urls, js_urls, function() {\n",
              "      console.debug(\"Bokeh: BokehJS plotting callback run at\", now());\n",
              "      run_inline_js();\n",
              "    });\n",
              "  }\n",
              "}(window));"
            ],
            "application/vnd.bokehjs_load.v0+json": "\n(function(root) {\n  function now() {\n    return new Date();\n  }\n\n  var force = true;\n\n  if (typeof root._bokeh_onload_callbacks === \"undefined\" || force === true) {\n    root._bokeh_onload_callbacks = [];\n    root._bokeh_is_loading = undefined;\n  }\n\n  \n\n  \n  if (typeof (root._bokeh_timeout) === \"undefined\" || force === true) {\n    root._bokeh_timeout = Date.now() + 5000;\n    root._bokeh_failed_load = false;\n  }\n\n  var NB_LOAD_WARNING = {'data': {'text/html':\n     \"<div style='background-color: #fdd'>\\n\"+\n     \"<p>\\n\"+\n     \"BokehJS does not appear to have successfully loaded. If loading BokehJS from CDN, this \\n\"+\n     \"may be due to a slow or bad network connection. Possible fixes:\\n\"+\n     \"</p>\\n\"+\n     \"<ul>\\n\"+\n     \"<li>re-rerun `output_notebook()` to attempt to load from CDN again, or</li>\\n\"+\n     \"<li>use INLINE resources instead, as so:</li>\\n\"+\n     \"</ul>\\n\"+\n     \"<code>\\n\"+\n     \"from bokeh.resources import INLINE\\n\"+\n     \"output_notebook(resources=INLINE)\\n\"+\n     \"</code>\\n\"+\n     \"</div>\"}};\n\n  function display_loaded() {\n    var el = document.getElementById(null);\n    if (el != null) {\n      el.textContent = \"BokehJS is loading...\";\n    }\n    if (root.Bokeh !== undefined) {\n      if (el != null) {\n        el.textContent = \"BokehJS \" + root.Bokeh.version + \" successfully loaded.\";\n      }\n    } else if (Date.now() < root._bokeh_timeout) {\n      setTimeout(display_loaded, 100)\n    }\n  }\n\n\n  function run_callbacks() {\n    try {\n      root._bokeh_onload_callbacks.forEach(function(callback) {\n        if (callback != null)\n          callback();\n      });\n    } finally {\n      delete root._bokeh_onload_callbacks\n    }\n    console.debug(\"Bokeh: all callbacks have finished\");\n  }\n\n  function load_libs(css_urls, js_urls, callback) {\n    if (css_urls == null) css_urls = [];\n    if (js_urls == null) js_urls = [];\n\n    root._bokeh_onload_callbacks.push(callback);\n    if (root._bokeh_is_loading > 0) {\n      console.debug(\"Bokeh: BokehJS is being loaded, scheduling callback at\", now());\n      return null;\n    }\n    if (js_urls == null || js_urls.length === 0) {\n      run_callbacks();\n      return null;\n    }\n    console.debug(\"Bokeh: BokehJS not loaded, scheduling load and callback at\", now());\n    root._bokeh_is_loading = css_urls.length + js_urls.length;\n\n    function on_load() {\n      root._bokeh_is_loading--;\n      if (root._bokeh_is_loading === 0) {\n        console.debug(\"Bokeh: all BokehJS libraries/stylesheets loaded\");\n        run_callbacks()\n      }\n    }\n\n    function on_error(url) {\n      console.error(\"failed to load \" + url);\n    }\n\n    for (let i = 0; i < css_urls.length; i++) {\n      const url = css_urls[i];\n      const element = document.createElement(\"link\");\n      element.onload = on_load;\n      element.onerror = on_error.bind(null, url);\n      element.rel = \"stylesheet\";\n      element.type = \"text/css\";\n      element.href = url;\n      console.debug(\"Bokeh: injecting link tag for BokehJS stylesheet: \", url);\n      document.body.appendChild(element);\n    }\n\n    const hashes = {\"https://cdn.bokeh.org/bokeh/release/bokeh-2.3.3.min.js\": \"dM3QQsP+wXdHg42wTqW85BjZQdLNNIXqlPw/BgKoExPmTG7ZLML4EGqLMfqHT6ON\", \"https://cdn.bokeh.org/bokeh/release/bokeh-tables-2.3.3.min.js\": \"8x57I4YuIfu8XyZfFo0XVr2WAT8EK4rh/uDe3wF7YuW2FNUSNEpJbsPaB1nJ2fz2\", \"https://cdn.bokeh.org/bokeh/release/bokeh-widgets-2.3.3.min.js\": \"3QTqdz9LyAm2i0sG5XTePsHec3UHWwVsrOL68SYRoAXsafvfAyqtQ+h440+qIBhS\"};\n\n    for (let i = 0; i < js_urls.length; i++) {\n      const url = js_urls[i];\n      const element = document.createElement('script');\n      element.onload = on_load;\n      element.onerror = on_error.bind(null, url);\n      element.async = false;\n      element.src = url;\n      if (url in hashes) {\n        element.crossOrigin = \"anonymous\";\n        element.integrity = \"sha384-\" + hashes[url];\n      }\n      console.debug(\"Bokeh: injecting script tag for BokehJS library: \", url);\n      document.head.appendChild(element);\n    }\n  };\n\n  function inject_raw_css(css) {\n    const element = document.createElement(\"style\");\n    element.appendChild(document.createTextNode(css));\n    document.body.appendChild(element);\n  }\n\n  \n  var js_urls = [\"https://cdn.bokeh.org/bokeh/release/bokeh-2.3.3.min.js\", \"https://cdn.bokeh.org/bokeh/release/bokeh-widgets-2.3.3.min.js\", \"https://cdn.bokeh.org/bokeh/release/bokeh-tables-2.3.3.min.js\"];\n  var css_urls = [];\n  \n\n  var inline_js = [\n    function(Bokeh) {\n      Bokeh.set_log_level(\"info\");\n    },\n    function(Bokeh) {\n    \n    \n    }\n  ];\n\n  function run_inline_js() {\n    \n    if (root.Bokeh !== undefined || force === true) {\n      \n    for (var i = 0; i < inline_js.length; i++) {\n      inline_js[i].call(root, root.Bokeh);\n    }\n    } else if (Date.now() < root._bokeh_timeout) {\n      setTimeout(run_inline_js, 100);\n    } else if (!root._bokeh_failed_load) {\n      console.log(\"Bokeh: BokehJS failed to load within specified timeout.\");\n      root._bokeh_failed_load = true;\n    } else if (force !== true) {\n      var cell = $(document.getElementById(null)).parents('.cell').data().cell;\n      cell.output_area.append_execute_result(NB_LOAD_WARNING)\n    }\n\n  }\n\n  if (root._bokeh_is_loading === 0) {\n    console.debug(\"Bokeh: BokehJS loaded, going straight to plotting\");\n    run_inline_js();\n  } else {\n    load_libs(css_urls, js_urls, function() {\n      console.debug(\"Bokeh: BokehJS plotting callback run at\", now());\n      run_inline_js();\n    });\n  }\n}(window));"
          },
          "metadata": {}
        },
        {
          "output_type": "display_data",
          "data": {
            "text/html": [
              "\n",
              "\n",
              "\n",
              "\n",
              "\n",
              "\n",
              "  <div class=\"bk-root\" id=\"013c14aa-fea9-407b-b1f5-710a16358aae\" data-root-id=\"1433\"></div>\n"
            ]
          },
          "metadata": {}
        },
        {
          "output_type": "display_data",
          "data": {
            "application/javascript": [
              "(function(root) {\n",
              "  function embed_document(root) {\n",
              "    \n",
              "  var docs_json = {\"1d4f102d-3c72-4351-8c27-5fa389403ff2\":{\"defs\":[],\"roots\":{\"references\":[{\"attributes\":{\"children\":[{\"id\":\"1430\"},{\"id\":\"1432\"}],\"sizing_mode\":\"stretch_width\"},\"id\":\"1433\",\"type\":\"Row\"},{\"attributes\":{\"data\":{},\"selected\":{\"id\":\"1107\"},\"selection_policy\":{\"id\":\"1108\"}},\"id\":\"1090\",\"type\":\"ColumnDataSource\"},{\"attributes\":{},\"id\":\"1104\",\"type\":\"UnionRenderers\"},{\"attributes\":{},\"id\":\"1016\",\"type\":\"BasicTicker\"},{\"attributes\":{},\"id\":\"1252\",\"type\":\"RedoTool\"},{\"attributes\":{},\"id\":\"1106\",\"type\":\"UnionRenderers\"},{\"attributes\":{\"axis\":{\"id\":\"1015\"},\"dimension\":1,\"ticker\":null},\"id\":\"1018\",\"type\":\"Grid\"},{\"attributes\":{},\"id\":\"1107\",\"type\":\"Selection\"},{\"attributes\":{\"active_drag\":{\"id\":\"1059\"},\"active_multi\":null,\"active_scroll\":{\"id\":\"1060\"},\"tools\":[{\"id\":\"1059\"},{\"id\":\"1060\"},{\"id\":\"1061\"},{\"id\":\"1062\"},{\"id\":\"1063\"},{\"id\":\"1064\"},{\"id\":\"1065\"},{\"id\":\"1086\"},{\"id\":\"1360\"}]},\"id\":\"1067\",\"type\":\"Toolbar\"},{\"attributes\":{\"formatter\":{\"id\":\"1305\"},\"major_label_policy\":{\"id\":\"1303\"},\"ticker\":{\"id\":\"1016\"}},\"id\":\"1015\",\"type\":\"LinearAxis\"},{\"attributes\":{\"fill_color\":\"#ffffea\",\"line_color\":\"#ffcb66\",\"x\":{\"field\":\"index\"},\"y\":{\"field\":\"equity_dd\"}},\"id\":\"1077\",\"type\":\"Patch\"},{\"attributes\":{},\"id\":\"1108\",\"type\":\"UnionRenderers\"},{\"attributes\":{\"callback\":null,\"formatters\":{\"@datetime\":\"datetime\"},\"mode\":\"vline\",\"point_policy\":\"follow_mouse\",\"renderers\":[{\"id\":\"1084\"}],\"tooltips\":[[\"Date\",\"@datetime{%c}\"],[\"Equity\",\"@equity{+0,0.[000]%}\"]]},\"id\":\"1086\",\"type\":\"HoverTool\"},{\"attributes\":{\"fill_color\":{\"value\":\"cyan\"},\"line_color\":{\"value\":\"cyan\"},\"size\":{\"value\":8},\"x\":{\"value\":2139},\"y\":{\"value\":6.899121986000001}},\"id\":\"1091\",\"type\":\"Scatter\"},{\"attributes\":{\"dimensions\":\"width\"},\"id\":\"1059\",\"type\":\"PanTool\"},{\"attributes\":{\"fill_color\":{\"value\":\"blue\"},\"line_color\":{\"value\":\"blue\"},\"size\":{\"value\":8},\"x\":{\"value\":2147},\"y\":{\"value\":6.822196986000002}},\"id\":\"1112\",\"type\":\"Scatter\"},{\"attributes\":{\"dimensions\":\"width\",\"maintain_focus\":false},\"id\":\"1060\",\"type\":\"WheelZoomTool\"},{\"attributes\":{},\"id\":\"1007\",\"type\":\"LinearScale\"},{\"attributes\":{\"active_drag\":{\"id\":\"1019\"},\"active_multi\":null,\"active_scroll\":{\"id\":\"1020\"},\"tools\":[{\"id\":\"1019\"},{\"id\":\"1020\"},{\"id\":\"1021\"},{\"id\":\"1022\"},{\"id\":\"1023\"},{\"id\":\"1024\"},{\"id\":\"1025\"},{\"id\":\"1357\"},{\"id\":\"1360\"}]},\"id\":\"1027\",\"type\":\"Toolbar\"},{\"attributes\":{\"data\":{\"equity_dd\":{\"__ndarray__\":\"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\",\"dtype\":\"float64\",\"order\":\"little\",\"shape\":[4296]},\"index\":[0,1,2,3,4,5,6,7,8,9,10,11,12,13,14,15,16,17,18,19,20,21,22,23,24,25,26,27,28,29,30,31,32,33,34,35,36,37,38,39,40,41,42,43,44,45,46,47,48,49,50,51,52,53,54,55,56,57,58,59,60,61,62,63,64,65,66,67,68,69,70,71,72,73,74,75,76,77,78,79,80,81,82,83,84,85,86,87,88,89,90,91,92,93,94,95,96,97,98,99,100,101,102,103,104,105,106,107,108,109,110,111,112,113,114,115,116,117,118,119,120,121,122,123,124,125,126,127,128,129,130,131,132,133,134,135,136,137,138,139,140,141,142,143,144,145,146,147,148,149,150,151,152,153,154,155,156,157,158,159,160,161,162,163,164,165,166,167,168,169,170,171,172,173,174,175,176,177,178,179,180,181,182,183,184,185,186,187,188,189,190,191,192,193,194,195,196,197,198,199,200,201,202,203,204,205,206,207,208,209,210,211,212,213,214,215,216,217,218,219,220,221,222,223,224,225,226,227,228,229,230,231,232,233,234,235,236,237,238,239,240,241,242,243,244,245,246,247,248,249,250,251,252,253,254,255,256,257,258,259,260,261,262,263,264,265,266,267,268,269,270,271,272,273,274,275,276,277,278,279,280,281,282,283,284,285,286,287,288,289,290,291,292,293,294,295,296,297,298,299,300,301,302,303,304,305,306,307,308,309,310,311,312,313,314,315,316,317,318,319,320,321,322,323,324,325,326,327,328,329,330,331,332,333,334,335,336,337,338,339,340,341,342,343,344,345,346,347,348,349,350,351,352,353,354,355,356,357,358,359,360,361,362,363,364,365,366,367,368,369,370,371,372,373,374,375,376,377,378,379,380,381,382,383,384,385,386,387,388,389,390,391,392,393,394,395,396,397,398,399,400,401,402,403,404,405,406,407,408,409,410,411,412,413,414,415,416,417,418,419,420,421,422,423,424,425,426,427,428,429,430,431,432,433,434,435,436,437,438,439,440,441,442,443,444,445,446,447,448,449,450,451,452,453,454,455,456,457,458,459,460,461,462,463,464,465,466,467,468,469,470,471,472,473,474,475,476,477,478,479,480,481,482,483,484,485,486,487,488,489,490,491,492,493,494,495,496,497,498,499,500,501,502,503,504,505,506,507,508,509,510,511,512,513,514,515,516,517,518,519,520,521,522,523,524,525,526,527,528,529,530,531,532,533,534,535,536,537,538,539,540,541,542,543,544,545,546,547,548,549,550,551,552,553,554,555,556,557,558,559,560,561,562,563,564,565,566,567,568,569,570,571,572,573,574,575,576,577,578,579,580,581,582,583,584,585,586,587,588,589,590,591,592,593,594,595,596,597,598,599,600,601,602,603,604,605,606,607,608,609,610,611,612,613,614,615,616,617,618,619,620,621,622,623,624,625,626,627,628,629,630,631,632,633,634,635,636,637,638,639,640,641,642,643,644,645,646,647,648,649,650,651,652,653,654,655,656,657,658,659,660,661,662,663,664,665,666,667,668,669,670,671,672,673,674,675,676,677,678,679,680,681,682,683,684,685,686,687,688,689,690,691,692,693,694,695,696,697,698,699,700,701,702,703,704,705,706,707,708,709,710,711,712,713,714,715,716,717,718,719,720,721,722,723,724,725,726,727,728,729,730,731,732,733,734,735,736,737,738,739,740,741,742,743,744,745,746,747,748,749,750,751,752,753,754,755,756,757,758,759,760,761,762,763,764,765,766,767,768,769,770,771,772,773,774,775,776,777,778,779,780,781,782,783,784,785,786,787,788,789,790,791,792,793,794,795,796,797,798,799,800,801,802,803,804,805,806,807,808,809,810,811,812,813,814,815,816,817,818,819,820,821,822,823,824,825,826,827,828,829,830,831,832,833,834,835,836,837,838,839,840,841,842,843,844,845,846,847,848,849,850,851,852,853,854,855,856,857,858,859,860,861,862,863,864,865,866,867,868,869,870,871,872,873,874,875,876,877,878,879,880,881,882,883,884,885,886,887,888,889,890,891,892,893,894,895,896,897,898,899,900,901,902,903,904,905,906,907,908,909,910,911,912,913,914,915,916,917,918,919,920,921,922,923,924,925,926,927,928,929,930,931,932,933,934,935,936,937,938,939,940,941,942,943,944,945,946,947,948,949,950,951,952,953,954,955,956,957,958,959,960,961,962,963,964,965,966,967,968,969,970,971,972,973,974,975,976,977,978,979,980,981,982,983,984,985,986,987,988,989,990,991,992,993,994,995,996,997,998,999,1000,1001,1002,1003,1004,1005,1006,1007,1008,1009,1010,1011,1012,1013,1014,1015,1016,1017,1018,1019,1020,1021,1022,1023,1024,1025,1026,1027,1028,1029,1030,1031,1032,1033,1034,1035,1036,1037,1038,1039,1040,1041,1042,1043,1044,1045,1046,1047,1048,1049,1050,1051,1052,1053,1054,1055,1056,1057,1058,1059,1060,1061,1062,1063,1064,1065,1066,1067,1068,1069,1070,1071,1072,1073,1074,1075,1076,1077,1078,1079,1080,1081,1082,1083,1084,1085,1086,1087,1088,1089,1090,1091,1092,1093,1094,1095,1096,1097,1098,1099,1100,1101,1102,1103,1104,1105,1106,1107,1108,1109,1110,1111,1112,1113,1114,1115,1116,1117,1118,1119,1120,1121,1122,1123,1124,1125,1126,1127,1128,1129,1130,1131,1132,1133,1134,1135,1136,1137,1138,1139,1140,1141,1142,1143,1144,1145,1146,1147,1148,1149,1150,1151,1152,1153,1154,1155,1156,1157,1158,1159,1160,1161,1162,1163,1164,1165,1166,1167,1168,1169,1170,1171,1172,1173,1174,1175,1176,1177,1178,1179,1180,1181,1182,1183,1184,1185,1186,1187,1188,1189,1190,1191,1192,1193,1194,1195,1196,1197,1198,1199,1200,1201,1202,1203,1204,1205,1206,1207,1208,1209,1210,1211,1212,1213,1214,1215,1216,1217,1218,1219,1220,1221,1222,1223,1224,1225,1226,1227,1228,1229,1230,1231,1232,1233,1234,1235,1236,1237,1238,1239,1240,1241,1242,1243,1244,1245,1246,1247,1248,1249,1250,1251,1252,1253,1254,1255,1256,1257,1258,1259,1260,1261,1262,1263,1264,1265,1266,1267,1268,1269,1270,1271,1272,1273,1274,1275,1276,1277,1278,1279,1280,1281,1282,1283,1284,1285,1286,1287,1288,1289,1290,1291,1292,1293,1294,1295,1296,1297,1298,1299,1300,1301,1302,1303,1304,1305,1306,1307,1308,1309,1310,1311,1312,1313,1314,1315,1316,1317,1318,1319,1320,1321,1322,1323,1324,1325,1326,1327,1328,1329,1330,1331,1332,1333,1334,1335,1336,1337,1338,1339,1340,1341,1342,1343,1344,1345,1346,1347,1348,1349,1350,1351,1352,1353,1354,1355,1356,1357,1358,1359,1360,1361,1362,1363,1364,1365,1366,1367,1368,1369,1370,1371,1372,1373,1374,1375,1376,1377,1378,1379,1380,1381,1382,1383,1384,1385,1386,1387,1388,1389,1390,1391,1392,1393,1394,1395,1396,1397,1398,1399,1400,1401,1402,1403,1404,1405,1406,1407,1408,1409,1410,1411,1412,1413,1414,1415,1416,1417,1418,1419,1420,1421,1422,1423,1424,1425,1426,1427,1428,1429,1430,1431,1432,1433,1434,1435,1436,1437,1438,1439,1440,1441,1442,1443,1444,1445,1446,1447,1448,1449,1450,1451,1452,1453,1454,1455,1456,1457,1458,1459,1460,1461,1462,1463,1464,1465,1466,1467,1468,1469,1470,1471,1472,1473,1474,1475,1476,1477,1478,1479,1480,1481,1482,1483,1484,1485,1486,1487,1488,1489,1490,1491,1492,1493,1494,1495,1496,1497,1498,1499,1500,1501,1502,1503,1504,1505,1506,1507,1508,1509,1510,1511,1512,1513,1514,1515,1516,1517,1518,1519,1520,1521,1522,1523,1524,1525,1526,1527,1528,1529,1530,1531,1532,1533,1534,1535,1536,1537,1538,1539,1540,1541,1542,1543,1544,1545,1546,1547,1548,1549,1550,1551,1552,1553,1554,1555,1556,1557,1558,1559,1560,1561,1562,1563,1564,1565,1566,1567,1568,1569,1570,1571,1572,1573,1574,1575,1576,1577,1578,1579,1580,1581,1582,1583,1584,1585,1586,1587,1588,1589,1590,1591,1592,1593,1594,1595,1596,1597,1598,1599,1600,1601,1602,1603,1604,1605,1606,1607,1608,1609,1610,1611,1612,1613,1614,1615,1616,1617,1618,1619,1620,1621,1622,1623,1624,1625,1626,1627,1628,1629,1630,1631,1632,1633,1634,1635,1636,1637,1638,1639,1640,1641,1642,1643,1644,1645,1646,1647,1648,1649,1650,1651,1652,1653,1654,1655,1656,1657,1658,1659,1660,1661,1662,1663,1664,1665,1666,1667,1668,1669,1670,1671,1672,1673,1674,1675,1676,1677,1678,1679,1680,1681,1682,1683,1684,1685,1686,1687,1688,1689,1690,1691,1692,1693,1694,1695,1696,1697,1698,1699,1700,1701,1702,1703,1704,1705,1706,1707,1708,1709,1710,1711,1712,1713,1714,1715,1716,1717,1718,1719,1720,1721,1722,1723,1724,1725,1726,1727,1728,1729,1730,1731,1732,1733,1734,1735,1736,1737,1738,1739,1740,1741,1742,1743,1744,1745,1746,1747,1748,1749,1750,1751,1752,1753,1754,1755,1756,1757,1758,1759,1760,1761,1762,1763,1764,1765,1766,1767,1768,1769,1770,1771,1772,1773,1774,1775,1776,1777,1778,1779,1780,1781,1782,1783,1784,1785,1786,1787,1788,1789,1790,1791,1792,1793,1794,1795,1796,1797,1798,1799,1800,1801,1802,1803,1804,1805,1806,1807,1808,1809,1810,1811,1812,1813,1814,1815,1816,1817,1818,1819,1820,1821,1822,1823,1824,1825,1826,1827,1828,1829,1830,1831,1832,1833,1834,1835,1836,1837,1838,1839,1840,1841,1842,1843,1844,1845,1846,1847,1848,1849,1850,1851,1852,1853,1854,1855,1856,1857,1858,1859,1860,1861,1862,1863,1864,1865,1866,1867,1868,1869,1870,1871,1872,1873,1874,1875,1876,1877,1878,1879,1880,1881,1882,1883,1884,1885,1886,1887,1888,1889,1890,1891,1892,1893,1894,1895,1896,1897,1898,1899,1900,1901,1902,1903,1904,1905,1906,1907,1908,1909,1910,1911,1912,1913,1914,1915,1916,1917,1918,1919,1920,1921,1922,1923,1924,1925,1926,1927,1928,1929,1930,1931,1932,1933,1934,1935,1936,1937,1938,1939,1940,1941,1942,1943,1944,1945,1946,1947,1948,1949,1950,1951,1952,1953,1954,1955,1956,1957,1958,1959,1960,1961,1962,1963,1964,1965,1966,1967,1968,1969,1970,1971,1972,1973,1974,1975,1976,1977,1978,1979,1980,1981,1982,1983,1984,1985,1986,1987,1988,1989,1990,1991,1992,1993,1994,1995,1996,1997,1998,1999,2000,2001,2002,2003,2004,2005,2006,2007,2008,2009,2010,2011,2012,2013,2014,2015,2016,2017,2018,2019,2020,2021,2022,2023,2024,2025,2026,2027,2028,2029,2030,2031,2032,2033,2034,2035,2036,2037,2038,2039,2040,2041,2042,2043,2044,2045,2046,2047,2048,2049,2050,2051,2052,2053,2054,2055,2056,2057,2058,2059,2060,2061,2062,2063,2064,2065,2066,2067,2068,2069,2070,2071,2072,2073,2074,2075,2076,2077,2078,2079,2080,2081,2082,2083,2084,2085,2086,2087,2088,2089,2090,2091,2092,2093,2094,2095,2096,2097,2098,2099,2100,2101,2102,2103,2104,2105,2106,2107,2108,2109,2110,2111,2112,2113,2114,2115,2116,2117,2118,2119,2120,2121,2122,2123,2124,2125,2126,2127,2128,2129,2130,2131,2132,2133,2134,2135,2136,2137,2138,2139,2140,2141,2142,2143,2144,2145,2146,2147,2147,2146,2145,2144,2143,2142,2141,2140,2139,2138,2137,2136,2135,2134,2133,2132,2131,2130,2129,2128,2127,2126,2125,2124,2123,2122,2121,2120,2119,2118,2117,2116,2115,2114,2113,2112,2111,2110,2109,2108,2107,2106,2105,2104,2103,2102,2101,2100,2099,2098,2097,2096,2095,2094,2093,2092,2091,2090,2089,2088,2087,2086,2085,2084,2083,2082,2081,2080,2079,2078,2077,2076,2075,2074,2073,2072,2071,2070,2069,2068,2067,2066,2065,2064,2063,2062,2061,2060,2059,2058,2057,2056,2055,2054,2053,2052,2051,2050,2049,2048,2047,2046,2045,2044,2043,2042,2041,2040,2039,2038,2037,2036,2035,2034,2033,2032,2031,2030,2029,2028,2027,2026,2025,2024,2023,2022,2021,2020,2019,2018,2017,2016,2015,2014,2013,2012,2011,2010,2009,2008,2007,2006,2005,2004,2003,2002,2001,2000,1999,1998,1997,1996,1995,1994,1993,1992,1991,1990,1989,1988,1987,1986,1985,1984,1983,1982,1981,1980,1979,1978,1977,1976,1975,1974,1973,1972,1971,1970,1969,1968,1967,1966,1965,1964,1963,1962,1961,1960,1959,1958,1957,1956,1955,1954,1953,1952,1951,1950,1949,1948,1947,1946,1945,1944,1943,1942,1941,1940,1939,1938,1937,1936,1935,1934,1933,1932,1931,1930,1929,1928,1927,1926,1925,1924,1923,1922,1921,1920,1919,1918,1917,1916,1915,1914,1913,1912,1911,1910,1909,1908,1907,1906,1905,1904,1903,1902,1901,1900,1899,1898,1897,1896,1895,1894,1893,1892,1891,1890,1889,1888,1887,1886,1885,1884,1883,1882,1881,1880,1879,1878,1877,1876,1875,1874,1873,1872,1871,1870,1869,1868,1867,1866,1865,1864,1863,1862,1861,1860,1859,1858,1857,1856,1855,1854,1853,1852,1851,1850,1849,1848,1847,1846,1845,1844,1843,1842,1841,1840,1839,1838,1837,1836,1835,1834,1833,1832,1831,1830,1829,1828,1827,1826,1825,1824,1823,1822,1821,1820,1819,1818,1817,1816,1815,1814,1813,1812,1811,1810,1809,1808,1807,1806,1805,1804,1803,1802,1801,1800,1799,1798,1797,1796,1795,1794,1793,1792,1791,1790,1789,1788,1787,1786,1785,1784,1783,1782,1781,1780,1779,1778,1777,1776,1775,1774,1773,1772,1771,1770,1769,1768,1767,1766,1765,1764,1763,1762,1761,1760,1759,1758,1757,1756,1755,1754,1753,1752,1751,1750,1749,1748,1747,1746,1745,1744,1743,1742,1741,1740,1739,1738,1737,1736,1735,1734,1733,1732,1731,1730,1729,1728,1727,1726,1725,1724,1723,1722,1721,1720,1719,1718,1717,1716,1715,1714,1713,1712,1711,1710,1709,1708,1707,1706,1705,1704,1703,1702,1701,1700,1699,1698,1697,1696,1695,1694,1693,1692,1691,1690,1689,1688,1687,1686,1685,1684,1683,1682,1681,1680,1679,1678,1677,1676,1675,1674,1673,1672,1671,1670,1669,1668,1667,1666,1665,1664,1663,1662,1661,1660,1659,1658,1657,1656,1655,1654,1653,1652,1651,1650,1649,1648,1647,1646,1645,1644,1643,1642,1641,1640,1639,1638,1637,1636,1635,1634,1633,1632,1631,1630,1629,1628,1627,1626,1625,1624,1623,1622,1621,1620,1619,1618,1617,1616,1615,1614,1613,1612,1611,1610,1609,1608,1607,1606,1605,1604,1603,1602,1601,1600,1599,1598,1597,1596,1595,1594,1593,1592,1591,1590,1589,1588,1587,1586,1585,1584,1583,1582,1581,1580,1579,1578,1577,1576,1575,1574,1573,1572,1571,1570,1569,1568,1567,1566,1565,1564,1563,1562,1561,1560,1559,1558,1557,1556,1555,1554,1553,1552,1551,1550,1549,1548,1547,1546,1545,1544,1543,1542,1541,1540,1539,1538,1537,1536,1535,1534,1533,1532,1531,1530,1529,1528,1527,1526,1525,1524,1523,1522,1521,1520,1519,1518,1517,1516,1515,1514,1513,1512,1511,1510,1509,1508,1507,1506,1505,1504,1503,1502,1501,1500,1499,1498,1497,1496,1495,1494,1493,1492,1491,1490,1489,1488,1487,1486,1485,1484,1483,1482,1481,1480,1479,1478,1477,1476,1475,1474,1473,1472,1471,1470,1469,1468,1467,1466,1465,1464,1463,1462,1461,1460,1459,1458,1457,1456,1455,1454,1453,1452,1451,1450,1449,1448,1447,1446,1445,1444,1443,1442,1441,1440,1439,1438,1437,1436,1435,1434,1433,1432,1431,1430,1429,1428,1427,1426,1425,1424,1423,1422,1421,1420,1419,1418,1417,1416,1415,1414,1413,1412,1411,1410,1409,1408,1407,1406,1405,1404,1403,1402,1401,1400,1399,1398,1397,1396,1395,1394,1393,1392,1391,1390,1389,1388,1387,1386,1385,1384,1383,1382,1381,1380,1379,1378,1377,1376,1375,1374,1373,1372,1371,1370,1369,1368,1367,1366,1365,1364,1363,1362,1361,1360,1359,1358,1357,1356,1355,1354,1353,1352,1351,1350,1349,1348,1347,1346,1345,1344,1343,1342,1341,1340,1339,1338,1337,1336,1335,1334,1333,1332,1331,1330,1329,1328,1327,1326,1325,1324,1323,1322,1321,1320,1319,1318,1317,1316,1315,1314,1313,1312,1311,1310,1309,1308,1307,1306,1305,1304,1303,1302,1301,1300,1299,1298,1297,1296,1295,1294,1293,1292,1291,1290,1289,1288,1287,1286,1285,1284,1283,1282,1281,1280,1279,1278,1277,1276,1275,1274,1273,1272,1271,1270,1269,1268,1267,1266,1265,1264,1263,1262,1261,1260,1259,1258,1257,1256,1255,1254,1253,1252,1251,1250,1249,1248,1247,1246,1245,1244,1243,1242,1241,1240,1239,1238,1237,1236,1235,1234,1233,1232,1231,1230,1229,1228,1227,1226,1225,1224,1223,1222,1221,1220,1219,1218,1217,1216,1215,1214,1213,1212,1211,1210,1209,1208,1207,1206,1205,1204,1203,1202,1201,1200,1199,1198,1197,1196,1195,1194,1193,1192,1191,1190,1189,1188,1187,1186,1185,1184,1183,1182,1181,1180,1179,1178,1177,1176,1175,1174,1173,1172,1171,1170,1169,1168,1167,1166,1165,1164,1163,1162,1161,1160,1159,1158,1157,1156,1155,1154,1153,1152,1151,1150,1149,1148,1147,1146,1145,1144,1143,1142,1141,1140,1139,1138,1137,1136,1135,1134,1133,1132,1131,1130,1129,1128,1127,1126,1125,1124,1123,1122,1121,1120,1119,1118,1117,1116,1115,1114,1113,1112,1111,1110,1109,1108,1107,1106,1105,1104,1103,1102,1101,1100,1099,1098,1097,1096,1095,1094,1093,1092,1091,1090,1089,1088,1087,1086,1085,1084,1083,1082,1081,1080,1079,1078,1077,1076,1075,1074,1073,1072,1071,1070,1069,1068,1067,1066,1065,1064,1063,1062,1061,1060,1059,1058,1057,1056,1055,1054,1053,1052,1051,1050,1049,1048,1047,1046,1045,1044,1043,1042,1041,1040,1039,1038,1037,1036,1035,1034,1033,1032,1031,1030,1029,1028,1027,1026,1025,1024,1023,1022,1021,1020,1019,1018,1017,1016,1015,1014,1013,1012,1011,1010,1009,1008,1007,1006,1005,1004,1003,1002,1001,1000,999,998,997,996,995,994,993,992,991,990,989,988,987,986,985,984,983,982,981,980,979,978,977,976,975,974,973,972,971,970,969,968,967,966,965,964,963,962,961,960,959,958,957,956,955,954,953,952,951,950,949,948,947,946,945,944,943,942,941,940,939,938,937,936,935,934,933,932,931,930,929,928,927,926,925,924,923,922,921,920,919,918,917,916,915,914,913,912,911,910,909,908,907,906,905,904,903,902,901,900,899,898,897,896,895,894,893,892,891,890,889,888,887,886,885,884,883,882,881,880,879,878,877,876,875,874,873,872,871,870,869,868,867,866,865,864,863,862,861,860,859,858,857,856,855,854,853,852,851,850,849,848,847,846,845,844,843,842,841,840,839,838,837,836,835,834,833,832,831,830,829,828,827,826,825,824,823,822,821,820,819,818,817,816,815,814,813,812,811,810,809,808,807,806,805,804,803,802,801,800,799,798,797,796,795,794,793,792,791,790,789,788,787,786,785,784,783,782,781,780,779,778,777,776,775,774,773,772,771,770,769,768,767,766,765,764,763,762,761,760,759,758,757,756,755,754,753,752,751,750,749,748,747,746,745,744,743,742,741,740,739,738,737,736,735,734,733,732,731,730,729,728,727,726,725,724,723,722,721,720,719,718,717,716,715,714,713,712,711,710,709,708,707,706,705,704,703,702,701,700,699,698,697,696,695,694,693,692,691,690,689,688,687,686,685,684,683,682,681,680,679,678,677,676,675,674,673,672,671,670,669,668,667,666,665,664,663,662,661,660,659,658,657,656,655,654,653,652,651,650,649,648,647,646,645,644,643,642,641,640,639,638,637,636,635,634,633,632,631,630,629,628,627,626,625,624,623,622,621,620,619,618,617,616,615,614,613,612,611,610,609,608,607,606,605,604,603,602,601,600,599,598,597,596,595,594,593,592,591,590,589,588,587,586,585,584,583,582,581,580,579,578,577,576,575,574,573,572,571,570,569,568,567,566,565,564,563,562,561,560,559,558,557,556,555,554,553,552,551,550,549,548,547,546,545,544,543,542,541,540,539,538,537,536,535,534,533,532,531,530,529,528,527,526,525,524,523,522,521,520,519,518,517,516,515,514,513,512,511,510,509,508,507,506,505,504,503,502,501,500,499,498,497,496,495,494,493,492,491,490,489,488,487,486,485,484,483,482,481,480,479,478,477,476,475,474,473,472,471,470,469,468,467,466,465,464,463,462,461,460,459,458,457,456,455,454,453,452,451,450,449,448,447,446,445,444,443,442,441,440,439,438,437,436,435,434,433,432,431,430,429,428,427,426,425,424,423,422,421,420,419,418,417,416,415,414,413,412,411,410,409,408,407,406,405,404,403,402,401,400,399,398,397,396,395,394,393,392,391,390,389,388,387,386,385,384,383,382,381,380,379,378,377,376,375,374,373,372,371,370,369,368,367,366,365,364,363,362,361,360,359,358,357,356,355,354,353,352,351,350,349,348,347,346,345,344,343,342,341,340,339,338,337,336,335,334,333,332,331,330,329,328,327,326,325,324,323,322,321,320,319,318,317,316,315,314,313,312,311,310,309,308,307,306,305,304,303,302,301,300,299,298,297,296,295,294,293,292,291,290,289,288,287,286,285,284,283,282,281,280,279,278,277,276,275,274,273,272,271,270,269,268,267,266,265,264,263,262,261,260,259,258,257,256,255,254,253,252,251,250,249,248,247,246,245,244,243,242,241,240,239,238,237,236,235,234,233,232,231,230,229,228,227,226,225,224,223,222,221,220,219,218,217,216,215,214,213,212,211,210,209,208,207,206,205,204,203,202,201,200,199,198,197,196,195,194,193,192,191,190,189,188,187,186,185,184,183,182,181,180,179,178,177,176,175,174,173,172,171,170,169,168,167,166,165,164,163,162,161,160,159,158,157,156,155,154,153,152,151,150,149,148,147,146,145,144,143,142,141,140,139,138,137,136,135,134,133,132,131,130,129,128,127,126,125,124,123,122,121,120,119,118,117,116,115,114,113,112,111,110,109,108,107,106,105,104,103,102,101,100,99,98,97,96,95,94,93,92,91,90,89,88,87,86,85,84,83,82,81,80,79,78,77,76,75,74,73,72,71,70,69,68,67,66,65,64,63,62,61,60,59,58,57,56,55,54,53,52,51,50,49,48,47,46,45,44,43,42,41,40,39,38,37,36,35,34,33,32,31,30,29,28,27,26,25,24,23,22,21,20,19,18,17,16,15,14,13,12,11,10,9,8,7,6,5,4,3,2,1,0]},\"selected\":{\"id\":\"1103\"},\"selection_policy\":{\"id\":\"1104\"}},\"id\":\"1075\",\"type\":\"ColumnDataSource\"},{\"attributes\":{\"data\":{},\"selected\":{\"id\":\"1130\"},\"selection_policy\":{\"id\":\"1131\"}},\"id\":\"1111\",\"type\":\"ColumnDataSource\"},{\"attributes\":{},\"id\":\"1130\",\"type\":\"Selection\"},{\"attributes\":{\"data_source\":{\"id\":\"1274\"},\"glyph\":{\"id\":\"1282\"},\"hover_glyph\":null,\"muted_glyph\":null,\"nonselection_glyph\":{\"id\":\"1283\"},\"view\":{\"id\":\"1285\"}},\"id\":\"1284\",\"type\":\"GlyphRenderer\"},{\"attributes\":{},\"id\":\"1063\",\"type\":\"RedoTool\"},{\"attributes\":{\"overlay\":{\"id\":\"1066\"}},\"id\":\"1061\",\"type\":\"BoxZoomTool\"},{\"attributes\":{\"dimensions\":\"width\"},\"id\":\"1019\",\"type\":\"PanTool\"},{\"attributes\":{\"label\":{\"value\":\"Final (682%)\"},\"renderers\":[{\"id\":\"1114\"}]},\"id\":\"1132\",\"type\":\"LegendItem\"},{\"attributes\":{\"factors\":[\"0\",\"1\"],\"palette\":[\"tomato\",\"lime\"]},\"id\":\"1038\",\"type\":\"CategoricalColorMapper\"},{\"attributes\":{},\"id\":\"1062\",\"type\":\"UndoTool\"},{\"attributes\":{\"dimensions\":\"width\",\"maintain_focus\":false},\"id\":\"1020\",\"type\":\"WheelZoomTool\"},{\"attributes\":{\"data_source\":{\"id\":\"1090\"},\"glyph\":{\"id\":\"1091\"},\"hover_glyph\":null,\"muted_glyph\":null,\"nonselection_glyph\":{\"id\":\"1092\"},\"view\":{\"id\":\"1094\"}},\"id\":\"1093\",\"type\":\"GlyphRenderer\"},{\"attributes\":{\"data_source\":{\"id\":\"1111\"},\"glyph\":{\"id\":\"1112\"},\"hover_glyph\":null,\"muted_glyph\":null,\"nonselection_glyph\":{\"id\":\"1113\"},\"view\":{\"id\":\"1115\"}},\"id\":\"1114\",\"type\":\"GlyphRenderer\"},{\"attributes\":{\"bottom_units\":\"screen\",\"fill_alpha\":0.5,\"fill_color\":\"lightgrey\",\"left_units\":\"screen\",\"level\":\"overlay\",\"line_alpha\":1.0,\"line_color\":\"black\",\"line_dash\":[4,4],\"line_width\":2,\"right_units\":\"screen\",\"syncable\":false,\"top_units\":\"screen\"},\"id\":\"1026\",\"type\":\"BoxAnnotation\"},{\"attributes\":{},\"id\":\"1064\",\"type\":\"ResetTool\"},{\"attributes\":{\"source\":{\"id\":\"1111\"}},\"id\":\"1115\",\"type\":\"CDSView\"},{\"attributes\":{\"below\":[{\"id\":\"1011\"}],\"center\":[{\"id\":\"1014\"},{\"id\":\"1018\"},{\"id\":\"1315\"}],\"height\":400,\"left\":[{\"id\":\"1015\"}],\"min_border_bottom\":6,\"min_border_left\":0,\"min_border_right\":10,\"min_border_top\":3,\"outline_line_color\":\"#666666\",\"renderers\":[{\"id\":\"1278\"},{\"id\":\"1284\"},{\"id\":\"1289\"},{\"id\":\"1294\"},{\"id\":\"1299\"},{\"id\":\"1320\"},{\"id\":\"1340\"}],\"sizing_mode\":\"stretch_width\",\"title\":{\"id\":\"1302\"},\"toolbar\":{\"id\":\"1027\"},\"toolbar_location\":null,\"width\":null,\"x_range\":{\"id\":\"1002\"},\"x_scale\":{\"id\":\"1007\"},\"y_range\":{\"id\":\"1005\"},\"y_scale\":{\"id\":\"1009\"}},\"id\":\"1003\",\"subtype\":\"Figure\",\"type\":\"Plot\"},{\"attributes\":{},\"id\":\"1065\",\"type\":\"SaveTool\"},{\"attributes\":{},\"id\":\"1023\",\"type\":\"RedoTool\"},{\"attributes\":{\"line_color\":\"#ff7f0e\",\"line_width\":1.3,\"x\":{\"field\":\"index\"},\"y\":{\"field\":\"SMA(C,20)_1_1\"}},\"id\":\"1338\",\"type\":\"Line\"},{\"attributes\":{\"logo\":null,\"toolbars\":[{\"id\":\"1067\"},{\"id\":\"1207\"},{\"id\":\"1027\"},{\"id\":\"1256\"}],\"tools\":[{\"id\":\"1059\"},{\"id\":\"1060\"},{\"id\":\"1061\"},{\"id\":\"1062\"},{\"id\":\"1063\"},{\"id\":\"1064\"},{\"id\":\"1065\"},{\"id\":\"1086\"},{\"id\":\"1360\"},{\"id\":\"1199\"},{\"id\":\"1200\"},{\"id\":\"1201\"},{\"id\":\"1202\"},{\"id\":\"1203\"},{\"id\":\"1204\"},{\"id\":\"1205\"},{\"id\":\"1226\"},{\"id\":\"1228\"},{\"id\":\"1360\"},{\"id\":\"1019\"},{\"id\":\"1020\"},{\"id\":\"1021\"},{\"id\":\"1022\"},{\"id\":\"1023\"},{\"id\":\"1024\"},{\"id\":\"1025\"},{\"id\":\"1357\"},{\"id\":\"1360\"},{\"id\":\"1248\"},{\"id\":\"1249\"},{\"id\":\"1250\"},{\"id\":\"1251\"},{\"id\":\"1252\"},{\"id\":\"1253\"},{\"id\":\"1254\"},{\"id\":\"1270\"},{\"id\":\"1360\"}]},\"id\":\"1431\",\"type\":\"ProxyToolbar\"},{\"attributes\":{\"overlay\":{\"id\":\"1026\"}},\"id\":\"1021\",\"type\":\"BoxZoomTool\"},{\"attributes\":{\"fill_alpha\":{\"value\":0.1},\"fill_color\":{\"value\":\"blue\"},\"line_alpha\":{\"value\":0.1},\"line_color\":{\"value\":\"blue\"},\"size\":{\"value\":8},\"x\":{\"value\":2147},\"y\":{\"value\":6.822196986000002}},\"id\":\"1113\",\"type\":\"Scatter\"},{\"attributes\":{\"line_alpha\":0.1,\"line_color\":\"#1f77b4\",\"line_width\":1.5,\"x\":{\"field\":\"index\"},\"y\":{\"field\":\"equity\"}},\"id\":\"1083\",\"type\":\"Line\"},{\"attributes\":{\"data_source\":{\"id\":\"1035\"},\"glyph\":{\"id\":\"1082\"},\"hover_glyph\":null,\"muted_glyph\":null,\"nonselection_glyph\":{\"id\":\"1083\"},\"view\":{\"id\":\"1085\"}},\"id\":\"1084\",\"type\":\"GlyphRenderer\"},{\"attributes\":{},\"id\":\"1022\",\"type\":\"UndoTool\"},{\"attributes\":{},\"id\":\"1131\",\"type\":\"UnionRenderers\"},{\"attributes\":{\"format\":\"0,0.[00]%\"},\"id\":\"1088\",\"type\":\"NumeralTickFormatter\"},{\"attributes\":{},\"id\":\"1024\",\"type\":\"ResetTool\"},{\"attributes\":{\"below\":[{\"id\":\"1051\"}],\"center\":[{\"id\":\"1054\"},{\"id\":\"1058\"},{\"id\":\"1109\"}],\"height\":110,\"left\":[{\"id\":\"1055\"}],\"min_border_bottom\":6,\"min_border_left\":0,\"min_border_right\":10,\"min_border_top\":3,\"outline_line_color\":\"#666666\",\"renderers\":[{\"id\":\"1079\"},{\"id\":\"1084\"},{\"id\":\"1093\"},{\"id\":\"1114\"},{\"id\":\"1136\"},{\"id\":\"1160\"}],\"sizing_mode\":\"stretch_width\",\"title\":{\"id\":\"1096\"},\"toolbar\":{\"id\":\"1067\"},\"toolbar_location\":null,\"width\":null,\"x_range\":{\"id\":\"1002\"},\"x_scale\":{\"id\":\"1047\"},\"y_range\":{\"id\":\"1045\"},\"y_scale\":{\"id\":\"1049\"}},\"id\":\"1043\",\"subtype\":\"Figure\",\"type\":\"Plot\"},{\"attributes\":{},\"id\":\"1025\",\"type\":\"SaveTool\"},{\"attributes\":{\"fill_color\":{\"value\":\"red\"},\"line_color\":{\"value\":\"red\"},\"size\":{\"value\":8},\"x\":{\"value\":433},\"y\":{\"value\":1.0809493600000002}},\"id\":\"1134\",\"type\":\"Scatter\"},{\"attributes\":{\"data\":{},\"selected\":{\"id\":\"1154\"},\"selection_policy\":{\"id\":\"1155\"}},\"id\":\"1133\",\"type\":\"ColumnDataSource\"},{\"attributes\":{\"data\":{\"Close\":{\"__ndarray__\":\"SOF6FK6XWUAzMzMzMzNgQBSuR+F61GdAj8L1KFy/ZkDhehSuRxloQKRwPQrXc2hASOF6FK5/Z0C4HoXrUZBmQAAAAAAAgGtAuB6F61FUcUBmZmZmZmJyQFyPwvUo/HFAAAAAAADgcUCPwvUoXMdzQArXo3A9QndAw/UoXI9OeUD2KFyPwu15QMP1KFyPCntAUrgeheupdkAAAAAAAGB4QNejcD0KH3pAhetRuB49d0DhehSuRzV6QJqZmZmZKXhAFK5H4Xqod0BmZmZmZh55QArXo3A9xn1AKVyPwvVMfkBI4XoUrsd8QAAAAAAAWH9AMzMzMzMXfEDD9Shcj6J8QK5H4XoUdn1Aw/UoXI8ef0CamZmZmVWAQAAAAAAA4H9AAAAAAAAagEBcj8L1KLqBQAAAAAAAGIZAAAAAAACohUCkcD0K15uFQGZmZmZmooFAexSuR+FyfUDsUbgehYd7QLgehetR8oFAZmZmZmZOgkCPwvUoXHOAQAAAAAAAnH1AcT0K16P0fEC4HoXrUQh5QPYoXI/CdXZAj8L1KFxPckBmZmZmZjpzQBSuR+F6KHVApHA9CtcfdUApXI/C9cB1QOxRuB6Fv3hASOF6FK4TekA9CtejcFl6QM3MzMzMsHtAH4XrUbjafECamZmZmf1+QClcj8L1wIBAAAAAAAA4gkCkcD0K11+DQOxRuB6Fj4BAZmZmZmZ2gEApXI/C9biBQJqZmZmZbYBArkfhehRafkAzMzMzM897QJqZmZmZTX5AuB6F61EgfEC4HoXrUW6AQJqZmZmZLYNASOF6FK5dgUD2KFyPwo+CQHsUrkfhwoJAMzMzMzMrg0CuR+F6FFaCQM3MzMzMAIFAXI/C9SiIgECuR+F6FKZ/QOxRuB6F3YJASOF6FK7ngEC4HoXrURiAQIXrUbgehYJAhetRuB67gkAzMzMzMy+EQHsUrkfhIIJAAAAAAABSg0BSuB6F6wmEQM3MzMzM5oJAexSuR+EmgkDD9ShcjyCCQPYoXI/Cx4NAH4XrUbhohUAAAAAAAJSHQGZmZmZmQoVAKVyPwvXShUDXo3A9ChuGQOxRuB6FnYdAmpmZmZkJiUDsUbgehTGJQA==\",\"dtype\":\"float64\",\"order\":\"little\",\"shape\":[104]},\"High\":{\"__ndarray__\":\"H4XrUbheXEBxPQrXo+BgQGZmZmZm/mhAMzMzMzMzaUBcj8L1KPxoQJqZmZmZqWlAmpmZmZkZa0AzMzMzM7tnQEjhehSuF2xAZmZmZmZmcUAAAAAAAFRzQM3MzMzM3HNA7FG4HoW7ckAzMzMzMw90QAAAAAAAbHdApHA9CtfzekCPwvUoXON7QPYoXI/CsX1AAAAAAABoeUAAAAAAAPB4QOxRuB6FK3xA16NwPQo3ekDhehSuRzV6QArXo3A9vnpAAAAAAABgeEDXo3A9Cit6QI/C9Shcv35AAAAAAAAIgEBmZmZmZsZ+QAAAAAAACIBAXI/C9Sigf0AAAAAAACB9QAAAAAAAyH5AFK5H4XrMf0BSuB6F67eAQHE9CtejdIFAw/UoXI92gEC4HoXrUd6BQAAAAAAAGIZAUrgehetZh0BmZmZmZqaGQClcj8L1yoVAuB6F61HogEDsUbgehYt9QHsUrkfhRoJAmpmZmZnTgkC4HoXrUWCCQD0K16NwXYFAw/UoXI/qf0B7FK5H4SJ+QEjhehSuD3pA9ihcj8JFd0AAAAAAAJh0QOF6FK5HBXZAAAAAAADQd0DD9Shcj3J2QAAAAAAAPHlASOF6FK4TekA9CtejcPV7QDMzMzMzS3xAmpmZmZmlfUAAAAAAALB/QIXrUbgejYFAFK5H4XpYgkBSuB6F64+DQK5H4XoUrINAAAAAAAAcgUAK16NwPWKCQB+F61G4roJAj8L1KFyngEAAAAAAANR/QAAAAAAAGH9AmpmZmZnJf0DNzMzMzMaAQFK4HoXrhYNAzczMzMy2g0AAAAAAAPiCQEjhehSuF4RAPQrXo3C5g0D2KFyPwlmDQOxRuB6FmYJApHA9CtcNgUCamZmZmamAQAAAAAAAnINAAAAAAAA8g0Bcj8L1KHSBQJqZmZmZ1YJAZmZmZmZSg0CuR+F6FDaEQAAAAAAA8oRAzczMzMyMg0AfhetRuJSEQIXrUbgeaYRAzczMzMzug0CF61G4Hl+CQM3MzMzMFIRAUrgeheuHhUCF61G4HueHQNejcD0KM4hA9ihcj8LZhUDNzMzMzMiGQJqZmZmZx4dA9ihcj8JHiUCF61G4HjmJQA==\",\"dtype\":\"float64\",\"order\":\"little\",\"shape\":[104]},\"Low\":{\"__ndarray__\":\"PQrXo3D9V0Bcj8L1KLxYQM3MzMzMHGBAUrgehespZEDXo3A9Cg9lQOF6FK5HCWZAAAAAAACgZkAK16NwPZJlQHsUrkfhemZAH4XrUbiGa0B7FK5H4bZwQKRwPQrX73FAmpmZmZkVcUAAAAAAANBxQHsUrkfhKnJAXI/C9SgQd0Bcj8L1KPB4QKRwPQrXq3hA4XoUrkcddUDNzMzMzLh0QHsUrkfhPnhAhetRuB6JdkCamZmZmTl3QNejcD0Km3dA9ihcj8K1dkDsUbgehYt3QNejcD0K43hAKVyPwvUQfUA9CtejcEV8QPYoXI/C0XxAcT0K16Owe0AAAAAAAFB7QFK4HoXrQXxAw/UoXI+WfEA9CtejcBl/QK5H4XoULn9Aj8L1KFwHfkCuR+F6FO5/QHsUrkfhzIFAXI/C9ShAg0AAAAAAAGSEQAAAAAAAOIBAmpmZmZnte0D2KFyPwsF5QAAAAAAAkHtAFK5H4XrOgEAfhetRuBiAQJqZmZmZGX1AZmZmZmbefECPwvUoXMt3QNejcD0KV3NAmpmZmZnpbkDhehSuR2lwQAAAAAAArHFAzczMzMyYdEAzMzMzMxdyQPYoXI/CSXVA16NwPQoLeEAK16NwPR55QEjhehSuv3hAKVyPwvVoe0A9CtejcEl8QJqZmZmZKX5AUrgeheuBgEA9CtejcBmCQHsUrkfhbIBAAAAAAABAgEBSuB6F632AQArXo3A9SIBAAAAAAADAfEDsUbgehct7QK5H4XoUGntAZmZmZmb6e0AAAAAAAEh8QM3MzMzMNoBAFK5H4XpKgUAzMzMzM5OBQGZmZmZmnIJAzczMzMzKgkAK16NwPTqBQAAAAAAAOIBAMzMzMzMLgEC4HoXrUZB9QK5H4XoUpn9A9ihcj8KtfkAAAAAAAOh/QJqZmZmZCX5AcT0K16OKgUAAAAAAALiCQGZmZmZmpIFAhetRuB4ZgkAfhetRuI6CQJqZmZmZcYJAAAAAAAAYgkBcj8L1KGSBQB+F61G4kIFA4XoUrkd7g0AAAAAAAAyFQJqZmZmZ7YRAAAAAAADgg0BxPQrXo1KFQFyPwvUovIVAzczMzMywh0AzMzMzM+GIQA==\",\"dtype\":\"float64\",\"order\":\"little\",\"shape\":[104]},\"Open\":{\"__ndarray__\":\"AAAAAAAAWUDNzMzMzKxZQJqZmZmZWWBAmpmZmZkxaEBmZmZmZr5mQM3MzMzMrGhAXI/C9ShMaEDhehSuR6lnQLgehetRuGZAmpmZmZnBa0AzMzMzM7NxQHE9CtejcHJAUrgehesBckDD9Shcj95xQK5H4XoUmnNA9ihcj8I9d0AzMzMzM5N5QLgehetRaHpAFK5H4XpQeEApXI/C9Qh3QBSuR+F6WHhA7FG4HoUnekBxPQrXo1h3QHE9CtejQHpA9ihcj8IReECkcD0K1893QGZmZmZmHnlAXI/C9SjsfUBI4XoUrl9+QAAAAAAAIH1AAAAAAACgf0AfhetRuKp7QFyPwvUonHxA16NwPQqDfUAAAAAAAFB/QFK4HoXra4BAAAAAAADof0Bcj8L1KBiAQPYoXI/Cz4FAuB6F61H2hUCuR+F6FJiFQClcj8L1poVAj8L1KFyFgEBcj8L1KHh9QKRwPQrX+3tAFK5H4XoSgkAAAAAAADSCQHE9CtejPIBAXI/C9SiIfUC4HoXrUcx9QGZmZmZmsnlA4XoUrkdZdkB7FK5H4epxQJqZmZmZSXNAcT0K16PkdEDhehSuR9V0QBSuR+F6fHVAFK5H4XqweEBI4XoUrit6QDMzMzMzg3pApHA9CtcLfEB7FK5H4bp8QAAAAAAA0H5AcT0K16PIgEDXo3A9CmGCQJqZmZmZl4NAzczMzMy0gECamZmZmYmAQM3MzMzM2oFAAAAAAAB0gEB7FK5H4QZ+QHE9Ctej1HtApHA9CtePfkBI4XoUrm98QAAAAAAAkIBApHA9Ctc9g0AAAAAAAJiBQKRwPQrXo4JAUrgehevjgkAK16NwPU6DQK5H4XoUZoJAmpmZmZkNgUC4HoXrUYCAQKRwPQrXq39A9ihcj8IZg0AAAAAAAOaAQJqZmZmZ3X9AzczMzMwggkAAAAAAAMCCQOxRuB6FZ4RA7FG4HoVHgkCuR+F6FHKDQFyPwvUoBoRAuB6F61HegkC4HoXrUd6BQMP1KFyPLoJAZmZmZmbqg0BmZmZmZmSFQGZmZmZmuIdAAAAAAAA8hUBSuB6F6/GFQI/C9Shce4ZAmpmZmZmxh0BmZmZmZu6IQA==\",\"dtype\":\"float64\",\"order\":\"little\",\"shape\":[104]},\"Volume\":[66870300,106354200,257067900,277594100,145342300,205164900,325609800,171949000,226691100,253768800,389001700,204949100,142971900,170153200,192962500,211666200,198764400,299040100,297525000,306764000,185314500,175939800,142380600,127521900,106972000,121551400,158514000,118440300,91664200,124587100,113914100,118116400,92958500,99581700,129048400,116630800,88694000,69413800,155451000,171435300,85314100,157789400,177185500,145615500,143044700,104632800,93784600,104086000,68814400,134078500,199295600,158033000,113007400,109881700,111585300,113975300,87832900,57035300,70461000,73017200,48738600,51079600,77174500,40906200,42620300,89100500,52034300,83772900,73061000,81561200,59863200,69310000,52855200,59701000,79347900,58441900,42285200,59984400,41869000,60139000,70241700,45327900,59125100,81055500,106775600,58629700,77215500,60300500,55047500,73642600,47364600,47330200,58877700,58673300,46504300,51286600,47063300,60177600,71798800,46679200,41695500,52405200,46340300,2175400],\"_width\":{\"__ndarray__\":\"zczMzMzMIUBmZmZmZuY0QGZmZmZm5jRAZmZmZmbmNEBmZmZmZuY1QGZmZmZm5jNAZmZmZmbmMkBmZmZmZuY1QGZmZmZm5jRAZmZmZmbmNEBmZmZmZuY1QGZmZmZm5jNAZmZmZmbmNkBmZmZmZuY0QGZmZmZm5jRAZmZmZmbmNEBmZmZmZuY0QGZmZmZm5jNAZmZmZmbmMkBmZmZmZuY2QGZmZmZm5jJAZmZmZmbmNUBmZmZmZuY1QGZmZmZm5jNAZmZmZmbmNkBmZmZmZuYzQGZmZmZm5jVAZmZmZmbmNEBmZmZmZuYzQGZmZmZm5jNAZmZmZmbmMkBmZmZmZuY1QGZmZmZm5jNAZmZmZmbmNUBmZmZmZuY0QGZmZmZm5jRAZmZmZmbmNkBmZmZmZuYyQGZmZmZm5jZAZmZmZmbmNEBmZmZmZuYzQGZmZmZm5jRAZmZmZmbmM0BmZmZmZuYzQGZmZmZm5jVAZmZmZmbmNEBmZmZmZuY0QGZmZmZm5jVAZmZmZmbmNEBmZmZmZuY0QGZmZmZm5jZAZmZmZmbmMkBmZmZmZuY1QGZmZmZm5jNAZmZmZmbmMkBmZmZmZuY1QGZmZmZm5jRAZmZmZmbmM0BmZmZmZuY1QGZmZmZm5jVAZmZmZmbmNEBmZmZmZuY0QGZmZmZm5jVAZmZmZmbmM0BmZmZmZuY1QGZmZmZm5jJAZmZmZmbmMkBmZmZmZuY2QGZmZmZm5jRAZmZmZmbmM0BmZmZmZuY1QGZmZmZm5jRAZmZmZmbmNUBmZmZmZuY0QGZmZmZm5jRAZmZmZmbmNEBmZmZmZuY1QGZmZmZm5jNAZmZmZmbmMkBmZmZmZuY2QGZmZmZm5jNAZmZmZmbmNEBmZmZmZuY1QGZmZmZm5jNAZmZmZmbmNkBmZmZmZuY0QGZmZmZm5jRAZmZmZmbmNEBmZmZmZuY0QGZmZmZm5jNAZmZmZmbmM0BmZmZmZuY1QGZmZmZm5jNAZmZmZmbmNUBmZmZmZuY0QGZmZmZm5jRAZmZmZmbmNkBmZmZmZuYyQGZmZmZm5jRAZmZmZmbmNEBmZmZmZuYzQGZmZmZm5jRAZmZmZmbmMkDNzMzMzMzsPw==\",\"dtype\":\"float64\",\"order\":\"little\",\"shape\":[104]},\"inc\":[\"1\",\"1\",\"1\",\"0\",\"1\",\"0\",\"0\",\"0\",\"1\",\"1\",\"1\",\"0\",\"0\",\"1\",\"1\",\"1\",\"1\",\"1\",\"0\",\"1\",\"1\",\"0\",\"1\",\"0\",\"0\",\"1\",\"1\",\"1\",\"0\",\"1\",\"0\",\"1\",\"1\",\"1\",\"1\",\"0\",\"1\",\"1\",\"1\",\"0\",\"1\",\"0\",\"0\",\"0\",\"1\",\"1\",\"0\",\"0\",\"0\",\"0\",\"0\",\"0\",\"1\",\"1\",\"1\",\"1\",\"1\",\"1\",\"1\",\"1\",\"1\",\"1\",\"1\",\"1\",\"1\",\"0\",\"0\",\"1\",\"0\",\"0\",\"0\",\"1\",\"0\",\"1\",\"1\",\"0\",\"1\",\"1\",\"1\",\"0\",\"0\",\"0\",\"0\",\"1\",\"0\",\"0\",\"1\",\"1\",\"1\",\"0\",\"1\",\"1\",\"0\",\"0\",\"1\",\"1\",\"1\",\"1\",\"0\",\"1\",\"1\",\"1\",\"1\",\"1\"],\"index\":{\"__ndarray__\":\"AAAAAAAAEEAAAAAAAAAzQAAAAAAAAERAAAAAAACATkAAAAAAAKBUQAAAAAAA4FlAAAAAAADAXkAAAAAAAPBhQAAAAAAAoGRAAAAAAABAZ0AAAAAAAPBpQAAAAAAAkGxAAAAAAABAb0AAAAAAAABxQAAAAAAAUHJAAAAAAACgc0AAAAAAAPB0QAAAAAAAOHZAAAAAAABwd0AAAAAAAMB4QAAAAAAAEHpAAAAAAABYe0AAAAAAALh8QAAAAAAACH5AAAAAAABgf0AAAAAAAFyAQAAAAAAABIFAAAAAAACwgUAAAAAAAFSCQAAAAAAA9IJAAAAAAACQg0AAAAAAADSEQAAAAAAA3IRAAAAAAACEhUAAAAAAADCGQAAAAAAA2IZAAAAAAACIh0AAAAAAADCIQAAAAAAA2IhAAAAAAACIiUAAAAAAACyKQAAAAAAA0IpAAAAAAAB0i0AAAAAAABSMQAAAAAAAvIxAAAAAAABojUAAAAAAABCOQAAAAAAAvI5AAAAAAABoj0AAAAAAAAiQQAAAAAAAYJBAAAAAAAC0kEAAAAAAAAaRQAAAAAAAWpFAAAAAAACokUAAAAAAAPqRQAAAAAAAUJJAAAAAAACikkAAAAAAAPaSQAAAAAAATpNAAAAAAACkk0AAAAAAAPiTQAAAAAAATpRAAAAAAACilEAAAAAAAPaUQAAAAAAASJVAAAAAAACUlUAAAAAAAOiVQAAAAAAAQJZAAAAAAACSlkAAAAAAAOaWQAAAAAAAPJdAAAAAAACSl0AAAAAAAOiXQAAAAAAAPJhAAAAAAACQmEAAAAAAAOaYQAAAAAAAOplAAAAAAACImUAAAAAAANyZQAAAAAAAMppAAAAAAACEmkAAAAAAANqaQAAAAAAALptAAAAAAACEm0AAAAAAANybQAAAAAAAMJxAAAAAAACEnEAAAAAAANicQAAAAAAAKp1AAAAAAAB6nUAAAAAAAM6dQAAAAAAAIp5AAAAAAAB2nkAAAAAAAMyeQAAAAAAAIJ9AAAAAAAB4n0AAAAAAAMyfQAAAAAAADqBAAAAAAAA4oEAAAAAAAGGgQAAAAAAAiqBAAAAAAACyoEAAAAAAAMagQA==\",\"dtype\":\"float64\",\"order\":\"little\",\"shape\":[104]}},\"selected\":{\"id\":\"1309\"},\"selection_policy\":{\"id\":\"1310\"}},\"id\":\"1274\",\"type\":\"ColumnDataSource\"},{\"attributes\":{},\"id\":\"1105\",\"type\":\"Selection\"},{\"attributes\":{\"fill_alpha\":0.1,\"fill_color\":\"#ffffea\",\"line_alpha\":0.1,\"line_color\":\"#ffcb66\",\"x\":{\"field\":\"index\"},\"y\":{\"field\":\"equity_dd\"}},\"id\":\"1078\",\"type\":\"Patch\"},{\"attributes\":{\"line_alpha\":{\"value\":0.1},\"line_color\":{\"field\":\"returns_positive\",\"transform\":{\"id\":\"1039\"}},\"line_dash\":{\"value\":\"dotted\"},\"line_width\":{\"value\":8},\"xs\":{\"field\":\"position_lines_xs\"},\"ys\":{\"field\":\"position_lines_ys\"}},\"id\":\"1298\",\"type\":\"MultiLine\"},{\"attributes\":{\"source\":{\"id\":\"1035\"}},\"id\":\"1085\",\"type\":\"CDSView\"},{\"attributes\":{\"label\":{\"value\":\"Max Drawdown (-33.1%)\"},\"renderers\":[{\"id\":\"1136\"}]},\"id\":\"1156\",\"type\":\"LegendItem\"},{\"attributes\":{\"data_source\":{\"id\":\"1075\"},\"glyph\":{\"id\":\"1077\"},\"hover_glyph\":null,\"muted_glyph\":null,\"nonselection_glyph\":{\"id\":\"1078\"},\"view\":{\"id\":\"1080\"}},\"id\":\"1079\",\"type\":\"GlyphRenderer\"},{\"attributes\":{\"data_source\":{\"id\":\"1133\"},\"glyph\":{\"id\":\"1134\"},\"hover_glyph\":null,\"muted_glyph\":null,\"nonselection_glyph\":{\"id\":\"1135\"},\"view\":{\"id\":\"1137\"}},\"id\":\"1136\",\"type\":\"GlyphRenderer\"},{\"attributes\":{\"args\":{\"ohlc_range\":{\"id\":\"1005\"},\"source\":{\"id\":\"1035\"},\"volume_range\":{\"id\":\"1234\"}},\"code\":\"if (!window._bt_scale_range) {\\n    window._bt_scale_range = function (range, min, max, pad) {\\n        \\\"use strict\\\";\\n        if (min !== Infinity && max !== -Infinity) {\\n            pad = pad ? (max - min) * .03 : 0;\\n            range.start = min - pad;\\n            range.end = max + pad;\\n        } else console.error('backtesting: scale range error:', min, max, range);\\n    };\\n}\\n\\nclearTimeout(window._bt_autoscale_timeout);\\n\\nwindow._bt_autoscale_timeout = setTimeout(function () {\\n    /**\\n     * @variable cb_obj `fig_ohlc.x_range`.\\n     * @variable source `ColumnDataSource`\\n     * @variable ohlc_range `fig_ohlc.y_range`.\\n     * @variable volume_range `fig_volume.y_range`.\\n     */\\n    \\\"use strict\\\";\\n\\n    let i = Math.max(Math.floor(cb_obj.start), 0),\\n        j = Math.min(Math.ceil(cb_obj.end), source.data['ohlc_high'].length);\\n\\n    let max = Math.max.apply(null, source.data['ohlc_high'].slice(i, j)),\\n        min = Math.min.apply(null, source.data['ohlc_low'].slice(i, j));\\n    _bt_scale_range(ohlc_range, min, max, true);\\n\\n    if (volume_range) {\\n        max = Math.max.apply(null, source.data['Volume'].slice(i, j));\\n        _bt_scale_range(volume_range, 0, max * 1.03, false);\\n    }\\n\\n}, 50);\\n\"},\"id\":\"1359\",\"type\":\"CustomJS\"},{\"attributes\":{\"source\":{\"id\":\"1133\"}},\"id\":\"1137\",\"type\":\"CDSView\"},{\"attributes\":{\"bottom\":{\"field\":\"Close\"},\"fill_alpha\":{\"value\":0.1},\"fill_color\":{\"field\":\"inc\",\"transform\":{\"id\":\"1280\"}},\"line_alpha\":{\"value\":0.1},\"line_color\":{\"value\":null},\"top\":{\"field\":\"Open\"},\"width\":{\"field\":\"_width\"},\"x\":{\"field\":\"index\"}},\"id\":\"1283\",\"type\":\"VBar\"},{\"attributes\":{\"source\":{\"id\":\"1036\"}},\"id\":\"1300\",\"type\":\"CDSView\"},{\"attributes\":{\"source\":{\"id\":\"1075\"}},\"id\":\"1080\",\"type\":\"CDSView\"},{\"attributes\":{},\"id\":\"1310\",\"type\":\"UnionRenderers\"},{\"attributes\":{},\"id\":\"1047\",\"type\":\"LinearScale\"},{\"attributes\":{\"bottom_units\":\"screen\",\"fill_alpha\":0.5,\"fill_color\":\"lightgrey\",\"left_units\":\"screen\",\"level\":\"overlay\",\"line_alpha\":1.0,\"line_color\":\"black\",\"line_dash\":[4,4],\"line_width\":2,\"right_units\":\"screen\",\"syncable\":false,\"top_units\":\"screen\"},\"id\":\"1066\",\"type\":\"BoxAnnotation\"},{\"attributes\":{},\"id\":\"1155\",\"type\":\"UnionRenderers\"},{\"attributes\":{},\"id\":\"1045\",\"type\":\"DataRange1d\"},{\"attributes\":{},\"id\":\"1005\",\"type\":\"DataRange1d\"},{\"attributes\":{\"fill_alpha\":{\"value\":0.1},\"fill_color\":{\"value\":\"red\"},\"line_alpha\":{\"value\":0.1},\"line_color\":{\"value\":\"red\"},\"size\":{\"value\":8},\"x\":{\"value\":433},\"y\":{\"value\":1.0809493600000002}},\"id\":\"1135\",\"type\":\"Scatter\"},{\"attributes\":{\"line_color\":\"#1f77b4\",\"line_width\":1.3,\"x\":{\"field\":\"index\"},\"y\":{\"field\":\"SMA(C,10)_0_1\"}},\"id\":\"1318\",\"type\":\"Line\"},{\"attributes\":{\"args\":{\"axis\":{\"id\":\"1011\"},\"formatter\":{\"id\":\"1040\"},\"source\":{\"id\":\"1035\"}},\"code\":\"\\nthis.labels = this.labels || formatter.doFormat(ticks\\n                                                .map(i => source.data.datetime[i])\\n                                                .filter(t => t !== undefined));\\nreturn this.labels[index] || \\\"\\\";\\n        \"},\"id\":\"1041\",\"type\":\"FuncTickFormatter\"},{\"attributes\":{},\"id\":\"1313\",\"type\":\"Selection\"},{\"attributes\":{\"line_color\":{\"field\":\"returns_positive\",\"transform\":{\"id\":\"1039\"}},\"line_dash\":{\"value\":\"dotted\"},\"line_width\":{\"value\":8},\"xs\":{\"field\":\"position_lines_xs\"},\"ys\":{\"field\":\"position_lines_ys\"}},\"id\":\"1297\",\"type\":\"MultiLine\"},{\"attributes\":{},\"id\":\"1154\",\"type\":\"Selection\"},{\"attributes\":{\"axis_label\":\"Equity\",\"formatter\":{\"id\":\"1088\"},\"major_label_policy\":{\"id\":\"1097\"},\"minor_tick_line_color\":null,\"ticker\":{\"id\":\"1056\"}},\"id\":\"1055\",\"type\":\"LinearAxis\"},{\"attributes\":{\"days\":[\"%d %b\",\"%a %d\"],\"months\":[\"%m/%Y\",\"%b'%y\"]},\"id\":\"1040\",\"type\":\"DatetimeTickFormatter\"},{\"attributes\":{\"formatter\":{\"id\":\"1101\"},\"major_label_policy\":{\"id\":\"1099\"},\"ticker\":{\"id\":\"1052\"},\"visible\":false},\"id\":\"1051\",\"type\":\"LinearAxis\"},{\"attributes\":{\"axis\":{\"id\":\"1055\"},\"dimension\":1,\"ticker\":null},\"id\":\"1058\",\"type\":\"Grid\"},{\"attributes\":{\"line_color\":{\"value\":\"#bbbbbb\"},\"x0\":{\"field\":\"index\"},\"x1\":{\"field\":\"index\"},\"y0\":{\"field\":\"High\"},\"y1\":{\"field\":\"Low\"}},\"id\":\"1276\",\"type\":\"Segment\"},{\"attributes\":{},\"id\":\"1056\",\"type\":\"BasicTicker\"},{\"attributes\":{\"line_alpha\":0.1,\"line_color\":\"red\",\"line_width\":2,\"x\":{\"field\":\"x\"},\"y\":{\"value\":6.403319374000003}},\"id\":\"1159\",\"type\":\"Line\"},{\"attributes\":{\"overlay\":{\"id\":\"1255\"}},\"id\":\"1250\",\"type\":\"BoxZoomTool\"},{\"attributes\":{},\"id\":\"1052\",\"type\":\"BasicTicker\"},{\"attributes\":{\"source\":{\"id\":\"1090\"}},\"id\":\"1094\",\"type\":\"CDSView\"},{\"attributes\":{\"line_color\":\"red\",\"line_width\":2,\"x\":{\"field\":\"x\"},\"y\":{\"value\":6.403319374000003}},\"id\":\"1158\",\"type\":\"Line\"},{\"attributes\":{},\"id\":\"1096\",\"type\":\"Title\"},{\"attributes\":{\"data\":{\"x\":[1567,2041.749916497948]},\"selected\":{\"id\":\"1180\"},\"selection_policy\":{\"id\":\"1181\"}},\"id\":\"1157\",\"type\":\"ColumnDataSource\"},{\"attributes\":{\"label\":{\"value\":\"Peak (690%)\"},\"renderers\":[{\"id\":\"1093\"}]},\"id\":\"1110\",\"type\":\"LegendItem\"},{\"attributes\":{\"factors\":[\"0\",\"1\"],\"palette\":[\"rgb(178, 27, 0)\",\"rgb(0, 178, 0)\"]},\"id\":\"1039\",\"type\":\"CategoricalColorMapper\"},{\"attributes\":{},\"id\":\"1049\",\"type\":\"LinearScale\"},{\"attributes\":{\"border_line_color\":\"#333333\",\"click_policy\":\"hide\",\"items\":[{\"id\":\"1110\"},{\"id\":\"1132\"},{\"id\":\"1156\"},{\"id\":\"1182\"}],\"label_text_font_size\":\"8pt\",\"location\":\"top_left\",\"margin\":0,\"padding\":5,\"spacing\":0},\"id\":\"1109\",\"type\":\"Legend\"},{\"attributes\":{\"source\":{\"id\":\"1157\"}},\"id\":\"1161\",\"type\":\"CDSView\"},{\"attributes\":{},\"id\":\"1099\",\"type\":\"AllLabels\"},{\"attributes\":{\"label\":{\"value\":\"Max Dd Dur. (688 days)\"},\"renderers\":[{\"id\":\"1160\"}]},\"id\":\"1182\",\"type\":\"LegendItem\"},{\"attributes\":{},\"id\":\"1097\",\"type\":\"AllLabels\"},{\"attributes\":{\"axis\":{\"id\":\"1051\"},\"ticker\":null},\"id\":\"1054\",\"type\":\"Grid\"},{\"attributes\":{},\"id\":\"1101\",\"type\":\"BasicTickFormatter\"},{\"attributes\":{\"data_source\":{\"id\":\"1157\"},\"glyph\":{\"id\":\"1158\"},\"hover_glyph\":null,\"muted_glyph\":null,\"nonselection_glyph\":{\"id\":\"1159\"},\"view\":{\"id\":\"1161\"}},\"id\":\"1160\",\"type\":\"GlyphRenderer\"},{\"attributes\":{},\"id\":\"1103\",\"type\":\"Selection\"},{\"attributes\":{},\"id\":\"1185\",\"type\":\"DataRange1d\"},{\"attributes\":{\"data\":{\"datetime\":{\"__ndarray__\":\"AACAzloKcEIAAABf3A5wQgAAQJDTD3BCAADAE8UacEIAAIA+9B5wQgAAwDTII3BCAACAgPowcEIAAECY7FdwQgAAwBveYnBCAADAAb5vcEIAAICVo3JwQgAAgKkWgnBCAABAD2mCcEIAAMDaDYNwQgAAwHFXhHBCAABAjJKQcEIAAIB11ptwQgAAwNRgn3BCAADAMIekcEIAAACxFLFwQgAAQAMPu3BCAACAGubIcEIAAMADKtRwQgAAAGO013BCAACALlnYcEIAAIC/9fVwQgAAAEPnAHFCAACAAfwHcUIAAEASCxlxQgAAgCniJnFCAACAhQgscUIAAMCPT0BxQgAAABDdTHFCAAAARVNlcUIAAACheWpxQgAAQC6XcHFCAACAh3SQcUIAAIAyMaFxQgAAAFr8pnFCAABAi/OncUIAAICVOrxxQgAAACa8wHFCAABAMAPVcUIAAEDHTNZxQgAAAHw14nFCAACA0ZPqcUIAAACdOOtxQgAAgC2673FCAADAjETzcUIAAMAW/vpxQgAAQGxcA3JCAACAdqMXckIAAADZkRlyQgAAgJemIHJCAACAIWAockIAAIA8tk1yQgAAAAhbTnJCAAAAePRickIAAED4gW9yQgAAgOHFenJCAAAA2/19ckIAAMCcdoNyQgAAgBY8k3JCAADADBCYckIAAIBl0p5yQgAAwLfMqHJCAABADSuxckIAAIAXcsVyQgAAQJ7HznJCAABAsjreckIAAMBCvOJyQgAAQNM953JCAAAA8dzxckIAAEBQZ/VyQgAAQHFq/nJCAADA01gAc0IAAECzcBBzQgAAANEPG3NCAACAvbckc0IAAIBHcSxzQgAAwD1FMXNCAACAiXc+c0IAAACDr0FzQgAAgDQ0T3NCAAAAipJXc0IAAEDcjGFzQgAAANkoY3NCAABA/Y9qc0IAAEAek3NzQgAAQBEDenNCAAAAL6KEc0IAAAAcZadzQgAAwP7gtXNCAADA+DPSc0I=\",\"dtype\":\"float64\",\"order\":\"little\",\"shape\":[94]},\"exit_price\":{\"__ndarray__\":\"XI/C9ShkZkAAAAAAAMBmQGZmZmZmbmdAcT0K16NoZkAfhetRuJ5oQJqZmZmZKWhAj8L1KFx3Z0DNzMzMzHhyQArXo3A93nFAAAAAAACYckAUrkfheqR1QAAAAAAAyHlAcT0K16MQekA9CtejcJV6QPYoXI/CvXpAAAAAAAAwe0DNzMzMzAR4QArXo3A9EnVA16NwPQpTeED2KFyPwrF4QAAAAAAAPHhACtejcD0ieEDhehSuR1F3QFK4HoXrvXdACtejcD22d0DXo3A9Ch9+QDMzMzMzE39A9ihcj8IpfkDNzMzMzPh8QGZmZmZmIn1AMzMzMzP7fUAUrkfhesh/QFyPwvUoGIBAH4XrUbisg0CkcD0K16WFQFK4HoXrt4VApHA9Ctf7e0BI4XoUrheBQBSuR+F6LIFAUrgeheuLgUCkcD0K169/QAAAAAAAXH1Aw/UoXI9CdkDXo3A9Chd2QB+F61G4AnNASOF6FK7PdEAUrkfheuRzQHE9CtejoHJAcT0K16PkdECPwvUoXJ91QAAAAAAAqHVAMzMzMzN/eEBI4XoUrit6QGZmZmZmanlAAAAAAAAQe0CkcD0K15WBQBSuR+F6zIFAH4XrUbiKgkAAAAAAAPiAQHE9CtejloFAUrgeheu7gUD2KFyPwgeBQEjhehSu535A16NwPQr3fEAUrkfhetB8QOxRuB6FP31AMzMzMzP/fUAAAAAAAEiCQM3MzMzMhoJAAAAAAAAYg0DXo3A9Co2DQGZmZmZmvoJAAAAAAACIgkC4HoXrUQqBQHsUrkfhtIBApHA9CtelgECamZmZmaeAQNejcD0Ki4FAMzMzMzObgECamZmZmd1/QOxRuB6FIYJAKVyPwvUagkC4HoXrUWiDQFK4HoXrB4RAuB6F61Ecg0CF61G4HmeDQHsUrkfh1INAZmZmZmY8hEDNzMzMzBKDQPYoXI/CZYJArkfhehQggkBxPQrXowyGQFK4HoXr8YVAZmZmZmbuiEA=\",\"dtype\":\"float64\",\"order\":\"little\",\"shape\":[94]},\"index\":[75,85,88,110,119,129,157,242,265,293,300,333,334,336,338,363,387,394,406,432,454,484,509,515,517,582,603,618,654,684,696,739,765,819,830,843,909,947,958,961,1005,1015,1059,1061,1087,1103,1105,1114,1121,1138,1156,1199,1203,1219,1236,1317,1319,1362,1387,1412,1419,1430,1464,1475,1489,1512,1529,1574,1594,1626,1636,1645,1668,1677,1696,1700,1734,1757,1778,1794,1805,1833,1841,1868,1886,1908,1911,1927,1947,1960,1983,2059,2087,2147],\"marker_size\":{\"__ndarray__\":\"btu2bdu2J0Bu27Zt2zYmQG7btm3bNiZAJEmSJEmSJUAkSZIkSZIlQEmSJEmSpCNASZIkSZKkI0AkSZIkSRIkQCRJkiRJEiRAAAAAAACAJEAAAAAAAIAkQNu2bdu27SFA27Zt27btIUBu27Zt27YhQG7btm3btiFAAAAAAACAIUAAAAAAAIAhQG7btm3bNiNAbtu2bds2I0AlSZIkSRIhQCVJkiRJEiFAkiRJkiRJIUCSJEmSJEkhQG7btm3btiFAbtu2bdu2IUBu27Zt27YhQG7btm3btiFAkiRJkiRJIUCSJEmSJEkhQG7btm3btiFAbtu2bdu2IUCSJEmSJEkhQJIkSZIkSSFAJUmSJEkSIUAlSZIkSRIhQAAAAAAAACBAAAAAAAAAIEC3bdu2bVslQLdt27ZtWyVASZIkSZIkJUBJkiRJkiQlQJIkSZIkSSdAAAAAAACAJ0Bu27Zt2zYvQG7btm3bNi9AJEmSJEnSMkAkSZIkSdIyQAAAAAAAADRAAAAAAAAANECSJEmSJMkwQJIkSZIkyTBAkiRJkiTJMECSJEmSJMkwQCRJkiRJki5AJEmSJEmSLkAAAAAAAAAsQAAAAAAAACxAJEmSJEmSK0AkSZIkSZIrQCRJkiRJki5AJEmSJEmSLkBJkiRJkiQuQEmSJEmSJC5AAAAAAAAAMUAAAAAAAAAxQLZt27ZtGzFAtm3btm0bMUBu27Zt23YwQG7btm3bdjBASZIkSZIkMEBJkiRJkiQwQG7btm3bNi9Abtu2bds2L0Dbtm3btm0vQEmSJEmSpC9ASZIkSZIkMEBJkiRJkiQwQJIkSZIkCTBASZIkSZIkMEBu27Zt2zYxQG7btm3bNjFASZIkSZKkLEBJkiRJkqQsQJIkSZIkSSpAkiRJkiRJKkAkSZIkSZIrQJIkSZIkyStA3LZt27btKkDctm3btu0qQEmSJEmSpCxAtm3btm3bLECSJEmSJEktQJIkSZIkSS1AkiRJkiRJLUA=\",\"dtype\":\"float64\",\"order\":\"little\",\"shape\":[94]},\"position_lines_xs\":[[63,75],[75,85],[85,88],[88,110],[110,119],[119,129],[129,157],[157,242],[242,265],[265,293],[293,300],[300,333],[333,334],[334,336],[336,338],[338,363],[363,387],[387,394],[394,406],[406,432],[432,454],[454,484],[484,509],[509,515],[515,517],[517,582],[582,603],[603,618],[618,654],[654,684],[684,696],[696,739],[739,765],[765,819],[819,830],[830,843],[843,909],[909,947],[947,958],[958,961],[961,1005],[1005,1015],[1015,1059],[1059,1061],[1061,1087],[1087,1103],[1103,1105],[1105,1114],[1114,1121],[1121,1138],[1138,1156],[1156,1199],[1199,1203],[1203,1219],[1219,1236],[1236,1317],[1317,1319],[1319,1362],[1362,1387],[1387,1412],[1412,1419],[1419,1430],[1430,1464],[1464,1475],[1475,1489],[1489,1512],[1512,1529],[1529,1574],[1574,1594],[1594,1626],[1626,1636],[1636,1645],[1645,1668],[1668,1677],[1677,1696],[1696,1700],[1700,1734],[1734,1757],[1757,1778],[1778,1794],[1794,1805],[1805,1833],[1833,1841],[1841,1868],[1868,1886],[1886,1908],[1908,1911],[1911,1927],[1927,1947],[1947,1960],[1960,1983],[1983,2059],[2059,2087],[2087,2147]],\"position_lines_ys\":[[168.68196,179.13],[179.48826,182.0],[181.636,187.45],[187.82489999999999,179.27],[178.91146,196.96],[197.35392000000002,193.3],[192.91340000000002,187.73],[188.10546,295.55],[294.9589,285.89],[286.46178,297.5],[296.905,346.28],[346.97256,412.5],[411.675,417.04],[417.87408000000005,425.34],[424.48931999999996,427.86],[428.71572000000003,435.0],[434.13,384.3],[385.0686,337.14],[336.46572,389.19],[389.96838,395.11],[394.31978000000004,387.75],[388.5255,386.14],[385.36771999999996,373.08],[373.82615999999996,379.87],[379.11026,379.39],[380.14878,481.94],[480.97612,497.2],[498.1944,482.61],[481.64478,463.55],[464.4771,466.15],[465.2177,479.7],[480.6594,508.53],[507.51293999999996,515.02],[516.05004,629.59],[628.33082,692.73],[694.11546,694.99],[693.60002,447.74],[448.63548000000003,546.96],[545.86608,549.56],[550.6591199999999,561.49],[560.36702,506.99],[508.00398,469.75],[468.8105,356.16],[356.87232,353.44],[352.73312,304.17],[304.77834,332.98],[332.31404000000003,318.28],[318.91655999999995,298.04],[297.44392000000005,334.29],[334.95858000000004,345.96],[345.26808,346.5],[347.193,391.95],[391.1661,418.73],[419.56746000000004,406.65],[405.83669999999995,433.0],[433.866,562.73],[561.60454,569.56],[570.69912,593.34],[592.15332,543.0],[544.086,562.83],[561.70434,567.49],[568.62498,544.97],[543.8800600000001,494.48],[495.46896000000004,463.44],[462.51312,461.03],[461.95205999999996,467.97],[467.03406,479.95],[480.9099,585.0],[583.83,592.85],[594.0357,611.0],[609.778,625.63],[626.88126,599.8],[598.6003999999999,593.0],[594.186,545.29],[544.1994199999999,534.61],[535.67922,532.73],[531.66454,532.95],[534.0159000000001,561.38],[560.25724,531.4],[532.4628,509.85],[508.8303,580.19],[581.3503800000001,579.37],[578.21126,621.04],[622.28208,640.99],[639.70802,611.54],[612.76308,620.89],[619.64822,634.61],[635.87922,647.55],[646.2548999999999,610.35],[611.5707,588.72],[587.54256,580.01],[581.17002,705.58],[704.16884,702.24],[703.64448,797.8]],\"returns_long\":{\"__ndarray__\":\"AAAAAAAA+H8Ab/Pk1KiMPwAAAAAAAPh/gPBEu/ZRp78AAAAAAAD4fwDu4wrMCJW/AAAAAAAA+H+OIiy+NkfiPwAAAAAAAPh/QHq7jJe6oz8AAAAAAAD4f0hziwtlLMg/AAAAAAAA+H+AHnIklEuSPwAAAAAAAPh/gBAkGzcFjj8AAAAAAAD4f/B+n1sd3b+/AAAAAAAA+H+AyxrSlQCLPwAAAAAAAPh/AOo0hiEmeb8AAAAAAAD4f8A5eI43jpA/AAAAAAAA+H9E1J1VFyPRPwAAAAAAAPh/ICzF2CkEoL8AAAAAAAD4fwA2zKxHgW0/AAAAAAAA+H/AnthZF7CtPwAAAAAAAPh/4GP2Q4cpzD8AAAAAAAD4fwCkSliMpFQ/AAAAAAAA+H8Qi9CmjA3MPwAAAAAAAPh/QOQBExgklD8AAAAAAAD4fzgg26UGR7O/AAAAAAAA+H+AUUvIfLKDvwAAAAAAAPh/0HSbbiiwtz8AAAAAAAD4f9DowWQLwrC/AAAAAAAA+H/gzb/P8dCgPwAAAAAAAPh/UKwy7CeAwD8AAAAAAAD4f6Dc53DGhp+/AAAAAAAA+H/sXcFWRALTPwAAAAAAAPh/4GsykulPpD8AAAAAAAD4f8AxJdF8o6E/AAAAAAAA+H/AJ8QKo0ylvwAAAAAAAPh/KNO7w32MsL8AAAAAAAD4fwAgIaQAroo/AAAAAAAA+H8w7qCGcLTLPwAAAAAAAPh/wIutjzs+nT8AAAAAAAD4f6CobedOHqa/AAAAAAAA+H+QHlBcARG1vwAAAAAAAPh/AIz0eAKNdr8AAAAAAAD4f+C9S81nPKo/AAAAAAAA+H+AFrNRaL6lvwAAAAAAAPh/ACy27vvna78AAAAAAAD4fwAy8ybxyJ4/AAAAAAAA+H+AxJRlfymLPwAAAAAAAPh/gPjrjVTLkj8AAAAAAAD4fxAQ8kdeIaO/AAAAAAAA+H9YYvmilWbLPwAAAAAAAPh/+H+Yy7kgwT8=\",\"dtype\":\"float64\",\"order\":\"little\",\"shape\":[94]},\"returns_positive\":[\"0\",\"1\",\"0\",\"0\",\"0\",\"0\",\"1\",\"1\",\"1\",\"1\",\"0\",\"1\",\"0\",\"1\",\"0\",\"1\",\"1\",\"0\",\"0\",\"1\",\"1\",\"0\",\"1\",\"1\",\"0\",\"1\",\"0\",\"0\",\"1\",\"1\",\"0\",\"1\",\"0\",\"1\",\"0\",\"1\",\"1\",\"1\",\"0\",\"1\",\"1\",\"0\",\"1\",\"0\",\"1\",\"1\",\"1\",\"0\",\"0\",\"1\",\"0\",\"1\",\"0\",\"0\",\"0\",\"1\",\"0\",\"1\",\"1\",\"1\",\"0\",\"0\",\"1\",\"0\",\"1\",\"1\",\"0\",\"1\",\"0\",\"1\",\"0\",\"0\",\"1\",\"0\",\"1\",\"0\",\"0\",\"1\",\"1\",\"0\",\"0\",\"0\",\"0\",\"1\",\"1\",\"1\",\"0\",\"1\",\"1\",\"0\",\"1\",\"1\",\"1\",\"1\"],\"returns_short\":{\"__ndarray__\":\"QBIXh4G2r78AAAAAAAD4f4BLNER+Y6C/AAAAAAAA+H+A4X0KQdO5vwAAAAAAAPh/oJzGfo+Dmz8AAAAAAAD4fyBqMHH2e58/AAAAAAAA+H/IjvH9SEnFvwAAAAAAAPh/gGZsMJawir8AAAAAAAD4f4C9KAAjQ4C/AAAAAAAA+H9oOZ5wTmK9PwAAAAAAAPh/oASWaMEOxL8AAAAAAAD4fyB8Ct+XD5E/AAAAAAAA+H9w5lmYUlOgPwAAAAAAAPh/AAArQNUtSL8AAAAAAAD4f4AVLr41RaG/AAAAAAAA+H+QyVM1NTyjPwAAAAAAAPh/ACF0d5Xgn78AAAAAAAD4f4DJbb8xS46/AAAAAAAA+H+AHlRe8jy6vwAAAAAAAPh/KAF/paCv1j8AAAAAAAD4fwAiDnzMt3u/AAAAAAAA+H/Asj+Ki2K4PwAAAAAAAPh/cOcWENPBzj8AAAAAAAD4fyQdQZVjn8E/AAAAAAAA+H9QLPzgVZ+lPwAAAAAAAPh/QKfIuVG2v78AAAAAAAD4fwC8dNeoOm2/AAAAAAAA+H/gpkLbDgqyvwAAAAAAAPh/UHaQ7G0isb8AAAAAAAD4f4DNSWPZAo2/AAAAAAAA+H+QBagZ/z+1PwAAAAAAAPh/AIFSwkMYhb8AAAAAAAD4fzAXCRORQLc/AAAAAAAA+H8ADLrI10RqPwAAAAAAAPh/wCiY4adRnL8AAAAAAAD4fwBa6QIYpI+/AAAAAAAA+H9A0CtDyZ6avwAAAAAAAPh/gASBcSUpgz8AAAAAAAD4f0AnMWhHC5I/AAAAAAAA+H8ACA37f85jvwAAAAAAAPh/EEF7VyRfqj8AAAAAAAD4fxBRznR488G/AAAAAAAA+H8wp+q5UvayvwAAAAAAAPh/0PWfi3GLpj8AAAAAAAD4f8AMIv+fuZi/AAAAAAAA+H+QSmYqJ3KsPwAAAAAAAPh/gKz6qptBij8AAAAAAAD4fwCVBhl2cGY/AAAAAAAA+H8=\",\"dtype\":\"float64\",\"order\":\"little\",\"shape\":[94]},\"size\":[-59,52,-52,49,-49,40,-40,42,-42,44,-44,32,-32,31,-31,30,-30,38,-38,28,-28,29,-29,31,-31,31,-31,29,-29,31,-31,29,-29,28,-28,23,-23,48,-48,47,-47,57,-58,94,-94,124,-124,135,-135,105,-105,105,-105,91,-91,79,-79,77,-77,91,-91,89,-89,107,-107,108,-108,102,-102,99,-99,94,-94,95,-96,99,-99,98,-99,109,-109,82,-82,71,-71,77,-78,74,-74,82,-83,85,-85,85]},\"selected\":{\"id\":\"1313\"},\"selection_policy\":{\"id\":\"1314\"}},\"id\":\"1036\",\"type\":\"ColumnDataSource\"},{\"attributes\":{\"x0\":{\"field\":\"index\"},\"x1\":{\"field\":\"index\"},\"y0\":{\"field\":\"High\"},\"y1\":{\"field\":\"Low\"}},\"id\":\"1287\",\"type\":\"Segment\"},{\"attributes\":{\"source\":{\"id\":\"1274\"}},\"id\":\"1285\",\"type\":\"CDSView\"},{\"attributes\":{},\"id\":\"1180\",\"type\":\"Selection\"},{\"attributes\":{\"line_alpha\":{\"value\":0.1},\"x0\":{\"field\":\"index\"},\"x1\":{\"field\":\"index\"},\"y0\":{\"field\":\"High\"},\"y1\":{\"field\":\"Low\"}},\"id\":\"1288\",\"type\":\"Segment\"},{\"attributes\":{\"fill_alpha\":{\"value\":0.1},\"fill_color\":{\"field\":\"inc\",\"transform\":{\"id\":\"1037\"}},\"line_alpha\":{\"value\":0.1},\"line_color\":{\"field\":\"inc\",\"transform\":{\"id\":\"1037\"}},\"top\":{\"field\":\"Volume\"},\"width\":{\"value\":0.8},\"x\":{\"field\":\"index\"}},\"id\":\"1267\",\"type\":\"VBar\"},{\"attributes\":{},\"id\":\"1012\",\"type\":\"BasicTicker\"},{\"attributes\":{\"bottom_units\":\"screen\",\"fill_alpha\":0.5,\"fill_color\":\"lightgrey\",\"left_units\":\"screen\",\"level\":\"overlay\",\"line_alpha\":1.0,\"line_color\":\"black\",\"line_dash\":[4,4],\"line_width\":2,\"right_units\":\"screen\",\"syncable\":false,\"top_units\":\"screen\"},\"id\":\"1206\",\"type\":\"BoxAnnotation\"},{\"attributes\":{},\"id\":\"1181\",\"type\":\"UnionRenderers\"},{\"attributes\":{\"bottom\":{\"field\":\"Close\"},\"fill_color\":{\"field\":\"inc\",\"transform\":{\"id\":\"1037\"}},\"top\":{\"field\":\"Open\"},\"width\":{\"value\":0.8},\"x\":{\"field\":\"index\"}},\"id\":\"1292\",\"type\":\"VBar\"},{\"attributes\":{\"source\":{\"id\":\"1035\"}},\"id\":\"1269\",\"type\":\"CDSView\"},{\"attributes\":{\"below\":[{\"id\":\"1191\"}],\"center\":[{\"id\":\"1194\"},{\"id\":\"1198\"},{\"id\":\"1215\"}],\"height\":90,\"left\":[{\"id\":\"1195\"}],\"min_border_bottom\":6,\"min_border_left\":0,\"min_border_right\":10,\"min_border_top\":3,\"outline_line_color\":\"#666666\",\"renderers\":[{\"id\":\"1219\"},{\"id\":\"1224\"}],\"sizing_mode\":\"stretch_width\",\"title\":{\"id\":\"1391\"},\"toolbar\":{\"id\":\"1207\"},\"toolbar_location\":null,\"width\":null,\"x_range\":{\"id\":\"1002\"},\"x_scale\":{\"id\":\"1187\"},\"y_range\":{\"id\":\"1185\"},\"y_scale\":{\"id\":\"1189\"}},\"id\":\"1183\",\"subtype\":\"Figure\",\"type\":\"Plot\"},{\"attributes\":{\"data_source\":{\"id\":\"1035\"},\"glyph\":{\"id\":\"1338\"},\"hover_glyph\":null,\"muted_glyph\":null,\"nonselection_glyph\":{\"id\":\"1339\"},\"view\":{\"id\":\"1341\"}},\"id\":\"1340\",\"type\":\"GlyphRenderer\"},{\"attributes\":{\"line_alpha\":0.1,\"line_color\":\"#1f77b4\",\"line_width\":1.3,\"x\":{\"field\":\"index\"},\"y\":{\"field\":\"SMA(C,10)_0_1\"}},\"id\":\"1319\",\"type\":\"Line\"},{\"attributes\":{\"children\":[[{\"id\":\"1043\"},0,0],[{\"id\":\"1183\"},1,0],[{\"id\":\"1003\"},2,0],[{\"id\":\"1232\"},3,0]]},\"id\":\"1430\",\"type\":\"GridBox\"},{\"attributes\":{\"source\":{\"id\":\"1035\"}},\"id\":\"1295\",\"type\":\"CDSView\"},{\"attributes\":{},\"id\":\"1187\",\"type\":\"LinearScale\"},{\"attributes\":{\"data_source\":{\"id\":\"1035\"},\"glyph\":{\"id\":\"1292\"},\"hover_glyph\":null,\"muted_glyph\":null,\"nonselection_glyph\":{\"id\":\"1293\"},\"view\":{\"id\":\"1295\"}},\"id\":\"1294\",\"type\":\"GlyphRenderer\"},{\"attributes\":{\"fill_color\":{\"field\":\"returns_positive\",\"transform\":{\"id\":\"1038\"}},\"marker\":{\"value\":\"inverted_triangle\"},\"size\":{\"field\":\"marker_size\"},\"x\":{\"field\":\"index\"},\"y\":{\"field\":\"returns_short\"}},\"id\":\"1222\",\"type\":\"Scatter\"},{\"attributes\":{\"callback\":null,\"formatters\":{\"@datetime\":\"datetime\"},\"point_policy\":\"follow_mouse\",\"renderers\":[{\"id\":\"1219\"}],\"tooltips\":[[\"Date\",\"@datetime{%c}\"],[\"Size\",\"@size{0,0}\"],[\"P/L\",\"@returns_long{+0.[000]%}\"]]},\"id\":\"1226\",\"type\":\"HoverTool\"},{\"attributes\":{\"below\":[{\"id\":\"1240\"}],\"center\":[{\"id\":\"1243\"},{\"id\":\"1247\"}],\"height\":90,\"left\":[{\"id\":\"1244\"}],\"min_border_bottom\":6,\"min_border_left\":0,\"min_border_right\":10,\"min_border_top\":3,\"outline_line_color\":\"#666666\",\"renderers\":[{\"id\":\"1268\"}],\"sizing_mode\":\"stretch_width\",\"title\":{\"id\":\"1419\"},\"toolbar\":{\"id\":\"1256\"},\"toolbar_location\":null,\"width\":null,\"x_range\":{\"id\":\"1002\"},\"x_scale\":{\"id\":\"1236\"},\"y_range\":{\"id\":\"1234\"},\"y_scale\":{\"id\":\"1238\"}},\"id\":\"1232\",\"subtype\":\"Figure\",\"type\":\"Plot\"},{\"attributes\":{},\"id\":\"1189\",\"type\":\"LinearScale\"},{\"attributes\":{\"formatter\":{\"id\":\"1396\"},\"major_label_policy\":{\"id\":\"1394\"},\"ticker\":{\"id\":\"1192\"},\"visible\":false},\"id\":\"1191\",\"type\":\"LinearAxis\"},{\"attributes\":{\"bottom\":{\"field\":\"Close\"},\"fill_alpha\":{\"value\":0.1},\"fill_color\":{\"field\":\"inc\",\"transform\":{\"id\":\"1037\"}},\"line_alpha\":{\"value\":0.1},\"top\":{\"field\":\"Open\"},\"width\":{\"value\":0.8},\"x\":{\"field\":\"index\"}},\"id\":\"1293\",\"type\":\"VBar\"},{\"attributes\":{},\"id\":\"1196\",\"type\":\"BasicTicker\"},{\"attributes\":{\"callback\":null,\"formatters\":{\"@datetime\":\"datetime\"},\"point_policy\":\"follow_mouse\",\"renderers\":[{\"id\":\"1224\"}],\"tooltips\":[[\"Date\",\"@datetime{%c}\"],[\"Size\",\"@size{0,0}\"],[\"P/L\",\"@returns_short{+0.[000]%}\"]]},\"id\":\"1228\",\"type\":\"HoverTool\"},{\"attributes\":{},\"id\":\"1192\",\"type\":\"BasicTicker\"},{\"attributes\":{\"data_source\":{\"id\":\"1036\"},\"glyph\":{\"id\":\"1222\"},\"hover_glyph\":null,\"muted_glyph\":null,\"nonselection_glyph\":{\"id\":\"1223\"},\"view\":{\"id\":\"1225\"}},\"id\":\"1224\",\"type\":\"GlyphRenderer\"},{\"attributes\":{\"label\":{\"value\":\"SMA(C,10)\"},\"renderers\":[{\"id\":\"1320\"}]},\"id\":\"1336\",\"type\":\"LegendItem\"},{\"attributes\":{\"axis\":{\"id\":\"1191\"},\"ticker\":null},\"id\":\"1194\",\"type\":\"Grid\"},{\"attributes\":{\"source\":{\"id\":\"1036\"}},\"id\":\"1225\",\"type\":\"CDSView\"},{\"attributes\":{},\"id\":\"1302\",\"type\":\"Title\"},{\"attributes\":{\"source\":{\"id\":\"1035\"}},\"id\":\"1290\",\"type\":\"CDSView\"},{\"attributes\":{\"axis\":{\"id\":\"1195\"},\"dimension\":1,\"ticker\":null},\"id\":\"1198\",\"type\":\"Grid\"},{\"attributes\":{\"axis_label\":\"Profit / Loss\",\"formatter\":{\"id\":\"1230\"},\"major_label_policy\":{\"id\":\"1392\"},\"minor_tick_line_color\":null,\"ticker\":{\"id\":\"1196\"}},\"id\":\"1195\",\"type\":\"LinearAxis\"},{\"attributes\":{\"callback\":null,\"formatters\":{\"@datetime\":\"datetime\"},\"mode\":\"vline\",\"point_policy\":\"follow_mouse\",\"renderers\":[{\"id\":\"1294\"}],\"tooltips\":[[\"Date\",\"@datetime{%c}\"],[\"x, y\",\"$index\\u00a0\\u00a0\\u00a0\\u00a0$y{0,0.0[0000]}\"],[\"OHLC\",\"@Open{0,0.0[0000]}\\u00a0\\u00a0\\u00a0\\u00a0@High{0,0.0[0000]}\\u00a0\\u00a0\\u00a0\\u00a0@Low{0,0.0[0000]}\\u00a0\\u00a0\\u00a0\\u00a0@Close{0,0.0[0000]}\"],[\"Volume\",\"@Volume{0,0}\"],[\"SMA(C,10)\",\"@{SMA(C,10)_0_1}{0,0.0[0000]}\"],[\"SMA(C,20)\",\"@{SMA(C,20)_1_1}{0,0.0[0000]}\"]]},\"id\":\"1357\",\"type\":\"HoverTool\"},{\"attributes\":{\"fill_alpha\":{\"value\":0.1},\"fill_color\":{\"field\":\"returns_positive\",\"transform\":{\"id\":\"1038\"}},\"line_alpha\":{\"value\":0.1},\"marker\":{\"value\":\"inverted_triangle\"},\"size\":{\"field\":\"marker_size\"},\"x\":{\"field\":\"index\"},\"y\":{\"field\":\"returns_short\"}},\"id\":\"1223\",\"type\":\"Scatter\"},{\"attributes\":{\"label\":{\"value\":\"SMA(C,20)\"},\"renderers\":[{\"id\":\"1340\"}]},\"id\":\"1356\",\"type\":\"LegendItem\"},{\"attributes\":{\"fill_color\":{\"field\":\"returns_positive\",\"transform\":{\"id\":\"1038\"}},\"marker\":{\"value\":\"triangle\"},\"size\":{\"field\":\"marker_size\"},\"x\":{\"field\":\"index\"},\"y\":{\"field\":\"returns_long\"}},\"id\":\"1217\",\"type\":\"Scatter\"},{\"attributes\":{\"source\":{\"id\":\"1035\"}},\"id\":\"1321\",\"type\":\"CDSView\"},{\"attributes\":{},\"id\":\"1234\",\"type\":\"DataRange1d\"},{\"attributes\":{\"source\":{\"id\":\"1036\"}},\"id\":\"1220\",\"type\":\"CDSView\"},{\"attributes\":{\"source\":{\"id\":\"1035\"}},\"id\":\"1341\",\"type\":\"CDSView\"},{\"attributes\":{\"format\":\"0.[00]%\"},\"id\":\"1230\",\"type\":\"NumeralTickFormatter\"},{\"attributes\":{\"fill_alpha\":{\"value\":0.1},\"fill_color\":{\"field\":\"returns_positive\",\"transform\":{\"id\":\"1038\"}},\"line_alpha\":{\"value\":0.1},\"marker\":{\"value\":\"triangle\"},\"size\":{\"field\":\"marker_size\"},\"x\":{\"field\":\"index\"},\"y\":{\"field\":\"returns_long\"}},\"id\":\"1218\",\"type\":\"Scatter\"},{\"attributes\":{\"bottom_units\":\"screen\",\"fill_alpha\":0.5,\"fill_color\":\"lightgrey\",\"left_units\":\"screen\",\"level\":\"overlay\",\"line_alpha\":1.0,\"line_color\":\"black\",\"line_dash\":[4,4],\"line_width\":2,\"right_units\":\"screen\",\"syncable\":false,\"top_units\":\"screen\"},\"id\":\"1255\",\"type\":\"BoxAnnotation\"},{\"attributes\":{\"active_drag\":{\"id\":\"1199\"},\"active_multi\":null,\"active_scroll\":{\"id\":\"1200\"},\"tools\":[{\"id\":\"1199\"},{\"id\":\"1200\"},{\"id\":\"1201\"},{\"id\":\"1202\"},{\"id\":\"1203\"},{\"id\":\"1204\"},{\"id\":\"1205\"},{\"id\":\"1226\"},{\"id\":\"1228\"},{\"id\":\"1360\"}]},\"id\":\"1207\",\"type\":\"Toolbar\"},{\"attributes\":{\"line_alpha\":0.1,\"line_color\":\"#ff7f0e\",\"line_width\":1.3,\"x\":{\"field\":\"index\"},\"y\":{\"field\":\"SMA(C,20)_1_1\"}},\"id\":\"1339\",\"type\":\"Line\"},{\"attributes\":{\"line_color\":\"#666666\",\"line_dash\":[6],\"location\":0},\"id\":\"1215\",\"type\":\"Span\"},{\"attributes\":{},\"id\":\"1394\",\"type\":\"AllLabels\"},{\"attributes\":{\"data_source\":{\"id\":\"1036\"},\"glyph\":{\"id\":\"1217\"},\"hover_glyph\":null,\"muted_glyph\":null,\"nonselection_glyph\":{\"id\":\"1218\"},\"view\":{\"id\":\"1220\"}},\"id\":\"1219\",\"type\":\"GlyphRenderer\"},{\"attributes\":{},\"id\":\"1236\",\"type\":\"LinearScale\"},{\"attributes\":{},\"id\":\"1238\",\"type\":\"LinearScale\"},{\"attributes\":{\"dimensions\":\"width\"},\"id\":\"1199\",\"type\":\"PanTool\"},{\"attributes\":{},\"id\":\"1392\",\"type\":\"AllLabels\"},{\"attributes\":{\"bottom\":{\"field\":\"Close\"},\"fill_color\":{\"field\":\"inc\",\"transform\":{\"id\":\"1280\"}},\"line_color\":{\"value\":null},\"top\":{\"field\":\"Open\"},\"width\":{\"field\":\"_width\"},\"x\":{\"field\":\"index\"}},\"id\":\"1282\",\"type\":\"VBar\"},{\"attributes\":{\"formatter\":{\"id\":\"1041\"},\"major_label_policy\":{\"id\":\"1422\"},\"ticker\":{\"id\":\"1241\"},\"visible\":true},\"id\":\"1240\",\"type\":\"LinearAxis\"},{\"attributes\":{\"dimensions\":\"width\",\"maintain_focus\":false},\"id\":\"1200\",\"type\":\"WheelZoomTool\"},{\"attributes\":{\"data_source\":{\"id\":\"1035\"},\"glyph\":{\"id\":\"1318\"},\"hover_glyph\":null,\"muted_glyph\":null,\"nonselection_glyph\":{\"id\":\"1319\"},\"view\":{\"id\":\"1321\"}},\"id\":\"1320\",\"type\":\"GlyphRenderer\"},{\"attributes\":{},\"id\":\"1245\",\"type\":\"BasicTicker\"},{\"attributes\":{},\"id\":\"1241\",\"type\":\"BasicTicker\"},{\"attributes\":{\"axis\":{\"id\":\"1240\"},\"ticker\":null},\"id\":\"1243\",\"type\":\"Grid\"},{\"attributes\":{},\"id\":\"1203\",\"type\":\"RedoTool\"},{\"attributes\":{\"overlay\":{\"id\":\"1206\"}},\"id\":\"1201\",\"type\":\"BoxZoomTool\"},{\"attributes\":{\"axis\":{\"id\":\"1244\"},\"dimension\":1,\"ticker\":null},\"id\":\"1247\",\"type\":\"Grid\"},{\"attributes\":{\"axis_label\":\"Volume\",\"formatter\":{\"id\":\"1272\"},\"major_label_policy\":{\"id\":\"1420\"},\"minor_tick_line_color\":null,\"ticker\":{\"id\":\"1245\"}},\"id\":\"1244\",\"type\":\"LinearAxis\"},{\"attributes\":{},\"id\":\"1202\",\"type\":\"UndoTool\"},{\"attributes\":{\"line_color\":\"#1f77b4\",\"line_width\":1.5,\"x\":{\"field\":\"index\"},\"y\":{\"field\":\"equity\"}},\"id\":\"1082\",\"type\":\"Line\"},{\"attributes\":{},\"id\":\"1360\",\"type\":\"CrosshairTool\"},{\"attributes\":{},\"id\":\"1396\",\"type\":\"BasicTickFormatter\"},{\"attributes\":{},\"id\":\"1204\",\"type\":\"ResetTool\"},{\"attributes\":{\"data_source\":{\"id\":\"1035\"},\"glyph\":{\"id\":\"1266\"},\"hover_glyph\":null,\"muted_glyph\":null,\"nonselection_glyph\":{\"id\":\"1267\"},\"view\":{\"id\":\"1269\"}},\"id\":\"1268\",\"type\":\"GlyphRenderer\"},{\"attributes\":{\"fill_alpha\":{\"value\":0.1},\"fill_color\":{\"value\":\"cyan\"},\"line_alpha\":{\"value\":0.1},\"line_color\":{\"value\":\"cyan\"},\"size\":{\"value\":8},\"x\":{\"value\":2139},\"y\":{\"value\":6.899121986000001}},\"id\":\"1092\",\"type\":\"Scatter\"},{\"attributes\":{},\"id\":\"1205\",\"type\":\"SaveTool\"},{\"attributes\":{\"format\":\"0 a\"},\"id\":\"1272\",\"type\":\"NumeralTickFormatter\"},{\"attributes\":{\"factors\":[\"0\",\"1\"],\"palette\":[\"rgb(254, 220, 214)\",\"rgb(214, 254, 214)\"]},\"id\":\"1280\",\"type\":\"CategoricalColorMapper\"},{\"attributes\":{\"data_source\":{\"id\":\"1036\"},\"glyph\":{\"id\":\"1297\"},\"hover_glyph\":null,\"muted_glyph\":null,\"nonselection_glyph\":{\"id\":\"1298\"},\"view\":{\"id\":\"1300\"}},\"id\":\"1299\",\"type\":\"GlyphRenderer\"},{\"attributes\":{\"callback\":null,\"formatters\":{\"@datetime\":\"datetime\"},\"mode\":\"vline\",\"point_policy\":\"follow_mouse\",\"renderers\":[{\"id\":\"1268\"}],\"tooltips\":[[\"Date\",\"@datetime{%c}\"],[\"Volume\",\"@Volume{0.00 a}\"]]},\"id\":\"1270\",\"type\":\"HoverTool\"},{\"attributes\":{},\"id\":\"1306\",\"type\":\"AllLabels\"},{\"attributes\":{},\"id\":\"1391\",\"type\":\"Title\"},{\"attributes\":{\"data_source\":{\"id\":\"1035\"},\"glyph\":{\"id\":\"1287\"},\"hover_glyph\":null,\"muted_glyph\":null,\"nonselection_glyph\":{\"id\":\"1288\"},\"view\":{\"id\":\"1290\"}},\"id\":\"1289\",\"type\":\"GlyphRenderer\"},{\"attributes\":{\"active_drag\":{\"id\":\"1248\"},\"active_multi\":null,\"active_scroll\":{\"id\":\"1249\"},\"tools\":[{\"id\":\"1248\"},{\"id\":\"1249\"},{\"id\":\"1250\"},{\"id\":\"1251\"},{\"id\":\"1252\"},{\"id\":\"1253\"},{\"id\":\"1254\"},{\"id\":\"1270\"},{\"id\":\"1360\"}]},\"id\":\"1256\",\"type\":\"Toolbar\"},{\"attributes\":{},\"id\":\"1420\",\"type\":\"AllLabels\"},{\"attributes\":{},\"id\":\"1305\",\"type\":\"BasicTickFormatter\"},{\"attributes\":{},\"id\":\"1422\",\"type\":\"AllLabels\"},{\"attributes\":{},\"id\":\"1419\",\"type\":\"Title\"},{\"attributes\":{\"data\":{\"Close\":{\"__ndarray__\":\"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\",\"dtype\":\"float64\",\"order\":\"little\",\"shape\":[2148]},\"High\":{\"__ndarray__\":\"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\",\"dtype\":\"float64\",\"order\":\"little\",\"shape\":[2148]},\"Low\":{\"__ndarray__\":\"PQrXo3D9V0AAAAAAACBZQDMzMzMzQ1tAFK5H4XrkWUC4HoXrUfhZQArXo3A9KlpAXI/C9ShsWkBxPQrXo4BZQArXo3A9illAexSuR+HqWEBcj8L1KLxYQBSuR+F61FhA16NwPQrnWEAAAAAAACBZQAAAAAAAQFlAMzMzMzNTWUA9CtejcJ1aQMP1KFyPslpAzczMzMyMW0CamZmZmelbQDMzMzMzY1xA4XoUrkcxXUBxPQrXo2BdQKRwPQrXM11A4XoUrkdBXUBxPQrXo/BdQDMzMzMzc11APQrXo3ANXkAfhetRuI5fQAAAAAAAIGBAzczMzMwcYEApXI/C9cBgQEjhehSuh2BAAAAAAAAAYUCamZmZmRFhQHE9CtejIGFAMzMzMzO7YEDNzMzMzKxgQMP1KFyPgmFAUrgehetRYUBmZmZmZr5hQB+F61G4pmFAMzMzMzNrYkAzMzMzM3NhQKRwPQrXs2FAw/UoXI+CZECamZmZmZFlQAAAAAAAgGZAcT0K16O4ZkAzMzMzMzNnQDMzMzMz02dAcT0K16PoZ0B7FK5H4SpoQAAAAAAA2GdAMzMzMzPrZkCamZmZmRFlQM3MzMzMLGVAcT0K16OoZEDD9Shcj8pkQArXo3A98mRAzczMzMwsZkAAAAAAAFhmQMP1KFyPWmVAAAAAAAAgZUCPwvUoXLdkQHE9Ctej0GRAUrgehespZEAAAAAAANBkQLgehetRkGVACtejcD3qZUC4HoXrUTBmQAAAAAAAiGZAmpmZmZlxZkCamZmZmVFmQDMzMzMzM2ZAcT0K16MAZkCamZmZmVFlQI/C9ShcF2VA16NwPQoPZUDhehSuR2llQGZmZmZmLmVAMzMzMzMzZUCF61G4HhVmQGZmZmZm/mVAmpmZmZkRZkCkcD0K17tmQM3MzMzM7GZAuB6F61HgZkAAAAAAAEBnQDMzMzMzo2dAuB6F61HgZ0ApXI/C9fhnQDMzMzMz+2dAUrgehesRaEAfhetRuG5oQI/C9ShcL2hAj8L1KFwHaEDXo3A9CndnQClcj8L1mGdAw/UoXI/6Z0D2KFyPwiVoQAAAAAAA0GdAmpmZmZlBaEBcj8L1KERoQIXrUbge1WhAH4XrUbiWaEAAAAAAAABoQKRwPQrXg2dACtejcD2KZkDhehSuRwlmQM3MzMzMZGZAZmZmZmYmZ0B7FK5H4UpnQNejcD0K92dAXI/C9SjUZ0CF61G4HnVpQFK4HoXruWlAMzMzMzNTaUC4HoXrUXBoQClcj8L1UGhAH4XrUbiuZ0AAAAAAAChnQArXo3A9QmdAAAAAAACgZkDD9ShcjyJoQJqZmZmZSWhAUrgeheuZaECF61G4HpVoQBSuR+F6zGdAhetRuB6VZ0CPwvUoXMdmQLgehetRMGdAMzMzMzM7Z0AAAAAAAMBmQOxRuB6FC2dAUrgehesJZ0AK16NwPSJnQClcj8L1YGdA16NwPQofZ0CF61G4HoVmQM3MzMzMLGZAzczMzMwkZkAK16NwPZJlQB+F61G4xmVAuB6F61HgZUCamZmZmfllQFK4HoXrSWZAAAAAAAAoZkAzMzMzMztmQNejcD0KP2ZAZmZmZmZmZkBmZmZmZp5mQArXo3A9QmZAMzMzMzNzZkAUrkfhejRmQEjhehSuf2ZAexSuR+F6ZkAK16NwPXJnQMP1KFyPcmdAFK5H4XqUZ0BmZmZmZu5nQArXo3A9CmhAhetRuB6tZ0CPwvUoXLdnQDMzMzMzw2dAhetRuB4VZ0BI4XoUru9mQClcj8L1gGdAhetRuB59aEAK16NwPepoQLgehetRyGpAcT0K16Mwa0DhehSuR0lrQEjhehSuF2tAH4XrUbg2a0AK16NwPTprQB+F61G4hmtACtejcD2qa0AAAAAAAGBsQFyPwvUoPGxA16NwPQpPbED2KFyPwi1sQNejcD0KF2xA9ihcj8J9bEBmZmZmZoZsQArXo3A9amxACtejcD2SbEBmZmZmZsZsQHE9CtejMG1AcT0K16PIbUDNzMzMzPRtQB+F61G4Vm5AAAAAAACwb0Bcj8L1KFRvQM3MzMzMJHBAAAAAAAA0cEBSuB6F69VwQLgehetRoHFAmpmZmZnJcUDD9Shcj1ZxQOF6FK5HnXFAzczMzMwkckAAAAAAAGBxQClcj8L1iHFAuB6F61GAcUC4HoXrUUhxQAAAAAAAXHFAexSuR+G2cECF61G4HhFxQGZmZmZmPnFASOF6FK77cEDsUbgehc9xQB+F61G4CnJAAAAAAADocUDhehSuRxlyQPYoXI/CXXJAAAAAAADgckBmZmZmZkJyQHE9CtejMHJA7FG4HoUTckBI4XoUriNyQK5H4XoUNnJAXI/C9SgIckDNzMzMzGByQLgehetRMHJAexSuR+EuckCamZmZmUFyQIXrUbgewXJAFK5H4Xq8ckAAAAAAAJxyQM3MzMzM3HJAzczMzMzcckCPwvUoXHNzQOF6FK5HhXJAj8L1KFxvckA9CtejcEFyQGZmZmZmRnJAFK5H4XpUckCkcD0K1+9xQJqZmZmZAXJAUrgehesxckCamZmZmXlyQAAAAAAAdHJAKVyPwvU0ckCkcD0K1ydyQFyPwvUoCHJArkfhehTOcUBSuB6F64lxQArXo3A9mnFAuB6F61G8cUA9CtejcLVxQAAAAAAAwHFAAAAAAAAwcUBSuB6F63lxQJqZmZmZFXFAUrgeheshcUAzMzMzM0dxQOxRuB6Ff3FAw/UoXI+qcUCkcD0K16NxQK5H4XoU3nFA9ihcj8LFcUAAAAAAANBxQNejcD0K53FAzczMzMzscUAUrkfhetRxQPYoXI/CVXJAKVyPwvWIckAAAAAAANByQB+F61G4InNAzczMzMzEckDD9Shcj55yQFK4HoXrvXJAj8L1KFzLckBI4XoUrhNzQI/C9ShcH3NAH4XrUbhic0A9CtejcIlzQClcj8L1iHNArkfhehSWc0CamZmZmRlzQOF6FK5HIXNAcT0K16OEc0BxPQrXo4xzQKRwPQrXa3NAAAAAAABAc0A9CtejcGFzQHE9CtejaHNAZmZmZmZSc0D2KFyPwg1zQAAAAAAAsHJAexSuR+EqckBxPQrXo0hyQClcj8L1aHJApHA9CtfrckCPwvUoXP9yQI/C9Shc03JAAAAAAADQdEDXo3A9CmN1QPYoXI/CbXVA16NwPQqjdUB7FK5H4fp1QLgehetRMHZAXI/C9Sh4dkBcj8L1KBB3QB+F61G4kndArkfhehTWd0AzMzMzMxd4QGZmZmZmgnhA4XoUrkdJeEAUrkfheqB3QHsUrkfhlndAmpmZmZlNeEAUrkfhenh4QDMzMzMzb3hA9ihcj8KheEAUrkfhevh4QJqZmZmZ/XhApHA9CteXeEBI4XoUrmN5QBSuR+F6/HlAzczMzMyUekDXo3A9Cmd6QArXo3A9InlAKVyPwvW4eEBxPQrXo4R5QPYoXI/C3XlAFK5H4XpEeUAzMzMzMxt5QFyPwvUo8HhACtejcD0qeUApXI/C9Yh5QDMzMzMzn3lACtejcD26eUCkcD0K1/d5QAAAAAAACHpAAAAAAABsekD2KFyPwkF6QB+F61G4inpAj8L1KFxLekB7FK5H4Z56QBSuR+F6zHpAXI/C9ShsekBcj8L1KFR6QB+F61G4MnpApHA9CtfbeUDsUbgehSN6QAAAAAAAfHtAAAAAAACYe0CkcD0K11N8QNejcD0Kz3xAcT0K16PgfEB7FK5H4VJ9QAAAAAAA2HxA9ihcj8LZfEAUrkfheuh8QAAAAAAAtHtAAAAAAAAQe0CkcD0K16t4QEjhehSuW3lASOF6FK4ne0DsUbgehdN6QClcj8L1eHpASOF6FK7PekAAAAAAAJB6QOxRuB6Ff3pAuB6F61E4eEBI4XoUrr94QIXrUbgeSXdAKVyPwvW4d0CamZmZmbV2QB+F61G4KnZA9ihcj8JBdkAK16NwPRJ2QArXo3A9XnVAZmZmZmZmdUDhehSuRx11QKRwPQrXh3VAUrgeheu5dkD2KFyPwtF2QPYoXI/CvXZACtejcD3WdkCkcD0K11d3QBSuR+F6xHdAXI/C9SgodUDNzMzMzJR2QDMzMzMzo3ZAXI/C9Sh8d0AK16NwPfJ2QGZmZmZmYnZAcT0K16PodUAAAAAAAFh1QM3MzMzMuHRAMzMzMzP3dEBSuB6F68l0QBSuR+F6SHVAZmZmZmYedUB7FK5H4e50QHE9CtejWHVA4XoUrkcxdUAAAAAAABh1QDMzMzMzQ3VAXI/C9SiodkAAAAAAANB2QB+F61G4MndAXI/C9Si4d0D2KFyPwvl3QBSuR+F6AHhAexSuR+E+eEAK16NwPUJ4QIXrUbgeLXlAexSuR+FWeUC4HoXrUUB5QAAAAAAAVHlA7FG4HoVjeUDXo3A9ClN5QAAAAAAACHlAPQrXo3ANeUAAAAAAABh5QEjhehSua3lAMzMzMzODeUAfhetRuEJ7QLgehetRSHtAAAAAAACgekAUrkfhenh6QArXo3A9NnpAzczMzMwEekDNzMzMzOh4QGZmZmZmRnhArkfhehRueECPwvUoXIN4QBSuR+F6fHhAzczMzMxgeEAAAAAAAJx4QPYoXI/CHXlASOF6FK4PeEDNzMzMzFh3QAAAAAAABHdACtejcD0ed0DsUbgehSN3QI/C9ShcK3dAhetRuB6JdkAAAAAAANR2QClcj8L1WHdA9ihcj8I5d0ApXI/C9UR3QBSuR+F6wHdAMzMzMzM3d0AUrkfheux2QJqZmZmZOXdAMzMzMzOXd0BmZmZmZmJ3QM3MzMzMhHdAAAAAAAAoeEA9CtejcKl3QJqZmZmZFXhAAAAAAADQd0BSuB6F66F3QLgehetRqHdAAAAAAADwd0AAAAAAAEB4QEjhehSuL3hAXI/C9SgoeEAAAAAAAFx4QAAAAAAAQHhApHA9CtcLeUAAAAAAADR5QFyPwvUoEHlArkfhehQSeUCF61G4Hl15QOF6FK5HxXlAMzMzMzM3ekAK16NwPfp5QEjhehSuX3pArkfhehT+eUCuR+F6FAZ6QBSuR+F60HlASOF6FK4LekDhehSuR215QPYoXI/C6XhA7FG4HoU7eUCkcD0K19t4QMP1KFyPqnhAw/UoXI8aeEDXo3A9Cpt3QI/C9Shc03dAzczMzMz8d0AAAAAAAPB3QDMzMzMzn3dASOF6FK7bd0ApXI/C9fR3QFyPwvUoeHdAMzMzMzPTdkD2KFyPwrV2QAAAAAAAPHdAZmZmZmYyd0A9CtejcLF3QPYoXI/ChXdAj8L1KFxHd0AAAAAAAAB3QB+F61G4CndAmpmZmZlJd0BSuB6F6+F3QB+F61G4/ndAAAAAAADMd0DsUbgehXN3QD0K16NwbXdAw/UoXI9Kd0Bcj8L1KER3QAAAAAAASHdAAAAAAABwd0AzMzMzM5N3QFyPwvUoqHdAMzMzMzOjd0DXo3A9CpN3QNejcD0Kl3dAw/UoXI+6d0BmZmZmZpZ3QOxRuB6Fi3dAuB6F61Gcd0CuR+F6FA54QJqZmZmZsXhAexSuR+EeeUCkcD0K12t5QOxRuB6Fl3lApHA9CteLeEBSuB6F66l4QPYoXI/C/XhA9ihcj8IVeUAAAAAAACh5QLgehetRHHlAUrgehesleUBxPQrXowh5QMP1KFyPFnlAzczMzMwMeUDXo3A9CuN4QM3MzMzMMHlA9ihcj8KteUAAAAAAAJx5QB+F61G4dnpACtejcD1mekBcj8L1KHx6QAAAAAAAgHpAKVyPwvWYekA9CtejcFV6QDMzMzMzC3pAAAAAAAAYekCF61G4Hjl6QD0K16NwWXxAUrgehevFfEDD9Shcj3Z9QPYoXI/CsX1AMzMzMzNDfkCkcD0K14d9QFyPwvUoYH1APQrXo3CdfUBcj8L1KBR9QK5H4XoUJn1AKVyPwvUQfUDhehSuR4V9QLgehetRfH1AmpmZmZlJfUD2KFyPwn19QHE9CtejZH1ACtejcD2ifUAAAAAAAAh+QHsUrkfhvn5AKVyPwvXIfkAAAAAAANB+QGZmZmZmyn5A4XoUrkf9fkAUrkfhepx/QAAAAAAAgH9AAAAAAABMfkAUrkfhetB9QAAAAAAAJH5AzczMzMwYfkAAAAAAAOh9QJqZmZmZ9X1ACtejcD1OfkC4HoXrUUh+QB+F61G4Jn5AAAAAAAAAfkDNzMzMzDx+QBSuR+F6BH5AuB6F61HQfUBcj8L1KNR9QD0K16Nw/X1A7FG4HoXLfEAAAAAAAKh8QOF6FK5H5XxAPQrXo3BFfEBI4XoUrkt8QD0K16NwaXxAmpmZmZmxfEAAAAAAAOR8QPYoXI/CvXxA9ihcj8LRfECamZmZmUV9QPYoXI/C4X1AMzMzMzMjfkAzMzMzMxN+QHE9CtejIH5AexSuR+ECf0AAAAAAAEB/QM3MzMzMdH9ArkfhehTmfkB7FK5H4XZ+QKRwPQrXa35AAAAAAADofUBxPQrXo9R9QHE9CtejNH5Aw/UoXI9afkAUrkfhenB+QAAAAAAAqH5A7FG4HoWzfkBcj8L1KPh+QBSuR+F6GH5AKVyPwvXcfUDXo3A9CiN9QFyPwvUoNH1AFK5H4XpMfUBmZmZmZhJ9QAAAAAAA2HxAuB6F61FwfEBcj8L1KJR8QOxRuB6Fs3xA7FG4HoXLfEApXI/C9eB8QI/C9ShcC31ApHA9Ctc7fUAK16NwPaZ9QM3MzMzMPH1AAAAAAAD8fEAfhetRuPJ7QHE9CtejsHtAAAAAAACAe0B7FK5H4Wp7QAAAAAAAUHtArkfhehT2e0BxPQrXo2R8QJqZmZmZYXxAmpmZmZkhfED2KFyPwjF8QOF6FK5HrXtAAAAAAABwe0DXo3A9Cr97QArXo3A9fntArkfhehSKe0CamZmZmbl7QI/C9Shc03tAFK5H4XpIfEDhehSuR5F8QFK4HoXreXxAPQrXo3DFfEBmZmZmZsJ8QAAAAAAAcHxACtejcD2CfEBSuB6F60F8QAAAAAAAAH1A4XoUrkdZfUBSuB6F61l9QD0K16NwGX1Aw/UoXI8SfUD2KFyPwul8QKRwPQrX43xA9ihcj8L1fEBmZmZmZkJ9QJqZmZmZeX1AFK5H4XpYfUA9CtejcFl9QLgehetRIH5AXI/C9SjkfUDNzMzMzLh9QPYoXI/CwX1A9ihcj8LRfUDhehSuR+V9QK5H4XoUdn1AH4XrUbgCfUBI4XoUrht9QHE9CtejFH1ArkfhehQefUDsUbgehSd9QEjhehSuC31ArkfhehT+fEC4HoXrUdB8QAAAAAAA0HxAAAAAAADAfEDD9Shcj5Z8QLgehetRsHxAKVyPwvVsfUAAAAAAAFx9QOxRuB6FK31AAAAAAACQfUAAAAAAAJx9QAAAAAAAeH1AuB6F61HUfUAAAAAAAEB+QAAAAAAAMH5AKVyPwvUQf0B7FK5H4R5/QD0K16NwGX9A9ihcj8Kpf0CuR+F6FBqAQK5H4XoUBIBAj8L1KFzXf0AAAAAAAOB/QB+F61G4cn9A16NwPQorf0AzMzMzM1t/QEjhehSuU39ApHA9CteDf0BxPQrXo/h/QClcj8L10H9AFK5H4Xqkf0DNzMzMzCCAQNejcD0KW4BAUrgehetxgEAUrkfhejyAQGZmZmZmXoBASOF6FK47gECamZmZmWGAQAAAAAAAfIBAMzMzMzOhgECkcD0K19WAQK5H4XoU4oBAMzMzMzPtgECuR+F6FOCAQPYoXI/C4YBAAAAAAAAagUAUrkfheiqBQNejcD0KQ4FAFK5H4Xr+gEBSuB6F6/GAQAAAAAAA2H9AMzMzMzMBgED2KFyPwrF/QClcj8L1mH9ArkfhehQuf0AAAAAAAJh/QAAAAAAA6H9AAAAAAADgf0AK16NwPcJ/QAAAAAAA0H9AAAAAAABwf0AAAAAAAGh/QHE9Ctej0H9AH4XrUbgogEDXo3A9ChWAQK5H4XoUmn9ACtejcD0IgEAAAAAAAMB/QI/C9ShcC39Aj8L1KFwHfkBmZmZmZrp+QAAAAAAAAH9AuB6F61Ecf0AAAAAAANR/QAAAAAAAsH9AAAAAAADIf0BmZmZmZvZ/QHE9CtejnH9ASOF6FK6zf0DhehSuR+l/QOxRuB6F939AKVyPwvUUgEAAAAAAAFKAQFK4HoXrMYBAZmZmZmYmgECuR+F6FO5/QKRwPQrXHYBAAAAAAAA4gED2KFyPwlmAQPYoXI/CUYBAw/UoXI9ggEBcj8L1KGKAQHsUrkfh1oBACtejcD0QgUBxPQrXo0aBQAAAAAAAgIFAexSuR+GWgUAUrkfhep6BQArXo3A9roFAKVyPwvWggUB7FK5H4cyBQK5H4XoUIIJAexSuR+EigkAUrkfhegiCQK5H4XoUWIJAmpmZmZmPgkCF61G4HgODQGZmZmZmRoNAAAAAAAAIg0BSuB6F61GDQGZmZmZmPINAUrgehesfg0AfhetRuGyDQAAAAAAApINApHA9CtcZhEAK16NwPeKDQAAAAAAAoIRAFK5H4XqchEBmZmZmZryEQBSuR+F64IRAH4XrUbgAhUCuR+F6FCyFQLgehetRwIVACtejcD3uhUAfhetRuMqFQMP1KFyPEIZAAAAAAACohkCF61G4HpmGQD0K16NwKYVASOF6FK6phEBI4XoUrpGDQMP1KFyPwINAXI/C9Sjig0AAAAAAAICDQFyPwvUoQINAAAAAAABUg0ApXI/C9caDQHE9CtejEIRAexSuR+HghEAAAAAAAMiEQK5H4XoUUoRAhetRuB4BhUBcj8L1KH6FQHsUrkfhUIVAhetRuB5JhUApXI/C9SiFQAAAAAAAfIVArkfhehTIhUAAAAAAADSGQAAAAAAAUIZACtejcD3WhUAAAAAAAISFQEjhehSuSYVArkfhehR6hUCPwvUoXL2EQAAAAAAAZIRAAAAAAADohEB7FK5H4USFQFK4HoXrqYVAFK5H4XqohUBI4XoUrtGFQFK4HoXr5YVAuB6F61HEhUBxPQrXo5SFQKRwPQrXLYVAXI/C9SgkhUAAAAAAAHiEQM3MzMzM6oNAAAAAAAC4g0CuR+F6FHSDQHsUrkfhAIRAexSuR+Gwg0AAAAAAACqEQNejcD0K24NAPQrXo3DPgkCuR+F6FLCCQJqZmZmZs4JAmpmZmZmJgUAAAAAAADiAQIXrUbgeUYFAPQrXo3CxgUDNzMzMzCSBQI/C9Shc5YBArkfhehT8gEC4HoXrUbKAQAAAAAAA4H9AzczMzMzIfkC4HoXrUYh+QHsUrkfhHn9AXI/C9SjsfkAzMzMzM8t/QDMzMzMzC4BACtejcD0IgEDsUbgehTWAQAAAAAAAmIBAcT0K16NigEAAAAAAAKh/QIXrUbgeLX9AAAAAAAA4f0DNzMzMzBh/QKRwPQrXW35AmpmZmZnte0AK16NwPbp8QPYoXI/CNX1AZmZmZmYKfUD2KFyPwiF8QBSuR+F6PHtAAAAAAADAe0B7FK5H4fJ6QKRwPQrXo3pAcT0K16PQeUBmZmZmZop6QIXrUbgeYXtAFK5H4XrMekBSuB6F6+l6QPYoXI/CwXlAFK5H4XqYekAfhetRuPp6QAAAAAAAGHpA7FG4HoVbe0AAAAAAAOB7QHE9CtejFHxApHA9CteHe0ApXI/C9SR7QFyPwvUoAHtAUrgehevte0AK16NwPcZ8QK5H4XoUAnxAMzMzMzODfEAUrkfheph9QFyPwvUo4HxAcT0K16OYfECamZmZmd18QFyPwvUocHxAZmZmZmYifEDsUbgehbt7QAAAAAAAkHtAuB6F61Hoe0Bcj8L1KGaAQLgehetRkoBAFK5H4XrMgECamZmZmeeAQFyPwvUo4IBApHA9Ctf1gEAAAAAAANiAQK5H4XoUMIFA9ihcj8JzgUD2KFyPwgeCQGZmZmZmGoJA16NwPQpZgkAAAAAAADiCQD0K16NwA4JA4XoUrkcXgkBmZmZmZtqBQOF6FK5Hx4FAZmZmZmYUgkAAAAAAAPqBQHsUrkfh/IFAw/UoXI8SgkBcj8L1KOyBQOF6FK5H54FAhetRuB4fgUAAAAAAAOKAQBSuR+F6zoBAzczMzMz+gEDNzMzMzIiBQJqZmZmZ6YFAZmZmZmYqgkBcj8L1KNqBQHsUrkfhhIFAZmZmZmakgUBI4XoUrgGCQAAAAAAAuIFAMzMzMzMLgUAK16NwPRaBQEjhehSuA4FA16NwPQoXgUAfhetRuIqBQAAAAAAAtIFA16NwPQrDgUDhehSuR3mBQBSuR+F6NoFArkfhehQEgUBcj8L1KPCAQM3MzMzMuIBAj8L1KFz9gECuR+F6FIKAQB+F61G4GIBAFK5H4XpYgEAAAAAAACiAQBSuR+F6cIBAAAAAAAB8gEDNzMzMzLyAQAAAAAAA4IBApHA9CtflgED2KFyPwpWAQD0K16NwO4BAmpmZmZkbgECamZmZmVF/QJqZmZmZ6X9AAAAAAABkgEDXo3A9CuN9QDMzMzMzG31AmpmZmZkZfUCamZmZmeF9QFK4HoXruX1AAAAAAAAYfkCuR+F6FLJ9QAAAAAAA4H1AKVyPwvWMfUDXo3A9Cnd9QAAAAAAA6HxAZmZmZmbefEDhehSuRyV9QFyPwvUoiH1Aw/UoXI/GfUDXo3A9Crt9QBSuR+F6vH5AAAAAAAAgf0CuR+F6FN5+QHE9CtejBH9AAAAAAACYf0Bcj8L1KPh+QK5H4XoUan5AhetRuB4pfkC4HoXrUfR9QEjhehSul35AAAAAAAAYfkA9CtejcGl9QD0K16NwDX1A4XoUrkdlfUDhehSuR+V8QB+F61G41nxA4XoUrke5fEBmZmZmZhZ8QOF6FK5HgXtAzczMzMwYekAAAAAAAPB5QHsUrkfhmnlArkfhehRmeUAAAAAAANB6QI/C9Shce3pApHA9CteXekDXo3A9Ctd5QAAAAAAAqHlAFK5H4Xq0e0AAAAAAANB6QOxRuB6Fm3pA9ihcj8LhekBI4XoUrj97QBSuR+F6UHpAj8L1KFzLd0CF61G4HoV4QJqZmZmZMXlAAAAAAAAgeECF61G4HvF3QMP1KFyPUnZAUrgeheuVdUD2KFyPwmF0QB+F61G4GnRAzczMzMxkc0AAAAAAAJx1QAAAAAAAUHZA4XoUrkctdUDXo3A9CldzQM3MzMzMuHZAPQrXo3B5dkAAAAAAAKB2QAAAAAAAgHVApHA9CtcfdUCkcD0K10t0QJqZmZmZWXRAXI/C9SiIdEBSuB6F6wV2QFK4HoXrZXZAuB6F61EkdkB7FK5H4VZ1QAAAAAAAmHVAKVyPwvVUdUApXI/C9Vx0QOF6FK5HVXRA7FG4HoVXc0C4HoXrUchyQFyPwvUo/HFAAAAAAACAcUApXI/C9ehyQDMzMzMzn3JAmpmZmZnVcUDhehSuR2lxQHE9CtejMHBAmpmZmZnpbkC4HoXrUSBvQIXrUbgetXBAMzMzMzNDcUAUrkfhegRyQEjhehSun3BA4XoUrkdpcEA9CtejcJVwQLgehetRzHBAuB6F61GAcEAAAAAAAKBxQFyPwvUokHJAXI/C9SgIc0DNzMzMzJxyQAAAAAAAYHJA9ihcj8IRc0C4HoXrUXRzQB+F61G4hnNA9ihcj8JRc0AAAAAAAFBzQK5H4XoUKnJAH4XrUbiKckCuR+F6FKZyQClcj8L1pHJA4XoUrkc5ckCPwvUoXKtyQPYoXI/C6XJAAAAAAAAYc0AAAAAAALBzQArXo3A9ZnRAAAAAAADsc0A9CtejcNVzQGZmZmZmlnNASOF6FK5jc0AK16NwPWZzQAAAAAAAnHJAcT0K16PscUAzMzMzM3tyQAAAAAAArHFAmpmZmZkFckBmZmZmZnJyQOxRuB6FA3NAKVyPwvUIdEC4HoXrUUR0QClcj8L1BHVA9ihcj8JBdUAAAAAAAAB1QAAAAAAAwHRA4XoUrkfddEAfhetRuDJ1QAAAAAAAEHVA16NwPQo3dkDNzMzMzPR2QArXo3A9XnZAAAAAAAAQdkBI4XoUrvd1QEjhehSuM3ZA16NwPQo7dUC4HoXrUUh1QMP1KFyPVnVAAAAAAADwdEDNzMzMzJh0QArXo3A9rnRAH4XrUbgudUDD9ShcjxJ1QPYoXI/CsXRAAAAAAABgdECamZmZmSV0QK5H4XoUtnNACtejcD3qckAAAAAAAGRyQDMzMzMzF3JAAAAAAABkckCPwvUoXBtzQGZmZmZmmnNAFK5H4Xrwc0A9CtejcOlzQD0K16Nw8XNAzczMzMyAdECuR+F6FHZ0QD0K16NwZXRAFK5H4XrQdEAAAAAAAIB1QAAAAAAABHVAAAAAAADIdUDsUbgehZd1QM3MzMzMAHVAexSuR+GidUD2KFyPwkl1QIXrUbgehXZAAAAAAABgdkBmZmZmZpZ2QClcj8L1NHZAj8L1KFxDdkAAAAAAAOR2QM3MzMzMJHdAmpmZmZnZdkDD9Shcj8J2QLgehetR0HdAKVyPwvUMeEAK16NwPX53QJqZmZmZgXdAXI/C9Siwd0D2KFyPwtF3QAAAAAAAyHdAAAAAAADsd0BxPQrXo9h3QOF6FK5HHXhAzczMzMyseEDNzMzMzHh4QHE9CtejrHhAAAAAAADUeEAAAAAAABB5QAAAAAAAiHhAAAAAAACweEAzMzMzMxN5QPYoXI/CsXhAmpmZmZlFeEDXo3A9Cgt4QD0K16NwUXhAZmZmZmYWeEAAAAAAAJB4QAAAAAAAsHhAPQrXo3CdeEAAAAAAAIB4QAAAAAAAYHhAKVyPwvVMeUD2KFyPwkl5QDMzMzMzq3lAFK5H4XooekBmZmZmZnZ6QAAAAAAAgHpAAAAAAAAoe0CPwvUoXHd7QFK4HoXrIXtAXI/C9Sj8ekAfhetRuKp6QFK4HoXrxXpAj8L1KFxTekAAAAAAAOB5QB+F61G49nlAKVyPwvW4eUAAAAAAANB5QOF6FK5H6XlACtejcD0eeUDNzMzMzCh5QClcj8L1aHlAXI/C9ShoeUD2KFyPwtF5QKRwPQrXY3pA7FG4HoUjekBmZmZmZiJ6QClcj8L1bHlAw/UoXI8aeUBI4XoUrr94QClcj8L14HhAzczMzMxceUAzMzMzM4t5QHsUrkfh8nlAUrgehetNekCkcD0K18d6QJqZmZmZIXtAMzMzMzOrekAAAAAAAKR6QOxRuB6Fm3pAAAAAAAB4ekAAAAAAAJh6QAAAAAAAMHtA9ihcj8JZe0CamZmZmUF7QArXo3A9/npA9ihcj8Kpe0B7FK5H4aZ7QArXo3A9+ntAexSuR+EGfECuR+F6FP57QBSuR+F6CHxApHA9CtdvfEBxPQrXo1x8QK5H4XoURnxAH4XrUbhufEDD9Shcj658QArXo3A9jnxAUrgeheuxe0CF61G4HqV7QClcj8L1aHtASOF6FK4zfEBmZmZmZup8QB+F61G4Bn1A7FG4HoVLfUAzMzMzMyt9QEjhehSuy3xArkfhehT2fEAAAAAAAKB8QB+F61G4ZnxAPQrXo3BJfEAAAAAAAHB8QBSuR+F6fHxAPQrXo3B9fEDNzMzMzKx8QAAAAAAA4HxArkfhehQ6fUDNzMzMzGB9QI/C9Shci31ASOF6FK7nfUBmZmZmZnJ+QEjhehSus35A7FG4HoVjfkApXI/C9Rx/QI/C9ShcG39AAAAAAADQfkAAAAAAAMB+QM3MzMzM1H5AXI/C9SjQfkCkcD0K13N+QAAAAAAAcH5AmpmZmZkpfkA9CtejcDV+QDMzMzMzu35AKVyPwvUcf0AfhetRuAqAQAAAAAAAFIBAw/UoXI86gEDXo3A9CkuAQAAAAAAAkIBAXI/C9Sh6gEAK16NwPQSBQKRwPQrXJYFAmpmZmZnlgEAAAAAAACiBQAAAAAAAIIFAmpmZmZk5gUCF61G4HjeBQOF6FK5HAYFAAAAAAADSgEAAAAAAAOiAQFK4HoXrsYBAUrgeheuBgEBmZmZmZoKAQI/C9Shcw4BA4XoUrkf1gEAAAAAAAAyBQKRwPQrXUYFAAAAAAACQgUB7FK5H4a6BQAAAAAAArIFAexSuR+G0gUAK16NwPeaBQPYoXI/C7YFAw/UoXI/ggUAAAAAAANCBQDMzMzMzy4FAexSuR+H+gUC4HoXrUQSCQOxRuB6FNYJA9ihcj8LXgUB7FK5H4QiCQAAAAAAAOIJA9ihcj8JRgkAAAAAAAEiCQD0K16NwGYJAAAAAAAAogkAAAAAAADCCQHE9CtejPIJA4XoUrkdzgkCkcD0K112CQHsUrkfhhIJAUrgehet3gkCF61G4HqWCQK5H4XoUjoJAAAAAAACYgkCPwvUoXJ2CQM3MzMzMtoJAzczMzMzWgkBcj8L1KCKDQKRwPQrXU4NAuB6F61FSg0CuR+F6FFCDQKRwPQrXX4NAUrgeheuBg0C4HoXrUWyDQHsUrkfh8oJAMzMzMzOFgkB7FK5H4WiCQLgehetRkIJAAAAAAABggkAzMzMzM++BQBSuR+F6NoJAuB6F61EQgkC4HoXrUQKCQLgehetR+oFAAAAAAADigUB7FK5H4baAQK5H4XoUvIBAuB6F61HCgEAUrkfherqAQM3MzMzMlIBAexSuR+FsgEBmZmZmZpKAQHsUrkfhfIBApHA9CteBgEAUrkfhemyAQEjhehSuU4BACtejcD2cgEDD9Shcj7iAQOxRuB6FfYBAAAAAAACMgEAAAAAAAJSAQGZmZmZmsoBAexSuR+HMgECF61G4HsGAQJqZmZmZ3YBAAAAAAADogEC4HoXrUaKAQK5H4XoUlIBAAAAAAABAgECkcD0K11uAQFK4HoXrfYBArkfhehS4gEAAAAAAANqAQJqZmZmZEYFAMzMzMzN/gUCuR+F6FIiBQAAAAAAAZIFASOF6FK6RgUCamZmZmfGBQOF6FK5HGYJAAAAAAABggUCuR+F6FIaBQAAAAAAAooFASOF6FK6XgUAK16NwPWqBQArXo3A9UoFAAAAAAADwgECamZmZmd2AQOF6FK5HdYFAXI/C9SiAgUDD9Shcj4SBQArXo3A9goFAFK5H4XqWgUBmZmZmZqyBQAAAAAAAyIFAMzMzMzOrgUB7FK5H4Y6BQGZmZmZmgIFAAAAAAACggUD2KFyPwrGBQNejcD0K2YFArkfhehRAgkC4HoXrUWKCQNejcD0KLYFAAAAAAAAIgUAUrkfhejiBQOF6FK5HQYFAzczMzMz6gEBcj8L1KPKAQEjhehSuiYBApHA9Ctd5gEAK16NwPUiAQI/C9ShcdYBA7FG4HoVrgEBxPQrXo2iAQI/C9Shcg39A7FG4HoVHf0AAAAAAAMB8QOF6FK5HFX5AzczMzMwEgEDsUbgehcN/QAAAAAAAYH9AUrgehevlf0AAAAAAAAR/QJqZmZmZJX9AhetRuB4Rf0CkcD0K13t+QM3MzMzMnH1AZmZmZmYGfUDNzMzMzMx9QFyPwvUoAH1AAAAAAACwfUDNzMzMzBB+QAAAAAAAMH5AUrgehesBfkCPwvUoXBd+QDMzMzMz635AMzMzMzMLf0BmZmZmZjJ+QHE9Ctej2H1AAAAAAACAfUA9CtejcL19QFK4HoXrGX5A16NwPQozfkB7FK5H4SJ+QPYoXI/CAX9A16NwPQoLf0CuR+F6FCJ/QArXo3A9Tn5ASOF6FK5bfkDD9Shcj+J9QFyPwvUolH1AKVyPwvVofUBcj8L1KFB9QFK4HoXrMXxA7FG4HoXLe0CuR+F6FBp7QAAAAAAAQHtArkfhehQae0CuR+F6FDZ7QMP1KFyPGnxAFK5H4XrsfEDhehSuR3F9QBSuR+F6BH5Aj8L1KFxnfkB7FK5H4Sp+QLgehetRuHxAuB6F61GYfECamZmZmcl8QHsUrkfhtn1ASOF6FK4nfkBcj8L1KAB+QK5H4XoUTn5AH4XrUbiifkAfhetRuCp+QOF6FK5H9X1ACtejcD3yfUDXo3A9Cm9+QFyPwvUobH5AzczMzMywfkApXI/C9Xh/QM3MzMzMAH9A9ihcj8JVf0CF61G4Hil/QAAAAAAAuH5AXI/C9SgofkBcj8L1KGB+QAAAAAAACH5AFK5H4XpgfkDNzMzMzBh+QAAAAAAANH1AuB6F61HQfEBI4XoUrpt8QB+F61G4LnxAAAAAAAAgfEDXo3A9Cid8QGZmZmZm+ntAH4XrUbhGfEAAAAAAAAB8QAAAAAAASHxAKVyPwvXEfEDXo3A9Cjd9QLgehetR8HxAXI/C9SgIfUDhehSuR2l9QOF6FK5HsX1AFK5H4Xr4fUDhehSuRwF+QAAAAAAA6H1Aw/UoXI/2fUB7FK5H4RJ+QClcj8L1wH5Aw/UoXI/Of0B7FK5H4fp/QM3MzMzM9H9ArkfhehQygEDNzMzMzIaAQJqZmZmZM4BASOF6FK5lgECPwvUoXDeAQAAAAAAAWIBAzczMzMw2gEBmZmZmZnSAQOxRuB6Fj4BAhetRuB6JgEApXI/C9XyAQI/C9ShcyYBAuB6F61HOgEBxPQrXo/KAQHsUrkfhyIBAzczMzMx8gkBmZmZmZsSCQHsUrkfh1oJAAAAAAAD8gkAAAAAAAPCCQGZmZmZmEINA9ihcj8I3g0AK16NwPRiDQHE9CtejIoNAZmZmZmYqg0BSuB6F6yeDQEjhehSuGYNAcT0K16M0g0AAAAAAACyDQM3MzMzMcINAexSuR+Fog0DXo3A9CnmDQK5H4XoUZINArkfhehRMg0BI4XoUrjGDQEjhehSuyYJAZmZmZmaQgkCamZmZmTuCQClcj8L1KoJAFK5H4XpkgkAfhetRuHKCQAAAAAAANoJAmpmZmZkRgkBmZmZmZliCQAAAAAAAWIJAmpmZmZkfgkAUrkfhekqBQDMzMzMzk4FAzczMzMyqgUAAAAAAAMCBQHsUrkfhBIJAAAAAAABQgkDsUbgehT2CQAAAAAAAaIJAuB6F61FygkAfhetRuJCCQKRwPQrXg4JAMzMzMzNpgkDD9Shcj2CCQI/C9ShcXYJA4XoUrkdlgkB7FK5H4ayCQArXo3A92oJACtejcD3QgkAAAAAAALyCQK5H4XoUsIJAj8L1KFy3gkCF61G4HquCQArXo3A9gIJApHA9CtejgkApXI/C9cCCQGZmZmZmwIJAZmZmZmYQg0DXo3A9ChGDQBSuR+F6BINAAAAAAAA0g0Bcj8L1KDaDQOF6FK5HMYNAcT0K16NIg0Bcj8L1KIqDQOF6FK5HrYNAuB6F61F6g0B7FK5H4RqDQKRwPQrXyYJAXI/C9Sj0gkAK16NwPTqDQAAAAAAAKoNArkfhehS+gkBmZmZmZpyCQHsUrkfh2IJACtejcD38gkDXo3A9CvGCQHsUrkfh9IJASOF6FK4Jg0CuR+F6FDSDQB+F61G4IoNAFK5H4Xocg0AAAAAAACiDQLgehetRYINAzczMzMx4g0DNzMzMzHCDQArXo3A9YoNAPQrXo3CBg0Bcj8L1KP6CQAAAAAAA4IJAzczMzMzKgkAAAAAAAAyDQK5H4XoUAINAZmZmZma6gkDsUbgehZmCQAAAAAAA6IJAmpmZmZnBgkAAAAAAAFiCQJqZmZmZcYJAAAAAAABOgkCamZmZmRuCQHE9Ctej6oFAXI/C9SjAgUAAAAAAAFyBQArXo3A9OoFAuB6F61GEgUBSuB6F632BQFyPwvUoyIFArkfhehTkgUAAAAAAAOCBQGZmZmZmFoJAUrgehesZgkBI4XoUrvWBQK5H4XoU6IFAcT0K16MkgkBSuB6F6y2CQK5H4XoUZoJAzczMzMw4gkA9CtejcK2BQAAAAAAAwIFA7FG4HoXxgUAUrkfhehCCQAAAAAAA6IFAZmZmZmbAgUAAAAAAAN6BQM3MzMzM4IFAFK5H4XqQgEAAAAAAADiAQDMzMzMzR4BAhetRuB5LgECF61G4HlOAQK5H4XoUUIBASOF6FK5pgEDNzMzMzLKAQHE9CtejsIBArkfhehTUgEApXI/C9ciAQNejcD0KjYBAXI/C9SiogEAAAAAAAJyAQD0K16NwuYBAzczMzMyYgEC4HoXrUcyAQOxRuB6FrYBA4XoUrkeXgEBmZmZmZoiAQDMzMzMzI4BACtejcD0YgECamZmZmW2AQPYoXI/CjYBA16NwPQpZgEAzMzMzMwuAQDMzMzMzMYBAAAAAAAAqgEAAAAAAABiAQGZmZmZmIoBAAAAAAABcgEAUrkfhemqAQKRwPQrXU4BAAAAAAABMgEAAAAAAADqAQFK4HoXrN4BACtejcD0egECF61G4Hh2AQHE9Ctej1H9AH4XrUbhif0CkcD0K169/QPYoXI/CSX9AH4XrUbgKf0DNzMzMzEx+QEjhehSu831ASOF6FK5LfkBI4XoUrmt+QEjhehSum31AuB6F61GQfUCamZmZmZl9QLgehetRQH5ArkfhehTGfkAAAAAAAFh/QK5H4XoUpn9AZmZmZmZqgEC4HoXrUaiAQNejcD0Kv4BAXI/C9Sh6gEAAAAAAAGyAQAAAAAAAcIBApHA9CtfDgECkcD0K13WAQOF6FK5HYYJAAAAAAACAgkAK16NwPZyCQM3MzMzMmoJArkfhehSQgkBcj8L1KOKCQAAAAAAAKINA9ihcj8JJg0AAAAAAAOaCQAAAAAAA2IJA7FG4HoXdgkA9CtejcLmCQMP1KFyPfIJA16NwPQo9gkD2KFyPwguCQAAAAAAAkIFAzczMzMwCgUCuR+F6FOiAQKRwPQrXHYFA4XoUrkcjgUAzMzMzM4OBQGZmZmZmEIFAZmZmZmaSgEBcj8L1KJaAQKRwPQrXR39A9ihcj8KtfkAUrkfheuh+QClcj8L1MH9ApHA9CtcpgEBmZmZmZjKAQIXrUbgeCYBAFK5H4XqsgEAUrkfhepaAQAAAAAAAwIBA9ihcj8KZgECkcD0K10WAQAAAAAAA6H9AMzMzMzN7gEAzMzMzM5+AQOxRuB6FSYBAAAAAAAAsgEAzMzMzM1uAQMP1KFyPboBAFK5H4Xq0gECF61G4HvmAQNejcD0Ku4BAj8L1KFz1gEB7FK5H4daAQAAAAAAAEIBAAAAAAAAUgEAAAAAAAAqAQGZmZmZmwIBAmpmZmZl9gEDhehSuRzuAQNejcD0KE4BAAAAAAADwfkCamZmZmQl+QLgehetRDH5AmpmZmZlpf0DNzMzMzOR/QJqZmZmZWYBASOF6FK6rgEDXo3A9CgWBQFyPwvUoIIFAw/UoXI9cgkAAAAAAABCCQDMzMzMzC4JA9ihcj8IZgkCuR+F6FByCQJqZmZmZVYJAAAAAAABUgkDNzMzMzDaCQHsUrkfh5oFAZmZmZmaKgkAAAAAAAJKCQI/C9ShcfYJAAAAAAAAGgkCkcD0K1yOCQPYoXI/CPYJAPQrXo3CDgkCkcD0K14GCQM3MzMzM3IJA4XoUrke1gkAUrkfhenyCQM3MzMzMtIJACtejcD3+gkAAAAAAABSDQHsUrkfhFINACtejcD2mgkAAAAAAAI6CQB+F61G44IFAUrgehev5gUB7FK5H4dCBQHE9CtejioFAAAAAAAAEgkBxPQrXoyqCQB+F61G4gIJAAAAAAAC4gkCuR+F6FEKDQDMzMzMzc4NAUrgehethg0DNzMzMzFCDQGZmZmZmOoNArkfhehRIg0C4HoXrUWKDQM3MzMzMdoNAUrgehesjg0DsUbgehVWDQPYoXI/Ca4NAAAAAAABgg0BSuB6F65+DQEjhehSuV4NArkfhehSYg0AUrkfherSDQAAAAAAAwINAzczMzMzwg0CamZmZmdmDQFyPwvUoEIRAKVyPwvVihEApXI/C9aSEQKRwPQrXgYRAuB6F61FOhECkcD0K12mDQOF6FK5HR4NAKVyPwvVog0AAAAAAAJSDQBSuR+F6aINAPQrXo3CNg0ApXI/C9XCDQEjhehSuu4NAmpmZmZktgkDhehSuRzmCQAAAAAAAEIJA16NwPQqzgUBmZmZmZqSBQHE9CtejyoFAMzMzMzPrgUAzMzMzM/mBQIXrUbgeGYJAcT0K16MwgkBmZmZmZmCCQK5H4XoUkIJArkfhehTegkBSuB6F6+WCQAAAAAAACINAAAAAAADggkBcj8L1KBCDQK5H4XoU5oJAFK5H4XrUgkCkcD0K162CQDMzMzMz04JA16NwPQrXgkBI4XoUrvWCQM3MzMzMwoJArkfhehTsgkAUrkfheuiCQD0K16Nw/YJAAAAAAAA8g0AzMzMzM1GDQMP1KFyPYoNA16NwPQobg0AfhetRuI6CQHsUrkfh7oJAzczMzMzygkAAAAAAAMCCQK5H4XoUuoJAZmZmZmbsgkBI4XoUriuDQHE9CtejNoNAZmZmZmZgg0BSuB6F62mDQFyPwvUomoNArkfhehTEg0AAAAAAALiDQDMzMzMzB4RAuB6F61H8g0BmZmZmZiaEQHE9CtejWIRAZmZmZmYihEAAAAAAAAiEQB+F61G41oNAhetRuB71g0DNzMzMzLiDQMP1KFyPpINAuB6F61GKg0BmZmZmZoSDQGZmZmZmuoNArkfhehQChEC4HoXrUXyDQOF6FK5HzYJArkfhehT4gkAUrkfhetaCQAAAAAAAuIJAcT0K16OegkCamZmZmXGCQMP1KFyPqoJA16NwPQrXgkCamZmZmQ2DQM3MzMzMFINAexSuR+HEgkDsUbgehcGCQHsUrkfhxIJAmpmZmZkHg0AUrkfheqaCQAAAAAAAmIJAmpmZmZnFgkAUrkfhes6CQKRwPQrXEYNAXI/C9SjmgkBxPQrXo8SCQAAAAAAA3oJA7FG4HoU/g0CkcD0K12mDQJqZmZmZpYJAAAAAAADAgkAAAAAAAKCCQClcj8L1qIJAKVyPwvW2gkAK16NwPWKCQMP1KFyPYoJACtejcD08gkAAAAAAABiCQM3MzMzMwoFArkfhehTQgUD2KFyPwrOBQHsUrkfh7IFAAAAAAAAKgkBxPQrXo/SBQOxRuB6FtYFAcT0K16N0gUA9CtejcHWBQFyPwvUoZIFAH4XrUbhogUAAAAAAAHqBQClcj8L16IFArkfhehTsgUCkcD0K152BQMP1KFyProFAzczMzMxqgUCkcD0K13uBQFyPwvUosIFASOF6FK5pgUCamZmZmeGBQAAAAAAABIJAAAAAAAAQgkC4HoXrUWSCQMP1KFyPNoJAAAAAAAAqgkBSuB6F6xWCQOxRuB6Fp4FAH4XrUbiQgUBmZmZmZsSBQArXo3A93oFAMzMzMzPDgUDXo3A9CgGCQAAAAAAAUIJAPQrXo3CxgkAAAAAAALKCQB+F61G44oJAKVyPwvXqgkAK16NwPRCDQAAAAAAATINAAAAAAACsg0D2KFyPwqGDQNejcD0Ku4NA4XoUrkd7g0CF61G4HuGDQPYoXI/C+YNA9ihcj8Ljg0AAAAAAAPSDQFyPwvUoDIRA16NwPQrhg0A9CtejcDWEQAAAAAAAmIRAzczMzMzAhEBxPQrXo9iEQJqZmZmZ/YRA4XoUrkcFhUCPwvUoXLGEQJqZmZmZ1YRAAAAAAAD4hEBxPQrXoxCFQFK4HoXrmYRAUrgehevFhEAzMzMzMyGFQD0K16NwQYVAuB6F61FAhUAAAAAAAAyFQIXrUbgeOYVApHA9CtdlhUCPwvUoXM2FQIXrUbge04VAAAAAAACYhUDXo3A9CkeFQLgehetRlIVArkfhehQYhkAAAAAAAAiGQArXo3A9FoZA4XoUrkdjhkD2KFyPwomGQClcj8L10IZAAAAAAADShkDhehSuR12HQAAAAAAAKIdAMzMzMzN9h0AzMzMzM3mHQEjhehSuoYdAXI/C9Shyh0CamZmZmYGHQDMzMzMzu4dArkfhehToh0AzMzMzM5GHQArXo3A9NIdAuB6F61ESh0C4HoXrUXKHQM3MzMzMQIdAmpmZmZnVhkBI4XoUrgOHQK5H4XoUIodAAAAAAAAghUAAAAAAAACFQJqZmZmZ7YRAAAAAAAAAhUBcj8L1KBqFQK5H4XoUDIVAmpmZmZn5hEAAAAAAABiFQPYoXI/CNYVAKVyPwvV6hUAUrkfhehyFQGZmZmZmLIVAUrgehevThECkcD0K11mEQGZmZmZmUoRAKVyPwvWmhECkcD0K15GEQAAAAAAAVIRAMzMzMzMfhEAAAAAAAOCDQArXo3A9fIRAw/UoXI/EhEAzMzMzM6OEQM3MzMzM0IRAXI/C9SiYhEAAAAAAAJCEQIXrUbgev4RAAAAAAABQhUDsUbgehW2FQHsUrkfhsIVAmpmZmZlthUBxPQrXo1KFQK5H4XoUZIVAj8L1KFxThUC4HoXrUV6FQPYoXI/CfYVApHA9CterhUBmZmZmZtyFQD0K16Nw04VAXI/C9SgAhkBmZmZmZliGQD0K16NwZYZA9ihcj8JnhkBcj8L1KDSGQPYoXI/CG4ZA4XoUrkfzhUB7FK5H4dSFQK5H4XoU4IVAAAAAAADAhUBmZmZmZmSGQPYoXI/ChYZAPQrXo3C9hkBxPQrXo9SGQD0K16Nwo4ZAzczMzMzEhkAAAAAAAOyGQGZmZmZmAodAzczMzMyShkDNzMzMzECGQI/C9ShcTYZAXI/C9Sg4hkBxPQrXo+qFQFyPwvUovIVAuB6F61H+hkCuR+F6FCSHQAAAAAAAcodAhetRuB5fh0C4HoXrUVSHQOF6FK5Hh4dAAAAAAAByh0DNzMzMzLCHQFyPwvUosodA9ihcj8K7h0AAAAAAALSHQAAAAAAA7IdAFK5H4XpciEAAAAAAAC6IQClcj8L1WohA9ihcj8JfiEBcj8L1KE6IQMP1KFyPmIhACtejcD3aiEC4HoXrUb6IQPYoXI/CuYhAZmZmZmbOiEBSuB6F67OIQDMzMzMzg4hAexSuR+G4iEAK16NwPQiJQDMzMzMz4YhA\",\"dtype\":\"float64\",\"order\":\"little\",\"shape\":[2148]},\"Open\":{\"__ndarray__\":\"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\",\"dtype\":\"float64\",\"order\":\"little\",\"shape\":[2148]},\"SMA(C,10)_0_1\":{\"__ndarray__\":\"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\",\"dtype\":\"float64\",\"order\":\"little\",\"shape\":[2148]},\"SMA(C,20)_1_1\":{\"__ndarray__\":\"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\",\"dtype\":\"float64\",\"order\":\"little\",\"shape\":[2148]},\"Volume\":[22351900,11428600,9137200,7631300,4598900,3551000,3109000,2601000,2461400,4573700,7566900,2578800,2926700,2495300,2032900,4353800,3926000,5419900,5361900,4637800,4741000,5319700,3618000,3794400,4272100,4566300,3536600,8473000,15273500,6885900,7570000,6517900,7494100,6697400,7064600,5540300,5241300,5838600,9893000,5226300,6604000,7025200,9064000,11372700,14589500,36891900,32764200,22307100,13356500,14846800,21162500,12224900,11346300,13888700,14409600,19833100,11191800,11064200,10644000,14985500,16746100,11901500,20917400,18132900,16629600,8769300,12368200,12413300,15281000,6480100,10666600,7700000,7864100,6260900,5869200,6254000,6870900,7541800,7654000,4317200,4818600,11088400,11471000,8572800,7386200,9834500,5516300,3907000,3614600,6104100,4145800,2678100,5904300,7668500,15844200,13755900,8236600,10387100,9662900,7539600,6958700,8177800,6849400,9640300,13172600,11257700,9001600,9258400,14022700,10659200,12307900,6627400,12208200,9596700,18839000,32799300,12988100,14819300,12960400,11480000,17171500,18982700,13116000,38562200,25782800,16532300,10414400,8485900,13483700,15586000,25814300,9973500,7818400,9311200,7285500,7608600,6774100,8667400,8046100,11360400,10960500,8028300,11146600,10422100,7106300,8260600,7090000,7483700,5631700,4845000,3705200,8738000,6473000,6236100,6768600,6182000,8076400,8736700,5252600,9692200,5116600,5410500,7319600,6555800,6152700,11577400,6550300,8430000,15451500,17751900,33205100,19840000,17272000,10264800,8682800,9170200,9767400,17780200,12083500,7509600,6763900,5536800,6345800,11478800,8948200,7415500,5681400,7808900,12312000,9716500,8163500,21388300,29043100,18057900,13546600,12184100,22236800,35191700,17974100,18782300,22525900,24323000,25700900,16441100,12696600,12803200,10091900,20883100,12462400,10434400,21024700,15132300,10474000,14056400,17771200,17802900,19036500,18298700,15094400,9227600,7494000,8000300,10672100,7457600,8390300,5864900,11437900,10667700,8438400,6207800,12621400,14310400,19789400,23386800,9658800,9816900,7217900,5925600,8363300,5662400,7290200,5930600,5236500,5939700,4481800,5779300,6879000,7514900,6585900,8174700,7109200,3883300,11872800,5542900,6813000,5821700,8593100,4376600,3755300,5903000,4792000,5034000,2742100,3434500,4212300,7499500,6613300,4390500,10386500,10299900,11275800,15466200,7579800,5761900,9351000,10119700,13006400,8483800,9894400,6873100,7997400,5613800,9151300,9160300,9144300,8328400,7993800,6770300,5572200,8542600,9306200,10567700,8519100,7566700,7077800,7010700,13911700,22892400,9431700,6878300,8907500,5134400,5903500,14342900,16356100,10565400,7448400,8824900,9591500,7897500,10466900,9128700,7063900,7807900,8624900,8695200,9212200,7025700,10335100,9596000,10085000,4840100,11008400,21495800,15596600,9744900,7543500,10289400,15114700,11665900,8910100,7643400,6950100,8157000,6630400,6045800,16330500,21936800,10084700,11221900,7546600,4595100,6702800,7117900,6945800,7587100,13121200,15286400,10808300,17756900,12791900,9097100,9007400,10125300,7656600,8270300,20485700,14537300,41116700,22741400,15464600,18739800,12926100,8452200,8588900,22066000,27122500,11807700,18281800,8940400,16630200,20804100,11912400,15223500,19717800,14654000,12947000,21315500,14320200,8686000,6476200,12551600,6484300,10212200,39437600,12061200,18330300,11962000,8939700,10378800,11745600,13910400,19325600,13642400,18450700,12768800,10016700,8551700,10407600,9831100,7596000,7434700,15180600,7023700,8945800,19027500,14711700,36521400,8122700,15715700,13410500,8598500,7025900,9320100,11107200,6017000,6552900,8259500,8137600,6781700,12271500,22551300,8836400,9569000,7277800,8337900,7421300,10361200,13104300,8072200,4652000,6065000,5118600,9140600,6187200,8892800,10087600,8590100,6491100,10643800,5835000,11398200,8604400,8983000,9553800,8194600,3667000,4316000,7981300,6278000,6386400,5558500,10259800,8911300,10359500,6157500,5019100,7659100,7772000,6785700,5304600,7633100,4039900,8744400,5911900,5314800,3551200,4107100,3710500,6658200,6258000,2156700,4985600,3687100,6041900,4436400,5971300,4906700,6924500,7552100,5811900,8536800,8518500,12538700,11754600,8086100,5761100,5531900,5641100,4083600,4595300,5463200,7097800,6327000,5095200,3946900,5743200,4311000,4261900,3766500,4968300,6698200,5853200,5080200,4952200,4023300,4164100,3642300,3482500,2466700,4164000,4460000,4044400,2959900,2672900,4074300,3724100,3842000,3083400,4529200,5442200,9768200,5366100,7838200,7106700,14292900,9147800,10692100,4649600,5737300,5289400,5876700,5107400,3310900,3651900,5464700,6661800,5789800,7336500,7583300,9788600,5635400,4844000,3622500,4319400,5211000,6017300,11503500,11647900,15104500,8660200,9187500,7031700,6604000,6563100,6285400,5426300,5236700,4907700,4991500,4897100,7965000,4879200,2796700,4341900,7223400,8370700,5092600,5511000,5124500,8427500,4500700,1732700,7324700,7797600,6315300,5577500,5631400,4899900,4103000,4450300,4664300,3974900,3263400,4181000,4662100,4748900,5190800,8016600,6587000,4367800,6953300,3988300,2074300,4231500,3116200,2559200,7706500,7887600,6872100,4754400,5381400,5968500,7208200,4473700,7568900,6699100,5932000,4978300,5404300,4665500,6059300,6368500,5496500,4775700,4180500,12206100,15658700,6286500,7206900,5321900,4119800,4076700,4858600,5754500,4062600,5698800,4042400,6177000,4067600,5640600,5743900,3882600,3969900,9312800,8032300,8685200,6583600,6355100,7533700,6534100,5362800,4977700,3465400,6377300,8016900,3944200,5659100,5197700,3421500,5798300,5680700,4111300,4710300,3741200,4591600,3988500,3380200,3448500,6501800,3778800,2715800,3062100,2979300,3812000,2707900,2794800,5077900,3210100,5670500,11009600,12161500,5674600,3694700,3966800,4124900,2925700,3641200,3658200,3062700,3594200,3950000,3020100,2905100,3889900,3686300,2944100,3872700,4119000,6554200,4660600,3695900,6159300,3839000,5060200,4173600,5348500,5218000,7245800,8924300,4799000,7101000,10447100,7886700,10630500,6358200,4647700,6419500,7034000,4621200,6174100,4835900,4355300,4338200,4409700,7203700,7925000,5689500,6123100,4168400,3880600,3487600,1871800,4942900,2747000,3729800,3856000,3309300,3441600,5237100,6599500,4328600,6080000,11127200,17772300,6356700,5572100,5545000,6883400,5509100,3963300,4270500,4421500,3154900,3176200,3651500,4264300,4068800,4846500,5875200,3179300,3633700,5409500,8645600,5479400,2697300,3610600,3252700,3076700,2472700,2325100,3273900,2549300,2651700,2977600,3693700,3312900,3625900,3663600,3225800,2703600,2986000,1891100,2764900,2197500,4215700,5526900,5525000,8011700,5297000,2730600,3346100,2056300,2639500,4711300,7067500,3879500,2986700,5068700,5028000,8767800,5385600,11799000,6823700,6943800,6025300,6030500,12289200,15789000,6664400,6793700,7404200,5795500,3353900,3066300,6900600,6876800,6527200,5841500,8883700,8436300,8252900,16512200,11388100,10227300,8426100,8094700,6967700,9042800,5527400,9840600,7013500,2738700,6790100,8904500,7916500,6208000,7895500,4325100,4231800,4209600,4909000,3852100,3856200,6139100,6159100,5040800,3673500,5486000,7166700,4421100,4422200,5382000,1628400,2530000,2942500,2562700,2376200,4306900,3252500,5359800,6403400,5339100,6739700,6334200,4977000,4447500,5568200,10560000,8216800,8539600,9501500,16965700,9400900,6966000,5816700,6283000,7939600,14871300,17600500,13157100,11203300,7636400,7928900,6828900,5826000,6662300,6624700,6476700,5240100,6350400,6662200,5677800,5515900,8372800,23287300,10121900,6586900,9425400,7554500,13621700,7436600,7470100,8071800,7987600,8826900,6651900,7726600,6574400,7888200,7237200,6179000,9913400,6763500,5831600,5225700,5832200,4376200,4446400,6093100,5999000,6778400,5897200,5943500,4547000,6048100,5072400,4169700,3842600,4577600,7630700,13353000,18235600,7439700,7938500,4921500,4135100,4164400,4008600,4346000,7903000,6602800,6998800,6281000,4629300,6613000,5122900,4484900,4863900,5163500,4375800,4342700,4274100,5604500,3313600,6468100,5076300,4431500,3865500,4050400,4845000,3225200,3674200,4305300,3363200,3916700,4734500,5288300,3657400,3812900,5491600,6184400,3542800,3462900,3381200,5683100,5983100,3635900,4672600,4122200,5659500,5447500,3765300,4959900,4223000,2400500,4255200,4932400,4154000,4331700,4981400,4424800,6071000,4742200,8787400,11292400,5901500,4691500,4894100,3540900,3183500,3160000,2802800,3490700,2865100,3007900,2487000,3584500,3375800,2773800,3739300,4239300,2755700,3625500,2918600,3545700,3333900,3046500,3982100,3514100,2297200,2014300,3308200,4387100,3029700,3848200,6111500,4314600,4848500,4534300,9017900,7229600,6226800,6471400,6028000,6567400,6990700,9126900,8589400,10006000,4407300,5204200,4242000,5020300,5292500,10762900,3086300,6234800,5984900,7992900,11220600,11054400,11826400,8075000,10597800,8905500,7784800,6721400,16239700,14249200,6753400,5782000,6560000,6478900,7359000,6200700,8105400,9756600,7988900,7423300,5954500,7349900,6946500,8574800,4681300,8080100,10146600,10051100,13234700,9517100,7543800,8346100,7834600,9779400,10244500,10054700,10771200,6356600,2565500,5711200,5839700,5904800,4886600,6521200,8144300,6889900,5237000,6179200,5722100,6737900,7059600,5789700,4763500,5612600,3917600,3777700,1921500,1959100,3701900,3843500,2886800,3610500,4889000,6425200,4494500,3600700,4340500,3304300,4432500,5467900,5934500,5224400,5048200,4924500,8267000,10732800,4610700,4927300,7691400,7283800,4672000,5206900,6556500,6817400,7264400,7038100,4977300,7103700,5231600,5550300,4146700,5680400,6024500,4988700,6217100,5221100,6095900,6439100,5605600,5420000,5788500,6524800,7818400,6529900,7234200,6471300,6730200,5923600,5024100,3906400,4946800,4712500,5012200,4111200,4737900,4271500,3820000,4336300,6003300,3322800,3094100,3655300,3301200,4488000,3789800,3280300,3680100,2765200,3382600,3050100,3428600,4930700,10185100,10730800,4428900,3695400,3501800,2609000,3385400,2290600,2943600,3610000,4355700,2427700,3203000,2400800,2632900,2999800,3865100,2559300,3790800,2842800,2937000,3008700,3351700,2837500,2284000,2719800,1718600,3104500,3034300,2668800,2648200,3322400,2623600,3532800,3638100,3680800,3098700,3254900,3358900,2865200,2918400,3736900,3049700,3490100,3085200,4259100,4124400,2899600,2457800,3044500,3256700,2169300,2593900,2310800,2517600,2262600,3259300,3441200,3275600,2926600,4045700,2895800,3777000,6554500,6854100,3153500,2968200,2586700,3478200,3626900,2504400,2532500,1987000,3198600,2860400,2590300,2389800,2342000,2110900,2543100,1742000,1712500,2341400,1995200,1675100,2620200,2351100,2255000,3998900,3560500,2453400,2341000,1987800,1998900,1771600,1957900,2594900,1804800,1646200,1499200,2656700,2195400,2534600,1902900,1975700,2398100,2585300,4483100,3283500,2116400,3041200,2704200,2527600,2049600,1839300,2099200,3141700,2813200,2600800,2144600,2732300,4874200,4303800,2738100,3322200,3037400,3258400,6100400,8841900,3217900,4043700,3670600,2336500,2392700,2970400,3216500,2567800,2522600,3468500,3202100,2380200,2332700,1847700,1826700,2649900,2230800,2319700,1886300,1666800,2199200,1916700,1549600,2168000,2006200,2547500,1605200,1461200,1384600,1725100,2320300,1663200,1428700,2513600,1636200,1524000,1781000,1668300,1720000,1913400,2280400,2809400,2638800,3531500,2571200,1880800,2072700,858700,1697900,1424800,1465600,1219800,1956200,3004700,3978700,6414300,4724300,7212900,4853300,6496600,4240100,5434500,4316700,3250700,6307700,6800400,4419900,4355500,3964400,3229100,4140500,2250800,4096200,2999100,3377700,3156000,2694300,2819600,2674500,2410000,2279700,3654400,2029700,2336900,2553100,2144600,2872600,2326600,3309200,2049300,2237900,4356800,3089400,3183800,3912200,2386400,3176600,5654900,4233300,2753400,4653900,3431500,3321600,1777200,4792400,4004800,5501300,6565200,3930900,2696200,3104500,1977900,3030800,2102700,1901500,2060100,2581000,1947500,2056600,2352400,3912300,3402700,6761800,12235500,3894000,2977400,2391500,3280700,2089400,4368800,3844700,3406100,3058900,2435400,1857800,6076300,4582200,5000100,5089000,4128000,3322600,3851800,3325800,4116000,2793800,2825500,3445700,4913300,9690800,4345600,3017400,3475600,2809100,2894800,2666800,2540800,3650700,3920300,3632700,2685100,2729000,2577900,1781700,2040400,4259600,2289300,1977300,2872900,2983500,2219700,2029100,1893600,2245200,1762300,3502100,3603200,3513600,1936000,2560100,3129700,2668900,4331500,3334400,3976300,3118000,4858200,7824800,4550300,4054500,3279600,2147700,2264400,1995200,2451200,2496000,2675500,2144100,1858700,1802300,3812500,2420400,3319500,1872200,2074000,2223000,2204600,1934700,1305000,1890700,2686400,3925000,3917600,2986200,2762700,2592100,1777000,2312400,1231400,1946800,3228300,1684200,2540400,1709900,2401800,2430600,1974300,2241500,2216500,2402800,1969500,5641600,4403500,4466300,2537100,2317400,3356900,3107400,3654700,2172200,3244100,2225000,1940500,3507100,2762300,2395800,2859200,2626300,3753600,3055600,6634100,14824800,7098200,4587900,3525100,2920500,2256100,3158400,2512900,2241900,2184300,2278300,3087100,1997600,3380500,3570800,1765700,2101300,2237200,2497000,2261600,3393000,3478900,3307400,2442500,2590000,2297500,2186600,2162600,2396400,1311100,2859700,7117400,3754100,2547900,2631200,2093800,3042200,1756900,1868900,1704700,2398500,1643300,2167700,1596900,3087100,1973300,1879500,1207500,1110800,1208100,1064800,1019200,989500,1539300,2365200,1824500,2532300,2057800,2101200,1579200,1439300,1632700,1334000,2365600,3617000,3406100,5485800,8904400,4599200,3646800,2038100,2019200,4231100,2804900,2745300,1760700,1495100,1550800,1799600,1694900,1842500,2334400,2589900,2128000,2092000,1684000,1478800,3217900,3639900,2889600,2711700,1932400,2281500,3323200,2026700,1945300,3011000,3462700,2284900,2151000,3128100,3032000,2816100,4005600,3798500,2899300,3298600,3020900,1886900,1816200,2098700,2858400,2218400,1604800,1422300,2029400,2613200,2054500,6047500,2668300,2531500,1901800,1858200,2085600,2069400,5456300,14043700,5039800,2684100,3060000,2470100,1630800,3500000,2298400,2000000,4228500,2133700,2081500,2117000,1997800,2056100,1948700,2042900,2338800,1448300,2108700,2958200,3303600,1953200,2468700,2317500,2300000,1900000,1301600,2118500,1745800,2687300,2955900,2204500,1748500,1942100,1907600,1653400,1689100,2439900,2427300,2341500,2073300,2757000,5245400,3028600,2765400,2407100,4801700,3805600,3444700,2715100,2343000,2428400,3636700,3849200,2695600,3935500,4770200,2839300,2841200,2790200,6649500,13732100,4468300,2967500,2227800,3469500,3528200,3131600,2342900,3934400,3108400,4137400,3966100,3200600,3825700,4914600,5929100,7496600,6469700,5369600,4830600,3154300,7144900,6939400,4079100,6290700,5410000,4905900,4346800,3594500,3293000,3596300,2335800,2989000,2693300,2415500,2401200,2715800,2755800,2380500,3268800,2670400,2354200,2694400,2960800,3534300,2468400,2779100,2514300,4400300,2777300,2634200,3010900,2263300,2906600,2723600,4474400,4158800,4534100,3424300,2855900,2322200,2853400,3177800,5687600,8529900,4008200,3800800,2931500,3379000,3391000,3426900,2540500,2873100,3780300,2508000,2557800,3125100,2120900,2669800,2834800,3357400,3029400,3711000,2868400,3977000,3188700,2676000,2608500,3493300,3287700,3001300,2405300,2325800,1562400,2828900,1831800,3397000,3620600,4085700,3197500,2326500,2257300,2413100,2766200,2183900,4028200,3903700,2408600,4459300,2143500,2388200,2497900,1822300,1453700,1606400,2127200,1575400,1782300,3676500,2864000,3282900,2692900,5822600,4395600,2400000,1875200,2307300,1909300,2761700,6305300,10576300,3412900,3055800,4987700,3226200,3617500,2330500,2142400,2320700,2414700,3168500,3679600,2092100,1836400,2264700,2325200,1816300,1803700,2425900,2530900,2449100,2480800,1967000,2055000,1935600,1813900,2847600,3136900,2237700,1573300,1593300,3174400,1264500,1345500,2670600,1669000,2245800,2936900,2435100,3050500,2172800,1540500,2469600,2410200,1940200,1819200,2007200,2538900,1924300,2310700,2284200,2044900,1627600,2318700,2182700,2482000,2199000,5756600,8159300,5692100,3023900,2669500,3294600,3058400,2197800,1929100,1821100,2092500,1636400,2407300,2002300,1611500,1868000,2207400,1994500,2677300,2328800,1535900,2099400,1824400,2102100,4835100,3353800,5973500,3075400,3051900,3178100,1891300,3581900,2605700,1906700,2968300,3057900,2432700,2339900,2095800,1758500,1410400,2661100,3224200,1954200,2344900,3001200,2496900,2076200,2346700,2011300,2227900,1581600,1350200,1692300,1920900,2519500,1655500,1189500,2345900,2161800,1715100,1923100,3499300,2309800,1976000,1462600,1680100,1548200,4674700,6463700,3561700,2009400,1823000,1685200,3549700,2186700,1865600,1844600,1977700,1897100,1782400,1981800,1322200,1070300,1434600,3267900,3661700,2410700,1717700,2177700,1758100,2222200,1909200,1784200,1426600,2613700,2058600,2990300,1626900,2127100,1889600,1708200,3043500,3233000,2560000,1873800,2642300,2659000,2618500,1508300,2066800,3098300,2907400,6359100,3563800,6058500,5672900,3931100,2783500,3168000,2790200,2208300,2454200,2735900,1958600,3003200,2039900,2383900,2404200,3019100,2058200,2292900,12442400,11482200,4055600,2916600,2496500,2401100,1950800,1537000,2050100,2324400,1635900,1582800,2232300,2597000,3114100,1405900,1594200,1668400,1848900,3438200,2368200,2088700,2112200,922500,2204600,2508700,3042000,2776500,3163600,2192500,1991700,1862400,1462300,1919300,1366700,2687600,2426000,3444900,2130100,3035400,3004900,1918600,1657000,3526000,840900,1182400,1647400,1402000,1997400,2541300,2318200,2763500,1655700,1676100,2024700,1835700,1285200,2863900,3927700,2023400,2211500,3226800,3792400,5909100,3382700,2225900,1627100,1747100,1733000,1634200,3746100,3040500,1870700,2078100,2840200,3020100,2167700,1859000,1198200,1735300,2729800,2931800,2764200,3506400,2053900,2303900,2202500,2026100,2265800,2175400],\"datetime\":{\"__ndarray__\":\"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\",\"dtype\":\"float64\",\"order\":\"little\",\"shape\":[2148]},\"equity\":{\"__ndarray__\":\"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\",\"dtype\":\"float64\",\"order\":\"little\",\"shape\":[2148]},\"inc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index\":[0,1,2,3,4,5,6,7,8,9,10,11,12,13,14,15,16,17,18,19,20,21,22,23,24,25,26,27,28,29,30,31,32,33,34,35,36,37,38,39,40,41,42,43,44,45,46,47,48,49,50,51,52,53,54,55,56,57,58,59,60,61,62,63,64,65,66,67,68,69,70,71,72,73,74,75,76,77,78,79,80,81,82,83,84,85,86,87,88,89,90,91,92,93,94,95,96,97,98,99,100,101,102,103,104,105,106,107,108,109,110,111,112,113,114,115,116,117,118,119,120,121,122,123,124,125,126,127,128,129,130,131,132,133,134,135,136,137,138,139,140,141,142,143,144,145,146,147,148,149,150,151,152,153,154,155,156,157,158,159,160,161,162,163,164,165,166,167,168,169,170,171,172,173,174,175,176,177,178,179,180,181,182,183,184,185,186,187,188,189,190,191,192,193,194,195,196,197,198,199,200,201,202,203,204,205,206,207,208,209,210,211,212,213,214,215,216,217,218,219,220,221,222,223,224,225,226,227,228,229,230,231,232,233,234,235,236,237,238,239,240,241,242,243,244,245,246,247,248,249,250,251,252,253,254,255,256,257,258,259,260,261,262,263,264,265,266,267,268,269,270,271,272,273,274,275,276,277,278,279,280,281,282,283,284,285,286,287,288,289,290,291,292,293,294,295,296,297,298,299,300,301,302,303,304,305,306,307,308,309,310,311,312,313,314,315,316,317,318,319,320,321,322,323,324,325,326,327,328,329,330,331,332,333,334,335,336,337,338,339,340,341,342,343,344,345,346,347,348,349,350,351,352,353,354,355,356,357,358,359,360,361,362,363,364,365,366,367,368,369,370,371,372,373,374,375,376,377,378,379,380,381,382,383,384,385,386,387,388,389,390,391,392,393,394,395,396,397,398,399,400,401,402,403,404,405,406,407,408,409,410,411,412,413,414,415,416,417,418,419,420,421,422,423,424,425,426,427,428,429,430,431,432,433,434,435,436,437,438,439,440,441,442,443,444,445,446,447,448,449,450,451,452,453,454,455,456,457,458,459,460,461,462,463,464,465,466,467,468,469,470,471,472,473,474,475,476,477,478,479,480,481,482,483,484,485,486,487,488,489,490,491,492,493,494,495,496,497,498,499,500,501,502,503,504,505,506,507,508,509,510,511,512,513,514,515,516,517,518,519,520,521,522,523,524,525,526,527,528,529,530,531,532,533,534,535,536,537,538,539,540,541,542,543,544,545,546,547,548,549,550,551,552,553,554,555,556,557,558,559,560,561,562,563,564,565,566,567,568,569,570,571,572,573,574,575,576,577,578,579,580,581,582,583,584,585,586,587,588,589,590,591,592,593,594,595,596,597,598,599,600,601,602,603,604,605,606,607,608,609,610,611,612,613,614,615,616,617,618,619,620,621,622,623,624,625,626,627,628,629,630,631,632,633,634,635,636,637,638,639,640,641,642,643,644,645,646,647,648,649,650,651,652,653,654,655,656,657,658,659,660,661,662,663,664,665,666,667,668,669,670,671,672,673,674,675,676,677,678,679,680,681,682,683,684,685,686,687,688,689,690,691,692,693,694,695,696,697,698,699,700,701,702,703,704,705,706,707,708,709,710,711,712,713,714,715,716,717,718,719,720,721,722,723,724,725,726,727,728,729,730,731,732,733,734,735,736,737,738,739,740,741,742,743,744,745,746,747,748,749,750,751,752,753,754,755,756,757,758,759,760,761,762,763,764,765,766,767,768,769,770,771,772,773,774,775,776,777,778,779,780,781,782,783,784,785,786,787,788,789,790,791,792,793,794,795,796,797,798,799,800,801,802,803,804,805,806,807,808,809,810,811,812,813,814,815,816,817,818,819,820,821,822,823,824,825,826,827,828,829,830,831,832,833,834,835,836,837,838,839,840,841,842,843,844,845,846,847,848,849,850,851,852,853,854,855,856,857,858,859,860,861,862,863,864,865,866,867,868,869,870,871,872,873,874,875,876,877,878,879,880,881,882,883,884,885,886,887,888,889,890,891,892,893,894,895,896,897,898,899,900,901,902,903,904,905,906,907,908,909,910,911,912,913,914,915,916,917,918,919,920,921,922,923,924,925,926,927,928,929,930,931,932,933,934,935,936,937,938,939,940,941,942,943,944,945,946,947,948,949,950,951,952,953,954,955,956,957,958,959,960,961,962,963,964,965,966,967,968,969,970,971,972,973,974,975,976,977,978,979,980,981,982,983,984,985,986,987,988,989,990,991,992,993,994,995,996,997,998,999,1000,1001,1002,1003,1004,1005,1006,1007,1008,1009,1010,1011,1012,1013,1014,1015,1016,1017,1018,1019,1020,1021,1022,1023,1024,1025,1026,1027,1028,1029,1030,1031,1032,1033,1034,1035,1036,1037,1038,1039,1040,1041,1042,1043,1044,1045,1046,1047,1048,1049,1050,1051,1052,1053,1054,1055,1056,1057,1058,1059,1060,1061,1062,1063,1064,1065,1066,1067,1068,1069,1070,1071,1072,1073,1074,1075,1076,1077,1078,1079,1080,1081,1082,1083,1084,1085,1086,1087,1088,1089,1090,1091,1092,1093,1094,1095,1096,1097,1098,1099,1100,1101,1102,1103,1104,1105,1106,1107,1108,1109,1110,1111,1112,1113,1114,1115,1116,1117,1118,1119,1120,1121,1122,1123,1124,1125,1126,1127,1128,1129,1130,1131,1132,1133,1134,1135,1136,1137,1138,1139,1140,1141,1142,1143,1144,1145,1146,1147,1148,1149,1150,1151,1152,1153,1154,1155,1156,1157,1158,1159,1160,1161,1162,1163,1164,1165,1166,1167,1168,1169,1170,1171,1172,1173,1174,1175,1176,1177,1178,1179,1180,1181,1182,1183,1184,1185,1186,1187,1188,1189,1190,1191,1192,1193,1194,1195,1196,1197,1198,1199,1200,1201,1202,1203,1204,1205,1206,1207,1208,1209,1210,1211,1212,1213,1214,1215,1216,1217,1218,1219,1220,1221,1222,1223,1224,1225,1226,1227,1228,1229,1230,1231,1232,1233,1234,1235,1236,1237,1238,1239,1240,1241,1242,1243,1244,1245,1246,1247,1248,1249,1250,1251,1252,1253,1254,1255,1256,1257,1258,1259,1260,1261,1262,1263,1264,1265,1266,1267,1268,1269,1270,1271,1272,1273,1274,1275,1276,1277,1278,1279,1280,1281,1282,1283,1284,1285,1286,1287,1288,1289,1290,1291,1292,1293,1294,1295,1296,1297,1298,1299,1300,1301,1302,1303,1304,1305,1306,1307,1308,1309,1310,1311,1312,1313,1314,1315,1316,1317,1318,1319,1320,1321,1322,1323,1324,1325,1326,1327,1328,1329,1330,1331,1332,1333,1334,1335,1336,1337,1338,1339,1340,1341,1342,1343,1344,1345,1346,1347,1348,1349,1350,1351,1352,1353,1354,1355,1356,1357,1358,1359,1360,1361,1362,1363,1364,1365,1366,1367,1368,1369,1370,1371,1372,1373,1374,1375,1376,1377,1378,1379,1380,1381,1382,1383,1384,1385,1386,1387,1388,1389,1390,1391,1392,1393,1394,1395,1396,1397,1398,1399,1400,1401,1402,1403,1404,1405,1406,1407,1408,1409,1410,1411,1412,1413,1414,1415,1416,1417,1418,1419,1420,1421,1422,1423,1424,1425,1426,1427,1428,1429,1430,1431,1432,1433,1434,1435,1436,1437,1438,1439,1440,1441,1442,1443,1444,1445,1446,1447,1448,1449,1450,1451,1452,1453,1454,1455,1456,1457,1458,1459,1460,1461,1462,1463,1464,1465,1466,1467,1468,1469,1470,1471,1472,1473,1474,1475,1476,1477,1478,1479,1480,1481,1482,1483,1484,1485,1486,1487,1488,1489,1490,1491,1492,1493,1494,1495,1496,1497,1498,1499,1500,1501,1502,1503,1504,1505,1506,1507,1508,1509,1510,1511,1512,1513,1514,1515,1516,1517,1518,1519,1520,1521,1522,1523,1524,1525,1526,1527,1528,1529,1530,1531,1532,1533,1534,1535,1536,1537,1538,1539,1540,1541,1542,1543,1544,1545,1546,1547,1548,1549,1550,1551,1552,1553,1554,1555,1556,1557,1558,1559,1560,1561,1562,1563,1564,1565,1566,1567,1568,1569,1570,1571,1572,1573,1574,1575,1576,1577,1578,1579,1580,1581,1582,1583,1584,1585,1586,1587,1588,1589,1590,1591,1592,1593,1594,1595,1596,1597,1598,1599,1600,1601,1602,1603,1604,1605,1606,1607,1608,1609,1610,1611,1612,1613,1614,1615,1616,1617,1618,1619,1620,1621,1622,1623,1624,1625,1626,1627,1628,1629,1630,1631,1632,1633,1634,1635,1636,1637,1638,1639,1640,1641,1642,1643,1644,1645,1646,1647,1648,1649,1650,1651,1652,1653,1654,1655,1656,1657,1658,1659,1660,1661,1662,1663,1664,1665,1666,1667,1668,1669,1670,1671,1672,1673,1674,1675,1676,1677,1678,1679,1680,1681,1682,1683,1684,1685,1686,1687,1688,1689,1690,1691,1692,1693,1694,1695,1696,1697,1698,1699,1700,1701,1702,1703,1704,1705,1706,1707,1708,1709,1710,1711,1712,1713,1714,1715,1716,1717,1718,1719,1720,1721,1722,1723,1724,1725,1726,1727,1728,1729,1730,1731,1732,1733,1734,1735,1736,1737,1738,1739,1740,1741,1742,1743,1744,1745,1746,1747,1748,1749,1750,1751,1752,1753,1754,1755,1756,1757,1758,1759,1760,1761,1762,1763,1764,1765,1766,1767,1768,1769,1770,1771,1772,1773,1774,1775,1776,1777,1778,1779,1780,1781,1782,1783,1784,1785,1786,1787,1788,1789,1790,1791,1792,1793,1794,1795,1796,1797,1798,1799,1800,1801,1802,1803,1804,1805,1806,1807,1808,1809,1810,1811,1812,1813,1814,1815,1816,1817,1818,1819,1820,1821,1822,1823,1824,1825,1826,1827,1828,1829,1830,1831,1832,1833,1834,1835,1836,1837,1838,1839,1840,1841,1842,1843,1844,1845,1846,1847,1848,1849,1850,1851,1852,1853,1854,1855,1856,1857,1858,1859,1860,1861,1862,1863,1864,1865,1866,1867,1868,1869,1870,1871,1872,1873,1874,1875,1876,1877,1878,1879,1880,1881,1882,1883,1884,1885,1886,1887,1888,1889,1890,1891,1892,1893,1894,1895,1896,1897,1898,1899,1900,1901,1902,1903,1904,1905,1906,1907,1908,1909,1910,1911,1912,1913,1914,1915,1916,1917,1918,1919,1920,1921,1922,1923,1924,1925,1926,1927,1928,1929,1930,1931,1932,1933,1934,1935,1936,1937,1938,1939,1940,1941,1942,1943,1944,1945,1946,1947,1948,1949,1950,1951,1952,1953,1954,1955,1956,1957,1958,1959,1960,1961,1962,1963,1964,1965,1966,1967,1968,1969,1970,1971,1972,1973,1974,1975,1976,1977,1978,1979,1980,1981,1982,1983,1984,1985,1986,1987,1988,1989,1990,1991,1992,1993,1994,1995,1996,1997,1998,1999,2000,2001,2002,2003,2004,2005,2006,2007,2008,2009,2010,2011,2012,2013,2014,2015,2016,2017,2018,2019,2020,2021,2022,2023,2024,2025,2026,2027,2028,2029,2030,2031,2032,2033,2034,2035,2036,2037,2038,2039,2040,2041,2042,2043,2044,2045,2046,2047,2048,2049,2050,2051,2052,2053,2054,2055,2056,2057,2058,2059,2060,2061,2062,2063,2064,2065,2066,2067,2068,2069,2070,2071,2072,2073,2074,2075,2076,2077,2078,2079,2080,2081,2082,2083,2084,2085,2086,2087,2088,2089,2090,2091,2092,2093,2094,2095,2096,2097,2098,2099,2100,2101,2102,2103,2104,2105,2106,2107,2108,2109,2110,2111,2112,2113,2114,2115,2116,2117,2118,2119,2120,2121,2122,2123,2124,2125,2126,2127,2128,2129,2130,2131,2132,2133,2134,2135,2136,2137,2138,2139,2140,2141,2142,2143,2144,2145,2146,2147],\"ohlc_high\":{\"__ndarray__\":\"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\",\"dtype\":\"float64\",\"order\":\"little\",\"shape\":[2148]},\"ohlc_low\":{\"__ndarray__\":\"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\",\"dtype\":\"float64\",\"order\":\"little\",\"shape\":[2148]}},\"selected\":{\"id\":\"1105\"},\"selection_policy\":{\"id\":\"1106\"}},\"id\":\"1035\",\"type\":\"ColumnDataSource\"},{\"attributes\":{\"factors\":[\"0\",\"1\"],\"palette\":[\"tomato\",\"lime\"]},\"id\":\"1037\",\"type\":\"CategoricalColorMapper\"},{\"attributes\":{\"toolbar\":{\"id\":\"1431\"}},\"id\":\"1432\",\"type\":\"ToolbarBox\"},{\"attributes\":{},\"id\":\"1251\",\"type\":\"UndoTool\"},{\"attributes\":{\"dimensions\":\"width\"},\"id\":\"1248\",\"type\":\"PanTool\"},{\"attributes\":{},\"id\":\"1303\",\"type\":\"AllLabels\"},{\"attributes\":{},\"id\":\"1253\",\"type\":\"ResetTool\"},{\"attributes\":{\"dimensions\":\"width\",\"maintain_focus\":false},\"id\":\"1249\",\"type\":\"WheelZoomTool\"},{\"attributes\":{},\"id\":\"1254\",\"type\":\"SaveTool\"},{\"attributes\":{},\"id\":\"1009\",\"type\":\"LinearScale\"},{\"attributes\":{\"line_alpha\":{\"value\":0.1},\"line_color\":{\"value\":\"#bbbbbb\"},\"x0\":{\"field\":\"index\"},\"x1\":{\"field\":\"index\"},\"y0\":{\"field\":\"High\"},\"y1\":{\"field\":\"Low\"}},\"id\":\"1277\",\"type\":\"Segment\"},{\"attributes\":{},\"id\":\"1314\",\"type\":\"UnionRenderers\"},{\"attributes\":{\"border_line_color\":\"#333333\",\"click_policy\":\"hide\",\"items\":[{\"id\":\"1316\"},{\"id\":\"1336\"},{\"id\":\"1356\"}],\"label_text_font_size\":\"8pt\",\"location\":\"top_left\",\"margin\":0,\"padding\":5,\"spacing\":0},\"id\":\"1315\",\"type\":\"Legend\"},{\"attributes\":{\"label\":{\"value\":\"Trades (94)\"},\"renderers\":[{\"id\":\"1299\"}]},\"id\":\"1316\",\"type\":\"LegendItem\"},{\"attributes\":{\"source\":{\"id\":\"1274\"}},\"id\":\"1279\",\"type\":\"CDSView\"},{\"attributes\":{\"fill_color\":{\"field\":\"inc\",\"transform\":{\"id\":\"1037\"}},\"line_color\":{\"field\":\"inc\",\"transform\":{\"id\":\"1037\"}},\"top\":{\"field\":\"Volume\"},\"width\":{\"value\":0.8},\"x\":{\"field\":\"index\"}},\"id\":\"1266\",\"type\":\"VBar\"},{\"attributes\":{\"bounds\":[-107.35,2254.35],\"end\":2147,\"js_property_callbacks\":{\"change:end\":[{\"id\":\"1359\"}]},\"min_interval\":10},\"id\":\"1002\",\"type\":\"Range1d\"},{\"attributes\":{},\"id\":\"1309\",\"type\":\"Selection\"},{\"attributes\":{\"axis\":{\"id\":\"1011\"},\"ticker\":null},\"id\":\"1014\",\"type\":\"Grid\"},{\"attributes\":{\"formatter\":{\"id\":\"1041\"},\"major_label_policy\":{\"id\":\"1306\"},\"ticker\":{\"id\":\"1012\"},\"visible\":false},\"id\":\"1011\",\"type\":\"LinearAxis\"},{\"attributes\":{\"data_source\":{\"id\":\"1274\"},\"glyph\":{\"id\":\"1276\"},\"hover_glyph\":null,\"muted_glyph\":null,\"nonselection_glyph\":{\"id\":\"1277\"},\"view\":{\"id\":\"1279\"}},\"id\":\"1278\",\"type\":\"GlyphRenderer\"}],\"root_ids\":[\"1433\"]},\"title\":\"Bokeh Application\",\"version\":\"2.3.3\"}};\n",
              "  var render_items = [{\"docid\":\"1d4f102d-3c72-4351-8c27-5fa389403ff2\",\"root_ids\":[\"1433\"],\"roots\":{\"1433\":\"013c14aa-fea9-407b-b1f5-710a16358aae\"}}];\n",
              "  root.Bokeh.embed.embed_items_notebook(docs_json, render_items);\n",
              "\n",
              "  }\n",
              "  if (root.Bokeh !== undefined) {\n",
              "    embed_document(root);\n",
              "  } else {\n",
              "    var attempts = 0;\n",
              "    var timer = setInterval(function(root) {\n",
              "      if (root.Bokeh !== undefined) {\n",
              "        clearInterval(timer);\n",
              "        embed_document(root);\n",
              "      } else {\n",
              "        attempts++;\n",
              "        if (attempts > 100) {\n",
              "          clearInterval(timer);\n",
              "          console.log(\"Bokeh: ERROR: Unable to run BokehJS code because BokehJS library is missing\");\n",
              "        }\n",
              "      }\n",
              "    }, 10, root)\n",
              "  }\n",
              "})(window);"
            ],
            "application/vnd.bokehjs_exec.v0+json": ""
          },
          "metadata": {
            "application/vnd.bokehjs_exec.v0+json": {
              "id": "1433"
            }
          }
        },
        {
          "output_type": "execute_result",
          "data": {
            "text/plain": [
              "Row(id='1433', ...)"
            ],
            "text/html": [
              "<div style=\"display: table;\"><div style=\"display: table-row;\"><div style=\"display: table-cell;\"><b title=\"bokeh.models.layouts.Row\">Row</b>(</div><div style=\"display: table-cell;\">id&nbsp;=&nbsp;'1433', <span id=\"1717\" style=\"cursor: pointer;\">&hellip;)</span></div></div><div class=\"1716\" style=\"display: none;\"><div style=\"display: table-cell;\"></div><div style=\"display: table-cell;\">align&nbsp;=&nbsp;'start',</div></div><div class=\"1716\" style=\"display: none;\"><div style=\"display: table-cell;\"></div><div style=\"display: table-cell;\">aspect_ratio&nbsp;=&nbsp;None,</div></div><div class=\"1716\" style=\"display: none;\"><div style=\"display: table-cell;\"></div><div style=\"display: table-cell;\">background&nbsp;=&nbsp;None,</div></div><div class=\"1716\" style=\"display: none;\"><div style=\"display: table-cell;\"></div><div style=\"display: table-cell;\">children&nbsp;=&nbsp;[GridBox(id='1430', ...), ToolbarBox(id='1432', ...)],</div></div><div class=\"1716\" style=\"display: none;\"><div style=\"display: table-cell;\"></div><div style=\"display: table-cell;\">cols&nbsp;=&nbsp;'auto',</div></div><div class=\"1716\" style=\"display: none;\"><div style=\"display: table-cell;\"></div><div style=\"display: table-cell;\">css_classes&nbsp;=&nbsp;[],</div></div><div class=\"1716\" style=\"display: none;\"><div style=\"display: table-cell;\"></div><div style=\"display: table-cell;\">disabled&nbsp;=&nbsp;False,</div></div><div class=\"1716\" style=\"display: none;\"><div style=\"display: table-cell;\"></div><div style=\"display: table-cell;\">height&nbsp;=&nbsp;None,</div></div><div class=\"1716\" style=\"display: none;\"><div style=\"display: table-cell;\"></div><div style=\"display: table-cell;\">height_policy&nbsp;=&nbsp;'auto',</div></div><div class=\"1716\" style=\"display: none;\"><div style=\"display: table-cell;\"></div><div style=\"display: table-cell;\">js_event_callbacks&nbsp;=&nbsp;{},</div></div><div class=\"1716\" style=\"display: none;\"><div style=\"display: table-cell;\"></div><div style=\"display: table-cell;\">js_property_callbacks&nbsp;=&nbsp;{},</div></div><div class=\"1716\" style=\"display: none;\"><div style=\"display: table-cell;\"></div><div style=\"display: table-cell;\">margin&nbsp;=&nbsp;(0, 0, 0, 0),</div></div><div class=\"1716\" style=\"display: none;\"><div style=\"display: table-cell;\"></div><div style=\"display: table-cell;\">max_height&nbsp;=&nbsp;None,</div></div><div class=\"1716\" style=\"display: none;\"><div style=\"display: table-cell;\"></div><div style=\"display: table-cell;\">max_width&nbsp;=&nbsp;None,</div></div><div class=\"1716\" style=\"display: none;\"><div style=\"display: table-cell;\"></div><div style=\"display: table-cell;\">min_height&nbsp;=&nbsp;None,</div></div><div class=\"1716\" style=\"display: none;\"><div style=\"display: table-cell;\"></div><div style=\"display: table-cell;\">min_width&nbsp;=&nbsp;None,</div></div><div class=\"1716\" style=\"display: none;\"><div style=\"display: table-cell;\"></div><div style=\"display: table-cell;\">name&nbsp;=&nbsp;None,</div></div><div class=\"1716\" style=\"display: none;\"><div style=\"display: table-cell;\"></div><div style=\"display: table-cell;\">sizing_mode&nbsp;=&nbsp;'stretch_width',</div></div><div class=\"1716\" style=\"display: none;\"><div style=\"display: table-cell;\"></div><div style=\"display: table-cell;\">spacing&nbsp;=&nbsp;0,</div></div><div class=\"1716\" style=\"display: none;\"><div style=\"display: table-cell;\"></div><div style=\"display: table-cell;\">subscribed_events&nbsp;=&nbsp;[],</div></div><div class=\"1716\" style=\"display: none;\"><div style=\"display: table-cell;\"></div><div style=\"display: table-cell;\">syncable&nbsp;=&nbsp;True,</div></div><div class=\"1716\" style=\"display: none;\"><div style=\"display: table-cell;\"></div><div style=\"display: table-cell;\">tags&nbsp;=&nbsp;[],</div></div><div class=\"1716\" style=\"display: none;\"><div style=\"display: table-cell;\"></div><div style=\"display: table-cell;\">visible&nbsp;=&nbsp;True,</div></div><div class=\"1716\" style=\"display: none;\"><div style=\"display: table-cell;\"></div><div style=\"display: table-cell;\">width&nbsp;=&nbsp;None,</div></div><div class=\"1716\" style=\"display: none;\"><div style=\"display: table-cell;\"></div><div style=\"display: table-cell;\">width_policy&nbsp;=&nbsp;'auto')</div></div></div>\n",
              "<script>\n",
              "(function() {\n",
              "  var expanded = false;\n",
              "  var ellipsis = document.getElementById(\"1717\");\n",
              "  ellipsis.addEventListener(\"click\", function() {\n",
              "    var rows = document.getElementsByClassName(\"1716\");\n",
              "    for (var i = 0; i < rows.length; i++) {\n",
              "      var el = rows[i];\n",
              "      el.style.display = expanded ? \"none\" : \"table-row\";\n",
              "    }\n",
              "    ellipsis.innerHTML = expanded ? \"&hellip;)\" : \"&lsaquo;&lsaquo;&lsaquo;\";\n",
              "    expanded = !expanded;\n",
              "  });\n",
              "})();\n",
              "</script>\n"
            ]
          },
          "metadata": {},
          "execution_count": 3
        }
      ],
      "id": "rA_TLi42YjXN"
    },
    {
      "cell_type": "code",
      "source": [
        "print(stats) #백테스팅 결과 출력"
      ],
      "metadata": {
        "colab": {
          "base_uri": "https://localhost:8080/"
        },
        "id": "b0Gp6s41ZPPQ",
        "outputId": "f9a46335-6a77-494d-923e-cf1ece504857"
      },
      "execution_count": null,
      "outputs": [
        {
          "output_type": "stream",
          "name": "stdout",
          "text": [
            "Start                     2004-08-19 00:00:00\n",
            "End                       2013-03-01 00:00:00\n",
            "Duration                   3116 days 00:00:00\n",
            "Exposure Time [%]                   97.067039\n",
            "Equity Final [$]                  68221.96986\n",
            "Equity Peak [$]                   68991.21986\n",
            "Return [%]                         582.219699\n",
            "Buy & Hold Return [%]              703.458242\n",
            "Return (Ann.) [%]                   25.266427\n",
            "Volatility (Ann.) [%]               38.383008\n",
            "Sharpe Ratio                         0.658271\n",
            "Sortino Ratio                        1.288779\n",
            "Calmar Ratio                         0.763748\n",
            "Max. Drawdown [%]                  -33.082172\n",
            "Avg. Drawdown [%]                   -5.581506\n",
            "Max. Drawdown Duration      688 days 00:00:00\n",
            "Avg. Drawdown Duration       41 days 00:00:00\n",
            "# Trades                                   94\n",
            "Win Rate [%]                        54.255319\n",
            "Best Trade [%]                       57.11931\n",
            "Worst Trade [%]                    -16.629898\n",
            "Avg. Trade [%]                       2.074326\n",
            "Max. Trade Duration         121 days 00:00:00\n",
            "Avg. Trade Duration          33 days 00:00:00\n",
            "Profit Factor                        2.190805\n",
            "Expectancy [%]                       2.606294\n",
            "SQN                                  1.990216\n",
            "_strategy                            SmaCross\n",
            "_equity_curve                             ...\n",
            "_trades                       Size  EntryB...\n",
            "dtype: object\n"
          ]
        }
      ],
      "id": "b0Gp6s41ZPPQ"
    },
    {
      "cell_type": "markdown",
      "source": [
        "# Backtrader Labrary\n",
        "* ref: https://github.com/mementum/backtrader"
      ],
      "metadata": {
        "id": "0CoyFdSGbd5T"
      },
      "id": "0CoyFdSGbd5T"
    },
    {
      "cell_type": "code",
      "source": [
        "#pip install backtrader"
      ],
      "metadata": {
        "id": "56WeP4mkcceJ"
      },
      "execution_count": null,
      "outputs": [],
      "id": "56WeP4mkcceJ"
    },
    {
      "cell_type": "markdown",
      "source": [
        "## 구동 테스트"
      ],
      "metadata": {
        "id": "6pcDyPVqd_wR"
      },
      "id": "6pcDyPVqd_wR"
    },
    {
      "cell_type": "code",
      "source": [
        "from __future__ import (absolute_import, division, print_function, unicode_literals)\n",
        "\n",
        "import backtrader as bt\n",
        "\n",
        "if __name__ == '__main__':\n",
        "    cerebro = bt.Cerebro()\n",
        "\n",
        "    # -----------------------------------------\n",
        "    # 투자금 설정\n",
        "    # -----------------------------------------\n",
        "    cerebro.broker.setcash(100000.0)\n",
        "\n",
        "    # 마지막 잔액\n",
        "    print('Starting Portfolio Value: %.2f' % cerebro.broker.getvalue())\n",
        "    cerebro.run()\n",
        "    print('Final Portfolio Value: %.2f' % cerebro.broker.getvalue())"
      ],
      "metadata": {
        "colab": {
          "base_uri": "https://localhost:8080/"
        },
        "id": "fj3qSd6zcimt",
        "outputId": "d6a40d20-9c61-4495-cb80-5571fb8a59f8"
      },
      "execution_count": null,
      "outputs": [
        {
          "output_type": "stream",
          "name": "stdout",
          "text": [
            "Starting Portfolio Value: 100000.00\n",
            "Final Portfolio Value: 100000.00\n"
          ]
        }
      ],
      "id": "fj3qSd6zcimt"
    },
    {
      "cell_type": "code",
      "source": [
        "if __name__ == '__main__':\n",
        "    cerebro = bt.Cerebro()\n",
        "\n",
        "    print('Starting Portfolio Value: %.2f' % cerebro.broker.getvalue())\n",
        "\n",
        "    cerebro.run()\n",
        "\n",
        "    print('Final Portfolio Value: %.2f' % cerebro.broker.getvalue())"
      ],
      "metadata": {
        "colab": {
          "base_uri": "https://localhost:8080/"
        },
        "id": "sDmERzcfdmp3",
        "outputId": "d1ecd94f-e285-43ae-e71a-1790879332b9"
      },
      "execution_count": null,
      "outputs": [
        {
          "output_type": "stream",
          "name": "stdout",
          "text": [
            "Starting Portfolio Value: 10000.00\n",
            "Final Portfolio Value: 10000.00\n"
          ]
        }
      ],
      "id": "sDmERzcfdmp3"
    },
    {
      "cell_type": "code",
      "source": [
        "#pip install pykrx"
      ],
      "metadata": {
        "id": "FdP-9D8Fd0iZ"
      },
      "execution_count": null,
      "outputs": [],
      "id": "FdP-9D8Fd0iZ"
    },
    {
      "cell_type": "code",
      "source": [
        "import backtrader as bt\n",
        "from pykrx import stock\n",
        "import pandas as pd\n",
        "\n",
        "\"\"\"\n",
        "다음과 같은 에러 발생\n",
        "        ImportError: cannot import name 'warnings' from 'matplotlib.dates' (C:\\AI\\pythonProject\\venv\\lib\\site-packages\\matplotlib\\dates.py)\n",
        "해결책  : 현재  matplotlib 3.5.1  --> 3.2.2로 버전 다운\n",
        "        pip install -U matplotlib==3.2.2 \n",
        "\"\"\"\n",
        "\n",
        "\n",
        "# 볼린저밴드 : 20일 이동평균선을 기준으로 주가가 어느 위치에 있는지 알려주는 지표\n",
        "# 상단선: 20일 이동평균선 + 2 * 표준편차\n",
        "# 하단선: 20일 이동평균선 - 2 * 표준편차\n",
        "\n",
        "class SmaCross(bt.Strategy): # bt.Strategy를 상속한 class로 생성해야 함.\n",
        "    params = ( (\"period\", 20), (\"devfactor\", 2), (\"debug\", False) )\n",
        "\n",
        "    def log(self, txt, dt=None): # 기록 함수\n",
        "        ''' Logging function fot this strategy'''\n",
        "        dt = dt or self.data.datetime[0]\n",
        "        if isinstance(dt, float):\n",
        "                dt = bt.num2date(dt)\n",
        "                print('%s, %s' % (dt.isoformat(), txt))\n",
        "\n",
        "    def __init__(self): # 생성자 함수 #볼린저밴드\n",
        "        self.boll = bt.indicators.BollingerBands(period=self.p.period, devfactor=self.p.devfactor, plot=True)\n",
        "\n",
        "    # https://jsp-dev.tistory.com/entry/PythonBacktrader-%EB%8B%A4%EC%A4%91-%EB%8D%B0%EC%9D%B4%ED%84%B0-%EB%B0%B1%ED%85%8C%EC%8A%A4%ED%8C%85-Python-sqlite3backtrader-Mutliple-Data-Feeds-Pandas-DataFrame-to-Backtrader\n",
        "    def next(self):  #전략 함수\n",
        "        global size\n",
        "        if not self.position: # not in the market # 포지션이 없으면(매수/매도가 없음)\n",
        "            if self.data.low[0] < self.boll.lines.bot[0]: #저가가 볼린저밴드 라인의 바닥보다 아래에 있냐?\n",
        "                bottom = self.boll.lines.bot[0]\n",
        "                size = int(self.broker.getcash() / bottom)\n",
        "                # 최대 구매 가능 개수\n",
        "                self.buy(price=bottom, size=size) #매수\n",
        "                # 매수 size = 구매 개수 설정\n",
        "                self.log('BUY CREATE, %.2f' % (bottom))\n",
        "                print(size, 'EA')\n",
        "        else: #포지션이 있는 경우\n",
        "            if self.data.high[0] > self.boll.lines.mid[0]: #고가가 볼린저밴드 상단선보다 위에 있냐?\n",
        "                self.sell(price=self.boll.lines.mid[0],size=size)\n",
        "                # 매도\n",
        "                self.log('SELL CREATE, %.2f' % (self.boll.lines.mid[0]))\n",
        "                print(size, 'EA')\n",
        "#--------------------------------------------------------------------\n",
        "\n",
        "size=0\n",
        "ticker =  \"005930\"\n",
        "# 전체 종목코드와 종목명 가져오기\n",
        "# df = df.rename(columns={'시가':'open', '고가':'high', '저가':'low', '종가':'close', '거래량':'volume'})\n",
        "# df[\"open\"]=df[\"open\"].apply(pd.to_numeric,errors=\"coerce\")\n",
        "\n",
        "from pykrx import stock\n",
        "df = stock.get_market_ohlcv(\"2018-04-28\", \"2021-05-10\", ticker)\n",
        "df.columns = [\"open\",\"high\",\"low\",\"close\",\"volume\"]\n",
        "\n",
        "data = bt.feeds.PandasData(dataname=df) #데이터 넣어주기\n",
        "cerebro = bt.Cerebro() #백테스팅 총괄자 class\n",
        "\n",
        "cerebro.broker.setcash(1000000)             #------------------- 투자금액 설정\n",
        "cerebro.broker.setcommission(0.00015)       #------------------- 0.015% 수수료\n",
        "\n",
        "for idx, ticker in enumerate(['005930','035720']): #for문으로 기업 데이터 input\n",
        "    cerebro.adddata(data, name=ticker)                       #------------------- Add the data feed\n",
        "\n",
        "\n",
        "cerebro.addstrategy(SmaCross)               #------------------- Add the trading strategy\n",
        "cerebro.run()                               #------------------- run it all\n",
        "\n",
        "# cerebro.plot(style='candlestick',barup='red',bardown='blue',xtight=True,ytight=True, grid=True)\n"
      ],
      "metadata": {
        "colab": {
          "base_uri": "https://localhost:8080/"
        },
        "id": "DEYlQteXdoX_",
        "outputId": "e10e6f96-4311-4846-b860-df5a48f37b67"
      },
      "execution_count": null,
      "outputs": [
        {
          "output_type": "stream",
          "name": "stdout",
          "text": [
            "2018-06-29T00:00:00, BUY CREATE, 48618.02\n",
            "20 EA\n",
            "2018-08-31T00:00:00, SELL CREATE, 47972.50\n",
            "20 EA\n",
            "2018-09-12T00:00:00, BUY CREATE, 44596.24\n",
            "23 EA\n",
            "2018-09-20T00:00:00, SELL CREATE, 46490.00\n",
            "23 EA\n",
            "2018-10-04T00:00:00, BUY CREATE, 44946.62\n",
            "24 EA\n",
            "2019-01-30T00:00:00, SELL CREATE, 45950.00\n",
            "24 EA\n",
            "2019-03-07T00:00:00, BUY CREATE, 43898.68\n",
            "25 EA\n",
            "2019-03-21T00:00:00, SELL CREATE, 45505.00\n",
            "25 EA\n",
            "2020-03-20T00:00:00, BUY CREATE, 43626.40\n",
            "26 EA\n",
            "2020-03-24T00:00:00, SELL CREATE, 45865.00\n",
            "26 EA\n"
          ]
        },
        {
          "output_type": "execute_result",
          "data": {
            "text/plain": [
              "[<__main__.SmaCross at 0x7f52418d4890>]"
            ]
          },
          "metadata": {},
          "execution_count": 12
        }
      ],
      "id": "DEYlQteXdoX_"
    },
    {
      "cell_type": "code",
      "execution_count": null,
      "metadata": {
        "id": "OmLTJ-7VJC8B"
      },
      "outputs": [],
      "source": [
        "<img  width=\"700\" height=\"\" src=\"url\">"
      ],
      "id": "OmLTJ-7VJC8B"
    },
    {
      "cell_type": "markdown",
      "id": "inclusive-puzzle",
      "metadata": {
        "id": "inclusive-puzzle"
      },
      "source": [
        "<font size=6><b>유가증권 수익율 계산"
      ]
    },
    {
      "cell_type": "code",
      "execution_count": null,
      "id": "religious-spending",
      "metadata": {
        "id": "religious-spending",
        "outputId": "8ff9f28e-8a53-4361-fbdf-37a2160c0689"
      },
      "outputs": [
        {
          "data": {
            "text/html": [
              "<style>.container{width:100% !important;}</style>"
            ],
            "text/plain": [
              "<IPython.core.display.HTML object>"
            ]
          },
          "metadata": {},
          "output_type": "display_data"
        }
      ],
      "source": [
        "import pandas as pd\n",
        "import numpy as np\n",
        "import seaborn as sns\n",
        "from matplotlib import dates as mdates\n",
        "import matplotlib.pyplot as plt\n",
        "\n",
        "import pandas_datareader as pdr\n",
        "import FinanceDataReader as fdr\n",
        "from pykrx import stock\n",
        "\n",
        "import warnings\n",
        "warnings.filterwarnings(action='ignore')\n",
        "\n",
        "#-------------------- 차트 관련 속성 (한글처리, 그리드) -----------\n",
        "plt.rcParams['font.family']= 'Malgun Gothic'\n",
        "plt.rcParams['axes.unicode_minus'] = False\n",
        "plt.rc('font', family='Malgun Gothic')\n",
        "sns.set()\n",
        "\n",
        "#-------------------- 주피터 , 출력결과 넓이 늘리기 ---------------\n",
        "from IPython.core.display import display, HTML\n",
        "display(HTML(\"<style>.container{width:100% !important;}</style>\"))\n",
        "pd.set_option('display.max_rows', 100)\n",
        "pd.set_option('display.max_columns', 100)\n",
        "pd.set_option('max_colwidth', None)\n"
      ]
    },
    {
      "cell_type": "code",
      "execution_count": null,
      "id": "appropriate-stadium",
      "metadata": {
        "id": "appropriate-stadium",
        "outputId": "0e59625a-e5bc-41c2-8356-afb48cbc6003"
      },
      "outputs": [
        {
          "name": "stdout",
          "output_type": "stream",
          "text": [
            "035720\n"
          ]
        }
      ],
      "source": [
        "def codefind(name):\n",
        "    krx = fdr.StockListing('KRX')\n",
        "    search = list(krx['Name'])\n",
        "    for i in range(len(krx)):\n",
        "        if (search[i]==name):\n",
        "            print(krx['Symbol'][i])\n",
        "            return\n",
        "codefind('카카오')        "
      ]
    },
    {
      "cell_type": "markdown",
      "id": "rational-dream",
      "metadata": {
        "id": "rational-dream"
      },
      "source": [
        "# OHLCV Data Load\n",
        "* yahoo finance를 이용한 삼성전자 주식 가져오기"
      ]
    },
    {
      "cell_type": "code",
      "execution_count": null,
      "id": "thermal-seminar",
      "metadata": {
        "id": "thermal-seminar"
      },
      "outputs": [],
      "source": [
        "df_ss = pdr.get_data_yahoo('005930.KS', '2018-01-01', '2019-12-31')"
      ]
    },
    {
      "cell_type": "code",
      "execution_count": null,
      "id": "quality-cabinet",
      "metadata": {
        "id": "quality-cabinet",
        "outputId": "e047e279-5d0f-4421-ea85-a6a32df745c8"
      },
      "outputs": [
        {
          "name": "stdout",
          "output_type": "stream",
          "text": [
            "<class 'pandas.core.frame.DataFrame'>\n",
            "DatetimeIndex: 490 entries, 2018-01-02 to 2019-12-30\n",
            "Data columns (total 6 columns):\n",
            " #   Column     Non-Null Count  Dtype  \n",
            "---  ------     --------------  -----  \n",
            " 0   High       490 non-null    float64\n",
            " 1   Low        490 non-null    float64\n",
            " 2   Open       490 non-null    float64\n",
            " 3   Close      490 non-null    float64\n",
            " 4   Volume     490 non-null    float64\n",
            " 5   Adj Close  490 non-null    float64\n",
            "dtypes: float64(6)\n",
            "memory usage: 26.8 KB\n"
          ]
        },
        {
          "data": {
            "text/html": [
              "<div>\n",
              "<style scoped>\n",
              "    .dataframe tbody tr th:only-of-type {\n",
              "        vertical-align: middle;\n",
              "    }\n",
              "\n",
              "    .dataframe tbody tr th {\n",
              "        vertical-align: top;\n",
              "    }\n",
              "\n",
              "    .dataframe thead th {\n",
              "        text-align: right;\n",
              "    }\n",
              "</style>\n",
              "<table border=\"1\" class=\"dataframe\">\n",
              "  <thead>\n",
              "    <tr style=\"text-align: right;\">\n",
              "      <th></th>\n",
              "      <th>High</th>\n",
              "      <th>Low</th>\n",
              "      <th>Open</th>\n",
              "      <th>Close</th>\n",
              "      <th>Volume</th>\n",
              "      <th>Adj Close</th>\n",
              "    </tr>\n",
              "    <tr>\n",
              "      <th>Date</th>\n",
              "      <th></th>\n",
              "      <th></th>\n",
              "      <th></th>\n",
              "      <th></th>\n",
              "      <th></th>\n",
              "      <th></th>\n",
              "    </tr>\n",
              "  </thead>\n",
              "  <tbody>\n",
              "    <tr>\n",
              "      <th>2018-01-02</th>\n",
              "      <td>51400.0</td>\n",
              "      <td>50780.0</td>\n",
              "      <td>51380.0</td>\n",
              "      <td>51020.0</td>\n",
              "      <td>8474250.0</td>\n",
              "      <td>45077.804688</td>\n",
              "    </tr>\n",
              "    <tr>\n",
              "      <th>2018-01-03</th>\n",
              "      <td>52560.0</td>\n",
              "      <td>51420.0</td>\n",
              "      <td>52540.0</td>\n",
              "      <td>51620.0</td>\n",
              "      <td>10013500.0</td>\n",
              "      <td>45607.914062</td>\n",
              "    </tr>\n",
              "    <tr>\n",
              "      <th>2018-01-04</th>\n",
              "      <td>52180.0</td>\n",
              "      <td>50640.0</td>\n",
              "      <td>52120.0</td>\n",
              "      <td>51080.0</td>\n",
              "      <td>11695450.0</td>\n",
              "      <td>45130.820312</td>\n",
              "    </tr>\n",
              "    <tr>\n",
              "      <th>2018-01-05</th>\n",
              "      <td>52120.0</td>\n",
              "      <td>51200.0</td>\n",
              "      <td>51300.0</td>\n",
              "      <td>52120.0</td>\n",
              "      <td>9481150.0</td>\n",
              "      <td>46049.683594</td>\n",
              "    </tr>\n",
              "    <tr>\n",
              "      <th>2018-01-08</th>\n",
              "      <td>52520.0</td>\n",
              "      <td>51500.0</td>\n",
              "      <td>52400.0</td>\n",
              "      <td>52020.0</td>\n",
              "      <td>8383650.0</td>\n",
              "      <td>45961.335938</td>\n",
              "    </tr>\n",
              "  </tbody>\n",
              "</table>\n",
              "</div>"
            ],
            "text/plain": [
              "               High      Low     Open    Close      Volume     Adj Close\n",
              "Date                                                                    \n",
              "2018-01-02  51400.0  50780.0  51380.0  51020.0   8474250.0  45077.804688\n",
              "2018-01-03  52560.0  51420.0  52540.0  51620.0  10013500.0  45607.914062\n",
              "2018-01-04  52180.0  50640.0  52120.0  51080.0  11695450.0  45130.820312\n",
              "2018-01-05  52120.0  51200.0  51300.0  52120.0   9481150.0  46049.683594\n",
              "2018-01-08  52520.0  51500.0  52400.0  52020.0   8383650.0  45961.335938"
            ]
          },
          "execution_count": 4,
          "metadata": {},
          "output_type": "execute_result"
        }
      ],
      "source": [
        "df_ss.info()\n",
        "df_ss.head()"
      ]
    },
    {
      "cell_type": "code",
      "execution_count": null,
      "id": "extensive-terminal",
      "metadata": {
        "id": "extensive-terminal",
        "outputId": "87982f5e-12dc-42c1-973c-6d79b778f522"
      },
      "outputs": [
        {
          "data": {
            "text/plain": [
              "High         0\n",
              "Low          0\n",
              "Open         0\n",
              "Close        0\n",
              "Volume       0\n",
              "Adj Close    0\n",
              "dtype: int64"
            ]
          },
          "execution_count": 5,
          "metadata": {},
          "output_type": "execute_result"
        }
      ],
      "source": [
        "df_ss.isna().sum()"
      ]
    },
    {
      "cell_type": "markdown",
      "id": "little-cocktail",
      "metadata": {
        "id": "little-cocktail"
      },
      "source": [
        "* 종가 그데로 출력하면 다른 상품 가격과 비교하기 힘들다"
      ]
    },
    {
      "cell_type": "code",
      "execution_count": null,
      "id": "indoor-meter",
      "metadata": {
        "id": "indoor-meter",
        "outputId": "8925f827-0f60-4c56-ab7d-2c76f09bef1c"
      },
      "outputs": [
        {
          "data": {
            "text/plain": [
              "<matplotlib.legend.Legend at 0x1a81f5d0fd0>"
            ]
          },
          "execution_count": 6,
          "metadata": {},
          "output_type": "execute_result"
        },
        {
          "data": {
            "image/png": "[encoded data removed]",
            "text/plain": [
              "<Figure size 648x432 with 1 Axes>"
            ]
          },
          "metadata": {},
          "output_type": "display_data"
        }
      ],
      "source": [
        "plt.figure(figsize=(9, 6))\n",
        "# plt.subplot(2, 1, 1)\n",
        "plt.title('Samsung')\n",
        "plt.plot(df_ss.index, df_ss['Close'], label='samsung')\n",
        "plt.legend()\n"
      ]
    },
    {
      "cell_type": "markdown",
      "id": "corrected-joyce",
      "metadata": {
        "id": "corrected-joyce"
      },
      "source": [
        "# 일간 변동가 / 변동률"
      ]
    },
    {
      "cell_type": "markdown",
      "id": "4380c6b9-8570-4eee-9ca4-13cff10f9f52",
      "metadata": {
        "id": "4380c6b9-8570-4eee-9ca4-13cff10f9f52"
      },
      "source": [
        "## 변동지수_가격"
      ]
    },
    {
      "cell_type": "code",
      "execution_count": null,
      "id": "abstract-watershed",
      "metadata": {
        "id": "abstract-watershed",
        "outputId": "b619e4bd-4820-4d36-b59b-44e8dd2f7f10"
      },
      "outputs": [
        {
          "data": {
            "text/html": [
              "<div>\n",
              "<style scoped>\n",
              "    .dataframe tbody tr th:only-of-type {\n",
              "        vertical-align: middle;\n",
              "    }\n",
              "\n",
              "    .dataframe tbody tr th {\n",
              "        vertical-align: top;\n",
              "    }\n",
              "\n",
              "    .dataframe thead th {\n",
              "        text-align: right;\n",
              "    }\n",
              "</style>\n",
              "<table border=\"1\" class=\"dataframe\">\n",
              "  <thead>\n",
              "    <tr style=\"text-align: right;\">\n",
              "      <th></th>\n",
              "      <th>High</th>\n",
              "      <th>Low</th>\n",
              "      <th>Open</th>\n",
              "      <th>Close</th>\n",
              "      <th>Volume</th>\n",
              "      <th>Adj Close</th>\n",
              "      <th>var_daily_price</th>\n",
              "      <th>var_daily_ratio</th>\n",
              "    </tr>\n",
              "    <tr>\n",
              "      <th>Date</th>\n",
              "      <th></th>\n",
              "      <th></th>\n",
              "      <th></th>\n",
              "      <th></th>\n",
              "      <th></th>\n",
              "      <th></th>\n",
              "      <th></th>\n",
              "      <th></th>\n",
              "    </tr>\n",
              "  </thead>\n",
              "  <tbody>\n",
              "    <tr>\n",
              "      <th>2018-01-02</th>\n",
              "      <td>51400.0</td>\n",
              "      <td>50780.0</td>\n",
              "      <td>51380.0</td>\n",
              "      <td>51020.0</td>\n",
              "      <td>8474250.0</td>\n",
              "      <td>45077.804688</td>\n",
              "      <td>NaN</td>\n",
              "      <td>NaN</td>\n",
              "    </tr>\n",
              "    <tr>\n",
              "      <th>2018-01-03</th>\n",
              "      <td>52560.0</td>\n",
              "      <td>51420.0</td>\n",
              "      <td>52540.0</td>\n",
              "      <td>51620.0</td>\n",
              "      <td>10013500.0</td>\n",
              "      <td>45607.914062</td>\n",
              "      <td>600.0</td>\n",
              "      <td>1.176009</td>\n",
              "    </tr>\n",
              "    <tr>\n",
              "      <th>2018-01-04</th>\n",
              "      <td>52180.0</td>\n",
              "      <td>50640.0</td>\n",
              "      <td>52120.0</td>\n",
              "      <td>51080.0</td>\n",
              "      <td>11695450.0</td>\n",
              "      <td>45130.820312</td>\n",
              "      <td>-540.0</td>\n",
              "      <td>-1.046106</td>\n",
              "    </tr>\n",
              "    <tr>\n",
              "      <th>2018-01-05</th>\n",
              "      <td>52120.0</td>\n",
              "      <td>51200.0</td>\n",
              "      <td>51300.0</td>\n",
              "      <td>52120.0</td>\n",
              "      <td>9481150.0</td>\n",
              "      <td>46049.683594</td>\n",
              "      <td>1040.0</td>\n",
              "      <td>2.036022</td>\n",
              "    </tr>\n",
              "    <tr>\n",
              "      <th>2018-01-08</th>\n",
              "      <td>52520.0</td>\n",
              "      <td>51500.0</td>\n",
              "      <td>52400.0</td>\n",
              "      <td>52020.0</td>\n",
              "      <td>8383650.0</td>\n",
              "      <td>45961.335938</td>\n",
              "      <td>-100.0</td>\n",
              "      <td>-0.191865</td>\n",
              "    </tr>\n",
              "  </tbody>\n",
              "</table>\n",
              "</div>"
            ],
            "text/plain": [
              "               High      Low     Open    Close      Volume     Adj Close  \\\n",
              "Date                                                                       \n",
              "2018-01-02  51400.0  50780.0  51380.0  51020.0   8474250.0  45077.804688   \n",
              "2018-01-03  52560.0  51420.0  52540.0  51620.0  10013500.0  45607.914062   \n",
              "2018-01-04  52180.0  50640.0  52120.0  51080.0  11695450.0  45130.820312   \n",
              "2018-01-05  52120.0  51200.0  51300.0  52120.0   9481150.0  46049.683594   \n",
              "2018-01-08  52520.0  51500.0  52400.0  52020.0   8383650.0  45961.335938   \n",
              "\n",
              "            var_daily_price  var_daily_ratio  \n",
              "Date                                          \n",
              "2018-01-02              NaN              NaN  \n",
              "2018-01-03            600.0         1.176009  \n",
              "2018-01-04           -540.0        -1.046106  \n",
              "2018-01-05           1040.0         2.036022  \n",
              "2018-01-08           -100.0        -0.191865  "
            ]
          },
          "execution_count": 7,
          "metadata": {},
          "output_type": "execute_result"
        }
      ],
      "source": [
        "last_day = df_ss['Close'].shift(1)\n",
        "today = df_ss['Close']\n",
        "\n",
        "df_ss['var_daily_price'] = today - last_day                      # 변동가\n",
        "df_ss['var_daily_ratio'] = ((today - last_day)/last_day) *100    # 변동율\n",
        "\n",
        "df_ss.head()\n"
      ]
    },
    {
      "cell_type": "code",
      "execution_count": null,
      "id": "italian-teaching",
      "metadata": {
        "id": "italian-teaching"
      },
      "outputs": [],
      "source": [
        ""
      ]
    },
    {
      "cell_type": "markdown",
      "id": "98f589c3-e294-4d5b-ac09-0022bb3150e1",
      "metadata": {
        "id": "98f589c3-e294-4d5b-ac09-0022bb3150e1"
      },
      "source": [
        "## 변동계수\n",
        "* 서로 다른 두 자산이 비슷하게 움직이는지 다른 방향으로 움직이는지 알려주는 지표\n",
        "* 변동계수 = 𝜎(자산수익률의 표준편차) / 자산의 평균(기대)수익률"
      ]
    },
    {
      "cell_type": "code",
      "execution_count": null,
      "id": "circular-mainland",
      "metadata": {
        "id": "circular-mainland",
        "outputId": "02fd6185-f2ec-47c3-f659-7cf35f419e2d"
      },
      "outputs": [
        {
          "data": {
            "text/html": [
              "<div>\n",
              "<style scoped>\n",
              "    .dataframe tbody tr th:only-of-type {\n",
              "        vertical-align: middle;\n",
              "    }\n",
              "\n",
              "    .dataframe tbody tr th {\n",
              "        vertical-align: top;\n",
              "    }\n",
              "\n",
              "    .dataframe thead th {\n",
              "        text-align: right;\n",
              "    }\n",
              "</style>\n",
              "<table border=\"1\" class=\"dataframe\">\n",
              "  <thead>\n",
              "    <tr style=\"text-align: right;\">\n",
              "      <th></th>\n",
              "      <th>High</th>\n",
              "      <th>Low</th>\n",
              "      <th>Open</th>\n",
              "      <th>Close</th>\n",
              "      <th>Volume</th>\n",
              "      <th>Adj Close</th>\n",
              "      <th>var_daily_price</th>\n",
              "      <th>var_daily_ratio</th>\n",
              "    </tr>\n",
              "    <tr>\n",
              "      <th>Date</th>\n",
              "      <th></th>\n",
              "      <th></th>\n",
              "      <th></th>\n",
              "      <th></th>\n",
              "      <th></th>\n",
              "      <th></th>\n",
              "      <th></th>\n",
              "      <th></th>\n",
              "    </tr>\n",
              "  </thead>\n",
              "  <tbody>\n",
              "    <tr>\n",
              "      <th>2018-01-02</th>\n",
              "      <td>51400.0</td>\n",
              "      <td>50780.0</td>\n",
              "      <td>51380.0</td>\n",
              "      <td>51020.0</td>\n",
              "      <td>8474250.0</td>\n",
              "      <td>45077.804688</td>\n",
              "      <td>NaN</td>\n",
              "      <td>NaN</td>\n",
              "    </tr>\n",
              "    <tr>\n",
              "      <th>2018-01-03</th>\n",
              "      <td>52560.0</td>\n",
              "      <td>51420.0</td>\n",
              "      <td>52540.0</td>\n",
              "      <td>51620.0</td>\n",
              "      <td>10013500.0</td>\n",
              "      <td>45607.914062</td>\n",
              "      <td>600.0</td>\n",
              "      <td>1.176009</td>\n",
              "    </tr>\n",
              "    <tr>\n",
              "      <th>2018-01-04</th>\n",
              "      <td>52180.0</td>\n",
              "      <td>50640.0</td>\n",
              "      <td>52120.0</td>\n",
              "      <td>51080.0</td>\n",
              "      <td>11695450.0</td>\n",
              "      <td>45130.820312</td>\n",
              "      <td>-540.0</td>\n",
              "      <td>-1.046106</td>\n",
              "    </tr>\n",
              "    <tr>\n",
              "      <th>2018-01-05</th>\n",
              "      <td>52120.0</td>\n",
              "      <td>51200.0</td>\n",
              "      <td>51300.0</td>\n",
              "      <td>52120.0</td>\n",
              "      <td>9481150.0</td>\n",
              "      <td>46049.683594</td>\n",
              "      <td>1040.0</td>\n",
              "      <td>2.036022</td>\n",
              "    </tr>\n",
              "    <tr>\n",
              "      <th>2018-01-08</th>\n",
              "      <td>52520.0</td>\n",
              "      <td>51500.0</td>\n",
              "      <td>52400.0</td>\n",
              "      <td>52020.0</td>\n",
              "      <td>8383650.0</td>\n",
              "      <td>45961.335938</td>\n",
              "      <td>-100.0</td>\n",
              "      <td>-0.191865</td>\n",
              "    </tr>\n",
              "  </tbody>\n",
              "</table>\n",
              "</div>"
            ],
            "text/plain": [
              "               High      Low     Open    Close      Volume     Adj Close  \\\n",
              "Date                                                                       \n",
              "2018-01-02  51400.0  50780.0  51380.0  51020.0   8474250.0  45077.804688   \n",
              "2018-01-03  52560.0  51420.0  52540.0  51620.0  10013500.0  45607.914062   \n",
              "2018-01-04  52180.0  50640.0  52120.0  51080.0  11695450.0  45130.820312   \n",
              "2018-01-05  52120.0  51200.0  51300.0  52120.0   9481150.0  46049.683594   \n",
              "2018-01-08  52520.0  51500.0  52400.0  52020.0   8383650.0  45961.335938   \n",
              "\n",
              "            var_daily_price  var_daily_ratio  \n",
              "Date                                          \n",
              "2018-01-02              NaN              NaN  \n",
              "2018-01-03            600.0         1.176009  \n",
              "2018-01-04           -540.0        -1.046106  \n",
              "2018-01-05           1040.0         2.036022  \n",
              "2018-01-08           -100.0        -0.191865  "
            ]
          },
          "execution_count": 8,
          "metadata": {},
          "output_type": "execute_result"
        }
      ],
      "source": [
        "df_ss.head()"
      ]
    },
    {
      "cell_type": "code",
      "execution_count": null,
      "id": "reported-burst",
      "metadata": {
        "id": "reported-burst",
        "outputId": "8d7d90ee-47e7-48e7-fa2f-1a36d8c84c27"
      },
      "outputs": [
        {
          "data": {
            "text/plain": [
              "51.35249020430333"
            ]
          },
          "execution_count": 9,
          "metadata": {},
          "output_type": "execute_result"
        }
      ],
      "source": [
        "변동계수 = df_ss['var_daily_ratio'].std() / df_ss['var_daily_ratio'].mean()\n",
        "변동계수"
      ]
    },
    {
      "cell_type": "code",
      "execution_count": null,
      "id": "passive-processor",
      "metadata": {
        "id": "passive-processor",
        "outputId": "4a039cbb-a9cc-4efb-b17e-45064c8b5a37"
      },
      "outputs": [
        {
          "name": "stdout",
          "output_type": "stream",
          "text": [
            "               High       Low      Open     Close    Volume  Adj Close  \\\n",
            "Close      0.992806  0.994409  0.985507  1.000000  0.067093   0.970963   \n",
            "Low        0.993589  1.000000  0.993858  0.994409  0.050810   0.967541   \n",
            "High       1.000000  0.993589  0.993187  0.992806  0.115526   0.959696   \n",
            "Open       0.993187  0.993858  1.000000  0.985507  0.076213   0.954788   \n",
            "Adj Close  0.959696  0.967541  0.954788  0.970963  0.013101   1.000000   \n",
            "\n",
            "           var_daily_price  var_daily_ratio  \n",
            "Close             0.126747         0.123115  \n",
            "Low               0.060805         0.057359  \n",
            "High              0.054944         0.052464  \n",
            "Open              0.001946        -0.000263  \n",
            "Adj Close         0.137663         0.133013  \n"
          ]
        },
        {
          "data": {
            "image/png": "[encoded data removed]",
            "text/plain": [
              "<Figure size 432x288 with 2 Axes>"
            ]
          },
          "metadata": {},
          "output_type": "display_data"
        }
      ],
      "source": [
        "import seaborn as sns\n",
        "sns.heatmap(df_ss.corr())\n",
        "print(df_ss.corr().sort_values(by='Close', ascending=False)[:5])"
      ]
    },
    {
      "cell_type": "code",
      "execution_count": null,
      "id": "reflected-converter",
      "metadata": {
        "tags": [],
        "id": "reflected-converter",
        "outputId": "98072edf-3dbd-4ea2-c0d4-06efec3b2ac4"
      },
      "outputs": [
        {
          "data": {
            "text/html": [
              "<div>\n",
              "<style scoped>\n",
              "    .dataframe tbody tr th:only-of-type {\n",
              "        vertical-align: middle;\n",
              "    }\n",
              "\n",
              "    .dataframe tbody tr th {\n",
              "        vertical-align: top;\n",
              "    }\n",
              "\n",
              "    .dataframe thead th {\n",
              "        text-align: right;\n",
              "    }\n",
              "</style>\n",
              "<table border=\"1\" class=\"dataframe\">\n",
              "  <thead>\n",
              "    <tr style=\"text-align: right;\">\n",
              "      <th></th>\n",
              "      <th>High</th>\n",
              "      <th>Low</th>\n",
              "      <th>Open</th>\n",
              "      <th>Close</th>\n",
              "      <th>Volume</th>\n",
              "      <th>Adj Close</th>\n",
              "      <th>var_daily_price</th>\n",
              "      <th>var_daily_ratio</th>\n",
              "    </tr>\n",
              "    <tr>\n",
              "      <th>Date</th>\n",
              "      <th></th>\n",
              "      <th></th>\n",
              "      <th></th>\n",
              "      <th></th>\n",
              "      <th></th>\n",
              "      <th></th>\n",
              "      <th></th>\n",
              "      <th></th>\n",
              "    </tr>\n",
              "  </thead>\n",
              "  <tbody>\n",
              "    <tr>\n",
              "      <th>2018-01-02</th>\n",
              "      <td>51400.0</td>\n",
              "      <td>50780.0</td>\n",
              "      <td>51380.0</td>\n",
              "      <td>51020.0</td>\n",
              "      <td>8474250.0</td>\n",
              "      <td>45077.804688</td>\n",
              "      <td>NaN</td>\n",
              "      <td>NaN</td>\n",
              "    </tr>\n",
              "    <tr>\n",
              "      <th>2018-01-03</th>\n",
              "      <td>52560.0</td>\n",
              "      <td>51420.0</td>\n",
              "      <td>52540.0</td>\n",
              "      <td>51620.0</td>\n",
              "      <td>10013500.0</td>\n",
              "      <td>45607.914062</td>\n",
              "      <td>600.0</td>\n",
              "      <td>1.176009</td>\n",
              "    </tr>\n",
              "    <tr>\n",
              "      <th>2018-01-04</th>\n",
              "      <td>52180.0</td>\n",
              "      <td>50640.0</td>\n",
              "      <td>52120.0</td>\n",
              "      <td>51080.0</td>\n",
              "      <td>11695450.0</td>\n",
              "      <td>45130.820312</td>\n",
              "      <td>-540.0</td>\n",
              "      <td>-1.046106</td>\n",
              "    </tr>\n",
              "    <tr>\n",
              "      <th>2018-01-05</th>\n",
              "      <td>52120.0</td>\n",
              "      <td>51200.0</td>\n",
              "      <td>51300.0</td>\n",
              "      <td>52120.0</td>\n",
              "      <td>9481150.0</td>\n",
              "      <td>46049.683594</td>\n",
              "      <td>1040.0</td>\n",
              "      <td>2.036022</td>\n",
              "    </tr>\n",
              "    <tr>\n",
              "      <th>2018-01-08</th>\n",
              "      <td>52520.0</td>\n",
              "      <td>51500.0</td>\n",
              "      <td>52400.0</td>\n",
              "      <td>52020.0</td>\n",
              "      <td>8383650.0</td>\n",
              "      <td>45961.335938</td>\n",
              "      <td>-100.0</td>\n",
              "      <td>-0.191865</td>\n",
              "    </tr>\n",
              "  </tbody>\n",
              "</table>\n",
              "</div>"
            ],
            "text/plain": [
              "               High      Low     Open    Close      Volume     Adj Close  \\\n",
              "Date                                                                       \n",
              "2018-01-02  51400.0  50780.0  51380.0  51020.0   8474250.0  45077.804688   \n",
              "2018-01-03  52560.0  51420.0  52540.0  51620.0  10013500.0  45607.914062   \n",
              "2018-01-04  52180.0  50640.0  52120.0  51080.0  11695450.0  45130.820312   \n",
              "2018-01-05  52120.0  51200.0  51300.0  52120.0   9481150.0  46049.683594   \n",
              "2018-01-08  52520.0  51500.0  52400.0  52020.0   8383650.0  45961.335938   \n",
              "\n",
              "            var_daily_price  var_daily_ratio  \n",
              "Date                                          \n",
              "2018-01-02              NaN              NaN  \n",
              "2018-01-03            600.0         1.176009  \n",
              "2018-01-04           -540.0        -1.046106  \n",
              "2018-01-05           1040.0         2.036022  \n",
              "2018-01-08           -100.0        -0.191865  "
            ]
          },
          "execution_count": 11,
          "metadata": {},
          "output_type": "execute_result"
        }
      ],
      "source": [
        "df_ss.head()"
      ]
    },
    {
      "cell_type": "markdown",
      "id": "e7a7b948-6dd8-4929-b462-8e6948f8a0b0",
      "metadata": {
        "id": "e7a7b948-6dd8-4929-b462-8e6948f8a0b0"
      },
      "source": [
        "## 일간변동률 누적합 .cumsum()"
      ]
    },
    {
      "cell_type": "code",
      "execution_count": null,
      "id": "rocky-jacob",
      "metadata": {
        "id": "rocky-jacob",
        "outputId": "6c1eb348-107f-400d-b9bd-60df14524632"
      },
      "outputs": [
        {
          "data": {
            "text/plain": [
              "Date\n",
              "2018-01-02         NaN\n",
              "2018-01-03    1.176009\n",
              "2018-01-04    0.129903\n",
              "2018-01-05    2.165925\n",
              "2018-01-08    1.974060\n",
              "Name: var_daily_ratio, dtype: float64"
            ]
          },
          "execution_count": 12,
          "metadata": {},
          "output_type": "execute_result"
        }
      ],
      "source": [
        "df_ss['var_daily_ratio'].cumsum()[:5]"
      ]
    },
    {
      "cell_type": "code",
      "execution_count": null,
      "id": "russian-morocco",
      "metadata": {
        "id": "russian-morocco",
        "outputId": "1ea82eba-9869-4af9-e7a5-27a6b23dd3fa"
      },
      "outputs": [
        {
          "data": {
            "text/plain": [
              "<matplotlib.legend.Legend at 0x1a8218fcca0>"
            ]
          },
          "execution_count": 13,
          "metadata": {},
          "output_type": "execute_result"
        },
        {
          "data": {
            "image/png": "[encoded data removed]",
            "text/plain": [
              "<Figure size 648x432 with 1 Axes>"
            ]
          },
          "metadata": {},
          "output_type": "display_data"
        }
      ],
      "source": [
        "plt.figure(figsize=(9, 6))\n",
        "# plt.subplot(2, 1, 1)\n",
        "plt.title('Samsung Elec')\n",
        "plt.plot(df_ss.index, df_ss['var_daily_ratio'].cumsum(), label='samsung')\n",
        "plt.legend()\n"
      ]
    },
    {
      "cell_type": "markdown",
      "id": "descending-arkansas",
      "metadata": {
        "id": "descending-arkansas"
      },
      "source": [
        "# 이동평균선(이평선)\n",
        "* N일의 주가지수의 평균 변동률\n",
        "* 이동평균선 (N일 동안의 주가의 평균 변동률을 이은 선)"
      ]
    },
    {
      "cell_type": "code",
      "execution_count": null,
      "id": "dominant-clock",
      "metadata": {
        "id": "dominant-clock"
      },
      "outputs": [],
      "source": [
        "def 이동편균선(day=1):\n",
        "    df_ss['dayline_'+str(day)] = df_ss['Close'].rolling(day).mean()"
      ]
    },
    {
      "cell_type": "code",
      "execution_count": null,
      "id": "endangered-treasury",
      "metadata": {
        "id": "endangered-treasury",
        "outputId": "9e617eb9-a654-4c0b-f5ba-d1539fed90b7"
      },
      "outputs": [
        {
          "data": {
            "text/html": [
              "<div>\n",
              "<style scoped>\n",
              "    .dataframe tbody tr th:only-of-type {\n",
              "        vertical-align: middle;\n",
              "    }\n",
              "\n",
              "    .dataframe tbody tr th {\n",
              "        vertical-align: top;\n",
              "    }\n",
              "\n",
              "    .dataframe thead th {\n",
              "        text-align: right;\n",
              "    }\n",
              "</style>\n",
              "<table border=\"1\" class=\"dataframe\">\n",
              "  <thead>\n",
              "    <tr style=\"text-align: right;\">\n",
              "      <th></th>\n",
              "      <th>High</th>\n",
              "      <th>Low</th>\n",
              "      <th>Open</th>\n",
              "      <th>Close</th>\n",
              "      <th>Volume</th>\n",
              "      <th>Adj Close</th>\n",
              "      <th>var_daily_price</th>\n",
              "      <th>var_daily_ratio</th>\n",
              "    </tr>\n",
              "    <tr>\n",
              "      <th>Date</th>\n",
              "      <th></th>\n",
              "      <th></th>\n",
              "      <th></th>\n",
              "      <th></th>\n",
              "      <th></th>\n",
              "      <th></th>\n",
              "      <th></th>\n",
              "      <th></th>\n",
              "    </tr>\n",
              "  </thead>\n",
              "  <tbody>\n",
              "    <tr>\n",
              "      <th>2018-01-02</th>\n",
              "      <td>51400.0</td>\n",
              "      <td>50780.0</td>\n",
              "      <td>51380.0</td>\n",
              "      <td>51020.0</td>\n",
              "      <td>8474250.0</td>\n",
              "      <td>45077.804688</td>\n",
              "      <td>NaN</td>\n",
              "      <td>NaN</td>\n",
              "    </tr>\n",
              "    <tr>\n",
              "      <th>2018-01-03</th>\n",
              "      <td>52560.0</td>\n",
              "      <td>51420.0</td>\n",
              "      <td>52540.0</td>\n",
              "      <td>51620.0</td>\n",
              "      <td>10013500.0</td>\n",
              "      <td>45607.914062</td>\n",
              "      <td>600.0</td>\n",
              "      <td>1.176009</td>\n",
              "    </tr>\n",
              "    <tr>\n",
              "      <th>2018-01-04</th>\n",
              "      <td>52180.0</td>\n",
              "      <td>50640.0</td>\n",
              "      <td>52120.0</td>\n",
              "      <td>51080.0</td>\n",
              "      <td>11695450.0</td>\n",
              "      <td>45130.820312</td>\n",
              "      <td>-540.0</td>\n",
              "      <td>-1.046106</td>\n",
              "    </tr>\n",
              "    <tr>\n",
              "      <th>2018-01-05</th>\n",
              "      <td>52120.0</td>\n",
              "      <td>51200.0</td>\n",
              "      <td>51300.0</td>\n",
              "      <td>52120.0</td>\n",
              "      <td>9481150.0</td>\n",
              "      <td>46049.683594</td>\n",
              "      <td>1040.0</td>\n",
              "      <td>2.036022</td>\n",
              "    </tr>\n",
              "    <tr>\n",
              "      <th>2018-01-08</th>\n",
              "      <td>52520.0</td>\n",
              "      <td>51500.0</td>\n",
              "      <td>52400.0</td>\n",
              "      <td>52020.0</td>\n",
              "      <td>8383650.0</td>\n",
              "      <td>45961.335938</td>\n",
              "      <td>-100.0</td>\n",
              "      <td>-0.191865</td>\n",
              "    </tr>\n",
              "  </tbody>\n",
              "</table>\n",
              "</div>"
            ],
            "text/plain": [
              "               High      Low     Open    Close      Volume     Adj Close  \\\n",
              "Date                                                                       \n",
              "2018-01-02  51400.0  50780.0  51380.0  51020.0   8474250.0  45077.804688   \n",
              "2018-01-03  52560.0  51420.0  52540.0  51620.0  10013500.0  45607.914062   \n",
              "2018-01-04  52180.0  50640.0  52120.0  51080.0  11695450.0  45130.820312   \n",
              "2018-01-05  52120.0  51200.0  51300.0  52120.0   9481150.0  46049.683594   \n",
              "2018-01-08  52520.0  51500.0  52400.0  52020.0   8383650.0  45961.335938   \n",
              "\n",
              "            var_daily_price  var_daily_ratio  \n",
              "Date                                          \n",
              "2018-01-02              NaN              NaN  \n",
              "2018-01-03            600.0         1.176009  \n",
              "2018-01-04           -540.0        -1.046106  \n",
              "2018-01-05           1040.0         2.036022  \n",
              "2018-01-08           -100.0        -0.191865  "
            ]
          },
          "execution_count": 15,
          "metadata": {},
          "output_type": "execute_result"
        }
      ],
      "source": [
        "df_ss.head()"
      ]
    },
    {
      "cell_type": "code",
      "execution_count": null,
      "id": "eastern-carbon",
      "metadata": {
        "id": "eastern-carbon"
      },
      "outputs": [],
      "source": [
        "이동편균선(10)\n",
        "이동편균선(5)\n",
        "# myplot(df_ss[['Close','dayline_5','dayline_10']], title='이동평균선', labels=['Close','5일선','10일선'])\n",
        "# myplot(df_ss.iloc[:100][['Close','dayline_5','dayline_10']], title='이동평균선', labels=['Close','5일선','10일선'])"
      ]
    },
    {
      "cell_type": "markdown",
      "id": "opponent-animal",
      "metadata": {
        "id": "opponent-animal"
      },
      "source": [
        "* 이평선은 변동성이 완화된 것처럼 보인다"
      ]
    },
    {
      "cell_type": "markdown",
      "id": "valuable-sphere",
      "metadata": {
        "id": "valuable-sphere"
      },
      "source": [
        "# 수익률 구하기 \n",
        "* 가격의 변동을 보고 오늘 기준으로 N일과 비교해서 가감산 금액 구하기"
      ]
    },
    {
      "cell_type": "code",
      "execution_count": null,
      "id": "identified-amateur",
      "metadata": {
        "id": "identified-amateur"
      },
      "outputs": [],
      "source": [
        "def 변동지수_가격(day=1):\n",
        "    df_ss['chg_'+str(day)] = df_ss['Close'].pct_change(periods=day) * 100     "
      ]
    },
    {
      "cell_type": "code",
      "execution_count": null,
      "id": "infectious-palestinian",
      "metadata": {
        "id": "infectious-palestinian",
        "outputId": "36e50b34-4a89-4725-87b5-f1f1c161c502"
      },
      "outputs": [
        {
          "data": {
            "text/html": [
              "<div>\n",
              "<style scoped>\n",
              "    .dataframe tbody tr th:only-of-type {\n",
              "        vertical-align: middle;\n",
              "    }\n",
              "\n",
              "    .dataframe tbody tr th {\n",
              "        vertical-align: top;\n",
              "    }\n",
              "\n",
              "    .dataframe thead th {\n",
              "        text-align: right;\n",
              "    }\n",
              "</style>\n",
              "<table border=\"1\" class=\"dataframe\">\n",
              "  <thead>\n",
              "    <tr style=\"text-align: right;\">\n",
              "      <th></th>\n",
              "      <th>High</th>\n",
              "      <th>Low</th>\n",
              "      <th>Open</th>\n",
              "      <th>Close</th>\n",
              "      <th>Volume</th>\n",
              "      <th>Adj Close</th>\n",
              "      <th>var_daily_price</th>\n",
              "      <th>var_daily_ratio</th>\n",
              "      <th>dayline_10</th>\n",
              "      <th>dayline_5</th>\n",
              "      <th>chg_3</th>\n",
              "    </tr>\n",
              "    <tr>\n",
              "      <th>Date</th>\n",
              "      <th></th>\n",
              "      <th></th>\n",
              "      <th></th>\n",
              "      <th></th>\n",
              "      <th></th>\n",
              "      <th></th>\n",
              "      <th></th>\n",
              "      <th></th>\n",
              "      <th></th>\n",
              "      <th></th>\n",
              "      <th></th>\n",
              "    </tr>\n",
              "  </thead>\n",
              "  <tbody>\n",
              "    <tr>\n",
              "      <th>2018-01-02</th>\n",
              "      <td>51400.0</td>\n",
              "      <td>50780.0</td>\n",
              "      <td>51380.0</td>\n",
              "      <td>51020.0</td>\n",
              "      <td>8474250.0</td>\n",
              "      <td>45077.804688</td>\n",
              "      <td>NaN</td>\n",
              "      <td>NaN</td>\n",
              "      <td>NaN</td>\n",
              "      <td>NaN</td>\n",
              "      <td>NaN</td>\n",
              "    </tr>\n",
              "    <tr>\n",
              "      <th>2018-01-03</th>\n",
              "      <td>52560.0</td>\n",
              "      <td>51420.0</td>\n",
              "      <td>52540.0</td>\n",
              "      <td>51620.0</td>\n",
              "      <td>10013500.0</td>\n",
              "      <td>45607.914062</td>\n",
              "      <td>600.0</td>\n",
              "      <td>1.176009</td>\n",
              "      <td>NaN</td>\n",
              "      <td>NaN</td>\n",
              "      <td>NaN</td>\n",
              "    </tr>\n",
              "    <tr>\n",
              "      <th>2018-01-04</th>\n",
              "      <td>52180.0</td>\n",
              "      <td>50640.0</td>\n",
              "      <td>52120.0</td>\n",
              "      <td>51080.0</td>\n",
              "      <td>11695450.0</td>\n",
              "      <td>45130.820312</td>\n",
              "      <td>-540.0</td>\n",
              "      <td>-1.046106</td>\n",
              "      <td>NaN</td>\n",
              "      <td>NaN</td>\n",
              "      <td>NaN</td>\n",
              "    </tr>\n",
              "    <tr>\n",
              "      <th>2018-01-05</th>\n",
              "      <td>52120.0</td>\n",
              "      <td>51200.0</td>\n",
              "      <td>51300.0</td>\n",
              "      <td>52120.0</td>\n",
              "      <td>9481150.0</td>\n",
              "      <td>46049.683594</td>\n",
              "      <td>1040.0</td>\n",
              "      <td>2.036022</td>\n",
              "      <td>NaN</td>\n",
              "      <td>NaN</td>\n",
              "      <td>2.156017</td>\n",
              "    </tr>\n",
              "    <tr>\n",
              "      <th>2018-01-08</th>\n",
              "      <td>52520.0</td>\n",
              "      <td>51500.0</td>\n",
              "      <td>52400.0</td>\n",
              "      <td>52020.0</td>\n",
              "      <td>8383650.0</td>\n",
              "      <td>45961.335938</td>\n",
              "      <td>-100.0</td>\n",
              "      <td>-0.191865</td>\n",
              "      <td>NaN</td>\n",
              "      <td>51572.0</td>\n",
              "      <td>0.774893</td>\n",
              "    </tr>\n",
              "  </tbody>\n",
              "</table>\n",
              "</div>"
            ],
            "text/plain": [
              "               High      Low     Open    Close      Volume     Adj Close  \\\n",
              "Date                                                                       \n",
              "2018-01-02  51400.0  50780.0  51380.0  51020.0   8474250.0  45077.804688   \n",
              "2018-01-03  52560.0  51420.0  52540.0  51620.0  10013500.0  45607.914062   \n",
              "2018-01-04  52180.0  50640.0  52120.0  51080.0  11695450.0  45130.820312   \n",
              "2018-01-05  52120.0  51200.0  51300.0  52120.0   9481150.0  46049.683594   \n",
              "2018-01-08  52520.0  51500.0  52400.0  52020.0   8383650.0  45961.335938   \n",
              "\n",
              "            var_daily_price  var_daily_ratio  dayline_10  dayline_5     chg_3  \n",
              "Date                                                                           \n",
              "2018-01-02              NaN              NaN         NaN        NaN       NaN  \n",
              "2018-01-03            600.0         1.176009         NaN        NaN       NaN  \n",
              "2018-01-04           -540.0        -1.046106         NaN        NaN       NaN  \n",
              "2018-01-05           1040.0         2.036022         NaN        NaN  2.156017  \n",
              "2018-01-08           -100.0        -0.191865         NaN    51572.0  0.774893  "
            ]
          },
          "execution_count": 18,
          "metadata": {},
          "output_type": "execute_result"
        }
      ],
      "source": [
        "변동지수_가격(3)\n",
        "df_ss.head()\n",
        "# myplot(df_ss.iloc[:100][['Close']], title='변동가(지수)---N일 이익률', labels=['Close'])"
      ]
    },
    {
      "cell_type": "code",
      "execution_count": null,
      "id": "owned-assistant",
      "metadata": {
        "id": "owned-assistant"
      },
      "outputs": [],
      "source": [
        "# df_ss['ssv'] = df_ss['Close'].pct_change(periods=1) * 100 \n",
        "# df_ss = df_ss.fillna(0)\n",
        "# df_ss.head()\n",
        "# # df_ss['일별등락률'].cumsum()\n",
        "# df_ss.columns "
      ]
    },
    {
      "cell_type": "markdown",
      "id": "documented-blade",
      "metadata": {
        "id": "documented-blade"
      },
      "source": [
        "## 보유기간 수익률(holding period return)\n",
        "* 투자자산을 보유한 기간 동안 몇 %의 수익률을 올렸는가를 측정하는 것으로, 단순한 성과비교용으로 사용\n",
        "* 보유기간수익률(%) = {[기말의 투자자산(매도가) ÷ 기초의 투자자산(매수가)] - 1} X 100"
      ]
    },
    {
      "cell_type": "code",
      "execution_count": null,
      "id": "sorted-trinidad",
      "metadata": {
        "id": "sorted-trinidad",
        "outputId": "8bdca908-120f-4f8f-af44-1ebafcbf4714"
      },
      "outputs": [
        {
          "data": {
            "text/plain": [
              "(Timestamp('2019-12-30 00:00:00'), Timestamp('2018-01-02 00:00:00'))"
            ]
          },
          "execution_count": 20,
          "metadata": {},
          "output_type": "execute_result"
        }
      ],
      "source": [
        "df_ss.index.max(), df_ss.index.min(), "
      ]
    },
    {
      "cell_type": "code",
      "execution_count": null,
      "id": "aging-clarity",
      "metadata": {
        "id": "aging-clarity",
        "outputId": "439a16e7-8aff-48c8-da36-a6afbfded64e"
      },
      "outputs": [
        {
          "name": "stdout",
          "output_type": "stream",
          "text": [
            "51020\n",
            "40050\n",
            "27.390761548064923\n"
          ]
        }
      ],
      "source": [
        "ago = int(df_ss.iloc[0:1,]['Close'])\n",
        "# ago = df_ss.iloc[0]['Close']\n",
        "print(ago)\n",
        "today = int(df_ss.iloc[252:253]['Close'])   #index.min()\n",
        "# today = df_ss.iloc[252]['Close']   #index.min()\n",
        "print(today)\n",
        "보유기간수익률 = ((ago / today) - 1) * 100\n",
        "print(보유기간수익률)"
      ]
    },
    {
      "cell_type": "markdown",
      "id": "consecutive-refund",
      "metadata": {
        "id": "consecutive-refund"
      },
      "source": [
        "## 연간 보유기간 수익률 - 기하평균\n",
        "* 연간 보유기간수익률(%) = {[(최종투자자산 ÷ 최초투자자산)^1/n] - 1} X 100\u000b*n : 년수 (ex 2년 6개월이라면 n=2.5 )\n"
      ]
    },
    {
      "cell_type": "code",
      "execution_count": null,
      "id": "continent-bonus",
      "metadata": {
        "id": "continent-bonus",
        "outputId": "44fed8a4-11ab-4e5e-e050-28c08af2829a"
      },
      "outputs": [
        {
          "name": "stdout",
          "output_type": "stream",
          "text": [
            "-21.501372010976084\n"
          ]
        }
      ],
      "source": [
        "n = 1\n",
        "연간보유기간수익률 = (pow((today/ ago),1/n) - 1) * 100\n",
        "print(연간보유기간수익률)"
      ]
    },
    {
      "cell_type": "markdown",
      "id": "popular-venue",
      "metadata": {
        "id": "popular-venue"
      },
      "source": [
        "## 기대수익률 - 기하평균\n",
        "* 호황%30 보통30% 불황30\n",
        "* 수익률% 20 8 -4\n",
        "* 12000 10800 9600\n",
        "* = 0.3 X 0.2 + 0.4 X 0.08 + 0.3 X (-0.04) = 0.08 = 8%"
      ]
    },
    {
      "cell_type": "code",
      "execution_count": null,
      "id": "floating-civilian",
      "metadata": {
        "id": "floating-civilian",
        "outputId": "2ed3dff4-6c3b-45b9-d4aa-6fe28f90a9b4"
      },
      "outputs": [
        {
          "data": {
            "text/plain": [
              "0.08"
            ]
          },
          "execution_count": 23,
          "metadata": {},
          "output_type": "execute_result"
        }
      ],
      "source": [
        "price = [20/100, 8/100, -4/100]\n",
        "eco   = [30/100 , 40/100 , 30/100]\n",
        "기대수익률 = (eco[0]*price[0])  + (eco[1]*price[1])  + (eco[2]*price[2])\n",
        "기대수익률"
      ]
    },
    {
      "cell_type": "markdown",
      "id": "painted-sugar",
      "metadata": {
        "id": "painted-sugar"
      },
      "source": [
        "## 가중평균 수익률"
      ]
    },
    {
      "cell_type": "code",
      "execution_count": null,
      "id": "automated-logging",
      "metadata": {
        "id": "automated-logging"
      },
      "outputs": [],
      "source": [
        "init_price = np.array([4000,4000,2000])\n",
        "year_earing_rate = np.array([0.25, 0.05,0.1 ])"
      ]
    },
    {
      "cell_type": "code",
      "execution_count": null,
      "id": "universal-fighter",
      "metadata": {
        "id": "universal-fighter",
        "outputId": "674e1999-9498-4be0-daa8-5f9d0650dfd9"
      },
      "outputs": [
        {
          "data": {
            "text/plain": [
              "array([1400.])"
            ]
          },
          "execution_count": 25,
          "metadata": {},
          "output_type": "execute_result"
        }
      ],
      "source": [
        "res = np.dot(init_price, year_earing_rate.reshape(-1,1))\n",
        "res"
      ]
    },
    {
      "cell_type": "code",
      "execution_count": null,
      "id": "variable-employee",
      "metadata": {
        "tags": [],
        "id": "variable-employee",
        "outputId": "0672782b-b0e9-4b54-8ec6-bfb2d9ad75d3"
      },
      "outputs": [
        {
          "name": "stdout",
          "output_type": "stream",
          "text": [
            "[0.33333333] [0.33333333]\n"
          ]
        }
      ],
      "source": [
        "price = [12000, 10800, 9600]\n",
        "price_sum = np.array(price).sum()\n",
        "\n",
        "price_weight = [12000/price_sum, 10800/price_sum, 9600/price_sum]\n",
        "eco_rate = [30/100 , 40/100 , 30/100]\n",
        "\n",
        "\n",
        "price_weight = np.array(price_weight)\n",
        "eco_rate = np.array(eco_rate).reshape(-1,1)\n",
        "기대수익률1 = np.dot(price_weight, eco_rate)\n",
        "\n",
        "기대수익률2 = (eco_rate[0]*price_weight[0])  + (eco_rate[1]*price_weight[1])  + (eco_rate[2]*price_weight[2])\n",
        "print(기대수익률1, 기대수익률2)\n",
        "        "
      ]
    },
    {
      "cell_type": "code",
      "execution_count": null,
      "id": "32acd7bb-10ac-4a6e-bcd0-984df65669cb",
      "metadata": {
        "id": "32acd7bb-10ac-4a6e-bcd0-984df65669cb"
      },
      "outputs": [],
      "source": [
        ""
      ]
    },
    {
      "cell_type": "code",
      "execution_count": null,
      "id": "7e2f8b23-ce5b-44bb-a45c-87ed664bb428",
      "metadata": {
        "id": "7e2f8b23-ce5b-44bb-a45c-87ed664bb428"
      },
      "outputs": [],
      "source": [
        ""
      ]
    },
    {
      "cell_type": "markdown",
      "id": "ef4da915-fcca-4c5c-9837-df90fd3b492d",
      "metadata": {
        "id": "ef4da915-fcca-4c5c-9837-df90fd3b492d"
      },
      "source": [
        "# 기대수익(return) 위험성(risk)\n",
        "* KODEX_200.pkl - KODEX kospi200 ETF\n",
        "* KODEX_10Y_KTB.pkl - KODEX 국채선물10년 ETF \n",
        "* 2012년 1월 20일 부터 2019년 7월 23일"
      ]
    },
    {
      "cell_type": "markdown",
      "id": "5e364395-feaa-4287-8034-546d1546894f",
      "metadata": {
        "id": "5e364395-feaa-4287-8034-546d1546894f"
      },
      "source": [
        "* 복리로 수익률이 누적될 경우 (1+r1)(1+r2)...와 같이 곱셈을 계속 해주어야 합니다. 이 때 로그를 취한다면 곱셈을 덧셈으로 바꿔 줄 수 있습니다"
      ]
    },
    {
      "cell_type": "markdown",
      "id": "31f3de78-0464-4b05-9490-25eb930b7436",
      "metadata": {
        "id": "31f3de78-0464-4b05-9490-25eb930b7436"
      },
      "source": [
        "* $로그수익률=\\ln (\\frac{나중\\, \\, 주가}{처음\\, \\, 주가})$"
      ]
    },
    {
      "cell_type": "markdown",
      "id": "f2b954f6-12ba-45e8-a410-3c36552f3b9f",
      "metadata": {
        "id": "f2b954f6-12ba-45e8-a410-3c36552f3b9f"
      },
      "source": [
        "## 자산별 기대수익률 추정하기"
      ]
    },
    {
      "cell_type": "code",
      "execution_count": null,
      "id": "5539e189-aedc-42fc-8134-9c1462fd4396",
      "metadata": {
        "id": "5539e189-aedc-42fc-8134-9c1462fd4396"
      },
      "outputs": [],
      "source": [
        "close_df = df_ss['Close'].copy()"
      ]
    },
    {
      "cell_type": "code",
      "execution_count": null,
      "id": "ad1d9fa1-46b0-48bc-b8d2-2857ac77a928",
      "metadata": {
        "id": "ad1d9fa1-46b0-48bc-b8d2-2857ac77a928",
        "outputId": "1895afa3-53ed-49ce-f263-2f0cd0652c59"
      },
      "outputs": [
        {
          "data": {
            "text/plain": [
              "Date\n",
              "2018-01-02         NaN\n",
              "2018-01-03    0.011691\n",
              "2018-01-04   -0.010516\n",
              "2018-01-05    0.020156\n",
              "2018-01-08   -0.001920\n",
              "Name: Close, dtype: float64"
            ]
          },
          "execution_count": 30,
          "metadata": {},
          "output_type": "execute_result"
        }
      ],
      "source": [
        "logret_df = np.log(close_df / close_df.shift(1)) \n",
        "logret_df.head()"
      ]
    },
    {
      "cell_type": "code",
      "execution_count": null,
      "id": "1ecec593-1c94-4d39-8f42-159d340e30d4",
      "metadata": {
        "id": "1ecec593-1c94-4d39-8f42-159d340e30d4",
        "outputId": "2034324e-14d6-4dfc-b0d0-b9dc5245de5a"
      },
      "outputs": [
        {
          "data": {
            "text/plain": [
              "Date\n",
              "2018-01-03    0.011691\n",
              "2018-01-04   -0.010516\n",
              "2018-01-05    0.020156\n",
              "2018-01-08   -0.001920\n",
              "2018-01-09   -0.031637\n",
              "Name: Close, dtype: float64"
            ]
          },
          "execution_count": 31,
          "metadata": {},
          "output_type": "execute_result"
        }
      ],
      "source": [
        "logret_df = logret_df.dropna() \n",
        "logret_df.columns = ['KOSPI','KTB']\n",
        "logret_df.head()"
      ]
    },
    {
      "cell_type": "code",
      "execution_count": null,
      "id": "48b73914-fdf5-4cd8-a2ee-ac17d1796dfb",
      "metadata": {
        "id": "48b73914-fdf5-4cd8-a2ee-ac17d1796dfb",
        "outputId": "df61e898-8f78-4d91-bb7d-9f03353e1ca8"
      },
      "outputs": [
        {
          "name": "stdout",
          "output_type": "stream",
          "text": [
            "1일 수익률 : 0.00018314142469038914\n",
            "---\n",
            "년 수익률 : 0.046151639021978066\n"
          ]
        }
      ],
      "source": [
        "m  = logret_df.mean()\n",
        "ym = logret_df.mean() * 252\n",
        "print(f\"1일 수익률 : {m}\")\n",
        "print(\"---\")\n",
        "print(f\"년 수익률 : {ym}\") "
      ]
    },
    {
      "cell_type": "markdown",
      "id": "30bb17ef-41c2-42ed-a35a-344cec7c34fe",
      "metadata": {
        "id": "30bb17ef-41c2-42ed-a35a-344cec7c34fe"
      },
      "source": [
        "* 주식자산(KOSPI)은 1년에 평균적으로 0.024(2.4%)의 로그수익률이 나올 것이다.\n",
        "* 채권자산(KTB)은 1년에 평균적으로 0.049(4.9%)의 로그수익률이 나올 것이다."
      ]
    },
    {
      "cell_type": "markdown",
      "id": "117cabd0-0a50-433b-ba1d-4ead299335b7",
      "metadata": {
        "id": "117cabd0-0a50-433b-ba1d-4ead299335b7"
      },
      "source": [
        "## 포트폴리오의 기대수익률 계산하기\n",
        "* v=[1,2,3] 이고 w=[4,5,6]\n",
        "* v.dot(w) -->  $v\\, ⋅\\, w=1\\times 4+2\\times 5+3\\times 6$"
      ]
    },
    {
      "cell_type": "code",
      "execution_count": null,
      "id": "4fe132f0-881c-44de-8de3-287ab59a5848",
      "metadata": {
        "id": "4fe132f0-881c-44de-8de3-287ab59a5848",
        "outputId": "291b2439-9cd4-4ed4-d999-d9fa2cd6ed17"
      },
      "outputs": [
        {
          "ename": "AttributeError",
          "evalue": "'numpy.float64' object has no attribute 'values'",
          "output_type": "error",
          "traceback": [
            "\u001b[1;31m---------------------------------------------------------------------------\u001b[0m",
            "\u001b[1;31mAttributeError\u001b[0m                            Traceback (most recent call last)",
            "\u001b[1;32m<ipython-input-33-7f03e14ec0b5>\u001b[0m in \u001b[0;36m<module>\u001b[1;34m\u001b[0m\n\u001b[0;32m      1\u001b[0m \u001b[1;31m# 주식 50%, 채권 50%를 가정\u001b[0m\u001b[1;33m\u001b[0m\u001b[1;33m\u001b[0m\u001b[1;33m\u001b[0m\u001b[0m\n\u001b[1;32m----> 2\u001b[1;33m \u001b[0mymarr\u001b[0m \u001b[1;33m=\u001b[0m \u001b[0mym\u001b[0m\u001b[1;33m.\u001b[0m\u001b[0mvalues\u001b[0m\u001b[1;33m\u001b[0m\u001b[1;33m\u001b[0m\u001b[0m\n\u001b[0m\u001b[0;32m      3\u001b[0m \u001b[0mprint\u001b[0m\u001b[1;33m(\u001b[0m\u001b[0mymarr\u001b[0m\u001b[1;33m)\u001b[0m\u001b[1;33m\u001b[0m\u001b[1;33m\u001b[0m\u001b[0m\n\u001b[0;32m      4\u001b[0m \u001b[0mw\u001b[0m \u001b[1;33m=\u001b[0m \u001b[0mnp\u001b[0m\u001b[1;33m.\u001b[0m\u001b[0marray\u001b[0m\u001b[1;33m(\u001b[0m\u001b[1;33m[\u001b[0m\u001b[1;36m0.7\u001b[0m\u001b[1;33m,\u001b[0m \u001b[1;36m0.3\u001b[0m\u001b[1;33m]\u001b[0m\u001b[1;33m)\u001b[0m\u001b[1;33m\u001b[0m\u001b[1;33m\u001b[0m\u001b[0m\n\u001b[0;32m      5\u001b[0m \u001b[0mprint\u001b[0m\u001b[1;33m(\u001b[0m\u001b[0mw\u001b[0m\u001b[1;33m)\u001b[0m\u001b[1;33m\u001b[0m\u001b[1;33m\u001b[0m\u001b[0m\n",
            "\u001b[1;31mAttributeError\u001b[0m: 'numpy.float64' object has no attribute 'values'"
          ]
        }
      ],
      "source": [
        "# 주식 50%, 채권 50%를 가정 \n",
        "ymarr = ym.values\n",
        "print(ymarr)\n",
        "w = np.array([0.7, 0.3]) \n",
        "print(w)\n",
        "# port_return: 포트폴리오의 기대수익률 \n",
        "port_return = w.dot(ymarr) \n",
        "port_return"
      ]
    },
    {
      "cell_type": "code",
      "execution_count": null,
      "id": "7c5b398c-3485-4c6d-8459-a60b615672b2",
      "metadata": {
        "id": "7c5b398c-3485-4c6d-8459-a60b615672b2"
      },
      "outputs": [],
      "source": [
        "ws = np.arange(.1, 1, .1) #, dtype=None)\n",
        "print(ws)\n",
        "print(ymarr)\n",
        "retrun_list = {}\n",
        "for i in ws: \n",
        "    w = np.array([i, 1-i]) \n",
        "    port_return = w.dot(ymarr) \n",
        "    retrun_list[str(w)] = port_return\n",
        "    print(w, port_return,\"\")\n",
        "print(max(retrun_list.values()))"
      ]
    },
    {
      "cell_type": "markdown",
      "id": "6805b766-69ee-4523-b225-5bdb9c594f8f",
      "metadata": {
        "id": "6805b766-69ee-4523-b225-5bdb9c594f8f"
      },
      "source": [
        "## 자산별 위험(risk)\n",
        "* 돈을 잃을 가능성(coherent risk measure)\n",
        "* 수익률의 변동성(volatility) \n",
        "* 수익률이 평균으로 부터 많이 움직일수록(편차가 클수록) --> 수익률의 범위가 크다 --> 리스크 크다\n",
        "* 분산 = 편차의 제곱의 평균\n",
        "* 표준편차 = 분산에 루트"
      ]
    },
    {
      "cell_type": "code",
      "execution_count": null,
      "id": "802f562c-d5a3-4a97-ba40-33ce5b03fea7",
      "metadata": {
        "id": "802f562c-d5a3-4a97-ba40-33ce5b03fea7"
      },
      "outputs": [],
      "source": [
        "# 일수익율 표준편차 \n",
        "risk = logret_df.std()\n",
        "# 연수익율 표준편차 \n",
        "yrisk = risk * np.sqrt(252)\n",
        "print(risk, yrisk)"
      ]
    },
    {
      "cell_type": "code",
      "execution_count": null,
      "id": "0c60703d-59fe-4419-a330-841de4ceaa40",
      "metadata": {
        "id": "0c60703d-59fe-4419-a330-841de4ceaa40"
      },
      "outputs": [],
      "source": [
        ""
      ]
    },
    {
      "cell_type": "markdown",
      "id": "0f818ac1-91bb-49ed-beef-3159724d4dc4",
      "metadata": {
        "id": "0f818ac1-91bb-49ed-beef-3159724d4dc4"
      },
      "source": [
        "* 수익률의 표준편차 : 변동성이 큰 주식(KOSPI)이 채권(KTB) 보다 더 큰 위험을 가지고 있다"
      ]
    },
    {
      "cell_type": "markdown",
      "id": "2b15840a-8a01-4058-9baa-390fed991f75",
      "metadata": {
        "id": "2b15840a-8a01-4058-9baa-390fed991f75"
      },
      "source": [
        "## 포트폴리오의 Risk 계산하기\n",
        "* ㄱㄷㄹ : http://localhost:8888/lab/tree/FT/Untitled.ipynb"
      ]
    },
    {
      "cell_type": "markdown",
      "id": "9c7771e6-ff41-48f3-b7ba-a8627b3ac9cb",
      "metadata": {
        "id": "9c7771e6-ff41-48f3-b7ba-a8627b3ac9cb"
      },
      "source": [
        "$\\left[\\begin{matrix}VAR[S_1]&COV[S_1,S_2]&\\cdots &COV[S_1,S_N]\\\\COV[S_2,S_1]&VAR[S_2]&\\cdots &COV[S_2,S_N]\\\\\\vdots &\\vdots &\\ddots &\\vdots \\\\COV[S_N,S_1]&COV[S_N,S_2]&\\cdots &VAR[S_N]\\end{matrix}\\right]$\n",
        "\n"
      ]
    },
    {
      "cell_type": "markdown",
      "id": "1cfd2542-1a72-478d-b406-0034f2172947",
      "metadata": {
        "id": "1cfd2542-1a72-478d-b406-0034f2172947"
      },
      "source": [
        "$\\sigma _p^2=\\omega \\ C\\ \\omega ^{\\top }$"
      ]
    },
    {
      "cell_type": "code",
      "execution_count": null,
      "id": "a149d57b-0397-4595-85ce-22633f5abddc",
      "metadata": {
        "id": "a149d57b-0397-4595-85ce-22633f5abddc"
      },
      "outputs": [],
      "source": [
        "logret_df.cov()"
      ]
    },
    {
      "cell_type": "code",
      "execution_count": null,
      "id": "70a1708d-3c64-40ad-a75b-9accb2c93907",
      "metadata": {
        "id": "70a1708d-3c64-40ad-a75b-9accb2c93907"
      },
      "outputs": [],
      "source": [
        "# cov_mat : 공분산 행렬(Covariance Matrix) \n",
        "cov_mat = logret_df.cov() * 252 \n",
        "cov_mat = cov_mat.values # 행렬구조로 저장합니다 \n",
        "cov_mat"
      ]
    },
    {
      "cell_type": "code",
      "execution_count": null,
      "id": "2da9b324-6641-4cb3-891c-7791a42922f7",
      "metadata": {
        "id": "2da9b324-6641-4cb3-891c-7791a42922f7"
      },
      "outputs": [],
      "source": [
        "# 포트폴리오의 Risk(=표준편차)를 계산합니다. \n",
        "port_var = np.dot(np.dot(w, cov_mat), w.T) \n",
        "port_std = np.sqrt(port_var) \n",
        "print(\"Portfolio Risk: \", port_std)"
      ]
    },
    {
      "cell_type": "code",
      "execution_count": null,
      "id": "d4ae9651-bd52-4cf4-8a0b-10f74eac484e",
      "metadata": {
        "id": "d4ae9651-bd52-4cf4-8a0b-10f74eac484e"
      },
      "outputs": [],
      "source": [
        ""
      ]
    },
    {
      "cell_type": "code",
      "execution_count": null,
      "id": "d8c2a170-e444-4b90-9f78-68875dd5a1c3",
      "metadata": {
        "id": "d8c2a170-e444-4b90-9f78-68875dd5a1c3"
      },
      "outputs": [],
      "source": [
        ""
      ]
    },
    {
      "cell_type": "markdown",
      "id": "studied-franklin",
      "metadata": {
        "id": "studied-franklin"
      },
      "source": [
        "# NN 모델 에측"
      ]
    },
    {
      "cell_type": "markdown",
      "id": "intensive-fishing",
      "metadata": {
        "id": "intensive-fishing"
      },
      "source": [
        "* 계산은 수익률은 예측모델하라고 계산한게 아니라 투자전략 세우라고 있는것이다\n",
        "* 추가 지표가 별도로 없어서 지표라 생각하고 NN 학습 시도"
      ]
    },
    {
      "cell_type": "code",
      "execution_count": null,
      "id": "revolutionary-recruitment",
      "metadata": {
        "id": "revolutionary-recruitment"
      },
      "outputs": [],
      "source": [
        "df_ss.dropna(axis=0, inplace=True)"
      ]
    },
    {
      "cell_type": "code",
      "execution_count": null,
      "id": "square-queensland",
      "metadata": {
        "id": "square-queensland"
      },
      "outputs": [],
      "source": [
        "# df_ss = df_ss.fillna(0)"
      ]
    },
    {
      "cell_type": "code",
      "execution_count": null,
      "id": "inappropriate-pacific",
      "metadata": {
        "id": "inappropriate-pacific"
      },
      "outputs": [],
      "source": [
        "df_ss = df_ss.drop(['Adj Close'], axis=1)"
      ]
    },
    {
      "cell_type": "code",
      "execution_count": null,
      "id": "assigned-jacob",
      "metadata": {
        "id": "assigned-jacob",
        "outputId": "50034a44-398c-4d8a-f8f0-717a18135a84"
      },
      "outputs": [
        {
          "data": {
            "text/html": [
              "<div>\n",
              "<style scoped>\n",
              "    .dataframe tbody tr th:only-of-type {\n",
              "        vertical-align: middle;\n",
              "    }\n",
              "\n",
              "    .dataframe tbody tr th {\n",
              "        vertical-align: top;\n",
              "    }\n",
              "\n",
              "    .dataframe thead th {\n",
              "        text-align: right;\n",
              "    }\n",
              "</style>\n",
              "<table border=\"1\" class=\"dataframe\">\n",
              "  <thead>\n",
              "    <tr style=\"text-align: right;\">\n",
              "      <th></th>\n",
              "      <th>High</th>\n",
              "      <th>Low</th>\n",
              "      <th>Open</th>\n",
              "      <th>Close</th>\n",
              "      <th>Volume</th>\n",
              "      <th>var_daily_price</th>\n",
              "      <th>var_daily_ratio</th>\n",
              "      <th>dayline_10</th>\n",
              "      <th>dayline_5</th>\n",
              "      <th>chg_3</th>\n",
              "    </tr>\n",
              "    <tr>\n",
              "      <th>Date</th>\n",
              "      <th></th>\n",
              "      <th></th>\n",
              "      <th></th>\n",
              "      <th></th>\n",
              "      <th></th>\n",
              "      <th></th>\n",
              "      <th></th>\n",
              "      <th></th>\n",
              "      <th></th>\n",
              "      <th></th>\n",
              "    </tr>\n",
              "  </thead>\n",
              "  <tbody>\n",
              "    <tr>\n",
              "      <th>2018-01-15</th>\n",
              "      <td>48980.0</td>\n",
              "      <td>47920.0</td>\n",
              "      <td>48800.0</td>\n",
              "      <td>48540.0</td>\n",
              "      <td>10096000.0</td>\n",
              "      <td>340.0</td>\n",
              "      <td>0.705394</td>\n",
              "      <td>50208.0</td>\n",
              "      <td>48844.0</td>\n",
              "      <td>-0.614251</td>\n",
              "    </tr>\n",
              "    <tr>\n",
              "      <th>2018-01-16</th>\n",
              "      <td>50140.0</td>\n",
              "      <td>48620.0</td>\n",
              "      <td>48760.0</td>\n",
              "      <td>50000.0</td>\n",
              "      <td>20389650.0</td>\n",
              "      <td>1460.0</td>\n",
              "      <td>3.007829</td>\n",
              "      <td>50106.0</td>\n",
              "      <td>48764.0</td>\n",
              "      <td>3.648425</td>\n",
              "    </tr>\n",
              "    <tr>\n",
              "      <th>2018-01-17</th>\n",
              "      <td>50020.0</td>\n",
              "      <td>49060.0</td>\n",
              "      <td>50020.0</td>\n",
              "      <td>49620.0</td>\n",
              "      <td>11053050.0</td>\n",
              "      <td>-380.0</td>\n",
              "      <td>-0.760000</td>\n",
              "      <td>49906.0</td>\n",
              "      <td>48920.0</td>\n",
              "      <td>2.946058</td>\n",
              "    </tr>\n",
              "    <tr>\n",
              "      <th>2018-01-18</th>\n",
              "      <td>50640.0</td>\n",
              "      <td>49820.0</td>\n",
              "      <td>50020.0</td>\n",
              "      <td>49900.0</td>\n",
              "      <td>14848850.0</td>\n",
              "      <td>280.0</td>\n",
              "      <td>0.564289</td>\n",
              "      <td>49788.0</td>\n",
              "      <td>49252.0</td>\n",
              "      <td>2.801813</td>\n",
              "    </tr>\n",
              "    <tr>\n",
              "      <th>2018-01-19</th>\n",
              "      <td>50380.0</td>\n",
              "      <td>49040.0</td>\n",
              "      <td>50380.0</td>\n",
              "      <td>49320.0</td>\n",
              "      <td>9219950.0</td>\n",
              "      <td>-580.0</td>\n",
              "      <td>-1.162325</td>\n",
              "      <td>49508.0</td>\n",
              "      <td>49476.0</td>\n",
              "      <td>-1.360000</td>\n",
              "    </tr>\n",
              "  </tbody>\n",
              "</table>\n",
              "</div>"
            ],
            "text/plain": [
              "               High      Low     Open    Close      Volume  var_daily_price  \\\n",
              "Date                                                                          \n",
              "2018-01-15  48980.0  47920.0  48800.0  48540.0  10096000.0            340.0   \n",
              "2018-01-16  50140.0  48620.0  48760.0  50000.0  20389650.0           1460.0   \n",
              "2018-01-17  50020.0  49060.0  50020.0  49620.0  11053050.0           -380.0   \n",
              "2018-01-18  50640.0  49820.0  50020.0  49900.0  14848850.0            280.0   \n",
              "2018-01-19  50380.0  49040.0  50380.0  49320.0   9219950.0           -580.0   \n",
              "\n",
              "            var_daily_ratio  dayline_10  dayline_5     chg_3  \n",
              "Date                                                          \n",
              "2018-01-15         0.705394     50208.0    48844.0 -0.614251  \n",
              "2018-01-16         3.007829     50106.0    48764.0  3.648425  \n",
              "2018-01-17        -0.760000     49906.0    48920.0  2.946058  \n",
              "2018-01-18         0.564289     49788.0    49252.0  2.801813  \n",
              "2018-01-19        -1.162325     49508.0    49476.0 -1.360000  "
            ]
          },
          "execution_count": 37,
          "metadata": {},
          "output_type": "execute_result"
        }
      ],
      "source": [
        "df_ss.head()"
      ]
    },
    {
      "cell_type": "code",
      "execution_count": null,
      "id": "atlantic-child",
      "metadata": {
        "id": "atlantic-child",
        "outputId": "9cceb0ad-ba7d-41b3-e2b1-cebc56fbb59b"
      },
      "outputs": [
        {
          "name": "stdout",
          "output_type": "stream",
          "text": [
            "(481, 10) 384\n",
            "(384, 10) (97, 10)\n"
          ]
        }
      ],
      "source": [
        "split_size = int(df_ss.shape[0] * 0.8)\n",
        "print(df_ss.shape, split_size)\n",
        "train = df_ss.iloc[:split_size]\n",
        "test  = df_ss.iloc[split_size:]\n",
        "print(train.shape, test.shape)\n",
        "# print(test_data.shape)"
      ]
    },
    {
      "cell_type": "code",
      "execution_count": null,
      "id": "matched-assignment",
      "metadata": {
        "id": "matched-assignment",
        "outputId": "e1113dc8-3104-42df-ce6f-9afbc9dd92df"
      },
      "outputs": [
        {
          "data": {
            "text/plain": [
              "<matplotlib.legend.Legend at 0x1a821952730>"
            ]
          },
          "execution_count": 39,
          "metadata": {},
          "output_type": "execute_result"
        },
        {
          "data": {
            "image/png": "[encoded data removed]",
            "text/plain": [
              "<Figure size 432x288 with 1 Axes>"
            ]
          },
          "metadata": {},
          "output_type": "display_data"
        }
      ],
      "source": [
        "ax = train['Close'].plot()\n",
        "test['Close'].plot(ax=ax)\n",
        "plt.legend(['train', 'test'])"
      ]
    },
    {
      "cell_type": "code",
      "execution_count": null,
      "id": "manual-devon",
      "metadata": {
        "id": "manual-devon",
        "outputId": "4f1b4d84-498f-4404-904f-30129e78fe1a"
      },
      "outputs": [
        {
          "name": "stdout",
          "output_type": "stream",
          "text": [
            "<class 'pandas.core.frame.DataFrame'>\n",
            "DatetimeIndex: 384 entries, 2018-01-15 to 2019-08-07\n",
            "Data columns (total 10 columns):\n",
            " #   Column           Non-Null Count  Dtype  \n",
            "---  ------           --------------  -----  \n",
            " 0   High             384 non-null    float64\n",
            " 1   Low              384 non-null    float64\n",
            " 2   Open             384 non-null    float64\n",
            " 3   Close            384 non-null    float64\n",
            " 4   Volume           384 non-null    float64\n",
            " 5   var_daily_price  384 non-null    float64\n",
            " 6   var_daily_ratio  384 non-null    float64\n",
            " 7   dayline_10       384 non-null    float64\n",
            " 8   dayline_5        384 non-null    float64\n",
            " 9   chg_3            384 non-null    float64\n",
            "dtypes: float64(10)\n",
            "memory usage: 33.0 KB\n"
          ]
        }
      ],
      "source": [
        "train.info()"
      ]
    },
    {
      "cell_type": "code",
      "execution_count": null,
      "id": "continued-selling",
      "metadata": {
        "id": "continued-selling",
        "outputId": "08513a46-1daf-49fa-bc74-593e894e4cbe"
      },
      "outputs": [
        {
          "data": {
            "text/plain": [
              "High               0\n",
              "Low                0\n",
              "Open               0\n",
              "Close              0\n",
              "Volume             0\n",
              "var_daily_price    0\n",
              "var_daily_ratio    0\n",
              "dayline_10         0\n",
              "dayline_5          0\n",
              "chg_3              0\n",
              "dtype: int64"
            ]
          },
          "execution_count": 41,
          "metadata": {},
          "output_type": "execute_result"
        }
      ],
      "source": [
        "train.isna().sum()"
      ]
    },
    {
      "cell_type": "code",
      "execution_count": null,
      "id": "appointed-charleston",
      "metadata": {
        "id": "appointed-charleston"
      },
      "outputs": [],
      "source": [
        "from sklearn.preprocessing import MinMaxScaler\n",
        "scaler = MinMaxScaler()\n",
        "scaler.fit(train)\n",
        "train_scaler = scaler.transform(train)\n",
        "test_scaler  = scaler.transform(test)\n"
      ]
    },
    {
      "cell_type": "code",
      "execution_count": null,
      "id": "guided-merchant",
      "metadata": {
        "id": "guided-merchant"
      },
      "outputs": [],
      "source": [
        "window_size = 5\n",
        "xlist= []\n",
        "ylist = []\n",
        "for i in range(window_size, train_scaler.shape[0]):    \n",
        "    xlist.append(train_scaler[i-window_size:i])\n",
        "    ylist.append(train_scaler[i,3])  #Close\n",
        "x_train, y_train = np.array(xlist), np.array(ylist)"
      ]
    },
    {
      "cell_type": "code",
      "execution_count": null,
      "id": "legislative-black",
      "metadata": {
        "id": "legislative-black",
        "outputId": "c84bfa2a-f7fa-4179-80a2-7344718cc6e1"
      },
      "outputs": [
        {
          "name": "stdout",
          "output_type": "stream",
          "text": [
            "(379, 5, 10) (379,)\n"
          ]
        }
      ],
      "source": [
        "print(x_train.shape, y_train.shape)"
      ]
    },
    {
      "cell_type": "code",
      "execution_count": null,
      "id": "89b8227f-5bca-491f-9370-577d19715b13",
      "metadata": {
        "id": "89b8227f-5bca-491f-9370-577d19715b13"
      },
      "outputs": [],
      "source": [
        "# ! pip install -U numpy"
      ]
    },
    {
      "cell_type": "code",
      "execution_count": null,
      "id": "referenced-suspension",
      "metadata": {
        "id": "referenced-suspension",
        "outputId": "dd236657-6e92-46bb-fe3a-bb4880ccff86"
      },
      "outputs": [
        {
          "name": "stdout",
          "output_type": "stream",
          "text": [
            "Model: \"sequential\"\n",
            "_________________________________________________________________\n",
            " Layer (type)                Output Shape              Param #   \n",
            "=================================================================\n",
            " lstm (LSTM)                 (None, 5, 10)             840       \n",
            "                                                                 \n",
            " dropout (Dropout)           (None, 5, 10)             0         \n",
            "                                                                 \n",
            " lstm_1 (LSTM)               (None, 10)                840       \n",
            "                                                                 \n",
            " dropout_1 (Dropout)         (None, 10)                0         \n",
            "                                                                 \n",
            " dense (Dense)               (None, 1)                 11        \n",
            "                                                                 \n",
            "=================================================================\n",
            "Total params: 1,691\n",
            "Trainable params: 1,691\n",
            "Non-trainable params: 0\n",
            "_________________________________________________________________\n"
          ]
        }
      ],
      "source": [
        "from tensorflow.keras import Sequential\n",
        "from tensorflow.keras.layers import Dense, LSTM, Dropout\n",
        "# 모델 생성\n",
        "model = Sequential()\n",
        "model.add(LSTM(units=10, activation='relu', return_sequences=True, input_shape=(x_train.shape[1], x_train.shape[2])))\n",
        "model.add(Dropout(0.1))\n",
        "model.add(LSTM(units=10, activation='relu'))\n",
        "model.add(Dropout(0.1))\n",
        "model.add(Dense(units=1))\n",
        "model.summary()\n",
        "model.compile(optimizer='adam', loss='mse', metrics=['mse'])\n",
        "    "
      ]
    },
    {
      "cell_type": "code",
      "execution_count": null,
      "id": "thousand-completion",
      "metadata": {
        "id": "thousand-completion",
        "outputId": "df7439ad-8613-4535-f326-7e3d8df31c97"
      },
      "outputs": [
        {
          "name": "stdout",
          "output_type": "stream",
          "text": [
            "Epoch 1/200\n",
            "19/19 [==============================] - 4s 32ms/step - loss: 0.3075 - mse: 0.3075 - val_loss: 0.1508 - val_mse: 0.1508\n",
            "Epoch 2/200\n",
            "19/19 [==============================] - 0s 5ms/step - loss: 0.2006 - mse: 0.2006 - val_loss: 0.0787 - val_mse: 0.0787\n",
            "Epoch 3/200\n",
            "19/19 [==============================] - 0s 5ms/step - loss: 0.0970 - mse: 0.0970 - val_loss: 0.0138 - val_mse: 0.0138\n",
            "Epoch 4/200\n",
            "19/19 [==============================] - 0s 5ms/step - loss: 0.0311 - mse: 0.0311 - val_loss: 0.0100 - val_mse: 0.0100\n",
            "Epoch 5/200\n",
            "19/19 [==============================] - 0s 8ms/step - loss: 0.0204 - mse: 0.0204 - val_loss: 0.0053 - val_mse: 0.0053\n",
            "Epoch 6/200\n",
            "19/19 [==============================] - 0s 5ms/step - loss: 0.0243 - mse: 0.0243 - val_loss: 0.0041 - val_mse: 0.0041\n",
            "Epoch 7/200\n",
            "19/19 [==============================] - 0s 5ms/step - loss: 0.0177 - mse: 0.0177 - val_loss: 0.0047 - val_mse: 0.0047\n",
            "Epoch 8/200\n",
            "19/19 [==============================] - 0s 7ms/step - loss: 0.0187 - mse: 0.0187 - val_loss: 0.0039 - val_mse: 0.0039\n",
            "Epoch 9/200\n",
            "19/19 [==============================] - 0s 7ms/step - loss: 0.0171 - mse: 0.0171 - val_loss: 0.0055 - val_mse: 0.0055\n",
            "Epoch 10/200\n",
            "19/19 [==============================] - 0s 6ms/step - loss: 0.0151 - mse: 0.0151 - val_loss: 0.0043 - val_mse: 0.0043\n",
            "Epoch 11/200\n",
            "19/19 [==============================] - 0s 7ms/step - loss: 0.0152 - mse: 0.0152 - val_loss: 0.0054 - val_mse: 0.0054\n",
            "Epoch 12/200\n",
            "19/19 [==============================] - 0s 7ms/step - loss: 0.0174 - mse: 0.0174 - val_loss: 0.0044 - val_mse: 0.0044\n",
            "Epoch 13/200\n",
            "19/19 [==============================] - 0s 6ms/step - loss: 0.0148 - mse: 0.0148 - val_loss: 0.0070 - val_mse: 0.0070\n",
            "Epoch 14/200\n",
            "19/19 [==============================] - 0s 6ms/step - loss: 0.0154 - mse: 0.0154 - val_loss: 0.0039 - val_mse: 0.0039\n",
            "Epoch 15/200\n",
            "19/19 [==============================] - 0s 5ms/step - loss: 0.0152 - mse: 0.0152 - val_loss: 0.0040 - val_mse: 0.0040\n",
            "Epoch 16/200\n",
            "19/19 [==============================] - 0s 5ms/step - loss: 0.0138 - mse: 0.0138 - val_loss: 0.0053 - val_mse: 0.0053\n",
            "Epoch 17/200\n",
            "19/19 [==============================] - 0s 5ms/step - loss: 0.0147 - mse: 0.0147 - val_loss: 0.0051 - val_mse: 0.0051\n",
            "Epoch 18/200\n",
            "19/19 [==============================] - 0s 8ms/step - loss: 0.0127 - mse: 0.0127 - val_loss: 0.0034 - val_mse: 0.0034\n",
            "Epoch 19/200\n",
            "19/19 [==============================] - 0s 7ms/step - loss: 0.0145 - mse: 0.0145 - val_loss: 0.0051 - val_mse: 0.0051\n",
            "Epoch 20/200\n",
            "19/19 [==============================] - 0s 6ms/step - loss: 0.0143 - mse: 0.0143 - val_loss: 0.0050 - val_mse: 0.0050\n",
            "Epoch 21/200\n",
            "19/19 [==============================] - 0s 6ms/step - loss: 0.0136 - mse: 0.0136 - val_loss: 0.0042 - val_mse: 0.0042\n",
            "Epoch 22/200\n",
            "19/19 [==============================] - 0s 6ms/step - loss: 0.0143 - mse: 0.0143 - val_loss: 0.0039 - val_mse: 0.0039\n",
            "Epoch 23/200\n",
            "19/19 [==============================] - 0s 6ms/step - loss: 0.0115 - mse: 0.0115 - val_loss: 0.0041 - val_mse: 0.0041\n",
            "Epoch 24/200\n",
            "19/19 [==============================] - 0s 5ms/step - loss: 0.0128 - mse: 0.0128 - val_loss: 0.0059 - val_mse: 0.0059\n",
            "Epoch 25/200\n",
            "19/19 [==============================] - 0s 6ms/step - loss: 0.0131 - mse: 0.0131 - val_loss: 0.0043 - val_mse: 0.0043\n",
            "Epoch 26/200\n",
            "19/19 [==============================] - 0s 5ms/step - loss: 0.0112 - mse: 0.0112 - val_loss: 0.0033 - val_mse: 0.0033\n",
            "Epoch 27/200\n",
            "19/19 [==============================] - 0s 5ms/step - loss: 0.0136 - mse: 0.0136 - val_loss: 0.0034 - val_mse: 0.0034\n",
            "Epoch 28/200\n",
            "19/19 [==============================] - 0s 6ms/step - loss: 0.0112 - mse: 0.0112 - val_loss: 0.0042 - val_mse: 0.0042\n",
            "Epoch 29/200\n",
            "19/19 [==============================] - 0s 5ms/step - loss: 0.0145 - mse: 0.0145 - val_loss: 0.0034 - val_mse: 0.0034\n",
            "Epoch 30/200\n",
            "19/19 [==============================] - 0s 5ms/step - loss: 0.0131 - mse: 0.0131 - val_loss: 0.0045 - val_mse: 0.0045\n",
            "Epoch 31/200\n",
            "19/19 [==============================] - 0s 5ms/step - loss: 0.0123 - mse: 0.0123 - val_loss: 0.0035 - val_mse: 0.0035\n",
            "Epoch 32/200\n",
            "19/19 [==============================] - 0s 7ms/step - loss: 0.0119 - mse: 0.0119 - val_loss: 0.0030 - val_mse: 0.0030\n",
            "Epoch 33/200\n",
            "19/19 [==============================] - 0s 5ms/step - loss: 0.0105 - mse: 0.0105 - val_loss: 0.0039 - val_mse: 0.0039\n",
            "Epoch 34/200\n",
            "19/19 [==============================] - 0s 6ms/step - loss: 0.0117 - mse: 0.0117 - val_loss: 0.0054 - val_mse: 0.0054\n",
            "Epoch 35/200\n",
            "19/19 [==============================] - 0s 6ms/step - loss: 0.0130 - mse: 0.0130 - val_loss: 0.0048 - val_mse: 0.0048\n",
            "Epoch 36/200\n",
            "19/19 [==============================] - 0s 5ms/step - loss: 0.0118 - mse: 0.0118 - val_loss: 0.0033 - val_mse: 0.0033\n",
            "Epoch 37/200\n",
            "19/19 [==============================] - 0s 5ms/step - loss: 0.0110 - mse: 0.0110 - val_loss: 0.0034 - val_mse: 0.0034\n",
            "Epoch 38/200\n",
            "19/19 [==============================] - 0s 5ms/step - loss: 0.0121 - mse: 0.0121 - val_loss: 0.0044 - val_mse: 0.0044\n",
            "Epoch 39/200\n",
            "19/19 [==============================] - 0s 6ms/step - loss: 0.0102 - mse: 0.0102 - val_loss: 0.0034 - val_mse: 0.0034\n",
            "Epoch 40/200\n",
            "19/19 [==============================] - 0s 5ms/step - loss: 0.0124 - mse: 0.0124 - val_loss: 0.0031 - val_mse: 0.0031\n",
            "Epoch 41/200\n",
            "19/19 [==============================] - 0s 5ms/step - loss: 0.0131 - mse: 0.0131 - val_loss: 0.0042 - val_mse: 0.0042\n",
            "Epoch 42/200\n",
            "19/19 [==============================] - 0s 5ms/step - loss: 0.0109 - mse: 0.0109 - val_loss: 0.0042 - val_mse: 0.0042\n"
          ]
        }
      ],
      "source": [
        "from keras.callbacks import EarlyStopping, ModelCheckpoint\n",
        "# checkpoint = ModelCheckpoint(filename, monitor='val_loss', verbose=1, save_best_only=True, mode='auto')\n",
        "early_stop = EarlyStopping(monitor='val_loss', patience=10)\n",
        "history = model.fit(x_train, y_train, \n",
        "                                    epochs=200, \n",
        "                                    batch_size=16,\n",
        "                                    validation_split=0.2, \n",
        "                                    callbacks=[early_stop])  #, checkpoint])"
      ]
    },
    {
      "cell_type": "code",
      "execution_count": null,
      "id": "colored-affair",
      "metadata": {
        "id": "colored-affair",
        "outputId": "0a0d704a-346a-408e-d6d3-bf075b350f2e"
      },
      "outputs": [
        {
          "data": {
            "image/png": "[encoded data removed]",
            "text/plain": [
              "<Figure size 432x288 with 1 Axes>"
            ]
          },
          "metadata": {},
          "output_type": "display_data"
        }
      ],
      "source": [
        "y_vloss = history.history['val_loss']\n",
        "y_loss = history.history['loss']\n",
        "\n",
        "plt.plot(np.arange(len(y_loss)), history.history['loss'],    marker='.', c='red', label=\"loss\")\n",
        "plt.plot(np.arange(len(y_loss)), history.history['val_loss'], marker='.', c='blue', label=\"val_loss\")\n",
        "plt.legend()\n",
        "plt.xlabel('epoch')\n",
        "plt.ylabel('loss')\n",
        "plt.show()"
      ]
    },
    {
      "cell_type": "code",
      "execution_count": null,
      "id": "descending-jones",
      "metadata": {
        "id": "descending-jones",
        "outputId": "8d1602d1-ed8f-4fea-d6ef-ed14e4571396"
      },
      "outputs": [
        {
          "data": {
            "text/plain": [
              "(97, 10)"
            ]
          },
          "execution_count": 49,
          "metadata": {},
          "output_type": "execute_result"
        }
      ],
      "source": [
        "test_scaler.shape"
      ]
    },
    {
      "cell_type": "code",
      "execution_count": null,
      "id": "every-array",
      "metadata": {
        "id": "every-array"
      },
      "outputs": [],
      "source": [
        "window_size = 5\n",
        "xtlist= []\n",
        "ytlist = []\n",
        "for i in range(window_size, test_scaler.shape[0]):    \n",
        "    xtlist.append(test_scaler[i-window_size:i])\n",
        "    ytlist.append(test_scaler[i,3])  #Close\n",
        "x_test, y_test = np.array(xtlist), np.array(ytlist)"
      ]
    },
    {
      "cell_type": "code",
      "execution_count": null,
      "id": "improving-aviation",
      "metadata": {
        "id": "improving-aviation",
        "outputId": "3313e3f9-8018-46a2-9d4a-c0e9054c4230"
      },
      "outputs": [
        {
          "data": {
            "text/plain": [
              "((92, 5, 10), (92,))"
            ]
          },
          "execution_count": 51,
          "metadata": {},
          "output_type": "execute_result"
        }
      ],
      "source": [
        "x_test.shape, y_test.shape"
      ]
    },
    {
      "cell_type": "code",
      "execution_count": null,
      "id": "diverse-heart",
      "metadata": {
        "id": "diverse-heart"
      },
      "outputs": [],
      "source": [
        "pred = model.predict(x_test)"
      ]
    },
    {
      "cell_type": "code",
      "execution_count": null,
      "id": "bacterial-fortune",
      "metadata": {
        "id": "bacterial-fortune",
        "outputId": "58268485-ea63-4ed2-9e63-4d3294cd9648"
      },
      "outputs": [
        {
          "data": {
            "image/png": "[encoded data removed]",
            "text/plain": [
              "<Figure size 864x288 with 1 Axes>"
            ]
          },
          "metadata": {},
          "output_type": "display_data"
        }
      ],
      "source": [
        "plt.figure(figsize=(12, 4))\n",
        "plt.plot(y_test, label = 'real')\n",
        "plt.plot(pred, label = 'pred')\n",
        "plt.legend()\n",
        "plt.show()"
      ]
    },
    {
      "cell_type": "code",
      "execution_count": null,
      "id": "severe-university",
      "metadata": {
        "id": "severe-university",
        "outputId": "a414a660-c7cf-4752-a922-5adddc42a0b2"
      },
      "outputs": [
        {
          "name": "stdout",
          "output_type": "stream",
          "text": [
            "MSE :  0.015635836625575807\n"
          ]
        }
      ],
      "source": [
        "from sklearn.metrics import mean_squared_error\n",
        "print('MSE : ', mean_squared_error(y_test, pred)) \n"
      ]
    },
    {
      "cell_type": "markdown",
      "source": [
        "# 효율적 투자선"
      ],
      "metadata": {
        "id": "Dg-MbYY_73Cs"
      },
      "id": "Dg-MbYY_73Cs"
    },
    {
      "cell_type": "code",
      "execution_count": null,
      "metadata": {
        "id": "lesser-velvet"
      },
      "outputs": [],
      "source": [
        "import numpy as np\n",
        "import pandas as pd\n",
        "import matplotlib.pyplot as plt\n",
        "from pykrx import stock\n",
        "\n",
        "import time\n",
        "from functools import wraps\n",
        "from xml.etree import ElementTree\n",
        "\n",
        "import pandas as pd\n",
        "import numpy as np\n",
        "from datetime import datetime, date\n",
        "from pykrx import stock\n",
        "\n"
      ],
      "id": "lesser-velvet"
    },
    {
      "cell_type": "code",
      "execution_count": null,
      "metadata": {
        "id": "focused-necessity"
      },
      "outputs": [],
      "source": [
        "# def my_ticker(*names):    \n",
        "#     df_code = pd.read_html('http://kind.krx.co.kr/corpgeneral/corpList.do?method=download', header=0)[0]\n",
        "#     df_code.종목코드 = df_code.종목코드.map('{:06d}'.format)\n",
        "#     df_code = df_code[['회사명', '종목코드']]\n",
        "#     code_list = []\n",
        "#     for name in names:\n",
        "#         code = df_code.query(\"회사명=='{}'\".format(name))['종목코드'].to_string(index=False)\n",
        "#         code_list.append(code)\n",
        "#     return code_list\n",
        "# #     return code.strip()\n",
        "# my_ticker('삼성전자','현대자동차')"
      ],
      "id": "focused-necessity"
    },
    {
      "cell_type": "code",
      "execution_count": null,
      "metadata": {
        "id": "oriental-dodge"
      },
      "outputs": [],
      "source": [
        "def my_ticker(names):    \n",
        "    df_code = pd.read_html('http://kind.krx.co.kr/corpgeneral/corpList.do?method=download', header=0)[0]\n",
        "    df_code.종목코드 = df_code.종목코드.map('{:06d}'.format)\n",
        "\n",
        "    df_code = df_code[['회사명', '종목코드']]\n",
        "    code_list = []\n",
        "    for name in names:\n",
        "        code = df_code.query(\"회사명=='{}'\".format(name))['종목코드'].to_string(index=False)\n",
        "        code_list.append(code)\n",
        "    return code_list\n",
        "\n",
        "# stocks = my_ticker(['삼성전자', 'SK하이닉스', '현대자동차', 'NAVER'])\n",
        "# print(stocks)"
      ],
      "id": "oriental-dodge"
    },
    {
      "cell_type": "code",
      "execution_count": null,
      "metadata": {
        "id": "purple-keeping"
      },
      "outputs": [],
      "source": [
        "# def logger(func):\n",
        "#     @wraps(func)\n",
        "#     def wrapper(*args, **kwargs):\n",
        "#         start = time.perf_counter()\n",
        "#         success, failed = func(*args, **kwargs)\n",
        "#         end = time.perf_counter() - start\n",
        "#         func_start, func_end = args[0], args[1]\n",
        "#         print(#f'#date: {func_start} ~ {func_end}, \\n',\n",
        "#               f'#success: {success} item(s), \\n',\n",
        "#               f'#failed: {failed} item(s), \\n',\n",
        "#              )\n",
        "#     return wrapper\n",
        "# @logger\n",
        "def my_krx(start, end, *codes):\n",
        "    error_list = []\n",
        "    failed = 0\n",
        "    success = 0\n",
        "    for code in codes:\n",
        "        try:\n",
        "            df = stock.get_market_ohlcv_by_date(start, end, code)\n",
        "            df.reset_index(inplace=True)\n",
        "            df.insert(loc=1, column='종목코드', value=code)\n",
        "            df.columns = ['date', 'code', 'open', 'high', 'low', 'close','volume']\n",
        "            success += 1\n",
        "        except ElementTree.ParseError as e:\n",
        "            error_list.append(e)\n",
        "            drop_rows(database, table, code)  # 특정 종목코드에서 에러 발생 시 해당 종목코드에 대한 데이터 삭제 후 다음 종목코드로 넘어감\n",
        "            failed += 1\n",
        "            continue\n",
        "        except Exception as e:\n",
        "            print('Error occurred : ', e)\n",
        "            failed += 1\n",
        "            continue\n",
        "    print(f'success:{success}, failed:{failed}')\n",
        "    return df"
      ],
      "id": "purple-keeping"
    },
    {
      "cell_type": "code",
      "execution_count": null,
      "metadata": {
        "id": "uniform-congo",
        "outputId": "2dbeb58a-889e-4fc1-c1b3-4ff6a7a64d39"
      },
      "outputs": [
        {
          "name": "stdout",
          "output_type": "stream",
          "text": [
            "['005930', '000660', '005380', '035420']\n",
            "success:1, failed:0\n",
            "success:1, failed:0\n",
            "success:1, failed:0\n",
            "success:1, failed:0\n"
          ]
        },
        {
          "data": {
            "text/html": [
              "<div>\n",
              "<style scoped>\n",
              "    .dataframe tbody tr th:only-of-type {\n",
              "        vertical-align: middle;\n",
              "    }\n",
              "\n",
              "    .dataframe tbody tr th {\n",
              "        vertical-align: top;\n",
              "    }\n",
              "\n",
              "    .dataframe thead th {\n",
              "        text-align: right;\n",
              "    }\n",
              "</style>\n",
              "<table border=\"1\" class=\"dataframe\">\n",
              "  <thead>\n",
              "    <tr style=\"text-align: right;\">\n",
              "      <th></th>\n",
              "      <th>삼성전자</th>\n",
              "      <th>SK하이닉스</th>\n",
              "      <th>현대자동차</th>\n",
              "      <th>NAVER</th>\n",
              "    </tr>\n",
              "  </thead>\n",
              "  <tbody>\n",
              "    <tr>\n",
              "      <th>0</th>\n",
              "      <td>24100</td>\n",
              "      <td>30150</td>\n",
              "      <td>144000</td>\n",
              "      <td>126579</td>\n",
              "    </tr>\n",
              "    <tr>\n",
              "      <th>1</th>\n",
              "      <td>24160</td>\n",
              "      <td>30600</td>\n",
              "      <td>143500</td>\n",
              "      <td>127580</td>\n",
              "    </tr>\n",
              "    <tr>\n",
              "      <th>2</th>\n",
              "      <td>23500</td>\n",
              "      <td>30750</td>\n",
              "      <td>140000</td>\n",
              "      <td>124776</td>\n",
              "    </tr>\n",
              "    <tr>\n",
              "      <th>3</th>\n",
              "      <td>23260</td>\n",
              "      <td>30200</td>\n",
              "      <td>137500</td>\n",
              "      <td>130585</td>\n",
              "    </tr>\n",
              "    <tr>\n",
              "      <th>4</th>\n",
              "      <td>23420</td>\n",
              "      <td>29700</td>\n",
              "      <td>136500</td>\n",
              "      <td>130585</td>\n",
              "    </tr>\n",
              "  </tbody>\n",
              "</table>\n",
              "</div>"
            ],
            "text/plain": [
              "    삼성전자  SK하이닉스   현대자동차   NAVER\n",
              "0  24100   30150  144000  126579\n",
              "1  24160   30600  143500  127580\n",
              "2  23500   30750  140000  124776\n",
              "3  23260   30200  137500  130585\n",
              "4  23420   29700  136500  130585"
            ]
          },
          "execution_count": 5,
          "metadata": {},
          "output_type": "execute_result"
        }
      ],
      "source": [
        "stocks = ['삼성전자', 'SK하이닉스', '현대자동차', 'NAVER']\n",
        "stock_code = my_ticker(stocks)\n",
        "print(stock_code)\n",
        "\n",
        "df = pd.DataFrame()\n",
        "for i, code in enumerate(stock_code):\n",
        "    col = stocks[i]\n",
        "    df[col]= my_krx('20160104', '20180427', code)['close']\n",
        "df.head()"
      ],
      "id": "uniform-congo"
    },
    {
      "cell_type": "code",
      "execution_count": null,
      "metadata": {
        "id": "under-shade",
        "outputId": "2fe19741-7184-40b4-b0d7-5029c2a13393"
      },
      "outputs": [
        {
          "data": {
            "text/html": [
              "<div>\n",
              "<style scoped>\n",
              "    .dataframe tbody tr th:only-of-type {\n",
              "        vertical-align: middle;\n",
              "    }\n",
              "\n",
              "    .dataframe tbody tr th {\n",
              "        vertical-align: top;\n",
              "    }\n",
              "\n",
              "    .dataframe thead th {\n",
              "        text-align: right;\n",
              "    }\n",
              "</style>\n",
              "<table border=\"1\" class=\"dataframe\">\n",
              "  <thead>\n",
              "    <tr style=\"text-align: right;\">\n",
              "      <th></th>\n",
              "      <th>Returns</th>\n",
              "      <th>Risk</th>\n",
              "      <th>삼성전자</th>\n",
              "      <th>SK하이닉스</th>\n",
              "      <th>현대자동차</th>\n",
              "      <th>NAVER</th>\n",
              "    </tr>\n",
              "  </thead>\n",
              "  <tbody>\n",
              "    <tr>\n",
              "      <th>0</th>\n",
              "      <td>0.212604</td>\n",
              "      <td>0.181361</td>\n",
              "      <td>0.209552</td>\n",
              "      <td>0.136813</td>\n",
              "      <td>0.255188</td>\n",
              "      <td>0.398447</td>\n",
              "    </tr>\n",
              "    <tr>\n",
              "      <th>1</th>\n",
              "      <td>0.343733</td>\n",
              "      <td>0.224956</td>\n",
              "      <td>0.771567</td>\n",
              "      <td>0.059622</td>\n",
              "      <td>0.015681</td>\n",
              "      <td>0.153131</td>\n",
              "    </tr>\n",
              "    <tr>\n",
              "      <th>2</th>\n",
              "      <td>0.241071</td>\n",
              "      <td>0.179879</td>\n",
              "      <td>0.141388</td>\n",
              "      <td>0.253114</td>\n",
              "      <td>0.360791</td>\n",
              "      <td>0.244707</td>\n",
              "    </tr>\n",
              "    <tr>\n",
              "      <th>3</th>\n",
              "      <td>0.291814</td>\n",
              "      <td>0.184793</td>\n",
              "      <td>0.350236</td>\n",
              "      <td>0.224179</td>\n",
              "      <td>0.164491</td>\n",
              "      <td>0.261094</td>\n",
              "    </tr>\n",
              "    <tr>\n",
              "      <th>4</th>\n",
              "      <td>0.290981</td>\n",
              "      <td>0.184390</td>\n",
              "      <td>0.280187</td>\n",
              "      <td>0.270111</td>\n",
              "      <td>0.197803</td>\n",
              "      <td>0.251900</td>\n",
              "    </tr>\n",
              "    <tr>\n",
              "      <th>...</th>\n",
              "      <td>...</td>\n",
              "      <td>...</td>\n",
              "      <td>...</td>\n",
              "      <td>...</td>\n",
              "      <td>...</td>\n",
              "      <td>...</td>\n",
              "    </tr>\n",
              "    <tr>\n",
              "      <th>19995</th>\n",
              "      <td>0.277264</td>\n",
              "      <td>0.185164</td>\n",
              "      <td>0.239383</td>\n",
              "      <td>0.264718</td>\n",
              "      <td>0.188821</td>\n",
              "      <td>0.307079</td>\n",
              "    </tr>\n",
              "    <tr>\n",
              "      <th>19996</th>\n",
              "      <td>0.334963</td>\n",
              "      <td>0.194802</td>\n",
              "      <td>0.340124</td>\n",
              "      <td>0.333485</td>\n",
              "      <td>0.209066</td>\n",
              "      <td>0.117325</td>\n",
              "    </tr>\n",
              "    <tr>\n",
              "      <th>19997</th>\n",
              "      <td>0.317215</td>\n",
              "      <td>0.194560</td>\n",
              "      <td>0.204727</td>\n",
              "      <td>0.383196</td>\n",
              "      <td>0.241871</td>\n",
              "      <td>0.170205</td>\n",
              "    </tr>\n",
              "    <tr>\n",
              "      <th>19998</th>\n",
              "      <td>0.253800</td>\n",
              "      <td>0.207238</td>\n",
              "      <td>0.034179</td>\n",
              "      <td>0.362328</td>\n",
              "      <td>0.548043</td>\n",
              "      <td>0.055450</td>\n",
              "    </tr>\n",
              "    <tr>\n",
              "      <th>19999</th>\n",
              "      <td>0.208100</td>\n",
              "      <td>0.182303</td>\n",
              "      <td>0.115651</td>\n",
              "      <td>0.191791</td>\n",
              "      <td>0.328158</td>\n",
              "      <td>0.364400</td>\n",
              "    </tr>\n",
              "  </tbody>\n",
              "</table>\n",
              "<p>20000 rows × 6 columns</p>\n",
              "</div>"
            ],
            "text/plain": [
              "        Returns      Risk      삼성전자    SK하이닉스     현대자동차     NAVER\n",
              "0      0.212604  0.181361  0.209552  0.136813  0.255188  0.398447\n",
              "1      0.343733  0.224956  0.771567  0.059622  0.015681  0.153131\n",
              "2      0.241071  0.179879  0.141388  0.253114  0.360791  0.244707\n",
              "3      0.291814  0.184793  0.350236  0.224179  0.164491  0.261094\n",
              "4      0.290981  0.184390  0.280187  0.270111  0.197803  0.251900\n",
              "...         ...       ...       ...       ...       ...       ...\n",
              "19995  0.277264  0.185164  0.239383  0.264718  0.188821  0.307079\n",
              "19996  0.334963  0.194802  0.340124  0.333485  0.209066  0.117325\n",
              "19997  0.317215  0.194560  0.204727  0.383196  0.241871  0.170205\n",
              "19998  0.253800  0.207238  0.034179  0.362328  0.548043  0.055450\n",
              "19999  0.208100  0.182303  0.115651  0.191791  0.328158  0.364400\n",
              "\n",
              "[20000 rows x 6 columns]"
            ]
          },
          "execution_count": 6,
          "metadata": {},
          "output_type": "execute_result"
        }
      ],
      "source": [
        " \n",
        "daily_ret = df.pct_change() \n",
        "annual_ret = daily_ret.mean() * 252\n",
        "daily_cov = daily_ret.cov() \n",
        "annual_cov = daily_cov * 252\n",
        "\n",
        "port_ret = [] \n",
        "port_risk = [] \n",
        "port_weights = [] \n",
        "\n",
        "for _ in range(20000): \n",
        "    weights = np.random.random(len(stocks)) #포트폴리오 편입 비중 랜덤으로 계속 돌린다. -> 모든 경우의 수 찾기\n",
        "    weights /= np.sum(weights) \n",
        "\n",
        "    returns = np.dot(weights, annual_ret) \n",
        "    risk = np.sqrt(np.dot(weights.T, np.dot(annual_cov, weights))) \n",
        "\n",
        "    port_ret.append(returns) \n",
        "    port_risk.append(risk) \n",
        "    port_weights.append(weights) \n",
        "\n",
        "portfolio = {'Returns': port_ret, 'Risk': port_risk} \n",
        "for i, s in enumerate(stocks): \n",
        "    portfolio[s] = [weight[i] for weight in port_weights] \n",
        "df = pd.DataFrame(portfolio) \n",
        "df = df[['Returns', 'Risk'] + [s for s in stocks]] \n",
        "df"
      ],
      "id": "under-shade"
    },
    {
      "cell_type": "code",
      "execution_count": null,
      "metadata": {
        "id": "critical-surname",
        "outputId": "901b0a3e-348f-4436-ab0f-1dfdec057caf"
      },
      "outputs": [
        {
          "data": {
            "image/png": "[encoded data removed]",
            "text/plain": [
              "<Figure size 576x432 with 1 Axes>"
            ]
          },
          "metadata": {
            "needs_background": "light"
          },
          "output_type": "display_data"
        }
      ],
      "source": [
        "df.plot.scatter(x='Risk', y='Returns', figsize=(8, 6), grid=True)\n",
        "plt.title('Efficient Frontier') \n",
        "plt.xlabel('Risk') \n",
        "plt.ylabel('Expected Returns') \n",
        "plt.show() "
      ],
      "id": "critical-surname"
    },
    {
      "cell_type": "markdown",
      "metadata": {
        "id": "92175420-a0e9-4164-8608-dda365917bac"
      },
      "source": [
        "# 스토캐스틱 오실레이터(Stochastic Oscillator)"
      ],
      "id": "92175420-a0e9-4164-8608-dda365917bac"
    },
    {
      "cell_type": "markdown",
      "source": [
        "\n",
        "<img  width=\"700\" height=\"\" src=\"https://blog.kakaocdn.net/dn/eo87CL/btrytjGRGP9/AyDEG5QdiafggoDoBQA7kk/img.png\">"
      ],
      "metadata": {
        "id": "r_7hmulTTRJa"
      },
      "id": "r_7hmulTTRJa"
    },
    {
      "cell_type": "markdown",
      "metadata": {
        "id": "f2b377af-8f74-4b44-9fc7-430acd97a315"
      },
      "source": [
        "* <font size=4 color=blue><b>주식투자의 기술적 분석에 사용되는 보조 지표</b></font>\n",
        "* <font size=4 color=blue><b>최근 n일간의 최고가와 최저가의 범위 내에서 현재 가격의 위치를 표시</b></font>\n",
        "* <font size=4 color=blue><b> 스토캐스틱n= (현재 가격 - n일중 최저가)/(n일중 최고가 - n일중 최저가)</b></font>\n",
        "* 대부분 증권사에서는 n(5)-m(3)-t(3)를 사용,  네이버금융은 n(15)-m(5)-t(3) \n",
        "* 매수세 > 매도세 : 위치가 높게 형성  --> 과매수 상태에 들어서면 하락 가능성이 커진다\n",
        "* 매수세 < 매도세 : 위치가 낮게 형성  --> 과매도 상태에 들어서면 상승 가능성이 커진다"
      ],
      "id": "f2b377af-8f74-4b44-9fc7-430acd97a315"
    },
    {
      "cell_type": "markdown",
      "metadata": {
        "id": "dc087b49-1dcb-425f-96d7-767da6569517"
      },
      "source": [
        "## Fast Stochastic \n",
        "* 그래프의 변화가 너무 잦고 급격하여 노이즈 즉 가짜 신호가 많아 매수 매도시 참고하기 어렵다\n",
        "    * Fast %K = (C-L)/(H-L) * 100\n",
        "    * Fast %D = Fask %K의 m기간 이동평균(SMA)"
      ],
      "id": "dc087b49-1dcb-425f-96d7-767da6569517"
    },
    {
      "cell_type": "markdown",
      "metadata": {
        "tags": [],
        "id": "23b5b17a-11b3-4b75-9fe0-f36d21ba3ac7"
      },
      "source": [
        "## Slow Stochastic \n",
        "* KDJ Stochastic 지표 : Fast %K (K), Slow %K (D), Slow %D (J) \n",
        "    * Slow %K = Fast %K의 m기간 이동평균(SMA)\n",
        "    * Slow %D = Slow %K의 t기간 이동평균(SMA)"
      ],
      "id": "23b5b17a-11b3-4b75-9fe0-f36d21ba3ac7"
    },
    {
      "cell_type": "markdown",
      "metadata": {
        "tags": [],
        "id": "b2202a81-3d86-4729-a88f-1c8b1825a13a"
      },
      "source": [
        "### 최근 15일 중 최고가 15,000원이고 최저가가 10,000, 현재가격이 14,000원 일 경우 스토캐스틱?"
      ],
      "id": "b2202a81-3d86-4729-a88f-1c8b1825a13a"
    },
    {
      "cell_type": "code",
      "execution_count": null,
      "metadata": {
        "id": "57357fa1-9bfa-434c-a25d-ff9b24cff384",
        "outputId": "210d42e8-e0d2-4553-c7cf-30a6c3d108b0"
      },
      "outputs": [
        {
          "data": {
            "text/plain": [
              "80.0"
            ]
          },
          "execution_count": 1,
          "metadata": {},
          "output_type": "execute_result"
        }
      ],
      "source": [
        "so = (14000 - 10000) / (15000 - 10000) *100\n",
        "so"
      ],
      "id": "57357fa1-9bfa-434c-a25d-ff9b24cff384"
    },
    {
      "cell_type": "markdown",
      "metadata": {
        "id": "82b34e50-4b1b-4b16-9b07-0c1cc162876b"
      },
      "source": [
        "### 최근 15일 중 최고가 15,000원이고 최저가가 10,000, 현재가격이 11,000원 일 경우 스토캐스틱?"
      ],
      "id": "82b34e50-4b1b-4b16-9b07-0c1cc162876b"
    },
    {
      "cell_type": "code",
      "execution_count": null,
      "metadata": {
        "id": "ce1fabac-ac87-4959-ac9e-509a8f34a0a9",
        "outputId": "fcac0f38-f4db-4667-8343-3dc5fe78c8c2"
      },
      "outputs": [
        {
          "data": {
            "text/plain": [
              "20.0"
            ]
          },
          "execution_count": 2,
          "metadata": {},
          "output_type": "execute_result"
        }
      ],
      "source": [
        "so = (11000 - 10000) / (15000 - 10000) *100\n",
        "so"
      ],
      "id": "ce1fabac-ac87-4959-ac9e-509a8f34a0a9"
    },
    {
      "cell_type": "markdown",
      "metadata": {
        "id": "9213da6f-d018-4568-b16d-d8c83260eb11"
      },
      "source": [
        "## 활용 예"
      ],
      "id": "9213da6f-d018-4568-b16d-d8c83260eb11"
    },
    {
      "cell_type": "code",
      "execution_count": null,
      "metadata": {
        "id": "21fee1bc-c08f-407c-bf23-29976c834359",
        "outputId": "c8bd8dd5-c739-4b9f-c618-33eace9c2b97"
      },
      "outputs": [
        {
          "data": {
            "text/html": [
              "<style>.container{width:100% !important;}</style>"
            ],
            "text/plain": [
              "<IPython.core.display.HTML object>"
            ]
          },
          "metadata": {},
          "output_type": "display_data"
        }
      ],
      "source": [
        "import pandas as pd\n",
        "import datetime as dt\n",
        "from pykrx import stock\n",
        "import matplotlib.pyplot as plt\n",
        "import seaborn as sns\n",
        "\n",
        "import warnings\n",
        "warnings.filterwarnings(action='ignore')\n",
        "\n",
        "#-------------------- 차트 관련 속성 (한글처리, 그리드) -----------\n",
        "plt.rcParams['font.family']= 'Malgun Gothic'\n",
        "plt.rcParams['axes.unicode_minus'] = False\n",
        "plt.rc('font', family='Malgun Gothic')\n",
        "sns.set()\n",
        "\n",
        "#-------------------- 주피터 , 출력결과 넓이 늘리기 ---------------\n",
        "from IPython.core.display import display, HTML\n",
        "display(HTML(\"<style>.container{width:100% !important;}</style>\"))\n",
        "pd.set_option('display.max_rows', 100)\n",
        "pd.set_option('display.max_columns', 100)\n",
        "pd.set_option('max_colwidth', None)"
      ],
      "id": "21fee1bc-c08f-407c-bf23-29976c834359"
    },
    {
      "cell_type": "markdown",
      "metadata": {
        "id": "4d19c482-2c32-4b49-868b-deaba327614a"
      },
      "source": [
        "### fast_k, slow_k, slow_d"
      ],
      "id": "4d19c482-2c32-4b49-868b-deaba327614a"
    },
    {
      "cell_type": "code",
      "execution_count": null,
      "metadata": {
        "id": "50816625-9860-4411-8696-2cc65c86e0f1"
      },
      "outputs": [],
      "source": [
        "# Fast %K = n기간 Fast Stochastic \n",
        "def my_fast_k(close_price, low, high, n=5):\n",
        "    #(C-L)/(H-L) * 100\n",
        "    fast_k = ((close_price - low.rolling(n).min()) / (high.rolling(n).max() - low.rolling(n).min())) * 100\n",
        "    return fast_k\n",
        "\n",
        "# Slow %K = Fast %K의 m기간 이동평균(SMA)\n",
        "def my_slow_k(fast_k, m=3):\n",
        "    slow_k = fast_k.rolling(m).mean()\n",
        "    return slow_k\n",
        "\n",
        "# Slow %D = Slow %K의 t기간 이동평균(SMA)\n",
        "def my_slow_d(slow_k, t=3):\n",
        "    slow_d = slow_k.rolling(t).mean()\n",
        "    return slow_d"
      ],
      "id": "50816625-9860-4411-8696-2cc65c86e0f1"
    },
    {
      "cell_type": "markdown",
      "metadata": {
        "id": "a84df7ba-73d4-483d-bb5f-ad6b526be484"
      },
      "source": [
        "### OHLCV data load"
      ],
      "id": "a84df7ba-73d4-483d-bb5f-ad6b526be484"
    },
    {
      "cell_type": "code",
      "execution_count": null,
      "metadata": {
        "id": "e3cb9c29-6821-4f29-8d64-075ff27b7cf6",
        "outputId": "c12c2ab3-2608-47b7-8d16-b45f288f2299"
      },
      "outputs": [
        {
          "data": {
            "text/html": [
              "<div>\n",
              "<style scoped>\n",
              "    .dataframe tbody tr th:only-of-type {\n",
              "        vertical-align: middle;\n",
              "    }\n",
              "\n",
              "    .dataframe tbody tr th {\n",
              "        vertical-align: top;\n",
              "    }\n",
              "\n",
              "    .dataframe thead th {\n",
              "        text-align: right;\n",
              "    }\n",
              "</style>\n",
              "<table border=\"1\" class=\"dataframe\">\n",
              "  <thead>\n",
              "    <tr style=\"text-align: right;\">\n",
              "      <th></th>\n",
              "      <th>Open</th>\n",
              "      <th>High</th>\n",
              "      <th>Low</th>\n",
              "      <th>Close</th>\n",
              "      <th>Volume</th>\n",
              "    </tr>\n",
              "    <tr>\n",
              "      <th>날짜</th>\n",
              "      <th></th>\n",
              "      <th></th>\n",
              "      <th></th>\n",
              "      <th></th>\n",
              "      <th></th>\n",
              "    </tr>\n",
              "  </thead>\n",
              "  <tbody>\n",
              "    <tr>\n",
              "      <th>2021-06-01</th>\n",
              "      <td>80500</td>\n",
              "      <td>81300</td>\n",
              "      <td>80100</td>\n",
              "      <td>80600</td>\n",
              "      <td>14058401</td>\n",
              "    </tr>\n",
              "    <tr>\n",
              "      <th>2021-06-02</th>\n",
              "      <td>80400</td>\n",
              "      <td>81400</td>\n",
              "      <td>80300</td>\n",
              "      <td>80800</td>\n",
              "      <td>16414644</td>\n",
              "    </tr>\n",
              "    <tr>\n",
              "      <th>2021-06-03</th>\n",
              "      <td>81300</td>\n",
              "      <td>83000</td>\n",
              "      <td>81100</td>\n",
              "      <td>82800</td>\n",
              "      <td>29546007</td>\n",
              "    </tr>\n",
              "    <tr>\n",
              "      <th>2021-06-04</th>\n",
              "      <td>82700</td>\n",
              "      <td>82700</td>\n",
              "      <td>81500</td>\n",
              "      <td>82200</td>\n",
              "      <td>18112259</td>\n",
              "    </tr>\n",
              "    <tr>\n",
              "      <th>2021-06-07</th>\n",
              "      <td>82700</td>\n",
              "      <td>82800</td>\n",
              "      <td>81600</td>\n",
              "      <td>81900</td>\n",
              "      <td>16496197</td>\n",
              "    </tr>\n",
              "  </tbody>\n",
              "</table>\n",
              "</div>"
            ],
            "text/plain": [
              "             Open   High    Low  Close    Volume\n",
              "날짜                                              \n",
              "2021-06-01  80500  81300  80100  80600  14058401\n",
              "2021-06-02  80400  81400  80300  80800  16414644\n",
              "2021-06-03  81300  83000  81100  82800  29546007\n",
              "2021-06-04  82700  82700  81500  82200  18112259\n",
              "2021-06-07  82700  82800  81600  81900  16496197"
            ]
          },
          "execution_count": 5,
          "metadata": {},
          "output_type": "execute_result"
        }
      ],
      "source": [
        "start  = \"2021-06-01\"\n",
        "end    = \"2021-12-31\"\n",
        "ticker = \"005930\"\n",
        "# ---------------------------------------\n",
        "df = stock.get_market_ohlcv(start, end, ticker)\n",
        "#df = stock.get_market_ohlcv(\"2021-01-01\", \"2021-12-31\", \"005930\")\n",
        "df.columns = [\"Open\",\"High\",\"Low\",\"Close\",\"Volume\"]\n",
        "df.head()"
      ],
      "id": "e3cb9c29-6821-4f29-8d64-075ff27b7cf6"
    },
    {
      "cell_type": "code",
      "execution_count": null,
      "metadata": {
        "id": "48554bc1-d949-4635-a820-4fbde2bfb19f",
        "outputId": "728022f8-e340-4026-ce57-c3750480b53e"
      },
      "outputs": [
        {
          "data": {
            "text/html": [
              "<div>\n",
              "<style scoped>\n",
              "    .dataframe tbody tr th:only-of-type {\n",
              "        vertical-align: middle;\n",
              "    }\n",
              "\n",
              "    .dataframe tbody tr th {\n",
              "        vertical-align: top;\n",
              "    }\n",
              "\n",
              "    .dataframe thead th {\n",
              "        text-align: right;\n",
              "    }\n",
              "</style>\n",
              "<table border=\"1\" class=\"dataframe\">\n",
              "  <thead>\n",
              "    <tr style=\"text-align: right;\">\n",
              "      <th></th>\n",
              "      <th>Open</th>\n",
              "      <th>High</th>\n",
              "      <th>Low</th>\n",
              "      <th>Close</th>\n",
              "      <th>Volume</th>\n",
              "      <th>fast_k</th>\n",
              "      <th>slow_k</th>\n",
              "      <th>slow_d</th>\n",
              "    </tr>\n",
              "    <tr>\n",
              "      <th>날짜</th>\n",
              "      <th></th>\n",
              "      <th></th>\n",
              "      <th></th>\n",
              "      <th></th>\n",
              "      <th></th>\n",
              "      <th></th>\n",
              "      <th></th>\n",
              "      <th></th>\n",
              "    </tr>\n",
              "  </thead>\n",
              "  <tbody>\n",
              "    <tr>\n",
              "      <th>2021-06-01</th>\n",
              "      <td>80500</td>\n",
              "      <td>81300</td>\n",
              "      <td>80100</td>\n",
              "      <td>80600</td>\n",
              "      <td>14058401</td>\n",
              "      <td>NaN</td>\n",
              "      <td>NaN</td>\n",
              "      <td>NaN</td>\n",
              "    </tr>\n",
              "    <tr>\n",
              "      <th>2021-06-02</th>\n",
              "      <td>80400</td>\n",
              "      <td>81400</td>\n",
              "      <td>80300</td>\n",
              "      <td>80800</td>\n",
              "      <td>16414644</td>\n",
              "      <td>NaN</td>\n",
              "      <td>NaN</td>\n",
              "      <td>NaN</td>\n",
              "    </tr>\n",
              "    <tr>\n",
              "      <th>2021-06-03</th>\n",
              "      <td>81300</td>\n",
              "      <td>83000</td>\n",
              "      <td>81100</td>\n",
              "      <td>82800</td>\n",
              "      <td>29546007</td>\n",
              "      <td>NaN</td>\n",
              "      <td>NaN</td>\n",
              "      <td>NaN</td>\n",
              "    </tr>\n",
              "    <tr>\n",
              "      <th>2021-06-04</th>\n",
              "      <td>82700</td>\n",
              "      <td>82700</td>\n",
              "      <td>81500</td>\n",
              "      <td>82200</td>\n",
              "      <td>18112259</td>\n",
              "      <td>NaN</td>\n",
              "      <td>NaN</td>\n",
              "      <td>NaN</td>\n",
              "    </tr>\n",
              "    <tr>\n",
              "      <th>2021-06-07</th>\n",
              "      <td>82700</td>\n",
              "      <td>82800</td>\n",
              "      <td>81600</td>\n",
              "      <td>81900</td>\n",
              "      <td>16496197</td>\n",
              "      <td>62.068966</td>\n",
              "      <td>NaN</td>\n",
              "      <td>NaN</td>\n",
              "    </tr>\n",
              "  </tbody>\n",
              "</table>\n",
              "</div>"
            ],
            "text/plain": [
              "             Open   High    Low  Close    Volume     fast_k  slow_k  slow_d\n",
              "날짜                                                                         \n",
              "2021-06-01  80500  81300  80100  80600  14058401        NaN     NaN     NaN\n",
              "2021-06-02  80400  81400  80300  80800  16414644        NaN     NaN     NaN\n",
              "2021-06-03  81300  83000  81100  82800  29546007        NaN     NaN     NaN\n",
              "2021-06-04  82700  82700  81500  82200  18112259        NaN     NaN     NaN\n",
              "2021-06-07  82700  82800  81600  81900  16496197  62.068966     NaN     NaN"
            ]
          },
          "execution_count": 6,
          "metadata": {},
          "output_type": "execute_result"
        }
      ],
      "source": [
        "df['fast_k'] = my_fast_k(df['Close'], df['Low'], df['High'], 5)\n",
        "df['slow_k'] = my_slow_k(df['fast_k'], 3)\n",
        "df['slow_d'] = my_slow_d(df['slow_k'], 3)\n",
        "df.head()"
      ],
      "id": "48554bc1-d949-4635-a820-4fbde2bfb19f"
    },
    {
      "cell_type": "code",
      "execution_count": null,
      "metadata": {
        "id": "c213b13a-6023-4649-a088-4c1b6c9dd55c"
      },
      "outputs": [],
      "source": [
        "df = df.dropna(axis=0)"
      ],
      "id": "c213b13a-6023-4649-a088-4c1b6c9dd55c"
    },
    {
      "cell_type": "markdown",
      "metadata": {
        "id": "1bb838e9-7088-4643-a534-a7863e86dc5d"
      },
      "source": [
        "### plot"
      ],
      "id": "1bb838e9-7088-4643-a534-a7863e86dc5d"
    },
    {
      "cell_type": "markdown",
      "metadata": {
        "id": "d1ff40c3-f348-4fa7-974a-5bf0d5b78788"
      },
      "source": [
        "* 캐스틱이 80 이상일 때 과매수 상태, 20 이하일 때 과매도 상태로 판단\n",
        "    * 골든크로스(매수) : 스토캐스틱 20 이하에서 <font color=blue>%K선</font>이 <font color='red'>%D</font>선을 상향 돌파\n",
        "    * 데드크로스(매도) : 스토캐스틱 80 이상에서 <font color=blue>%K선</font>이 <font color='red'>%D</font>선을 하향 돌파\n",
        "*   0% : N일간 최저가(가장 강한 매수세)\n",
        "* 100% : N일간 최고가(가장 강한 매도세)\n"
      ],
      "id": "d1ff40c3-f348-4fa7-974a-5bf0d5b78788"
    },
    {
      "cell_type": "code",
      "execution_count": null,
      "metadata": {
        "id": "ea232d55-2e61-4ff6-84c8-a378362b779f",
        "outputId": "bf5b5ec6-cb07-442f-aef1-503a1374c699"
      },
      "outputs": [
        {
          "name": "stdout",
          "output_type": "stream",
          "text": [
            "+매수 2021-07-08  0.00\n",
            "+매수 2021-08-17  2.38\n",
            "+매수 2021-08-18  11.94\n",
            "+매수 2021-08-19  0.00\n",
            "+매수 2021-08-20  5.71\n",
            "-매도 2021-09-06  90.91\n",
            "+매수 2021-10-07  11.11\n",
            "+매수 2021-10-08  10.71\n",
            "+매수 2021-10-12  6.98\n",
            "+매수 2021-10-13  11.11\n",
            "-매도 2021-12-07  95.08\n",
            "-매도 2021-12-09  91.11\n",
            "-매도 2021-12-21  81.82\n",
            "-매도 2021-12-27  81.82\n"
          ]
        },
        {
          "data": {
            "image/png": "[encoded data removed]",
            "text/plain": [
              "<Figure size 1800x360 with 2 Axes>"
            ]
          },
          "metadata": {},
          "output_type": "display_data"
        }
      ],
      "source": [
        "fig, ax1 = plt.subplots(figsize = (25, 5))\n",
        "\n",
        "# Slow %K, Slow %D를 그려서 확인\n",
        "df[['slow_k', 'slow_d']].plot(ax=ax1)\n",
        "# ax.hlines([20,80], df.index.min(), df.index.max(), color =\"green\", linestyle=\"--\")\n",
        "\n",
        "for i in range(len(df.index)):\n",
        "    if df[\"fast_k\"].values[i] <= 20 and (df[\"slow_k\"].values[i] > df[\"slow_d\"].values[i]) :    #콜든크로스(매수)\n",
        "        print(f\"+매수 {pd.to_datetime(df.index.values[i]).strftime('%Y-%m-%d')}  {df['fast_k'].values[i]:.2f}\")\n",
        "        ax1.plot(df.index.values[i], df['slow_k'].values[i], 'bv')\n",
        "    elif df[\"fast_k\"].values[i] >= 80 and (df[\"slow_k\"].values[i] < df[\"slow_d\"].values[i]) :  #데드크로스(매도)\n",
        "        print(f\"-매도 {pd.to_datetime(df.index.values[i]).strftime('%Y-%m-%d')}  {df['fast_k'].values[i]:.2f}\")\n",
        "        ax1.plot(df.index.values[i], df['slow_k'].values[i], 'r^')    \n",
        "\n",
        "ax2 = ax1.twinx()\n",
        "df['Close'].plot(ax=ax2,  color='green', linestyle='dotted')\n",
        "ax2.grid(False)\n",
        "ax2.legend()\n",
        "\n",
        "plt.show()"
      ],
      "id": "ea232d55-2e61-4ff6-84c8-a378362b779f"
    },
    {
      "cell_type": "markdown",
      "metadata": {
        "tags": [],
        "id": "72cc7c77-e960-4f4f-b9c9-113d7a25640e"
      },
      "source": [
        "# TA-Lib"
      ],
      "id": "72cc7c77-e960-4f4f-b9c9-113d7a25640e"
    },
    {
      "cell_type": "markdown",
      "metadata": {
        "id": "d82f82ab-9054-4520-8b2e-eae87d2b3dac"
      },
      "source": [
        "* https://mrjbq7.github.io/ta-lib/func_groups/momentum_indicators.html\n",
        "* https://github.com/mrjbq7/ta-lib"
      ],
      "id": "d82f82ab-9054-4520-8b2e-eae87d2b3dac"
    },
    {
      "cell_type": "code",
      "source": [
        "#pip install talib-binary"
      ],
      "metadata": {
        "id": "Z9OkqqppllC2"
      },
      "id": "Z9OkqqppllC2",
      "execution_count": 5,
      "outputs": []
    },
    {
      "cell_type": "code",
      "execution_count": 4,
      "metadata": {
        "id": "c7723584-b843-44c4-ab1c-e851ed4633ef"
      },
      "outputs": [],
      "source": [
        "import numpy\n",
        "import talib\n",
        "from talib.abstract import *"
      ],
      "id": "c7723584-b843-44c4-ab1c-e851ed4633ef"
    },
    {
      "cell_type": "markdown",
      "metadata": {
        "id": "6b6a2f8b-16c1-4cd5-bbf9-9ad2784e0728"
      },
      "source": [
        "## STOCH - Stochastic\n",
        "* slowk, slowd = STOCH(high, low, close, fastk_period=5, slowk_period=3, slowk_matype=0, slowd_period=3, slowd_matype=0)\n"
      ],
      "id": "6b6a2f8b-16c1-4cd5-bbf9-9ad2784e0728"
    },
    {
      "cell_type": "code",
      "execution_count": null,
      "metadata": {
        "id": "5427d3e1-c9ae-4d08-a6ba-dfa023dada9a"
      },
      "outputs": [],
      "source": [
        "slowk, slowd = talib.STOCH(df['High'], df['Low'], df['Close'], \n",
        "                           fastk_period=5, \n",
        "                           slowk_period=3, slowk_matype=0, \n",
        "                           slowd_period=3, slowd_matype=0)"
      ],
      "id": "5427d3e1-c9ae-4d08-a6ba-dfa023dada9a"
    },
    {
      "cell_type": "code",
      "execution_count": null,
      "metadata": {
        "id": "c2ca2b25-f288-4ce8-b976-509dbb4bb6a5",
        "outputId": "56e5aa66-1514-4c2f-cbe5-01405462c555"
      },
      "outputs": [
        {
          "data": {
            "text/plain": [
              "날짜\n",
              "2021-12-24    96.458333\n",
              "2021-12-27    90.397727\n",
              "2021-12-28    83.106061\n",
              "2021-12-29    56.620553\n",
              "2021-12-30    31.816962\n",
              "dtype: float64"
            ]
          },
          "execution_count": 17,
          "metadata": {},
          "output_type": "execute_result"
        }
      ],
      "source": [
        "slowk.tail()"
      ],
      "id": "c2ca2b25-f288-4ce8-b976-509dbb4bb6a5"
    },
    {
      "cell_type": "code",
      "execution_count": null,
      "metadata": {
        "id": "a143a5b7-4a7a-4ac7-9a59-a94eb1df2557",
        "outputId": "2eec59c6-2ee0-447e-fd97-7d12196c7f68"
      },
      "outputs": [
        {
          "data": {
            "text/plain": [
              "날짜\n",
              "2021-12-24    87.668533\n",
              "2021-12-27    93.251263\n",
              "2021-12-28    89.987374\n",
              "2021-12-29    76.708114\n",
              "2021-12-30    57.181192\n",
              "dtype: float64"
            ]
          },
          "execution_count": 18,
          "metadata": {},
          "output_type": "execute_result"
        }
      ],
      "source": [
        "slowd.tail()"
      ],
      "id": "a143a5b7-4a7a-4ac7-9a59-a94eb1df2557"
    },
    {
      "cell_type": "markdown",
      "metadata": {
        "id": "9720433a-c2f3-49af-bd56-3750468e7b72"
      },
      "source": [
        "## STOCHF - Stochastic Fast\n",
        "* fastk, fastd = STOCHF(high, low, close, fastk_period=5, fastd_period=3, fastd_matype=0)\n"
      ],
      "id": "9720433a-c2f3-49af-bd56-3750468e7b72"
    },
    {
      "cell_type": "code",
      "execution_count": null,
      "metadata": {
        "id": "4f35e42a-b8c9-4c06-8937-ee1d71d7560e"
      },
      "outputs": [],
      "source": [
        "fastk, fastd = talib.STOCHF(df['High'], df['Low'], df['Close'],  \n",
        "                            fastk_period=5, \n",
        "                            fastd_period=3, fastd_matype=0)"
      ],
      "id": "4f35e42a-b8c9-4c06-8937-ee1d71d7560e"
    },
    {
      "cell_type": "code",
      "execution_count": null,
      "metadata": {
        "id": "a370ab37-55be-4f05-a5ba-1433ed2d3390",
        "outputId": "e05a049d-fa0b-4de5-d7a5-385f229312c7"
      },
      "outputs": [
        {
          "data": {
            "text/plain": [
              "날짜\n",
              "2021-12-24    92.500000\n",
              "2021-12-27    81.818182\n",
              "2021-12-28    75.000000\n",
              "2021-12-29    13.043478\n",
              "2021-12-30     7.407407\n",
              "dtype: float64"
            ]
          },
          "execution_count": 22,
          "metadata": {},
          "output_type": "execute_result"
        }
      ],
      "source": [
        "fastk.tail()"
      ],
      "id": "a370ab37-55be-4f05-a5ba-1433ed2d3390"
    },
    {
      "cell_type": "markdown",
      "metadata": {
        "id": "2ab8b1e0-9d02-458b-b7c9-1721de446411"
      },
      "source": [
        "## df 값 비교"
      ],
      "id": "2ab8b1e0-9d02-458b-b7c9-1721de446411"
    },
    {
      "cell_type": "code",
      "execution_count": null,
      "metadata": {
        "id": "7417851c-3bd4-4cd2-a568-9a5de880e124",
        "outputId": "c2005217-fa03-4832-ca29-e387dcf2d097"
      },
      "outputs": [
        {
          "data": {
            "text/html": [
              "<div>\n",
              "<style scoped>\n",
              "    .dataframe tbody tr th:only-of-type {\n",
              "        vertical-align: middle;\n",
              "    }\n",
              "\n",
              "    .dataframe tbody tr th {\n",
              "        vertical-align: top;\n",
              "    }\n",
              "\n",
              "    .dataframe thead th {\n",
              "        text-align: right;\n",
              "    }\n",
              "</style>\n",
              "<table border=\"1\" class=\"dataframe\">\n",
              "  <thead>\n",
              "    <tr style=\"text-align: right;\">\n",
              "      <th></th>\n",
              "      <th>Open</th>\n",
              "      <th>High</th>\n",
              "      <th>Low</th>\n",
              "      <th>Close</th>\n",
              "      <th>Volume</th>\n",
              "      <th>fast_k</th>\n",
              "      <th>slow_k</th>\n",
              "      <th>slow_d</th>\n",
              "    </tr>\n",
              "    <tr>\n",
              "      <th>날짜</th>\n",
              "      <th></th>\n",
              "      <th></th>\n",
              "      <th></th>\n",
              "      <th></th>\n",
              "      <th></th>\n",
              "      <th></th>\n",
              "      <th></th>\n",
              "      <th></th>\n",
              "    </tr>\n",
              "  </thead>\n",
              "  <tbody>\n",
              "    <tr>\n",
              "      <th>2021-12-24</th>\n",
              "      <td>80200</td>\n",
              "      <td>80800</td>\n",
              "      <td>80200</td>\n",
              "      <td>80500</td>\n",
              "      <td>12086380</td>\n",
              "      <td>92.500000</td>\n",
              "      <td>96.458333</td>\n",
              "      <td>87.668533</td>\n",
              "    </tr>\n",
              "    <tr>\n",
              "      <th>2021-12-27</th>\n",
              "      <td>80600</td>\n",
              "      <td>80600</td>\n",
              "      <td>79800</td>\n",
              "      <td>80200</td>\n",
              "      <td>10783368</td>\n",
              "      <td>81.818182</td>\n",
              "      <td>90.397727</td>\n",
              "      <td>93.251263</td>\n",
              "    </tr>\n",
              "    <tr>\n",
              "      <th>2021-12-28</th>\n",
              "      <td>80200</td>\n",
              "      <td>80400</td>\n",
              "      <td>79700</td>\n",
              "      <td>80300</td>\n",
              "      <td>18226325</td>\n",
              "      <td>75.000000</td>\n",
              "      <td>83.106061</td>\n",
              "      <td>89.987374</td>\n",
              "    </tr>\n",
              "    <tr>\n",
              "      <th>2021-12-29</th>\n",
              "      <td>80200</td>\n",
              "      <td>80200</td>\n",
              "      <td>78500</td>\n",
              "      <td>78800</td>\n",
              "      <td>19794795</td>\n",
              "      <td>13.043478</td>\n",
              "      <td>56.620553</td>\n",
              "      <td>76.708114</td>\n",
              "    </tr>\n",
              "    <tr>\n",
              "      <th>2021-12-30</th>\n",
              "      <td>78900</td>\n",
              "      <td>79500</td>\n",
              "      <td>78100</td>\n",
              "      <td>78300</td>\n",
              "      <td>14236700</td>\n",
              "      <td>7.407407</td>\n",
              "      <td>31.816962</td>\n",
              "      <td>57.181192</td>\n",
              "    </tr>\n",
              "  </tbody>\n",
              "</table>\n",
              "</div>"
            ],
            "text/plain": [
              "             Open   High    Low  Close    Volume     fast_k     slow_k  \\\n",
              "날짜                                                                       \n",
              "2021-12-24  80200  80800  80200  80500  12086380  92.500000  96.458333   \n",
              "2021-12-27  80600  80600  79800  80200  10783368  81.818182  90.397727   \n",
              "2021-12-28  80200  80400  79700  80300  18226325  75.000000  83.106061   \n",
              "2021-12-29  80200  80200  78500  78800  19794795  13.043478  56.620553   \n",
              "2021-12-30  78900  79500  78100  78300  14236700   7.407407  31.816962   \n",
              "\n",
              "               slow_d  \n",
              "날짜                     \n",
              "2021-12-24  87.668533  \n",
              "2021-12-27  93.251263  \n",
              "2021-12-28  89.987374  \n",
              "2021-12-29  76.708114  \n",
              "2021-12-30  57.181192  "
            ]
          },
          "execution_count": 15,
          "metadata": {},
          "output_type": "execute_result"
        }
      ],
      "source": [
        "df.tail()"
      ],
      "id": "7417851c-3bd4-4cd2-a568-9a5de880e124"
    }
  ],
  "metadata": {
    "kernelspec": {
      "display_name": "Python 3",
      "language": "python",
      "name": "python3"
    },
    "language_info": {
      "codemirror_mode": {
        "name": "ipython",
        "version": 3
      },
      "file_extension": ".py",
      "mimetype": "text/x-python",
      "name": "python",
      "nbconvert_exporter": "python",
      "pygments_lexer": "ipython3",
      "version": "3.8.0"
    },
    "toc-autonumbering": true,
    "colab": {
      "name": "금융 공학 12일차.ipynb",
      "provenance": [],
      "collapsed_sections": [],
      "toc_visible": true,
      "include_colab_link": true
    }
  },
  "nbformat": 4,
  "nbformat_minor": 5
}