{
  "nbformat": 4,
  "nbformat_minor": 0,
  "metadata": {
    "colab": {
      "name": "투자분석기법 - 기술적 분석.ipynb",
      "provenance": [],
      "collapsed_sections": [],
      "toc_visible": true,
      "authorship_tag": "ABX9TyM41sReOrtYruoqkxtTb5n3",
      "include_colab_link": true
    },
    "kernelspec": {
      "name": "python3",
      "display_name": "Python 3"
    },
    "language_info": {
      "name": "python"
    }
  },
  "cells": [
    {
      "cell_type": "markdown",
      "metadata": {
        "id": "view-in-github",
        "colab_type": "text"
      },
      "source": [
        "<a href=\"https://colab.research.google.com/github/choisangh/STUDY/blob/main/finance/%ED%88%AC%EC%9E%90%EB%B6%84%EC%84%9D%EA%B8%B0%EB%B2%95_%EA%B8%B0%EC%88%A0%EC%A0%81_%EB%B6%84%EC%84%9D.ipynb\" target=\"_parent\"><img src=\"https://colab.research.google.com/assets/colab-badge.svg\" alt=\"Open In Colab\"/></a>"
      ]
    },
    {
      "cell_type": "markdown",
      "source": [
        "# 주식시장을 접근하는 세 가지 방법\n",
        "* 기본적 분석\n",
        "    - 시장 예측 가능 (시장 비효율적)\n",
        "    - 기업가치 분석 중심(재무제표)\n",
        "    - 산출된 가치가 주가보다 높으면 매수\n",
        "* 기술적 방법\n",
        "    - 시장 예측 가능 (시장 비효율적)\n",
        "    - 가치를 포함한 모든 정보는 가격에 포함\n",
        "    - 가격흐름을 중시\n",
        "* 랜덤워크\n",
        "    - 시장 예측 불가\n",
        "    - 과거가 미래를 예측할 수 없음\n",
        "    - 초과수익률 존재 불가\n",
        "* 기술적 분석 정의\n",
        "    - 과거 시세 흐름과 패턴으로 주가 예측\n",
        "* 기술적 분석 종류\n",
        "    - 추세분석 : 주가 동적 움직임 (추세선, 지지선, 저항선, 이동평균선) 관찰 후 매매시점 포착\n",
        "    - 패턴분석 : 주가의 정적인 관찰에 역점, 전환시점 포착\n",
        "    - 지표분석 : 과매도, 과매수 판단 -> 매수/매도 시점 판단하는 분석법\n",
        "    - 시장구조이론 : 자연적/사회적 현상으로 주가 설명 및 예측 (엘리어트 파동이론, 일목균형표, 갭이론, 태양흑점이론, 엘리뇨 현상)\n",
        "    "
      ],
      "metadata": {
        "id": "kdkgOvw8J3R-"
      }
    },
    {
      "cell_type": "markdown",
      "source": [
        "# 기술적 분석의 기본 가정 및 장단점\n",
        "* 기본 가정\n",
        "    - 증권의 시장가치는 수요/공급으로만 결정\n",
        "    - 주가는 크게 보면 추세에 따라 상당 기간 움직임\n",
        "    - 추세 변화는 수요와 공급 변동으로 발생\n",
        "    - 도표에 의해 수요/공급 포착, 도표에 나타나는 주가모형은 스스로 반복하는 경향 (과거로 미래 예측 가능)\n",
        "* 장점\n",
        "    - 기본적분석에서 계량화하기 어려운 심리적 요인 평가 보완\n",
        "    - 매매시점포착, 변화가능성과 변화방향 파악가능(기본적 분석과 차이)\n",
        "* 한계\n",
        "    - 추세/패턴 반복은 비현실적\n",
        "    - 동일한 주가양상에 대해 각기 다른 해석 가능\n",
        "    - 시장의 변동에만 집착 -> 시장 변화 원인 분석 불가"
      ],
      "metadata": {
        "id": "qYGRlr12KuIB"
      }
    },
    {
      "cell_type": "markdown",
      "source": [
        "# 다우이론\n",
        "* 다우이론\n",
        "    - 주가를 단기추세(매일), 중기추세(3주~수개월), 장기추세(1~10년)으로 구분\n",
        "* 장기추세 진행과정\n",
        "    - <img src=\"https://blog.kakaocdn.net/dn/lgkTy/btqZGlwR454/ym5YJVJVTVYHqbfTMCXhQ0/img.png\">\n",
        "* 국면별 특징\n",
        "    - 매집국면(제1국면) : 어두운 전망, 거래량 증가\n",
        "    - 마크업국면(제2국면) : 경제여건 및 기업 영업이익 호전, 일반투자자 관심 고조, 주가 상승과 거래량 증가, 기술적 분석을 이용한 주식투자자 이익 극대화\n",
        "    - 과열국면(제3국면) : 시장과열 기미, 주식투자 경험이 없는 사람도 투자 시작, 매수자 손해 가능, 신문이나 뉴스에서 주식 내용 톱뉴스\n",
        "    - 분산국면(제1국면) : 강세3국면 이후 전문투자자들의 수익실현단계, 주가 하락과 거래량 증가, 상승추세 어려움\n",
        "    - 공황국면(제2국면) : 경제 전반의 악화에 따른 일반투자자의 매도, 주가 수직하락, 거래량 급감, 이후 긴 회복이나 보합\n",
        "    - 침체국면(제3국면) : 투매양상, 주가는 하락하지만 하락폭은 작아짐, 부정적 정보 다수, 악재 소멸 전 주식시장 반전\n"
      ],
      "metadata": {
        "id": "8fH9pqX8Ljsc"
      }
    },
    {
      "cell_type": "markdown",
      "source": [
        "# 다우이론의 활용 및 한계\n",
        "* 활용\n",
        "    - 강세시장과 약세시장에서 일반투자자와 전문투자자는 서로 반대의 생각을 함\n",
        "* 한계\n",
        "    - 주추세와 중기추세의 구분 어려움\n",
        "    - 추세전환 늦게 확인됨 -> 실제 투자시 활용 어려움\n",
        "    - 증권시장 추세만 예측, 분산투자 및 위험에 대한 정보 제공 X\n",
        "* 투자결정과 투자행위\n",
        "<table>\n",
        "<thead>\n",
        "  <tr>\n",
        "    <th rowspan=\"2\">구분</th>\n",
        "    <th colspan=\"3\">강세</th>\n",
        "    <th colspan=\"3\">약세</th>\n",
        "  </tr>\n",
        "  <tr>\n",
        "    <th>제1국면</th>\n",
        "    <th>제2국면</th>\n",
        "    <th>제3국면</th>\n",
        "    <th>제1국면</th>\n",
        "    <th>제2국면</th>\n",
        "    <th>제3국면</th>\n",
        "  </tr>\n",
        "</thead>\n",
        "<tbody>\n",
        "  <tr>\n",
        "    <td>대중</td>\n",
        "    <td>공포심</td>\n",
        "    <td>공포심</td>\n",
        "    <td>확신</td>\n",
        "    <td>확신</td>\n",
        "    <td>확신</td>\n",
        "    <td>공포심</td>\n",
        "  </tr>\n",
        "  <tr>\n",
        "    <td>전문가<br>(투자전략)</td>\n",
        "    <td>확신</td>\n",
        "    <td>확신<br>(점차 매도)</td>\n",
        "    <td>공포심<br>(매도)</td>\n",
        "    <td>공포심</td>\n",
        "    <td>공포심<br>(점차 매수)</td>\n",
        "    <td>확신<br>(매수)</td>\n",
        "  </tr>\n",
        "</tbody>\n",
        "</table>"
      ],
      "metadata": {
        "id": "ORIVuMOTMyHi"
      }
    },
    {
      "cell_type": "markdown",
      "source": [
        "# 지지선과 저항선\n",
        "* 추세분석\n",
        "    - 기술적 분석의 핵심 : '추세는 한번 형성되면 상당 기간 지속된다'\n",
        "    - 단기적 방향성이 잘못돼도 장기적 추세를 올바르게 파악했다면 합리적 투자\n",
        "* 지지선과 저항선\n",
        "    - 정의\n",
        "        - 지지선(저점과 저점 연결)은 주가의 하락움직임을 멈추게 하거나, 하락저지가 예상되는 수준\n",
        "        - 저항선(고점과 고점 연결)은 주가 추가 상승 실패하고 하락하거나 상승세 둔화가 예상되는 수준\n",
        "    - 활용 및 해석\n",
        "        - 상승 추세 중 저항선 상향 돌파 -> 추가 상승\n",
        "        - 하락 추세 중 지지선 하향 돌파 -> 매도 시점\n",
        "        - 저항선/지지선 돌파 전후 거래량이 크게 증가 -> 저항/지지 강도가 큼\n",
        "* 지지선과 저항선이 중요한 의미를 가지는 이유\n",
        "    - 최소, 최대목표 설정과 추세의 지속/반전을 알 수 있음\n",
        "    - 장기간에 걸쳐 형성된 것과 최근에 형성된 것이 신뢰도가 높고 의미가 큼\n",
        "    - 심리적 지지선/저항선 역할"
      ],
      "metadata": {
        "id": "nTkDz-ToPzcp"
      }
    },
    {
      "cell_type": "markdown",
      "source": [
        "# 추세선\n",
        "* 개념\n",
        "    - 추세선 : 의미 있는 두 고점 또는 저점을 연결한 선 (상승, 하락, 평행추세선)\n",
        "    - 상승추세선 : 저점의 위치가 계속 상승\n",
        "    - 하락추세선 : 고점의 위치가 계속 하락\n",
        "    - 평행추세선 : 추세가 명확하지 않고 횡보\n",
        "    - 추세선의 신뢰도는 저점/고점이 여러 번 나타날수록, 추세선의 길이가 길고 기울기가 완만할수록 큼\n",
        "* 추세선의 변형\n",
        "    - 주가 급등락으로 추세선 기울기가 가팔라짐 -> 추세곡선 나타남\n",
        "    - 주가 저항선 상향 돌파 후 다시 되돌림 현상으로 저항선 근접 -> 저항선은 지지선으로 변경\n",
        "    - 중심추세선 : 저항선 -> 지지선 / 지지선 -> 저항선 으로 변경된 추세선\n",
        "    - 부채형 추세선 : 상승/하락의 반복으로 저항선 기울기가 완만해지면서 저항선이 여러 개 생성된 것\n",
        "    - 부채형 추세선의 등장은 기존 추세 둔화, 향후 추세 전환 가능성이 커짐을 의미\n",
        "* 추세선의 전환\n",
        "    - 추세선이 저항선을 상향 돌파하는 경우 추세가 전환되며 이때 거래량 증가"
      ],
      "metadata": {
        "id": "0_6BL2k6TGQr"
      }
    },
    {
      "cell_type": "markdown",
      "source": [
        "# 이동평균선\n",
        "* 개념\n",
        "    - 일정 기간 동안 주가 평균\n",
        "    - 현재 주가와 비교 -> 미래 주가 동향 예측\n",
        "    - 단기지표(5일, 20일 평균선), 중기지표(60일 평균선), 장기지표(120일, 200일 평균선)\n",
        "    - 장점 : 계산 편리, 계산 결과에 따라 매수/매도 신호를 객관적으로 도출 가능\n",
        "    - 단점 : 과거를 통해 미래 분석하는 후행성\n",
        "* 특징\n",
        "    - 주가가 이동평균선 돌파 -> 매매 타이밍\n",
        "    - 분석기간 길수록 이동평균선 완만해짐, 짧을수록 가파름\n",
        "    - 주가가 이동평균선과 괴리가 지나치게 큰 경우 이동평균선으로 회귀\n",
        "    - 주가가 장기이동평균선 돌파 -> 주추세 반전 가능성\n",
        "    - 강세국면에서 주가가 이동평균선 위에서 움직임 -> 상승세 지속\n",
        "    - 약세국면에서 주가가 이동평균선 아래에서 움직임 -> 하락세 지속\n",
        "    - 상승하는 이동평균선을 주가가 하향 돌파 -> 하락반전 가능성 높음\n",
        "    - 하락하는 이동평균선을 주가가 상향 돌파 -> 상승반전 가능성 높음"
      ],
      "metadata": {
        "id": "ywa-t8mpUJYK"
      }
    },
    {
      "cell_type": "markdown",
      "source": [
        "# 이동평균선을 이용한 분석방법\n",
        "* 이격도 분석\n",
        "    - 주가와 이동평균선의 괴리를 나타내는 지표, 주가의 과열/침체 정도 파악\n",
        "* 방향성 분석\n",
        "    - 상승 추세 전환 : 단기->중기->장기 이동평균선 순으로 상승\n",
        "    - 하락 추세 전환 : 단기->중기->장기 이동평균선 순으로 하락\n",
        "* 배열도 분석\n",
        "    - 정배열(상승종목) : 현재주가/단기/중기/장기이동평균선 순 배열\n",
        "    - 역배열(하락종목) : 장기/중기/단기이동평균선/현재주가 순 배열\n",
        "* 지지선 분석\n",
        "    - 주가 상승 시 단기/중기/장기이동평균선을 지지하며 상승\n",
        "    - 하락 반전 시 단기/중기/장기이동평균선을 차례로 하향 이탈\n",
        "* 저항선 분석\n",
        "    - 주가 하락 시 단기/중기/장기이동평균선이 저항선이 되어 주가 하락\n",
        "    - 상승 반전 시 이동평균선을 차례로 상향 돌파하면서 주가 상승\n",
        "* 크로스 분석\n",
        "    - 골든 크로스(매수 신호) : 단기이동평균선(20일선)이 장기이동평균선(60일선)을 상향돌파\n",
        "    - 데드 크로스(매도 신호) : 단기이동평균선이 장기이동평균선 하향돌파\n",
        "* 밀집도 분석\n",
        "    - 투자기간이 다른 투자자들의 평균 매수가격이 유사한 수준으로 수렴하고 있음을 의미\n",
        "    - 이동평균선 밀집되면 작은 변화에도 주가가 크게 변화할 가능성 높음"
      ],
      "metadata": {
        "id": "CC1mu9DPU-Vc"
      }
    },
    {
      "cell_type": "markdown",
      "source": [
        "# 거래량 이동평균선\n",
        "* 개념\n",
        "    - 일반적으로 거래량은 주가에 선행/동행하는 경향\n",
        "* 분석 방법\n",
        "    - 주가 이동평균선 분석 방법과 같이 방향성 분석, 배열도 분석, 크로스 분석 등 사용\n",
        "    - 상승추세 : 거래량 증가하면서 골든크로스 발생 -> 정배열나타남\n",
        "    - 하락추세 : 거래량 감소하면서 데드크로스 발생 -> 역배열나타남\n",
        "* 거래량과 주가의 연관성\n",
        "    - 일반적으로 거래량은 주가에 선행하는 경향\n",
        "    - 하락추세/상승추세 패턴이 다름\n",
        "    - 상승추세 : 주가 상승 시 거래량 증가, 하락 시 거래량 감소\n",
        "    - 하락추세 : 주가 하락 시 거래량 증가, 상승 시 거래량 감소\n",
        "    "
      ],
      "metadata": {
        "id": "nuo10OphW31K"
      }
    },
    {
      "cell_type": "markdown",
      "source": [
        "# 그랜빌 주가/이동평균선\n",
        "* 매입 신호\n",
        "    - 이동평균선 하락 -> 보합/상승 국면 진입 -> 주가가 이동평균선 상향 돌파\n",
        "    - 이동평균선 상승 -> 주가가 일시적으로 이동평균선 아래로 하락\n",
        "    - 주가가 이동평균선 위에서 빠르게 하락 -> 이동평균선 부근에서 지지를 받고 재차 상승\n",
        "    - 주가가 하락하고 있는 이동평균선 하향 돌파 -> 급락 시 이동평균선까지 반등 가능성 (단기차익 매입 신호)\n",
        "* 매도 신호\n",
        "    - 이동평균선 상승 -> 평행/하락 국면 진입 -> 주가가 이동평균선 하향 돌파\n",
        "    - 이동평균선 하락 -> 주가가 일시적으로 이동평균선 위로 상승\n",
        "    - 주가가 이동평균선 아래에서 상승세를 보이다가 이동평균선을 상향 돌파하지 못하고 하락\n",
        "    - 주가가 상승하고 있는 이동평균선 상향 돌파 -> 급등 시 이동평균선 쪽으로 자율반락 가능성 (매도신호)"
      ],
      "metadata": {
        "id": "X1cU0sHuXhM9"
      }
    },
    {
      "cell_type": "markdown",
      "source": [
        "# 갭, 반전일, 되돌림\n",
        "* 갭의 개념\n",
        "    - 급등 또는 급락으로 인하여 주가와 주가 사이에 나타나는 빈 공간 -> 예상치 못한 변화 발생 가능\n",
        "    - 상승추세의 갭은 강한 지지선 역할, 하락추세의 갭은 강한 저항선 역할\n",
        "* 갭의 종류\n",
        "    - 보통 갭\n",
        "        - 횡보국면에서 주로 나타남, 의미가 모호\n",
        "        - 확인할 수 없는 정보가 확인되면 갭은 통산 다시 채워짐\n",
        "    - 돌파 갭\n",
        "        - 장기 조정국면/횡보 후, 중요한 지지선이나 저항선 돌파 시 나타남\n",
        "        - 많은 거래량 수반, 채워지는 경우 없이 나타나는 추세변화의 신호\n",
        "    - 급진 갭\n",
        "        - 주가가 거의 일직선으로 급상승/급락하는 도중 나타남\n",
        "        - 다우이론의 추세추종국면이나 엘리어트 파동이론의 3번 파동에서 발생\n",
        "    - 소멸 갭\n",
        "        - 주가가 장기간 걸쳐 급격한 수직상승을 지속하는 도중 발생\n",
        "        - 주가 상승을 멈추고 하락으로 반전되는 경우 나타나는 갭\n",
        "    - 섬꼴 반전\n",
        "        - 주가가 하락세로 반전되면서 나타나는 상승 소멸 갭과 상승세로 반전하면서 나타나는 하향 돌파 갭 사이에 나타나는 작은 섬 모양의 주가를 의미\n",
        "        - 상승추세가 끝나고 하락춫세가 시작된다는 반전 신호로 인식\n",
        "* 반전일 : 대량의 거래량을 수반한 주가가 최고치/최저치를 기록하면 추세 반전이 있는 바로 그 날\n",
        "* 되돌림 : 지속적 상승에 반발하여 자율 반락하는 현상\n"
      ],
      "metadata": {
        "id": "WLgJzC6qZLoF"
      }
    },
    {
      "cell_type": "markdown",
      "source": [
        "# 반전형 패턴\n",
        "* 헤드 앤 숄더\n",
        "    - <img src=\"http://files.thinkpool.com/files/bbs/2006/12/05/10.JPG\">\n",
        "* 이중형\n",
        "    - <img src=\"https://t1.daumcdn.net/cfile/blog/180B440B4AE7E6C127\">\n",
        "* 선형 : 적은 등락 폭으로 장기간에 걸쳐 보합권 유지 횡보 후 거래량 급등하면서 저항선 돌파 후 주가 상승\n",
        "* 원형 바닥형(접시형)과 천장형\n",
        "    - <img src=\"https://blog.kakaocdn.net/dn/ngAvo/btrjkDNp9Hj/Fn42W3oPrAKUZKZDol5rQ1/img.png\">\n",
        "* 확대형(발산형, 메가폰 패턴)\n",
        "    - <img src=\"data:image/png;base64,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\">\n",
        "    - 주가의 고점들은 점점 높아지고 저점들은 점점 낮아지는 모양\n",
        "    - 등락폭 확대 & 거래량 증가\n",
        "    - 투자심리가 매우 불안정한 상태, 향후 주가 예측 어려움"
      ],
      "metadata": {
        "id": "h316Kyi8jI-0"
      }
    },
    {
      "cell_type": "markdown",
      "source": [
        "# 지속형 패턴\n",
        "* 삼각형\n",
        "    - 등락 폭이 점점 줄어들 때 나타나며 고점을 이은 추세선은 저항선으로, 저점을  이은 추세선은 지지선으로 작용\n",
        "    - 대칭 삼각형 : 약세장에서 급락, 강세장에서 급등\n",
        "    - <img src=\"https://t1.daumcdn.net/cfile/tistory/201341484E61E07514\">\n",
        "* 깃발형과 페넌트형\n",
        "    - 주가가 급격히 움직인 후, 기존의 움직임에 반발하는 세력의 등장으로 횡보하는 국면 발생\n",
        "    - <img src=\"https://img1.daumcdn.net/thumb/R800x0/?scode=mtistory2&fname=https%3A%2F%2Ft1.daumcdn.net%2Fcfile%2Ftistory%2F255D963C586F80D91C\">\n",
        "* 쐐기형\n",
        "    - 상승 쐐기형 : 하락추세 이후 조정 과정에서 쐐기형이 만들어진 후 재차 하락하는 하락지속 패턴\n",
        "    - 하락 쐐기형 : 상승추세 이후 조정 과정에서 쐐기형이 만들어진 후 재차 상승하는 상승지속 패턴\n",
        "    - <img src=\"https://t1.daumcdn.net/cfile/tistory/25297D44587AB35603?original\">\n",
        "* 직사각형\n",
        "    - 매수/매도의 균형으로 거래가 활발하지 못한 경우 발생\n",
        "    - <img src=\"https://t1.daumcdn.net/cfile/tistory/2408BC46587CBDF230\">\n",
        "* 다이아몬드형\n",
        "    - 확대형과 대칭 삼각형이 합쳐진 모양으로 주가의 큰 변동 후 나타남\n",
        "    - 과열 후 점차 안정되는 추세 지속형 패턴\n",
        "    - <img src=\"http://files.thinkpool.com/pds/academy/stockguide/stockguide38_img3.jpg\">"
      ],
      "metadata": {
        "id": "mGAHAFbIk3c3"
      }
    },
    {
      "cell_type": "markdown",
      "source": [
        "# 캔들차트 분석\n",
        "* 한 개의 캔들\n",
        "    - 우산형\n",
        "        - <img src=\"https://t1.daumcdn.net/cfile/tistory/223AF5345857D0913A\">\n",
        "        - 망치형 : 상승추세 가능성 높음\n",
        "        - 교수형 : 과매수 상태로 하락 반전 가능성 높음\n",
        "    - 샅바형\n",
        "        - <img src=\"http://www.fintechpost.co.kr/news/photo/202002/100319_69457_4816.jpg\">\n",
        "        - 상승 샅바형 : 하락추세에서 저점 기록 후 지속적 상승\n",
        "        - 하락 샅바형 : 상승추세에서 고점 기록 후 지속적 하락\n",
        "    - 유성형, 역전된 망치(해머형)\n",
        "        - <img src=\"https://marginfan.com/files/attach/images/240/641/88ee1457d2a5f383ce43d63f7f4be124.png\">\n",
        "        - 유성형 : 상승 중 위로 긴 꼬리 -> 하락신호\n",
        "        - 역전된 망치형 : 하락 중 위로 긴 꼬리 -> 상승신호\n",
        "* 두 개의 캔들\n",
        "    - 장악형\n",
        "        - <img src=\"https://marginfan.com/files/attach/images/240/650/1e15cdc0c983830b7d41049ff68c4115.png\">\n",
        "        - 상승 장악형 : 전일보다 몸체가 큰 양선 발생(상승 신호)\n",
        "        - 하락 장악형 : 전일보다 몸체가 큰 음선 발생(하락 신호)\n",
        "\n",
        "    - 먹구름형, 관통형\n",
        "        - <img src=\"https://blog.kakaocdn.net/dn/br4nnM/btq54OAkeOC/my2GLlPcdepxFG5QpANI41/img.png\" width=\"500px\">\n",
        "        - 먹구름형 : 천장권에서 하락 신호로 인식\n",
        "        - 관통형 : 하락추세에서 상승 신호로 인식\n",
        "\n",
        "    - 잉태형\n",
        "        - <img src=\"https://mblogthumb-phinf.pstatic.net/MjAyMTA1MDZfODMg/MDAxNjIwMjI3MjEzNjc5.VplVrnzx2uFRDN-b2uOfgeQvx_hPT56Mrqh8tZkkCoIg.TSVGgzUjO3D20usCqArVaGGSD49x0m9SamkvsC61H_Eg.PNG.earth2io/image.png?type=w800\" width=\"500px\">\n",
        "        - 하락 잉태형 : 양선 후 음선이 신뢰도가 높음(하락 신호)\n",
        "        - 상승 잉태형 : 음선 후 양선이 신뢰도가 높음(상승 신호)\n",
        "* 세 개 이상의 캔들\n",
        "    - 별형\n",
        "        - <img src=\"https://blog.kakaocdn.net/dn/cgFEua/btq1D1xppmG/TQH8VcgBzJtaf66WTp6DCk/img.png\" width=\"500px\">\n",
        "        - 샛별형 : 상승전환 신호\n",
        "        - 석별형 : 하락전환 신호\n",
        "    - 까마귀형\n",
        "        - <img src=\"https://mblogthumb-phinf.pstatic.net/MjAyMTA0MjhfMTk4/MDAxNjE5NjE5NzczMTAy.MmXjyNMpM5c0KzZSKSuLLgx6MIuIKWZAJeaB8vzETu4g.YCZxxbd5fuu-WsQT5ZTL-wvTj1dOHu9zbKCHFnbwbL0g.PNG.earth2io/image.png?type=w800\" width=\"500px\">\n",
        "        - 천장권에서 하락 전환 신호\n",
        "* 상승추세 캔들 : 망치형, 상승 샅바형, 역전된 망치형, 상승 장악형, 관통형, 상승 잉태형, 샛별형\n",
        "* 하락추세 캔들 : 교수형, 하락 샅바형, 유성형, 하락 장악형, 먹구름형, 하락 잉태형, 석별형, 까마귀형"
      ],
      "metadata": {
        "id": "_ZA4IR9GmjO3"
      }
    },
    {
      "cell_type": "markdown",
      "source": [
        "# 사께다 전법\n",
        "* 삼공\n",
        "    - 공은 미국식 차트에서 갭과 같은 의미\n",
        "    - 삼공이란 주가가 상당 기간 상승하는 데 있어 인기가 과열된 공간 (단선3공, 복선3공)\n",
        "* 삼병\n",
        "    - <img src=\"https://t1.daumcdn.net/cfile/tistory/164A6C3E4F0AAFB115\">\n",
        "    - 적삼병 : 침체국면에서 단기간에 양선의 몸체 3개가 연이어 형성되는 패턴\n",
        "        - 바닥권에서 주가가 서서히 상승 시세로 진입하는 첫 단계\n",
        "        - 바닥권에서 출현해야 의미가 있응ㅁ\n",
        "    - 흑삼병 : 천장권에서 음선의 몸체 3개가 겹쳐 연이어 형성되는 패턴\n",
        "        - 고가권에서 나타날 경우 주가가 급락가능성 높음\n",
        "        - 두 번째 천장 부근에서 나타날 경우 매우 유효\n",
        "* 삼산\n",
        "    - 미국식 패턴 분석의 삼중 천장형과 같은 형태\n",
        "    - 주가 급등 후 매물 출회로 상승하지 못하는 패턴\n",
        "    - 추세가 하락하는 것이 일반적\n",
        "* 삼천\n",
        "    - 미국식 패턴 분석의 삼중 바닥형과 같은 형태\n",
        "    - 대세바닥을 형성하는 전환 패턴"
      ],
      "metadata": {
        "id": "T3bmgjYgpgeB"
      }
    },
    {
      "cell_type": "markdown",
      "source": [
        "# 추세추종형 지표\n",
        "* 개념\n",
        "    - 주가는 한번 형성되면 일정 기간 한 방향으로 진행된다는 특성을 고려하여 만든 지표\n",
        "    - 추세 전환에 다소 느리게 반응하지만 추세에 대한 중기적인 흐름 파악에 용이\n",
        "* MACD\n",
        "    - 수렴과 발산 원리에 착안하여 장/단기 이동평균선 차이가 가장 크게 벌어질 때가 매매타이밍\n",
        "    - MACD = 단기지수 이동평균 - 장기지수 이동평균, 시그널=n일 MACD의 지수 이동평균\n",
        "    - MACD가 시그널을 상향 돌파 시 매수, 하향 이탈 시 매도\n",
        "* MAO\n",
        "    - MAO = 단기 이동평균값 - 장기 이동평균값\n",
        "    - 해석\n",
        "        - MAO(+) : 주가 상승추세\n",
        "        - MAO(-) : 주가 하락추세\n",
        "        - MAO가 (+)에서 0선을 하향 돌파하여 (-)로 전환될 때를 매도 시점, 그 반대 매수 시점\n",
        "        - 다이버전스 발생 시 중요한 추세전환 신호\n",
        "        - MAO가 0선에 접근하다 0선 돌파 실패/ 돌파 했으나 바로 재진입 -> 기존 움직임 그대로 유지"
      ],
      "metadata": {
        "id": "lkaHmMCjqxKQ"
      }
    },
    {
      "cell_type": "markdown",
      "source": [
        "# 추세반전형 지표\n",
        "* 의의\n",
        "    - 추세반전을 보다 빨리 알기 위해 만든 지표로 추세전환을 빨리 포착하지만 매매신호가 잦은 단점 존재\n",
        "* 스토캐스틱 : 주요선은 %K, %D는 %K의 이동평균선\n",
        "    - %K = (금일종가 - 최근 n일 중 최저가)/(최근 n일 중 최고가 - 최근 n일 중 최저가) * 100\n",
        "    - %D = %K의 이동평균선\n",
        "    - 매수신호\n",
        "        - 침체권인 일정 수준(30%) 이하로 내려갔다가 다시 재상승하는 경우\n",
        "        - %K선이 %D선을 상향 돌파하여 상승하는 경우\n",
        "    - 매도신호\n",
        "        - 과열권인 일정 수준(70%) 이상으로 올라갔다가 다시 재하락하는 경우\n",
        "        - %K선이 %D선을 하향 돌파하여 하락하는 경우\n",
        "    - 추세전환의 실패가 발생하면 기존 추세가 더욱 강화됨\n",
        "* 상대강도지수(RSI)\n",
        "    - RSI = 14일간 상승폭 합계 / 14일간 상승폭 합계 + 14일간 하락폭 합계\n",
        "    - 매수신호 : RSI 25%(20~30%) 수준이면서 약세장이 지속되어 하향돌파 시\n",
        "    - 매도신호 : RSI 75%(70~80%) 수준이면서 강세장이 지속되어 상향돌파 시\n",
        "* ROC\n",
        "    - 금일 주가와 n일 전 주가 사이의 차이를 나타내는 지표\n",
        "    - 0을 상향돌파하면 매수, 0을 하향돌파하면 매도하는 전략"
      ],
      "metadata": {
        "id": "-HWsxF0druXE"
      }
    },
    {
      "cell_type": "markdown",
      "source": [
        "# 거래량 지표\n",
        "* OBV\n",
        "    - 거래량은 주가에 선행한다는 전제하에 고안된 지표로 시장이 매집단계인지 분산단계인지 나타냄\n",
        "    - 상승한 날의 거래량 누계에서 하락한 날의 거래량 누계를 차감하여 매일 누적적으로 집계, 도표화 한 것\n",
        "    - 심리적요인, 자전거래, 저가주들의 대량거래, 늦은 매매신호, 단독적 추세파악의 어려움 등의 한계점\n",
        "* VR\n",
        "    - OBV의 결점을 보완하여 차이가 아닌 비율로 분석한 지표(ex. VR 200%는 상승 시 거래량이 하락의 2배)\n",
        "    - VR = (주가 상승일의 거래량 합계 + 변동이 없는 날의 거래량 합계)/(주가 하락일의 거래량 합계 + 변동이 없는 날의 거래량 합계) * 100\n",
        "    - 바닥권을 판단하는 데 신뢰도가 매우 높음\n",
        "    - 매매 신호 : 70% 이하 (단기적 매수), 150% (보통 수준), 450% 초과 (단기적 경계)\n",
        "* 역시계 곡선(주가-거래량 상관곡선)\n",
        "    - 주가와 거래량의 상관관계가 높다는 원리를 이용한 지표\n",
        "    - <img src=\"https://mblogthumb-phinf.pstatic.net/20150628_245/tankun25_1435469632592e3dcK_JPEG/4.jpg?type=w2\" width=\"500px\">"
      ],
      "metadata": {
        "id": "e0UzsuVotXPk"
      }
    },
    {
      "cell_type": "markdown",
      "source": [
        "# 엘리어트 파동이론\n",
        "* 의의\n",
        "    - 엘리어트 파동 : 주가는 상승 5파와 하락 3파에 의해 끝없이 순환\n",
        "    - <img src=\"https://blog.kakaocdn.net/dn/kCLAK/btqyJ8SXP2K/6sP2hnT42RncG8ITUmOE8K/img.png\" width=\"400px\">\n",
        "    - 충격파동(5개 파동) : 주가 진행방향과 같은 방향 (1,3,5,A,C)\n",
        "    - 조정파동(3개 파동) : 주가의 진행방향과 반대 방향(2,4,B)\n",
        "* 파동의 특징\n",
        "    - 1번 파동 : 5개 파동 중 가장 짧음, 충격파동이므로 반드시 5개 파동 구성\n",
        "    - 2번 파동 : 1번 파동과 반대로 움직임, 1번 파동을 38.2% or 61.8%만큼 되돌림\n",
        "    - 3번 파동 : 가장 강하고 가격변동 활발, 5개 파동 중 가장 김, 돌파갭/급진갭O, 소멸갭X\n",
        "    - 4번 파동 : 예측하기 용이한 파동\n",
        "    - 5번 파동 : 추세 막바지 파동, 1번과 동일 길이\n",
        "    - A파동 : 새로운 추세 시작, 충격파동이므로 반드시 5개 파동 구성\n",
        "    - B파동 : 상승국면에서 가지고 있던 매입 포지션 정리할 마지막 기회\n",
        "    - C파동 : 가격변동폭 크며 실망감과 두려움에서 비롯된 투매로 가격 하락폭 큼\n",
        "* 엘리어트 파동의 법칙\n",
        "    - 절대불가침의 법칙\n",
        "        - 2번 파동 저점 > 1번 파동 저점\n",
        "        - 3번 파동은 가장 짧을 수 없음\n",
        "        - 4번 파동의 저점 != 1번 파동 고점\n",
        "    - 4번 파동의 법칙\n",
        "        - 4번 파동은 3번 파동을 38.2% 되돌리는 경향\n",
        "    - 파동변화의 법칙\n",
        "        - 2번/4번 파동은 서로 다른 모양 형성 (복잡&단순)\n",
        "        - 1번 파동이나 3번 파동이 연장되지 않으면 5번 파동이 연장될 가능성이 높고, 1번이나 3번 중 하나가 연장되면 5번은 연장되지 않음\n",
        "    - 파동균등의 법칙\n",
        "        - 3번 파동 연장될 경우 5번 파동은 1번 파동과 같거나 1번의 61.8% 형성\n",
        "    - 파동의 연장\n",
        "        - 파동의 연장은 3번/5번에서 주로 발생 연장의 연장은 3번에서 발생\n",
        "* 한계점\n",
        "    - 파동을 해석하는 사람에 따라 달라지기에 융통성이 많음\n",
        "    - 파동의 정확한 정의X\n"
      ],
      "metadata": {
        "id": "QStCUiXzuYFV"
      }
    }
  ]
}