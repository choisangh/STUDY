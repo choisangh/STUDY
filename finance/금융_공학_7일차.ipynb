{
  "nbformat": 4,
  "nbformat_minor": 0,
  "metadata": {
    "colab": {
      "name": "금융 공학 7일차.ipynb",
      "provenance": [],
      "collapsed_sections": [],
      "toc_visible": true,
      "authorship_tag": "ABX9TyPoUg/iaLKQWA9CXVDcluG3",
      "include_colab_link": true
    },
    "kernelspec": {
      "name": "python3",
      "display_name": "Python 3"
    },
    "language_info": {
      "name": "python"
    }
  },
  "cells": [
    {
      "cell_type": "markdown",
      "metadata": {
        "id": "view-in-github",
        "colab_type": "text"
      },
      "source": [
        "<a href=\"https://colab.research.google.com/github/choisangh/STUDY/blob/main/finance/%EA%B8%88%EC%9C%B5_%EA%B3%B5%ED%95%99_7%EC%9D%BC%EC%B0%A8.ipynb\" target=\"_parent\"><img src=\"https://colab.research.google.com/assets/colab-badge.svg\" alt=\"Open In Colab\"/></a>"
      ]
    },
    {
      "cell_type": "markdown",
      "source": [
        "<font size=6><b>파생상품-선물(Future)\n",
        "* ref : KRX 아카데미,  http://academy.krx.co.kr/contents/ACA/02/02020200/ACA02020200.jsp\n",
        "* ref : 키움증권 ,     https://www.kiwoom.com/h/help/trade/VHelpFuopInfoView\n",
        "* ref : 금융공학레시피, http://www.kyobobook.co.kr/product/detailViewKor.laf?mallGb=KOR&ejkGb=KOR&barcode=9791162240823"
      ],
      "metadata": {
        "id": "3kwer5wXuEX3"
      }
    },
    {
      "cell_type": "markdown",
      "source": [
        "* <b>파생상품</b>\n",
        "   기초자산의 가치 변동에 따라 가격이 결정되는 금융상품\n",
        "* <b>선물거래</b>\n",
        "   기초자산을 미래의 일정 시점에 미리 정한 가격으로 인도, 인수할 것을 '약속'하는 거래 \n",
        "* <b>옵션거래</b>\n",
        "   미리 정한 가격으로 사거나 팔 수 있는 '권리'를 거래하는 것"
      ],
      "metadata": {
        "id": "RNk9emeMI9AE"
      }
    },
    {
      "cell_type": "markdown",
      "source": [
        "<img  width=\"700\" height=\"400\" src=\"https://blog.kakaocdn.net/dn/bCdmW6/btrxvMPAgxy/imwVIr95GkDUAsg3BSv6Hk/img.png\">"
      ],
      "metadata": {
        "id": "0M8Ec2sYP_A3"
      }
    },
    {
      "cell_type": "markdown",
      "source": [
        "<img  width=\"700\" height=\"400\" src=\"https://blog.kakaocdn.net/dn/cHgNTU/btrxGcmAHqW/nDhkFDRs83FNDxDgFXZgw0/img.png\">"
      ],
      "metadata": {
        "id": "onlIhyvCQUsE"
      }
    },
    {
      "cell_type": "markdown",
      "source": [
        "<img  width=\"700\" height=\"400\" src=\"https://blog.kakaocdn.net/dn/bjn7us/btrxu8ztub5/VozIDbUL1EPcdPjxWfXfPk/img.png\">"
      ],
      "metadata": {
        "id": "R5LvdXyDXVUn"
      }
    },
    {
      "cell_type": "markdown",
      "source": [
        "<img  width=\"700\" height=\"400\" src=\"https://blog.kakaocdn.net/dn/7QEHa/btrxAaQBJPI/MNMsckMk0LRJ9fewY6Qth0/img.png\">"
      ],
      "metadata": {
        "id": "Z-1cPT_AXb69"
      }
    },
    {
      "cell_type": "markdown",
      "source": [
        "<img  width=\"700\" height=\"400\" src=\"https://blog.kakaocdn.net/dn/b6dK2g/btrxwXRLTyU/S4WT993ip2mqpIhGU5wuH1/img.png\">"
      ],
      "metadata": {
        "id": "eY6UMjIAYfzH"
      }
    },
    {
      "cell_type": "markdown",
      "source": [
        "<img  width=\"700\" height=\"400\" src=\"https://blog.kakaocdn.net/dn/Bli4e/btrxEERbA2P/gaQgBHK7eUrU1ExkT95Gpk/img.png\">"
      ],
      "metadata": {
        "id": "PO2h6iLFZ7Z9"
      }
    },
    {
      "cell_type": "markdown",
      "source": [
        "<img  width=\"700\" height=\"400\" src=\"https://blog.kakaocdn.net/dn/D12JG/btrxEEjk46u/SVFM8DWLMPiDhDSqgiphYk/img.png\">"
      ],
      "metadata": {
        "id": "Y49Gx-qXa3Zv"
      }
    },
    {
      "cell_type": "markdown",
      "source": [
        "<img  width=\"700\" height=\"400\" src=\"https://blog.kakaocdn.net/dn/lPXls/btrxykeTnle/YS597VQCsELyKawfXHaKA0/img.png\">"
      ],
      "metadata": {
        "id": "qxrmBlJbbWaP"
      }
    },
    {
      "cell_type": "markdown",
      "source": [
        "<img  width=\"700\" height=\"400\" src=\"https://blog.kakaocdn.net/dn/cesUnh/btrxvLDbmu0/9Ylmf1qEjbKk0ARzlJXkR1/img.png\">"
      ],
      "metadata": {
        "id": "49b7siqkcLFI"
      }
    },
    {
      "cell_type": "markdown",
      "source": [
        "<img  width=\"700\" height=\"400\" src=\"https://blog.kakaocdn.net/dn/tb6Sz/btrxB5heOMs/z4KuGsZcpo0pmU8s59alc0/img.png\">"
      ],
      "metadata": {
        "id": "MollCSdFfjLw"
      }
    },
    {
      "cell_type": "markdown",
      "source": [
        "<img  width=\"700\" height=\"400\" src=\"https://blog.kakaocdn.net/dn/c0IG0L/btrxB5n01D7/SWhk1X2XjkT3boWIVRNJhK/img.png\">"
      ],
      "metadata": {
        "id": "mEcJefjygVHZ"
      }
    },
    {
      "cell_type": "markdown",
      "source": [
        "<img  width=\"700\" height=\"400\" src=\"https://blog.kakaocdn.net/dn/b7qkn0/btrxAbhLbde/rWyW72kA0FI21cPTphTSy1/img.png\">"
      ],
      "metadata": {
        "id": "7WOQtvdbhK_n"
      }
    },
    {
      "cell_type": "markdown",
      "source": [
        "<img  width=\"700\" height=\"400\" src=\"https://blog.kakaocdn.net/dn/6AkWB/btrxsEMvvYS/97k46tkZSTRmXmNjuyiP51/img.png\">"
      ],
      "metadata": {
        "id": "lSQa6Bdmql3j"
      }
    },
    {
      "cell_type": "markdown",
      "source": [
        "<img  width=\"700\" height=\"400\" src=\"https://blog.kakaocdn.net/dn/bERFQh/btrxAboBeiR/YVPa1DRR480OipYODAR7Uk/img.png\">"
      ],
      "metadata": {
        "id": "2etr7_Utq2Es"
      }
    },
    {
      "cell_type": "markdown",
      "source": [
        "<img  width=\"700\" height=\"400\" src=\"https://blog.kakaocdn.net/dn/lTIkz/btrxHu1MDZ7/48eTDPk3tmiZE5j9PubdjK/img.png\">"
      ],
      "metadata": {
        "id": "rekKak_vvXwl"
      }
    },
    {
      "cell_type": "markdown",
      "source": [
        "* 이론가보다 선물가가 낮으면(괴리도 음수) 저렴하게 나왔다고 생각하면 됨"
      ],
      "metadata": {
        "id": "1sr7STL1vbid"
      }
    },
    {
      "cell_type": "code",
      "source": [
        "import pandas as pd\n",
        "import numpy as np"
      ],
      "metadata": {
        "id": "pXlTOotyJkV5"
      },
      "execution_count": null,
      "outputs": []
    },
    {
      "cell_type": "code",
      "source": [
        "from google.colab import drive\n",
        "drive.mount('/content/gdrive')"
      ],
      "metadata": {
        "colab": {
          "base_uri": "https://localhost:8080/"
        },
        "id": "WfpFEXk2J66H",
        "outputId": "cda27f2c-ee06-47a5-9741-7e21981b7c39"
      },
      "execution_count": null,
      "outputs": [
        {
          "output_type": "stream",
          "name": "stdout",
          "text": [
            "Mounted at /content/gdrive\n"
          ]
        }
      ]
    },
    {
      "cell_type": "code",
      "source": [
        "df = pd.read_excel(\"/content/gdrive/My Drive/Colab Notebooks/금융공학/dataset/선물이론가산출1.xlsx\",'선물') #일자별지수\n",
        "df.head()"
      ],
      "metadata": {
        "colab": {
          "base_uri": "https://localhost:8080/",
          "height": 206
        },
        "id": "Uz-KBs7eJtSi",
        "outputId": "ce408122-dd15-49bf-aaa6-67a22a5d6cdd"
      },
      "execution_count": null,
      "outputs": [
        {
          "output_type": "execute_result",
          "data": {
            "text/plain": [
              "    일자          지수  선물이론가(1분기)  선물이론가(2분기)  Unnamed: 4      이자율   0.0225\n",
              "0  1.0  100.000000  100.184694  100.372717         NaN      배당률    0.015\n",
              "1  2.0  100.191806  100.373867  100.562244         NaN  만기(1분기)   63.000\n",
              "2  3.0  100.774601  100.954716  101.144184         NaN  만기(2분기)  126.000\n",
              "3  4.0   99.934721  100.110356  100.298239         NaN      NaN      NaN\n",
              "4  5.0  101.075137  101.249763  101.439784         NaN      NaN      NaN"
            ],
            "text/html": [
              "\n",
              "  <div id=\"df-c86209c4-61f6-44dc-a075-2e957b0aa198\">\n",
              "    <div class=\"colab-df-container\">\n",
              "      <div>\n",
              "<style scoped>\n",
              "    .dataframe tbody tr th:only-of-type {\n",
              "        vertical-align: middle;\n",
              "    }\n",
              "\n",
              "    .dataframe tbody tr th {\n",
              "        vertical-align: top;\n",
              "    }\n",
              "\n",
              "    .dataframe thead th {\n",
              "        text-align: right;\n",
              "    }\n",
              "</style>\n",
              "<table border=\"1\" class=\"dataframe\">\n",
              "  <thead>\n",
              "    <tr style=\"text-align: right;\">\n",
              "      <th></th>\n",
              "      <th>일자</th>\n",
              "      <th>지수</th>\n",
              "      <th>선물이론가(1분기)</th>\n",
              "      <th>선물이론가(2분기)</th>\n",
              "      <th>Unnamed: 4</th>\n",
              "      <th>이자율</th>\n",
              "      <th>0.0225</th>\n",
              "    </tr>\n",
              "  </thead>\n",
              "  <tbody>\n",
              "    <tr>\n",
              "      <th>0</th>\n",
              "      <td>1.0</td>\n",
              "      <td>100.000000</td>\n",
              "      <td>100.184694</td>\n",
              "      <td>100.372717</td>\n",
              "      <td>NaN</td>\n",
              "      <td>배당률</td>\n",
              "      <td>0.015</td>\n",
              "    </tr>\n",
              "    <tr>\n",
              "      <th>1</th>\n",
              "      <td>2.0</td>\n",
              "      <td>100.191806</td>\n",
              "      <td>100.373867</td>\n",
              "      <td>100.562244</td>\n",
              "      <td>NaN</td>\n",
              "      <td>만기(1분기)</td>\n",
              "      <td>63.000</td>\n",
              "    </tr>\n",
              "    <tr>\n",
              "      <th>2</th>\n",
              "      <td>3.0</td>\n",
              "      <td>100.774601</td>\n",
              "      <td>100.954716</td>\n",
              "      <td>101.144184</td>\n",
              "      <td>NaN</td>\n",
              "      <td>만기(2분기)</td>\n",
              "      <td>126.000</td>\n",
              "    </tr>\n",
              "    <tr>\n",
              "      <th>3</th>\n",
              "      <td>4.0</td>\n",
              "      <td>99.934721</td>\n",
              "      <td>100.110356</td>\n",
              "      <td>100.298239</td>\n",
              "      <td>NaN</td>\n",
              "      <td>NaN</td>\n",
              "      <td>NaN</td>\n",
              "    </tr>\n",
              "    <tr>\n",
              "      <th>4</th>\n",
              "      <td>5.0</td>\n",
              "      <td>101.075137</td>\n",
              "      <td>101.249763</td>\n",
              "      <td>101.439784</td>\n",
              "      <td>NaN</td>\n",
              "      <td>NaN</td>\n",
              "      <td>NaN</td>\n",
              "    </tr>\n",
              "  </tbody>\n",
              "</table>\n",
              "</div>\n",
              "      <button class=\"colab-df-convert\" onclick=\"convertToInteractive('df-c86209c4-61f6-44dc-a075-2e957b0aa198')\"\n",
              "              title=\"Convert this dataframe to an interactive table.\"\n",
              "              style=\"display:none;\">\n",
              "        \n",
              "  <svg xmlns=\"http://www.w3.org/2000/svg\" height=\"24px\"viewBox=\"0 0 24 24\"\n",
              "       width=\"24px\">\n",
              "    <path d=\"M0 0h24v24H0V0z\" fill=\"none\"/>\n",
              "    <path d=\"M18.56 5.44l.94 2.06.94-2.06 2.06-.94-2.06-.94-.94-2.06-.94 2.06-2.06.94zm-11 1L8.5 8.5l.94-2.06 2.06-.94-2.06-.94L8.5 2.5l-.94 2.06-2.06.94zm10 10l.94 2.06.94-2.06 2.06-.94-2.06-.94-.94-2.06-.94 2.06-2.06.94z\"/><path d=\"M17.41 7.96l-1.37-1.37c-.4-.4-.92-.59-1.43-.59-.52 0-1.04.2-1.43.59L10.3 9.45l-7.72 7.72c-.78.78-.78 2.05 0 2.83L4 21.41c.39.39.9.59 1.41.59.51 0 1.02-.2 1.41-.59l7.78-7.78 2.81-2.81c.8-.78.8-2.07 0-2.86zM5.41 20L4 18.59l7.72-7.72 1.47 1.35L5.41 20z\"/>\n",
              "  </svg>\n",
              "      </button>\n",
              "      \n",
              "  <style>\n",
              "    .colab-df-container {\n",
              "      display:flex;\n",
              "      flex-wrap:wrap;\n",
              "      gap: 12px;\n",
              "    }\n",
              "\n",
              "    .colab-df-convert {\n",
              "      background-color: #E8F0FE;\n",
              "      border: none;\n",
              "      border-radius: 50%;\n",
              "      cursor: pointer;\n",
              "      display: none;\n",
              "      fill: #1967D2;\n",
              "      height: 32px;\n",
              "      padding: 0 0 0 0;\n",
              "      width: 32px;\n",
              "    }\n",
              "\n",
              "    .colab-df-convert:hover {\n",
              "      background-color: #E2EBFA;\n",
              "      box-shadow: 0px 1px 2px rgba(60, 64, 67, 0.3), 0px 1px 3px 1px rgba(60, 64, 67, 0.15);\n",
              "      fill: #174EA6;\n",
              "    }\n",
              "\n",
              "    [theme=dark] .colab-df-convert {\n",
              "      background-color: #3B4455;\n",
              "      fill: #D2E3FC;\n",
              "    }\n",
              "\n",
              "    [theme=dark] .colab-df-convert:hover {\n",
              "      background-color: #434B5C;\n",
              "      box-shadow: 0px 1px 3px 1px rgba(0, 0, 0, 0.15);\n",
              "      filter: drop-shadow(0px 1px 2px rgba(0, 0, 0, 0.3));\n",
              "      fill: #FFFFFF;\n",
              "    }\n",
              "  </style>\n",
              "\n",
              "      <script>\n",
              "        const buttonEl =\n",
              "          document.querySelector('#df-c86209c4-61f6-44dc-a075-2e957b0aa198 button.colab-df-convert');\n",
              "        buttonEl.style.display =\n",
              "          google.colab.kernel.accessAllowed ? 'block' : 'none';\n",
              "\n",
              "        async function convertToInteractive(key) {\n",
              "          const element = document.querySelector('#df-c86209c4-61f6-44dc-a075-2e957b0aa198');\n",
              "          const dataTable =\n",
              "            await google.colab.kernel.invokeFunction('convertToInteractive',\n",
              "                                                     [key], {});\n",
              "          if (!dataTable) return;\n",
              "\n",
              "          const docLinkHtml = 'Like what you see? Visit the ' +\n",
              "            '<a target=\"_blank\" href=https://colab.research.google.com/notebooks/data_table.ipynb>data table notebook</a>'\n",
              "            + ' to learn more about interactive tables.';\n",
              "          element.innerHTML = '';\n",
              "          dataTable['output_type'] = 'display_data';\n",
              "          await google.colab.output.renderOutput(dataTable, element);\n",
              "          const docLink = document.createElement('div');\n",
              "          docLink.innerHTML = docLinkHtml;\n",
              "          element.appendChild(docLink);\n",
              "        }\n",
              "      </script>\n",
              "    </div>\n",
              "  </div>\n",
              "  "
            ]
          },
          "metadata": {},
          "execution_count": 25
        }
      ]
    },
    {
      "cell_type": "markdown",
      "source": [
        "# 선물이론가\n",
        "* 이론가 = 현물가 + 순보유비용(만기까지의 이자비, 보관비 등)"
      ],
      "metadata": {
        "id": "nqY4mKxvK-kH"
      }
    },
    {
      "cell_type": "markdown",
      "source": [
        "* 이자율 = 2.25\n",
        "* 배당률 = 1.50\n",
        "* 만기(1분기) = 63\n",
        "* 만기(2분기) = 126"
      ],
      "metadata": {
        "id": "TT5YZvP1LOnY"
      }
    },
    {
      "cell_type": "code",
      "source": [
        "df.head()"
      ],
      "metadata": {
        "colab": {
          "base_uri": "https://localhost:8080/",
          "height": 206
        },
        "id": "Vp_0-TN4R6ez",
        "outputId": "240f3876-73f3-4647-e431-6faf3356b7c5"
      },
      "execution_count": null,
      "outputs": [
        {
          "output_type": "execute_result",
          "data": {
            "text/plain": [
              "    일자          지수  선물이론가(1분기)  선물이론가(2분기)  Unnamed: 4      이자율   0.0225\n",
              "0  1.0  100.000000  100.184694  100.372717         NaN      배당률    0.015\n",
              "1  2.0  100.191806  100.373867  100.562244         NaN  만기(1분기)   63.000\n",
              "2  3.0  100.774601  100.954716  101.144184         NaN  만기(2분기)  126.000\n",
              "3  4.0   99.934721  100.110356  100.298239         NaN      NaN      NaN\n",
              "4  5.0  101.075137  101.249763  101.439784         NaN      NaN      NaN"
            ],
            "text/html": [
              "\n",
              "  <div id=\"df-b913ba17-dfd6-49aa-a9ef-e9745a0ea734\">\n",
              "    <div class=\"colab-df-container\">\n",
              "      <div>\n",
              "<style scoped>\n",
              "    .dataframe tbody tr th:only-of-type {\n",
              "        vertical-align: middle;\n",
              "    }\n",
              "\n",
              "    .dataframe tbody tr th {\n",
              "        vertical-align: top;\n",
              "    }\n",
              "\n",
              "    .dataframe thead th {\n",
              "        text-align: right;\n",
              "    }\n",
              "</style>\n",
              "<table border=\"1\" class=\"dataframe\">\n",
              "  <thead>\n",
              "    <tr style=\"text-align: right;\">\n",
              "      <th></th>\n",
              "      <th>일자</th>\n",
              "      <th>지수</th>\n",
              "      <th>선물이론가(1분기)</th>\n",
              "      <th>선물이론가(2분기)</th>\n",
              "      <th>Unnamed: 4</th>\n",
              "      <th>이자율</th>\n",
              "      <th>0.0225</th>\n",
              "    </tr>\n",
              "  </thead>\n",
              "  <tbody>\n",
              "    <tr>\n",
              "      <th>0</th>\n",
              "      <td>1.0</td>\n",
              "      <td>100.000000</td>\n",
              "      <td>100.184694</td>\n",
              "      <td>100.372717</td>\n",
              "      <td>NaN</td>\n",
              "      <td>배당률</td>\n",
              "      <td>0.015</td>\n",
              "    </tr>\n",
              "    <tr>\n",
              "      <th>1</th>\n",
              "      <td>2.0</td>\n",
              "      <td>100.191806</td>\n",
              "      <td>100.373867</td>\n",
              "      <td>100.562244</td>\n",
              "      <td>NaN</td>\n",
              "      <td>만기(1분기)</td>\n",
              "      <td>63.000</td>\n",
              "    </tr>\n",
              "    <tr>\n",
              "      <th>2</th>\n",
              "      <td>3.0</td>\n",
              "      <td>100.774601</td>\n",
              "      <td>100.954716</td>\n",
              "      <td>101.144184</td>\n",
              "      <td>NaN</td>\n",
              "      <td>만기(2분기)</td>\n",
              "      <td>126.000</td>\n",
              "    </tr>\n",
              "    <tr>\n",
              "      <th>3</th>\n",
              "      <td>4.0</td>\n",
              "      <td>99.934721</td>\n",
              "      <td>100.110356</td>\n",
              "      <td>100.298239</td>\n",
              "      <td>NaN</td>\n",
              "      <td>NaN</td>\n",
              "      <td>NaN</td>\n",
              "    </tr>\n",
              "    <tr>\n",
              "      <th>4</th>\n",
              "      <td>5.0</td>\n",
              "      <td>101.075137</td>\n",
              "      <td>101.249763</td>\n",
              "      <td>101.439784</td>\n",
              "      <td>NaN</td>\n",
              "      <td>NaN</td>\n",
              "      <td>NaN</td>\n",
              "    </tr>\n",
              "  </tbody>\n",
              "</table>\n",
              "</div>\n",
              "      <button class=\"colab-df-convert\" onclick=\"convertToInteractive('df-b913ba17-dfd6-49aa-a9ef-e9745a0ea734')\"\n",
              "              title=\"Convert this dataframe to an interactive table.\"\n",
              "              style=\"display:none;\">\n",
              "        \n",
              "  <svg xmlns=\"http://www.w3.org/2000/svg\" height=\"24px\"viewBox=\"0 0 24 24\"\n",
              "       width=\"24px\">\n",
              "    <path d=\"M0 0h24v24H0V0z\" fill=\"none\"/>\n",
              "    <path d=\"M18.56 5.44l.94 2.06.94-2.06 2.06-.94-2.06-.94-.94-2.06-.94 2.06-2.06.94zm-11 1L8.5 8.5l.94-2.06 2.06-.94-2.06-.94L8.5 2.5l-.94 2.06-2.06.94zm10 10l.94 2.06.94-2.06 2.06-.94-2.06-.94-.94-2.06-.94 2.06-2.06.94z\"/><path d=\"M17.41 7.96l-1.37-1.37c-.4-.4-.92-.59-1.43-.59-.52 0-1.04.2-1.43.59L10.3 9.45l-7.72 7.72c-.78.78-.78 2.05 0 2.83L4 21.41c.39.39.9.59 1.41.59.51 0 1.02-.2 1.41-.59l7.78-7.78 2.81-2.81c.8-.78.8-2.07 0-2.86zM5.41 20L4 18.59l7.72-7.72 1.47 1.35L5.41 20z\"/>\n",
              "  </svg>\n",
              "      </button>\n",
              "      \n",
              "  <style>\n",
              "    .colab-df-container {\n",
              "      display:flex;\n",
              "      flex-wrap:wrap;\n",
              "      gap: 12px;\n",
              "    }\n",
              "\n",
              "    .colab-df-convert {\n",
              "      background-color: #E8F0FE;\n",
              "      border: none;\n",
              "      border-radius: 50%;\n",
              "      cursor: pointer;\n",
              "      display: none;\n",
              "      fill: #1967D2;\n",
              "      height: 32px;\n",
              "      padding: 0 0 0 0;\n",
              "      width: 32px;\n",
              "    }\n",
              "\n",
              "    .colab-df-convert:hover {\n",
              "      background-color: #E2EBFA;\n",
              "      box-shadow: 0px 1px 2px rgba(60, 64, 67, 0.3), 0px 1px 3px 1px rgba(60, 64, 67, 0.15);\n",
              "      fill: #174EA6;\n",
              "    }\n",
              "\n",
              "    [theme=dark] .colab-df-convert {\n",
              "      background-color: #3B4455;\n",
              "      fill: #D2E3FC;\n",
              "    }\n",
              "\n",
              "    [theme=dark] .colab-df-convert:hover {\n",
              "      background-color: #434B5C;\n",
              "      box-shadow: 0px 1px 3px 1px rgba(0, 0, 0, 0.15);\n",
              "      filter: drop-shadow(0px 1px 2px rgba(0, 0, 0, 0.3));\n",
              "      fill: #FFFFFF;\n",
              "    }\n",
              "  </style>\n",
              "\n",
              "      <script>\n",
              "        const buttonEl =\n",
              "          document.querySelector('#df-b913ba17-dfd6-49aa-a9ef-e9745a0ea734 button.colab-df-convert');\n",
              "        buttonEl.style.display =\n",
              "          google.colab.kernel.accessAllowed ? 'block' : 'none';\n",
              "\n",
              "        async function convertToInteractive(key) {\n",
              "          const element = document.querySelector('#df-b913ba17-dfd6-49aa-a9ef-e9745a0ea734');\n",
              "          const dataTable =\n",
              "            await google.colab.kernel.invokeFunction('convertToInteractive',\n",
              "                                                     [key], {});\n",
              "          if (!dataTable) return;\n",
              "\n",
              "          const docLinkHtml = 'Like what you see? Visit the ' +\n",
              "            '<a target=\"_blank\" href=https://colab.research.google.com/notebooks/data_table.ipynb>data table notebook</a>'\n",
              "            + ' to learn more about interactive tables.';\n",
              "          element.innerHTML = '';\n",
              "          dataTable['output_type'] = 'display_data';\n",
              "          await google.colab.output.renderOutput(dataTable, element);\n",
              "          const docLink = document.createElement('div');\n",
              "          docLink.innerHTML = docLinkHtml;\n",
              "          element.appendChild(docLink);\n",
              "        }\n",
              "      </script>\n",
              "    </div>\n",
              "  </div>\n",
              "  "
            ]
          },
          "metadata": {},
          "execution_count": 29
        }
      ]
    },
    {
      "cell_type": "code",
      "source": [
        "def my_future_price(df,만기일자=63, r=0.0225, d=0.015):\n",
        "    t = (만기일자-df['일자'])/252\n",
        "    S=df['지수']\n",
        "    선물이론가=S*np.exp((r-d)*t)\n",
        "    return 선물이론가"
      ],
      "metadata": {
        "id": "6RXo1nOhKTdt"
      },
      "execution_count": null,
      "outputs": []
    },
    {
      "cell_type": "code",
      "source": [
        "df['이론가1']=df.apply(lambda x : my_future_price(x,만기일자=63),axis=1)\n",
        "df['이론가2']=df.apply(lambda x : my_future_price(x,만기일자=126),axis=1)"
      ],
      "metadata": {
        "id": "eYQfgYiKMWeW"
      },
      "execution_count": null,
      "outputs": []
    },
    {
      "cell_type": "code",
      "source": [
        "df.head()"
      ],
      "metadata": {
        "colab": {
          "base_uri": "https://localhost:8080/",
          "height": 206
        },
        "id": "XmeKIUTjMj-Q",
        "outputId": "500fffd2-6934-4c44-c3b2-f33efc2bc93b"
      },
      "execution_count": null,
      "outputs": [
        {
          "output_type": "execute_result",
          "data": {
            "text/plain": [
              "    일자          지수  선물이론가(1분기)  선물이론가(2분기)  Unnamed: 4      이자율   0.0225  \\\n",
              "0  1.0  100.000000  100.184694  100.372717         NaN      배당률    0.015   \n",
              "1  2.0  100.191806  100.373867  100.562244         NaN  만기(1분기)   63.000   \n",
              "2  3.0  100.774601  100.954716  101.144184         NaN  만기(2분기)  126.000   \n",
              "3  4.0   99.934721  100.110356  100.298239         NaN      NaN      NaN   \n",
              "4  5.0  101.075137  101.249763  101.439784         NaN      NaN      NaN   \n",
              "\n",
              "         이론가1        이론가2  \n",
              "0  100.184694  100.372717  \n",
              "1  100.373867  100.562244  \n",
              "2  100.954716  101.144184  \n",
              "3  100.110356  100.298239  \n",
              "4  101.249763  101.439784  "
            ],
            "text/html": [
              "\n",
              "  <div id=\"df-7f83fcb8-77ed-401b-8dbb-2f68be905055\">\n",
              "    <div class=\"colab-df-container\">\n",
              "      <div>\n",
              "<style scoped>\n",
              "    .dataframe tbody tr th:only-of-type {\n",
              "        vertical-align: middle;\n",
              "    }\n",
              "\n",
              "    .dataframe tbody tr th {\n",
              "        vertical-align: top;\n",
              "    }\n",
              "\n",
              "    .dataframe thead th {\n",
              "        text-align: right;\n",
              "    }\n",
              "</style>\n",
              "<table border=\"1\" class=\"dataframe\">\n",
              "  <thead>\n",
              "    <tr style=\"text-align: right;\">\n",
              "      <th></th>\n",
              "      <th>일자</th>\n",
              "      <th>지수</th>\n",
              "      <th>선물이론가(1분기)</th>\n",
              "      <th>선물이론가(2분기)</th>\n",
              "      <th>Unnamed: 4</th>\n",
              "      <th>이자율</th>\n",
              "      <th>0.0225</th>\n",
              "      <th>이론가1</th>\n",
              "      <th>이론가2</th>\n",
              "    </tr>\n",
              "  </thead>\n",
              "  <tbody>\n",
              "    <tr>\n",
              "      <th>0</th>\n",
              "      <td>1.0</td>\n",
              "      <td>100.000000</td>\n",
              "      <td>100.184694</td>\n",
              "      <td>100.372717</td>\n",
              "      <td>NaN</td>\n",
              "      <td>배당률</td>\n",
              "      <td>0.015</td>\n",
              "      <td>100.184694</td>\n",
              "      <td>100.372717</td>\n",
              "    </tr>\n",
              "    <tr>\n",
              "      <th>1</th>\n",
              "      <td>2.0</td>\n",
              "      <td>100.191806</td>\n",
              "      <td>100.373867</td>\n",
              "      <td>100.562244</td>\n",
              "      <td>NaN</td>\n",
              "      <td>만기(1분기)</td>\n",
              "      <td>63.000</td>\n",
              "      <td>100.373867</td>\n",
              "      <td>100.562244</td>\n",
              "    </tr>\n",
              "    <tr>\n",
              "      <th>2</th>\n",
              "      <td>3.0</td>\n",
              "      <td>100.774601</td>\n",
              "      <td>100.954716</td>\n",
              "      <td>101.144184</td>\n",
              "      <td>NaN</td>\n",
              "      <td>만기(2분기)</td>\n",
              "      <td>126.000</td>\n",
              "      <td>100.954716</td>\n",
              "      <td>101.144184</td>\n",
              "    </tr>\n",
              "    <tr>\n",
              "      <th>3</th>\n",
              "      <td>4.0</td>\n",
              "      <td>99.934721</td>\n",
              "      <td>100.110356</td>\n",
              "      <td>100.298239</td>\n",
              "      <td>NaN</td>\n",
              "      <td>NaN</td>\n",
              "      <td>NaN</td>\n",
              "      <td>100.110356</td>\n",
              "      <td>100.298239</td>\n",
              "    </tr>\n",
              "    <tr>\n",
              "      <th>4</th>\n",
              "      <td>5.0</td>\n",
              "      <td>101.075137</td>\n",
              "      <td>101.249763</td>\n",
              "      <td>101.439784</td>\n",
              "      <td>NaN</td>\n",
              "      <td>NaN</td>\n",
              "      <td>NaN</td>\n",
              "      <td>101.249763</td>\n",
              "      <td>101.439784</td>\n",
              "    </tr>\n",
              "  </tbody>\n",
              "</table>\n",
              "</div>\n",
              "      <button class=\"colab-df-convert\" onclick=\"convertToInteractive('df-7f83fcb8-77ed-401b-8dbb-2f68be905055')\"\n",
              "              title=\"Convert this dataframe to an interactive table.\"\n",
              "              style=\"display:none;\">\n",
              "        \n",
              "  <svg xmlns=\"http://www.w3.org/2000/svg\" height=\"24px\"viewBox=\"0 0 24 24\"\n",
              "       width=\"24px\">\n",
              "    <path d=\"M0 0h24v24H0V0z\" fill=\"none\"/>\n",
              "    <path d=\"M18.56 5.44l.94 2.06.94-2.06 2.06-.94-2.06-.94-.94-2.06-.94 2.06-2.06.94zm-11 1L8.5 8.5l.94-2.06 2.06-.94-2.06-.94L8.5 2.5l-.94 2.06-2.06.94zm10 10l.94 2.06.94-2.06 2.06-.94-2.06-.94-.94-2.06-.94 2.06-2.06.94z\"/><path d=\"M17.41 7.96l-1.37-1.37c-.4-.4-.92-.59-1.43-.59-.52 0-1.04.2-1.43.59L10.3 9.45l-7.72 7.72c-.78.78-.78 2.05 0 2.83L4 21.41c.39.39.9.59 1.41.59.51 0 1.02-.2 1.41-.59l7.78-7.78 2.81-2.81c.8-.78.8-2.07 0-2.86zM5.41 20L4 18.59l7.72-7.72 1.47 1.35L5.41 20z\"/>\n",
              "  </svg>\n",
              "      </button>\n",
              "      \n",
              "  <style>\n",
              "    .colab-df-container {\n",
              "      display:flex;\n",
              "      flex-wrap:wrap;\n",
              "      gap: 12px;\n",
              "    }\n",
              "\n",
              "    .colab-df-convert {\n",
              "      background-color: #E8F0FE;\n",
              "      border: none;\n",
              "      border-radius: 50%;\n",
              "      cursor: pointer;\n",
              "      display: none;\n",
              "      fill: #1967D2;\n",
              "      height: 32px;\n",
              "      padding: 0 0 0 0;\n",
              "      width: 32px;\n",
              "    }\n",
              "\n",
              "    .colab-df-convert:hover {\n",
              "      background-color: #E2EBFA;\n",
              "      box-shadow: 0px 1px 2px rgba(60, 64, 67, 0.3), 0px 1px 3px 1px rgba(60, 64, 67, 0.15);\n",
              "      fill: #174EA6;\n",
              "    }\n",
              "\n",
              "    [theme=dark] .colab-df-convert {\n",
              "      background-color: #3B4455;\n",
              "      fill: #D2E3FC;\n",
              "    }\n",
              "\n",
              "    [theme=dark] .colab-df-convert:hover {\n",
              "      background-color: #434B5C;\n",
              "      box-shadow: 0px 1px 3px 1px rgba(0, 0, 0, 0.15);\n",
              "      filter: drop-shadow(0px 1px 2px rgba(0, 0, 0, 0.3));\n",
              "      fill: #FFFFFF;\n",
              "    }\n",
              "  </style>\n",
              "\n",
              "      <script>\n",
              "        const buttonEl =\n",
              "          document.querySelector('#df-7f83fcb8-77ed-401b-8dbb-2f68be905055 button.colab-df-convert');\n",
              "        buttonEl.style.display =\n",
              "          google.colab.kernel.accessAllowed ? 'block' : 'none';\n",
              "\n",
              "        async function convertToInteractive(key) {\n",
              "          const element = document.querySelector('#df-7f83fcb8-77ed-401b-8dbb-2f68be905055');\n",
              "          const dataTable =\n",
              "            await google.colab.kernel.invokeFunction('convertToInteractive',\n",
              "                                                     [key], {});\n",
              "          if (!dataTable) return;\n",
              "\n",
              "          const docLinkHtml = 'Like what you see? Visit the ' +\n",
              "            '<a target=\"_blank\" href=https://colab.research.google.com/notebooks/data_table.ipynb>data table notebook</a>'\n",
              "            + ' to learn more about interactive tables.';\n",
              "          element.innerHTML = '';\n",
              "          dataTable['output_type'] = 'display_data';\n",
              "          await google.colab.output.renderOutput(dataTable, element);\n",
              "          const docLink = document.createElement('div');\n",
              "          docLink.innerHTML = docLinkHtml;\n",
              "          element.appendChild(docLink);\n",
              "        }\n",
              "      </script>\n",
              "    </div>\n",
              "  </div>\n",
              "  "
            ]
          },
          "metadata": {},
          "execution_count": 57
        }
      ]
    },
    {
      "cell_type": "markdown",
      "source": [
        "# Mission. WTI 유가 선물옵션 만기에 따른 수익률 비교"
      ],
      "metadata": {
        "id": "7KLqpqVTgexO"
      }
    },
    {
      "cell_type": "markdown",
      "source": [
        "* Spot (현물가)\n",
        "* Front (최근월물) 만기를 앞두고 있는 선물\n",
        "* Second (차근월물) 다음 만기를 앞두고 있는 선물"
      ],
      "metadata": {
        "id": "_TO-lDx3g10N"
      }
    },
    {
      "cell_type": "code",
      "source": [
        "df1 = pd.read_excel(\"/content/gdrive/My Drive/Colab Notebooks/금융공학/dataset/WTI.xlsx\",'Spot')\n",
        "df2 = pd.read_excel(\"/content/gdrive/My Drive/Colab Notebooks/금융공학/dataset/WTI.xlsx\",'Front')\n",
        "df3 = pd.read_excel(\"/content/gdrive/My Drive/Colab Notebooks/금융공학/dataset/WTI.xlsx\",'Second')\n",
        "df4 = pd.read_excel(\"/content/gdrive/My Drive/Colab Notebooks/금융공학/dataset/WTI.xlsx\",'Expiry', usecols=['Last Trade'])\n"
      ],
      "metadata": {
        "id": "p5Zl1U0_gBvQ"
      },
      "execution_count": null,
      "outputs": []
    },
    {
      "cell_type": "code",
      "source": [
        "df=pd.concat([df1,df2,df3,df4],axis=1)[['Date','Spot','Front','Second']].iloc[:,2:7]"
      ],
      "metadata": {
        "id": "57flO-F8hShV"
      },
      "execution_count": null,
      "outputs": []
    },
    {
      "cell_type": "markdown",
      "source": [
        "## 만기일 여부 (1,0)"
      ],
      "metadata": {
        "id": "Bpvifa10iRXE"
      }
    },
    {
      "cell_type": "code",
      "source": [
        "df=df.set_index('Date')\n",
        "df.head()"
      ],
      "metadata": {
        "colab": {
          "base_uri": "https://localhost:8080/",
          "height": 238
        },
        "id": "dc0LH_kDhmle",
        "outputId": "4e8f2d95-2693-4cde-fa30-2f18382ac934"
      },
      "execution_count": null,
      "outputs": [
        {
          "output_type": "execute_result",
          "data": {
            "text/plain": [
              "             Spot  Front  Second\n",
              "Date                            \n",
              "2017-12-28  59.84  59.84   59.87\n",
              "2017-12-27  59.64  59.64   59.69\n",
              "2017-12-26  59.97  59.97   60.00\n",
              "2017-12-22  58.42  58.47   58.54\n",
              "2017-12-21  58.33  58.36   58.40"
            ],
            "text/html": [
              "\n",
              "  <div id=\"df-b1c76a5d-ce1a-4c99-8e1e-d85177a441ea\">\n",
              "    <div class=\"colab-df-container\">\n",
              "      <div>\n",
              "<style scoped>\n",
              "    .dataframe tbody tr th:only-of-type {\n",
              "        vertical-align: middle;\n",
              "    }\n",
              "\n",
              "    .dataframe tbody tr th {\n",
              "        vertical-align: top;\n",
              "    }\n",
              "\n",
              "    .dataframe thead th {\n",
              "        text-align: right;\n",
              "    }\n",
              "</style>\n",
              "<table border=\"1\" class=\"dataframe\">\n",
              "  <thead>\n",
              "    <tr style=\"text-align: right;\">\n",
              "      <th></th>\n",
              "      <th>Spot</th>\n",
              "      <th>Front</th>\n",
              "      <th>Second</th>\n",
              "    </tr>\n",
              "    <tr>\n",
              "      <th>Date</th>\n",
              "      <th></th>\n",
              "      <th></th>\n",
              "      <th></th>\n",
              "    </tr>\n",
              "  </thead>\n",
              "  <tbody>\n",
              "    <tr>\n",
              "      <th>2017-12-28</th>\n",
              "      <td>59.84</td>\n",
              "      <td>59.84</td>\n",
              "      <td>59.87</td>\n",
              "    </tr>\n",
              "    <tr>\n",
              "      <th>2017-12-27</th>\n",
              "      <td>59.64</td>\n",
              "      <td>59.64</td>\n",
              "      <td>59.69</td>\n",
              "    </tr>\n",
              "    <tr>\n",
              "      <th>2017-12-26</th>\n",
              "      <td>59.97</td>\n",
              "      <td>59.97</td>\n",
              "      <td>60.00</td>\n",
              "    </tr>\n",
              "    <tr>\n",
              "      <th>2017-12-22</th>\n",
              "      <td>58.42</td>\n",
              "      <td>58.47</td>\n",
              "      <td>58.54</td>\n",
              "    </tr>\n",
              "    <tr>\n",
              "      <th>2017-12-21</th>\n",
              "      <td>58.33</td>\n",
              "      <td>58.36</td>\n",
              "      <td>58.40</td>\n",
              "    </tr>\n",
              "  </tbody>\n",
              "</table>\n",
              "</div>\n",
              "      <button class=\"colab-df-convert\" onclick=\"convertToInteractive('df-b1c76a5d-ce1a-4c99-8e1e-d85177a441ea')\"\n",
              "              title=\"Convert this dataframe to an interactive table.\"\n",
              "              style=\"display:none;\">\n",
              "        \n",
              "  <svg xmlns=\"http://www.w3.org/2000/svg\" height=\"24px\"viewBox=\"0 0 24 24\"\n",
              "       width=\"24px\">\n",
              "    <path d=\"M0 0h24v24H0V0z\" fill=\"none\"/>\n",
              "    <path d=\"M18.56 5.44l.94 2.06.94-2.06 2.06-.94-2.06-.94-.94-2.06-.94 2.06-2.06.94zm-11 1L8.5 8.5l.94-2.06 2.06-.94-2.06-.94L8.5 2.5l-.94 2.06-2.06.94zm10 10l.94 2.06.94-2.06 2.06-.94-2.06-.94-.94-2.06-.94 2.06-2.06.94z\"/><path d=\"M17.41 7.96l-1.37-1.37c-.4-.4-.92-.59-1.43-.59-.52 0-1.04.2-1.43.59L10.3 9.45l-7.72 7.72c-.78.78-.78 2.05 0 2.83L4 21.41c.39.39.9.59 1.41.59.51 0 1.02-.2 1.41-.59l7.78-7.78 2.81-2.81c.8-.78.8-2.07 0-2.86zM5.41 20L4 18.59l7.72-7.72 1.47 1.35L5.41 20z\"/>\n",
              "  </svg>\n",
              "      </button>\n",
              "      \n",
              "  <style>\n",
              "    .colab-df-container {\n",
              "      display:flex;\n",
              "      flex-wrap:wrap;\n",
              "      gap: 12px;\n",
              "    }\n",
              "\n",
              "    .colab-df-convert {\n",
              "      background-color: #E8F0FE;\n",
              "      border: none;\n",
              "      border-radius: 50%;\n",
              "      cursor: pointer;\n",
              "      display: none;\n",
              "      fill: #1967D2;\n",
              "      height: 32px;\n",
              "      padding: 0 0 0 0;\n",
              "      width: 32px;\n",
              "    }\n",
              "\n",
              "    .colab-df-convert:hover {\n",
              "      background-color: #E2EBFA;\n",
              "      box-shadow: 0px 1px 2px rgba(60, 64, 67, 0.3), 0px 1px 3px 1px rgba(60, 64, 67, 0.15);\n",
              "      fill: #174EA6;\n",
              "    }\n",
              "\n",
              "    [theme=dark] .colab-df-convert {\n",
              "      background-color: #3B4455;\n",
              "      fill: #D2E3FC;\n",
              "    }\n",
              "\n",
              "    [theme=dark] .colab-df-convert:hover {\n",
              "      background-color: #434B5C;\n",
              "      box-shadow: 0px 1px 3px 1px rgba(0, 0, 0, 0.15);\n",
              "      filter: drop-shadow(0px 1px 2px rgba(0, 0, 0, 0.3));\n",
              "      fill: #FFFFFF;\n",
              "    }\n",
              "  </style>\n",
              "\n",
              "      <script>\n",
              "        const buttonEl =\n",
              "          document.querySelector('#df-b1c76a5d-ce1a-4c99-8e1e-d85177a441ea button.colab-df-convert');\n",
              "        buttonEl.style.display =\n",
              "          google.colab.kernel.accessAllowed ? 'block' : 'none';\n",
              "\n",
              "        async function convertToInteractive(key) {\n",
              "          const element = document.querySelector('#df-b1c76a5d-ce1a-4c99-8e1e-d85177a441ea');\n",
              "          const dataTable =\n",
              "            await google.colab.kernel.invokeFunction('convertToInteractive',\n",
              "                                                     [key], {});\n",
              "          if (!dataTable) return;\n",
              "\n",
              "          const docLinkHtml = 'Like what you see? Visit the ' +\n",
              "            '<a target=\"_blank\" href=https://colab.research.google.com/notebooks/data_table.ipynb>data table notebook</a>'\n",
              "            + ' to learn more about interactive tables.';\n",
              "          element.innerHTML = '';\n",
              "          dataTable['output_type'] = 'display_data';\n",
              "          await google.colab.output.renderOutput(dataTable, element);\n",
              "          const docLink = document.createElement('div');\n",
              "          docLink.innerHTML = docLinkHtml;\n",
              "          element.appendChild(docLink);\n",
              "        }\n",
              "      </script>\n",
              "    </div>\n",
              "  </div>\n",
              "  "
            ]
          },
          "metadata": {},
          "execution_count": 101
        }
      ]
    },
    {
      "cell_type": "code",
      "source": [
        "expiry = pd.Series(pd.to_datetime(df4['Last Trade']))\n",
        "expiry.head()"
      ],
      "metadata": {
        "colab": {
          "base_uri": "https://localhost:8080/"
        },
        "id": "M1bwunwMlBlv",
        "outputId": "c034756b-6d41-4cc6-e668-af747392d3fc"
      },
      "execution_count": null,
      "outputs": [
        {
          "output_type": "execute_result",
          "data": {
            "text/plain": [
              "0   2000-01-20\n",
              "1   2000-02-22\n",
              "2   2000-03-21\n",
              "3   2000-04-19\n",
              "4   2000-05-22\n",
              "Name: Last Trade, dtype: datetime64[ns]"
            ]
          },
          "metadata": {},
          "execution_count": 102
        }
      ]
    },
    {
      "cell_type": "code",
      "source": [
        "df['Expiry'] = 0"
      ],
      "metadata": {
        "id": "V0ovzVzTlIG6"
      },
      "execution_count": null,
      "outputs": []
    },
    {
      "cell_type": "code",
      "source": [
        "for d in df.index:\n",
        "    if d in pd.to_datetime(expiry.values):\n",
        "        df['Expiry'].loc[d] = 1\n",
        "df[df['Expiry']==1]"
      ],
      "metadata": {
        "colab": {
          "base_uri": "https://localhost:8080/",
          "height": 546
        },
        "id": "5opUPM-mlKMB",
        "outputId": "f7856a85-6cee-4ed8-beca-44cde0bfd8fa"
      },
      "execution_count": null,
      "outputs": [
        {
          "output_type": "stream",
          "name": "stderr",
          "text": [
            "/usr/local/lib/python3.7/dist-packages/pandas/core/indexing.py:1732: SettingWithCopyWarning: \n",
            "A value is trying to be set on a copy of a slice from a DataFrame\n",
            "\n",
            "See the caveats in the documentation: https://pandas.pydata.org/pandas-docs/stable/user_guide/indexing.html#returning-a-view-versus-a-copy\n",
            "  self._setitem_single_block(indexer, value, name)\n"
          ]
        },
        {
          "output_type": "execute_result",
          "data": {
            "text/plain": [
              "             Spot  Front  Second  Expiry\n",
              "Date                                    \n",
              "2017-12-19  57.46  57.46   57.56       1\n",
              "2017-11-20  56.09  56.09   56.42       1\n",
              "2017-10-20  51.47  51.47   51.84       1\n",
              "2017-09-20  50.41  50.41   50.69       1\n",
              "2017-08-22  47.64  47.64   47.83       1\n",
              "...           ...    ...     ...     ...\n",
              "2010-05-20  68.01  68.01   70.80       1\n",
              "2010-04-20  83.45  83.45   83.85       1\n",
              "2010-03-22  81.25  81.25   81.60       1\n",
              "2010-02-22  80.16  80.16   80.31       1\n",
              "2010-01-20  77.62  77.62   77.74       1\n",
              "\n",
              "[96 rows x 4 columns]"
            ],
            "text/html": [
              "\n",
              "  <div id=\"df-36fb1952-29c2-4213-ac06-34addda7fb3f\">\n",
              "    <div class=\"colab-df-container\">\n",
              "      <div>\n",
              "<style scoped>\n",
              "    .dataframe tbody tr th:only-of-type {\n",
              "        vertical-align: middle;\n",
              "    }\n",
              "\n",
              "    .dataframe tbody tr th {\n",
              "        vertical-align: top;\n",
              "    }\n",
              "\n",
              "    .dataframe thead th {\n",
              "        text-align: right;\n",
              "    }\n",
              "</style>\n",
              "<table border=\"1\" class=\"dataframe\">\n",
              "  <thead>\n",
              "    <tr style=\"text-align: right;\">\n",
              "      <th></th>\n",
              "      <th>Spot</th>\n",
              "      <th>Front</th>\n",
              "      <th>Second</th>\n",
              "      <th>Expiry</th>\n",
              "    </tr>\n",
              "    <tr>\n",
              "      <th>Date</th>\n",
              "      <th></th>\n",
              "      <th></th>\n",
              "      <th></th>\n",
              "      <th></th>\n",
              "    </tr>\n",
              "  </thead>\n",
              "  <tbody>\n",
              "    <tr>\n",
              "      <th>2017-12-19</th>\n",
              "      <td>57.46</td>\n",
              "      <td>57.46</td>\n",
              "      <td>57.56</td>\n",
              "      <td>1</td>\n",
              "    </tr>\n",
              "    <tr>\n",
              "      <th>2017-11-20</th>\n",
              "      <td>56.09</td>\n",
              "      <td>56.09</td>\n",
              "      <td>56.42</td>\n",
              "      <td>1</td>\n",
              "    </tr>\n",
              "    <tr>\n",
              "      <th>2017-10-20</th>\n",
              "      <td>51.47</td>\n",
              "      <td>51.47</td>\n",
              "      <td>51.84</td>\n",
              "      <td>1</td>\n",
              "    </tr>\n",
              "    <tr>\n",
              "      <th>2017-09-20</th>\n",
              "      <td>50.41</td>\n",
              "      <td>50.41</td>\n",
              "      <td>50.69</td>\n",
              "      <td>1</td>\n",
              "    </tr>\n",
              "    <tr>\n",
              "      <th>2017-08-22</th>\n",
              "      <td>47.64</td>\n",
              "      <td>47.64</td>\n",
              "      <td>47.83</td>\n",
              "      <td>1</td>\n",
              "    </tr>\n",
              "    <tr>\n",
              "      <th>...</th>\n",
              "      <td>...</td>\n",
              "      <td>...</td>\n",
              "      <td>...</td>\n",
              "      <td>...</td>\n",
              "    </tr>\n",
              "    <tr>\n",
              "      <th>2010-05-20</th>\n",
              "      <td>68.01</td>\n",
              "      <td>68.01</td>\n",
              "      <td>70.80</td>\n",
              "      <td>1</td>\n",
              "    </tr>\n",
              "    <tr>\n",
              "      <th>2010-04-20</th>\n",
              "      <td>83.45</td>\n",
              "      <td>83.45</td>\n",
              "      <td>83.85</td>\n",
              "      <td>1</td>\n",
              "    </tr>\n",
              "    <tr>\n",
              "      <th>2010-03-22</th>\n",
              "      <td>81.25</td>\n",
              "      <td>81.25</td>\n",
              "      <td>81.60</td>\n",
              "      <td>1</td>\n",
              "    </tr>\n",
              "    <tr>\n",
              "      <th>2010-02-22</th>\n",
              "      <td>80.16</td>\n",
              "      <td>80.16</td>\n",
              "      <td>80.31</td>\n",
              "      <td>1</td>\n",
              "    </tr>\n",
              "    <tr>\n",
              "      <th>2010-01-20</th>\n",
              "      <td>77.62</td>\n",
              "      <td>77.62</td>\n",
              "      <td>77.74</td>\n",
              "      <td>1</td>\n",
              "    </tr>\n",
              "  </tbody>\n",
              "</table>\n",
              "<p>96 rows × 4 columns</p>\n",
              "</div>\n",
              "      <button class=\"colab-df-convert\" onclick=\"convertToInteractive('df-36fb1952-29c2-4213-ac06-34addda7fb3f')\"\n",
              "              title=\"Convert this dataframe to an interactive table.\"\n",
              "              style=\"display:none;\">\n",
              "        \n",
              "  <svg xmlns=\"http://www.w3.org/2000/svg\" height=\"24px\"viewBox=\"0 0 24 24\"\n",
              "       width=\"24px\">\n",
              "    <path d=\"M0 0h24v24H0V0z\" fill=\"none\"/>\n",
              "    <path d=\"M18.56 5.44l.94 2.06.94-2.06 2.06-.94-2.06-.94-.94-2.06-.94 2.06-2.06.94zm-11 1L8.5 8.5l.94-2.06 2.06-.94-2.06-.94L8.5 2.5l-.94 2.06-2.06.94zm10 10l.94 2.06.94-2.06 2.06-.94-2.06-.94-.94-2.06-.94 2.06-2.06.94z\"/><path d=\"M17.41 7.96l-1.37-1.37c-.4-.4-.92-.59-1.43-.59-.52 0-1.04.2-1.43.59L10.3 9.45l-7.72 7.72c-.78.78-.78 2.05 0 2.83L4 21.41c.39.39.9.59 1.41.59.51 0 1.02-.2 1.41-.59l7.78-7.78 2.81-2.81c.8-.78.8-2.07 0-2.86zM5.41 20L4 18.59l7.72-7.72 1.47 1.35L5.41 20z\"/>\n",
              "  </svg>\n",
              "      </button>\n",
              "      \n",
              "  <style>\n",
              "    .colab-df-container {\n",
              "      display:flex;\n",
              "      flex-wrap:wrap;\n",
              "      gap: 12px;\n",
              "    }\n",
              "\n",
              "    .colab-df-convert {\n",
              "      background-color: #E8F0FE;\n",
              "      border: none;\n",
              "      border-radius: 50%;\n",
              "      cursor: pointer;\n",
              "      display: none;\n",
              "      fill: #1967D2;\n",
              "      height: 32px;\n",
              "      padding: 0 0 0 0;\n",
              "      width: 32px;\n",
              "    }\n",
              "\n",
              "    .colab-df-convert:hover {\n",
              "      background-color: #E2EBFA;\n",
              "      box-shadow: 0px 1px 2px rgba(60, 64, 67, 0.3), 0px 1px 3px 1px rgba(60, 64, 67, 0.15);\n",
              "      fill: #174EA6;\n",
              "    }\n",
              "\n",
              "    [theme=dark] .colab-df-convert {\n",
              "      background-color: #3B4455;\n",
              "      fill: #D2E3FC;\n",
              "    }\n",
              "\n",
              "    [theme=dark] .colab-df-convert:hover {\n",
              "      background-color: #434B5C;\n",
              "      box-shadow: 0px 1px 3px 1px rgba(0, 0, 0, 0.15);\n",
              "      filter: drop-shadow(0px 1px 2px rgba(0, 0, 0, 0.3));\n",
              "      fill: #FFFFFF;\n",
              "    }\n",
              "  </style>\n",
              "\n",
              "      <script>\n",
              "        const buttonEl =\n",
              "          document.querySelector('#df-36fb1952-29c2-4213-ac06-34addda7fb3f button.colab-df-convert');\n",
              "        buttonEl.style.display =\n",
              "          google.colab.kernel.accessAllowed ? 'block' : 'none';\n",
              "\n",
              "        async function convertToInteractive(key) {\n",
              "          const element = document.querySelector('#df-36fb1952-29c2-4213-ac06-34addda7fb3f');\n",
              "          const dataTable =\n",
              "            await google.colab.kernel.invokeFunction('convertToInteractive',\n",
              "                                                     [key], {});\n",
              "          if (!dataTable) return;\n",
              "\n",
              "          const docLinkHtml = 'Like what you see? Visit the ' +\n",
              "            '<a target=\"_blank\" href=https://colab.research.google.com/notebooks/data_table.ipynb>data table notebook</a>'\n",
              "            + ' to learn more about interactive tables.';\n",
              "          element.innerHTML = '';\n",
              "          dataTable['output_type'] = 'display_data';\n",
              "          await google.colab.output.renderOutput(dataTable, element);\n",
              "          const docLink = document.createElement('div');\n",
              "          docLink.innerHTML = docLinkHtml;\n",
              "          element.appendChild(docLink);\n",
              "        }\n",
              "      </script>\n",
              "    </div>\n",
              "  </div>\n",
              "  "
            ]
          },
          "metadata": {},
          "execution_count": 104
        }
      ]
    },
    {
      "cell_type": "code",
      "source": [
        "df=df.sort_index(ascending=True)\n",
        "df.head()"
      ],
      "metadata": {
        "colab": {
          "base_uri": "https://localhost:8080/",
          "height": 238
        },
        "id": "9L-tM9-9lrD6",
        "outputId": "bebf0253-b117-4a2f-d469-dc44b97a6877"
      },
      "execution_count": null,
      "outputs": [
        {
          "output_type": "execute_result",
          "data": {
            "text/plain": [
              "             Spot  Front  Second  Expiry\n",
              "Date                                    \n",
              "2010-01-04  81.51  81.51   82.12       0\n",
              "2010-01-05  81.77  81.77   82.41       0\n",
              "2010-01-06  83.18  83.18   83.75       0\n",
              "2010-01-07  82.66  82.66   83.19       0\n",
              "2010-01-08  82.75  82.75   83.30       0"
            ],
            "text/html": [
              "\n",
              "  <div id=\"df-b747c080-4f7f-4ccc-bd17-88042f465287\">\n",
              "    <div class=\"colab-df-container\">\n",
              "      <div>\n",
              "<style scoped>\n",
              "    .dataframe tbody tr th:only-of-type {\n",
              "        vertical-align: middle;\n",
              "    }\n",
              "\n",
              "    .dataframe tbody tr th {\n",
              "        vertical-align: top;\n",
              "    }\n",
              "\n",
              "    .dataframe thead th {\n",
              "        text-align: right;\n",
              "    }\n",
              "</style>\n",
              "<table border=\"1\" class=\"dataframe\">\n",
              "  <thead>\n",
              "    <tr style=\"text-align: right;\">\n",
              "      <th></th>\n",
              "      <th>Spot</th>\n",
              "      <th>Front</th>\n",
              "      <th>Second</th>\n",
              "      <th>Expiry</th>\n",
              "    </tr>\n",
              "    <tr>\n",
              "      <th>Date</th>\n",
              "      <th></th>\n",
              "      <th></th>\n",
              "      <th></th>\n",
              "      <th></th>\n",
              "    </tr>\n",
              "  </thead>\n",
              "  <tbody>\n",
              "    <tr>\n",
              "      <th>2010-01-04</th>\n",
              "      <td>81.51</td>\n",
              "      <td>81.51</td>\n",
              "      <td>82.12</td>\n",
              "      <td>0</td>\n",
              "    </tr>\n",
              "    <tr>\n",
              "      <th>2010-01-05</th>\n",
              "      <td>81.77</td>\n",
              "      <td>81.77</td>\n",
              "      <td>82.41</td>\n",
              "      <td>0</td>\n",
              "    </tr>\n",
              "    <tr>\n",
              "      <th>2010-01-06</th>\n",
              "      <td>83.18</td>\n",
              "      <td>83.18</td>\n",
              "      <td>83.75</td>\n",
              "      <td>0</td>\n",
              "    </tr>\n",
              "    <tr>\n",
              "      <th>2010-01-07</th>\n",
              "      <td>82.66</td>\n",
              "      <td>82.66</td>\n",
              "      <td>83.19</td>\n",
              "      <td>0</td>\n",
              "    </tr>\n",
              "    <tr>\n",
              "      <th>2010-01-08</th>\n",
              "      <td>82.75</td>\n",
              "      <td>82.75</td>\n",
              "      <td>83.30</td>\n",
              "      <td>0</td>\n",
              "    </tr>\n",
              "  </tbody>\n",
              "</table>\n",
              "</div>\n",
              "      <button class=\"colab-df-convert\" onclick=\"convertToInteractive('df-b747c080-4f7f-4ccc-bd17-88042f465287')\"\n",
              "              title=\"Convert this dataframe to an interactive table.\"\n",
              "              style=\"display:none;\">\n",
              "        \n",
              "  <svg xmlns=\"http://www.w3.org/2000/svg\" height=\"24px\"viewBox=\"0 0 24 24\"\n",
              "       width=\"24px\">\n",
              "    <path d=\"M0 0h24v24H0V0z\" fill=\"none\"/>\n",
              "    <path d=\"M18.56 5.44l.94 2.06.94-2.06 2.06-.94-2.06-.94-.94-2.06-.94 2.06-2.06.94zm-11 1L8.5 8.5l.94-2.06 2.06-.94-2.06-.94L8.5 2.5l-.94 2.06-2.06.94zm10 10l.94 2.06.94-2.06 2.06-.94-2.06-.94-.94-2.06-.94 2.06-2.06.94z\"/><path d=\"M17.41 7.96l-1.37-1.37c-.4-.4-.92-.59-1.43-.59-.52 0-1.04.2-1.43.59L10.3 9.45l-7.72 7.72c-.78.78-.78 2.05 0 2.83L4 21.41c.39.39.9.59 1.41.59.51 0 1.02-.2 1.41-.59l7.78-7.78 2.81-2.81c.8-.78.8-2.07 0-2.86zM5.41 20L4 18.59l7.72-7.72 1.47 1.35L5.41 20z\"/>\n",
              "  </svg>\n",
              "      </button>\n",
              "      \n",
              "  <style>\n",
              "    .colab-df-container {\n",
              "      display:flex;\n",
              "      flex-wrap:wrap;\n",
              "      gap: 12px;\n",
              "    }\n",
              "\n",
              "    .colab-df-convert {\n",
              "      background-color: #E8F0FE;\n",
              "      border: none;\n",
              "      border-radius: 50%;\n",
              "      cursor: pointer;\n",
              "      display: none;\n",
              "      fill: #1967D2;\n",
              "      height: 32px;\n",
              "      padding: 0 0 0 0;\n",
              "      width: 32px;\n",
              "    }\n",
              "\n",
              "    .colab-df-convert:hover {\n",
              "      background-color: #E2EBFA;\n",
              "      box-shadow: 0px 1px 2px rgba(60, 64, 67, 0.3), 0px 1px 3px 1px rgba(60, 64, 67, 0.15);\n",
              "      fill: #174EA6;\n",
              "    }\n",
              "\n",
              "    [theme=dark] .colab-df-convert {\n",
              "      background-color: #3B4455;\n",
              "      fill: #D2E3FC;\n",
              "    }\n",
              "\n",
              "    [theme=dark] .colab-df-convert:hover {\n",
              "      background-color: #434B5C;\n",
              "      box-shadow: 0px 1px 3px 1px rgba(0, 0, 0, 0.15);\n",
              "      filter: drop-shadow(0px 1px 2px rgba(0, 0, 0, 0.3));\n",
              "      fill: #FFFFFF;\n",
              "    }\n",
              "  </style>\n",
              "\n",
              "      <script>\n",
              "        const buttonEl =\n",
              "          document.querySelector('#df-b747c080-4f7f-4ccc-bd17-88042f465287 button.colab-df-convert');\n",
              "        buttonEl.style.display =\n",
              "          google.colab.kernel.accessAllowed ? 'block' : 'none';\n",
              "\n",
              "        async function convertToInteractive(key) {\n",
              "          const element = document.querySelector('#df-b747c080-4f7f-4ccc-bd17-88042f465287');\n",
              "          const dataTable =\n",
              "            await google.colab.kernel.invokeFunction('convertToInteractive',\n",
              "                                                     [key], {});\n",
              "          if (!dataTable) return;\n",
              "\n",
              "          const docLinkHtml = 'Like what you see? Visit the ' +\n",
              "            '<a target=\"_blank\" href=https://colab.research.google.com/notebooks/data_table.ipynb>data table notebook</a>'\n",
              "            + ' to learn more about interactive tables.';\n",
              "          element.innerHTML = '';\n",
              "          dataTable['output_type'] = 'display_data';\n",
              "          await google.colab.output.renderOutput(dataTable, element);\n",
              "          const docLink = document.createElement('div');\n",
              "          docLink.innerHTML = docLinkHtml;\n",
              "          element.appendChild(docLink);\n",
              "        }\n",
              "      </script>\n",
              "    </div>\n",
              "  </div>\n",
              "  "
            ]
          },
          "metadata": {},
          "execution_count": 105
        }
      ]
    },
    {
      "cell_type": "markdown",
      "source": [
        "## 현물투자 vs 선물투자 수익률 비교"
      ],
      "metadata": {
        "id": "n_wcD7dhmvki"
      }
    },
    {
      "cell_type": "markdown",
      "source": [
        "## 현물에 7년간 투자했을 경우"
      ],
      "metadata": {
        "id": "gMjszKRjnGo4"
      }
    },
    {
      "cell_type": "code",
      "source": [
        "df.loc[df.index.max(),'Spot'] - df.loc[df.index.min(),'Spot']"
      ],
      "metadata": {
        "colab": {
          "base_uri": "https://localhost:8080/"
        },
        "id": "KYKlkVg4nJNr",
        "outputId": "b0548cdd-d90a-49e4-9efe-39593e54d109"
      },
      "execution_count": null,
      "outputs": [
        {
          "output_type": "execute_result",
          "data": {
            "text/plain": [
              "-21.67"
            ]
          },
          "metadata": {},
          "execution_count": 106
        }
      ]
    },
    {
      "cell_type": "markdown",
      "source": [
        "## 선물에 7년간 투자했을 경우 (롤오버)\n",
        "* 롤오버 : 만기시 차근월물로 교체"
      ],
      "metadata": {
        "id": "cEHYxqQInazX"
      }
    },
    {
      "cell_type": "code",
      "source": [
        "df['rollover'] = 0\n",
        "df.head()"
      ],
      "metadata": {
        "colab": {
          "base_uri": "https://localhost:8080/",
          "height": 238
        },
        "id": "Jnas2Jt4nfCB",
        "outputId": "ed240255-1e50-43c9-984f-c951f8cdd651"
      },
      "execution_count": null,
      "outputs": [
        {
          "output_type": "execute_result",
          "data": {
            "text/plain": [
              "             Spot  Front  Second  Expiry  rollover\n",
              "Date                                              \n",
              "2010-01-04  81.51  81.51   82.12       0         0\n",
              "2010-01-05  81.77  81.77   82.41       0         0\n",
              "2010-01-06  83.18  83.18   83.75       0         0\n",
              "2010-01-07  82.66  82.66   83.19       0         0\n",
              "2010-01-08  82.75  82.75   83.30       0         0"
            ],
            "text/html": [
              "\n",
              "  <div id=\"df-475a0c56-6518-4921-a1f8-12ad509a60a7\">\n",
              "    <div class=\"colab-df-container\">\n",
              "      <div>\n",
              "<style scoped>\n",
              "    .dataframe tbody tr th:only-of-type {\n",
              "        vertical-align: middle;\n",
              "    }\n",
              "\n",
              "    .dataframe tbody tr th {\n",
              "        vertical-align: top;\n",
              "    }\n",
              "\n",
              "    .dataframe thead th {\n",
              "        text-align: right;\n",
              "    }\n",
              "</style>\n",
              "<table border=\"1\" class=\"dataframe\">\n",
              "  <thead>\n",
              "    <tr style=\"text-align: right;\">\n",
              "      <th></th>\n",
              "      <th>Spot</th>\n",
              "      <th>Front</th>\n",
              "      <th>Second</th>\n",
              "      <th>Expiry</th>\n",
              "      <th>rollover</th>\n",
              "    </tr>\n",
              "    <tr>\n",
              "      <th>Date</th>\n",
              "      <th></th>\n",
              "      <th></th>\n",
              "      <th></th>\n",
              "      <th></th>\n",
              "      <th></th>\n",
              "    </tr>\n",
              "  </thead>\n",
              "  <tbody>\n",
              "    <tr>\n",
              "      <th>2010-01-04</th>\n",
              "      <td>81.51</td>\n",
              "      <td>81.51</td>\n",
              "      <td>82.12</td>\n",
              "      <td>0</td>\n",
              "      <td>0</td>\n",
              "    </tr>\n",
              "    <tr>\n",
              "      <th>2010-01-05</th>\n",
              "      <td>81.77</td>\n",
              "      <td>81.77</td>\n",
              "      <td>82.41</td>\n",
              "      <td>0</td>\n",
              "      <td>0</td>\n",
              "    </tr>\n",
              "    <tr>\n",
              "      <th>2010-01-06</th>\n",
              "      <td>83.18</td>\n",
              "      <td>83.18</td>\n",
              "      <td>83.75</td>\n",
              "      <td>0</td>\n",
              "      <td>0</td>\n",
              "    </tr>\n",
              "    <tr>\n",
              "      <th>2010-01-07</th>\n",
              "      <td>82.66</td>\n",
              "      <td>82.66</td>\n",
              "      <td>83.19</td>\n",
              "      <td>0</td>\n",
              "      <td>0</td>\n",
              "    </tr>\n",
              "    <tr>\n",
              "      <th>2010-01-08</th>\n",
              "      <td>82.75</td>\n",
              "      <td>82.75</td>\n",
              "      <td>83.30</td>\n",
              "      <td>0</td>\n",
              "      <td>0</td>\n",
              "    </tr>\n",
              "  </tbody>\n",
              "</table>\n",
              "</div>\n",
              "      <button class=\"colab-df-convert\" onclick=\"convertToInteractive('df-475a0c56-6518-4921-a1f8-12ad509a60a7')\"\n",
              "              title=\"Convert this dataframe to an interactive table.\"\n",
              "              style=\"display:none;\">\n",
              "        \n",
              "  <svg xmlns=\"http://www.w3.org/2000/svg\" height=\"24px\"viewBox=\"0 0 24 24\"\n",
              "       width=\"24px\">\n",
              "    <path d=\"M0 0h24v24H0V0z\" fill=\"none\"/>\n",
              "    <path d=\"M18.56 5.44l.94 2.06.94-2.06 2.06-.94-2.06-.94-.94-2.06-.94 2.06-2.06.94zm-11 1L8.5 8.5l.94-2.06 2.06-.94-2.06-.94L8.5 2.5l-.94 2.06-2.06.94zm10 10l.94 2.06.94-2.06 2.06-.94-2.06-.94-.94-2.06-.94 2.06-2.06.94z\"/><path d=\"M17.41 7.96l-1.37-1.37c-.4-.4-.92-.59-1.43-.59-.52 0-1.04.2-1.43.59L10.3 9.45l-7.72 7.72c-.78.78-.78 2.05 0 2.83L4 21.41c.39.39.9.59 1.41.59.51 0 1.02-.2 1.41-.59l7.78-7.78 2.81-2.81c.8-.78.8-2.07 0-2.86zM5.41 20L4 18.59l7.72-7.72 1.47 1.35L5.41 20z\"/>\n",
              "  </svg>\n",
              "      </button>\n",
              "      \n",
              "  <style>\n",
              "    .colab-df-container {\n",
              "      display:flex;\n",
              "      flex-wrap:wrap;\n",
              "      gap: 12px;\n",
              "    }\n",
              "\n",
              "    .colab-df-convert {\n",
              "      background-color: #E8F0FE;\n",
              "      border: none;\n",
              "      border-radius: 50%;\n",
              "      cursor: pointer;\n",
              "      display: none;\n",
              "      fill: #1967D2;\n",
              "      height: 32px;\n",
              "      padding: 0 0 0 0;\n",
              "      width: 32px;\n",
              "    }\n",
              "\n",
              "    .colab-df-convert:hover {\n",
              "      background-color: #E2EBFA;\n",
              "      box-shadow: 0px 1px 2px rgba(60, 64, 67, 0.3), 0px 1px 3px 1px rgba(60, 64, 67, 0.15);\n",
              "      fill: #174EA6;\n",
              "    }\n",
              "\n",
              "    [theme=dark] .colab-df-convert {\n",
              "      background-color: #3B4455;\n",
              "      fill: #D2E3FC;\n",
              "    }\n",
              "\n",
              "    [theme=dark] .colab-df-convert:hover {\n",
              "      background-color: #434B5C;\n",
              "      box-shadow: 0px 1px 3px 1px rgba(0, 0, 0, 0.15);\n",
              "      filter: drop-shadow(0px 1px 2px rgba(0, 0, 0, 0.3));\n",
              "      fill: #FFFFFF;\n",
              "    }\n",
              "  </style>\n",
              "\n",
              "      <script>\n",
              "        const buttonEl =\n",
              "          document.querySelector('#df-475a0c56-6518-4921-a1f8-12ad509a60a7 button.colab-df-convert');\n",
              "        buttonEl.style.display =\n",
              "          google.colab.kernel.accessAllowed ? 'block' : 'none';\n",
              "\n",
              "        async function convertToInteractive(key) {\n",
              "          const element = document.querySelector('#df-475a0c56-6518-4921-a1f8-12ad509a60a7');\n",
              "          const dataTable =\n",
              "            await google.colab.kernel.invokeFunction('convertToInteractive',\n",
              "                                                     [key], {});\n",
              "          if (!dataTable) return;\n",
              "\n",
              "          const docLinkHtml = 'Like what you see? Visit the ' +\n",
              "            '<a target=\"_blank\" href=https://colab.research.google.com/notebooks/data_table.ipynb>data table notebook</a>'\n",
              "            + ' to learn more about interactive tables.';\n",
              "          element.innerHTML = '';\n",
              "          dataTable['output_type'] = 'display_data';\n",
              "          await google.colab.output.renderOutput(dataTable, element);\n",
              "          const docLink = document.createElement('div');\n",
              "          docLink.innerHTML = docLinkHtml;\n",
              "          element.appendChild(docLink);\n",
              "        }\n",
              "      </script>\n",
              "    </div>\n",
              "  </div>\n",
              "  "
            ]
          },
          "metadata": {},
          "execution_count": 107
        }
      ]
    },
    {
      "cell_type": "code",
      "source": [
        "df['rollover']=df[df['Expiry']==1]['Second']-df[df['Expiry']==1]['Front'] #롤오버"
      ],
      "metadata": {
        "id": "dPd4XkH4iUH2"
      },
      "execution_count": null,
      "outputs": []
    },
    {
      "cell_type": "code",
      "source": [
        "df=df.fillna(0)"
      ],
      "metadata": {
        "id": "VANBgkKJtFa7"
      },
      "execution_count": null,
      "outputs": []
    },
    {
      "cell_type": "code",
      "source": [
        "df[df['Expiry']==1]"
      ],
      "metadata": {
        "colab": {
          "base_uri": "https://localhost:8080/",
          "height": 455
        },
        "id": "gJbfysp7oIXL",
        "outputId": "68beb47b-bd89-4561-a107-7af19c1a7281"
      },
      "execution_count": null,
      "outputs": [
        {
          "output_type": "execute_result",
          "data": {
            "text/plain": [
              "             Spot  Front  Second  Expiry  rollover\n",
              "Date                                              \n",
              "2010-01-20  77.62  77.62   77.74       1      0.12\n",
              "2010-02-22  80.16  80.16   80.31       1      0.15\n",
              "2010-03-22  81.25  81.25   81.60       1      0.35\n",
              "2010-04-20  83.45  83.45   83.85       1      0.40\n",
              "2010-05-20  68.01  68.01   70.80       1      2.79\n",
              "...           ...    ...     ...     ...       ...\n",
              "2017-08-22  47.64  47.64   47.83       1      0.19\n",
              "2017-09-20  50.41  50.41   50.69       1      0.28\n",
              "2017-10-20  51.47  51.47   51.84       1      0.37\n",
              "2017-11-20  56.09  56.09   56.42       1      0.33\n",
              "2017-12-19  57.46  57.46   57.56       1      0.10\n",
              "\n",
              "[96 rows x 5 columns]"
            ],
            "text/html": [
              "\n",
              "  <div id=\"df-a51432e7-d6b5-4a30-a33f-ce2e01cacd38\">\n",
              "    <div class=\"colab-df-container\">\n",
              "      <div>\n",
              "<style scoped>\n",
              "    .dataframe tbody tr th:only-of-type {\n",
              "        vertical-align: middle;\n",
              "    }\n",
              "\n",
              "    .dataframe tbody tr th {\n",
              "        vertical-align: top;\n",
              "    }\n",
              "\n",
              "    .dataframe thead th {\n",
              "        text-align: right;\n",
              "    }\n",
              "</style>\n",
              "<table border=\"1\" class=\"dataframe\">\n",
              "  <thead>\n",
              "    <tr style=\"text-align: right;\">\n",
              "      <th></th>\n",
              "      <th>Spot</th>\n",
              "      <th>Front</th>\n",
              "      <th>Second</th>\n",
              "      <th>Expiry</th>\n",
              "      <th>rollover</th>\n",
              "    </tr>\n",
              "    <tr>\n",
              "      <th>Date</th>\n",
              "      <th></th>\n",
              "      <th></th>\n",
              "      <th></th>\n",
              "      <th></th>\n",
              "      <th></th>\n",
              "    </tr>\n",
              "  </thead>\n",
              "  <tbody>\n",
              "    <tr>\n",
              "      <th>2010-01-20</th>\n",
              "      <td>77.62</td>\n",
              "      <td>77.62</td>\n",
              "      <td>77.74</td>\n",
              "      <td>1</td>\n",
              "      <td>0.12</td>\n",
              "    </tr>\n",
              "    <tr>\n",
              "      <th>2010-02-22</th>\n",
              "      <td>80.16</td>\n",
              "      <td>80.16</td>\n",
              "      <td>80.31</td>\n",
              "      <td>1</td>\n",
              "      <td>0.15</td>\n",
              "    </tr>\n",
              "    <tr>\n",
              "      <th>2010-03-22</th>\n",
              "      <td>81.25</td>\n",
              "      <td>81.25</td>\n",
              "      <td>81.60</td>\n",
              "      <td>1</td>\n",
              "      <td>0.35</td>\n",
              "    </tr>\n",
              "    <tr>\n",
              "      <th>2010-04-20</th>\n",
              "      <td>83.45</td>\n",
              "      <td>83.45</td>\n",
              "      <td>83.85</td>\n",
              "      <td>1</td>\n",
              "      <td>0.40</td>\n",
              "    </tr>\n",
              "    <tr>\n",
              "      <th>2010-05-20</th>\n",
              "      <td>68.01</td>\n",
              "      <td>68.01</td>\n",
              "      <td>70.80</td>\n",
              "      <td>1</td>\n",
              "      <td>2.79</td>\n",
              "    </tr>\n",
              "    <tr>\n",
              "      <th>...</th>\n",
              "      <td>...</td>\n",
              "      <td>...</td>\n",
              "      <td>...</td>\n",
              "      <td>...</td>\n",
              "      <td>...</td>\n",
              "    </tr>\n",
              "    <tr>\n",
              "      <th>2017-08-22</th>\n",
              "      <td>47.64</td>\n",
              "      <td>47.64</td>\n",
              "      <td>47.83</td>\n",
              "      <td>1</td>\n",
              "      <td>0.19</td>\n",
              "    </tr>\n",
              "    <tr>\n",
              "      <th>2017-09-20</th>\n",
              "      <td>50.41</td>\n",
              "      <td>50.41</td>\n",
              "      <td>50.69</td>\n",
              "      <td>1</td>\n",
              "      <td>0.28</td>\n",
              "    </tr>\n",
              "    <tr>\n",
              "      <th>2017-10-20</th>\n",
              "      <td>51.47</td>\n",
              "      <td>51.47</td>\n",
              "      <td>51.84</td>\n",
              "      <td>1</td>\n",
              "      <td>0.37</td>\n",
              "    </tr>\n",
              "    <tr>\n",
              "      <th>2017-11-20</th>\n",
              "      <td>56.09</td>\n",
              "      <td>56.09</td>\n",
              "      <td>56.42</td>\n",
              "      <td>1</td>\n",
              "      <td>0.33</td>\n",
              "    </tr>\n",
              "    <tr>\n",
              "      <th>2017-12-19</th>\n",
              "      <td>57.46</td>\n",
              "      <td>57.46</td>\n",
              "      <td>57.56</td>\n",
              "      <td>1</td>\n",
              "      <td>0.10</td>\n",
              "    </tr>\n",
              "  </tbody>\n",
              "</table>\n",
              "<p>96 rows × 5 columns</p>\n",
              "</div>\n",
              "      <button class=\"colab-df-convert\" onclick=\"convertToInteractive('df-a51432e7-d6b5-4a30-a33f-ce2e01cacd38')\"\n",
              "              title=\"Convert this dataframe to an interactive table.\"\n",
              "              style=\"display:none;\">\n",
              "        \n",
              "  <svg xmlns=\"http://www.w3.org/2000/svg\" height=\"24px\"viewBox=\"0 0 24 24\"\n",
              "       width=\"24px\">\n",
              "    <path d=\"M0 0h24v24H0V0z\" fill=\"none\"/>\n",
              "    <path d=\"M18.56 5.44l.94 2.06.94-2.06 2.06-.94-2.06-.94-.94-2.06-.94 2.06-2.06.94zm-11 1L8.5 8.5l.94-2.06 2.06-.94-2.06-.94L8.5 2.5l-.94 2.06-2.06.94zm10 10l.94 2.06.94-2.06 2.06-.94-2.06-.94-.94-2.06-.94 2.06-2.06.94z\"/><path d=\"M17.41 7.96l-1.37-1.37c-.4-.4-.92-.59-1.43-.59-.52 0-1.04.2-1.43.59L10.3 9.45l-7.72 7.72c-.78.78-.78 2.05 0 2.83L4 21.41c.39.39.9.59 1.41.59.51 0 1.02-.2 1.41-.59l7.78-7.78 2.81-2.81c.8-.78.8-2.07 0-2.86zM5.41 20L4 18.59l7.72-7.72 1.47 1.35L5.41 20z\"/>\n",
              "  </svg>\n",
              "      </button>\n",
              "      \n",
              "  <style>\n",
              "    .colab-df-container {\n",
              "      display:flex;\n",
              "      flex-wrap:wrap;\n",
              "      gap: 12px;\n",
              "    }\n",
              "\n",
              "    .colab-df-convert {\n",
              "      background-color: #E8F0FE;\n",
              "      border: none;\n",
              "      border-radius: 50%;\n",
              "      cursor: pointer;\n",
              "      display: none;\n",
              "      fill: #1967D2;\n",
              "      height: 32px;\n",
              "      padding: 0 0 0 0;\n",
              "      width: 32px;\n",
              "    }\n",
              "\n",
              "    .colab-df-convert:hover {\n",
              "      background-color: #E2EBFA;\n",
              "      box-shadow: 0px 1px 2px rgba(60, 64, 67, 0.3), 0px 1px 3px 1px rgba(60, 64, 67, 0.15);\n",
              "      fill: #174EA6;\n",
              "    }\n",
              "\n",
              "    [theme=dark] .colab-df-convert {\n",
              "      background-color: #3B4455;\n",
              "      fill: #D2E3FC;\n",
              "    }\n",
              "\n",
              "    [theme=dark] .colab-df-convert:hover {\n",
              "      background-color: #434B5C;\n",
              "      box-shadow: 0px 1px 3px 1px rgba(0, 0, 0, 0.15);\n",
              "      filter: drop-shadow(0px 1px 2px rgba(0, 0, 0, 0.3));\n",
              "      fill: #FFFFFF;\n",
              "    }\n",
              "  </style>\n",
              "\n",
              "      <script>\n",
              "        const buttonEl =\n",
              "          document.querySelector('#df-a51432e7-d6b5-4a30-a33f-ce2e01cacd38 button.colab-df-convert');\n",
              "        buttonEl.style.display =\n",
              "          google.colab.kernel.accessAllowed ? 'block' : 'none';\n",
              "\n",
              "        async function convertToInteractive(key) {\n",
              "          const element = document.querySelector('#df-a51432e7-d6b5-4a30-a33f-ce2e01cacd38');\n",
              "          const dataTable =\n",
              "            await google.colab.kernel.invokeFunction('convertToInteractive',\n",
              "                                                     [key], {});\n",
              "          if (!dataTable) return;\n",
              "\n",
              "          const docLinkHtml = 'Like what you see? Visit the ' +\n",
              "            '<a target=\"_blank\" href=https://colab.research.google.com/notebooks/data_table.ipynb>data table notebook</a>'\n",
              "            + ' to learn more about interactive tables.';\n",
              "          element.innerHTML = '';\n",
              "          dataTable['output_type'] = 'display_data';\n",
              "          await google.colab.output.renderOutput(dataTable, element);\n",
              "          const docLink = document.createElement('div');\n",
              "          docLink.innerHTML = docLinkHtml;\n",
              "          element.appendChild(docLink);\n",
              "        }\n",
              "      </script>\n",
              "    </div>\n",
              "  </div>\n",
              "  "
            ]
          },
          "metadata": {},
          "execution_count": 114
        }
      ]
    },
    {
      "cell_type": "code",
      "source": [
        "df.head()"
      ],
      "metadata": {
        "colab": {
          "base_uri": "https://localhost:8080/",
          "height": 238
        },
        "id": "_JHhz9q1okBD",
        "outputId": "521d6fc9-df2b-40f7-832e-57727536ebaa"
      },
      "execution_count": null,
      "outputs": [
        {
          "output_type": "execute_result",
          "data": {
            "text/plain": [
              "             Spot  Front  Second  Expiry  rollover\n",
              "Date                                              \n",
              "2010-01-04  81.51  81.51   82.12       0       NaN\n",
              "2010-01-05  81.77  81.77   82.41       0       NaN\n",
              "2010-01-06  83.18  83.18   83.75       0       NaN\n",
              "2010-01-07  82.66  82.66   83.19       0       NaN\n",
              "2010-01-08  82.75  82.75   83.30       0       NaN"
            ],
            "text/html": [
              "\n",
              "  <div id=\"df-a79934b2-45a9-4bdd-82a6-98edc43d11db\">\n",
              "    <div class=\"colab-df-container\">\n",
              "      <div>\n",
              "<style scoped>\n",
              "    .dataframe tbody tr th:only-of-type {\n",
              "        vertical-align: middle;\n",
              "    }\n",
              "\n",
              "    .dataframe tbody tr th {\n",
              "        vertical-align: top;\n",
              "    }\n",
              "\n",
              "    .dataframe thead th {\n",
              "        text-align: right;\n",
              "    }\n",
              "</style>\n",
              "<table border=\"1\" class=\"dataframe\">\n",
              "  <thead>\n",
              "    <tr style=\"text-align: right;\">\n",
              "      <th></th>\n",
              "      <th>Spot</th>\n",
              "      <th>Front</th>\n",
              "      <th>Second</th>\n",
              "      <th>Expiry</th>\n",
              "      <th>rollover</th>\n",
              "    </tr>\n",
              "    <tr>\n",
              "      <th>Date</th>\n",
              "      <th></th>\n",
              "      <th></th>\n",
              "      <th></th>\n",
              "      <th></th>\n",
              "      <th></th>\n",
              "    </tr>\n",
              "  </thead>\n",
              "  <tbody>\n",
              "    <tr>\n",
              "      <th>2010-01-04</th>\n",
              "      <td>81.51</td>\n",
              "      <td>81.51</td>\n",
              "      <td>82.12</td>\n",
              "      <td>0</td>\n",
              "      <td>NaN</td>\n",
              "    </tr>\n",
              "    <tr>\n",
              "      <th>2010-01-05</th>\n",
              "      <td>81.77</td>\n",
              "      <td>81.77</td>\n",
              "      <td>82.41</td>\n",
              "      <td>0</td>\n",
              "      <td>NaN</td>\n",
              "    </tr>\n",
              "    <tr>\n",
              "      <th>2010-01-06</th>\n",
              "      <td>83.18</td>\n",
              "      <td>83.18</td>\n",
              "      <td>83.75</td>\n",
              "      <td>0</td>\n",
              "      <td>NaN</td>\n",
              "    </tr>\n",
              "    <tr>\n",
              "      <th>2010-01-07</th>\n",
              "      <td>82.66</td>\n",
              "      <td>82.66</td>\n",
              "      <td>83.19</td>\n",
              "      <td>0</td>\n",
              "      <td>NaN</td>\n",
              "    </tr>\n",
              "    <tr>\n",
              "      <th>2010-01-08</th>\n",
              "      <td>82.75</td>\n",
              "      <td>82.75</td>\n",
              "      <td>83.30</td>\n",
              "      <td>0</td>\n",
              "      <td>NaN</td>\n",
              "    </tr>\n",
              "  </tbody>\n",
              "</table>\n",
              "</div>\n",
              "      <button class=\"colab-df-convert\" onclick=\"convertToInteractive('df-a79934b2-45a9-4bdd-82a6-98edc43d11db')\"\n",
              "              title=\"Convert this dataframe to an interactive table.\"\n",
              "              style=\"display:none;\">\n",
              "        \n",
              "  <svg xmlns=\"http://www.w3.org/2000/svg\" height=\"24px\"viewBox=\"0 0 24 24\"\n",
              "       width=\"24px\">\n",
              "    <path d=\"M0 0h24v24H0V0z\" fill=\"none\"/>\n",
              "    <path d=\"M18.56 5.44l.94 2.06.94-2.06 2.06-.94-2.06-.94-.94-2.06-.94 2.06-2.06.94zm-11 1L8.5 8.5l.94-2.06 2.06-.94-2.06-.94L8.5 2.5l-.94 2.06-2.06.94zm10 10l.94 2.06.94-2.06 2.06-.94-2.06-.94-.94-2.06-.94 2.06-2.06.94z\"/><path d=\"M17.41 7.96l-1.37-1.37c-.4-.4-.92-.59-1.43-.59-.52 0-1.04.2-1.43.59L10.3 9.45l-7.72 7.72c-.78.78-.78 2.05 0 2.83L4 21.41c.39.39.9.59 1.41.59.51 0 1.02-.2 1.41-.59l7.78-7.78 2.81-2.81c.8-.78.8-2.07 0-2.86zM5.41 20L4 18.59l7.72-7.72 1.47 1.35L5.41 20z\"/>\n",
              "  </svg>\n",
              "      </button>\n",
              "      \n",
              "  <style>\n",
              "    .colab-df-container {\n",
              "      display:flex;\n",
              "      flex-wrap:wrap;\n",
              "      gap: 12px;\n",
              "    }\n",
              "\n",
              "    .colab-df-convert {\n",
              "      background-color: #E8F0FE;\n",
              "      border: none;\n",
              "      border-radius: 50%;\n",
              "      cursor: pointer;\n",
              "      display: none;\n",
              "      fill: #1967D2;\n",
              "      height: 32px;\n",
              "      padding: 0 0 0 0;\n",
              "      width: 32px;\n",
              "    }\n",
              "\n",
              "    .colab-df-convert:hover {\n",
              "      background-color: #E2EBFA;\n",
              "      box-shadow: 0px 1px 2px rgba(60, 64, 67, 0.3), 0px 1px 3px 1px rgba(60, 64, 67, 0.15);\n",
              "      fill: #174EA6;\n",
              "    }\n",
              "\n",
              "    [theme=dark] .colab-df-convert {\n",
              "      background-color: #3B4455;\n",
              "      fill: #D2E3FC;\n",
              "    }\n",
              "\n",
              "    [theme=dark] .colab-df-convert:hover {\n",
              "      background-color: #434B5C;\n",
              "      box-shadow: 0px 1px 3px 1px rgba(0, 0, 0, 0.15);\n",
              "      filter: drop-shadow(0px 1px 2px rgba(0, 0, 0, 0.3));\n",
              "      fill: #FFFFFF;\n",
              "    }\n",
              "  </style>\n",
              "\n",
              "      <script>\n",
              "        const buttonEl =\n",
              "          document.querySelector('#df-a79934b2-45a9-4bdd-82a6-98edc43d11db button.colab-df-convert');\n",
              "        buttonEl.style.display =\n",
              "          google.colab.kernel.accessAllowed ? 'block' : 'none';\n",
              "\n",
              "        async function convertToInteractive(key) {\n",
              "          const element = document.querySelector('#df-a79934b2-45a9-4bdd-82a6-98edc43d11db');\n",
              "          const dataTable =\n",
              "            await google.colab.kernel.invokeFunction('convertToInteractive',\n",
              "                                                     [key], {});\n",
              "          if (!dataTable) return;\n",
              "\n",
              "          const docLinkHtml = 'Like what you see? Visit the ' +\n",
              "            '<a target=\"_blank\" href=https://colab.research.google.com/notebooks/data_table.ipynb>data table notebook</a>'\n",
              "            + ' to learn more about interactive tables.';\n",
              "          element.innerHTML = '';\n",
              "          dataTable['output_type'] = 'display_data';\n",
              "          await google.colab.output.renderOutput(dataTable, element);\n",
              "          const docLink = document.createElement('div');\n",
              "          docLink.innerHTML = docLinkHtml;\n",
              "          element.appendChild(docLink);\n",
              "        }\n",
              "      </script>\n",
              "    </div>\n",
              "  </div>\n",
              "  "
            ]
          },
          "metadata": {},
          "execution_count": 116
        }
      ]
    },
    {
      "cell_type": "markdown",
      "source": [
        "## 선물 손익 = 현재가 - 최초가 - 롤오버비용"
      ],
      "metadata": {
        "id": "o3fO9FwgsmF7"
      }
    },
    {
      "cell_type": "code",
      "source": [
        "total_rollover = df['rollover'].cumsum()[-1]\n",
        "total_rollover"
      ],
      "metadata": {
        "colab": {
          "base_uri": "https://localhost:8080/"
        },
        "id": "IPaHAYjBsue-",
        "outputId": "3e4ad15b-b01b-49cf-e7ff-d597f4324508"
      },
      "execution_count": null,
      "outputs": [
        {
          "output_type": "execute_result",
          "data": {
            "text/plain": [
              "40.680000000000035"
            ]
          },
          "metadata": {},
          "execution_count": 119
        }
      ]
    },
    {
      "cell_type": "code",
      "source": [
        "df.loc[df.index.max(),'Spot'] - df.loc[df.index.min(),'Spot'] - total_rollover"
      ],
      "metadata": {
        "colab": {
          "base_uri": "https://localhost:8080/"
        },
        "id": "l791Jc7btIio",
        "outputId": "2ddc8967-540e-4751-f179-7f88eaec0e1f"
      },
      "execution_count": null,
      "outputs": [
        {
          "output_type": "execute_result",
          "data": {
            "text/plain": [
              "-62.35000000000004"
            ]
          },
          "metadata": {},
          "execution_count": 120
        }
      ]
    },
    {
      "cell_type": "code",
      "execution_count": null,
      "metadata": {
        "id": "Xbp_E2az9kbt"
      },
      "outputs": [],
      "source": [
        "<img  width=\"700\" height=\"400\" src=\"url\">"
      ]
    }
  ]
}