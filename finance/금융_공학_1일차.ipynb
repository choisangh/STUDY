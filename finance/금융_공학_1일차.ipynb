{
  "nbformat": 4,
  "nbformat_minor": 0,
  "metadata": {
    "colab": {
      "name": "금융 공학 1일차.ipynb",
      "provenance": [],
      "collapsed_sections": [],
      "authorship_tag": "ABX9TyPmhYYH9JAHACvgs2a0qk9X",
      "include_colab_link": true
    },
    "kernelspec": {
      "name": "python3",
      "display_name": "Python 3"
    },
    "language_info": {
      "name": "python"
    }
  },
  "cells": [
    {
      "cell_type": "markdown",
      "metadata": {
        "id": "view-in-github",
        "colab_type": "text"
      },
      "source": [
        "<a href=\"https://colab.research.google.com/github/choisangh/fhqhxm114/blob/main/finance/%EA%B8%88%EC%9C%B5_%EA%B3%B5%ED%95%99_1%EC%9D%BC%EC%B0%A8.ipynb\" target=\"_parent\"><img src=\"https://colab.research.google.com/assets/colab-badge.svg\" alt=\"Open In Colab\"/></a>"
      ]
    },
    {
      "cell_type": "markdown",
      "source": [
        "# 금융공학 커리큘럼\n",
        "\n",
        "1. 금리\n",
        "\n",
        "*   (기준) 금리, 통화 --> 한국은행, 시중은행?\n",
        "*   환율 금리 - 외환 보유? 수출입/원자재 가격 -- 금융시장에 어떤 영향을 주는지\n",
        "<br><br>\n",
        "2. 경제지표 -CDI, ...\n",
        "* 개괄적인 설명\n",
        "<br><br>\n",
        "3. 유가증권 - 주식, 펀드, 채권, 파생상품\n",
        "* 증권 개념\n",
        "* 통계/기술지표, 재무지표\n",
        "* 데이터 분석시 파생변수 도메인 지식\n",
        "<br><br>\n",
        "4. 세미프로젝트\n",
        "* Trader + RA + 퀀트 --> 모의수익률 (Back testing)\n",
        "* 포트폴리오 리밸런싱 전략 (수익과 위험률) - 리스크 관리\n",
        "<br><br>\n",
        "\n",
        "\n",
        "\n",
        "\n",
        "\n",
        "\n",
        "\n",
        "\n"
      ],
      "metadata": {
        "id": "JVHGn0syahAd"
      }
    },
    {
      "cell_type": "markdown",
      "source": [
        "<img  width=\"700\" height=\"400\" src=\"https://blog.kakaocdn.net/dn/uNCgb/btrwaf8ifsO/kG5LJFrf74aRPliwJcP150/img.png\">"
      ],
      "metadata": {
        "id": "mI7LMHGYnjQO"
      }
    },
    {
      "cell_type": "markdown",
      "source": [
        "# 통화(유통화폐)\n",
        "* 통화는 유통화폐의 준말 -> 돈 [ex.지폐, 동전]\n",
        "* 일반적인 유통수단\n",
        "* 금융 : 자금의 수요 공급에 관계되는 활동\n",
        "* 가격 : 서비스/재화 구매 시 지불해야 하는 화폐의 양\n",
        "\n",
        "# 금리 & 환율\n",
        "* 물물교환 : 재화 <-> 재화 교환\n",
        "* 매매 : 돈 <-> 재화나 용역(서비스) 교환\n",
        "* 환전 : 돈 <-> 교환 즉 매매\n",
        "* 환율 : 서로 다른 통화의 교환 비율\n",
        "* 금리(이자율)는 원금에 대한 이자의 비율\n",
        "* 한국은행 기준금리에 따라 시중은행의 금리 조정 (+예대마진)"
      ],
      "metadata": {
        "id": "AhZNrGQKnYVt"
      }
    },
    {
      "cell_type": "markdown",
      "source": [
        "# 기준금리\n",
        "* 1년에 8번 바뀜 (22.03.14 기준 1.25%)\n",
        "* 우리나라에서 가장 큰 시장은 증권이 아닌 채권시장 -> 금리의 영향력\n",
        "* 금리가 오르면 증권시장에 어떤 영향을 끼치는지\n",
        "\n"
      ],
      "metadata": {
        "id": "qoJe7NjQe_89"
      }
    },
    {
      "cell_type": "markdown",
      "source": [
        "<img  width=\"700\" height=\"400\" src=\"https://blog.kakaocdn.net/dn/cfZhKG/btrwafUIFOG/AeUkaiA5fEnS1f8WX3SFRk/img.png\"><img  width=\"700\" height=\"400\"  src=\"https://blog.kakaocdn.net/dn/eu8zeV/btrwb5DP5Ej/1KFtVSeOTUpPGJuNJ1HpZ0/img.png\">"
      ],
      "metadata": {
        "id": "9kDBUVR1oAh9"
      }
    },
    {
      "cell_type": "markdown",
      "source": [
        "# 한국은행\n",
        "\n",
        "1. 주소: https://bok.or.kr\n",
        "<br><br>\n",
        "2. 통계 데이터 : https://ecos.bok.or.kr\n",
        "* ecos를 통해 금리/지급결제/증권/물가/환율/국제수지/재무성과 데이터를 확인할 수 있음\n",
        "* 100대 통계지표 확인가능\n",
        "* ecos 통계검색 -> 복수통계검색을 통해 여러 지표 확인 가능 -> 차트화 및 기간설정 가능\n",
        "* ecos 통계검색 -> 통계용어사전을 통해 용어 검색 및 개념 확인\n",
        "* 통계연구/간행물 -> 통계연구자료를 통해 금융 분석 논문 확인\n",
        "\n",
        "3. 금융 연구/보고서 참고 주소 : https://www.kcmi.re.kr/\n",
        "4. 금융 상품 및 이자/금리/신용 : https://portal.kfb.or.kr/compare/loan_household_new.php\n",
        "\n"
      ],
      "metadata": {
        "id": "AmmS8xZdddmF"
      }
    },
    {
      "cell_type": "markdown",
      "source": [
        "<img  width=\"700\" height=\"400\" src=\"https://blog.kakaocdn.net/dn/dYvCuE/btrwdkngS5i/yUE5LPKzYVlNRfQtkXtJwk/img.png\" /><br>\n",
        "* 한국은행의 목표는 '물가안정'"
      ],
      "metadata": {
        "id": "9AtK4-SArQSt"
      }
    },
    {
      "cell_type": "markdown",
      "source": [
        "\n",
        "<img  width=\"700\" height=\"400\" src=\"https://blog.kakaocdn.net/dn/cF3gPD/btrwdknhm42/NFqkeNqbMZlRvReIgbIK8K/img.png\" /><br>"
      ],
      "metadata": {
        "id": "kOE5T4hfsK5u"
      }
    },
    {
      "cell_type": "markdown",
      "source": [
        "<img  width=\"700\" height=\"400\" src=\"https://blog.kakaocdn.net/dn/bMwtTB/btrwgpVuEBt/cKHk1kbK4eAfctxqwPGBe1/img.png\" /><br>\n",
        "# 통화 정책\n",
        "* 물가안정목표제 (목표: 물가 2%)\n",
        "* 한국은행 기준금리(2022.03기준 1.25%)\n",
        "\n",
        "# 통화 정책 수단\n",
        "* 공개시장운영\n",
        "* 여/수신제도\n",
        "* 지급준비제도\n",
        "\n",
        "# 통화 정책 방향\n",
        "* 통화 정책 결정에 따라 금융시장 변동\n",
        "\n",
        "# 통화정책 목표\n",
        "* 물가안정 & 금융안정"
      ],
      "metadata": {
        "id": "8K_Nuhxcs2Km"
      }
    },
    {
      "cell_type": "markdown",
      "source": [
        "<img  width=\"700\" height=\"400\" src=\"https://blog.kakaocdn.net/dn/2lOvz/btrwgkti0Lz/qpeOV7tU3jtnw0ANJvnhAk/img.png\" /><br>"
      ],
      "metadata": {
        "id": "bDdCcyOruFZm"
      }
    },
    {
      "cell_type": "markdown",
      "source": [
        "<img  width=\"700\" height=\"400\" src=\"https://blog.kakaocdn.net/dn/ciBQLp/btrwagzmIEH/csvCvxBySqtxz0m5dko3X0/img.png\" /><br>\n"
      ],
      "metadata": {
        "id": "joENatYiuXPv"
      }
    },
    {
      "cell_type": "markdown",
      "source": [
        "<img  width=\"700\" height=\"400\" src=\"https://blog.kakaocdn.net/dn/eJiw84/btrwaFFPe3o/OfOBUx4XfkRvxKAXomNEQ1/img.png\" /><br>"
      ],
      "metadata": {
        "id": "_PDFUAcLvtuf"
      }
    },
    {
      "cell_type": "markdown",
      "source": [
        "<img  width=\"700\" height=\"400\" src=\"https://blog.kakaocdn.net/dn/83Lvs/btrwaEfObhL/hY2kkKhHX8kDROLnXoVb1K/img.png\" /><br>"
      ],
      "metadata": {
        "id": "TBHG9JUPwImh"
      }
    },
    {
      "cell_type": "markdown",
      "source": [
        "<img  width=\"700\" height=\"400\" src=\"https://blog.kakaocdn.net/dn/dys7SJ/btrwb4RUtRj/LrU85UcNynIg1aU6SvlHQ1/img.png\" /><br>\n",
        "\n",
        "* 기준금리를 올려야 물가가 잡힘\n",
        "* 금리를 오르면 경제활동 위축 -> 물가 하락\n"
      ],
      "metadata": {
        "id": "w4QhvGYXxNlY"
      }
    },
    {
      "cell_type": "markdown",
      "source": [
        "<img  width=\"700\" height=\"400\" src=\"https://blog.kakaocdn.net/dn/98Yff/btrwaD2dCcR/wwFkWgiq1jEOLuYwfjGF41/img.png\" /><br>\n"
      ],
      "metadata": {
        "id": "rmBzE4AG0DzX"
      }
    },
    {
      "cell_type": "markdown",
      "source": [
        "<img  width=\"700\" height=\"400\" src=\"https://blog.kakaocdn.net/dn/GSPuD/btrwb547S8U/RsL8Qpi6Z5Ab5U4HKkIsJ1/img.png\" /><br>\n",
        "* 기준금리 = 은행간의 거래 금리 (한국은행-시중은행)\n",
        "* 콜금리 = 시중은행끼리 급전을 빌릴 때 금리\n",
        "* 명목금리 = 시중은행 금리 <1년만기정기예금금리>\n",
        "* 실질금리 = 명목금리 - 물가상승률 (미래 물가 상승률이 반영된 금리)\n",
        "* 환매조건부채권의 금리(RP 금리) = 정부가 일정 기간 후에 다시 사는 조건의 채권 금리\n",
        "* 그래프를 확인했을 때 코로나 이후 급격한 저금리 조정이 있었음 -> 내수경제 활성화 목적 ( 경제 활성화가 물가 잡는거 보다 우선순위 )\n",
        "* 하지만 물가가 급격하게 올라가진 않음 -> 내수경제위축과 상쇄됨"
      ],
      "metadata": {
        "id": "zWqwiTZE4WZw"
      }
    },
    {
      "cell_type": "markdown",
      "source": [
        "<img  width=\"700\" height=\"400\" src=\"https://blog.kakaocdn.net/dn/ccw8tH/btrwbqhiPtF/t66R0RmdpPZNYZk9VXJcZ0/img.png\" /><br>\n"
      ],
      "metadata": {
        "id": "sC8A9XI78r7o"
      }
    },
    {
      "cell_type": "markdown",
      "source": [
        "<img  width=\"700\" height=\"400\" src=\"https://blog.kakaocdn.net/dn/cpGNGl/btrwgjBh5Ss/JwsDUUCtv0xwnO8atIVji0/img.png\" /><br>"
      ],
      "metadata": {
        "id": "bFirSpUZ87dQ"
      }
    },
    {
      "cell_type": "markdown",
      "source": [
        "<img  width=\"700\" height=\"400\" src=\"https://blog.kakaocdn.net/dn/2JpdG/btrwaD2haKw/buM1fekOAEY5hT10UMt5S0/img.png\" /><br>"
      ],
      "metadata": {
        "id": "8N1UMNDU88SI"
      }
    },
    {
      "cell_type": "markdown",
      "source": [
        "<img  width=\"700\" height=\"400\" src=\"https://blog.kakaocdn.net/dn/WStgZ/btrwhcn8Zzb/DN5szRg6k4w9cmBk62ncMK/img.png\" /><br>"
      ],
      "metadata": {
        "id": "zy7rJ9Xw9ge5"
      }
    },
    {
      "cell_type": "markdown",
      "source": [
        "<img  width=\"700\" height=\"400\" src=\"https://blog.kakaocdn.net/dn/ohUnQ/btrwbqIpnDc/ga0j7dLdSolCTzbaJA8idK/img.png\" /><br>"
      ],
      "metadata": {
        "id": "nAibZQFD-Dto"
      }
    },
    {
      "cell_type": "markdown",
      "source": [
        "<img  width=\"700\" height=\"400\" src=\"https://blog.kakaocdn.net/dn/bbwrdD/btrwdkHQZB3/3wiZqe66KxbHnzn5mXSZAK/img.png\" /><br>\n",
        "\n",
        "* 금융채 : 시중은행이 발행한 채권\n",
        "* 적금 : 매달 일정금액을 일정기간 납부하여 만기에 납입원금과 이자금액을 합하여 돌려받는 상품\n",
        "* 부금 : 적금의 특성에 더하여 예금자, 은행이 상호 의무를 지는 상품으로 예금자는 일정기간 납입을 해야 하는 의무를, 은행은 예금자가 일정조건이 되어 대출을 요구할 때 응해야 하는 의무를 지는 상품\n",
        "* 환매조건부채권 : 금융기관이 일정 기간 후 확정금리를 보태어 되사는 조건으로 발행하는 채권\n",
        "* 채권 : 자금 조달을 위해 발행하는 차용증서\n",
        "* 어음 : 발행하는 사람이 일정한 금전의 지급을 약속하거나 또는 제3자에게 그 지급을 위탁하는 유가증권"
      ],
      "metadata": {
        "id": "XeF3Bl9KDF3k"
      }
    },
    {
      "cell_type": "markdown",
      "source": [
        "<img  width=\"700\" height=\"400\" src=\"https://blog.kakaocdn.net/dn/7shU7/btrwbqPe2id/vIsu2lITkxoMVXuO1kLUK1/img.png\" /><br>"
      ],
      "metadata": {
        "id": "PW-ieg1cIG8L"
      }
    },
    {
      "cell_type": "markdown",
      "source": [
        "<img  width=\"700\" height=\"400\" src=\"https://blog.kakaocdn.net/dn/GPmEj/btrwb7onv4a/9w3zbVa8nFKsZxyr9Jme11/img.png\" /><br>\n",
        "\n",
        "* 시중은행 금리가 높으면 KORIBOR 영향이 있을 수도 (다른곳에서 돈빌려서 대출해줌)"
      ],
      "metadata": {
        "id": "6Y8dsa1zJEax"
      }
    },
    {
      "cell_type": "code",
      "source": [
        "<img  width=\"700\" height=\"400\" src=\"url\" /><br>\n",
        "<img  width=\"700\" height=\"400\" src=\"url\" /><br>"
      ],
      "metadata": {
        "id": "JVpADEQ4s0Mn"
      },
      "execution_count": null,
      "outputs": []
    }
  ]
}