{
  "nbformat": 4,
  "nbformat_minor": 0,
  "metadata": {
    "colab": {
      "name": "금융 공학 8일차.ipynb",
      "provenance": [],
      "collapsed_sections": [],
      "toc_visible": true,
      "authorship_tag": "ABX9TyOt82eK+zRhkZrN0sH9F9ux",
      "include_colab_link": true
    },
    "kernelspec": {
      "name": "python3",
      "display_name": "Python 3"
    },
    "language_info": {
      "name": "python"
    }
  },
  "cells": [
    {
      "cell_type": "markdown",
      "metadata": {
        "id": "view-in-github",
        "colab_type": "text"
      },
      "source": [
        "<a href=\"https://colab.research.google.com/github/choisangh/STUDY/blob/main/finance/%EA%B8%88%EC%9C%B5_%EA%B3%B5%ED%95%99_8%EC%9D%BC%EC%B0%A8.ipynb\" target=\"_parent\"><img src=\"https://colab.research.google.com/assets/colab-badge.svg\" alt=\"Open In Colab\"/></a>"
      ]
    },
    {
      "cell_type": "markdown",
      "source": [
        "# 파생상품-옵션(Option)"
      ],
      "metadata": {
        "id": "bnGe4AWSiwmo"
      }
    },
    {
      "cell_type": "markdown",
      "source": [
        "<img  width=\"700\" height=\"\" src=\"https://blog.kakaocdn.net/dn/WHQxQ/btrxHYJgMr0/85KSPVJX0DuKAid9iXnKQk/img.png\">"
      ],
      "metadata": {
        "id": "qx_yurN-KpyK"
      }
    },
    {
      "cell_type": "markdown",
      "source": [
        "<img  width=\"700\" height=\"400\" src=\"https://blog.kakaocdn.net/dn/Fpt7k/btrxEDzJ9zE/JWrJBkuPV02NC4u0jbSFu1/img.png\">"
      ],
      "metadata": {
        "id": "lrW0_XnnQOwE"
      }
    },
    {
      "cell_type": "markdown",
      "source": [
        "* 처음 옵션 거래를 할 때 매수/매도 선택\n",
        "* 만기가 되었을 경우 풋/콜 선택\n",
        "* 매수(콜,풋), 매도(콜,풋) 4가지 경우가 생김"
      ],
      "metadata": {
        "id": "A5oZ3fUvQRxL"
      }
    },
    {
      "cell_type": "markdown",
      "source": [
        "<img  width=\"700\" height=\"400\" src=\"https://blog.kakaocdn.net/dn/7Q4yo/btrxILjewlK/K5kIiIu2LmJoXs0maKLsz1/img.png\">"
      ],
      "metadata": {
        "id": "DhoZfHmdVly3"
      }
    },
    {
      "cell_type": "markdown",
      "source": [
        "* 행사가격 : 만기일에 이 가격에 사거나(콜), 팔(풋) 수 있음"
      ],
      "metadata": {
        "id": "KOglrGSbVocP"
      }
    },
    {
      "cell_type": "markdown",
      "source": [
        "<img  width=\"700\" height=\"400\" src=\"https://blog.kakaocdn.net/dn/x5aqS/btrxzh3ZgoE/nV0jLuxlSBDOjK52B1KRx1/img.png\">"
      ],
      "metadata": {
        "id": "ZlbxLuIZWLoN"
      }
    },
    {
      "cell_type": "markdown",
      "source": [
        "* 옵션가가 변경되는 요인들 :\n",
        "    - 기초자산 현재가, 행사가격, 만기까지 잔존기간, 기초자산의 가격변동성\n",
        "* 옵션가를 정하는 가장 중요한 요인 :\n",
        "    - 기초자산의 가격변동성"
      ],
      "metadata": {
        "id": "YcKaIECHWNGO"
      }
    },
    {
      "cell_type": "markdown",
      "source": [
        "<img  width=\"700\" height=\"400\" src=\"https://blog.kakaocdn.net/dn/Gifuh/btrxKhhS8dz/12b30xk0oodkDgomhbN4k0/img.png\">"
      ],
      "metadata": {
        "id": "vTJpBT_VXjN_"
      }
    },
    {
      "cell_type": "markdown",
      "source": [
        "<img  width=\"700\" height=\"400\" src=\"https://blog.kakaocdn.net/dn/xn4DF/btrxvNa8jZh/IZyHEBhQlT9W7BnyjcPsWK/img.png\">"
      ],
      "metadata": {
        "id": "U_zXQLrqaewD"
      }
    },
    {
      "cell_type": "markdown",
      "source": [
        "* 오타 : 콜옵션 프리미엄 -> 풋옵션 프리미엄"
      ],
      "metadata": {
        "id": "egvwnyu_amPS"
      }
    },
    {
      "cell_type": "markdown",
      "source": [
        "<img  width=\"700\" height=\"400\" src=\"https://blog.kakaocdn.net/dn/b868Bi/btrxEDGAkAo/kdb9OlBX6i7fDzfwV0Ubf0/img.png\">"
      ],
      "metadata": {
        "id": "PYVPCxc9b8VH"
      }
    },
    {
      "cell_type": "markdown",
      "source": [
        "<img  width=\"700\" height=\"400\" src=\"https://blog.kakaocdn.net/dn/bLCjpU/btrxILcv4m0/HC4DiJ8CmniCF46i6CAA90/img.png\">"
      ],
      "metadata": {
        "id": "kf0QImVVciYw"
      }
    },
    {
      "cell_type": "markdown",
      "source": [
        "<img  width=\"700\" height=\"\" src=\"https://blog.kakaocdn.net/dn/5mEBH/btrxGdt5ZlA/KbiaHKxgutKMOkvnTBEIck/img.png\">"
      ],
      "metadata": {
        "id": "bVIOKh__fq2M"
      }
    },
    {
      "cell_type": "markdown",
      "source": [
        "* 옵션가격 결정에서는 변동성이 가장 중요한 변수"
      ],
      "metadata": {
        "id": "0uVxioOui1SL"
      }
    },
    {
      "cell_type": "markdown",
      "source": [
        "<img  width=\"700\" src=\"https://blog.kakaocdn.net/dn/k3gFP/btrxQ4B4HPA/Nu1vx3S2jWohNtJUXVK2Ck/img.png\"> "
      ],
      "metadata": {
        "id": "CYntz1gajYaD"
      }
    },
    {
      "cell_type": "markdown",
      "source": [
        "* 델타 : 블랙숄즈 모형에 대해 기초자산(S)의 편미분(∂) -> 기초자산대비 옵션가의 변동성 = N[d1]\n",
        "* 감마 : 델타에 대해 기초자산(S)의 편미분(∂) -> 자산가치 대비 델타의 변동성\n",
        "* 세타 : 블랙숄즈 모형에 대해 잔존기간(T)의 편미분(∂) -> 시간 대비 옵션가의 변동성\n",
        "* 베가 : 블랙숄즈 모형에 대해 기초자산변동성(표준편차:δ)의 편미분(∂) -> 기초자산변동성 대비 옵션가의 변동성\n",
        "* 로우 : 블랙숄즈 모형에 대해 무위험 수익률(r)의 편미분(∂)-> 이율 대비 옵션가의 변동성 <자주 안쓰임 - 무위험수익률 기반>"
      ],
      "metadata": {
        "id": "0xSY4CcIjjKx"
      }
    },
    {
      "cell_type": "markdown",
      "source": [
        "<img  width=\"700\" src=\"https://t1.daumcdn.net/cfile/tistory/253A7748570FB6262B\">"
      ],
      "metadata": {
        "id": "pd414iBRkuzs"
      }
    },
    {
      "cell_type": "markdown",
      "source": [
        "## 민감도 지표\n",
        "ref : https://blog.naver.com/silverkiteasset/222147559644"
      ],
      "metadata": {
        "id": "PEtGCaUPKb0-"
      }
    },
    {
      "cell_type": "markdown",
      "source": [
        "<img  width=\"700\" src=\"https://blog.kakaocdn.net/dn/eTnZ99/btrxQ43aAz2/QUKMkr2BNKEyIHMkD4FKS0/img.png\">"
      ],
      "metadata": {
        "id": "2_CVXWFjnrAf"
      }
    },
    {
      "cell_type": "markdown",
      "source": [
        "<img  width=\"700\" src=\"https://blog.kakaocdn.net/dn/cDTmpy/btrxILDDh6l/lBPi6PEJiJmflEb63YEQkk/img.png\">"
      ],
      "metadata": {
        "id": "lasfE8FMpu12"
      }
    },
    {
      "cell_type": "markdown",
      "source": [
        "* 헤지(Hedge) 비율 결정에 사용"
      ],
      "metadata": {
        "id": "bDA5oJ9cruqe"
      }
    },
    {
      "cell_type": "markdown",
      "source": [
        "<img  width=\"700\" src=\"https://blog.kakaocdn.net/dn/qkCj5/btrxTOselcE/8ZsgooN2iqdg36B2B0jtp1/img.png\">"
      ],
      "metadata": {
        "id": "GzhxUMhZo71b"
      }
    },
    {
      "cell_type": "markdown",
      "source": [
        "* ITM(In The Money) : 권리행사 가능 <이익>\n",
        "* OTM(Out The Money) : 권리행사 포기 <손해>\n",
        "* ATM(At The Money) : 이익과 손해의 전환점(등가)\n",
        "* STRIKE : 등가지점 가격"
      ],
      "metadata": {
        "id": "JyqtrP9xo93N"
      }
    },
    {
      "cell_type": "markdown",
      "source": [
        "<img  width=\"700\" src=\"https://blog.kakaocdn.net/dn/w7na8/btrxGcIOb7W/ZhWfp3SWuQBTEemA1ru9OK/img.png\">"
      ],
      "metadata": {
        "id": "sKa6Vp7drc9c"
      }
    },
    {
      "cell_type": "markdown",
      "source": [
        "* 감마는 델타에서 기초자산의 제곱이 분모로 있는 형태 -> 델타보다 기초자산에 민감도가 높음\n"
      ],
      "metadata": {
        "id": "JVD3CtiSsEEX"
      }
    },
    {
      "cell_type": "markdown",
      "source": [
        "<img  width=\"700\" src=\"https://blog.kakaocdn.net/dn/bxNqAE/btrxTOZ5vj2/S2DzyFQewXXNQjcyY5Ru30/img.png\">"
      ],
      "metadata": {
        "id": "PEGQ6egnsrJP"
      }
    },
    {
      "cell_type": "markdown",
      "source": [
        "<img  width=\"700\" src=\"https://blog.kakaocdn.net/dn/cKXhpA/btrxKgDosaw/Fs0aDvI7AEPIpG5zsxgsek/img.png\">"
      ],
      "metadata": {
        "id": "qt1NIsnUsyU_"
      }
    },
    {
      "cell_type": "markdown",
      "source": [
        "<img  width=\"700\" src=\"https://blog.kakaocdn.net/dn/BANlr/btrxIL4JRpM/uzfcXTeeiaeiM93TMtYj70/img.png\">"
      ],
      "metadata": {
        "id": "WIxK2qgytaHF"
      }
    },
    {
      "cell_type": "markdown",
      "source": [
        "* 풋포지션의 시간에 따른 수익률 그래프\n",
        "* 주식은 보통 우상향이기 때문에 시간이 지날수록 옵션 가치 하락\n",
        "* 콜포지션의 경우는 시간이 지날수록 옵션가치 상승"
      ],
      "metadata": {
        "id": "5CvaQLbttbzP"
      }
    },
    {
      "cell_type": "markdown",
      "source": [
        "<img  width=\"700\" src=\"https://blog.kakaocdn.net/dn/blypUD/btrxvLRV6z7/Fhh3gdMtlqyVsPNHSBAG60/img.png\">"
      ],
      "metadata": {
        "id": "tdLbtgn7tsxm"
      }
    },
    {
      "cell_type": "markdown",
      "source": [
        "참고할 사이트 : https://blog.naver.com/stochastic73/221622891327"
      ],
      "metadata": {
        "id": "yfg0Hun41cfP"
      }
    },
    {
      "cell_type": "markdown",
      "source": [
        "<img  width=\"700\" src=\"https://blog.kakaocdn.net/dn/nk1QU/btrxNYWtVTs/t6hGxD9Rqd9pn9mRwoAXU1/img.png\">"
      ],
      "metadata": {
        "id": "j3YEsbbat9hd"
      }
    },
    {
      "cell_type": "markdown",
      "source": [
        "* 변동성이 커질수록 옵션가치 상승"
      ],
      "metadata": {
        "id": "CvaLUuLkuZt1"
      }
    },
    {
      "cell_type": "markdown",
      "source": [
        "<img  width=\"700\" src=\"https://blog.kakaocdn.net/dn/bagVAh/btrxLljKupJ/pzBWQwACxVMXToC68r7D20/img.png\">"
      ],
      "metadata": {
        "id": "6d-AS_Pkvetx"
      }
    },
    {
      "cell_type": "markdown",
      "source": [
        "\n",
        "<img  width=\"700\" src=\"https://blog.kakaocdn.net/dn/Wck8X/btrxzjnRff3/lO2Qb5kQwKrKZKJ1dKLr91/img.png\">"
      ],
      "metadata": {
        "id": "fHBGHJwJOwjK"
      }
    },
    {
      "cell_type": "markdown",
      "source": [
        "* d1 : 블랙숄즈 모형의 d1값\n",
        "* d2 : 블랙숄즈 모형의 d2값\n",
        "* C : 옵션가치(콜 기준)\n",
        "* 내재가치 : 내재가치 = 현물가 - 행사가 (얼마나 이윤)\n",
        "* 시간가치 : <옵션가치 = 내재가치 + 시간가치>"
      ],
      "metadata": {
        "id": "G2JiopWvOQ_6"
      }
    },
    {
      "cell_type": "markdown",
      "source": [
        "\n",
        "\n",
        "<img  width=\"400\" src=\"https://blog.kakaocdn.net/dn/cmA3cn/btrxVlcDmml/ygR38b2o9MMgEZa6o1TqBK/img.png\">"
      ],
      "metadata": {
        "id": "PXVIuqEOQSTk"
      }
    },
    {
      "cell_type": "markdown",
      "source": [
        "\n",
        "\n",
        "<img  width=\"400\" src=\"https://blog.kakaocdn.net/dn/bFjjiB/btrxTOfiKYB/qKvWKHKjMrg3Psb9QcK7Ak/img.png\">"
      ],
      "metadata": {
        "id": "7c3LI6_EPZVJ"
      }
    },
    {
      "cell_type": "markdown",
      "source": [
        "* 변동성이 커질 수록 이윤의 확률이 커짐 -> 초록 부분 넓이가 커짐\n",
        "* 내재가치가 양수 -> 내가격(ITM) 구간"
      ],
      "metadata": {
        "id": "GvWJXJnMPrhs"
      }
    },
    {
      "cell_type": "markdown",
      "source": [
        "# 코드"
      ],
      "metadata": {
        "id": "eJ9NMni2hWRU"
      }
    },
    {
      "cell_type": "markdown",
      "source": [
        "##  <font color=red size=5><b>블랙숄즈 방정식★★★\n",
        "* 1973년 Black, Scholes, Merton에 의해 개발된 옵션 공정가격 산출 모형\n",
        "* 5가지 요인으로 옵션의 공정 가격을 설명\n",
        "* <font color=red size=3><b>기초자산(𝑆), 행사가격(𝑋), 무위험수익률(𝑟), 잔존기간(𝑡), 기초자산변동성(𝜎)\n",
        "<img src='https://img1.daumcdn.net/thumb/R1280x0/?scode=mtistory2&fname=http%3A%2F%2Fcfile9.uf.tistory.com%2Fimage%2F994347395B6E6AE6272A7F'><br>"
      ],
      "metadata": {
        "id": "MFYORM5Wg0z3"
      }
    },
    {
      "cell_type": "markdown",
      "source": [
        "* Options contracts can be priced using mathematical models such as the **Black-Scholes** or Binomial pricing models.<br>\n",
        "* An option's price is primarily made up of two distinct parts: **intrinsic value and time value**.<br>\n",
        "* **Intrinsic value** is a measure of an option's profitability based on the strike price versus the stock's price in the market.<br>\n",
        "* **Time value** is based on the underlying asset's expected volatility and time until the option's expiration.\n",
        "* ref : https://m.blog.naver.com/stochastic73/221669186447<Br><Br>\n",
        "----"
      ],
      "metadata": {
        "id": "pqpIPCRUg6Nf"
      }
    },
    {
      "cell_type": "markdown",
      "source": [
        "## DATA LOAD"
      ],
      "metadata": {
        "id": "1vKONONLoxZQ"
      }
    },
    {
      "cell_type": "code",
      "source": [
        "!sudo apt-get install -y fonts-nanum\n",
        "!sudo fc-cache -fv\n",
        "!rm ~/.cache/matplotlib -rf"
      ],
      "metadata": {
        "colab": {
          "base_uri": "https://localhost:8080/"
        },
        "id": "3Ng-bI850KEn",
        "outputId": "611a6e71-3024-4b61-8bdb-8dae0658f274"
      },
      "execution_count": 86,
      "outputs": [
        {
          "output_type": "stream",
          "name": "stdout",
          "text": [
            "Reading package lists... Done\n",
            "Building dependency tree       \n",
            "Reading state information... Done\n",
            "The following NEW packages will be installed:\n",
            "  fonts-nanum\n",
            "0 upgraded, 1 newly installed, 0 to remove and 39 not upgraded.\n",
            "Need to get 9,604 kB of archives.\n",
            "After this operation, 29.5 MB of additional disk space will be used.\n",
            "Get:1 http://archive.ubuntu.com/ubuntu bionic/universe amd64 fonts-nanum all 20170925-1 [9,604 kB]\n",
            "Fetched 9,604 kB in 0s (21.7 MB/s)\n",
            "debconf: unable to initialize frontend: Dialog\n",
            "debconf: (No usable dialog-like program is installed, so the dialog based frontend cannot be used. at /usr/share/perl5/Debconf/FrontEnd/Dialog.pm line 76, <> line 1.)\n",
            "debconf: falling back to frontend: Readline\n",
            "debconf: unable to initialize frontend: Readline\n",
            "debconf: (This frontend requires a controlling tty.)\n",
            "debconf: falling back to frontend: Teletype\n",
            "dpkg-preconfigure: unable to re-open stdin: \n",
            "Selecting previously unselected package fonts-nanum.\n",
            "(Reading database ... 156210 files and directories currently installed.)\n",
            "Preparing to unpack .../fonts-nanum_20170925-1_all.deb ...\n",
            "Unpacking fonts-nanum (20170925-1) ...\n",
            "Setting up fonts-nanum (20170925-1) ...\n",
            "Processing triggers for fontconfig (2.12.6-0ubuntu2) ...\n",
            "/usr/share/fonts: caching, new cache contents: 0 fonts, 1 dirs\n",
            "/usr/share/fonts/truetype: caching, new cache contents: 0 fonts, 3 dirs\n",
            "/usr/share/fonts/truetype/humor-sans: caching, new cache contents: 1 fonts, 0 dirs\n",
            "/usr/share/fonts/truetype/liberation: caching, new cache contents: 16 fonts, 0 dirs\n",
            "/usr/share/fonts/truetype/nanum: caching, new cache contents: 10 fonts, 0 dirs\n",
            "/usr/local/share/fonts: caching, new cache contents: 0 fonts, 0 dirs\n",
            "/root/.local/share/fonts: skipping, no such directory\n",
            "/root/.fonts: skipping, no such directory\n",
            "/var/cache/fontconfig: cleaning cache directory\n",
            "/root/.cache/fontconfig: not cleaning non-existent cache directory\n",
            "/root/.fontconfig: not cleaning non-existent cache directory\n",
            "fc-cache: succeeded\n"
          ]
        }
      ]
    },
    {
      "cell_type": "code",
      "source": [
        "import pandas as pd\n",
        "import numpy as np\n",
        "import matplotlib.pyplot as plt\n",
        "import seaborn as sns\n",
        "import os\n",
        "from IPython.display import Image\n",
        "\n",
        "import warnings\n",
        "warnings.filterwarnings(action='ignore')\n",
        "\n",
        "#-------------------- 차트 관련 속성 (한글처리, 그리드) -----------\n",
        "#plt.rc('font', family='NanumGothicOTF') # For MacOS\n",
        "plt.rcParams['font.family']= 'Malgun Gothic'\n",
        "plt.rcParams['axes.unicode_minus'] = False\n",
        "sns.set()\n",
        "\n",
        "#-------------------- 주피터 , 출력결과 넓이 늘리기 ---------------\n",
        "from IPython.core.display import display, HTML\n",
        "display(HTML(\"<style>.container{width:100% !important;}</style>\"))\n",
        "pd.set_option('display.max_rows', 100)\n",
        "pd.set_option('display.max_columns', 100)\n",
        "pd.set_option('max_colwidth', None)\n",
        "\n",
        "plt.rc('font', family='NanumBarunGothic')"
      ],
      "metadata": {
        "colab": {
          "base_uri": "https://localhost:8080/",
          "height": 17
        },
        "id": "QHGbBEfQz3FZ",
        "outputId": "7dd0f3f1-04ed-4252-9122-ba7395d02517"
      },
      "execution_count": 1,
      "outputs": [
        {
          "output_type": "display_data",
          "data": {
            "text/plain": [
              "<IPython.core.display.HTML object>"
            ],
            "text/html": [
              "<style>.container{width:100% !important;}</style>"
            ]
          },
          "metadata": {}
        }
      ]
    },
    {
      "cell_type": "code",
      "source": [
        "from google.colab import drive\n",
        "drive.mount('/content/gdrive')"
      ],
      "metadata": {
        "colab": {
          "base_uri": "https://localhost:8080/"
        },
        "id": "BgTTJy4RNTSP",
        "outputId": "7ef8e6c2-3aee-4495-8afd-506972ab70d2"
      },
      "execution_count": 2,
      "outputs": [
        {
          "output_type": "stream",
          "name": "stdout",
          "text": [
            "Drive already mounted at /content/gdrive; to attempt to forcibly remount, call drive.mount(\"/content/gdrive\", force_remount=True).\n"
          ]
        }
      ]
    },
    {
      "cell_type": "code",
      "source": [
        "var = pd.read_excel(\"/content/gdrive/My Drive/Colab Notebooks/금융공학/dataset/블랙숄즈.xlsx\").head(1)\n",
        "var"
      ],
      "metadata": {
        "colab": {
          "base_uri": "https://localhost:8080/",
          "height": 81
        },
        "id": "SkkGD7GcNNUn",
        "outputId": "60f1c3a6-e078-408f-8a80-79996217593c"
      },
      "execution_count": 3,
      "outputs": [
        {
          "output_type": "execute_result",
          "data": {
            "text/plain": [
              "  행사가격                  현재일                  만기일  잔존만기   이자율  변동성\n",
              "0  330  2018-07-01 00:00:00  2019-03-21 00:00:00  0.75  0.02  0.3"
            ],
            "text/html": [
              "\n",
              "  <div id=\"df-88a2c01e-61a3-47ad-bf7c-ad5fff908872\">\n",
              "    <div class=\"colab-df-container\">\n",
              "      <div>\n",
              "<style scoped>\n",
              "    .dataframe tbody tr th:only-of-type {\n",
              "        vertical-align: middle;\n",
              "    }\n",
              "\n",
              "    .dataframe tbody tr th {\n",
              "        vertical-align: top;\n",
              "    }\n",
              "\n",
              "    .dataframe thead th {\n",
              "        text-align: right;\n",
              "    }\n",
              "</style>\n",
              "<table border=\"1\" class=\"dataframe\">\n",
              "  <thead>\n",
              "    <tr style=\"text-align: right;\">\n",
              "      <th></th>\n",
              "      <th>행사가격</th>\n",
              "      <th>현재일</th>\n",
              "      <th>만기일</th>\n",
              "      <th>잔존만기</th>\n",
              "      <th>이자율</th>\n",
              "      <th>변동성</th>\n",
              "    </tr>\n",
              "  </thead>\n",
              "  <tbody>\n",
              "    <tr>\n",
              "      <th>0</th>\n",
              "      <td>330</td>\n",
              "      <td>2018-07-01 00:00:00</td>\n",
              "      <td>2019-03-21 00:00:00</td>\n",
              "      <td>0.75</td>\n",
              "      <td>0.02</td>\n",
              "      <td>0.3</td>\n",
              "    </tr>\n",
              "  </tbody>\n",
              "</table>\n",
              "</div>\n",
              "      <button class=\"colab-df-convert\" onclick=\"convertToInteractive('df-88a2c01e-61a3-47ad-bf7c-ad5fff908872')\"\n",
              "              title=\"Convert this dataframe to an interactive table.\"\n",
              "              style=\"display:none;\">\n",
              "        \n",
              "  <svg xmlns=\"http://www.w3.org/2000/svg\" height=\"24px\"viewBox=\"0 0 24 24\"\n",
              "       width=\"24px\">\n",
              "    <path d=\"M0 0h24v24H0V0z\" fill=\"none\"/>\n",
              "    <path d=\"M18.56 5.44l.94 2.06.94-2.06 2.06-.94-2.06-.94-.94-2.06-.94 2.06-2.06.94zm-11 1L8.5 8.5l.94-2.06 2.06-.94-2.06-.94L8.5 2.5l-.94 2.06-2.06.94zm10 10l.94 2.06.94-2.06 2.06-.94-2.06-.94-.94-2.06-.94 2.06-2.06.94z\"/><path d=\"M17.41 7.96l-1.37-1.37c-.4-.4-.92-.59-1.43-.59-.52 0-1.04.2-1.43.59L10.3 9.45l-7.72 7.72c-.78.78-.78 2.05 0 2.83L4 21.41c.39.39.9.59 1.41.59.51 0 1.02-.2 1.41-.59l7.78-7.78 2.81-2.81c.8-.78.8-2.07 0-2.86zM5.41 20L4 18.59l7.72-7.72 1.47 1.35L5.41 20z\"/>\n",
              "  </svg>\n",
              "      </button>\n",
              "      \n",
              "  <style>\n",
              "    .colab-df-container {\n",
              "      display:flex;\n",
              "      flex-wrap:wrap;\n",
              "      gap: 12px;\n",
              "    }\n",
              "\n",
              "    .colab-df-convert {\n",
              "      background-color: #E8F0FE;\n",
              "      border: none;\n",
              "      border-radius: 50%;\n",
              "      cursor: pointer;\n",
              "      display: none;\n",
              "      fill: #1967D2;\n",
              "      height: 32px;\n",
              "      padding: 0 0 0 0;\n",
              "      width: 32px;\n",
              "    }\n",
              "\n",
              "    .colab-df-convert:hover {\n",
              "      background-color: #E2EBFA;\n",
              "      box-shadow: 0px 1px 2px rgba(60, 64, 67, 0.3), 0px 1px 3px 1px rgba(60, 64, 67, 0.15);\n",
              "      fill: #174EA6;\n",
              "    }\n",
              "\n",
              "    [theme=dark] .colab-df-convert {\n",
              "      background-color: #3B4455;\n",
              "      fill: #D2E3FC;\n",
              "    }\n",
              "\n",
              "    [theme=dark] .colab-df-convert:hover {\n",
              "      background-color: #434B5C;\n",
              "      box-shadow: 0px 1px 3px 1px rgba(0, 0, 0, 0.15);\n",
              "      filter: drop-shadow(0px 1px 2px rgba(0, 0, 0, 0.3));\n",
              "      fill: #FFFFFF;\n",
              "    }\n",
              "  </style>\n",
              "\n",
              "      <script>\n",
              "        const buttonEl =\n",
              "          document.querySelector('#df-88a2c01e-61a3-47ad-bf7c-ad5fff908872 button.colab-df-convert');\n",
              "        buttonEl.style.display =\n",
              "          google.colab.kernel.accessAllowed ? 'block' : 'none';\n",
              "\n",
              "        async function convertToInteractive(key) {\n",
              "          const element = document.querySelector('#df-88a2c01e-61a3-47ad-bf7c-ad5fff908872');\n",
              "          const dataTable =\n",
              "            await google.colab.kernel.invokeFunction('convertToInteractive',\n",
              "                                                     [key], {});\n",
              "          if (!dataTable) return;\n",
              "\n",
              "          const docLinkHtml = 'Like what you see? Visit the ' +\n",
              "            '<a target=\"_blank\" href=https://colab.research.google.com/notebooks/data_table.ipynb>data table notebook</a>'\n",
              "            + ' to learn more about interactive tables.';\n",
              "          element.innerHTML = '';\n",
              "          dataTable['output_type'] = 'display_data';\n",
              "          await google.colab.output.renderOutput(dataTable, element);\n",
              "          const docLink = document.createElement('div');\n",
              "          docLink.innerHTML = docLinkHtml;\n",
              "          element.appendChild(docLink);\n",
              "        }\n",
              "      </script>\n",
              "    </div>\n",
              "  </div>\n",
              "  "
            ]
          },
          "metadata": {},
          "execution_count": 3
        }
      ]
    },
    {
      "cell_type": "code",
      "source": [
        "var.info()"
      ],
      "metadata": {
        "colab": {
          "base_uri": "https://localhost:8080/"
        },
        "id": "SCMOyIyAs2ml",
        "outputId": "35b9f080-b539-490d-e3ef-a3af5623f6cf"
      },
      "execution_count": 4,
      "outputs": [
        {
          "output_type": "stream",
          "name": "stdout",
          "text": [
            "<class 'pandas.core.frame.DataFrame'>\n",
            "RangeIndex: 1 entries, 0 to 0\n",
            "Data columns (total 6 columns):\n",
            " #   Column  Non-Null Count  Dtype \n",
            "---  ------  --------------  ----- \n",
            " 0   행사가격    1 non-null      object\n",
            " 1   현재일     1 non-null      object\n",
            " 2   만기일     1 non-null      object\n",
            " 3   잔존만기    1 non-null      object\n",
            " 4   이자율     1 non-null      object\n",
            " 5   변동성     1 non-null      object\n",
            "dtypes: object(6)\n",
            "memory usage: 176.0+ bytes\n"
          ]
        }
      ]
    },
    {
      "cell_type": "code",
      "source": [
        "var['행사가격']=var['행사가격'].astype('int')\n",
        "var['잔존만기']=var['잔존만기'].astype('float')\n",
        "var['이자율']=var['이자율'].astype('float')\n",
        "var['변동성']=var['변동성'].astype('float')"
      ],
      "metadata": {
        "id": "y6hlNmQZtg9R"
      },
      "execution_count": 5,
      "outputs": []
    },
    {
      "cell_type": "code",
      "source": [
        "df = pd.read_excel(\"/content/gdrive/My Drive/Colab Notebooks/금융공학/dataset/블랙숄즈.xlsx\", header=[3])\n",
        "df.head()"
      ],
      "metadata": {
        "colab": {
          "base_uri": "https://localhost:8080/",
          "height": 206
        },
        "id": "7gJ9gPe-oK7H",
        "outputId": "f85c6265-cec6-42b1-c51e-13f4674a6abb"
      },
      "execution_count": 6,
      "outputs": [
        {
          "output_type": "execute_result",
          "data": {
            "text/plain": [
              "   현물가격        d1        d2          C  내재가치       시간가치\n",
              "0   300 -0.179210 -0.439018  21.281779     0  21.281779\n",
              "1   301 -0.166402 -0.426209  21.713182     0  21.713182\n",
              "2   302 -0.153635 -0.413443  22.149617     0  22.149617\n",
              "3   303 -0.140911 -0.400719  22.591077     0  22.591077\n",
              "4   304 -0.128229 -0.388037  23.037555     0  23.037555"
            ],
            "text/html": [
              "\n",
              "  <div id=\"df-1d47510c-e863-4e3a-8722-a8188f250c17\">\n",
              "    <div class=\"colab-df-container\">\n",
              "      <div>\n",
              "<style scoped>\n",
              "    .dataframe tbody tr th:only-of-type {\n",
              "        vertical-align: middle;\n",
              "    }\n",
              "\n",
              "    .dataframe tbody tr th {\n",
              "        vertical-align: top;\n",
              "    }\n",
              "\n",
              "    .dataframe thead th {\n",
              "        text-align: right;\n",
              "    }\n",
              "</style>\n",
              "<table border=\"1\" class=\"dataframe\">\n",
              "  <thead>\n",
              "    <tr style=\"text-align: right;\">\n",
              "      <th></th>\n",
              "      <th>현물가격</th>\n",
              "      <th>d1</th>\n",
              "      <th>d2</th>\n",
              "      <th>C</th>\n",
              "      <th>내재가치</th>\n",
              "      <th>시간가치</th>\n",
              "    </tr>\n",
              "  </thead>\n",
              "  <tbody>\n",
              "    <tr>\n",
              "      <th>0</th>\n",
              "      <td>300</td>\n",
              "      <td>-0.179210</td>\n",
              "      <td>-0.439018</td>\n",
              "      <td>21.281779</td>\n",
              "      <td>0</td>\n",
              "      <td>21.281779</td>\n",
              "    </tr>\n",
              "    <tr>\n",
              "      <th>1</th>\n",
              "      <td>301</td>\n",
              "      <td>-0.166402</td>\n",
              "      <td>-0.426209</td>\n",
              "      <td>21.713182</td>\n",
              "      <td>0</td>\n",
              "      <td>21.713182</td>\n",
              "    </tr>\n",
              "    <tr>\n",
              "      <th>2</th>\n",
              "      <td>302</td>\n",
              "      <td>-0.153635</td>\n",
              "      <td>-0.413443</td>\n",
              "      <td>22.149617</td>\n",
              "      <td>0</td>\n",
              "      <td>22.149617</td>\n",
              "    </tr>\n",
              "    <tr>\n",
              "      <th>3</th>\n",
              "      <td>303</td>\n",
              "      <td>-0.140911</td>\n",
              "      <td>-0.400719</td>\n",
              "      <td>22.591077</td>\n",
              "      <td>0</td>\n",
              "      <td>22.591077</td>\n",
              "    </tr>\n",
              "    <tr>\n",
              "      <th>4</th>\n",
              "      <td>304</td>\n",
              "      <td>-0.128229</td>\n",
              "      <td>-0.388037</td>\n",
              "      <td>23.037555</td>\n",
              "      <td>0</td>\n",
              "      <td>23.037555</td>\n",
              "    </tr>\n",
              "  </tbody>\n",
              "</table>\n",
              "</div>\n",
              "      <button class=\"colab-df-convert\" onclick=\"convertToInteractive('df-1d47510c-e863-4e3a-8722-a8188f250c17')\"\n",
              "              title=\"Convert this dataframe to an interactive table.\"\n",
              "              style=\"display:none;\">\n",
              "        \n",
              "  <svg xmlns=\"http://www.w3.org/2000/svg\" height=\"24px\"viewBox=\"0 0 24 24\"\n",
              "       width=\"24px\">\n",
              "    <path d=\"M0 0h24v24H0V0z\" fill=\"none\"/>\n",
              "    <path d=\"M18.56 5.44l.94 2.06.94-2.06 2.06-.94-2.06-.94-.94-2.06-.94 2.06-2.06.94zm-11 1L8.5 8.5l.94-2.06 2.06-.94-2.06-.94L8.5 2.5l-.94 2.06-2.06.94zm10 10l.94 2.06.94-2.06 2.06-.94-2.06-.94-.94-2.06-.94 2.06-2.06.94z\"/><path d=\"M17.41 7.96l-1.37-1.37c-.4-.4-.92-.59-1.43-.59-.52 0-1.04.2-1.43.59L10.3 9.45l-7.72 7.72c-.78.78-.78 2.05 0 2.83L4 21.41c.39.39.9.59 1.41.59.51 0 1.02-.2 1.41-.59l7.78-7.78 2.81-2.81c.8-.78.8-2.07 0-2.86zM5.41 20L4 18.59l7.72-7.72 1.47 1.35L5.41 20z\"/>\n",
              "  </svg>\n",
              "      </button>\n",
              "      \n",
              "  <style>\n",
              "    .colab-df-container {\n",
              "      display:flex;\n",
              "      flex-wrap:wrap;\n",
              "      gap: 12px;\n",
              "    }\n",
              "\n",
              "    .colab-df-convert {\n",
              "      background-color: #E8F0FE;\n",
              "      border: none;\n",
              "      border-radius: 50%;\n",
              "      cursor: pointer;\n",
              "      display: none;\n",
              "      fill: #1967D2;\n",
              "      height: 32px;\n",
              "      padding: 0 0 0 0;\n",
              "      width: 32px;\n",
              "    }\n",
              "\n",
              "    .colab-df-convert:hover {\n",
              "      background-color: #E2EBFA;\n",
              "      box-shadow: 0px 1px 2px rgba(60, 64, 67, 0.3), 0px 1px 3px 1px rgba(60, 64, 67, 0.15);\n",
              "      fill: #174EA6;\n",
              "    }\n",
              "\n",
              "    [theme=dark] .colab-df-convert {\n",
              "      background-color: #3B4455;\n",
              "      fill: #D2E3FC;\n",
              "    }\n",
              "\n",
              "    [theme=dark] .colab-df-convert:hover {\n",
              "      background-color: #434B5C;\n",
              "      box-shadow: 0px 1px 3px 1px rgba(0, 0, 0, 0.15);\n",
              "      filter: drop-shadow(0px 1px 2px rgba(0, 0, 0, 0.3));\n",
              "      fill: #FFFFFF;\n",
              "    }\n",
              "  </style>\n",
              "\n",
              "      <script>\n",
              "        const buttonEl =\n",
              "          document.querySelector('#df-1d47510c-e863-4e3a-8722-a8188f250c17 button.colab-df-convert');\n",
              "        buttonEl.style.display =\n",
              "          google.colab.kernel.accessAllowed ? 'block' : 'none';\n",
              "\n",
              "        async function convertToInteractive(key) {\n",
              "          const element = document.querySelector('#df-1d47510c-e863-4e3a-8722-a8188f250c17');\n",
              "          const dataTable =\n",
              "            await google.colab.kernel.invokeFunction('convertToInteractive',\n",
              "                                                     [key], {});\n",
              "          if (!dataTable) return;\n",
              "\n",
              "          const docLinkHtml = 'Like what you see? Visit the ' +\n",
              "            '<a target=\"_blank\" href=https://colab.research.google.com/notebooks/data_table.ipynb>data table notebook</a>'\n",
              "            + ' to learn more about interactive tables.';\n",
              "          element.innerHTML = '';\n",
              "          dataTable['output_type'] = 'display_data';\n",
              "          await google.colab.output.renderOutput(dataTable, element);\n",
              "          const docLink = document.createElement('div');\n",
              "          docLink.innerHTML = docLinkHtml;\n",
              "          element.appendChild(docLink);\n",
              "        }\n",
              "      </script>\n",
              "    </div>\n",
              "  </div>\n",
              "  "
            ]
          },
          "metadata": {},
          "execution_count": 6
        }
      ]
    },
    {
      "cell_type": "markdown",
      "metadata": {
        "id": "interesting-cleveland"
      },
      "source": [
        "## 옵션 이론가"
      ]
    },
    {
      "cell_type": "markdown",
      "metadata": {
        "id": "grand-covering"
      },
      "source": [
        "행사가가 낮으면 낮을수록 콜옵션 가격은 올라간다\n",
        " --> 이윤을 남기려고 권리를 행사할 가능성이 커진다"
      ]
    },
    {
      "cell_type": "code",
      "execution_count": 7,
      "metadata": {
        "id": "pending-lecture",
        "outputId": "4af5850c-bd6c-4190-d327-d84818cdd6c9",
        "colab": {
          "base_uri": "https://localhost:8080/"
        }
      },
      "outputs": [
        {
          "output_type": "stream",
          "name": "stdout",
          "text": [
            "189.0\n",
            "0.75\n"
          ]
        }
      ],
      "source": [
        "def 잔존만기(오늘날짜, 만기일자, workday=252):\n",
        "    오늘날짜 = pd.to_datetime(오늘날짜).date()\n",
        "    만기일자 = pd.to_datetime(만기일자).date()\n",
        "    잔존만기일 = (np.busday_count(오늘날짜, 만기일자)+1) / workday   #begindates, enddates\n",
        "    print(잔존만기일 * workday)\n",
        "    return 잔존만기일\n",
        "잔존만기 = 잔존만기(var['현재일'][0], var['만기일'][0], workday=252)\n",
        "print(잔존만기)"
      ]
    },
    {
      "cell_type": "code",
      "execution_count": 8,
      "metadata": {
        "id": "magnetic-flooring"
      },
      "outputs": [],
      "source": [
        "from scipy import  stats\n",
        "def 옵션이론가(df):\n",
        "    기초자산=df['현물가격']\n",
        "    행사가=var['행사가격']\n",
        "    오늘날짜 =  pd.to_datetime(var['현재일'][0]).date()\n",
        "    만기일자 = pd.to_datetime(var['만기일'][0]).date()\n",
        "    이자율=var['이자율']\n",
        "    변동율=var['변동성']\n",
        "    workday=252\n",
        "    잔존만기일 = (np.busday_count(오늘날짜, 만기일자)+1) / workday\n",
        "    d1 = (  np.log(기초자산 / 행사가)  + (이자율 + 변동율**2 * 0.5) * 잔존만기일) / (변동율 * np.sqrt(잔존만기일))\n",
        "    d2 = d1 -  (변동율 * np.sqrt(잔존만기일))\n",
        "    옵션이론가 = 기초자산 * stats.norm.cdf(d1, 0.0, 1.0)  -  행사가 * np.exp(-이자율*잔존만기일) * stats.norm.cdf(d2, 0.0, 1.0)\n",
        "    return 옵션이론가\n"
      ]
    },
    {
      "cell_type": "code",
      "source": [
        "df['옵션이론가']=df.apply(옵션이론가, axis=1)\n",
        "df.tail()"
      ],
      "metadata": {
        "colab": {
          "base_uri": "https://localhost:8080/",
          "height": 206
        },
        "id": "35twvVjBrMDl",
        "outputId": "e99a7e0c-e382-4780-cc6d-1c2492a1805b"
      },
      "execution_count": 9,
      "outputs": [
        {
          "output_type": "execute_result",
          "data": {
            "text/plain": [
              "    현물가격        d1        d2          C  내재가치       시간가치      옵션이론가\n",
              "56   356  0.479540  0.219732  52.770198    26  26.770198  52.770198\n",
              "57   357  0.490336  0.230529  53.456338    27  26.456338  53.456338\n",
              "58   358  0.501103  0.241295  54.146292    28  26.146292  54.146292\n",
              "59   359  0.511839  0.252032  54.840029    29  25.840029  54.840029\n",
              "60   360  0.522546  0.262738  55.537518    30  25.537518  55.537518"
            ],
            "text/html": [
              "\n",
              "  <div id=\"df-b6f389fe-c303-4619-bc39-ae6ddc49528b\">\n",
              "    <div class=\"colab-df-container\">\n",
              "      <div>\n",
              "<style scoped>\n",
              "    .dataframe tbody tr th:only-of-type {\n",
              "        vertical-align: middle;\n",
              "    }\n",
              "\n",
              "    .dataframe tbody tr th {\n",
              "        vertical-align: top;\n",
              "    }\n",
              "\n",
              "    .dataframe thead th {\n",
              "        text-align: right;\n",
              "    }\n",
              "</style>\n",
              "<table border=\"1\" class=\"dataframe\">\n",
              "  <thead>\n",
              "    <tr style=\"text-align: right;\">\n",
              "      <th></th>\n",
              "      <th>현물가격</th>\n",
              "      <th>d1</th>\n",
              "      <th>d2</th>\n",
              "      <th>C</th>\n",
              "      <th>내재가치</th>\n",
              "      <th>시간가치</th>\n",
              "      <th>옵션이론가</th>\n",
              "    </tr>\n",
              "  </thead>\n",
              "  <tbody>\n",
              "    <tr>\n",
              "      <th>56</th>\n",
              "      <td>356</td>\n",
              "      <td>0.479540</td>\n",
              "      <td>0.219732</td>\n",
              "      <td>52.770198</td>\n",
              "      <td>26</td>\n",
              "      <td>26.770198</td>\n",
              "      <td>52.770198</td>\n",
              "    </tr>\n",
              "    <tr>\n",
              "      <th>57</th>\n",
              "      <td>357</td>\n",
              "      <td>0.490336</td>\n",
              "      <td>0.230529</td>\n",
              "      <td>53.456338</td>\n",
              "      <td>27</td>\n",
              "      <td>26.456338</td>\n",
              "      <td>53.456338</td>\n",
              "    </tr>\n",
              "    <tr>\n",
              "      <th>58</th>\n",
              "      <td>358</td>\n",
              "      <td>0.501103</td>\n",
              "      <td>0.241295</td>\n",
              "      <td>54.146292</td>\n",
              "      <td>28</td>\n",
              "      <td>26.146292</td>\n",
              "      <td>54.146292</td>\n",
              "    </tr>\n",
              "    <tr>\n",
              "      <th>59</th>\n",
              "      <td>359</td>\n",
              "      <td>0.511839</td>\n",
              "      <td>0.252032</td>\n",
              "      <td>54.840029</td>\n",
              "      <td>29</td>\n",
              "      <td>25.840029</td>\n",
              "      <td>54.840029</td>\n",
              "    </tr>\n",
              "    <tr>\n",
              "      <th>60</th>\n",
              "      <td>360</td>\n",
              "      <td>0.522546</td>\n",
              "      <td>0.262738</td>\n",
              "      <td>55.537518</td>\n",
              "      <td>30</td>\n",
              "      <td>25.537518</td>\n",
              "      <td>55.537518</td>\n",
              "    </tr>\n",
              "  </tbody>\n",
              "</table>\n",
              "</div>\n",
              "      <button class=\"colab-df-convert\" onclick=\"convertToInteractive('df-b6f389fe-c303-4619-bc39-ae6ddc49528b')\"\n",
              "              title=\"Convert this dataframe to an interactive table.\"\n",
              "              style=\"display:none;\">\n",
              "        \n",
              "  <svg xmlns=\"http://www.w3.org/2000/svg\" height=\"24px\"viewBox=\"0 0 24 24\"\n",
              "       width=\"24px\">\n",
              "    <path d=\"M0 0h24v24H0V0z\" fill=\"none\"/>\n",
              "    <path d=\"M18.56 5.44l.94 2.06.94-2.06 2.06-.94-2.06-.94-.94-2.06-.94 2.06-2.06.94zm-11 1L8.5 8.5l.94-2.06 2.06-.94-2.06-.94L8.5 2.5l-.94 2.06-2.06.94zm10 10l.94 2.06.94-2.06 2.06-.94-2.06-.94-.94-2.06-.94 2.06-2.06.94z\"/><path d=\"M17.41 7.96l-1.37-1.37c-.4-.4-.92-.59-1.43-.59-.52 0-1.04.2-1.43.59L10.3 9.45l-7.72 7.72c-.78.78-.78 2.05 0 2.83L4 21.41c.39.39.9.59 1.41.59.51 0 1.02-.2 1.41-.59l7.78-7.78 2.81-2.81c.8-.78.8-2.07 0-2.86zM5.41 20L4 18.59l7.72-7.72 1.47 1.35L5.41 20z\"/>\n",
              "  </svg>\n",
              "      </button>\n",
              "      \n",
              "  <style>\n",
              "    .colab-df-container {\n",
              "      display:flex;\n",
              "      flex-wrap:wrap;\n",
              "      gap: 12px;\n",
              "    }\n",
              "\n",
              "    .colab-df-convert {\n",
              "      background-color: #E8F0FE;\n",
              "      border: none;\n",
              "      border-radius: 50%;\n",
              "      cursor: pointer;\n",
              "      display: none;\n",
              "      fill: #1967D2;\n",
              "      height: 32px;\n",
              "      padding: 0 0 0 0;\n",
              "      width: 32px;\n",
              "    }\n",
              "\n",
              "    .colab-df-convert:hover {\n",
              "      background-color: #E2EBFA;\n",
              "      box-shadow: 0px 1px 2px rgba(60, 64, 67, 0.3), 0px 1px 3px 1px rgba(60, 64, 67, 0.15);\n",
              "      fill: #174EA6;\n",
              "    }\n",
              "\n",
              "    [theme=dark] .colab-df-convert {\n",
              "      background-color: #3B4455;\n",
              "      fill: #D2E3FC;\n",
              "    }\n",
              "\n",
              "    [theme=dark] .colab-df-convert:hover {\n",
              "      background-color: #434B5C;\n",
              "      box-shadow: 0px 1px 3px 1px rgba(0, 0, 0, 0.15);\n",
              "      filter: drop-shadow(0px 1px 2px rgba(0, 0, 0, 0.3));\n",
              "      fill: #FFFFFF;\n",
              "    }\n",
              "  </style>\n",
              "\n",
              "      <script>\n",
              "        const buttonEl =\n",
              "          document.querySelector('#df-b6f389fe-c303-4619-bc39-ae6ddc49528b button.colab-df-convert');\n",
              "        buttonEl.style.display =\n",
              "          google.colab.kernel.accessAllowed ? 'block' : 'none';\n",
              "\n",
              "        async function convertToInteractive(key) {\n",
              "          const element = document.querySelector('#df-b6f389fe-c303-4619-bc39-ae6ddc49528b');\n",
              "          const dataTable =\n",
              "            await google.colab.kernel.invokeFunction('convertToInteractive',\n",
              "                                                     [key], {});\n",
              "          if (!dataTable) return;\n",
              "\n",
              "          const docLinkHtml = 'Like what you see? Visit the ' +\n",
              "            '<a target=\"_blank\" href=https://colab.research.google.com/notebooks/data_table.ipynb>data table notebook</a>'\n",
              "            + ' to learn more about interactive tables.';\n",
              "          element.innerHTML = '';\n",
              "          dataTable['output_type'] = 'display_data';\n",
              "          await google.colab.output.renderOutput(dataTable, element);\n",
              "          const docLink = document.createElement('div');\n",
              "          docLink.innerHTML = docLinkHtml;\n",
              "          element.appendChild(docLink);\n",
              "        }\n",
              "      </script>\n",
              "    </div>\n",
              "  </div>\n",
              "  "
            ]
          },
          "metadata": {},
          "execution_count": 9
        }
      ]
    },
    {
      "cell_type": "markdown",
      "metadata": {
        "id": "proprietary-ontario"
      },
      "source": [
        "## 행사가별 옵션가격 변화 분석"
      ]
    },
    {
      "cell_type": "code",
      "source": [
        "def 잔존만기(오늘날짜, 만기일자, workday=252):\n",
        "    오늘날짜 = pd.to_datetime(오늘날짜).date()\n",
        "    만기일자 = pd.to_datetime(만기일자).date()\n",
        "    잔존만기일 = (np.busday_count(오늘날짜, 만기일자)+1) / workday   #begindates, enddates\n",
        "    print(잔존만기일 * workday)\n",
        "    return 잔존만기일\n",
        "현재일 = '2018-07-01'\n",
        "만기일 = '2019-03-21'\n",
        "잔존만기일 = 잔존만기(현재일, 만기일, workday=252)"
      ],
      "metadata": {
        "colab": {
          "base_uri": "https://localhost:8080/"
        },
        "id": "AmoFQ3wAzoFC",
        "outputId": "ff381adf-886c-4a69-9c45-38fd117f63c7"
      },
      "execution_count": 10,
      "outputs": [
        {
          "output_type": "stream",
          "name": "stdout",
          "text": [
            "189.0\n"
          ]
        }
      ]
    },
    {
      "cell_type": "code",
      "source": [
        "from scipy import  stats\n",
        "def 옵션이론가(기초자산, 행사가, 진존만기일, 이자율=0.02, 변동율=0.4):\n",
        "    d1 = (  np.log(기초자산 / 행사가)  + (이자율 + 변동율**2 * 0.5) * 진존만기일) / (변동율 * np.sqrt(진존만기일))\n",
        "    d2 = d1 -  (변동율 * np.sqrt(잔존만기일))\n",
        "    # print(d1, d2)\n",
        "    옵션이론가 = 기초자산 * stats.norm.cdf(d1, 0.0, 1.0)  -  행사가 * np.exp(-이자율*진존만기일) * stats.norm.cdf(d2, 0.0, 1.0)\n",
        "    return 옵션이론가"
      ],
      "metadata": {
        "id": "dFI8NhhOzwbj"
      },
      "execution_count": 11,
      "outputs": []
    },
    {
      "cell_type": "code",
      "execution_count": 12,
      "metadata": {
        "id": "meaningful-feeling",
        "outputId": "a8fc7359-7602-499e-e734-ffd0caf06520",
        "colab": {
          "base_uri": "https://localhost:8080/",
          "height": 267
        }
      },
      "outputs": [
        {
          "output_type": "execute_result",
          "data": {
            "text/plain": [
              "     KOSPI200 C255201903  KOSPI200 C265201903  KOSPI200 C275201903  \\\n",
              "200            11.805726             9.957326             8.383863   \n",
              "210            15.201994            12.957214            11.023172   \n",
              "220            19.114351            16.450777            14.130029   \n",
              "230            23.538116            20.440867            17.713918   \n",
              "240            28.460394            24.921895            21.775969   \n",
              "\n",
              "     KOSPI200 C285201903  KOSPI200 C295201903  KOSPI200 C305201903  \\\n",
              "200             7.048633             5.918653             4.964631   \n",
              "210             9.362471             7.940711             6.726686   \n",
              "220            12.115210            10.371547             8.866800   \n",
              "230            15.321977            13.230923            11.408387   \n",
              "240            18.989896            16.531142            14.368089   \n",
              "\n",
              "     KOSPI200 C315201903  KOSPI200 C325201903  KOSPI200 C335201903  \\\n",
              "200             4.160806             3.484716             2.916905   \n",
              "210             5.692404             4.813002             4.066571   \n",
              "220             7.571466             6.458847             5.505010   \n",
              "230             9.824135             8.450289             7.261419   \n",
              "240            12.470563            10.810198             9.360652   \n",
              "\n",
              "     KOSPI200 C345201903  \n",
              "200             2.440629  \n",
              "210             3.433942  \n",
              "220             4.688672  \n",
              "230             6.234538  \n",
              "240             8.097723  "
            ],
            "text/html": [
              "\n",
              "  <div id=\"df-d36fd4c0-c479-41ee-97e1-155ba846b872\">\n",
              "    <div class=\"colab-df-container\">\n",
              "      <div>\n",
              "<style scoped>\n",
              "    .dataframe tbody tr th:only-of-type {\n",
              "        vertical-align: middle;\n",
              "    }\n",
              "\n",
              "    .dataframe tbody tr th {\n",
              "        vertical-align: top;\n",
              "    }\n",
              "\n",
              "    .dataframe thead th {\n",
              "        text-align: right;\n",
              "    }\n",
              "</style>\n",
              "<table border=\"1\" class=\"dataframe\">\n",
              "  <thead>\n",
              "    <tr style=\"text-align: right;\">\n",
              "      <th></th>\n",
              "      <th>KOSPI200 C255201903</th>\n",
              "      <th>KOSPI200 C265201903</th>\n",
              "      <th>KOSPI200 C275201903</th>\n",
              "      <th>KOSPI200 C285201903</th>\n",
              "      <th>KOSPI200 C295201903</th>\n",
              "      <th>KOSPI200 C305201903</th>\n",
              "      <th>KOSPI200 C315201903</th>\n",
              "      <th>KOSPI200 C325201903</th>\n",
              "      <th>KOSPI200 C335201903</th>\n",
              "      <th>KOSPI200 C345201903</th>\n",
              "    </tr>\n",
              "  </thead>\n",
              "  <tbody>\n",
              "    <tr>\n",
              "      <th>200</th>\n",
              "      <td>11.805726</td>\n",
              "      <td>9.957326</td>\n",
              "      <td>8.383863</td>\n",
              "      <td>7.048633</td>\n",
              "      <td>5.918653</td>\n",
              "      <td>4.964631</td>\n",
              "      <td>4.160806</td>\n",
              "      <td>3.484716</td>\n",
              "      <td>2.916905</td>\n",
              "      <td>2.440629</td>\n",
              "    </tr>\n",
              "    <tr>\n",
              "      <th>210</th>\n",
              "      <td>15.201994</td>\n",
              "      <td>12.957214</td>\n",
              "      <td>11.023172</td>\n",
              "      <td>9.362471</td>\n",
              "      <td>7.940711</td>\n",
              "      <td>6.726686</td>\n",
              "      <td>5.692404</td>\n",
              "      <td>4.813002</td>\n",
              "      <td>4.066571</td>\n",
              "      <td>3.433942</td>\n",
              "    </tr>\n",
              "    <tr>\n",
              "      <th>220</th>\n",
              "      <td>19.114351</td>\n",
              "      <td>16.450777</td>\n",
              "      <td>14.130029</td>\n",
              "      <td>12.115210</td>\n",
              "      <td>10.371547</td>\n",
              "      <td>8.866800</td>\n",
              "      <td>7.571466</td>\n",
              "      <td>6.458847</td>\n",
              "      <td>5.505010</td>\n",
              "      <td>4.688672</td>\n",
              "    </tr>\n",
              "    <tr>\n",
              "      <th>230</th>\n",
              "      <td>23.538116</td>\n",
              "      <td>20.440867</td>\n",
              "      <td>17.713918</td>\n",
              "      <td>15.321977</td>\n",
              "      <td>13.230923</td>\n",
              "      <td>11.408387</td>\n",
              "      <td>9.824135</td>\n",
              "      <td>8.450289</td>\n",
              "      <td>7.261419</td>\n",
              "      <td>6.234538</td>\n",
              "    </tr>\n",
              "    <tr>\n",
              "      <th>240</th>\n",
              "      <td>28.460394</td>\n",
              "      <td>24.921895</td>\n",
              "      <td>21.775969</td>\n",
              "      <td>18.989896</td>\n",
              "      <td>16.531142</td>\n",
              "      <td>14.368089</td>\n",
              "      <td>12.470563</td>\n",
              "      <td>10.810198</td>\n",
              "      <td>9.360652</td>\n",
              "      <td>8.097723</td>\n",
              "    </tr>\n",
              "  </tbody>\n",
              "</table>\n",
              "</div>\n",
              "      <button class=\"colab-df-convert\" onclick=\"convertToInteractive('df-d36fd4c0-c479-41ee-97e1-155ba846b872')\"\n",
              "              title=\"Convert this dataframe to an interactive table.\"\n",
              "              style=\"display:none;\">\n",
              "        \n",
              "  <svg xmlns=\"http://www.w3.org/2000/svg\" height=\"24px\"viewBox=\"0 0 24 24\"\n",
              "       width=\"24px\">\n",
              "    <path d=\"M0 0h24v24H0V0z\" fill=\"none\"/>\n",
              "    <path d=\"M18.56 5.44l.94 2.06.94-2.06 2.06-.94-2.06-.94-.94-2.06-.94 2.06-2.06.94zm-11 1L8.5 8.5l.94-2.06 2.06-.94-2.06-.94L8.5 2.5l-.94 2.06-2.06.94zm10 10l.94 2.06.94-2.06 2.06-.94-2.06-.94-.94-2.06-.94 2.06-2.06.94z\"/><path d=\"M17.41 7.96l-1.37-1.37c-.4-.4-.92-.59-1.43-.59-.52 0-1.04.2-1.43.59L10.3 9.45l-7.72 7.72c-.78.78-.78 2.05 0 2.83L4 21.41c.39.39.9.59 1.41.59.51 0 1.02-.2 1.41-.59l7.78-7.78 2.81-2.81c.8-.78.8-2.07 0-2.86zM5.41 20L4 18.59l7.72-7.72 1.47 1.35L5.41 20z\"/>\n",
              "  </svg>\n",
              "      </button>\n",
              "      \n",
              "  <style>\n",
              "    .colab-df-container {\n",
              "      display:flex;\n",
              "      flex-wrap:wrap;\n",
              "      gap: 12px;\n",
              "    }\n",
              "\n",
              "    .colab-df-convert {\n",
              "      background-color: #E8F0FE;\n",
              "      border: none;\n",
              "      border-radius: 50%;\n",
              "      cursor: pointer;\n",
              "      display: none;\n",
              "      fill: #1967D2;\n",
              "      height: 32px;\n",
              "      padding: 0 0 0 0;\n",
              "      width: 32px;\n",
              "    }\n",
              "\n",
              "    .colab-df-convert:hover {\n",
              "      background-color: #E2EBFA;\n",
              "      box-shadow: 0px 1px 2px rgba(60, 64, 67, 0.3), 0px 1px 3px 1px rgba(60, 64, 67, 0.15);\n",
              "      fill: #174EA6;\n",
              "    }\n",
              "\n",
              "    [theme=dark] .colab-df-convert {\n",
              "      background-color: #3B4455;\n",
              "      fill: #D2E3FC;\n",
              "    }\n",
              "\n",
              "    [theme=dark] .colab-df-convert:hover {\n",
              "      background-color: #434B5C;\n",
              "      box-shadow: 0px 1px 3px 1px rgba(0, 0, 0, 0.15);\n",
              "      filter: drop-shadow(0px 1px 2px rgba(0, 0, 0, 0.3));\n",
              "      fill: #FFFFFF;\n",
              "    }\n",
              "  </style>\n",
              "\n",
              "      <script>\n",
              "        const buttonEl =\n",
              "          document.querySelector('#df-d36fd4c0-c479-41ee-97e1-155ba846b872 button.colab-df-convert');\n",
              "        buttonEl.style.display =\n",
              "          google.colab.kernel.accessAllowed ? 'block' : 'none';\n",
              "\n",
              "        async function convertToInteractive(key) {\n",
              "          const element = document.querySelector('#df-d36fd4c0-c479-41ee-97e1-155ba846b872');\n",
              "          const dataTable =\n",
              "            await google.colab.kernel.invokeFunction('convertToInteractive',\n",
              "                                                     [key], {});\n",
              "          if (!dataTable) return;\n",
              "\n",
              "          const docLinkHtml = 'Like what you see? Visit the ' +\n",
              "            '<a target=\"_blank\" href=https://colab.research.google.com/notebooks/data_table.ipynb>data table notebook</a>'\n",
              "            + ' to learn more about interactive tables.';\n",
              "          element.innerHTML = '';\n",
              "          dataTable['output_type'] = 'display_data';\n",
              "          await google.colab.output.renderOutput(dataTable, element);\n",
              "          const docLink = document.createElement('div');\n",
              "          docLink.innerHTML = docLinkHtml;\n",
              "          element.appendChild(docLink);\n",
              "        }\n",
              "      </script>\n",
              "    </div>\n",
              "  </div>\n",
              "  "
            ]
          },
          "metadata": {},
          "execution_count": 12
        }
      ],
      "source": [
        "기초자산S = np.arange(200,400, 10)    #기초자산==현물가격\n",
        "# 기초자산S = np.arange(351,551, 10)  #기초자산==현물가격\n",
        "행사가K = np.arange(255,355, 10)      #행사가 옵션상품 10개 출시\n",
        "\n",
        "kdic = {}\n",
        "for k in 행사가K:\n",
        "    sdic = {}\n",
        "    for s in 기초자산S:\n",
        "        이론옵션가격 = 옵션이론가(s, k, 잔존만기일)   #기초자산, 행사가\n",
        "        sdic[s] = 이론옵션가격\n",
        "    kdic[\"KOSPI200 C\"+str(k)+\"201903\"] = pd.Series(sdic)\n",
        "# print(kdic)    \n",
        "df = pd.DataFrame(kdic)\n",
        "df.head()"
      ]
    },
    {
      "cell_type": "code",
      "execution_count": 13,
      "metadata": {
        "id": "american-costume",
        "outputId": "fb8139a2-bcf6-4d3b-dffe-3f846e427820",
        "colab": {
          "base_uri": "https://localhost:8080/",
          "height": 285
        }
      },
      "outputs": [
        {
          "output_type": "display_data",
          "data": {
            "text/plain": [
              "<Figure size 1152x288 with 1 Axes>"
            ],
            "image/png": "[encoded data removed]"
          },
          "metadata": {
            "needs_background": "light"
          }
        }
      ],
      "source": [
        "df.plot(figsize=(16,4))\n",
        "plt.legend(loc=\"best\")\n",
        "plt.title(\"기초자산 S, 행사가격 X\")\n",
        "plt.show()"
      ]
    },
    {
      "cell_type": "markdown",
      "metadata": {
        "id": "fiscal-nature"
      },
      "source": [
        "## 민감도 지표\n",
        "* ref : https://www.quantconnect.com/tutorials/introduction-to-options/the-greek-letters"
      ]
    },
    {
      "cell_type": "markdown",
      "metadata": {
        "id": "announced-blend"
      },
      "source": [
        "<img src='https://mblogthumb-phinf.pstatic.net/20120427_193/chunjein_1335500858643DtEqp_GIF/20-1.gif?type=w2' width=400 height=300>"
      ]
    },
    {
      "cell_type": "markdown",
      "metadata": {
        "id": "permanent-general"
      },
      "source": [
        "### 델타 (△)\n",
        "* 기초 자산 가격에 대한 옵션 가격의 변화율\n",
        "* $ delta(call)= ∂c∂S=e−q(T−t)N(d1) $"
      ]
    },
    {
      "cell_type": "code",
      "execution_count": null,
      "metadata": {
        "id": "comprehensive-catholic"
      },
      "outputs": [],
      "source": [
        "# 내재가치 계산 패키지\n",
        "# ! pip install calcbsimpvol  "
      ]
    },
    {
      "cell_type": "code",
      "execution_count": 15,
      "metadata": {
        "id": "domestic-rochester"
      },
      "outputs": [],
      "source": [
        "import numpy as np\n",
        "from scipy.stats import norm\n",
        "from calcbsimpvol import calcbsimpvol\n",
        "import plotly.graph_objs as go\n",
        "# from plotly.offline import download_plotlyjs, init_notebook_mode, iplot\n",
        "# init_notebook_mode(connected=False)"
      ]
    },
    {
      "cell_type": "code",
      "execution_count": 16,
      "metadata": {
        "id": "radio-noise",
        "outputId": "c4c611d1-dce5-4c6e-c242-9612a4d1a390",
        "colab": {
          "base_uri": "https://localhost:8080/"
        }
      },
      "outputs": [
        {
          "output_type": "stream",
          "name": "stdout",
          "text": [
            "189.0\n",
            "0.75\n"
          ]
        }
      ],
      "source": [
        "기초자산 = np.arange(200,400, 10)    #기초자산==현물가격\n",
        "행사가   = np.arange(255,355, 10)      #행사가 옵션상품 10개 출시\n",
        "현재일   = '2018-07-01'\n",
        "만기일   = '2019-03-21'\n",
        "잔존만기일 = 잔존만기(현재일, 만기일, workday=252)\n",
        "print(잔존만기일)  "
      ]
    },
    {
      "cell_type": "code",
      "execution_count": 17,
      "metadata": {
        "id": "amino-landscape"
      },
      "outputs": [],
      "source": [
        "def my_delta(기초자산, 행사가, 잔존만기일, 이자율=0.02, 변동율=0.4,Type='call'):\n",
        "    d1 = (  np.log(기초자산 / 행사가)  + (이자율 + 변동율**2 * 0.5) * 잔존만기일) / (변동율 * np.sqrt(잔존만기일))   \n",
        "    if Type == 'call':\n",
        "        delta = stats.norm.cdf(d1, 0.0, 1.0)\n",
        "    elif Type == 'put':\n",
        "        delta = stats.norm.cdf(d1, 0.0, 1.0) - 1\n",
        "    return delta"
      ]
    },
    {
      "cell_type": "code",
      "execution_count": 27,
      "metadata": {
        "id": "approved-wildlife",
        "outputId": "f8bf6bdd-4584-418c-c8ac-82589081b97a",
        "colab": {
          "base_uri": "https://localhost:8080/",
          "height": 266
        }
      },
      "outputs": [
        {
          "output_type": "execute_result",
          "data": {
            "text/plain": [
              "Text(0.5, 0.92, '델타 곡면')"
            ]
          },
          "metadata": {},
          "execution_count": 27
        },
        {
          "output_type": "display_data",
          "data": {
            "text/plain": [
              "<Figure size 432x288 with 1 Axes>"
            ],
            "image/png": "[encoded data removed]"
          },
          "metadata": {
            "needs_background": "light"
          }
        }
      ],
      "source": [
        "K = np.arange(300, 350, 10)                      #행사가\n",
        "S = np.arange(200, 400, 10)                      #기초자산\n",
        "K, S = np.meshgrid(K, S)\n",
        "#Z = my_delta(S, K, 0.75, 0.02, 0.4, Type='call') # Delta (행사가, 기초자산)\n",
        "\n",
        "fig = plt.figure()\n",
        "ax = fig.add_subplot(111, projection='3d')\n",
        "\n",
        "surf = ax.plot(S, K)\n",
        "\n",
        "ax.set_xlabel('기초자산(Underlying)')\n",
        "ax.set_ylabel('행사가격(Strkie)')\n",
        "#ax.set_zlabel('델타(Delta)')\n",
        "ax.set_title('델타 곡면')\n",
        "\n",
        "#fig.colorbar(surf, shrink=0.5, aspect=5)"
      ]
    },
    {
      "cell_type": "code",
      "execution_count": null,
      "metadata": {
        "id": "political-western"
      },
      "outputs": [],
      "source": [
        "# import plotly.graph_objects as go\n",
        "# from plotly.subplots import make_subplots\n",
        "\n",
        "# fig = go.Figure(data=[go.Surface(x=S,y=K,z=Z )])\n",
        "\n",
        "# fig.update_layout(title='call', autosize=False,\n",
        "#                   width=500, height=500,\n",
        "#                   margin=dict(l=65, r=50, b=65, t=90))\n",
        "\n",
        "# fig.show()\n"
      ]
    },
    {
      "cell_type": "markdown",
      "metadata": {
        "tags": [],
        "id": "geographic-circus"
      },
      "source": [
        "### 감마 (Γ)\n",
        "* 기초 자산 가격에 대한 포트폴리오 델타의 변화율"
      ]
    },
    {
      "cell_type": "code",
      "execution_count": null,
      "metadata": {
        "id": "designed-stanley"
      },
      "outputs": [],
      "source": [
        "def ndx(x):\n",
        "    return ( np.exp( -1 * x**2 * 0.5 ) / np.sqrt(2 * np.pi) )\n",
        "def my_gamma(기초자산, 행사가, 진존만기일, 이자율=0.02, 변동율=0.4):\n",
        "    d1 = (  np.log(기초자산 / 행사가)  + (이자율 + 변동율**2 * 0.5) * 진존만기일) / (변동율 * np.sqrt(진존만기일))   \n",
        "    gamma = ( ndx(d1) ) / ( S * sigma * np.sqrt(ttm) )\n",
        "    return gamma"
      ]
    },
    {
      "cell_type": "markdown",
      "metadata": {
        "id": "accepting-revelation"
      },
      "source": [
        "### Vega ($V$)\n",
        "* 기초 자산의 변동성에 대한 옵션 가치의 변화율"
      ]
    },
    {
      "cell_type": "code",
      "execution_count": null,
      "metadata": {
        "id": "current-necessity"
      },
      "outputs": [],
      "source": [
        "def my_vega(기초자산, 행사가, 잔존만기일, 이자율=0.02, 변동율=0.4):    \n",
        "    d1 = (  np.log(기초자산 / 행사가)  + (이자율 + 변동율**2 * 0.5) * 진존만기일) / (변동율 * np.sqrt(진존만기일))   \n",
        "    d2 = d1 -  (변동율 * np.sqrt(잔존만기일))\n",
        "    vega =  기초자산 * np.sqrt(잔존만기일) * ndx(d1) \n",
        "    return vega"
      ]
    },
    {
      "cell_type": "code",
      "execution_count": null,
      "metadata": {
        "id": "superb-funds"
      },
      "outputs": [],
      "source": [
        ""
      ]
    },
    {
      "cell_type": "markdown",
      "metadata": {
        "tags": [],
        "id": "sophisticated-spider"
      },
      "source": [
        "### Seta ($\\theta$)\n",
        "* 시간 경과에 따른 옵션 가치의 변화율"
      ]
    },
    {
      "cell_type": "code",
      "execution_count": null,
      "metadata": {
        "id": "divided-fifty"
      },
      "outputs": [],
      "source": [
        "def my_theta(기초자산, 행사가, 잔존만기일, 이자율=0.02, 변동율=0.4):\n",
        "    d1 = (  np.log(기초자산 / 행사가)  + (이자율 + 변동율**2 * 0.5) * 진존만기일) / (변동율 * np.sqrt(진존만기일))   \n",
        "    d2 = d1 -  (변동율 * np.sqrt(잔존만기일))\n",
        "    #theta = -1 * ( ( S * ndx(d1) * sigma ) / ( 2 * np.sqrt(ttm)) ) - r * K * np.exp(-r*ttm) * stats.norm.cdf(d2, 0.0, 1.0)\n",
        "   \n",
        "    if Type == 'call':\n",
        "        theta = -1 * ( ( 기초자산 * ndx(d1) * 변동율 ) / ( 2 * np.sqrt(잔존만기일)) ) - 변동률 * 행사가 * np.exp(-변동률*잔존만기일) * stats.norm.cdf(d2, 0.0, 1.0)\n",
        "    elif Type == 'put':\n",
        "        theta = -1 * ( ( 기초자산 * ndx(d1) * 변동율 ) / ( 2 * np.sqrt(잔존만기일)) ) + 변동률 * 행사가 * np.exp(-변동률*잔존만기일) * stats.norm.cdf(-d2, 0.0, 1.0)       \n",
        "    return theta"
      ]
    },
    {
      "cell_type": "code",
      "execution_count": null,
      "metadata": {
        "id": "economic-paraguay"
      },
      "outputs": [],
      "source": [
        ""
      ]
    },
    {
      "cell_type": "markdown",
      "metadata": {
        "tags": [],
        "id": "greenhouse-english"
      },
      "source": [
        "### Rho ( $\\rho $)\n",
        "* 이자율에 대한 파생상품 가치의 변화율"
      ]
    },
    {
      "cell_type": "code",
      "execution_count": null,
      "metadata": {
        "id": "suited-storage"
      },
      "outputs": [],
      "source": [
        "def my_rho(기초자산, 행사가, 기준일, 만기일, 이자율=0.02, 변동율=0.4, ):\n",
        "    if Type == 'call':\n",
        "        rho = 행사가(만기일 - 기준일) * np.exp(-변동률*(만기일-기준일)) * stats.norm.cdf(d2, 0.0, 1.0)\n",
        "    elif Type == 'put':\n",
        "        rho = -1 * 행사가(만기일 - 기준일) * np.exp(-변동률*(만기일-기준일)) * stats.norm.cdf(-d2, 0.0, 1.0)\n",
        "    return rho"
      ]
    },
    {
      "cell_type": "code",
      "execution_count": null,
      "metadata": {
        "id": "successful-merchandise"
      },
      "outputs": [],
      "source": [
        ""
      ]
    }
  ]
}