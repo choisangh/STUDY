{
  "nbformat": 4,
  "nbformat_minor": 0,
  "metadata": {
    "colab": {
      "name": "금융 공학 3일차.ipynb",
      "provenance": [],
      "collapsed_sections": [],
      "toc_visible": true,
      "authorship_tag": "ABX9TyOsJdviBwJwHICU4cucY53z",
      "include_colab_link": true
    },
    "kernelspec": {
      "name": "python3",
      "display_name": "Python 3"
    },
    "language_info": {
      "name": "python"
    }
  },
  "cells": [
    {
      "cell_type": "markdown",
      "metadata": {
        "id": "view-in-github",
        "colab_type": "text"
      },
      "source": [
        "<a href=\"https://colab.research.google.com/github/choisangh/STUDY/blob/main/finance/%EA%B8%88%EC%9C%B5_%EA%B3%B5%ED%95%99_3%EC%9D%BC%EC%B0%A8.ipynb\" target=\"_parent\"><img src=\"https://colab.research.google.com/assets/colab-badge.svg\" alt=\"Open In Colab\"/></a>"
      ]
    },
    {
      "cell_type": "markdown",
      "source": [
        "# 외환시장"
      ],
      "metadata": {
        "id": "e3Pg5lleEbYf"
      }
    },
    {
      "cell_type": "markdown",
      "source": [
        "<img  width=\"700\" height=\"400\" src=\"https://blog.kakaocdn.net/dn/kZrd4/btrwtB9fHyq/fyXSgsMCDCQKatui6mzYSk/img.png\" /><br>"
      ],
      "metadata": {
        "id": "iFafzfUjDUPJ"
      }
    },
    {
      "cell_type": "markdown",
      "source": [
        "# 외환보유액"
      ],
      "metadata": {
        "id": "2LGVKWqZEXCN"
      }
    },
    {
      "cell_type": "markdown",
      "source": [
        "<img  width=\"700\" height=\"400\" src=\"https://blog.kakaocdn.net/dn/K5kaH/btrwtZb5Jlv/zay1TFfa4g7akkSgVIecfK/img.png\" /><br>"
      ],
      "metadata": {
        "id": "vX09UEtdDW1G"
      }
    },
    {
      "cell_type": "markdown",
      "source": [
        "* 대한민국의 원화는 기축통화가 아니기 때문에 외환 보유가 필요하다.\n",
        "* 외환보유는 환율 방어 목적"
      ],
      "metadata": {
        "id": "mtCyQ2XNDbgW"
      }
    },
    {
      "cell_type": "markdown",
      "source": [
        "# FRB : 미연준"
      ],
      "metadata": {
        "id": "bJm9ibi3EgB1"
      }
    },
    {
      "cell_type": "markdown",
      "source": [
        "<img  width=\"700\" height=\"400\" src=\"https://blog.kakaocdn.net/dn/TqoSp/btrwqNjdwmF/TxNFUlkf1IL19FZz0Fx8F1/img.png\" /><br>"
      ],
      "metadata": {
        "id": "5-qBk4f2D3Qx"
      }
    },
    {
      "cell_type": "markdown",
      "source": [
        "<img  width=\"700\" height=\"400\" src=\"https://blog.kakaocdn.net/dn/bgwAsW/btrwrHiLaA5/mOmERLjKWLs4DPXW4Jv1e0/img.png\" /><br>"
      ],
      "metadata": {
        "id": "WSY_aFLAEG_e"
      }
    },
    {
      "cell_type": "markdown",
      "source": [
        "* 대한민국과 차이점은 주식 거래에 대한 신용 규제 까지 중앙은행이 한다는 점 (대한민국의 경우 krx가 관리)"
      ],
      "metadata": {
        "id": "F3VUkDR9FFnX"
      }
    },
    {
      "cell_type": "markdown",
      "source": [
        "# 통화 스왑"
      ],
      "metadata": {
        "id": "N7y0BKJzFRIe"
      }
    },
    {
      "cell_type": "markdown",
      "source": [
        "<img  width=\"700\" height=\"400\" src=\"https://blog.kakaocdn.net/dn/bMCMra/btrwnCOUSg6/C7ZUHeYkOwK7cK0ZMSzmk0/img.png\" /><br>"
      ],
      "metadata": {
        "id": "cukbmn3cFQGW"
      }
    },
    {
      "cell_type": "markdown",
      "source": [
        "* 현재 환율에 따라 통화 교환 계약\n",
        "* 일정 기간이 지나고 환율이 변해도 계약때 정한 환율에 따라 교환"
      ],
      "metadata": {
        "id": "vorDkVx4FS4X"
      }
    },
    {
      "cell_type": "markdown",
      "source": [
        "<img  width=\"700\" height=\"400\" src=\"https://blog.kakaocdn.net/dn/cjZRNt/btrwm81xYsD/tRZKnFtzBt83Fz8Zze2OKk/img.png\" /><br>"
      ],
      "metadata": {
        "id": "kx-Bh8BmFlvX"
      }
    },
    {
      "cell_type": "markdown",
      "source": [
        "<img  width=\"700\" height=\"400\" src=\"https://blog.kakaocdn.net/dn/b7kj04/btrwn5J3Lci/MNeigzPL7a41V4iGIVuEqk/img.png\" /><br>"
      ],
      "metadata": {
        "id": "XqDqHLftF8dW"
      }
    },
    {
      "cell_type": "markdown",
      "source": [
        "* 보통 한국은행을 통해 예산을 추가 증축해서 외환을 당겨옴"
      ],
      "metadata": {
        "id": "_8PyWh8RGN-2"
      }
    },
    {
      "cell_type": "markdown",
      "source": [
        "<img  width=\"700\" height=\"400\" src=\"https://blog.kakaocdn.net/dn/byKmpN/btrwremdZoG/K2GECvPkHFGG1xIDaheAs1/img.png\" /><br>"
      ],
      "metadata": {
        "id": "UsZ5mZ-hJ5_e"
      }
    },
    {
      "cell_type": "markdown",
      "source": [
        "* IMF 사태는 환율방어를 하지 못해서 발생한 사건"
      ],
      "metadata": {
        "id": "JaT1KrlcKDQf"
      }
    },
    {
      "cell_type": "markdown",
      "source": [
        "# 환율"
      ],
      "metadata": {
        "id": "IHPKRGI-RsdI"
      }
    },
    {
      "cell_type": "markdown",
      "source": [
        "<img  width=\"700\" height=\"400\" src=\"https://blog.kakaocdn.net/dn/CRnTS/btrwpjg06qP/Zbh8jFNpusIdO8iJm3ATXk/img.png\" /><br>"
      ],
      "metadata": {
        "id": "rjEKrrUhKMtB"
      }
    },
    {
      "cell_type": "markdown",
      "source": [
        "* 환율 : 돈을 바꾸는 비율\n",
        "* = 대상국의 통화를 자국화폐로 바꿀 수 있는 비율\n",
        "\n"
      ],
      "metadata": {
        "id": "GWl3-b7MKRGh"
      }
    },
    {
      "cell_type": "markdown",
      "source": [
        "<img  height=\"300\" src=\"https://blog.kakaocdn.net/dn/eeedof/btrwqNp4NBS/vXESWrg34HWMhClV9xi0Sk/img.png\" /><br>"
      ],
      "metadata": {
        "id": "26mBMfPIKy-n"
      }
    },
    {
      "cell_type": "markdown",
      "source": [
        "* 환율이 올라가면 원화가치가 내려감\n",
        "* 환율이 내려가면 원화가치가 올라감 (trade off)\n",
        "* 환율이 수출, 수입, 국내관광, 외국관광에 영향을 줌\n",
        "* 환율이 너무 올랐으면 기준금리를 올려서 시중 통화량을 줄인다.\n",
        "* 환율이 너무 내렸으면 기준금리를 낮춰서 시중 통화량을 늘린다.\n"
      ],
      "metadata": {
        "id": "7YQ1QkNWLzQ5"
      }
    },
    {
      "cell_type": "markdown",
      "source": [
        "<img  width=\"700\" height=\"400\" src=\"https://blog.kakaocdn.net/dn/blHLD4/btrwm90u8Aw/rspnEFhfRO9IWniHav2Cgk/img.png\" /><br>"
      ],
      "metadata": {
        "id": "FP0Z4Rp3PXbx"
      }
    },
    {
      "cell_type": "markdown",
      "source": [
        "* 환율 방어 : 환율이 극도로 상승/하락할때 안정화시키는 것\n",
        "* 원화가치가 내려가면 외국인 투자자들이 떠나기 시작-> 원화/달러 교환 -> 시중에 달러 부족 -> 기준금리 올려서 원화 통화량 낮춤/외환보유액을 통해 달러 통화량 올림\n",
        "* 원화가치 상승 시 기준금리를 내리고 / 외환보유고에서 외화 회수\n",
        "* 환율은 너무 올라도 안좋고, 너무 내려도 안좋음(수출, 수입 trade off)\n",
        "* 따라서 원화/외화를 적절하게 조절해야함"
      ],
      "metadata": {
        "id": "Hh3VWEoHPZsZ"
      }
    },
    {
      "cell_type": "markdown",
      "source": [
        "<img  height=\"300\" src=\"https://blog.kakaocdn.net/dn/m4Bwd/btrwIh3paaa/XPWGXgIiaIQJlXCkK3s2i0/img.png\" /><br>"
      ],
      "metadata": {
        "id": "BBKVzqjRZp6r"
      }
    },
    {
      "cell_type": "markdown",
      "source": [
        "* 양적 완화 : 중앙은행이 통화를 시중에 직접 공급해 경기를 부양하는 통화정책\n",
        "* 양적 긴축 : 시중 통화량을 줄여서 경제활동을 억제하고 경기의 과열을 방지하려는 통화 정책\n",
        "* 테이퍼링 : 연방준비제도(Fed)가 양적완화 정책의 규모를 점진적으로 축소해나가는 것"
      ],
      "metadata": {
        "id": "35_opXchZug7"
      }
    },
    {
      "cell_type": "markdown",
      "source": [
        "<img  width=\"700\" height=\"400\" src=\"https://blog.kakaocdn.net/dn/bWgGR0/btrwDOAJq14/M7TfDp9zoyOiawknwOygwk/img.png\" /><br>"
      ],
      "metadata": {
        "id": "v-gSmyCzcvDp"
      }
    },
    {
      "cell_type": "markdown",
      "source": [
        "* 환율에 따라서 기준금리 조정이 들어가고 이는 수입/수출, 주가/채권, 물가, 유가 등 경제 전반에 영향을 미침"
      ],
      "metadata": {
        "id": "4lWYKU0jetDD"
      }
    },
    {
      "cell_type": "markdown",
      "source": [
        "# 물가"
      ],
      "metadata": {
        "id": "wRUHJhsbCnLd"
      }
    },
    {
      "cell_type": "markdown",
      "source": [
        "<img  width=\"700\" height=\"400\" src=\"https://blog.kakaocdn.net/dn/Qimy5/btrwJWSul7B/YBUiX0W3cDXO22f6Yd7ky1/img.png\" /><br>"
      ],
      "metadata": {
        "id": "FunDWXe1Coae"
      }
    },
    {
      "cell_type": "markdown",
      "source": [
        "<img  width=\"700\" height=\"400\" src=\"https://blog.kakaocdn.net/dn/ce39Xb/btrwreNJC0V/0eEvRAkGKMXT2EtqmIbWc1/img.png\" /><br>"
      ],
      "metadata": {
        "id": "krqwjtePDFzn"
      }
    },
    {
      "cell_type": "markdown",
      "source": [
        "<img  width=\"700\" height=\"400\" src=\"https://blog.kakaocdn.net/dn/cmEiRX/btrwwsyTWPL/tt6SKfHzisRDtJ0ajGNyhK/img.png\" /><br>"
      ],
      "metadata": {
        "id": "unYxdBxJDREF"
      }
    },
    {
      "cell_type": "markdown",
      "source": [
        "* 생산자물가지수 : 국내 생산하는 모든 상품, 서비스 (기본분류/특수분류)\n",
        "* 국내공급물가지수 : 원재료/중간재/최종재/생산재 \n",
        "* 총산출물가지수 : 생산자물가지수 + 수출물가지수"
      ],
      "metadata": {
        "id": "9A1clxolEkTI"
      }
    },
    {
      "cell_type": "markdown",
      "source": [
        "<img  width=\"700\" height=\"400\" src=\"https://blog.kakaocdn.net/dn/mQOex/btrwJVlKpEJ/40nzNpFuxjUyHYYuoDf9t0/img.png\" /><br>"
      ],
      "metadata": {
        "id": "BtUX0TnoEevO"
      }
    },
    {
      "cell_type": "markdown",
      "source": [
        "* 소비자물가지수 : 가계 소비 재화/서비스 평균 가격을 측정한 지수 (주택가격 제외)\n",
        "* 소비자물가지수는 크게 변동되었을때 정부에서 환매 등의 방식을 이용해 2%로 조정 -> 통계 무의미\n",
        "* 통계적 분석에 활용 시 생산자물가지수를 활용"
      ],
      "metadata": {
        "id": "Ib2dj3aaEmVe"
      }
    },
    {
      "cell_type": "markdown",
      "source": [
        "<img  width=\"700\" height=\"400\" src=\"https://blog.kakaocdn.net/dn/dDLgL6/btrwwtdyTju/wZit0Y5iYGeqWlvRtxYxv0/img.png\" /><br>"
      ],
      "metadata": {
        "id": "gJi4qTC8FKpu"
      }
    },
    {
      "cell_type": "markdown",
      "source": [
        "<img  width=\"700\" height=\"400\" src=\"https://blog.kakaocdn.net/dn/nSdXU/btrwJWycp61/KOr2N3Ei3bz47BTz0LqShk/img.png\" /><br>\n",
        "* 유가 확인시 '석탄및석유제품'\n",
        "* 소비자 물가에 큰 영향을 미치는 항목 <석탄 및 석유, 철강>"
      ],
      "metadata": {
        "id": "8UGr25wIFTMv"
      }
    },
    {
      "cell_type": "markdown",
      "source": [
        "# 환율과 기준금리\n",
        "* 데이터 : ecos\n",
        "* 환율 : 8.8.2.1 주요국통화의 대원화 환율 통계자료\n",
        "* 기준금리 : 2.6.한국은행 기준금리 및 여수신금리\t\n"
      ],
      "metadata": {
        "id": "Kn374ICTBKcW"
      }
    },
    {
      "cell_type": "markdown",
      "source": [
        "## 환율(원/달러)변화에 따른 한국은행 기준금리\n",
        "<br><img  width=\"800\" src=\"https://blog.kakaocdn.net/dn/xwcbZ/btrwGj8QpJa/hMJLkD5zAnD0lSMkQKJBG0/img.png\" /><br>\n",
        "<pre><font color=red><b>\n",
        "* 환율상승 --> 원화가치 하락  --> 외국의 투자자본이 빠져나간다 --> 통화량증대 --> 기준금리 인하\n",
        "           --> 외화가치 상승"
      ],
      "metadata": {
        "id": "q13QkJLCNjPG"
      }
    },
    {
      "cell_type": "markdown",
      "source": [
        "#환율과 국내 시장 주가지수"
      ],
      "metadata": {
        "id": "82V1KSEABQ29"
      }
    },
    {
      "cell_type": "markdown",
      "source": [
        "* 데이터 : ecos\n",
        "* 환율 : 8.8.2.1 주요국통화의 대원화 환율 통계자료\n",
        "* 외국인 순매수(거래 대금) : 6.1.3 투자자별 주식거래\t\n",
        "* KOSPI 종가 : 6.1.2 주식거래 및 주가지수\t\n",
        "* KOSDAQ 종가 : 6.1.2 주식거래 및 주가지수\t\n"
      ],
      "metadata": {
        "id": "XqwejCSdL6UA"
      }
    },
    {
      "cell_type": "markdown",
      "source": [
        "## 환율(원/달러)변화에 따른 외국인 국내주식시장 순매수 거래대금\n",
        "<img  width=\"800\" src=\"https://blog.kakaocdn.net/dn/bDcyWb/btrwJV64Sxx/IOagEchKGkRE7jSilagBNK/img.png\" /><br>\n",
        "<pre><font color=red><b>\n",
        "* 환율상승 --> 원화가치 하락  --> 외국의 투자자본이 빠져나간다 (주식매도:원화를 달러로 교환)"
      ],
      "metadata": {
        "id": "UEYJkjGVJrnB"
      }
    },
    {
      "cell_type": "markdown",
      "source": [
        "##환율(원/달러)변화에 따른 KOSPI 종가\n",
        "<img  width=\"800\" src=\"https://blog.kakaocdn.net/dn/og36k/btrwtY55eEC/DBXh8BnO2Xqs8u0VNQG050/img.png\" /><br>\n",
        "<pre><font color=red><b>\n",
        "* 환율상승 --> 원화가치 하락  --> 외국의 투자자본이 빠져나간다 (주식매도:원화를 달러로 교환) --> 주가하락\n",
        "           --> 외화가치 상승"
      ],
      "metadata": {
        "id": "c566-Vs6J59n"
      }
    },
    {
      "cell_type": "markdown",
      "source": [
        "##환율(원/달러)변화에 따른 KOSDAQ 종가\n",
        "<img  width=\"800\" src=\"https://blog.kakaocdn.net/dn/pJV9w/btrwwsMxu0L/C293xgqfGQJNQ4r0lSIIR0/img.png\" /><br>\n",
        "<pre><font color=red><b>\n",
        "* 환율상승 --> 원화가치 하락  --> 외국의 투자자본이 빠져나간다 (주식매도:원화를 달러로 교환) --> 주가하락\n",
        "           --> 외화가치 상승"
      ],
      "metadata": {
        "id": "sK3rWOLcK-o2"
      }
    },
    {
      "cell_type": "markdown",
      "source": [
        "# 환율과 국고채 금리(5년)"
      ],
      "metadata": {
        "id": "O9bfZFIICSBh"
      }
    },
    {
      "cell_type": "markdown",
      "source": [
        "* 데이터 : ecos\n",
        "* 환율 : 8.8.2.1 주요국통화의 대원화 환율 통계자료\n",
        "* 국고채(5년) : 4.1.2 시장금리(월,분기,년)\t\t\n"
      ],
      "metadata": {
        "id": "FIWetuDMLwh3"
      }
    },
    {
      "cell_type": "markdown",
      "source": [
        "## 환율(원/달러)변화에 따른 국고채(5년) 시장금리\n",
        "<img  width=\"800\" src=\"https://blog.kakaocdn.net/dn/RaWDI/btrwJvt7TP2/GlZcXCrWOZ0LQ2OYG17EDk/img.png\" /><br>\n",
        "<pre><font color=red><b>\n",
        "* 환율상승 --> 원화가치 하락  --> 외국의 투자자본이 빠져나간다 (채권매도:원화를 달러로 교환) --> 채권하락\n",
        "           --> 외화가치 상승"
      ],
      "metadata": {
        "id": "F1vz7dStLjAA"
      }
    },
    {
      "cell_type": "markdown",
      "source": [
        "#환율과 물가지수(수출입, 생산자)"
      ],
      "metadata": {
        "id": "ufOfXOnBCcTt"
      }
    },
    {
      "cell_type": "markdown",
      "source": [
        "* 데이터 : ecos\n",
        "* 환율 : 8.8.2.1 주요국통화의 대원화 환율 통계자료\n",
        "* 생산자물가지수 : 7.1.1 생산자물가지수(기본분류) - 총지수\n",
        "* 수출물가지수 : 7.5.1 수출물가지수(기본분류) - 총지수(원화기준)\n",
        "* 수입물가지수 : 7.6.1 수입물가지수(기본분류) - 총지수(원화기준)"
      ],
      "metadata": {
        "id": "XxXdJ6ZSOWjv"
      }
    },
    {
      "cell_type": "markdown",
      "source": [
        "##환율(원/달러)변화에 따른 생산자물가지수\n",
        "<img  width=\"800\" src=\"https://blog.kakaocdn.net/dn/b2LOkU/btrwtCgCdBI/UbBnqAeHtMpMSwBjkk5Ljk/img.png\" /><br>\n"
      ],
      "metadata": {
        "id": "Wvl8L0spP8WK"
      }
    },
    {
      "cell_type": "markdown",
      "source": [
        "##환율(원/달러)변화에 따른 수입물가지수\n",
        "<img  width=\"800\" src=\"https://blog.kakaocdn.net/dn/bsuwhC/btrwGjOyYUk/K5uUrwin9a9lwSb6YqlUEk/img.png\" /><br>"
      ],
      "metadata": {
        "id": "JrsgzKICQZH_"
      }
    },
    {
      "cell_type": "markdown",
      "source": [
        "##환율(원/달러)변화에 따른 수출물가지수\n",
        "<img  width=\"800\" src=\"https://blog.kakaocdn.net/dn/p4zT8/btrwKaiSdYr/5kkpYvHKCjY1ShnmnK1Ty1/img.png\" /><br>"
      ],
      "metadata": {
        "id": "MtK7aW65Qwln"
      }
    },
    {
      "cell_type": "markdown",
      "source": [
        "#환율과 부동산(아파트 매매 실거래 가격지수 - 서울)"
      ],
      "metadata": {
        "id": "tVxeFPe8Flh9"
      }
    },
    {
      "cell_type": "markdown",
      "source": [
        "* 데이터 : ecos\n",
        "* 환율 : 8.8.2.1 주요국통화의 대원화 환율 통계자료\n",
        "* 아파트 매매 실거래 가격지수 (서울) : 7.7.7 아파트 매매 실거래가격지수"
      ],
      "metadata": {
        "id": "Kz5ENrG6Mbpv"
      }
    },
    {
      "cell_type": "markdown",
      "source": [
        "## 환율(원/달러)변화에 따른 서울 아파트 매매 실거래 가격지수\n",
        "* 단순 지수 비교가 아니라 증가율로 비교하는것이 효과적일듯\n",
        "<img  width=\"800\" src=\"https://blog.kakaocdn.net/dn/b4AlVN/btrwJWE1rXV/Kh1oe6PDSQXGUjnRBigJhK/img.png\" /><br>\n",
        "<pre><font color=red><b>\n",
        "* 환율상승 --> 원화가치 하락  --> 외국의 투자자본이 빠져나간다 --> 통화량증대 --> 기준금리 인하 --> 부동산가격 상승\n",
        "           --> 외화가치 상승 "
      ],
      "metadata": {
        "id": "BPRYLxZJMZlv"
      }
    }
  ]
}