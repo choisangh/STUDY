{
  "nbformat": 4,
  "nbformat_minor": 0,
  "metadata": {
    "colab": {
      "name": "대안투자운용 및 투자전략.ipynb",
      "provenance": [],
      "toc_visible": true,
      "authorship_tag": "ABX9TyNQmdgztn71PgX0Wr3puj0U",
      "include_colab_link": true
    },
    "kernelspec": {
      "name": "python3",
      "display_name": "Python 3"
    },
    "language_info": {
      "name": "python"
    }
  },
  "cells": [
    {
      "cell_type": "markdown",
      "metadata": {
        "id": "view-in-github",
        "colab_type": "text"
      },
      "source": [
        "<a href=\"https://colab.research.google.com/github/choisangh/STUDY/blob/main/finance/%EB%8C%80%EC%95%88%ED%88%AC%EC%9E%90%EC%9A%B4%EC%9A%A9_%EB%B0%8F_%ED%88%AC%EC%9E%90%EC%A0%84%EB%9E%B5.ipynb\" target=\"_parent\"><img src=\"https://colab.research.google.com/assets/colab-badge.svg\" alt=\"Open In Colab\"/></a>"
      ]
    },
    {
      "cell_type": "markdown",
      "source": [
        "#대안투자 개념\n",
        "* 전통적 상품군과 낮은 상관관계 -> 효율적 포트폴리오 구성 가능\n",
        "* 부동산, Private Equity, 헤지펀드, 인프라, Commodity\n",
        "\n",
        "#대안투자 특징\n",
        "* 전통적 상품군과 낮은 상관관계 -> 효율적 포트폴리오 구성 가능\n",
        "* 최근 낮은 상관관계 -> 동조화 경향이 있긴함\n",
        "* 대부분 장외거래 -> 환금성 낮음\n",
        "* 환매금지기간 및 투자기간이 장기간임\n",
        "* 차입, 공매도 및 파생상품 활용이 높아 위험관리 중요\n",
        "* 운용자 스킬 중시 -> 보수율 높으며, 성공보수 징구\n",
        "* 최근 환금성이 높아지며 일반투자자도 참여"
      ],
      "metadata": {
        "id": "Gy_odJnkY2Rg"
      }
    },
    {
      "cell_type": "markdown",
      "source": [
        "# 부동산금융\n",
        "* 자산담보부증권(ABS)\n",
        "    - 금융회사나 기업이 보유 중인 자산을 유동화전문회사에 양도하고 이를 담보로 발행한 증권\n",
        "    - 자산보유자는 조기 현금흐름 창출 가능, 투자자는 다양한 포트폴리오 구성 가능\n",
        "* 주택저당증권(MBS)\n",
        "    - ABS의 일종으로 주택저당채권을 전문으로 하는 유동화 중개기관이 있음 (ABS와 차이)\n",
        "    - 자산보유자 : 채권 / 담보권을 유동화 중개기관에 매각\n",
        "    - 유동화 중개기관 : 이를 담보로 MBS 발행\n",
        "* 리츠(REITs)\n",
        "    - 다수의 투자자로부터 자금을 모아 부동산 및 관련 사업에 투자한 후 투자수익을 배당 형식으로 분배하는 회사\n",
        "    - REITs의 지분은 증권시장에 상장 -> 유동성 확보 및 소액투자 가능\n",
        "* 부동산 투자 분석\n",
        "    - 성과 측정(비율) : 단위면적당 가격, 수익환원율, Equity 배당률, 부채 부담능력 비율\n",
        "    - 성과 측정(현금흐름 예측) : 순현재가치, 수익성지수, 내부수익률, 조정된 내부수익률"
      ],
      "metadata": {
        "id": "aXmQyPoQaHpG"
      }
    },
    {
      "cell_type": "markdown",
      "source": [
        "# 부동산 개발금융\n",
        "* 부동산 개발금융(PF)\n",
        "    - 사업자나 법적으로 독립된 프로젝트로부터 발생하는 미래현금흐름을 상환재원으로 자금을 조달하는 금융기법\n",
        "    - 출자자나 차주에 대한 상환청구권X -> 미래현금흐름에 원리금 회수의 대부분 의존\n",
        "\n",
        "* PF의 기본구조\n",
        "    - 시행사 : 토지 매입, 사업 주체, 전반적 위험 부담, 후순위 청구권, 가장 높은 수익을 취함\n",
        "    - 시공사 : 부동산 건축 완공책임, 필요에 따라 공급받은 자금 부분 보증\n",
        "    - 대주단 또는 부동산펀드 : 자금공급역할, 재무적 조언자 및 자산관리자, 에스크로 계좌 관리 업무 수행\n",
        "    - 에스크로 계좌 : 부동산 개발사업 수익금 관리계좌 (참여자 전원 동의로 출금)\n",
        "    - 출금 순서 : 제세공과금, 필수경비, 대출원리금, 공사비, 사업이익\n",
        "\n",
        "* PF 관련 주요 위험\n",
        "    - 토지확보위험, 사업위험, 인허가위험, 시공위험, 분양성검토, 대출금상환재원\n"
      ],
      "metadata": {
        "id": "n13IgD68bL7h"
      }
    },
    {
      "cell_type": "markdown",
      "source": [
        "# 부동산펀드\n",
        "* 자본시장법에 의한 부동산 펀드\n",
        "    - 펀드 재산 50% 초과하여 부동산 및 관련자산 투자 (폐쇄형) -> 환매 불가\n",
        "    - 투자신탁/투자회사형태 -> 투자회사형태는 펀드자산 70%이하만 부동산 투자 가능(REITs와 구분)\n",
        "    - 순자산 100% 이내 대출 가능\n",
        "    - 투자기간 1년 이상\n",
        "* 부동산투자회사법에 의한 REITs(부동산투자회사)\n",
        "    - 자기관리형(자본금 70억), 위탁관리형(50억), 기업구조조정형(50억)으로 구분 (폐쇄형으로만 설정가능)\n",
        "    - 자산의 70% 이상을 부동산에 투자\n",
        "    - 자금 대출 불가능\n",
        "    - 투자기간 1년 이상\n"
      ],
      "metadata": {
        "id": "fV0HXvvUcLgh"
      }
    },
    {
      "cell_type": "markdown",
      "source": [
        "# PEF\n",
        "* PEF의 개념\n",
        "    - 미공개 주식 투자 -> 기업공개/협상으로 매각 후 차익을 남기는 펀드\n",
        "    - 소수 투자자들로부터 자금 모집, 장외 거래, 장외 매각으로 자금 회수\n",
        "* PEF 분류\n",
        "    - 기업 인수합병전문(Buyout Fund)\n",
        "    - 단기 시세차익 목적 (헤지펀드)\n",
        "    - 벤처기업 투자 (Venture Fund)\n",
        "        - Seed Capital : 회사 설립 전 연구 개발에 투자\n",
        "        - Start-up and Early Stage : 회사 설립 전 초기단계에 투자\n",
        "        - Mezzanine : IPO 전 단계에 있는 벤처기업의 CB 등에 투자\n",
        "    - 부실채권 및 담보 부동산에 투자(Vulture Fund)\n",
        "* 주요 용어\n",
        "    - Capital Commitment : 유한책임사원이 투자액 전액을 납입하는 대신 투자하고자 하는 금액에 대해 약속함\n",
        "    - Capital Call : 무한책임사원의 출자 요청, 요청이 있을 시 유한책임사원의 자금 납입이 이루어짐\n",
        "    - Reinvestment : PEF는 잔존기간이 얼마 남지 않은 상황에서만 자금을 회수하기 때문에 재투자하지 않음\n",
        "    - Coinvestment(공동투자) : 유한책임사원이 PEF에 투자한 금액 이외에 투자 가치가 높다고 판단될 경우 기존의 투자자금과 별개로 자금을 투자 대상 기업에 추가 투자하는 것을 의미\n",
        "    - Key Man Clause(핵심인력조항) : 특정 수로 임명된 핵심인력은 명시된 기간 내에 퇴사 불가\n",
        "* PEF 설립 요건\n",
        "    - 49인 이하의 사원으로부터 자금 모집\n",
        "    - 설립등기일 2주 이내 금융위에 등록\n",
        "    - 1인 이상 무한책임사원, 1인 이상 유한책임사원 (합자회사)\n",
        "* PEF 사원 구분\n",
        "    - 무한책임사원 : 업무 집행 권리/의무, 등기 등록 대상, 사원 전원 동의로 지분 양도\n",
        "    - 유한책임사원 : 업무 집행, 대표행위 금지, 등기 등록 제외, 무한책임사원 동의로 지분 양도\n",
        "* 규정 특례\n",
        "    - 회사가 PEF 무한책임사원이 될 수 있음\n",
        "    - 무한책임사원 경업 가능\n",
        "    - 무한책임사원 노무/신용 출자 금지\n",
        "    - 무한책임사원 임의퇴사권 X\n",
        "* 대리인문제 해결 보조수단\n",
        "    - 무한책임사원도 PEF에 직접투자\n",
        "    - 무한책임사원에 대하여 성과 초과 달성 시 인센티브 부여\n",
        "    - 무한책임사원의 자기거래 금지 규정 및 무효조항(Clawback)\n",
        "    - 유한책임사원의 무한책임사원 감독권\n",
        "\n"
      ],
      "metadata": {
        "id": "C2K8IY2RhQWX"
      }
    },
    {
      "cell_type": "markdown",
      "source": [
        "# PEF의 재산운용\n",
        "* 재산 운용 방법\n",
        "    - 다음 3가지 방법으로 2년 내 투자금액 50%이상일 것\n",
        "        - 다른 회사 지분 10% 이상 투자\n",
        "        - 다른 회사 지분 10% 미만일 경우, 사실상 지배력 행사가 가능하도록 하는 투자\n",
        "        - 사회간접자본시설 투자\n",
        "    - 다른 PEF와 공동 투자 가능\n",
        "    - 기업경영권 참여 목적으로 주식전환 가능채권 투자(CB, BW)가능\n",
        "    - 투자대상 기업의 위험을 헤지하기 위해 필요한 장내/장외 파생상품 투자 가능\n",
        "    - 주주 또는 사원이 PEF로 구성되는 주식회사형 또는 유한회사형 투자목적회사를 설립하여 투자 가능\n",
        "    - 여유자금이 발생하는 경우, 금융기관 예치와 재산 5% 범위 내에서 포트폴리오 투자 가능\n",
        "* 자산운용제한\n",
        "    - 제한 사유 : PEF 고유 기능을 살리고 일반 투자펀드와 구분\n",
        "    - 금융위 등록 후 2년 내 50% 이상의 재산을 투자, 경영권 확보 시 최소 6개월 이상 보유\n",
        "    - 최초 투자 후 6개월 이내에 경영권 미확보 시 6개월 내에 매각 (금융위 승인 시 면제 가능)\n",
        "    - 일시적 자금 부족 등의 경우 10% 범위 안에서 제한적 차입 및 채무보증 인정\n",
        "    - 대기업 집단에 속하는 PEF는 타 회사를 계열사로 편입한 경우 5년 이내 타 회사 지분 매각, 계열사 지분 취득 금지 및 금융계열사는 동일 PEF 지분의 10% 이상 보유 금지\n",
        "    - 은행 또는 금융지주회사가 발행한 주식총수의 4% 이상 취득 시 무한/유한 책임사원 내역 공개"
      ],
      "metadata": {
        "id": "FZzns9e8nAtP"
      }
    },
    {
      "cell_type": "markdown",
      "source": [
        "# 인수 대상 기업 선정\n",
        "* 인수 대상 기업 선정\n",
        "    - 경기변동에 영향을 덜 받는 기업 : 장투라서..\n",
        "    - 안정된 성장과 수익 창출이 기대되는 기업\n",
        "    - 부실기업 : 이미 부도 났거나 부실화된 기업\n",
        "    - 구조조정을 통해, 지배구조 변경을 통해 기업가치 상승이 기대되는 기업\n",
        "    - 기업 부동산 매입 : 기업을 인수하는 것이 아닌 구조조정 과정에서 나온 부동산을 대량 매입 후 경제 회복 시 높은 투자수익 실현\n",
        "\n",
        "* PEF 투자 대상 선정기준\n",
        "    - 경영진 및 기업가치\n",
        "        - 경영진 역량 부족 기업\n",
        "        - 업계 리더가 될 수 있는 가치요소를 갖고 있는 기업\n",
        "    - 가격지표\n",
        "        - 저PER, 저PBR, 저PCR 등 저평가기업\n",
        "        - 자산가치가 시장가치보다 큰 기업\n",
        "        - 현금성 자산이 시장가치보다 높은 기업\n",
        "        - 내부유보율이 높으나, 배당을 최소화하는 기업(돈많은 기업)\n",
        "* 투자회수(Exit)\n",
        "    - 매각 : 일반기업 또는 다른 PEF에 매각\n",
        "    - 상장 : 기업공개를 통한 일반투자자에게 매각\n",
        "    - 유상감자 및 배당 : 기업 수명 단축, 장기 성장성 저해 등 부작용 초래\n",
        "    - PEF 자체 상장 : 대규모 차입이 어려운 경우"
      ],
      "metadata": {
        "id": "6QedRedBpPp6"
      }
    },
    {
      "cell_type": "markdown",
      "source": [
        "# 헤지펀드\n",
        "* 해지펀드 정의\n",
        "    - 통상적으로 집합투자기구에 부과되는 <b>차입 규제를 받지 않아</b> 높은 수준의 차입 활용 가능\n",
        "    - 운용보수와 성과보수 부과\n",
        "    - 분기, 반기 또는 연별로 정기적 펀드의 매각 인정\n",
        "    - 헤지펀드 운용자 자신이 고액의 자기 자금 투자 가능\n",
        "    - 투기목적 파생상품 활용 및 공매도 가능\n",
        "    - 다양한 리스크 또는 복잡한 구조의 상품에 투자\n",
        "* 주요 특징\n",
        "    - 적극적으로 운용되는 사모펀드\n",
        "    - 저위험/고수익을 위해 공매도, 레버리지, 파생상품 등 다양한 투자수단 활용\n",
        "    - 높은 성과보수 부과 : 최우수 운용인력 유인\n",
        "    - 절대 수익 추구 (벤치마크는 무위험이자율)\n",
        "    - 고수익보다 자본 보존과 꾸준한 수익률 추구\n",
        "    - 규제가 적은 반면 투명성은 낮음\n",
        "    - 설정과 환매가 비교적 자유롭지 못함\n",
        "    - 제한된 수의 적격투자자에게 허용\n",
        "    - 합자회사 형태가 많음\n"
      ],
      "metadata": {
        "id": "euwkqjtnqDuz"
      }
    },
    {
      "cell_type": "markdown",
      "source": [
        "# 헤지펀드의 운용전략\n",
        "* 차익거래 전략\n",
        "    - 정의 : 시장의 비효율성 및 가격 불일치에 기초한 차익거래와 시장 변동성에 중립화하는 투자전략\n",
        "    - 종류 : 전환사채 차익거래 전략, 채권 차익거래, 주식시장 중립형\n",
        "* Event Driven 전략\n",
        "    - 정의 : 기업 상황에 영향이 큰 사건을 예측 후 발생하는 가격 변동을 이용하여 수익을 창출하는 방법\n",
        "    - 종류 : 부실채권투자, 위험차익/합병 차익거래\n",
        "* 방향성 전략\n",
        "    - 정의 : 차입과 공매도를 이용하여 시장의 방향성에 따라서 매매 기회를 포착하는 전략\n",
        "    - 종류 : 주식의 롱숏, 글로벌 매크로, 이머징마켓 헤지펀드, 선물거래\n",
        "* 펀드 오브 헤지펀드 전략\n",
        "    - 정의 : 15~30개 헤지펀드의 포트폴리오에 투자\n",
        "    - 장단점 : 분산투자 효과, but 이중 수수료, 하위펀드 운용자 통제 불가"
      ],
      "metadata": {
        "id": "AAMoF4NbrK_s"
      }
    },
    {
      "cell_type": "markdown",
      "source": [
        "# Long/Short Equity 전략\n",
        "* Long/Short Equity 전략의 개념\n",
        "    - 시장중립형 전략은 매수/매도/레버리지를 동시에 사용하는 전략\n",
        "    - 시장의 상승과 하락에 모두 투자하여 시장위험으로부터 중립적 포지션 구축\n",
        "    - 매수포지션 : 주식시장 상승 시 더 상승, 주식시장 하락 시 덜 하락\n",
        "    - 매도포지션 : 주식시장 상승 시 덜 상승, 주식시장 하락 시 더 하락\n",
        "    - Long/Short 전략의 관건 : 주식시장 상승보다 더 높게 상승하는 주식 매수 / 주식시장 하락보다 더 하락하는 주식 매도\n",
        "\n",
        "* 발산형과 수렴형 롱숏 전략\n",
        "    - 발산형 : 두 자산 간의 가격차가 일시적 혹은 구조적으로 확대되는 것을 노리는 전략\n",
        "        - 매매진입 판단 시 기본적 분석 사용\n",
        "        - 임의적 목표 수익률\n",
        "        - 매매당 수익률이 높음\n",
        "    - 수렴형 : 비정상적으로 확대된 두 자산 가격의 차이가 정상 수준으로 복귀하는 것을 노리는 전략\n",
        "        - 매매진입 판단 시 계량적 정보 이용\n",
        "        - 잠정적 목표수익률 계산 가능\n",
        "        - 회전률이 높음\n",
        "* 시장중립전략(Market Neutral Strategy)\n",
        "    - 동일한 금액의 Long Position과 Short Position을 보유하는 전략\n",
        "    - 잘 구성된 Long/Short 포트폴리오는 구조적 위험과 시장위험이 발생하지 않음\n",
        "    - 수익 = 이자수익 + Long/Short 스프레드\n",
        "    - 주식의 선택이 가장 중요\n",
        "* Net Market Exposure (시장 위험 노출도)\n",
        "    - 포트폴리오 성과가 주식시장에 의존하는 정도 \n",
        "    - Net Market Exposure = (Long Exposure - Short Exposure)/Capital\n",
        "\n",
        "* Long/Short Ratio (롱숏균형지표)\n",
        "    - 헤지펀드 매니저의 주식선택능력을 보여줌\n",
        "    - Long/Short Ratio = Long Exposure/Short Exposure\n",
        "* Gross Exposure\n",
        "    - 레버리지를 나타내는 지표\n",
        "    - Long/Short Ratio가 낮을 경우 레버리지를 이용하여 성과를 극대화할 수 있음\n",
        "    - Gross Exposure = (Long Exposure + Short Exposure)/(Long Exposure - Short Exposure)"
      ],
      "metadata": {
        "id": "7dGJ_H5Dr46Z"
      }
    },
    {
      "cell_type": "markdown",
      "source": [
        "# 합병차익거래\n",
        "* 합병차익거래 개념\n",
        "    - 발표된 M&A, 공개매수, 자본 재구성, 분사(Spin-off)와 관련된 주식을 사고파는 이벤트 투자형 차익거래전략\n",
        "    - 포지션 : 일반적으로 피인수합병기업 주식 매입 + 인수기업 주식 매도\n",
        "    - 합병차익거래는 발표된 정보에만 집중\n",
        "* 합병차익거래 유형\n",
        "    - Cash Merger\n",
        "        - 피인수기업의 주식 매입하거나, 피인수기업 주식가격을 기초자산으로 하는 옵션에 투자\n",
        "        - 주식가격 변동에 영향을 받지 않고, Event Risk에만 노출\n",
        "    - Stock Swap Merger\n",
        "        - 피인수기업 주식 매입 + 인수기업 주식 매도\n",
        "        - 교환비율에 의해 Long/Short Ratio 결정\n",
        "        - Gross Spread = 인수합병 완료 후 기업가치(=인수기업 주가 * 교환비율) - 피인수기업 주가"
      ],
      "metadata": {
        "id": "BdNEOseJuvFg"
      }
    },
    {
      "cell_type": "markdown",
      "source": [
        "# 전환증권차익거래\n",
        "* 전환증권차익거래 개념\n",
        "    - 정의 : 전환사채 매수(저평가) + 기초자산 주식 매도(고평가) + 이자율 및 신용위험 헤지\n",
        "    - 선호되는 전환 사채\n",
        "        - 기초자산 변동성 크고 Convexity가 큰 전환사채\n",
        "        - 유동성이 높고 기초주식을 쉽게 빌릴 수 있는 전환사채\n",
        "        - 낮은 전환프리미엄을 가진 전환사채\n",
        "        - 배당이 없거나 낮은 배당률을 갖는 기초자산의 전환사채\n",
        "        - 낮은 내재변동성으로 발행된 전환 사채\n",
        "* 전환증권차익거래 종류\n",
        "    - Cash-flow Arbitrage : 주식을 매도하여 발생한 현금흐름으로 전환사채 매수하는 거래\n",
        "    - Volatility Trading\n",
        "        - Delta Fledging : 델타의 변동에 따라 계속해서 기초주식 매도비율을 조정해주는 것\n",
        "        - 델타 중립 포지션 : 기초자산인 주식의 변동성을 매수한 포지션으로 주식가격의 상승/하락과 무관하게 움직이기만 하면 이익 발생\n",
        "        - Balanced Convertible : 델타가 50%에 가까운 전환증권(새롭게 발행한 전환증권은 델타가 50%에 가까워 선호됨)\n",
        "    - Gamma Trading : 델타 변화에 따른 기초주식 매매를 통해 추가적인 이익을 얻는 전략"
      ],
      "metadata": {
        "id": "Zynyrxmywp9V"
      }
    },
    {
      "cell_type": "markdown",
      "source": [
        "# 채권 차익 거래\n",
        "* Issuance Driven Arbitrage(Snap Trade)\n",
        "    - off-the-run채권이 on-the-run채권에 비해 유동성이 떨어져 할인되어 거래되는 현상을 이용\n",
        "    - on-the-run채권은 매수 + off-the-run채권은 매도(스프레드 감소할 때 이익)\n",
        "    - on-the-run채권 : 비교적 최근 발행 (유동성 높음)\n",
        "    - off-the-run채권 : 오래전에 발행 (유동성 낮음)\n",
        "* Yield Curve Arbitrage\n",
        "    - Yield Curve Flattener는 수익률 곡선의 기울기가 작아질(flat)것이 예상될 때 사용하는 전략\n",
        "        - 단기채 매도 + 장기채 매수\n",
        "        - 내재변동성에 대한 매수 포지션\n",
        "    - Yield Curve Steepner는 수익률 곡선의 기울기가 커질(steep)것이 예상될 때 사용하는 전략\n",
        "        - 단기채 매수 + 장기채 매도\n",
        "        - 내재변동성에 대한 매도 포지션\n",
        "    - Yield Curve Butterfly는 수익률 곡선이 부드러운(smooth) 모습을 보여야 하는 속성에 착안한 전략으로 3개의 다른 만기를 가진 채권으로 구성\n",
        "        - Hump(낙타등) : 중기채 매수 + 장/단기채 매도\n",
        "        - Trough(계곡모양) : 중기채 매도 + 장/단기채 매수\n",
        "- Carry Trade\n",
        "    - 낮은 금리로 자본을 조달하여 높은 금리에 투자하는 전략\n",
        "- Break-even Inflation Trades(이자율 위험 제거 후 인플레이션 관련 위험만 수익화)\n",
        "    - 인플레이션 예상 시 : 물가연동채권 매수 + 동일만기 국공채 매도\n",
        "    - 디플레이션 예상 시 : 물가연동채권 매도 + 동일만기 국공채 매수"
      ],
      "metadata": {
        "id": "kweu5n6hxyVk"
      }
    },
    {
      "cell_type": "markdown",
      "source": [
        "# 특별자산펀드\n",
        "* 특별자산펀드의 개요\n",
        "    - 인플레이션 헤징 효과가 있는 실물자산을 투자대상으로 함\n",
        "    - 인플레이션 헤징 효과로 전통적 투자대상과 결합 시 효율적 포트폴리오 구성 가능\n",
        "    - 자본자산(주식, 채권)은 기대현금흐름과 할인율이 중요 요소이나, 실물자산은 이자율(할인율)의 영향을 적게 받음\n",
        "    - 실물자산시장은 모두 달러로 표시, 가치는 글로벌 시장의 불균형보다 수요와 공급에 의해 결정\n",
        "    - 실물자산에 직접투자하는 상품보다 관련된 선물 등 파생상품시장에 투자\n",
        "* 특별자산펀드의 운용\n",
        "    - 실물자산 직접투자\n",
        "        - 기초 실물자산 직접 구입\n",
        "        - 직접투자 시 소유로부터 발생하는 저장비용 부담\n",
        "    - 천연자원기업\n",
        "        - 실물자산 매매로부터 수익의 상당부분을 창출하는 기업의 증권 소유\n",
        "        - 실물자산 기업투자는 실물자산의 가격움직임과 낮은 베타로 인해 효과가 낮음\n",
        "    - Commodity Futures Contracts\n",
        "        - 실물자산을 기초자산으로 하는 선물에 투자\n",
        "        - 장점 : 거래소 거래(표준화, 유동성, 투명성), 반대매매를 통한 거래, 증거금만 지급\n",
        "        - 단점 : 마진콜로 인한 업무 과다, 포지션 정리로 인한 비용 증가\n",
        "    - Commodity Swap & Commodity Forward Contracts\n",
        "        - 장점 : 장외거래로 다양한 추가 이익 기회 제공\n",
        "        - 단점 : 낮은 유동성"
      ],
      "metadata": {
        "id": "f2CsWy1E0PLX"
      }
    },
    {
      "cell_type": "markdown",
      "source": [
        "# Credit Structure 와 신용부도스왑(CDS)\n",
        "* 용어 정리\n",
        "    - 보장매입자 : 준거자산의 신용위험 등을 이전하고 프리미엄을 지급하는 자\n",
        "    - 보장매도자 : 보장매입자로부터 신용위험 인수, 신용사건 발생 시 손실 보전, 프리미엄 수취하는 자\n",
        "    - 준거자산 : 보장매입자가 보유한 자산으로 신용위험이 포함된 모든 자산\n",
        "    - 총수익매도자 : TRS에서 사용하는 용어로 준거자산에서 발생하는 총수익을 이전하는 자\n",
        "    - 총수익매입자 : TRS에서 사용하는 용어로 총수익매도자로부터 신용위험과 시장위험을 인수하는 자\n",
        "\n",
        "* 신용부도스왑(CDS)\n",
        "    - 가장 보편화된 형태의 신용파생상품으로 준거자산의 신용위험을 분리하여 보장 매입자가 매도자에게 이전하고 보장 매도자는 그 대가로 프리미엄을 지급받는 금융상품\n",
        "    - 보장매입자 : 신용위험 전가 사실을 차주가 알 수 없어서 고객사와 우호 관계 유지 가능\n",
        "    - 보장매도자 : 초기 투자비용 없이 높은 수익률과 신용위험 노출 다변화를 동시 달성 가능\n",
        "    - 거래 구조가 단순하여 다른 신용파생상품 구성에 가장 많이 사용\n",
        "* CDS 구조\n",
        "\n",
        "    - <img src=\"https://thumb.mt.co.kr/06/2007/10/2007103007582915291_3.jpg/dims/optimize/\">"
      ],
      "metadata": {
        "id": "2geBlnUC1-4L"
      }
    },
    {
      "cell_type": "markdown",
      "source": [
        "# 총수익률스왑(TRS)\n",
        "* TRS의 정의\n",
        "    - 신용위험 + 시장위험까지 거래상대방에게 전가시키는 신용파생상품\n",
        "* TRS의 특징\n",
        "    - 기존 자산보유자는 총수익매도자 -> 준거자산 모든 현금흐름을 총수익매입자에게 지금\n",
        "    - 주기적으로 현금흐름발생(CDS는 신용사건 발생시에만)\n",
        "    - 총수입매입자는 시장 기준금리에 TRS Spread를 가산한 금리 지금\n",
        "    - 만기일 준거자산 가치 > 최초 준거자산 가치 : 총수익매도자는 그 차액 지급\n",
        "    - 만기일 준거자산 가치 < 최초 준거자산 가치 : 총수익매입자는 그 차액 지급\n",
        "    - <b>원본만 보존한다 (손실 혹은 수익의 교환)</b>\n",
        "* TRS의 장점\n",
        "    - 총수익매도자 : 준거자산 신용위험/시장위험 노출을 한번에 헤지 가능, 위험과 현금흐름은 이전되지만 <b>투표권 및 경영권 등</b>은 이전되지 않음\n",
        "    - 총수익매입자 : 자산매입을 위한 현금지출 없이 자산 매입과 동일한 현금흐름을 얻을 수 있음\n",
        "\n",
        "* TRS의 구조\n",
        "    - <img src=\"data:image/png;base64,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\">\n"
      ],
      "metadata": {
        "id": "7b7f90pA3Mby"
      }
    },
    {
      "cell_type": "markdown",
      "source": [
        "# Basket Default Swap\n",
        "* 특징\n",
        "    - 일반적으로 CDS와 동일, but 다수의 준거자산으로 구성\n",
        "    - 가장 보편화된 상품은 FTD(first-to-default)형태로 첫 손실에 대한 보상 후 계약 종료\n",
        "    - 보장 매입자는 각 자산에 대해 따로 CDS 계약을 맺는 것보다 더욱 저렴한 비용으로 위험 전가\n",
        "    - 보장매도자는 첫 부도 책임만 있어 손실금액이 제한적, 더 높은 프리미엄 획득\n",
        "    - 계약에 따라 몇 번째 부도에 대해 보장이 주어질 것인지 결정하는 Nth-to default로 변형도 가능"
      ],
      "metadata": {
        "id": "e5Yzt78j4npF"
      }
    },
    {
      "cell_type": "markdown",
      "source": [
        "# 신용연계증권 (CLN)\n",
        "* CLN의 특징\n",
        "    - 일반채권에 CDS를 결합한 상품\n",
        "    - 보장매입자는 준거자산의 신용위험을 CLN발행자(보장매도자)에게 전가\n",
        "    - CLN 발행자는 이를 채권형태로 발행하여 투자자들에게 위험 전가\n",
        "    - CLN 발행자는 투자자로부터 수령한 대금을 신용등급이 매우 높은 담보자산에 투자\n",
        "    - 증권화되어 있어 상대적으로 신용사건에 대한 전문지식이 덜 필요\n",
        "    - 준거자산의 다양화로 투자자들의 다양한 투자성향에 부합하는 상품설계 가능\n",
        "\n",
        "* CLN의 거래구조\n",
        "    - <img src=\"https://img.hani.co.kr/imgdb/resize/2008/0818/121896267330_20080818.JPG\">\n"
      ],
      "metadata": {
        "id": "pFfHrZsP5JRj"
      }
    },
    {
      "cell_type": "markdown",
      "source": [
        "# CDO (어려움)\n",
        "* CDO의 개요\n",
        "    - 개별채권이나 대출을 담보로 여러 종류의 새로운 채권 발행\n",
        "    - 개별적 신용위험보다 포트폴리오 위험을 다룸\n",
        "    - 일반적으로 Senior-Mezzanine-Equity 세 부분으로 구성\n",
        "* CDO 구분\n",
        "    - 발행목적 기준\n",
        "        - Arbitrage CDO\n",
        "            - 기초자산 수익률/유동화 증권 수익률 간 차익 목적으로 발행\n",
        "            - 수익률 극대화 목적\n",
        "        - Balance Sheet CDO\n",
        "            - 위험전가 목적 발행, 재무비율 개선 효과\n",
        "            - CDO를 통한 위험 전가, 최저 요구자본 충족 및 대출 여력 확충\n",
        "    - 위험전이 방법 기준\n",
        "        - Cash Flow CDO\n",
        "            - 자산 양도하여 SPV구성, 트랜치 매각 대금으로 자본 조달(Funded CDO)\n",
        "        - Synthetic CDO\n",
        "            - CDS를 활용하여 위험 전가 (Unfunded CDO)\n",
        "    - CDO 기초자산 운용 기준\n",
        "        - Static CDO\n",
        "            - 포트폴리오 운용 없이 만기까지 보유\n",
        "        - Dynamic CDO\n",
        "            - 지정된 운용자에 의해 자산이 운용되는 CDO\n",
        "        - Hybrid CDO\n",
        "            - Ram-up 기간과 자산으로부터 선지급이 있는 경우 자산을 운용 혹은 대체하는 Hybrid Structure"
      ],
      "metadata": {
        "id": "OMefOly97OUm"
      }
    },
    {
      "cell_type": "markdown",
      "source": [
        "# CDO의 이해 (어려움)\n",
        "* CDO의 신용등급 평가 요소\n",
        "    - 자산의 질, 기대 신용손실, 신용보강, 거래구조, 자산운용 매니저, 법적위험, 거래감시\n",
        "\n",
        "* CDO 투자\n",
        "\n",
        "|구분|정의 및 특징|\n",
        "|---|---|\n",
        "|Super Senior|기존 보유 위험을 헤지할 수 있는 분산투자 도구로 인식<br>신용평가 기관에서는 Super Senior 트랜치에 대한 신용평가를 하지 않기 때문에 투자자는 신용등급 없이 투자|\n",
        "|Senior<br>(저위험, 저수익)| 높은 신용등급 트랜치로 분산된 포트폴리오에 대한 투자와 구조적인 신용 보강<br>실제 손실 발생은 어려우나 Mark-to-Market 위험 존재<br>비슷한 신용등급 채권에 비해 높은 수익, 분산화 이익|\n",
        "|Mezzanine|두 번째 손실을 입는 트랜치(Senior/Equity 중간)<br>비슷한 신용등급의 회사채나 ABS에 높은 수익, 잔여이익 참여권은 없음<br>자산 성과에 민감, 포트폴리오 분산 정도와 부도상관관계에 대한 노출이 큼|\n",
        "|Equity(고위험, 고수익)|CDO의 Equity 트랜치는 높은 레버리지 노출, Call Option을 사용하여 거래에서 나옴<br>Synthetic CDO의 Equity 트랜치는 Call Option이 없음|\n"
      ],
      "metadata": {
        "id": "iEyEDTY68e5A"
      }
    },
    {
      "cell_type": "markdown",
      "source": [
        "# 합성 CDO 신용지수 (어려움)\n",
        "* 합성 CDO\n",
        "    - 준거자산에 의해 현금흐름이 담보되는 여러 개의 Tranche로 구성된 증권\n",
        "    - 분류\n",
        "        - 준거자산 형태에 따른 분류 : CLO(대출), CBO(채권), CDO Squared(Pooling된 CDO)\n",
        "        - 발행 목적에 따른 분류 : Balance-sheet CDO(규제자본경감, 위험전가), Arbitrage CDO(수익 극대화)\n",
        "    - 특징 : 합성 CDO는 보장매입자가 준거자산을 양도하는 것이 아니라 신용위험만을 SPC로 이전\n",
        "    - 장점 : 외형상 규모 유지 가능, 아직 발생하지 않은 신용한도에 대한 신용위험 전가 가능\n",
        "* 합성 CDO 구조\n",
        "    - <img src=\"https://t1.daumcdn.net/cfile/tistory/224B633958A3F7050C\">\n",
        "\n",
        "* 신용지수(Credit Index)\n",
        "    - 주요 기업 또는 변동성이 높은 기업을 모아 각각 CDS 스프레드를 가중평균하여 지수를 고시\n",
        "    - 일반 신용파생상품보다 더 높은 유동성 확보\n",
        "    - 적은 자본으로 원하는 자산에 쉽게 투자 가능\n",
        "    - 신용파생상품의 가격결정 벤치마크 역할, 다양한 포트폴리오 구성에 도움"
      ],
      "metadata": {
        "id": "iVSoDqST5yOi"
      }
    }
  ]
}