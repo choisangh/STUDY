{
  "cells": [
    {
      "cell_type": "markdown",
      "metadata": {
        "id": "view-in-github",
        "colab_type": "text"
      },
      "source": [
        "<a href=\"https://colab.research.google.com/github/choisangh/STUDY/blob/main/finance/%EA%B8%88%EC%9C%B5_%EA%B3%B5%ED%95%99_2%EC%9D%BC%EC%B0%A8.ipynb\" target=\"_parent\"><img src=\"https://colab.research.google.com/assets/colab-badge.svg\" alt=\"Open In Colab\"/></a>"
      ]
    },
    {
      "cell_type": "markdown",
      "source": [
        "<img  width=\"700\" height=\"400\" src=\"https://blog.kakaocdn.net/dn/b89cU3/btrwfdvv0Md/kyIedPKHK4lMsMxpCnuQnK/img.png\" /><br>"
      ],
      "metadata": {
        "id": "jooZSIokwwxC"
      },
      "id": "jooZSIokwwxC"
    },
    {
      "cell_type": "markdown",
      "source": [
        "<img  width=\"700\" height=\"400\" src=\"https://blog.kakaocdn.net/dn/bzIXuu/btrwgE0nl5M/ZAloxkpxsF0zDMRwXKou2K/img.png\" /><br>\n",
        "# CD\n",
        "* 양도성예금증서 (양도가능-매매가능)\n",
        "* 양도가능 : 발행 은행에서 관리차원으로 누가 샀는지만 확인-> 말일에 누구의 소유인지 상관X\n",
        "\n",
        "# 단기금리\n",
        "* 콜금리/CD/CP\n",
        "\n",
        "## 어음\n",
        "* 물건 대금값(지불해야할 값)을 현금이 아닌 증서(어음)로 주는 것\n",
        "* 일정 기간 후(지정일)에 은행에서 대금 수령\n",
        "* 위험도가 높음 (기업파산위험)\n",
        "\n",
        "# CP(어음금리)\n",
        "* 대금값은 1000만이지만 어음으로 결제하면 일정 금리(CP)를 추가하여 발행 (미래에 수령하니까)\n",
        "* 1달후에 1100만원 이때 어음금리(CP)는 10%\n",
        "* 단기거래 형태는 91일 상품이 많음 <91일후 수령>\n",
        "\n"
      ],
      "metadata": {
        "id": "vu3ol32-w5Ka"
      },
      "id": "vu3ol32-w5Ka"
    },
    {
      "cell_type": "markdown",
      "source": [
        "<img  width=\"700\" height=\"400\" src=\"https://blog.kakaocdn.net/dn/b2phAp/btrweymnrf1/5tGdtBbzUgqokzbD4m07Xk/img.png\" /><br>\n"
      ],
      "metadata": {
        "id": "hVANuM830h_4"
      },
      "id": "hVANuM830h_4"
    },
    {
      "cell_type": "markdown",
      "source": [
        "<img  width=\"700\" height=\"400\" src=\"https://blog.kakaocdn.net/dn/elOQ1T/btrweyNlEgA/spv4dk5TuRc9XC8gKKORnK/img.png\" /><br>\n",
        "\n",
        "##고정금리\n",
        "* 대표적으로 금융채금리\n",
        "* 변동X 일정함\n",
        "\n",
        "##변동금리\n",
        "* 대표적으로 주택담보대출금리\n",
        "* 집값 5억 1%-> 집값 10억 2%\n",
        "\n",
        "## 고정금리 vs 변동금리\n",
        "* 대출 시 경제상황이 금리 지속 하락세 -> 변동금리 유리\n",
        "* 대출 시 경제상황이 금리 지속 상승세 -> 고정금리 유리"
      ],
      "metadata": {
        "id": "MqNtToyv1HvK"
      },
      "id": "MqNtToyv1HvK"
    },
    {
      "cell_type": "markdown",
      "source": [
        "<img  width=\"700\" height=\"400\" src=\"https://blog.kakaocdn.net/dn/cDg5D0/btrwk4J8beJ/WTC6SbJWfvmujQO3y7xifK/img.png\" /><br>\n",
        "# 기준금리 떨어지는데 대출금리, 국채금리 상승\n",
        "* 링크 : https://www.ytn.co.kr/_ln/0102_201910301518564398\n",
        "* 이유 : 기준금리를 낮춰도 은행채 남발 -> 채권 만기시 은행에서 돈 더 줘야함 -> 대출금리 상승"
      ],
      "metadata": {
        "id": "iYNKkL5m45mz"
      },
      "id": "iYNKkL5m45mz"
    },
    {
      "cell_type": "markdown",
      "source": [
        "<img  width=\"700\" height=\"400\" src=\"https://blog.kakaocdn.net/dn/bkPXPs/btrwgj97zNe/xcvjXkZeNTr0lksydDgD3k/img.png\" /><br>\n",
        "\n",
        "<img  width=\"700\" height=\"400\" src=\"https://blog.kakaocdn.net/dn/ckNARp/btrweyUbXGf/hAHMak3rrBRJfYEHLjjxn0/img.png\" /><br>"
      ],
      "metadata": {
        "id": "Pu8AXWqaAs68"
      },
      "id": "Pu8AXWqaAs68"
    },
    {
      "cell_type": "markdown",
      "source": [
        "<img  width=\"700\" height=\"400\" src=\"https://blog.kakaocdn.net/dn/KtGRj/btrwk44tGMd/kG15BdSIrCYKfxj3W2AnaK/img.png\" /><br>\n",
        "\n",
        "<img  width=\"700\" height=\"400\" src=\"https://blog.kakaocdn.net/dn/xIbvU/btrwhdVQvKO/dKFrpwnvUvu4vmmxsvx82k/img.png\" /><br>\n",
        "\n",
        "<img  width=\"700\" height=\"400\" src=\"https://blog.kakaocdn.net/dn/bNljqi/btrwfbR4f8Q/Us1FM5ZW4CO60femYFB0O1/img.png\" /><br>"
      ],
      "metadata": {
        "id": "kOY47UfOBGdG"
      },
      "id": "kOY47UfOBGdG"
    },
    {
      "cell_type": "markdown",
      "source": [
        "<img  width=\"700\" height=\"400\" src=\"https://blog.kakaocdn.net/dn/dRuwpc/btrwgEsAfMr/zBPjKOK5VvfREC5b5tymiK/img.png\" /><br>"
      ],
      "metadata": {
        "id": "p-ck6CF7BqpL"
      },
      "id": "p-ck6CF7BqpL"
    },
    {
      "cell_type": "markdown",
      "source": [
        "<img  width=\"700\" height=\"400\" src=\"https://blog.kakaocdn.net/dn/bH3eB1/btrwkvOCL1B/GIToQjXywETziBNhqa8I5k/img.png\" /><br>"
      ],
      "metadata": {
        "id": "oJw9KI4qInNE"
      },
      "id": "oJw9KI4qInNE"
    },
    {
      "cell_type": "markdown",
      "source": [
        "# 평균\n",
        "* ref : https://namu.wiki/w/%ED%8F%89%EA%B7%A0\n",
        "\n"
      ],
      "metadata": {
        "id": "1BiDeo21KEgN"
      },
      "id": "1BiDeo21KEgN"
    },
    {
      "cell_type": "markdown",
      "id": "outdoor-organization",
      "metadata": {
        "id": "outdoor-organization"
      },
      "source": [
        "<font size=6><b>금리 & 채권</b></font>\n",
        "* ref [2021년 1월 금융기관 가중평균금리] : https://www.bok.or.kr/portal/bbs/P0000559/view.do?nttId=10063199&menuNo=200690&pageIndex=1\n",
        "* ref [2022년 1월 금융기관 가중평균금리] : https://www.bok.or.kr/portal/bbs/P0000559/view.do?nttId=10069319&menuNo=200690\n",
        "* ref : https://www.ytn.co.kr/_ln/0102_201910301518564398\n",
        "* ref [ECOS] : http://ecos.bok.or.kr/flex/ClassSearch.jsp"
      ]
    },
    {
      "cell_type": "code",
      "source": [
        "pip install QuantLib"
      ],
      "metadata": {
        "colab": {
          "base_uri": "https://localhost:8080/"
        },
        "id": "0XbxAstTJ6Mq",
        "outputId": "fa51113d-a85e-47ea-c962-8874d29989b0"
      },
      "id": "0XbxAstTJ6Mq",
      "execution_count": 1,
      "outputs": [
        {
          "output_type": "stream",
          "name": "stdout",
          "text": [
            "Requirement already satisfied: QuantLib in /usr/local/lib/python3.7/dist-packages (1.25)\n"
          ]
        }
      ]
    },
    {
      "cell_type": "code",
      "source": [
        ""
      ],
      "metadata": {
        "id": "hDg9gf9BkxLe"
      },
      "id": "hDg9gf9BkxLe",
      "execution_count": 1,
      "outputs": []
    },
    {
      "cell_type": "code",
      "execution_count": 2,
      "id": "experienced-plane",
      "metadata": {
        "id": "experienced-plane"
      },
      "outputs": [],
      "source": [
        "import pandas as pd\n",
        "import numpy as np\n",
        "import QuantLib as ql\n",
        "from datetime import date\n",
        "import logging\n",
        "import matplotlib.pyplot as plt\n",
        "import seaborn as sns\n",
        "import datetime\n",
        "\n",
        "import warnings\n",
        "warnings.filterwarnings(action='ignore')\n",
        "\n",
        "# numeric_level = getattr(logging, 'INFO', None)\n",
        "# logging.basicConfig(level=numeric_level, format='%(asctime)s %(levelname)-8s %(message)s', datefmt='%Y-%m-%d %H:%M:%S')"
      ]
    },
    {
      "cell_type": "code",
      "source": [
        "# colab\n",
        "from google.colab import drive\n",
        "drive.mount(\"/content/gdrive\")"
      ],
      "metadata": {
        "colab": {
          "base_uri": "https://localhost:8080/"
        },
        "id": "_HDq_ySek2o6",
        "outputId": "b7dd5397-912d-4569-aea0-27683424872f"
      },
      "id": "_HDq_ySek2o6",
      "execution_count": 3,
      "outputs": [
        {
          "output_type": "stream",
          "name": "stdout",
          "text": [
            "Drive already mounted at /content/gdrive; to attempt to forcibly remount, call drive.mount(\"/content/gdrive\", force_remount=True).\n"
          ]
        }
      ]
    },
    {
      "cell_type": "markdown",
      "id": "immune-plate",
      "metadata": {
        "id": "immune-plate"
      },
      "source": [
        "# 통화 및 유동성 지표"
      ]
    },
    {
      "cell_type": "markdown",
      "id": "identical-hunter",
      "metadata": {
        "id": "identical-hunter"
      },
      "source": [
        "* <b>본원통화 (本源通貨, Reserve Base , monetary base 또는 base money) : 중앙은행 화폐발행액, 시중은행으로 보낸 돈\n",
        "  - 현금통화<한국은행이 갖고있는 돈> + 예금은행시재금<시중은행이 갖고있는 돈> + 중앙은행 지급준비예치금<뱅크런 막기 위한 최소한의 예치금><br>\n",
        "* 시장에 풀린 본원통화는 크게 다음 두가지 방식으로 유통된다.\n",
        "   - <b>현금통화 </b> : 현금의 형태로 실제 시장에 풀려 유통\n",
        "   - <b>지급준비금</b> : 시중은행으로 흘러들어가는 돈      "
      ]
    },
    {
      "cell_type": "markdown",
      "id": "hidden-picture",
      "metadata": {
        "id": "hidden-picture"
      },
      "source": [
        "* 통화지표 <br>\n",
        "   (예) 초기에 10일은 4만원 입금,  이 후 20일은 6만원 입금\n",
        "  - <b>평잔</b> : ( ( 40,000 * 10일 ) + ( 60,000 * 20일 ) ) / 30일 = 80,000원\n",
        "  - <b>말잔</b> : 10만원\n",
        "  - 은행이자는 평잔 기준\n",
        "  - 통상적으로는 평잔보다 말잔이 높다\n",
        " <table>\n",
        "    <tr>\n",
        "        <td><img src='https://img1.daumcdn.net/thumb/R1280x0/?scode=mtistory2&fname=https%3A%2F%2Fblog.kakaocdn.net%2Fdn%2FcZmxkR%2FbtqUeiF5uad%2FNk4LaGuEczfLzPYlsh0rJK%2Fimg.png'></td>\n",
        "        <td><img src='https://img1.daumcdn.net/thumb/R1280x0/?scode=mtistory2&fname=https%3A%2F%2Fblog.kakaocdn.net%2Fdn%2Few5rPj%2FbtqUeXhn0Ih%2F7fbSacPBHtreGVgdGF2MfK%2Fimg.png'></td>\n",
        "    </tr>\n",
        "</table>\n",
        "* M1 (협의통화) : 가계 소비내역\n",
        "* M2 (광의통화> : 시중에 돈이 얼마나 풀려 있는지를 보여주는 지표 \n",
        "* Lf (금융기관 유동성) : 금융기관 금융채 유동성 \n",
        "* L (광의 유동성) : 정부나 기업 유동성          \n",
        "<img  width=\"700\" height=\"400\" src=\"https://blog.kakaocdn.net/dn/bRnYpp/btrwhU20pIf/xHuGLuUlAL7TGvbIS2JNyK/img.png\" /><br>\n",
        "* ecos를 통해 통화지표/유동성지표 통계량 확인 가능 <기관별/경제주체별>"
      ]
    },
    {
      "cell_type": "markdown",
      "id": "permanent-acquisition",
      "metadata": {
        "tags": [],
        "id": "permanent-acquisition"
      },
      "source": [
        "# 금리 "
      ]
    },
    {
      "cell_type": "code",
      "source": [
        "#ecos 본원통화/현금통화/중앙은행 대 예치금부채\n",
        "df=pd.read_csv('/content/gdrive/MyDrive/Colab Notebooks/금융공학/dataset/f2_금리.csv', encoding='cp949') \n",
        "df.head()"
      ],
      "metadata": {
        "colab": {
          "base_uri": "https://localhost:8080/",
          "height": 206
        },
        "id": "ivGU6iGxl7cc",
        "outputId": "dcc67f70-2c58-45f4-9fd9-0005a2090a5a"
      },
      "id": "ivGU6iGxl7cc",
      "execution_count": 4,
      "outputs": [
        {
          "output_type": "execute_result",
          "data": {
            "text/plain": [
              "    통계표 1.2.1.2 본원통화 구성내역(말잔,원계열) 1.2.1.2 본원통화 구성내역(말잔,원계열).1  \\\n",
              "0  항목명1              본원통화(말잔,원계열)                        현금통화   \n",
              "1    단위                      십억원                         십억원    \n",
              "2    변환                       원자료                         원자료   \n",
              "3  2002                  37,987.4                    18,228.1   \n",
              "4  2003                    40,749                    17,347.8   \n",
              "\n",
              "  1.2.1.2 본원통화 구성내역(말잔,원계열).2  \n",
              "0             중앙은행 대 예금취급기관부채  \n",
              "1                        십억원   \n",
              "2                         원자료  \n",
              "3                    19,759.3  \n",
              "4                    23,401.2  "
            ],
            "text/html": [
              "\n",
              "  <div id=\"df-1f60a550-dc1d-4826-ba22-32bd38554d05\">\n",
              "    <div class=\"colab-df-container\">\n",
              "      <div>\n",
              "<style scoped>\n",
              "    .dataframe tbody tr th:only-of-type {\n",
              "        vertical-align: middle;\n",
              "    }\n",
              "\n",
              "    .dataframe tbody tr th {\n",
              "        vertical-align: top;\n",
              "    }\n",
              "\n",
              "    .dataframe thead th {\n",
              "        text-align: right;\n",
              "    }\n",
              "</style>\n",
              "<table border=\"1\" class=\"dataframe\">\n",
              "  <thead>\n",
              "    <tr style=\"text-align: right;\">\n",
              "      <th></th>\n",
              "      <th>통계표</th>\n",
              "      <th>1.2.1.2 본원통화 구성내역(말잔,원계열)</th>\n",
              "      <th>1.2.1.2 본원통화 구성내역(말잔,원계열).1</th>\n",
              "      <th>1.2.1.2 본원통화 구성내역(말잔,원계열).2</th>\n",
              "    </tr>\n",
              "  </thead>\n",
              "  <tbody>\n",
              "    <tr>\n",
              "      <th>0</th>\n",
              "      <td>항목명1</td>\n",
              "      <td>본원통화(말잔,원계열)</td>\n",
              "      <td>현금통화</td>\n",
              "      <td>중앙은행 대 예금취급기관부채</td>\n",
              "    </tr>\n",
              "    <tr>\n",
              "      <th>1</th>\n",
              "      <td>단위</td>\n",
              "      <td>십억원</td>\n",
              "      <td>십억원</td>\n",
              "      <td>십억원</td>\n",
              "    </tr>\n",
              "    <tr>\n",
              "      <th>2</th>\n",
              "      <td>변환</td>\n",
              "      <td>원자료</td>\n",
              "      <td>원자료</td>\n",
              "      <td>원자료</td>\n",
              "    </tr>\n",
              "    <tr>\n",
              "      <th>3</th>\n",
              "      <td>2002</td>\n",
              "      <td>37,987.4</td>\n",
              "      <td>18,228.1</td>\n",
              "      <td>19,759.3</td>\n",
              "    </tr>\n",
              "    <tr>\n",
              "      <th>4</th>\n",
              "      <td>2003</td>\n",
              "      <td>40,749</td>\n",
              "      <td>17,347.8</td>\n",
              "      <td>23,401.2</td>\n",
              "    </tr>\n",
              "  </tbody>\n",
              "</table>\n",
              "</div>\n",
              "      <button class=\"colab-df-convert\" onclick=\"convertToInteractive('df-1f60a550-dc1d-4826-ba22-32bd38554d05')\"\n",
              "              title=\"Convert this dataframe to an interactive table.\"\n",
              "              style=\"display:none;\">\n",
              "        \n",
              "  <svg xmlns=\"http://www.w3.org/2000/svg\" height=\"24px\"viewBox=\"0 0 24 24\"\n",
              "       width=\"24px\">\n",
              "    <path d=\"M0 0h24v24H0V0z\" fill=\"none\"/>\n",
              "    <path d=\"M18.56 5.44l.94 2.06.94-2.06 2.06-.94-2.06-.94-.94-2.06-.94 2.06-2.06.94zm-11 1L8.5 8.5l.94-2.06 2.06-.94-2.06-.94L8.5 2.5l-.94 2.06-2.06.94zm10 10l.94 2.06.94-2.06 2.06-.94-2.06-.94-.94-2.06-.94 2.06-2.06.94z\"/><path d=\"M17.41 7.96l-1.37-1.37c-.4-.4-.92-.59-1.43-.59-.52 0-1.04.2-1.43.59L10.3 9.45l-7.72 7.72c-.78.78-.78 2.05 0 2.83L4 21.41c.39.39.9.59 1.41.59.51 0 1.02-.2 1.41-.59l7.78-7.78 2.81-2.81c.8-.78.8-2.07 0-2.86zM5.41 20L4 18.59l7.72-7.72 1.47 1.35L5.41 20z\"/>\n",
              "  </svg>\n",
              "      </button>\n",
              "      \n",
              "  <style>\n",
              "    .colab-df-container {\n",
              "      display:flex;\n",
              "      flex-wrap:wrap;\n",
              "      gap: 12px;\n",
              "    }\n",
              "\n",
              "    .colab-df-convert {\n",
              "      background-color: #E8F0FE;\n",
              "      border: none;\n",
              "      border-radius: 50%;\n",
              "      cursor: pointer;\n",
              "      display: none;\n",
              "      fill: #1967D2;\n",
              "      height: 32px;\n",
              "      padding: 0 0 0 0;\n",
              "      width: 32px;\n",
              "    }\n",
              "\n",
              "    .colab-df-convert:hover {\n",
              "      background-color: #E2EBFA;\n",
              "      box-shadow: 0px 1px 2px rgba(60, 64, 67, 0.3), 0px 1px 3px 1px rgba(60, 64, 67, 0.15);\n",
              "      fill: #174EA6;\n",
              "    }\n",
              "\n",
              "    [theme=dark] .colab-df-convert {\n",
              "      background-color: #3B4455;\n",
              "      fill: #D2E3FC;\n",
              "    }\n",
              "\n",
              "    [theme=dark] .colab-df-convert:hover {\n",
              "      background-color: #434B5C;\n",
              "      box-shadow: 0px 1px 3px 1px rgba(0, 0, 0, 0.15);\n",
              "      filter: drop-shadow(0px 1px 2px rgba(0, 0, 0, 0.3));\n",
              "      fill: #FFFFFF;\n",
              "    }\n",
              "  </style>\n",
              "\n",
              "      <script>\n",
              "        const buttonEl =\n",
              "          document.querySelector('#df-1f60a550-dc1d-4826-ba22-32bd38554d05 button.colab-df-convert');\n",
              "        buttonEl.style.display =\n",
              "          google.colab.kernel.accessAllowed ? 'block' : 'none';\n",
              "\n",
              "        async function convertToInteractive(key) {\n",
              "          const element = document.querySelector('#df-1f60a550-dc1d-4826-ba22-32bd38554d05');\n",
              "          const dataTable =\n",
              "            await google.colab.kernel.invokeFunction('convertToInteractive',\n",
              "                                                     [key], {});\n",
              "          if (!dataTable) return;\n",
              "\n",
              "          const docLinkHtml = 'Like what you see? Visit the ' +\n",
              "            '<a target=\"_blank\" href=https://colab.research.google.com/notebooks/data_table.ipynb>data table notebook</a>'\n",
              "            + ' to learn more about interactive tables.';\n",
              "          element.innerHTML = '';\n",
              "          dataTable['output_type'] = 'display_data';\n",
              "          await google.colab.output.renderOutput(dataTable, element);\n",
              "          const docLink = document.createElement('div');\n",
              "          docLink.innerHTML = docLinkHtml;\n",
              "          element.appendChild(docLink);\n",
              "        }\n",
              "      </script>\n",
              "    </div>\n",
              "  </div>\n",
              "  "
            ]
          },
          "metadata": {},
          "execution_count": 4
        }
      ]
    },
    {
      "cell_type": "code",
      "source": [
        "#멀티컬럼 병합\n",
        "df=pd.read_csv('/content/gdrive/MyDrive/Colab Notebooks/금융공학/dataset/f2_금리.csv', encoding='cp949', header=[0,1,2,3], thousands=',') "
      ],
      "metadata": {
        "id": "UmwsJLW7k5zj"
      },
      "id": "UmwsJLW7k5zj",
      "execution_count": 5,
      "outputs": []
    },
    {
      "cell_type": "code",
      "source": [
        "df.head()"
      ],
      "metadata": {
        "colab": {
          "base_uri": "https://localhost:8080/",
          "height": 300
        },
        "id": "LqtcIA84ljl7",
        "outputId": "67b92174-c41d-49f6-84ac-c83a00c31eec"
      },
      "id": "LqtcIA84ljl7",
      "execution_count": 6,
      "outputs": [
        {
          "output_type": "execute_result",
          "data": {
            "text/plain": [
              "    통계표 1.2.1.2 본원통화 구성내역(말잔,원계열)                         \n",
              "   항목명1              본원통화(말잔,원계열)     현금통화 중앙은행 대 예금취급기관부채\n",
              "     단위                      십억원      십억원             십억원 \n",
              "     변환                       원자료      원자료             원자료\n",
              "0  2002                  37,987.4  18228.1         19759.3\n",
              "1  2003                    40,749  17347.8         23401.2\n",
              "2  2004                  38,791.8  19206.8         19585.0\n",
              "3  2005                    43,249  20412.3         22836.7\n",
              "4  2006                  51,869.5  21636.1         30233.4"
            ],
            "text/html": [
              "\n",
              "  <div id=\"df-9ab397ab-c511-4a36-818f-1dc9c32e393c\">\n",
              "    <div class=\"colab-df-container\">\n",
              "      <div>\n",
              "<style scoped>\n",
              "    .dataframe tbody tr th:only-of-type {\n",
              "        vertical-align: middle;\n",
              "    }\n",
              "\n",
              "    .dataframe tbody tr th {\n",
              "        vertical-align: top;\n",
              "    }\n",
              "\n",
              "    .dataframe thead tr th {\n",
              "        text-align: left;\n",
              "    }\n",
              "</style>\n",
              "<table border=\"1\" class=\"dataframe\">\n",
              "  <thead>\n",
              "    <tr>\n",
              "      <th></th>\n",
              "      <th>통계표</th>\n",
              "      <th colspan=\"3\" halign=\"left\">1.2.1.2 본원통화 구성내역(말잔,원계열)</th>\n",
              "    </tr>\n",
              "    <tr>\n",
              "      <th></th>\n",
              "      <th>항목명1</th>\n",
              "      <th>본원통화(말잔,원계열)</th>\n",
              "      <th>현금통화</th>\n",
              "      <th>중앙은행 대 예금취급기관부채</th>\n",
              "    </tr>\n",
              "    <tr>\n",
              "      <th></th>\n",
              "      <th>단위</th>\n",
              "      <th>십억원</th>\n",
              "      <th>십억원</th>\n",
              "      <th>십억원</th>\n",
              "    </tr>\n",
              "    <tr>\n",
              "      <th></th>\n",
              "      <th>변환</th>\n",
              "      <th>원자료</th>\n",
              "      <th>원자료</th>\n",
              "      <th>원자료</th>\n",
              "    </tr>\n",
              "  </thead>\n",
              "  <tbody>\n",
              "    <tr>\n",
              "      <th>0</th>\n",
              "      <td>2002</td>\n",
              "      <td>37,987.4</td>\n",
              "      <td>18228.1</td>\n",
              "      <td>19759.3</td>\n",
              "    </tr>\n",
              "    <tr>\n",
              "      <th>1</th>\n",
              "      <td>2003</td>\n",
              "      <td>40,749</td>\n",
              "      <td>17347.8</td>\n",
              "      <td>23401.2</td>\n",
              "    </tr>\n",
              "    <tr>\n",
              "      <th>2</th>\n",
              "      <td>2004</td>\n",
              "      <td>38,791.8</td>\n",
              "      <td>19206.8</td>\n",
              "      <td>19585.0</td>\n",
              "    </tr>\n",
              "    <tr>\n",
              "      <th>3</th>\n",
              "      <td>2005</td>\n",
              "      <td>43,249</td>\n",
              "      <td>20412.3</td>\n",
              "      <td>22836.7</td>\n",
              "    </tr>\n",
              "    <tr>\n",
              "      <th>4</th>\n",
              "      <td>2006</td>\n",
              "      <td>51,869.5</td>\n",
              "      <td>21636.1</td>\n",
              "      <td>30233.4</td>\n",
              "    </tr>\n",
              "  </tbody>\n",
              "</table>\n",
              "</div>\n",
              "      <button class=\"colab-df-convert\" onclick=\"convertToInteractive('df-9ab397ab-c511-4a36-818f-1dc9c32e393c')\"\n",
              "              title=\"Convert this dataframe to an interactive table.\"\n",
              "              style=\"display:none;\">\n",
              "        \n",
              "  <svg xmlns=\"http://www.w3.org/2000/svg\" height=\"24px\"viewBox=\"0 0 24 24\"\n",
              "       width=\"24px\">\n",
              "    <path d=\"M0 0h24v24H0V0z\" fill=\"none\"/>\n",
              "    <path d=\"M18.56 5.44l.94 2.06.94-2.06 2.06-.94-2.06-.94-.94-2.06-.94 2.06-2.06.94zm-11 1L8.5 8.5l.94-2.06 2.06-.94-2.06-.94L8.5 2.5l-.94 2.06-2.06.94zm10 10l.94 2.06.94-2.06 2.06-.94-2.06-.94-.94-2.06-.94 2.06-2.06.94z\"/><path d=\"M17.41 7.96l-1.37-1.37c-.4-.4-.92-.59-1.43-.59-.52 0-1.04.2-1.43.59L10.3 9.45l-7.72 7.72c-.78.78-.78 2.05 0 2.83L4 21.41c.39.39.9.59 1.41.59.51 0 1.02-.2 1.41-.59l7.78-7.78 2.81-2.81c.8-.78.8-2.07 0-2.86zM5.41 20L4 18.59l7.72-7.72 1.47 1.35L5.41 20z\"/>\n",
              "  </svg>\n",
              "      </button>\n",
              "      \n",
              "  <style>\n",
              "    .colab-df-container {\n",
              "      display:flex;\n",
              "      flex-wrap:wrap;\n",
              "      gap: 12px;\n",
              "    }\n",
              "\n",
              "    .colab-df-convert {\n",
              "      background-color: #E8F0FE;\n",
              "      border: none;\n",
              "      border-radius: 50%;\n",
              "      cursor: pointer;\n",
              "      display: none;\n",
              "      fill: #1967D2;\n",
              "      height: 32px;\n",
              "      padding: 0 0 0 0;\n",
              "      width: 32px;\n",
              "    }\n",
              "\n",
              "    .colab-df-convert:hover {\n",
              "      background-color: #E2EBFA;\n",
              "      box-shadow: 0px 1px 2px rgba(60, 64, 67, 0.3), 0px 1px 3px 1px rgba(60, 64, 67, 0.15);\n",
              "      fill: #174EA6;\n",
              "    }\n",
              "\n",
              "    [theme=dark] .colab-df-convert {\n",
              "      background-color: #3B4455;\n",
              "      fill: #D2E3FC;\n",
              "    }\n",
              "\n",
              "    [theme=dark] .colab-df-convert:hover {\n",
              "      background-color: #434B5C;\n",
              "      box-shadow: 0px 1px 3px 1px rgba(0, 0, 0, 0.15);\n",
              "      filter: drop-shadow(0px 1px 2px rgba(0, 0, 0, 0.3));\n",
              "      fill: #FFFFFF;\n",
              "    }\n",
              "  </style>\n",
              "\n",
              "      <script>\n",
              "        const buttonEl =\n",
              "          document.querySelector('#df-9ab397ab-c511-4a36-818f-1dc9c32e393c button.colab-df-convert');\n",
              "        buttonEl.style.display =\n",
              "          google.colab.kernel.accessAllowed ? 'block' : 'none';\n",
              "\n",
              "        async function convertToInteractive(key) {\n",
              "          const element = document.querySelector('#df-9ab397ab-c511-4a36-818f-1dc9c32e393c');\n",
              "          const dataTable =\n",
              "            await google.colab.kernel.invokeFunction('convertToInteractive',\n",
              "                                                     [key], {});\n",
              "          if (!dataTable) return;\n",
              "\n",
              "          const docLinkHtml = 'Like what you see? Visit the ' +\n",
              "            '<a target=\"_blank\" href=https://colab.research.google.com/notebooks/data_table.ipynb>data table notebook</a>'\n",
              "            + ' to learn more about interactive tables.';\n",
              "          element.innerHTML = '';\n",
              "          dataTable['output_type'] = 'display_data';\n",
              "          await google.colab.output.renderOutput(dataTable, element);\n",
              "          const docLink = document.createElement('div');\n",
              "          docLink.innerHTML = docLinkHtml;\n",
              "          element.appendChild(docLink);\n",
              "        }\n",
              "      </script>\n",
              "    </div>\n",
              "  </div>\n",
              "  "
            ]
          },
          "metadata": {},
          "execution_count": 6
        }
      ]
    },
    {
      "cell_type": "code",
      "source": [
        "df.tail()"
      ],
      "metadata": {
        "colab": {
          "base_uri": "https://localhost:8080/",
          "height": 300
        },
        "id": "fQ9vmL6-m987",
        "outputId": "7a4a3662-f4df-4fe2-a1ed-962cd9fc617e"
      },
      "id": "fQ9vmL6-m987",
      "execution_count": 7,
      "outputs": [
        {
          "output_type": "execute_result",
          "data": {
            "text/plain": [
              "                                            통계표 1.2.1.2 본원통화 구성내역(말잔,원계열)  \\\n",
              "                                           항목명1              본원통화(말잔,원계열)   \n",
              "                                             단위                      십억원    \n",
              "                                             변환                       원자료   \n",
              "19                                         2021                 248,785.5   \n",
              "20                      1) 1.2.1.2 본원통화 구성내역(말잔                      원계열)   \n",
              "21         통계담당 : 한국은행 경제통계국 금융통계팀(02-759-4310)                       NaN   \n",
              "22  주 : 1) 본원통화 = 현금통화 + 중앙은행의 대 예금취급기관 부채 등(RP                통화안정증권 제외)   \n",
              "23                                  2) 최종월은 잠정치                       NaN   \n",
              "\n",
              "                              \n",
              "        현금통화 중앙은행 대 예금취급기관부채  \n",
              "        십억원             십억원   \n",
              "         원자료             원자료  \n",
              "19  156264.2         92521.4  \n",
              "20       NaN             NaN  \n",
              "21       NaN             NaN  \n",
              "22       NaN             NaN  \n",
              "23       NaN             NaN  "
            ],
            "text/html": [
              "\n",
              "  <div id=\"df-760804f9-3a90-4992-8a9a-e9756af78601\">\n",
              "    <div class=\"colab-df-container\">\n",
              "      <div>\n",
              "<style scoped>\n",
              "    .dataframe tbody tr th:only-of-type {\n",
              "        vertical-align: middle;\n",
              "    }\n",
              "\n",
              "    .dataframe tbody tr th {\n",
              "        vertical-align: top;\n",
              "    }\n",
              "\n",
              "    .dataframe thead tr th {\n",
              "        text-align: left;\n",
              "    }\n",
              "</style>\n",
              "<table border=\"1\" class=\"dataframe\">\n",
              "  <thead>\n",
              "    <tr>\n",
              "      <th></th>\n",
              "      <th>통계표</th>\n",
              "      <th colspan=\"3\" halign=\"left\">1.2.1.2 본원통화 구성내역(말잔,원계열)</th>\n",
              "    </tr>\n",
              "    <tr>\n",
              "      <th></th>\n",
              "      <th>항목명1</th>\n",
              "      <th>본원통화(말잔,원계열)</th>\n",
              "      <th>현금통화</th>\n",
              "      <th>중앙은행 대 예금취급기관부채</th>\n",
              "    </tr>\n",
              "    <tr>\n",
              "      <th></th>\n",
              "      <th>단위</th>\n",
              "      <th>십억원</th>\n",
              "      <th>십억원</th>\n",
              "      <th>십억원</th>\n",
              "    </tr>\n",
              "    <tr>\n",
              "      <th></th>\n",
              "      <th>변환</th>\n",
              "      <th>원자료</th>\n",
              "      <th>원자료</th>\n",
              "      <th>원자료</th>\n",
              "    </tr>\n",
              "  </thead>\n",
              "  <tbody>\n",
              "    <tr>\n",
              "      <th>19</th>\n",
              "      <td>2021</td>\n",
              "      <td>248,785.5</td>\n",
              "      <td>156264.2</td>\n",
              "      <td>92521.4</td>\n",
              "    </tr>\n",
              "    <tr>\n",
              "      <th>20</th>\n",
              "      <td>1) 1.2.1.2 본원통화 구성내역(말잔</td>\n",
              "      <td>원계열)</td>\n",
              "      <td>NaN</td>\n",
              "      <td>NaN</td>\n",
              "    </tr>\n",
              "    <tr>\n",
              "      <th>21</th>\n",
              "      <td>통계담당 : 한국은행 경제통계국 금융통계팀(02-759-4310)</td>\n",
              "      <td>NaN</td>\n",
              "      <td>NaN</td>\n",
              "      <td>NaN</td>\n",
              "    </tr>\n",
              "    <tr>\n",
              "      <th>22</th>\n",
              "      <td>주 : 1) 본원통화 = 현금통화 + 중앙은행의 대 예금취급기관 부채 등(RP</td>\n",
              "      <td>통화안정증권 제외)</td>\n",
              "      <td>NaN</td>\n",
              "      <td>NaN</td>\n",
              "    </tr>\n",
              "    <tr>\n",
              "      <th>23</th>\n",
              "      <td>2) 최종월은 잠정치</td>\n",
              "      <td>NaN</td>\n",
              "      <td>NaN</td>\n",
              "      <td>NaN</td>\n",
              "    </tr>\n",
              "  </tbody>\n",
              "</table>\n",
              "</div>\n",
              "      <button class=\"colab-df-convert\" onclick=\"convertToInteractive('df-760804f9-3a90-4992-8a9a-e9756af78601')\"\n",
              "              title=\"Convert this dataframe to an interactive table.\"\n",
              "              style=\"display:none;\">\n",
              "        \n",
              "  <svg xmlns=\"http://www.w3.org/2000/svg\" height=\"24px\"viewBox=\"0 0 24 24\"\n",
              "       width=\"24px\">\n",
              "    <path d=\"M0 0h24v24H0V0z\" fill=\"none\"/>\n",
              "    <path d=\"M18.56 5.44l.94 2.06.94-2.06 2.06-.94-2.06-.94-.94-2.06-.94 2.06-2.06.94zm-11 1L8.5 8.5l.94-2.06 2.06-.94-2.06-.94L8.5 2.5l-.94 2.06-2.06.94zm10 10l.94 2.06.94-2.06 2.06-.94-2.06-.94-.94-2.06-.94 2.06-2.06.94z\"/><path d=\"M17.41 7.96l-1.37-1.37c-.4-.4-.92-.59-1.43-.59-.52 0-1.04.2-1.43.59L10.3 9.45l-7.72 7.72c-.78.78-.78 2.05 0 2.83L4 21.41c.39.39.9.59 1.41.59.51 0 1.02-.2 1.41-.59l7.78-7.78 2.81-2.81c.8-.78.8-2.07 0-2.86zM5.41 20L4 18.59l7.72-7.72 1.47 1.35L5.41 20z\"/>\n",
              "  </svg>\n",
              "      </button>\n",
              "      \n",
              "  <style>\n",
              "    .colab-df-container {\n",
              "      display:flex;\n",
              "      flex-wrap:wrap;\n",
              "      gap: 12px;\n",
              "    }\n",
              "\n",
              "    .colab-df-convert {\n",
              "      background-color: #E8F0FE;\n",
              "      border: none;\n",
              "      border-radius: 50%;\n",
              "      cursor: pointer;\n",
              "      display: none;\n",
              "      fill: #1967D2;\n",
              "      height: 32px;\n",
              "      padding: 0 0 0 0;\n",
              "      width: 32px;\n",
              "    }\n",
              "\n",
              "    .colab-df-convert:hover {\n",
              "      background-color: #E2EBFA;\n",
              "      box-shadow: 0px 1px 2px rgba(60, 64, 67, 0.3), 0px 1px 3px 1px rgba(60, 64, 67, 0.15);\n",
              "      fill: #174EA6;\n",
              "    }\n",
              "\n",
              "    [theme=dark] .colab-df-convert {\n",
              "      background-color: #3B4455;\n",
              "      fill: #D2E3FC;\n",
              "    }\n",
              "\n",
              "    [theme=dark] .colab-df-convert:hover {\n",
              "      background-color: #434B5C;\n",
              "      box-shadow: 0px 1px 3px 1px rgba(0, 0, 0, 0.15);\n",
              "      filter: drop-shadow(0px 1px 2px rgba(0, 0, 0, 0.3));\n",
              "      fill: #FFFFFF;\n",
              "    }\n",
              "  </style>\n",
              "\n",
              "      <script>\n",
              "        const buttonEl =\n",
              "          document.querySelector('#df-760804f9-3a90-4992-8a9a-e9756af78601 button.colab-df-convert');\n",
              "        buttonEl.style.display =\n",
              "          google.colab.kernel.accessAllowed ? 'block' : 'none';\n",
              "\n",
              "        async function convertToInteractive(key) {\n",
              "          const element = document.querySelector('#df-760804f9-3a90-4992-8a9a-e9756af78601');\n",
              "          const dataTable =\n",
              "            await google.colab.kernel.invokeFunction('convertToInteractive',\n",
              "                                                     [key], {});\n",
              "          if (!dataTable) return;\n",
              "\n",
              "          const docLinkHtml = 'Like what you see? Visit the ' +\n",
              "            '<a target=\"_blank\" href=https://colab.research.google.com/notebooks/data_table.ipynb>data table notebook</a>'\n",
              "            + ' to learn more about interactive tables.';\n",
              "          element.innerHTML = '';\n",
              "          dataTable['output_type'] = 'display_data';\n",
              "          await google.colab.output.renderOutput(dataTable, element);\n",
              "          const docLink = document.createElement('div');\n",
              "          docLink.innerHTML = docLinkHtml;\n",
              "          element.appendChild(docLink);\n",
              "        }\n",
              "      </script>\n",
              "    </div>\n",
              "  </div>\n",
              "  "
            ]
          },
          "metadata": {},
          "execution_count": 7
        }
      ]
    },
    {
      "cell_type": "code",
      "source": [
        "df=pd.read_csv('/content/gdrive/MyDrive/Colab Notebooks/금융공학/dataset/f2_금리.csv', encoding='cp949', header=[0,1,2,3], thousands=',',skipfooter=5) "
      ],
      "metadata": {
        "id": "uHiITwdapSHw"
      },
      "id": "uHiITwdapSHw",
      "execution_count": 8,
      "outputs": []
    },
    {
      "cell_type": "code",
      "source": [
        "df.tail()"
      ],
      "metadata": {
        "colab": {
          "base_uri": "https://localhost:8080/",
          "height": 300
        },
        "id": "Y8MKLy_fnsUy",
        "outputId": "b0ffeba0-bcf1-4825-fd1f-1c5b0e6a7420"
      },
      "id": "Y8MKLy_fnsUy",
      "execution_count": 9,
      "outputs": [
        {
          "output_type": "execute_result",
          "data": {
            "text/plain": [
              "     통계표 1.2.1.2 본원통화 구성내역(말잔,원계열)                          \n",
              "    항목명1              본원통화(말잔,원계열)      현금통화 중앙은행 대 예금취급기관부채\n",
              "      단위                      십억원       십억원             십억원 \n",
              "      변환                       원자료       원자료             원자료\n",
              "15  2017                  155881.0   96842.8         59038.2\n",
              "16  2018                  172353.3  103994.8         68358.5\n",
              "17  2019                  191829.3  114523.9         77305.4\n",
              "18  2020                  221503.7  136152.6         85351.1\n",
              "19  2021                  248785.5  156264.2         92521.4"
            ],
            "text/html": [
              "\n",
              "  <div id=\"df-75dff600-709a-4eb9-8906-c3027456180f\">\n",
              "    <div class=\"colab-df-container\">\n",
              "      <div>\n",
              "<style scoped>\n",
              "    .dataframe tbody tr th:only-of-type {\n",
              "        vertical-align: middle;\n",
              "    }\n",
              "\n",
              "    .dataframe tbody tr th {\n",
              "        vertical-align: top;\n",
              "    }\n",
              "\n",
              "    .dataframe thead tr th {\n",
              "        text-align: left;\n",
              "    }\n",
              "</style>\n",
              "<table border=\"1\" class=\"dataframe\">\n",
              "  <thead>\n",
              "    <tr>\n",
              "      <th></th>\n",
              "      <th>통계표</th>\n",
              "      <th colspan=\"3\" halign=\"left\">1.2.1.2 본원통화 구성내역(말잔,원계열)</th>\n",
              "    </tr>\n",
              "    <tr>\n",
              "      <th></th>\n",
              "      <th>항목명1</th>\n",
              "      <th>본원통화(말잔,원계열)</th>\n",
              "      <th>현금통화</th>\n",
              "      <th>중앙은행 대 예금취급기관부채</th>\n",
              "    </tr>\n",
              "    <tr>\n",
              "      <th></th>\n",
              "      <th>단위</th>\n",
              "      <th>십억원</th>\n",
              "      <th>십억원</th>\n",
              "      <th>십억원</th>\n",
              "    </tr>\n",
              "    <tr>\n",
              "      <th></th>\n",
              "      <th>변환</th>\n",
              "      <th>원자료</th>\n",
              "      <th>원자료</th>\n",
              "      <th>원자료</th>\n",
              "    </tr>\n",
              "  </thead>\n",
              "  <tbody>\n",
              "    <tr>\n",
              "      <th>15</th>\n",
              "      <td>2017</td>\n",
              "      <td>155881.0</td>\n",
              "      <td>96842.8</td>\n",
              "      <td>59038.2</td>\n",
              "    </tr>\n",
              "    <tr>\n",
              "      <th>16</th>\n",
              "      <td>2018</td>\n",
              "      <td>172353.3</td>\n",
              "      <td>103994.8</td>\n",
              "      <td>68358.5</td>\n",
              "    </tr>\n",
              "    <tr>\n",
              "      <th>17</th>\n",
              "      <td>2019</td>\n",
              "      <td>191829.3</td>\n",
              "      <td>114523.9</td>\n",
              "      <td>77305.4</td>\n",
              "    </tr>\n",
              "    <tr>\n",
              "      <th>18</th>\n",
              "      <td>2020</td>\n",
              "      <td>221503.7</td>\n",
              "      <td>136152.6</td>\n",
              "      <td>85351.1</td>\n",
              "    </tr>\n",
              "    <tr>\n",
              "      <th>19</th>\n",
              "      <td>2021</td>\n",
              "      <td>248785.5</td>\n",
              "      <td>156264.2</td>\n",
              "      <td>92521.4</td>\n",
              "    </tr>\n",
              "  </tbody>\n",
              "</table>\n",
              "</div>\n",
              "      <button class=\"colab-df-convert\" onclick=\"convertToInteractive('df-75dff600-709a-4eb9-8906-c3027456180f')\"\n",
              "              title=\"Convert this dataframe to an interactive table.\"\n",
              "              style=\"display:none;\">\n",
              "        \n",
              "  <svg xmlns=\"http://www.w3.org/2000/svg\" height=\"24px\"viewBox=\"0 0 24 24\"\n",
              "       width=\"24px\">\n",
              "    <path d=\"M0 0h24v24H0V0z\" fill=\"none\"/>\n",
              "    <path d=\"M18.56 5.44l.94 2.06.94-2.06 2.06-.94-2.06-.94-.94-2.06-.94 2.06-2.06.94zm-11 1L8.5 8.5l.94-2.06 2.06-.94-2.06-.94L8.5 2.5l-.94 2.06-2.06.94zm10 10l.94 2.06.94-2.06 2.06-.94-2.06-.94-.94-2.06-.94 2.06-2.06.94z\"/><path d=\"M17.41 7.96l-1.37-1.37c-.4-.4-.92-.59-1.43-.59-.52 0-1.04.2-1.43.59L10.3 9.45l-7.72 7.72c-.78.78-.78 2.05 0 2.83L4 21.41c.39.39.9.59 1.41.59.51 0 1.02-.2 1.41-.59l7.78-7.78 2.81-2.81c.8-.78.8-2.07 0-2.86zM5.41 20L4 18.59l7.72-7.72 1.47 1.35L5.41 20z\"/>\n",
              "  </svg>\n",
              "      </button>\n",
              "      \n",
              "  <style>\n",
              "    .colab-df-container {\n",
              "      display:flex;\n",
              "      flex-wrap:wrap;\n",
              "      gap: 12px;\n",
              "    }\n",
              "\n",
              "    .colab-df-convert {\n",
              "      background-color: #E8F0FE;\n",
              "      border: none;\n",
              "      border-radius: 50%;\n",
              "      cursor: pointer;\n",
              "      display: none;\n",
              "      fill: #1967D2;\n",
              "      height: 32px;\n",
              "      padding: 0 0 0 0;\n",
              "      width: 32px;\n",
              "    }\n",
              "\n",
              "    .colab-df-convert:hover {\n",
              "      background-color: #E2EBFA;\n",
              "      box-shadow: 0px 1px 2px rgba(60, 64, 67, 0.3), 0px 1px 3px 1px rgba(60, 64, 67, 0.15);\n",
              "      fill: #174EA6;\n",
              "    }\n",
              "\n",
              "    [theme=dark] .colab-df-convert {\n",
              "      background-color: #3B4455;\n",
              "      fill: #D2E3FC;\n",
              "    }\n",
              "\n",
              "    [theme=dark] .colab-df-convert:hover {\n",
              "      background-color: #434B5C;\n",
              "      box-shadow: 0px 1px 3px 1px rgba(0, 0, 0, 0.15);\n",
              "      filter: drop-shadow(0px 1px 2px rgba(0, 0, 0, 0.3));\n",
              "      fill: #FFFFFF;\n",
              "    }\n",
              "  </style>\n",
              "\n",
              "      <script>\n",
              "        const buttonEl =\n",
              "          document.querySelector('#df-75dff600-709a-4eb9-8906-c3027456180f button.colab-df-convert');\n",
              "        buttonEl.style.display =\n",
              "          google.colab.kernel.accessAllowed ? 'block' : 'none';\n",
              "\n",
              "        async function convertToInteractive(key) {\n",
              "          const element = document.querySelector('#df-75dff600-709a-4eb9-8906-c3027456180f');\n",
              "          const dataTable =\n",
              "            await google.colab.kernel.invokeFunction('convertToInteractive',\n",
              "                                                     [key], {});\n",
              "          if (!dataTable) return;\n",
              "\n",
              "          const docLinkHtml = 'Like what you see? Visit the ' +\n",
              "            '<a target=\"_blank\" href=https://colab.research.google.com/notebooks/data_table.ipynb>data table notebook</a>'\n",
              "            + ' to learn more about interactive tables.';\n",
              "          element.innerHTML = '';\n",
              "          dataTable['output_type'] = 'display_data';\n",
              "          await google.colab.output.renderOutput(dataTable, element);\n",
              "          const docLink = document.createElement('div');\n",
              "          docLink.innerHTML = docLinkHtml;\n",
              "          element.appendChild(docLink);\n",
              "        }\n",
              "      </script>\n",
              "    </div>\n",
              "  </div>\n",
              "  "
            ]
          },
          "metadata": {},
          "execution_count": 9
        }
      ]
    },
    {
      "cell_type": "code",
      "source": [
        "df.columns = df.columns.droplevel([0,2,3])\n",
        "df.head()"
      ],
      "metadata": {
        "colab": {
          "base_uri": "https://localhost:8080/",
          "height": 206
        },
        "id": "kvi1HlFQmEbg",
        "outputId": "cf1d1720-454f-487d-fc7b-89dd59b518ed"
      },
      "id": "kvi1HlFQmEbg",
      "execution_count": 10,
      "outputs": [
        {
          "output_type": "execute_result",
          "data": {
            "text/plain": [
              "   항목명1  본원통화(말잔,원계열)     현금통화  중앙은행 대 예금취급기관부채\n",
              "0  2002       37987.4  18228.1          19759.3\n",
              "1  2003       40749.0  17347.8          23401.2\n",
              "2  2004       38791.8  19206.8          19585.0\n",
              "3  2005       43249.0  20412.3          22836.7\n",
              "4  2006       51869.5  21636.1          30233.4"
            ],
            "text/html": [
              "\n",
              "  <div id=\"df-ff6d8817-a67c-41ff-8146-1b8d5bcfb494\">\n",
              "    <div class=\"colab-df-container\">\n",
              "      <div>\n",
              "<style scoped>\n",
              "    .dataframe tbody tr th:only-of-type {\n",
              "        vertical-align: middle;\n",
              "    }\n",
              "\n",
              "    .dataframe tbody tr th {\n",
              "        vertical-align: top;\n",
              "    }\n",
              "\n",
              "    .dataframe thead th {\n",
              "        text-align: right;\n",
              "    }\n",
              "</style>\n",
              "<table border=\"1\" class=\"dataframe\">\n",
              "  <thead>\n",
              "    <tr style=\"text-align: right;\">\n",
              "      <th></th>\n",
              "      <th>항목명1</th>\n",
              "      <th>본원통화(말잔,원계열)</th>\n",
              "      <th>현금통화</th>\n",
              "      <th>중앙은행 대 예금취급기관부채</th>\n",
              "    </tr>\n",
              "  </thead>\n",
              "  <tbody>\n",
              "    <tr>\n",
              "      <th>0</th>\n",
              "      <td>2002</td>\n",
              "      <td>37987.4</td>\n",
              "      <td>18228.1</td>\n",
              "      <td>19759.3</td>\n",
              "    </tr>\n",
              "    <tr>\n",
              "      <th>1</th>\n",
              "      <td>2003</td>\n",
              "      <td>40749.0</td>\n",
              "      <td>17347.8</td>\n",
              "      <td>23401.2</td>\n",
              "    </tr>\n",
              "    <tr>\n",
              "      <th>2</th>\n",
              "      <td>2004</td>\n",
              "      <td>38791.8</td>\n",
              "      <td>19206.8</td>\n",
              "      <td>19585.0</td>\n",
              "    </tr>\n",
              "    <tr>\n",
              "      <th>3</th>\n",
              "      <td>2005</td>\n",
              "      <td>43249.0</td>\n",
              "      <td>20412.3</td>\n",
              "      <td>22836.7</td>\n",
              "    </tr>\n",
              "    <tr>\n",
              "      <th>4</th>\n",
              "      <td>2006</td>\n",
              "      <td>51869.5</td>\n",
              "      <td>21636.1</td>\n",
              "      <td>30233.4</td>\n",
              "    </tr>\n",
              "  </tbody>\n",
              "</table>\n",
              "</div>\n",
              "      <button class=\"colab-df-convert\" onclick=\"convertToInteractive('df-ff6d8817-a67c-41ff-8146-1b8d5bcfb494')\"\n",
              "              title=\"Convert this dataframe to an interactive table.\"\n",
              "              style=\"display:none;\">\n",
              "        \n",
              "  <svg xmlns=\"http://www.w3.org/2000/svg\" height=\"24px\"viewBox=\"0 0 24 24\"\n",
              "       width=\"24px\">\n",
              "    <path d=\"M0 0h24v24H0V0z\" fill=\"none\"/>\n",
              "    <path d=\"M18.56 5.44l.94 2.06.94-2.06 2.06-.94-2.06-.94-.94-2.06-.94 2.06-2.06.94zm-11 1L8.5 8.5l.94-2.06 2.06-.94-2.06-.94L8.5 2.5l-.94 2.06-2.06.94zm10 10l.94 2.06.94-2.06 2.06-.94-2.06-.94-.94-2.06-.94 2.06-2.06.94z\"/><path d=\"M17.41 7.96l-1.37-1.37c-.4-.4-.92-.59-1.43-.59-.52 0-1.04.2-1.43.59L10.3 9.45l-7.72 7.72c-.78.78-.78 2.05 0 2.83L4 21.41c.39.39.9.59 1.41.59.51 0 1.02-.2 1.41-.59l7.78-7.78 2.81-2.81c.8-.78.8-2.07 0-2.86zM5.41 20L4 18.59l7.72-7.72 1.47 1.35L5.41 20z\"/>\n",
              "  </svg>\n",
              "      </button>\n",
              "      \n",
              "  <style>\n",
              "    .colab-df-container {\n",
              "      display:flex;\n",
              "      flex-wrap:wrap;\n",
              "      gap: 12px;\n",
              "    }\n",
              "\n",
              "    .colab-df-convert {\n",
              "      background-color: #E8F0FE;\n",
              "      border: none;\n",
              "      border-radius: 50%;\n",
              "      cursor: pointer;\n",
              "      display: none;\n",
              "      fill: #1967D2;\n",
              "      height: 32px;\n",
              "      padding: 0 0 0 0;\n",
              "      width: 32px;\n",
              "    }\n",
              "\n",
              "    .colab-df-convert:hover {\n",
              "      background-color: #E2EBFA;\n",
              "      box-shadow: 0px 1px 2px rgba(60, 64, 67, 0.3), 0px 1px 3px 1px rgba(60, 64, 67, 0.15);\n",
              "      fill: #174EA6;\n",
              "    }\n",
              "\n",
              "    [theme=dark] .colab-df-convert {\n",
              "      background-color: #3B4455;\n",
              "      fill: #D2E3FC;\n",
              "    }\n",
              "\n",
              "    [theme=dark] .colab-df-convert:hover {\n",
              "      background-color: #434B5C;\n",
              "      box-shadow: 0px 1px 3px 1px rgba(0, 0, 0, 0.15);\n",
              "      filter: drop-shadow(0px 1px 2px rgba(0, 0, 0, 0.3));\n",
              "      fill: #FFFFFF;\n",
              "    }\n",
              "  </style>\n",
              "\n",
              "      <script>\n",
              "        const buttonEl =\n",
              "          document.querySelector('#df-ff6d8817-a67c-41ff-8146-1b8d5bcfb494 button.colab-df-convert');\n",
              "        buttonEl.style.display =\n",
              "          google.colab.kernel.accessAllowed ? 'block' : 'none';\n",
              "\n",
              "        async function convertToInteractive(key) {\n",
              "          const element = document.querySelector('#df-ff6d8817-a67c-41ff-8146-1b8d5bcfb494');\n",
              "          const dataTable =\n",
              "            await google.colab.kernel.invokeFunction('convertToInteractive',\n",
              "                                                     [key], {});\n",
              "          if (!dataTable) return;\n",
              "\n",
              "          const docLinkHtml = 'Like what you see? Visit the ' +\n",
              "            '<a target=\"_blank\" href=https://colab.research.google.com/notebooks/data_table.ipynb>data table notebook</a>'\n",
              "            + ' to learn more about interactive tables.';\n",
              "          element.innerHTML = '';\n",
              "          dataTable['output_type'] = 'display_data';\n",
              "          await google.colab.output.renderOutput(dataTable, element);\n",
              "          const docLink = document.createElement('div');\n",
              "          docLink.innerHTML = docLinkHtml;\n",
              "          element.appendChild(docLink);\n",
              "        }\n",
              "      </script>\n",
              "    </div>\n",
              "  </div>\n",
              "  "
            ]
          },
          "metadata": {},
          "execution_count": 10
        }
      ]
    },
    {
      "cell_type": "code",
      "source": [
        "df['항목명1']=pd.to_datetime(df['항목명1'],format='%Y').dt.year"
      ],
      "metadata": {
        "id": "fcoZtCoHp-Ym"
      },
      "id": "fcoZtCoHp-Ym",
      "execution_count": 11,
      "outputs": []
    },
    {
      "cell_type": "code",
      "source": [
        "df=df.set_index('항목명1')\n",
        "df.head()"
      ],
      "metadata": {
        "colab": {
          "base_uri": "https://localhost:8080/",
          "height": 238
        },
        "id": "rN12IJbuqJV7",
        "outputId": "ba8311a9-3938-4134-c0e9-18ccd4ec1c21"
      },
      "id": "rN12IJbuqJV7",
      "execution_count": 12,
      "outputs": [
        {
          "output_type": "execute_result",
          "data": {
            "text/plain": [
              "      본원통화(말잔,원계열)     현금통화  중앙은행 대 예금취급기관부채\n",
              "항목명1                                        \n",
              "2002       37987.4  18228.1          19759.3\n",
              "2003       40749.0  17347.8          23401.2\n",
              "2004       38791.8  19206.8          19585.0\n",
              "2005       43249.0  20412.3          22836.7\n",
              "2006       51869.5  21636.1          30233.4"
            ],
            "text/html": [
              "\n",
              "  <div id=\"df-93bb576d-2da3-472b-b118-fb67cf4474e3\">\n",
              "    <div class=\"colab-df-container\">\n",
              "      <div>\n",
              "<style scoped>\n",
              "    .dataframe tbody tr th:only-of-type {\n",
              "        vertical-align: middle;\n",
              "    }\n",
              "\n",
              "    .dataframe tbody tr th {\n",
              "        vertical-align: top;\n",
              "    }\n",
              "\n",
              "    .dataframe thead th {\n",
              "        text-align: right;\n",
              "    }\n",
              "</style>\n",
              "<table border=\"1\" class=\"dataframe\">\n",
              "  <thead>\n",
              "    <tr style=\"text-align: right;\">\n",
              "      <th></th>\n",
              "      <th>본원통화(말잔,원계열)</th>\n",
              "      <th>현금통화</th>\n",
              "      <th>중앙은행 대 예금취급기관부채</th>\n",
              "    </tr>\n",
              "    <tr>\n",
              "      <th>항목명1</th>\n",
              "      <th></th>\n",
              "      <th></th>\n",
              "      <th></th>\n",
              "    </tr>\n",
              "  </thead>\n",
              "  <tbody>\n",
              "    <tr>\n",
              "      <th>2002</th>\n",
              "      <td>37987.4</td>\n",
              "      <td>18228.1</td>\n",
              "      <td>19759.3</td>\n",
              "    </tr>\n",
              "    <tr>\n",
              "      <th>2003</th>\n",
              "      <td>40749.0</td>\n",
              "      <td>17347.8</td>\n",
              "      <td>23401.2</td>\n",
              "    </tr>\n",
              "    <tr>\n",
              "      <th>2004</th>\n",
              "      <td>38791.8</td>\n",
              "      <td>19206.8</td>\n",
              "      <td>19585.0</td>\n",
              "    </tr>\n",
              "    <tr>\n",
              "      <th>2005</th>\n",
              "      <td>43249.0</td>\n",
              "      <td>20412.3</td>\n",
              "      <td>22836.7</td>\n",
              "    </tr>\n",
              "    <tr>\n",
              "      <th>2006</th>\n",
              "      <td>51869.5</td>\n",
              "      <td>21636.1</td>\n",
              "      <td>30233.4</td>\n",
              "    </tr>\n",
              "  </tbody>\n",
              "</table>\n",
              "</div>\n",
              "      <button class=\"colab-df-convert\" onclick=\"convertToInteractive('df-93bb576d-2da3-472b-b118-fb67cf4474e3')\"\n",
              "              title=\"Convert this dataframe to an interactive table.\"\n",
              "              style=\"display:none;\">\n",
              "        \n",
              "  <svg xmlns=\"http://www.w3.org/2000/svg\" height=\"24px\"viewBox=\"0 0 24 24\"\n",
              "       width=\"24px\">\n",
              "    <path d=\"M0 0h24v24H0V0z\" fill=\"none\"/>\n",
              "    <path d=\"M18.56 5.44l.94 2.06.94-2.06 2.06-.94-2.06-.94-.94-2.06-.94 2.06-2.06.94zm-11 1L8.5 8.5l.94-2.06 2.06-.94-2.06-.94L8.5 2.5l-.94 2.06-2.06.94zm10 10l.94 2.06.94-2.06 2.06-.94-2.06-.94-.94-2.06-.94 2.06-2.06.94z\"/><path d=\"M17.41 7.96l-1.37-1.37c-.4-.4-.92-.59-1.43-.59-.52 0-1.04.2-1.43.59L10.3 9.45l-7.72 7.72c-.78.78-.78 2.05 0 2.83L4 21.41c.39.39.9.59 1.41.59.51 0 1.02-.2 1.41-.59l7.78-7.78 2.81-2.81c.8-.78.8-2.07 0-2.86zM5.41 20L4 18.59l7.72-7.72 1.47 1.35L5.41 20z\"/>\n",
              "  </svg>\n",
              "      </button>\n",
              "      \n",
              "  <style>\n",
              "    .colab-df-container {\n",
              "      display:flex;\n",
              "      flex-wrap:wrap;\n",
              "      gap: 12px;\n",
              "    }\n",
              "\n",
              "    .colab-df-convert {\n",
              "      background-color: #E8F0FE;\n",
              "      border: none;\n",
              "      border-radius: 50%;\n",
              "      cursor: pointer;\n",
              "      display: none;\n",
              "      fill: #1967D2;\n",
              "      height: 32px;\n",
              "      padding: 0 0 0 0;\n",
              "      width: 32px;\n",
              "    }\n",
              "\n",
              "    .colab-df-convert:hover {\n",
              "      background-color: #E2EBFA;\n",
              "      box-shadow: 0px 1px 2px rgba(60, 64, 67, 0.3), 0px 1px 3px 1px rgba(60, 64, 67, 0.15);\n",
              "      fill: #174EA6;\n",
              "    }\n",
              "\n",
              "    [theme=dark] .colab-df-convert {\n",
              "      background-color: #3B4455;\n",
              "      fill: #D2E3FC;\n",
              "    }\n",
              "\n",
              "    [theme=dark] .colab-df-convert:hover {\n",
              "      background-color: #434B5C;\n",
              "      box-shadow: 0px 1px 3px 1px rgba(0, 0, 0, 0.15);\n",
              "      filter: drop-shadow(0px 1px 2px rgba(0, 0, 0, 0.3));\n",
              "      fill: #FFFFFF;\n",
              "    }\n",
              "  </style>\n",
              "\n",
              "      <script>\n",
              "        const buttonEl =\n",
              "          document.querySelector('#df-93bb576d-2da3-472b-b118-fb67cf4474e3 button.colab-df-convert');\n",
              "        buttonEl.style.display =\n",
              "          google.colab.kernel.accessAllowed ? 'block' : 'none';\n",
              "\n",
              "        async function convertToInteractive(key) {\n",
              "          const element = document.querySelector('#df-93bb576d-2da3-472b-b118-fb67cf4474e3');\n",
              "          const dataTable =\n",
              "            await google.colab.kernel.invokeFunction('convertToInteractive',\n",
              "                                                     [key], {});\n",
              "          if (!dataTable) return;\n",
              "\n",
              "          const docLinkHtml = 'Like what you see? Visit the ' +\n",
              "            '<a target=\"_blank\" href=https://colab.research.google.com/notebooks/data_table.ipynb>data table notebook</a>'\n",
              "            + ' to learn more about interactive tables.';\n",
              "          element.innerHTML = '';\n",
              "          dataTable['output_type'] = 'display_data';\n",
              "          await google.colab.output.renderOutput(dataTable, element);\n",
              "          const docLink = document.createElement('div');\n",
              "          docLink.innerHTML = docLinkHtml;\n",
              "          element.appendChild(docLink);\n",
              "        }\n",
              "      </script>\n",
              "    </div>\n",
              "  </div>\n",
              "  "
            ]
          },
          "metadata": {},
          "execution_count": 12
        }
      ]
    },
    {
      "cell_type": "code",
      "source": [
        "df.head()"
      ],
      "metadata": {
        "colab": {
          "base_uri": "https://localhost:8080/",
          "height": 238
        },
        "id": "f7MkWsN-thyv",
        "outputId": "cbde41f1-8e8d-4513-cac2-666652871d3c"
      },
      "id": "f7MkWsN-thyv",
      "execution_count": 13,
      "outputs": [
        {
          "output_type": "execute_result",
          "data": {
            "text/plain": [
              "      본원통화(말잔,원계열)     현금통화  중앙은행 대 예금취급기관부채\n",
              "항목명1                                        \n",
              "2002       37987.4  18228.1          19759.3\n",
              "2003       40749.0  17347.8          23401.2\n",
              "2004       38791.8  19206.8          19585.0\n",
              "2005       43249.0  20412.3          22836.7\n",
              "2006       51869.5  21636.1          30233.4"
            ],
            "text/html": [
              "\n",
              "  <div id=\"df-c1ccce8f-1417-4d26-b5c9-f4c0986fce76\">\n",
              "    <div class=\"colab-df-container\">\n",
              "      <div>\n",
              "<style scoped>\n",
              "    .dataframe tbody tr th:only-of-type {\n",
              "        vertical-align: middle;\n",
              "    }\n",
              "\n",
              "    .dataframe tbody tr th {\n",
              "        vertical-align: top;\n",
              "    }\n",
              "\n",
              "    .dataframe thead th {\n",
              "        text-align: right;\n",
              "    }\n",
              "</style>\n",
              "<table border=\"1\" class=\"dataframe\">\n",
              "  <thead>\n",
              "    <tr style=\"text-align: right;\">\n",
              "      <th></th>\n",
              "      <th>본원통화(말잔,원계열)</th>\n",
              "      <th>현금통화</th>\n",
              "      <th>중앙은행 대 예금취급기관부채</th>\n",
              "    </tr>\n",
              "    <tr>\n",
              "      <th>항목명1</th>\n",
              "      <th></th>\n",
              "      <th></th>\n",
              "      <th></th>\n",
              "    </tr>\n",
              "  </thead>\n",
              "  <tbody>\n",
              "    <tr>\n",
              "      <th>2002</th>\n",
              "      <td>37987.4</td>\n",
              "      <td>18228.1</td>\n",
              "      <td>19759.3</td>\n",
              "    </tr>\n",
              "    <tr>\n",
              "      <th>2003</th>\n",
              "      <td>40749.0</td>\n",
              "      <td>17347.8</td>\n",
              "      <td>23401.2</td>\n",
              "    </tr>\n",
              "    <tr>\n",
              "      <th>2004</th>\n",
              "      <td>38791.8</td>\n",
              "      <td>19206.8</td>\n",
              "      <td>19585.0</td>\n",
              "    </tr>\n",
              "    <tr>\n",
              "      <th>2005</th>\n",
              "      <td>43249.0</td>\n",
              "      <td>20412.3</td>\n",
              "      <td>22836.7</td>\n",
              "    </tr>\n",
              "    <tr>\n",
              "      <th>2006</th>\n",
              "      <td>51869.5</td>\n",
              "      <td>21636.1</td>\n",
              "      <td>30233.4</td>\n",
              "    </tr>\n",
              "  </tbody>\n",
              "</table>\n",
              "</div>\n",
              "      <button class=\"colab-df-convert\" onclick=\"convertToInteractive('df-c1ccce8f-1417-4d26-b5c9-f4c0986fce76')\"\n",
              "              title=\"Convert this dataframe to an interactive table.\"\n",
              "              style=\"display:none;\">\n",
              "        \n",
              "  <svg xmlns=\"http://www.w3.org/2000/svg\" height=\"24px\"viewBox=\"0 0 24 24\"\n",
              "       width=\"24px\">\n",
              "    <path d=\"M0 0h24v24H0V0z\" fill=\"none\"/>\n",
              "    <path d=\"M18.56 5.44l.94 2.06.94-2.06 2.06-.94-2.06-.94-.94-2.06-.94 2.06-2.06.94zm-11 1L8.5 8.5l.94-2.06 2.06-.94-2.06-.94L8.5 2.5l-.94 2.06-2.06.94zm10 10l.94 2.06.94-2.06 2.06-.94-2.06-.94-.94-2.06-.94 2.06-2.06.94z\"/><path d=\"M17.41 7.96l-1.37-1.37c-.4-.4-.92-.59-1.43-.59-.52 0-1.04.2-1.43.59L10.3 9.45l-7.72 7.72c-.78.78-.78 2.05 0 2.83L4 21.41c.39.39.9.59 1.41.59.51 0 1.02-.2 1.41-.59l7.78-7.78 2.81-2.81c.8-.78.8-2.07 0-2.86zM5.41 20L4 18.59l7.72-7.72 1.47 1.35L5.41 20z\"/>\n",
              "  </svg>\n",
              "      </button>\n",
              "      \n",
              "  <style>\n",
              "    .colab-df-container {\n",
              "      display:flex;\n",
              "      flex-wrap:wrap;\n",
              "      gap: 12px;\n",
              "    }\n",
              "\n",
              "    .colab-df-convert {\n",
              "      background-color: #E8F0FE;\n",
              "      border: none;\n",
              "      border-radius: 50%;\n",
              "      cursor: pointer;\n",
              "      display: none;\n",
              "      fill: #1967D2;\n",
              "      height: 32px;\n",
              "      padding: 0 0 0 0;\n",
              "      width: 32px;\n",
              "    }\n",
              "\n",
              "    .colab-df-convert:hover {\n",
              "      background-color: #E2EBFA;\n",
              "      box-shadow: 0px 1px 2px rgba(60, 64, 67, 0.3), 0px 1px 3px 1px rgba(60, 64, 67, 0.15);\n",
              "      fill: #174EA6;\n",
              "    }\n",
              "\n",
              "    [theme=dark] .colab-df-convert {\n",
              "      background-color: #3B4455;\n",
              "      fill: #D2E3FC;\n",
              "    }\n",
              "\n",
              "    [theme=dark] .colab-df-convert:hover {\n",
              "      background-color: #434B5C;\n",
              "      box-shadow: 0px 1px 3px 1px rgba(0, 0, 0, 0.15);\n",
              "      filter: drop-shadow(0px 1px 2px rgba(0, 0, 0, 0.3));\n",
              "      fill: #FFFFFF;\n",
              "    }\n",
              "  </style>\n",
              "\n",
              "      <script>\n",
              "        const buttonEl =\n",
              "          document.querySelector('#df-c1ccce8f-1417-4d26-b5c9-f4c0986fce76 button.colab-df-convert');\n",
              "        buttonEl.style.display =\n",
              "          google.colab.kernel.accessAllowed ? 'block' : 'none';\n",
              "\n",
              "        async function convertToInteractive(key) {\n",
              "          const element = document.querySelector('#df-c1ccce8f-1417-4d26-b5c9-f4c0986fce76');\n",
              "          const dataTable =\n",
              "            await google.colab.kernel.invokeFunction('convertToInteractive',\n",
              "                                                     [key], {});\n",
              "          if (!dataTable) return;\n",
              "\n",
              "          const docLinkHtml = 'Like what you see? Visit the ' +\n",
              "            '<a target=\"_blank\" href=https://colab.research.google.com/notebooks/data_table.ipynb>data table notebook</a>'\n",
              "            + ' to learn more about interactive tables.';\n",
              "          element.innerHTML = '';\n",
              "          dataTable['output_type'] = 'display_data';\n",
              "          await google.colab.output.renderOutput(dataTable, element);\n",
              "          const docLink = document.createElement('div');\n",
              "          docLink.innerHTML = docLinkHtml;\n",
              "          element.appendChild(docLink);\n",
              "        }\n",
              "      </script>\n",
              "    </div>\n",
              "  </div>\n",
              "  "
            ]
          },
          "metadata": {},
          "execution_count": 13
        }
      ]
    },
    {
      "cell_type": "code",
      "source": [
        "import matplotlib.pyplot as plt\n",
        "plt.rc('font', family='NanumBarunGothic') "
      ],
      "metadata": {
        "id": "3v9kvbumwLIU"
      },
      "id": "3v9kvbumwLIU",
      "execution_count": 15,
      "outputs": []
    },
    {
      "cell_type": "code",
      "source": [
        "df.plot(kind='bar', figsize=(20,4))\n",
        "plt.xticks(rotation=45)\n",
        "plt.show()"
      ],
      "metadata": {
        "colab": {
          "base_uri": "https://localhost:8080/",
          "height": 293
        },
        "id": "6HK_GC3AuVzm",
        "outputId": "a8b239cc-4f13-4c61-9801-98ab80eeaeb4"
      },
      "id": "6HK_GC3AuVzm",
      "execution_count": 16,
      "outputs": [
        {
          "output_type": "display_data",
          "data": {
            "text/plain": [
              "<Figure size 1440x288 with 1 Axes>"
            ],
            "image/png": "[encoded data removed]"
          },
          "metadata": {
            "needs_background": "light"
          }
        }
      ]
    },
    {
      "cell_type": "code",
      "source": [
        "df[[\"본원통화(말잔,원계열)\", \"현금통화\", \"중앙은행 대 예금취급기관부채\"]].plot.bar()"
      ],
      "metadata": {
        "colab": {
          "base_uri": "https://localhost:8080/",
          "height": 311
        },
        "id": "r3gy6kdgmmW4",
        "outputId": "9809afb8-88e2-4646-81c0-036791c18cd2"
      },
      "id": "r3gy6kdgmmW4",
      "execution_count": 17,
      "outputs": [
        {
          "output_type": "execute_result",
          "data": {
            "text/plain": [
              "<matplotlib.axes._subplots.AxesSubplot at 0x7f1c9a4d0d10>"
            ]
          },
          "metadata": {},
          "execution_count": 17
        },
        {
          "output_type": "display_data",
          "data": {
            "text/plain": [
              "<Figure size 432x288 with 1 Axes>"
            ],
            "image/png": "[encoded data removed]"
          },
          "metadata": {
            "needs_background": "light"
          }
        }
      ]
    },
    {
      "cell_type": "markdown",
      "id": "crucial-terry",
      "metadata": {
        "id": "crucial-terry"
      },
      "source": [
        "## 기준금리\n",
        "* 금리 체계의 기준이 되는 금리"
      ]
    },
    {
      "cell_type": "code",
      "execution_count": 18,
      "id": "embedded-aruba",
      "metadata": {
        "id": "embedded-aruba"
      },
      "outputs": [],
      "source": [
        "#-------주요 국가 금리 비교 ------------"
      ]
    },
    {
      "cell_type": "markdown",
      "source": [
        ""
      ],
      "metadata": {
        "id": "deluxe-violin"
      },
      "id": "deluxe-violin"
    },
    {
      "cell_type": "code",
      "execution_count": 18,
      "id": "square-holmes",
      "metadata": {
        "id": "square-holmes"
      },
      "outputs": [],
      "source": [
        ""
      ]
    },
    {
      "cell_type": "markdown",
      "id": "faced-phrase",
      "metadata": {
        "id": "faced-phrase"
      },
      "source": [
        "## 시장금리"
      ]
    },
    {
      "cell_type": "markdown",
      "id": "caring-round",
      "metadata": {
        "id": "caring-round"
      },
      "source": [
        "* <b>COFIX</b>(Cost of Funds Index): 8개 은행의 자금조달 관련 정보를 기초로 산출되는 자금조달비용지수\n",
        "* <b>KORIBOR</b> : 은행간 만든 단기 기준금리\n",
        "* 단기투자상품 CD, CP,PR\n",
        "  - <b>CD</b>(Certificate of Deposit) : 양도성예금증서\n",
        "  - <b>CP</b>(Commercial Paper) : 기업어음 \n",
        "  - <b>RP</b>Repurchase Agreements) : 환매조건부채권 \n",
        "  -<img  width=\"700\" height=\"400\" src=\"https://blog.kakaocdn.net/dn/bvkcnI/btrwlQ59Tam/kBSJkX3mgru8zvMutAdi2k/img.png\" /><br>\n",
        "  "
      ]
    },
    {
      "cell_type": "code",
      "execution_count": 19,
      "id": "silver-comparative",
      "metadata": {
        "id": "silver-comparative"
      },
      "outputs": [],
      "source": [
        "#-------시장 금리 비교 ------------"
      ]
    },
    {
      "cell_type": "code",
      "execution_count": 19,
      "id": "concerned-command",
      "metadata": {
        "id": "concerned-command"
      },
      "outputs": [],
      "source": [
        ""
      ]
    },
    {
      "cell_type": "code",
      "execution_count": 20,
      "id": "graduate-percentage",
      "metadata": {
        "id": "graduate-percentage"
      },
      "outputs": [],
      "source": [
        "#-------기준금리에 따른 시장금리 변화 비교 ------------"
      ]
    },
    {
      "cell_type": "code",
      "execution_count": 20,
      "id": "vertical-brazilian",
      "metadata": {
        "id": "vertical-brazilian"
      },
      "outputs": [],
      "source": [
        ""
      ]
    },
    {
      "cell_type": "code",
      "execution_count": 21,
      "id": "expired-amsterdam",
      "metadata": {
        "id": "expired-amsterdam"
      },
      "outputs": [],
      "source": [
        "#-------시장 금리 비교 ------------"
      ]
    },
    {
      "cell_type": "code",
      "execution_count": 21,
      "id": "loose-candidate",
      "metadata": {
        "id": "loose-candidate"
      },
      "outputs": [],
      "source": [
        ""
      ]
    },
    {
      "cell_type": "code",
      "execution_count": 22,
      "id": "heard-poetry",
      "metadata": {
        "id": "heard-poetry"
      },
      "outputs": [],
      "source": [
        "# () 중앙은행의 기준금리 변화에 대한 시중은행의 예금금리와 대출금리의 비대칭적 변동을 실증 분석\n",
        "# https://www.kci.go.kr/kciportal/ci/sereArticleSearch/ciSereArtiView.kci?sereArticleSearchBean.artiId=ART002530569\n",
        "        "
      ]
    }
  ],
  "metadata": {
    "kernelspec": {
      "display_name": "Python 3",
      "language": "python",
      "name": "python3"
    },
    "language_info": {
      "codemirror_mode": {
        "name": "ipython",
        "version": 3
      },
      "file_extension": ".py",
      "mimetype": "text/x-python",
      "name": "python",
      "nbconvert_exporter": "python",
      "pygments_lexer": "ipython3",
      "version": "3.8.0"
    },
    "colab": {
      "name": "금융 공학 2일차.ipynb",
      "provenance": [],
      "collapsed_sections": [],
      "include_colab_link": true
    }
  },
  "nbformat": 4,
  "nbformat_minor": 5
}