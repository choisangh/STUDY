{
  "cells": [
    {
      "cell_type": "markdown",
      "metadata": {
        "id": "view-in-github",
        "colab_type": "text"
      },
      "source": [
        "<a href=\"https://colab.research.google.com/github/choisangh/STUDY/blob/main/finance/%EA%B8%88%EC%9C%B5_%EA%B3%B5%ED%95%99_2%EC%9D%BC%EC%B0%A8.ipynb\" target=\"_parent\"><img src=\"https://colab.research.google.com/assets/colab-badge.svg\" alt=\"Open In Colab\"/></a>"
      ]
    },
    {
      "cell_type": "markdown",
      "source": [
        "<img  width=\"700\" height=\"400\" src=\"https://blog.kakaocdn.net/dn/b89cU3/btrwfdvv0Md/kyIedPKHK4lMsMxpCnuQnK/img.png\" /><br>"
      ],
      "metadata": {
        "id": "jooZSIokwwxC"
      },
      "id": "jooZSIokwwxC"
    },
    {
      "cell_type": "markdown",
      "source": [
        "<img  width=\"700\" height=\"400\" src=\"https://blog.kakaocdn.net/dn/bzIXuu/btrwgE0nl5M/ZAloxkpxsF0zDMRwXKou2K/img.png\" /><br>\n",
        "# CD\n",
        "* 양도성예금증서 (양도가능-매매가능)\n",
        "* 양도가능 : 발행 은행에서 관리차원으로 누가 샀는지만 확인-> 말일에 누구의 소유인지 상관X\n",
        "\n",
        "# 단기금리\n",
        "* 콜금리/CD/CP\n",
        "\n",
        "## 어음\n",
        "* 물건 대금값(지불해야할 값)을 현금이 아닌 증서(어음)로 주는 것\n",
        "* 일정 기간 후(지정일)에 은행에서 대금 수령\n",
        "* 위험도가 높음 (기업파산위험)\n",
        "\n",
        "# CP(어음금리)\n",
        "* 대금값은 1000만이지만 어음으로 결제하면 일정 금리(CP)를 추가하여 발행 (미래에 수령하니까)\n",
        "* 1달후에 1100만원 이때 어음금리(CP)는 10%\n",
        "* 단기거래 형태는 91일 상품이 많음 <91일후 수령>\n",
        "\n"
      ],
      "metadata": {
        "id": "vu3ol32-w5Ka"
      },
      "id": "vu3ol32-w5Ka"
    },
    {
      "cell_type": "markdown",
      "source": [
        "<img  width=\"700\" height=\"400\" src=\"https://blog.kakaocdn.net/dn/b2phAp/btrweymnrf1/5tGdtBbzUgqokzbD4m07Xk/img.png\" /><br>\n"
      ],
      "metadata": {
        "id": "hVANuM830h_4"
      },
      "id": "hVANuM830h_4"
    },
    {
      "cell_type": "markdown",
      "source": [
        "<img  width=\"700\" height=\"400\" src=\"https://blog.kakaocdn.net/dn/elOQ1T/btrweyNlEgA/spv4dk5TuRc9XC8gKKORnK/img.png\" /><br>\n",
        "\n",
        "##고정금리\n",
        "* 대표적으로 금융채금리\n",
        "* 변동X 일정함\n",
        "\n",
        "##변동금리\n",
        "* 대표적으로 주택담보대출금리\n",
        "* 집값 5억 1%-> 집값 10억 2%\n",
        "\n",
        "## 고정금리 vs 변동금리\n",
        "* 대출 시 경제상황이 금리 지속 하락세 -> 변동금리 유리\n",
        "* 대출 시 경제상황이 금리 지속 상승세 -> 고정금리 유리"
      ],
      "metadata": {
        "id": "MqNtToyv1HvK"
      },
      "id": "MqNtToyv1HvK"
    },
    {
      "cell_type": "markdown",
      "source": [
        "<img  width=\"700\" height=\"400\" src=\"https://blog.kakaocdn.net/dn/cDg5D0/btrwk4J8beJ/WTC6SbJWfvmujQO3y7xifK/img.png\" /><br>\n",
        "# 기준금리 떨어지는데 대출금리, 국채금리 상승\n",
        "* 링크 : https://www.ytn.co.kr/_ln/0102_201910301518564398\n",
        "* 이유 : 기준금리를 낮춰도 은행채 남발 -> 채권 만기시 은행에서 돈 더 줘야함 -> 대출금리 상승"
      ],
      "metadata": {
        "id": "iYNKkL5m45mz"
      },
      "id": "iYNKkL5m45mz"
    },
    {
      "cell_type": "markdown",
      "source": [
        "<img  width=\"700\" height=\"400\" src=\"https://blog.kakaocdn.net/dn/bkPXPs/btrwgj97zNe/xcvjXkZeNTr0lksydDgD3k/img.png\" /><br>\n",
        "\n",
        "<img  width=\"700\" height=\"400\" src=\"https://blog.kakaocdn.net/dn/ckNARp/btrweyUbXGf/hAHMak3rrBRJfYEHLjjxn0/img.png\" /><br>"
      ],
      "metadata": {
        "id": "Pu8AXWqaAs68"
      },
      "id": "Pu8AXWqaAs68"
    },
    {
      "cell_type": "markdown",
      "source": [
        "<img  width=\"700\" height=\"400\" src=\"https://blog.kakaocdn.net/dn/KtGRj/btrwk44tGMd/kG15BdSIrCYKfxj3W2AnaK/img.png\" /><br>\n",
        "\n",
        "<img  width=\"700\" height=\"400\" src=\"https://blog.kakaocdn.net/dn/xIbvU/btrwhdVQvKO/dKFrpwnvUvu4vmmxsvx82k/img.png\" /><br>\n",
        "\n",
        "<img  width=\"700\" height=\"400\" src=\"https://blog.kakaocdn.net/dn/bNljqi/btrwfbR4f8Q/Us1FM5ZW4CO60femYFB0O1/img.png\" /><br>"
      ],
      "metadata": {
        "id": "kOY47UfOBGdG"
      },
      "id": "kOY47UfOBGdG"
    },
    {
      "cell_type": "markdown",
      "source": [
        "<img  width=\"700\" height=\"400\" src=\"https://blog.kakaocdn.net/dn/dRuwpc/btrwgEsAfMr/zBPjKOK5VvfREC5b5tymiK/img.png\" /><br>"
      ],
      "metadata": {
        "id": "p-ck6CF7BqpL"
      },
      "id": "p-ck6CF7BqpL"
    },
    {
      "cell_type": "markdown",
      "source": [
        "<img  width=\"700\" height=\"400\" src=\"https://blog.kakaocdn.net/dn/bH3eB1/btrwkvOCL1B/GIToQjXywETziBNhqa8I5k/img.png\" /><br>"
      ],
      "metadata": {
        "id": "oJw9KI4qInNE"
      },
      "id": "oJw9KI4qInNE"
    },
    {
      "cell_type": "markdown",
      "source": [
        "# 평균\n",
        "* ref : https://namu.wiki/w/%ED%8F%89%EA%B7%A0\n",
        "\n"
      ],
      "metadata": {
        "id": "1BiDeo21KEgN"
      },
      "id": "1BiDeo21KEgN"
    },
    {
      "cell_type": "markdown",
      "id": "outdoor-organization",
      "metadata": {
        "id": "outdoor-organization"
      },
      "source": [
        "<font size=6><b>금리 & 채권</b></font>\n",
        "* ref [2021년 1월 금융기관 가중평균금리] : https://www.bok.or.kr/portal/bbs/P0000559/view.do?nttId=10063199&menuNo=200690&pageIndex=1\n",
        "* ref [2022년 1월 금융기관 가중평균금리] : https://www.bok.or.kr/portal/bbs/P0000559/view.do?nttId=10069319&menuNo=200690\n",
        "* ref : https://www.ytn.co.kr/_ln/0102_201910301518564398\n",
        "* ref [ECOS] : http://ecos.bok.or.kr/flex/ClassSearch.jsp"
      ]
    },
    {
      "cell_type": "code",
      "source": [
        "pip install QuantLib"
      ],
      "metadata": {
        "colab": {
          "base_uri": "https://localhost:8080/"
        },
        "id": "0XbxAstTJ6Mq",
        "outputId": "a89411dd-f4b0-41c3-db0a-318686b9ec48"
      },
      "id": "0XbxAstTJ6Mq",
      "execution_count": 70,
      "outputs": [
        {
          "output_type": "stream",
          "name": "stdout",
          "text": [
            "Requirement already satisfied: QuantLib in /usr/local/lib/python3.7/dist-packages (1.25)\n"
          ]
        }
      ]
    },
    {
      "cell_type": "code",
      "execution_count": 71,
      "id": "experienced-plane",
      "metadata": {
        "id": "experienced-plane"
      },
      "outputs": [],
      "source": [
        "import pandas as pd\n",
        "import numpy as np\n",
        "import QuantLib as ql\n",
        "from datetime import date\n",
        "import logging\n",
        "import matplotlib.pyplot as plt\n",
        "import seaborn as sns\n",
        "import datetime\n",
        "\n",
        "import warnings\n",
        "warnings.filterwarnings(action='ignore')\n",
        "\n",
        "# numeric_level = getattr(logging, 'INFO', None)\n",
        "# logging.basicConfig(level=numeric_level, format='%(asctime)s %(levelname)-8s %(message)s', datefmt='%Y-%m-%d %H:%M:%S')"
      ]
    },
    {
      "cell_type": "code",
      "source": [
        "# colab\n",
        "from google.colab import drive\n",
        "drive.mount(\"/content/gdrive\")"
      ],
      "metadata": {
        "colab": {
          "base_uri": "https://localhost:8080/"
        },
        "id": "_HDq_ySek2o6",
        "outputId": "ec29484e-0f74-4063-d9cc-4459ca42a585"
      },
      "id": "_HDq_ySek2o6",
      "execution_count": 72,
      "outputs": [
        {
          "output_type": "stream",
          "name": "stdout",
          "text": [
            "Drive already mounted at /content/gdrive; to attempt to forcibly remount, call drive.mount(\"/content/gdrive\", force_remount=True).\n"
          ]
        }
      ]
    },
    {
      "cell_type": "markdown",
      "id": "immune-plate",
      "metadata": {
        "id": "immune-plate"
      },
      "source": [
        "# 통화 및 유동성 지표"
      ]
    },
    {
      "cell_type": "markdown",
      "id": "identical-hunter",
      "metadata": {
        "id": "identical-hunter"
      },
      "source": [
        "* <b>본원통화 (本源通貨, Reserve Base , monetary base 또는 base money) : 중앙은행 화폐발행액, 시중은행으로 보낸 돈\n",
        "  - 현금통화<한국은행이 갖고있는 돈> + 예금은행시재금<시중은행이 갖고있는 돈> + 중앙은행 지급준비예치금<뱅크런 막기 위한 최소한의 예치금><br>\n",
        "* 시장에 풀린 본원통화는 크게 다음 두가지 방식으로 유통된다.\n",
        "   - <b>현금통화 </b> : 현금의 형태로 실제 시장에 풀려 유통\n",
        "   - <b>지급준비금</b> : 시중은행으로 흘러들어가는 돈      "
      ]
    },
    {
      "cell_type": "markdown",
      "id": "hidden-picture",
      "metadata": {
        "id": "hidden-picture"
      },
      "source": [
        "* 통화지표 <br>\n",
        "   (예) 초기에 10일은 4만원 입금,  이 후 20일은 6만원 입금\n",
        "  - <b>평잔</b> : ( ( 40,000 * 10일 ) + ( 60,000 * 20일 ) ) / 30일 = 80,000원\n",
        "  - <b>말잔</b> : 10만원\n",
        "  - 은행이자는 평잔 기준\n",
        "  - 통상적으로는 평잔보다 말잔이 높다\n",
        " <table>\n",
        "    <tr>\n",
        "        <td><img src='https://img1.daumcdn.net/thumb/R1280x0/?scode=mtistory2&fname=https%3A%2F%2Fblog.kakaocdn.net%2Fdn%2FcZmxkR%2FbtqUeiF5uad%2FNk4LaGuEczfLzPYlsh0rJK%2Fimg.png'></td>\n",
        "        <td><img src='https://img1.daumcdn.net/thumb/R1280x0/?scode=mtistory2&fname=https%3A%2F%2Fblog.kakaocdn.net%2Fdn%2Few5rPj%2FbtqUeXhn0Ih%2F7fbSacPBHtreGVgdGF2MfK%2Fimg.png'></td>\n",
        "    </tr>\n",
        "</table>\n",
        "* M1 (협의통화) : 가계 소비내역\n",
        "* M2 (광의통화> : 시중에 돈이 얼마나 풀려 있는지를 보여주는 지표 \n",
        "* Lf (금융기관 유동성) : 금융기관 금융채 유동성 \n",
        "* L (광의 유동성) : 정부나 기업 유동성          \n",
        "<img  width=\"700\" height=\"400\" src=\"https://blog.kakaocdn.net/dn/bRnYpp/btrwhU20pIf/xHuGLuUlAL7TGvbIS2JNyK/img.png\" /><br>\n",
        "* ecos를 통해 통화지표/유동성지표 통계량 확인 가능 <기관별/경제주체별>"
      ]
    },
    {
      "cell_type": "markdown",
      "id": "permanent-acquisition",
      "metadata": {
        "tags": [],
        "id": "permanent-acquisition"
      },
      "source": [
        "# 금리 "
      ]
    },
    {
      "cell_type": "code",
      "source": [
        "#ecos 본원통화/현금통화/중앙은행 대 예치금부채\n",
        "df=pd.read_csv('/content/gdrive/MyDrive/Colab Notebooks/금융공학/dataset/f2_금리.csv', encoding='cp949') \n",
        "df.head()"
      ],
      "metadata": {
        "colab": {
          "base_uri": "https://localhost:8080/",
          "height": 206
        },
        "id": "ivGU6iGxl7cc",
        "outputId": "8acdf420-aa52-491b-e0b8-fbd43210974c"
      },
      "id": "ivGU6iGxl7cc",
      "execution_count": 73,
      "outputs": [
        {
          "output_type": "execute_result",
          "data": {
            "text/plain": [
              "    통계표 1.2.1.2 본원통화 구성내역(말잔,원계열) 1.2.1.2 본원통화 구성내역(말잔,원계열).1  \\\n",
              "0  항목명1              본원통화(말잔,원계열)                        현금통화   \n",
              "1    단위                      십억원                         십억원    \n",
              "2    변환                       원자료                         원자료   \n",
              "3  2002                  37,987.4                    18,228.1   \n",
              "4  2003                    40,749                    17,347.8   \n",
              "\n",
              "  1.2.1.2 본원통화 구성내역(말잔,원계열).2  \n",
              "0             중앙은행 대 예금취급기관부채  \n",
              "1                        십억원   \n",
              "2                         원자료  \n",
              "3                    19,759.3  \n",
              "4                    23,401.2  "
            ],
            "text/html": [
              "\n",
              "  <div id=\"df-a4bbf55d-3438-4a9c-8f1d-f9bcdf90932e\">\n",
              "    <div class=\"colab-df-container\">\n",
              "      <div>\n",
              "<style scoped>\n",
              "    .dataframe tbody tr th:only-of-type {\n",
              "        vertical-align: middle;\n",
              "    }\n",
              "\n",
              "    .dataframe tbody tr th {\n",
              "        vertical-align: top;\n",
              "    }\n",
              "\n",
              "    .dataframe thead th {\n",
              "        text-align: right;\n",
              "    }\n",
              "</style>\n",
              "<table border=\"1\" class=\"dataframe\">\n",
              "  <thead>\n",
              "    <tr style=\"text-align: right;\">\n",
              "      <th></th>\n",
              "      <th>통계표</th>\n",
              "      <th>1.2.1.2 본원통화 구성내역(말잔,원계열)</th>\n",
              "      <th>1.2.1.2 본원통화 구성내역(말잔,원계열).1</th>\n",
              "      <th>1.2.1.2 본원통화 구성내역(말잔,원계열).2</th>\n",
              "    </tr>\n",
              "  </thead>\n",
              "  <tbody>\n",
              "    <tr>\n",
              "      <th>0</th>\n",
              "      <td>항목명1</td>\n",
              "      <td>본원통화(말잔,원계열)</td>\n",
              "      <td>현금통화</td>\n",
              "      <td>중앙은행 대 예금취급기관부채</td>\n",
              "    </tr>\n",
              "    <tr>\n",
              "      <th>1</th>\n",
              "      <td>단위</td>\n",
              "      <td>십억원</td>\n",
              "      <td>십억원</td>\n",
              "      <td>십억원</td>\n",
              "    </tr>\n",
              "    <tr>\n",
              "      <th>2</th>\n",
              "      <td>변환</td>\n",
              "      <td>원자료</td>\n",
              "      <td>원자료</td>\n",
              "      <td>원자료</td>\n",
              "    </tr>\n",
              "    <tr>\n",
              "      <th>3</th>\n",
              "      <td>2002</td>\n",
              "      <td>37,987.4</td>\n",
              "      <td>18,228.1</td>\n",
              "      <td>19,759.3</td>\n",
              "    </tr>\n",
              "    <tr>\n",
              "      <th>4</th>\n",
              "      <td>2003</td>\n",
              "      <td>40,749</td>\n",
              "      <td>17,347.8</td>\n",
              "      <td>23,401.2</td>\n",
              "    </tr>\n",
              "  </tbody>\n",
              "</table>\n",
              "</div>\n",
              "      <button class=\"colab-df-convert\" onclick=\"convertToInteractive('df-a4bbf55d-3438-4a9c-8f1d-f9bcdf90932e')\"\n",
              "              title=\"Convert this dataframe to an interactive table.\"\n",
              "              style=\"display:none;\">\n",
              "        \n",
              "  <svg xmlns=\"http://www.w3.org/2000/svg\" height=\"24px\"viewBox=\"0 0 24 24\"\n",
              "       width=\"24px\">\n",
              "    <path d=\"M0 0h24v24H0V0z\" fill=\"none\"/>\n",
              "    <path d=\"M18.56 5.44l.94 2.06.94-2.06 2.06-.94-2.06-.94-.94-2.06-.94 2.06-2.06.94zm-11 1L8.5 8.5l.94-2.06 2.06-.94-2.06-.94L8.5 2.5l-.94 2.06-2.06.94zm10 10l.94 2.06.94-2.06 2.06-.94-2.06-.94-.94-2.06-.94 2.06-2.06.94z\"/><path d=\"M17.41 7.96l-1.37-1.37c-.4-.4-.92-.59-1.43-.59-.52 0-1.04.2-1.43.59L10.3 9.45l-7.72 7.72c-.78.78-.78 2.05 0 2.83L4 21.41c.39.39.9.59 1.41.59.51 0 1.02-.2 1.41-.59l7.78-7.78 2.81-2.81c.8-.78.8-2.07 0-2.86zM5.41 20L4 18.59l7.72-7.72 1.47 1.35L5.41 20z\"/>\n",
              "  </svg>\n",
              "      </button>\n",
              "      \n",
              "  <style>\n",
              "    .colab-df-container {\n",
              "      display:flex;\n",
              "      flex-wrap:wrap;\n",
              "      gap: 12px;\n",
              "    }\n",
              "\n",
              "    .colab-df-convert {\n",
              "      background-color: #E8F0FE;\n",
              "      border: none;\n",
              "      border-radius: 50%;\n",
              "      cursor: pointer;\n",
              "      display: none;\n",
              "      fill: #1967D2;\n",
              "      height: 32px;\n",
              "      padding: 0 0 0 0;\n",
              "      width: 32px;\n",
              "    }\n",
              "\n",
              "    .colab-df-convert:hover {\n",
              "      background-color: #E2EBFA;\n",
              "      box-shadow: 0px 1px 2px rgba(60, 64, 67, 0.3), 0px 1px 3px 1px rgba(60, 64, 67, 0.15);\n",
              "      fill: #174EA6;\n",
              "    }\n",
              "\n",
              "    [theme=dark] .colab-df-convert {\n",
              "      background-color: #3B4455;\n",
              "      fill: #D2E3FC;\n",
              "    }\n",
              "\n",
              "    [theme=dark] .colab-df-convert:hover {\n",
              "      background-color: #434B5C;\n",
              "      box-shadow: 0px 1px 3px 1px rgba(0, 0, 0, 0.15);\n",
              "      filter: drop-shadow(0px 1px 2px rgba(0, 0, 0, 0.3));\n",
              "      fill: #FFFFFF;\n",
              "    }\n",
              "  </style>\n",
              "\n",
              "      <script>\n",
              "        const buttonEl =\n",
              "          document.querySelector('#df-a4bbf55d-3438-4a9c-8f1d-f9bcdf90932e button.colab-df-convert');\n",
              "        buttonEl.style.display =\n",
              "          google.colab.kernel.accessAllowed ? 'block' : 'none';\n",
              "\n",
              "        async function convertToInteractive(key) {\n",
              "          const element = document.querySelector('#df-a4bbf55d-3438-4a9c-8f1d-f9bcdf90932e');\n",
              "          const dataTable =\n",
              "            await google.colab.kernel.invokeFunction('convertToInteractive',\n",
              "                                                     [key], {});\n",
              "          if (!dataTable) return;\n",
              "\n",
              "          const docLinkHtml = 'Like what you see? Visit the ' +\n",
              "            '<a target=\"_blank\" href=https://colab.research.google.com/notebooks/data_table.ipynb>data table notebook</a>'\n",
              "            + ' to learn more about interactive tables.';\n",
              "          element.innerHTML = '';\n",
              "          dataTable['output_type'] = 'display_data';\n",
              "          await google.colab.output.renderOutput(dataTable, element);\n",
              "          const docLink = document.createElement('div');\n",
              "          docLink.innerHTML = docLinkHtml;\n",
              "          element.appendChild(docLink);\n",
              "        }\n",
              "      </script>\n",
              "    </div>\n",
              "  </div>\n",
              "  "
            ]
          },
          "metadata": {},
          "execution_count": 73
        }
      ]
    },
    {
      "cell_type": "code",
      "source": [
        "#멀티컬럼 병합\n",
        "df=pd.read_csv('/content/gdrive/MyDrive/Colab Notebooks/금융공학/dataset/f2_금리.csv', encoding='cp949', header=[0,1,2,3], thousands=',') "
      ],
      "metadata": {
        "id": "UmwsJLW7k5zj"
      },
      "id": "UmwsJLW7k5zj",
      "execution_count": 74,
      "outputs": []
    },
    {
      "cell_type": "code",
      "source": [
        "df.head()"
      ],
      "metadata": {
        "colab": {
          "base_uri": "https://localhost:8080/",
          "height": 300
        },
        "id": "LqtcIA84ljl7",
        "outputId": "228edabf-0c9c-4302-a8f0-80e5b7518a7f"
      },
      "id": "LqtcIA84ljl7",
      "execution_count": 75,
      "outputs": [
        {
          "output_type": "execute_result",
          "data": {
            "text/plain": [
              "    통계표 1.2.1.2 본원통화 구성내역(말잔,원계열)                         \n",
              "   항목명1              본원통화(말잔,원계열)     현금통화 중앙은행 대 예금취급기관부채\n",
              "     단위                      십억원      십억원             십억원 \n",
              "     변환                       원자료      원자료             원자료\n",
              "0  2002                  37,987.4  18228.1         19759.3\n",
              "1  2003                    40,749  17347.8         23401.2\n",
              "2  2004                  38,791.8  19206.8         19585.0\n",
              "3  2005                    43,249  20412.3         22836.7\n",
              "4  2006                  51,869.5  21636.1         30233.4"
            ],
            "text/html": [
              "\n",
              "  <div id=\"df-1af7ebaa-2cac-46d6-9990-c5d454740ed2\">\n",
              "    <div class=\"colab-df-container\">\n",
              "      <div>\n",
              "<style scoped>\n",
              "    .dataframe tbody tr th:only-of-type {\n",
              "        vertical-align: middle;\n",
              "    }\n",
              "\n",
              "    .dataframe tbody tr th {\n",
              "        vertical-align: top;\n",
              "    }\n",
              "\n",
              "    .dataframe thead tr th {\n",
              "        text-align: left;\n",
              "    }\n",
              "</style>\n",
              "<table border=\"1\" class=\"dataframe\">\n",
              "  <thead>\n",
              "    <tr>\n",
              "      <th></th>\n",
              "      <th>통계표</th>\n",
              "      <th colspan=\"3\" halign=\"left\">1.2.1.2 본원통화 구성내역(말잔,원계열)</th>\n",
              "    </tr>\n",
              "    <tr>\n",
              "      <th></th>\n",
              "      <th>항목명1</th>\n",
              "      <th>본원통화(말잔,원계열)</th>\n",
              "      <th>현금통화</th>\n",
              "      <th>중앙은행 대 예금취급기관부채</th>\n",
              "    </tr>\n",
              "    <tr>\n",
              "      <th></th>\n",
              "      <th>단위</th>\n",
              "      <th>십억원</th>\n",
              "      <th>십억원</th>\n",
              "      <th>십억원</th>\n",
              "    </tr>\n",
              "    <tr>\n",
              "      <th></th>\n",
              "      <th>변환</th>\n",
              "      <th>원자료</th>\n",
              "      <th>원자료</th>\n",
              "      <th>원자료</th>\n",
              "    </tr>\n",
              "  </thead>\n",
              "  <tbody>\n",
              "    <tr>\n",
              "      <th>0</th>\n",
              "      <td>2002</td>\n",
              "      <td>37,987.4</td>\n",
              "      <td>18228.1</td>\n",
              "      <td>19759.3</td>\n",
              "    </tr>\n",
              "    <tr>\n",
              "      <th>1</th>\n",
              "      <td>2003</td>\n",
              "      <td>40,749</td>\n",
              "      <td>17347.8</td>\n",
              "      <td>23401.2</td>\n",
              "    </tr>\n",
              "    <tr>\n",
              "      <th>2</th>\n",
              "      <td>2004</td>\n",
              "      <td>38,791.8</td>\n",
              "      <td>19206.8</td>\n",
              "      <td>19585.0</td>\n",
              "    </tr>\n",
              "    <tr>\n",
              "      <th>3</th>\n",
              "      <td>2005</td>\n",
              "      <td>43,249</td>\n",
              "      <td>20412.3</td>\n",
              "      <td>22836.7</td>\n",
              "    </tr>\n",
              "    <tr>\n",
              "      <th>4</th>\n",
              "      <td>2006</td>\n",
              "      <td>51,869.5</td>\n",
              "      <td>21636.1</td>\n",
              "      <td>30233.4</td>\n",
              "    </tr>\n",
              "  </tbody>\n",
              "</table>\n",
              "</div>\n",
              "      <button class=\"colab-df-convert\" onclick=\"convertToInteractive('df-1af7ebaa-2cac-46d6-9990-c5d454740ed2')\"\n",
              "              title=\"Convert this dataframe to an interactive table.\"\n",
              "              style=\"display:none;\">\n",
              "        \n",
              "  <svg xmlns=\"http://www.w3.org/2000/svg\" height=\"24px\"viewBox=\"0 0 24 24\"\n",
              "       width=\"24px\">\n",
              "    <path d=\"M0 0h24v24H0V0z\" fill=\"none\"/>\n",
              "    <path d=\"M18.56 5.44l.94 2.06.94-2.06 2.06-.94-2.06-.94-.94-2.06-.94 2.06-2.06.94zm-11 1L8.5 8.5l.94-2.06 2.06-.94-2.06-.94L8.5 2.5l-.94 2.06-2.06.94zm10 10l.94 2.06.94-2.06 2.06-.94-2.06-.94-.94-2.06-.94 2.06-2.06.94z\"/><path d=\"M17.41 7.96l-1.37-1.37c-.4-.4-.92-.59-1.43-.59-.52 0-1.04.2-1.43.59L10.3 9.45l-7.72 7.72c-.78.78-.78 2.05 0 2.83L4 21.41c.39.39.9.59 1.41.59.51 0 1.02-.2 1.41-.59l7.78-7.78 2.81-2.81c.8-.78.8-2.07 0-2.86zM5.41 20L4 18.59l7.72-7.72 1.47 1.35L5.41 20z\"/>\n",
              "  </svg>\n",
              "      </button>\n",
              "      \n",
              "  <style>\n",
              "    .colab-df-container {\n",
              "      display:flex;\n",
              "      flex-wrap:wrap;\n",
              "      gap: 12px;\n",
              "    }\n",
              "\n",
              "    .colab-df-convert {\n",
              "      background-color: #E8F0FE;\n",
              "      border: none;\n",
              "      border-radius: 50%;\n",
              "      cursor: pointer;\n",
              "      display: none;\n",
              "      fill: #1967D2;\n",
              "      height: 32px;\n",
              "      padding: 0 0 0 0;\n",
              "      width: 32px;\n",
              "    }\n",
              "\n",
              "    .colab-df-convert:hover {\n",
              "      background-color: #E2EBFA;\n",
              "      box-shadow: 0px 1px 2px rgba(60, 64, 67, 0.3), 0px 1px 3px 1px rgba(60, 64, 67, 0.15);\n",
              "      fill: #174EA6;\n",
              "    }\n",
              "\n",
              "    [theme=dark] .colab-df-convert {\n",
              "      background-color: #3B4455;\n",
              "      fill: #D2E3FC;\n",
              "    }\n",
              "\n",
              "    [theme=dark] .colab-df-convert:hover {\n",
              "      background-color: #434B5C;\n",
              "      box-shadow: 0px 1px 3px 1px rgba(0, 0, 0, 0.15);\n",
              "      filter: drop-shadow(0px 1px 2px rgba(0, 0, 0, 0.3));\n",
              "      fill: #FFFFFF;\n",
              "    }\n",
              "  </style>\n",
              "\n",
              "      <script>\n",
              "        const buttonEl =\n",
              "          document.querySelector('#df-1af7ebaa-2cac-46d6-9990-c5d454740ed2 button.colab-df-convert');\n",
              "        buttonEl.style.display =\n",
              "          google.colab.kernel.accessAllowed ? 'block' : 'none';\n",
              "\n",
              "        async function convertToInteractive(key) {\n",
              "          const element = document.querySelector('#df-1af7ebaa-2cac-46d6-9990-c5d454740ed2');\n",
              "          const dataTable =\n",
              "            await google.colab.kernel.invokeFunction('convertToInteractive',\n",
              "                                                     [key], {});\n",
              "          if (!dataTable) return;\n",
              "\n",
              "          const docLinkHtml = 'Like what you see? Visit the ' +\n",
              "            '<a target=\"_blank\" href=https://colab.research.google.com/notebooks/data_table.ipynb>data table notebook</a>'\n",
              "            + ' to learn more about interactive tables.';\n",
              "          element.innerHTML = '';\n",
              "          dataTable['output_type'] = 'display_data';\n",
              "          await google.colab.output.renderOutput(dataTable, element);\n",
              "          const docLink = document.createElement('div');\n",
              "          docLink.innerHTML = docLinkHtml;\n",
              "          element.appendChild(docLink);\n",
              "        }\n",
              "      </script>\n",
              "    </div>\n",
              "  </div>\n",
              "  "
            ]
          },
          "metadata": {},
          "execution_count": 75
        }
      ]
    },
    {
      "cell_type": "code",
      "source": [
        "df.tail()"
      ],
      "metadata": {
        "colab": {
          "base_uri": "https://localhost:8080/",
          "height": 300
        },
        "id": "fQ9vmL6-m987",
        "outputId": "b85279ad-2f43-4e0d-ce08-49cac338636d"
      },
      "id": "fQ9vmL6-m987",
      "execution_count": 76,
      "outputs": [
        {
          "output_type": "execute_result",
          "data": {
            "text/plain": [
              "                                            통계표 1.2.1.2 본원통화 구성내역(말잔,원계열)  \\\n",
              "                                           항목명1              본원통화(말잔,원계열)   \n",
              "                                             단위                      십억원    \n",
              "                                             변환                       원자료   \n",
              "19                                         2021                 248,785.5   \n",
              "20                      1) 1.2.1.2 본원통화 구성내역(말잔                      원계열)   \n",
              "21         통계담당 : 한국은행 경제통계국 금융통계팀(02-759-4310)                       NaN   \n",
              "22  주 : 1) 본원통화 = 현금통화 + 중앙은행의 대 예금취급기관 부채 등(RP                통화안정증권 제외)   \n",
              "23                                  2) 최종월은 잠정치                       NaN   \n",
              "\n",
              "                              \n",
              "        현금통화 중앙은행 대 예금취급기관부채  \n",
              "        십억원             십억원   \n",
              "         원자료             원자료  \n",
              "19  156264.2         92521.4  \n",
              "20       NaN             NaN  \n",
              "21       NaN             NaN  \n",
              "22       NaN             NaN  \n",
              "23       NaN             NaN  "
            ],
            "text/html": [
              "\n",
              "  <div id=\"df-8173eec1-8969-4147-874b-dc558071d375\">\n",
              "    <div class=\"colab-df-container\">\n",
              "      <div>\n",
              "<style scoped>\n",
              "    .dataframe tbody tr th:only-of-type {\n",
              "        vertical-align: middle;\n",
              "    }\n",
              "\n",
              "    .dataframe tbody tr th {\n",
              "        vertical-align: top;\n",
              "    }\n",
              "\n",
              "    .dataframe thead tr th {\n",
              "        text-align: left;\n",
              "    }\n",
              "</style>\n",
              "<table border=\"1\" class=\"dataframe\">\n",
              "  <thead>\n",
              "    <tr>\n",
              "      <th></th>\n",
              "      <th>통계표</th>\n",
              "      <th colspan=\"3\" halign=\"left\">1.2.1.2 본원통화 구성내역(말잔,원계열)</th>\n",
              "    </tr>\n",
              "    <tr>\n",
              "      <th></th>\n",
              "      <th>항목명1</th>\n",
              "      <th>본원통화(말잔,원계열)</th>\n",
              "      <th>현금통화</th>\n",
              "      <th>중앙은행 대 예금취급기관부채</th>\n",
              "    </tr>\n",
              "    <tr>\n",
              "      <th></th>\n",
              "      <th>단위</th>\n",
              "      <th>십억원</th>\n",
              "      <th>십억원</th>\n",
              "      <th>십억원</th>\n",
              "    </tr>\n",
              "    <tr>\n",
              "      <th></th>\n",
              "      <th>변환</th>\n",
              "      <th>원자료</th>\n",
              "      <th>원자료</th>\n",
              "      <th>원자료</th>\n",
              "    </tr>\n",
              "  </thead>\n",
              "  <tbody>\n",
              "    <tr>\n",
              "      <th>19</th>\n",
              "      <td>2021</td>\n",
              "      <td>248,785.5</td>\n",
              "      <td>156264.2</td>\n",
              "      <td>92521.4</td>\n",
              "    </tr>\n",
              "    <tr>\n",
              "      <th>20</th>\n",
              "      <td>1) 1.2.1.2 본원통화 구성내역(말잔</td>\n",
              "      <td>원계열)</td>\n",
              "      <td>NaN</td>\n",
              "      <td>NaN</td>\n",
              "    </tr>\n",
              "    <tr>\n",
              "      <th>21</th>\n",
              "      <td>통계담당 : 한국은행 경제통계국 금융통계팀(02-759-4310)</td>\n",
              "      <td>NaN</td>\n",
              "      <td>NaN</td>\n",
              "      <td>NaN</td>\n",
              "    </tr>\n",
              "    <tr>\n",
              "      <th>22</th>\n",
              "      <td>주 : 1) 본원통화 = 현금통화 + 중앙은행의 대 예금취급기관 부채 등(RP</td>\n",
              "      <td>통화안정증권 제외)</td>\n",
              "      <td>NaN</td>\n",
              "      <td>NaN</td>\n",
              "    </tr>\n",
              "    <tr>\n",
              "      <th>23</th>\n",
              "      <td>2) 최종월은 잠정치</td>\n",
              "      <td>NaN</td>\n",
              "      <td>NaN</td>\n",
              "      <td>NaN</td>\n",
              "    </tr>\n",
              "  </tbody>\n",
              "</table>\n",
              "</div>\n",
              "      <button class=\"colab-df-convert\" onclick=\"convertToInteractive('df-8173eec1-8969-4147-874b-dc558071d375')\"\n",
              "              title=\"Convert this dataframe to an interactive table.\"\n",
              "              style=\"display:none;\">\n",
              "        \n",
              "  <svg xmlns=\"http://www.w3.org/2000/svg\" height=\"24px\"viewBox=\"0 0 24 24\"\n",
              "       width=\"24px\">\n",
              "    <path d=\"M0 0h24v24H0V0z\" fill=\"none\"/>\n",
              "    <path d=\"M18.56 5.44l.94 2.06.94-2.06 2.06-.94-2.06-.94-.94-2.06-.94 2.06-2.06.94zm-11 1L8.5 8.5l.94-2.06 2.06-.94-2.06-.94L8.5 2.5l-.94 2.06-2.06.94zm10 10l.94 2.06.94-2.06 2.06-.94-2.06-.94-.94-2.06-.94 2.06-2.06.94z\"/><path d=\"M17.41 7.96l-1.37-1.37c-.4-.4-.92-.59-1.43-.59-.52 0-1.04.2-1.43.59L10.3 9.45l-7.72 7.72c-.78.78-.78 2.05 0 2.83L4 21.41c.39.39.9.59 1.41.59.51 0 1.02-.2 1.41-.59l7.78-7.78 2.81-2.81c.8-.78.8-2.07 0-2.86zM5.41 20L4 18.59l7.72-7.72 1.47 1.35L5.41 20z\"/>\n",
              "  </svg>\n",
              "      </button>\n",
              "      \n",
              "  <style>\n",
              "    .colab-df-container {\n",
              "      display:flex;\n",
              "      flex-wrap:wrap;\n",
              "      gap: 12px;\n",
              "    }\n",
              "\n",
              "    .colab-df-convert {\n",
              "      background-color: #E8F0FE;\n",
              "      border: none;\n",
              "      border-radius: 50%;\n",
              "      cursor: pointer;\n",
              "      display: none;\n",
              "      fill: #1967D2;\n",
              "      height: 32px;\n",
              "      padding: 0 0 0 0;\n",
              "      width: 32px;\n",
              "    }\n",
              "\n",
              "    .colab-df-convert:hover {\n",
              "      background-color: #E2EBFA;\n",
              "      box-shadow: 0px 1px 2px rgba(60, 64, 67, 0.3), 0px 1px 3px 1px rgba(60, 64, 67, 0.15);\n",
              "      fill: #174EA6;\n",
              "    }\n",
              "\n",
              "    [theme=dark] .colab-df-convert {\n",
              "      background-color: #3B4455;\n",
              "      fill: #D2E3FC;\n",
              "    }\n",
              "\n",
              "    [theme=dark] .colab-df-convert:hover {\n",
              "      background-color: #434B5C;\n",
              "      box-shadow: 0px 1px 3px 1px rgba(0, 0, 0, 0.15);\n",
              "      filter: drop-shadow(0px 1px 2px rgba(0, 0, 0, 0.3));\n",
              "      fill: #FFFFFF;\n",
              "    }\n",
              "  </style>\n",
              "\n",
              "      <script>\n",
              "        const buttonEl =\n",
              "          document.querySelector('#df-8173eec1-8969-4147-874b-dc558071d375 button.colab-df-convert');\n",
              "        buttonEl.style.display =\n",
              "          google.colab.kernel.accessAllowed ? 'block' : 'none';\n",
              "\n",
              "        async function convertToInteractive(key) {\n",
              "          const element = document.querySelector('#df-8173eec1-8969-4147-874b-dc558071d375');\n",
              "          const dataTable =\n",
              "            await google.colab.kernel.invokeFunction('convertToInteractive',\n",
              "                                                     [key], {});\n",
              "          if (!dataTable) return;\n",
              "\n",
              "          const docLinkHtml = 'Like what you see? Visit the ' +\n",
              "            '<a target=\"_blank\" href=https://colab.research.google.com/notebooks/data_table.ipynb>data table notebook</a>'\n",
              "            + ' to learn more about interactive tables.';\n",
              "          element.innerHTML = '';\n",
              "          dataTable['output_type'] = 'display_data';\n",
              "          await google.colab.output.renderOutput(dataTable, element);\n",
              "          const docLink = document.createElement('div');\n",
              "          docLink.innerHTML = docLinkHtml;\n",
              "          element.appendChild(docLink);\n",
              "        }\n",
              "      </script>\n",
              "    </div>\n",
              "  </div>\n",
              "  "
            ]
          },
          "metadata": {},
          "execution_count": 76
        }
      ]
    },
    {
      "cell_type": "code",
      "source": [
        "df=pd.read_csv('/content/gdrive/MyDrive/Colab Notebooks/금융공학/dataset/f2_금리.csv', encoding='cp949', header=[0,1,2,3], thousands=',',skipfooter=5) "
      ],
      "metadata": {
        "id": "uHiITwdapSHw"
      },
      "id": "uHiITwdapSHw",
      "execution_count": 77,
      "outputs": []
    },
    {
      "cell_type": "code",
      "source": [
        "df.tail()"
      ],
      "metadata": {
        "colab": {
          "base_uri": "https://localhost:8080/",
          "height": 300
        },
        "id": "Y8MKLy_fnsUy",
        "outputId": "3e331e74-ee45-45b3-99d4-2496725ddb66"
      },
      "id": "Y8MKLy_fnsUy",
      "execution_count": 78,
      "outputs": [
        {
          "output_type": "execute_result",
          "data": {
            "text/plain": [
              "     통계표 1.2.1.2 본원통화 구성내역(말잔,원계열)                          \n",
              "    항목명1              본원통화(말잔,원계열)      현금통화 중앙은행 대 예금취급기관부채\n",
              "      단위                      십억원       십억원             십억원 \n",
              "      변환                       원자료       원자료             원자료\n",
              "15  2017                  155881.0   96842.8         59038.2\n",
              "16  2018                  172353.3  103994.8         68358.5\n",
              "17  2019                  191829.3  114523.9         77305.4\n",
              "18  2020                  221503.7  136152.6         85351.1\n",
              "19  2021                  248785.5  156264.2         92521.4"
            ],
            "text/html": [
              "\n",
              "  <div id=\"df-7adb2ae4-f494-45e9-a383-1b0c3fb6cb23\">\n",
              "    <div class=\"colab-df-container\">\n",
              "      <div>\n",
              "<style scoped>\n",
              "    .dataframe tbody tr th:only-of-type {\n",
              "        vertical-align: middle;\n",
              "    }\n",
              "\n",
              "    .dataframe tbody tr th {\n",
              "        vertical-align: top;\n",
              "    }\n",
              "\n",
              "    .dataframe thead tr th {\n",
              "        text-align: left;\n",
              "    }\n",
              "</style>\n",
              "<table border=\"1\" class=\"dataframe\">\n",
              "  <thead>\n",
              "    <tr>\n",
              "      <th></th>\n",
              "      <th>통계표</th>\n",
              "      <th colspan=\"3\" halign=\"left\">1.2.1.2 본원통화 구성내역(말잔,원계열)</th>\n",
              "    </tr>\n",
              "    <tr>\n",
              "      <th></th>\n",
              "      <th>항목명1</th>\n",
              "      <th>본원통화(말잔,원계열)</th>\n",
              "      <th>현금통화</th>\n",
              "      <th>중앙은행 대 예금취급기관부채</th>\n",
              "    </tr>\n",
              "    <tr>\n",
              "      <th></th>\n",
              "      <th>단위</th>\n",
              "      <th>십억원</th>\n",
              "      <th>십억원</th>\n",
              "      <th>십억원</th>\n",
              "    </tr>\n",
              "    <tr>\n",
              "      <th></th>\n",
              "      <th>변환</th>\n",
              "      <th>원자료</th>\n",
              "      <th>원자료</th>\n",
              "      <th>원자료</th>\n",
              "    </tr>\n",
              "  </thead>\n",
              "  <tbody>\n",
              "    <tr>\n",
              "      <th>15</th>\n",
              "      <td>2017</td>\n",
              "      <td>155881.0</td>\n",
              "      <td>96842.8</td>\n",
              "      <td>59038.2</td>\n",
              "    </tr>\n",
              "    <tr>\n",
              "      <th>16</th>\n",
              "      <td>2018</td>\n",
              "      <td>172353.3</td>\n",
              "      <td>103994.8</td>\n",
              "      <td>68358.5</td>\n",
              "    </tr>\n",
              "    <tr>\n",
              "      <th>17</th>\n",
              "      <td>2019</td>\n",
              "      <td>191829.3</td>\n",
              "      <td>114523.9</td>\n",
              "      <td>77305.4</td>\n",
              "    </tr>\n",
              "    <tr>\n",
              "      <th>18</th>\n",
              "      <td>2020</td>\n",
              "      <td>221503.7</td>\n",
              "      <td>136152.6</td>\n",
              "      <td>85351.1</td>\n",
              "    </tr>\n",
              "    <tr>\n",
              "      <th>19</th>\n",
              "      <td>2021</td>\n",
              "      <td>248785.5</td>\n",
              "      <td>156264.2</td>\n",
              "      <td>92521.4</td>\n",
              "    </tr>\n",
              "  </tbody>\n",
              "</table>\n",
              "</div>\n",
              "      <button class=\"colab-df-convert\" onclick=\"convertToInteractive('df-7adb2ae4-f494-45e9-a383-1b0c3fb6cb23')\"\n",
              "              title=\"Convert this dataframe to an interactive table.\"\n",
              "              style=\"display:none;\">\n",
              "        \n",
              "  <svg xmlns=\"http://www.w3.org/2000/svg\" height=\"24px\"viewBox=\"0 0 24 24\"\n",
              "       width=\"24px\">\n",
              "    <path d=\"M0 0h24v24H0V0z\" fill=\"none\"/>\n",
              "    <path d=\"M18.56 5.44l.94 2.06.94-2.06 2.06-.94-2.06-.94-.94-2.06-.94 2.06-2.06.94zm-11 1L8.5 8.5l.94-2.06 2.06-.94-2.06-.94L8.5 2.5l-.94 2.06-2.06.94zm10 10l.94 2.06.94-2.06 2.06-.94-2.06-.94-.94-2.06-.94 2.06-2.06.94z\"/><path d=\"M17.41 7.96l-1.37-1.37c-.4-.4-.92-.59-1.43-.59-.52 0-1.04.2-1.43.59L10.3 9.45l-7.72 7.72c-.78.78-.78 2.05 0 2.83L4 21.41c.39.39.9.59 1.41.59.51 0 1.02-.2 1.41-.59l7.78-7.78 2.81-2.81c.8-.78.8-2.07 0-2.86zM5.41 20L4 18.59l7.72-7.72 1.47 1.35L5.41 20z\"/>\n",
              "  </svg>\n",
              "      </button>\n",
              "      \n",
              "  <style>\n",
              "    .colab-df-container {\n",
              "      display:flex;\n",
              "      flex-wrap:wrap;\n",
              "      gap: 12px;\n",
              "    }\n",
              "\n",
              "    .colab-df-convert {\n",
              "      background-color: #E8F0FE;\n",
              "      border: none;\n",
              "      border-radius: 50%;\n",
              "      cursor: pointer;\n",
              "      display: none;\n",
              "      fill: #1967D2;\n",
              "      height: 32px;\n",
              "      padding: 0 0 0 0;\n",
              "      width: 32px;\n",
              "    }\n",
              "\n",
              "    .colab-df-convert:hover {\n",
              "      background-color: #E2EBFA;\n",
              "      box-shadow: 0px 1px 2px rgba(60, 64, 67, 0.3), 0px 1px 3px 1px rgba(60, 64, 67, 0.15);\n",
              "      fill: #174EA6;\n",
              "    }\n",
              "\n",
              "    [theme=dark] .colab-df-convert {\n",
              "      background-color: #3B4455;\n",
              "      fill: #D2E3FC;\n",
              "    }\n",
              "\n",
              "    [theme=dark] .colab-df-convert:hover {\n",
              "      background-color: #434B5C;\n",
              "      box-shadow: 0px 1px 3px 1px rgba(0, 0, 0, 0.15);\n",
              "      filter: drop-shadow(0px 1px 2px rgba(0, 0, 0, 0.3));\n",
              "      fill: #FFFFFF;\n",
              "    }\n",
              "  </style>\n",
              "\n",
              "      <script>\n",
              "        const buttonEl =\n",
              "          document.querySelector('#df-7adb2ae4-f494-45e9-a383-1b0c3fb6cb23 button.colab-df-convert');\n",
              "        buttonEl.style.display =\n",
              "          google.colab.kernel.accessAllowed ? 'block' : 'none';\n",
              "\n",
              "        async function convertToInteractive(key) {\n",
              "          const element = document.querySelector('#df-7adb2ae4-f494-45e9-a383-1b0c3fb6cb23');\n",
              "          const dataTable =\n",
              "            await google.colab.kernel.invokeFunction('convertToInteractive',\n",
              "                                                     [key], {});\n",
              "          if (!dataTable) return;\n",
              "\n",
              "          const docLinkHtml = 'Like what you see? Visit the ' +\n",
              "            '<a target=\"_blank\" href=https://colab.research.google.com/notebooks/data_table.ipynb>data table notebook</a>'\n",
              "            + ' to learn more about interactive tables.';\n",
              "          element.innerHTML = '';\n",
              "          dataTable['output_type'] = 'display_data';\n",
              "          await google.colab.output.renderOutput(dataTable, element);\n",
              "          const docLink = document.createElement('div');\n",
              "          docLink.innerHTML = docLinkHtml;\n",
              "          element.appendChild(docLink);\n",
              "        }\n",
              "      </script>\n",
              "    </div>\n",
              "  </div>\n",
              "  "
            ]
          },
          "metadata": {},
          "execution_count": 78
        }
      ]
    },
    {
      "cell_type": "code",
      "source": [
        "df.columns = df.columns.droplevel([0,2,3])\n",
        "df.head()"
      ],
      "metadata": {
        "colab": {
          "base_uri": "https://localhost:8080/",
          "height": 206
        },
        "id": "kvi1HlFQmEbg",
        "outputId": "29770542-c9d6-4523-dc88-6f7bf1769356"
      },
      "id": "kvi1HlFQmEbg",
      "execution_count": 79,
      "outputs": [
        {
          "output_type": "execute_result",
          "data": {
            "text/plain": [
              "   항목명1  본원통화(말잔,원계열)     현금통화  중앙은행 대 예금취급기관부채\n",
              "0  2002       37987.4  18228.1          19759.3\n",
              "1  2003       40749.0  17347.8          23401.2\n",
              "2  2004       38791.8  19206.8          19585.0\n",
              "3  2005       43249.0  20412.3          22836.7\n",
              "4  2006       51869.5  21636.1          30233.4"
            ],
            "text/html": [
              "\n",
              "  <div id=\"df-a72b6724-ba13-44b4-a9bb-8faabcfb9d11\">\n",
              "    <div class=\"colab-df-container\">\n",
              "      <div>\n",
              "<style scoped>\n",
              "    .dataframe tbody tr th:only-of-type {\n",
              "        vertical-align: middle;\n",
              "    }\n",
              "\n",
              "    .dataframe tbody tr th {\n",
              "        vertical-align: top;\n",
              "    }\n",
              "\n",
              "    .dataframe thead th {\n",
              "        text-align: right;\n",
              "    }\n",
              "</style>\n",
              "<table border=\"1\" class=\"dataframe\">\n",
              "  <thead>\n",
              "    <tr style=\"text-align: right;\">\n",
              "      <th></th>\n",
              "      <th>항목명1</th>\n",
              "      <th>본원통화(말잔,원계열)</th>\n",
              "      <th>현금통화</th>\n",
              "      <th>중앙은행 대 예금취급기관부채</th>\n",
              "    </tr>\n",
              "  </thead>\n",
              "  <tbody>\n",
              "    <tr>\n",
              "      <th>0</th>\n",
              "      <td>2002</td>\n",
              "      <td>37987.4</td>\n",
              "      <td>18228.1</td>\n",
              "      <td>19759.3</td>\n",
              "    </tr>\n",
              "    <tr>\n",
              "      <th>1</th>\n",
              "      <td>2003</td>\n",
              "      <td>40749.0</td>\n",
              "      <td>17347.8</td>\n",
              "      <td>23401.2</td>\n",
              "    </tr>\n",
              "    <tr>\n",
              "      <th>2</th>\n",
              "      <td>2004</td>\n",
              "      <td>38791.8</td>\n",
              "      <td>19206.8</td>\n",
              "      <td>19585.0</td>\n",
              "    </tr>\n",
              "    <tr>\n",
              "      <th>3</th>\n",
              "      <td>2005</td>\n",
              "      <td>43249.0</td>\n",
              "      <td>20412.3</td>\n",
              "      <td>22836.7</td>\n",
              "    </tr>\n",
              "    <tr>\n",
              "      <th>4</th>\n",
              "      <td>2006</td>\n",
              "      <td>51869.5</td>\n",
              "      <td>21636.1</td>\n",
              "      <td>30233.4</td>\n",
              "    </tr>\n",
              "  </tbody>\n",
              "</table>\n",
              "</div>\n",
              "      <button class=\"colab-df-convert\" onclick=\"convertToInteractive('df-a72b6724-ba13-44b4-a9bb-8faabcfb9d11')\"\n",
              "              title=\"Convert this dataframe to an interactive table.\"\n",
              "              style=\"display:none;\">\n",
              "        \n",
              "  <svg xmlns=\"http://www.w3.org/2000/svg\" height=\"24px\"viewBox=\"0 0 24 24\"\n",
              "       width=\"24px\">\n",
              "    <path d=\"M0 0h24v24H0V0z\" fill=\"none\"/>\n",
              "    <path d=\"M18.56 5.44l.94 2.06.94-2.06 2.06-.94-2.06-.94-.94-2.06-.94 2.06-2.06.94zm-11 1L8.5 8.5l.94-2.06 2.06-.94-2.06-.94L8.5 2.5l-.94 2.06-2.06.94zm10 10l.94 2.06.94-2.06 2.06-.94-2.06-.94-.94-2.06-.94 2.06-2.06.94z\"/><path d=\"M17.41 7.96l-1.37-1.37c-.4-.4-.92-.59-1.43-.59-.52 0-1.04.2-1.43.59L10.3 9.45l-7.72 7.72c-.78.78-.78 2.05 0 2.83L4 21.41c.39.39.9.59 1.41.59.51 0 1.02-.2 1.41-.59l7.78-7.78 2.81-2.81c.8-.78.8-2.07 0-2.86zM5.41 20L4 18.59l7.72-7.72 1.47 1.35L5.41 20z\"/>\n",
              "  </svg>\n",
              "      </button>\n",
              "      \n",
              "  <style>\n",
              "    .colab-df-container {\n",
              "      display:flex;\n",
              "      flex-wrap:wrap;\n",
              "      gap: 12px;\n",
              "    }\n",
              "\n",
              "    .colab-df-convert {\n",
              "      background-color: #E8F0FE;\n",
              "      border: none;\n",
              "      border-radius: 50%;\n",
              "      cursor: pointer;\n",
              "      display: none;\n",
              "      fill: #1967D2;\n",
              "      height: 32px;\n",
              "      padding: 0 0 0 0;\n",
              "      width: 32px;\n",
              "    }\n",
              "\n",
              "    .colab-df-convert:hover {\n",
              "      background-color: #E2EBFA;\n",
              "      box-shadow: 0px 1px 2px rgba(60, 64, 67, 0.3), 0px 1px 3px 1px rgba(60, 64, 67, 0.15);\n",
              "      fill: #174EA6;\n",
              "    }\n",
              "\n",
              "    [theme=dark] .colab-df-convert {\n",
              "      background-color: #3B4455;\n",
              "      fill: #D2E3FC;\n",
              "    }\n",
              "\n",
              "    [theme=dark] .colab-df-convert:hover {\n",
              "      background-color: #434B5C;\n",
              "      box-shadow: 0px 1px 3px 1px rgba(0, 0, 0, 0.15);\n",
              "      filter: drop-shadow(0px 1px 2px rgba(0, 0, 0, 0.3));\n",
              "      fill: #FFFFFF;\n",
              "    }\n",
              "  </style>\n",
              "\n",
              "      <script>\n",
              "        const buttonEl =\n",
              "          document.querySelector('#df-a72b6724-ba13-44b4-a9bb-8faabcfb9d11 button.colab-df-convert');\n",
              "        buttonEl.style.display =\n",
              "          google.colab.kernel.accessAllowed ? 'block' : 'none';\n",
              "\n",
              "        async function convertToInteractive(key) {\n",
              "          const element = document.querySelector('#df-a72b6724-ba13-44b4-a9bb-8faabcfb9d11');\n",
              "          const dataTable =\n",
              "            await google.colab.kernel.invokeFunction('convertToInteractive',\n",
              "                                                     [key], {});\n",
              "          if (!dataTable) return;\n",
              "\n",
              "          const docLinkHtml = 'Like what you see? Visit the ' +\n",
              "            '<a target=\"_blank\" href=https://colab.research.google.com/notebooks/data_table.ipynb>data table notebook</a>'\n",
              "            + ' to learn more about interactive tables.';\n",
              "          element.innerHTML = '';\n",
              "          dataTable['output_type'] = 'display_data';\n",
              "          await google.colab.output.renderOutput(dataTable, element);\n",
              "          const docLink = document.createElement('div');\n",
              "          docLink.innerHTML = docLinkHtml;\n",
              "          element.appendChild(docLink);\n",
              "        }\n",
              "      </script>\n",
              "    </div>\n",
              "  </div>\n",
              "  "
            ]
          },
          "metadata": {},
          "execution_count": 79
        }
      ]
    },
    {
      "cell_type": "code",
      "source": [
        "df['항목명1']=pd.to_datetime(df['항목명1'],format='%Y').dt.year"
      ],
      "metadata": {
        "id": "fcoZtCoHp-Ym"
      },
      "id": "fcoZtCoHp-Ym",
      "execution_count": 80,
      "outputs": []
    },
    {
      "cell_type": "code",
      "source": [
        "df=df.set_index('항목명1')\n",
        "df.head()"
      ],
      "metadata": {
        "colab": {
          "base_uri": "https://localhost:8080/",
          "height": 238
        },
        "id": "rN12IJbuqJV7",
        "outputId": "de8faee0-f4bd-4ab5-efea-2b9de8daab4a"
      },
      "id": "rN12IJbuqJV7",
      "execution_count": 81,
      "outputs": [
        {
          "output_type": "execute_result",
          "data": {
            "text/plain": [
              "      본원통화(말잔,원계열)     현금통화  중앙은행 대 예금취급기관부채\n",
              "항목명1                                        \n",
              "2002       37987.4  18228.1          19759.3\n",
              "2003       40749.0  17347.8          23401.2\n",
              "2004       38791.8  19206.8          19585.0\n",
              "2005       43249.0  20412.3          22836.7\n",
              "2006       51869.5  21636.1          30233.4"
            ],
            "text/html": [
              "\n",
              "  <div id=\"df-8ce4127b-d3e0-4b8a-bdf3-b4c075196102\">\n",
              "    <div class=\"colab-df-container\">\n",
              "      <div>\n",
              "<style scoped>\n",
              "    .dataframe tbody tr th:only-of-type {\n",
              "        vertical-align: middle;\n",
              "    }\n",
              "\n",
              "    .dataframe tbody tr th {\n",
              "        vertical-align: top;\n",
              "    }\n",
              "\n",
              "    .dataframe thead th {\n",
              "        text-align: right;\n",
              "    }\n",
              "</style>\n",
              "<table border=\"1\" class=\"dataframe\">\n",
              "  <thead>\n",
              "    <tr style=\"text-align: right;\">\n",
              "      <th></th>\n",
              "      <th>본원통화(말잔,원계열)</th>\n",
              "      <th>현금통화</th>\n",
              "      <th>중앙은행 대 예금취급기관부채</th>\n",
              "    </tr>\n",
              "    <tr>\n",
              "      <th>항목명1</th>\n",
              "      <th></th>\n",
              "      <th></th>\n",
              "      <th></th>\n",
              "    </tr>\n",
              "  </thead>\n",
              "  <tbody>\n",
              "    <tr>\n",
              "      <th>2002</th>\n",
              "      <td>37987.4</td>\n",
              "      <td>18228.1</td>\n",
              "      <td>19759.3</td>\n",
              "    </tr>\n",
              "    <tr>\n",
              "      <th>2003</th>\n",
              "      <td>40749.0</td>\n",
              "      <td>17347.8</td>\n",
              "      <td>23401.2</td>\n",
              "    </tr>\n",
              "    <tr>\n",
              "      <th>2004</th>\n",
              "      <td>38791.8</td>\n",
              "      <td>19206.8</td>\n",
              "      <td>19585.0</td>\n",
              "    </tr>\n",
              "    <tr>\n",
              "      <th>2005</th>\n",
              "      <td>43249.0</td>\n",
              "      <td>20412.3</td>\n",
              "      <td>22836.7</td>\n",
              "    </tr>\n",
              "    <tr>\n",
              "      <th>2006</th>\n",
              "      <td>51869.5</td>\n",
              "      <td>21636.1</td>\n",
              "      <td>30233.4</td>\n",
              "    </tr>\n",
              "  </tbody>\n",
              "</table>\n",
              "</div>\n",
              "      <button class=\"colab-df-convert\" onclick=\"convertToInteractive('df-8ce4127b-d3e0-4b8a-bdf3-b4c075196102')\"\n",
              "              title=\"Convert this dataframe to an interactive table.\"\n",
              "              style=\"display:none;\">\n",
              "        \n",
              "  <svg xmlns=\"http://www.w3.org/2000/svg\" height=\"24px\"viewBox=\"0 0 24 24\"\n",
              "       width=\"24px\">\n",
              "    <path d=\"M0 0h24v24H0V0z\" fill=\"none\"/>\n",
              "    <path d=\"M18.56 5.44l.94 2.06.94-2.06 2.06-.94-2.06-.94-.94-2.06-.94 2.06-2.06.94zm-11 1L8.5 8.5l.94-2.06 2.06-.94-2.06-.94L8.5 2.5l-.94 2.06-2.06.94zm10 10l.94 2.06.94-2.06 2.06-.94-2.06-.94-.94-2.06-.94 2.06-2.06.94z\"/><path d=\"M17.41 7.96l-1.37-1.37c-.4-.4-.92-.59-1.43-.59-.52 0-1.04.2-1.43.59L10.3 9.45l-7.72 7.72c-.78.78-.78 2.05 0 2.83L4 21.41c.39.39.9.59 1.41.59.51 0 1.02-.2 1.41-.59l7.78-7.78 2.81-2.81c.8-.78.8-2.07 0-2.86zM5.41 20L4 18.59l7.72-7.72 1.47 1.35L5.41 20z\"/>\n",
              "  </svg>\n",
              "      </button>\n",
              "      \n",
              "  <style>\n",
              "    .colab-df-container {\n",
              "      display:flex;\n",
              "      flex-wrap:wrap;\n",
              "      gap: 12px;\n",
              "    }\n",
              "\n",
              "    .colab-df-convert {\n",
              "      background-color: #E8F0FE;\n",
              "      border: none;\n",
              "      border-radius: 50%;\n",
              "      cursor: pointer;\n",
              "      display: none;\n",
              "      fill: #1967D2;\n",
              "      height: 32px;\n",
              "      padding: 0 0 0 0;\n",
              "      width: 32px;\n",
              "    }\n",
              "\n",
              "    .colab-df-convert:hover {\n",
              "      background-color: #E2EBFA;\n",
              "      box-shadow: 0px 1px 2px rgba(60, 64, 67, 0.3), 0px 1px 3px 1px rgba(60, 64, 67, 0.15);\n",
              "      fill: #174EA6;\n",
              "    }\n",
              "\n",
              "    [theme=dark] .colab-df-convert {\n",
              "      background-color: #3B4455;\n",
              "      fill: #D2E3FC;\n",
              "    }\n",
              "\n",
              "    [theme=dark] .colab-df-convert:hover {\n",
              "      background-color: #434B5C;\n",
              "      box-shadow: 0px 1px 3px 1px rgba(0, 0, 0, 0.15);\n",
              "      filter: drop-shadow(0px 1px 2px rgba(0, 0, 0, 0.3));\n",
              "      fill: #FFFFFF;\n",
              "    }\n",
              "  </style>\n",
              "\n",
              "      <script>\n",
              "        const buttonEl =\n",
              "          document.querySelector('#df-8ce4127b-d3e0-4b8a-bdf3-b4c075196102 button.colab-df-convert');\n",
              "        buttonEl.style.display =\n",
              "          google.colab.kernel.accessAllowed ? 'block' : 'none';\n",
              "\n",
              "        async function convertToInteractive(key) {\n",
              "          const element = document.querySelector('#df-8ce4127b-d3e0-4b8a-bdf3-b4c075196102');\n",
              "          const dataTable =\n",
              "            await google.colab.kernel.invokeFunction('convertToInteractive',\n",
              "                                                     [key], {});\n",
              "          if (!dataTable) return;\n",
              "\n",
              "          const docLinkHtml = 'Like what you see? Visit the ' +\n",
              "            '<a target=\"_blank\" href=https://colab.research.google.com/notebooks/data_table.ipynb>data table notebook</a>'\n",
              "            + ' to learn more about interactive tables.';\n",
              "          element.innerHTML = '';\n",
              "          dataTable['output_type'] = 'display_data';\n",
              "          await google.colab.output.renderOutput(dataTable, element);\n",
              "          const docLink = document.createElement('div');\n",
              "          docLink.innerHTML = docLinkHtml;\n",
              "          element.appendChild(docLink);\n",
              "        }\n",
              "      </script>\n",
              "    </div>\n",
              "  </div>\n",
              "  "
            ]
          },
          "metadata": {},
          "execution_count": 81
        }
      ]
    },
    {
      "cell_type": "code",
      "source": [
        "df.head()"
      ],
      "metadata": {
        "colab": {
          "base_uri": "https://localhost:8080/",
          "height": 238
        },
        "id": "f7MkWsN-thyv",
        "outputId": "c3dfc522-1388-411f-cf61-bf102f6c51b4"
      },
      "id": "f7MkWsN-thyv",
      "execution_count": 82,
      "outputs": [
        {
          "output_type": "execute_result",
          "data": {
            "text/plain": [
              "      본원통화(말잔,원계열)     현금통화  중앙은행 대 예금취급기관부채\n",
              "항목명1                                        \n",
              "2002       37987.4  18228.1          19759.3\n",
              "2003       40749.0  17347.8          23401.2\n",
              "2004       38791.8  19206.8          19585.0\n",
              "2005       43249.0  20412.3          22836.7\n",
              "2006       51869.5  21636.1          30233.4"
            ],
            "text/html": [
              "\n",
              "  <div id=\"df-9405ed4e-19c2-4b70-90dd-9df98a384384\">\n",
              "    <div class=\"colab-df-container\">\n",
              "      <div>\n",
              "<style scoped>\n",
              "    .dataframe tbody tr th:only-of-type {\n",
              "        vertical-align: middle;\n",
              "    }\n",
              "\n",
              "    .dataframe tbody tr th {\n",
              "        vertical-align: top;\n",
              "    }\n",
              "\n",
              "    .dataframe thead th {\n",
              "        text-align: right;\n",
              "    }\n",
              "</style>\n",
              "<table border=\"1\" class=\"dataframe\">\n",
              "  <thead>\n",
              "    <tr style=\"text-align: right;\">\n",
              "      <th></th>\n",
              "      <th>본원통화(말잔,원계열)</th>\n",
              "      <th>현금통화</th>\n",
              "      <th>중앙은행 대 예금취급기관부채</th>\n",
              "    </tr>\n",
              "    <tr>\n",
              "      <th>항목명1</th>\n",
              "      <th></th>\n",
              "      <th></th>\n",
              "      <th></th>\n",
              "    </tr>\n",
              "  </thead>\n",
              "  <tbody>\n",
              "    <tr>\n",
              "      <th>2002</th>\n",
              "      <td>37987.4</td>\n",
              "      <td>18228.1</td>\n",
              "      <td>19759.3</td>\n",
              "    </tr>\n",
              "    <tr>\n",
              "      <th>2003</th>\n",
              "      <td>40749.0</td>\n",
              "      <td>17347.8</td>\n",
              "      <td>23401.2</td>\n",
              "    </tr>\n",
              "    <tr>\n",
              "      <th>2004</th>\n",
              "      <td>38791.8</td>\n",
              "      <td>19206.8</td>\n",
              "      <td>19585.0</td>\n",
              "    </tr>\n",
              "    <tr>\n",
              "      <th>2005</th>\n",
              "      <td>43249.0</td>\n",
              "      <td>20412.3</td>\n",
              "      <td>22836.7</td>\n",
              "    </tr>\n",
              "    <tr>\n",
              "      <th>2006</th>\n",
              "      <td>51869.5</td>\n",
              "      <td>21636.1</td>\n",
              "      <td>30233.4</td>\n",
              "    </tr>\n",
              "  </tbody>\n",
              "</table>\n",
              "</div>\n",
              "      <button class=\"colab-df-convert\" onclick=\"convertToInteractive('df-9405ed4e-19c2-4b70-90dd-9df98a384384')\"\n",
              "              title=\"Convert this dataframe to an interactive table.\"\n",
              "              style=\"display:none;\">\n",
              "        \n",
              "  <svg xmlns=\"http://www.w3.org/2000/svg\" height=\"24px\"viewBox=\"0 0 24 24\"\n",
              "       width=\"24px\">\n",
              "    <path d=\"M0 0h24v24H0V0z\" fill=\"none\"/>\n",
              "    <path d=\"M18.56 5.44l.94 2.06.94-2.06 2.06-.94-2.06-.94-.94-2.06-.94 2.06-2.06.94zm-11 1L8.5 8.5l.94-2.06 2.06-.94-2.06-.94L8.5 2.5l-.94 2.06-2.06.94zm10 10l.94 2.06.94-2.06 2.06-.94-2.06-.94-.94-2.06-.94 2.06-2.06.94z\"/><path d=\"M17.41 7.96l-1.37-1.37c-.4-.4-.92-.59-1.43-.59-.52 0-1.04.2-1.43.59L10.3 9.45l-7.72 7.72c-.78.78-.78 2.05 0 2.83L4 21.41c.39.39.9.59 1.41.59.51 0 1.02-.2 1.41-.59l7.78-7.78 2.81-2.81c.8-.78.8-2.07 0-2.86zM5.41 20L4 18.59l7.72-7.72 1.47 1.35L5.41 20z\"/>\n",
              "  </svg>\n",
              "      </button>\n",
              "      \n",
              "  <style>\n",
              "    .colab-df-container {\n",
              "      display:flex;\n",
              "      flex-wrap:wrap;\n",
              "      gap: 12px;\n",
              "    }\n",
              "\n",
              "    .colab-df-convert {\n",
              "      background-color: #E8F0FE;\n",
              "      border: none;\n",
              "      border-radius: 50%;\n",
              "      cursor: pointer;\n",
              "      display: none;\n",
              "      fill: #1967D2;\n",
              "      height: 32px;\n",
              "      padding: 0 0 0 0;\n",
              "      width: 32px;\n",
              "    }\n",
              "\n",
              "    .colab-df-convert:hover {\n",
              "      background-color: #E2EBFA;\n",
              "      box-shadow: 0px 1px 2px rgba(60, 64, 67, 0.3), 0px 1px 3px 1px rgba(60, 64, 67, 0.15);\n",
              "      fill: #174EA6;\n",
              "    }\n",
              "\n",
              "    [theme=dark] .colab-df-convert {\n",
              "      background-color: #3B4455;\n",
              "      fill: #D2E3FC;\n",
              "    }\n",
              "\n",
              "    [theme=dark] .colab-df-convert:hover {\n",
              "      background-color: #434B5C;\n",
              "      box-shadow: 0px 1px 3px 1px rgba(0, 0, 0, 0.15);\n",
              "      filter: drop-shadow(0px 1px 2px rgba(0, 0, 0, 0.3));\n",
              "      fill: #FFFFFF;\n",
              "    }\n",
              "  </style>\n",
              "\n",
              "      <script>\n",
              "        const buttonEl =\n",
              "          document.querySelector('#df-9405ed4e-19c2-4b70-90dd-9df98a384384 button.colab-df-convert');\n",
              "        buttonEl.style.display =\n",
              "          google.colab.kernel.accessAllowed ? 'block' : 'none';\n",
              "\n",
              "        async function convertToInteractive(key) {\n",
              "          const element = document.querySelector('#df-9405ed4e-19c2-4b70-90dd-9df98a384384');\n",
              "          const dataTable =\n",
              "            await google.colab.kernel.invokeFunction('convertToInteractive',\n",
              "                                                     [key], {});\n",
              "          if (!dataTable) return;\n",
              "\n",
              "          const docLinkHtml = 'Like what you see? Visit the ' +\n",
              "            '<a target=\"_blank\" href=https://colab.research.google.com/notebooks/data_table.ipynb>data table notebook</a>'\n",
              "            + ' to learn more about interactive tables.';\n",
              "          element.innerHTML = '';\n",
              "          dataTable['output_type'] = 'display_data';\n",
              "          await google.colab.output.renderOutput(dataTable, element);\n",
              "          const docLink = document.createElement('div');\n",
              "          docLink.innerHTML = docLinkHtml;\n",
              "          element.appendChild(docLink);\n",
              "        }\n",
              "      </script>\n",
              "    </div>\n",
              "  </div>\n",
              "  "
            ]
          },
          "metadata": {},
          "execution_count": 82
        }
      ]
    },
    {
      "cell_type": "code",
      "source": [
        "import matplotlib.pyplot as plt\n",
        "plt.rc('font', family='NanumBarunGothic') "
      ],
      "metadata": {
        "id": "3v9kvbumwLIU"
      },
      "id": "3v9kvbumwLIU",
      "execution_count": 83,
      "outputs": []
    },
    {
      "cell_type": "code",
      "source": [
        "df.plot(kind='bar', figsize=(20,4))\n",
        "plt.xticks(rotation=45)\n",
        "plt.show()"
      ],
      "metadata": {
        "colab": {
          "base_uri": "https://localhost:8080/",
          "height": 293
        },
        "id": "6HK_GC3AuVzm",
        "outputId": "08ff46af-c954-4efc-c4f1-dc417c147a62"
      },
      "id": "6HK_GC3AuVzm",
      "execution_count": 84,
      "outputs": [
        {
          "output_type": "display_data",
          "data": {
            "text/plain": [
              "<Figure size 1440x288 with 1 Axes>"
            ],
            "image/png": "[encoded data removed]"
          },
          "metadata": {
            "needs_background": "light"
          }
        }
      ]
    },
    {
      "cell_type": "code",
      "source": [
        "df[[\"본원통화(말잔,원계열)\", \"현금통화\", \"중앙은행 대 예금취급기관부채\"]].plot.bar()"
      ],
      "metadata": {
        "colab": {
          "base_uri": "https://localhost:8080/",
          "height": 311
        },
        "id": "r3gy6kdgmmW4",
        "outputId": "764997b0-9af8-4541-c892-0c1223940dae"
      },
      "id": "r3gy6kdgmmW4",
      "execution_count": 85,
      "outputs": [
        {
          "output_type": "execute_result",
          "data": {
            "text/plain": [
              "<matplotlib.axes._subplots.AxesSubplot at 0x7f1c96803890>"
            ]
          },
          "metadata": {},
          "execution_count": 85
        },
        {
          "output_type": "display_data",
          "data": {
            "text/plain": [
              "<Figure size 432x288 with 1 Axes>"
            ],
            "image/png": "[encoded data removed]"
          },
          "metadata": {
            "needs_background": "light"
          }
        }
      ]
    },
    {
      "cell_type": "markdown",
      "source": [
        "* 금융차트 패키지 mplfinance / cufflinks / plotly / plotly express\n",
        "* https://chart-studio.plotly.com"
      ],
      "metadata": {
        "id": "rHg60PAb0_KP"
      },
      "id": "rHg60PAb0_KP"
    },
    {
      "cell_type": "markdown",
      "id": "crucial-terry",
      "metadata": {
        "id": "crucial-terry"
      },
      "source": [
        "## 기준금리\n",
        "* 금리 체계의 기준이 되는 금리\n",
        "* 환율 분석할 때 각 국가별 기준금리 확인 (대외적 기준금리)"
      ]
    },
    {
      "cell_type": "code",
      "execution_count": 86,
      "id": "embedded-aruba",
      "metadata": {
        "id": "embedded-aruba"
      },
      "outputs": [],
      "source": [
        "#-------주요 국가 금리 비교 ------------ 미국, 일본, 한국"
      ]
    },
    {
      "cell_type": "code",
      "source": [
        "df2=pd.read_csv('/content/gdrive/MyDrive/Colab Notebooks/금융공학/dataset/국제기준금리.csv', encoding='cp949', header=[0,1,2,3],skipfooter=8) \n",
        "df2.columns = df2.columns.droplevel([0,2,3])\n",
        "df2.head()"
      ],
      "metadata": {
        "colab": {
          "base_uri": "https://localhost:8080/",
          "height": 206
        },
        "id": "FcQd_ns93Q6P",
        "outputId": "730694df-3a19-45dd-cc87-3cfbd56d9d6e"
      },
      "id": "FcQd_ns93Q6P",
      "execution_count": 87,
      "outputs": [
        {
          "output_type": "execute_result",
          "data": {
            "text/plain": [
              "      항목명1    한국    일본     미국\n",
              "0  2012/02  3.25  0.05  0.125\n",
              "1  2012/03  3.25  0.05  0.125\n",
              "2  2012/04  3.25  0.05  0.125\n",
              "3  2012/05  3.25  0.05  0.125\n",
              "4  2012/06  3.25  0.05  0.125"
            ],
            "text/html": [
              "\n",
              "  <div id=\"df-3680771e-aefe-48bb-a43d-75e2abad7663\">\n",
              "    <div class=\"colab-df-container\">\n",
              "      <div>\n",
              "<style scoped>\n",
              "    .dataframe tbody tr th:only-of-type {\n",
              "        vertical-align: middle;\n",
              "    }\n",
              "\n",
              "    .dataframe tbody tr th {\n",
              "        vertical-align: top;\n",
              "    }\n",
              "\n",
              "    .dataframe thead th {\n",
              "        text-align: right;\n",
              "    }\n",
              "</style>\n",
              "<table border=\"1\" class=\"dataframe\">\n",
              "  <thead>\n",
              "    <tr style=\"text-align: right;\">\n",
              "      <th></th>\n",
              "      <th>항목명1</th>\n",
              "      <th>한국</th>\n",
              "      <th>일본</th>\n",
              "      <th>미국</th>\n",
              "    </tr>\n",
              "  </thead>\n",
              "  <tbody>\n",
              "    <tr>\n",
              "      <th>0</th>\n",
              "      <td>2012/02</td>\n",
              "      <td>3.25</td>\n",
              "      <td>0.05</td>\n",
              "      <td>0.125</td>\n",
              "    </tr>\n",
              "    <tr>\n",
              "      <th>1</th>\n",
              "      <td>2012/03</td>\n",
              "      <td>3.25</td>\n",
              "      <td>0.05</td>\n",
              "      <td>0.125</td>\n",
              "    </tr>\n",
              "    <tr>\n",
              "      <th>2</th>\n",
              "      <td>2012/04</td>\n",
              "      <td>3.25</td>\n",
              "      <td>0.05</td>\n",
              "      <td>0.125</td>\n",
              "    </tr>\n",
              "    <tr>\n",
              "      <th>3</th>\n",
              "      <td>2012/05</td>\n",
              "      <td>3.25</td>\n",
              "      <td>0.05</td>\n",
              "      <td>0.125</td>\n",
              "    </tr>\n",
              "    <tr>\n",
              "      <th>4</th>\n",
              "      <td>2012/06</td>\n",
              "      <td>3.25</td>\n",
              "      <td>0.05</td>\n",
              "      <td>0.125</td>\n",
              "    </tr>\n",
              "  </tbody>\n",
              "</table>\n",
              "</div>\n",
              "      <button class=\"colab-df-convert\" onclick=\"convertToInteractive('df-3680771e-aefe-48bb-a43d-75e2abad7663')\"\n",
              "              title=\"Convert this dataframe to an interactive table.\"\n",
              "              style=\"display:none;\">\n",
              "        \n",
              "  <svg xmlns=\"http://www.w3.org/2000/svg\" height=\"24px\"viewBox=\"0 0 24 24\"\n",
              "       width=\"24px\">\n",
              "    <path d=\"M0 0h24v24H0V0z\" fill=\"none\"/>\n",
              "    <path d=\"M18.56 5.44l.94 2.06.94-2.06 2.06-.94-2.06-.94-.94-2.06-.94 2.06-2.06.94zm-11 1L8.5 8.5l.94-2.06 2.06-.94-2.06-.94L8.5 2.5l-.94 2.06-2.06.94zm10 10l.94 2.06.94-2.06 2.06-.94-2.06-.94-.94-2.06-.94 2.06-2.06.94z\"/><path d=\"M17.41 7.96l-1.37-1.37c-.4-.4-.92-.59-1.43-.59-.52 0-1.04.2-1.43.59L10.3 9.45l-7.72 7.72c-.78.78-.78 2.05 0 2.83L4 21.41c.39.39.9.59 1.41.59.51 0 1.02-.2 1.41-.59l7.78-7.78 2.81-2.81c.8-.78.8-2.07 0-2.86zM5.41 20L4 18.59l7.72-7.72 1.47 1.35L5.41 20z\"/>\n",
              "  </svg>\n",
              "      </button>\n",
              "      \n",
              "  <style>\n",
              "    .colab-df-container {\n",
              "      display:flex;\n",
              "      flex-wrap:wrap;\n",
              "      gap: 12px;\n",
              "    }\n",
              "\n",
              "    .colab-df-convert {\n",
              "      background-color: #E8F0FE;\n",
              "      border: none;\n",
              "      border-radius: 50%;\n",
              "      cursor: pointer;\n",
              "      display: none;\n",
              "      fill: #1967D2;\n",
              "      height: 32px;\n",
              "      padding: 0 0 0 0;\n",
              "      width: 32px;\n",
              "    }\n",
              "\n",
              "    .colab-df-convert:hover {\n",
              "      background-color: #E2EBFA;\n",
              "      box-shadow: 0px 1px 2px rgba(60, 64, 67, 0.3), 0px 1px 3px 1px rgba(60, 64, 67, 0.15);\n",
              "      fill: #174EA6;\n",
              "    }\n",
              "\n",
              "    [theme=dark] .colab-df-convert {\n",
              "      background-color: #3B4455;\n",
              "      fill: #D2E3FC;\n",
              "    }\n",
              "\n",
              "    [theme=dark] .colab-df-convert:hover {\n",
              "      background-color: #434B5C;\n",
              "      box-shadow: 0px 1px 3px 1px rgba(0, 0, 0, 0.15);\n",
              "      filter: drop-shadow(0px 1px 2px rgba(0, 0, 0, 0.3));\n",
              "      fill: #FFFFFF;\n",
              "    }\n",
              "  </style>\n",
              "\n",
              "      <script>\n",
              "        const buttonEl =\n",
              "          document.querySelector('#df-3680771e-aefe-48bb-a43d-75e2abad7663 button.colab-df-convert');\n",
              "        buttonEl.style.display =\n",
              "          google.colab.kernel.accessAllowed ? 'block' : 'none';\n",
              "\n",
              "        async function convertToInteractive(key) {\n",
              "          const element = document.querySelector('#df-3680771e-aefe-48bb-a43d-75e2abad7663');\n",
              "          const dataTable =\n",
              "            await google.colab.kernel.invokeFunction('convertToInteractive',\n",
              "                                                     [key], {});\n",
              "          if (!dataTable) return;\n",
              "\n",
              "          const docLinkHtml = 'Like what you see? Visit the ' +\n",
              "            '<a target=\"_blank\" href=https://colab.research.google.com/notebooks/data_table.ipynb>data table notebook</a>'\n",
              "            + ' to learn more about interactive tables.';\n",
              "          element.innerHTML = '';\n",
              "          dataTable['output_type'] = 'display_data';\n",
              "          await google.colab.output.renderOutput(dataTable, element);\n",
              "          const docLink = document.createElement('div');\n",
              "          docLink.innerHTML = docLinkHtml;\n",
              "          element.appendChild(docLink);\n",
              "        }\n",
              "      </script>\n",
              "    </div>\n",
              "  </div>\n",
              "  "
            ]
          },
          "metadata": {},
          "execution_count": 87
        }
      ]
    },
    {
      "cell_type": "code",
      "source": [
        "df2=df2.set_index('항목명1')"
      ],
      "metadata": {
        "id": "ygPDAaOw4QCv"
      },
      "id": "ygPDAaOw4QCv",
      "execution_count": 88,
      "outputs": []
    },
    {
      "cell_type": "code",
      "source": [
        "df2.plot(kind='line', figsize=(20,4))\n",
        "plt.xticks(rotation=0)\n",
        "plt.show()"
      ],
      "metadata": {
        "colab": {
          "base_uri": "https://localhost:8080/",
          "height": 279
        },
        "id": "CAHWmpF933yv",
        "outputId": "057d9bca-cae0-4944-bc1f-bfc1d2c5b081"
      },
      "id": "CAHWmpF933yv",
      "execution_count": 89,
      "outputs": [
        {
          "output_type": "display_data",
          "data": {
            "text/plain": [
              "<Figure size 1440x288 with 1 Axes>"
            ],
            "image/png": "[encoded data removed]"
          },
          "metadata": {
            "needs_background": "light"
          }
        }
      ]
    },
    {
      "cell_type": "markdown",
      "id": "faced-phrase",
      "metadata": {
        "id": "faced-phrase"
      },
      "source": [
        "## 시장금리"
      ]
    },
    {
      "cell_type": "markdown",
      "id": "caring-round",
      "metadata": {
        "id": "caring-round"
      },
      "source": [
        "* <b>COFIX</b>(Cost of Funds Index): 8개 은행의 자금조달 관련 정보를 기초로 산출되는 자금조달비용지수\n",
        "* <b>KORIBOR</b> : 은행간 만든 단기 기준금리\n",
        "* 단기투자상품 CD, CP, RP\n",
        "  - <b>CD</b>(Certificate of Deposit) : 양도성예금증서\n",
        "  - <b>CP</b>(Commercial Paper) : 기업어음 \n",
        "  - <b>RP</b>(Repurchase Agreements) : 환매조건부채권 \n",
        "  -<img  width=\"900\" height=\"400\" src=\"https://blog.kakaocdn.net/dn/bvkcnI/btrwlQ59Tam/kBSJkX3mgru8zvMutAdi2k/img.png\" /><br>\n",
        "  "
      ]
    },
    {
      "cell_type": "code",
      "execution_count": 90,
      "id": "concerned-command",
      "metadata": {
        "colab": {
          "base_uri": "https://localhost:8080/",
          "height": 299
        },
        "id": "concerned-command",
        "outputId": "03e3c798-03c2-45da-efef-72b9df975b1b"
      },
      "outputs": [
        {
          "output_type": "execute_result",
          "data": {
            "text/plain": [
              "         한국은행 기준금리  CD(91일)  CP(91일)          환매조건부채권매도(91~180일)  국고채(1년)  \\\n",
              "항목명1                                                                        \n",
              "2021/09       0.75     0.98     1.15                        1.15    1.073   \n",
              "2021/10       0.75     1.08     1.20                        1.19    1.178   \n",
              "2021/11       1.00     1.17     1.34                        1.31    1.339   \n",
              "2021/12       1.00     1.27     1.54                        1.48    1.320   \n",
              "2022/01       1.25     1.39     1.60                        1.58    1.422   \n",
              "\n",
              "         국고채(2년)  국고채(3년)  국고채(5년)  국고채(10년)            정기예금(1년)  \\\n",
              "항목명1                                                               \n",
              "2021/09    1.363    1.515    1.786     2.061                1.31   \n",
              "2021/10    1.630    1.842    2.154     2.399                1.46   \n",
              "2021/11    1.765    1.953    2.174     2.355                1.72   \n",
              "2021/12    1.693    1.800    1.981     2.187                1.79   \n",
              "2022/01    1.896    2.060    2.279     2.492                1.83   \n",
              "\n",
              "                 정기예금(2~3년 미만)          정기예금(3~4년 미만)          정기예금(4~5년 미만)  \\\n",
              "항목명1                                                                           \n",
              "2021/09                   1.30                   1.37                   1.48   \n",
              "2021/10                   1.67                   1.56                   1.37   \n",
              "2021/11                   1.91                   1.88                   1.48   \n",
              "2021/12                   1.99                   1.78                   1.81   \n",
              "2022/01                   1.83                   1.85                   1.62   \n",
              "\n",
              "                 정기예금(5년 이상)          정기적금(3-4년)  \n",
              "항목명1                                              \n",
              "2021/09                 1.51                1.53  \n",
              "2021/10                 1.68                1.52  \n",
              "2021/11                 1.84                1.53  \n",
              "2021/12                 1.95                1.74  \n",
              "2022/01                 2.12                1.85  "
            ],
            "text/html": [
              "\n",
              "  <div id=\"df-c5b98a21-cba9-48c8-9f77-9b13d648b7b9\">\n",
              "    <div class=\"colab-df-container\">\n",
              "      <div>\n",
              "<style scoped>\n",
              "    .dataframe tbody tr th:only-of-type {\n",
              "        vertical-align: middle;\n",
              "    }\n",
              "\n",
              "    .dataframe tbody tr th {\n",
              "        vertical-align: top;\n",
              "    }\n",
              "\n",
              "    .dataframe thead th {\n",
              "        text-align: right;\n",
              "    }\n",
              "</style>\n",
              "<table border=\"1\" class=\"dataframe\">\n",
              "  <thead>\n",
              "    <tr style=\"text-align: right;\">\n",
              "      <th></th>\n",
              "      <th>한국은행 기준금리</th>\n",
              "      <th>CD(91일)</th>\n",
              "      <th>CP(91일)</th>\n",
              "      <th>환매조건부채권매도(91~180일)</th>\n",
              "      <th>국고채(1년)</th>\n",
              "      <th>국고채(2년)</th>\n",
              "      <th>국고채(3년)</th>\n",
              "      <th>국고채(5년)</th>\n",
              "      <th>국고채(10년)</th>\n",
              "      <th>정기예금(1년)</th>\n",
              "      <th>정기예금(2~3년 미만)</th>\n",
              "      <th>정기예금(3~4년 미만)</th>\n",
              "      <th>정기예금(4~5년 미만)</th>\n",
              "      <th>정기예금(5년 이상)</th>\n",
              "      <th>정기적금(3-4년)</th>\n",
              "    </tr>\n",
              "    <tr>\n",
              "      <th>항목명1</th>\n",
              "      <th></th>\n",
              "      <th></th>\n",
              "      <th></th>\n",
              "      <th></th>\n",
              "      <th></th>\n",
              "      <th></th>\n",
              "      <th></th>\n",
              "      <th></th>\n",
              "      <th></th>\n",
              "      <th></th>\n",
              "      <th></th>\n",
              "      <th></th>\n",
              "      <th></th>\n",
              "      <th></th>\n",
              "      <th></th>\n",
              "    </tr>\n",
              "  </thead>\n",
              "  <tbody>\n",
              "    <tr>\n",
              "      <th>2021/09</th>\n",
              "      <td>0.75</td>\n",
              "      <td>0.98</td>\n",
              "      <td>1.15</td>\n",
              "      <td>1.15</td>\n",
              "      <td>1.073</td>\n",
              "      <td>1.363</td>\n",
              "      <td>1.515</td>\n",
              "      <td>1.786</td>\n",
              "      <td>2.061</td>\n",
              "      <td>1.31</td>\n",
              "      <td>1.30</td>\n",
              "      <td>1.37</td>\n",
              "      <td>1.48</td>\n",
              "      <td>1.51</td>\n",
              "      <td>1.53</td>\n",
              "    </tr>\n",
              "    <tr>\n",
              "      <th>2021/10</th>\n",
              "      <td>0.75</td>\n",
              "      <td>1.08</td>\n",
              "      <td>1.20</td>\n",
              "      <td>1.19</td>\n",
              "      <td>1.178</td>\n",
              "      <td>1.630</td>\n",
              "      <td>1.842</td>\n",
              "      <td>2.154</td>\n",
              "      <td>2.399</td>\n",
              "      <td>1.46</td>\n",
              "      <td>1.67</td>\n",
              "      <td>1.56</td>\n",
              "      <td>1.37</td>\n",
              "      <td>1.68</td>\n",
              "      <td>1.52</td>\n",
              "    </tr>\n",
              "    <tr>\n",
              "      <th>2021/11</th>\n",
              "      <td>1.00</td>\n",
              "      <td>1.17</td>\n",
              "      <td>1.34</td>\n",
              "      <td>1.31</td>\n",
              "      <td>1.339</td>\n",
              "      <td>1.765</td>\n",
              "      <td>1.953</td>\n",
              "      <td>2.174</td>\n",
              "      <td>2.355</td>\n",
              "      <td>1.72</td>\n",
              "      <td>1.91</td>\n",
              "      <td>1.88</td>\n",
              "      <td>1.48</td>\n",
              "      <td>1.84</td>\n",
              "      <td>1.53</td>\n",
              "    </tr>\n",
              "    <tr>\n",
              "      <th>2021/12</th>\n",
              "      <td>1.00</td>\n",
              "      <td>1.27</td>\n",
              "      <td>1.54</td>\n",
              "      <td>1.48</td>\n",
              "      <td>1.320</td>\n",
              "      <td>1.693</td>\n",
              "      <td>1.800</td>\n",
              "      <td>1.981</td>\n",
              "      <td>2.187</td>\n",
              "      <td>1.79</td>\n",
              "      <td>1.99</td>\n",
              "      <td>1.78</td>\n",
              "      <td>1.81</td>\n",
              "      <td>1.95</td>\n",
              "      <td>1.74</td>\n",
              "    </tr>\n",
              "    <tr>\n",
              "      <th>2022/01</th>\n",
              "      <td>1.25</td>\n",
              "      <td>1.39</td>\n",
              "      <td>1.60</td>\n",
              "      <td>1.58</td>\n",
              "      <td>1.422</td>\n",
              "      <td>1.896</td>\n",
              "      <td>2.060</td>\n",
              "      <td>2.279</td>\n",
              "      <td>2.492</td>\n",
              "      <td>1.83</td>\n",
              "      <td>1.83</td>\n",
              "      <td>1.85</td>\n",
              "      <td>1.62</td>\n",
              "      <td>2.12</td>\n",
              "      <td>1.85</td>\n",
              "    </tr>\n",
              "  </tbody>\n",
              "</table>\n",
              "</div>\n",
              "      <button class=\"colab-df-convert\" onclick=\"convertToInteractive('df-c5b98a21-cba9-48c8-9f77-9b13d648b7b9')\"\n",
              "              title=\"Convert this dataframe to an interactive table.\"\n",
              "              style=\"display:none;\">\n",
              "        \n",
              "  <svg xmlns=\"http://www.w3.org/2000/svg\" height=\"24px\"viewBox=\"0 0 24 24\"\n",
              "       width=\"24px\">\n",
              "    <path d=\"M0 0h24v24H0V0z\" fill=\"none\"/>\n",
              "    <path d=\"M18.56 5.44l.94 2.06.94-2.06 2.06-.94-2.06-.94-.94-2.06-.94 2.06-2.06.94zm-11 1L8.5 8.5l.94-2.06 2.06-.94-2.06-.94L8.5 2.5l-.94 2.06-2.06.94zm10 10l.94 2.06.94-2.06 2.06-.94-2.06-.94-.94-2.06-.94 2.06-2.06.94z\"/><path d=\"M17.41 7.96l-1.37-1.37c-.4-.4-.92-.59-1.43-.59-.52 0-1.04.2-1.43.59L10.3 9.45l-7.72 7.72c-.78.78-.78 2.05 0 2.83L4 21.41c.39.39.9.59 1.41.59.51 0 1.02-.2 1.41-.59l7.78-7.78 2.81-2.81c.8-.78.8-2.07 0-2.86zM5.41 20L4 18.59l7.72-7.72 1.47 1.35L5.41 20z\"/>\n",
              "  </svg>\n",
              "      </button>\n",
              "      \n",
              "  <style>\n",
              "    .colab-df-container {\n",
              "      display:flex;\n",
              "      flex-wrap:wrap;\n",
              "      gap: 12px;\n",
              "    }\n",
              "\n",
              "    .colab-df-convert {\n",
              "      background-color: #E8F0FE;\n",
              "      border: none;\n",
              "      border-radius: 50%;\n",
              "      cursor: pointer;\n",
              "      display: none;\n",
              "      fill: #1967D2;\n",
              "      height: 32px;\n",
              "      padding: 0 0 0 0;\n",
              "      width: 32px;\n",
              "    }\n",
              "\n",
              "    .colab-df-convert:hover {\n",
              "      background-color: #E2EBFA;\n",
              "      box-shadow: 0px 1px 2px rgba(60, 64, 67, 0.3), 0px 1px 3px 1px rgba(60, 64, 67, 0.15);\n",
              "      fill: #174EA6;\n",
              "    }\n",
              "\n",
              "    [theme=dark] .colab-df-convert {\n",
              "      background-color: #3B4455;\n",
              "      fill: #D2E3FC;\n",
              "    }\n",
              "\n",
              "    [theme=dark] .colab-df-convert:hover {\n",
              "      background-color: #434B5C;\n",
              "      box-shadow: 0px 1px 3px 1px rgba(0, 0, 0, 0.15);\n",
              "      filter: drop-shadow(0px 1px 2px rgba(0, 0, 0, 0.3));\n",
              "      fill: #FFFFFF;\n",
              "    }\n",
              "  </style>\n",
              "\n",
              "      <script>\n",
              "        const buttonEl =\n",
              "          document.querySelector('#df-c5b98a21-cba9-48c8-9f77-9b13d648b7b9 button.colab-df-convert');\n",
              "        buttonEl.style.display =\n",
              "          google.colab.kernel.accessAllowed ? 'block' : 'none';\n",
              "\n",
              "        async function convertToInteractive(key) {\n",
              "          const element = document.querySelector('#df-c5b98a21-cba9-48c8-9f77-9b13d648b7b9');\n",
              "          const dataTable =\n",
              "            await google.colab.kernel.invokeFunction('convertToInteractive',\n",
              "                                                     [key], {});\n",
              "          if (!dataTable) return;\n",
              "\n",
              "          const docLinkHtml = 'Like what you see? Visit the ' +\n",
              "            '<a target=\"_blank\" href=https://colab.research.google.com/notebooks/data_table.ipynb>data table notebook</a>'\n",
              "            + ' to learn more about interactive tables.';\n",
              "          element.innerHTML = '';\n",
              "          dataTable['output_type'] = 'display_data';\n",
              "          await google.colab.output.renderOutput(dataTable, element);\n",
              "          const docLink = document.createElement('div');\n",
              "          docLink.innerHTML = docLinkHtml;\n",
              "          element.appendChild(docLink);\n",
              "        }\n",
              "      </script>\n",
              "    </div>\n",
              "  </div>\n",
              "  "
            ]
          },
          "metadata": {},
          "execution_count": 90
        }
      ],
      "source": [
        "df3=pd.read_csv('/content/gdrive/MyDrive/Colab Notebooks/금융공학/dataset/국내금리.csv', encoding='cp949', header=[0,1,2,3],skipfooter=23) \n",
        "df3.columns = df3.columns.droplevel([0,2,3])\n",
        "df3=df3.set_index('항목명1')\n",
        "df3.tail()"
      ]
    },
    {
      "cell_type": "code",
      "source": [
        "df3.columns"
      ],
      "metadata": {
        "colab": {
          "base_uri": "https://localhost:8080/"
        },
        "id": "9-uEpXe08ekU",
        "outputId": "8f792447-1f59-49c7-bbb0-6ae804e3bec3"
      },
      "id": "9-uEpXe08ekU",
      "execution_count": 91,
      "outputs": [
        {
          "output_type": "execute_result",
          "data": {
            "text/plain": [
              "Index(['한국은행 기준금리', 'CD(91일)', 'CP(91일)', '        환매조건부채권매도(91~180일)',\n",
              "       '국고채(1년)', '국고채(2년)', '국고채(3년)', '국고채(5년)', '국고채(10년)',\n",
              "       '          정기예금(1년)', '        정기예금(2~3년 미만)', '        정기예금(3~4년 미만)',\n",
              "       '        정기예금(4~5년 미만)', '        정기예금(5년 이상)', '        정기적금(3-4년)'],\n",
              "      dtype='object')"
            ]
          },
          "metadata": {},
          "execution_count": 91
        }
      ]
    },
    {
      "cell_type": "code",
      "source": [
        "# 기준금리에 따른 단기투자상품 금리 (CD, CP, RP)\n",
        "\n",
        "df3[['한국은행 기준금리', 'CD(91일)', 'CP(91일)', '        환매조건부채권매도(91~180일)']].plot(kind='line', figsize=(20,4))\n",
        "plt.xticks(rotation=0)\n",
        "plt.show()"
      ],
      "metadata": {
        "colab": {
          "base_uri": "https://localhost:8080/",
          "height": 283
        },
        "id": "ZsDtrGp-8Hud",
        "outputId": "33f4c84d-138a-4d85-b564-1017ac6afddf"
      },
      "id": "ZsDtrGp-8Hud",
      "execution_count": 92,
      "outputs": [
        {
          "output_type": "display_data",
          "data": {
            "text/plain": [
              "<Figure size 1440x288 with 1 Axes>"
            ],
            "image/png": "[encoded data removed]"
          },
          "metadata": {
            "needs_background": "light"
          }
        }
      ]
    },
    {
      "cell_type": "code",
      "source": [
        "# 기준금리에 따른 국고채 금리\n",
        "\n",
        "df3[['한국은행 기준금리','국고채(1년)', '국고채(2년)', '국고채(3년)', '국고채(5년)','국고채(10년)']].plot(kind='line', figsize=(20,4))\n",
        "plt.xticks(rotation=0)\n",
        "plt.show()"
      ],
      "metadata": {
        "colab": {
          "base_uri": "https://localhost:8080/",
          "height": 279
        },
        "id": "IIUKacTO84nV",
        "outputId": "3de4ce02-64a0-4c60-997c-68aaaa0e8d4c"
      },
      "id": "IIUKacTO84nV",
      "execution_count": 93,
      "outputs": [
        {
          "output_type": "display_data",
          "data": {
            "text/plain": [
              "<Figure size 1440x288 with 1 Axes>"
            ],
            "image/png": "[encoded data removed]"
          },
          "metadata": {
            "needs_background": "light"
          }
        }
      ]
    },
    {
      "cell_type": "code",
      "source": [
        "# 기준금리에 따른 정기예금 금리\n",
        "df3[['한국은행 기준금리','          정기예금(1년)',\n",
        "       '        정기예금(2~3년 미만)', '        정기예금(3~4년 미만)',\n",
        "       '        정기예금(4~5년 미만)', '        정기예금(5년 이상)', '        정기적금(3-4년)']].plot(kind='line', figsize=(20,4))\n",
        "plt.xticks(rotation=0)\n",
        "plt.show()"
      ],
      "metadata": {
        "colab": {
          "base_uri": "https://localhost:8080/",
          "height": 283
        },
        "id": "F70OeQmu9Dk7",
        "outputId": "bc20273f-5858-4b46-9993-196e61c17ddc"
      },
      "id": "F70OeQmu9Dk7",
      "execution_count": 94,
      "outputs": [
        {
          "output_type": "display_data",
          "data": {
            "text/plain": [
              "<Figure size 1440x288 with 1 Axes>"
            ],
            "image/png": "[encoded data removed]"
          },
          "metadata": {
            "needs_background": "light"
          }
        }
      ]
    },
    {
      "cell_type": "code",
      "execution_count": 95,
      "id": "silver-comparative",
      "metadata": {
        "id": "silver-comparative"
      },
      "outputs": [],
      "source": [
        "#-------시장 금리 비교 ------------ CD/CP 3개월, RP 3개월 + 기준금리, 가능하면 채권(단기성[1~2년] 예금/채권,중기성[2~] 예금, 10년 채권)"
      ]
    },
    {
      "cell_type": "code",
      "execution_count": 96,
      "id": "heard-poetry",
      "metadata": {
        "id": "heard-poetry"
      },
      "outputs": [],
      "source": [
        "# () 중앙은행의 기준금리 변화에 대한 시중은행의 예금금리와 대출금리의 비대칭적 변동을 실증 분석\n",
        "# https://www.kci.go.kr/kciportal/ci/sereArticleSearch/ciSereArtiView.kci?sereArticleSearchBean.artiId=ART002530569\n",
        "        "
      ]
    }
  ],
  "metadata": {
    "kernelspec": {
      "display_name": "Python 3",
      "language": "python",
      "name": "python3"
    },
    "language_info": {
      "codemirror_mode": {
        "name": "ipython",
        "version": 3
      },
      "file_extension": ".py",
      "mimetype": "text/x-python",
      "name": "python",
      "nbconvert_exporter": "python",
      "pygments_lexer": "ipython3",
      "version": "3.8.0"
    },
    "colab": {
      "name": "금융 공학 2일차.ipynb",
      "provenance": [],
      "collapsed_sections": [],
      "include_colab_link": true
    }
  },
  "nbformat": 4,
  "nbformat_minor": 5
}