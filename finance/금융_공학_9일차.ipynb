{
  "nbformat": 4,
  "nbformat_minor": 0,
  "metadata": {
    "colab": {
      "name": "금융 공학 9일차.ipynb",
      "provenance": [],
      "collapsed_sections": [],
      "toc_visible": true,
      "authorship_tag": "ABX9TyNNBS1J84C6aF61d32yR+IX",
      "include_colab_link": true
    },
    "kernelspec": {
      "name": "python3",
      "display_name": "Python 3"
    },
    "language_info": {
      "name": "python"
    }
  },
  "cells": [
    {
      "cell_type": "markdown",
      "metadata": {
        "id": "view-in-github",
        "colab_type": "text"
      },
      "source": [
        "<a href=\"https://colab.research.google.com/github/choisangh/STUDY/blob/main/finance/%EA%B8%88%EC%9C%B5_%EA%B3%B5%ED%95%99_9%EC%9D%BC%EC%B0%A8.ipynb\" target=\"_parent\"><img src=\"https://colab.research.google.com/assets/colab-badge.svg\" alt=\"Open In Colab\"/></a>"
      ]
    },
    {
      "cell_type": "markdown",
      "source": [
        "# 유가증권 - 주식, 채권, 펀드"
      ],
      "metadata": {
        "id": "HZjU_pQ_csHb"
      }
    },
    {
      "cell_type": "markdown",
      "source": [
        "<img  width=\"700\" height=\"\" src=\"https://blog.kakaocdn.net/dn/sRoAC/btrx1IT8tJQ/3E7bkACWeUfdKydgfSKDV0/img.png\">"
      ],
      "metadata": {
        "id": "O-nvPF46bV9W"
      }
    },
    {
      "cell_type": "markdown",
      "source": [
        "* 기업의 자금 조달 방법 \n",
        "    - 1. 주식 발행\n",
        "    - 2. 채권 발행\n",
        "    - 주식과 채권의 차이는 의결권 유/무"
      ],
      "metadata": {
        "id": "qtC8WQvlc0W_"
      }
    },
    {
      "cell_type": "markdown",
      "source": [
        "<img  width=\"700\" height=\"\" src=\"https://blog.kakaocdn.net/dn/djaZER/btrx5uNOUTx/N720B51DzIHHIpx4ZKssk0/img.png\">"
      ],
      "metadata": {
        "id": "pky54QHSgtqC"
      }
    },
    {
      "cell_type": "markdown",
      "source": [
        "* 펀드의 경우 자산운용 전문가가 포트폴리오 설계 -> 투자자 모집 후 실적 배당"
      ],
      "metadata": {
        "id": "rGGs10gMgwHR"
      }
    },
    {
      "cell_type": "markdown",
      "source": [
        "<img  width=\"700\" height=\"\" src=\"https://blog.kakaocdn.net/dn/lWekd/btrx06gyeZr/V7EDA3GYkkokUUEkubcCw1/img.png\">"
      ],
      "metadata": {
        "id": "RCjvlufRhlSU"
      }
    },
    {
      "cell_type": "markdown",
      "source": [
        "* 보통 처음에는(3~6개월) 채권을 통해 안정적으로 자산 운용(원금보장)\n",
        "* 이후 선물/옵션(레버리지 상품)을 통해 높은 수익률 도모\n"
      ],
      "metadata": {
        "id": "e4TEO8IJhlsZ"
      }
    },
    {
      "cell_type": "markdown",
      "source": [
        "<img  width=\"700\" height=\"\" src=\"https://blog.kakaocdn.net/dn/ufAWW/btrxXKSvWCm/wOVw1LOsRXHsA8K5KJa1L0/img.png\">"
      ],
      "metadata": {
        "id": "ziOuVf5GdGUG"
      }
    },
    {
      "cell_type": "markdown",
      "source": [
        "<img  width=\"700\" height=\"\" src=\"https://blog.kakaocdn.net/dn/uqnSF/btrx0uCiwi1/0P9AOxlWhPV1CYWsMrAtj0/img.png\">"
      ],
      "metadata": {
        "id": "bHHHg-t-lcyZ"
      }
    },
    {
      "cell_type": "markdown",
      "source": [
        "<img  width=\"700\" height=\"\" src=\"https://blog.kakaocdn.net/dn/TTDGs/btrx1Is2HqI/AxvNDlbOlqBE0Tzdr8HOr0/img.png\">"
      ],
      "metadata": {
        "id": "OrZxgHk8liGx"
      }
    },
    {
      "cell_type": "markdown",
      "source": [
        "<img  width=\"700\" height=\"\" src=\"https://blog.kakaocdn.net/dn/cizU7r/btrx0uCkknM/m7mi0NyNWyeBSelQVs5LBK/img.png\">"
      ],
      "metadata": {
        "id": "Alp2iqnut-Ec"
      }
    },
    {
      "cell_type": "markdown",
      "source": [
        "* (참고)인덱스 펀드 간이 투자 설명서\n",
        "* ref : https://m.kodex.com/upload/core/2ETF01-Aa.pdf"
      ],
      "metadata": {
        "id": "dnpVbx0nt3Xr"
      }
    },
    {
      "cell_type": "markdown",
      "source": [
        "<img  width=\"700\" height=\"\" src=\"https://blog.kakaocdn.net/dn/b3td2G/btrx4SnVHa6/mPrHjOGjXpk6K3IEv13tt1/img.png\">"
      ],
      "metadata": {
        "id": "QYHEq5fEzdIY"
      }
    },
    {
      "cell_type": "markdown",
      "source": [
        "<img  width=\"700\" height=\"\" src=\"https://blog.kakaocdn.net/dn/bMFN9L/btrx18d0CcB/8us7QyCIikJkCtumlL5HC1/img.png\">"
      ],
      "metadata": {
        "id": "mgjd8Kfl0Yrw"
      }
    },
    {
      "cell_type": "markdown",
      "source": [
        "* ELS : 증권사에서 주식이나 채권과 같은 현물자산에 투자하는 상품 <원금보장>\n",
        "    - 일반적으로 주식 10%/채권 90% 로 안정적으로 운용\n",
        "* ELD : 지급이자가 주가지수나 주식가격에 연동하여 결정되는 예금 상품\n",
        "* DLS : 파생상품(선물,옵션)에 투자하는 상품\n",
        "* ETF : 지수 추종 상품 <원금보장 X>"
      ],
      "metadata": {
        "id": "FUFN2nB81O3f"
      }
    },
    {
      "cell_type": "markdown",
      "source": [
        "<img  width=\"700\" height=\"\" src=\"https://blog.kakaocdn.net/dn/mzM3o/btrx0t4wZZg/N0YA95Eu09kFnJ8OAkRas0/img.png\">"
      ],
      "metadata": {
        "id": "wITdn5vj6NYT"
      }
    },
    {
      "cell_type": "markdown",
      "source": [
        "* 자산운용회사가 펀드 재산운용을 하기 시작하면 은행이나,증권과 같은 수탁회사에서 운용지사를 선정 한다.\n",
        "* 수탁회사를 통해 펀드 재산 보관 관리/ 운용감시\n",
        "* 운용사가 계획한 문서대로 수탁회사에서 주식/채권 등 금융상품 투자"
      ],
      "metadata": {
        "id": "YGiAjpuI6OQI"
      }
    },
    {
      "cell_type": "markdown",
      "source": [
        "<img  width=\"700\" height=\"\" src=\"https://blog.kakaocdn.net/dn/DylZI/btrx3Z1Zqye/nkJ3ygV8fGUWUwD9okPfq0/img.png\">"
      ],
      "metadata": {
        "id": "3O1WNrnW73fq"
      }
    },
    {
      "cell_type": "markdown",
      "source": [
        "* 금융투자협회\n",
        "* ref : http://fundamoa.kofia.or.kr/"
      ],
      "metadata": {
        "id": "tzdiAZ3r76qf"
      }
    },
    {
      "cell_type": "markdown",
      "source": [
        "<img  width=\"700\" height=\"\" src=\"https://blog.kakaocdn.net/dn/cisOL9/btrx3Z1ZZ2x/GkzDPqsMZG3xg8PEeOQrjk/img.png\">"
      ],
      "metadata": {
        "id": "1n5I4Osz-CmS"
      }
    },
    {
      "cell_type": "markdown",
      "source": [
        "<img  width=\"700\" height=\"\" src=\"https://blog.kakaocdn.net/dn/44eSx/btrx5BsLXTf/S8SaP1b5StQkIsLCMcpeRK/img.png\">"
      ],
      "metadata": {
        "id": "45_jALTp-455"
      }
    },
    {
      "cell_type": "markdown",
      "source": [
        "# 코드"
      ],
      "metadata": {
        "id": "3VicGPGdATF3"
      }
    },
    {
      "cell_type": "markdown",
      "source": [
        "## DATA LOAD"
      ],
      "metadata": {
        "id": "boZwIH3ZANZi"
      }
    },
    {
      "cell_type": "code",
      "source": [
        "!sudo apt-get install -y fonts-nanum\n",
        "!sudo fc-cache -fv\n",
        "!rm ~/.cache/matplotlib -rf"
      ],
      "metadata": {
        "colab": {
          "base_uri": "https://localhost:8080/"
        },
        "id": "_XUbP1m3AF_n",
        "outputId": "6150663c-1f7b-4466-958d-c73a611ec45e"
      },
      "execution_count": 1,
      "outputs": [
        {
          "output_type": "stream",
          "name": "stdout",
          "text": [
            "Reading package lists... Done\n",
            "Building dependency tree       \n",
            "Reading state information... Done\n",
            "fonts-nanum is already the newest version (20170925-1).\n",
            "0 upgraded, 0 newly installed, 0 to remove and 39 not upgraded.\n",
            "/usr/share/fonts: caching, new cache contents: 0 fonts, 1 dirs\n",
            "/usr/share/fonts/truetype: caching, new cache contents: 0 fonts, 3 dirs\n",
            "/usr/share/fonts/truetype/humor-sans: caching, new cache contents: 1 fonts, 0 dirs\n",
            "/usr/share/fonts/truetype/liberation: caching, new cache contents: 16 fonts, 0 dirs\n",
            "/usr/share/fonts/truetype/nanum: caching, new cache contents: 10 fonts, 0 dirs\n",
            "/usr/local/share/fonts: caching, new cache contents: 0 fonts, 0 dirs\n",
            "/root/.local/share/fonts: skipping, no such directory\n",
            "/root/.fonts: skipping, no such directory\n",
            "/var/cache/fontconfig: cleaning cache directory\n",
            "/root/.cache/fontconfig: not cleaning non-existent cache directory\n",
            "/root/.fontconfig: not cleaning non-existent cache directory\n",
            "fc-cache: succeeded\n"
          ]
        }
      ]
    },
    {
      "cell_type": "code",
      "source": [
        "import pandas as pd\n",
        "import numpy as np\n",
        "import matplotlib.pyplot as plt\n",
        "import seaborn as sns\n",
        "import os\n",
        "from IPython.display import Image\n",
        "\n",
        "import warnings\n",
        "warnings.filterwarnings(action='ignore')\n",
        "\n",
        "#-------------------- 차트 관련 속성 (한글처리, 그리드) -----------\n",
        "#plt.rc('font', family='NanumGothicOTF') # For MacOS\n",
        "plt.rcParams['font.family']= 'Malgun Gothic'\n",
        "plt.rcParams['axes.unicode_minus'] = False\n",
        "sns.set()\n",
        "\n",
        "#-------------------- 주피터 , 출력결과 넓이 늘리기 ---------------\n",
        "from IPython.core.display import display, HTML\n",
        "display(HTML(\"<style>.container{width:100% !important;}</style>\"))\n",
        "pd.set_option('display.max_rows', 100)\n",
        "pd.set_option('display.max_columns', 100)\n",
        "pd.set_option('max_colwidth', None)\n",
        "\n",
        "plt.rc('font', family='NanumBarunGothic')"
      ],
      "metadata": {
        "colab": {
          "base_uri": "https://localhost:8080/",
          "height": 17
        },
        "id": "WaL5x9fgAD7j",
        "outputId": "6300b23d-cc20-481f-fd15-bf184a28cdc1"
      },
      "execution_count": 2,
      "outputs": [
        {
          "output_type": "display_data",
          "data": {
            "text/plain": [
              "<IPython.core.display.HTML object>"
            ],
            "text/html": [
              "<style>.container{width:100% !important;}</style>"
            ]
          },
          "metadata": {}
        }
      ]
    },
    {
      "cell_type": "code",
      "source": [
        "from google.colab import drive\n",
        "drive.mount('/content/gdrive')"
      ],
      "metadata": {
        "colab": {
          "base_uri": "https://localhost:8080/"
        },
        "id": "-aOg9-SCAH74",
        "outputId": "379991ca-8465-43cc-91d3-9f1f8163b862"
      },
      "execution_count": 3,
      "outputs": [
        {
          "output_type": "stream",
          "name": "stdout",
          "text": [
            "Drive already mounted at /content/gdrive; to attempt to forcibly remount, call drive.mount(\"/content/gdrive\", force_remount=True).\n"
          ]
        }
      ]
    },
    {
      "cell_type": "code",
      "source": [
        "df = pd.read_excel(\"/content/gdrive/My Drive/Colab Notebooks/금융공학/dataset/펀드구조화.xlsx\",'종목 기본정보')\n",
        "df.head()"
      ],
      "metadata": {
        "colab": {
          "base_uri": "https://localhost:8080/",
          "height": 112
        },
        "id": "TXGoWl6NAKGb",
        "outputId": "cece8fa5-199a-4293-d36c-b0f21cb23ce6"
      },
      "execution_count": 4,
      "outputs": [
        {
          "output_type": "execute_result",
          "data": {
            "text/plain": [
              "     종목명          A전자        B건설          C증권         D화학        E엔터\n",
              "0  상장주식수  10000000.00  5000000.0  20000000.00  1000000.00  1000000.0\n",
              "1   유동비율         0.75        0.9         0.82        0.88        0.5"
            ],
            "text/html": [
              "\n",
              "  <div id=\"df-a0f4bdcc-dcb2-4576-86c5-e5d578bf14af\">\n",
              "    <div class=\"colab-df-container\">\n",
              "      <div>\n",
              "<style scoped>\n",
              "    .dataframe tbody tr th:only-of-type {\n",
              "        vertical-align: middle;\n",
              "    }\n",
              "\n",
              "    .dataframe tbody tr th {\n",
              "        vertical-align: top;\n",
              "    }\n",
              "\n",
              "    .dataframe thead th {\n",
              "        text-align: right;\n",
              "    }\n",
              "</style>\n",
              "<table border=\"1\" class=\"dataframe\">\n",
              "  <thead>\n",
              "    <tr style=\"text-align: right;\">\n",
              "      <th></th>\n",
              "      <th>종목명</th>\n",
              "      <th>A전자</th>\n",
              "      <th>B건설</th>\n",
              "      <th>C증권</th>\n",
              "      <th>D화학</th>\n",
              "      <th>E엔터</th>\n",
              "    </tr>\n",
              "  </thead>\n",
              "  <tbody>\n",
              "    <tr>\n",
              "      <th>0</th>\n",
              "      <td>상장주식수</td>\n",
              "      <td>10000000.00</td>\n",
              "      <td>5000000.0</td>\n",
              "      <td>20000000.00</td>\n",
              "      <td>1000000.00</td>\n",
              "      <td>1000000.0</td>\n",
              "    </tr>\n",
              "    <tr>\n",
              "      <th>1</th>\n",
              "      <td>유동비율</td>\n",
              "      <td>0.75</td>\n",
              "      <td>0.9</td>\n",
              "      <td>0.82</td>\n",
              "      <td>0.88</td>\n",
              "      <td>0.5</td>\n",
              "    </tr>\n",
              "  </tbody>\n",
              "</table>\n",
              "</div>\n",
              "      <button class=\"colab-df-convert\" onclick=\"convertToInteractive('df-a0f4bdcc-dcb2-4576-86c5-e5d578bf14af')\"\n",
              "              title=\"Convert this dataframe to an interactive table.\"\n",
              "              style=\"display:none;\">\n",
              "        \n",
              "  <svg xmlns=\"http://www.w3.org/2000/svg\" height=\"24px\"viewBox=\"0 0 24 24\"\n",
              "       width=\"24px\">\n",
              "    <path d=\"M0 0h24v24H0V0z\" fill=\"none\"/>\n",
              "    <path d=\"M18.56 5.44l.94 2.06.94-2.06 2.06-.94-2.06-.94-.94-2.06-.94 2.06-2.06.94zm-11 1L8.5 8.5l.94-2.06 2.06-.94-2.06-.94L8.5 2.5l-.94 2.06-2.06.94zm10 10l.94 2.06.94-2.06 2.06-.94-2.06-.94-.94-2.06-.94 2.06-2.06.94z\"/><path d=\"M17.41 7.96l-1.37-1.37c-.4-.4-.92-.59-1.43-.59-.52 0-1.04.2-1.43.59L10.3 9.45l-7.72 7.72c-.78.78-.78 2.05 0 2.83L4 21.41c.39.39.9.59 1.41.59.51 0 1.02-.2 1.41-.59l7.78-7.78 2.81-2.81c.8-.78.8-2.07 0-2.86zM5.41 20L4 18.59l7.72-7.72 1.47 1.35L5.41 20z\"/>\n",
              "  </svg>\n",
              "      </button>\n",
              "      \n",
              "  <style>\n",
              "    .colab-df-container {\n",
              "      display:flex;\n",
              "      flex-wrap:wrap;\n",
              "      gap: 12px;\n",
              "    }\n",
              "\n",
              "    .colab-df-convert {\n",
              "      background-color: #E8F0FE;\n",
              "      border: none;\n",
              "      border-radius: 50%;\n",
              "      cursor: pointer;\n",
              "      display: none;\n",
              "      fill: #1967D2;\n",
              "      height: 32px;\n",
              "      padding: 0 0 0 0;\n",
              "      width: 32px;\n",
              "    }\n",
              "\n",
              "    .colab-df-convert:hover {\n",
              "      background-color: #E2EBFA;\n",
              "      box-shadow: 0px 1px 2px rgba(60, 64, 67, 0.3), 0px 1px 3px 1px rgba(60, 64, 67, 0.15);\n",
              "      fill: #174EA6;\n",
              "    }\n",
              "\n",
              "    [theme=dark] .colab-df-convert {\n",
              "      background-color: #3B4455;\n",
              "      fill: #D2E3FC;\n",
              "    }\n",
              "\n",
              "    [theme=dark] .colab-df-convert:hover {\n",
              "      background-color: #434B5C;\n",
              "      box-shadow: 0px 1px 3px 1px rgba(0, 0, 0, 0.15);\n",
              "      filter: drop-shadow(0px 1px 2px rgba(0, 0, 0, 0.3));\n",
              "      fill: #FFFFFF;\n",
              "    }\n",
              "  </style>\n",
              "\n",
              "      <script>\n",
              "        const buttonEl =\n",
              "          document.querySelector('#df-a0f4bdcc-dcb2-4576-86c5-e5d578bf14af button.colab-df-convert');\n",
              "        buttonEl.style.display =\n",
              "          google.colab.kernel.accessAllowed ? 'block' : 'none';\n",
              "\n",
              "        async function convertToInteractive(key) {\n",
              "          const element = document.querySelector('#df-a0f4bdcc-dcb2-4576-86c5-e5d578bf14af');\n",
              "          const dataTable =\n",
              "            await google.colab.kernel.invokeFunction('convertToInteractive',\n",
              "                                                     [key], {});\n",
              "          if (!dataTable) return;\n",
              "\n",
              "          const docLinkHtml = 'Like what you see? Visit the ' +\n",
              "            '<a target=\"_blank\" href=https://colab.research.google.com/notebooks/data_table.ipynb>data table notebook</a>'\n",
              "            + ' to learn more about interactive tables.';\n",
              "          element.innerHTML = '';\n",
              "          dataTable['output_type'] = 'display_data';\n",
              "          await google.colab.output.renderOutput(dataTable, element);\n",
              "          const docLink = document.createElement('div');\n",
              "          docLink.innerHTML = docLinkHtml;\n",
              "          element.appendChild(docLink);\n",
              "        }\n",
              "      </script>\n",
              "    </div>\n",
              "  </div>\n",
              "  "
            ]
          },
          "metadata": {},
          "execution_count": 4
        }
      ]
    },
    {
      "cell_type": "markdown",
      "source": [
        "* 유동비율 : (유동자산÷유동부채) × 100(%)의 계산식으로 산출된다. 유동비율은 기업이 보유하는 지급능력, 또는 그 신용능력을 판단하기 위하여 쓰이는 것 ---> 기업에서 현금화할 수 있는 비율\n",
        "* 유동(주식)비율 : 비공개주식 등 시장에 유통되지 않는 주식과 유통되는 주식의 비율\n",
        "* 개념 혼용 주의할 것\n",
        "* 유동시가총액을 계산할 때 시가총액(발행주식수*주가) * 유동주식비율으로 계산"
      ],
      "metadata": {
        "id": "fVnkArqZArPS"
      }
    },
    {
      "cell_type": "code",
      "source": [
        "df2 = pd.read_excel(\"/content/gdrive/My Drive/Colab Notebooks/금융공학/dataset/펀드구조화.xlsx\",'펀드',header=[0,1])\n",
        "df2.head()"
      ],
      "metadata": {
        "colab": {
          "base_uri": "https://localhost:8080/",
          "height": 319
        },
        "id": "tEsZ_bdpHzx6",
        "outputId": "8080ff59-661a-44ac-f2cb-3e29adcd7113"
      },
      "execution_count": 5,
      "outputs": [
        {
          "output_type": "execute_result",
          "data": {
            "text/plain": [
              "                  일자      편입비중                                          \\\n",
              "  Unnamed: 0_level_1       A전자       B건설       C증권       D화학       E엔터   \n",
              "0                  1  0.060241  0.072289  0.395181  0.070683  0.401606   \n",
              "1                  2  0.061719  0.070300  0.386077  0.070208  0.411695   \n",
              "2                  3  0.062284  0.068816  0.389396  0.067878  0.411626   \n",
              "3                  4  0.062438  0.069804  0.381189  0.068791  0.417779   \n",
              "4                  5  0.061944  0.070970  0.372163  0.067845  0.427079   \n",
              "\n",
              "                  지수 (Random)                        총좌수                iNAV  \\\n",
              "  Unnamed: 6_level_1     설정좌수    환매좌수 Unnamed: 9_level_1 Unnamed: 10_level_1   \n",
              "0         100.000000  1000000       0            1000000        10000.000000   \n",
              "1         100.191463   200000  100000            1100000        10019.146345   \n",
              "2         101.323097   100000   50000            1150000        10132.309719   \n",
              "3         102.115555   200000  150000            1200000        10211.555502   \n",
              "4         103.172811   250000  100000            1350000        10317.281124   \n",
              "\n",
              "                  AUM      일자별 매매내역                                            \\\n",
              "  Unnamed: 11_level_1           A전자           B건설            C증권          D화학   \n",
              "0        1.000000e+10  60240.963855  36144.578313  131726.907631  7068.273092   \n",
              "1        1.102106e+10   6024.096386   3614.457831   13172.690763   706.827309   \n",
              "2        1.165216e+10   3012.048193   1807.228916    6586.345382   353.413655   \n",
              "3        1.225387e+10   3012.048193   1807.228916    6586.345382   353.413655   \n",
              "4        1.392833e+10   9036.144578   5421.686747   19759.036145  1060.240964   \n",
              "\n",
              "                       주식 잔고                                            \\\n",
              "           E엔터           A전자           B건설            C증권          D화학   \n",
              "0  4016.064257  60240.963855  36144.578313  131726.907631  7068.273092   \n",
              "1   401.606426  66265.060241  39759.036145  144899.598394  7775.100402   \n",
              "2   200.803213  69277.108434  41566.265060  151485.943775  8128.514056   \n",
              "3   200.803213  72289.156627  43373.493976  158072.289157  8481.927711   \n",
              "4   602.409639  81325.301205  48795.180723  177831.325301  9542.168675   \n",
              "\n",
              "                \n",
              "           E엔터  \n",
              "0  4016.064257  \n",
              "1  4417.670683  \n",
              "2  4618.473896  \n",
              "3  4819.277108  \n",
              "4  5421.686747  "
            ],
            "text/html": [
              "\n",
              "  <div id=\"df-6f29e807-d189-4fe9-9499-69d0539d9910\">\n",
              "    <div class=\"colab-df-container\">\n",
              "      <div>\n",
              "<style scoped>\n",
              "    .dataframe tbody tr th:only-of-type {\n",
              "        vertical-align: middle;\n",
              "    }\n",
              "\n",
              "    .dataframe tbody tr th {\n",
              "        vertical-align: top;\n",
              "    }\n",
              "\n",
              "    .dataframe thead tr th {\n",
              "        text-align: left;\n",
              "    }\n",
              "</style>\n",
              "<table border=\"1\" class=\"dataframe\">\n",
              "  <thead>\n",
              "    <tr>\n",
              "      <th></th>\n",
              "      <th>일자</th>\n",
              "      <th colspan=\"5\" halign=\"left\">편입비중</th>\n",
              "      <th>지수</th>\n",
              "      <th colspan=\"2\" halign=\"left\">(Random)</th>\n",
              "      <th>총좌수</th>\n",
              "      <th>iNAV</th>\n",
              "      <th>AUM</th>\n",
              "      <th colspan=\"5\" halign=\"left\">일자별 매매내역</th>\n",
              "      <th colspan=\"5\" halign=\"left\">주식 잔고</th>\n",
              "    </tr>\n",
              "    <tr>\n",
              "      <th></th>\n",
              "      <th>Unnamed: 0_level_1</th>\n",
              "      <th>A전자</th>\n",
              "      <th>B건설</th>\n",
              "      <th>C증권</th>\n",
              "      <th>D화학</th>\n",
              "      <th>E엔터</th>\n",
              "      <th>Unnamed: 6_level_1</th>\n",
              "      <th>설정좌수</th>\n",
              "      <th>환매좌수</th>\n",
              "      <th>Unnamed: 9_level_1</th>\n",
              "      <th>Unnamed: 10_level_1</th>\n",
              "      <th>Unnamed: 11_level_1</th>\n",
              "      <th>A전자</th>\n",
              "      <th>B건설</th>\n",
              "      <th>C증권</th>\n",
              "      <th>D화학</th>\n",
              "      <th>E엔터</th>\n",
              "      <th>A전자</th>\n",
              "      <th>B건설</th>\n",
              "      <th>C증권</th>\n",
              "      <th>D화학</th>\n",
              "      <th>E엔터</th>\n",
              "    </tr>\n",
              "  </thead>\n",
              "  <tbody>\n",
              "    <tr>\n",
              "      <th>0</th>\n",
              "      <td>1</td>\n",
              "      <td>0.060241</td>\n",
              "      <td>0.072289</td>\n",
              "      <td>0.395181</td>\n",
              "      <td>0.070683</td>\n",
              "      <td>0.401606</td>\n",
              "      <td>100.000000</td>\n",
              "      <td>1000000</td>\n",
              "      <td>0</td>\n",
              "      <td>1000000</td>\n",
              "      <td>10000.000000</td>\n",
              "      <td>1.000000e+10</td>\n",
              "      <td>60240.963855</td>\n",
              "      <td>36144.578313</td>\n",
              "      <td>131726.907631</td>\n",
              "      <td>7068.273092</td>\n",
              "      <td>4016.064257</td>\n",
              "      <td>60240.963855</td>\n",
              "      <td>36144.578313</td>\n",
              "      <td>131726.907631</td>\n",
              "      <td>7068.273092</td>\n",
              "      <td>4016.064257</td>\n",
              "    </tr>\n",
              "    <tr>\n",
              "      <th>1</th>\n",
              "      <td>2</td>\n",
              "      <td>0.061719</td>\n",
              "      <td>0.070300</td>\n",
              "      <td>0.386077</td>\n",
              "      <td>0.070208</td>\n",
              "      <td>0.411695</td>\n",
              "      <td>100.191463</td>\n",
              "      <td>200000</td>\n",
              "      <td>100000</td>\n",
              "      <td>1100000</td>\n",
              "      <td>10019.146345</td>\n",
              "      <td>1.102106e+10</td>\n",
              "      <td>6024.096386</td>\n",
              "      <td>3614.457831</td>\n",
              "      <td>13172.690763</td>\n",
              "      <td>706.827309</td>\n",
              "      <td>401.606426</td>\n",
              "      <td>66265.060241</td>\n",
              "      <td>39759.036145</td>\n",
              "      <td>144899.598394</td>\n",
              "      <td>7775.100402</td>\n",
              "      <td>4417.670683</td>\n",
              "    </tr>\n",
              "    <tr>\n",
              "      <th>2</th>\n",
              "      <td>3</td>\n",
              "      <td>0.062284</td>\n",
              "      <td>0.068816</td>\n",
              "      <td>0.389396</td>\n",
              "      <td>0.067878</td>\n",
              "      <td>0.411626</td>\n",
              "      <td>101.323097</td>\n",
              "      <td>100000</td>\n",
              "      <td>50000</td>\n",
              "      <td>1150000</td>\n",
              "      <td>10132.309719</td>\n",
              "      <td>1.165216e+10</td>\n",
              "      <td>3012.048193</td>\n",
              "      <td>1807.228916</td>\n",
              "      <td>6586.345382</td>\n",
              "      <td>353.413655</td>\n",
              "      <td>200.803213</td>\n",
              "      <td>69277.108434</td>\n",
              "      <td>41566.265060</td>\n",
              "      <td>151485.943775</td>\n",
              "      <td>8128.514056</td>\n",
              "      <td>4618.473896</td>\n",
              "    </tr>\n",
              "    <tr>\n",
              "      <th>3</th>\n",
              "      <td>4</td>\n",
              "      <td>0.062438</td>\n",
              "      <td>0.069804</td>\n",
              "      <td>0.381189</td>\n",
              "      <td>0.068791</td>\n",
              "      <td>0.417779</td>\n",
              "      <td>102.115555</td>\n",
              "      <td>200000</td>\n",
              "      <td>150000</td>\n",
              "      <td>1200000</td>\n",
              "      <td>10211.555502</td>\n",
              "      <td>1.225387e+10</td>\n",
              "      <td>3012.048193</td>\n",
              "      <td>1807.228916</td>\n",
              "      <td>6586.345382</td>\n",
              "      <td>353.413655</td>\n",
              "      <td>200.803213</td>\n",
              "      <td>72289.156627</td>\n",
              "      <td>43373.493976</td>\n",
              "      <td>158072.289157</td>\n",
              "      <td>8481.927711</td>\n",
              "      <td>4819.277108</td>\n",
              "    </tr>\n",
              "    <tr>\n",
              "      <th>4</th>\n",
              "      <td>5</td>\n",
              "      <td>0.061944</td>\n",
              "      <td>0.070970</td>\n",
              "      <td>0.372163</td>\n",
              "      <td>0.067845</td>\n",
              "      <td>0.427079</td>\n",
              "      <td>103.172811</td>\n",
              "      <td>250000</td>\n",
              "      <td>100000</td>\n",
              "      <td>1350000</td>\n",
              "      <td>10317.281124</td>\n",
              "      <td>1.392833e+10</td>\n",
              "      <td>9036.144578</td>\n",
              "      <td>5421.686747</td>\n",
              "      <td>19759.036145</td>\n",
              "      <td>1060.240964</td>\n",
              "      <td>602.409639</td>\n",
              "      <td>81325.301205</td>\n",
              "      <td>48795.180723</td>\n",
              "      <td>177831.325301</td>\n",
              "      <td>9542.168675</td>\n",
              "      <td>5421.686747</td>\n",
              "    </tr>\n",
              "  </tbody>\n",
              "</table>\n",
              "</div>\n",
              "      <button class=\"colab-df-convert\" onclick=\"convertToInteractive('df-6f29e807-d189-4fe9-9499-69d0539d9910')\"\n",
              "              title=\"Convert this dataframe to an interactive table.\"\n",
              "              style=\"display:none;\">\n",
              "        \n",
              "  <svg xmlns=\"http://www.w3.org/2000/svg\" height=\"24px\"viewBox=\"0 0 24 24\"\n",
              "       width=\"24px\">\n",
              "    <path d=\"M0 0h24v24H0V0z\" fill=\"none\"/>\n",
              "    <path d=\"M18.56 5.44l.94 2.06.94-2.06 2.06-.94-2.06-.94-.94-2.06-.94 2.06-2.06.94zm-11 1L8.5 8.5l.94-2.06 2.06-.94-2.06-.94L8.5 2.5l-.94 2.06-2.06.94zm10 10l.94 2.06.94-2.06 2.06-.94-2.06-.94-.94-2.06-.94 2.06-2.06.94z\"/><path d=\"M17.41 7.96l-1.37-1.37c-.4-.4-.92-.59-1.43-.59-.52 0-1.04.2-1.43.59L10.3 9.45l-7.72 7.72c-.78.78-.78 2.05 0 2.83L4 21.41c.39.39.9.59 1.41.59.51 0 1.02-.2 1.41-.59l7.78-7.78 2.81-2.81c.8-.78.8-2.07 0-2.86zM5.41 20L4 18.59l7.72-7.72 1.47 1.35L5.41 20z\"/>\n",
              "  </svg>\n",
              "      </button>\n",
              "      \n",
              "  <style>\n",
              "    .colab-df-container {\n",
              "      display:flex;\n",
              "      flex-wrap:wrap;\n",
              "      gap: 12px;\n",
              "    }\n",
              "\n",
              "    .colab-df-convert {\n",
              "      background-color: #E8F0FE;\n",
              "      border: none;\n",
              "      border-radius: 50%;\n",
              "      cursor: pointer;\n",
              "      display: none;\n",
              "      fill: #1967D2;\n",
              "      height: 32px;\n",
              "      padding: 0 0 0 0;\n",
              "      width: 32px;\n",
              "    }\n",
              "\n",
              "    .colab-df-convert:hover {\n",
              "      background-color: #E2EBFA;\n",
              "      box-shadow: 0px 1px 2px rgba(60, 64, 67, 0.3), 0px 1px 3px 1px rgba(60, 64, 67, 0.15);\n",
              "      fill: #174EA6;\n",
              "    }\n",
              "\n",
              "    [theme=dark] .colab-df-convert {\n",
              "      background-color: #3B4455;\n",
              "      fill: #D2E3FC;\n",
              "    }\n",
              "\n",
              "    [theme=dark] .colab-df-convert:hover {\n",
              "      background-color: #434B5C;\n",
              "      box-shadow: 0px 1px 3px 1px rgba(0, 0, 0, 0.15);\n",
              "      filter: drop-shadow(0px 1px 2px rgba(0, 0, 0, 0.3));\n",
              "      fill: #FFFFFF;\n",
              "    }\n",
              "  </style>\n",
              "\n",
              "      <script>\n",
              "        const buttonEl =\n",
              "          document.querySelector('#df-6f29e807-d189-4fe9-9499-69d0539d9910 button.colab-df-convert');\n",
              "        buttonEl.style.display =\n",
              "          google.colab.kernel.accessAllowed ? 'block' : 'none';\n",
              "\n",
              "        async function convertToInteractive(key) {\n",
              "          const element = document.querySelector('#df-6f29e807-d189-4fe9-9499-69d0539d9910');\n",
              "          const dataTable =\n",
              "            await google.colab.kernel.invokeFunction('convertToInteractive',\n",
              "                                                     [key], {});\n",
              "          if (!dataTable) return;\n",
              "\n",
              "          const docLinkHtml = 'Like what you see? Visit the ' +\n",
              "            '<a target=\"_blank\" href=https://colab.research.google.com/notebooks/data_table.ipynb>data table notebook</a>'\n",
              "            + ' to learn more about interactive tables.';\n",
              "          element.innerHTML = '';\n",
              "          dataTable['output_type'] = 'display_data';\n",
              "          await google.colab.output.renderOutput(dataTable, element);\n",
              "          const docLink = document.createElement('div');\n",
              "          docLink.innerHTML = docLinkHtml;\n",
              "          element.appendChild(docLink);\n",
              "        }\n",
              "      </script>\n",
              "    </div>\n",
              "  </div>\n",
              "  "
            ]
          },
          "metadata": {},
          "execution_count": 5
        }
      ]
    },
    {
      "cell_type": "markdown",
      "source": [
        "* 펀드 자산 구성 시 (유동)시가총액 기준으로 편입비중으로 잡음\n",
        "* 설정좌수 : 최소 몇 좌(단위)로 구성할 수 있는지\n",
        "* 수익증권의 가격을 '기준가'라고 하고 그 수량을 '좌수'라고 한다.\n",
        "* 총좌수 : 산다는 사람(설정) 떠나는 사람(환매)의 차이\n",
        "* NAV : 한 좌당 순자산가치(=청산가치). 주당순자산가치는 기업이 청산될 때 회사의 자산이 주당 얼마만큼 남는가를 알려주는 지표 \n",
        "* 인덱스(지수) 추종 상품이기 때문에 지수 기준으로 NAV가 오르락 내리락\n",
        "* AUM : NAV * 총좌수 운용자금\n",
        "* 매매 내역 : AUM * 편입비중 / 주당가격\n",
        "* 주식 잔고 : 매매 주식 누적 - 보유수량 "
      ],
      "metadata": {
        "id": "jQ4ocikVIZf8"
      }
    },
    {
      "cell_type": "markdown",
      "source": [
        "# Mission\n",
        "* 시가총액 상위 10개종목 :  업체명, 발행주식수, 유동비율 프레임화\n",
        "* 시가총액계산 = 일별주가*발행주식수*(유동비율%*0.01)\n",
        "* 일자별 10개종목의 시가총액계산(총합) 2021-01-01기준 index지수화\n",
        "* 코스피200지수\n",
        "    - 두지수 차트로 비교\n"
      ],
      "metadata": {
        "id": "ata-YP73j4I2"
      }
    },
    {
      "cell_type": "code",
      "source": [
        "pip install pykrx"
      ],
      "metadata": {
        "colab": {
          "base_uri": "https://localhost:8080/"
        },
        "id": "8j8Z-V3IjzuZ",
        "outputId": "3a101d91-f863-4b42-f84f-a9c002ddd3f1"
      },
      "execution_count": 6,
      "outputs": [
        {
          "output_type": "stream",
          "name": "stdout",
          "text": [
            "Requirement already satisfied: pykrx in /usr/local/lib/python3.7/dist-packages (1.0.32)\n",
            "Requirement already satisfied: xlrd in /usr/local/lib/python3.7/dist-packages (from pykrx) (1.1.0)\n",
            "Requirement already satisfied: pandas in /usr/local/lib/python3.7/dist-packages (from pykrx) (1.2.5)\n",
            "Requirement already satisfied: deprecated in /usr/local/lib/python3.7/dist-packages (from pykrx) (1.2.13)\n",
            "Requirement already satisfied: numpy in /usr/local/lib/python3.7/dist-packages (from pykrx) (1.21.5)\n",
            "Requirement already satisfied: datetime in /usr/local/lib/python3.7/dist-packages (from pykrx) (4.4)\n",
            "Requirement already satisfied: requests in /usr/local/lib/python3.7/dist-packages (from pykrx) (2.27.1)\n",
            "Requirement already satisfied: pytz in /usr/local/lib/python3.7/dist-packages (from datetime->pykrx) (2018.9)\n",
            "Requirement already satisfied: zope.interface in /usr/local/lib/python3.7/dist-packages (from datetime->pykrx) (5.4.0)\n",
            "Requirement already satisfied: wrapt<2,>=1.10 in /usr/local/lib/python3.7/dist-packages (from deprecated->pykrx) (1.14.0)\n",
            "Requirement already satisfied: python-dateutil>=2.7.3 in /usr/local/lib/python3.7/dist-packages (from pandas->pykrx) (2.8.2)\n",
            "Requirement already satisfied: six>=1.5 in /usr/local/lib/python3.7/dist-packages (from python-dateutil>=2.7.3->pandas->pykrx) (1.15.0)\n",
            "Requirement already satisfied: urllib3<1.27,>=1.21.1 in /usr/local/lib/python3.7/dist-packages (from requests->pykrx) (1.24.3)\n",
            "Requirement already satisfied: certifi>=2017.4.17 in /usr/local/lib/python3.7/dist-packages (from requests->pykrx) (2021.10.8)\n",
            "Requirement already satisfied: idna<4,>=2.5 in /usr/local/lib/python3.7/dist-packages (from requests->pykrx) (3.3)\n",
            "Requirement already satisfied: charset-normalizer~=2.0.0 in /usr/local/lib/python3.7/dist-packages (from requests->pykrx) (2.0.12)\n",
            "Requirement already satisfied: setuptools in /usr/local/lib/python3.7/dist-packages (from zope.interface->datetime->pykrx) (57.4.0)\n"
          ]
        }
      ]
    },
    {
      "cell_type": "code",
      "source": [
        "from pykrx import stock\n",
        "from pykrx import bond"
      ],
      "metadata": {
        "id": "63Z_svJfkLa9"
      },
      "execution_count": 7,
      "outputs": []
    },
    {
      "cell_type": "code",
      "source": [
        "from urllib.request import urlopen  \n",
        "import bs4\n",
        "import re"
      ],
      "metadata": {
        "id": "tusAqw-sq0TR"
      },
      "execution_count": 8,
      "outputs": []
    },
    {
      "cell_type": "code",
      "source": [
        "for ticker in stock.get_index_ticker_list():\n",
        "    print(ticker, stock.get_index_ticker_name(ticker))"
      ],
      "metadata": {
        "colab": {
          "base_uri": "https://localhost:8080/"
        },
        "id": "3tAoOxbnkcGn",
        "outputId": "99328307-0a9a-40ef-a483-44059c1fa831"
      },
      "execution_count": 9,
      "outputs": [
        {
          "output_type": "stream",
          "name": "stdout",
          "text": [
            "1001 코스피\n",
            "1002 코스피 대형주\n",
            "1003 코스피 중형주\n",
            "1004 코스피 소형주\n",
            "1005 음식료품\n",
            "1006 섬유의복\n",
            "1007 종이목재\n",
            "1008 화학\n",
            "1009 의약품\n",
            "1010 비금속광물\n",
            "1011 철강금속\n",
            "1012 기계\n",
            "1013 전기전자\n",
            "1014 의료정밀\n",
            "1015 운수장비\n",
            "1016 유통업\n",
            "1017 전기가스업\n",
            "1018 건설업\n",
            "1019 운수창고업\n",
            "1020 통신업\n",
            "1021 금융업\n",
            "1022 은행\n",
            "1024 증권\n",
            "1025 보험\n",
            "1026 서비스업\n",
            "1027 제조업\n",
            "1028 코스피 200\n",
            "1034 코스피 100\n",
            "1035 코스피 50\n",
            "1150 코스피 200 커뮤니케이션서비스\n",
            "1151 코스피 200 건설\n",
            "1152 코스피 200 중공업\n",
            "1153 코스피 200 철강/소재\n",
            "1154 코스피 200 에너지/화학\n",
            "1155 코스피 200 정보기술\n",
            "1156 코스피 200 금융\n",
            "1157 코스피 200 생활소비재\n",
            "1158 코스피 200 경기소비재\n",
            "1159 코스피 200 산업재\n",
            "1160 코스피 200 헬스케어\n",
            "1167 코스피 200 중소형주\n",
            "1182 코스피 200 초대형제외 지수\n",
            "1224 코스피 200 비중상한 30%\n",
            "1227 코스피 200 비중상한 25%\n",
            "1232 코스피 200 비중상한 20%\n",
            "1244 코스피200제외 코스피지수\n",
            "1894 코스피 200 TOP 10\n"
          ]
        }
      ]
    },
    {
      "cell_type": "code",
      "source": [
        "kospi50 = stock.get_index_portfolio_deposit_file(\"1035\")\n",
        "print(len(kospi50), kospi50)"
      ],
      "metadata": {
        "colab": {
          "base_uri": "https://localhost:8080/"
        },
        "id": "ief4g0vOkf1t",
        "outputId": "222c7ecf-38dd-451b-e025-f57ded03fe9a"
      },
      "execution_count": 10,
      "outputs": [
        {
          "output_type": "stream",
          "name": "stdout",
          "text": [
            "50 ['005930', '373220', '000660', '035420', '207940', '035720', '006400', '005380', '051910', '000270', '005490', '105560', '323410', '068270', '055550', '028260', '012330', '096770', '066570', '377300', '034730', '086790', '015760', '259960', '051900', '032830', '352820', '017670', '009150', '003550', '302440', '316140', '033780', '010130', '010950', '018260', '036570', '000810', '251270', '030200', '003670', '090430', '361610', '024110', '034220', '086280', '011170', '326030', '018880', '009540']\n"
          ]
        }
      ]
    },
    {
      "cell_type": "code",
      "source": [
        "kospi10=kospi50[:11]\n",
        "kospi10.remove('373220')\n",
        "print(kospi10)"
      ],
      "metadata": {
        "colab": {
          "base_uri": "https://localhost:8080/"
        },
        "id": "EHD9P53PkkfN",
        "outputId": "3149778e-4a3d-42d9-d389-a50cb28a431f"
      },
      "execution_count": 11,
      "outputs": [
        {
          "output_type": "stream",
          "name": "stdout",
          "text": [
            "['005930', '000660', '035420', '207940', '035720', '006400', '005380', '051910', '000270', '005490']\n"
          ]
        }
      ]
    },
    {
      "cell_type": "code",
      "source": [
        "kospi200=stock.get_index_portfolio_deposit_file(\"1028\")\n",
        "print(kospi200)"
      ],
      "metadata": {
        "colab": {
          "base_uri": "https://localhost:8080/"
        },
        "id": "SIvndlCHv_-I",
        "outputId": "b09f167b-4f3d-4cd9-95b7-e830be125e08"
      },
      "execution_count": 12,
      "outputs": [
        {
          "output_type": "stream",
          "name": "stdout",
          "text": [
            "['005930', '373220', '000660', '035420', '207940', '035720', '006400', '005380', '051910', '000270', '005490', '105560', '323410', '068270', '028260', '055550', '012330', '096770', '066570', '377300', '034730', '086790', '015760', '011200', '259960', '051900', '032830', '352820', '034020', '009150', '017670', '302440', '003550', '316140', '033780', '010130', '010950', '018260', '329180', '003490', '000810', '036570', '251270', '030200', '003670', '090430', '011070', '361610', '024110', '402340', '034220', '086280', '011170', '326030', '009830', '009540', '018880', '032640', '035250', '011790', '004020', '097950', '138040', '000720', '006800', '028050', '010140', '021240', '005830', '011780', '020150', '008560', '000100', '267250', '071050', '003410', '078930', '047810', '161390', '180640', '006360', '139480', '241560', '005940', '036460', '029780', '028670', '016360', '271560', '002790', '128940', '000990', '004990', '052690', '008770', '272210', '010620', '007070', '002380', '008930', '047040', '000120', '282330', '014680', '001450', '026960', '088350', '000080', '012450', '012750', '023530', '030000', '039490', '042660', '047050', '112610', '138930', '336260', '375500', '000880', '001040', '004170', '285130', '010060', '204320', '006280', '001440', '298050', '064350', '004000', '009240', '298020', '111770', '019170', '003090', '004370', '004800', '093370', '069620', '081660', '051600', '000150', '001230', '005300', '006260', '007310', '120110', '011210', '014820', '020560', '069960', '010780', '079550', '017800', '000210', '000240', '000670', '178920', '010120', '032350', '042670', '001120', '001740', '003240', '005250', '005850', '006650', '009420', '185750', '013890', '016380', '031430', '073240', '079160', '105630', '009900', '001800', '294870', '003520', '003850', '004490', '005440', '006040', '020000', '069260', '103140', '114090', '161890', '192080', '192820', '241590', '003000', '000070', '001680', '284740', '057050', '064960', '006120', '192400', '002350']\n"
          ]
        }
      ]
    },
    {
      "cell_type": "code",
      "source": [
        "def stock_info(stock_cd):\n",
        "    url_float = 'http://companyinfo.stock.naver.com/v1/company/c1010001.aspx?cmp_cd=' + stock_cd\n",
        "    source = urlopen(url_float).read()\n",
        "    soup = bs4.BeautifulSoup(source, 'lxml')\n",
        "    \n",
        "    tmp = soup.find(id='cTB11').find_all('tr')[6].td.text\n",
        "    tmp = tmp.replace('\\r', '')\n",
        "    tmp = tmp.replace('\\n', '')\n",
        "    tmp = tmp.replace('\\t', '')\n",
        "    \n",
        "    tmp = re.split('/', tmp)\n",
        "\n",
        "    floating = tmp[1].replace(' ', '')\n",
        "    floating = floating.replace('%', '')\n",
        "    floating = float(floating)\n",
        "    \n",
        "    name = soup.find(id='pArea').find('div').find('div').find('tr').find('td').find('span').text\n",
        "    \n",
        "    \n",
        "    return floating"
      ],
      "metadata": {
        "id": "KjzuaNvDqriM"
      },
      "execution_count": 14,
      "outputs": []
    },
    {
      "cell_type": "code",
      "source": [
        "kospi10=['005930','000660','051910','005935','207940','005380','035420','006400','068270','035720'] #2021년 기준 시가총액 10위"
      ],
      "metadata": {
        "id": "Jqj6EerPwoZ1"
      },
      "execution_count": 15,
      "outputs": []
    },
    {
      "cell_type": "code",
      "source": [
        "k10_df=pd.DataFrame()\n",
        "for ticker in kospi10:\n",
        "    k10_df[stock.get_market_ticker_name(ticker)] = stock.get_market_cap(\"20210101\", \"20211231\", ticker)['시가총액']*stock_info(ticker)\n",
        "k10_df.head()"
      ],
      "metadata": {
        "colab": {
          "base_uri": "https://localhost:8080/",
          "height": 386
        },
        "id": "9AAy1HbPlZll",
        "outputId": "76bebfa9-42eb-4f32-ae0c-28113e88e105"
      },
      "execution_count": 16,
      "outputs": [
        {
          "output_type": "execute_result",
          "data": {
            "text/plain": [
              "                    삼성전자        SK하이닉스          LG화학         삼성전자우  \\\n",
              "날짜                                                                   \n",
              "2021-01-04  3.722136e+16  6.814495e+15  4.150093e+15  4.599055e+15   \n",
              "2021-01-05  3.762496e+16  7.057870e+15  4.168767e+15  4.636144e+15   \n",
              "2021-01-06  3.686260e+16  7.084912e+15  4.154762e+15  4.592873e+15   \n",
              "2021-01-07  3.717651e+16  7.274203e+15  4.490877e+15  4.592873e+15   \n",
              "2021-01-08  3.982237e+16  7.463495e+15  4.663603e+15  4.809226e+15   \n",
              "\n",
              "                삼성바이오로직스           현대차         NAVER         삼성SDI  \\\n",
              "날짜                                                                   \n",
              "2021-01-04  1.650460e+15  2.818892e+15  3.937448e+15  3.363217e+15   \n",
              "2021-01-05  1.656433e+15  2.846062e+15  3.930729e+15  3.438401e+15   \n",
              "2021-01-06  1.626569e+15  2.757760e+15  3.897133e+15  3.408328e+15   \n",
              "2021-01-07  1.630551e+15  2.798515e+15  3.890413e+15  3.498548e+15   \n",
              "2021-01-08  1.666387e+15  3.341916e+15  4.192777e+15  3.704050e+15   \n",
              "\n",
              "                    셀트리온           카카오  \n",
              "날짜                                      \n",
              "2021-01-04  3.536676e+15  2.558975e+15  \n",
              "2021-01-05  3.607918e+15  2.539589e+15  \n",
              "2021-01-06  3.597741e+15  2.555744e+15  \n",
              "2021-01-07  3.638451e+15  2.600979e+15  \n",
              "2021-01-08  3.735137e+15  2.805274e+15  "
            ],
            "text/html": [
              "\n",
              "  <div id=\"df-55ef48e2-da21-426c-b201-52357d434cb0\">\n",
              "    <div class=\"colab-df-container\">\n",
              "      <div>\n",
              "<style scoped>\n",
              "    .dataframe tbody tr th:only-of-type {\n",
              "        vertical-align: middle;\n",
              "    }\n",
              "\n",
              "    .dataframe tbody tr th {\n",
              "        vertical-align: top;\n",
              "    }\n",
              "\n",
              "    .dataframe thead th {\n",
              "        text-align: right;\n",
              "    }\n",
              "</style>\n",
              "<table border=\"1\" class=\"dataframe\">\n",
              "  <thead>\n",
              "    <tr style=\"text-align: right;\">\n",
              "      <th></th>\n",
              "      <th>삼성전자</th>\n",
              "      <th>SK하이닉스</th>\n",
              "      <th>LG화학</th>\n",
              "      <th>삼성전자우</th>\n",
              "      <th>삼성바이오로직스</th>\n",
              "      <th>현대차</th>\n",
              "      <th>NAVER</th>\n",
              "      <th>삼성SDI</th>\n",
              "      <th>셀트리온</th>\n",
              "      <th>카카오</th>\n",
              "    </tr>\n",
              "    <tr>\n",
              "      <th>날짜</th>\n",
              "      <th></th>\n",
              "      <th></th>\n",
              "      <th></th>\n",
              "      <th></th>\n",
              "      <th></th>\n",
              "      <th></th>\n",
              "      <th></th>\n",
              "      <th></th>\n",
              "      <th></th>\n",
              "      <th></th>\n",
              "    </tr>\n",
              "  </thead>\n",
              "  <tbody>\n",
              "    <tr>\n",
              "      <th>2021-01-04</th>\n",
              "      <td>3.722136e+16</td>\n",
              "      <td>6.814495e+15</td>\n",
              "      <td>4.150093e+15</td>\n",
              "      <td>4.599055e+15</td>\n",
              "      <td>1.650460e+15</td>\n",
              "      <td>2.818892e+15</td>\n",
              "      <td>3.937448e+15</td>\n",
              "      <td>3.363217e+15</td>\n",
              "      <td>3.536676e+15</td>\n",
              "      <td>2.558975e+15</td>\n",
              "    </tr>\n",
              "    <tr>\n",
              "      <th>2021-01-05</th>\n",
              "      <td>3.762496e+16</td>\n",
              "      <td>7.057870e+15</td>\n",
              "      <td>4.168767e+15</td>\n",
              "      <td>4.636144e+15</td>\n",
              "      <td>1.656433e+15</td>\n",
              "      <td>2.846062e+15</td>\n",
              "      <td>3.930729e+15</td>\n",
              "      <td>3.438401e+15</td>\n",
              "      <td>3.607918e+15</td>\n",
              "      <td>2.539589e+15</td>\n",
              "    </tr>\n",
              "    <tr>\n",
              "      <th>2021-01-06</th>\n",
              "      <td>3.686260e+16</td>\n",
              "      <td>7.084912e+15</td>\n",
              "      <td>4.154762e+15</td>\n",
              "      <td>4.592873e+15</td>\n",
              "      <td>1.626569e+15</td>\n",
              "      <td>2.757760e+15</td>\n",
              "      <td>3.897133e+15</td>\n",
              "      <td>3.408328e+15</td>\n",
              "      <td>3.597741e+15</td>\n",
              "      <td>2.555744e+15</td>\n",
              "    </tr>\n",
              "    <tr>\n",
              "      <th>2021-01-07</th>\n",
              "      <td>3.717651e+16</td>\n",
              "      <td>7.274203e+15</td>\n",
              "      <td>4.490877e+15</td>\n",
              "      <td>4.592873e+15</td>\n",
              "      <td>1.630551e+15</td>\n",
              "      <td>2.798515e+15</td>\n",
              "      <td>3.890413e+15</td>\n",
              "      <td>3.498548e+15</td>\n",
              "      <td>3.638451e+15</td>\n",
              "      <td>2.600979e+15</td>\n",
              "    </tr>\n",
              "    <tr>\n",
              "      <th>2021-01-08</th>\n",
              "      <td>3.982237e+16</td>\n",
              "      <td>7.463495e+15</td>\n",
              "      <td>4.663603e+15</td>\n",
              "      <td>4.809226e+15</td>\n",
              "      <td>1.666387e+15</td>\n",
              "      <td>3.341916e+15</td>\n",
              "      <td>4.192777e+15</td>\n",
              "      <td>3.704050e+15</td>\n",
              "      <td>3.735137e+15</td>\n",
              "      <td>2.805274e+15</td>\n",
              "    </tr>\n",
              "  </tbody>\n",
              "</table>\n",
              "</div>\n",
              "      <button class=\"colab-df-convert\" onclick=\"convertToInteractive('df-55ef48e2-da21-426c-b201-52357d434cb0')\"\n",
              "              title=\"Convert this dataframe to an interactive table.\"\n",
              "              style=\"display:none;\">\n",
              "        \n",
              "  <svg xmlns=\"http://www.w3.org/2000/svg\" height=\"24px\"viewBox=\"0 0 24 24\"\n",
              "       width=\"24px\">\n",
              "    <path d=\"M0 0h24v24H0V0z\" fill=\"none\"/>\n",
              "    <path d=\"M18.56 5.44l.94 2.06.94-2.06 2.06-.94-2.06-.94-.94-2.06-.94 2.06-2.06.94zm-11 1L8.5 8.5l.94-2.06 2.06-.94-2.06-.94L8.5 2.5l-.94 2.06-2.06.94zm10 10l.94 2.06.94-2.06 2.06-.94-2.06-.94-.94-2.06-.94 2.06-2.06.94z\"/><path d=\"M17.41 7.96l-1.37-1.37c-.4-.4-.92-.59-1.43-.59-.52 0-1.04.2-1.43.59L10.3 9.45l-7.72 7.72c-.78.78-.78 2.05 0 2.83L4 21.41c.39.39.9.59 1.41.59.51 0 1.02-.2 1.41-.59l7.78-7.78 2.81-2.81c.8-.78.8-2.07 0-2.86zM5.41 20L4 18.59l7.72-7.72 1.47 1.35L5.41 20z\"/>\n",
              "  </svg>\n",
              "      </button>\n",
              "      \n",
              "  <style>\n",
              "    .colab-df-container {\n",
              "      display:flex;\n",
              "      flex-wrap:wrap;\n",
              "      gap: 12px;\n",
              "    }\n",
              "\n",
              "    .colab-df-convert {\n",
              "      background-color: #E8F0FE;\n",
              "      border: none;\n",
              "      border-radius: 50%;\n",
              "      cursor: pointer;\n",
              "      display: none;\n",
              "      fill: #1967D2;\n",
              "      height: 32px;\n",
              "      padding: 0 0 0 0;\n",
              "      width: 32px;\n",
              "    }\n",
              "\n",
              "    .colab-df-convert:hover {\n",
              "      background-color: #E2EBFA;\n",
              "      box-shadow: 0px 1px 2px rgba(60, 64, 67, 0.3), 0px 1px 3px 1px rgba(60, 64, 67, 0.15);\n",
              "      fill: #174EA6;\n",
              "    }\n",
              "\n",
              "    [theme=dark] .colab-df-convert {\n",
              "      background-color: #3B4455;\n",
              "      fill: #D2E3FC;\n",
              "    }\n",
              "\n",
              "    [theme=dark] .colab-df-convert:hover {\n",
              "      background-color: #434B5C;\n",
              "      box-shadow: 0px 1px 3px 1px rgba(0, 0, 0, 0.15);\n",
              "      filter: drop-shadow(0px 1px 2px rgba(0, 0, 0, 0.3));\n",
              "      fill: #FFFFFF;\n",
              "    }\n",
              "  </style>\n",
              "\n",
              "      <script>\n",
              "        const buttonEl =\n",
              "          document.querySelector('#df-55ef48e2-da21-426c-b201-52357d434cb0 button.colab-df-convert');\n",
              "        buttonEl.style.display =\n",
              "          google.colab.kernel.accessAllowed ? 'block' : 'none';\n",
              "\n",
              "        async function convertToInteractive(key) {\n",
              "          const element = document.querySelector('#df-55ef48e2-da21-426c-b201-52357d434cb0');\n",
              "          const dataTable =\n",
              "            await google.colab.kernel.invokeFunction('convertToInteractive',\n",
              "                                                     [key], {});\n",
              "          if (!dataTable) return;\n",
              "\n",
              "          const docLinkHtml = 'Like what you see? Visit the ' +\n",
              "            '<a target=\"_blank\" href=https://colab.research.google.com/notebooks/data_table.ipynb>data table notebook</a>'\n",
              "            + ' to learn more about interactive tables.';\n",
              "          element.innerHTML = '';\n",
              "          dataTable['output_type'] = 'display_data';\n",
              "          await google.colab.output.renderOutput(dataTable, element);\n",
              "          const docLink = document.createElement('div');\n",
              "          docLink.innerHTML = docLinkHtml;\n",
              "          element.appendChild(docLink);\n",
              "        }\n",
              "      </script>\n",
              "    </div>\n",
              "  </div>\n",
              "  "
            ]
          },
          "metadata": {},
          "execution_count": 16
        }
      ]
    },
    {
      "cell_type": "code",
      "source": [
        "k10_df['kospi10']=k10_df.sum(axis=1)"
      ],
      "metadata": {
        "id": "V54N-5lMs6xV"
      },
      "execution_count": 17,
      "outputs": []
    },
    {
      "cell_type": "code",
      "source": [
        "k10_df['kospi10_index']=k10_df['kospi10'] / k10_df['kospi10']['2021-01-04'] * 100"
      ],
      "metadata": {
        "id": "k6N5tvA1tkHw"
      },
      "execution_count": 18,
      "outputs": []
    },
    {
      "cell_type": "code",
      "source": [
        "k10_df['kospi10_index'].head()"
      ],
      "metadata": {
        "colab": {
          "base_uri": "https://localhost:8080/"
        },
        "id": "eaqgwNe8vgDZ",
        "outputId": "32fc0b4a-b497-4a40-f82f-83772c775ea1"
      },
      "execution_count": 19,
      "outputs": [
        {
          "output_type": "execute_result",
          "data": {
            "text/plain": [
              "날짜\n",
              "2021-01-04    100.000000\n",
              "2021-01-05    101.211886\n",
              "2021-01-06     99.841118\n",
              "2021-01-07    101.332264\n",
              "2021-01-08    107.860597\n",
              "Name: kospi10_index, dtype: float64"
            ]
          },
          "metadata": {},
          "execution_count": 19
        }
      ]
    },
    {
      "cell_type": "code",
      "source": [
        "plt.plot(k10_df['kospi10_index'], color='orange', label='KOSPI10')\n",
        "plt.legend(loc=0)\n",
        "plt.grid(True)"
      ],
      "metadata": {
        "colab": {
          "base_uri": "https://localhost:8080/",
          "height": 286
        },
        "id": "4_wRwikivzTa",
        "outputId": "4cbae040-6ce7-458c-d4c4-8326b33485f9"
      },
      "execution_count": 20,
      "outputs": [
        {
          "output_type": "stream",
          "name": "stderr",
          "text": [
            "findfont: Font family ['Malgun Gothic'] not found. Falling back to DejaVu Sans.\n"
          ]
        },
        {
          "output_type": "display_data",
          "data": {
            "text/plain": [
              "<Figure size 432x288 with 1 Axes>"
            ],
            "image/png": "[encoded data removed]"
          },
          "metadata": {}
        }
      ]
    },
    {
      "cell_type": "code",
      "source": [
        "k200_df = stock.get_index_ohlcv(\"20210101\", \"20211231\", \"1028\")\n",
        "k200_df.head()"
      ],
      "metadata": {
        "colab": {
          "base_uri": "https://localhost:8080/",
          "height": 238
        },
        "id": "MmawPVQXxWRx",
        "outputId": "0b7d389f-e131-442a-ef4e-6e161985cb8e"
      },
      "execution_count": 21,
      "outputs": [
        {
          "output_type": "execute_result",
          "data": {
            "text/plain": [
              "코스피 200         시가      고가      저가      종가        거래량            거래대금\n",
              "날짜                                                                   \n",
              "2021-01-04  389.50  400.78  388.88  399.88  361886757  20828370493095\n",
              "2021-01-05  399.79  406.03  396.43  406.03  470868837  20755374346434\n",
              "2021-01-06  406.33  411.21  401.06  402.08  429077337  22700275121526\n",
              "2021-01-07  404.00  414.65  403.99  410.81  460331917  20865124437686\n",
              "2021-01-08  412.06  431.99  412.06  430.22  499112018  34756755069426"
            ],
            "text/html": [
              "\n",
              "  <div id=\"df-f1ca612f-19f4-4449-95dd-aae09c6f6bc8\">\n",
              "    <div class=\"colab-df-container\">\n",
              "      <div>\n",
              "<style scoped>\n",
              "    .dataframe tbody tr th:only-of-type {\n",
              "        vertical-align: middle;\n",
              "    }\n",
              "\n",
              "    .dataframe tbody tr th {\n",
              "        vertical-align: top;\n",
              "    }\n",
              "\n",
              "    .dataframe thead th {\n",
              "        text-align: right;\n",
              "    }\n",
              "</style>\n",
              "<table border=\"1\" class=\"dataframe\">\n",
              "  <thead>\n",
              "    <tr style=\"text-align: right;\">\n",
              "      <th>코스피 200</th>\n",
              "      <th>시가</th>\n",
              "      <th>고가</th>\n",
              "      <th>저가</th>\n",
              "      <th>종가</th>\n",
              "      <th>거래량</th>\n",
              "      <th>거래대금</th>\n",
              "    </tr>\n",
              "    <tr>\n",
              "      <th>날짜</th>\n",
              "      <th></th>\n",
              "      <th></th>\n",
              "      <th></th>\n",
              "      <th></th>\n",
              "      <th></th>\n",
              "      <th></th>\n",
              "    </tr>\n",
              "  </thead>\n",
              "  <tbody>\n",
              "    <tr>\n",
              "      <th>2021-01-04</th>\n",
              "      <td>389.50</td>\n",
              "      <td>400.78</td>\n",
              "      <td>388.88</td>\n",
              "      <td>399.88</td>\n",
              "      <td>361886757</td>\n",
              "      <td>20828370493095</td>\n",
              "    </tr>\n",
              "    <tr>\n",
              "      <th>2021-01-05</th>\n",
              "      <td>399.79</td>\n",
              "      <td>406.03</td>\n",
              "      <td>396.43</td>\n",
              "      <td>406.03</td>\n",
              "      <td>470868837</td>\n",
              "      <td>20755374346434</td>\n",
              "    </tr>\n",
              "    <tr>\n",
              "      <th>2021-01-06</th>\n",
              "      <td>406.33</td>\n",
              "      <td>411.21</td>\n",
              "      <td>401.06</td>\n",
              "      <td>402.08</td>\n",
              "      <td>429077337</td>\n",
              "      <td>22700275121526</td>\n",
              "    </tr>\n",
              "    <tr>\n",
              "      <th>2021-01-07</th>\n",
              "      <td>404.00</td>\n",
              "      <td>414.65</td>\n",
              "      <td>403.99</td>\n",
              "      <td>410.81</td>\n",
              "      <td>460331917</td>\n",
              "      <td>20865124437686</td>\n",
              "    </tr>\n",
              "    <tr>\n",
              "      <th>2021-01-08</th>\n",
              "      <td>412.06</td>\n",
              "      <td>431.99</td>\n",
              "      <td>412.06</td>\n",
              "      <td>430.22</td>\n",
              "      <td>499112018</td>\n",
              "      <td>34756755069426</td>\n",
              "    </tr>\n",
              "  </tbody>\n",
              "</table>\n",
              "</div>\n",
              "      <button class=\"colab-df-convert\" onclick=\"convertToInteractive('df-f1ca612f-19f4-4449-95dd-aae09c6f6bc8')\"\n",
              "              title=\"Convert this dataframe to an interactive table.\"\n",
              "              style=\"display:none;\">\n",
              "        \n",
              "  <svg xmlns=\"http://www.w3.org/2000/svg\" height=\"24px\"viewBox=\"0 0 24 24\"\n",
              "       width=\"24px\">\n",
              "    <path d=\"M0 0h24v24H0V0z\" fill=\"none\"/>\n",
              "    <path d=\"M18.56 5.44l.94 2.06.94-2.06 2.06-.94-2.06-.94-.94-2.06-.94 2.06-2.06.94zm-11 1L8.5 8.5l.94-2.06 2.06-.94-2.06-.94L8.5 2.5l-.94 2.06-2.06.94zm10 10l.94 2.06.94-2.06 2.06-.94-2.06-.94-.94-2.06-.94 2.06-2.06.94z\"/><path d=\"M17.41 7.96l-1.37-1.37c-.4-.4-.92-.59-1.43-.59-.52 0-1.04.2-1.43.59L10.3 9.45l-7.72 7.72c-.78.78-.78 2.05 0 2.83L4 21.41c.39.39.9.59 1.41.59.51 0 1.02-.2 1.41-.59l7.78-7.78 2.81-2.81c.8-.78.8-2.07 0-2.86zM5.41 20L4 18.59l7.72-7.72 1.47 1.35L5.41 20z\"/>\n",
              "  </svg>\n",
              "      </button>\n",
              "      \n",
              "  <style>\n",
              "    .colab-df-container {\n",
              "      display:flex;\n",
              "      flex-wrap:wrap;\n",
              "      gap: 12px;\n",
              "    }\n",
              "\n",
              "    .colab-df-convert {\n",
              "      background-color: #E8F0FE;\n",
              "      border: none;\n",
              "      border-radius: 50%;\n",
              "      cursor: pointer;\n",
              "      display: none;\n",
              "      fill: #1967D2;\n",
              "      height: 32px;\n",
              "      padding: 0 0 0 0;\n",
              "      width: 32px;\n",
              "    }\n",
              "\n",
              "    .colab-df-convert:hover {\n",
              "      background-color: #E2EBFA;\n",
              "      box-shadow: 0px 1px 2px rgba(60, 64, 67, 0.3), 0px 1px 3px 1px rgba(60, 64, 67, 0.15);\n",
              "      fill: #174EA6;\n",
              "    }\n",
              "\n",
              "    [theme=dark] .colab-df-convert {\n",
              "      background-color: #3B4455;\n",
              "      fill: #D2E3FC;\n",
              "    }\n",
              "\n",
              "    [theme=dark] .colab-df-convert:hover {\n",
              "      background-color: #434B5C;\n",
              "      box-shadow: 0px 1px 3px 1px rgba(0, 0, 0, 0.15);\n",
              "      filter: drop-shadow(0px 1px 2px rgba(0, 0, 0, 0.3));\n",
              "      fill: #FFFFFF;\n",
              "    }\n",
              "  </style>\n",
              "\n",
              "      <script>\n",
              "        const buttonEl =\n",
              "          document.querySelector('#df-f1ca612f-19f4-4449-95dd-aae09c6f6bc8 button.colab-df-convert');\n",
              "        buttonEl.style.display =\n",
              "          google.colab.kernel.accessAllowed ? 'block' : 'none';\n",
              "\n",
              "        async function convertToInteractive(key) {\n",
              "          const element = document.querySelector('#df-f1ca612f-19f4-4449-95dd-aae09c6f6bc8');\n",
              "          const dataTable =\n",
              "            await google.colab.kernel.invokeFunction('convertToInteractive',\n",
              "                                                     [key], {});\n",
              "          if (!dataTable) return;\n",
              "\n",
              "          const docLinkHtml = 'Like what you see? Visit the ' +\n",
              "            '<a target=\"_blank\" href=https://colab.research.google.com/notebooks/data_table.ipynb>data table notebook</a>'\n",
              "            + ' to learn more about interactive tables.';\n",
              "          element.innerHTML = '';\n",
              "          dataTable['output_type'] = 'display_data';\n",
              "          await google.colab.output.renderOutput(dataTable, element);\n",
              "          const docLink = document.createElement('div');\n",
              "          docLink.innerHTML = docLinkHtml;\n",
              "          element.appendChild(docLink);\n",
              "        }\n",
              "      </script>\n",
              "    </div>\n",
              "  </div>\n",
              "  "
            ]
          },
          "metadata": {},
          "execution_count": 21
        }
      ]
    },
    {
      "cell_type": "code",
      "source": [
        "df=pd.concat([k10_df['kospi10_index'],k200_df['종가']],axis=1)\n",
        "df.columns=['kospi10','kospi200']\n",
        "df.head()"
      ],
      "metadata": {
        "colab": {
          "base_uri": "https://localhost:8080/",
          "height": 238
        },
        "id": "o4Nk4Htbxpey",
        "outputId": "115a363b-7902-48fd-d80f-e4822eefa6d8"
      },
      "execution_count": 22,
      "outputs": [
        {
          "output_type": "execute_result",
          "data": {
            "text/plain": [
              "               kospi10  kospi200\n",
              "날짜                              \n",
              "2021-01-04  100.000000    399.88\n",
              "2021-01-05  101.211886    406.03\n",
              "2021-01-06   99.841118    402.08\n",
              "2021-01-07  101.332264    410.81\n",
              "2021-01-08  107.860597    430.22"
            ],
            "text/html": [
              "\n",
              "  <div id=\"df-bf2371d1-3a57-404e-927c-81386f4a3bfd\">\n",
              "    <div class=\"colab-df-container\">\n",
              "      <div>\n",
              "<style scoped>\n",
              "    .dataframe tbody tr th:only-of-type {\n",
              "        vertical-align: middle;\n",
              "    }\n",
              "\n",
              "    .dataframe tbody tr th {\n",
              "        vertical-align: top;\n",
              "    }\n",
              "\n",
              "    .dataframe thead th {\n",
              "        text-align: right;\n",
              "    }\n",
              "</style>\n",
              "<table border=\"1\" class=\"dataframe\">\n",
              "  <thead>\n",
              "    <tr style=\"text-align: right;\">\n",
              "      <th></th>\n",
              "      <th>kospi10</th>\n",
              "      <th>kospi200</th>\n",
              "    </tr>\n",
              "    <tr>\n",
              "      <th>날짜</th>\n",
              "      <th></th>\n",
              "      <th></th>\n",
              "    </tr>\n",
              "  </thead>\n",
              "  <tbody>\n",
              "    <tr>\n",
              "      <th>2021-01-04</th>\n",
              "      <td>100.000000</td>\n",
              "      <td>399.88</td>\n",
              "    </tr>\n",
              "    <tr>\n",
              "      <th>2021-01-05</th>\n",
              "      <td>101.211886</td>\n",
              "      <td>406.03</td>\n",
              "    </tr>\n",
              "    <tr>\n",
              "      <th>2021-01-06</th>\n",
              "      <td>99.841118</td>\n",
              "      <td>402.08</td>\n",
              "    </tr>\n",
              "    <tr>\n",
              "      <th>2021-01-07</th>\n",
              "      <td>101.332264</td>\n",
              "      <td>410.81</td>\n",
              "    </tr>\n",
              "    <tr>\n",
              "      <th>2021-01-08</th>\n",
              "      <td>107.860597</td>\n",
              "      <td>430.22</td>\n",
              "    </tr>\n",
              "  </tbody>\n",
              "</table>\n",
              "</div>\n",
              "      <button class=\"colab-df-convert\" onclick=\"convertToInteractive('df-bf2371d1-3a57-404e-927c-81386f4a3bfd')\"\n",
              "              title=\"Convert this dataframe to an interactive table.\"\n",
              "              style=\"display:none;\">\n",
              "        \n",
              "  <svg xmlns=\"http://www.w3.org/2000/svg\" height=\"24px\"viewBox=\"0 0 24 24\"\n",
              "       width=\"24px\">\n",
              "    <path d=\"M0 0h24v24H0V0z\" fill=\"none\"/>\n",
              "    <path d=\"M18.56 5.44l.94 2.06.94-2.06 2.06-.94-2.06-.94-.94-2.06-.94 2.06-2.06.94zm-11 1L8.5 8.5l.94-2.06 2.06-.94-2.06-.94L8.5 2.5l-.94 2.06-2.06.94zm10 10l.94 2.06.94-2.06 2.06-.94-2.06-.94-.94-2.06-.94 2.06-2.06.94z\"/><path d=\"M17.41 7.96l-1.37-1.37c-.4-.4-.92-.59-1.43-.59-.52 0-1.04.2-1.43.59L10.3 9.45l-7.72 7.72c-.78.78-.78 2.05 0 2.83L4 21.41c.39.39.9.59 1.41.59.51 0 1.02-.2 1.41-.59l7.78-7.78 2.81-2.81c.8-.78.8-2.07 0-2.86zM5.41 20L4 18.59l7.72-7.72 1.47 1.35L5.41 20z\"/>\n",
              "  </svg>\n",
              "      </button>\n",
              "      \n",
              "  <style>\n",
              "    .colab-df-container {\n",
              "      display:flex;\n",
              "      flex-wrap:wrap;\n",
              "      gap: 12px;\n",
              "    }\n",
              "\n",
              "    .colab-df-convert {\n",
              "      background-color: #E8F0FE;\n",
              "      border: none;\n",
              "      border-radius: 50%;\n",
              "      cursor: pointer;\n",
              "      display: none;\n",
              "      fill: #1967D2;\n",
              "      height: 32px;\n",
              "      padding: 0 0 0 0;\n",
              "      width: 32px;\n",
              "    }\n",
              "\n",
              "    .colab-df-convert:hover {\n",
              "      background-color: #E2EBFA;\n",
              "      box-shadow: 0px 1px 2px rgba(60, 64, 67, 0.3), 0px 1px 3px 1px rgba(60, 64, 67, 0.15);\n",
              "      fill: #174EA6;\n",
              "    }\n",
              "\n",
              "    [theme=dark] .colab-df-convert {\n",
              "      background-color: #3B4455;\n",
              "      fill: #D2E3FC;\n",
              "    }\n",
              "\n",
              "    [theme=dark] .colab-df-convert:hover {\n",
              "      background-color: #434B5C;\n",
              "      box-shadow: 0px 1px 3px 1px rgba(0, 0, 0, 0.15);\n",
              "      filter: drop-shadow(0px 1px 2px rgba(0, 0, 0, 0.3));\n",
              "      fill: #FFFFFF;\n",
              "    }\n",
              "  </style>\n",
              "\n",
              "      <script>\n",
              "        const buttonEl =\n",
              "          document.querySelector('#df-bf2371d1-3a57-404e-927c-81386f4a3bfd button.colab-df-convert');\n",
              "        buttonEl.style.display =\n",
              "          google.colab.kernel.accessAllowed ? 'block' : 'none';\n",
              "\n",
              "        async function convertToInteractive(key) {\n",
              "          const element = document.querySelector('#df-bf2371d1-3a57-404e-927c-81386f4a3bfd');\n",
              "          const dataTable =\n",
              "            await google.colab.kernel.invokeFunction('convertToInteractive',\n",
              "                                                     [key], {});\n",
              "          if (!dataTable) return;\n",
              "\n",
              "          const docLinkHtml = 'Like what you see? Visit the ' +\n",
              "            '<a target=\"_blank\" href=https://colab.research.google.com/notebooks/data_table.ipynb>data table notebook</a>'\n",
              "            + ' to learn more about interactive tables.';\n",
              "          element.innerHTML = '';\n",
              "          dataTable['output_type'] = 'display_data';\n",
              "          await google.colab.output.renderOutput(dataTable, element);\n",
              "          const docLink = document.createElement('div');\n",
              "          docLink.innerHTML = docLinkHtml;\n",
              "          element.appendChild(docLink);\n",
              "        }\n",
              "      </script>\n",
              "    </div>\n",
              "  </div>\n",
              "  "
            ]
          },
          "metadata": {},
          "execution_count": 22
        }
      ]
    },
    {
      "cell_type": "code",
      "source": [
        "df['kospi10']=(df['kospi10']/100)*df['kospi200']['2021-01-04']\n",
        "df.head()"
      ],
      "metadata": {
        "colab": {
          "base_uri": "https://localhost:8080/",
          "height": 238
        },
        "id": "HH3h7K_YyCj2",
        "outputId": "c3159edc-889e-4414-ee14-7bd620e8e9ad"
      },
      "execution_count": 23,
      "outputs": [
        {
          "output_type": "execute_result",
          "data": {
            "text/plain": [
              "               kospi10  kospi200\n",
              "날짜                              \n",
              "2021-01-04  399.880000    399.88\n",
              "2021-01-05  404.726090    406.03\n",
              "2021-01-06  399.244662    402.08\n",
              "2021-01-07  405.207456    410.81\n",
              "2021-01-08  431.312954    430.22"
            ],
            "text/html": [
              "\n",
              "  <div id=\"df-e1110de0-01a1-40ee-8563-b61a36dea3fd\">\n",
              "    <div class=\"colab-df-container\">\n",
              "      <div>\n",
              "<style scoped>\n",
              "    .dataframe tbody tr th:only-of-type {\n",
              "        vertical-align: middle;\n",
              "    }\n",
              "\n",
              "    .dataframe tbody tr th {\n",
              "        vertical-align: top;\n",
              "    }\n",
              "\n",
              "    .dataframe thead th {\n",
              "        text-align: right;\n",
              "    }\n",
              "</style>\n",
              "<table border=\"1\" class=\"dataframe\">\n",
              "  <thead>\n",
              "    <tr style=\"text-align: right;\">\n",
              "      <th></th>\n",
              "      <th>kospi10</th>\n",
              "      <th>kospi200</th>\n",
              "    </tr>\n",
              "    <tr>\n",
              "      <th>날짜</th>\n",
              "      <th></th>\n",
              "      <th></th>\n",
              "    </tr>\n",
              "  </thead>\n",
              "  <tbody>\n",
              "    <tr>\n",
              "      <th>2021-01-04</th>\n",
              "      <td>399.880000</td>\n",
              "      <td>399.88</td>\n",
              "    </tr>\n",
              "    <tr>\n",
              "      <th>2021-01-05</th>\n",
              "      <td>404.726090</td>\n",
              "      <td>406.03</td>\n",
              "    </tr>\n",
              "    <tr>\n",
              "      <th>2021-01-06</th>\n",
              "      <td>399.244662</td>\n",
              "      <td>402.08</td>\n",
              "    </tr>\n",
              "    <tr>\n",
              "      <th>2021-01-07</th>\n",
              "      <td>405.207456</td>\n",
              "      <td>410.81</td>\n",
              "    </tr>\n",
              "    <tr>\n",
              "      <th>2021-01-08</th>\n",
              "      <td>431.312954</td>\n",
              "      <td>430.22</td>\n",
              "    </tr>\n",
              "  </tbody>\n",
              "</table>\n",
              "</div>\n",
              "      <button class=\"colab-df-convert\" onclick=\"convertToInteractive('df-e1110de0-01a1-40ee-8563-b61a36dea3fd')\"\n",
              "              title=\"Convert this dataframe to an interactive table.\"\n",
              "              style=\"display:none;\">\n",
              "        \n",
              "  <svg xmlns=\"http://www.w3.org/2000/svg\" height=\"24px\"viewBox=\"0 0 24 24\"\n",
              "       width=\"24px\">\n",
              "    <path d=\"M0 0h24v24H0V0z\" fill=\"none\"/>\n",
              "    <path d=\"M18.56 5.44l.94 2.06.94-2.06 2.06-.94-2.06-.94-.94-2.06-.94 2.06-2.06.94zm-11 1L8.5 8.5l.94-2.06 2.06-.94-2.06-.94L8.5 2.5l-.94 2.06-2.06.94zm10 10l.94 2.06.94-2.06 2.06-.94-2.06-.94-.94-2.06-.94 2.06-2.06.94z\"/><path d=\"M17.41 7.96l-1.37-1.37c-.4-.4-.92-.59-1.43-.59-.52 0-1.04.2-1.43.59L10.3 9.45l-7.72 7.72c-.78.78-.78 2.05 0 2.83L4 21.41c.39.39.9.59 1.41.59.51 0 1.02-.2 1.41-.59l7.78-7.78 2.81-2.81c.8-.78.8-2.07 0-2.86zM5.41 20L4 18.59l7.72-7.72 1.47 1.35L5.41 20z\"/>\n",
              "  </svg>\n",
              "      </button>\n",
              "      \n",
              "  <style>\n",
              "    .colab-df-container {\n",
              "      display:flex;\n",
              "      flex-wrap:wrap;\n",
              "      gap: 12px;\n",
              "    }\n",
              "\n",
              "    .colab-df-convert {\n",
              "      background-color: #E8F0FE;\n",
              "      border: none;\n",
              "      border-radius: 50%;\n",
              "      cursor: pointer;\n",
              "      display: none;\n",
              "      fill: #1967D2;\n",
              "      height: 32px;\n",
              "      padding: 0 0 0 0;\n",
              "      width: 32px;\n",
              "    }\n",
              "\n",
              "    .colab-df-convert:hover {\n",
              "      background-color: #E2EBFA;\n",
              "      box-shadow: 0px 1px 2px rgba(60, 64, 67, 0.3), 0px 1px 3px 1px rgba(60, 64, 67, 0.15);\n",
              "      fill: #174EA6;\n",
              "    }\n",
              "\n",
              "    [theme=dark] .colab-df-convert {\n",
              "      background-color: #3B4455;\n",
              "      fill: #D2E3FC;\n",
              "    }\n",
              "\n",
              "    [theme=dark] .colab-df-convert:hover {\n",
              "      background-color: #434B5C;\n",
              "      box-shadow: 0px 1px 3px 1px rgba(0, 0, 0, 0.15);\n",
              "      filter: drop-shadow(0px 1px 2px rgba(0, 0, 0, 0.3));\n",
              "      fill: #FFFFFF;\n",
              "    }\n",
              "  </style>\n",
              "\n",
              "      <script>\n",
              "        const buttonEl =\n",
              "          document.querySelector('#df-e1110de0-01a1-40ee-8563-b61a36dea3fd button.colab-df-convert');\n",
              "        buttonEl.style.display =\n",
              "          google.colab.kernel.accessAllowed ? 'block' : 'none';\n",
              "\n",
              "        async function convertToInteractive(key) {\n",
              "          const element = document.querySelector('#df-e1110de0-01a1-40ee-8563-b61a36dea3fd');\n",
              "          const dataTable =\n",
              "            await google.colab.kernel.invokeFunction('convertToInteractive',\n",
              "                                                     [key], {});\n",
              "          if (!dataTable) return;\n",
              "\n",
              "          const docLinkHtml = 'Like what you see? Visit the ' +\n",
              "            '<a target=\"_blank\" href=https://colab.research.google.com/notebooks/data_table.ipynb>data table notebook</a>'\n",
              "            + ' to learn more about interactive tables.';\n",
              "          element.innerHTML = '';\n",
              "          dataTable['output_type'] = 'display_data';\n",
              "          await google.colab.output.renderOutput(dataTable, element);\n",
              "          const docLink = document.createElement('div');\n",
              "          docLink.innerHTML = docLinkHtml;\n",
              "          element.appendChild(docLink);\n",
              "        }\n",
              "      </script>\n",
              "    </div>\n",
              "  </div>\n",
              "  "
            ]
          },
          "metadata": {},
          "execution_count": 23
        }
      ]
    },
    {
      "cell_type": "code",
      "source": [
        "plt.plot(df['kospi10'], color='orange', label='KOSPI10')\n",
        "plt.plot(df['kospi200'], color='blue', label='KOSPI200')\n",
        "plt.legend(loc=0)\n",
        "plt.grid(True)"
      ],
      "metadata": {
        "colab": {
          "base_uri": "https://localhost:8080/",
          "height": 268
        },
        "id": "ODy_ZKx_yUP4",
        "outputId": "bbbf4d70-cbc7-41e8-f214-7ef32e523578"
      },
      "execution_count": 24,
      "outputs": [
        {
          "output_type": "display_data",
          "data": {
            "text/plain": [
              "<Figure size 432x288 with 1 Axes>"
            ],
            "image/png": "[encoded data removed]"
          },
          "metadata": {}
        }
      ]
    },
    {
      "cell_type": "markdown",
      "source": [
        "# 유통주식수 가져오기 _ DART OpenAPI 이용\n",
        "* KRX 통계사이트\n",
        "* http://data.krx.co.kr/contents/MDC/MDI/mdiLoader/index.cmd?menuId=MDC0302\n",
        "* 시총순위 보기: 쉽게보는통계 - 순위통계 - 주식(좌측메뉴) - 시가총액상하위\n",
        "* DART ref : https://github.com/FinanceData/OpenDartReader\n",
        "* DART ref : https://opendart.fss.or.kr/guide/detail.do?apiGrpCd=DS002&apiId=2020002"
      ],
      "metadata": {
        "id": "loa3aY4GJrG5"
      }
    },
    {
      "cell_type": "code",
      "source": [
        "# ! pip install dart-fss\n",
        "# ! pip install opendartreader"
      ],
      "metadata": {
        "id": "2C_UTcNKO4Ot"
      },
      "execution_count": 25,
      "outputs": []
    },
    {
      "cell_type": "code",
      "source": [
        "import requests\n",
        "import json\n",
        "import OpenDartReader\n",
        "try:\n",
        "    from pandas import json_normalize\n",
        "except ImportError:\n",
        "    from pandas.io.json import json_normalize\n",
        "\n",
        "API_KEY = \"API키\"\n",
        "\n",
        "res = requests.get(f\"https://opendart.fss.or.kr/api/stockTotqySttus.json?crtfc_key={API_KEY}&corp_code=00126380&bsns_year=2019&reprt_code=11011\")\n",
        "res = json.loads(res.text)\n",
        "print(type(res), res)\n",
        "\n",
        "res_df = pd.json_normalize(res, 'list') #Json DF화\n",
        "res_df.head()"
      ],
      "metadata": {
        "colab": {
          "base_uri": "https://localhost:8080/",
          "height": 361
        },
        "id": "Y1mI0i5oPbtI",
        "outputId": "2153145b-156a-4afa-fc39-91fa14c01d0e"
      },
      "execution_count": 28,
      "outputs": [
        {
          "output_type": "stream",
          "name": "stdout",
          "text": [
            "<class 'dict'> {'status': '000', 'message': '정상', 'list': [{'rcept_no': '20200330003851', 'corp_cls': 'Y', 'corp_code': '00126380', 'corp_name': '삼성전자', 'se': '보통주', 'isu_stock_totqy': '20,000,000,000', 'now_to_isu_stock_totqy': '7,780,466,850', 'now_to_dcrs_stock_totqy': '1,810,684,300', 'redc': '-', 'profit_incnr': '1,810,684,300', 'rdmstk_repy': '-', 'etc': '-', 'istc_totqy': '5,969,782,550', 'tesstk_co': '-', 'distb_stock_co': '5,969,782,550'}, {'rcept_no': '20200330003851', 'corp_cls': 'Y', 'corp_code': '00126380', 'corp_name': '삼성전자', 'se': '우선주', 'isu_stock_totqy': '5,000,000,000', 'now_to_isu_stock_totqy': '1,194,671,350', 'now_to_dcrs_stock_totqy': '371,784,650', 'redc': '-', 'profit_incnr': '371,784,650', 'rdmstk_repy': '-', 'etc': '-', 'istc_totqy': '822,886,700', 'tesstk_co': '-', 'distb_stock_co': '822,886,700'}, {'rcept_no': '20200330003851', 'corp_cls': 'Y', 'corp_code': '00126380', 'corp_name': '삼성전자', 'se': '합계', 'isu_stock_totqy': '25,000,000,000', 'now_to_isu_stock_totqy': '8,975,138,200', 'now_to_dcrs_stock_totqy': '2,182,468,950', 'redc': '-', 'profit_incnr': '2,182,468,950', 'rdmstk_repy': '-', 'etc': '-', 'istc_totqy': '6,792,669,250', 'tesstk_co': '-', 'distb_stock_co': '6,792,669,250'}, {'rcept_no': '20200330003851', 'corp_cls': 'Y', 'corp_code': '00126380', 'corp_name': '삼성전자', 'se': '비고', 'isu_stock_totqy': '-', 'now_to_isu_stock_totqy': '-', 'now_to_dcrs_stock_totqy': '-', 'redc': '-', 'profit_incnr': '자사주소각', 'rdmstk_repy': '-', 'etc': '-', 'istc_totqy': '-', 'tesstk_co': '-', 'distb_stock_co': '-'}]}\n"
          ]
        },
        {
          "output_type": "execute_result",
          "data": {
            "text/plain": [
              "         rcept_no corp_cls corp_code corp_name   se isu_stock_totqy  \\\n",
              "0  20200330003851        Y  00126380      삼성전자  보통주  20,000,000,000   \n",
              "1  20200330003851        Y  00126380      삼성전자  우선주   5,000,000,000   \n",
              "2  20200330003851        Y  00126380      삼성전자   합계  25,000,000,000   \n",
              "3  20200330003851        Y  00126380      삼성전자   비고               -   \n",
              "\n",
              "  now_to_isu_stock_totqy now_to_dcrs_stock_totqy redc   profit_incnr  \\\n",
              "0          7,780,466,850           1,810,684,300    -  1,810,684,300   \n",
              "1          1,194,671,350             371,784,650    -    371,784,650   \n",
              "2          8,975,138,200           2,182,468,950    -  2,182,468,950   \n",
              "3                      -                       -    -          자사주소각   \n",
              "\n",
              "  rdmstk_repy etc     istc_totqy tesstk_co distb_stock_co  \n",
              "0           -   -  5,969,782,550         -  5,969,782,550  \n",
              "1           -   -    822,886,700         -    822,886,700  \n",
              "2           -   -  6,792,669,250         -  6,792,669,250  \n",
              "3           -   -              -         -              -  "
            ],
            "text/html": [
              "\n",
              "  <div id=\"df-2dc8981b-fbf9-4e85-82c1-2452c038d9c1\">\n",
              "    <div class=\"colab-df-container\">\n",
              "      <div>\n",
              "<style scoped>\n",
              "    .dataframe tbody tr th:only-of-type {\n",
              "        vertical-align: middle;\n",
              "    }\n",
              "\n",
              "    .dataframe tbody tr th {\n",
              "        vertical-align: top;\n",
              "    }\n",
              "\n",
              "    .dataframe thead th {\n",
              "        text-align: right;\n",
              "    }\n",
              "</style>\n",
              "<table border=\"1\" class=\"dataframe\">\n",
              "  <thead>\n",
              "    <tr style=\"text-align: right;\">\n",
              "      <th></th>\n",
              "      <th>rcept_no</th>\n",
              "      <th>corp_cls</th>\n",
              "      <th>corp_code</th>\n",
              "      <th>corp_name</th>\n",
              "      <th>se</th>\n",
              "      <th>isu_stock_totqy</th>\n",
              "      <th>now_to_isu_stock_totqy</th>\n",
              "      <th>now_to_dcrs_stock_totqy</th>\n",
              "      <th>redc</th>\n",
              "      <th>profit_incnr</th>\n",
              "      <th>rdmstk_repy</th>\n",
              "      <th>etc</th>\n",
              "      <th>istc_totqy</th>\n",
              "      <th>tesstk_co</th>\n",
              "      <th>distb_stock_co</th>\n",
              "    </tr>\n",
              "  </thead>\n",
              "  <tbody>\n",
              "    <tr>\n",
              "      <th>0</th>\n",
              "      <td>20200330003851</td>\n",
              "      <td>Y</td>\n",
              "      <td>00126380</td>\n",
              "      <td>삼성전자</td>\n",
              "      <td>보통주</td>\n",
              "      <td>20,000,000,000</td>\n",
              "      <td>7,780,466,850</td>\n",
              "      <td>1,810,684,300</td>\n",
              "      <td>-</td>\n",
              "      <td>1,810,684,300</td>\n",
              "      <td>-</td>\n",
              "      <td>-</td>\n",
              "      <td>5,969,782,550</td>\n",
              "      <td>-</td>\n",
              "      <td>5,969,782,550</td>\n",
              "    </tr>\n",
              "    <tr>\n",
              "      <th>1</th>\n",
              "      <td>20200330003851</td>\n",
              "      <td>Y</td>\n",
              "      <td>00126380</td>\n",
              "      <td>삼성전자</td>\n",
              "      <td>우선주</td>\n",
              "      <td>5,000,000,000</td>\n",
              "      <td>1,194,671,350</td>\n",
              "      <td>371,784,650</td>\n",
              "      <td>-</td>\n",
              "      <td>371,784,650</td>\n",
              "      <td>-</td>\n",
              "      <td>-</td>\n",
              "      <td>822,886,700</td>\n",
              "      <td>-</td>\n",
              "      <td>822,886,700</td>\n",
              "    </tr>\n",
              "    <tr>\n",
              "      <th>2</th>\n",
              "      <td>20200330003851</td>\n",
              "      <td>Y</td>\n",
              "      <td>00126380</td>\n",
              "      <td>삼성전자</td>\n",
              "      <td>합계</td>\n",
              "      <td>25,000,000,000</td>\n",
              "      <td>8,975,138,200</td>\n",
              "      <td>2,182,468,950</td>\n",
              "      <td>-</td>\n",
              "      <td>2,182,468,950</td>\n",
              "      <td>-</td>\n",
              "      <td>-</td>\n",
              "      <td>6,792,669,250</td>\n",
              "      <td>-</td>\n",
              "      <td>6,792,669,250</td>\n",
              "    </tr>\n",
              "    <tr>\n",
              "      <th>3</th>\n",
              "      <td>20200330003851</td>\n",
              "      <td>Y</td>\n",
              "      <td>00126380</td>\n",
              "      <td>삼성전자</td>\n",
              "      <td>비고</td>\n",
              "      <td>-</td>\n",
              "      <td>-</td>\n",
              "      <td>-</td>\n",
              "      <td>-</td>\n",
              "      <td>자사주소각</td>\n",
              "      <td>-</td>\n",
              "      <td>-</td>\n",
              "      <td>-</td>\n",
              "      <td>-</td>\n",
              "      <td>-</td>\n",
              "    </tr>\n",
              "  </tbody>\n",
              "</table>\n",
              "</div>\n",
              "      <button class=\"colab-df-convert\" onclick=\"convertToInteractive('df-2dc8981b-fbf9-4e85-82c1-2452c038d9c1')\"\n",
              "              title=\"Convert this dataframe to an interactive table.\"\n",
              "              style=\"display:none;\">\n",
              "        \n",
              "  <svg xmlns=\"http://www.w3.org/2000/svg\" height=\"24px\"viewBox=\"0 0 24 24\"\n",
              "       width=\"24px\">\n",
              "    <path d=\"M0 0h24v24H0V0z\" fill=\"none\"/>\n",
              "    <path d=\"M18.56 5.44l.94 2.06.94-2.06 2.06-.94-2.06-.94-.94-2.06-.94 2.06-2.06.94zm-11 1L8.5 8.5l.94-2.06 2.06-.94-2.06-.94L8.5 2.5l-.94 2.06-2.06.94zm10 10l.94 2.06.94-2.06 2.06-.94-2.06-.94-.94-2.06-.94 2.06-2.06.94z\"/><path d=\"M17.41 7.96l-1.37-1.37c-.4-.4-.92-.59-1.43-.59-.52 0-1.04.2-1.43.59L10.3 9.45l-7.72 7.72c-.78.78-.78 2.05 0 2.83L4 21.41c.39.39.9.59 1.41.59.51 0 1.02-.2 1.41-.59l7.78-7.78 2.81-2.81c.8-.78.8-2.07 0-2.86zM5.41 20L4 18.59l7.72-7.72 1.47 1.35L5.41 20z\"/>\n",
              "  </svg>\n",
              "      </button>\n",
              "      \n",
              "  <style>\n",
              "    .colab-df-container {\n",
              "      display:flex;\n",
              "      flex-wrap:wrap;\n",
              "      gap: 12px;\n",
              "    }\n",
              "\n",
              "    .colab-df-convert {\n",
              "      background-color: #E8F0FE;\n",
              "      border: none;\n",
              "      border-radius: 50%;\n",
              "      cursor: pointer;\n",
              "      display: none;\n",
              "      fill: #1967D2;\n",
              "      height: 32px;\n",
              "      padding: 0 0 0 0;\n",
              "      width: 32px;\n",
              "    }\n",
              "\n",
              "    .colab-df-convert:hover {\n",
              "      background-color: #E2EBFA;\n",
              "      box-shadow: 0px 1px 2px rgba(60, 64, 67, 0.3), 0px 1px 3px 1px rgba(60, 64, 67, 0.15);\n",
              "      fill: #174EA6;\n",
              "    }\n",
              "\n",
              "    [theme=dark] .colab-df-convert {\n",
              "      background-color: #3B4455;\n",
              "      fill: #D2E3FC;\n",
              "    }\n",
              "\n",
              "    [theme=dark] .colab-df-convert:hover {\n",
              "      background-color: #434B5C;\n",
              "      box-shadow: 0px 1px 3px 1px rgba(0, 0, 0, 0.15);\n",
              "      filter: drop-shadow(0px 1px 2px rgba(0, 0, 0, 0.3));\n",
              "      fill: #FFFFFF;\n",
              "    }\n",
              "  </style>\n",
              "\n",
              "      <script>\n",
              "        const buttonEl =\n",
              "          document.querySelector('#df-2dc8981b-fbf9-4e85-82c1-2452c038d9c1 button.colab-df-convert');\n",
              "        buttonEl.style.display =\n",
              "          google.colab.kernel.accessAllowed ? 'block' : 'none';\n",
              "\n",
              "        async function convertToInteractive(key) {\n",
              "          const element = document.querySelector('#df-2dc8981b-fbf9-4e85-82c1-2452c038d9c1');\n",
              "          const dataTable =\n",
              "            await google.colab.kernel.invokeFunction('convertToInteractive',\n",
              "                                                     [key], {});\n",
              "          if (!dataTable) return;\n",
              "\n",
              "          const docLinkHtml = 'Like what you see? Visit the ' +\n",
              "            '<a target=\"_blank\" href=https://colab.research.google.com/notebooks/data_table.ipynb>data table notebook</a>'\n",
              "            + ' to learn more about interactive tables.';\n",
              "          element.innerHTML = '';\n",
              "          dataTable['output_type'] = 'display_data';\n",
              "          await google.colab.output.renderOutput(dataTable, element);\n",
              "          const docLink = document.createElement('div');\n",
              "          docLink.innerHTML = docLinkHtml;\n",
              "          element.appendChild(docLink);\n",
              "        }\n",
              "      </script>\n",
              "    </div>\n",
              "  </div>\n",
              "  "
            ]
          },
          "metadata": {},
          "execution_count": 28
        }
      ]
    },
    {
      "cell_type": "code",
      "source": [
        "# istc_totqy     발행주식의 총수\n",
        "# tesstk_co      자기주식수\n",
        "# distb_stock_co 유통주식수\n",
        "total_amount = res_df.head().iloc[2]['distb_stock_co'].replace(\",\",\"\") # 문자열의 , 를 제거한다.\n",
        "print(total_amount)"
      ],
      "metadata": {
        "colab": {
          "base_uri": "https://localhost:8080/"
        },
        "id": "laMn-zvtPjCh",
        "outputId": "d68c9985-a194-4f5e-c045-9a1e747d1076"
      },
      "execution_count": 29,
      "outputs": [
        {
          "output_type": "stream",
          "name": "stdout",
          "text": [
            "6792669250\n"
          ]
        }
      ]
    }
  ]
}