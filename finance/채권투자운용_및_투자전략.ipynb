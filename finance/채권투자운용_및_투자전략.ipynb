{
  "nbformat": 4,
  "nbformat_minor": 0,
  "metadata": {
    "colab": {
      "name": "채권투자운용 및 투자전략.ipynb",
      "provenance": [],
      "collapsed_sections": [],
      "authorship_tag": "ABX9TyPiz8o8MfwGWlpQRjOU2+I+",
      "include_colab_link": true
    },
    "kernelspec": {
      "name": "python3",
      "display_name": "Python 3"
    },
    "language_info": {
      "name": "python"
    }
  },
  "cells": [
    {
      "cell_type": "markdown",
      "metadata": {
        "id": "view-in-github",
        "colab_type": "text"
      },
      "source": [
        "<a href=\"https://colab.research.google.com/github/choisangh/STUDY/blob/main/finance/%EC%B1%84%EA%B6%8C%ED%88%AC%EC%9E%90%EC%9A%B4%EC%9A%A9_%EB%B0%8F_%ED%88%AC%EC%9E%90%EC%A0%84%EB%9E%B5.ipynb\" target=\"_parent\"><img src=\"https://colab.research.google.com/assets/colab-badge.svg\" alt=\"Open In Colab\"/></a>"
      ]
    },
    {
      "cell_type": "markdown",
      "source": [
        "# 채권의 개요\n",
        "* 정의\n",
        "    - 정부, 공공기관, 주식회사 등이 장기로 대량자금을 조달하기 위해 발행하는 일종의 차용증서\n",
        "* 채권 발행 관련 특징\n",
        "    - 채권 발행 자격은 법률로 규정\n",
        "    - 채권 자격 취득 후 별도의 승인이 필요(정부는 국회 동의, 주식회사는 금융위원회 등록)\n",
        "    - 채권은 증권시장에서 자유롭게 거래\n",
        "* 채권 특징\n",
        "    - 확정이자부증권\n",
        "        - 발행 시 발행자가 지급해야 하는 이자와 원금 상환금액이나 기준이 확정\n",
        "        - 발행자의 원리금 지급능력(신용등급)이 중요\n",
        "    - 기한부증권\n",
        "        - 원금과 이자의 상환 기간이 사전에 정해짐 (예외:영구채권)\n",
        "    - 이자지급증권\n",
        "        - 채권은 수익발생과 관계없이 이자를 지급 (예외:할인채권)\n",
        "    - 장기증권\n",
        "        - 채권은 장기증권이므로 유통시장의 존재가 필수\n",
        "* 채권의 장점\n",
        "    - 수익성\n",
        "        - 채권 보유에 따른 수익을 이자소득과 자본소득으로 구분\n",
        "    - 안정성\n",
        "        - 채무불이행(비체계적 위험)과 시장위험(체계적 위험)이 존재\n",
        "        - 다른 금융상품에 비해 안정성이 높음\n",
        "    - 유동성\n",
        "        - 화폐가치의 손실 없이 즉시 채권을 현금으로 전환할 수 있는 정도를 의미\n",
        "        - 발행자의 신뢰도가 높을수록, 만기가 짧을수록 유동성이 커짐"
      ],
      "metadata": {
        "id": "vnq7-9owrcs4"
      }
    },
    {
      "cell_type": "markdown",
      "source": [
        "# 채권의 분류\n",
        "* 발행주제체 따른 분류\n",
        "    - 국채(정부) : 국민주택채권, 양곡증권\n",
        "    - 지방채(지방자치단체) : 지하철공채, 지역개발공채, 도로공채\n",
        "    - 특수채(법률에 의해 설립된 기관) : 토지개발채권, 통화안정증권, 예금보험공사채권\n",
        "    - 회사채(상법상 주식회사) : 보증사채, 담보부사채, 무보증사채\n",
        "* 이자지급방법에 따른 분류\n",
        "    - 이표채\n",
        "        - 표면에 이표가 붙어 있어 이자지급기간에 해당 표면이율로 이자지급\n",
        "        - 회사채의 경우 대부분 이표채로 발행\n",
        "    - 할인채\n",
        "        - 발행 시점에 액면금액을 할인하여 채권 발행\n",
        "        - 만기 이전에 이자지급이 없음\n",
        "    - 복리채\n",
        "        - 이자를 만기까지 재투자하여 만기에 원금과 이자를 일시에 지급\n",
        "        - 국민주택채권 1,2종\n",
        "* 상환 기간에 따른 분류\n",
        "    - 상환 기간 1년 이하 : 단기채(통화안정증권)\n",
        "    - 상환 기간 1~10년 미만 : 중기채(국민주택 1종)\n",
        "    - 상환 기간 10년 이상 : 장기채(국민주택 2종)\n",
        "* 이자금액의 변동 유무에 따른 분류\n",
        "    - 고정금리부채권 : 확정된 표면이자 지급\n",
        "    - 변동금리부채권\n",
        "        - 변동금리채권(FRN)\n",
        "            - 지급금리 = 기준금리 + 가산금리\n",
        "            - 시장이자율 변동에 따라 지급이자가 달라지는 형태\n",
        "        - 역변동금리채권\n",
        "            - 액면이자율이 기준금리에 연동되지만, 기준금리 상승 시 현금흐름 감소\n",
        "            - 역변동금리채권의 가치 = 고정금리채권의 가치 - 변동금리채권의 가치"
      ],
      "metadata": {
        "id": "0Pv66cYQsbU5"
      }
    },
    {
      "cell_type": "markdown",
      "source": [
        "# 전환사채(CB)\n",
        "* 의의\n",
        "    - 채권을 발행한 회사의 주식으로 전환할 수 있는 권리를 갖는 채권\n",
        "    - 권리행사 시 사채대금이 주식대금으로 전환(사채권 지위는 소멸)\n",
        "    - 사채와 주식의 중간 형태\n",
        "* 장단점\n",
        "    - 장점\n",
        "        - 발행회사\n",
        "            - 자금조달 비용 감소\n",
        "            - 사채와 주식의 양면성으로 높은 상품성\n",
        "            - 재무구조 개선 효과\n",
        "        - 투자자\n",
        "            - 채권의 안정성과 주식의 수익성 추구\n",
        "    - 단점\n",
        "        - 발행회사\n",
        "            - 전환 시 경영권에 영향\n",
        "            - 사무처리가 복잡\n",
        "        - 투자자\n",
        "            - 보통사채보다 낮은 이율\n",
        "            - 약세장 시 전환권 미행사\n",
        "* 전환사채 관련 주요 지표\n",
        "    - 전환가격 : 보유채권을 주식 1주로 전환할 때의 금액\n",
        "    - 전환가치와 채권가치\n",
        "        - 전환가치 > 채권가치 일때 주식처럼 거래\n",
        "        - 전환가치 < 채권가치 일때 채권처럼 거래\n",
        "        - 전환가치 = 채권가치 일때 복합증권처럼 거래\n",
        "    - 패리티\n",
        "        - 전환가격 대비 주가의 비율로 전환에 따른 수익률\n",
        "        - 패리티 = (주가/전환가격) * 100%\n",
        "    - 패리티가격\n",
        "        - 패리티가격(적정투자가격) = 패리티 * 액면가\n",
        "    - 괴리율\n",
        "        - 괴리율(%) = (괴리/패리티가격) * 100\n",
        "        - 괴리(원) = 전환사채 시장가격 - 패리티가격"
      ],
      "metadata": {
        "id": "1kxL8Wtst9Qh"
      }
    },
    {
      "cell_type": "markdown",
      "source": [
        "# 신주인수권부사채(BW)\n",
        "* 의의 \n",
        "    - 일정 기간 경과 후 일정한 가격(행사가격)으로 발행회사의 일정수의 신주를 인수할 수 있는 권리가 부여된 사채\n",
        "* 장단점\n",
        "    - 장점\n",
        "        - 발행회사\n",
        "            - 자금조달의 촉진 (하락장에서도 자금조달)\n",
        "            - 자본조달 비용 감소\n",
        "            - 재무구조개선\n",
        "        - 투자자\n",
        "            - 안정성과 수익성 동시 만족\n",
        "            - 주가 상승으로 인한 이익\n",
        "            - 투자의 융통성(신주인수권 분리 판매 가능)\n",
        "    - 단점\n",
        "        - 발행회사\n",
        "            - 권리행사 후 사채권 존속\n",
        "            - 대주주 지분율 하락\n",
        "            - 자본구조 불확실성\n",
        "        - 투자자\n",
        "            - 약세장 시 인수권 미행사위험\n",
        "            - 행사 후 낮은 이율의 사채 존속\n"
      ],
      "metadata": {
        "id": "lP2Bi7KgvYJV"
      }
    },
    {
      "cell_type": "markdown",
      "source": [
        "# 옵션부사채, 교환사채, 이익참가부사채\n",
        "* 옵션부사채\n",
        "\n",
        "|구분|수의상환채권(콜옵션부 채권)|수의상환청구채권(풋옵션부 채권)|\n",
        "|--|--|--|\n",
        "|권리소유와 종류|발행회사의 매수권 보유|채권투자자의 매도권 보유|\n",
        "|채권의 가치|일반채권가치 - 콜옵션가치|일반채권가치 + 풋옵션가치|\n",
        "|행사|금리 하락시, 신용등급 상승 시|금리 상승 시|\n",
        "|금리|일반사채에 비해 높음|일반사채에 비해 낮음|\n",
        "|가격|일반사채에 비해 낮음|일반사채에 비해 높음|\n",
        "\n",
        "* 교환사채(EB)\n",
        "    - 발행회사의 소유주식과 교환청구가 가능한 사채로서 교환 시 발행회사의 자산(보유주식)과 부채(교환사채)가 동시에 감소하게 됨\n",
        "* 이익참가부사채(PB)\n",
        "    - 주주가 일정 수준 이상의 배당을 받을 때 사채권자도 참가할 수 있는 권리가 부여된 사채"
      ],
      "metadata": {
        "id": "5T0oGooJ0cOJ"
      }
    },
    {
      "cell_type": "markdown",
      "source": [
        "# ABS\n",
        "* 의의와 특징\n",
        "    - 자산을 표준화하고 특정 조건별로 집합하여 증권을 발행하고 기초 자산의 현금흐름을 상환하는 것을 의미\n",
        "    - 유동화대상자산은 현금흐름의 예측이 가능하고 자산의 동질성이 보장되며 양도가 가능한 것이 좋음\n",
        "    - 동질성 결여 시 신용보강 및 평가에 따른 비용이 증가\n",
        "* ABS의 종류\n",
        "    - 현금 수취 방식\n",
        "        - Pass-Through(자본 이전형)\n",
        "            - 유동화자산을 유동화 중개기관에 매각하면, 중개기관은 이를 집합화하여 신탁설정 후 이 신탁에 대해서 주식형태로 발행되는 증권\n",
        "            - 자산의 매각으로 인해 자산보유자의 자산에서 해당 유동화자산이 제외\n",
        "            - 금융위험을 투자자에게 전가\n",
        "        - Pay-Through(원리금 지급형)\n",
        "            - 유동화자산집합에서 발생된 현금흐름을 이용해 증권화한 후 단일증권이 아닌 상환 우선순위가 다른 다단계의 채권을 발행하는 방식\n",
        "            - Credit Tranching은 신용위험과 연관된 다단계화(CBO 선,후순위채)\n",
        "            - Prepayment Tranching은 조기상환위험과 관련된 다단계화(CMO)\n",
        "    - 기초자산에 따른 분류\n",
        "        - 주택저당채권(MBS), 대출채권, 신용카드 계정, 기업대출, 회사채 등"
      ],
      "metadata": {
        "id": "ARNpwacs2z57"
      }
    },
    {
      "cell_type": "markdown",
      "source": [
        "# 발행시장\n",
        "* 사모발행\n",
        "    - 소수투자자와 사적교섭으로 채권 매각\n",
        "    - 공모사채보다 이자율이 높고 만기는 짧음\n",
        "    - 발행자나 매입자의 특별한 요구 만족\n",
        "    - 유동성이 낮은 회사채 발행 시 주로 이용\n",
        "* 공모발행\n",
        "    - 불특정 다수의 투자자를 대상으로 채권을 발행하는 방법\n",
        "    - 직접발행\n",
        "        - 매출발행\n",
        "            - 채권발행액을 미리 정하지 않고 공모하여 매출기준으로 발행총액을 구하는 방식\n",
        "            - 회사채에 대해서는 매출발행 금지(금융채는 가능)\n",
        "        - 공모입찰발행\n",
        "            - 채권발행조건을 미리 정하지 않고 다수투자자로부터 가격이나 수익률을 입찰시켜 해당 결과를 기준으로 하여 발행\n",
        "    - 간접발행\n",
        "        - 위탁모집\n",
        "            - 발행회사가 인수인에게 위탁하여 발행\n",
        "            - 위험부담은 발행회사가 부담\n",
        "        - 잔액인수\n",
        "            - 모집 또는 매출이 총액에 미달할 때에는 인수기관이 그 잔액을 책임 인수\n",
        "        - 총액인수\n",
        "            - 인수기관이 총액을 인수하여 발행\n",
        "            - 무보증사채의 발행 시 주로 사용\n",
        "    - 인수기관의 위험부담(수수료 크기도 동일)\n",
        "        - 총액인수 < 잔액인수 < 위탁모집 순서로 커짐"
      ],
      "metadata": {
        "id": "3-ToN3204FbJ"
      }
    },
    {
      "cell_type": "markdown",
      "source": [
        "# 유통시장\n",
        "* 장외시장 종류\n",
        "    - 국채딜러 간 매매거래시장(IDM)\n",
        "        - 국채유통 활성화를 위해 도입\n",
        "        - 국채 전문딜러의 의무\n",
        "            - 국채(인수의무) : 종목별 매월 경쟁입찰 발행물량의 10% 이상 인수\n",
        "            - 유통시장 조성의무 : 호가의무, 유통의무, 보유의무, 매입/교환의무\n",
        "    - 채권 자기 매매업자 간 중개회사(IDB)\n",
        "        - 딜러가 보유물량을 원할히 조절하도록 딜러의 호가 제시를 유도하여 채권중개를 투명하게 수행하는 회사\n",
        "- 장내거래와 장외거래 차이점\n",
        "\n",
        "|구분|장외거래|장내거래|\n",
        "|--|--|--|\n",
        "|대상채권|제한없음|성장채권, 주식 관련 사채|\n",
        "|거래장소(매매방법)|장외시장 브로커 창구<br>IDB회사 창구|증권거래소|\n",
        "|결제방법|익일결제|당일결제 및 익일결제|\n",
        "|거래비용|제한 없음|만기별로 수수료율 차등|\n",
        "|호가 및 매매수량|제한 없음|국고채:10억원<br>주식 관련 사채:10만원<br>소액채권:1천원|"
      ],
      "metadata": {
        "id": "gf9XpOWx--uK"
      }
    },
    {
      "cell_type": "markdown",
      "source": [
        "# 채권가격결정\n",
        "* 채권가격결정의 특성\n",
        "    - 가격과 수익률은 서로 역의 관계를 가지며 볼록한(Convex) 형태를 가짐\n",
        "    - 이표율 > 수익률 인 경우 액면가보다 비싸게, 이표율 < 수익률 인 경우 액면가보다 싸게 거래됨\n",
        "    - 시간이 지날수록 (잔존만기 짧을수록) 채권의 가격은 액면가에 수렴\n",
        "* 채권매매의 관행적 방식\n",
        "         P = S / [(1+r)^n * (1+r * d/365)]\n",
        "         S = 원리금, r = 이자율(할인율), n = 연 단위 기간, d = 잔여일수\n",
        "* 가격결정이론의 주의점\n",
        "    - 만기가격은 표면이율을, 현재가치는 시장이자율과 매매수익률을 사용\n",
        "    - 액면가격이 제시되지 않은 경우, 대부분 할인채의 만기가격은 10,000원\n",
        "    - 이표채의 지급이자는 반드시 이자지급횟수로 나누어야 함\n",
        "    "
      ],
      "metadata": {
        "id": "o_nGyh5gAK97"
      }
    },
    {
      "cell_type": "markdown",
      "source": [
        "# 채권수익률과 수익\n",
        "* 경상수익률\n",
        "    - (연이자 지급액)/(채권의 시장가격)\n",
        "    - 가격 대비 발행자로부터 직접 수령하는 이자의 비율\n",
        "* 만기수익률(YTM)\n",
        "    - 채권의 내부수익률로 현금흐름의 현가와 시가를 일치시키는 할인율\n",
        "    - 계산방법 : 시행착오법, 재무계산기 사용법, 간이법\n",
        "    - 수익률 연율화의 문제점 : 일 년에 2번 이상 이자가 지급되는 경우 만기수익률이 실효 연수익률보다 더 작게 나타남\n",
        "* 채권투자 수익의 원천\n",
        "    - 기간별 이자지급액\n",
        "    - 자본이득 또는 손실\n",
        "    - 기간별 이자지급액의 재투자로부터 발생하는 수입\n",
        "* 만기수익률과 재투자 위험\n",
        "    - 이표채의 경우 만기가 길어질수록 이자에 대한 이자에 의존함으로 재투자 위험 증가\n",
        "    - 무이표채는 재투자 위험이 존재하지 않음"
      ],
      "metadata": {
        "id": "7tx6l4WCBHLw"
      }
    },
    {
      "cell_type": "markdown",
      "source": [
        "# 채권가격 변동성\n",
        "* 말킬의 채권가격 정리\n",
        "    - 수익률과 가격은 역관계\n",
        "    - 다른 조건이 동일할 때 채권 잔존기간이 길수록 동일한 수익률 변동에 대한 가격 변동폭은 커짐\n",
        "    - 채권수익률 변동에 의한 채권가격 변동은 만기가 길어질수록 증가하나 그 증감률(변동률)은 체감\n",
        "    - 만기가 일정할 때 채권수익률 하락 시 채권가격 상승폭이 같은 폭의 채권수익률 상승 시 채권가격 하락폭보다 큼\n",
        "    - 표면이자율이 높을수록(이자지급주기가 짧을수록) 동일한 크기의 수익률 변동에 대한 가격변동성은 작음\n",
        "* 채권 변동성의 특성\n",
        "    - 표면이율(이자지급횟수) : 표면이율이 낮을수록 채권의 변동성은 커짐\n",
        "    - 만기(잔존기간) : 만기가 길어질수록 채권 변동성은 커짐\n",
        "    - 만기수익률 : 만기수익률이 낮을수록 채권의 변동성은 커짐\n",
        "* 가격 변동성 정리\n",
        "    - 채권의 변동성은 위험의 크기와 동일한 개념\n",
        "    - 채권은 주식과 다르게 장기투자가 리스크 회피적이기보다는 유동성 저하로 리스크가 높은 것으로 인식\n",
        "    - 채권가격 결정모형에 의해 분모인 수익률이 커질수록 가격이 낮아지는 특성이 가장 중요\n",
        "    - 표면이율은 듀레이션과 중요한 관계"
      ],
      "metadata": {
        "id": "rUZkEgANBzfB"
      }
    },
    {
      "cell_type": "markdown",
      "source": [
        "# 듀레이션\n",
        "* 정의\n",
        "    - 채권의 각 현금흐름을 회수하는 데 걸리는 가중평균 기간\n",
        "* 산식\n",
        "    - 각 시점의 현금흐름의 현가가 총현금흐름의 현가에서 차지하는 비율을 가중치로 사용하여 이를 각 현금흐름의 시간단위에 곱하여 산출\n",
        "    - <img src=\"https://blog.kakaocdn.net/dn/dnfkUK/btqGK4naHoA/wheRKHuP0l0TFgWw2E7xBk/img.jpg\" width=\"400px\">\n",
        "* 의의와 특성\n",
        "    - 손실 없이 원금을 회수할 수 있는 가중평균 회수 기간(면역전략)\n",
        "    - 시점이 다른 현금흐름을 가진 채권을 현금흐름이 한 번만 발생하는 채권으로 등가 전환할 때의 그 채권의 잔존만기에 해당\n",
        "    - 현재가치들의 무게 중심역할을 하는 균형점\n",
        "    - 무액면금리채권은 만기가 듀레이션\n",
        "    - 액면금리가 낮을수록 듀레이션이 길어짐\n",
        "    - 만기가 길수록 듀레이션이 길어짐\n",
        "    - 이자율이 i%인 영구채권의 듀레이션은 (1+i)/i\n",
        "    - 이표채 듀레이션은 만기보다 짧음"
      ],
      "metadata": {
        "id": "VkojbF1PEVdP"
      }
    },
    {
      "cell_type": "markdown",
      "source": [
        "# 수정 듀레이션\n",
        "* 수정 듀레이션\n",
        "    - 채권의 중간 현금흐름의 재투자 수익률을 고려한 듀레이션으로 듀레이션/1회 지급 수익률로 계산함\n",
        "* 듀레이션 결정요인\n",
        "    - 만기와 듀레이션 : 양(+)의 관계\n",
        "    - 수익률과 듀레이션 : 음(-)의 관계\n",
        "    - 표면이율과 듀레이션 : 음(-)의 관계\n",
        "* 듀레이션의 용도\n",
        "    - 위험측정 : 듀레이션은 면역전략에 사용, 수정 듀레이션은 위험측정에 사용\n",
        "    - 가법성 : 각 채권 듀레이션의 가중평균으로 간단히 계산\n",
        "    - 헤지비율 계산 : 채권의 상대적 수익률 민감도를 측정하는 지표\n",
        "* 듀레이션 한계\n",
        "    - 수익률의 작은 변화에 한정 : 수익률 변화가 작을 때만 근사값 추정\n",
        "    - 수익률평행이동 : 장기채권과 단기채권의 움직임을 동일하게 봄"
      ],
      "metadata": {
        "id": "Vsay2v_MHFIG"
      }
    },
    {
      "cell_type": "markdown",
      "source": [
        "# 볼록성(Convexity)\n",
        "* 의의\n",
        "    - 채권의 가격-수익률 곡선이 원점에 대해 볼록하여 듀레이션에 의해 설명될 수 없는 가격변동을 볼록성의 가격이라 함\n",
        "    - 따라서 듀레이션에 의해 측정 불가능한 가격변동률은 볼록성을 고려해 정확히 측정\n",
        "* 채권가격곡선과 힉스듀레이션\n",
        "    - <img src=\"data:image/png;base64,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\">\n",
        "    - 그래프의 직선 기울기는 -MD*Δr로 계산됨 (듀레이션만 고려한 값)\n",
        "    - 채권가격곡선의 기울기를 계산하기 위해서는 (1/2)*C*(Δr)²를 고려해야함 (볼록성만 고려한 값)\n",
        "* 볼록성의 가치\n",
        "    - 볼록성이 큰 채권을 선호하는 이유는 볼록성이 작은 채권에 비해서 수익률 하락 시 큰 가격 상승, 수익률 상승 시 작은 가격하락을 제공함\n",
        "* 볼록성의 특성\n",
        "    - 동일 듀레이션이면 볼록성이 큰 채권이 수익률 변화에 무관하게 항상 높은 가격을 가짐\n",
        "    - 수익률이 하락할수록 채권의 볼록성은 증가\n",
        "    - 일정한 수익률과 만기에서 표면이자율이 낮을수록 볼록성은 커짐\n",
        "    - 볼록성은 듀레이션이 증가함에 따라 가속도로 증가"
      ],
      "metadata": {
        "id": "bUV9AhCrIa_s"
      }
    },
    {
      "cell_type": "markdown",
      "source": [
        "# 실효 듀레이션과 실효 볼록성\n",
        "* 실효 듀레이션\n",
        "    - 의의 : 옵션부채권 등과 같이 현금흐름이 변화한다면 실제 채권 가격과 추정 채권 가격의 차이가 나타날 수 있기 때문에 채권가격의 민감도를 추정하기 위해서는 실효 듀레이션을 사용하여 측정해야 함\n",
        "    - 산식\n",
        "            실효듀레이션 = (P₋ - P₊) / ( 2* P₀ * Δr)\n",
        "\n",
        "* 실효 볼록성\n",
        "    - 의의 : 일반 채권의 듀레이션에 의한 가격변동추정에 오차는 볼록성으로 보완하는 것처럼 실효 듀레이션의 추정오차를 실효 볼록성의로 추정해야 함\n",
        "    - 산식\n",
        "            실효 볼록성 = (P₋ + P₊ -2 * P₀)/ P₀ * (Δr)²"
      ],
      "metadata": {
        "id": "j-_6xqIFW25u"
      }
    },
    {
      "cell_type": "markdown",
      "source": [
        "# 수익률 곡선의 유형\n",
        "* 수익률 곡선 < 선호될수록 수익률 낮음 >\n",
        "    - 다른 조건이 동일하고 만기만 다른 채권들의 일정 시점에서의 수익률로서 만기까지 기간의 차이에 따라 달라지는 채권수익률의 변동을 나타낸 것\n",
        "* 수익률 곡선의 유형과 의미\n",
        "    - 우상향\n",
        "        - 일반적인 수익률의 형태로 장기금리가 높고 단기금리가 낮음\n",
        "        - 회복기에 장기채보다 단기채를 선호\n",
        "        - 유동성 선호 가설 측면에서 유동성을 중시할 경우 정상적인 모양\n",
        "    - 우하향\n",
        "        - 단기금리가 장기금리를 상회하는 형태\n",
        "        - 금리 하락이 예상되거나 활황기(경기상승의 정점)에 금리 수준이 높을 때 나타나는 형태\n",
        "        - 수익률 하락폭이 유동성프리미엄을 초과함으로써 단기채권보다 장기채권 투자수익이 높다고 예상되는 경우에 해당되는 형태\n",
        "    - 수평형\n",
        "        - 장단기 채권의 유동성프리미엄 수준과 수익률 하락폭이 동일하여 장단기 금리가 같은 수준이 되는 형태\n",
        "        - 우상향이나 우하향으로 변화하는 과도기에서 나타나는 형태\n",
        "    - 낙타형 수익률 곡선\n",
        "        - 만기가 길어짐에 따라 수익률이 상승하다 일정 시점 이후 체감하는 형태\n",
        "        - 장기적으로 금리가 하향안정이 기대되거나, 통화긴축으로 시장이 위축될 때 나타남"
      ],
      "metadata": {
        "id": "Pmj7TeP4YxhH"
      }
    },
    {
      "cell_type": "markdown",
      "source": [
        "# 수익률 곡선 및 선도이자율\n",
        "* STRIPS Curve/SPOT Curve\n",
        "    - STRIPS Curve : 미래 만기일에 원금 일시 지급을 약속한 채권(할인채)의 수익률을 도면으로 나타낸 것\n",
        "    - SPOT Curve : 이표채에 내재된 스트립 수익률 곡선\n",
        "* Forward Curve (선도이자율 곡선)\n",
        "    - 선도이자율은 현재시점 n기 후부터 t기까지의 선도이자율을 의미\n",
        "    - 산식\n",
        "            (1+2기 현물이자율)² = (1+1기 현물이자율) * (1+선도이자율)\n",
        "* 선도(Foward), 현물(Spot) 그리고 만기(Par, YTM) 수익률 곡선\n",
        "    - T기간의 현물이자율은 현물이자율과 선도이자율의 기하평균\n",
        "    - 만기이자율은 현물이자율의 가중평균\n",
        "            이자율 상승 기간구조 : 선도이자율 > 현물이자율 > 만기이자율\n",
        "            이자율 하락 기간구조 : 선도이자율 < 현물이자율 < 만기이자율"
      ],
      "metadata": {
        "id": "A2lFSzsoajiK"
      }
    },
    {
      "cell_type": "markdown",
      "source": [
        "# 기간구조이론\n",
        "* 불편기대이론\n",
        "    - 채권수익률은 투자자들이 미래 이자율에 대하여 정확한(동질적) 기대에 따라 결정\n",
        "    - 장기채권수익률은 예상되는 단기채권수익률의 기하평균과 같음\n",
        "    - 미래 단기이자율이 상승할 것이라 예상되면 수익률 곡선은 우상향, 하락할 것이라고 예상되면 수익률 곡선은 우하향\n",
        "    - 가정 : 모든 투자자는 위험중립형, 단기채와 장기채는 완전 대체관계, 미래이자율을 정확히 예상가능\n",
        "* 유동성프리미엄 이론\n",
        "    - 투자자는 만기가 길어짐(장기채)에 따라 나타나는 위험에 대한 유동성프리미엄을 요구함\n",
        "    - 미래 이자율이 일정할 것으로 예상한다고 하더라도 수익률 곡선은 유동성프리미엄의 영향으로 우상향\n",
        "* 편중기대이론\n",
        "    - 불편기대이론과 유동성프리미엄이론의 결합으로 수익률 곡선이 어느 시기의 기대선도이자율과 유동성프리미엄을 동시에 반영한다는 이론\n",
        "    - 이 가설에 의해 낙타형 모습의 수익률곡선이 잘 설명됨\n",
        "* 시장분할이론\n",
        "    - 채권시장의 경직성으로 몇 개의 하위시장으로 세분화되어 있다는 가정\n",
        "    - 각 집단들의 제도적 또는 법률적 여건과 자금의 성격, 운용방식의 차이에 따라 장/단기채에 선호가 다름\n",
        "    - 즉 금융기관들은 그들의 부채와 만기가 일치하는 자산에만 관심을 두기 때문에 시장은 서로 관련이 없음\n",
        "    - 또한 각 시장의 수요와 공급에 의해 장/단기채의 이자율이 결정됨"
      ],
      "metadata": {
        "id": "vxlCQfWyaOGd"
      }
    },
    {
      "cell_type": "markdown",
      "source": [
        "# 수익률의 위험구조\n",
        "* 채권위험의 종류\n",
        "    - 체계적 위험\n",
        "        - 이자율 변동 위험 : 중간 매각 시 가격 하락 위험(이자율 상승)\n",
        "        - 구매력 위험 : 채권투자의 이익이 물가상승보다 낮을 때\n",
        "        - 재투자 위험 : 중도에 발생하는 현금을 채권수익률보다 낮은 이자율로 투자했을 때 발생하는 위험\n",
        "    - 비체계적 위험\n",
        "        - 신용 위험 : 채무불이행\n",
        "        - 시장/유동성 위험 : 매각을 할 수 있을지\n",
        "        - 중도상환 위험 : 채권 중도상환 요구\n",
        "        - 환율 위험 : 환율시세 변동에 영향을 받는 경우\n",
        "* 약정수익률과 실현수익률\n",
        "    - 약정수익률 : 약정된 이자 및 원금을 모두 회수할 수 있을 경우의 수익률\n",
        "    - 실현수익률 : 실제로 실현되리라고 예상되는 이자 및 원금상환액의 현재가치와 채권의 시장가격을 일치시키는 할인율\n",
        "    - 채무불이행 위험이 적은 채권은 실현수익률의 확률분포가 약정수익률에 가깝고, 위험이 큰 채권은 기대수익률이 약정수익률보다 작아짐\n",
        "* 수익률 스프레드\n",
        "    - 채권수익률(약정수익률) = 수익률 스프레드 + 무위험수익률\n",
        "    - 수익률 스프레드 = 약정수익률 - 무위험수익률\n",
        "    - 수익률 스프레드 = 지급불능 프리미엄(약정수익률 - 기대수익률) + 위험 프리미엄(기대수익률 - 무위험수익률)"
      ],
      "metadata": {
        "id": "d3ZLYVy-dYPI"
      }
    },
    {
      "cell_type": "markdown",
      "source": [
        "# 적극적 채권운용 전략\n",
        "* 수익률예측전략\n",
        "    - 듀레이션, 잔존만기, 만기는 길수록 변동성 증가, 짧을수록 변동성 감소\n",
        "    - 표면이자 수익률은 낮을수록 변동성 증가, 높을수록 변동성 감소\n",
        "    - 변동금리 수익률 상승 시 상승분 반영, 고정금리는 수익률 하락 시 기존 금리 유지\n",
        "    - 수익률(기준금리) 하락 예상 시 (변동성 확대 전략)\n",
        "        - 잔존만기 : 장기채매수\n",
        "        - 표면이자 : 표면이율이 낮은 채권 매수 (볼록성)\n",
        "        - 만기수익률 : 만기수익률 낮은 채권 매수 (볼록성)\n",
        "        - 이자지급조건 : 고정금리부 채권 매수\n",
        "        - 듀레이션 : 듀레이션이 긴 채권 매수\n",
        "    - 수익률(기준금리) 상승 예상 시 (변동성 감소 전략)\n",
        "        - 잔존만기 : 단기채매수\n",
        "        - 표면이자 : 표면이율이 높은 채권 매수 (볼록성)\n",
        "        - 만기수익률 : 만기수익률 높은 채권 매수 (볼록성)\n",
        "        - 이자지급조건 : 변동금리부 채권 매수 (오르는거 연동)\n",
        "        - 듀레이션 : 듀레이션이 짧은 채권 매수\n",
        "* 채권 교체 전략 (저평가 매수, 고평가 매도)\n",
        "    - 동종채권 간 : 대체가능한 동종채권 간에 일시적 시장의 불균형이 발생하면 차익거래를 통해 수익 실현\n",
        "    - 이종채권 간 \n",
        "        - Yield Give-Up Swap(호황 -> 불황 / Spread 확대) : 현재 보유 채권의 만기수익률보다 더 낮은 수익률의 채권으로 교체\n",
        "        - Yield Pick-Up Swap(불황 -> 호황 / Spread 축소) : 현재 보유 채권의 만기수익률보다 더 높은 수익률의 채권으로 교체\n",
        "* 스프레드(Spread) 운용전략\n",
        "    - 두 종목 간의 수익률 격차가 일시적으로 확대 또는 축소되었다가 다시 정상적인 수준으로 돌아오는 특성을 이용하여 교체매매를 행함으로써 투자효율을 높이는 전략\n",
        "* 수익률곡선타기전략(Yield Curve Riding Strategy)\n",
        "    - 롤링효과 (Rolling Effect) (장기)\n",
        "        - 장기채권의 잔존기간이 짧아지면 그만큼 수익률이 하락하여 가격이 상승하는 효과\n",
        "        - 외부적 시장여건에 변화가 없음을 가정\n",
        "        - 금리 상승기에는 롤링효과가 역의 결과를 초래\n",
        "    - 숄더효과 (Shoulder Effect) (단기)\n",
        "        - 만기가 짧은 채권에서 잔존기간이 줄어들 때 수익률 하락폭이 극단적으로 커지는 효과\n",
        "        - 단기채에서 극단적인 수익률 하락폭을 수익률 곡선상의 숄더라고 함\n",
        "* 수익률곡선전략\n",
        "    - Barbell형 채권운용\n",
        "        - 단기채권과 장기채권만 보유하고 중기채권은 보유하지 않는 전략\n",
        "        - 장/단기채에 비해 중기채 수익률이 상대적으로 더 오르거나 덜 하락할 것으로 예상될 때 사용\n",
        "    - Bullet형 채권운용\n",
        "        - 중기채 중심의 포트폴리오 구성\n",
        "        - 장/단기채에 비해 중기채 수익률이 상대적으로 덜 오르거나 더 하락할 것으로 예상될 때 사용"
      ],
      "metadata": {
        "id": "M0geKBN3fIH6"
      }
    },
    {
      "cell_type": "markdown",
      "source": [
        "# 소극적 채권운용전략\n",
        "* 만기보유전략\n",
        "    - 투자 시점에서 투자 수익을 확정하기 위해 채권을 만기까지 보유하는 전략\n",
        "    - 미래 금리예측이 필요 없음\n",
        "* 사다리형 만기전략\n",
        "    - 채권별 보유량을 각 잔존기간마다 동일하게 유지하여 가격위험을 평준화시키고 수익성도 확보하는 전략\n",
        "    - 장점\n",
        "        - 만기 도래 상환자금으로 장기채에 재투자하면 되므로 관리가 용이\n",
        "        - 평균 수익률이 상대적으로 높음\n",
        "        - 금리 예측 불필요\n",
        "        - 유동성 확보 용이\n",
        "    - 단점\n",
        "        - 평균 수익률은 높으나, 적극적 채권운용에 비해서 수익이 낮음\n",
        "        - 투자시기와 채권수익률 동향에 집착하면 사다리형 채권투자의 장점을 상실\n",
        "* 전통적 면역전략\n",
        "    - 의의 : 목표투자기간 중 시장수익률의 변동에 관계없이 최초에 설정한 수익률을 기간 말에 손실 없이 실현하는 전략\n",
        "    - 원리 : 채권 수익률의 상승이 채권가격의 하락을 시키는 정도와 이자수입의 재투자수입이 증가된 정도가 서로 역의 관계로 동일한 점을 이용한 전략\n",
        "    - 면역방법 : 투자자의 목표 투자기간 = 채권의 듀레이션\n",
        "\n",
        "* 자산 부채의 연계 면역전략(순자산가치 면역전략)\n",
        "    - 자산과 부채의 듀레이션 갭을 최소화하여 순자산 가치의 변동성을 최소화하는 방법\n",
        "    - 자산의 시장가치 가중 듀레이션과 부채의 시장가치 가중 듀레이션을 일치시키는 것\n",
        "    - 이자율 변화에 따른 자본가치 변화\n",
        "        - 자산가치(자산 듀레이션 * 자산 시장가치) > 부채가치(부채 듀레이션 * 부채 시장가치)\n",
        "            - 금리 상승 : 자산가치 하락폭 > 부채가치 하락폭 -> 기업자본가치 감소\n",
        "            - 금리 하락 : 자산가치 상승폭 > 부채가치 상승폭 -> 기업자본가치 증가\n",
        "        - 자산가치 < 부채가치\n",
        "            - 금리 상승 : 자산가치 하락폭 < 부채가치 하락폭 -> 기업자본가치 증가\n",
        "            - 금리 하락 : 자산가치 상승폭 < 부채가치 상승폭 -> 기업자본가치 감소\n",
        "\n",
        "* 상황대응적 면역전략\n",
        "    - 상황에 따라 적극적 투자전략과 면역전략을 적절히 혼합하는 투자전략\n",
        "* 채권인덱싱전략\n",
        "    - 채권시장 전체의 흐름을 그대로 따르는 포트폴리오를 구성하여 채권시장 전체의 수익률을 달성하려는 전략"
      ],
      "metadata": {
        "id": "4ITZUk6zo9Bh"
      }
    }
  ]
}