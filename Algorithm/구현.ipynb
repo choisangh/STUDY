{
 "cells": [
  {
   "cell_type": "code",
   "execution_count": 3,
   "metadata": {},
   "outputs": [
    {
     "data": {
      "text/plain": [
       "{'row': 3, 'col': 4}"
      ]
     },
     "execution_count": 3,
     "metadata": {},
     "output_type": "execute_result"
    }
   ],
   "source": [
    "N = map(int,input())\n",
    "A = list(map(str,input().split()))\n",
    "\n",
    "map_tuple={'row':1, 'col':1}\n",
    "map_max=N\n",
    "\n",
    "def commend_function(commend: str, map: tuple, max: int):\n",
    "    if (commend == 'L')&(map['col']-1!=0):\n",
    "        map['col']-=1\n",
    "    elif (commend =='R')&(map['col']+1!=max):\n",
    "        map['col']+=1\n",
    "    elif (commend =='U')&(map['row']-1!=0):\n",
    "        map['row']-=1\n",
    "    elif (commend =='D')&(map['row']+1!=max):\n",
    "        map['row']+=1\n",
    "    return map\n",
    "\n",
    "\n",
    "\n",
    "for commend in A:\n",
    "    map_tuple=commend_function(commend, map_tuple, map_max)\n",
    "\n",
    "map_tuple"
   ]
  },
  {
   "cell_type": "code",
   "execution_count": 44,
   "metadata": {},
   "outputs": [
    {
     "name": "stdout",
     "output_type": "stream",
     "text": [
      "11475\n"
     ]
    }
   ],
   "source": [
    "class Time:\n",
    "    def __init__(self, hour, minute, second):\n",
    "        self.hour = hour\n",
    "        self.minute = minute\n",
    "        self.second = second\n",
    "        self.count = 0\n",
    "        \n",
    "    def time_check(self):\n",
    "        if self.second==60:\n",
    "            self.second=0\n",
    "            self.minute+=1\n",
    "\n",
    "        if self.minute==60:\n",
    "            self.minute=0\n",
    "            self.hour+=1\n",
    "\n",
    "        if self.hour==24:\n",
    "            self.hour=0\n",
    "\n",
    "    def time_plus(self):\n",
    "        self.second+=1\n",
    "    def counting(self,N):\n",
    "        time_str = str(self.hour)+str(self.minute)+str(self.second)\n",
    "        if str(N) in time_str:\n",
    "            self.count+=1\n",
    "\n",
    "def solution(N):\n",
    "    temp_time=Time(0,0,0)\n",
    "    while (temp_time.hour!=N+1):\n",
    "        temp_time.counting(N)\n",
    "        temp_time.time_plus()\n",
    "        temp_time.time_check()\n",
    "\n",
    "    print(temp_time.count)\n",
    "\n",
    "solution(5)"
   ]
  },
  {
   "cell_type": "code",
   "execution_count": 46,
   "metadata": {},
   "outputs": [
    {
     "name": "stdout",
     "output_type": "stream",
     "text": [
      "11475\n"
     ]
    }
   ],
   "source": [
    "solution(5)"
   ]
  },
  {
   "cell_type": "code",
   "execution_count": 45,
   "metadata": {},
   "outputs": [],
   "source": [
    "def solution2(N):\n",
    "    count=0\n",
    "    for i in range(N+1):\n",
    "        for j in range(60):\n",
    "            for k in range(60):\n",
    "                if '3' in str(i) + str(j) + str(k):\n",
    "                    count += 1\n",
    "solution2(5)"
   ]
  },
  {
   "cell_type": "code",
   "execution_count": 49,
   "metadata": {},
   "outputs": [
    {
     "data": {
      "text/plain": [
       "6"
      ]
     },
     "execution_count": 49,
     "metadata": {},
     "output_type": "execute_result"
    }
   ],
   "source": [
    "chess_dict={'a':1,'b':2,'c':3,'d':4,'e':5,'f':6,'g':7,'h':8}\n",
    "walking=[[-1,2],[+1,2],[2,1],[2,-1],[-2,1],[-2,-1],[1,-2],[-1,-2]]\n",
    "\n",
    "def solution(chess_commend):\n",
    "    x=chess_dict[chess_commend[0]]\n",
    "    y=int(chess_commend[1])\n",
    "    count=0\n",
    "    for case in walking:\n",
    "        case_x = x+case[0]\n",
    "        case_y = y+case[1]\n",
    "\n",
    "        if 0<case_x and case_x<9:\n",
    "            if 0<case_y and case_y<9:\n",
    "                count+=1\n",
    "    return count\n",
    "\n",
    "\n",
    "solution('c2')\n",
    "\n"
   ]
  },
  {
   "cell_type": "code",
   "execution_count": 61,
   "metadata": {},
   "outputs": [
    {
     "name": "stdout",
     "output_type": "stream",
     "text": [
      "[1, 2]\n"
     ]
    },
    {
     "data": {
      "text/plain": [
       "2"
      ]
     },
     "execution_count": 61,
     "metadata": {},
     "output_type": "execute_result"
    }
   ],
   "source": [
    "def head_left():\n",
    "    global d\n",
    "    if d!=3:\n",
    "        d+=1\n",
    "    else:\n",
    "        d=0\n",
    "def head_right():\n",
    "    global d\n",
    "    if d!=0:\n",
    "        d-=1\n",
    "    else:\n",
    "        d=3\n",
    "\n",
    "def check_rocation():\n",
    "    global rocation\n",
    "    global N\n",
    "    global M\n",
    "    if rocation[0]>N-1:\n",
    "        rocation[0]=N-1\n",
    "    elif rocation[0]<0:\n",
    "        rocation[0]=0\n",
    "    if rocation[1]>M-1:\n",
    "        rocation[1]=M-1\n",
    "    elif rocation[1]<0:\n",
    "        rocation[1]=0\n",
    "    \n",
    "def direction(d_str):\n",
    "    global rocation\n",
    "    global map_list\n",
    "    if d_str=='북':\n",
    "        foward=map_list[rocation[0]-1][rocation[1]]\n",
    "\n",
    "    elif d_str=='동':\n",
    "        foward=map_list[rocation[0]][rocation[1]+1]\n",
    "\n",
    "    elif d_str=='남':\n",
    "        foward=map_list[rocation[0]+1][rocation[1]]\n",
    "\n",
    "    elif d_str=='서':\n",
    "        foward=map_list[rocation[0]][rocation[1]-1]\n",
    "\n",
    "    return foward\n",
    "\n",
    "def search_road():\n",
    "    global rocation\n",
    "    global map_list\n",
    "    global d\n",
    "    global count\n",
    "\n",
    "    #case 3 - 종료조건\n",
    "    if (direction(\"동\")==1)&(direction(\"서\")==1)&(direction(\"남\")==1)&(direction(\"북\")==1):\n",
    "        print('바다만있음')\n",
    "        head_left()\n",
    "        head_left()\n",
    "        foward=direction(d_list[d])\n",
    "\n",
    "        if road_list[foward]=='바다':\n",
    "            return count\n",
    "\n",
    "        else:\n",
    "            rocation = [rocation[0]+d_commend_dict[d_list[d]][0],\n",
    "                    rocation[1]+d_commend_dict[d_list[d]][1]]\n",
    "            print(rocation)\n",
    "            check_rocation()\n",
    "            head_right()\n",
    "            head_right()\n",
    "\n",
    "\n",
    "    head_left()\n",
    "    foward=direction(d_list[d])\n",
    "    \n",
    "    if road_list[foward]=='육지': \n",
    "        #walk\n",
    "        rocation = [rocation[0]+d_commend_dict[d_list[d]][0],\n",
    "                    rocation[1]+d_commend_dict[d_list[d]][1]]\n",
    "        check_rocation()\n",
    "        count+=1\n",
    "\n",
    "\n",
    "    \n",
    "\n",
    "\n",
    "\n",
    "\n",
    "\n",
    "d_list=[\"북\",\"동\",\"남\",\"서\"]\n",
    "d_commend_dict = {'북': [-1,0], '동': [0,1], '남': [1,0], '서': [0,-1]}\n",
    "road_list = ['육지', '바다', '가본 곳']\n",
    "\n",
    "map_size = list(map(int,input().split()))\n",
    "N, M, d = map(int,input().split())\n",
    "rocation = [N,M]\n",
    "map_list=[]\n",
    "\n",
    "for i in range(map_size[0]):\n",
    "    map_list.append(list(map(int,input().split())))\n",
    "\n",
    "map_list[rocation[0]][rocation[1]]=2 #가본 곳\n",
    "count=1\n",
    "while search_road()!=None:\n",
    "    search_road()\n",
    "\n",
    "count"
   ]
  },
  {
   "cell_type": "code",
   "execution_count": 63,
   "metadata": {},
   "outputs": [
    {
     "data": {
      "text/plain": [
       "[[1, 1, 1, 1], [1, 2, 0, 1], [1, 1, 0, 1], [1, 1, 1, 1]]"
      ]
     },
     "execution_count": 63,
     "metadata": {},
     "output_type": "execute_result"
    }
   ],
   "source": [
    "map_list"
   ]
  },
  {
   "cell_type": "code",
   "execution_count": 64,
   "metadata": {},
   "outputs": [
    {
     "ename": "TypeError",
     "evalue": "'int' object is not subscriptable",
     "output_type": "error",
     "traceback": [
      "\u001b[1;31m---------------------------------------------------------------------------\u001b[0m",
      "\u001b[1;31mTypeError\u001b[0m                                 Traceback (most recent call last)",
      "Cell \u001b[1;32mIn [64], line 1\u001b[0m\n\u001b[1;32m----> 1\u001b[0m rocation[\u001b[39m0\u001b[39;49m]\n",
      "\u001b[1;31mTypeError\u001b[0m: 'int' object is not subscriptable"
     ]
    }
   ],
   "source": [
    "rocation[0]"
   ]
  },
  {
   "cell_type": "code",
   "execution_count": 62,
   "metadata": {},
   "outputs": [
    {
     "ename": "TypeError",
     "evalue": "'int' object is not subscriptable",
     "output_type": "error",
     "traceback": [
      "\u001b[1;31m---------------------------------------------------------------------------\u001b[0m",
      "\u001b[1;31mTypeError\u001b[0m                                 Traceback (most recent call last)",
      "Cell \u001b[1;32mIn [62], line 1\u001b[0m\n\u001b[1;32m----> 1\u001b[0m search_road()\n",
      "Cell \u001b[1;32mIn [61], line 50\u001b[0m, in \u001b[0;36msearch_road\u001b[1;34m()\u001b[0m\n\u001b[0;32m     48\u001b[0m \u001b[39mglobal\u001b[39;00m count\n\u001b[0;32m     49\u001b[0m \u001b[39m#case 3 - 종료조건\u001b[39;00m\n\u001b[1;32m---> 50\u001b[0m \u001b[39mif\u001b[39;00m (direction(\u001b[39m\"\u001b[39;49m\u001b[39m동\u001b[39;49m\u001b[39m\"\u001b[39;49m)\u001b[39m==\u001b[39m\u001b[39m1\u001b[39m)\u001b[39m&\u001b[39m(direction(\u001b[39m\"\u001b[39m\u001b[39m서\u001b[39m\u001b[39m\"\u001b[39m)\u001b[39m==\u001b[39m\u001b[39m1\u001b[39m)\u001b[39m&\u001b[39m(direction(\u001b[39m\"\u001b[39m\u001b[39m남\u001b[39m\u001b[39m\"\u001b[39m)\u001b[39m==\u001b[39m\u001b[39m1\u001b[39m)\u001b[39m&\u001b[39m(direction(\u001b[39m\"\u001b[39m\u001b[39m북\u001b[39m\u001b[39m\"\u001b[39m)\u001b[39m==\u001b[39m\u001b[39m1\u001b[39m):\n\u001b[0;32m     51\u001b[0m     \u001b[39mprint\u001b[39m(\u001b[39m'\u001b[39m\u001b[39m바다만있음\u001b[39m\u001b[39m'\u001b[39m)\n\u001b[0;32m     52\u001b[0m     head_left()\n",
      "Cell \u001b[1;32mIn [61], line 34\u001b[0m, in \u001b[0;36mdirection\u001b[1;34m(d_str)\u001b[0m\n\u001b[0;32m     31\u001b[0m     foward\u001b[39m=\u001b[39mmap_list[rocation[\u001b[39m0\u001b[39m]\u001b[39m-\u001b[39m\u001b[39m1\u001b[39m][rocation[\u001b[39m1\u001b[39m]]\n\u001b[0;32m     33\u001b[0m \u001b[39melif\u001b[39;00m d_str\u001b[39m==\u001b[39m\u001b[39m'\u001b[39m\u001b[39m동\u001b[39m\u001b[39m'\u001b[39m:\n\u001b[1;32m---> 34\u001b[0m     foward\u001b[39m=\u001b[39mmap_list[rocation[\u001b[39m0\u001b[39;49m]][rocation[\u001b[39m1\u001b[39m]\u001b[39m+\u001b[39m\u001b[39m1\u001b[39m]\n\u001b[0;32m     36\u001b[0m \u001b[39melif\u001b[39;00m d_str\u001b[39m==\u001b[39m\u001b[39m'\u001b[39m\u001b[39m남\u001b[39m\u001b[39m'\u001b[39m:\n\u001b[0;32m     37\u001b[0m     foward\u001b[39m=\u001b[39mmap_list[rocation[\u001b[39m0\u001b[39m]\u001b[39m+\u001b[39m\u001b[39m1\u001b[39m][rocation[\u001b[39m1\u001b[39m]]\n",
      "\u001b[1;31mTypeError\u001b[0m: 'int' object is not subscriptable"
     ]
    }
   ],
   "source": [
    "search_road()\n"
   ]
  }
 ],
 "metadata": {
  "kernelspec": {
   "display_name": "Python 3.8.6 64-bit",
   "language": "python",
   "name": "python3"
  },
  "language_info": {
   "codemirror_mode": {
    "name": "ipython",
    "version": 3
   },
   "file_extension": ".py",
   "mimetype": "text/x-python",
   "name": "python",
   "nbconvert_exporter": "python",
   "pygments_lexer": "ipython3",
   "version": "3.8.6"
  },
  "orig_nbformat": 4,
  "vscode": {
   "interpreter": {
    "hash": "ea1efc662a1d88496f40d28c989759488c210db6fc7cc858d0805b2c13cafcf4"
   }
  }
 },
 "nbformat": 4,
 "nbformat_minor": 2
}
