{
 "cells": [
  {
   "cell_type": "markdown",
   "id": "1437db9b",
   "metadata": {},
   "source": [
    "# 그래프 이해"
   ]
  },
  {
   "cell_type": "markdown",
   "id": "555c7583",
   "metadata": {},
   "source": [
    "## 1. 그래프란\n",
    "* 그래프는 실제 세계의 현상이나 사물의 정점 또는 노드와 간선으로 표현하기 위해 사용"
   ]
  },
  {
   "cell_type": "markdown",
   "id": "9769ffca",
   "metadata": {},
   "source": [
    "## 2. 그래프 관련 용어\n",
    "* 노드(Node) : 위치를 말함, 정점(Vertex)라고도 함\n",
    "* 간선(Edge) : 위치 간의 관계를 표시한 선으로 노드를 연결한 선이라고 보면 됨 (link 또는 branch 라고도 함)\n",
    "* 인접 정점(Adjacent Vertex) : 간선으로 직접 연결된 정점(또는 노드)\n",
    "* 참고 용어\n",
    "    * 정점의 차수 (Degree) : 무방향 그래프에서 하나의 정점에 인접한 정점의 수\n",
    "    * 진입 차수 (In-Degree) : 방향 그래프에서 외부에서 오는 간선의 수\n",
    "    * 진출 차수 (Out-Degree) : 방향 그래프에서 외부로 향하는 간선의 수\n",
    "    * 경로 길이 (Path Length) : 경로를 구성하기 위해 사용된 간선의 수\n",
    "    * 단순 경로 (Simple Path) : 처음 정점과 끝 정점을 제외하고 중복된 정점이 없는 경로\n",
    "    * 사이클 (Cycle) : 단순 경로의 시작 정점과 종료 정점이 동일한 경우"
   ]
  }
 ],
 "metadata": {
  "kernelspec": {
   "display_name": "Python 3 (ipykernel)",
   "language": "python",
   "name": "python3"
  },
  "language_info": {
   "codemirror_mode": {
    "name": "ipython",
    "version": 3
   },
   "file_extension": ".py",
   "mimetype": "text/x-python",
   "name": "python",
   "nbconvert_exporter": "python",
   "pygments_lexer": "ipython3",
   "version": "3.8.5"
  }
 },
 "nbformat": 4,
 "nbformat_minor": 5
}
