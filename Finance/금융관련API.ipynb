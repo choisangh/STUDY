{
  "cells": [
    {
      "cell_type": "markdown",
      "metadata": {
        "id": "view-in-github",
        "colab_type": "text"
      },
      "source": [
        "<a href=\"https://colab.research.google.com/github/choisangh/STUDY/blob/main/finance/%EA%B8%88%EC%9C%B5%EA%B4%80%EB%A0%A8API.ipynb\" target=\"_parent\"><img src=\"https://colab.research.google.com/assets/colab-badge.svg\" alt=\"Open In Colab\"/></a>"
      ]
    },
    {
      "cell_type": "markdown",
      "id": "28bfbe7a-de81-4d5e-8c93-b6f05e89b91c",
      "metadata": {
        "id": "28bfbe7a-de81-4d5e-8c93-b6f05e89b91c"
      },
      "source": [
        "<font size=6><b>Lec01 : 금융관련 API 활용 </b></font>"
      ]
    },
    {
      "cell_type": "code",
      "execution_count": null,
      "id": "1bc75938-1d9d-4c7f-8fb8-2be0a2706446",
      "metadata": {
        "id": "1bc75938-1d9d-4c7f-8fb8-2be0a2706446",
        "outputId": "37fb8162-ab8e-4aeb-cddc-8c67b4118299"
      },
      "outputs": [
        {
          "data": {
            "text/html": [
              "<style>.container{width:100% !important;}</style>"
            ],
            "text/plain": [
              "<IPython.core.display.HTML object>"
            ]
          },
          "metadata": {},
          "output_type": "display_data"
        }
      ],
      "source": [
        "import pandas as pd\n",
        "import numpy as np\n",
        "import matplotlib.pyplot as plt\n",
        "import seaborn as sns\n",
        "\n",
        "import warnings\n",
        "warnings.filterwarnings(action='ignore')\n",
        "\n",
        "#-------------------- 차트 관련 속성 (한글처리, 그리드) -----------\n",
        "#plt.rc('font', family='NanumGothicOTF') # For MacOS\n",
        "plt.rcParams['font.family']= 'Malgun Gothic'\n",
        "plt.rcParams['axes.unicode_minus'] = False\n",
        "sns.set()\n",
        "\n",
        "#-------------------- 주피터 , 출력결과 넓이 늘리기 ---------------\n",
        "from IPython.core.display import display, HTML\n",
        "display(HTML(\"<style>.container{width:100% !important;}</style>\"))\n",
        "pd.set_option('display.max_rows', 100)\n",
        "pd.set_option('display.max_columns', 100)\n",
        "pd.set_option('max_colwidth', None)\n"
      ]
    },
    {
      "cell_type": "markdown",
      "id": "453a794b-2ef4-4203-b74e-2dd97a304193",
      "metadata": {
        "tags": [],
        "id": "453a794b-2ef4-4203-b74e-2dd97a304193"
      },
      "source": [
        "# 증시 정보 관련 "
      ]
    },
    {
      "cell_type": "markdown",
      "id": "7374c086-0ca5-4617-b83a-05fa9f3d1d0a",
      "metadata": {
        "id": "7374c086-0ca5-4617-b83a-05fa9f3d1d0a"
      },
      "source": [
        "<img src=\"https://avatars.githubusercontent.com/u/34187310?v=4\">"
      ]
    },
    {
      "cell_type": "markdown",
      "id": "1886da00-829b-4f01-8418-0c37f73af1b7",
      "metadata": {
        "tags": [],
        "id": "1886da00-829b-4f01-8418-0c37f73af1b7"
      },
      "source": [
        "## PyKRX\n",
        "* 웹 싸이트 (Naver/KRX)에서 주가 정보 스크래핑\n",
        "* ref : https://github.com/sharebook-kr/pykrx\n",
        "\n",
        "----\n",
        "* STOCK : MarketData, 인덱스, 공매도\n",
        "* ETX : ETF, ETN, ELW\n",
        "* 채권\n",
        "* 채권 수익률\n",
        "* 기타"
      ]
    },
    {
      "cell_type": "code",
      "execution_count": null,
      "id": "9bbb06fe-3573-48ad-b768-b39bc3fd416b",
      "metadata": {
        "tags": [],
        "id": "9bbb06fe-3573-48ad-b768-b39bc3fd416b"
      },
      "outputs": [],
      "source": [
        "# ! pip install pykrx"
      ]
    },
    {
      "cell_type": "code",
      "execution_count": null,
      "id": "d4ab41a9-7ecb-474c-b66b-7f3f63e5376e",
      "metadata": {
        "id": "d4ab41a9-7ecb-474c-b66b-7f3f63e5376e"
      },
      "outputs": [],
      "source": [
        "from pykrx import stock\n",
        "from pykrx import bond"
      ]
    },
    {
      "cell_type": "markdown",
      "id": "383b1ac6-ba64-4c53-9e9f-133defd301f5",
      "metadata": {
        "id": "383b1ac6-ba64-4c53-9e9f-133defd301f5"
      },
      "source": [
        "* Stock 모듈 - MarketData API"
      ]
    },
    {
      "cell_type": "code",
      "execution_count": null,
      "id": "12770d4e-3c84-4f0b-be10-559287d38d4a",
      "metadata": {
        "id": "12770d4e-3c84-4f0b-be10-559287d38d4a",
        "outputId": "fd7bd8cd-15d8-4f63-c0c9-90ea25c030c5"
      },
      "outputs": [
        {
          "name": "stdout",
          "output_type": "stream",
          "text": [
            "['095570', '006840', '027410', '282330', '138930']\n"
          ]
        }
      ],
      "source": [
        "tickers = stock.get_market_ticker_list(\"202201\")   # 2021-01 해당 일자 코스피 상장된 ticker\n",
        "print(tickers[:5])"
      ]
    },
    {
      "cell_type": "code",
      "execution_count": null,
      "id": "7877a239-8966-418f-ab17-0570c62d8da4",
      "metadata": {
        "id": "7877a239-8966-418f-ab17-0570c62d8da4",
        "outputId": "cea2ddf2-4170-4a6e-e3eb-872592e554f9"
      },
      "outputs": [
        {
          "name": "stdout",
          "output_type": "stream",
          "text": [
            "['060310', '054620', '265520', '211270', '035760']\n"
          ]
        }
      ],
      "source": [
        "tickers = stock.get_market_ticker_list(\"20190225\", market=\"KOSDAQ\") #KOSPI, KOSDAQ, KONEX\n",
        "print(tickers[:5])"
      ]
    },
    {
      "cell_type": "code",
      "execution_count": null,
      "id": "38acedb7-fa86-45cd-90af-0c120f415f10",
      "metadata": {
        "id": "38acedb7-fa86-45cd-90af-0c120f415f10",
        "outputId": "267c1d74-cc4b-4c94-803a-7e0cfb7fb56e"
      },
      "outputs": [
        {
          "name": "stdout",
          "output_type": "stream",
          "text": [
            "CJ ENM\n"
          ]
        }
      ],
      "source": [
        "종목명 = stock.get_market_ticker_name('035760')\n",
        "print(종목명)"
      ]
    },
    {
      "cell_type": "code",
      "execution_count": null,
      "id": "39a0594c-863b-4f39-b379-79c63f3b0eac",
      "metadata": {
        "id": "39a0594c-863b-4f39-b379-79c63f3b0eac",
        "outputId": "e2ca4317-35e5-4b6e-ac0e-6c6a85e796c9"
      },
      "outputs": [
        {
          "name": "stdout",
          "output_type": "stream",
          "text": [
            "            시가  고가  저가     종가  거래량\n",
            "날짜                                \n",
            "2018-04-30   0   0   0  53000    0\n",
            "2018-05-02   0   0   0  53000    0\n",
            "2018-05-03   0   0   0  53000    0\n"
          ]
        }
      ],
      "source": [
        "df = stock.get_market_ohlcv(\"2018-04-28\", \"2018-05-10\", \"005930\")\n",
        "print(df.head(3))"
      ]
    },
    {
      "cell_type": "code",
      "execution_count": null,
      "id": "533864a1-5b08-453a-8611-9d539f1cf196",
      "metadata": {
        "id": "533864a1-5b08-453a-8611-9d539f1cf196",
        "outputId": "7028b4c8-ece9-4682-afd2-9ca49cd702e8"
      },
      "outputs": [
        {
          "data": {
            "text/plain": [
              "[Timestamp('2022-02-03 00:00:00'),\n",
              " Timestamp('2022-02-04 00:00:00'),\n",
              " Timestamp('2022-02-07 00:00:00')]"
            ]
          },
          "execution_count": 8,
          "metadata": {},
          "output_type": "execute_result"
        }
      ],
      "source": [
        "stock.get_business_days(2022, 2)[:3]"
      ]
    },
    {
      "cell_type": "markdown",
      "id": "a7f62a9b-891d-4deb-a6a3-ef83c874d819",
      "metadata": {
        "id": "a7f62a9b-891d-4deb-a6a3-ef83c874d819"
      },
      "source": [
        "* 해당 날짜 기준 종목 정보\n",
        "* 대상 : etf, elw, market, index"
      ]
    },
    {
      "cell_type": "code",
      "execution_count": null,
      "id": "c26c05f8-61a0-40f7-8eb9-6bf694f42865",
      "metadata": {
        "id": "c26c05f8-61a0-40f7-8eb9-6bf694f42865",
        "outputId": "a7d57923-0665-43e9-aa2c-3723488ca470"
      },
      "outputs": [
        {
          "data": {
            "text/plain": [
              "['095570', '006840', '027410']"
            ]
          },
          "execution_count": 9,
          "metadata": {},
          "output_type": "execute_result"
        }
      ],
      "source": [
        "stock.get_market_ticker_list(date='202201', market='KOSPI')[:3]"
      ]
    },
    {
      "cell_type": "code",
      "execution_count": null,
      "id": "bc8ad7d4-0f32-4b1e-b9bb-4988ef6867aa",
      "metadata": {
        "id": "bc8ad7d4-0f32-4b1e-b9bb-4988ef6867aa",
        "outputId": "a0b44cb7-5731-4d66-8390-06fe989aacfd"
      },
      "outputs": [
        {
          "data": {
            "text/plain": [
              "['1001', '1002', '1003']"
            ]
          },
          "execution_count": 10,
          "metadata": {},
          "output_type": "execute_result"
        }
      ],
      "source": [
        "stock.get_index_ticker_list(date='202201', market='KOSPI')[:3]"
      ]
    },
    {
      "cell_type": "markdown",
      "id": "d9b5dc54-9c28-4b3e-859e-a9f927dcdbe1",
      "metadata": {
        "id": "d9b5dc54-9c28-4b3e-859e-a9f927dcdbe1"
      },
      "source": [
        "* 네이버 주가정보 크롤링 정보 제공"
      ]
    },
    {
      "cell_type": "code",
      "execution_count": null,
      "id": "9fa2324c-b0d7-49d7-828d-be1d8d4f5a70",
      "metadata": {
        "id": "9fa2324c-b0d7-49d7-828d-be1d8d4f5a70",
        "outputId": "26138ba8-0ce0-493c-c147-e570ea63c063"
      },
      "outputs": [
        {
          "name": "stdout",
          "output_type": "stream",
          "text": [
            "AJ네트웍스\n",
            "              시가    고가    저가    종가     거래량\n",
            "날짜                                        \n",
            "2018-12-10  4840  4840  4670  4750   32310\n",
            "2018-12-11  4685  4750  4585  4585   37975\n",
            "2018-12-12  4605  4605  4520  4540  102752\n",
            "--------------------------------------------------------------------------------\n",
            "AK홀딩스\n",
            "               시가     고가     저가     종가    거래량\n",
            "날짜                                           \n",
            "2018-12-10  55400  56200  54900  55800  28618\n",
            "2018-12-11  55800  56200  54900  55100  24302\n",
            "2018-12-12  55400  55900  54900  55900  13179\n",
            "--------------------------------------------------------------------------------\n",
            "BGF\n",
            "              시가    고가    저가    종가     거래량\n",
            "날짜                                        \n",
            "2018-12-10  7900  8000  7830  7900  103028\n",
            "2018-12-11  7900  8010  7860  7900  122166\n",
            "2018-12-12  7900  8230  7900  8200  160608\n",
            "--------------------------------------------------------------------------------\n"
          ]
        }
      ],
      "source": [
        "import time\n",
        "ticker_list = stock.get_market_ticker_list(date='202201', market='KOSPI')[:3]\n",
        "for ticker in ticker_list:\n",
        "    print(stock.get_market_ticker_name(ticker))\n",
        "    df = stock.get_market_ohlcv(\"20181210\", \"20181212\", ticker)\n",
        "    print(df.head())\n",
        "    print(\"----\" * 20)\n",
        "    time.sleep(1)      #------ 무작위 크롤링시 차단 주의 "
      ]
    },
    {
      "cell_type": "code",
      "execution_count": null,
      "id": "055b9662-1737-4e52-b877-7f8415a99143",
      "metadata": {
        "id": "055b9662-1737-4e52-b877-7f8415a99143"
      },
      "outputs": [],
      "source": [
        ""
      ]
    },
    {
      "cell_type": "markdown",
      "id": "301bfc4d-82c0-4d8a-9d69-4adb8c7d0701",
      "metadata": {
        "id": "301bfc4d-82c0-4d8a-9d69-4adb8c7d0701"
      },
      "source": [
        "<img src=\"data:image/png;base64,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\" width=600>"
      ]
    },
    {
      "cell_type": "markdown",
      "id": "9ae00394-d3d0-478b-aaa8-e24beef8b2ac",
      "metadata": {
        "tags": [],
        "id": "9ae00394-d3d0-478b-aaa8-e24beef8b2ac"
      },
      "source": [
        "## FinanceDataReader\n",
        "* 수정주가(Adjusted Price) : 총 발행 주식수의 변화를 반영한 가격\n",
        "* 백테스트, 수익률 분석 시 반드시!!! 수정주가 사용  -->  주가 연속성 보장\n",
        "* <font color=red><b>FinanceDataReader 모든 가격을 수정가격(Adjusted Price)로 제공</b></font><br><br>\n",
        "* ref : https://github.com/FinanceData/FinanceDataReader"
      ]
    },
    {
      "cell_type": "code",
      "execution_count": null,
      "id": "b23ac7cd-a733-422a-b6a1-1c445ce2875a",
      "metadata": {
        "id": "b23ac7cd-a733-422a-b6a1-1c445ce2875a"
      },
      "outputs": [],
      "source": [
        "# ! pip install finance-datareader"
      ]
    },
    {
      "cell_type": "markdown",
      "id": "e5b59c73-4004-40bc-87aa-8f0b617a1b9b",
      "metadata": {
        "id": "e5b59c73-4004-40bc-87aa-8f0b617a1b9b"
      },
      "source": [
        "* 2018년 5월 4일, 삼성전자는 50:1로 액면분할"
      ]
    },
    {
      "cell_type": "code",
      "execution_count": null,
      "id": "97237da7-2453-4ba3-a152-02978ff8d203",
      "metadata": {
        "id": "97237da7-2453-4ba3-a152-02978ff8d203"
      },
      "outputs": [],
      "source": [
        "import FinanceDataReader as fdr"
      ]
    },
    {
      "cell_type": "code",
      "execution_count": null,
      "id": "957b71ab-5ec2-45af-9f0d-dafbf4d93d61",
      "metadata": {
        "id": "957b71ab-5ec2-45af-9f0d-dafbf4d93d61",
        "outputId": "a2551d51-bd60-4bac-f4c5-45a7382410ea"
      },
      "outputs": [
        {
          "data": {
            "text/html": [
              "<div>\n",
              "<style scoped>\n",
              "    .dataframe tbody tr th:only-of-type {\n",
              "        vertical-align: middle;\n",
              "    }\n",
              "\n",
              "    .dataframe tbody tr th {\n",
              "        vertical-align: top;\n",
              "    }\n",
              "\n",
              "    .dataframe thead th {\n",
              "        text-align: right;\n",
              "    }\n",
              "</style>\n",
              "<table border=\"1\" class=\"dataframe\">\n",
              "  <thead>\n",
              "    <tr style=\"text-align: right;\">\n",
              "      <th></th>\n",
              "      <th>Open</th>\n",
              "      <th>High</th>\n",
              "      <th>Low</th>\n",
              "      <th>Close</th>\n",
              "      <th>Volume</th>\n",
              "      <th>Change</th>\n",
              "    </tr>\n",
              "    <tr>\n",
              "      <th>Date</th>\n",
              "      <th></th>\n",
              "      <th></th>\n",
              "      <th></th>\n",
              "      <th></th>\n",
              "      <th></th>\n",
              "      <th></th>\n",
              "    </tr>\n",
              "  </thead>\n",
              "  <tbody>\n",
              "    <tr>\n",
              "      <th>2018-04-30</th>\n",
              "      <td>0</td>\n",
              "      <td>0</td>\n",
              "      <td>0</td>\n",
              "      <td>53000</td>\n",
              "      <td>0</td>\n",
              "      <td>0.000000</td>\n",
              "    </tr>\n",
              "    <tr>\n",
              "      <th>2018-05-02</th>\n",
              "      <td>0</td>\n",
              "      <td>0</td>\n",
              "      <td>0</td>\n",
              "      <td>53000</td>\n",
              "      <td>0</td>\n",
              "      <td>0.000000</td>\n",
              "    </tr>\n",
              "    <tr>\n",
              "      <th>2018-05-03</th>\n",
              "      <td>0</td>\n",
              "      <td>0</td>\n",
              "      <td>0</td>\n",
              "      <td>53000</td>\n",
              "      <td>0</td>\n",
              "      <td>0.000000</td>\n",
              "    </tr>\n",
              "    <tr>\n",
              "      <th>2018-05-04</th>\n",
              "      <td>53000</td>\n",
              "      <td>53900</td>\n",
              "      <td>51800</td>\n",
              "      <td>51900</td>\n",
              "      <td>39565391</td>\n",
              "      <td>-0.020755</td>\n",
              "    </tr>\n",
              "    <tr>\n",
              "      <th>2018-05-08</th>\n",
              "      <td>52600</td>\n",
              "      <td>53200</td>\n",
              "      <td>51900</td>\n",
              "      <td>52600</td>\n",
              "      <td>23104720</td>\n",
              "      <td>0.013487</td>\n",
              "    </tr>\n",
              "    <tr>\n",
              "      <th>2018-05-09</th>\n",
              "      <td>52600</td>\n",
              "      <td>52800</td>\n",
              "      <td>50900</td>\n",
              "      <td>50900</td>\n",
              "      <td>16128305</td>\n",
              "      <td>-0.032319</td>\n",
              "    </tr>\n",
              "    <tr>\n",
              "      <th>2018-05-10</th>\n",
              "      <td>51700</td>\n",
              "      <td>51700</td>\n",
              "      <td>50600</td>\n",
              "      <td>51600</td>\n",
              "      <td>13905263</td>\n",
              "      <td>0.013752</td>\n",
              "    </tr>\n",
              "  </tbody>\n",
              "</table>\n",
              "</div>"
            ],
            "text/plain": [
              "             Open   High    Low  Close    Volume    Change\n",
              "Date                                                      \n",
              "2018-04-30      0      0      0  53000         0  0.000000\n",
              "2018-05-02      0      0      0  53000         0  0.000000\n",
              "2018-05-03      0      0      0  53000         0  0.000000\n",
              "2018-05-04  53000  53900  51800  51900  39565391 -0.020755\n",
              "2018-05-08  52600  53200  51900  52600  23104720  0.013487\n",
              "2018-05-09  52600  52800  50900  50900  16128305 -0.032319\n",
              "2018-05-10  51700  51700  50600  51600  13905263  0.013752"
            ]
          },
          "execution_count": 14,
          "metadata": {},
          "output_type": "execute_result"
        }
      ],
      "source": [
        "df = fdr.DataReader('005930', '2018-04-28', '2018-05-10', exchange='KRX') \n",
        "df.head(10)"
      ]
    },
    {
      "cell_type": "code",
      "execution_count": null,
      "id": "72a85a65-7e8e-44e3-b274-34619843eda3",
      "metadata": {
        "id": "72a85a65-7e8e-44e3-b274-34619843eda3",
        "outputId": "0eef1db1-4c9e-460b-9c36-3b903b0197ae"
      },
      "outputs": [
        {
          "data": {
            "text/plain": [
              "<matplotlib.lines.Line2D at 0x20d17cf0640>"
            ]
          },
          "execution_count": 15,
          "metadata": {},
          "output_type": "execute_result"
        },
        {
          "data": {
            "image/png": "[encoded data removed]",
            "text/plain": [
              "<Figure size 1080x360 with 1 Axes>"
            ]
          },
          "metadata": {},
          "output_type": "display_data"
        }
      ],
      "source": [
        "df = fdr.DataReader('005930', '2018-01-01', '2018-05-10')\n",
        "ax = df['Close'].plot(figsize=(15,5))\n",
        "ax.axvline('2018-05-04', ls='--', color='r')\n"
      ]
    },
    {
      "cell_type": "code",
      "execution_count": null,
      "id": "26a82b13-d6a5-4435-a3ac-427c467e912b",
      "metadata": {
        "id": "26a82b13-d6a5-4435-a3ac-427c467e912b"
      },
      "outputs": [],
      "source": [
        "#------------------------------------------------------------\n",
        "# FX 환율, 1995 ~ 현재\n",
        "#------------------------------------------------------------\n",
        "# usdkrw = fdr.DataReader('USD/KRW', '2022-01-01') # 달러 원화\n",
        "# usdeur = fdr.DataReader('USD/EUR', '1995-01-01') # 달러 유로화\n",
        "# usdcny = fdr.DataReader('USD/CNY', '1995-01-01') # 달러 위엔화\n",
        "\n",
        "\n",
        "#------------------------------------------------------------\n",
        "# 상품 선물 가격 데이터\n",
        "#------------------------------------------------------------\n",
        "# df = fdr.DataReader('NG') # NG 천연가스 선물 (NYMEX)\n",
        "# df = fdr.DataReader('ZG') # 금 선물 (ICE)\n",
        "# df = fdr.DataReader('ZI') # 은 선물 (ICE)\n",
        "# df = fdr.DataReader('HG') # 구리 선물 (COMEX)\n",
        "\n",
        "\n",
        "#------------------------------------------------------------\n",
        "# Bitcoin KRW price (Bithumbs), 2016 ~ Now\n",
        "#------------------------------------------------------------\n",
        "# btc = fdr.DataReader('BTC/KRW', '2016-01-01')\n",
        "\n",
        "#------------------------------------------------------------\n",
        "# 채권 수익률\n",
        "#------------------------------------------------------------\n",
        "# df = fdr.DataReader('KR1YT=RR') # 1년만기 한국국채 수익률\n",
        "# df = fdr.DataReader('KR10YT=RR') # 10년만기 한국국채 수익률\n",
        "# df = fdr.DataReader('US1MT=X') # 1개월 만기 미국국채 수익률\n",
        "# df = fdr.DataReader('US10YT=X') # 10년 만기 미국국채 수익률\n",
        "\n",
        "#------------------------------------------------------------\n",
        "# stock symbol list\n",
        "#------------------------------------------------------------\n",
        "# stock_df = fdr.StockListing('KRX')   # 코스피, 코스닥, 코넥스 전체\n",
        "# stock_df = fdr.StockListing('KOSPI') # 코스피\n",
        "# stock_df = fdr.StockListing('KOSDAQ') # 코스닥\n",
        "# stock_df = fdr.StockListing('KONEX') # 코넥스\n",
        "# stock_df = fdr.StockListing('NYSE')   # 뉴욕거래소\n",
        "# stock_df = fdr.StockListing('NASDAQ') # 나스닥\n",
        "# stock_df = fdr.StockListing('AMEX')   # 아멕스\n",
        "# stock_df = fdr.StockListing('S&P500')\n",
        "# stock_df = fdr.StockListing('SSE') # 상해 거래소\n",
        "# stock_df = fdr.StockListing('SZSE') # 신천 거래소\n",
        "# stock_df = fdr.StockListing('HKEX') # 홍콩거래소\n",
        "# stock_df = fdr.StockListing('TSE') # 도쿄 증권거래소\n",
        "# stock_df = fdr.StockListing('HOSE') # 호치민 증권거래소\n",
        "# stock_df = fdr.StockListing('KRX-ADMINISTRATIVE') # 관리종목 리스트\n",
        "# stock_df = fdr.StockListing('KRX-DELISTING')  # -----------상장폐지 종목 전체 리스트\n",
        "\n",
        "#------------------------------------------------------------\n",
        "# FRED 연준 데이터\n",
        "#------------------------------------------------------------ \n",
        "# m2 = fdr.DataReader('M2', data_source='fred')                        #M2통화량\n",
        "# nq = fdr.DataReader('NASDAQCOM', data_source='fred')                 # NASDAQCOM 나스닥종합지수\n",
        "# hou_nas = fdr.DataReader(['HSN1F', 'NASDAQCOM'], data_source='fred') # HSN1F 주택판매지수, NASDAQCOM 나스닥종합지수 \n"
      ]
    },
    {
      "cell_type": "markdown",
      "id": "a6f16ff5-a81e-4d69-8d1a-ecde6e3c424d",
      "metadata": {
        "id": "a6f16ff5-a81e-4d69-8d1a-ecde6e3c424d"
      },
      "source": [
        "* 캔들차트 "
      ]
    },
    {
      "cell_type": "code",
      "execution_count": null,
      "id": "a60f4e11-4ac8-4ea7-92ca-fd473574d384",
      "metadata": {
        "id": "a60f4e11-4ac8-4ea7-92ca-fd473574d384"
      },
      "outputs": [],
      "source": [
        "# ! pip install bokeh"
      ]
    },
    {
      "cell_type": "code",
      "execution_count": null,
      "id": "55cdb838-37e1-47f9-b968-72cfde0e4033",
      "metadata": {
        "id": "55cdb838-37e1-47f9-b968-72cfde0e4033",
        "outputId": "3eeba18a-f57d-4260-8b23-9cc71e54988f"
      },
      "outputs": [
        {
          "data": {
            "text/html": [
              "\n",
              "    <div class=\"bk-root\">\n",
              "        <a href=\"https://bokeh.org\" target=\"_blank\" class=\"bk-logo bk-logo-small bk-logo-notebook\"></a>\n",
              "        <span id=\"1002\">Loading BokehJS ...</span>\n",
              "    </div>"
            ]
          },
          "metadata": {},
          "output_type": "display_data"
        },
        {
          "data": {
            "application/javascript": [
              "\n",
              "(function(root) {\n",
              "  function now() {\n",
              "    return new Date();\n",
              "  }\n",
              "\n",
              "  const force = true;\n",
              "\n",
              "  if (typeof root._bokeh_onload_callbacks === \"undefined\" || force === true) {\n",
              "    root._bokeh_onload_callbacks = [];\n",
              "    root._bokeh_is_loading = undefined;\n",
              "  }\n",
              "\n",
              "  const JS_MIME_TYPE = 'application/javascript';\n",
              "  const HTML_MIME_TYPE = 'text/html';\n",
              "  const EXEC_MIME_TYPE = 'application/vnd.bokehjs_exec.v0+json';\n",
              "  const CLASS_NAME = 'output_bokeh rendered_html';\n",
              "\n",
              "  /**\n",
              "   * Render data to the DOM node\n",
              "   */\n",
              "  function render(props, node) {\n",
              "    const script = document.createElement(\"script\");\n",
              "    node.appendChild(script);\n",
              "  }\n",
              "\n",
              "  /**\n",
              "   * Handle when an output is cleared or removed\n",
              "   */\n",
              "  function handleClearOutput(event, handle) {\n",
              "    const cell = handle.cell;\n",
              "\n",
              "    const id = cell.output_area._bokeh_element_id;\n",
              "    const server_id = cell.output_area._bokeh_server_id;\n",
              "    // Clean up Bokeh references\n",
              "    if (id != null && id in Bokeh.index) {\n",
              "      Bokeh.index[id].model.document.clear();\n",
              "      delete Bokeh.index[id];\n",
              "    }\n",
              "\n",
              "    if (server_id !== undefined) {\n",
              "      // Clean up Bokeh references\n",
              "      const cmd_clean = \"from bokeh.io.state import curstate; print(curstate().uuid_to_server['\" + server_id + \"'].get_sessions()[0].document.roots[0]._id)\";\n",
              "      cell.notebook.kernel.execute(cmd_clean, {\n",
              "        iopub: {\n",
              "          output: function(msg) {\n",
              "            const id = msg.content.text.trim();\n",
              "            if (id in Bokeh.index) {\n",
              "              Bokeh.index[id].model.document.clear();\n",
              "              delete Bokeh.index[id];\n",
              "            }\n",
              "          }\n",
              "        }\n",
              "      });\n",
              "      // Destroy server and session\n",
              "      const cmd_destroy = \"import bokeh.io.notebook as ion; ion.destroy_server('\" + server_id + \"')\";\n",
              "      cell.notebook.kernel.execute(cmd_destroy);\n",
              "    }\n",
              "  }\n",
              "\n",
              "  /**\n",
              "   * Handle when a new output is added\n",
              "   */\n",
              "  function handleAddOutput(event, handle) {\n",
              "    const output_area = handle.output_area;\n",
              "    const output = handle.output;\n",
              "\n",
              "    // limit handleAddOutput to display_data with EXEC_MIME_TYPE content only\n",
              "    if ((output.output_type != \"display_data\") || (!Object.prototype.hasOwnProperty.call(output.data, EXEC_MIME_TYPE))) {\n",
              "      return\n",
              "    }\n",
              "\n",
              "    const toinsert = output_area.element.find(\".\" + CLASS_NAME.split(' ')[0]);\n",
              "\n",
              "    if (output.metadata[EXEC_MIME_TYPE][\"id\"] !== undefined) {\n",
              "      toinsert[toinsert.length - 1].firstChild.textContent = output.data[JS_MIME_TYPE];\n",
              "      // store reference to embed id on output_area\n",
              "      output_area._bokeh_element_id = output.metadata[EXEC_MIME_TYPE][\"id\"];\n",
              "    }\n",
              "    if (output.metadata[EXEC_MIME_TYPE][\"server_id\"] !== undefined) {\n",
              "      const bk_div = document.createElement(\"div\");\n",
              "      bk_div.innerHTML = output.data[HTML_MIME_TYPE];\n",
              "      const script_attrs = bk_div.children[0].attributes;\n",
              "      for (let i = 0; i < script_attrs.length; i++) {\n",
              "        toinsert[toinsert.length - 1].firstChild.setAttribute(script_attrs[i].name, script_attrs[i].value);\n",
              "        toinsert[toinsert.length - 1].firstChild.textContent = bk_div.children[0].textContent\n",
              "      }\n",
              "      // store reference to server id on output_area\n",
              "      output_area._bokeh_server_id = output.metadata[EXEC_MIME_TYPE][\"server_id\"];\n",
              "    }\n",
              "  }\n",
              "\n",
              "  function register_renderer(events, OutputArea) {\n",
              "\n",
              "    function append_mime(data, metadata, element) {\n",
              "      // create a DOM node to render to\n",
              "      const toinsert = this.create_output_subarea(\n",
              "        metadata,\n",
              "        CLASS_NAME,\n",
              "        EXEC_MIME_TYPE\n",
              "      );\n",
              "      this.keyboard_manager.register_events(toinsert);\n",
              "      // Render to node\n",
              "      const props = {data: data, metadata: metadata[EXEC_MIME_TYPE]};\n",
              "      render(props, toinsert[toinsert.length - 1]);\n",
              "      element.append(toinsert);\n",
              "      return toinsert\n",
              "    }\n",
              "\n",
              "    /* Handle when an output is cleared or removed */\n",
              "    events.on('clear_output.CodeCell', handleClearOutput);\n",
              "    events.on('delete.Cell', handleClearOutput);\n",
              "\n",
              "    /* Handle when a new output is added */\n",
              "    events.on('output_added.OutputArea', handleAddOutput);\n",
              "\n",
              "    /**\n",
              "     * Register the mime type and append_mime function with output_area\n",
              "     */\n",
              "    OutputArea.prototype.register_mime_type(EXEC_MIME_TYPE, append_mime, {\n",
              "      /* Is output safe? */\n",
              "      safe: true,\n",
              "      /* Index of renderer in `output_area.display_order` */\n",
              "      index: 0\n",
              "    });\n",
              "  }\n",
              "\n",
              "  // register the mime type if in Jupyter Notebook environment and previously unregistered\n",
              "  if (root.Jupyter !== undefined) {\n",
              "    const events = require('base/js/events');\n",
              "    const OutputArea = require('notebook/js/outputarea').OutputArea;\n",
              "\n",
              "    if (OutputArea.prototype.mime_types().indexOf(EXEC_MIME_TYPE) == -1) {\n",
              "      register_renderer(events, OutputArea);\n",
              "    }\n",
              "  }\n",
              "\n",
              "  \n",
              "  if (typeof (root._bokeh_timeout) === \"undefined\" || force === true) {\n",
              "    root._bokeh_timeout = Date.now() + 5000;\n",
              "    root._bokeh_failed_load = false;\n",
              "  }\n",
              "\n",
              "  const NB_LOAD_WARNING = {'data': {'text/html':\n",
              "     \"<div style='background-color: #fdd'>\\n\"+\n",
              "     \"<p>\\n\"+\n",
              "     \"BokehJS does not appear to have successfully loaded. If loading BokehJS from CDN, this \\n\"+\n",
              "     \"may be due to a slow or bad network connection. Possible fixes:\\n\"+\n",
              "     \"</p>\\n\"+\n",
              "     \"<ul>\\n\"+\n",
              "     \"<li>re-rerun `output_notebook()` to attempt to load from CDN again, or</li>\\n\"+\n",
              "     \"<li>use INLINE resources instead, as so:</li>\\n\"+\n",
              "     \"</ul>\\n\"+\n",
              "     \"<code>\\n\"+\n",
              "     \"from bokeh.resources import INLINE\\n\"+\n",
              "     \"output_notebook(resources=INLINE)\\n\"+\n",
              "     \"</code>\\n\"+\n",
              "     \"</div>\"}};\n",
              "\n",
              "  function display_loaded() {\n",
              "    const el = document.getElementById(\"1002\");\n",
              "    if (el != null) {\n",
              "      el.textContent = \"BokehJS is loading...\";\n",
              "    }\n",
              "    if (root.Bokeh !== undefined) {\n",
              "      if (el != null) {\n",
              "        el.textContent = \"BokehJS \" + root.Bokeh.version + \" successfully loaded.\";\n",
              "      }\n",
              "    } else if (Date.now() < root._bokeh_timeout) {\n",
              "      setTimeout(display_loaded, 100)\n",
              "    }\n",
              "  }\n",
              "\n",
              "\n",
              "  function run_callbacks() {\n",
              "    try {\n",
              "      root._bokeh_onload_callbacks.forEach(function(callback) {\n",
              "        if (callback != null)\n",
              "          callback();\n",
              "      });\n",
              "    } finally {\n",
              "      delete root._bokeh_onload_callbacks\n",
              "    }\n",
              "    console.debug(\"Bokeh: all callbacks have finished\");\n",
              "  }\n",
              "\n",
              "  function load_libs(css_urls, js_urls, callback) {\n",
              "    if (css_urls == null) css_urls = [];\n",
              "    if (js_urls == null) js_urls = [];\n",
              "\n",
              "    root._bokeh_onload_callbacks.push(callback);\n",
              "    if (root._bokeh_is_loading > 0) {\n",
              "      console.debug(\"Bokeh: BokehJS is being loaded, scheduling callback at\", now());\n",
              "      return null;\n",
              "    }\n",
              "    if (js_urls == null || js_urls.length === 0) {\n",
              "      run_callbacks();\n",
              "      return null;\n",
              "    }\n",
              "    console.debug(\"Bokeh: BokehJS not loaded, scheduling load and callback at\", now());\n",
              "    root._bokeh_is_loading = css_urls.length + js_urls.length;\n",
              "\n",
              "    function on_load() {\n",
              "      root._bokeh_is_loading--;\n",
              "      if (root._bokeh_is_loading === 0) {\n",
              "        console.debug(\"Bokeh: all BokehJS libraries/stylesheets loaded\");\n",
              "        run_callbacks()\n",
              "      }\n",
              "    }\n",
              "\n",
              "    function on_error(url) {\n",
              "      console.error(\"failed to load \" + url);\n",
              "    }\n",
              "\n",
              "    for (let i = 0; i < css_urls.length; i++) {\n",
              "      const url = css_urls[i];\n",
              "      const element = document.createElement(\"link\");\n",
              "      element.onload = on_load;\n",
              "      element.onerror = on_error.bind(null, url);\n",
              "      element.rel = \"stylesheet\";\n",
              "      element.type = \"text/css\";\n",
              "      element.href = url;\n",
              "      console.debug(\"Bokeh: injecting link tag for BokehJS stylesheet: \", url);\n",
              "      document.body.appendChild(element);\n",
              "    }\n",
              "\n",
              "    for (let i = 0; i < js_urls.length; i++) {\n",
              "      const url = js_urls[i];\n",
              "      const element = document.createElement('script');\n",
              "      element.onload = on_load;\n",
              "      element.onerror = on_error.bind(null, url);\n",
              "      element.async = false;\n",
              "      element.src = url;\n",
              "      console.debug(\"Bokeh: injecting script tag for BokehJS library: \", url);\n",
              "      document.head.appendChild(element);\n",
              "    }\n",
              "  };\n",
              "\n",
              "  function inject_raw_css(css) {\n",
              "    const element = document.createElement(\"style\");\n",
              "    element.appendChild(document.createTextNode(css));\n",
              "    document.body.appendChild(element);\n",
              "  }\n",
              "\n",
              "  \n",
              "  const js_urls = [\"https://cdn.bokeh.org/bokeh/release/bokeh-2.4.2.min.js\", \"https://cdn.bokeh.org/bokeh/release/bokeh-gl-2.4.2.min.js\", \"https://cdn.bokeh.org/bokeh/release/bokeh-widgets-2.4.2.min.js\", \"https://cdn.bokeh.org/bokeh/release/bokeh-tables-2.4.2.min.js\", \"https://cdn.bokeh.org/bokeh/release/bokeh-mathjax-2.4.2.min.js\"];\n",
              "  const css_urls = [];\n",
              "  \n",
              "\n",
              "  const inline_js = [\n",
              "    function(Bokeh) {\n",
              "      Bokeh.set_log_level(\"info\");\n",
              "    },\n",
              "    function(Bokeh) {\n",
              "    \n",
              "    \n",
              "    }\n",
              "  ];\n",
              "\n",
              "  function run_inline_js() {\n",
              "    \n",
              "    if (root.Bokeh !== undefined || force === true) {\n",
              "      \n",
              "    for (let i = 0; i < inline_js.length; i++) {\n",
              "      inline_js[i].call(root, root.Bokeh);\n",
              "    }\n",
              "    if (force === true) {\n",
              "        display_loaded();\n",
              "      }} else if (Date.now() < root._bokeh_timeout) {\n",
              "      setTimeout(run_inline_js, 100);\n",
              "    } else if (!root._bokeh_failed_load) {\n",
              "      console.log(\"Bokeh: BokehJS failed to load within specified timeout.\");\n",
              "      root._bokeh_failed_load = true;\n",
              "    } else if (force !== true) {\n",
              "      const cell = $(document.getElementById(\"1002\")).parents('.cell').data().cell;\n",
              "      cell.output_area.append_execute_result(NB_LOAD_WARNING)\n",
              "    }\n",
              "\n",
              "  }\n",
              "\n",
              "  if (root._bokeh_is_loading === 0) {\n",
              "    console.debug(\"Bokeh: BokehJS loaded, going straight to plotting\");\n",
              "    run_inline_js();\n",
              "  } else {\n",
              "    load_libs(css_urls, js_urls, function() {\n",
              "      console.debug(\"Bokeh: BokehJS plotting callback run at\", now());\n",
              "      run_inline_js();\n",
              "    });\n",
              "  }\n",
              "}(window));"
            ],
            "application/vnd.bokehjs_load.v0+json": "\n(function(root) {\n  function now() {\n    return new Date();\n  }\n\n  const force = true;\n\n  if (typeof root._bokeh_onload_callbacks === \"undefined\" || force === true) {\n    root._bokeh_onload_callbacks = [];\n    root._bokeh_is_loading = undefined;\n  }\n\n  \n\n  \n  if (typeof (root._bokeh_timeout) === \"undefined\" || force === true) {\n    root._bokeh_timeout = Date.now() + 5000;\n    root._bokeh_failed_load = false;\n  }\n\n  const NB_LOAD_WARNING = {'data': {'text/html':\n     \"<div style='background-color: #fdd'>\\n\"+\n     \"<p>\\n\"+\n     \"BokehJS does not appear to have successfully loaded. If loading BokehJS from CDN, this \\n\"+\n     \"may be due to a slow or bad network connection. Possible fixes:\\n\"+\n     \"</p>\\n\"+\n     \"<ul>\\n\"+\n     \"<li>re-rerun `output_notebook()` to attempt to load from CDN again, or</li>\\n\"+\n     \"<li>use INLINE resources instead, as so:</li>\\n\"+\n     \"</ul>\\n\"+\n     \"<code>\\n\"+\n     \"from bokeh.resources import INLINE\\n\"+\n     \"output_notebook(resources=INLINE)\\n\"+\n     \"</code>\\n\"+\n     \"</div>\"}};\n\n  function display_loaded() {\n    const el = document.getElementById(\"1002\");\n    if (el != null) {\n      el.textContent = \"BokehJS is loading...\";\n    }\n    if (root.Bokeh !== undefined) {\n      if (el != null) {\n        el.textContent = \"BokehJS \" + root.Bokeh.version + \" successfully loaded.\";\n      }\n    } else if (Date.now() < root._bokeh_timeout) {\n      setTimeout(display_loaded, 100)\n    }\n  }\n\n\n  function run_callbacks() {\n    try {\n      root._bokeh_onload_callbacks.forEach(function(callback) {\n        if (callback != null)\n          callback();\n      });\n    } finally {\n      delete root._bokeh_onload_callbacks\n    }\n    console.debug(\"Bokeh: all callbacks have finished\");\n  }\n\n  function load_libs(css_urls, js_urls, callback) {\n    if (css_urls == null) css_urls = [];\n    if (js_urls == null) js_urls = [];\n\n    root._bokeh_onload_callbacks.push(callback);\n    if (root._bokeh_is_loading > 0) {\n      console.debug(\"Bokeh: BokehJS is being loaded, scheduling callback at\", now());\n      return null;\n    }\n    if (js_urls == null || js_urls.length === 0) {\n      run_callbacks();\n      return null;\n    }\n    console.debug(\"Bokeh: BokehJS not loaded, scheduling load and callback at\", now());\n    root._bokeh_is_loading = css_urls.length + js_urls.length;\n\n    function on_load() {\n      root._bokeh_is_loading--;\n      if (root._bokeh_is_loading === 0) {\n        console.debug(\"Bokeh: all BokehJS libraries/stylesheets loaded\");\n        run_callbacks()\n      }\n    }\n\n    function on_error(url) {\n      console.error(\"failed to load \" + url);\n    }\n\n    for (let i = 0; i < css_urls.length; i++) {\n      const url = css_urls[i];\n      const element = document.createElement(\"link\");\n      element.onload = on_load;\n      element.onerror = on_error.bind(null, url);\n      element.rel = \"stylesheet\";\n      element.type = \"text/css\";\n      element.href = url;\n      console.debug(\"Bokeh: injecting link tag for BokehJS stylesheet: \", url);\n      document.body.appendChild(element);\n    }\n\n    for (let i = 0; i < js_urls.length; i++) {\n      const url = js_urls[i];\n      const element = document.createElement('script');\n      element.onload = on_load;\n      element.onerror = on_error.bind(null, url);\n      element.async = false;\n      element.src = url;\n      console.debug(\"Bokeh: injecting script tag for BokehJS library: \", url);\n      document.head.appendChild(element);\n    }\n  };\n\n  function inject_raw_css(css) {\n    const element = document.createElement(\"style\");\n    element.appendChild(document.createTextNode(css));\n    document.body.appendChild(element);\n  }\n\n  \n  const js_urls = [\"https://cdn.bokeh.org/bokeh/release/bokeh-2.4.2.min.js\", \"https://cdn.bokeh.org/bokeh/release/bokeh-gl-2.4.2.min.js\", \"https://cdn.bokeh.org/bokeh/release/bokeh-widgets-2.4.2.min.js\", \"https://cdn.bokeh.org/bokeh/release/bokeh-tables-2.4.2.min.js\", \"https://cdn.bokeh.org/bokeh/release/bokeh-mathjax-2.4.2.min.js\"];\n  const css_urls = [];\n  \n\n  const inline_js = [\n    function(Bokeh) {\n      Bokeh.set_log_level(\"info\");\n    },\n    function(Bokeh) {\n    \n    \n    }\n  ];\n\n  function run_inline_js() {\n    \n    if (root.Bokeh !== undefined || force === true) {\n      \n    for (let i = 0; i < inline_js.length; i++) {\n      inline_js[i].call(root, root.Bokeh);\n    }\n    if (force === true) {\n        display_loaded();\n      }} else if (Date.now() < root._bokeh_timeout) {\n      setTimeout(run_inline_js, 100);\n    } else if (!root._bokeh_failed_load) {\n      console.log(\"Bokeh: BokehJS failed to load within specified timeout.\");\n      root._bokeh_failed_load = true;\n    } else if (force !== true) {\n      const cell = $(document.getElementById(\"1002\")).parents('.cell').data().cell;\n      cell.output_area.append_execute_result(NB_LOAD_WARNING)\n    }\n\n  }\n\n  if (root._bokeh_is_loading === 0) {\n    console.debug(\"Bokeh: BokehJS loaded, going straight to plotting\");\n    run_inline_js();\n  } else {\n    load_libs(css_urls, js_urls, function() {\n      console.debug(\"Bokeh: BokehJS plotting callback run at\", now());\n      run_inline_js();\n    });\n  }\n}(window));"
          },
          "metadata": {},
          "output_type": "display_data"
        },
        {
          "data": {
            "text/html": [
              "\n",
              "\n",
              "\n",
              "\n",
              "\n",
              "\n",
              "  <div class=\"bk-root\" id=\"e43e5597-3864-480d-b618-beae90adce2c\" data-root-id=\"1163\"></div>\n"
            ]
          },
          "metadata": {},
          "output_type": "display_data"
        },
        {
          "data": {
            "application/javascript": [
              "(function(root) {\n",
              "  function embed_document(root) {\n",
              "    \n",
              "  const docs_json = {\"b237164f-4570-4381-92ab-898d558c5a0b\":{\"defs\":[],\"roots\":{\"references\":[{\"attributes\":{\"children\":[{\"id\":\"1162\"},{\"id\":\"1160\"}]},\"id\":\"1163\",\"type\":\"Column\"},{\"attributes\":{\"data\":{\"top\":[12427416,12931954,9947422,11000502,10096725,8785122,9708168,13691134,12976730,21367447,17744721,12730034,11736666,9699122,12205407,9320365],\"x\":{\"__ndarray__\":\"AQAAAAMAAAAFAAAABwAAAAkAAAAKAAAADQAAAA8AAAARAAAAEwAAABQAAAAVAAAAFwAAABgAAAAaAAAAHAAAAA==\",\"dtype\":\"int32\",\"order\":\"little\",\"shape\":[16]}},\"selected\":{\"id\":\"1157\"},\"selection_policy\":{\"id\":\"1156\"}},\"id\":\"1116\",\"type\":\"ColumnDataSource\"},{\"attributes\":{},\"id\":\"1140\",\"type\":\"UnionRenderers\"},{\"attributes\":{\"fill_alpha\":{\"value\":0.1},\"fill_color\":{\"value\":\"blue\"},\"hatch_alpha\":{\"value\":0.1},\"line_alpha\":{\"value\":0.1},\"top\":{\"field\":\"top\"},\"width\":{\"value\":0.8},\"x\":{\"field\":\"x\"}},\"id\":\"1118\",\"type\":\"VBar\"},{\"attributes\":{},\"id\":\"1141\",\"type\":\"Selection\"},{\"attributes\":{\"bottom\":{\"field\":\"bottom\"},\"fill_color\":{\"value\":\"red\"},\"line_color\":{\"value\":\"red\"},\"top\":{\"field\":\"top\"},\"width\":{\"value\":0.8},\"x\":{\"field\":\"x\"}},\"id\":\"1049\",\"type\":\"VBar\"},{\"attributes\":{},\"id\":\"1122\",\"type\":\"NumeralTickFormatter\"},{\"attributes\":{\"data\":{\"bottom\":[76900,78300,78900,76500,73300,74700],\"top\":[76700,78100,78400,76200,71300,74300],\"x\":{\"__ndarray__\":\"AwAAAAQAAAAGAAAADQAAABMAAAAYAAAA\",\"dtype\":\"int32\",\"order\":\"little\",\"shape\":[6]}},\"selected\":{\"id\":\"1137\"},\"selection_policy\":{\"id\":\"1136\"}},\"id\":\"1048\",\"type\":\"ColumnDataSource\"},{\"attributes\":{\"toolbar\":{\"id\":\"1161\"},\"toolbar_location\":\"above\"},\"id\":\"1162\",\"type\":\"ToolbarBox\"},{\"attributes\":{\"bottom\":{\"field\":\"bottom\"},\"fill_alpha\":{\"value\":0.1},\"fill_color\":{\"value\":\"red\"},\"hatch_alpha\":{\"value\":0.1},\"line_alpha\":{\"value\":0.1},\"line_color\":{\"value\":\"red\"},\"top\":{\"field\":\"top\"},\"width\":{\"value\":0.8},\"x\":{\"field\":\"x\"}},\"id\":\"1050\",\"type\":\"VBar\"},{\"attributes\":{\"below\":[{\"id\":\"1088\"}],\"center\":[{\"id\":\"1091\"},{\"id\":\"1095\"}],\"height\":90,\"left\":[{\"id\":\"1092\"}],\"renderers\":[{\"id\":\"1114\"},{\"id\":\"1120\"}],\"title\":{\"id\":\"1148\"},\"toolbar\":{\"id\":\"1103\"},\"toolbar_location\":null,\"x_range\":{\"id\":\"1006\"},\"x_scale\":{\"id\":\"1084\"},\"y_range\":{\"id\":\"1082\"},\"y_scale\":{\"id\":\"1086\"}},\"id\":\"1080\",\"subtype\":\"Figure\",\"type\":\"Plot\"},{\"attributes\":{\"fill_alpha\":{\"value\":0.2},\"fill_color\":{\"value\":\"blue\"},\"hatch_alpha\":{\"value\":0.2},\"line_alpha\":{\"value\":0.2},\"top\":{\"field\":\"top\"},\"width\":{\"value\":0.8},\"x\":{\"field\":\"x\"}},\"id\":\"1119\",\"type\":\"VBar\"},{\"attributes\":{},\"id\":\"1132\",\"type\":\"UnionRenderers\"},{\"attributes\":{\"coordinates\":null,\"data_source\":{\"id\":\"1116\"},\"glyph\":{\"id\":\"1117\"},\"group\":null,\"hover_glyph\":null,\"muted_glyph\":{\"id\":\"1119\"},\"nonselection_glyph\":{\"id\":\"1118\"},\"view\":{\"id\":\"1121\"}},\"id\":\"1120\",\"type\":\"GlyphRenderer\"},{\"attributes\":{\"source\":{\"id\":\"1048\"}},\"id\":\"1053\",\"type\":\"CDSView\"},{\"attributes\":{\"source\":{\"id\":\"1116\"}},\"id\":\"1121\",\"type\":\"CDSView\"},{\"attributes\":{\"coordinates\":null,\"data_source\":{\"id\":\"1048\"},\"glyph\":{\"id\":\"1049\"},\"group\":null,\"hover_glyph\":null,\"muted_glyph\":{\"id\":\"1051\"},\"nonselection_glyph\":{\"id\":\"1050\"},\"view\":{\"id\":\"1053\"}},\"id\":\"1052\",\"type\":\"GlyphRenderer\"},{\"attributes\":{\"days\":[\"%Y-%m-%d\"],\"hours\":[\"%H:%M\"]},\"id\":\"1124\",\"type\":\"DatetimeTickFormatter\"},{\"attributes\":{},\"id\":\"1133\",\"type\":\"Selection\"},{\"attributes\":{\"bottom\":{\"field\":\"bottom\"},\"fill_alpha\":{\"value\":0.2},\"fill_color\":{\"value\":\"red\"},\"hatch_alpha\":{\"value\":0.2},\"line_alpha\":{\"value\":0.2},\"line_color\":{\"value\":\"red\"},\"top\":{\"field\":\"top\"},\"width\":{\"value\":0.8},\"x\":{\"field\":\"x\"}},\"id\":\"1051\",\"type\":\"VBar\"},{\"attributes\":{\"children\":[[{\"id\":\"1003\"},0,0],[{\"id\":\"1080\"},1,0]]},\"id\":\"1160\",\"type\":\"GridBox\"},{\"attributes\":{},\"id\":\"1142\",\"type\":\"UnionRenderers\"},{\"attributes\":{\"toolbars\":[{\"id\":\"1029\"},{\"id\":\"1103\"}],\"tools\":[{\"id\":\"1022\"},{\"id\":\"1023\"},{\"id\":\"1024\"},{\"id\":\"1025\"},{\"id\":\"1026\"},{\"id\":\"1027\"},{\"id\":\"1096\"},{\"id\":\"1097\"},{\"id\":\"1098\"},{\"id\":\"1099\"},{\"id\":\"1100\"},{\"id\":\"1101\"}]},\"id\":\"1161\",\"type\":\"ProxyToolbar\"},{\"attributes\":{},\"id\":\"1143\",\"type\":\"Selection\"},{\"attributes\":{\"bottom\":{\"field\":\"bottom\"},\"fill_color\":{\"value\":\"blue\"},\"line_color\":{\"value\":\"blue\"},\"top\":{\"field\":\"top\"},\"width\":{\"value\":0.8},\"x\":{\"field\":\"x\"}},\"id\":\"1055\",\"type\":\"VBar\"},{\"attributes\":{\"coordinates\":null,\"data_source\":{\"id\":\"1036\"},\"glyph\":{\"id\":\"1037\"},\"group\":null,\"hover_glyph\":null,\"muted_glyph\":{\"id\":\"1039\"},\"nonselection_glyph\":{\"id\":\"1038\"},\"view\":{\"id\":\"1041\"}},\"id\":\"1040\",\"type\":\"GlyphRenderer\"},{\"attributes\":{\"data\":{\"bottom\":[78600,78700,77400,78000,78900,77900,77300,77500,77000,76300,75600,75100,74000,73300,71300,73300,74000,73000,73500,75400,74900,73700,73700],\"top\":[79400,78800,78800,78100,79500,79300,77700,77600,77600,76500,75800,75400,74800,73900,73800,74900,74300,73500,73800,75600,75000,74400,74100],\"x\":{\"__ndarray__\":\"AAAAAAEAAAACAAAABQAAAAcAAAAIAAAACQAAAAoAAAALAAAADAAAAA4AAAAPAAAAEAAAABEAAAASAAAAFAAAABUAAAAWAAAAFwAAABkAAAAaAAAAGwAAABwAAAA=\",\"dtype\":\"int32\",\"order\":\"little\",\"shape\":[23]}},\"selected\":{\"id\":\"1139\"},\"selection_policy\":{\"id\":\"1138\"}},\"id\":\"1054\",\"type\":\"ColumnDataSource\"},{\"attributes\":{\"bottom\":{\"field\":\"bottom\"},\"fill_alpha\":{\"value\":0.1},\"fill_color\":{\"value\":\"blue\"},\"hatch_alpha\":{\"value\":0.1},\"line_alpha\":{\"value\":0.1},\"line_color\":{\"value\":\"blue\"},\"top\":{\"field\":\"top\"},\"width\":{\"value\":0.8},\"x\":{\"field\":\"x\"}},\"id\":\"1056\",\"type\":\"VBar\"},{\"attributes\":{\"source\":{\"id\":\"1054\"}},\"id\":\"1059\",\"type\":\"CDSView\"},{\"attributes\":{\"coordinates\":null,\"data_source\":{\"id\":\"1054\"},\"glyph\":{\"id\":\"1055\"},\"group\":null,\"hover_glyph\":null,\"muted_glyph\":{\"id\":\"1057\"},\"nonselection_glyph\":{\"id\":\"1056\"},\"view\":{\"id\":\"1059\"}},\"id\":\"1058\",\"type\":\"GlyphRenderer\"},{\"attributes\":{},\"id\":\"1144\",\"type\":\"UnionRenderers\"},{\"attributes\":{\"bottom\":{\"field\":\"bottom\"},\"fill_alpha\":{\"value\":0.2},\"fill_color\":{\"value\":\"blue\"},\"hatch_alpha\":{\"value\":0.2},\"line_alpha\":{\"value\":0.2},\"line_color\":{\"value\":\"blue\"},\"top\":{\"field\":\"top\"},\"width\":{\"value\":0.8},\"x\":{\"field\":\"x\"}},\"id\":\"1057\",\"type\":\"VBar\"},{\"attributes\":{},\"id\":\"1060\",\"type\":\"NumeralTickFormatter\"},{\"attributes\":{},\"id\":\"1145\",\"type\":\"Selection\"},{\"attributes\":{\"line_color\":{\"value\":\"red\"},\"x0\":{\"field\":\"x0\"},\"x1\":{\"field\":\"x1\"},\"y0\":{\"field\":\"y0\"},\"y1\":{\"field\":\"y1\"}},\"id\":\"1037\",\"type\":\"Segment\"},{\"attributes\":{\"data\":{\"x0\":{\"__ndarray__\":\"AwAAAAQAAAAGAAAADQAAABMAAAAYAAAA\",\"dtype\":\"int32\",\"order\":\"little\",\"shape\":[6]},\"x1\":{\"__ndarray__\":\"AwAAAAQAAAAGAAAADQAAABMAAAAYAAAA\",\"dtype\":\"int32\",\"order\":\"little\",\"shape\":[6]},\"y0\":[77600,78400,79000,76700,73700,74700],\"y1\":[76600,77400,78000,75900,71200,74000]},\"selected\":{\"id\":\"1133\"},\"selection_policy\":{\"id\":\"1132\"}},\"id\":\"1036\",\"type\":\"ColumnDataSource\"},{\"attributes\":{},\"id\":\"1136\",\"type\":\"UnionRenderers\"},{\"attributes\":{\"line_alpha\":{\"value\":0.1},\"line_color\":{\"value\":\"red\"},\"x0\":{\"field\":\"x0\"},\"x1\":{\"field\":\"x1\"},\"y0\":{\"field\":\"y0\"},\"y1\":{\"field\":\"y1\"}},\"id\":\"1038\",\"type\":\"Segment\"},{\"attributes\":{\"below\":[{\"id\":\"1014\"}],\"center\":[{\"id\":\"1017\"},{\"id\":\"1021\"}],\"height\":210,\"left\":[{\"id\":\"1018\"}],\"renderers\":[{\"id\":\"1040\"},{\"id\":\"1046\"},{\"id\":\"1052\"},{\"id\":\"1058\"},{\"id\":\"1066\"},{\"id\":\"1072\"},{\"id\":\"1078\"}],\"title\":{\"id\":\"1004\"},\"toolbar\":{\"id\":\"1029\"},\"toolbar_location\":null,\"x_range\":{\"id\":\"1006\"},\"x_scale\":{\"id\":\"1010\"},\"y_range\":{\"id\":\"1008\"},\"y_scale\":{\"id\":\"1012\"}},\"id\":\"1003\",\"subtype\":\"Figure\",\"type\":\"Plot\"},{\"attributes\":{\"source\":{\"id\":\"1036\"}},\"id\":\"1041\",\"type\":\"CDSView\"},{\"attributes\":{},\"id\":\"1137\",\"type\":\"Selection\"},{\"attributes\":{\"coordinates\":null,\"data_source\":{\"id\":\"1062\"},\"glyph\":{\"id\":\"1063\"},\"group\":null,\"hover_glyph\":null,\"muted_glyph\":{\"id\":\"1065\"},\"nonselection_glyph\":{\"id\":\"1064\"},\"view\":{\"id\":\"1067\"}},\"id\":\"1066\",\"type\":\"GlyphRenderer\"},{\"attributes\":{\"line_alpha\":{\"value\":0.2},\"line_color\":{\"value\":\"red\"},\"x0\":{\"field\":\"x0\"},\"x1\":{\"field\":\"x1\"},\"y0\":{\"field\":\"y0\"},\"y1\":{\"field\":\"y1\"}},\"id\":\"1039\",\"type\":\"Segment\"},{\"attributes\":{\"data\":{\"x\":{\"__ndarray__\":\"AAAAAAEAAAACAAAAAwAAAAQAAAAFAAAABgAAAAcAAAAIAAAACQAAAAoAAAALAAAADAAAAA0AAAAOAAAADwAAABAAAAARAAAAEgAAABMAAAAUAAAAFQAAABYAAAAXAAAAGAAAABkAAAAaAAAAGwAAABwAAAA=\",\"dtype\":\"int32\",\"order\":\"little\",\"shape\":[29]},\"y\":{\"__ndarray__\":\"AAAAAAAA+H8AAAAAAAD4fwAAAAAAAPh/AAAAAAAA+H8AAAAAwAnzQAAAAABAAvNAAAAAAMAE80AAAAAAgBfzQAAAAAAAJPNAAAAAAIAX80AAAAAAQBHzQAAAAACA+fJAAAAAAADZ8kAAAAAAgMfyQAAAAABAsvJAAAAAAECU8kAAAAAAwG7yQAAAAABASfJAAAAAAEAI8kAAAAAAgOvxQAAAAAAA1fFAAAAAAADV8UAAAAAAQNHxQAAAAADA7PFAAAAAAED+8UAAAAAAgBjyQAAAAADAI/JAAAAAAIAs8kAAAAAAAC/yQA==\",\"dtype\":\"float64\",\"order\":\"little\",\"shape\":[29]}},\"selected\":{\"id\":\"1141\"},\"selection_policy\":{\"id\":\"1140\"}},\"id\":\"1062\",\"type\":\"ColumnDataSource\"},{\"attributes\":{\"coordinates\":null,\"group\":null},\"id\":\"1148\",\"type\":\"Title\"},{\"attributes\":{\"line_color\":\"#1f77b4\",\"x\":{\"field\":\"x\"},\"y\":{\"field\":\"y\"}},\"id\":\"1063\",\"type\":\"Line\"},{\"attributes\":{\"end\":79800,\"start\":71200},\"id\":\"1008\",\"type\":\"Range1d\"},{\"attributes\":{\"source\":{\"id\":\"1062\"}},\"id\":\"1067\",\"type\":\"CDSView\"},{\"attributes\":{\"end\":29,\"start\":-1},\"id\":\"1006\",\"type\":\"Range1d\"},{\"attributes\":{\"line_alpha\":0.2,\"line_color\":\"#1f77b4\",\"x\":{\"field\":\"x\"},\"y\":{\"field\":\"y\"}},\"id\":\"1065\",\"type\":\"Line\"},{\"attributes\":{},\"id\":\"1015\",\"type\":\"BasicTicker\"},{\"attributes\":{\"axis\":{\"id\":\"1014\"},\"coordinates\":null,\"group\":null,\"ticker\":null},\"id\":\"1017\",\"type\":\"Grid\"},{\"attributes\":{\"line_alpha\":0.1,\"line_color\":\"#1f77b4\",\"x\":{\"field\":\"x\"},\"y\":{\"field\":\"y\"}},\"id\":\"1064\",\"type\":\"Line\"},{\"attributes\":{},\"id\":\"1010\",\"type\":\"LinearScale\"},{\"attributes\":{},\"id\":\"1027\",\"type\":\"HelpTool\"},{\"attributes\":{\"coordinates\":null,\"group\":null,\"text\":\"\\uc0bc\\uc131\\uc804\\uc790(005930)\"},\"id\":\"1004\",\"type\":\"Title\"},{\"attributes\":{\"coordinates\":null,\"formatter\":{\"id\":\"1060\"},\"group\":null,\"major_label_policy\":{\"id\":\"1128\"},\"ticker\":{\"id\":\"1019\"}},\"id\":\"1018\",\"type\":\"LinearAxis\"},{\"attributes\":{},\"id\":\"1012\",\"type\":\"LinearScale\"},{\"attributes\":{\"coordinates\":null,\"data_source\":{\"id\":\"1068\"},\"glyph\":{\"id\":\"1069\"},\"group\":null,\"hover_glyph\":null,\"muted_glyph\":{\"id\":\"1071\"},\"nonselection_glyph\":{\"id\":\"1070\"},\"view\":{\"id\":\"1073\"}},\"id\":\"1072\",\"type\":\"GlyphRenderer\"},{\"attributes\":{\"coordinates\":null,\"formatter\":{\"id\":\"1130\"},\"group\":null,\"major_label_policy\":{\"id\":\"1131\"},\"ticker\":{\"id\":\"1015\"},\"visible\":false},\"id\":\"1014\",\"type\":\"LinearAxis\"},{\"attributes\":{\"data\":{\"x\":{\"__ndarray__\":\"AAAAAAEAAAACAAAAAwAAAAQAAAAFAAAABgAAAAcAAAAIAAAACQAAAAoAAAALAAAADAAAAA0AAAAOAAAADwAAABAAAAARAAAAEgAAABMAAAAUAAAAFQAAABYAAAAXAAAAGAAAABkAAAAaAAAAGwAAABwAAAA=\",\"dtype\":\"int32\",\"order\":\"little\",\"shape\":[29]},\"y\":{\"__ndarray__\":\"AAAAAAAA+H8AAAAAAAD4fwAAAAAAAPh/AAAAAAAA+H8AAAAAAAD4fwAAAAAAAPh/AAAAAAAA+H8AAAAAAAD4fwAAAAAAAPh/AAAAAAAA+H8AAAAAAAD4fwAAAAAAAPh/AAAAAAAA+H8AAAAAAAD4fwAAAAAAAPh/AAAAAAAA+H8AAAAAAAD4fwAAAAAAAPh/AAAAAAAA+H8AAAAAwK/yQAAAAAAwn/JAAAAAAICQ8kAAAAAAwILyQAAAAAAgePJAAAAAAOBs8kAAAAAAwGTyQAAAAABAWPJAAAAAAABI8kAAAAAA4DryQA==\",\"dtype\":\"float64\",\"order\":\"little\",\"shape\":[29]}},\"selected\":{\"id\":\"1143\"},\"selection_policy\":{\"id\":\"1142\"}},\"id\":\"1068\",\"type\":\"ColumnDataSource\"},{\"attributes\":{},\"id\":\"1138\",\"type\":\"UnionRenderers\"},{\"attributes\":{\"line_color\":\"#ff7f0e\",\"x\":{\"field\":\"x\"},\"y\":{\"field\":\"y\"}},\"id\":\"1069\",\"type\":\"Line\"},{\"attributes\":{\"axis\":{\"id\":\"1018\"},\"coordinates\":null,\"dimension\":1,\"group\":null,\"ticker\":null},\"id\":\"1021\",\"type\":\"Grid\"},{\"attributes\":{\"source\":{\"id\":\"1068\"}},\"id\":\"1073\",\"type\":\"CDSView\"},{\"attributes\":{},\"id\":\"1139\",\"type\":\"Selection\"},{\"attributes\":{\"line_alpha\":0.2,\"line_color\":\"#ff7f0e\",\"x\":{\"field\":\"x\"},\"y\":{\"field\":\"y\"}},\"id\":\"1071\",\"type\":\"Line\"},{\"attributes\":{},\"id\":\"1019\",\"type\":\"BasicTicker\"},{\"attributes\":{\"line_color\":{\"value\":\"blue\"},\"x0\":{\"field\":\"x0\"},\"x1\":{\"field\":\"x1\"},\"y0\":{\"field\":\"y0\"},\"y1\":{\"field\":\"y1\"}},\"id\":\"1043\",\"type\":\"Segment\"},{\"attributes\":{\"data\":{\"x0\":{\"__ndarray__\":\"AAAAAAEAAAACAAAABQAAAAcAAAAIAAAACQAAAAoAAAALAAAADAAAAA4AAAAPAAAAEAAAABEAAAASAAAAFAAAABUAAAAWAAAAFwAAABkAAAAaAAAAGwAAABwAAAA=\",\"dtype\":\"int32\",\"order\":\"little\",\"shape\":[23]},\"x1\":{\"__ndarray__\":\"AAAAAAEAAAACAAAABQAAAAcAAAAIAAAACQAAAAoAAAALAAAADAAAAA4AAAAPAAAAEAAAABEAAAASAAAAFAAAABUAAAAWAAAAFwAAABkAAAAaAAAAGwAAABwAAAA=\",\"dtype\":\"int32\",\"order\":\"little\",\"shape\":[23]},\"y0\":[79800,79200,79000,78100,79600,79300,78100,77800,77800,76900,75800,75800,75000,74400,74000,74900,74600,73600,74200,75800,75500,74500,74200],\"y1\":[78200,78300,76400,77100,78600,77900,77100,76900,76600,76100,74700,74700,73200,73100,71300,73300,73400,72400,73000,74700,74600,73100,73100]},\"selected\":{\"id\":\"1135\"},\"selection_policy\":{\"id\":\"1134\"}},\"id\":\"1042\",\"type\":\"ColumnDataSource\"},{\"attributes\":{},\"id\":\"1023\",\"type\":\"WheelZoomTool\"},{\"attributes\":{\"line_alpha\":{\"value\":0.1},\"line_color\":{\"value\":\"blue\"},\"x0\":{\"field\":\"x0\"},\"x1\":{\"field\":\"x1\"},\"y0\":{\"field\":\"y0\"},\"y1\":{\"field\":\"y1\"}},\"id\":\"1044\",\"type\":\"Segment\"},{\"attributes\":{\"line_alpha\":0.1,\"line_color\":\"#ff7f0e\",\"x\":{\"field\":\"x\"},\"y\":{\"field\":\"y\"}},\"id\":\"1070\",\"type\":\"Line\"},{\"attributes\":{},\"id\":\"1022\",\"type\":\"PanTool\"},{\"attributes\":{\"overlay\":{\"id\":\"1028\"}},\"id\":\"1024\",\"type\":\"BoxZoomTool\"},{\"attributes\":{\"source\":{\"id\":\"1042\"}},\"id\":\"1047\",\"type\":\"CDSView\"},{\"attributes\":{},\"id\":\"1025\",\"type\":\"SaveTool\"},{\"attributes\":{},\"id\":\"1026\",\"type\":\"ResetTool\"},{\"attributes\":{\"line_alpha\":{\"value\":0.2},\"line_color\":{\"value\":\"blue\"},\"x0\":{\"field\":\"x0\"},\"x1\":{\"field\":\"x1\"},\"y0\":{\"field\":\"y0\"},\"y1\":{\"field\":\"y1\"}},\"id\":\"1045\",\"type\":\"Segment\"},{\"attributes\":{},\"id\":\"1128\",\"type\":\"AllLabels\"},{\"attributes\":{\"coordinates\":null,\"data_source\":{\"id\":\"1074\"},\"glyph\":{\"id\":\"1075\"},\"group\":null,\"hover_glyph\":null,\"muted_glyph\":{\"id\":\"1077\"},\"nonselection_glyph\":{\"id\":\"1076\"},\"view\":{\"id\":\"1079\"}},\"id\":\"1078\",\"type\":\"GlyphRenderer\"},{\"attributes\":{},\"id\":\"1151\",\"type\":\"AllLabels\"},{\"attributes\":{\"coordinates\":null,\"data_source\":{\"id\":\"1042\"},\"glyph\":{\"id\":\"1043\"},\"group\":null,\"hover_glyph\":null,\"muted_glyph\":{\"id\":\"1045\"},\"nonselection_glyph\":{\"id\":\"1044\"},\"view\":{\"id\":\"1047\"}},\"id\":\"1046\",\"type\":\"GlyphRenderer\"},{\"attributes\":{\"data\":{\"x\":{\"__ndarray__\":\"AAAAAAEAAAACAAAAAwAAAAQAAAAFAAAABgAAAAcAAAAIAAAACQAAAAoAAAALAAAADAAAAA0AAAAOAAAADwAAABAAAAARAAAAEgAAABMAAAAUAAAAFQAAABYAAAAXAAAAGAAAABkAAAAaAAAAGwAAABwAAAA=\",\"dtype\":\"int32\",\"order\":\"little\",\"shape\":[29]},\"y\":{\"__ndarray__\":\"AAAAAAAA+H8AAAAAAAD4fwAAAAAAAPh/AAAAAAAA+H8AAAAAAAD4fwAAAAAAAPh/AAAAAAAA+H8AAAAAAAD4fwAAAAAAAPh/AAAAAAAA+H8AAAAAAAD4fwAAAAAAAPh/AAAAAAAA+H8AAAAAAAD4fwAAAAAAAPh/AAAAAAAA+H8AAAAAAAD4fwAAAAAAAPh/AAAAAAAA+H8AAAAAAAD4fwAAAAAAAPh/AAAAAAAA+H8AAAAAAAD4fwAAAAAAAPh/AAAAAAAA+H8AAAAAAAD4fwAAAAAAAPh/AAAAAAAA+H8AAAAAAAD4fw==\",\"dtype\":\"float64\",\"order\":\"little\",\"shape\":[29]}},\"selected\":{\"id\":\"1145\"},\"selection_policy\":{\"id\":\"1144\"}},\"id\":\"1074\",\"type\":\"ColumnDataSource\"},{\"attributes\":{},\"id\":\"1130\",\"type\":\"BasicTickFormatter\"},{\"attributes\":{\"bottom_units\":\"screen\",\"coordinates\":null,\"fill_alpha\":0.5,\"fill_color\":\"lightgrey\",\"group\":null,\"left_units\":\"screen\",\"level\":\"overlay\",\"line_alpha\":1.0,\"line_color\":\"black\",\"line_dash\":[4,4],\"line_width\":2,\"right_units\":\"screen\",\"syncable\":false,\"top_units\":\"screen\"},\"id\":\"1028\",\"type\":\"BoxAnnotation\"},{\"attributes\":{\"line_color\":\"#2ca02c\",\"x\":{\"field\":\"x\"},\"y\":{\"field\":\"y\"}},\"id\":\"1075\",\"type\":\"Line\"},{\"attributes\":{\"tools\":[{\"id\":\"1022\"},{\"id\":\"1023\"},{\"id\":\"1024\"},{\"id\":\"1025\"},{\"id\":\"1026\"},{\"id\":\"1027\"}]},\"id\":\"1029\",\"type\":\"Toolbar\"},{\"attributes\":{},\"id\":\"1131\",\"type\":\"AllLabels\"},{\"attributes\":{\"line_alpha\":0.1,\"line_color\":\"#2ca02c\",\"x\":{\"field\":\"x\"},\"y\":{\"field\":\"y\"}},\"id\":\"1076\",\"type\":\"Line\"},{\"attributes\":{},\"id\":\"1153\",\"type\":\"AllLabels\"},{\"attributes\":{\"line_alpha\":0.2,\"line_color\":\"#2ca02c\",\"x\":{\"field\":\"x\"},\"y\":{\"field\":\"y\"}},\"id\":\"1077\",\"type\":\"Line\"},{\"attributes\":{\"source\":{\"id\":\"1074\"}},\"id\":\"1079\",\"type\":\"CDSView\"},{\"attributes\":{},\"id\":\"1101\",\"type\":\"HelpTool\"},{\"attributes\":{},\"id\":\"1154\",\"type\":\"UnionRenderers\"},{\"attributes\":{},\"id\":\"1155\",\"type\":\"Selection\"},{\"attributes\":{\"axis\":{\"id\":\"1092\"},\"coordinates\":null,\"dimension\":1,\"group\":null,\"ticker\":null},\"id\":\"1095\",\"type\":\"Grid\"},{\"attributes\":{\"coordinates\":null,\"formatter\":{\"id\":\"1122\"},\"group\":null,\"major_label_policy\":{\"id\":\"1151\"},\"ticker\":{\"id\":\"1093\"}},\"id\":\"1092\",\"type\":\"LinearAxis\"},{\"attributes\":{},\"id\":\"1093\",\"type\":\"BasicTicker\"},{\"attributes\":{},\"id\":\"1097\",\"type\":\"WheelZoomTool\"},{\"attributes\":{},\"id\":\"1096\",\"type\":\"PanTool\"},{\"attributes\":{\"overlay\":{\"id\":\"1102\"}},\"id\":\"1098\",\"type\":\"BoxZoomTool\"},{\"attributes\":{},\"id\":\"1099\",\"type\":\"SaveTool\"},{\"attributes\":{\"range_padding\":0},\"id\":\"1082\",\"type\":\"DataRange1d\"},{\"attributes\":{},\"id\":\"1100\",\"type\":\"ResetTool\"},{\"attributes\":{},\"id\":\"1086\",\"type\":\"LinearScale\"},{\"attributes\":{},\"id\":\"1084\",\"type\":\"LinearScale\"},{\"attributes\":{\"bottom_units\":\"screen\",\"coordinates\":null,\"fill_alpha\":0.5,\"fill_color\":\"lightgrey\",\"group\":null,\"left_units\":\"screen\",\"level\":\"overlay\",\"line_alpha\":1.0,\"line_color\":\"black\",\"line_dash\":[4,4],\"line_width\":2,\"right_units\":\"screen\",\"syncable\":false,\"top_units\":\"screen\"},\"id\":\"1102\",\"type\":\"BoxAnnotation\"},{\"attributes\":{},\"id\":\"1156\",\"type\":\"UnionRenderers\"},{\"attributes\":{},\"id\":\"1089\",\"type\":\"BasicTicker\"},{\"attributes\":{},\"id\":\"1157\",\"type\":\"Selection\"},{\"attributes\":{},\"id\":\"1134\",\"type\":\"UnionRenderers\"},{\"attributes\":{\"coordinates\":null,\"formatter\":{\"id\":\"1124\"},\"group\":null,\"major_label_orientation\":0.6283185307179586,\"major_label_overrides\":{\"0\":\"2022-01-03\",\"1\":\"2022-01-04\",\"10\":\"2022-01-17\",\"11\":\"2022-01-18\",\"12\":\"2022-01-19\",\"13\":\"2022-01-20\",\"14\":\"2022-01-21\",\"15\":\"2022-01-24\",\"16\":\"2022-01-25\",\"17\":\"2022-01-26\",\"18\":\"2022-01-27\",\"19\":\"2022-01-28\",\"2\":\"2022-01-05\",\"20\":\"2022-02-03\",\"21\":\"2022-02-04\",\"22\":\"2022-02-07\",\"23\":\"2022-02-08\",\"24\":\"2022-02-09\",\"25\":\"2022-02-10\",\"26\":\"2022-02-11\",\"27\":\"2022-02-14\",\"28\":\"2022-02-15\",\"29\":\"\",\"3\":\"2022-01-06\",\"4\":\"2022-01-07\",\"5\":\"2022-01-10\",\"6\":\"2022-01-11\",\"7\":\"2022-01-12\",\"8\":\"2022-01-13\",\"9\":\"2022-01-14\"},\"major_label_policy\":{\"id\":\"1153\"},\"ticker\":{\"id\":\"1089\"}},\"id\":\"1088\",\"type\":\"LinearAxis\"},{\"attributes\":{},\"id\":\"1135\",\"type\":\"Selection\"},{\"attributes\":{\"axis\":{\"id\":\"1088\"},\"coordinates\":null,\"group\":null,\"ticker\":null},\"id\":\"1091\",\"type\":\"Grid\"},{\"attributes\":{\"fill_color\":{\"value\":\"red\"},\"top\":{\"field\":\"top\"},\"width\":{\"value\":0.8},\"x\":{\"field\":\"x\"}},\"id\":\"1111\",\"type\":\"VBar\"},{\"attributes\":{\"tools\":[{\"id\":\"1096\"},{\"id\":\"1097\"},{\"id\":\"1098\"},{\"id\":\"1099\"},{\"id\":\"1100\"},{\"id\":\"1101\"}]},\"id\":\"1103\",\"type\":\"Toolbar\"},{\"attributes\":{\"data\":{\"top\":[25470640,15163757,13221123,13889401,9592788,10598290,15774888,17766704,22274777,14240838,17746033,13993255],\"x\":{\"__ndarray__\":\"AgAAAAQAAAAGAAAACAAAAAsAAAAMAAAADgAAABAAAAASAAAAFgAAABkAAAAbAAAA\",\"dtype\":\"int32\",\"order\":\"little\",\"shape\":[12]}},\"selected\":{\"id\":\"1155\"},\"selection_policy\":{\"id\":\"1154\"}},\"id\":\"1110\",\"type\":\"ColumnDataSource\"},{\"attributes\":{\"fill_alpha\":{\"value\":0.1},\"fill_color\":{\"value\":\"red\"},\"hatch_alpha\":{\"value\":0.1},\"line_alpha\":{\"value\":0.1},\"top\":{\"field\":\"top\"},\"width\":{\"value\":0.8},\"x\":{\"field\":\"x\"}},\"id\":\"1112\",\"type\":\"VBar\"},{\"attributes\":{\"fill_color\":{\"value\":\"blue\"},\"top\":{\"field\":\"top\"},\"width\":{\"value\":0.8},\"x\":{\"field\":\"x\"}},\"id\":\"1117\",\"type\":\"VBar\"},{\"attributes\":{\"fill_alpha\":{\"value\":0.2},\"fill_color\":{\"value\":\"red\"},\"hatch_alpha\":{\"value\":0.2},\"line_alpha\":{\"value\":0.2},\"top\":{\"field\":\"top\"},\"width\":{\"value\":0.8},\"x\":{\"field\":\"x\"}},\"id\":\"1113\",\"type\":\"VBar\"},{\"attributes\":{\"coordinates\":null,\"data_source\":{\"id\":\"1110\"},\"glyph\":{\"id\":\"1111\"},\"group\":null,\"hover_glyph\":null,\"muted_glyph\":{\"id\":\"1113\"},\"nonselection_glyph\":{\"id\":\"1112\"},\"view\":{\"id\":\"1115\"}},\"id\":\"1114\",\"type\":\"GlyphRenderer\"},{\"attributes\":{\"source\":{\"id\":\"1110\"}},\"id\":\"1115\",\"type\":\"CDSView\"}],\"root_ids\":[\"1163\"]},\"title\":\"Bokeh Application\",\"version\":\"2.4.2\"}};\n",
              "  const render_items = [{\"docid\":\"b237164f-4570-4381-92ab-898d558c5a0b\",\"root_ids\":[\"1163\"],\"roots\":{\"1163\":\"e43e5597-3864-480d-b618-beae90adce2c\"}}];\n",
              "  root.Bokeh.embed.embed_items_notebook(docs_json, render_items);\n",
              "\n",
              "  }\n",
              "  if (root.Bokeh !== undefined) {\n",
              "    embed_document(root);\n",
              "  } else {\n",
              "    let attempts = 0;\n",
              "    const timer = setInterval(function(root) {\n",
              "      if (root.Bokeh !== undefined) {\n",
              "        clearInterval(timer);\n",
              "        embed_document(root);\n",
              "      } else {\n",
              "        attempts++;\n",
              "        if (attempts > 100) {\n",
              "          clearInterval(timer);\n",
              "          console.log(\"Bokeh: ERROR: Unable to run BokehJS code because BokehJS library is missing\");\n",
              "        }\n",
              "      }\n",
              "    }, 10, root)\n",
              "  }\n",
              "})(window);"
            ],
            "application/vnd.bokehjs_exec.v0+json": ""
          },
          "metadata": {
            "application/vnd.bokehjs_exec.v0+json": {
              "id": "1163"
            }
          },
          "output_type": "display_data"
        }
      ],
      "source": [
        "df = fdr.DataReader('005930', '2022-01-01', '2022-02-15')\n",
        "\n",
        "my_config = {'title':'fdr.chart.config()를 사용하여 설정을 한번에 지정할 수 있습니다', \n",
        "          'width': 600, \n",
        "          'height': 300,\n",
        "          'volume': True,\n",
        "}\n",
        "fdr.chart.config(config=my_config)\n",
        "fdr.chart.plot(df, title='삼성전자(005930)')"
      ]
    },
    {
      "cell_type": "code",
      "execution_count": null,
      "id": "a2c6ef3b-975e-49cf-b31d-913133ef63f1",
      "metadata": {
        "id": "a2c6ef3b-975e-49cf-b31d-913133ef63f1"
      },
      "outputs": [],
      "source": [
        ""
      ]
    },
    {
      "cell_type": "markdown",
      "id": "7b59b551-6eff-4cb4-a771-6b3ce04805bc",
      "metadata": {
        "id": "7b59b551-6eff-4cb4-a771-6b3ce04805bc"
      },
      "source": [
        "<img src=\"data:image/png;base64,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\">"
      ]
    },
    {
      "cell_type": "markdown",
      "id": "0c0ffbb3-cb47-4e47-9864-89e9af1d3127",
      "metadata": {
        "tags": [],
        "id": "0c0ffbb3-cb47-4e47-9864-89e9af1d3127"
      },
      "source": [
        "## yahoo finance\n",
        "* ref : https://github.com/ranaroussi/yfinance/\n",
        "* ref : https://pypi.org/project/yfinance/"
      ]
    },
    {
      "cell_type": "code",
      "execution_count": null,
      "id": "516d9368-62ed-403d-b202-aa148a7f6e6a",
      "metadata": {
        "id": "516d9368-62ed-403d-b202-aa148a7f6e6a"
      },
      "outputs": [],
      "source": [
        "# ! pip install yfinance\n",
        "# XXXXX #! pip install yahoo-finance  <구버전>"
      ]
    },
    {
      "cell_type": "code",
      "execution_count": null,
      "id": "3a11aa0b-8f1a-41f6-add6-b4b167e4db58",
      "metadata": {
        "tags": [],
        "id": "3a11aa0b-8f1a-41f6-add6-b4b167e4db58"
      },
      "outputs": [],
      "source": [
        "import yfinance as yf"
      ]
    },
    {
      "cell_type": "code",
      "execution_count": null,
      "id": "c3e4fa6e-41cf-4ca5-a8f6-631a9c1ccba0",
      "metadata": {
        "id": "c3e4fa6e-41cf-4ca5-a8f6-631a9c1ccba0",
        "outputId": "a0968a5f-c777-4a2f-8418-bb6062559e3d"
      },
      "outputs": [
        {
          "data": {
            "text/html": [
              "<div>\n",
              "<style scoped>\n",
              "    .dataframe tbody tr th:only-of-type {\n",
              "        vertical-align: middle;\n",
              "    }\n",
              "\n",
              "    .dataframe tbody tr th {\n",
              "        vertical-align: top;\n",
              "    }\n",
              "\n",
              "    .dataframe thead th {\n",
              "        text-align: right;\n",
              "    }\n",
              "</style>\n",
              "<table border=\"1\" class=\"dataframe\">\n",
              "  <thead>\n",
              "    <tr style=\"text-align: right;\">\n",
              "      <th></th>\n",
              "      <th>Open</th>\n",
              "      <th>High</th>\n",
              "      <th>Low</th>\n",
              "      <th>Close</th>\n",
              "      <th>Volume</th>\n",
              "      <th>Dividends</th>\n",
              "      <th>Stock Splits</th>\n",
              "    </tr>\n",
              "    <tr>\n",
              "      <th>Date</th>\n",
              "      <th></th>\n",
              "      <th></th>\n",
              "      <th></th>\n",
              "      <th></th>\n",
              "      <th></th>\n",
              "      <th></th>\n",
              "      <th></th>\n",
              "    </tr>\n",
              "  </thead>\n",
              "  <tbody>\n",
              "    <tr>\n",
              "      <th>2022-02-25</th>\n",
              "      <td>163.839996</td>\n",
              "      <td>164.0</td>\n",
              "      <td>161.990005</td>\n",
              "      <td>162.309998</td>\n",
              "      <td>4397728</td>\n",
              "      <td>0</td>\n",
              "      <td>0</td>\n",
              "    </tr>\n",
              "  </tbody>\n",
              "</table>\n",
              "</div>"
            ],
            "text/plain": [
              "                  Open   High         Low       Close   Volume  Dividends  \\\n",
              "Date                                                                        \n",
              "2022-02-25  163.839996  164.0  161.990005  162.309998  4397728          0   \n",
              "\n",
              "            Stock Splits  \n",
              "Date                      \n",
              "2022-02-25             0  "
            ]
          },
          "execution_count": 21,
          "metadata": {},
          "output_type": "execute_result"
        }
      ],
      "source": [
        "msft = yf.Ticker(\"AAPL\")\n",
        "\n",
        "# get stock info\n",
        "msft.info\n",
        "\n",
        "# get historical market data\n",
        "hist = msft.history(period=\"min\")\n",
        "hist.head()"
      ]
    },
    {
      "cell_type": "code",
      "execution_count": null,
      "id": "c9f6dc00-659b-4278-8ecf-ce15e5e3a2a2",
      "metadata": {
        "id": "c9f6dc00-659b-4278-8ecf-ce15e5e3a2a2"
      },
      "outputs": [],
      "source": [
        ""
      ]
    },
    {
      "cell_type": "markdown",
      "id": "c60b4d7a-5f72-4c5c-8e2b-2381512259f1",
      "metadata": {
        "id": "c60b4d7a-5f72-4c5c-8e2b-2381512259f1"
      },
      "source": [
        "<img src=\"data:image/png;base64,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\">"
      ]
    },
    {
      "cell_type": "markdown",
      "id": "81ffee0b-eda6-41a3-81ec-1e8ce0f522ed",
      "metadata": {
        "id": "81ffee0b-eda6-41a3-81ec-1e8ce0f522ed"
      },
      "source": [
        "## pandas_datareader"
      ]
    },
    {
      "cell_type": "code",
      "execution_count": null,
      "id": "12572d8c-7aaa-45f0-89a0-e74af3abedd8",
      "metadata": {
        "id": "12572d8c-7aaa-45f0-89a0-e74af3abedd8"
      },
      "outputs": [],
      "source": [
        "#! pip install pandas_datareader"
      ]
    },
    {
      "cell_type": "code",
      "execution_count": null,
      "id": "dabc1b51-2f34-4c7b-a547-2f956270d02b",
      "metadata": {
        "id": "dabc1b51-2f34-4c7b-a547-2f956270d02b"
      },
      "outputs": [],
      "source": [
        "from pandas_datareader import data as pdr"
      ]
    },
    {
      "cell_type": "code",
      "execution_count": null,
      "id": "674ff79f-f63a-4eab-9304-4d6cde7bef5e",
      "metadata": {
        "id": "674ff79f-f63a-4eab-9304-4d6cde7bef5e"
      },
      "outputs": [],
      "source": [
        "df_ss = pdr.get_data_yahoo('005930.KS', '2018-01-01', '2019-12-31')\n",
        "df_ms = pdr.get_data_yahoo('MSFT', '2018-01-01', '2019-12-31')"
      ]
    },
    {
      "cell_type": "code",
      "execution_count": null,
      "id": "61b02b3e-b273-4589-acb9-e50a9053c8f7",
      "metadata": {
        "id": "61b02b3e-b273-4589-acb9-e50a9053c8f7",
        "outputId": "689292ae-8f3c-4d36-fe3d-9e89cff723e4"
      },
      "outputs": [
        {
          "name": "stdout",
          "output_type": "stream",
          "text": [
            "<class 'pandas.core.frame.DataFrame'>\n",
            "DatetimeIndex: 490 entries, 2018-01-02 to 2019-12-30\n",
            "Data columns (total 6 columns):\n",
            " #   Column     Non-Null Count  Dtype  \n",
            "---  ------     --------------  -----  \n",
            " 0   High       490 non-null    float64\n",
            " 1   Low        490 non-null    float64\n",
            " 2   Open       490 non-null    float64\n",
            " 3   Close      490 non-null    float64\n",
            " 4   Volume     490 non-null    float64\n",
            " 5   Adj Close  490 non-null    float64\n",
            "dtypes: float64(6)\n",
            "memory usage: 26.8 KB\n"
          ]
        },
        {
          "data": {
            "text/html": [
              "<div>\n",
              "<style scoped>\n",
              "    .dataframe tbody tr th:only-of-type {\n",
              "        vertical-align: middle;\n",
              "    }\n",
              "\n",
              "    .dataframe tbody tr th {\n",
              "        vertical-align: top;\n",
              "    }\n",
              "\n",
              "    .dataframe thead th {\n",
              "        text-align: right;\n",
              "    }\n",
              "</style>\n",
              "<table border=\"1\" class=\"dataframe\">\n",
              "  <thead>\n",
              "    <tr style=\"text-align: right;\">\n",
              "      <th></th>\n",
              "      <th>High</th>\n",
              "      <th>Low</th>\n",
              "      <th>Open</th>\n",
              "      <th>Close</th>\n",
              "      <th>Volume</th>\n",
              "      <th>Adj Close</th>\n",
              "    </tr>\n",
              "    <tr>\n",
              "      <th>Date</th>\n",
              "      <th></th>\n",
              "      <th></th>\n",
              "      <th></th>\n",
              "      <th></th>\n",
              "      <th></th>\n",
              "      <th></th>\n",
              "    </tr>\n",
              "  </thead>\n",
              "  <tbody>\n",
              "    <tr>\n",
              "      <th>2018-01-02</th>\n",
              "      <td>51400.0</td>\n",
              "      <td>50780.0</td>\n",
              "      <td>51380.0</td>\n",
              "      <td>51020.0</td>\n",
              "      <td>8474250.0</td>\n",
              "      <td>45077.804688</td>\n",
              "    </tr>\n",
              "    <tr>\n",
              "      <th>2018-01-03</th>\n",
              "      <td>52560.0</td>\n",
              "      <td>51420.0</td>\n",
              "      <td>52540.0</td>\n",
              "      <td>51620.0</td>\n",
              "      <td>10013500.0</td>\n",
              "      <td>45607.921875</td>\n",
              "    </tr>\n",
              "    <tr>\n",
              "      <th>2018-01-04</th>\n",
              "      <td>52180.0</td>\n",
              "      <td>50640.0</td>\n",
              "      <td>52120.0</td>\n",
              "      <td>51080.0</td>\n",
              "      <td>11695450.0</td>\n",
              "      <td>45130.816406</td>\n",
              "    </tr>\n",
              "    <tr>\n",
              "      <th>2018-01-05</th>\n",
              "      <td>52120.0</td>\n",
              "      <td>51200.0</td>\n",
              "      <td>51300.0</td>\n",
              "      <td>52120.0</td>\n",
              "      <td>9481150.0</td>\n",
              "      <td>46049.687500</td>\n",
              "    </tr>\n",
              "    <tr>\n",
              "      <th>2018-01-08</th>\n",
              "      <td>52520.0</td>\n",
              "      <td>51500.0</td>\n",
              "      <td>52400.0</td>\n",
              "      <td>52020.0</td>\n",
              "      <td>8383650.0</td>\n",
              "      <td>45961.335938</td>\n",
              "    </tr>\n",
              "  </tbody>\n",
              "</table>\n",
              "</div>"
            ],
            "text/plain": [
              "               High      Low     Open    Close      Volume     Adj Close\n",
              "Date                                                                    \n",
              "2018-01-02  51400.0  50780.0  51380.0  51020.0   8474250.0  45077.804688\n",
              "2018-01-03  52560.0  51420.0  52540.0  51620.0  10013500.0  45607.921875\n",
              "2018-01-04  52180.0  50640.0  52120.0  51080.0  11695450.0  45130.816406\n",
              "2018-01-05  52120.0  51200.0  51300.0  52120.0   9481150.0  46049.687500\n",
              "2018-01-08  52520.0  51500.0  52400.0  52020.0   8383650.0  45961.335938"
            ]
          },
          "execution_count": 25,
          "metadata": {},
          "output_type": "execute_result"
        }
      ],
      "source": [
        "df_ss.info()\n",
        "df_ss.head()"
      ]
    },
    {
      "cell_type": "markdown",
      "id": "e58a4214-84a5-4b7e-b3d3-48d6030a9ea2",
      "metadata": {
        "id": "e58a4214-84a5-4b7e-b3d3-48d6030a9ea2"
      },
      "source": [
        "# 기술적 지표 관련 "
      ]
    },
    {
      "cell_type": "markdown",
      "id": "970fa979-4a53-436d-925a-351d84efc776",
      "metadata": {
        "id": "970fa979-4a53-436d-925a-351d84efc776"
      },
      "source": [
        "<img src=\"data:image/jpeg;base64,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\">"
      ]
    },
    {
      "cell_type": "markdown",
      "id": "3cc3cfa0-6283-4f8b-bb51-b7aa0d3d5683",
      "metadata": {
        "id": "3cc3cfa0-6283-4f8b-bb51-b7aa0d3d5683"
      },
      "source": [
        "## TA-LIB"
      ]
    },
    {
      "cell_type": "markdown",
      "id": "e6936d97-e35b-4b21-9245-5b9d6db63a27",
      "metadata": {
        "jp-MarkdownHeadingCollapsed": true,
        "tags": [],
        "id": "e6936d97-e35b-4b21-9245-5b9d6db63a27"
      },
      "source": [
        "TA-LIB download ( TA_Lib‑0.4.24‑cp38‑cp38‑win_amd64.whl )\n",
        "* ref : https://www.lfd.uci.edu/~gohlke/pythonlibs/#ta-lib\n",
        "* ref : https://github.com/mrjbq7/ta-lib"
      ]
    },
    {
      "cell_type": "code",
      "execution_count": null,
      "id": "07da96c7-b076-4a9d-bca4-47b03954e7f8",
      "metadata": {
        "id": "07da96c7-b076-4a9d-bca4-47b03954e7f8"
      },
      "outputs": [],
      "source": [
        "# ! pip install TA_Lib-0.4.24-cp38-cp38-win_amd64.whl"
      ]
    },
    {
      "cell_type": "code",
      "execution_count": null,
      "id": "6ff73776-d11f-463c-adef-5b9670da55ab",
      "metadata": {
        "id": "6ff73776-d11f-463c-adef-5b9670da55ab",
        "outputId": "1f6972d2-a19e-47b6-a576-a1ea15b7cc20"
      },
      "outputs": [
        {
          "name": "stdout",
          "output_type": "stream",
          "text": [
            "(array([         nan,          nan,          nan,          nan,\n",
            "                nan,          nan,          nan,          nan,\n",
            "                nan,          nan,          nan,          nan,\n",
            "                nan,          nan,          nan,          nan,\n",
            "                nan,          nan,          nan,          nan,\n",
            "         0.        , 100.        , 100.        ,  84.64423142,\n",
            "       100.        ,   0.        ,  43.23593999,  46.67707746,\n",
            "        77.66604672, 100.        , 100.        ,  84.18835197,\n",
            "         0.        ,   0.        ,  55.36716518,  54.87437786,\n",
            "        52.71995752,  21.46515082, 100.        ,  47.11413581,\n",
            "        85.4098417 ,  42.86202411, 100.        ,   0.        ,\n",
            "        96.87024781,  35.34131885,  47.30258278, 100.        ,\n",
            "        73.40871582,   0.        ,  35.55490973,   0.        ,\n",
            "         0.        ,  70.40137242,  22.62260783,  47.69244513,\n",
            "       100.        , 100.        ,   8.07130349,   0.        ,\n",
            "        68.49311521,  16.46248575,   0.        , 100.        ,\n",
            "        59.87896165, 100.        ,  46.97852903,   0.        ,\n",
            "        71.94629021,  15.72391467,  40.97166839,  13.87144548,\n",
            "         0.        , 100.        ,   1.32270086,   0.        ,\n",
            "        41.16722542,  36.66290993,  76.03970738,  88.76199306,\n",
            "       100.        ,  33.21608849, 100.        ,  36.09604186,\n",
            "         0.        ,  72.16914034,  49.90432562, 100.        ,\n",
            "        99.86932044,   0.        ,   2.91256839,  23.76766688,\n",
            "        41.84027394, 100.        ,   5.88325682,  80.57487466,\n",
            "         0.        ,  58.6454878 ,  26.91101288,  63.35170429]), array([        nan,         nan,         nan,         nan,         nan,\n",
            "               nan,         nan,         nan,         nan,         nan,\n",
            "               nan,         nan,         nan,         nan,         nan,\n",
            "               nan,         nan,         nan,         nan,         nan,\n",
            "       15.09841159, 48.43174493, 66.66666667, 94.88141047, 94.88141047,\n",
            "       61.54807714, 47.74531333, 29.97100582, 55.85968806, 74.78104139,\n",
            "       92.55534891, 94.72945066, 61.39611732, 28.06278399, 18.45572173,\n",
            "       36.74718101, 54.32050019, 43.01982873, 58.06170278, 56.19309554,\n",
            "       77.5079925 , 58.46200054, 76.09062194, 47.6206747 , 65.62341594,\n",
            "       44.07052222, 59.83804981, 60.88130054, 73.57043287, 57.80290527,\n",
            "       36.32120852, 11.85163658, 11.85163658, 23.46712414, 31.00799342,\n",
            "       46.90547513, 56.77168432, 82.56414838, 69.35710116, 36.02376783,\n",
            "       25.5214729 , 28.31853365, 28.31853365, 38.82082858, 53.29298722,\n",
            "       86.62632055, 68.95249689, 48.99284301, 39.64160641, 29.22340163,\n",
            "       42.88062442, 23.52234284, 18.28103795, 37.95714849, 33.77423362,\n",
            "       33.77423362, 14.16330876, 25.94337845, 51.28994757, 67.15487012,\n",
            "       88.26723348, 73.99269385, 77.73869616, 56.43737678, 45.36534729,\n",
            "       36.08839406, 40.69115532, 74.02448865, 83.25788202, 66.62310681,\n",
            "       34.26062961,  8.89341176, 22.84016974, 55.20264694, 49.24117692,\n",
            "       62.15271049, 28.81937716, 46.40678749, 28.51883356, 49.63606832]))\n",
            "(array([         nan,          nan,          nan,          nan,\n",
            "                nan,          nan,          nan,          nan,\n",
            "                nan,          nan,          nan,          nan,\n",
            "                nan,          nan,          nan,          nan,\n",
            "                nan,          nan,          nan,          nan,\n",
            "         0.        , 100.        , 100.        ,  84.64423142,\n",
            "       100.        ,   0.        ,  43.23593999,  46.67707746,\n",
            "        77.66604672, 100.        , 100.        ,  84.18835197,\n",
            "         0.        ,   0.        ,  55.36716518,  54.87437786,\n",
            "        52.71995752,  21.46515082, 100.        ,  47.11413581,\n",
            "        85.4098417 ,  42.86202411, 100.        ,   0.        ,\n",
            "        96.87024781,  35.34131885,  47.30258278, 100.        ,\n",
            "        73.40871582,   0.        ,  35.55490973,   0.        ,\n",
            "         0.        ,  70.40137242,  22.62260783,  47.69244513,\n",
            "       100.        , 100.        ,   8.07130349,   0.        ,\n",
            "        68.49311521,  16.46248575,   0.        , 100.        ,\n",
            "        59.87896165, 100.        ,  46.97852903,   0.        ,\n",
            "        71.94629021,  15.72391467,  40.97166839,  13.87144548,\n",
            "         0.        , 100.        ,   1.32270086,   0.        ,\n",
            "        41.16722542,  36.66290993,  76.03970738,  88.76199306,\n",
            "       100.        ,  33.21608849, 100.        ,  36.09604186,\n",
            "         0.        ,  72.16914034,  49.90432562, 100.        ,\n",
            "        99.86932044,   0.        ,   2.91256839,  23.76766688,\n",
            "        41.84027394, 100.        ,   5.88325682,  80.57487466,\n",
            "         0.        ,  58.6454878 ,  26.91101288,  63.35170429]), array([        nan,         nan,         nan,         nan,         nan,\n",
            "               nan,         nan,         nan,         nan,         nan,\n",
            "               nan,         nan,         nan,         nan,         nan,\n",
            "               nan,         nan,         nan,         nan,         nan,\n",
            "       15.09841159, 48.43174493, 66.66666667, 94.88141047, 94.88141047,\n",
            "       61.54807714, 47.74531333, 29.97100582, 55.85968806, 74.78104139,\n",
            "       92.55534891, 94.72945066, 61.39611732, 28.06278399, 18.45572173,\n",
            "       36.74718101, 54.32050019, 43.01982873, 58.06170278, 56.19309554,\n",
            "       77.5079925 , 58.46200054, 76.09062194, 47.6206747 , 65.62341594,\n",
            "       44.07052222, 59.83804981, 60.88130054, 73.57043287, 57.80290527,\n",
            "       36.32120852, 11.85163658, 11.85163658, 23.46712414, 31.00799342,\n",
            "       46.90547513, 56.77168432, 82.56414838, 69.35710116, 36.02376783,\n",
            "       25.5214729 , 28.31853365, 28.31853365, 38.82082858, 53.29298722,\n",
            "       86.62632055, 68.95249689, 48.99284301, 39.64160641, 29.22340163,\n",
            "       42.88062442, 23.52234284, 18.28103795, 37.95714849, 33.77423362,\n",
            "       33.77423362, 14.16330876, 25.94337845, 51.28994757, 67.15487012,\n",
            "       88.26723348, 73.99269385, 77.73869616, 56.43737678, 45.36534729,\n",
            "       36.08839406, 40.69115532, 74.02448865, 83.25788202, 66.62310681,\n",
            "       34.26062961,  8.89341176, 22.84016974, 55.20264694, 49.24117692,\n",
            "       62.15271049, 28.81937716, 46.40678749, 28.51883356, 49.63606832]))\n",
            "[        nan         nan         nan         nan         nan         nan\n",
            "         nan         nan         nan         nan         nan         nan\n",
            "         nan         nan 46.84009215 46.09256924 49.28493471 45.50914952\n",
            " 45.33765378 47.12558394 43.9998076  48.16905259 49.05294945 48.27700068\n",
            " 50.71164697 45.90946258 47.98573214 48.15098191 49.63912935 52.69632286\n",
            " 53.68155315 52.80707869 48.85362456 44.88337792 49.75467813 49.23145942\n",
            " 47.45152532 45.92900986 52.75486584 49.14495291 51.75896264 48.85470989\n",
            " 54.60291024 46.82587506 54.35950831 49.57438186 50.50461356 54.83843385\n",
            " 53.43865482 47.49360389 50.10505155 47.2234557  46.15686935 48.93644381\n",
            " 47.05005112 47.48251637 51.22650058 51.31687999 47.39443983 46.91641561\n",
            " 49.93043075 47.64084143 41.33065502 52.88100962 48.24688742 57.20922242\n",
            " 48.79017241 47.85656976 54.58545638 49.32717289 50.61350687 48.7899636\n",
            " 48.49717449 54.45912843 48.57603331 46.37068118 49.70047049 49.33614131\n",
            " 48.90264323 49.32626854 50.37957646 49.39322268 53.8731744  50.96752158\n",
            " 46.53514948 51.83093898 50.19714133 58.22263965 58.20736649 46.73141403\n",
            " 47.06610384 49.46261026 51.53298398 52.85845517 47.40688274 51.79948039\n",
            " 43.31805878 48.91307078 45.60049524 48.69118392]\n"
          ]
        }
      ],
      "source": [
        "import talib\n",
        "import numpy\n",
        "c = numpy.random.randn(100)\n",
        "\n",
        "print(talib.STOCHRSI(c))\n",
        "\n",
        "rsi = talib.RSI(c)\n",
        "print(talib.STOCHF(rsi, rsi, rsi))\n",
        "print(talib.RSI(c))\n"
      ]
    },
    {
      "cell_type": "markdown",
      "id": "1161ffd6-a1b3-4bc4-a289-a9f7a52af580",
      "metadata": {
        "tags": [],
        "id": "1161ffd6-a1b3-4bc4-a289-a9f7a52af580"
      },
      "source": [
        "# 증시 달력 관련\n",
        "* https://open.krx.co.kr/contents/MKD/01/0110/01100305/MKD01100305.jsp\n",
        "* https://github.com/rsheftel/pandas_market_calendars\n",
        "* https://github.com/quantopian/trading_calendars\n",
        "* https://github.com/gerrymanoim/exchange_calendars"
      ]
    },
    {
      "cell_type": "markdown",
      "id": "42ea1bd9-e809-4272-b8bd-0631c1afba76",
      "metadata": {
        "id": "42ea1bd9-e809-4272-b8bd-0631c1afba76"
      },
      "source": [
        "## pykrx"
      ]
    },
    {
      "cell_type": "code",
      "execution_count": null,
      "id": "405a4837-4610-4130-b016-8499060936f5",
      "metadata": {
        "id": "405a4837-4610-4130-b016-8499060936f5",
        "outputId": "91cff1ec-0383-4934-f829-8da6adab459d"
      },
      "outputs": [
        {
          "data": {
            "text/plain": [
              "[Timestamp('2022-02-03 00:00:00'),\n",
              " Timestamp('2022-02-04 00:00:00'),\n",
              " Timestamp('2022-02-07 00:00:00'),\n",
              " Timestamp('2022-02-08 00:00:00'),\n",
              " Timestamp('2022-02-09 00:00:00'),\n",
              " Timestamp('2022-02-10 00:00:00'),\n",
              " Timestamp('2022-02-11 00:00:00'),\n",
              " Timestamp('2022-02-14 00:00:00'),\n",
              " Timestamp('2022-02-15 00:00:00'),\n",
              " Timestamp('2022-02-16 00:00:00'),\n",
              " Timestamp('2022-02-17 00:00:00'),\n",
              " Timestamp('2022-02-18 00:00:00'),\n",
              " Timestamp('2022-02-21 00:00:00'),\n",
              " Timestamp('2022-02-22 00:00:00'),\n",
              " Timestamp('2022-02-23 00:00:00'),\n",
              " Timestamp('2022-02-24 00:00:00'),\n",
              " Timestamp('2022-02-25 00:00:00')]"
            ]
          },
          "execution_count": 28,
          "metadata": {},
          "output_type": "execute_result"
        }
      ],
      "source": [
        "from pykrx import stock\n",
        "stock.get_business_days(2022, 2)"
      ]
    },
    {
      "cell_type": "markdown",
      "id": "783dbeea-0fe5-466a-85fd-d48d691cebe3",
      "metadata": {
        "id": "783dbeea-0fe5-466a-85fd-d48d691cebe3"
      },
      "source": [
        "## pandas_market_calendars\n",
        "* https://github.com/rsheftel/pandas_market_calendars/blob/master/docs/usage.rst"
      ]
    },
    {
      "cell_type": "code",
      "execution_count": null,
      "id": "76541887-f63f-4e2f-8e8c-1ca893f734e1",
      "metadata": {
        "id": "76541887-f63f-4e2f-8e8c-1ca893f734e1"
      },
      "outputs": [],
      "source": [
        "# ! pip install pandas_market_calendars-3.3-py3-none-any.whl"
      ]
    },
    {
      "cell_type": "code",
      "execution_count": null,
      "id": "c98b0ab8-ae4f-41fa-a9bd-ff0e70b2f0f7",
      "metadata": {
        "id": "c98b0ab8-ae4f-41fa-a9bd-ff0e70b2f0f7"
      },
      "outputs": [],
      "source": [
        "from datetime import time\n",
        "import pandas as pd\n",
        "import pandas_market_calendars as mcal"
      ]
    },
    {
      "cell_type": "code",
      "execution_count": null,
      "id": "3386713b-f1d9-4811-9f76-89823dfa3318",
      "metadata": {
        "id": "3386713b-f1d9-4811-9f76-89823dfa3318",
        "outputId": "0e72bc85-35a6-4b4c-8c3f-c5dd23d1dc78"
      },
      "outputs": [
        {
          "name": "stdout",
          "output_type": "stream",
          "text": [
            "True\n",
            "False\n"
          ]
        },
        {
          "data": {
            "text/html": [
              "<div>\n",
              "<style scoped>\n",
              "    .dataframe tbody tr th:only-of-type {\n",
              "        vertical-align: middle;\n",
              "    }\n",
              "\n",
              "    .dataframe tbody tr th {\n",
              "        vertical-align: top;\n",
              "    }\n",
              "\n",
              "    .dataframe thead th {\n",
              "        text-align: right;\n",
              "    }\n",
              "</style>\n",
              "<table border=\"1\" class=\"dataframe\">\n",
              "  <thead>\n",
              "    <tr style=\"text-align: right;\">\n",
              "      <th></th>\n",
              "      <th>market_open</th>\n",
              "      <th>market_close</th>\n",
              "    </tr>\n",
              "  </thead>\n",
              "  <tbody>\n",
              "    <tr>\n",
              "      <th>2022-02-22</th>\n",
              "      <td>2022-02-22 00:00:00+00:00</td>\n",
              "      <td>2022-02-22 06:30:00+00:00</td>\n",
              "    </tr>\n",
              "    <tr>\n",
              "      <th>2022-02-23</th>\n",
              "      <td>2022-02-23 00:00:00+00:00</td>\n",
              "      <td>2022-02-23 06:30:00+00:00</td>\n",
              "    </tr>\n",
              "    <tr>\n",
              "      <th>2022-02-24</th>\n",
              "      <td>2022-02-24 00:00:00+00:00</td>\n",
              "      <td>2022-02-24 06:30:00+00:00</td>\n",
              "    </tr>\n",
              "  </tbody>\n",
              "</table>\n",
              "</div>"
            ],
            "text/plain": [
              "                         market_open              market_close\n",
              "2022-02-22 2022-02-22 00:00:00+00:00 2022-02-22 06:30:00+00:00\n",
              "2022-02-23 2022-02-23 00:00:00+00:00 2022-02-23 06:30:00+00:00\n",
              "2022-02-24 2022-02-24 00:00:00+00:00 2022-02-24 06:30:00+00:00"
            ]
          },
          "execution_count": 31,
          "metadata": {},
          "output_type": "execute_result"
        }
      ],
      "source": [
        "xkrx = mcal.get_calendar('XKRX')\n",
        "xkrx.discontinued_market_times\n",
        "print(xkrx.has_discontinued)\n",
        "xkrx.remove_time(\"break_start\")\n",
        "xkrx.remove_time(\"break_end\")\n",
        "print(xkrx.has_discontinued)\n",
        "cal_df = xkrx.schedule(\"2022-02-22\", \"2022-02-24\")\n",
        "cal_df.head()"
      ]
    },
    {
      "cell_type": "markdown",
      "id": "fff7b5d5-e67f-40f0-adfd-ae3080bc3075",
      "metadata": {
        "tags": [],
        "id": "fff7b5d5-e67f-40f0-adfd-ae3080bc3075"
      },
      "source": [
        "## exchange_calendars\n",
        "* ref : https://github.com/gerrymanoim/exchange_calendars"
      ]
    },
    {
      "cell_type": "code",
      "execution_count": null,
      "id": "608d1d77-ac59-4276-aa6b-e4e6bc596bf7",
      "metadata": {
        "id": "608d1d77-ac59-4276-aa6b-e4e6bc596bf7"
      },
      "outputs": [],
      "source": [
        "# ! pip install exchange_calendars"
      ]
    },
    {
      "cell_type": "code",
      "execution_count": null,
      "id": "1eb76d73-3900-4231-9f1d-a1ff2fc6af6e",
      "metadata": {
        "id": "1eb76d73-3900-4231-9f1d-a1ff2fc6af6e",
        "outputId": "146a9eb3-2c42-43ea-a4ec-64fb8f4373ec"
      },
      "outputs": [
        {
          "name": "stdout",
          "output_type": "stream",
          "text": [
            "['24/5', '24/7', 'AIXK', 'ASEX', 'BVMF', 'CMES', 'IEPA', 'XAMS', 'XASX', 'XBKK', 'XBOG', 'XBOM', 'XBRU', 'XBSE', 'XBUD', 'XBUE', 'XCBF', 'XCSE', 'XDUB', 'XETR', 'XFRA', 'XHEL', 'XHKG', 'XICE', 'XIDX', 'XIST', 'XJSE', 'XKAR', 'XKLS', 'XKRX', 'XLIM', 'XLIS', 'XLON', 'XMAD', 'XMEX', 'XMIL', 'XMOS', 'XNYS', 'XNZE', 'XOSL', 'XPAR', 'XPHS', 'XPRA', 'XSES', 'XSGO', 'XSHG', 'XSTO', 'XSWX', 'XTAE', 'XTAI', 'XTKS', 'XTSE', 'XWAR', 'XWBO', 'us_futures']\n",
            "False\n",
            "True\n"
          ]
        },
        {
          "data": {
            "text/html": [
              "<div>\n",
              "<style scoped>\n",
              "    .dataframe tbody tr th:only-of-type {\n",
              "        vertical-align: middle;\n",
              "    }\n",
              "\n",
              "    .dataframe tbody tr th {\n",
              "        vertical-align: top;\n",
              "    }\n",
              "\n",
              "    .dataframe thead th {\n",
              "        text-align: right;\n",
              "    }\n",
              "</style>\n",
              "<table border=\"1\" class=\"dataframe\">\n",
              "  <thead>\n",
              "    <tr style=\"text-align: right;\">\n",
              "      <th></th>\n",
              "      <th>market_open</th>\n",
              "      <th>break_start</th>\n",
              "      <th>break_end</th>\n",
              "      <th>market_close</th>\n",
              "    </tr>\n",
              "  </thead>\n",
              "  <tbody>\n",
              "    <tr>\n",
              "      <th>2022-02-23 00:00:00+00:00</th>\n",
              "      <td>2022-02-23</td>\n",
              "      <td>NaT</td>\n",
              "      <td>NaT</td>\n",
              "      <td>2022-02-23 06:30:00</td>\n",
              "    </tr>\n",
              "    <tr>\n",
              "      <th>2022-02-24 00:00:00+00:00</th>\n",
              "      <td>2022-02-24</td>\n",
              "      <td>NaT</td>\n",
              "      <td>NaT</td>\n",
              "      <td>2022-02-24 06:30:00</td>\n",
              "    </tr>\n",
              "    <tr>\n",
              "      <th>2022-02-25 00:00:00+00:00</th>\n",
              "      <td>2022-02-25</td>\n",
              "      <td>NaT</td>\n",
              "      <td>NaT</td>\n",
              "      <td>2022-02-25 06:30:00</td>\n",
              "    </tr>\n",
              "  </tbody>\n",
              "</table>\n",
              "</div>"
            ],
            "text/plain": [
              "                          market_open break_start break_end  \\\n",
              "2022-02-23 00:00:00+00:00  2022-02-23         NaT       NaT   \n",
              "2022-02-24 00:00:00+00:00  2022-02-24         NaT       NaT   \n",
              "2022-02-25 00:00:00+00:00  2022-02-25         NaT       NaT   \n",
              "\n",
              "                                 market_close  \n",
              "2022-02-23 00:00:00+00:00 2022-02-23 06:30:00  \n",
              "2022-02-24 00:00:00+00:00 2022-02-24 06:30:00  \n",
              "2022-02-25 00:00:00+00:00 2022-02-25 06:30:00  "
            ]
          },
          "execution_count": 33,
          "metadata": {},
          "output_type": "execute_result"
        }
      ],
      "source": [
        "import exchange_calendars as xcals \n",
        "import datetime\n",
        "import pandas as pd\n",
        "print( xcals.get_calendar_names(include_aliases=False))\n",
        "\n",
        "krx = xcals.get_calendar(\"XKRX\") \n",
        "print(krx.is_session(\"2022-02-20\"))   #일료일\n",
        "print(krx.is_session(datetime.date.today().strftime(\"%Y-%m-%d\"))) #오늘   개장여부\n",
        "\n",
        "cal_df = krx.schedule.loc[\"2022-02-23\":\"2022-02-25\"]\n",
        "cal_df.head()\n"
      ]
    },
    {
      "cell_type": "code",
      "execution_count": null,
      "id": "f199e4c3-efcd-47cb-a298-bd235d7dd6b1",
      "metadata": {
        "id": "f199e4c3-efcd-47cb-a298-bd235d7dd6b1",
        "outputId": "84f120d6-c361-472a-84a6-80f51fde878b"
      },
      "outputs": [
        {
          "data": {
            "text/plain": [
              "DatetimeIndex(['2022-01-03 00:00:00+00:00', '2022-01-04 00:00:00+00:00',\n",
              "               '2022-01-05 00:00:00+00:00', '2022-01-06 00:00:00+00:00',\n",
              "               '2022-01-07 00:00:00+00:00', '2022-01-10 00:00:00+00:00'],\n",
              "              dtype='datetime64[ns, UTC]', freq='C')"
            ]
          },
          "execution_count": 34,
          "metadata": {},
          "output_type": "execute_result"
        }
      ],
      "source": [
        "cal_df = krx.sessions_in_range(\"2022-01-01\", \"2022-01-10\")\n",
        "cal_df"
      ]
    },
    {
      "cell_type": "code",
      "execution_count": null,
      "id": "84963400-3fc3-4a70-9164-b088267fd688",
      "metadata": {
        "id": "84963400-3fc3-4a70-9164-b088267fd688",
        "outputId": "54bf2636-a5f4-4806-e4f7-23c623c90a64"
      },
      "outputs": [
        {
          "name": "stdout",
          "output_type": "stream",
          "text": [
            "이전개장일 2022-02-18 00:00:00+00:00\n",
            "다음개장일 2022-02-22 00:00:00+00:00\n"
          ]
        }
      ],
      "source": [
        "print(\"이전개장일\", krx.previous_session(\"2022-02-21\")) #월요일\n",
        "print(\"다음개장일\", krx.next_session(\"2022-02-21\"))     #"
      ]
    },
    {
      "cell_type": "code",
      "execution_count": null,
      "id": "5f04a018-04ca-4e31-8d1b-c213b6d33262",
      "metadata": {
        "id": "5f04a018-04ca-4e31-8d1b-c213b6d33262",
        "outputId": "c6a28689-b751-4dd3-a425-f7b4fa7ed2f3"
      },
      "outputs": [
        {
          "name": "stdout",
          "output_type": "stream",
          "text": [
            "        January 2022\n",
            " Su  Mo  Tu  We  Th  Fr  Sa\n",
            "                        [ 1]\n",
            "[ 2]  3   4   5   6   7 [ 8]\n",
            "[ 9] 10  11  12  13  14 [15]\n",
            "[16] 17  18  19  20  21 [22]\n",
            "[23] 24  25  26  27  28 [29]\n",
            "[30][31]\n",
            "\n"
          ]
        }
      ],
      "source": [
        "! ecal XKRX 1 2022"
      ]
    },
    {
      "cell_type": "code",
      "execution_count": null,
      "id": "6909396f-addd-42ff-8510-a1f09f96a2b0",
      "metadata": {
        "id": "6909396f-addd-42ff-8510-a1f09f96a2b0",
        "outputId": "cd7e7e19-c0ed-4ba0-a075-732894e8a6b3"
      },
      "outputs": [
        {
          "name": "stdout",
          "output_type": "stream",
          "text": [
            "                                          2022\n",
            "          January                        February                        March\n",
            " Su  Mo  Tu  We  Th  Fr  Sa     Su  Mo  Tu  We  Th  Fr  Sa     Su  Mo  Tu  We  Th  Fr  Sa\n",
            "                        [ 1]           [ 1][ 2]  3   4 [ 5]           [ 1]  2   3   4 [ 5]\n",
            "[ 2]  3   4   5   6   7 [ 8]   [ 6]  7   8   9  10  11 [12]   [ 6]  7   8   9  10  11 [12]\n",
            "[ 9] 10  11  12  13  14 [15]   [13] 14  15  16  17  18 [19]   [13] 14  15  16  17  18 [19]\n",
            "[16] 17  18  19  20  21 [22]   [20] 21  22  23  24  25 [26]   [20] 21  22  23  24  25 [26]\n",
            "[23] 24  25  26  27  28 [29]   [27] 28                        [27] 28  29  30  31\n",
            "[30][31]\n",
            "\n",
            "           April                           May                            June\n",
            " Su  Mo  Tu  We  Th  Fr  Sa     Su  Mo  Tu  We  Th  Fr  Sa     Su  Mo  Tu  We  Th  Fr  Sa\n",
            "                      1 [ 2]                                                1   2   3 [ 4]\n",
            "[ 3]  4   5   6   7   8 [ 9]   [ 1]  2   3   4 [ 5]  6 [ 7]   [ 5][ 6]  7   8   9  10 [11]\n",
            "[10] 11  12  13  14  15 [16]   [ 8]  9  10  11  12  13 [14]   [12] 13  14  15  16  17 [18]\n",
            "[17] 18  19  20  21  22 [23]   [15] 16  17  18  19  20 [21]   [19] 20  21  22  23  24 [25]\n",
            "[24] 25  26  27  28  29 [30]   [22] 23  24  25  26  27 [28]   [26] 27  28  29  30\n",
            "                               [29] 30  31\n",
            "\n",
            "            July                          August                       September\n",
            " Su  Mo  Tu  We  Th  Fr  Sa     Su  Mo  Tu  We  Th  Fr  Sa     Su  Mo  Tu  We  Th  Fr  Sa\n",
            "                      1 [ 2]         1   2   3   4   5 [ 6]                     1   2 [ 3]\n",
            "[ 3]  4   5   6   7   8 [ 9]   [ 7]  8   9  10  11  12 [13]   [ 4]  5   6   7   8 [ 9][10]\n",
            "[10] 11  12  13  14  15 [16]   [14][15] 16  17  18  19 [20]   [11][12] 13  14  15  16 [17]\n",
            "[17] 18  19  20  21  22 [23]   [21] 22  23  24  25  26 [27]   [18] 19  20  21  22  23 [24]\n",
            "[24] 25  26  27  28  29 [30]   [28] 29  30  31                [25] 26  27  28  29  30\n",
            "[31]\n",
            "\n",
            "          October                        November                       December\n",
            " Su  Mo  Tu  We  Th  Fr  Sa     Su  Mo  Tu  We  Th  Fr  Sa     Su  Mo  Tu  We  Th  Fr  Sa\n",
            "                        [ 1]             1   2   3   4 [ 5]                     1   2 [ 3]\n",
            "[ 2][ 3]  4   5   6   7 [ 8]   [ 6]  7   8   9  10  11 [12]   [ 4]  5   6   7   8   9 [10]\n",
            "[ 9][10] 11  12  13  14 [15]   [13] 14  15  16  17  18 [19]   [11] 12  13  14  15  16 [17]\n",
            "[16] 17  18  19  20  21 [22]   [20] 21  22  23  24  25 [26]   [18] 19  20  21  22  23 [24]\n",
            "[23] 24  25  26  27  28 [29]   [27] 28  29  30                [25] 26  27  28  29 [30][31]\n",
            "[30] 31\n"
          ]
        }
      ],
      "source": [
        "! ecal XKRX 2022"
      ]
    },
    {
      "cell_type": "code",
      "execution_count": null,
      "id": "221ff3a0-eb91-4179-bb92-607de24a7066",
      "metadata": {
        "id": "221ff3a0-eb91-4179-bb92-607de24a7066"
      },
      "outputs": [],
      "source": [
        ""
      ]
    }
  ],
  "metadata": {
    "kernelspec": {
      "display_name": "Python 3 (ipykernel)",
      "language": "python",
      "name": "python3"
    },
    "language_info": {
      "codemirror_mode": {
        "name": "ipython",
        "version": 3
      },
      "file_extension": ".py",
      "mimetype": "text/x-python",
      "name": "python",
      "nbconvert_exporter": "python",
      "pygments_lexer": "ipython3",
      "version": "3.8.8"
    },
    "toc-autonumbering": true,
    "colab": {
      "name": "금융관련API.ipynb",
      "provenance": [],
      "toc_visible": true,
      "include_colab_link": true
    }
  },
  "nbformat": 4,
  "nbformat_minor": 5
}