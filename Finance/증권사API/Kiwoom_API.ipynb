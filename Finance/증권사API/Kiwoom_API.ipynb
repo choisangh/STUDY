{
 "cells": [
  {
   "cell_type": "markdown",
   "id": "pleasant-albuquerque",
   "metadata": {},
   "source": [
    "<font size=6><b>Lec00.키움증권 API 활용 </b></font>"
   ]
  },
  {
   "cell_type": "markdown",
   "id": "residential-notification",
   "metadata": {},
   "source": [
    "* ref : https://wikidocs.net/2872 <br>\n",
    "* <절차>\n",
    "  * 키움증권 계좌를 개설\n",
    "  * 키움증권 홈페이지를 통해 API 사용 신청\n",
    "  * 모듈 및 HTS 설치"
   ]
  },
  {
   "cell_type": "markdown",
   "id": "superior-briefs",
   "metadata": {},
   "source": [
    "# [1단계] 계좌개설 및 Open API 사용신청\n",
    "* ref : http://www.kiwoom.com\n",
    "* ref : https://www1.kiwoom.com/h/customer/download/VOpenApiInfoView?lgz5g=cfYaW8s8IfMbMLd6l76S8LrxYWHwI5MxMyB8p8gSMtzlcfYGMtuNVys7nyMRpL3s7tT5VrdIW83XHiss7DXHJ6zqHs32esssnLs3HPANl83oHQBGBDXiIPYzdhsyVP3s88BOJt3V2wXCH6Hf2wsuV9sfpwzS8Dry7tTiJt3979Yw8ypS89H0F9FIBydpJGF68wHIphANF98WnszGHGX5dWFElWTmey3I8Gr2Vy3QWy8oHGXz7LMX27YT7WTpppBGdyHyHrsB7tYWIET6ntFEJ6rQ2GBiq7GSdtTBVsrhc8Hw27jiJPsYq8FBWs32Jys6J7CCW9358weieD3QdLzYF8zIV9HP2Ds67D8uBidY2EniW6r18oYnJt3R7tT3VPX6FG8xF7rrVWY3VP3bFwsu2odfp9MRFoDfdy82IE36J983FLCCFQsucydq2ETo8swCqPYTIrJSJEsPn73zeoYi27AfJPsophXzqEJRIDBMFhsPV9JSFtGgMNCN25MbMtJCI7p6HhHNIWIQehIRqEjSqPr3HtZiBWw6IE8NHtFLHhHLetnfIQIiHtpCBte6IWwhH7wGqWF3HPYDILMGIEJGIEd3B7nQeQpSIPwCHQ8seWIGehrtIPeiBteSeQnCIVMxMLrQMtzloo6Fvn%253D%253D&JRO2QHs6F=ZHVtbXlWYWwlM0Qw"
   ]
  },
  {
   "cell_type": "markdown",
   "id": "retained-discount",
   "metadata": {},
   "source": [
    "<img src=\"./img/img01.png\" width=700>"
   ]
  },
  {
   "cell_type": "markdown",
   "id": "adjustable-minneapolis",
   "metadata": {},
   "source": [
    "# [2단계] OpenAPI+ 모듈 다운로드 및 설치\n",
    "* OpenAPISetup.exe"
   ]
  },
  {
   "cell_type": "markdown",
   "id": "imposed-mambo",
   "metadata": {},
   "source": [
    "<img src=\"./img/img02.png\" width=600>"
   ]
  },
  {
   "cell_type": "markdown",
   "id": "brilliant-feeling",
   "metadata": {},
   "source": [
    "# [3단계] Open API OCX 탑재 프로그램 제작 및 KOA Studio 활용\n",
    "* KOAStudioSA.exe\n",
    "* 파일 > Open API 접속"
   ]
  },
  {
   "cell_type": "markdown",
   "id": "cooperative-economics",
   "metadata": {
    "tags": []
   },
   "source": [
    "<table>\n",
    "<tr>\n",
    "    <td><img src=\"./img/img03.png\" width=400></td>\n",
    "    <td><img src=\"./img/img04.png\" width=400></td>\n",
    "    <td><img src=\"./img/img05.png\" width=400></td>\n",
    "</tr>\n",
    "</table>\n"
   ]
  },
  {
   "cell_type": "markdown",
   "id": "selected-gamma",
   "metadata": {},
   "source": [
    "# [4단계] 상시모의투자 신청\n",
    "* 상시모의투자 참가신청\n",
    "* ref : https://www1.kiwoom.com/h/mock/ordinary/VMockTotalMHOMEView?lgz5g=cfYaW8s8IfMbMLd6l76S8LrxYWHwI5MxMyB8p8gSMtzlcfYGMtuNVys7nyMRpL3s7tT5VrdIW83XHiss7DXHJ6zqHs32esssnLD6VPxilp8ynGFGJpSo7wYzdhsyVP3s88BOJt3V2wXCH6Hf2wsuV9sfpwzS8Dry7tTiJt3979Yw8ypS89H0F9FIBydpJGF68wHIphANF98WnszGHGX5dWFElWTmey3I8Gr2Vy3QWy8oHGXz7LMX27YT7WTpppBGdyHyHrsB7tYWIET6ntFEJ6rQ2GBiq7GSdtTBVsrhc8Hw27jiJPsYq8FBWs32Jys6J7CCW9ji8weieD3QdLzYF8zIV9HP2Ds67D8uBidY2EniW6r18oYnJt3R7tT3VPX6F6HqI9FWl9pRF73bFwsu2odfp9MRFoDfdy82IE3MlETP2yDCeoBucydqnWTmcPX67yYxFW3Mc7DRV9Dfe8HiqpB6cWsP7WH6F6eRILrfWtY37WH6FtGgMNCN25MbMtJCI7p6HhHNIWIQehIRqEjSqPr3HtZiBWw6IE8NHtFLHhHLetnfIQIiHtpCBte6IWwhH7wGqWF3HPYDILMGIEJGIEd3B7nQeQpSIPwCHQ8seWIGehrtIPeiBteSeQnCIVMxMLrQMtzloo6Fvn%253D%253D&JRO2QHs6F=ZHVtbXlWYWwlM0Qw"
   ]
  },
  {
   "cell_type": "markdown",
   "id": "exotic-principal",
   "metadata": {},
   "source": [
    "<img src=\"./img/img06.png\" width=600>"
   ]
  },
  {
   "cell_type": "markdown",
   "id": "settled-hearts",
   "metadata": {},
   "source": [
    "# OpenAPI 활용\n",
    "* <font color=red><b>반드시 pythonP 32비트 에서 실행</b></font>\n",
    "* <font color=red><b>jupyter 에선 실행 불가</b></font>"
   ]
  },
  {
   "cell_type": "code",
   "execution_count": null,
   "id": "italic-practice",
   "metadata": {},
   "outputs": [],
   "source": [
    "# ! pip install pykiwoom\n",
    "# ! pip install PyQt5"
   ]
  },
  {
   "cell_type": "markdown",
   "id": "silent-aircraft",
   "metadata": {},
   "source": [
    "<img src=\"./img/img07.png\" width=600>"
   ]
  },
  {
   "cell_type": "markdown",
   "id": "floral-samoa",
   "metadata": {},
   "source": [
    "<img src=\"./img/img08.png\" width=600>"
   ]
  },
  {
   "cell_type": "markdown",
   "id": "blond-diamond",
   "metadata": {},
   "source": [
    "## 이베스트투자증권 API\n",
    "* ref : https://wikidocs.net/2871"
   ]
  },
  {
   "cell_type": "markdown",
   "id": "freelance-cable",
   "metadata": {},
   "source": [
    "## 대신증권 API \n",
    "* ref : https://wikidocs.net/2870"
   ]
  },
  {
   "cell_type": "code",
   "execution_count": null,
   "id": "bound-instruction",
   "metadata": {},
   "outputs": [],
   "source": []
  }
 ],
 "metadata": {
  "kernelspec": {
   "display_name": "Python 3",
   "language": "python",
   "name": "python3"
  },
  "language_info": {
   "codemirror_mode": {
    "name": "ipython",
    "version": 3
   },
   "file_extension": ".py",
   "mimetype": "text/x-python",
   "name": "python",
   "nbconvert_exporter": "python",
   "pygments_lexer": "ipython3",
   "version": "3.8.0"
  }
 },
 "nbformat": 4,
 "nbformat_minor": 5
}
