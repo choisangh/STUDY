{
  "nbformat": 4,
  "nbformat_minor": 0,
  "metadata": {
    "colab": {
      "name": "투자분석기법 - 기본적 분석.ipynb",
      "provenance": [],
      "collapsed_sections": [],
      "toc_visible": true,
      "authorship_tag": "ABX9TyMqdOiTrpEPjK/xK6MECnmV",
      "include_colab_link": true
    },
    "kernelspec": {
      "name": "python3",
      "display_name": "Python 3"
    },
    "language_info": {
      "name": "python"
    }
  },
  "cells": [
    {
      "cell_type": "markdown",
      "metadata": {
        "id": "view-in-github",
        "colab_type": "text"
      },
      "source": [
        "<a href=\"https://colab.research.google.com/github/choisangh/STUDY/blob/main/finance/%ED%88%AC%EC%9E%90%EB%B6%84%EC%84%9D%EA%B8%B0%EB%B2%95_%EA%B8%B0%EB%B3%B8%EC%A0%81_%EB%B6%84%EC%84%9D.ipynb\" target=\"_parent\"><img src=\"https://colab.research.google.com/assets/colab-badge.svg\" alt=\"Open In Colab\"/></a>"
      ]
    },
    {
      "cell_type": "markdown",
      "source": [
        "# 가치평가와 현금흐름\n",
        "* 현금흐름 추정의 기본원칙\n",
        "    - 증분 기준 추정(기업 전체 현금흐름)\n",
        "    - 세후 기준 추정(절세효과 고려)\n",
        "    - 해당 투자안의 모든 간접 효과도 고려\n",
        "    - 현금유입/유출 시점을 정확히 추정(회계상/실제 추정 차이)\n",
        "    - 매몰원가는 고려 대상이 아니나 기회비용은 고려해야함\n",
        "* 현금흐름 추정\n",
        "    - 현금흐름 = 세후 영업이익[=영업이익 * (1-법인세율)]+비현금비용(감가상각비)\n",
        "    - 현금유입액은 손익계산서에서 추정, 현금유출액은 재무상태표상의 비유동자산/유동자산/유동부채로 추정\n",
        "    - 자금운용 접근법 : 재무상태표의 운전자본, 시설자금과 연관된 투하자본의 크기를 추출하는 방법\n",
        "    - 자금조달 접근법 : 재무상태표의 부채, 자기자본과 연관된 투하자본의 조달방법과 크기를 추출하는 방법\n",
        "* 가치평가 절차\n",
        "    - 기업의 경제적 수명 예측 (제품 수명주기)\n",
        "    - 경제적 수명기간 동안 매년 예상되는 현금흐름의 크기 추정\n",
        "    - 현재가치로 할인하기 위한 할인율로서 기업의 자본비용 추정\n",
        "    - 기업의 운영기간 총 현금흐름을 기업의 자본비용으로 할인한 현재가치를 합산하여 평가\n",
        "    "
      ],
      "metadata": {
        "id": "K4RdvNkgoskT"
      }
    },
    {
      "cell_type": "markdown",
      "source": [
        "# 화폐의 시간적 가치\n",
        "* 이자 개념\n",
        "    - 현재의 소비나 투자를 억제하는데 따르는 보상\n",
        "* 미래가치(FV) : 특정 시점에 관찰되는 돈의 액수\n",
        "    - 연 1회 이자 지급 시 : FV = PV * (1+i)^n\n",
        "    - 연 m회 이자 지급 시 : FV = PV * (1+i/m)^n*m (n=기간, m=이자지급횟수)\n",
        "    - 유효이자율 = (1+i/m)^m-1(이자지급횟수를 증가시키는 반면 기간별 이자율은 감소)\n",
        "* 현재가치(PV) \n",
        "    - 일시불의 현재가치 : PV = FV * 1/(1+i)^n\n",
        "    - 위의 수식에서 i는 미래가치 계산 시에는 이자율, 현재가치 계산 시에는 할인율이 됨\n",
        "    \n"
      ],
      "metadata": {
        "id": "hUjQjnsEqMy6"
      }
    },
    {
      "cell_type": "markdown",
      "source": [
        "# 증권분석을 위한 통계 기초\n",
        "* 중심위치(Central Tendency)\n",
        "    - 정의 : 자료가 어떤 값을 중심으로 분포하는가를 나타내는 대표치\n",
        "    - 산술평균, 최빈값, 중앙값\n",
        "* 산포경향(Degree of Dispersion)\n",
        "    - 정의 : 자료가 중심으로부터 어느 정도 흩어져 있는가를 나타내는 지표\n",
        "    - 분산(Vaariation) : 평균으로부터 떨어진 거리의 제곱들의 평균\n",
        "    - 표준편차(Standard Deviation) = 분산의 제곱근\n",
        "* 정규분포(Normal Distribution)\n",
        "    - 정규분포 : 종 모양으로 좌우가 대칭인 연속확률분포(평균과 분산에 의해 결정)\n",
        "    - 표준정규분포 : 정규분포 중 평균=0, 분산=1인 표준화된 정규분포\n",
        "* 공분산(Covariance)\n",
        "    - 정의 : 변수들 간의 방향성을 파악하는 지표\n",
        "    - 범위 : -무한<공분산<+무한\n",
        "        - 공분산(+) -> 양의 상관관계\n",
        "        - 공분산(-) -> 음의 상관관계\n",
        "        - 공분산(0) -> 관련없음\n",
        "* 상관계수(Correlation Coefficient)\n",
        "    - 정의 : 변수들 간의 방향과 정도를 나타내는 지표로 주로 분산투자이론에서 사용\n",
        "    - 상관계수 = xy공분산/(x표준편차*y표준편차) - 1"
      ],
      "metadata": {
        "id": "UrY3kcOeg6LN"
      }
    },
    {
      "cell_type": "markdown",
      "source": [
        "# 유가증권의 가치평가\n",
        "* 자산의 가치평가\n",
        "    - 자산의 가치는 그 자산의 수명이 다할 때까지 받게 될 것으로 예상되는 미래 기대이익의 함수\n",
        "    - 할인현금흐름모형 : 매 기간의 현금흐름을 요구수익률 또는 할인율로 할인한 현재가치의 합\n",
        "    - 자산에 대한 요구수익률은 위험 또는 불확실성에 대한 보상(체계적위험), 위험이 높을수록 요구수익률도 높아짐\n",
        "* 채권의 가치평가\n",
        "    - 채권의 요구수익률은 지급불능 위험의 크기에 따라 다르게 나타남\n",
        "    - 만기가 있는 채권 = n기간 동안 매 기간 지급하는 이자 + n기간 후 상환하는 원금\n",
        "    - 영구채권 : 만기가 없는 채권\n",
        "    - 영구채권의 가치 = (표면이율 * 투자금액)/(요구수익률 or 시장이자율)\n",
        "* 만기수익률\n",
        "    - 정의 : 채권을 구입해서 만기까지 보유할 때 얻는 수익률\n",
        "    - 채권의 만기수익률 = 액면이자/채권가격 = (액면가 * 표면이율)/채권가격"
      ],
      "metadata": {
        "id": "DyEmkQvkiHGs"
      }
    },
    {
      "cell_type": "markdown",
      "source": [
        "# 주식의 가치평가\n",
        "* 우선주의 가치평가\n",
        "    - 만기가 없기 때문에 영구연금으로 취급\n",
        "    - 우선주 가치 = D/K (D=매 기간 우선주 배당금, K=우선주의 요구수익률)\n",
        "* 보통주의 가치평가(무성장모형)\n",
        "    - 가정 : 기업의 미래 배당금이 매 기간 일정하고 성장하지 않음\n",
        "    - 모형 : D/K\n",
        "* 보통주의 가치평가(항상성장모형)\n",
        "    - 가정\n",
        "        - 미래 배당금이 매 기간 일정한 비율(g)로 지속성장\n",
        "        - 주주들의 요구수익률 k가 배당성장률 g보다 큼\n",
        "    - 모형\n",
        "        - <img src=\"data:image/jpeg;base64,/9j/4AAQSkZJRgABAQAAAQABAAD/2wCEAAkGBxMUERYSExMXFhYWFxoaGhkYGR4cGRwWGiEcIRwaGRobHiokGiMoHx4cIzMmKCstMTAyGSI2PjYvOiovMS0BCwsLDw4PGxERFi8nHicvLy8vLy8vLy8vLy8vLy8vLy8vLy8vLy8vLy8vLy8vLy8vLy8vLy8vLy8vLy8vLy8vL//AABEIAIwBaQMBIgACEQEDEQH/xAAbAAEAAwEBAQEAAAAAAAAAAAAAAwQFBgIBB//EADcQAAICAQMDAwIFAgUDBQAAAAECAxEABBIhBTFBEyJRYXEGIzKBkUKhFDNSYoIVsdFDU3KSov/EABUBAQEAAAAAAAAAAAAAAAAAAAAB/8QAFxEBAQEBAAAAAAAAAAAAAAAAABFBAf/aAAwDAQACEQMRAD8A/ccYxgMYxgMYxgMYxgMYxgMYxgMYxgMYxgMYzB63rnWaKNGkXcHZ9ke87QAFH6W2ksRyeKDYG9jMvpOsZoh6hUzIv5ir4f44v4rixYORaLq7u6oYXQHyVkAHHy0QH98DZzmZuqzDdIGjMf8AiliRChDMgZUkO7d3UiRrqqj/AHzT1Wre2T/DTsORuRolsfKkzKw+/BzM0unEQ/L0U9hSFLyRyBQe4UPqDQPkAi6wOjRwQCDYPYjtWe8wem6maKGOM6WZiiKtj0FB2irozmv5yTV9ZdHKiB2ryFkP91iI/gnA0Oo6kRwySHsiM3z2F9vP2zG0vVJY5Yo9TJDbQhnIGzZKSoCjc5vcd9Dv+We+XetIJFEbQTSqaY+nIqUR2BJlQn58jjMrU6VioWPSzISTuZmhdmDKVNs2ostt4DEmq7EcZBc1etlRZJFIsTxx7WsgRlkU0ARTHcWvnuM0Oo64x0BG7WV5UAjlgCOSOczdaPVBD6PUUSrHbLEnuT9JtNQDY4/+q/Ay3/jpKAOjnNV3aA9ux5myj71Dq6xIGMcjMVZtgC7wqC2JtgABx57sPnJtPKfWkTmtkbi/BcuCv29gP7nMjqMLTSRu+m1NR/0BtOFblT7vzbItR7bo1yOBWnotQ5cg6aZNxss7REDjj9MrHxXAwNPGMYDGMYDGMYDGMYDGMYDGMYDGMYDGMYDGMYDGMYDGMYDGMYDGMYDGMYDGMYDGMYDKi6KMSmUL72AUtzZUdh9u/wDJ+ct4wM/Q6D02dtxO7sKqhuZq+vLHn7ZoYxgc715ZTPCY1IVQwaRU3OpkIC7AVIr2nddABgfqNWWGYsSsqBfAMdkfvvF/xl3GBz2s6hIdYsKSFQpSwqhgb3M4kYqdntCgAEH33yO3Q5F6S7t20bu11zX3yXAZBqpNqMwUttUnaBZNDsB5J7ZPjA5z8MaaddOI2YI6Um0R/lLt4PpcIWQ8MCfn9hc6jqJYYJJGkRmA9lrtUMeBY3EtyRwOT2HJzXyOSMMKIBHwRYx0Z/QJGaHe7u+5m2l1CtsBIWwqqBYF9h3zUzyq0KHbPWAxjGAxjGAxjGAxjGAxjGAxjGAxjGAxjGAxlbUSMANqF/cooECgSAW9xHCiyfPHFnjIOtakxwSOv6qpB8yN7UFn5YgYGhjOY02vMWo9N53lQRqrsUBqe/mNKUbbLXwtp2vnoZzSk2RweQLI+wo2fpRwJsZDNexqNHaaPbmu/wBM5Tp2qcvCse9Qzgl5HnkVwEfhDLSkHuNrfBohcDscZzE3HqvE0uwIbZpJCDIWB/L3saoXZWh7q8UNvqZb0n2IZGqgqvsJv4ext+94FzGcl+H0mWY3HOw3EMXmJWM0DtCnUSbx25qxZ+aEEOqkAVULhy8atK76iSIsJFDbd1R0TYoOvfaL7YHaYzj9R1KT1WRXVihm9qynd/mceoK9lDt3sDJ59UVmsiWRqjYbJJyqqVH644lZeSGPIN4HU4zj9X1AJpdMZ5AxdAd6yzx7jQPeDfu48lqJ5HfND8KaoSJIyvvUSUPfK5U7Vtd0yhj8/Hu+mB0GMYwGMYwGMYwGMYwGMYwGMYwGMYwGMYwGMYwGMYwGMYwGMYwGMYwGMYwGMYwGMYwGVtXoY5QBLGkgBsB1DAH5AIz7qJGUAhC5tRQIFAkAt7iBSglj5ocAnjK/WdSY4JHX9VUgHmRvag5+WIGB51HSY2VFX8tUuljCqCp/UhFcKaF1R475pZzvTZ3TUek2oMqhFVi+wfn99qbVHJQMxXmht7Xm5OaUmyOO4FkfYUbP0rAmylD0yFHMiQxq5u2VFDG+9sBfOWHcBSSaAFknivqb7Zy3T5mWRAJJHLzmlkc+6L05PzFsm1JF8ce0cDA6t0BFEAg+D2z3nMTceq8TS7AhtmkkIMhYH8vexqhdlePdXggbfUy3pPsQyNVBVfYTfw9jb97wLCoBdACzZ+p+TlZemQiT1BDGJLvfsXfZ7ndV5gfh5JllO6OdhuIZnmJWM0DtCHUSbx25qxZ+wrw6qQBVjLhy8atM76iSIsHUNt3AR0TYoOvfaL7YHYsgPcA/cZV1fTIZaMsMclChvRWofAscZzmo6lJ6rKrBthm9qynd/mceoteyh272B4yafVlJrKyyMAjDY85VVKj9ccSsvJDHkG/2wOprPucfq9fs0umM8gYugO9ZZ49xoHvBv3ceS1E8jvmh+FNUJEkKvuQSUPfK5U7VtS0yhj8/Hu+mB0GMYwGMYwGMYwGMYwGMYwGMYwGMYwGMYwGMYwGMYwGMYwGMYwGMYwGMYwGMYwGMYwGVdZoopQFljSQA2A6hgD8gEZ7nl2gHaxtlHtFn3ECz9Bdk+ADlfrWs9KCSXm1QkACyW/pAHkk0P3wPk3TxtjSLbGsbhtoQVQv2gAjbd980Mwug6qWUBmfhLRrTazSg+4lCLjA8C7IIJrzDq+qNEA5Lbn1BjC9xtXcAOeEBAB3ccsLwOjyNkBqwDRsfQ9rHxwT/ADlHSTsZCCGXdGjlSQdrGwRYJHgdjVgnyTlyRvcosC74rk/Y3x/BwPboCKIBB8HtnvMzrkzrGCm79ahtm3fTHaAu/wBtlio58XlTTTTGOT2zmmCgXD6wPdubEdfprknk4G0sYF0ALNn6n5OVl6ZCJPUEMYku9+xd9nud1XmV03WSmQts1BiCSWZPRP5iMAAoiJcnhx2N8ZHoutu0xDK5DbR6foTAxg3TF2iAbdzd0F29z3wOjZAe4B+4yrq+mQy0ZYY5KFDeitQ+BY4zEbXSq0gM4uiACV/zNw27fYNoqwdxPcfFnnfxT+K5YtVLCuphi21SyPCrAEcH3SjvV13oiwLGQfpNZ9zE02odmTe5UCDexteWbgsSCVpQL449w+BkMGse7SRpIzJGqu207rvftIUAr+kX83zlSuhxnO6rWPGhkDu7NLIqxgxjhWcewNtugATZ8HPHU+sSKUVdy1sJb0ZnEhI/QDHGQoN8sCarsfBXS4znNfr5SEdXMW5eFb20wPJdXj3MO3A2nv8AIOVPxF1uSLSNMsqKPWIEjFAoS6ANsv2+fnA67GcJ+FetS6iPUFtSkmxAVaJ4mCMNx59N2PNDg8EKc7XTybkVjxag/wAjAmxnPx9fdpY4/QkAckG0kUiv6gWjC0PNkdxVmgbP4i6iIIfUsj3oOBd2wsc8AbbsmgACSQBga+MyNV1ZkRGMMhLA2qhnKkeCYlYZLD1MGF5nVo1QMTuVgQqiyadQf7YGljOW6B1WcljqW9MRookWQICsz7WUK0bFSu082bsjtmpqeoyLKEGnlcU3KmKmrbyN0oPnyBgauMztS5M8SAkAKzsAa7UFv5Fk8fTMaDqWoeSYqWEayOIrVNsgjoMg53kllkAPHC3zko6rGcv1XqbwxQ7Gke0eWRlCswhRdzv+YwH6mQACz7uBQ42+klzChkILkWSvA57fvVX9byi7jM+fWyKxUaeVwP6lMVH7bpQfpyMpfiLqEkYjEYbcxLNtCFlhQEu3vYDj2jv3bzgbuMwtJq2fTD1JB6rRtKu07W9MG0Yj5AKBvF2OxrJo9SwkNtW+FXCsfaGW93PdRRW/Hmu+Br4zK6Z1T1SfZsCgE7iNxvsygd0703n44yPQ62RtQyOVr0xIFHcKxpf+xuz3HHY4GzjGMBjGMBjGMBjGMBjGMBlXW6JJQFkXcAQwFke4GweD4NH9stYwMXWfh+N2DL7D6wlfuQ7AAAkXVgAAE3Vdu1XptBG5Yst7gQe/mrr4PA5HwMuYwII4FUkgVdf2FAD4H0H1yfGMCrq9BFKAJYkkA5AdQ1H6bhxnnSdNhiJMUUcZPfYirf3oc5cxgRRxhRSihZP7k2T/ACScLEoYsBywAJ+QLr/uf5yXGBHLEGUqwsHuDlSbpcTMWKm25NOy2e10rAdsv4wIPQW1NcqCAfIBqxf1ofwM9SRK1WLogj6EdjkuMCl/0yHcX9GMO36mCgMfuwFnLDwqQAQKUgj6EdslxgMqS6GNl2leN27gkHd82DYOW8YFOPpsQVl2kq4pgzMwI+PcTlzGMBlfU6ZJBTqGAvv9QVP/AOWI/c5YxgRxRhQFAoAUMi1ukSVCjruU9xZF/wAZZzD67rlV44vX9Eks7UV3mNQRSqwNkuV7C+DgT6josTSiT00suruStlmQUh57EUOe/tHxmntF3XOUujzM0SiRgZVCrLVcSbQSDXAPIP75fwKeo0m90a+FDgj5D15HbtnjR9KhjIMaVQIHuYgA9wASQO3jL+MDOl6PA24NGGDxmNgSSDG3dKJque2U4vw1CkglRUVg269gJ8f1Hm+Bz9/k5u4wGUtR06J2LugYlGjN3Wxv1LV1R8/YZdxgZWj6PGhchVAYKvtFHYnZWbu3JN385b/woMjOaIZFWiPgsTfz3H8ZaxgRPED370Rfmj3o/wAfxkGk0EcV+mgXdV/JrgCz4A7DsMuYwGMYwGMYwGMYwGMYwGMYwGMYwGMYwGMYwGMYwGMYwGMYwGMYwGMYwGMYwGMYwOf1HR5mlVxPwJN1fmWBR4X8wqTzXK1z28Zc6/G7QMI1DPakAgH9LA3z5FcfWs1MYGO/+M9RNnpGKl3GQt6v+7hV23/Ax1nWSxL6iorjcihQBv3OwXuzqtAm+/YHNjKOt0AkZCxtUJOwgFWJBA3WPFnAzukLIyPMm0Gf8ymLE76Ve24gDaoHtNcA57mm1AEKm9zMN5jSxXtFOWsKOWJI54FZZ6Pp5UEvqtu3SkpyTSbUFC/0+4MaHAvNPAYxjAYxjAYxjAYxjAYxjAYxjAYxjAYxjAYxjAYxjAhllVRbMACQOTXLGgOfJJAA+ueNVqVjXc5oCh88k0AAOSSSAAOTeSvGD3APIPPyOxzM67opZFQRMqsr7tzf0nayhgNpDEbro/yO+Bdg1SuFZPcjruDiqriu5vn7eMi6jrdgUBS7sRSrydoI3NXwBz96HcjJtNpVRUVR+hQqnzt4/wDAyLqWgEqhSxFG/BB78Mp4Yc39wD4wKUfW1aOSQDYqBNpkVgTuAI9lbrN0AOSeO+V9F15io9VQrem7OKI9Nk2+199V34NgHgjg3l6DpAWJ4w7D1O5Wl28Ae0Dgdv3s/OedJ0VULEOfchT2qqgA+aA5Px8YGD0X8atNPHGYdiua3M8FDg1WzUOSSaFBfOddqZ1RS7XQ70CT/Cgk5gdF/B0OnkSRJJSUvhpZGBsVyGcj+2dDLErDayhge4IsfwcCloeqxSuyJuDLR9yMm4ccruA3AE0a7H7i5dXr442VXcAuaA5PkDx2FkCzxZA85903T44yxjRVL1u2iroUP2Hx9T8nKGp6ZI+qEu5RGAlgH3N6ZZlUgrwNzBrDf0gEHuAsy9YiVipL2DRqKQi/uFo56l6iqzxwnvIjsP8Aht4+5BJr/afg1K3T4SdxiQm7soLv5usjl6bGzF2ssWRrvkenyoX4Hfjzub5wIOm9WE0QkXaQYlk9rWNx3Wtj4K1kQ6zuh9aMKwL7bUllArlvYCWo8UP7c5MOjrsRBJIAsaxnawG5V7biBY/4kd89T9HjeIxt7gWDe4A9tvAscWBX74FNeuMIpJCm4R7TYDJYJphUoWqHNk1zyRRzxpPxOkrlY0J2xu5qSJza7aWoZHPN+R4y/F0hEMjR/lNIQSyKgIoKKFqRXt8/OfIulFQw9aUht1g7Ktu54QH696wMjpX4qMskaelKPUvvp50Arud8kYU0aHjvebknU4w/pEn1L4SvcR/rA8p8t2HY88ZkdI/B0UEiSJJKSnhpZGB4rkM5B/jNdunIWLkHfuDbrO4V2APhfG3sbN9zgU9d1N43mv09sUJl5JDbfd38D9Pf65Y1esZQsiGNomKAGySd5ABUjg9xWNT0eNw17gzbrcH3Uwor8bar29uAe/OTvo0MgkIJYdrYkDvyqk7QeSLAvAparqbiMSKEH53pkMT5l9MEV/Jyt1H8TpCjNJtJSQRuqsu4Wtg0xHnwT25zR/6VGVCtbKDIaPa5CSbA70GIHxefB0sBaEkgO/eGBG66282CG4+QcDL6X+L4tQJjEpPpIGoslsTu4G1mocLz/uzQh6g+9Y3Vd3qFDtJr/L9QFb/jnLA0PsdHkeRXG0htooGwa2KvzniHpiqVbczMrlyzEEsxXZ7qA7LXau2BT0nWJSLeEj3RD9LrRkbay+9RuK97HBvxmHr/AMdMkkiJDvCMVDepAFNeSTqNwH/G/pnTt0iKwyoEZWDblFHg3X2PY/Q5jan8FwvK8xlmDO5c1LIBfxtVwKHA7dhgbM3WIlO0lr4PtjdhRFimVSDwfBySbVHeioL3KznjkqtcCyKJLDv8HPcmgiYlmiRie5Kgk/uRn2bT2VZTtKggcXwe4r9gf2wK2l6vG0ImkIhUkj8xlFEEiib23Y8E59bq8RRpIpElCVu9Ng9WfhLN/TzknStF6MYj3F6LGyAD7iTXAA7k5NqoN6lLIvyO4I5BFgjvgZOn/EAdtoA3e8hSSHKoZBu2EBhygHb+rPml6+GMY3RyF3C/kktttXb3EWAfb2NcWfGXdN0pUIIZiQSbNWSd9k0B5cnj6ZBpeiKkivvJKWRwAx4I97Dlu9m+55wIp+vhd1RuR/6bBTsdRtBbcBQFk/cCxY5yLXdbmTWJAqQFG22WlcS83ysYiII/5fPIy0/QVMhcueX3dhu73W+rrxXxxnvqHSBK+8uewFFQwFXyob9N+fmhkHjpfVmlSCQoUEyn2sKYOATfeipANft88Wk6nGX9MX6l0Ur3KP8AUw8L8N2Pi89RaMKY/cSI1pb5N1W4t5Ncfufnj4nTow24Xv3Fi1ncb7gnyv8At7ChQFCqKGo6u8bSb/SCRGLcbIpZGAtieBQ5y7qtS6On6CjsFHfdZBNjxwAT9gc8SdIjNEbg24MWvliGV6e+4tRXwOBQyyNGm/1aJeqBJJoedoJpb80BfnAz36lIUhdRGPVYLTE8MQTxXftlLXfi6KFQ0m0j1ZYmCOlq0bEchmFWACR43DNRekR7FRrYKu1bNVze4V2bt7u4riuc+jplKFWWRSHdtylbPqMWIIKkEWfjxgZvTfxSmojkeBb2MiKGZeWkIALbC1LZ7/Q5cXqj2V9MF1WWwD3aPbQX/wCQYfb65ZOguNkeR3simO0MpFEFSiiiCAfuM8w9ORSDZJAcHdR3byCxbj6eKA7V2wK+k6nIa3pQLhd210FbGYmpFB4Ir45zn0/HTGYR+j7d4UuZNOFC3RaxqC1Vz+m/pnUp0mFWV0QIVN+0VYoij9Ob/YZjab8FwpKJhLNu9T1OZZKLE3yu/b+1V9MajqcYxhVfUThACQxtlX2qWNsQBYUGhZ5PYCyaAyv1nWejBJL/AKEZgNpYkgcAKOWJNCh3vNDKOu0KTLUm6lYMNrunuUgi9jC+QDR44wM7o/Upi+ydo/ci7CI2hLyc+oqJK5ZgBtN/Xzm1PJtUm1FeWND985/r0xXWaRBVSkhvkBCjDb8c9/pnS4FTqLOIpDHe8IxWqJ3UaoHg8/OYfS+sb5FiilaYe4u0jRAqKFUIlvg/6lANn3cVnRSxhgVYWpsEHsQe95Ug6TEh3DeSAQN8kjgA96DsQP2wM5NVIpZVmaVVkhXewj/Uz06Axoo4Wr4sXmn1ed44JZI9u9EZhuvbagnmucmbSIUC7QFUqQBwAVIIoD6jPciBlIYAgggg9iD3vA538Ra6VZAscksdbbOxTE1n9Kn0ZGLnt4AsdzwfGr6mVjjd5p4EKuCzLCJC4IoNuQqLFkUBnSywKwAYXTKw+6kEH+QMrazQJJRbcCvYo7owDbbG5GBo8cXXA+MCHoWsaWMyMAFLtsO4ElLNXt9v7hmB73zlLq2qeN3KTMx9ORyhEZWNVRtrcIG/WABbG/d8ca+l0qxrtQEC/JLEknklmJJP1Jw2mQq67RUhIeuN1ijZHN1gZfWNXIPRMcnpiRwtMACSfDBkahxXFHnv2ySHWSM6oTX50gJA/pj7KPuSP2BzSm0qN+pFNjabH9J7j7ZGOnxjbS1tfeKJ4Yggnv8ABIrtzhHO9S6jKJjsfUKoLDYI03NX/s3CwI8+9h+2aks7erEVlkuSvySI6CVbMw2b1rj+qtxUeazWeBSysRyt0fi++eUiUMxCgE1ZA5NdrPnCsnp+ud100hJ/NSmUrXu27t4HjsR8EMM3MqpokTbtWti7F5JpeOOT9Bz3y1gMYxgMYxgMYxgMYxgMYxgMYxgMYxgMYxgMYxgMYxgMYxgMYxgMYxgMYxgf/9k=\">\n",
        "        - 가치평가모형 수식\n",
        "            - 요구수익률 = 무위험이자율+(시장수익률-무위험이자율)*베타\n",
        "            - 배당성장률 = 내부유보율 * 자기자본이익률(ROE)\n",
        "            - 내부유보율 = 1-배당성향\n",
        "* 고속성장모형\n",
        "    - 고속성장 시기에는 기업의 성장률이 정상적인 수준보다 크게 나타남"
      ],
      "metadata": {
        "id": "PlDHEcLruwZq"
      }
    },
    {
      "cell_type": "markdown",
      "source": [
        "# 활동성지표\n",
        "|종류|수식|정의|활용|\n",
        "|---|---|---|---|\n",
        "|재고자산회전율|순매출/재고자산 = 매출원가/재고자산|재고자산을 판매하는 속도를 측정|- 높을 수록 효율적이거나, 덤핑처분 <br>- 낮을수록 재고자산 규모가 불충분, 매출 둔화|\n",
        "|매출채권회전율|순매출/순매출채권|기업이 매출액을 현금으로 전환시키는 속도 측정|- 높을수록 효율적 대금회수, 높은 할인율 적용<br>- 낮을수록 느슨한 대금회수정책, 매출둔화|\n",
        "|평균회수기간|(순매출채권*365일)/순매출액|매출액을 현금으로 전환하는 속도를 측정|- 짧을수록 효율적이거나 엄격한 회수 정책<br>- 길수록 빈약한 매출, 느슨한 신용정책, 매출 둔화|\n",
        "|총자산회전율|순매출/총자산|투자한 자산에 의하여 창출되는 매출액을 측정|- 높을수록 단위당 매출액이 효율적, 또는 충분한 자산을 보유하지 않음을 나타냄<br>- 낮을수록 매출 둔화 및 전체적 비효율 발생|"
      ],
      "metadata": {
        "id": "w5HOS2hnvtn8"
      }
    },
    {
      "cell_type": "markdown",
      "source": [
        "# 보상비율\n",
        "* 배당성향 : 보통주 주주들의 몫인 이익에서 실제로 그들에게 지불된 금액의 백분율을 측정하는 지표\n",
        "    - 아주 낮게 나타나는 경우\n",
        "        - 이익을 주주에게 지불하는 대신 투자에 사용\n",
        "        - 영업손실, 낮은 수익성, 급속성장 기업\n",
        "    - 아주 높게 나타나는 경우\n",
        "        - 별다른 사업계획이 없음\n",
        "        - 기업 성장률이 둔화되거나 부정적\n",
        "* 이자보상비율\n",
        "    - 이자보상비율 = 이자 및 법인세 차감 전 이익(또는 영업이익)/이자비용\n",
        "    - 기업이 창출하고 있는 이익으로 이자비용을 어느 정도 보상할 수 있는지 그 지불능력을 측정하는 지표\n",
        "    - 높은 경우\n",
        "        - 채권자들이 더 잘 보호되며, 주주들도 안정적\n",
        "        - 차입을 통한 추가자금 조달 용이\n",
        "    - 낮은 경우\n",
        "        - 지나치게 높은 레버리지를 이용한 공격적인 경영\n",
        "        - 차입한 자본에 대해서 충분한 수익을 얻지 못함\n",
        "* 고정비용 보상비율\n",
        "    - 기업이 부담하고 있는 재무적 의무를 이행하기 위하여 기업이 가지고 있는 이익 규모의 여유가 어느 정도인가를 가늠하는 지표\n",
        "    - 높은 경우\n",
        "        - 채권자들과 리스업자들이 잘 보호\n",
        "        - 주주보호 및 차입을 통한 추가자금 조달 용이\n",
        "        - 기업이 레버리지를 충분히 활용하지 못함\n",
        "    - 낮은 경우\n",
        "        - 과다한 레버리지를 이용한 저돌적인 경영\n",
        "        - 차입한 부채나 리스료에 비해 충분한 수익을 얻지 못함"
      ],
      "metadata": {
        "id": "Tt_2uCMEw2km"
      }
    },
    {
      "cell_type": "markdown",
      "source": [
        "# 주당 순이익 (EPS)\n",
        "* EPS = (순이익 - 우선주 배당금)/총 보통주 발행주식수\n",
        "* 기업 전체의 경영 성과를 보여주는 지표로 보통주 1주당 분배될 수 있는 이익의 크기\n",
        "* 낮은 EPS는 기업이 이익을 충분히 내지 못하고 있음을 나타냄\n",
        "* 낮은 EPS의 원인\n",
        "    - 기업의 비효율적 경영\n",
        "    - 부채비율이 높아 재무부담 증가\n",
        "    - 연구개발비에 지나친 투자\n",
        "    - 지나치게 보수적인 회계원칙 채택\n",
        "    - 기업의 수익성 하락 또는 유상증자로 인해 총 발행주식수 증가"
      ],
      "metadata": {
        "id": "EpHvlHHkxsPn"
      }
    },
    {
      "cell_type": "markdown",
      "source": [
        "# 안정성지표\n",
        "* 정의\n",
        "    - 기업의 중장기적 채무이행능력을 나타내는 지표\n",
        "* 부채비율(DR)\n",
        "    - 부채비율 = 총부채/총자산\n",
        "    - 총자본 중 채권자들이 제공한 자금의 비율을 측정하는 지표로 재무레버리지의 크기를 나타냄\n",
        "    - 일반적으로 50% 기준으로 낮으면 안정적, 높으면 지나친 레버리지 사용\n",
        "    - 낮은 부채비율은 차입금을 상환하기 위한 자산의 비율이 높기 때문에 채권자 및 주주들이 선호\n",
        "* 부채-자기자본비율(DER)\n",
        "    - 부채-자기자본비율 = 총부채/자기자본\n",
        "    - 부채는 채권으로 이자비용이 발생하고, 자기자본은 주식으로 이자비용이 없으나 성과에 대한 배당을 함\n",
        "    - 주주들이 출자한 자본에 대한 레버리지 효과의 크기를 나타냄\n",
        "    - 일반적으로 100보다 높을수록 기업의 위험과 요구수익률은 높고, 낮을수록 기업의 위험은 낮고 안정적\n",
        "* 부채비율과 DER의 관계\n",
        "    - 부채비율의 총자산에는 자기자본과 타인자본이 포함\n",
        "    - 부채-자기자본비율은 자기자본만 들어감 -> 총부채 동일 = 부채-자기자본비율 > 부채비율"
      ],
      "metadata": {
        "id": "gacHKYhAzKTQ"
      }
    },
    {
      "cell_type": "markdown",
      "source": [
        "# 유동성지표\n",
        "* 현금비율(CAR)\n",
        "    - 현금비율 = (현금 + 시장성 유가증권)/유동부채\n",
        "    - 단기부채를 부담할 수 있는 기업의 능력을 측정하는 지표로 기업의 현금보유 상태를 가장 잘 알려줌\n",
        "    - 현금비율이 너무 낮은 경우 현금부족 사태 직면, 높을 경우 보수적 경영정책\n",
        "* 유동비율(CR)\n",
        "    - 유동비율 = 유동자산/유동부채\n",
        "    - 높을수록 단기부채를 쉽게 상환할 수 있음을 의미하며, 유동비율이 2 이상인 기업은 건전한 것으로 인식\n",
        "* 당좌비율(QR)\n",
        "    - 당좌비율 = (유동자산 - 재고자산 - 선급금)/유동부채\n",
        "    - 일시적 재무위기 시 현금동원능력"
      ],
      "metadata": {
        "id": "IBxcAOJW6xU4"
      }
    },
    {
      "cell_type": "markdown",
      "source": [
        "# 수익성지표\n",
        "* 매출액영업이익률(OPM)\n",
        "    - OPM = 영업이익/순매출액\n",
        "    - 기업의 영업 효율성을 측정하는 지표로 매출액 한 단위가 창출하는 영업이익의 공헌비율을 측정\n",
        "    - 일반적으로 높을수록 효율적인 영업을 의미하나, 지나치게 높은 경우 충분한 투자가 안 됨을 의미\n",
        "* 총자산이익률(ROA)\n",
        "    - ROA = 순이익/총자산 = 순이익/순매출액 * 순매출액/총자산\n",
        "    - 기업이 보유한 자산을 얼마나 효율적으로 활용하였는가를 보여주는 지표\n",
        "    - 높을수록 기업은 효율적 영업을 수행함을 나타내며, 투하자본수익률이나 자기자본이익률과 매우 흡사\n",
        "    - 총자산수익률이 높게 나타난다면 자기자본수익률도 높게 나타남\n",
        "* 자기자본이익률(ROE)\n",
        "    - ROE = 순이익/자기자본 = ROA/자기자본비율 = ROA/(1 - 총부채/총자산)\n",
        "    - 자기자본 총액을 얼마나 효율적으로 활용하였는가를 측정하는 지표\n",
        "    - 재무분석에서 가장 중요한 지표로 높을수록 주주들의 이익이 많아진다는 의미\n",
        "    - ROE 분석 시 반드시 순이익률과 재무레버리지를 함께 검토하여 어떤 요인이 ROE를 상승시키는지 확인"
      ],
      "metadata": {
        "id": "NtclFmGG7PYG"
      }
    },
    {
      "cell_type": "markdown",
      "source": [
        "# 기업분석지표\n",
        "|구분|종류|\n",
        "|--|--|\n",
        "|활동성지표|비유동자산회전율, 재고자산회전율, 매출채권회전율, 평균회수기간, 총자산회전율|\n",
        "|보상비율|배당성향, 이자보상비율, 고정비용보상비율|\n",
        "|이익지표|주당이익, 완전 희석 주당이익|\n",
        "|안정성지표|부채비율, 부채-자기자본비율|\n",
        "|유동성지표|현금비율, 유동비율, 당좌비율|\n",
        "|수익성지표|매출액영업이익률, 총자산이익률, 자기자본이익률|"
      ],
      "metadata": {
        "id": "skTx_dbE8Mjo"
      }
    },
    {
      "cell_type": "markdown",
      "source": [
        "# 영업레버리지분석\n",
        "* 레버리지분석\n",
        "    - 기업의 비용이 변동비로만 구성된다면 매출액과 영업이익은 일정한 비율로 변화하나, 고정비의 존재로 지렛대 작용을 일으켜 기업의 손익이 확대되어 나타나는 효과를 분석하는 것\n",
        "* 레버리지의 종류\n",
        "    - 영업레버리지분석, 재무레버리지분석, 결합레버리지분석\n",
        "* 영업레버리지의 의미\n",
        "    - 고정 영업비의 존재로 영업이익이 확대되어 나타나는 현상\n",
        "    - 고정비를 부담하지 않는 기업에서는 영업레버리지 효과가 발생하지 않음\n",
        "    - 영업레버리지가 높은 기업일수록 영업레버리지 효과는 커짐\n",
        "* 영업레버리지도(DOL)\n",
        "    - DOL = 영업이익의 변화율/판매량의 변화율"
      ],
      "metadata": {
        "id": "Y57kiZ4h8v_-"
      }
    },
    {
      "cell_type": "markdown",
      "source": [
        "# 재무레버리지와 결합레버리지\n",
        "* 재무레버리지도(DFL)\n",
        "    - 기업이 조달한 총자본 중에서 타인자본이 차지하는 비율을 의미\n",
        "    - 재무레버리지가 크다는 것은 타인자본 의존도가 높다는 것을 의미\n",
        "    - 기업이 부채를 사용하는 경우 영업이익의 변화율에 대한 주당이익의 변화율이 확대되는 현상을 재무레버리지 효과라고 함\n",
        "    - 재무레버리지도는 타인자본 의존도가 높을수록 크고, 영업이익이 커질수록 낮아짐\n",
        "    - 재무레버리지도가 높은 기업은 주주들의 불안감으로 인해 자기자본비용을 상승시킴\n",
        "    - DFL = 주당이익의 변화율/영업이익의 변화율 = 영업이익/(영업이익-이자비용)\n",
        "    - EPS(주당이익) = (영업이익-이자비용)(1-세율)/발행총주식수\n",
        "* 결합레버리지도(DCL)\n",
        "    - 매출액의 변화율에 대한 주당 순이익의 변화율로, 영업레버리지 * 재무레버리지로 계산\n",
        "    - 영업고정비와 이자비용이 존재하면 결합레버리지는 항상 1보다 큼\n",
        "    - DCL = DOL * DFL\n",
        "    - DCL = (매출액 - 변동비)/(매출액 - 변동비 - 고정비 - 이자비용)"
      ],
      "metadata": {
        "id": "UIuFwT4m9O_l"
      }
    },
    {
      "cell_type": "markdown",
      "source": [
        "# 주가이익비율(PER)\n",
        "* 주가이익비율(PER)\n",
        "    - PER = 1주당 가격/주당이익 = 시가총액/순이익\n",
        "    - 주당이익은 순이익을 보통주 주주들에게 모두 지급한다고 가정했을 때 1주당 분배금\n",
        "    - 주가이익비율은 투자자들이 기업의 이익규모에 두고 있는 가치를 측정하는 지표\n",
        "    - 주가이익비율이 높을수록 변동성은 커지고 투자위험도 더 높아짐\n",
        "    - 높은 PER은 기업이익의 폭발적 성장을 의미하고, 낮은 PER은 보수적이고 안정적인 기업으로 인식\n",
        "* 주가이익비율의 활용 및 유의점\n",
        "    - PER = (1-b)/k-(b*ROE)\n",
        "    - (1-b)=배당성향, (b*ROE)=성장률(g), k=요구수익률\n",
        "    - per은 성장률(g)와 양(+), 자본비용(k)과 음(-), ROE<k이면 배당성향과 양(+), ROE>k이면 배당성향과 음(-)의 관계\n",
        "* 주가이익성장배율(PEGR)\n",
        "    - PER은 성장성 지표이지 주가지표는 아니기 때문에 특정 주식의 PER이 그 기업의 성장성에 비해 높은지 낮은지 판단하기 위해 고안된 지표\n",
        "    - PEGR이 낮으면 이익 성장성에 비해 PER이 낮게 나온 것이므로 향후 주가상승이 가능함을 의미\n"
      ],
      "metadata": {
        "id": "utmBqr3wB7iz"
      }
    },
    {
      "cell_type": "markdown",
      "source": [
        "# 주가순자산비율(PBR)\n",
        "* 주가순자산비율(PBR)\n",
        "    - PBR은 자산가치에 대한 평가뿐만 아니라 수익가치에 대한 포괄적인 정보가 반영\n",
        "    - PBR = 시장가치(주가)/주당순자산 = 순이익/매출액 * 매출액/총자산 * 총자산/자기자본 * PER = ROE * PER\n",
        "    - PBR = (ROE - 배당성장률)/(요구수익률 - 배당성장률)\n",
        "    - 주가 = PBR * BPS\n",
        "* 주가순자산비율(PBR)의 이해\n",
        "    - ROE와는 양(+)의 상관관계\n",
        "    - 위험과는 음(-)의 상관관계\n",
        "    - ROE > 자본비용이면 PBR은 1보다 크고 성장률이 높을수록 커짐\n",
        "    - ROE < 자본비용이면 PBE은 1보다 작고 성장률이 높을수록 작아짐\n",
        "* 주가와 주당순자산이 같지 않기 때문에 PBR이 1이 안되는 이유(적용기준 차이)\n",
        "    - 시간성의 차이 : 주가는 미래지향적이나 주당순자산은 과거지향적\n",
        "    - 집합성의 차이 : 주가는 기업을 총체적 반영하나 BPS는 개별자산의 합에서 부채를 차감\n",
        "    - 자산/부채의 인식기준 차이 : 자산이나 부채의 장부가액은 회계 관습에 영향\n",
        "* 토빈의 Q\n",
        "    - 토빈의 Q = 자본의 시장가치/자산의 대체원가\n",
        "    - PBR과 유사한 개념이나 PBR의 단점인 시간성의 차이를 극복한 지표\n",
        "    - Q비율이 높을수록 투자수익성이 양호하고 경영이 효율적\n",
        "    - Q비율이 낮을수록 적대적 M&A 대상이 될 가능성이 높음"
      ],
      "metadata": {
        "id": "4b-RtIVLC4gH"
      }
    },
    {
      "cell_type": "markdown",
      "source": [
        "# EV/EBITDA 비율\n",
        "* 정의\n",
        "    - EV(Enterprise value)\n",
        "        - 영업으로 벌어들인 이익에 대한 기업가치의 비율을 기준으로 상장기업 전체가치를 추정하는 방식\n",
        "        - EV = 주주가치 + 채권자가치 = 주식시가총액 +(이자지급성 부채 - 현금 및 유가증권)\n",
        "    - EBITDA(Earnings Before Interest, Texm Depreciation and Amortization)\n",
        "        - 이자 및 세금, 상각비 차감 전 이익을 의미 \n",
        "        - EBITDA = 영업이익 + 감가상각비 + 무형자산상각비\n",
        "    - 상장기업의 시장가치와 유사기업의 EV/EBITDA를 통한 비교\n",
        "        - 유사기업의 EV/EBITDA * 상장기업의 EBITDA = 상장기업의 EV 추정\n",
        "        - 상장기업의 EV - [채권자 가치(이자지금성부채 = 현금 및 유가증권)] = 예상시가총액 추정\n",
        "        - 예상시가총액/공모 후 발행주식수 = 주당 가치 추정\n",
        "* 장점 및 한계\n",
        "    - 당기순이익을 기준으로 평가하는 PER의 한계점 보완\n",
        "    - 기업의 자본구조를 감안한 평가방식\n",
        "    - 단순한 추정방식\n",
        "    - 분석기준이 널리 알려져 있고 회사 간 비교 가능성이 높아 공시정보로 유용성이 큼\n",
        "    - 시가총액이 분석시점에 따라 변동하기 때문에 추정과 실제 상장 시의 시가변동을 고려해야 함"
      ],
      "metadata": {
        "id": "Es460GFhEHVx"
      }
    },
    {
      "cell_type": "markdown",
      "source": [
        "# EVA모형\n",
        "* 경제적 부가가치(EVA)\n",
        "    - EVA = 세후 순영업이익 - WACC * 영업용 투하자본 \n",
        "    - = (투하자본이익률 - WACC) * 영업용 투하자본 \n",
        "    - = 초과수익률 * 영업용 투하자본\n",
        "    - 자기자본 사용에 따른 기회비용을 고려한 성과측정 수단\n",
        "    - EVA가 (+)이면, 현 시점에서 기회비용을 초과한 가치를 창조함을 의미\n",
        "    - EVA는 세후 순영업이익에서 투하자본에 대한 자본비용을 공제한 잔여이익\n",
        "* 가중평균자본비용(WACC)\n",
        "    - WACC = 타인자본/(타인자본+자기자본) * 타인자본비용 * (1-t) + 자기자본/(타인자본+자기자본) * 자기자본비용\n",
        "    - 투자자들이 제공한 투하자본에 대한 비용\n",
        "    - 외부차입에 의한 타인자본비용과 주주들의 자기자본비용까지 포함\n",
        "    - 일반적으로 자기자본은 타인자본보다 높기 때문에 자기자본의 요구수익률이 높음\n",
        "* EVA와 당기순이익 비교\n",
        "    - 영업성과를 파악하는 손익계산서상 당기순이익에는 자기자본 비용이 반영되지 않으나 EVA는 반영\n",
        "    - 당기순이익에 근거한 방식은 자기자본에 대한 요구수익률이 충족되지 않음에도 긍정적 평가가 나옴\n",
        "    - EVA는 타인자본비용과 자기자본비용을 더한 것 이상의 이익을 실현하는 것을 기업투자의 목표로 활용\n",
        "    - 주주자본비용의 기회비용적 성격을 명확히 설정 가능"
      ],
      "metadata": {
        "id": "i1ZK6VR9FkgQ"
      }
    },
    {
      "cell_type": "markdown",
      "source": [
        "# EVA와 MVA의 관계\n",
        "* 시장부가가치(MVA)\n",
        "    - MVA = 시장에서 형성된 기업가치 - 주주와 채권자의 실제 투자액\n",
        "    - MVA가 양(+)이면 기업가치 창출을 의미하고, 음(-)이면 기업가치 감소를 의미\n",
        "* EVA와 MVA의 관계\n",
        "    - 효율적 시장에서는 모든 EVA의 현재가치의 합이 MVA\n",
        "    - 위와 같다면 MVA가 주식시장의 영향을 받는 반면, 단기성과지표인 EVA는 더욱 유용한 수단이 됨\n",
        "    - 기업가치는 미래 이익의 현재가치의 합이며, 미래이익은 자본비용과 초과이익으로 분해\n",
        "    - 기업가치 = 영업용 투하자본 + PV(초과이익) = 영업용 투하자본 + MVA\n",
        "    - 비사업 자산이 있는 경우 : 기업가치 = 영업용 투하자본 + MVA + 비산업자산가치"
      ],
      "metadata": {
        "id": "DsIrWFqBG0fa"
      }
    },
    {
      "cell_type": "markdown",
      "source": [
        "# 각종 경영성과지표 비교\n",
        "|구분|정의|장점|단점\n",
        "|--|--|--|--|\n",
        "|시장부가가치<br>(MVA)|미래의 경제적 이익을<br>자본비용으로 할인한 현가의 합|- 회계지표의 한계 극복<br>- 전략 및 투자결정에 유용<br>- 장기적 경영 가능|측정이 복잡|\n",
        "|경제적<br>부가가치(EVA)|세후 영업이익 - 투하자본 * 자본비율|자본비용을 고려한 단기적 가치창출 계산|단기적 성과에 치중|\n",
        "|투하자본수익률<br>(ROIC)|세후 영업이익/투하자본|- 투하자본의 수익성 측정<br>- 손익계산서와 재무상태표 모두 고려|자본의 기회비용 무시|\n",
        "|자기자본이익률|순이익/자기자본|주주입장에서의 수익성 측정|영업외 활동의 영향 포함|\n",
        "|매출액영업이익률|영업이익/매출액|이해하기 용이|보유자산의 활용도 무시|"
      ],
      "metadata": {
        "id": "u99bywKcHgGh"
      }
    }
  ]
}