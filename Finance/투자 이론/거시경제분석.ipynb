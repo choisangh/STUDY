{
  "nbformat": 4,
  "nbformat_minor": 0,
  "metadata": {
    "colab": {
      "name": "거시경제분석.ipynb",
      "provenance": [],
      "collapsed_sections": [],
      "authorship_tag": "ABX9TyPLt33VDdEbrV94vYC1bY+7",
      "include_colab_link": true
    },
    "kernelspec": {
      "name": "python3",
      "display_name": "Python 3"
    },
    "language_info": {
      "name": "python"
    }
  },
  "cells": [
    {
      "cell_type": "markdown",
      "metadata": {
        "id": "view-in-github",
        "colab_type": "text"
      },
      "source": [
        "<a href=\"https://colab.research.google.com/github/choisangh/STUDY/blob/main/finance/%EA%B1%B0%EC%8B%9C%EA%B2%BD%EC%A0%9C%EB%B6%84%EC%84%9D.ipynb\" target=\"_parent\"><img src=\"https://colab.research.google.com/assets/colab-badge.svg\" alt=\"Open In Colab\"/></a>"
      ]
    },
    {
      "cell_type": "markdown",
      "source": [
        "# 시장의 분류와 균형분석\n",
        "* 시장의 분류\n",
        "    - 재화시장 : 상품과 서비스가 거래되는 시장\n",
        "    - 화폐시장 : 화폐가 거래되는 시장\n",
        "    - 노동시장 : 노동력이 상품으로 거래되는 시장\n",
        "    - 채권시장 : 채권이 거래되는 시장\n",
        "* 왈라스의 법칙\n",
        "    - 채권시장과 외환시장을 분석대상에서 제외한 폐쇄경제를 가정함\n",
        "    - n개의 시장 중 (n-1)개의 시장이 균형이면 나머지 하나의 시장도 균형을 이룬다는 것을 내용으로 함\n",
        "* 균형분석\n",
        "    - 재화시장에 대한 5단계 분석을 통해 IS곡선 도출\n",
        "    - 화폐시장에 대한 5단계 분석을 통해 LM곡선 도출\n",
        "    - 재화시장과 화폐시장의 동시균형을 통해 총 수요의 크기가 결정\n",
        "    - 노동시장과 생산함수를 통해 총공급의 크기를 결정\n",
        "    - 총수요와 총공급이 교차하는 점에서 균형국민소득 결정\n",
        "* IS-LM모형\n",
        "    - 총수요 중시 모형 : 현대 선진국 경제의 특징은 수요가 공급보다 적은 수요부족경제\n",
        "        - 균형국민소득의 크기는 수요의 크기에 의해 결정\n",
        "    - 물가불변 및 불완전고용을 가정\n",
        "        - 수요부족경제에서는 물가가 상승하지 않으므로 물가불변을 가정\n",
        "        - 물가가 변동한다면 총수요-총공급모형을 통해 균형국민소득을 분석할 수 있음\n",
        "    - 선진국형 수요부족경제에서는 IS-LM모형으로 균형국민소득의 크기를 파악\n",
        "        - IS-LM모형 : 이자율과 국민소득의 관계를 설명하는 모형\n",
        "        - IS곡선과 LM곡선이 교차하는 점에서 총수요(국민소득)의 크기가 결정됨"
      ],
      "metadata": {
        "id": "Ga2tHMs2IyDt"
      }
    },
    {
      "cell_type": "markdown",
      "source": [
        "# 재화시장의 균형 : IS곡선\n",
        "* IS곡선\n",
        "    - 재화시장의 균형이 이루어지는 이자율과 국민소득의 조합을 나타내는 선\n",
        "    - 이자율 하락 시 투자가 증가하여 생산량이 늘어나므로 균형국민소득 증가\n",
        "    - 이자율 하락 시 균형국민소득이 증가하므로 IS곡선은 우하향의 형태로 도출\n",
        "* IS균형식\n",
        "        Y = C(Y - T) + I(R) + G\n",
        "    - 변수\n",
        "        투자(I) : 이자율의 감소함수\n",
        "        소비(C) : 가처분소득(Y-T)의 증가함수\n",
        "    - 내생변수와 외생변수\n",
        "        - 내생변수 : 국민소득(Y), 이자율(R) -> IS곡선의 기울기를 규정\n",
        "        - 외생변수 : 정부지출(G), 조세(T) -> IS곡선을 이동시킴\n",
        "    - 변수 간의 관계\n",
        "        - 국민소득과 이자율 : 음(-)의 관계\n",
        "        - 국민소득과 정부지출 : 양(+)의 관계\n",
        "        - 국민소득과 조세 : 음(-)의 관계\n",
        "* 재정정책\n",
        "    - 확대재정정책(정부지출 증가, 조세 감소) : IS곡선 우측으로 이동\n",
        "    - 긴축재정정책(정부지출 감소, 조세 증가) : IS곡선 좌측으로 이동"
      ],
      "metadata": {
        "id": "cY5IPmD1Jw9P"
      }
    },
    {
      "cell_type": "markdown",
      "source": [
        "# 화폐시장의 균형 : LM곡선\n",
        "* LM곡선\n",
        "    - 화폐시장의 균형을 이루는 이자율과 국민소득의 조합을 나타내는 선\n",
        "    - 국민소득이 증가하면 거래적 동기의 화폐수요가 증가하므로 화폐수요곡선이 우측으로 이동\n",
        "    - 화폐수요곡선이 우측으로 이동하면 이자율이 증가하므로 LM곡선은 우상향\n",
        "* LM균형식\n",
        "        M/P = L(Y,R)\n",
        "    - 변수\n",
        "        - 화폐의 거래적 수요[L(Y)] : 국민소득의 증가함수\n",
        "        - 화폐의 투기적 수요[L(R)] : 이자율의 감소함수\n",
        "    - 내생변수와 외생변수\n",
        "        - 내생변수 : 국민소득(Y), 이자율(R) -> LM곡선의 기울기를 규정함\n",
        "        - 외생변수 : 명목화폐공급(M) -> LM곡선을 이동시킴\n",
        "    - 변수 간의 관계\n",
        "        - 국민소득과 이자율(R) : 양(+)의 관계\n",
        "        - 국민소득과 명목화폐공급(M) : 양(+)의 관계\n",
        "        - 국민소득과 물가(P) : 음(-)의 관계\n",
        "* 통화정책\n",
        "    - 확대통화정책(명목화폐공급 증대, 물가하락) : LM곡선 우측 이동\n",
        "    - 긴축통화정책(명목화폐공급 축소, 물가상승) : LM곡선 좌측 이동"
      ],
      "metadata": {
        "id": "OlVTzdljKyTH"
      }
    },
    {
      "cell_type": "markdown",
      "source": [
        "# 구축효과\n",
        "* 의의\n",
        "    - 확대재정정책을 시행하면 이자율이 상승하여 민간투자가 감소하는 효과\n",
        "    - IS곡선이 우측으로 이동하면서 균형점도 이동\n",
        "* 종류\n",
        "    - 완전구축효과 : LM곡선 수직 -> 재정정책의 효과 없음(이자율만 상승)\n",
        "    - 부분구축효과 : LM곡선 우상향 -> 재정정책의 효과 있음\n",
        "    - 무 구축효과 : LM곡선 수평 -> 재정정책의 효과 최대(이자율 상승 없음)\n",
        "\n",
        "\n",
        "<img src= \"data:image/jpeg;base64,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\">"
      ],
      "metadata": {
        "id": "k7TIXFVWMEX8"
      }
    },
    {
      "cell_type": "markdown",
      "source": [
        "# 유동성함정\n",
        "* 의의\n",
        "    - 이자율이 임계이자율 이하로 하락할 경우 화폐수요의 기회비용이 매우 낮아져 화폐수요가 폭발적으로 증가하는 현상\n",
        "    - <img src=\"https://t1.daumcdn.net/cfile/tistory/213D6A3F544E5D5F0D\" width=300px>\n",
        "* 특징\n",
        "    - 화폐수요의 이자율 탄력성 : 무한대\n",
        "    - LM곡선의 형태 : 수평선\n",
        "    - 통화정책의 효과 : 없음 -> LM곡선 수평(유동성함정)\n",
        "    - 재정정책의 효과 : 최대 -> 구축효과 없음(이자율의 상승 없이 국민소득 증가)"
      ],
      "metadata": {
        "id": "N-daFROTMtZ2"
      }
    },
    {
      "cell_type": "markdown",
      "source": [
        "# 재정정책과 통화정책에 대한 논의\n",
        "* 피구효과\n",
        "    - 경기침체기에 물가가 하락하여 실질잔고가 증가함으로써 국민소득이 증가하는 현상으로, 실질잔액효과라고도 함\n",
        "    - 경기불황 -> 물가 하락 -> 화폐의 실질가치 증가 -> 부의 증가 -> 소비 및 총수요 증대 -> IS곡선 우측이동 -> 유동성함정 탈피\n",
        "    - 케인즈학파의 유동성함정논리에 대응하는 논리로 일부 고전학파가 주장\n",
        "* 부채-디플레이션 이론\n",
        "    - 피셔 등의 학자가 주장한 것으로, 물가가 하락하면 실물자산의 가치가 하락하게 되어 경제주체들의 실질부채 부담액이 늘어나는 것을 설명하는 이론\n",
        "    - 경기불황 -> 물가 하락 -> 화폐의 실질가치 증가 -> 실질부채 부담액 증가 -> 소비 위축 -> IS곡선 좌측 이동 -> 경기불황과 디플레이션 지속\n",
        "* 리카르도 불변정리\n",
        "    - 소비에 대한 가설\n",
        "        - 케인즈학파(절대소득가설) : 세금 감소는 소득을 증가시키므로 소비 증가에 영향을 미침\n",
        "        - 통화주의자(항상소득가설) : 세금 감소는 일시적으로 소득을 증가시키므로 소비 증가에 영향 없음\n",
        "    - 리카르도 불변정리(합리적 기대학파의 주장)\n",
        "        - 합리적 경제주체들은 현재의 세금 감소가 미래의 세금 증가로 이어진다고 인식 -> 일시적인 세금 감소는 민간의 저축만 증가시키고 총수요는 변화가 없음\n",
        "* 통화량정책무용성의 정리\n",
        "    - 루카스, 사전트, 왈라스 등 합리적 기대학파가 주장함\n",
        "    - 예상된 화폐공급의 증가 : 물가만 상승시키고 국민소득은 증가시키지 못함\n",
        "    - 예상치 못한 화폐공급의 증가(=화폐충격) : 국민소득에 영향을 미침"
      ],
      "metadata": {
        "id": "tGBWTDSRO4WZ"
      }
    },
    {
      "cell_type": "markdown",
      "source": [
        "# 통화정책의 중간목표\n",
        "* 통화정책의 중간목표\n",
        "    - 통화량목표정책\n",
        "        - 목표 통화량을 설정하고 목표 통화량을 유지 : 이자율의 변동을 수용\n",
        "        - 통화량이 고정되면 LM곡선은 양(+)의 기울기를 가짐\n",
        "    - 이자율목표정책\n",
        "        - 목표 이자율을 결정하고 목표 이자율을 유지하기 위해 정책수단을 사용\n",
        "        - 이자율을 고정시키면 LM곡선은 수평으로 나타남\n",
        "* 중간목표의 선택(가정 : 최종목표가 국민소득 안정인 경우)\n",
        "\n",
        "|구분|실물충격|화폐충격|\n",
        "|--|--|--|\n",
        "|곡선 이동|IS곡선 이동|LM곡선 이동|\n",
        "|통화량목표 분석|국민소득 변동 적음<br>이자율 변동|국민소득 변동 있음<br>이자율 변동|\n",
        "|이자율목표 분석|국민소득 변동이 큼<br>이자율 고정|국민소득 고정<br>이자율 고정|\n",
        "|중간목표 선택|통화량목표정책이 적절|이자율목표정책이 적절|\n",
        "\n",
        "* 실물충격 -> 통화량목표\n",
        "* 화폐충격 -> 이자율목표"
      ],
      "metadata": {
        "id": "ys5mtRszQQ1L"
      }
    },
    {
      "cell_type": "markdown",
      "source": [
        "# 이자율의 성립\n",
        "* 이자율의 역할\n",
        "    - 실질이자율 : 소비, 투자, 노동공급에 영향을 미치는 이자율\n",
        "    - 명목이자율 : 화폐의 수요와 공급에 영향을 미치는 이자율\n",
        "* 실물적 측면에서의 이자의 정당성\n",
        "    - 생산력설(세이, 맬더스)\n",
        "        - 자본재는 일정한 생산력을 가지고 있음\n",
        "        - 자본재 구입 자금을 빌려준 것에 대한 대가가 이자\n",
        "    - 시간선호설(뵘 바베르크, 피셔)\n",
        "        - 불확실한 미래재보다 확실한 현재재를 더 선호함\n",
        "        - 현재재 소비의 희생에 대한 대가가 이자\n",
        "        - 모든 사람들이 미래재를 선호하는 경우 음(-)의 이자율 성립도 가능\n",
        "    - 인구의 증가(사무엘슨)\n",
        "        - 중첩세대모형 : 재화의 저장이 불가능하다는 전제하에서 젊은 세대가 현재의 노인 세대에게 재화 중 일부를 제공하고 근로능력을 상실하는 미래에 되돌려 받을 수 있는 사회계약\n",
        "        - 생물학적 이자율 : 현재의 노인 세대는 인구증가분만큼의 재화를 더 받을 수 있다는 것을 이자로 설명한 것\n",
        "* 화폐적 측면에서의 이자의 정당성(케인즈의 유동성선호설)\n",
        "    - 유동성 : 즉시 사용할 수 있는 현금이 갖는 매력적인 장점\n",
        "    - 현금을 빌려주는 것은 유동성을 포기하는 것이므로 그에 대한 대가를 수취"
      ],
      "metadata": {
        "id": "D_xfzyP7Rrda"
      }
    },
    {
      "cell_type": "markdown",
      "source": [
        "# 고전적 이자율 결정이론\n",
        "* 고전학파의 이자율 결정이론\n",
        "    - 사회의 시간적 선호와 자본의 한계생산성에 의해 결정\n",
        "    - 실물적 현상 : 저축과 투자가 일치하는 부분에서 이자율 결정\n",
        "* 빅셀의 이자율 결정이론\n",
        "    - 시장이자율과 자연이자율로 구분\n",
        "        - 시장이자율 : 대부시장에서 결정되는 화폐적 이자율\n",
        "        - 자연이자율 : 실물자본의 수요와 공급에 의해 결정되는 실물적 이자율\n",
        "    - 시장이자율은 자연이자율을 중심으로 움직임\n",
        "* 케인즈의 유동성선호설\n",
        "    - 이자율을 화폐적 현상으로 보고 유동성을 포기한 대가가 이자율이라고 여김\n",
        "    - 화폐의 수요 (화폐의 보유 동기)\n",
        "        - 거래적 동기 : 거래대금 지급을 위함 (소득에 비례)\n",
        "        - 투기적 동기 : 시세차익을 얻기 위함 (이자율에 반비례)\n",
        "        - 예비적 동기 : 예기치 못한 위험에 대비하기 위함 (소득에 비례)\n",
        "    - 고전학파의 이자율 이론 : 유량분석, 재화시장의 저축과 투자로 이자율 결정, 이자율과 통화량은 관계 없음\n",
        "    - 케인즈의 유동성선호설 : 저량분석, 화폐시장의 수요와 공급으로 이자율 결정, 이자율은 통화량에 영향을 받음"
      ],
      "metadata": {
        "id": "FOTNjROrTNsC"
      }
    },
    {
      "cell_type": "markdown",
      "source": [
        "# 현대적 이자율 결정이론\n",
        "* 현대적 대부자금설\n",
        "    - 고전학파의 유량분석과 케인즈의 저량분석을 유량분석으로 종합하여 이자율 수준의 결정 요인을 설명한 이론\n",
        "    - 대부자금의 공급과 수요 균형식\n",
        "            대부자금의 공급 = 대부자금의 수요\n",
        "            -> 저축 + 화폐공급의 변동 = 투자 + 정부예산적자 + 화폐수요의 변동\n",
        "* 피셔방정식(명목금리결정이론)\n",
        "    - 피셔방정식\n",
        "        - 피셔방정식 : 명목이자율 = 실질이자율 + 기대인플레이션\n",
        "        - 완전한 피셔효과 : 기대인플레이션과 명목이자율이 1:1 관계가 성립\n",
        "    - 피셔방정식에 대한 반론(완전한 피셔효과 부정)\n",
        "        - 오쿤\n",
        "            - 한 경제가 기대 인플레이션에 적응해 나가는 데에는 오랜 기간이 소요될 뿐만 아니라 경우에 따라서는 장기간이 경과할지라도 기대인플레이션에 완전히 적응하지 못하기 때문에 기대인플레이션이 명목이자율에 전부 반영되지 않음\n",
        "        - 섬머스\n",
        "            - 시장이 불완전하기 때문에 경제주체가 기대인플레이션의 존재로 포트폴리오를 조정할 경우 위험도 및 유동성이 유사한 대체 투자물을 찾기가 어렵고, 포트폴리오 조정을 위한 자금 조달상의 제약이 있음\n",
        "            - 기대인플레이션과 명목이자율 간에 1:0.6 ~ 0.8 정도의 관계가 성립\n",
        "        - 먼델-토빈\n",
        "            - 실질잔액효과로 인해 완전한 피셔효과가 나타나지 않음\n",
        "            - 실질잔액효과 : 인플레이션 발생 -> 실질잔고 감소 -> 소비 감소 -> 저축 증가 -> 실질금리 하락"
      ],
      "metadata": {
        "id": "_1Gnsr5fWoxI"
      }
    },
    {
      "cell_type": "markdown",
      "source": [
        "# 이자율의 기간구조이론\n",
        "* (불편)기대이론\n",
        "    - 장기채권에 대한 예상수익률과 단기채권에 대한 예상수익률이 동일해야 한다는 이론\n",
        "    - 장단기금리 간의 관계 : 기하평균\n",
        "    - 장단기금리 간의 높은 연계성이 평균식에 의해 확보되기 때문에 수익률곡선의 이동은 잘 설명함\n",
        "    - 미래의 단기이자율에 대한 기대에 따라 수익률 곡선의 형태가 결정되므로 우상향의 수익률 곡선은 잘 설명하지 못함\n",
        "* 시장분할이론\n",
        "    - 채권시장이 몇 개의 하위시장으로 구분\n",
        "    - 단기금리 하락, 장기금리 상승에 의해 수익률곡선이 대체로 우상향한다는 사실은 잘 설명함\n",
        "    - 장단기금리 간의 대체관계가 없다고 가정하기 때문에 장단기금리 간의 연계성이 없게 되어 수익률 곡선의 이동은 잘 설명하지 못함\n",
        "* 유동성프리미엄이론\n",
        "    - 유동성프리미엄이론 = 기대이론 + 유동성프리미엄\n",
        "    - 장기채권 금리 = 만기까지의 예상된 평균단기이자율 + 유동성 프리미엄\n",
        "    - 수익률곡선은 유동성 프리미엄으로 우상향 형태\n",
        "    - 유동성프리미엄은 항상 양(+)의 값\n",
        "* 특정시장선호이론\n",
        "    - 특정시장선호이론 = 기대이론 + 시장분할이론\n",
        "    - 장기채권 금리 = 만기까지의 예상된 평균단기이자율 + 기간프리미엄\n",
        "    - 기간프리미엄 : 단기채권 선호자는 양(+), 장기채권 선호자는 음(-)"
      ],
      "metadata": {
        "id": "JANsMfVxZn0e"
      }
    },
    {
      "cell_type": "markdown",
      "source": [
        "# 이자율의 변동요인분석\n",
        "* 이자율 변동의 기본적 요인\n",
        "    - 자금의 수급 : 생산 및 투자 증가 -> 자금수요 증가 -> 금리 상승\n",
        "    - 기대인플레이션 : 물가 상승 -> 구매력 하락 -> 기회비용 증가 -> 금리 상승\n",
        "    - 경제외적 요인 : 정치 불확실성 증가 -> 위험 프리미엄 증가 -> 금리 상승\n",
        "* 경기변동과 이자율의 변동\n",
        "    - 경기변동과 이자율은 양(+)의 관계, 이자율은 경기에 후행\n",
        "\n",
        "|구분|경기확장국면|경기수축국면|\n",
        "|--|--|--|\n",
        "|초기|금리 하락(내부유보자금 잉여)|금리 상승(내부유보자금 부족)|\n",
        "|중장기|금리 상승(투자증가)|금리 하락(투자 감소)|\n",
        "\n",
        "* 거시경제변수와 이자율의 변동\n",
        "    - 물가\n",
        "        - 기대인플레이션이 높아질 경우 피셔방정식에 의해 명목금리 상승\n",
        "        - 이자율은 인플레이션에 후행\n",
        "    - 통화량\n",
        "        - 유동성효과(단기) : 통화량 증가 -> 명목이자율 하락\n",
        "        - 소득효과(중기) : 통화량 증가 -> 금리 하락 -> 투자 증가 -> GDP 증가 -> 화폐수요 증가-> 명목이자율 상승\n",
        "        - 피셔효과(장기) : 기대인플레이션 상승 -> 물가 상승 -> 명목이자율 상승\n",
        "        - 깁슨의 역설 : 이자율과 물가상승률은 장기적으로 양(+)의 관계\n",
        "    - 경상수지 : 경상수지와 이자율은 음(-)의 관계\n",
        "        - 경상수지 흑자 : 외화 국내유입 -> 원화공급 증가 -> 이자율 하락\n",
        "        - 경상수지 적자 : 외화 국외유출 -> 원화공급 감소 -> 이자율 상승\n",
        "    - 환율 : 환율과 이자율 간에는 뚜렷한 상관관계가 없음\n",
        "        - 단기(원화절상 가정)\n",
        "            - 물가 하락 -> 이자율 하락\n",
        "            - 원화채권 기대수익률 상승 -> 원화채권 수요 증가 -> 이자율 하락\n",
        "        - 장기(원화절상 가정)\n",
        "            - 경상수지 적자 -> 외화 국내유출 -> 원화공급 감소 -> 이자율 상승"
      ],
      "metadata": {
        "id": "jHDLhTM8Rc8K"
      }
    },
    {
      "cell_type": "markdown",
      "source": [
        "# 주요경제변수와 계절조정법\n",
        "* 국민소득\n",
        "    - 국민소득\n",
        "        - 국민소득은 한 나라 안에 있는 가계, 기업, 정부 등의 모든 경제주체가 일정 기간에 새로이 생산한 재화와 서비스의 가치를 금액으로 평가하여 합산한 것\n",
        "        - 한 나라의 경제수준을 나타내는 대표적인 지표\n",
        "        - 국민소득 3면 등가의 원칙 : 국민소득을 생산, 분배, 지출의 3면에서 볼 때 동일\n",
        "    - 국내총생산(GDP)\n",
        "        - 국내생산자가 생산한 부가가치 또는 최종생산물의 총계\n",
        "        - 우리나라는 국민총소득 대신 국내총생산을 생산의 중심지표로 사용\n",
        "    - 국민총소득(GNI)\n",
        "        - 한 나라의 국민이 생산활동에 참여한 대가로 받은 소득의 합계\n",
        "        - (명목)GNI = (명목)GDP + (명목)국외순수취 요소소득\n",
        "* 산업활동\n",
        "    - 광공업생산지수 : 광공업생산활동의 수준을 나타내는 지표로 대표적인 동행지수\n",
        "    - 생산자제품출하지수 : 광업, 제조업 등 대상으로 일정 기간 중 판매활동수준을 나타내는 지표\n",
        "    - 생산자제품재고지수 : 생산자가 보유하고 있는 재고 파악을 위한 지표\n",
        "    - 제조업 생산능력지수 : 공급능력의 수준과 동향의 변동을 나타내는 지표\n",
        "    - 제조업 가동률지수 : 생산실적과 생산능력의 비율인 설비이용도를 측정\n",
        "* 계절조정법\n",
        "    - 전년동기대비 증감률\n",
        "    - 단순평균법\n",
        "    - 이동평균법\n",
        "    - X-12 ARIMA"
      ],
      "metadata": {
        "id": "-xxdAzuteiTg"
      }
    },
    {
      "cell_type": "markdown",
      "source": [
        "# 고용\n",
        "* 비생산활동가능인구와 생산활동가능인구\n",
        "    - 비생산활동가능인구 : 군인, 재소자 및 만 15세 미만의 인구\n",
        "    - 생산활동가능인구 : 군인과 재소자를 제외한 만 15세 이상의 인구\n",
        "        - 경제활동인구 : 일할 능력과 취업의사를 동시에 갖춘 사람\n",
        "            - 취업자\n",
        "            - 실업자\n",
        "        - 비경제활동인구\n",
        "            - 일할 능력은 있으나 취업의사가 없는 사람으로, 가정주부, 학생, 연로자, 심신장애자, 구직단념자등이 포함\n",
        "\n",
        "* 주요 공식\n",
        "            경제활동참가율 = (경제활동인구(=취업자+실업자)/생산활동가능인구) * 100\n",
        "            실업률 = 실업자/경제활동인구 = (실업자/(취업자+실업자)) * 100\n"
      ],
      "metadata": {
        "id": "MR582kjvfvEL"
      }
    },
    {
      "cell_type": "markdown",
      "source": [
        "#경기종합지수\n",
        "\n",
        "|구분|경기선행종합지수|경기동행종합지수|경기후행종합지수|\n",
        "|--|--|--|--|\n",
        "|고용|구인구직비율|비농림어업취업자수|상용근로자수|\n",
        "|생산|재고순환지표|광공업생산지수<br>서비스업생산지수|생산자제품재고지수|\n",
        "|소비|소비자기대지수|소매판매액지수<br>내수출하지수|도시가계소비지출|\n",
        "|투자|기계류내수출하지수<br>건물수주액|건설기성액|-|\n",
        "|대외|수출입물가비율|수입액|소비재수입액|\n",
        "|금융|코스피지수<br>장단기금리차|-|회사채유통수익률|"
      ],
      "metadata": {
        "id": "DV3FwrBDh48-"
      }
    },
    {
      "cell_type": "markdown",
      "source": [
        "# 물가지수 및 통화 관련 지표\n",
        "* 물가지수\n",
        "    - 소비자물가지수(CPI) : 주요 소비지출 대상인 최종소비재와 서비스의 가격변동을 측정\n",
        "    - 생산자물가지수(PPI) : 기업상호 간에 거래되는 모든 상품(서비스 제외)의 가격변동을 측정\n",
        "    - GDP 디플레이터\n",
        "        - GDP 디플레이터 = 명목GDP/실질GDP\n",
        "        - 통화량 목표 설정 시 GDP 디플레이터 기준 물가상승률을 사용\n",
        "* 화폐유통속도\n",
        "            화폐유통속도 = 명목GDP/통화량 = GDP 디플레이터*실질GDP/통화량\n",
        "            - EC 방식에 따른 통화증가율 산정 : △통화증가율 + △유통속도변화율 = △GDP디플레이터 상승률 + △실질GDP 성장률\n",
        "* 금리\n",
        "    - 자본의 한계수익률이 저하되면서 실질금리가 하락추세를 나타낼 전망\n",
        "    - 대표적인 시장금리는 국고채 3년, 국고채 5년 금리가 있음\n",
        "    - 금융기관 간 초단기 자금거래가 이루어지는 콜금리는 한국은행의 통제를 받으면서 시장기능을 상실하여 7일물 RP금리를 기준금리로 반영\n",
        "    - 향후 금융시장이 발달하면서 금리의 기간구조에 대한 중요성이 높아질 전망"
      ],
      "metadata": {
        "id": "OCAjJrmRiap2"
      }
    },
    {
      "cell_type": "markdown",
      "source": [
        "# 경기순환\n",
        "* 경기순환의 의미와 관련된 지표\n",
        "    - 경기순환(경기 확장/수축의 반복)\n",
        "        - 경기확장국면 : 경기회복/호황\n",
        "        - 경기수축국면 : 경기후퇴/불황\n",
        "        - 경기순환 : 회복 -> 호황 -> 후퇴 -> 불황 -> 회복\n",
        "    - 순환주기 : 경기저점에서 다음 경기저점 (불규칙적)\n",
        "    - 경기순환 발생원인\n",
        "        - 실물요인 : 원유가변동, 해외경기변동, 기업의 투자심리변화 등\n",
        "        - 금융요인 : 통화량변화, 금리변동 등\n",
        "    - 전년동기대비 증가율보다 전기대비 증감률이 경기국면 변화에 더 정확한 정보를 담고 있음\n",
        "    - 우리나라는 선진국과 달리 성장추세선을 중심으로 경기의 기복현상이 나타나는 성장순환 형태\n",
        "* 경기순환의 요인과 특징\n",
        "    - 경기변동 요인 : 불규칙성, 계절성, 순환성, 추세성\n",
        "    - 경기 비대칭성 : 수축보다 확장국면이 김\n",
        "    - 우리나라는 10번 경기순환, 현재는 11순환기"
      ],
      "metadata": {
        "id": "ZkoOIVkLk7Hk"
      }
    },
    {
      "cell_type": "markdown",
      "source": [
        "# 경기전망을 위한 계량적 방법\n",
        "* 경기지표에 의한 경기예측\n",
        "    - 경기확산지수(DI)\n",
        "        - 경기확산지수 = ((전월대비 증가지표의 수 + (1/2)*보합지표의 수)/구성지표의수) * 100\n",
        "        - 판단 : DI > 50% -> 상승국면, DI < 50% -> 하락국면, DI = 50% -> 전환점\n",
        "        - 증감률 크기에 의해 경기변동의 진폭을 판단할 수 없음\n",
        "    - 경기종합지수(CI)\n",
        "        - 구성 : 경기선행종합지수, 경기동행종합지수, 경기후행종합지수\n",
        "        - 판단 : CI가 (+)이면 경기확장국면, (-)이면 경기수축국면\n",
        "        - DI가 변화방향만을 제시하는 데 반해, CI는 변화방향 + 변화속도\n",
        "* 설문조사에 의한 경기예측\n",
        "    - 기업경기실사지수(BSI)\n",
        "        - 전반적인 경기동향 파악하기위한 단기 경기예측수단\n",
        "        - BSI = (증가 예상 업체 비율 - 감소 예상 업체 비율) + 100\n",
        "        - 판단 : 100초과 -> 확장, 100미만 -> 수축\n",
        "        - 대표적으로 한국은행/전경련 기업실사지수\n",
        "    - 소비자태도지수(CSI)\n",
        "        - 판단 : 100초과 -> 확장, 100미만 -> 수축\n",
        "* 경제모형에 의한 경기예측\n",
        "    - 거시경제계량모형\n",
        "        - 현실 경제를 동태적인 연립방정식으로 축약\n",
        "        - 모형에 사용된 변수 : 내생변수, 외생변수 및 시차내생변수\n",
        "        - 방정식 : 행태방정식과 정의식\n",
        "        - 역사적 시뮬레이션을 통해 얻어진 해가 모형의 내적 정합성을 갖는 경우 모형을 예측에 활용\n",
        "    - 시계열모형 : 변수의 과거행태에 기초하여 동태적 모형을 만든 후 미래를 예측하는 모형"
      ],
      "metadata": {
        "id": "FX8FgxYKlrqt"
      }
    }
  ]
}